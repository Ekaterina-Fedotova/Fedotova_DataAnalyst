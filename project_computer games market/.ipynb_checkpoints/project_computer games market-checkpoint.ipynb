{
 "cells": [
  {
   "cell_type": "markdown",
   "metadata": {},
   "source": [
    "## Содержание:\n",
    "1. [Описание данных](#description)\n",
    "2. [Загрузим данные](#start)\n",
    "*  [Изучим данные в таблицах](#data)\n",
    "3. [Предобработка данных](#preprocessing)\n",
    "* [Заменим названия столбцов](#columns)\n",
    "* [Преобразуем типы](#type)\n",
    "* [Обработаем пропуски](#passes)\n",
    "* [Посчитаем суммарные продажи во всех регионах](#sum)\n",
    "3. [Исследовательский анализ данных](#analysis)\n",
    "* [Сколько игр выпускалось в разные годы](#games)\n",
    "* [Как менялись продажи по платформам](#platform)\n",
    "* [Прибыльные платформы](#profit)\n",
    "* [График ящик с усами](#box)\n",
    "* [Влияние отзывов на популярность платформ](#reviews)\n",
    "* [Изучим рекламные источники привлечения](#genre)\n",
    "4. [Составим портрет пользователя каждого региона](#users)\n",
    "* [Северная Америка](#na)\n",
    "* [Европа](#eu)\n",
    "* [Япония](#jp)\n",
    "5. [Проверка гипотез](#hypothesis)\n",
    "6. [Вывод](#conclusion)"
   ]
  },
  {
   "cell_type": "markdown",
   "metadata": {},
   "source": [
    "# Анализ рынка компьютерных игр"
   ]
  },
  {
   "cell_type": "markdown",
   "metadata": {
    "id": "WiJdhi7PxhRm"
   },
   "source": [
    "## Описание проекта <a id=\"description\"></a>"
   ]
  },
  {
   "cell_type": "markdown",
   "metadata": {
    "id": "IGgB-sCFxs-A"
   },
   "source": [
    "Вы работаете в интернет-магазине «Стримчик», который продаёт по всему миру\n",
    "компьютерные игры. Из открытых источников доступны исторические данные о\n",
    "продажах игр, оценки пользователей и экспертов, жанры и платформы\n",
    "(например, Xbox или PlayStation). Вам нужно выявить определяющие успешность\n",
    "игры закономерности. Это позволит сделать ставку на потенциально популярный\n",
    "продукт и спланировать рекламные кампании."
   ]
  },
  {
   "cell_type": "markdown",
   "metadata": {
    "id": "d7rrgN1KyMDH"
   },
   "source": [
    "В наборе данных попадается аббревиатура ESRB (Entertainment Software Rating\n",
    "Board) — это ассоциация, определяющая возрастной рейтинг компьютерных\n",
    "игр. ESRB оценивает игровой контент и присваивает ему подходящую возрастную\n",
    "категорию, например, «Для взрослых», «Для детей младшего возраста» или «Для\n",
    "подростков».\n"
   ]
  },
  {
   "cell_type": "markdown",
   "metadata": {
    "id": "gqyWct-GxgzD"
   },
   "source": [
    "## Описание данных "
   ]
  },
  {
   "cell_type": "markdown",
   "metadata": {
    "id": "G3dM6Mc4yS4X"
   },
   "source": [
    "* `Name` — название игры\n",
    "* `Platform` — платформа\n",
    "* `Year_of_Release` — год выпуска\n",
    "* `Genre` — жанр игры\n",
    "* `NA_sales` — продажи в Северной Америке (миллионы проданных копий)\n",
    "* `EU_sales` — продажи в Европе (миллионы проданных копий)\n",
    "* `JP_sales` — продажи в Японии (миллионы проданных копий)\n",
    "* `Other_sales` — продажи в других странах (миллионы проданных копий)\n",
    "* `Critic_Score` — оценка критиков (максимум 100)\n",
    "* `User_Score` — оценка пользователей (максимум 10)\n",
    "* `Rating` — рейтинг от организации ESRB (англ. Entertainment Software Rating\n",
    "Board). Эта ассоциация определяет рейтинг компьютерных игр и присваивает\n",
    "им подходящую возрастную категорию.\n",
    "\n",
    "Данные за 2016 год могут быть неполными."
   ]
  },
  {
   "cell_type": "markdown",
   "metadata": {},
   "source": [
    "## План работы.\n",
    "* Изучим полученые данные.\n",
    "* Заполним пропуски в данных. \n",
    "* Удалим дубликаты и данные, которые менее информативны и мешают для проведения расчетов. \n",
    "* Приведем данные к необдодимому виду для анализа.\n",
    "* Проанализуруем развитие компьютной отрасли игр.\n",
    "* Выясним игровые предпочтения пользователей по трем регионам.\n",
    "* Проверим гипотезы."
   ]
  },
  {
   "cell_type": "markdown",
   "metadata": {
    "id": "MO_Ch34dyzwW"
   },
   "source": [
    "## Шаг 1. Откроем файл с данными и изучим общую информацию <a id=\"start\"></a>"
   ]
  },
  {
   "cell_type": "code",
   "execution_count": 1,
   "metadata": {
    "id": "4eKaWqQjvzHr"
   },
   "outputs": [],
   "source": [
    "# импортируем библиотеки\n",
    "import pandas as pd\n",
    "import numpy as np\n",
    "import matplotlib.pyplot as plt\n",
    "from scipy import stats as st"
   ]
  },
  {
   "cell_type": "code",
   "execution_count": 2,
   "metadata": {
    "id": "6GFrLfUyzeuO"
   },
   "outputs": [],
   "source": [
    "# читаем файл с данными\n",
    "df_games = pd.read_csv('games.csv')"
   ]
  },
  {
   "cell_type": "code",
   "execution_count": 3,
   "metadata": {
    "colab": {
     "base_uri": "https://localhost:8080/"
    },
    "id": "L8wXJ5E6z0K_",
    "outputId": "29577ed1-c0f0-4922-8c37-893a9ec006fe"
   },
   "outputs": [
    {
     "name": "stdout",
     "output_type": "stream",
     "text": [
      "<class 'pandas.core.frame.DataFrame'>\n",
      "RangeIndex: 16715 entries, 0 to 16714\n",
      "Data columns (total 11 columns):\n",
      " #   Column           Non-Null Count  Dtype  \n",
      "---  ------           --------------  -----  \n",
      " 0   Name             16713 non-null  object \n",
      " 1   Platform         16715 non-null  object \n",
      " 2   Year_of_Release  16446 non-null  float64\n",
      " 3   Genre            16713 non-null  object \n",
      " 4   NA_sales         16715 non-null  float64\n",
      " 5   EU_sales         16715 non-null  float64\n",
      " 6   JP_sales         16715 non-null  float64\n",
      " 7   Other_sales      16715 non-null  float64\n",
      " 8   Critic_Score     8137 non-null   float64\n",
      " 9   User_Score       10014 non-null  object \n",
      " 10  Rating           9949 non-null   object \n",
      "dtypes: float64(6), object(5)\n",
      "memory usage: 1.4+ MB\n"
     ]
    }
   ],
   "source": [
    "# выводим общую информацию\n",
    "df_games.info()"
   ]
  },
  {
   "cell_type": "code",
   "execution_count": 4,
   "metadata": {
    "colab": {
     "base_uri": "https://localhost:8080/",
     "height": 267
    },
    "id": "Mvzd6C652_PQ",
    "outputId": "424807ae-d5be-43b0-85a2-d5ba26e8d3f0"
   },
   "outputs": [
    {
     "data": {
      "text/html": [
       "<div>\n",
       "<style scoped>\n",
       "    .dataframe tbody tr th:only-of-type {\n",
       "        vertical-align: middle;\n",
       "    }\n",
       "\n",
       "    .dataframe tbody tr th {\n",
       "        vertical-align: top;\n",
       "    }\n",
       "\n",
       "    .dataframe thead th {\n",
       "        text-align: right;\n",
       "    }\n",
       "</style>\n",
       "<table border=\"1\" class=\"dataframe\">\n",
       "  <thead>\n",
       "    <tr style=\"text-align: right;\">\n",
       "      <th></th>\n",
       "      <th>Name</th>\n",
       "      <th>Platform</th>\n",
       "      <th>Year_of_Release</th>\n",
       "      <th>Genre</th>\n",
       "      <th>NA_sales</th>\n",
       "      <th>EU_sales</th>\n",
       "      <th>JP_sales</th>\n",
       "      <th>Other_sales</th>\n",
       "      <th>Critic_Score</th>\n",
       "      <th>User_Score</th>\n",
       "      <th>Rating</th>\n",
       "    </tr>\n",
       "  </thead>\n",
       "  <tbody>\n",
       "    <tr>\n",
       "      <th>11209</th>\n",
       "      <td>Major League Baseball 2K7</td>\n",
       "      <td>PSP</td>\n",
       "      <td>2007.0</td>\n",
       "      <td>Sports</td>\n",
       "      <td>0.08</td>\n",
       "      <td>0.00</td>\n",
       "      <td>0.00</td>\n",
       "      <td>0.01</td>\n",
       "      <td>61.0</td>\n",
       "      <td>tbd</td>\n",
       "      <td>E</td>\n",
       "    </tr>\n",
       "    <tr>\n",
       "      <th>15387</th>\n",
       "      <td>Mar Heaven: Karudea no Akuma</td>\n",
       "      <td>DS</td>\n",
       "      <td>2006.0</td>\n",
       "      <td>Role-Playing</td>\n",
       "      <td>0.00</td>\n",
       "      <td>0.00</td>\n",
       "      <td>0.02</td>\n",
       "      <td>0.00</td>\n",
       "      <td>NaN</td>\n",
       "      <td>NaN</td>\n",
       "      <td>NaN</td>\n",
       "    </tr>\n",
       "    <tr>\n",
       "      <th>9631</th>\n",
       "      <td>Left Brain Right Brain 2</td>\n",
       "      <td>DS</td>\n",
       "      <td>2008.0</td>\n",
       "      <td>Misc</td>\n",
       "      <td>0.12</td>\n",
       "      <td>0.00</td>\n",
       "      <td>0.00</td>\n",
       "      <td>0.01</td>\n",
       "      <td>51.0</td>\n",
       "      <td>tbd</td>\n",
       "      <td>E</td>\n",
       "    </tr>\n",
       "    <tr>\n",
       "      <th>4944</th>\n",
       "      <td>Just Dance 2015</td>\n",
       "      <td>PS4</td>\n",
       "      <td>2014.0</td>\n",
       "      <td>Misc</td>\n",
       "      <td>0.19</td>\n",
       "      <td>0.13</td>\n",
       "      <td>0.00</td>\n",
       "      <td>0.07</td>\n",
       "      <td>72.0</td>\n",
       "      <td>5.8</td>\n",
       "      <td>E10+</td>\n",
       "    </tr>\n",
       "    <tr>\n",
       "      <th>4954</th>\n",
       "      <td>MotoGP 08</td>\n",
       "      <td>PS3</td>\n",
       "      <td>2008.0</td>\n",
       "      <td>Racing</td>\n",
       "      <td>0.07</td>\n",
       "      <td>0.24</td>\n",
       "      <td>0.00</td>\n",
       "      <td>0.08</td>\n",
       "      <td>65.0</td>\n",
       "      <td>6</td>\n",
       "      <td>E</td>\n",
       "    </tr>\n",
       "  </tbody>\n",
       "</table>\n",
       "</div>"
      ],
      "text/plain": [
       "                               Name Platform  Year_of_Release         Genre  \\\n",
       "11209     Major League Baseball 2K7      PSP           2007.0        Sports   \n",
       "15387  Mar Heaven: Karudea no Akuma       DS           2006.0  Role-Playing   \n",
       "9631       Left Brain Right Brain 2       DS           2008.0          Misc   \n",
       "4944                Just Dance 2015      PS4           2014.0          Misc   \n",
       "4954                      MotoGP 08      PS3           2008.0        Racing   \n",
       "\n",
       "       NA_sales  EU_sales  JP_sales  Other_sales  Critic_Score User_Score  \\\n",
       "11209      0.08      0.00      0.00         0.01          61.0        tbd   \n",
       "15387      0.00      0.00      0.02         0.00           NaN        NaN   \n",
       "9631       0.12      0.00      0.00         0.01          51.0        tbd   \n",
       "4944       0.19      0.13      0.00         0.07          72.0        5.8   \n",
       "4954       0.07      0.24      0.00         0.08          65.0          6   \n",
       "\n",
       "      Rating  \n",
       "11209      E  \n",
       "15387    NaN  \n",
       "9631       E  \n",
       "4944    E10+  \n",
       "4954       E  "
      ]
     },
     "execution_count": 4,
     "metadata": {},
     "output_type": "execute_result"
    }
   ],
   "source": [
    "# первые 5 строк датафрейма\n",
    "df_games.sample(5)"
   ]
  },
  {
   "cell_type": "markdown",
   "metadata": {},
   "source": [
    "**Вывод** В таблице 11 столбцов и 16715 строк, тип данных `object` и `float`. Необходимо будет поработать с названиями столбцов, преобразовать типы данных, обработать пропуски. Таблица содержит информацию о компьютерных играх, о дате выпуска, о платформе, о количестве продаж в мире, об их рейтингах."
   ]
  },
  {
   "cell_type": "markdown",
   "metadata": {
    "id": "88sN6Tf90Qkf"
   },
   "source": [
    "## Шаг 2. Предобработка данных <a id=\"preprocessing\"></a>"
   ]
  },
  {
   "cell_type": "markdown",
   "metadata": {
    "id": "OXRCGQUy0Thk"
   },
   "source": [
    "**2.1 Заменим названия столбцов (приведем к нижнему регистру)** <a id=\"columns\"></a>"
   ]
  },
  {
   "cell_type": "code",
   "execution_count": 5,
   "metadata": {
    "colab": {
     "base_uri": "https://localhost:8080/"
    },
    "id": "H0VlYotx0ZT3",
    "outputId": "ca402200-67a2-405e-87f4-8093f6ba22bb"
   },
   "outputs": [
    {
     "data": {
      "text/plain": [
       "Index(['Name', 'Platform', 'Year_of_Release', 'Genre', 'NA_sales', 'EU_sales',\n",
       "       'JP_sales', 'Other_sales', 'Critic_Score', 'User_Score', 'Rating'],\n",
       "      dtype='object')"
      ]
     },
     "execution_count": 5,
     "metadata": {},
     "output_type": "execute_result"
    }
   ],
   "source": [
    "df_games.columns"
   ]
  },
  {
   "cell_type": "code",
   "execution_count": 6,
   "metadata": {
    "id": "4z7s5pRu1JC5"
   },
   "outputs": [],
   "source": [
    "df_games.columns = ['name', 'platform', 'year_of_release', 'genre', 'na_sales', 'eu_sales',\n",
    "       'jp_sales', 'other_sales', 'critic_score', 'user_score', 'rating']"
   ]
  },
  {
   "cell_type": "markdown",
   "metadata": {
    "id": "8tRVgonh26Wx"
   },
   "source": [
    "**2.2 Преобразуем данные в нужные типы** <a id=\"type\"></a>"
   ]
  },
  {
   "cell_type": "code",
   "execution_count": 7,
   "metadata": {
    "id": "_a_gWVTC4qID"
   },
   "outputs": [],
   "source": [
    "# меняем тип данных на float\n",
    "df_games['user_score'] = pd.to_numeric(df_games['user_score'], errors='coerce')"
   ]
  },
  {
   "cell_type": "markdown",
   "metadata": {
    "id": "Kxmi-3REmsJw"
   },
   "source": [
    "Поменяли в стобце `user_score` тип данных на `float` и заменили некорректное значенеи на NaN, так будет удобнее работать с этими данными в дальнейшем."
   ]
  },
  {
   "cell_type": "markdown",
   "metadata": {
    "id": "w3c9pdAz-uK1"
   },
   "source": [
    "**2.3 Обработаем пропуски** <a id=\"passes\"></a>"
   ]
  },
  {
   "cell_type": "code",
   "execution_count": 8,
   "metadata": {
    "colab": {
     "base_uri": "https://localhost:8080/"
    },
    "id": "AFwx1d1EqpGj",
    "outputId": "d7cddae7-b37b-441c-d559-dd32379a2566"
   },
   "outputs": [
    {
     "data": {
      "text/plain": [
       "array(['Wii Sports', 'Super Mario Bros.', 'Mario Kart Wii', ...,\n",
       "       'Woody Woodpecker in Crazy Castle 5', 'LMA Manager 2007',\n",
       "       'Haitaka no Psychedelica'], dtype=object)"
      ]
     },
     "execution_count": 8,
     "metadata": {},
     "output_type": "execute_result"
    }
   ],
   "source": [
    "# посмотрим на уникальные значения в столбце название игры\n",
    "df_games['name'].unique()"
   ]
  },
  {
   "cell_type": "code",
   "execution_count": 9,
   "metadata": {
    "colab": {
     "base_uri": "https://localhost:8080/"
    },
    "id": "_Dfs67ojuRi4",
    "outputId": "12ad57d1-8dbf-4dc8-ee99-e313d3cb14dd"
   },
   "outputs": [
    {
     "data": {
      "text/plain": [
       "2"
      ]
     },
     "execution_count": 9,
     "metadata": {},
     "output_type": "execute_result"
    }
   ],
   "source": [
    "# количество пропусков в столбце название игры\n",
    "df_games['name'].isna().sum()"
   ]
  },
  {
   "cell_type": "code",
   "execution_count": 10,
   "metadata": {
    "id": "lRiuiGfYubXP"
   },
   "outputs": [],
   "source": [
    "# удалили строки с пропусками в столбце название игры\n",
    "df_games = df_games.dropna(subset=['name'])"
   ]
  },
  {
   "cell_type": "markdown",
   "metadata": {
    "id": "Na8geJl4nXme"
   },
   "source": [
    "Две строки с пропусками в названии игры удалили, это не критично."
   ]
  },
  {
   "cell_type": "code",
   "execution_count": 11,
   "metadata": {
    "colab": {
     "base_uri": "https://localhost:8080/"
    },
    "id": "uhGsb7rtx2hF",
    "outputId": "f84d4e8a-f39d-4a26-f3ca-1207afd914bc"
   },
   "outputs": [
    {
     "data": {
      "text/plain": [
       "array(['E', nan, 'M', 'T', 'E10+', 'K-A', 'AO', 'EC', 'RP'], dtype=object)"
      ]
     },
     "execution_count": 11,
     "metadata": {},
     "output_type": "execute_result"
    }
   ],
   "source": [
    "# уникальных значения в столбце рейтинг\n",
    "df_games['rating'].unique()"
   ]
  },
  {
   "cell_type": "code",
   "execution_count": 12,
   "metadata": {
    "colab": {
     "base_uri": "https://localhost:8080/"
    },
    "id": "ByUIPQMaxevC",
    "outputId": "a3c728b2-67c4-407c-f026-b2e232385185"
   },
   "outputs": [
    {
     "data": {
      "text/plain": [
       "6764"
      ]
     },
     "execution_count": 12,
     "metadata": {},
     "output_type": "execute_result"
    }
   ],
   "source": [
    "# количество пропусков в столбце рейтинг\n",
    "df_games['rating'].isna().sum()"
   ]
  },
  {
   "cell_type": "code",
   "execution_count": 13,
   "metadata": {
    "colab": {
     "base_uri": "https://localhost:8080/",
     "height": 467
    },
    "id": "nliq-61Bxmmm",
    "outputId": "2771fc98-0e03-42a3-e5a5-b7535bfe5d85"
   },
   "outputs": [
    {
     "data": {
      "text/html": [
       "<div>\n",
       "<style scoped>\n",
       "    .dataframe tbody tr th:only-of-type {\n",
       "        vertical-align: middle;\n",
       "    }\n",
       "\n",
       "    .dataframe tbody tr th {\n",
       "        vertical-align: top;\n",
       "    }\n",
       "\n",
       "    .dataframe thead th {\n",
       "        text-align: right;\n",
       "    }\n",
       "</style>\n",
       "<table border=\"1\" class=\"dataframe\">\n",
       "  <thead>\n",
       "    <tr style=\"text-align: right;\">\n",
       "      <th></th>\n",
       "      <th>name</th>\n",
       "      <th>platform</th>\n",
       "      <th>year_of_release</th>\n",
       "      <th>genre</th>\n",
       "      <th>na_sales</th>\n",
       "      <th>eu_sales</th>\n",
       "      <th>jp_sales</th>\n",
       "      <th>other_sales</th>\n",
       "      <th>critic_score</th>\n",
       "      <th>user_score</th>\n",
       "      <th>rating</th>\n",
       "    </tr>\n",
       "  </thead>\n",
       "  <tbody>\n",
       "    <tr>\n",
       "      <th>1</th>\n",
       "      <td>Super Mario Bros.</td>\n",
       "      <td>NES</td>\n",
       "      <td>1985.0</td>\n",
       "      <td>Platform</td>\n",
       "      <td>29.08</td>\n",
       "      <td>3.58</td>\n",
       "      <td>6.81</td>\n",
       "      <td>0.77</td>\n",
       "      <td>NaN</td>\n",
       "      <td>NaN</td>\n",
       "      <td>NaN</td>\n",
       "    </tr>\n",
       "    <tr>\n",
       "      <th>4</th>\n",
       "      <td>Pokemon Red/Pokemon Blue</td>\n",
       "      <td>GB</td>\n",
       "      <td>1996.0</td>\n",
       "      <td>Role-Playing</td>\n",
       "      <td>11.27</td>\n",
       "      <td>8.89</td>\n",
       "      <td>10.22</td>\n",
       "      <td>1.00</td>\n",
       "      <td>NaN</td>\n",
       "      <td>NaN</td>\n",
       "      <td>NaN</td>\n",
       "    </tr>\n",
       "    <tr>\n",
       "      <th>5</th>\n",
       "      <td>Tetris</td>\n",
       "      <td>GB</td>\n",
       "      <td>1989.0</td>\n",
       "      <td>Puzzle</td>\n",
       "      <td>23.20</td>\n",
       "      <td>2.26</td>\n",
       "      <td>4.22</td>\n",
       "      <td>0.58</td>\n",
       "      <td>NaN</td>\n",
       "      <td>NaN</td>\n",
       "      <td>NaN</td>\n",
       "    </tr>\n",
       "    <tr>\n",
       "      <th>9</th>\n",
       "      <td>Duck Hunt</td>\n",
       "      <td>NES</td>\n",
       "      <td>1984.0</td>\n",
       "      <td>Shooter</td>\n",
       "      <td>26.93</td>\n",
       "      <td>0.63</td>\n",
       "      <td>0.28</td>\n",
       "      <td>0.47</td>\n",
       "      <td>NaN</td>\n",
       "      <td>NaN</td>\n",
       "      <td>NaN</td>\n",
       "    </tr>\n",
       "    <tr>\n",
       "      <th>10</th>\n",
       "      <td>Nintendogs</td>\n",
       "      <td>DS</td>\n",
       "      <td>2005.0</td>\n",
       "      <td>Simulation</td>\n",
       "      <td>9.05</td>\n",
       "      <td>10.95</td>\n",
       "      <td>1.93</td>\n",
       "      <td>2.74</td>\n",
       "      <td>NaN</td>\n",
       "      <td>NaN</td>\n",
       "      <td>NaN</td>\n",
       "    </tr>\n",
       "    <tr>\n",
       "      <th>...</th>\n",
       "      <td>...</td>\n",
       "      <td>...</td>\n",
       "      <td>...</td>\n",
       "      <td>...</td>\n",
       "      <td>...</td>\n",
       "      <td>...</td>\n",
       "      <td>...</td>\n",
       "      <td>...</td>\n",
       "      <td>...</td>\n",
       "      <td>...</td>\n",
       "      <td>...</td>\n",
       "    </tr>\n",
       "    <tr>\n",
       "      <th>16710</th>\n",
       "      <td>Samurai Warriors: Sanada Maru</td>\n",
       "      <td>PS3</td>\n",
       "      <td>2016.0</td>\n",
       "      <td>Action</td>\n",
       "      <td>0.00</td>\n",
       "      <td>0.00</td>\n",
       "      <td>0.01</td>\n",
       "      <td>0.00</td>\n",
       "      <td>NaN</td>\n",
       "      <td>NaN</td>\n",
       "      <td>NaN</td>\n",
       "    </tr>\n",
       "    <tr>\n",
       "      <th>16711</th>\n",
       "      <td>LMA Manager 2007</td>\n",
       "      <td>X360</td>\n",
       "      <td>2006.0</td>\n",
       "      <td>Sports</td>\n",
       "      <td>0.00</td>\n",
       "      <td>0.01</td>\n",
       "      <td>0.00</td>\n",
       "      <td>0.00</td>\n",
       "      <td>NaN</td>\n",
       "      <td>NaN</td>\n",
       "      <td>NaN</td>\n",
       "    </tr>\n",
       "    <tr>\n",
       "      <th>16712</th>\n",
       "      <td>Haitaka no Psychedelica</td>\n",
       "      <td>PSV</td>\n",
       "      <td>2016.0</td>\n",
       "      <td>Adventure</td>\n",
       "      <td>0.00</td>\n",
       "      <td>0.00</td>\n",
       "      <td>0.01</td>\n",
       "      <td>0.00</td>\n",
       "      <td>NaN</td>\n",
       "      <td>NaN</td>\n",
       "      <td>NaN</td>\n",
       "    </tr>\n",
       "    <tr>\n",
       "      <th>16713</th>\n",
       "      <td>Spirits &amp; Spells</td>\n",
       "      <td>GBA</td>\n",
       "      <td>2003.0</td>\n",
       "      <td>Platform</td>\n",
       "      <td>0.01</td>\n",
       "      <td>0.00</td>\n",
       "      <td>0.00</td>\n",
       "      <td>0.00</td>\n",
       "      <td>NaN</td>\n",
       "      <td>NaN</td>\n",
       "      <td>NaN</td>\n",
       "    </tr>\n",
       "    <tr>\n",
       "      <th>16714</th>\n",
       "      <td>Winning Post 8 2016</td>\n",
       "      <td>PSV</td>\n",
       "      <td>2016.0</td>\n",
       "      <td>Simulation</td>\n",
       "      <td>0.00</td>\n",
       "      <td>0.00</td>\n",
       "      <td>0.01</td>\n",
       "      <td>0.00</td>\n",
       "      <td>NaN</td>\n",
       "      <td>NaN</td>\n",
       "      <td>NaN</td>\n",
       "    </tr>\n",
       "  </tbody>\n",
       "</table>\n",
       "<p>6764 rows × 11 columns</p>\n",
       "</div>"
      ],
      "text/plain": [
       "                                name platform  year_of_release         genre  \\\n",
       "1                  Super Mario Bros.      NES           1985.0      Platform   \n",
       "4           Pokemon Red/Pokemon Blue       GB           1996.0  Role-Playing   \n",
       "5                             Tetris       GB           1989.0        Puzzle   \n",
       "9                          Duck Hunt      NES           1984.0       Shooter   \n",
       "10                        Nintendogs       DS           2005.0    Simulation   \n",
       "...                              ...      ...              ...           ...   \n",
       "16710  Samurai Warriors: Sanada Maru      PS3           2016.0        Action   \n",
       "16711               LMA Manager 2007     X360           2006.0        Sports   \n",
       "16712        Haitaka no Psychedelica      PSV           2016.0     Adventure   \n",
       "16713               Spirits & Spells      GBA           2003.0      Platform   \n",
       "16714            Winning Post 8 2016      PSV           2016.0    Simulation   \n",
       "\n",
       "       na_sales  eu_sales  jp_sales  other_sales  critic_score  user_score  \\\n",
       "1         29.08      3.58      6.81         0.77           NaN         NaN   \n",
       "4         11.27      8.89     10.22         1.00           NaN         NaN   \n",
       "5         23.20      2.26      4.22         0.58           NaN         NaN   \n",
       "9         26.93      0.63      0.28         0.47           NaN         NaN   \n",
       "10         9.05     10.95      1.93         2.74           NaN         NaN   \n",
       "...         ...       ...       ...          ...           ...         ...   \n",
       "16710      0.00      0.00      0.01         0.00           NaN         NaN   \n",
       "16711      0.00      0.01      0.00         0.00           NaN         NaN   \n",
       "16712      0.00      0.00      0.01         0.00           NaN         NaN   \n",
       "16713      0.01      0.00      0.00         0.00           NaN         NaN   \n",
       "16714      0.00      0.00      0.01         0.00           NaN         NaN   \n",
       "\n",
       "      rating  \n",
       "1        NaN  \n",
       "4        NaN  \n",
       "5        NaN  \n",
       "9        NaN  \n",
       "10       NaN  \n",
       "...      ...  \n",
       "16710    NaN  \n",
       "16711    NaN  \n",
       "16712    NaN  \n",
       "16713    NaN  \n",
       "16714    NaN  \n",
       "\n",
       "[6764 rows x 11 columns]"
      ]
     },
     "execution_count": 13,
     "metadata": {},
     "output_type": "execute_result"
    }
   ],
   "source": [
    "# посомтрим на эти строки с пропусками в столбце рейтинг\n",
    "df_games[df_games['rating'].isna()]"
   ]
  },
  {
   "cell_type": "code",
   "execution_count": 14,
   "metadata": {},
   "outputs": [],
   "source": [
    "# объединили игры без рейтинга в одтельную категорию NR\n",
    "df_games['rating'] = df_games['rating'].fillna('NR')"
   ]
  },
  {
   "cell_type": "code",
   "execution_count": 15,
   "metadata": {},
   "outputs": [
    {
     "data": {
      "text/plain": [
       "0"
      ]
     },
     "execution_count": 15,
     "metadata": {},
     "output_type": "execute_result"
    }
   ],
   "source": [
    "# проверим замену пропусков в столбце рейтинг\n",
    "df_games['rating'].isna().sum()"
   ]
  },
  {
   "cell_type": "code",
   "execution_count": 16,
   "metadata": {
    "colab": {
     "base_uri": "https://localhost:8080/"
    },
    "id": "PdngTwIsq0Ab",
    "outputId": "3669f980-e07b-4640-ee8b-9527b09c89f0"
   },
   "outputs": [
    {
     "data": {
      "text/plain": [
       "269"
      ]
     },
     "execution_count": 16,
     "metadata": {},
     "output_type": "execute_result"
    }
   ],
   "source": [
    "# количество пропусков в столбце год выхода игры\n",
    "df_games['year_of_release'].isna().sum()"
   ]
  },
  {
   "cell_type": "markdown",
   "metadata": {},
   "source": [
    "Напишем функцию для замены пропусков в столбце `year_of_release`, мы берем название игры и ищем где есть год, и заполняем этим значением пропуск для этой игры."
   ]
  },
  {
   "cell_type": "code",
   "execution_count": 17,
   "metadata": {},
   "outputs": [],
   "source": [
    "# функция для заполнения пропусков по моде\n",
    "def my_mode(s): \n",
    "    mode = s.mode()\n",
    "    if len(mode) > 0:\n",
    "        return mode[0]"
   ]
  },
  {
   "cell_type": "code",
   "execution_count": 18,
   "metadata": {
    "id": "nwJ9FuzBCJlR"
   },
   "outputs": [],
   "source": [
    "# заполнили пропуски в столбце год с помощью функции my_mode\n",
    "df_games_transformed = df_games.groupby('name')['year_of_release'].transform(my_mode)\n",
    "df_games['year_of_release'] = df_games['year_of_release'].fillna(df_games_transformed)"
   ]
  },
  {
   "cell_type": "markdown",
   "metadata": {
    "id": "G3LtDXoVoPfw"
   },
   "source": [
    "Для заполнения пропусков в столбце год выхода игры исползуем туже функцию `my_mode`. Чтобы заполнить пропуск по году в игре, мы находим название игры, где этот год есть."
   ]
  },
  {
   "cell_type": "code",
   "execution_count": 19,
   "metadata": {},
   "outputs": [
    {
     "data": {
      "text/plain": [
       "146"
      ]
     },
     "execution_count": 19,
     "metadata": {},
     "output_type": "execute_result"
    }
   ],
   "source": [
    "df_games['year_of_release'].isna().sum()"
   ]
  },
  {
   "cell_type": "code",
   "execution_count": 20,
   "metadata": {},
   "outputs": [
    {
     "data": {
      "text/plain": [
       "0.87"
      ]
     },
     "execution_count": 20,
     "metadata": {},
     "output_type": "execute_result"
    }
   ],
   "source": [
    "round((df_games['year_of_release'].isna().mean()*100),2)"
   ]
  },
  {
   "cell_type": "markdown",
   "metadata": {},
   "source": [
    "Оставшиеся пропуски удалим, их количество менее 1%."
   ]
  },
  {
   "cell_type": "code",
   "execution_count": 21,
   "metadata": {},
   "outputs": [],
   "source": [
    "# удаляем оставшиеся пропуски, это меньше 1% от общего числа строк\n",
    "df_games = df_games.dropna(subset=['year_of_release'])"
   ]
  },
  {
   "cell_type": "code",
   "execution_count": 22,
   "metadata": {},
   "outputs": [
    {
     "data": {
      "text/plain": [
       "0"
      ]
     },
     "execution_count": 22,
     "metadata": {},
     "output_type": "execute_result"
    }
   ],
   "source": [
    "# проверка внесенных изменений\n",
    "df_games['year_of_release'].isna().sum()"
   ]
  },
  {
   "cell_type": "markdown",
   "metadata": {
    "id": "zV5X-Ea1z9G5"
   },
   "source": [
    "**2.4 Посчитаем суммарные продажи во всех регионах** <a id=\"sum\"></a> "
   ]
  },
  {
   "cell_type": "code",
   "execution_count": 23,
   "metadata": {
    "id": "TMMndovz0DpQ"
   },
   "outputs": [],
   "source": [
    "df_games['sales'] = df_games['eu_sales'] + df_games['na_sales'] + df_games['jp_sales'] + df_games['other_sales']"
   ]
  },
  {
   "cell_type": "code",
   "execution_count": 24,
   "metadata": {},
   "outputs": [
    {
     "name": "stdout",
     "output_type": "stream",
     "text": [
      "<class 'pandas.core.frame.DataFrame'>\n",
      "Int64Index: 16567 entries, 0 to 16714\n",
      "Data columns (total 12 columns):\n",
      " #   Column           Non-Null Count  Dtype  \n",
      "---  ------           --------------  -----  \n",
      " 0   name             16567 non-null  object \n",
      " 1   platform         16567 non-null  object \n",
      " 2   year_of_release  16567 non-null  float64\n",
      " 3   genre            16567 non-null  object \n",
      " 4   na_sales         16567 non-null  float64\n",
      " 5   eu_sales         16567 non-null  float64\n",
      " 6   jp_sales         16567 non-null  float64\n",
      " 7   other_sales      16567 non-null  float64\n",
      " 8   critic_score     8075 non-null   float64\n",
      " 9   user_score       7540 non-null   float64\n",
      " 10  rating           16567 non-null  object \n",
      " 11  sales            16567 non-null  float64\n",
      "dtypes: float64(8), object(4)\n",
      "memory usage: 1.6+ MB\n"
     ]
    }
   ],
   "source": [
    "# посмотрим на информацию о таблице после всех изменений\n",
    "df_games.info()"
   ]
  },
  {
   "cell_type": "markdown",
   "metadata": {},
   "source": [
    "**Вывод:** предобработка данных выполнена. Тип данных поменяли, пропуски заполнили подходящими значениями, там где это не получилось сделать пропуски удалили, они составили менее 2% от общего числа строк, поэтому это не критично. После обработки мы протеряли меньше 1% данных. Но попрежнему есть пропуски в оценках и рейтинге."
   ]
  },
  {
   "cell_type": "markdown",
   "metadata": {
    "id": "Wo0yV4zI0oD_"
   },
   "source": [
    "## Шаг 3. Исследовательский анализ данных <a id=\"analysis\"></a>"
   ]
  },
  {
   "cell_type": "markdown",
   "metadata": {
    "id": "bEJTsPuV0zHc"
   },
   "source": [
    "**3.1 Посмотрим, сколько игр выпускалось в разные годы** <a id=\"games\"></a>"
   ]
  },
  {
   "cell_type": "code",
   "execution_count": 25,
   "metadata": {
    "colab": {
     "base_uri": "https://localhost:8080/",
     "height": 323
    },
    "id": "BvyxoPVz0nu6",
    "outputId": "6b1e294e-1610-4236-f85a-ef4815dfa6ad"
   },
   "outputs": [
    {
     "data": {
      "text/plain": [
       "<AxesSubplot:xlabel='year_of_release'>"
      ]
     },
     "execution_count": 25,
     "metadata": {},
     "output_type": "execute_result"
    },
    {
     "data": {
      "image/png": "[encoded data removed]",
      "text/plain": [
       "<Figure size 1080x360 with 1 Axes>"
      ]
     },
     "metadata": {
      "needs_background": "light"
     },
     "output_type": "display_data"
    }
   ],
   "source": [
    "df_sum_games_year = df_games.pivot_table(index='year_of_release', values='name', aggfunc='count')\n",
    "df_sum_games_year.plot(kind='bar',  figsize=(15,5))"
   ]
  },
  {
   "cell_type": "markdown",
   "metadata": {
    "id": "MzBkY8EVR7N4"
   },
   "source": [
    "Расцвет компьтерных игр можно сказать начинается с  1994 года, количество выпускаемых игр увеличивается сразу в 2 раза. Эти данные до 1994 не имеют большой значимости для анализа. Маленькое количество игр и много не достающих данных о них."
   ]
  },
  {
   "cell_type": "markdown",
   "metadata": {
    "id": "65CNQJlU4d_f"
   },
   "source": [
    "**3.2 Посмотрим, как менялись продажи по платформам** <a id=\"platform\"></a>"
   ]
  },
  {
   "cell_type": "code",
   "execution_count": 26,
   "metadata": {
    "colab": {
     "base_uri": "https://localhost:8080/"
    },
    "id": "hRR2bI3b2WA_",
    "outputId": "eaca1001-38ed-4365-e6c7-8430429e65d0"
   },
   "outputs": [
    {
     "data": {
      "text/plain": [
       "array(['Wii', 'NES', 'GB', 'DS', 'X360', 'PS3', 'PS2', 'SNES', 'GBA',\n",
       "       'PS4', '3DS', 'N64', 'PS', 'XB', 'PC', '2600', 'PSP', 'XOne',\n",
       "       'WiiU', 'GC', 'GEN', 'DC', 'PSV', 'SAT', 'SCD', 'WS', 'NG', 'TG16',\n",
       "       '3DO', 'GG', 'PCFX'], dtype=object)"
      ]
     },
     "execution_count": 26,
     "metadata": {},
     "output_type": "execute_result"
    }
   ],
   "source": [
    "# иникальные названия платформ\n",
    "df_games['platform'].unique()"
   ]
  },
  {
   "cell_type": "code",
   "execution_count": 27,
   "metadata": {
    "colab": {
     "base_uri": "https://localhost:8080/",
     "height": 1000
    },
    "id": "gmti-XYR4ZzB",
    "outputId": "665c7a4e-36e7-45a9-e8cb-bdda135710a8"
   },
   "outputs": [
    {
     "data": {
      "text/html": [
       "<div>\n",
       "<style scoped>\n",
       "    .dataframe tbody tr th:only-of-type {\n",
       "        vertical-align: middle;\n",
       "    }\n",
       "\n",
       "    .dataframe tbody tr th {\n",
       "        vertical-align: top;\n",
       "    }\n",
       "\n",
       "    .dataframe thead th {\n",
       "        text-align: right;\n",
       "    }\n",
       "</style>\n",
       "<table border=\"1\" class=\"dataframe\">\n",
       "  <thead>\n",
       "    <tr style=\"text-align: right;\">\n",
       "      <th></th>\n",
       "      <th>sales</th>\n",
       "    </tr>\n",
       "    <tr>\n",
       "      <th>platform</th>\n",
       "      <th></th>\n",
       "    </tr>\n",
       "  </thead>\n",
       "  <tbody>\n",
       "    <tr>\n",
       "      <th>PS2</th>\n",
       "      <td>1247.16</td>\n",
       "    </tr>\n",
       "    <tr>\n",
       "      <th>X360</th>\n",
       "      <td>966.61</td>\n",
       "    </tr>\n",
       "    <tr>\n",
       "      <th>PS3</th>\n",
       "      <td>935.19</td>\n",
       "    </tr>\n",
       "    <tr>\n",
       "      <th>Wii</th>\n",
       "      <td>903.31</td>\n",
       "    </tr>\n",
       "    <tr>\n",
       "      <th>DS</th>\n",
       "      <td>804.28</td>\n",
       "    </tr>\n",
       "    <tr>\n",
       "      <th>PS</th>\n",
       "      <td>727.58</td>\n",
       "    </tr>\n",
       "    <tr>\n",
       "      <th>PS4</th>\n",
       "      <td>314.14</td>\n",
       "    </tr>\n",
       "    <tr>\n",
       "      <th>GBA</th>\n",
       "      <td>313.73</td>\n",
       "    </tr>\n",
       "    <tr>\n",
       "      <th>PSP</th>\n",
       "      <td>293.57</td>\n",
       "    </tr>\n",
       "    <tr>\n",
       "      <th>PC</th>\n",
       "      <td>258.86</td>\n",
       "    </tr>\n",
       "    <tr>\n",
       "      <th>3DS</th>\n",
       "      <td>258.53</td>\n",
       "    </tr>\n",
       "    <tr>\n",
       "      <th>XB</th>\n",
       "      <td>256.69</td>\n",
       "    </tr>\n",
       "    <tr>\n",
       "      <th>GB</th>\n",
       "      <td>254.43</td>\n",
       "    </tr>\n",
       "    <tr>\n",
       "      <th>NES</th>\n",
       "      <td>251.05</td>\n",
       "    </tr>\n",
       "    <tr>\n",
       "      <th>N64</th>\n",
       "      <td>218.48</td>\n",
       "    </tr>\n",
       "    <tr>\n",
       "      <th>SNES</th>\n",
       "      <td>200.04</td>\n",
       "    </tr>\n",
       "    <tr>\n",
       "      <th>GC</th>\n",
       "      <td>198.66</td>\n",
       "    </tr>\n",
       "    <tr>\n",
       "      <th>XOne</th>\n",
       "      <td>159.32</td>\n",
       "    </tr>\n",
       "    <tr>\n",
       "      <th>2600</th>\n",
       "      <td>89.01</td>\n",
       "    </tr>\n",
       "    <tr>\n",
       "      <th>WiiU</th>\n",
       "      <td>82.19</td>\n",
       "    </tr>\n",
       "    <tr>\n",
       "      <th>PSV</th>\n",
       "      <td>53.81</td>\n",
       "    </tr>\n",
       "    <tr>\n",
       "      <th>SAT</th>\n",
       "      <td>33.59</td>\n",
       "    </tr>\n",
       "    <tr>\n",
       "      <th>GEN</th>\n",
       "      <td>28.35</td>\n",
       "    </tr>\n",
       "    <tr>\n",
       "      <th>DC</th>\n",
       "      <td>15.95</td>\n",
       "    </tr>\n",
       "    <tr>\n",
       "      <th>SCD</th>\n",
       "      <td>1.86</td>\n",
       "    </tr>\n",
       "    <tr>\n",
       "      <th>NG</th>\n",
       "      <td>1.44</td>\n",
       "    </tr>\n",
       "    <tr>\n",
       "      <th>WS</th>\n",
       "      <td>1.42</td>\n",
       "    </tr>\n",
       "    <tr>\n",
       "      <th>TG16</th>\n",
       "      <td>0.16</td>\n",
       "    </tr>\n",
       "    <tr>\n",
       "      <th>3DO</th>\n",
       "      <td>0.10</td>\n",
       "    </tr>\n",
       "    <tr>\n",
       "      <th>GG</th>\n",
       "      <td>0.04</td>\n",
       "    </tr>\n",
       "    <tr>\n",
       "      <th>PCFX</th>\n",
       "      <td>0.03</td>\n",
       "    </tr>\n",
       "  </tbody>\n",
       "</table>\n",
       "</div>"
      ],
      "text/plain": [
       "            sales\n",
       "platform         \n",
       "PS2       1247.16\n",
       "X360       966.61\n",
       "PS3        935.19\n",
       "Wii        903.31\n",
       "DS         804.28\n",
       "PS         727.58\n",
       "PS4        314.14\n",
       "GBA        313.73\n",
       "PSP        293.57\n",
       "PC         258.86\n",
       "3DS        258.53\n",
       "XB         256.69\n",
       "GB         254.43\n",
       "NES        251.05\n",
       "N64        218.48\n",
       "SNES       200.04\n",
       "GC         198.66\n",
       "XOne       159.32\n",
       "2600        89.01\n",
       "WiiU        82.19\n",
       "PSV         53.81\n",
       "SAT         33.59\n",
       "GEN         28.35\n",
       "DC          15.95\n",
       "SCD          1.86\n",
       "NG           1.44\n",
       "WS           1.42\n",
       "TG16         0.16\n",
       "3DO          0.10\n",
       "GG           0.04\n",
       "PCFX         0.03"
      ]
     },
     "execution_count": 27,
     "metadata": {},
     "output_type": "execute_result"
    }
   ],
   "source": [
    "# сортируем по платформам и считаем суммарные продажи на них\n",
    "platform_games = df_games.pivot_table(index='platform', values='sales', aggfunc='sum').sort_values('sales', ascending=False)\n",
    "platform_games"
   ]
  },
  {
   "cell_type": "code",
   "execution_count": 28,
   "metadata": {},
   "outputs": [],
   "source": [
    "# выберем платформы с сумарными продажвми больше 300\n",
    "platform_games = platform_games.query('sales > 300')"
   ]
  },
  {
   "cell_type": "code",
   "execution_count": 29,
   "metadata": {},
   "outputs": [
    {
     "data": {
      "text/plain": [
       "<AxesSubplot:xlabel='year_of_release'>"
      ]
     },
     "execution_count": 29,
     "metadata": {},
     "output_type": "execute_result"
    },
    {
     "data": {
      "image/png": "[encoded data removed]",
      "text/plain": [
       "<Figure size 1440x360 with 1 Axes>"
      ]
     },
     "metadata": {
      "needs_background": "light"
     },
     "output_type": "display_data"
    }
   ],
   "source": [
    "# построим распределение по годам\n",
    "df_top = df_games[(df_games['platform'].isin(platform_games.index))]\n",
    "(\n",
    "df_top.pivot_table(index='year_of_release', columns='platform', values='sales', aggfunc='sum')\n",
    "      .plot(kind='bar', legend=True, grid=True, figsize=(20,5))\n",
    ")     "
   ]
  },
  {
   "cell_type": "code",
   "execution_count": 30,
   "metadata": {
    "colab": {
     "base_uri": "https://localhost:8080/",
     "height": 297
    },
    "id": "7xORVXSFsSPQ",
    "outputId": "ac7048d9-6c9a-4467-bb31-ff8a193cb127"
   },
   "outputs": [
    {
     "data": {
      "text/plain": [
       "<AxesSubplot:xlabel='year_of_release'>"
      ]
     },
     "execution_count": 30,
     "metadata": {},
     "output_type": "execute_result"
    },
    {
     "data": {
      "image/png": "[encoded data removed]",
      "text/plain": [
       "<Figure size 576x288 with 1 Axes>"
      ]
     },
     "metadata": {
      "needs_background": "light"
     },
     "output_type": "display_data"
    }
   ],
   "source": [
    "# возьмем для аназила 5 платфом\n",
    "(\n",
    "    df_top[df_top['platform'].isin(['PS', 'PS2', 'PS3', 'X360', 'Wii'])]\n",
    "                             .pivot_table(index='year_of_release', columns='platform', values='sales', aggfunc='sum')\n",
    "                             .plot(grid=True, figsize=(8,4))\n",
    ")"
   ]
  },
  {
   "cell_type": "markdown",
   "metadata": {
    "id": "3ULRUObdrLZ9"
   },
   "source": [
    "В среднем платформы живут 10-12 лет от своего взлета и до своего падения, и примерно половину своего срока платформы приномят высокую прибыль."
   ]
  },
  {
   "cell_type": "markdown",
   "metadata": {
    "id": "QV8iMvjT4pYe"
   },
   "source": [
    "Возьмим данные за актуальный период"
   ]
  },
  {
   "cell_type": "code",
   "execution_count": 31,
   "metadata": {
    "id": "dgrCTpF14uxt"
   },
   "outputs": [],
   "source": [
    "# возьмем данные за последние 3 лет для прогноза на 2017 год\n",
    "df_3year = df_games[df_games['year_of_release'] > 2013]\n"
   ]
  },
  {
   "cell_type": "markdown",
   "metadata": {
    "id": "dkgTHvgV5DNO"
   },
   "source": [
    "**3.3 Выберем несколько потенциально прибыльных платформ** <a id=\"profit\"></a>"
   ]
  },
  {
   "cell_type": "code",
   "execution_count": 32,
   "metadata": {
    "colab": {
     "base_uri": "https://localhost:8080/",
     "height": 583
    },
    "id": "WkPZjNOQdXjx",
    "outputId": "7cef83f1-79f6-4c30-ee73-8c3b7b3699e1"
   },
   "outputs": [
    {
     "data": {
      "text/html": [
       "<div>\n",
       "<style scoped>\n",
       "    .dataframe tbody tr th:only-of-type {\n",
       "        vertical-align: middle;\n",
       "    }\n",
       "\n",
       "    .dataframe tbody tr th {\n",
       "        vertical-align: top;\n",
       "    }\n",
       "\n",
       "    .dataframe thead th {\n",
       "        text-align: right;\n",
       "    }\n",
       "</style>\n",
       "<table border=\"1\" class=\"dataframe\">\n",
       "  <thead>\n",
       "    <tr style=\"text-align: right;\">\n",
       "      <th>year_of_release</th>\n",
       "      <th>2014.0</th>\n",
       "      <th>2015.0</th>\n",
       "      <th>2016.0</th>\n",
       "    </tr>\n",
       "    <tr>\n",
       "      <th>platform</th>\n",
       "      <th></th>\n",
       "      <th></th>\n",
       "      <th></th>\n",
       "    </tr>\n",
       "  </thead>\n",
       "  <tbody>\n",
       "    <tr>\n",
       "      <th>3DS</th>\n",
       "      <td>43.76</td>\n",
       "      <td>27.78</td>\n",
       "      <td>15.14</td>\n",
       "    </tr>\n",
       "    <tr>\n",
       "      <th>PC</th>\n",
       "      <td>13.28</td>\n",
       "      <td>8.52</td>\n",
       "      <td>5.25</td>\n",
       "    </tr>\n",
       "    <tr>\n",
       "      <th>PS3</th>\n",
       "      <td>47.76</td>\n",
       "      <td>16.82</td>\n",
       "      <td>3.60</td>\n",
       "    </tr>\n",
       "    <tr>\n",
       "      <th>PS4</th>\n",
       "      <td>100.00</td>\n",
       "      <td>118.90</td>\n",
       "      <td>69.25</td>\n",
       "    </tr>\n",
       "    <tr>\n",
       "      <th>PSP</th>\n",
       "      <td>0.24</td>\n",
       "      <td>0.12</td>\n",
       "      <td>NaN</td>\n",
       "    </tr>\n",
       "    <tr>\n",
       "      <th>PSV</th>\n",
       "      <td>11.90</td>\n",
       "      <td>6.25</td>\n",
       "      <td>4.25</td>\n",
       "    </tr>\n",
       "    <tr>\n",
       "      <th>Wii</th>\n",
       "      <td>3.75</td>\n",
       "      <td>1.14</td>\n",
       "      <td>0.18</td>\n",
       "    </tr>\n",
       "    <tr>\n",
       "      <th>WiiU</th>\n",
       "      <td>22.03</td>\n",
       "      <td>16.35</td>\n",
       "      <td>4.60</td>\n",
       "    </tr>\n",
       "    <tr>\n",
       "      <th>X360</th>\n",
       "      <td>34.74</td>\n",
       "      <td>11.96</td>\n",
       "      <td>1.52</td>\n",
       "    </tr>\n",
       "    <tr>\n",
       "      <th>XOne</th>\n",
       "      <td>54.07</td>\n",
       "      <td>60.14</td>\n",
       "      <td>26.15</td>\n",
       "    </tr>\n",
       "  </tbody>\n",
       "</table>\n",
       "</div>"
      ],
      "text/plain": [
       "year_of_release  2014.0  2015.0  2016.0\n",
       "platform                               \n",
       "3DS               43.76   27.78   15.14\n",
       "PC                13.28    8.52    5.25\n",
       "PS3               47.76   16.82    3.60\n",
       "PS4              100.00  118.90   69.25\n",
       "PSP                0.24    0.12     NaN\n",
       "PSV               11.90    6.25    4.25\n",
       "Wii                3.75    1.14    0.18\n",
       "WiiU              22.03   16.35    4.60\n",
       "X360              34.74   11.96    1.52\n",
       "XOne              54.07   60.14   26.15"
      ]
     },
     "execution_count": 32,
     "metadata": {},
     "output_type": "execute_result"
    }
   ],
   "source": [
    "df_3year.pivot_table(index='platform', columns='year_of_release', values='sales', aggfunc='sum')"
   ]
  },
  {
   "cell_type": "markdown",
   "metadata": {
    "id": "k3fRjUC_r5io"
   },
   "source": [
    "Лидируют по продажвм 3 платформы : PS4, XOne, 3DS. Но если смотреть по годам, видно, что все платформы снижают свои обороты и падают, или прекратили свое существование, платформы PS4 и XOne подают признаки жизни на фоне остальных. Можно предположить, что нехвататет запуска новой платформы на смену старым, которые уже на сроке оконцания жизненого цикла."
   ]
  },
  {
   "cell_type": "code",
   "execution_count": 33,
   "metadata": {
    "colab": {
     "base_uri": "https://localhost:8080/",
     "height": 377
    },
    "id": "HxxrbcMjr5I_",
    "outputId": "bf0f960a-febf-4119-f8b9-cc59778ac792"
   },
   "outputs": [
    {
     "data": {
      "text/plain": [
       "<AxesSubplot:xlabel='year_of_release'>"
      ]
     },
     "execution_count": 33,
     "metadata": {},
     "output_type": "execute_result"
    },
    {
     "data": {
      "image/png": "[encoded data removed]",
      "text/plain": [
       "<Figure size 1080x360 with 1 Axes>"
      ]
     },
     "metadata": {
      "needs_background": "light"
     },
     "output_type": "display_data"
    }
   ],
   "source": [
    "# представим данные наглядно\n",
    "(\n",
    "df_3year.pivot_table(index='year_of_release', columns='platform', values='sales', aggfunc='sum')\n",
    "      .plot(kind='bar', legend=True, grid=True, figsize=(15,5))\n",
    ")"
   ]
  },
  {
   "cell_type": "code",
   "execution_count": 34,
   "metadata": {
    "colab": {
     "base_uri": "https://localhost:8080/",
     "height": 353
    },
    "id": "iGI_TSulwzHy",
    "outputId": "eb7477ae-e1a0-44b0-9b9d-42e1eeac04ef"
   },
   "outputs": [
    {
     "data": {
      "text/plain": [
       "<AxesSubplot:xlabel='year_of_release'>"
      ]
     },
     "execution_count": 34,
     "metadata": {},
     "output_type": "execute_result"
    },
    {
     "data": {
      "image/png": "[encoded data removed]",
      "text/plain": [
       "<Figure size 1080x360 with 1 Axes>"
      ]
     },
     "metadata": {
      "needs_background": "light"
     },
     "output_type": "display_data"
    }
   ],
   "source": [
    "(\n",
    "df_3year.pivot_table(index='year_of_release', columns='platform', values='sales', aggfunc='sum')\n",
    "      .plot(legend=True, grid=True, figsize=(15,5))\n",
    ")"
   ]
  },
  {
   "cell_type": "markdown",
   "metadata": {
    "id": "NkEsZgiU5FQ-"
   },
   "source": [
    "**3.4 Построим график «ящик с усами» по глобальным продажам игр в разбивке по платформам** <a id=\"box\"></a>"
   ]
  },
  {
   "cell_type": "code",
   "execution_count": 35,
   "metadata": {
    "colab": {
     "base_uri": "https://localhost:8080/",
     "height": 433
    },
    "id": "yGBRoZufdlXV",
    "outputId": "9f3f4a4b-5bb5-474b-dcf1-04d246aa1902"
   },
   "outputs": [
    {
     "data": {
      "text/plain": [
       "Text(0, 0.5, 'Global Sales')"
      ]
     },
     "execution_count": 35,
     "metadata": {},
     "output_type": "execute_result"
    },
    {
     "data": {
      "image/png": "[encoded data removed]",
      "text/plain": [
       "<Figure size 720x576 with 1 Axes>"
      ]
     },
     "metadata": {
      "needs_background": "light"
     },
     "output_type": "display_data"
    }
   ],
   "source": [
    "# строим графики ящик с усами для платформ\n",
    "df_3year.boxplot(column='sales', by='platform', figsize=(10,8))\n",
    "\n",
    "plt.ylim(0,2)\n",
    "plt.title('Global Sales Games of Platform')\n",
    "plt.xlabel('Platforms')\n",
    "plt.ylabel('Global Sales')"
   ]
  },
  {
   "cell_type": "markdown",
   "metadata": {
    "id": "40LgicHbiqsc"
   },
   "source": [
    "**Вывод** у платформ очень много выбросов, а их среднии значения по глобальным продажам находятся ближе к началу оси Y. ПО количеству выбросов для платформ можно сказать, на сколько они успешны и популярны."
   ]
  },
  {
   "cell_type": "markdown",
   "metadata": {
    "id": "xCUg4FiMirvb"
   },
   "source": [
    "**3.5 Посмотрим, как влияют на продажи внутри одной популярной платформы отзывы пользователей и критиков. Построим диаграмму рассеяния и посчитаем корреляцию между отзывами и продажами** <a id=\"reviews\"></a>"
   ]
  },
  {
   "cell_type": "code",
   "execution_count": 36,
   "metadata": {
    "colab": {
     "base_uri": "https://localhost:8080/"
    },
    "id": "8YxQ_x7ni4zg",
    "outputId": "782e802d-7509-4d46-886e-9eb9d4e62c4f"
   },
   "outputs": [
    {
     "data": {
      "text/plain": [
       "year_of_release  name                             \n",
       "2014.0           2014 FIFA World Cup Brazil           0.61\n",
       "                 3rd Super Robot Wars Z Jigoku Hen    0.23\n",
       "                 Alien: Isolation                     0.33\n",
       "                 Ar Nosurge: Ode to an Unborn Star    0.16\n",
       "                 Assassin's Creed: Rogue              1.28\n",
       "                                                      ... \n",
       "2016.0           Toukiden 2                           0.02\n",
       "                 UEFA Euro 2016                       0.08\n",
       "                 Utawarerumono: Futari no Hakuoro     0.02\n",
       "                 WWE 2K17                             0.14\n",
       "                 Yakuza Kiwami                        0.12\n",
       "Name: sales, Length: 219, dtype: float64"
      ]
     },
     "execution_count": 36,
     "metadata": {},
     "output_type": "execute_result"
    }
   ],
   "source": [
    "# возьмем для анализа самую прибыльную и долго живущую платформу PS3\n",
    "rr = df_3year[df_3year['platform'] == 'PS3']\n",
    "rr.groupby(by=['year_of_release', 'name'])['sales'].sum()"
   ]
  },
  {
   "cell_type": "code",
   "execution_count": 37,
   "metadata": {
    "colab": {
     "base_uri": "https://localhost:8080/",
     "height": 297
    },
    "id": "22P7epnn3Fc-",
    "outputId": "370171d1-4e2c-4605-ab80-92ffe1d61dd2"
   },
   "outputs": [
    {
     "data": {
      "text/plain": [
       "<AxesSubplot:xlabel='user_score', ylabel='sales'>"
      ]
     },
     "execution_count": 37,
     "metadata": {},
     "output_type": "execute_result"
    },
    {
     "data": {
      "image/png": "[encoded data removed]",
      "text/plain": [
       "<Figure size 432x288 with 1 Axes>"
      ]
     },
     "metadata": {
      "needs_background": "light"
     },
     "output_type": "display_data"
    }
   ],
   "source": [
    "# диаграмма рассеинья для платформа PS3, зависимость продаж и оценок пользователей\n",
    "rr.plot(x='user_score', y='sales', kind='scatter')"
   ]
  },
  {
   "cell_type": "markdown",
   "metadata": {
    "id": "r9jOJ0On4ouU"
   },
   "source": [
    "По графику можно сказать, что есть зависимоть между продажами и оценками пользователей, высокие оценки пользователй увеличивают продажи. Но есть точки с высокими  продажами и не высокой оценкой. С корее всего оценки пользователей не имеют особого влияния на продажи."
   ]
  },
  {
   "cell_type": "code",
   "execution_count": 38,
   "metadata": {
    "colab": {
     "base_uri": "https://localhost:8080/",
     "height": 297
    },
    "id": "ZqfN3XAv3k5l",
    "outputId": "d324c689-0cfa-4b8a-f3b0-13700b69a86d"
   },
   "outputs": [
    {
     "data": {
      "text/plain": [
       "<AxesSubplot:xlabel='critic_score', ylabel='sales'>"
      ]
     },
     "execution_count": 38,
     "metadata": {},
     "output_type": "execute_result"
    },
    {
     "data": {
      "image/png": "[encoded data removed]",
      "text/plain": [
       "<Figure size 432x288 with 1 Axes>"
      ]
     },
     "metadata": {
      "needs_background": "light"
     },
     "output_type": "display_data"
    }
   ],
   "source": [
    "# диаграмма рассеинья для платформа PS3, зависимость продаж и оценок критиков\n",
    "rr.plot(x='critic_score', y='sales', kind='scatter')"
   ]
  },
  {
   "cell_type": "markdown",
   "metadata": {
    "id": "ws4gmsN3497u"
   },
   "source": [
    "По графику можно сказать, что есть зависимоть между продажами и оценками критиков, высокие оценки критиков увеличивают продажи."
   ]
  },
  {
   "cell_type": "code",
   "execution_count": 39,
   "metadata": {
    "colab": {
     "base_uri": "https://localhost:8080/"
    },
    "id": "RbOPb7Hs4BCC",
    "outputId": "2e70b4ce-36ee-43dd-cb6e-751c17585228"
   },
   "outputs": [
    {
     "data": {
      "text/plain": [
       "-0.16676141347662116"
      ]
     },
     "execution_count": 39,
     "metadata": {},
     "output_type": "execute_result"
    }
   ],
   "source": [
    "# коэф. корреляции зависимости продаж от оценок пользователей\n",
    "rr['sales'].corr(df_3year['user_score'])"
   ]
  },
  {
   "cell_type": "markdown",
   "metadata": {
    "id": "lNbr3O055UMb"
   },
   "source": [
    "Коэффициет получился отрицательным и близким к нулю. Это значит, что зависимость обратная и практически не обнаруживается. Значит оценки пользователей не оказывают влияния на продажи платформ."
   ]
  },
  {
   "cell_type": "code",
   "execution_count": 40,
   "metadata": {
    "colab": {
     "base_uri": "https://localhost:8080/"
    },
    "id": "PgXJ7sMo4QMf",
    "outputId": "39b39b82-7208-4b15-cfcd-8480cef1bd4a"
   },
   "outputs": [
    {
     "data": {
      "text/plain": [
       "0.44657460493190704"
      ]
     },
     "execution_count": 40,
     "metadata": {},
     "output_type": "execute_result"
    }
   ],
   "source": [
    "# коэф. корреляции зависимости продаж от оценок критиков\n",
    "rr['sales'].corr(df_3year['critic_score'])"
   ]
  },
  {
   "cell_type": "markdown",
   "metadata": {
    "id": "vFhGMQ6O5yA7"
   },
   "source": [
    "Коэф. говорит о прямой значительной зависимости между оценками критиков и продажами, при росте оценок критиков растут продажи."
   ]
  },
  {
   "cell_type": "markdown",
   "metadata": {
    "id": "EMRmZSTEjF9b"
   },
   "source": [
    "Соотнесем выводы с продажами игр на других платформах"
   ]
  },
  {
   "cell_type": "code",
   "execution_count": 41,
   "metadata": {
    "colab": {
     "base_uri": "https://localhost:8080/",
     "height": 297
    },
    "id": "RBgtWdDfz9m5",
    "outputId": "3124b926-5b1b-49ce-e0f9-fcb8ef3a2cbb"
   },
   "outputs": [
    {
     "data": {
      "text/plain": [
       "<AxesSubplot:xlabel='user_score', ylabel='sales'>"
      ]
     },
     "execution_count": 41,
     "metadata": {},
     "output_type": "execute_result"
    },
    {
     "data": {
      "image/png": "[encoded data removed]",
      "text/plain": [
       "<Figure size 432x288 with 1 Axes>"
      ]
     },
     "metadata": {
      "needs_background": "light"
     },
     "output_type": "display_data"
    }
   ],
   "source": [
    "# диаграмма распределения стоимости и оценок пользователей для всех платформ\n",
    "df_3year.plot(x='user_score', y='sales', kind='scatter')"
   ]
  },
  {
   "cell_type": "markdown",
   "metadata": {
    "id": "hpt9CN-A1W1V"
   },
   "source": [
    "По графику можно сказать, что оценка пользователей сказывается на продажах, их сумма возрастает."
   ]
  },
  {
   "cell_type": "code",
   "execution_count": 42,
   "metadata": {
    "colab": {
     "base_uri": "https://localhost:8080/",
     "height": 297
    },
    "id": "pDyRqBhC0a6n",
    "outputId": "90171a11-62fb-4f0b-82ef-7788a12ef1f5"
   },
   "outputs": [
    {
     "data": {
      "text/plain": [
       "<AxesSubplot:xlabel='critic_score', ylabel='sales'>"
      ]
     },
     "execution_count": 42,
     "metadata": {},
     "output_type": "execute_result"
    },
    {
     "data": {
      "image/png": "[encoded data removed]",
      "text/plain": [
       "<Figure size 432x288 with 1 Axes>"
      ]
     },
     "metadata": {
      "needs_background": "light"
     },
     "output_type": "display_data"
    }
   ],
   "source": [
    "# диаграмма рассеинья для стоимости и оценок  для всех платформ\n",
    "df_3year.plot(x='critic_score', y='sales', kind='scatter')"
   ]
  },
  {
   "cell_type": "markdown",
   "metadata": {
    "id": "0ezV5P2P1tvf"
   },
   "source": [
    "Тоже самое можно сказать про оценки критиков, высокие оценки увеличивают продажи."
   ]
  },
  {
   "cell_type": "code",
   "execution_count": 43,
   "metadata": {
    "colab": {
     "base_uri": "https://localhost:8080/"
    },
    "id": "UKBNHJbm0hvl",
    "outputId": "ebd4412c-1e56-4090-e199-b64dc4880a1a"
   },
   "outputs": [
    {
     "data": {
      "text/plain": [
       "-0.01307030500248456"
      ]
     },
     "execution_count": 43,
     "metadata": {},
     "output_type": "execute_result"
    }
   ],
   "source": [
    "df_3year['sales'].corr(df_3year['user_score'])"
   ]
  },
  {
   "cell_type": "markdown",
   "metadata": {},
   "source": [
    "Коэффициент также получился отицательным."
   ]
  },
  {
   "cell_type": "code",
   "execution_count": 44,
   "metadata": {
    "colab": {
     "base_uri": "https://localhost:8080/"
    },
    "id": "1-oNnMMM1Qmp",
    "outputId": "0fa0ed8f-3e3a-4259-da3c-f87a1c0b9dda"
   },
   "outputs": [
    {
     "data": {
      "text/plain": [
       "0.3281050869663632"
      ]
     },
     "execution_count": 44,
     "metadata": {},
     "output_type": "execute_result"
    }
   ],
   "source": [
    "df_3year['sales'].corr(df_3year['critic_score'])"
   ]
  },
  {
   "cell_type": "markdown",
   "metadata": {
    "id": "VnfaOmMF2UAu"
   },
   "source": [
    "Коэффициент корреляции зависимости продаж от оценок критиков не намного выше, и говорит от том, что зависимость минимальна, но она положительная, это хначит, что все таки высокие оценки критиков дают повышение продаж."
   ]
  },
  {
   "cell_type": "markdown",
   "metadata": {
    "id": "XnGW_OOI6IuV"
   },
   "source": [
    "В целом данные выводы характерны для всех платформ, только в глобальном многообразии платформ оценки критиков имеют немного слабое влияние на продажи."
   ]
  },
  {
   "cell_type": "markdown",
   "metadata": {},
   "source": [
    "Возьмем для анализа другую платформу: PS4."
   ]
  },
  {
   "cell_type": "code",
   "execution_count": 45,
   "metadata": {},
   "outputs": [
    {
     "data": {
      "text/plain": [
       "<AxesSubplot:xlabel='user_score', ylabel='sales'>"
      ]
     },
     "execution_count": 45,
     "metadata": {},
     "output_type": "execute_result"
    },
    {
     "data": {
      "image/png": "[encoded data removed]",
      "text/plain": [
       "<Figure size 432x288 with 1 Axes>"
      ]
     },
     "metadata": {
      "needs_background": "light"
     },
     "output_type": "display_data"
    }
   ],
   "source": [
    "# возьмем для анализа самую прибыльную и долго живущую платформу PS4\n",
    "rr = df_3year[df_3year['platform'] == 'PS4']\n",
    "# диаграмма рассеинья для платформа PS4, зависимость продаж и оценок пользователей\n",
    "rr.plot(x='user_score', y='sales', kind='scatter')"
   ]
  },
  {
   "cell_type": "code",
   "execution_count": 46,
   "metadata": {},
   "outputs": [
    {
     "data": {
      "text/plain": [
       "-0.040131589472697356"
      ]
     },
     "execution_count": 46,
     "metadata": {},
     "output_type": "execute_result"
    }
   ],
   "source": [
    "# коэф. корреляции зависимости продаж от оценок пользователей\n",
    "rr['sales'].corr(df_3year['user_score'])"
   ]
  },
  {
   "cell_type": "code",
   "execution_count": 47,
   "metadata": {},
   "outputs": [
    {
     "data": {
      "text/plain": [
       "<AxesSubplot:xlabel='critic_score', ylabel='sales'>"
      ]
     },
     "execution_count": 47,
     "metadata": {},
     "output_type": "execute_result"
    },
    {
     "data": {
      "image/png": "[encoded data removed]",
      "text/plain": [
       "<Figure size 432x288 with 1 Axes>"
      ]
     },
     "metadata": {
      "needs_background": "light"
     },
     "output_type": "display_data"
    }
   ],
   "source": [
    "# диаграмма рассеинья для платформа PS4, зависимость продаж и оценок критиков\n",
    "rr.plot(x='critic_score', y='sales', kind='scatter')"
   ]
  },
  {
   "cell_type": "code",
   "execution_count": 48,
   "metadata": {},
   "outputs": [
    {
     "data": {
      "text/plain": [
       "0.40266141068104083"
      ]
     },
     "execution_count": 48,
     "metadata": {},
     "output_type": "execute_result"
    }
   ],
   "source": [
    "# коэф. корреляции зависимости продаж от оценок критиков\n",
    "rr['sales'].corr(df_3year['critic_score'])"
   ]
  },
  {
   "cell_type": "markdown",
   "metadata": {},
   "source": [
    "Получили схожие данные. Выводы сделанные по платформе PS3 можно отнести и к платформе PS4."
   ]
  },
  {
   "cell_type": "markdown",
   "metadata": {
    "id": "Ox0Jm_KYjIEj"
   },
   "source": [
    "**3.6 Посмотрим на общее распределение игр по жанрам** <a id=\"genre\"></a>"
   ]
  },
  {
   "cell_type": "code",
   "execution_count": 49,
   "metadata": {
    "colab": {
     "base_uri": "https://localhost:8080/",
     "height": 349
    },
    "id": "TdIq-_WW6n4d",
    "outputId": "b8d1e5c9-48ae-4e11-d0c6-3da39dfe3aa3"
   },
   "outputs": [
    {
     "data": {
      "text/plain": [
       "<AxesSubplot:xlabel='genre'>"
      ]
     },
     "execution_count": 49,
     "metadata": {},
     "output_type": "execute_result"
    },
    {
     "data": {
      "image/png": "[encoded data removed]",
      "text/plain": [
       "<Figure size 576x288 with 1 Axes>"
      ]
     },
     "metadata": {
      "needs_background": "light"
     },
     "output_type": "display_data"
    }
   ],
   "source": [
    "# общее распределение ирг по жанрам\n",
    "df_3year.pivot_table(index='genre', values='name', aggfunc='count').sort_values('name', ascending=False).plot(kind='bar', grid=True, figsize=(8,4))"
   ]
  },
  {
   "cell_type": "markdown",
   "metadata": {},
   "source": [
    "Топ 5 самых выпускаемых жанров игр: Action, Role-Playing, Sports, Shooter, Adventure. За последнии 3 года внимание геймеров сместилось на другие жанры игр."
   ]
  },
  {
   "cell_type": "code",
   "execution_count": 50,
   "metadata": {
    "colab": {
     "base_uri": "https://localhost:8080/",
     "height": 349
    },
    "id": "mjxw1ubLjLot",
    "outputId": "dd715c94-cab7-477b-f9b1-b0c90a984f45"
   },
   "outputs": [
    {
     "data": {
      "text/plain": [
       "<AxesSubplot:xlabel='genre'>"
      ]
     },
     "execution_count": 50,
     "metadata": {},
     "output_type": "execute_result"
    },
    {
     "data": {
      "image/png": "[encoded data removed]",
      "text/plain": [
       "<Figure size 576x288 with 1 Axes>"
      ]
     },
     "metadata": {
      "needs_background": "light"
     },
     "output_type": "display_data"
    }
   ],
   "source": [
    "# распределение игр по прибыльности\n",
    "df_3year.pivot_table(index='genre', values='sales', aggfunc='sum').sort_values('sales', ascending=False).plot(kind='bar', grid=True, figsize=(8,4))"
   ]
  },
  {
   "cell_type": "markdown",
   "metadata": {},
   "source": [
    "Список самых прибыльных жанров, выделяются Action, Shooter, Sports, Role-Playing."
   ]
  },
  {
   "cell_type": "code",
   "execution_count": 51,
   "metadata": {},
   "outputs": [
    {
     "data": {
      "text/plain": [
       "<AxesSubplot:xlabel='genre'>"
      ]
     },
     "execution_count": 51,
     "metadata": {},
     "output_type": "execute_result"
    },
    {
     "data": {
      "image/png": "[encoded data removed]",
      "text/plain": [
       "<Figure size 576x288 with 1 Axes>"
      ]
     },
     "metadata": {
      "needs_background": "light"
     },
     "output_type": "display_data"
    }
   ],
   "source": [
    "# распределение игр по медианой прибыльности \n",
    "df_3year.pivot_table(index='genre', values='sales', aggfunc='median').sort_values('sales', ascending=False).plot(kind='bar', grid=True, figsize=(8,4))"
   ]
  },
  {
   "cell_type": "markdown",
   "metadata": {},
   "source": [
    "При раcсмотрении медианой прибыльности игр лидером стал жанр Shooter, Sports, Platform, Fighting, Role-Playing."
   ]
  },
  {
   "cell_type": "markdown",
   "metadata": {
    "id": "NQ7HS3DGjfMh"
   },
   "source": [
    "## Шаг 4. Составим портрет пользователя каждого региона <a id=\"users\"></a>"
   ]
  },
  {
   "cell_type": "markdown",
   "metadata": {
    "id": "zgmh2bYTjifx"
   },
   "source": [
    "Определим для пользователя каждого региона (NA, EU, JP):\n",
    "\n",
    "*   Самые популярные платформы (топ-5).\n",
    "*   Самые популярные жанры (топ-5). \n",
    "*   Влияет ли рейтинг ESRB на продажи в отдельном регионе?\n",
    "\n"
   ]
  },
  {
   "cell_type": "markdown",
   "metadata": {},
   "source": [
    "### Северная Америка <a id=\"na\"></a>"
   ]
  },
  {
   "cell_type": "code",
   "execution_count": 52,
   "metadata": {
    "colab": {
     "base_uri": "https://localhost:8080/",
     "height": 237
    },
    "id": "OCbBYkJBjzzD",
    "outputId": "9e43aa4a-7ea3-475d-99b0-30c50401c996"
   },
   "outputs": [
    {
     "data": {
      "text/html": [
       "<div>\n",
       "<style scoped>\n",
       "    .dataframe tbody tr th:only-of-type {\n",
       "        vertical-align: middle;\n",
       "    }\n",
       "\n",
       "    .dataframe tbody tr th {\n",
       "        vertical-align: top;\n",
       "    }\n",
       "\n",
       "    .dataframe thead th {\n",
       "        text-align: right;\n",
       "    }\n",
       "</style>\n",
       "<table border=\"1\" class=\"dataframe\">\n",
       "  <thead>\n",
       "    <tr style=\"text-align: right;\">\n",
       "      <th></th>\n",
       "      <th>na_sales</th>\n",
       "      <th>sales</th>\n",
       "      <th>share</th>\n",
       "    </tr>\n",
       "    <tr>\n",
       "      <th>platform</th>\n",
       "      <th></th>\n",
       "      <th></th>\n",
       "      <th></th>\n",
       "    </tr>\n",
       "  </thead>\n",
       "  <tbody>\n",
       "    <tr>\n",
       "      <th>PS4</th>\n",
       "      <td>98.61</td>\n",
       "      <td>288.15</td>\n",
       "      <td>34.221760</td>\n",
       "    </tr>\n",
       "    <tr>\n",
       "      <th>XOne</th>\n",
       "      <td>81.27</td>\n",
       "      <td>140.36</td>\n",
       "      <td>57.901111</td>\n",
       "    </tr>\n",
       "    <tr>\n",
       "      <th>X360</th>\n",
       "      <td>28.30</td>\n",
       "      <td>48.22</td>\n",
       "      <td>58.689341</td>\n",
       "    </tr>\n",
       "    <tr>\n",
       "      <th>3DS</th>\n",
       "      <td>22.64</td>\n",
       "      <td>86.68</td>\n",
       "      <td>26.119059</td>\n",
       "    </tr>\n",
       "    <tr>\n",
       "      <th>PS3</th>\n",
       "      <td>22.05</td>\n",
       "      <td>68.18</td>\n",
       "      <td>32.340862</td>\n",
       "    </tr>\n",
       "  </tbody>\n",
       "</table>\n",
       "</div>"
      ],
      "text/plain": [
       "          na_sales   sales      share\n",
       "platform                             \n",
       "PS4          98.61  288.15  34.221760\n",
       "XOne         81.27  140.36  57.901111\n",
       "X360         28.30   48.22  58.689341\n",
       "3DS          22.64   86.68  26.119059\n",
       "PS3          22.05   68.18  32.340862"
      ]
     },
     "execution_count": 52,
     "metadata": {},
     "output_type": "execute_result"
    }
   ],
   "source": [
    "# самые популярные платформы по продажам в NA \n",
    "df5_na = (\n",
    "    df_3year.pivot_table(index='platform', values=['na_sales', 'sales'], aggfunc='sum')\n",
    "    .sort_values('na_sales', ascending=False)\n",
    "    .head()\n",
    ")    \n",
    "    \n",
    "df5_na['share'] = df5_na['na_sales'] / df5_na['sales'] * 100\n",
    "df5_na"
   ]
  },
  {
   "cell_type": "markdown",
   "metadata": {
    "id": "aZYh6BGuz5cu"
   },
   "source": [
    "Северная Америка занимает самую большую долю продаж на рынке компьютерных игр, это примерно 50% от общемировых продаж. Самые прибыльные платформы для этого региона PS4, XOne, X360, 3DS, PS3."
   ]
  },
  {
   "cell_type": "code",
   "execution_count": 53,
   "metadata": {},
   "outputs": [
    {
     "data": {
      "text/plain": [
       "<AxesSubplot:ylabel='North America Sales'>"
      ]
     },
     "execution_count": 53,
     "metadata": {},
     "output_type": "execute_result"
    },
    {
     "data": {
      "image/png": "[encoded data removed]",
      "text/plain": [
       "<Figure size 432x288 with 1 Axes>"
      ]
     },
     "metadata": {},
     "output_type": "display_data"
    }
   ],
   "source": [
    "# визуализируем продажи для региона по платформам на круговой диаграмме\n",
    "df5_na.plot(kind='pie', y='na_sales', label='North America Sales', legend=False)"
   ]
  },
  {
   "cell_type": "code",
   "execution_count": 54,
   "metadata": {},
   "outputs": [
    {
     "data": {
      "text/plain": [
       "<AxesSubplot:ylabel='Share sales'>"
      ]
     },
     "execution_count": 54,
     "metadata": {},
     "output_type": "execute_result"
    },
    {
     "data": {
      "image/png": "[encoded data removed]",
      "text/plain": [
       "<Figure size 432x288 with 1 Axes>"
      ]
     },
     "metadata": {},
     "output_type": "display_data"
    }
   ],
   "source": [
    "# визуализируем доли продаж платформ на круговой диаграмме\n",
    "df5_na.plot(kind='pie', y='share', label='Share sales', legend=False)"
   ]
  },
  {
   "cell_type": "markdown",
   "metadata": {},
   "source": [
    "Доли и продажи по гериону отличаются. Самая приносящая высокие продажи в герионе платформа PS4, на мировом рынке занимает только 34%. А платформа X360 не на первом месте по продажам в Северной Амереке, но это почти составляет 60% от мировых продаж."
   ]
  },
  {
   "cell_type": "code",
   "execution_count": 55,
   "metadata": {
    "colab": {
     "base_uri": "https://localhost:8080/",
     "height": 237
    },
    "id": "JZ0hYkDD9I-M",
    "outputId": "654d77c9-55fd-49f1-92a0-fde9f504558d"
   },
   "outputs": [
    {
     "data": {
      "text/html": [
       "<div>\n",
       "<style scoped>\n",
       "    .dataframe tbody tr th:only-of-type {\n",
       "        vertical-align: middle;\n",
       "    }\n",
       "\n",
       "    .dataframe tbody tr th {\n",
       "        vertical-align: top;\n",
       "    }\n",
       "\n",
       "    .dataframe thead th {\n",
       "        text-align: right;\n",
       "    }\n",
       "</style>\n",
       "<table border=\"1\" class=\"dataframe\">\n",
       "  <thead>\n",
       "    <tr style=\"text-align: right;\">\n",
       "      <th></th>\n",
       "      <th>na_sales</th>\n",
       "    </tr>\n",
       "    <tr>\n",
       "      <th>genre</th>\n",
       "      <th></th>\n",
       "    </tr>\n",
       "  </thead>\n",
       "  <tbody>\n",
       "    <tr>\n",
       "      <th>Shooter</th>\n",
       "      <td>79.02</td>\n",
       "    </tr>\n",
       "    <tr>\n",
       "      <th>Action</th>\n",
       "      <td>72.53</td>\n",
       "    </tr>\n",
       "    <tr>\n",
       "      <th>Sports</th>\n",
       "      <td>46.13</td>\n",
       "    </tr>\n",
       "    <tr>\n",
       "      <th>Role-Playing</th>\n",
       "      <td>33.47</td>\n",
       "    </tr>\n",
       "    <tr>\n",
       "      <th>Misc</th>\n",
       "      <td>15.05</td>\n",
       "    </tr>\n",
       "  </tbody>\n",
       "</table>\n",
       "</div>"
      ],
      "text/plain": [
       "              na_sales\n",
       "genre                 \n",
       "Shooter          79.02\n",
       "Action           72.53\n",
       "Sports           46.13\n",
       "Role-Playing     33.47\n",
       "Misc             15.05"
      ]
     },
     "execution_count": 55,
     "metadata": {},
     "output_type": "execute_result"
    }
   ],
   "source": [
    "# самые популярные жанры игр в NA\n",
    "df_3year.pivot_table(index='genre', values='na_sales', aggfunc='sum').sort_values('na_sales', ascending=False).head()"
   ]
  },
  {
   "cell_type": "markdown",
   "metadata": {
    "id": "0keEKCXv-KpD"
   },
   "source": [
    "Больше всего продаж для региона Северная Америка приносят игры жанров Shooter, Action, Sports, Role-Playing, Misc."
   ]
  },
  {
   "cell_type": "code",
   "execution_count": 56,
   "metadata": {},
   "outputs": [
    {
     "data": {
      "text/plain": [
       "<AxesSubplot:ylabel='Sales'>"
      ]
     },
     "execution_count": 56,
     "metadata": {},
     "output_type": "execute_result"
    },
    {
     "data": {
      "image/png": "[encoded data removed]",
      "text/plain": [
       "<Figure size 432x288 with 1 Axes>"
      ]
     },
     "metadata": {},
     "output_type": "display_data"
    }
   ],
   "source": [
    "# визуализируем популярность жанров на круговой диаграмме\n",
    "(\n",
    "    df_3year.pivot_table(index='genre', values='na_sales', aggfunc='sum')\n",
    "    .sort_values('na_sales', ascending=False)\n",
    "    .plot(kind='pie', y='na_sales', label='Sales', legend=False)\n",
    ")    "
   ]
  },
  {
   "cell_type": "code",
   "execution_count": 57,
   "metadata": {},
   "outputs": [
    {
     "data": {
      "text/plain": [
       "rating\n",
       "NR      749\n",
       "T       271\n",
       "M       265\n",
       "E       219\n",
       "E10+    185\n",
       "Name: name, dtype: int64"
      ]
     },
     "execution_count": 57,
     "metadata": {},
     "output_type": "execute_result"
    }
   ],
   "source": [
    "# влияние рейтигра ESRB на продажи\n",
    "# сгруппируем по рейтингу и посмотрим количество выпускаемых игр по каждому\n",
    "df_3year.groupby('rating')['name'].count().sort_values(ascending=False)"
   ]
  },
  {
   "cell_type": "markdown",
   "metadata": {},
   "source": [
    "Больше всего игр не имеет рейтинг ESRB."
   ]
  },
  {
   "cell_type": "code",
   "execution_count": 58,
   "metadata": {},
   "outputs": [
    {
     "data": {
      "text/html": [
       "<div>\n",
       "<style scoped>\n",
       "    .dataframe tbody tr th:only-of-type {\n",
       "        vertical-align: middle;\n",
       "    }\n",
       "\n",
       "    .dataframe tbody tr th {\n",
       "        vertical-align: top;\n",
       "    }\n",
       "\n",
       "    .dataframe thead th {\n",
       "        text-align: right;\n",
       "    }\n",
       "</style>\n",
       "<table border=\"1\" class=\"dataframe\">\n",
       "  <thead>\n",
       "    <tr style=\"text-align: right;\">\n",
       "      <th></th>\n",
       "      <th>na_sales</th>\n",
       "    </tr>\n",
       "    <tr>\n",
       "      <th>rating</th>\n",
       "      <th></th>\n",
       "    </tr>\n",
       "  </thead>\n",
       "  <tbody>\n",
       "    <tr>\n",
       "      <th>M</th>\n",
       "      <td>96.42</td>\n",
       "    </tr>\n",
       "    <tr>\n",
       "      <th>NR</th>\n",
       "      <td>64.72</td>\n",
       "    </tr>\n",
       "    <tr>\n",
       "      <th>E</th>\n",
       "      <td>50.74</td>\n",
       "    </tr>\n",
       "    <tr>\n",
       "      <th>T</th>\n",
       "      <td>38.95</td>\n",
       "    </tr>\n",
       "    <tr>\n",
       "      <th>E10+</th>\n",
       "      <td>33.23</td>\n",
       "    </tr>\n",
       "  </tbody>\n",
       "</table>\n",
       "</div>"
      ],
      "text/plain": [
       "        na_sales\n",
       "rating          \n",
       "M          96.42\n",
       "NR         64.72\n",
       "E          50.74\n",
       "T          38.95\n",
       "E10+       33.23"
      ]
     },
     "execution_count": 58,
     "metadata": {},
     "output_type": "execute_result"
    }
   ],
   "source": [
    "# посчитаем суммарные продажи по каждому рейтингу в регионе\n",
    "df_3year.pivot_table(index='rating', values='na_sales', aggfunc='sum').sort_values(by='na_sales', ascending=False)"
   ]
  },
  {
   "cell_type": "markdown",
   "metadata": {},
   "source": [
    "Игры без рейтинга занимают второе место по продажам в регионе. Самые прибыльные игры - иргы для взрослых по рейтингу ESRB, следом идут игры для всех. "
   ]
  },
  {
   "cell_type": "markdown",
   "metadata": {},
   "source": [
    "### Европа <a id=\"eu\"></a>"
   ]
  },
  {
   "cell_type": "code",
   "execution_count": 59,
   "metadata": {
    "colab": {
     "base_uri": "https://localhost:8080/",
     "height": 237
    },
    "id": "codTfks47ptC",
    "outputId": "e72a54af-fb7e-45f5-8e1c-58b89d19b9c6"
   },
   "outputs": [
    {
     "data": {
      "text/html": [
       "<div>\n",
       "<style scoped>\n",
       "    .dataframe tbody tr th:only-of-type {\n",
       "        vertical-align: middle;\n",
       "    }\n",
       "\n",
       "    .dataframe tbody tr th {\n",
       "        vertical-align: top;\n",
       "    }\n",
       "\n",
       "    .dataframe thead th {\n",
       "        text-align: right;\n",
       "    }\n",
       "</style>\n",
       "<table border=\"1\" class=\"dataframe\">\n",
       "  <thead>\n",
       "    <tr style=\"text-align: right;\">\n",
       "      <th></th>\n",
       "      <th>eu_sales</th>\n",
       "      <th>sales</th>\n",
       "      <th>share</th>\n",
       "    </tr>\n",
       "    <tr>\n",
       "      <th>platform</th>\n",
       "      <th></th>\n",
       "      <th></th>\n",
       "      <th></th>\n",
       "    </tr>\n",
       "  </thead>\n",
       "  <tbody>\n",
       "    <tr>\n",
       "      <th>PS4</th>\n",
       "      <td>130.04</td>\n",
       "      <td>288.15</td>\n",
       "      <td>45.129273</td>\n",
       "    </tr>\n",
       "    <tr>\n",
       "      <th>XOne</th>\n",
       "      <td>46.25</td>\n",
       "      <td>140.36</td>\n",
       "      <td>32.950983</td>\n",
       "    </tr>\n",
       "    <tr>\n",
       "      <th>PS3</th>\n",
       "      <td>25.54</td>\n",
       "      <td>68.18</td>\n",
       "      <td>37.459666</td>\n",
       "    </tr>\n",
       "    <tr>\n",
       "      <th>PC</th>\n",
       "      <td>17.97</td>\n",
       "      <td>27.05</td>\n",
       "      <td>66.432532</td>\n",
       "    </tr>\n",
       "    <tr>\n",
       "      <th>3DS</th>\n",
       "      <td>16.12</td>\n",
       "      <td>86.68</td>\n",
       "      <td>18.597139</td>\n",
       "    </tr>\n",
       "  </tbody>\n",
       "</table>\n",
       "</div>"
      ],
      "text/plain": [
       "          eu_sales   sales      share\n",
       "platform                             \n",
       "PS4         130.04  288.15  45.129273\n",
       "XOne         46.25  140.36  32.950983\n",
       "PS3          25.54   68.18  37.459666\n",
       "PC           17.97   27.05  66.432532\n",
       "3DS          16.12   86.68  18.597139"
      ]
     },
     "execution_count": 59,
     "metadata": {},
     "output_type": "execute_result"
    }
   ],
   "source": [
    "# самые популярные платформы по продажам в EU\n",
    "df5_eu = (\n",
    "    df_3year.pivot_table(index='platform', values=['eu_sales', 'sales'], aggfunc='sum')\n",
    "    .sort_values('eu_sales', ascending=False)\n",
    "    .head()\n",
    ")    \n",
    "    \n",
    "df5_eu['share'] = df5_eu['eu_sales'] / df5_eu['sales'] * 100\n",
    "df5_eu"
   ]
  },
  {
   "cell_type": "code",
   "execution_count": 60,
   "metadata": {
    "id": "dw8hCfbM02Dg"
   },
   "outputs": [
    {
     "data": {
      "text/plain": [
       "<AxesSubplot:ylabel='Europ Sales'>"
      ]
     },
     "execution_count": 60,
     "metadata": {},
     "output_type": "execute_result"
    },
    {
     "data": {
      "image/png": "[encoded data removed]",
      "text/plain": [
       "<Figure size 432x288 with 1 Axes>"
      ]
     },
     "metadata": {},
     "output_type": "display_data"
    }
   ],
   "source": [
    "# визуализируем продажи для региона по платформам на круговой диаграмме\n",
    "df5_eu.plot(kind='pie', y='eu_sales', label='Europ Sales', legend=False)"
   ]
  },
  {
   "cell_type": "code",
   "execution_count": 61,
   "metadata": {},
   "outputs": [
    {
     "data": {
      "text/plain": [
       "<AxesSubplot:ylabel='Share sales'>"
      ]
     },
     "execution_count": 61,
     "metadata": {},
     "output_type": "execute_result"
    },
    {
     "data": {
      "image/png": "[encoded data removed]",
      "text/plain": [
       "<Figure size 432x288 with 1 Axes>"
      ]
     },
     "metadata": {},
     "output_type": "display_data"
    }
   ],
   "source": [
    "# визуализируем доли продаж платформ на круговой диаграмме\n",
    "df5_eu.plot(kind='pie', y='share', label='Share sales', legend=False)"
   ]
  },
  {
   "cell_type": "markdown",
   "metadata": {},
   "source": [
    "В Европе также самые большие прибыли приности платформа PS4, а от мировых продаж это 45%. Регионы NA и EU делят продажи между собой. А вот платформа PC не такая прибылная, но на мировом рынке ее продажи региона EU занимают 66%."
   ]
  },
  {
   "cell_type": "code",
   "execution_count": 62,
   "metadata": {
    "colab": {
     "base_uri": "https://localhost:8080/",
     "height": 237
    },
    "id": "ug9FZOn3-nMr",
    "outputId": "c0de76ed-c6d1-481d-e7c4-daf46e4e5aff"
   },
   "outputs": [
    {
     "data": {
      "text/html": [
       "<div>\n",
       "<style scoped>\n",
       "    .dataframe tbody tr th:only-of-type {\n",
       "        vertical-align: middle;\n",
       "    }\n",
       "\n",
       "    .dataframe tbody tr th {\n",
       "        vertical-align: top;\n",
       "    }\n",
       "\n",
       "    .dataframe thead th {\n",
       "        text-align: right;\n",
       "    }\n",
       "</style>\n",
       "<table border=\"1\" class=\"dataframe\">\n",
       "  <thead>\n",
       "    <tr style=\"text-align: right;\">\n",
       "      <th></th>\n",
       "      <th>eu_sales</th>\n",
       "    </tr>\n",
       "    <tr>\n",
       "      <th>genre</th>\n",
       "      <th></th>\n",
       "    </tr>\n",
       "  </thead>\n",
       "  <tbody>\n",
       "    <tr>\n",
       "      <th>Action</th>\n",
       "      <td>74.68</td>\n",
       "    </tr>\n",
       "    <tr>\n",
       "      <th>Shooter</th>\n",
       "      <td>65.52</td>\n",
       "    </tr>\n",
       "    <tr>\n",
       "      <th>Sports</th>\n",
       "      <td>45.73</td>\n",
       "    </tr>\n",
       "    <tr>\n",
       "      <th>Role-Playing</th>\n",
       "      <td>28.17</td>\n",
       "    </tr>\n",
       "    <tr>\n",
       "      <th>Racing</th>\n",
       "      <td>14.13</td>\n",
       "    </tr>\n",
       "  </tbody>\n",
       "</table>\n",
       "</div>"
      ],
      "text/plain": [
       "              eu_sales\n",
       "genre                 \n",
       "Action           74.68\n",
       "Shooter          65.52\n",
       "Sports           45.73\n",
       "Role-Playing     28.17\n",
       "Racing           14.13"
      ]
     },
     "execution_count": 62,
     "metadata": {},
     "output_type": "execute_result"
    }
   ],
   "source": [
    "# самые популярные жанры игр в EU\n",
    "(\n",
    "    df_3year.pivot_table(index='genre', values='eu_sales', aggfunc='sum')\n",
    "    .sort_values('eu_sales', ascending=False)\n",
    "    .head()\n",
    ")    "
   ]
  },
  {
   "cell_type": "markdown",
   "metadata": {
    "id": "wAPuZLWJOZpf"
   },
   "source": [
    "Самые популярные жанры для региона Европа: Action, Shooter, Sports, Role-Playing, Racing."
   ]
  },
  {
   "cell_type": "code",
   "execution_count": 63,
   "metadata": {},
   "outputs": [
    {
     "data": {
      "text/plain": [
       "<AxesSubplot:ylabel='Sales'>"
      ]
     },
     "execution_count": 63,
     "metadata": {},
     "output_type": "execute_result"
    },
    {
     "data": {
      "image/png": "[encoded data removed]",
      "text/plain": [
       "<Figure size 432x288 with 1 Axes>"
      ]
     },
     "metadata": {},
     "output_type": "display_data"
    }
   ],
   "source": [
    "# визуализируем популярность жанров на круговой диаграмме\n",
    "(\n",
    "    df_3year.pivot_table(index='genre', values='eu_sales', aggfunc='sum')\n",
    "    .sort_values('eu_sales', ascending=False)\n",
    "    .plot(kind='pie', y='eu_sales', label='Sales', legend=False)\n",
    ")    "
   ]
  },
  {
   "cell_type": "code",
   "execution_count": 64,
   "metadata": {},
   "outputs": [
    {
     "data": {
      "text/html": [
       "<div>\n",
       "<style scoped>\n",
       "    .dataframe tbody tr th:only-of-type {\n",
       "        vertical-align: middle;\n",
       "    }\n",
       "\n",
       "    .dataframe tbody tr th {\n",
       "        vertical-align: top;\n",
       "    }\n",
       "\n",
       "    .dataframe thead th {\n",
       "        text-align: right;\n",
       "    }\n",
       "</style>\n",
       "<table border=\"1\" class=\"dataframe\">\n",
       "  <thead>\n",
       "    <tr style=\"text-align: right;\">\n",
       "      <th></th>\n",
       "      <th>eu_sales</th>\n",
       "    </tr>\n",
       "    <tr>\n",
       "      <th>rating</th>\n",
       "      <th></th>\n",
       "    </tr>\n",
       "  </thead>\n",
       "  <tbody>\n",
       "    <tr>\n",
       "      <th>M</th>\n",
       "      <td>93.44</td>\n",
       "    </tr>\n",
       "    <tr>\n",
       "      <th>NR</th>\n",
       "      <td>58.95</td>\n",
       "    </tr>\n",
       "    <tr>\n",
       "      <th>E</th>\n",
       "      <td>58.06</td>\n",
       "    </tr>\n",
       "    <tr>\n",
       "      <th>T</th>\n",
       "      <td>34.07</td>\n",
       "    </tr>\n",
       "    <tr>\n",
       "      <th>E10+</th>\n",
       "      <td>26.16</td>\n",
       "    </tr>\n",
       "  </tbody>\n",
       "</table>\n",
       "</div>"
      ],
      "text/plain": [
       "        eu_sales\n",
       "rating          \n",
       "M          93.44\n",
       "NR         58.95\n",
       "E          58.06\n",
       "T          34.07\n",
       "E10+       26.16"
      ]
     },
     "execution_count": 64,
     "metadata": {},
     "output_type": "execute_result"
    }
   ],
   "source": [
    "# посчитаем суммарные продажи по каждому рейтингу в регионе\n",
    "(\n",
    "    df_3year.pivot_table(index='rating', values='eu_sales', aggfunc='sum')\n",
    "    .sort_values(by='eu_sales', ascending=False)\n",
    ")    "
   ]
  },
  {
   "cell_type": "markdown",
   "metadata": {},
   "source": [
    "Игры без рейтинга так же на втором месте по продажам. Самые прибыльные игры - иргы для взрослых по рейтингу ESRB, следом идут игры для всех."
   ]
  },
  {
   "cell_type": "markdown",
   "metadata": {},
   "source": [
    "### Япония <a id=\"jp\"></a>"
   ]
  },
  {
   "cell_type": "code",
   "execution_count": 65,
   "metadata": {
    "colab": {
     "base_uri": "https://localhost:8080/",
     "height": 237
    },
    "id": "DSpuTpdJkxyF",
    "outputId": "46b425c9-4f4f-420b-ca57-d35757fd0264"
   },
   "outputs": [
    {
     "data": {
      "text/html": [
       "<div>\n",
       "<style scoped>\n",
       "    .dataframe tbody tr th:only-of-type {\n",
       "        vertical-align: middle;\n",
       "    }\n",
       "\n",
       "    .dataframe tbody tr th {\n",
       "        vertical-align: top;\n",
       "    }\n",
       "\n",
       "    .dataframe thead th {\n",
       "        text-align: right;\n",
       "    }\n",
       "</style>\n",
       "<table border=\"1\" class=\"dataframe\">\n",
       "  <thead>\n",
       "    <tr style=\"text-align: right;\">\n",
       "      <th></th>\n",
       "      <th>jp_sales</th>\n",
       "      <th>sales</th>\n",
       "      <th>share</th>\n",
       "    </tr>\n",
       "    <tr>\n",
       "      <th>platform</th>\n",
       "      <th></th>\n",
       "      <th></th>\n",
       "      <th></th>\n",
       "    </tr>\n",
       "  </thead>\n",
       "  <tbody>\n",
       "    <tr>\n",
       "      <th>3DS</th>\n",
       "      <td>44.24</td>\n",
       "      <td>86.68</td>\n",
       "      <td>51.038302</td>\n",
       "    </tr>\n",
       "    <tr>\n",
       "      <th>PS4</th>\n",
       "      <td>15.02</td>\n",
       "      <td>288.15</td>\n",
       "      <td>5.212563</td>\n",
       "    </tr>\n",
       "    <tr>\n",
       "      <th>PSV</th>\n",
       "      <td>14.54</td>\n",
       "      <td>22.40</td>\n",
       "      <td>64.910714</td>\n",
       "    </tr>\n",
       "    <tr>\n",
       "      <th>PS3</th>\n",
       "      <td>11.22</td>\n",
       "      <td>68.18</td>\n",
       "      <td>16.456439</td>\n",
       "    </tr>\n",
       "    <tr>\n",
       "      <th>WiiU</th>\n",
       "      <td>7.31</td>\n",
       "      <td>42.98</td>\n",
       "      <td>17.007911</td>\n",
       "    </tr>\n",
       "  </tbody>\n",
       "</table>\n",
       "</div>"
      ],
      "text/plain": [
       "          jp_sales   sales      share\n",
       "platform                             \n",
       "3DS          44.24   86.68  51.038302\n",
       "PS4          15.02  288.15   5.212563\n",
       "PSV          14.54   22.40  64.910714\n",
       "PS3          11.22   68.18  16.456439\n",
       "WiiU          7.31   42.98  17.007911"
      ]
     },
     "execution_count": 65,
     "metadata": {},
     "output_type": "execute_result"
    }
   ],
   "source": [
    "# самые популярные платформы по продажам в JP\n",
    "df5_jp = (\n",
    "    df_3year.pivot_table(index='platform', values=['jp_sales', 'sales'], aggfunc='sum')\n",
    "    .sort_values('jp_sales', ascending=False)\n",
    "    .head()\n",
    ")    \n",
    "    \n",
    "df5_jp['share'] = df5_jp['jp_sales'] / df5_jp['sales'] * 100\n",
    "df5_jp"
   ]
  },
  {
   "cell_type": "markdown",
   "metadata": {
    "id": "Hfa3YLKf2qKb"
   },
   "source": [
    "В восточном регионе платформы приносящие прибыл отличаются от регионов Северная Америка и Европа. Такие прибыльные платформы как PS4 и PS3 занимают 5% и 16% от общемировых продаж. А такая платформа как PSV и 3DS, на нее приходить почти 65% и 51% доли восточного рынка."
   ]
  },
  {
   "cell_type": "code",
   "execution_count": 66,
   "metadata": {},
   "outputs": [
    {
     "data": {
      "text/plain": [
       "<AxesSubplot:ylabel='Share sales'>"
      ]
     },
     "execution_count": 66,
     "metadata": {},
     "output_type": "execute_result"
    },
    {
     "data": {
      "image/png": "[encoded data removed]",
      "text/plain": [
       "<Figure size 432x288 with 1 Axes>"
      ]
     },
     "metadata": {},
     "output_type": "display_data"
    }
   ],
   "source": [
    "# визуализируем доли продаж платформ на круговой диаграмме\n",
    "df5_jp.plot(kind='pie', y='share', label='Share sales', legend=False)"
   ]
  },
  {
   "cell_type": "code",
   "execution_count": 67,
   "metadata": {
    "colab": {
     "base_uri": "https://localhost:8080/",
     "height": 237
    },
    "id": "WaiW26SS-0o0",
    "outputId": "5b6e072b-2bf4-4401-aec4-fd372d18586b"
   },
   "outputs": [
    {
     "data": {
      "text/html": [
       "<div>\n",
       "<style scoped>\n",
       "    .dataframe tbody tr th:only-of-type {\n",
       "        vertical-align: middle;\n",
       "    }\n",
       "\n",
       "    .dataframe tbody tr th {\n",
       "        vertical-align: top;\n",
       "    }\n",
       "\n",
       "    .dataframe thead th {\n",
       "        text-align: right;\n",
       "    }\n",
       "</style>\n",
       "<table border=\"1\" class=\"dataframe\">\n",
       "  <thead>\n",
       "    <tr style=\"text-align: right;\">\n",
       "      <th></th>\n",
       "      <th>jp_sales</th>\n",
       "    </tr>\n",
       "    <tr>\n",
       "      <th>genre</th>\n",
       "      <th></th>\n",
       "    </tr>\n",
       "  </thead>\n",
       "  <tbody>\n",
       "    <tr>\n",
       "      <th>Role-Playing</th>\n",
       "      <td>31.16</td>\n",
       "    </tr>\n",
       "    <tr>\n",
       "      <th>Action</th>\n",
       "      <td>29.58</td>\n",
       "    </tr>\n",
       "    <tr>\n",
       "      <th>Fighting</th>\n",
       "      <td>6.37</td>\n",
       "    </tr>\n",
       "    <tr>\n",
       "      <th>Misc</th>\n",
       "      <td>5.61</td>\n",
       "    </tr>\n",
       "    <tr>\n",
       "      <th>Shooter</th>\n",
       "      <td>4.87</td>\n",
       "    </tr>\n",
       "  </tbody>\n",
       "</table>\n",
       "</div>"
      ],
      "text/plain": [
       "              jp_sales\n",
       "genre                 \n",
       "Role-Playing     31.16\n",
       "Action           29.58\n",
       "Fighting          6.37\n",
       "Misc              5.61\n",
       "Shooter           4.87"
      ]
     },
     "execution_count": 67,
     "metadata": {},
     "output_type": "execute_result"
    }
   ],
   "source": [
    "# самые популярные жанры игр в JP\n",
    "(\n",
    "    df_3year.pivot_table(index='genre', values='jp_sales', aggfunc='sum')\n",
    "    .sort_values('jp_sales', ascending=False)\n",
    "    .head()\n",
    ")    "
   ]
  },
  {
   "cell_type": "markdown",
   "metadata": {
    "id": "jKkpuBj6OyJr"
   },
   "source": [
    "Самые популярные жанры для региона JP: Role-Playing, Action, Fighting, Misc, Shooter."
   ]
  },
  {
   "cell_type": "markdown",
   "metadata": {
    "id": "zz9uKh0RPEoP"
   },
   "source": [
    "У регионов NA и EU предпочтения по жанрам в основном совподают. А у JP имеются некоторые отличия, например такой не популярный жанр среди пользователей NA и EU, как Role-Playing в JP на первом месте."
   ]
  },
  {
   "cell_type": "code",
   "execution_count": 68,
   "metadata": {},
   "outputs": [
    {
     "data": {
      "text/plain": [
       "<AxesSubplot:ylabel='Sales'>"
      ]
     },
     "execution_count": 68,
     "metadata": {},
     "output_type": "execute_result"
    },
    {
     "data": {
      "image/png": "[encoded data removed]",
      "text/plain": [
       "<Figure size 432x288 with 1 Axes>"
      ]
     },
     "metadata": {},
     "output_type": "display_data"
    }
   ],
   "source": [
    "# визуализируем популярность жанров на круговой диаграмме\n",
    "(\n",
    "    df_3year.pivot_table(index='genre', values='jp_sales', aggfunc='sum')\n",
    "    .sort_values('jp_sales', ascending=False)\n",
    "    .plot(kind='pie', y='jp_sales', label='Sales', legend=False)\n",
    ")    "
   ]
  },
  {
   "cell_type": "code",
   "execution_count": 69,
   "metadata": {},
   "outputs": [
    {
     "data": {
      "text/html": [
       "<div>\n",
       "<style scoped>\n",
       "    .dataframe tbody tr th:only-of-type {\n",
       "        vertical-align: middle;\n",
       "    }\n",
       "\n",
       "    .dataframe tbody tr th {\n",
       "        vertical-align: top;\n",
       "    }\n",
       "\n",
       "    .dataframe thead th {\n",
       "        text-align: right;\n",
       "    }\n",
       "</style>\n",
       "<table border=\"1\" class=\"dataframe\">\n",
       "  <thead>\n",
       "    <tr style=\"text-align: right;\">\n",
       "      <th></th>\n",
       "      <th>jp_sales</th>\n",
       "    </tr>\n",
       "    <tr>\n",
       "      <th>rating</th>\n",
       "      <th></th>\n",
       "    </tr>\n",
       "  </thead>\n",
       "  <tbody>\n",
       "    <tr>\n",
       "      <th>NR</th>\n",
       "      <td>56.90</td>\n",
       "    </tr>\n",
       "    <tr>\n",
       "      <th>T</th>\n",
       "      <td>14.78</td>\n",
       "    </tr>\n",
       "    <tr>\n",
       "      <th>E</th>\n",
       "      <td>8.94</td>\n",
       "    </tr>\n",
       "    <tr>\n",
       "      <th>M</th>\n",
       "      <td>8.01</td>\n",
       "    </tr>\n",
       "    <tr>\n",
       "      <th>E10+</th>\n",
       "      <td>4.46</td>\n",
       "    </tr>\n",
       "  </tbody>\n",
       "</table>\n",
       "</div>"
      ],
      "text/plain": [
       "        jp_sales\n",
       "rating          \n",
       "NR         56.90\n",
       "T          14.78\n",
       "E           8.94\n",
       "M           8.01\n",
       "E10+        4.46"
      ]
     },
     "execution_count": 69,
     "metadata": {},
     "output_type": "execute_result"
    }
   ],
   "source": [
    "# посчитаем суммарные продажи по каждому рейтингу в регионе\n",
    "(\n",
    "    df_3year.pivot_table(index='rating', values='jp_sales', aggfunc='sum')\n",
    "    .sort_values(by='jp_sales', ascending=False)\n",
    ")    "
   ]
  },
  {
   "cell_type": "markdown",
   "metadata": {},
   "source": [
    "В Японии самую большую прибыль приносят игры, не имеющие рейтинг ESRB. Возможно, в этом регионе есть свой стандарт для рейтингов."
   ]
  },
  {
   "cell_type": "markdown",
   "metadata": {},
   "source": [
    "Наличие рейтинга не влияет на продажи, игры без рейтинга продаются так же хорошо, как игры с рейтингом."
   ]
  },
  {
   "cell_type": "markdown",
   "metadata": {
    "id": "C15lIZhfj2rb"
   },
   "source": [
    "## Шаг 5. Проверим гипотезы <a id=\"hypothesis\"></a>"
   ]
  },
  {
   "cell_type": "markdown",
   "metadata": {
    "id": "OaQAp0NfkDoW"
   },
   "source": [
    "**Гиротеза №1** \n",
    "\n",
    "Нулевая гипотеза: Средние пользовательские рейтинги платформ Xbox One и PC одинаковые"
   ]
  },
  {
   "cell_type": "markdown",
   "metadata": {
    "id": "6SbY53DM_QwG"
   },
   "source": [
    "Альтернативная гипотеза будет звучать так: Средние пользовательские рейтинги платформ Xbox One и PC разные"
   ]
  },
  {
   "cell_type": "code",
   "execution_count": 71,
   "metadata": {
    "id": "3FIWaP7FYdHx"
   },
   "outputs": [],
   "source": [
    "# отфильтруем данные по платформам для XOne и PC\n",
    "# удалим строки с пропусками в столбце оценка пользователей\n",
    "x_one = df_3year[df_3year['platform'] == 'XOne']['user_score'].dropna()\n",
    "pc = df_3year[df_3year['platform'] == 'PC']['user_score'].dropna()"
   ]
  },
  {
   "cell_type": "code",
   "execution_count": 72,
   "metadata": {
    "colab": {
     "base_uri": "https://localhost:8080/"
    },
    "id": "K1uwksOcbyxu",
    "outputId": "8e789cd1-a8bb-4369-a26d-5fd64d6ddbde"
   },
   "outputs": [
    {
     "name": "stdout",
     "output_type": "stream",
     "text": [
      "p - значение: 0.10450507919348415\n",
      "Не получилось отвергнуть нулевую гипотезу\n"
     ]
    }
   ],
   "source": [
    "alpha = .01\n",
    "\n",
    "results = st.ttest_ind(x_one, pc)\n",
    "print('p - значение:', results.pvalue)\n",
    "\n",
    "if results.pvalue < alpha:\n",
    "  print('Отвеграем нулевую гипотезу')\n",
    "else:\n",
    "  print('Не получилось отвергнуть нулевую гипотезу')  "
   ]
  },
  {
   "cell_type": "markdown",
   "metadata": {
    "id": "QyDFg7K3zes_"
   },
   "source": [
    "Нулевую гипотезу отвергнуть не получилось, среднии пользовательские рейтинги платформ Xbox One и PC одинаковые."
   ]
  },
  {
   "cell_type": "markdown",
   "metadata": {
    "id": "jsJ6DfPJkaL0"
   },
   "source": [
    "**Гиротеза №2** \n",
    "\n",
    "Альтернативная гипотеза: Средние пользовательские рейтинги жанров Action и Sports разные"
   ]
  },
  {
   "cell_type": "markdown",
   "metadata": {
    "id": "b_RhEijB_CQh"
   },
   "source": [
    "Нулевая гипотеза: Средние пользовательские рейтинги жанров Action и Sports одинаковые."
   ]
  },
  {
   "cell_type": "code",
   "execution_count": 73,
   "metadata": {
    "id": "EHhH_4eYkp3F"
   },
   "outputs": [],
   "source": [
    "# отфильтруем данные по  жанру для Action и Sports\n",
    "# удалим строки с пропусками в столбце оценка пользователей\n",
    "action = df_3year[df_3year['genre'] == 'Action']['user_score'].dropna()\n",
    "sports = df_3year[df_3year['genre'] == 'Sports']['user_score'].dropna()"
   ]
  },
  {
   "cell_type": "code",
   "execution_count": 74,
   "metadata": {
    "colab": {
     "base_uri": "https://localhost:8080/"
    },
    "id": "8E-PZdpT6N2D",
    "outputId": "1f63d62b-acd3-4fb8-c6e9-ad4ed251ca5a"
   },
   "outputs": [
    {
     "name": "stdout",
     "output_type": "stream",
     "text": [
      "p - значение: 2.8711147985105864e-19\n",
      "Отвеграем нулевую гипотезу\n"
     ]
    }
   ],
   "source": [
    "alpha = .01\n",
    "\n",
    "results = st.ttest_ind(action, sports)\n",
    "print('p - значение:', results.pvalue)\n",
    "\n",
    "if results.pvalue < alpha:\n",
    "  print('Отвеграем нулевую гипотезу')\n",
    "else:\n",
    "  print('Не получилось отвергнуть нулевую гипотезу')  "
   ]
  },
  {
   "cell_type": "markdown",
   "metadata": {
    "id": "wgOzu1HGzQL-"
   },
   "source": [
    "Действительно, среднии пользовательские рейтинги жанров Action и Sports различаются."
   ]
  },
  {
   "cell_type": "markdown",
   "metadata": {
    "id": "JftBU29GkEG3"
   },
   "source": [
    "## Шаг 6. Общий вывод  <a id=\"conclusion\"></a>"
   ]
  },
  {
   "cell_type": "markdown",
   "metadata": {
    "id": "E4977ym0k4Lr"
   },
   "source": [
    "Из проанализированых данных можно сделать вывод, что в ближайщее время на рынке появиться новая платформа, так как все предыдущие снижают свои прибыли и уходят с арены, заканчивая свой 10 летний жизненый цикл. \n",
    "\n",
    "Оценки пользователей не влияют на повышение продаж, а вот высокие оценки критиков увеличивают продажии игр.\n",
    "\n",
    "Также ставку нужно делать на самые популярные жанры игр для регионов Северная Америка и Европа, это  жанры Action, Sports, Shooter, Misc, Role-Playing. Также не стоит забывать пользователей восточного региона, у них в преоритете жанры игр Role-Playing, Action, Misc, Sports, Platform. \n",
    "Как всегда Запад и Восток имеют разные интересы, поэтому для этих регионов нужно учитывать разные рекламные кампании. \n",
    "\n",
    "Тоже самое касается и платформ. Самые популярные платформы общие у регионов Северная Америка и Европа: PS4, XOne, X360, PS3, PC. В восточном регионе они другие: 3DS, PSV.\n",
    "\n",
    "В плане рейтинга ESRB, то в регионах Северной Америки и Европа в основном пользователи играют в игры для взрослых или без категории. А в восточном регионе пользователи концентрируются на играх без категории или под категорией для тинейджеров."
   ]
  },
  {
   "cell_type": "code",
   "execution_count": null,
   "metadata": {},
   "outputs": [],
   "source": []
  }
 ],
 "metadata": {
  "ExecuteTimeLog": [
   {
    "duration": 514,
    "start_time": "2022-04-05T10:45:56.129Z"
   },
   {
    "duration": 54,
    "start_time": "2022-04-05T10:45:56.645Z"
   },
   {
    "duration": 22,
    "start_time": "2022-04-05T10:45:56.701Z"
   },
   {
    "duration": 36,
    "start_time": "2022-04-05T10:45:56.726Z"
   },
   {
    "duration": 23,
    "start_time": "2022-04-05T10:45:56.764Z"
   },
   {
    "duration": 10,
    "start_time": "2022-04-05T10:45:56.790Z"
   },
   {
    "duration": 22,
    "start_time": "2022-04-05T10:45:56.802Z"
   },
   {
    "duration": 12,
    "start_time": "2022-04-05T10:45:56.827Z"
   },
   {
    "duration": 12,
    "start_time": "2022-04-05T10:45:56.842Z"
   },
   {
    "duration": 36,
    "start_time": "2022-04-05T10:45:56.858Z"
   },
   {
    "duration": 7,
    "start_time": "2022-04-05T10:45:56.896Z"
   },
   {
    "duration": 11,
    "start_time": "2022-04-05T10:45:56.905Z"
   },
   {
    "duration": 37,
    "start_time": "2022-04-05T10:45:56.918Z"
   },
   {
    "duration": 5638,
    "start_time": "2022-04-05T10:45:56.957Z"
   },
   {
    "duration": 6,
    "start_time": "2022-04-05T10:46:02.598Z"
   },
   {
    "duration": 4897,
    "start_time": "2022-04-05T10:46:02.606Z"
   },
   {
    "duration": 36,
    "start_time": "2022-04-05T10:46:07.506Z"
   },
   {
    "duration": 6,
    "start_time": "2022-04-05T10:46:07.544Z"
   },
   {
    "duration": 1203,
    "start_time": "2022-04-05T10:46:07.552Z"
   },
   {
    "duration": 7,
    "start_time": "2022-04-05T10:46:08.758Z"
   },
   {
    "duration": 36,
    "start_time": "2022-04-05T10:46:08.767Z"
   },
   {
    "duration": 6,
    "start_time": "2022-04-05T10:46:08.805Z"
   },
   {
    "duration": 2499,
    "start_time": "2022-04-05T10:46:08.814Z"
   },
   {
    "duration": 303,
    "start_time": "2022-04-05T10:46:11.315Z"
   },
   {
    "duration": 6,
    "start_time": "2022-04-05T10:46:11.620Z"
   },
   {
    "duration": 67,
    "start_time": "2022-04-05T10:46:11.628Z"
   },
   {
    "duration": 918,
    "start_time": "2022-04-05T10:46:11.697Z"
   },
   {
    "duration": 508,
    "start_time": "2022-04-05T10:46:12.621Z"
   },
   {
    "duration": 424,
    "start_time": "2022-04-05T10:46:13.131Z"
   },
   {
    "duration": 30,
    "start_time": "2022-04-05T10:46:13.558Z"
   },
   {
    "duration": 209,
    "start_time": "2022-04-05T10:46:13.590Z"
   },
   {
    "duration": 195,
    "start_time": "2022-04-05T10:46:13.801Z"
   },
   {
    "duration": 7,
    "start_time": "2022-04-05T10:46:13.999Z"
   },
   {
    "duration": 24,
    "start_time": "2022-04-05T10:46:14.008Z"
   },
   {
    "duration": 214,
    "start_time": "2022-04-05T10:46:14.034Z"
   },
   {
    "duration": 212,
    "start_time": "2022-04-05T10:46:14.250Z"
   },
   {
    "duration": 19,
    "start_time": "2022-04-05T10:46:14.465Z"
   },
   {
    "duration": 7,
    "start_time": "2022-04-05T10:46:14.486Z"
   },
   {
    "duration": 296,
    "start_time": "2022-04-05T10:46:14.495Z"
   },
   {
    "duration": 305,
    "start_time": "2022-04-05T10:46:14.794Z"
   },
   {
    "duration": 25,
    "start_time": "2022-04-05T10:46:15.101Z"
   },
   {
    "duration": 24,
    "start_time": "2022-04-05T10:46:15.129Z"
   },
   {
    "duration": 50,
    "start_time": "2022-04-05T10:46:15.156Z"
   },
   {
    "duration": 20,
    "start_time": "2022-04-05T10:46:15.208Z"
   },
   {
    "duration": 54,
    "start_time": "2022-04-05T10:46:15.231Z"
   },
   {
    "duration": 20,
    "start_time": "2022-04-05T10:46:15.288Z"
   },
   {
    "duration": 692,
    "start_time": "2022-04-05T10:46:15.310Z"
   },
   {
    "duration": 10,
    "start_time": "2022-04-05T10:46:16.004Z"
   },
   {
    "duration": 16,
    "start_time": "2022-04-05T10:46:16.016Z"
   },
   {
    "duration": 27,
    "start_time": "2022-04-05T10:46:16.034Z"
   },
   {
    "duration": 26,
    "start_time": "2022-04-05T10:46:16.063Z"
   },
   {
    "duration": 521,
    "start_time": "2022-04-05T11:36:19.368Z"
   },
   {
    "duration": 51,
    "start_time": "2022-04-05T11:36:19.891Z"
   },
   {
    "duration": 21,
    "start_time": "2022-04-05T11:36:19.945Z"
   },
   {
    "duration": 41,
    "start_time": "2022-04-05T11:36:19.969Z"
   },
   {
    "duration": 6,
    "start_time": "2022-04-05T11:36:20.013Z"
   },
   {
    "duration": 9,
    "start_time": "2022-04-05T11:36:20.021Z"
   },
   {
    "duration": 17,
    "start_time": "2022-04-05T11:36:20.032Z"
   },
   {
    "duration": 38,
    "start_time": "2022-04-05T11:36:20.051Z"
   },
   {
    "duration": 16,
    "start_time": "2022-04-05T11:36:20.091Z"
   },
   {
    "duration": 26,
    "start_time": "2022-04-05T11:36:20.111Z"
   },
   {
    "duration": 9,
    "start_time": "2022-04-05T11:36:20.139Z"
   },
   {
    "duration": 15,
    "start_time": "2022-04-05T11:36:20.151Z"
   },
   {
    "duration": 43,
    "start_time": "2022-04-05T11:36:20.169Z"
   },
   {
    "duration": 5915,
    "start_time": "2022-04-05T11:36:20.214Z"
   },
   {
    "duration": 5,
    "start_time": "2022-04-05T11:36:26.132Z"
   },
   {
    "duration": 5235,
    "start_time": "2022-04-05T11:36:26.139Z"
   },
   {
    "duration": 40,
    "start_time": "2022-04-05T11:36:31.376Z"
   },
   {
    "duration": 6,
    "start_time": "2022-04-05T11:36:31.418Z"
   },
   {
    "duration": 6,
    "start_time": "2022-04-05T11:37:41.499Z"
   },
   {
    "duration": 5,
    "start_time": "2022-04-05T11:37:49.315Z"
   },
   {
    "duration": 56,
    "start_time": "2022-04-05T11:37:49.324Z"
   },
   {
    "duration": 20,
    "start_time": "2022-04-05T11:37:49.382Z"
   },
   {
    "duration": 23,
    "start_time": "2022-04-05T11:37:49.405Z"
   },
   {
    "duration": 14,
    "start_time": "2022-04-05T11:37:49.431Z"
   },
   {
    "duration": 7,
    "start_time": "2022-04-05T11:37:49.447Z"
   },
   {
    "duration": 41,
    "start_time": "2022-04-05T11:37:49.456Z"
   },
   {
    "duration": 29,
    "start_time": "2022-04-05T11:37:49.499Z"
   },
   {
    "duration": 16,
    "start_time": "2022-04-05T11:37:49.531Z"
   },
   {
    "duration": 31,
    "start_time": "2022-04-05T11:37:49.549Z"
   },
   {
    "duration": 8,
    "start_time": "2022-04-05T11:37:49.582Z"
   },
   {
    "duration": 15,
    "start_time": "2022-04-05T11:37:49.592Z"
   },
   {
    "duration": 82,
    "start_time": "2022-04-05T11:37:49.611Z"
   },
   {
    "duration": 5865,
    "start_time": "2022-04-05T11:37:49.695Z"
   },
   {
    "duration": 6,
    "start_time": "2022-04-05T11:37:55.562Z"
   },
   {
    "duration": 5748,
    "start_time": "2022-04-05T11:37:55.570Z"
   },
   {
    "duration": 8,
    "start_time": "2022-04-05T11:38:01.322Z"
   },
   {
    "duration": 5,
    "start_time": "2022-04-05T11:43:11.264Z"
   },
   {
    "duration": 6219,
    "start_time": "2022-04-05T11:43:27.375Z"
   },
   {
    "duration": 4593,
    "start_time": "2022-04-05T11:44:02.787Z"
   },
   {
    "duration": 9,
    "start_time": "2022-04-05T11:48:27.569Z"
   },
   {
    "duration": 10,
    "start_time": "2022-04-05T11:49:48.923Z"
   },
   {
    "duration": 4111,
    "start_time": "2022-04-05T11:50:33.691Z"
   },
   {
    "duration": 0,
    "start_time": "2022-04-05T11:50:37.804Z"
   },
   {
    "duration": 4,
    "start_time": "2022-04-05T11:50:58.771Z"
   },
   {
    "duration": 68,
    "start_time": "2022-04-05T11:50:58.777Z"
   },
   {
    "duration": 51,
    "start_time": "2022-04-05T11:50:58.849Z"
   },
   {
    "duration": 32,
    "start_time": "2022-04-05T11:50:58.902Z"
   },
   {
    "duration": 20,
    "start_time": "2022-04-05T11:50:58.937Z"
   },
   {
    "duration": 15,
    "start_time": "2022-04-05T11:50:58.983Z"
   },
   {
    "duration": 14,
    "start_time": "2022-04-05T11:50:59.001Z"
   },
   {
    "duration": 13,
    "start_time": "2022-04-05T11:50:59.019Z"
   },
   {
    "duration": 10,
    "start_time": "2022-04-05T11:50:59.035Z"
   },
   {
    "duration": 43,
    "start_time": "2022-04-05T11:50:59.047Z"
   },
   {
    "duration": 8,
    "start_time": "2022-04-05T11:50:59.095Z"
   },
   {
    "duration": 10,
    "start_time": "2022-04-05T11:50:59.105Z"
   },
   {
    "duration": 34,
    "start_time": "2022-04-05T11:50:59.117Z"
   },
   {
    "duration": 9999,
    "start_time": "2022-04-05T11:50:59.185Z"
   },
   {
    "duration": 8,
    "start_time": "2022-04-05T11:51:09.187Z"
   },
   {
    "duration": 5114,
    "start_time": "2022-04-05T11:51:09.197Z"
   },
   {
    "duration": 6,
    "start_time": "2022-04-05T11:51:14.314Z"
   },
   {
    "duration": 18,
    "start_time": "2022-04-05T11:51:14.322Z"
   },
   {
    "duration": 10,
    "start_time": "2022-04-05T11:51:14.342Z"
   },
   {
    "duration": 6,
    "start_time": "2022-04-05T11:51:14.354Z"
   },
   {
    "duration": 23,
    "start_time": "2022-04-05T11:51:14.363Z"
   },
   {
    "duration": 1108,
    "start_time": "2022-04-05T11:51:14.388Z"
   },
   {
    "duration": 7,
    "start_time": "2022-04-05T11:51:15.499Z"
   },
   {
    "duration": 28,
    "start_time": "2022-04-05T11:51:15.508Z"
   },
   {
    "duration": 6,
    "start_time": "2022-04-05T11:51:15.538Z"
   },
   {
    "duration": 2592,
    "start_time": "2022-04-05T11:51:15.547Z"
   },
   {
    "duration": 286,
    "start_time": "2022-04-05T11:51:18.141Z"
   },
   {
    "duration": 7,
    "start_time": "2022-04-05T11:51:18.429Z"
   },
   {
    "duration": 66,
    "start_time": "2022-04-05T11:51:18.441Z"
   },
   {
    "duration": 804,
    "start_time": "2022-04-05T11:51:18.509Z"
   },
   {
    "duration": 490,
    "start_time": "2022-04-05T11:51:19.315Z"
   },
   {
    "duration": 521,
    "start_time": "2022-04-05T11:51:19.807Z"
   },
   {
    "duration": 19,
    "start_time": "2022-04-05T11:51:20.331Z"
   },
   {
    "duration": 209,
    "start_time": "2022-04-05T11:51:20.352Z"
   },
   {
    "duration": 203,
    "start_time": "2022-04-05T11:51:20.563Z"
   },
   {
    "duration": 18,
    "start_time": "2022-04-05T11:51:20.768Z"
   },
   {
    "duration": 6,
    "start_time": "2022-04-05T11:51:20.788Z"
   },
   {
    "duration": 342,
    "start_time": "2022-04-05T11:51:20.797Z"
   },
   {
    "duration": 337,
    "start_time": "2022-04-05T11:51:21.142Z"
   },
   {
    "duration": 9,
    "start_time": "2022-04-05T11:51:21.482Z"
   },
   {
    "duration": 11,
    "start_time": "2022-04-05T11:51:21.493Z"
   },
   {
    "duration": 298,
    "start_time": "2022-04-05T11:51:21.506Z"
   },
   {
    "duration": 299,
    "start_time": "2022-04-05T11:51:21.807Z"
   },
   {
    "duration": 24,
    "start_time": "2022-04-05T11:51:22.109Z"
   },
   {
    "duration": 27,
    "start_time": "2022-04-05T11:51:22.135Z"
   },
   {
    "duration": 23,
    "start_time": "2022-04-05T11:51:22.183Z"
   },
   {
    "duration": 20,
    "start_time": "2022-04-05T11:51:22.208Z"
   },
   {
    "duration": 23,
    "start_time": "2022-04-05T11:51:22.230Z"
   },
   {
    "duration": 18,
    "start_time": "2022-04-05T11:51:22.285Z"
   },
   {
    "duration": 647,
    "start_time": "2022-04-05T11:51:22.305Z"
   },
   {
    "duration": 10,
    "start_time": "2022-04-05T11:51:22.954Z"
   },
   {
    "duration": 27,
    "start_time": "2022-04-05T11:51:22.965Z"
   },
   {
    "duration": 35,
    "start_time": "2022-04-05T11:51:22.994Z"
   },
   {
    "duration": 18,
    "start_time": "2022-04-05T11:51:23.031Z"
   },
   {
    "duration": 11,
    "start_time": "2022-04-05T11:52:07.804Z"
   },
   {
    "duration": 8,
    "start_time": "2022-04-05T11:52:09.459Z"
   },
   {
    "duration": 62,
    "start_time": "2022-04-05T11:53:00.747Z"
   },
   {
    "duration": 576,
    "start_time": "2022-04-05T11:53:27.043Z"
   },
   {
    "duration": 538,
    "start_time": "2022-04-05T11:53:46.014Z"
   },
   {
    "duration": 6,
    "start_time": "2022-04-05T11:55:03.469Z"
   },
   {
    "duration": 3,
    "start_time": "2022-04-05T11:55:17.837Z"
   },
   {
    "duration": 72,
    "start_time": "2022-04-05T11:55:17.843Z"
   },
   {
    "duration": 20,
    "start_time": "2022-04-05T11:55:17.917Z"
   },
   {
    "duration": 49,
    "start_time": "2022-04-05T11:55:17.940Z"
   },
   {
    "duration": 17,
    "start_time": "2022-04-05T11:55:17.992Z"
   },
   {
    "duration": 18,
    "start_time": "2022-04-05T11:55:18.011Z"
   },
   {
    "duration": 26,
    "start_time": "2022-04-05T11:55:18.031Z"
   },
   {
    "duration": 27,
    "start_time": "2022-04-05T11:55:18.059Z"
   },
   {
    "duration": 18,
    "start_time": "2022-04-05T11:55:18.089Z"
   },
   {
    "duration": 20,
    "start_time": "2022-04-05T11:55:18.109Z"
   },
   {
    "duration": 12,
    "start_time": "2022-04-05T11:55:18.131Z"
   },
   {
    "duration": 26,
    "start_time": "2022-04-05T11:55:18.145Z"
   },
   {
    "duration": 40,
    "start_time": "2022-04-05T11:55:18.173Z"
   },
   {
    "duration": 5908,
    "start_time": "2022-04-05T11:55:18.215Z"
   },
   {
    "duration": 6,
    "start_time": "2022-04-05T11:55:24.125Z"
   },
   {
    "duration": 5000,
    "start_time": "2022-04-05T11:55:24.133Z"
   },
   {
    "duration": 6,
    "start_time": "2022-04-05T11:55:29.136Z"
   },
   {
    "duration": 24,
    "start_time": "2022-04-05T11:55:29.144Z"
   },
   {
    "duration": 46,
    "start_time": "2022-04-05T11:55:29.171Z"
   },
   {
    "duration": 15,
    "start_time": "2022-04-05T11:55:29.219Z"
   },
   {
    "duration": 18,
    "start_time": "2022-04-05T11:55:29.236Z"
   },
   {
    "duration": 545,
    "start_time": "2022-04-05T11:55:29.257Z"
   },
   {
    "duration": 7,
    "start_time": "2022-04-05T11:55:29.804Z"
   },
   {
    "duration": 23,
    "start_time": "2022-04-05T11:55:29.817Z"
   },
   {
    "duration": 6,
    "start_time": "2022-04-05T11:55:29.842Z"
   },
   {
    "duration": 2842,
    "start_time": "2022-04-05T11:55:29.850Z"
   },
   {
    "duration": 309,
    "start_time": "2022-04-05T11:55:32.695Z"
   },
   {
    "duration": 6,
    "start_time": "2022-04-05T11:55:33.006Z"
   },
   {
    "duration": 71,
    "start_time": "2022-04-05T11:55:33.014Z"
   },
   {
    "duration": 539,
    "start_time": "2022-04-05T11:55:33.088Z"
   },
   {
    "duration": 506,
    "start_time": "2022-04-05T11:55:33.630Z"
   },
   {
    "duration": 592,
    "start_time": "2022-04-05T11:55:34.139Z"
   },
   {
    "duration": 15,
    "start_time": "2022-04-05T11:55:34.734Z"
   },
   {
    "duration": 233,
    "start_time": "2022-04-05T11:55:34.751Z"
   },
   {
    "duration": 209,
    "start_time": "2022-04-05T11:55:34.987Z"
   },
   {
    "duration": 8,
    "start_time": "2022-04-05T11:55:35.199Z"
   },
   {
    "duration": 47,
    "start_time": "2022-04-05T11:55:35.209Z"
   },
   {
    "duration": 221,
    "start_time": "2022-04-05T11:55:35.258Z"
   },
   {
    "duration": 205,
    "start_time": "2022-04-05T11:55:35.481Z"
   },
   {
    "duration": 8,
    "start_time": "2022-04-05T11:55:35.688Z"
   },
   {
    "duration": 10,
    "start_time": "2022-04-05T11:55:35.699Z"
   },
   {
    "duration": 343,
    "start_time": "2022-04-05T11:55:35.711Z"
   },
   {
    "duration": 300,
    "start_time": "2022-04-05T11:55:36.056Z"
   },
   {
    "duration": 35,
    "start_time": "2022-04-05T11:55:36.358Z"
   },
   {
    "duration": 31,
    "start_time": "2022-04-05T11:55:36.395Z"
   },
   {
    "duration": 44,
    "start_time": "2022-04-05T11:55:36.428Z"
   },
   {
    "duration": 20,
    "start_time": "2022-04-05T11:55:36.474Z"
   },
   {
    "duration": 37,
    "start_time": "2022-04-05T11:55:36.496Z"
   },
   {
    "duration": 43,
    "start_time": "2022-04-05T11:55:36.536Z"
   },
   {
    "duration": 31,
    "start_time": "2022-04-05T11:55:36.581Z"
   },
   {
    "duration": 17,
    "start_time": "2022-04-05T11:55:36.614Z"
   },
   {
    "duration": 13,
    "start_time": "2022-04-05T11:55:36.634Z"
   },
   {
    "duration": 18,
    "start_time": "2022-04-05T11:55:36.650Z"
   },
   {
    "duration": 12,
    "start_time": "2022-04-05T11:55:36.670Z"
   },
   {
    "duration": 12,
    "start_time": "2022-04-05T11:57:25.438Z"
   },
   {
    "duration": 4,
    "start_time": "2022-04-05T11:57:32.903Z"
   },
   {
    "duration": 74,
    "start_time": "2022-04-05T11:57:32.909Z"
   },
   {
    "duration": 20,
    "start_time": "2022-04-05T11:57:32.986Z"
   },
   {
    "duration": 38,
    "start_time": "2022-04-05T11:57:33.008Z"
   },
   {
    "duration": 15,
    "start_time": "2022-04-05T11:57:33.049Z"
   },
   {
    "duration": 18,
    "start_time": "2022-04-05T11:57:33.066Z"
   },
   {
    "duration": 32,
    "start_time": "2022-04-05T11:57:33.086Z"
   },
   {
    "duration": 30,
    "start_time": "2022-04-05T11:57:33.121Z"
   },
   {
    "duration": 20,
    "start_time": "2022-04-05T11:57:33.154Z"
   },
   {
    "duration": 14,
    "start_time": "2022-04-05T11:57:33.176Z"
   },
   {
    "duration": 8,
    "start_time": "2022-04-05T11:57:33.193Z"
   },
   {
    "duration": 16,
    "start_time": "2022-04-05T11:57:33.203Z"
   },
   {
    "duration": 39,
    "start_time": "2022-04-05T11:57:33.221Z"
   },
   {
    "duration": 6101,
    "start_time": "2022-04-05T11:57:33.264Z"
   },
   {
    "duration": 6,
    "start_time": "2022-04-05T11:57:39.367Z"
   },
   {
    "duration": 5173,
    "start_time": "2022-04-05T11:57:39.385Z"
   },
   {
    "duration": 6,
    "start_time": "2022-04-05T11:57:44.560Z"
   },
   {
    "duration": 15,
    "start_time": "2022-04-05T11:57:44.568Z"
   },
   {
    "duration": 14,
    "start_time": "2022-04-05T11:57:44.586Z"
   },
   {
    "duration": 10,
    "start_time": "2022-04-05T11:57:44.602Z"
   },
   {
    "duration": 14,
    "start_time": "2022-04-05T11:57:44.615Z"
   },
   {
    "duration": 565,
    "start_time": "2022-04-05T11:57:44.631Z"
   },
   {
    "duration": 7,
    "start_time": "2022-04-05T11:57:45.198Z"
   },
   {
    "duration": 33,
    "start_time": "2022-04-05T11:57:45.207Z"
   },
   {
    "duration": 6,
    "start_time": "2022-04-05T11:57:45.242Z"
   },
   {
    "duration": 2661,
    "start_time": "2022-04-05T11:57:45.250Z"
   },
   {
    "duration": 300,
    "start_time": "2022-04-05T11:57:47.913Z"
   },
   {
    "duration": 5,
    "start_time": "2022-04-05T11:57:48.216Z"
   },
   {
    "duration": 57,
    "start_time": "2022-04-05T11:57:48.223Z"
   },
   {
    "duration": 427,
    "start_time": "2022-04-05T11:57:48.283Z"
   },
   {
    "duration": 434,
    "start_time": "2022-04-05T11:57:48.712Z"
   },
   {
    "duration": 387,
    "start_time": "2022-04-05T11:57:49.148Z"
   },
   {
    "duration": 366,
    "start_time": "2022-04-05T11:59:03.199Z"
   },
   {
    "duration": 17,
    "start_time": "2022-04-05T12:00:03.823Z"
   },
   {
    "duration": 188,
    "start_time": "2022-04-05T12:00:21.050Z"
   },
   {
    "duration": 181,
    "start_time": "2022-04-05T12:00:27.655Z"
   },
   {
    "duration": 9,
    "start_time": "2022-04-05T12:00:32.275Z"
   },
   {
    "duration": 7,
    "start_time": "2022-04-05T12:00:35.560Z"
   },
   {
    "duration": 186,
    "start_time": "2022-04-05T12:00:43.922Z"
   },
   {
    "duration": 198,
    "start_time": "2022-04-05T12:00:49.936Z"
   },
   {
    "duration": 8,
    "start_time": "2022-04-05T12:01:00.586Z"
   },
   {
    "duration": 306,
    "start_time": "2022-04-05T12:01:23.480Z"
   },
   {
    "duration": 293,
    "start_time": "2022-04-05T12:01:35.295Z"
   },
   {
    "duration": 24,
    "start_time": "2022-04-05T12:02:01.904Z"
   },
   {
    "duration": 20,
    "start_time": "2022-04-05T12:02:07.369Z"
   },
   {
    "duration": 25,
    "start_time": "2022-04-05T12:02:14.329Z"
   },
   {
    "duration": 20,
    "start_time": "2022-04-05T12:02:20.113Z"
   },
   {
    "duration": 4,
    "start_time": "2022-04-05T12:03:35.662Z"
   },
   {
    "duration": 72,
    "start_time": "2022-04-05T12:03:35.669Z"
   },
   {
    "duration": 21,
    "start_time": "2022-04-05T12:03:35.744Z"
   },
   {
    "duration": 22,
    "start_time": "2022-04-05T12:03:35.783Z"
   },
   {
    "duration": 10,
    "start_time": "2022-04-05T12:03:35.807Z"
   },
   {
    "duration": 8,
    "start_time": "2022-04-05T12:03:35.820Z"
   },
   {
    "duration": 17,
    "start_time": "2022-04-05T12:03:35.830Z"
   },
   {
    "duration": 41,
    "start_time": "2022-04-05T12:03:35.850Z"
   },
   {
    "duration": 13,
    "start_time": "2022-04-05T12:03:35.894Z"
   },
   {
    "duration": 15,
    "start_time": "2022-04-05T12:03:35.909Z"
   },
   {
    "duration": 8,
    "start_time": "2022-04-05T12:03:35.926Z"
   },
   {
    "duration": 10,
    "start_time": "2022-04-05T12:03:35.936Z"
   },
   {
    "duration": 64,
    "start_time": "2022-04-05T12:03:35.948Z"
   },
   {
    "duration": 5839,
    "start_time": "2022-04-05T12:03:36.014Z"
   },
   {
    "duration": 6,
    "start_time": "2022-04-05T12:03:41.855Z"
   },
   {
    "duration": 4895,
    "start_time": "2022-04-05T12:03:41.863Z"
   },
   {
    "duration": 6,
    "start_time": "2022-04-05T12:03:46.760Z"
   },
   {
    "duration": 5,
    "start_time": "2022-04-05T12:03:46.783Z"
   },
   {
    "duration": 32,
    "start_time": "2022-04-05T12:03:46.790Z"
   },
   {
    "duration": 29,
    "start_time": "2022-04-05T12:03:46.824Z"
   },
   {
    "duration": 28,
    "start_time": "2022-04-05T12:03:46.856Z"
   },
   {
    "duration": 771,
    "start_time": "2022-04-05T12:03:46.886Z"
   },
   {
    "duration": 9,
    "start_time": "2022-04-05T12:03:47.660Z"
   },
   {
    "duration": 53,
    "start_time": "2022-04-05T12:03:47.674Z"
   },
   {
    "duration": 7,
    "start_time": "2022-04-05T12:03:47.729Z"
   },
   {
    "duration": 2424,
    "start_time": "2022-04-05T12:03:47.739Z"
   },
   {
    "duration": 293,
    "start_time": "2022-04-05T12:03:50.165Z"
   },
   {
    "duration": 6,
    "start_time": "2022-04-05T12:03:50.461Z"
   },
   {
    "duration": 33,
    "start_time": "2022-04-05T12:03:50.484Z"
   },
   {
    "duration": 472,
    "start_time": "2022-04-05T12:03:50.520Z"
   },
   {
    "duration": 450,
    "start_time": "2022-04-05T12:03:50.995Z"
   },
   {
    "duration": 382,
    "start_time": "2022-04-05T12:03:51.447Z"
   },
   {
    "duration": 17,
    "start_time": "2022-04-05T12:03:51.832Z"
   },
   {
    "duration": 219,
    "start_time": "2022-04-05T12:03:51.851Z"
   },
   {
    "duration": 210,
    "start_time": "2022-04-05T12:03:52.073Z"
   },
   {
    "duration": 7,
    "start_time": "2022-04-05T12:03:52.286Z"
   },
   {
    "duration": 27,
    "start_time": "2022-04-05T12:03:52.296Z"
   },
   {
    "duration": 475,
    "start_time": "2022-04-05T12:03:52.325Z"
   },
   {
    "duration": 209,
    "start_time": "2022-04-05T12:03:52.802Z"
   },
   {
    "duration": 8,
    "start_time": "2022-04-05T12:03:53.013Z"
   },
   {
    "duration": 41,
    "start_time": "2022-04-05T12:03:53.024Z"
   },
   {
    "duration": 332,
    "start_time": "2022-04-05T12:03:53.067Z"
   },
   {
    "duration": 328,
    "start_time": "2022-04-05T12:03:53.401Z"
   },
   {
    "duration": 25,
    "start_time": "2022-04-05T12:03:53.731Z"
   },
   {
    "duration": 49,
    "start_time": "2022-04-05T12:03:53.758Z"
   },
   {
    "duration": 64,
    "start_time": "2022-04-05T12:03:53.809Z"
   },
   {
    "duration": 54,
    "start_time": "2022-04-05T12:03:53.875Z"
   },
   {
    "duration": 46,
    "start_time": "2022-04-05T12:03:53.931Z"
   },
   {
    "duration": 46,
    "start_time": "2022-04-05T12:03:53.979Z"
   },
   {
    "duration": 21,
    "start_time": "2022-04-05T12:03:54.028Z"
   },
   {
    "duration": 50,
    "start_time": "2022-04-05T12:03:54.052Z"
   },
   {
    "duration": 42,
    "start_time": "2022-04-05T12:03:54.105Z"
   },
   {
    "duration": 47,
    "start_time": "2022-04-05T12:03:54.149Z"
   },
   {
    "duration": 29,
    "start_time": "2022-04-05T12:03:54.199Z"
   },
   {
    "duration": 17,
    "start_time": "2022-04-05T12:05:07.330Z"
   },
   {
    "duration": 3,
    "start_time": "2022-04-05T12:06:25.523Z"
   },
   {
    "duration": 54,
    "start_time": "2022-04-05T12:06:25.530Z"
   },
   {
    "duration": 21,
    "start_time": "2022-04-05T12:06:25.586Z"
   },
   {
    "duration": 23,
    "start_time": "2022-04-05T12:06:25.609Z"
   },
   {
    "duration": 14,
    "start_time": "2022-04-05T12:06:25.635Z"
   },
   {
    "duration": 33,
    "start_time": "2022-04-05T12:06:25.652Z"
   },
   {
    "duration": 30,
    "start_time": "2022-04-05T12:06:25.687Z"
   },
   {
    "duration": 26,
    "start_time": "2022-04-05T12:06:25.720Z"
   },
   {
    "duration": 9,
    "start_time": "2022-04-05T12:06:25.748Z"
   },
   {
    "duration": 35,
    "start_time": "2022-04-05T12:06:25.759Z"
   },
   {
    "duration": 18,
    "start_time": "2022-04-05T12:06:25.796Z"
   },
   {
    "duration": 9,
    "start_time": "2022-04-05T12:06:25.817Z"
   },
   {
    "duration": 34,
    "start_time": "2022-04-05T12:06:25.829Z"
   },
   {
    "duration": 5953,
    "start_time": "2022-04-05T12:06:25.887Z"
   },
   {
    "duration": 6,
    "start_time": "2022-04-05T12:06:31.843Z"
   },
   {
    "duration": 4813,
    "start_time": "2022-04-05T12:06:31.852Z"
   },
   {
    "duration": 7,
    "start_time": "2022-04-05T12:06:36.668Z"
   },
   {
    "duration": 24,
    "start_time": "2022-04-05T12:06:36.685Z"
   },
   {
    "duration": 26,
    "start_time": "2022-04-05T12:06:36.712Z"
   },
   {
    "duration": 31,
    "start_time": "2022-04-05T12:06:36.740Z"
   },
   {
    "duration": 26,
    "start_time": "2022-04-05T12:06:36.774Z"
   },
   {
    "duration": 538,
    "start_time": "2022-04-05T12:06:36.803Z"
   },
   {
    "duration": 7,
    "start_time": "2022-04-05T12:06:37.343Z"
   },
   {
    "duration": 46,
    "start_time": "2022-04-05T12:06:37.352Z"
   },
   {
    "duration": 10,
    "start_time": "2022-04-05T12:06:37.400Z"
   },
   {
    "duration": 2664,
    "start_time": "2022-04-05T12:06:37.412Z"
   },
   {
    "duration": 354,
    "start_time": "2022-04-05T12:06:40.078Z"
   },
   {
    "duration": 7,
    "start_time": "2022-04-05T12:06:40.435Z"
   },
   {
    "duration": 52,
    "start_time": "2022-04-05T12:06:40.444Z"
   },
   {
    "duration": 399,
    "start_time": "2022-04-05T12:06:40.498Z"
   },
   {
    "duration": 444,
    "start_time": "2022-04-05T12:06:40.899Z"
   },
   {
    "duration": 581,
    "start_time": "2022-04-05T12:06:41.346Z"
   },
   {
    "duration": 19,
    "start_time": "2022-04-05T12:06:41.930Z"
   },
   {
    "duration": 207,
    "start_time": "2022-04-05T12:06:41.951Z"
   },
   {
    "duration": 227,
    "start_time": "2022-04-05T12:06:42.160Z"
   },
   {
    "duration": 7,
    "start_time": "2022-04-05T12:06:42.389Z"
   },
   {
    "duration": 10,
    "start_time": "2022-04-05T12:06:42.398Z"
   },
   {
    "duration": 230,
    "start_time": "2022-04-05T12:06:42.410Z"
   },
   {
    "duration": 237,
    "start_time": "2022-04-05T12:06:42.642Z"
   },
   {
    "duration": 7,
    "start_time": "2022-04-05T12:06:42.883Z"
   },
   {
    "duration": 9,
    "start_time": "2022-04-05T12:06:42.896Z"
   },
   {
    "duration": 319,
    "start_time": "2022-04-05T12:06:42.907Z"
   },
   {
    "duration": 321,
    "start_time": "2022-04-05T12:06:43.229Z"
   },
   {
    "duration": 33,
    "start_time": "2022-04-05T12:06:43.553Z"
   },
   {
    "duration": 32,
    "start_time": "2022-04-05T12:06:43.588Z"
   },
   {
    "duration": 23,
    "start_time": "2022-04-05T12:06:43.623Z"
   },
   {
    "duration": 51,
    "start_time": "2022-04-05T12:06:43.648Z"
   },
   {
    "duration": 36,
    "start_time": "2022-04-05T12:06:43.702Z"
   },
   {
    "duration": 58,
    "start_time": "2022-04-05T12:06:43.740Z"
   },
   {
    "duration": 12,
    "start_time": "2022-04-05T12:06:43.800Z"
   },
   {
    "duration": 11,
    "start_time": "2022-04-05T12:06:43.814Z"
   },
   {
    "duration": 11,
    "start_time": "2022-04-05T12:06:43.827Z"
   },
   {
    "duration": 12,
    "start_time": "2022-04-05T12:06:43.841Z"
   },
   {
    "duration": 29,
    "start_time": "2022-04-05T12:06:43.856Z"
   },
   {
    "duration": 308,
    "start_time": "2022-04-05T12:27:25.279Z"
   },
   {
    "duration": 282,
    "start_time": "2022-04-05T12:30:18.060Z"
   },
   {
    "duration": 306,
    "start_time": "2022-04-05T12:30:32.137Z"
   },
   {
    "duration": 310,
    "start_time": "2022-04-05T12:36:57.589Z"
   },
   {
    "duration": 12,
    "start_time": "2022-04-05T17:50:08.421Z"
   },
   {
    "duration": 20,
    "start_time": "2022-04-05T17:50:15.099Z"
   },
   {
    "duration": 7,
    "start_time": "2022-04-05T17:59:00.894Z"
   },
   {
    "duration": 1278,
    "start_time": "2022-04-05T17:59:03.757Z"
   },
   {
    "duration": 355,
    "start_time": "2022-04-05T18:01:48.467Z"
   },
   {
    "duration": 387,
    "start_time": "2022-04-05T18:02:56.260Z"
   },
   {
    "duration": 263,
    "start_time": "2022-04-05T18:15:06.503Z"
   },
   {
    "duration": 9,
    "start_time": "2022-04-05T18:16:00.597Z"
   },
   {
    "duration": 234,
    "start_time": "2022-04-05T18:17:04.718Z"
   },
   {
    "duration": 9,
    "start_time": "2022-04-05T18:17:07.340Z"
   },
   {
    "duration": 421,
    "start_time": "2022-04-06T11:09:22.348Z"
   },
   {
    "duration": 42,
    "start_time": "2022-04-06T11:09:22.771Z"
   },
   {
    "duration": 14,
    "start_time": "2022-04-06T11:09:22.814Z"
   },
   {
    "duration": 20,
    "start_time": "2022-04-06T11:09:22.830Z"
   },
   {
    "duration": 4,
    "start_time": "2022-04-06T11:09:22.852Z"
   },
   {
    "duration": 7,
    "start_time": "2022-04-06T11:09:22.857Z"
   },
   {
    "duration": 21,
    "start_time": "2022-04-06T11:09:22.866Z"
   },
   {
    "duration": 10,
    "start_time": "2022-04-06T11:09:22.888Z"
   },
   {
    "duration": 7,
    "start_time": "2022-04-06T11:09:22.899Z"
   },
   {
    "duration": 9,
    "start_time": "2022-04-06T11:09:22.909Z"
   },
   {
    "duration": 6,
    "start_time": "2022-04-06T11:09:22.920Z"
   },
   {
    "duration": 96,
    "start_time": "2022-04-06T11:09:22.927Z"
   },
   {
    "duration": 3,
    "start_time": "2022-04-06T11:09:34.664Z"
   },
   {
    "duration": 46,
    "start_time": "2022-04-06T11:09:34.668Z"
   },
   {
    "duration": 14,
    "start_time": "2022-04-06T11:09:34.715Z"
   },
   {
    "duration": 13,
    "start_time": "2022-04-06T11:09:34.730Z"
   },
   {
    "duration": 5,
    "start_time": "2022-04-06T11:09:34.745Z"
   },
   {
    "duration": 6,
    "start_time": "2022-04-06T11:09:34.752Z"
   },
   {
    "duration": 8,
    "start_time": "2022-04-06T11:09:34.781Z"
   },
   {
    "duration": 11,
    "start_time": "2022-04-06T11:09:34.791Z"
   },
   {
    "duration": 7,
    "start_time": "2022-04-06T11:09:34.803Z"
   },
   {
    "duration": 8,
    "start_time": "2022-04-06T11:09:34.812Z"
   },
   {
    "duration": 4,
    "start_time": "2022-04-06T11:09:34.824Z"
   },
   {
    "duration": 7,
    "start_time": "2022-04-06T11:09:34.829Z"
   },
   {
    "duration": 52,
    "start_time": "2022-04-06T11:09:34.838Z"
   },
   {
    "duration": 2712,
    "start_time": "2022-04-06T11:09:34.891Z"
   },
   {
    "duration": 4,
    "start_time": "2022-04-06T11:09:37.604Z"
   },
   {
    "duration": 2274,
    "start_time": "2022-04-06T11:09:37.610Z"
   },
   {
    "duration": 4,
    "start_time": "2022-04-06T11:09:39.886Z"
   },
   {
    "duration": 6,
    "start_time": "2022-04-06T11:09:39.891Z"
   },
   {
    "duration": 8,
    "start_time": "2022-04-06T11:09:39.898Z"
   },
   {
    "duration": 4,
    "start_time": "2022-04-06T11:09:39.907Z"
   },
   {
    "duration": 4,
    "start_time": "2022-04-06T11:09:39.913Z"
   },
   {
    "duration": 12,
    "start_time": "2022-04-06T11:09:39.918Z"
   },
   {
    "duration": 750,
    "start_time": "2022-04-06T11:09:39.932Z"
   },
   {
    "duration": 5,
    "start_time": "2022-04-06T11:09:40.684Z"
   },
   {
    "duration": 20,
    "start_time": "2022-04-06T11:09:40.690Z"
   },
   {
    "duration": 4,
    "start_time": "2022-04-06T11:09:40.711Z"
   },
   {
    "duration": 1345,
    "start_time": "2022-04-06T11:09:40.717Z"
   },
   {
    "duration": 5,
    "start_time": "2022-04-06T11:09:42.063Z"
   },
   {
    "duration": 520,
    "start_time": "2022-04-06T11:09:42.080Z"
   },
   {
    "duration": 233,
    "start_time": "2022-04-06T11:09:42.601Z"
   },
   {
    "duration": 4,
    "start_time": "2022-04-06T11:09:42.835Z"
   },
   {
    "duration": 19,
    "start_time": "2022-04-06T11:09:42.841Z"
   },
   {
    "duration": 177,
    "start_time": "2022-04-06T11:09:42.861Z"
   },
   {
    "duration": 197,
    "start_time": "2022-04-06T11:09:43.039Z"
   },
   {
    "duration": 174,
    "start_time": "2022-04-06T11:09:43.238Z"
   },
   {
    "duration": 11,
    "start_time": "2022-04-06T11:09:43.414Z"
   },
   {
    "duration": 118,
    "start_time": "2022-04-06T11:09:43.427Z"
   },
   {
    "duration": 122,
    "start_time": "2022-04-06T11:09:43.546Z"
   },
   {
    "duration": 13,
    "start_time": "2022-04-06T11:09:43.670Z"
   },
   {
    "duration": 12,
    "start_time": "2022-04-06T11:09:43.684Z"
   },
   {
    "duration": 116,
    "start_time": "2022-04-06T11:09:43.698Z"
   },
   {
    "duration": 132,
    "start_time": "2022-04-06T11:09:43.815Z"
   },
   {
    "duration": 4,
    "start_time": "2022-04-06T11:09:43.949Z"
   },
   {
    "duration": 9,
    "start_time": "2022-04-06T11:09:43.955Z"
   },
   {
    "duration": 127,
    "start_time": "2022-04-06T11:09:43.965Z"
   },
   {
    "duration": 6,
    "start_time": "2022-04-06T11:09:44.093Z"
   },
   {
    "duration": 135,
    "start_time": "2022-04-06T11:09:44.101Z"
   },
   {
    "duration": 5,
    "start_time": "2022-04-06T11:09:44.238Z"
   },
   {
    "duration": 174,
    "start_time": "2022-04-06T11:09:44.245Z"
   },
   {
    "duration": 168,
    "start_time": "2022-04-06T11:09:44.420Z"
   },
   {
    "duration": 182,
    "start_time": "2022-04-06T11:09:44.590Z"
   },
   {
    "duration": 17,
    "start_time": "2022-04-06T11:09:44.774Z"
   },
   {
    "duration": 22,
    "start_time": "2022-04-06T11:09:44.792Z"
   },
   {
    "duration": 15,
    "start_time": "2022-04-06T11:09:44.816Z"
   },
   {
    "duration": 14,
    "start_time": "2022-04-06T11:09:44.833Z"
   },
   {
    "duration": 166,
    "start_time": "2022-04-06T11:09:44.849Z"
   },
   {
    "duration": 15,
    "start_time": "2022-04-06T11:09:45.017Z"
   },
   {
    "duration": 434,
    "start_time": "2022-04-06T11:09:45.034Z"
   },
   {
    "duration": 6,
    "start_time": "2022-04-06T11:09:45.470Z"
   },
   {
    "duration": 8,
    "start_time": "2022-04-06T11:09:45.481Z"
   },
   {
    "duration": 6,
    "start_time": "2022-04-06T11:09:45.491Z"
   },
   {
    "duration": 7,
    "start_time": "2022-04-06T11:09:45.499Z"
   },
   {
    "duration": 2,
    "start_time": "2022-04-06T11:11:58.186Z"
   },
   {
    "duration": 45,
    "start_time": "2022-04-06T11:11:58.190Z"
   },
   {
    "duration": 14,
    "start_time": "2022-04-06T11:11:58.237Z"
   },
   {
    "duration": 15,
    "start_time": "2022-04-06T11:11:58.252Z"
   },
   {
    "duration": 16,
    "start_time": "2022-04-06T11:11:58.269Z"
   },
   {
    "duration": 5,
    "start_time": "2022-04-06T11:11:58.287Z"
   },
   {
    "duration": 10,
    "start_time": "2022-04-06T11:11:58.294Z"
   },
   {
    "duration": 12,
    "start_time": "2022-04-06T11:11:58.306Z"
   },
   {
    "duration": 7,
    "start_time": "2022-04-06T11:11:58.320Z"
   },
   {
    "duration": 9,
    "start_time": "2022-04-06T11:11:58.329Z"
   },
   {
    "duration": 5,
    "start_time": "2022-04-06T11:11:58.342Z"
   },
   {
    "duration": 37,
    "start_time": "2022-04-06T11:11:58.349Z"
   },
   {
    "duration": 22,
    "start_time": "2022-04-06T11:11:58.388Z"
   },
   {
    "duration": 3,
    "start_time": "2022-04-06T11:11:58.411Z"
   },
   {
    "duration": 5,
    "start_time": "2022-04-06T11:11:58.416Z"
   },
   {
    "duration": 5,
    "start_time": "2022-04-06T11:12:17.625Z"
   },
   {
    "duration": 3,
    "start_time": "2022-04-06T11:13:29.612Z"
   },
   {
    "duration": 490,
    "start_time": "2022-04-06T11:13:29.617Z"
   },
   {
    "duration": 14,
    "start_time": "2022-04-06T11:13:30.109Z"
   },
   {
    "duration": 13,
    "start_time": "2022-04-06T11:13:30.125Z"
   },
   {
    "duration": 10,
    "start_time": "2022-04-06T11:13:30.139Z"
   },
   {
    "duration": 6,
    "start_time": "2022-04-06T11:13:30.150Z"
   },
   {
    "duration": 24,
    "start_time": "2022-04-06T11:13:30.157Z"
   },
   {
    "duration": 13,
    "start_time": "2022-04-06T11:13:30.183Z"
   },
   {
    "duration": 27,
    "start_time": "2022-04-06T11:13:30.198Z"
   },
   {
    "duration": 20,
    "start_time": "2022-04-06T11:13:30.226Z"
   },
   {
    "duration": 5,
    "start_time": "2022-04-06T11:13:30.248Z"
   },
   {
    "duration": 17,
    "start_time": "2022-04-06T11:13:30.255Z"
   },
   {
    "duration": 27,
    "start_time": "2022-04-06T11:13:30.273Z"
   },
   {
    "duration": 2,
    "start_time": "2022-04-06T11:13:30.302Z"
   },
   {
    "duration": 11,
    "start_time": "2022-04-06T11:13:30.306Z"
   },
   {
    "duration": 9,
    "start_time": "2022-04-06T11:13:30.318Z"
   },
   {
    "duration": 19,
    "start_time": "2022-04-06T11:13:30.328Z"
   },
   {
    "duration": 2615,
    "start_time": "2022-04-06T11:13:30.348Z"
   },
   {
    "duration": 5,
    "start_time": "2022-04-06T11:13:32.965Z"
   },
   {
    "duration": 11,
    "start_time": "2022-04-06T11:13:32.971Z"
   },
   {
    "duration": 8,
    "start_time": "2022-04-06T11:13:32.984Z"
   },
   {
    "duration": 7,
    "start_time": "2022-04-06T11:13:32.994Z"
   },
   {
    "duration": 6,
    "start_time": "2022-04-06T11:13:33.003Z"
   },
   {
    "duration": 15,
    "start_time": "2022-04-06T11:13:33.011Z"
   },
   {
    "duration": 325,
    "start_time": "2022-04-06T11:13:33.027Z"
   },
   {
    "duration": 5,
    "start_time": "2022-04-06T11:13:33.354Z"
   },
   {
    "duration": 26,
    "start_time": "2022-04-06T11:13:33.360Z"
   },
   {
    "duration": 4,
    "start_time": "2022-04-06T11:13:33.388Z"
   },
   {
    "duration": 1525,
    "start_time": "2022-04-06T11:13:33.396Z"
   },
   {
    "duration": 4,
    "start_time": "2022-04-06T11:13:34.923Z"
   },
   {
    "duration": 524,
    "start_time": "2022-04-06T11:13:34.929Z"
   },
   {
    "duration": 171,
    "start_time": "2022-04-06T11:13:35.455Z"
   },
   {
    "duration": 4,
    "start_time": "2022-04-06T11:13:35.627Z"
   },
   {
    "duration": 17,
    "start_time": "2022-04-06T11:13:35.633Z"
   },
   {
    "duration": 190,
    "start_time": "2022-04-06T11:13:35.652Z"
   },
   {
    "duration": 198,
    "start_time": "2022-04-06T11:13:35.844Z"
   },
   {
    "duration": 174,
    "start_time": "2022-04-06T11:13:36.044Z"
   },
   {
    "duration": 11,
    "start_time": "2022-04-06T11:13:36.220Z"
   },
   {
    "duration": 260,
    "start_time": "2022-04-06T11:13:36.232Z"
   },
   {
    "duration": 134,
    "start_time": "2022-04-06T11:13:36.493Z"
   },
   {
    "duration": 5,
    "start_time": "2022-04-06T11:13:36.628Z"
   },
   {
    "duration": 7,
    "start_time": "2022-04-06T11:13:36.635Z"
   },
   {
    "duration": 122,
    "start_time": "2022-04-06T11:13:36.643Z"
   },
   {
    "duration": 131,
    "start_time": "2022-04-06T11:13:36.766Z"
   },
   {
    "duration": 5,
    "start_time": "2022-04-06T11:13:36.899Z"
   },
   {
    "duration": 11,
    "start_time": "2022-04-06T11:13:36.905Z"
   },
   {
    "duration": 138,
    "start_time": "2022-04-06T11:13:36.917Z"
   },
   {
    "duration": 5,
    "start_time": "2022-04-06T11:13:37.057Z"
   },
   {
    "duration": 141,
    "start_time": "2022-04-06T11:13:37.064Z"
   },
   {
    "duration": 6,
    "start_time": "2022-04-06T11:13:37.207Z"
   },
   {
    "duration": 267,
    "start_time": "2022-04-06T11:13:37.214Z"
   },
   {
    "duration": 276,
    "start_time": "2022-04-06T11:13:37.484Z"
   },
   {
    "duration": 176,
    "start_time": "2022-04-06T11:13:37.761Z"
   },
   {
    "duration": 15,
    "start_time": "2022-04-06T11:13:37.939Z"
   },
   {
    "duration": 26,
    "start_time": "2022-04-06T11:13:37.955Z"
   },
   {
    "duration": 15,
    "start_time": "2022-04-06T11:13:37.982Z"
   },
   {
    "duration": 12,
    "start_time": "2022-04-06T11:13:37.998Z"
   },
   {
    "duration": 14,
    "start_time": "2022-04-06T11:13:38.012Z"
   },
   {
    "duration": 15,
    "start_time": "2022-04-06T11:13:38.028Z"
   },
   {
    "duration": 2,
    "start_time": "2022-04-06T11:13:38.045Z"
   },
   {
    "duration": 8,
    "start_time": "2022-04-06T11:13:38.081Z"
   },
   {
    "duration": 8,
    "start_time": "2022-04-06T11:13:38.091Z"
   },
   {
    "duration": 6,
    "start_time": "2022-04-06T11:13:38.101Z"
   },
   {
    "duration": 8,
    "start_time": "2022-04-06T11:13:38.110Z"
   },
   {
    "duration": 3,
    "start_time": "2022-04-06T11:18:53.994Z"
   },
   {
    "duration": 52,
    "start_time": "2022-04-06T11:18:54.001Z"
   },
   {
    "duration": 13,
    "start_time": "2022-04-06T11:18:54.055Z"
   },
   {
    "duration": 15,
    "start_time": "2022-04-06T11:18:54.069Z"
   },
   {
    "duration": 4,
    "start_time": "2022-04-06T11:18:54.086Z"
   },
   {
    "duration": 5,
    "start_time": "2022-04-06T11:18:54.092Z"
   },
   {
    "duration": 10,
    "start_time": "2022-04-06T11:18:54.098Z"
   },
   {
    "duration": 7,
    "start_time": "2022-04-06T11:18:54.110Z"
   },
   {
    "duration": 6,
    "start_time": "2022-04-06T11:18:54.119Z"
   },
   {
    "duration": 7,
    "start_time": "2022-04-06T11:18:54.127Z"
   },
   {
    "duration": 4,
    "start_time": "2022-04-06T11:18:54.137Z"
   },
   {
    "duration": 40,
    "start_time": "2022-04-06T11:18:54.143Z"
   },
   {
    "duration": 21,
    "start_time": "2022-04-06T11:18:54.185Z"
   },
   {
    "duration": 5,
    "start_time": "2022-04-06T11:18:54.208Z"
   },
   {
    "duration": 9,
    "start_time": "2022-04-06T11:18:54.215Z"
   },
   {
    "duration": 7,
    "start_time": "2022-04-06T11:18:54.225Z"
   },
   {
    "duration": 6,
    "start_time": "2022-04-06T11:18:54.234Z"
   },
   {
    "duration": 2461,
    "start_time": "2022-04-06T11:18:54.241Z"
   },
   {
    "duration": 4,
    "start_time": "2022-04-06T11:18:56.704Z"
   },
   {
    "duration": 4,
    "start_time": "2022-04-06T11:18:56.709Z"
   },
   {
    "duration": 8,
    "start_time": "2022-04-06T11:18:56.714Z"
   },
   {
    "duration": 8,
    "start_time": "2022-04-06T11:18:56.723Z"
   },
   {
    "duration": 5,
    "start_time": "2022-04-06T11:18:56.732Z"
   },
   {
    "duration": 12,
    "start_time": "2022-04-06T11:18:56.738Z"
   },
   {
    "duration": 302,
    "start_time": "2022-04-06T11:18:56.751Z"
   },
   {
    "duration": 5,
    "start_time": "2022-04-06T11:18:57.055Z"
   },
   {
    "duration": 28,
    "start_time": "2022-04-06T11:18:57.061Z"
   },
   {
    "duration": 4,
    "start_time": "2022-04-06T11:18:57.090Z"
   },
   {
    "duration": 1455,
    "start_time": "2022-04-06T11:18:57.098Z"
   },
   {
    "duration": 5,
    "start_time": "2022-04-06T11:18:58.554Z"
   },
   {
    "duration": 522,
    "start_time": "2022-04-06T11:18:58.561Z"
   },
   {
    "duration": 167,
    "start_time": "2022-04-06T11:18:59.085Z"
   },
   {
    "duration": 4,
    "start_time": "2022-04-06T11:18:59.254Z"
   },
   {
    "duration": 22,
    "start_time": "2022-04-06T11:18:59.260Z"
   },
   {
    "duration": 188,
    "start_time": "2022-04-06T11:18:59.283Z"
   },
   {
    "duration": 371,
    "start_time": "2022-04-06T11:18:59.473Z"
   },
   {
    "duration": 174,
    "start_time": "2022-04-06T11:18:59.846Z"
   },
   {
    "duration": 11,
    "start_time": "2022-04-06T11:19:00.022Z"
   },
   {
    "duration": 172,
    "start_time": "2022-04-06T11:19:00.035Z"
   },
   {
    "duration": 186,
    "start_time": "2022-04-06T11:19:00.209Z"
   },
   {
    "duration": 6,
    "start_time": "2022-04-06T11:19:00.397Z"
   },
   {
    "duration": 14,
    "start_time": "2022-04-06T11:19:00.405Z"
   },
   {
    "duration": 159,
    "start_time": "2022-04-06T11:19:00.421Z"
   },
   {
    "duration": 134,
    "start_time": "2022-04-06T11:19:00.582Z"
   },
   {
    "duration": 5,
    "start_time": "2022-04-06T11:19:00.718Z"
   },
   {
    "duration": 14,
    "start_time": "2022-04-06T11:19:00.724Z"
   },
   {
    "duration": 130,
    "start_time": "2022-04-06T11:19:00.740Z"
   },
   {
    "duration": 12,
    "start_time": "2022-04-06T11:19:00.871Z"
   },
   {
    "duration": 134,
    "start_time": "2022-04-06T11:19:00.884Z"
   },
   {
    "duration": 6,
    "start_time": "2022-04-06T11:19:01.019Z"
   },
   {
    "duration": 172,
    "start_time": "2022-04-06T11:19:01.026Z"
   },
   {
    "duration": 175,
    "start_time": "2022-04-06T11:19:01.200Z"
   },
   {
    "duration": 174,
    "start_time": "2022-04-06T11:19:01.376Z"
   },
   {
    "duration": 15,
    "start_time": "2022-04-06T11:19:01.552Z"
   },
   {
    "duration": 12,
    "start_time": "2022-04-06T11:19:01.581Z"
   },
   {
    "duration": 23,
    "start_time": "2022-04-06T11:19:01.595Z"
   },
   {
    "duration": 37,
    "start_time": "2022-04-06T11:19:01.619Z"
   },
   {
    "duration": 36,
    "start_time": "2022-04-06T11:19:01.658Z"
   },
   {
    "duration": 14,
    "start_time": "2022-04-06T11:19:01.696Z"
   },
   {
    "duration": 13,
    "start_time": "2022-04-06T11:19:01.712Z"
   },
   {
    "duration": 33,
    "start_time": "2022-04-06T11:19:01.726Z"
   },
   {
    "duration": 14,
    "start_time": "2022-04-06T11:19:01.760Z"
   },
   {
    "duration": 17,
    "start_time": "2022-04-06T11:19:01.775Z"
   },
   {
    "duration": 9,
    "start_time": "2022-04-06T11:19:01.793Z"
   },
   {
    "duration": 4,
    "start_time": "2022-04-06T11:25:23.343Z"
   },
   {
    "duration": 3,
    "start_time": "2022-04-06T11:25:27.933Z"
   },
   {
    "duration": 42,
    "start_time": "2022-04-06T11:25:27.937Z"
   },
   {
    "duration": 13,
    "start_time": "2022-04-06T11:25:27.981Z"
   },
   {
    "duration": 13,
    "start_time": "2022-04-06T11:25:27.995Z"
   },
   {
    "duration": 4,
    "start_time": "2022-04-06T11:25:28.010Z"
   },
   {
    "duration": 3,
    "start_time": "2022-04-06T11:25:28.016Z"
   },
   {
    "duration": 10,
    "start_time": "2022-04-06T11:25:28.021Z"
   },
   {
    "duration": 8,
    "start_time": "2022-04-06T11:25:28.032Z"
   },
   {
    "duration": 7,
    "start_time": "2022-04-06T11:25:28.041Z"
   },
   {
    "duration": 36,
    "start_time": "2022-04-06T11:25:28.049Z"
   },
   {
    "duration": 4,
    "start_time": "2022-04-06T11:25:28.088Z"
   },
   {
    "duration": 8,
    "start_time": "2022-04-06T11:25:28.093Z"
   },
   {
    "duration": 19,
    "start_time": "2022-04-06T11:25:28.102Z"
   },
   {
    "duration": 3,
    "start_time": "2022-04-06T11:25:28.122Z"
   },
   {
    "duration": 5,
    "start_time": "2022-04-06T11:25:28.126Z"
   },
   {
    "duration": 5,
    "start_time": "2022-04-06T11:25:28.133Z"
   },
   {
    "duration": 5,
    "start_time": "2022-04-06T11:25:28.140Z"
   },
   {
    "duration": 2424,
    "start_time": "2022-04-06T11:25:28.146Z"
   },
   {
    "duration": 11,
    "start_time": "2022-04-06T11:25:30.572Z"
   },
   {
    "duration": 18,
    "start_time": "2022-04-06T11:25:30.584Z"
   },
   {
    "duration": 26,
    "start_time": "2022-04-06T11:25:30.604Z"
   },
   {
    "duration": 19,
    "start_time": "2022-04-06T11:25:30.631Z"
   },
   {
    "duration": 33,
    "start_time": "2022-04-06T11:25:30.652Z"
   },
   {
    "duration": 22,
    "start_time": "2022-04-06T11:25:30.687Z"
   },
   {
    "duration": 304,
    "start_time": "2022-04-06T11:25:30.710Z"
   },
   {
    "duration": 4,
    "start_time": "2022-04-06T11:25:31.016Z"
   },
   {
    "duration": 19,
    "start_time": "2022-04-06T11:25:31.022Z"
   },
   {
    "duration": 4,
    "start_time": "2022-04-06T11:25:31.043Z"
   },
   {
    "duration": 1562,
    "start_time": "2022-04-06T11:25:31.050Z"
   },
   {
    "duration": 5,
    "start_time": "2022-04-06T11:25:32.613Z"
   },
   {
    "duration": 515,
    "start_time": "2022-04-06T11:25:32.619Z"
   },
   {
    "duration": 161,
    "start_time": "2022-04-06T11:25:33.136Z"
   },
   {
    "duration": 3,
    "start_time": "2022-04-06T11:25:33.299Z"
   },
   {
    "duration": 21,
    "start_time": "2022-04-06T11:25:33.304Z"
   },
   {
    "duration": 211,
    "start_time": "2022-04-06T11:25:33.327Z"
   },
   {
    "duration": 290,
    "start_time": "2022-04-06T11:25:33.540Z"
   },
   {
    "duration": 285,
    "start_time": "2022-04-06T11:25:33.831Z"
   },
   {
    "duration": 11,
    "start_time": "2022-04-06T11:25:34.118Z"
   },
   {
    "duration": 111,
    "start_time": "2022-04-06T11:25:34.131Z"
   },
   {
    "duration": 121,
    "start_time": "2022-04-06T11:25:34.243Z"
   },
   {
    "duration": 5,
    "start_time": "2022-04-06T11:25:34.365Z"
   },
   {
    "duration": 4,
    "start_time": "2022-04-06T11:25:34.381Z"
   },
   {
    "duration": 118,
    "start_time": "2022-04-06T11:25:34.386Z"
   },
   {
    "duration": 127,
    "start_time": "2022-04-06T11:25:34.505Z"
   },
   {
    "duration": 5,
    "start_time": "2022-04-06T11:25:34.633Z"
   },
   {
    "duration": 8,
    "start_time": "2022-04-06T11:25:34.639Z"
   },
   {
    "duration": 126,
    "start_time": "2022-04-06T11:25:34.648Z"
   },
   {
    "duration": 9,
    "start_time": "2022-04-06T11:25:34.775Z"
   },
   {
    "duration": 126,
    "start_time": "2022-04-06T11:25:34.785Z"
   },
   {
    "duration": 4,
    "start_time": "2022-04-06T11:25:34.913Z"
   },
   {
    "duration": 174,
    "start_time": "2022-04-06T11:25:34.918Z"
   },
   {
    "duration": 171,
    "start_time": "2022-04-06T11:25:35.094Z"
   },
   {
    "duration": 165,
    "start_time": "2022-04-06T11:25:35.266Z"
   },
   {
    "duration": 15,
    "start_time": "2022-04-06T11:25:35.433Z"
   },
   {
    "duration": 11,
    "start_time": "2022-04-06T11:25:35.449Z"
   },
   {
    "duration": 28,
    "start_time": "2022-04-06T11:25:35.461Z"
   },
   {
    "duration": 11,
    "start_time": "2022-04-06T11:25:35.490Z"
   },
   {
    "duration": 13,
    "start_time": "2022-04-06T11:25:35.503Z"
   },
   {
    "duration": 11,
    "start_time": "2022-04-06T11:25:35.518Z"
   },
   {
    "duration": 3,
    "start_time": "2022-04-06T11:25:35.530Z"
   },
   {
    "duration": 8,
    "start_time": "2022-04-06T11:25:35.534Z"
   },
   {
    "duration": 7,
    "start_time": "2022-04-06T11:25:35.543Z"
   },
   {
    "duration": 34,
    "start_time": "2022-04-06T11:25:35.551Z"
   },
   {
    "duration": 6,
    "start_time": "2022-04-06T11:25:35.586Z"
   },
   {
    "duration": 40,
    "start_time": "2022-04-06T11:46:20.134Z"
   },
   {
    "duration": 138,
    "start_time": "2022-04-06T11:48:53.506Z"
   },
   {
    "duration": 67,
    "start_time": "2022-04-06T11:50:43.266Z"
   },
   {
    "duration": 69,
    "start_time": "2022-04-06T11:52:26.035Z"
   },
   {
    "duration": 68,
    "start_time": "2022-04-06T11:52:50.453Z"
   },
   {
    "duration": 15,
    "start_time": "2022-04-06T11:56:49.200Z"
   },
   {
    "duration": 72,
    "start_time": "2022-04-06T11:56:56.262Z"
   },
   {
    "duration": 84,
    "start_time": "2022-04-06T12:02:01.430Z"
   },
   {
    "duration": 113,
    "start_time": "2022-04-06T12:02:47.440Z"
   },
   {
    "duration": 118,
    "start_time": "2022-04-06T12:03:39.227Z"
   },
   {
    "duration": 69,
    "start_time": "2022-04-06T12:03:48.547Z"
   },
   {
    "duration": 81,
    "start_time": "2022-04-06T12:11:00.097Z"
   },
   {
    "duration": 73,
    "start_time": "2022-04-06T12:13:39.081Z"
   },
   {
    "duration": 5,
    "start_time": "2022-04-06T12:17:15.627Z"
   },
   {
    "duration": 10,
    "start_time": "2022-04-06T12:19:41.261Z"
   },
   {
    "duration": 9,
    "start_time": "2022-04-06T12:20:06.710Z"
   },
   {
    "duration": 6,
    "start_time": "2022-04-06T12:20:34.581Z"
   },
   {
    "duration": 8,
    "start_time": "2022-04-06T12:31:39.416Z"
   },
   {
    "duration": 9,
    "start_time": "2022-04-06T12:32:00.303Z"
   },
   {
    "duration": 17,
    "start_time": "2022-04-06T12:32:07.717Z"
   },
   {
    "duration": 14,
    "start_time": "2022-04-06T12:33:47.954Z"
   },
   {
    "duration": 13,
    "start_time": "2022-04-06T12:34:25.472Z"
   },
   {
    "duration": 12,
    "start_time": "2022-04-06T12:40:49.534Z"
   },
   {
    "duration": 12,
    "start_time": "2022-04-06T12:41:17.039Z"
   },
   {
    "duration": 75,
    "start_time": "2022-04-06T12:44:38.342Z"
   },
   {
    "duration": 16,
    "start_time": "2022-04-06T12:44:49.496Z"
   },
   {
    "duration": 77,
    "start_time": "2022-04-06T12:44:53.429Z"
   },
   {
    "duration": 71,
    "start_time": "2022-04-06T12:45:21.090Z"
   },
   {
    "duration": 15,
    "start_time": "2022-04-06T12:45:32.223Z"
   },
   {
    "duration": 3,
    "start_time": "2022-04-06T12:48:40.308Z"
   },
   {
    "duration": 48,
    "start_time": "2022-04-06T12:48:40.337Z"
   },
   {
    "duration": 17,
    "start_time": "2022-04-06T12:48:40.387Z"
   },
   {
    "duration": 17,
    "start_time": "2022-04-06T12:48:40.406Z"
   },
   {
    "duration": 8,
    "start_time": "2022-04-06T12:48:40.425Z"
   },
   {
    "duration": 8,
    "start_time": "2022-04-06T12:48:40.435Z"
   },
   {
    "duration": 15,
    "start_time": "2022-04-06T12:48:40.445Z"
   },
   {
    "duration": 21,
    "start_time": "2022-04-06T12:48:40.462Z"
   },
   {
    "duration": 6,
    "start_time": "2022-04-06T12:48:40.485Z"
   },
   {
    "duration": 12,
    "start_time": "2022-04-06T12:48:40.492Z"
   },
   {
    "duration": 5,
    "start_time": "2022-04-06T12:48:40.506Z"
   },
   {
    "duration": 8,
    "start_time": "2022-04-06T12:48:40.513Z"
   },
   {
    "duration": 21,
    "start_time": "2022-04-06T12:48:40.523Z"
   },
   {
    "duration": 2,
    "start_time": "2022-04-06T12:48:40.546Z"
   },
   {
    "duration": 5,
    "start_time": "2022-04-06T12:48:40.584Z"
   },
   {
    "duration": 8,
    "start_time": "2022-04-06T12:48:40.590Z"
   },
   {
    "duration": 5,
    "start_time": "2022-04-06T12:48:40.599Z"
   },
   {
    "duration": 2512,
    "start_time": "2022-04-06T12:48:40.606Z"
   },
   {
    "duration": 4,
    "start_time": "2022-04-06T12:48:43.120Z"
   },
   {
    "duration": 6,
    "start_time": "2022-04-06T12:48:43.125Z"
   },
   {
    "duration": 7,
    "start_time": "2022-04-06T12:48:43.133Z"
   },
   {
    "duration": 4,
    "start_time": "2022-04-06T12:48:43.141Z"
   },
   {
    "duration": 5,
    "start_time": "2022-04-06T12:48:43.147Z"
   },
   {
    "duration": 34,
    "start_time": "2022-04-06T12:48:43.153Z"
   },
   {
    "duration": 302,
    "start_time": "2022-04-06T12:48:43.188Z"
   },
   {
    "duration": 5,
    "start_time": "2022-04-06T12:48:43.491Z"
   },
   {
    "duration": 20,
    "start_time": "2022-04-06T12:48:43.497Z"
   },
   {
    "duration": 7,
    "start_time": "2022-04-06T12:48:43.518Z"
   },
   {
    "duration": 1428,
    "start_time": "2022-04-06T12:48:43.527Z"
   },
   {
    "duration": 5,
    "start_time": "2022-04-06T12:48:44.956Z"
   },
   {
    "duration": 1118,
    "start_time": "2022-04-06T12:48:44.963Z"
   },
   {
    "duration": 248,
    "start_time": "2022-04-06T12:48:46.083Z"
   },
   {
    "duration": 5,
    "start_time": "2022-04-06T12:48:46.332Z"
   },
   {
    "duration": 23,
    "start_time": "2022-04-06T12:48:46.338Z"
   },
   {
    "duration": 330,
    "start_time": "2022-04-06T12:48:46.362Z"
   },
   {
    "duration": 354,
    "start_time": "2022-04-06T12:48:46.697Z"
   },
   {
    "duration": 431,
    "start_time": "2022-04-06T12:48:47.052Z"
   },
   {
    "duration": 13,
    "start_time": "2022-04-06T12:48:47.485Z"
   },
   {
    "duration": 156,
    "start_time": "2022-04-06T12:48:47.499Z"
   },
   {
    "duration": 169,
    "start_time": "2022-04-06T12:48:47.657Z"
   },
   {
    "duration": 6,
    "start_time": "2022-04-06T12:48:47.828Z"
   },
   {
    "duration": 8,
    "start_time": "2022-04-06T12:48:47.835Z"
   },
   {
    "duration": 166,
    "start_time": "2022-04-06T12:48:47.845Z"
   },
   {
    "duration": 181,
    "start_time": "2022-04-06T12:48:48.013Z"
   },
   {
    "duration": 5,
    "start_time": "2022-04-06T12:48:48.196Z"
   },
   {
    "duration": 8,
    "start_time": "2022-04-06T12:48:48.202Z"
   },
   {
    "duration": 137,
    "start_time": "2022-04-06T12:48:48.211Z"
   },
   {
    "duration": 5,
    "start_time": "2022-04-06T12:48:48.350Z"
   },
   {
    "duration": 136,
    "start_time": "2022-04-06T12:48:48.357Z"
   },
   {
    "duration": 6,
    "start_time": "2022-04-06T12:48:48.495Z"
   },
   {
    "duration": 168,
    "start_time": "2022-04-06T12:48:48.503Z"
   },
   {
    "duration": 170,
    "start_time": "2022-04-06T12:48:48.681Z"
   },
   {
    "duration": 230,
    "start_time": "2022-04-06T12:48:48.853Z"
   },
   {
    "duration": 17,
    "start_time": "2022-04-06T12:48:49.084Z"
   },
   {
    "duration": 101,
    "start_time": "2022-04-06T12:48:49.103Z"
   },
   {
    "duration": 13,
    "start_time": "2022-04-06T12:48:49.205Z"
   },
   {
    "duration": 136,
    "start_time": "2022-04-06T12:48:49.220Z"
   },
   {
    "duration": 8,
    "start_time": "2022-04-06T12:48:49.357Z"
   },
   {
    "duration": 26,
    "start_time": "2022-04-06T12:48:49.366Z"
   },
   {
    "duration": 16,
    "start_time": "2022-04-06T12:48:49.394Z"
   },
   {
    "duration": 91,
    "start_time": "2022-04-06T12:48:49.412Z"
   },
   {
    "duration": 13,
    "start_time": "2022-04-06T12:48:49.505Z"
   },
   {
    "duration": 13,
    "start_time": "2022-04-06T12:48:49.519Z"
   },
   {
    "duration": 14,
    "start_time": "2022-04-06T12:48:49.534Z"
   },
   {
    "duration": 93,
    "start_time": "2022-04-06T12:48:49.549Z"
   },
   {
    "duration": 14,
    "start_time": "2022-04-06T12:48:49.645Z"
   },
   {
    "duration": 29,
    "start_time": "2022-04-06T12:48:49.661Z"
   },
   {
    "duration": 3,
    "start_time": "2022-04-06T12:48:49.691Z"
   },
   {
    "duration": 7,
    "start_time": "2022-04-06T12:48:49.696Z"
   },
   {
    "duration": 6,
    "start_time": "2022-04-06T12:48:49.705Z"
   },
   {
    "duration": 8,
    "start_time": "2022-04-06T12:48:49.713Z"
   },
   {
    "duration": 8,
    "start_time": "2022-04-06T12:48:49.723Z"
   },
   {
    "duration": 115,
    "start_time": "2022-04-06T13:49:05.231Z"
   },
   {
    "duration": 119,
    "start_time": "2022-04-06T13:50:00.848Z"
   },
   {
    "duration": 3070,
    "start_time": "2022-04-06T14:28:20.097Z"
   },
   {
    "duration": 114,
    "start_time": "2022-04-06T14:28:33.831Z"
   },
   {
    "duration": 77,
    "start_time": "2022-04-06T14:31:40.947Z"
   },
   {
    "duration": 407,
    "start_time": "2022-04-06T14:47:26.291Z"
   },
   {
    "duration": 51,
    "start_time": "2022-04-06T14:47:26.700Z"
   },
   {
    "duration": 14,
    "start_time": "2022-04-06T14:47:26.753Z"
   },
   {
    "duration": 26,
    "start_time": "2022-04-06T14:47:26.769Z"
   },
   {
    "duration": 5,
    "start_time": "2022-04-06T14:47:26.797Z"
   },
   {
    "duration": 4,
    "start_time": "2022-04-06T14:47:26.803Z"
   },
   {
    "duration": 11,
    "start_time": "2022-04-06T14:47:26.809Z"
   },
   {
    "duration": 9,
    "start_time": "2022-04-06T14:47:26.822Z"
   },
   {
    "duration": 7,
    "start_time": "2022-04-06T14:47:26.833Z"
   },
   {
    "duration": 11,
    "start_time": "2022-04-06T14:47:26.842Z"
   },
   {
    "duration": 27,
    "start_time": "2022-04-06T14:47:26.855Z"
   },
   {
    "duration": 8,
    "start_time": "2022-04-06T14:47:26.884Z"
   },
   {
    "duration": 31,
    "start_time": "2022-04-06T14:47:26.894Z"
   },
   {
    "duration": 3,
    "start_time": "2022-04-06T14:47:26.927Z"
   },
   {
    "duration": 8,
    "start_time": "2022-04-06T14:47:26.931Z"
   },
   {
    "duration": 6,
    "start_time": "2022-04-06T14:47:26.940Z"
   },
   {
    "duration": 7,
    "start_time": "2022-04-06T14:47:26.948Z"
   },
   {
    "duration": 79,
    "start_time": "2022-04-06T14:47:26.957Z"
   },
   {
    "duration": 0,
    "start_time": "2022-04-06T14:47:27.039Z"
   },
   {
    "duration": 0,
    "start_time": "2022-04-06T14:47:27.040Z"
   },
   {
    "duration": 0,
    "start_time": "2022-04-06T14:47:27.041Z"
   },
   {
    "duration": 0,
    "start_time": "2022-04-06T14:47:27.041Z"
   },
   {
    "duration": 0,
    "start_time": "2022-04-06T14:47:27.043Z"
   },
   {
    "duration": 0,
    "start_time": "2022-04-06T14:47:27.044Z"
   },
   {
    "duration": 0,
    "start_time": "2022-04-06T14:47:27.045Z"
   },
   {
    "duration": 0,
    "start_time": "2022-04-06T14:47:27.046Z"
   },
   {
    "duration": 0,
    "start_time": "2022-04-06T14:47:27.047Z"
   },
   {
    "duration": 0,
    "start_time": "2022-04-06T14:47:27.048Z"
   },
   {
    "duration": 0,
    "start_time": "2022-04-06T14:47:27.049Z"
   },
   {
    "duration": 0,
    "start_time": "2022-04-06T14:47:27.050Z"
   },
   {
    "duration": 0,
    "start_time": "2022-04-06T14:47:27.051Z"
   },
   {
    "duration": 0,
    "start_time": "2022-04-06T14:47:27.052Z"
   },
   {
    "duration": 0,
    "start_time": "2022-04-06T14:47:27.052Z"
   },
   {
    "duration": 0,
    "start_time": "2022-04-06T14:47:27.053Z"
   },
   {
    "duration": 0,
    "start_time": "2022-04-06T14:47:27.054Z"
   },
   {
    "duration": 0,
    "start_time": "2022-04-06T14:47:27.082Z"
   },
   {
    "duration": 0,
    "start_time": "2022-04-06T14:47:27.083Z"
   },
   {
    "duration": 0,
    "start_time": "2022-04-06T14:47:27.086Z"
   },
   {
    "duration": 0,
    "start_time": "2022-04-06T14:47:27.087Z"
   },
   {
    "duration": 0,
    "start_time": "2022-04-06T14:47:27.088Z"
   },
   {
    "duration": 0,
    "start_time": "2022-04-06T14:47:27.089Z"
   },
   {
    "duration": 0,
    "start_time": "2022-04-06T14:47:27.093Z"
   },
   {
    "duration": 0,
    "start_time": "2022-04-06T14:47:27.094Z"
   },
   {
    "duration": 0,
    "start_time": "2022-04-06T14:47:27.095Z"
   },
   {
    "duration": 0,
    "start_time": "2022-04-06T14:47:27.096Z"
   },
   {
    "duration": 0,
    "start_time": "2022-04-06T14:47:27.097Z"
   },
   {
    "duration": 0,
    "start_time": "2022-04-06T14:47:27.098Z"
   },
   {
    "duration": 0,
    "start_time": "2022-04-06T14:47:27.100Z"
   },
   {
    "duration": 0,
    "start_time": "2022-04-06T14:47:27.101Z"
   },
   {
    "duration": 0,
    "start_time": "2022-04-06T14:47:27.103Z"
   },
   {
    "duration": 0,
    "start_time": "2022-04-06T14:47:27.104Z"
   },
   {
    "duration": 0,
    "start_time": "2022-04-06T14:47:27.105Z"
   },
   {
    "duration": 0,
    "start_time": "2022-04-06T14:47:27.106Z"
   },
   {
    "duration": 0,
    "start_time": "2022-04-06T14:47:27.107Z"
   },
   {
    "duration": 0,
    "start_time": "2022-04-06T14:47:27.108Z"
   },
   {
    "duration": 0,
    "start_time": "2022-04-06T14:47:27.109Z"
   },
   {
    "duration": 0,
    "start_time": "2022-04-06T14:47:27.109Z"
   },
   {
    "duration": 0,
    "start_time": "2022-04-06T14:47:27.110Z"
   },
   {
    "duration": 0,
    "start_time": "2022-04-06T14:47:27.111Z"
   },
   {
    "duration": 0,
    "start_time": "2022-04-06T14:47:27.112Z"
   },
   {
    "duration": 0,
    "start_time": "2022-04-06T14:47:27.113Z"
   },
   {
    "duration": 0,
    "start_time": "2022-04-06T14:47:27.114Z"
   },
   {
    "duration": 0,
    "start_time": "2022-04-06T14:47:27.115Z"
   },
   {
    "duration": 0,
    "start_time": "2022-04-06T14:47:27.116Z"
   },
   {
    "duration": 0,
    "start_time": "2022-04-06T14:47:27.117Z"
   },
   {
    "duration": 0,
    "start_time": "2022-04-06T14:47:27.118Z"
   },
   {
    "duration": 0,
    "start_time": "2022-04-06T14:47:27.119Z"
   },
   {
    "duration": 0,
    "start_time": "2022-04-06T14:47:27.120Z"
   },
   {
    "duration": 0,
    "start_time": "2022-04-06T14:47:27.121Z"
   },
   {
    "duration": 0,
    "start_time": "2022-04-06T14:47:27.186Z"
   },
   {
    "duration": 1,
    "start_time": "2022-04-06T14:47:27.186Z"
   },
   {
    "duration": 0,
    "start_time": "2022-04-06T14:47:27.187Z"
   },
   {
    "duration": 0,
    "start_time": "2022-04-06T14:47:27.189Z"
   },
   {
    "duration": 0,
    "start_time": "2022-04-06T14:47:27.189Z"
   },
   {
    "duration": 0,
    "start_time": "2022-04-06T14:47:27.190Z"
   },
   {
    "duration": 0,
    "start_time": "2022-04-06T14:47:27.191Z"
   },
   {
    "duration": 423,
    "start_time": "2022-04-06T14:48:22.770Z"
   },
   {
    "duration": 1648,
    "start_time": "2022-04-06T14:48:23.194Z"
   },
   {
    "duration": 13,
    "start_time": "2022-04-06T14:48:24.844Z"
   },
   {
    "duration": 18,
    "start_time": "2022-04-06T14:48:24.859Z"
   },
   {
    "duration": 9,
    "start_time": "2022-04-06T14:48:24.878Z"
   },
   {
    "duration": 10,
    "start_time": "2022-04-06T14:48:24.888Z"
   },
   {
    "duration": 10,
    "start_time": "2022-04-06T14:48:24.899Z"
   },
   {
    "duration": 9,
    "start_time": "2022-04-06T14:48:24.910Z"
   },
   {
    "duration": 7,
    "start_time": "2022-04-06T14:48:24.920Z"
   },
   {
    "duration": 19,
    "start_time": "2022-04-06T14:48:24.929Z"
   },
   {
    "duration": 5,
    "start_time": "2022-04-06T14:48:24.949Z"
   },
   {
    "duration": 8,
    "start_time": "2022-04-06T14:48:24.955Z"
   },
   {
    "duration": 32,
    "start_time": "2022-04-06T14:48:24.965Z"
   },
   {
    "duration": 216,
    "start_time": "2022-04-06T14:48:24.999Z"
   },
   {
    "duration": 0,
    "start_time": "2022-04-06T14:48:25.218Z"
   },
   {
    "duration": 0,
    "start_time": "2022-04-06T14:48:25.219Z"
   },
   {
    "duration": 0,
    "start_time": "2022-04-06T14:48:25.220Z"
   },
   {
    "duration": 0,
    "start_time": "2022-04-06T14:48:25.221Z"
   },
   {
    "duration": 0,
    "start_time": "2022-04-06T14:48:25.222Z"
   },
   {
    "duration": 0,
    "start_time": "2022-04-06T14:48:25.223Z"
   },
   {
    "duration": 0,
    "start_time": "2022-04-06T14:48:25.224Z"
   },
   {
    "duration": 0,
    "start_time": "2022-04-06T14:48:25.225Z"
   },
   {
    "duration": 0,
    "start_time": "2022-04-06T14:48:25.226Z"
   },
   {
    "duration": 0,
    "start_time": "2022-04-06T14:48:25.227Z"
   },
   {
    "duration": 0,
    "start_time": "2022-04-06T14:48:25.228Z"
   },
   {
    "duration": 0,
    "start_time": "2022-04-06T14:48:25.229Z"
   },
   {
    "duration": 0,
    "start_time": "2022-04-06T14:48:25.230Z"
   },
   {
    "duration": 0,
    "start_time": "2022-04-06T14:48:25.231Z"
   },
   {
    "duration": 0,
    "start_time": "2022-04-06T14:48:25.232Z"
   },
   {
    "duration": 0,
    "start_time": "2022-04-06T14:48:25.233Z"
   },
   {
    "duration": 0,
    "start_time": "2022-04-06T14:48:25.235Z"
   },
   {
    "duration": 0,
    "start_time": "2022-04-06T14:48:25.236Z"
   },
   {
    "duration": 0,
    "start_time": "2022-04-06T14:48:25.237Z"
   },
   {
    "duration": 0,
    "start_time": "2022-04-06T14:48:25.238Z"
   },
   {
    "duration": 0,
    "start_time": "2022-04-06T14:48:25.240Z"
   },
   {
    "duration": 0,
    "start_time": "2022-04-06T14:48:25.241Z"
   },
   {
    "duration": 0,
    "start_time": "2022-04-06T14:48:25.243Z"
   },
   {
    "duration": 0,
    "start_time": "2022-04-06T14:48:25.244Z"
   },
   {
    "duration": 0,
    "start_time": "2022-04-06T14:48:25.245Z"
   },
   {
    "duration": 0,
    "start_time": "2022-04-06T14:48:25.247Z"
   },
   {
    "duration": 0,
    "start_time": "2022-04-06T14:48:25.248Z"
   },
   {
    "duration": 0,
    "start_time": "2022-04-06T14:48:25.249Z"
   },
   {
    "duration": 0,
    "start_time": "2022-04-06T14:48:25.251Z"
   },
   {
    "duration": 0,
    "start_time": "2022-04-06T14:48:25.252Z"
   },
   {
    "duration": 0,
    "start_time": "2022-04-06T14:48:25.253Z"
   },
   {
    "duration": 0,
    "start_time": "2022-04-06T14:48:25.254Z"
   },
   {
    "duration": 0,
    "start_time": "2022-04-06T14:48:25.254Z"
   },
   {
    "duration": 0,
    "start_time": "2022-04-06T14:48:25.255Z"
   },
   {
    "duration": 0,
    "start_time": "2022-04-06T14:48:25.256Z"
   },
   {
    "duration": 0,
    "start_time": "2022-04-06T14:48:25.257Z"
   },
   {
    "duration": 0,
    "start_time": "2022-04-06T14:48:25.288Z"
   },
   {
    "duration": 0,
    "start_time": "2022-04-06T14:48:25.289Z"
   },
   {
    "duration": 0,
    "start_time": "2022-04-06T14:48:25.290Z"
   },
   {
    "duration": 0,
    "start_time": "2022-04-06T14:48:25.291Z"
   },
   {
    "duration": 0,
    "start_time": "2022-04-06T14:48:25.292Z"
   },
   {
    "duration": 0,
    "start_time": "2022-04-06T14:48:25.293Z"
   },
   {
    "duration": 0,
    "start_time": "2022-04-06T14:48:25.294Z"
   },
   {
    "duration": 0,
    "start_time": "2022-04-06T14:48:25.294Z"
   },
   {
    "duration": 0,
    "start_time": "2022-04-06T14:48:25.294Z"
   },
   {
    "duration": 0,
    "start_time": "2022-04-06T14:48:25.295Z"
   },
   {
    "duration": 0,
    "start_time": "2022-04-06T14:48:25.297Z"
   },
   {
    "duration": 0,
    "start_time": "2022-04-06T14:48:25.298Z"
   },
   {
    "duration": 0,
    "start_time": "2022-04-06T14:48:25.299Z"
   },
   {
    "duration": 0,
    "start_time": "2022-04-06T14:48:25.300Z"
   },
   {
    "duration": 0,
    "start_time": "2022-04-06T14:48:25.301Z"
   },
   {
    "duration": 0,
    "start_time": "2022-04-06T14:48:25.303Z"
   },
   {
    "duration": 0,
    "start_time": "2022-04-06T14:48:25.304Z"
   },
   {
    "duration": 0,
    "start_time": "2022-04-06T14:48:25.305Z"
   },
   {
    "duration": 0,
    "start_time": "2022-04-06T14:48:25.307Z"
   },
   {
    "duration": 0,
    "start_time": "2022-04-06T14:48:25.308Z"
   },
   {
    "duration": 0,
    "start_time": "2022-04-06T14:48:25.309Z"
   },
   {
    "duration": 0,
    "start_time": "2022-04-06T14:48:25.310Z"
   },
   {
    "duration": 0,
    "start_time": "2022-04-06T14:48:25.311Z"
   },
   {
    "duration": 0,
    "start_time": "2022-04-06T14:48:25.312Z"
   },
   {
    "duration": 0,
    "start_time": "2022-04-06T14:48:25.313Z"
   },
   {
    "duration": 0,
    "start_time": "2022-04-06T14:48:25.315Z"
   },
   {
    "duration": 362,
    "start_time": "2022-04-06T14:48:55.631Z"
   },
   {
    "duration": 39,
    "start_time": "2022-04-06T14:48:55.997Z"
   },
   {
    "duration": 13,
    "start_time": "2022-04-06T14:48:56.037Z"
   },
   {
    "duration": 18,
    "start_time": "2022-04-06T14:48:56.052Z"
   },
   {
    "duration": 5,
    "start_time": "2022-04-06T14:48:56.080Z"
   },
   {
    "duration": 8,
    "start_time": "2022-04-06T14:48:56.087Z"
   },
   {
    "duration": 12,
    "start_time": "2022-04-06T14:48:56.098Z"
   },
   {
    "duration": 6,
    "start_time": "2022-04-06T14:48:56.112Z"
   },
   {
    "duration": 6,
    "start_time": "2022-04-06T14:48:56.120Z"
   },
   {
    "duration": 7,
    "start_time": "2022-04-06T14:48:56.128Z"
   },
   {
    "duration": 6,
    "start_time": "2022-04-06T14:48:56.136Z"
   },
   {
    "duration": 6,
    "start_time": "2022-04-06T14:48:56.143Z"
   },
   {
    "duration": 48,
    "start_time": "2022-04-06T14:48:56.150Z"
   },
   {
    "duration": 6,
    "start_time": "2022-04-06T14:48:56.199Z"
   },
   {
    "duration": 7,
    "start_time": "2022-04-06T14:48:56.206Z"
   },
   {
    "duration": 8,
    "start_time": "2022-04-06T14:48:56.214Z"
   },
   {
    "duration": 5,
    "start_time": "2022-04-06T14:48:56.223Z"
   },
   {
    "duration": 2274,
    "start_time": "2022-04-06T14:48:56.229Z"
   },
   {
    "duration": 4,
    "start_time": "2022-04-06T14:48:58.504Z"
   },
   {
    "duration": 4,
    "start_time": "2022-04-06T14:48:58.510Z"
   },
   {
    "duration": 9,
    "start_time": "2022-04-06T14:48:58.515Z"
   },
   {
    "duration": 6,
    "start_time": "2022-04-06T14:48:58.525Z"
   },
   {
    "duration": 5,
    "start_time": "2022-04-06T14:48:58.532Z"
   },
   {
    "duration": 12,
    "start_time": "2022-04-06T14:48:58.538Z"
   },
   {
    "duration": 578,
    "start_time": "2022-04-06T14:48:58.551Z"
   },
   {
    "duration": 5,
    "start_time": "2022-04-06T14:48:59.131Z"
   },
   {
    "duration": 16,
    "start_time": "2022-04-06T14:48:59.138Z"
   },
   {
    "duration": 4,
    "start_time": "2022-04-06T14:48:59.159Z"
   },
   {
    "duration": 1355,
    "start_time": "2022-04-06T14:48:59.164Z"
   },
   {
    "duration": 4,
    "start_time": "2022-04-06T14:49:00.520Z"
   },
   {
    "duration": 533,
    "start_time": "2022-04-06T14:49:00.526Z"
   },
   {
    "duration": 239,
    "start_time": "2022-04-06T14:49:01.061Z"
   },
   {
    "duration": 5,
    "start_time": "2022-04-06T14:49:01.301Z"
   },
   {
    "duration": 32,
    "start_time": "2022-04-06T14:49:01.307Z"
   },
   {
    "duration": 234,
    "start_time": "2022-04-06T14:49:01.340Z"
   },
   {
    "duration": 243,
    "start_time": "2022-04-06T14:49:01.585Z"
   },
   {
    "duration": 244,
    "start_time": "2022-04-06T14:49:01.830Z"
   },
   {
    "duration": 14,
    "start_time": "2022-04-06T14:49:02.076Z"
   },
   {
    "duration": 123,
    "start_time": "2022-04-06T14:49:02.095Z"
   },
   {
    "duration": 121,
    "start_time": "2022-04-06T14:49:02.220Z"
   },
   {
    "duration": 6,
    "start_time": "2022-04-06T14:49:02.342Z"
   },
   {
    "duration": 27,
    "start_time": "2022-04-06T14:49:02.349Z"
   },
   {
    "duration": 127,
    "start_time": "2022-04-06T14:49:02.377Z"
   },
   {
    "duration": 133,
    "start_time": "2022-04-06T14:49:02.505Z"
   },
   {
    "duration": 5,
    "start_time": "2022-04-06T14:49:02.639Z"
   },
   {
    "duration": 25,
    "start_time": "2022-04-06T14:49:02.646Z"
   },
   {
    "duration": 142,
    "start_time": "2022-04-06T14:49:02.672Z"
   },
   {
    "duration": 6,
    "start_time": "2022-04-06T14:49:02.816Z"
   },
   {
    "duration": 168,
    "start_time": "2022-04-06T14:49:02.824Z"
   },
   {
    "duration": 5,
    "start_time": "2022-04-06T14:49:02.994Z"
   },
   {
    "duration": 167,
    "start_time": "2022-04-06T14:49:03.002Z"
   },
   {
    "duration": 180,
    "start_time": "2022-04-06T14:49:03.171Z"
   },
   {
    "duration": 255,
    "start_time": "2022-04-06T14:49:03.353Z"
   },
   {
    "duration": 16,
    "start_time": "2022-04-06T14:49:03.610Z"
   },
   {
    "duration": 92,
    "start_time": "2022-04-06T14:49:03.627Z"
   },
   {
    "duration": 81,
    "start_time": "2022-04-06T14:49:03.720Z"
   },
   {
    "duration": 12,
    "start_time": "2022-04-06T14:49:03.803Z"
   },
   {
    "duration": 135,
    "start_time": "2022-04-06T14:49:03.817Z"
   },
   {
    "duration": 6,
    "start_time": "2022-04-06T14:49:03.954Z"
   },
   {
    "duration": 32,
    "start_time": "2022-04-06T14:49:03.962Z"
   },
   {
    "duration": 13,
    "start_time": "2022-04-06T14:49:03.996Z"
   },
   {
    "duration": 83,
    "start_time": "2022-04-06T14:49:04.010Z"
   },
   {
    "duration": 67,
    "start_time": "2022-04-06T14:49:04.095Z"
   },
   {
    "duration": 26,
    "start_time": "2022-04-06T14:49:04.163Z"
   },
   {
    "duration": 123,
    "start_time": "2022-04-06T14:49:04.190Z"
   },
   {
    "duration": 12,
    "start_time": "2022-04-06T14:49:04.314Z"
   },
   {
    "duration": 13,
    "start_time": "2022-04-06T14:49:04.328Z"
   },
   {
    "duration": 96,
    "start_time": "2022-04-06T14:49:04.342Z"
   },
   {
    "duration": 12,
    "start_time": "2022-04-06T14:49:04.439Z"
   },
   {
    "duration": 124,
    "start_time": "2022-04-06T14:49:04.453Z"
   },
   {
    "duration": 14,
    "start_time": "2022-04-06T14:49:04.585Z"
   },
   {
    "duration": 366,
    "start_time": "2022-04-06T14:49:04.600Z"
   },
   {
    "duration": 6,
    "start_time": "2022-04-06T14:49:04.967Z"
   },
   {
    "duration": 24,
    "start_time": "2022-04-06T14:49:04.974Z"
   },
   {
    "duration": 8,
    "start_time": "2022-04-06T14:49:05.000Z"
   },
   {
    "duration": 5,
    "start_time": "2022-04-06T14:49:05.010Z"
   },
   {
    "duration": 414,
    "start_time": "2022-04-07T05:37:19.766Z"
   },
   {
    "duration": 51,
    "start_time": "2022-04-07T05:37:20.182Z"
   },
   {
    "duration": 15,
    "start_time": "2022-04-07T05:37:20.235Z"
   },
   {
    "duration": 23,
    "start_time": "2022-04-07T05:37:20.252Z"
   },
   {
    "duration": 4,
    "start_time": "2022-04-07T05:37:20.277Z"
   },
   {
    "duration": 6,
    "start_time": "2022-04-07T05:37:20.282Z"
   },
   {
    "duration": 13,
    "start_time": "2022-04-07T05:37:20.289Z"
   },
   {
    "duration": 30,
    "start_time": "2022-04-07T05:37:20.304Z"
   },
   {
    "duration": 7,
    "start_time": "2022-04-07T05:37:20.336Z"
   },
   {
    "duration": 13,
    "start_time": "2022-04-07T05:37:20.346Z"
   },
   {
    "duration": 5,
    "start_time": "2022-04-07T05:37:20.360Z"
   },
   {
    "duration": 7,
    "start_time": "2022-04-07T05:37:20.367Z"
   },
   {
    "duration": 26,
    "start_time": "2022-04-07T05:37:20.376Z"
   },
   {
    "duration": 28,
    "start_time": "2022-04-07T05:37:20.404Z"
   },
   {
    "duration": 8,
    "start_time": "2022-04-07T05:37:20.434Z"
   },
   {
    "duration": 9,
    "start_time": "2022-04-07T05:37:20.443Z"
   },
   {
    "duration": 8,
    "start_time": "2022-04-07T05:37:20.453Z"
   },
   {
    "duration": 2438,
    "start_time": "2022-04-07T05:37:20.463Z"
   },
   {
    "duration": 5,
    "start_time": "2022-04-07T05:37:22.903Z"
   },
   {
    "duration": 6,
    "start_time": "2022-04-07T05:37:22.909Z"
   },
   {
    "duration": 18,
    "start_time": "2022-04-07T05:37:22.917Z"
   },
   {
    "duration": 6,
    "start_time": "2022-04-07T05:37:22.937Z"
   },
   {
    "duration": 6,
    "start_time": "2022-04-07T05:37:22.945Z"
   },
   {
    "duration": 14,
    "start_time": "2022-04-07T05:37:22.953Z"
   },
   {
    "duration": 838,
    "start_time": "2022-04-07T05:37:22.969Z"
   },
   {
    "duration": 7,
    "start_time": "2022-04-07T05:37:23.809Z"
   },
   {
    "duration": 30,
    "start_time": "2022-04-07T05:37:23.818Z"
   },
   {
    "duration": 5,
    "start_time": "2022-04-07T05:37:23.854Z"
   },
   {
    "duration": 1719,
    "start_time": "2022-04-07T05:37:23.861Z"
   },
   {
    "duration": 5,
    "start_time": "2022-04-07T05:37:25.582Z"
   },
   {
    "duration": 656,
    "start_time": "2022-04-07T05:37:25.589Z"
   },
   {
    "duration": 278,
    "start_time": "2022-04-07T05:37:26.247Z"
   },
   {
    "duration": 7,
    "start_time": "2022-04-07T05:37:26.527Z"
   },
   {
    "duration": 22,
    "start_time": "2022-04-07T05:37:26.537Z"
   },
   {
    "duration": 300,
    "start_time": "2022-04-07T05:37:26.561Z"
   },
   {
    "duration": 303,
    "start_time": "2022-04-07T05:37:26.863Z"
   },
   {
    "duration": 280,
    "start_time": "2022-04-07T05:37:27.168Z"
   },
   {
    "duration": 13,
    "start_time": "2022-04-07T05:37:27.450Z"
   },
   {
    "duration": 146,
    "start_time": "2022-04-07T05:37:27.465Z"
   },
   {
    "duration": 157,
    "start_time": "2022-04-07T05:37:27.613Z"
   },
   {
    "duration": 7,
    "start_time": "2022-04-07T05:37:27.772Z"
   },
   {
    "duration": 8,
    "start_time": "2022-04-07T05:37:27.781Z"
   },
   {
    "duration": 156,
    "start_time": "2022-04-07T05:37:27.791Z"
   },
   {
    "duration": 164,
    "start_time": "2022-04-07T05:37:27.949Z"
   },
   {
    "duration": 6,
    "start_time": "2022-04-07T05:37:28.115Z"
   },
   {
    "duration": 7,
    "start_time": "2022-04-07T05:37:28.132Z"
   },
   {
    "duration": 163,
    "start_time": "2022-04-07T05:37:28.140Z"
   },
   {
    "duration": 6,
    "start_time": "2022-04-07T05:37:28.305Z"
   },
   {
    "duration": 161,
    "start_time": "2022-04-07T05:37:28.313Z"
   },
   {
    "duration": 6,
    "start_time": "2022-04-07T05:37:28.476Z"
   },
   {
    "duration": 212,
    "start_time": "2022-04-07T05:37:28.484Z"
   },
   {
    "duration": 219,
    "start_time": "2022-04-07T05:37:28.698Z"
   },
   {
    "duration": 287,
    "start_time": "2022-04-07T05:37:28.919Z"
   },
   {
    "duration": 31,
    "start_time": "2022-04-07T05:37:29.209Z"
   },
   {
    "duration": 100,
    "start_time": "2022-04-07T05:37:29.242Z"
   },
   {
    "duration": 108,
    "start_time": "2022-04-07T05:37:29.344Z"
   },
   {
    "duration": 16,
    "start_time": "2022-04-07T05:37:29.454Z"
   },
   {
    "duration": 171,
    "start_time": "2022-04-07T05:37:29.472Z"
   },
   {
    "duration": 8,
    "start_time": "2022-04-07T05:37:29.645Z"
   },
   {
    "duration": 20,
    "start_time": "2022-04-07T05:37:29.655Z"
   },
   {
    "duration": 27,
    "start_time": "2022-04-07T05:37:29.677Z"
   },
   {
    "duration": 105,
    "start_time": "2022-04-07T05:37:29.706Z"
   },
   {
    "duration": 100,
    "start_time": "2022-04-07T05:37:29.812Z"
   },
   {
    "duration": 27,
    "start_time": "2022-04-07T05:37:29.913Z"
   },
   {
    "duration": 161,
    "start_time": "2022-04-07T05:37:29.941Z"
   },
   {
    "duration": 14,
    "start_time": "2022-04-07T05:37:30.104Z"
   },
   {
    "duration": 31,
    "start_time": "2022-04-07T05:37:30.120Z"
   },
   {
    "duration": 99,
    "start_time": "2022-04-07T05:37:30.153Z"
   },
   {
    "duration": 14,
    "start_time": "2022-04-07T05:37:30.254Z"
   },
   {
    "duration": 159,
    "start_time": "2022-04-07T05:37:30.269Z"
   },
   {
    "duration": 16,
    "start_time": "2022-04-07T05:37:30.432Z"
   },
   {
    "duration": 418,
    "start_time": "2022-04-07T05:37:30.450Z"
   },
   {
    "duration": 7,
    "start_time": "2022-04-07T05:37:30.870Z"
   },
   {
    "duration": 8,
    "start_time": "2022-04-07T05:37:30.878Z"
   },
   {
    "duration": 12,
    "start_time": "2022-04-07T05:37:30.888Z"
   },
   {
    "duration": 16,
    "start_time": "2022-04-07T05:37:30.902Z"
   }
  ],
  "colab": {
   "collapsed_sections": [],
   "name": "Untitled1.ipynb",
   "provenance": []
  },
  "kernelspec": {
   "display_name": "Python 3 (ipykernel)",
   "language": "python",
   "name": "python3"
  },
  "language_info": {
   "codemirror_mode": {
    "name": "ipython",
    "version": 3
   },
   "file_extension": ".py",
   "mimetype": "text/x-python",
   "name": "python",
   "nbconvert_exporter": "python",
   "pygments_lexer": "ipython3",
   "version": "3.9.7"
  },
  "toc": {
   "base_numbering": 1,
   "nav_menu": {},
   "number_sections": true,
   "sideBar": true,
   "skip_h1_title": true,
   "title_cell": "Table of Contents",
   "title_sidebar": "Contents",
   "toc_cell": false,
   "toc_position": {},
   "toc_section_display": true,
   "toc_window_display": false
  }
 },
 "nbformat": 4,
 "nbformat_minor": 1
}
