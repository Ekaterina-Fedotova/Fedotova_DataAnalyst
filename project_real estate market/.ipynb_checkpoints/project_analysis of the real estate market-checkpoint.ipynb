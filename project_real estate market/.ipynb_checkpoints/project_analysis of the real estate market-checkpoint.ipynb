{
 "cells": [
  {
   "cell_type": "markdown",
   "metadata": {
    "toc": true
   },
   "source": [
    "<h1>Содержание<span class=\"tocSkip\"></span></h1>\n",
    "<div class=\"toc\"><ul class=\"toc-item\"><li><span><a href=\"#Изучение-данных-из-файла\" data-toc-modified-id=\"Изучение-данных-из-файла-1\"><span class=\"toc-item-num\">1&nbsp;&nbsp;</span>Изучение данных из файла</a></span><ul class=\"toc-item\"><li><span><a href=\"#Вывод\" data-toc-modified-id=\"Вывод-1.1\"><span class=\"toc-item-num\">1.1&nbsp;&nbsp;</span>Вывод</a></span></li></ul></li><li><span><a href=\"#Предобработка-данных\" data-toc-modified-id=\"Предобработка-данных-2\"><span class=\"toc-item-num\">2&nbsp;&nbsp;</span>Предобработка данных</a></span></li><li><span><a href=\"#Расчёты-и-добавление-результатов-в-таблицу\" data-toc-modified-id=\"Расчёты-и-добавление-результатов-в-таблицу-3\"><span class=\"toc-item-num\">3&nbsp;&nbsp;</span>Расчёты и добавление результатов в таблицу</a></span></li><li><span><a href=\"#Исследовательский-анализ-данных\" data-toc-modified-id=\"Исследовательский-анализ-данных-4\"><span class=\"toc-item-num\">4&nbsp;&nbsp;</span>Исследовательский анализ данных</a></span></li><li><span><a href=\"#Общий-вывод\" data-toc-modified-id=\"Общий-вывод-5\"><span class=\"toc-item-num\">5&nbsp;&nbsp;</span>Общий вывод</a></span></li><li><span><a href=\"#Чек-лист-готовности-проекта\" data-toc-modified-id=\"Чек-лист-готовности-проекта-6\"><span class=\"toc-item-num\">6&nbsp;&nbsp;</span>Чек-лист готовности проекта</a></span></li></ul></div>"
   ]
  },
  {
   "cell_type": "markdown",
   "metadata": {},
   "source": [
    "# Анализ рынка недвижимости. Исследование объявлений о продаже квартир\n",
    "\n",
    "В вашем распоряжении данные сервиса Яндекc Недвижимость — архив объявлений о продаже квартир в Санкт-Петербурге и соседних населённых пунктах за несколько лет. Нужно научиться определять рыночную стоимость объектов недвижимости. Ваша задача — установить параметры. Это позволит построить автоматизированную систему: она отследит аномалии и мошенническую деятельность. \n",
    "\n",
    "По каждой квартире на продажу доступны два вида данных. Первые вписаны пользователем, вторые получены автоматически на основе картографических данных. Например, расстояние до центра, аэропорта, ближайшего парка и водоёма. "
   ]
  },
  {
   "cell_type": "markdown",
   "metadata": {},
   "source": [
    "**Описание данных:**\n",
    " \n",
    "* `airports_nearest` — расстояние до ближайшего аэропорта в метрах (м)\n",
    "* `balcony` — число балконов\n",
    "* `ceiling_height` — высота потолков (м)\n",
    "* `cityCenters_nearest` — расстояние до центра города (м)\n",
    "* `days_exposition` — сколько дней было размещено объявление (от публикации до снятия)\n",
    "* `first_day_exposition` — дата публикации\n",
    "* `floor` — этаж\n",
    "* `floors_total` — всего этажей в доме\n",
    "* `is_apartment` — апартаменты (булев тип)\n",
    "* `kitchen_area` — площадь кухни в квадратных метрах (м²)\n",
    "* `last_price` — цена на момент снятия с публикации\n",
    "* `living_area` — жилая площадь в квадратных метрах (м²)\n",
    "* `locality_name` — название населённого пункта\n",
    "* `open_plan` — свободная планировка (булев тип)\n",
    "* `parks_around3000` — число парков в радиусе 3 км\n",
    "* `parks_nearest` — расстояние до ближайшего парка (м)\n",
    "* `ponds_around3000` — число водоёмов в радиусе 3 км\n",
    "* `ponds_nearest` — расстояние до ближайшего водоёма (м)\n",
    "* `rooms` — число комнат\n",
    "* `studio` — квартира-студия (булев тип)\n",
    "* `total_area` — площадь квартиры в квадратных метрах (м²)\n",
    "* `total_images` — число фотографий квартиры в объявлении"
   ]
  },
  {
   "cell_type": "markdown",
   "metadata": {},
   "source": [
    "## Загружаем данные"
   ]
  },
  {
   "cell_type": "code",
   "execution_count": null,
   "metadata": {},
   "outputs": [],
   "source": [
    "# импортируем бибилиотеки\n",
    "import pandas as pd\n",
    "\n",
    "import warnings\n",
    "warnings.filterwarnings(\"ignore\")"
   ]
  },
  {
   "cell_type": "code",
   "execution_count": 1,
   "metadata": {
    "scrolled": true
   },
   "outputs": [
    {
     "data": {
      "text/html": [
       "<div>\n",
       "<style scoped>\n",
       "    .dataframe tbody tr th:only-of-type {\n",
       "        vertical-align: middle;\n",
       "    }\n",
       "\n",
       "    .dataframe tbody tr th {\n",
       "        vertical-align: top;\n",
       "    }\n",
       "\n",
       "    .dataframe thead th {\n",
       "        text-align: right;\n",
       "    }\n",
       "</style>\n",
       "<table border=\"1\" class=\"dataframe\">\n",
       "  <thead>\n",
       "    <tr style=\"text-align: right;\">\n",
       "      <th></th>\n",
       "      <th>total_images</th>\n",
       "      <th>last_price</th>\n",
       "      <th>total_area</th>\n",
       "      <th>first_day_exposition</th>\n",
       "      <th>rooms</th>\n",
       "      <th>ceiling_height</th>\n",
       "      <th>floors_total</th>\n",
       "      <th>living_area</th>\n",
       "      <th>floor</th>\n",
       "      <th>is_apartment</th>\n",
       "      <th>...</th>\n",
       "      <th>kitchen_area</th>\n",
       "      <th>balcony</th>\n",
       "      <th>locality_name</th>\n",
       "      <th>airports_nearest</th>\n",
       "      <th>cityCenters_nearest</th>\n",
       "      <th>parks_around3000</th>\n",
       "      <th>parks_nearest</th>\n",
       "      <th>ponds_around3000</th>\n",
       "      <th>ponds_nearest</th>\n",
       "      <th>days_exposition</th>\n",
       "    </tr>\n",
       "  </thead>\n",
       "  <tbody>\n",
       "    <tr>\n",
       "      <td>0</td>\n",
       "      <td>20</td>\n",
       "      <td>13000000.0</td>\n",
       "      <td>108.0</td>\n",
       "      <td>2019-03-07T00:00:00</td>\n",
       "      <td>3</td>\n",
       "      <td>2.70</td>\n",
       "      <td>16.0</td>\n",
       "      <td>51.0</td>\n",
       "      <td>8</td>\n",
       "      <td>NaN</td>\n",
       "      <td>...</td>\n",
       "      <td>25.0</td>\n",
       "      <td>NaN</td>\n",
       "      <td>Санкт-Петербург</td>\n",
       "      <td>18863.0</td>\n",
       "      <td>16028.0</td>\n",
       "      <td>1.0</td>\n",
       "      <td>482.0</td>\n",
       "      <td>2.0</td>\n",
       "      <td>755.0</td>\n",
       "      <td>NaN</td>\n",
       "    </tr>\n",
       "    <tr>\n",
       "      <td>1</td>\n",
       "      <td>7</td>\n",
       "      <td>3350000.0</td>\n",
       "      <td>40.4</td>\n",
       "      <td>2018-12-04T00:00:00</td>\n",
       "      <td>1</td>\n",
       "      <td>NaN</td>\n",
       "      <td>11.0</td>\n",
       "      <td>18.6</td>\n",
       "      <td>1</td>\n",
       "      <td>NaN</td>\n",
       "      <td>...</td>\n",
       "      <td>11.0</td>\n",
       "      <td>2.0</td>\n",
       "      <td>посёлок Шушары</td>\n",
       "      <td>12817.0</td>\n",
       "      <td>18603.0</td>\n",
       "      <td>0.0</td>\n",
       "      <td>NaN</td>\n",
       "      <td>0.0</td>\n",
       "      <td>NaN</td>\n",
       "      <td>81.0</td>\n",
       "    </tr>\n",
       "    <tr>\n",
       "      <td>2</td>\n",
       "      <td>10</td>\n",
       "      <td>5196000.0</td>\n",
       "      <td>56.0</td>\n",
       "      <td>2015-08-20T00:00:00</td>\n",
       "      <td>2</td>\n",
       "      <td>NaN</td>\n",
       "      <td>5.0</td>\n",
       "      <td>34.3</td>\n",
       "      <td>4</td>\n",
       "      <td>NaN</td>\n",
       "      <td>...</td>\n",
       "      <td>8.3</td>\n",
       "      <td>0.0</td>\n",
       "      <td>Санкт-Петербург</td>\n",
       "      <td>21741.0</td>\n",
       "      <td>13933.0</td>\n",
       "      <td>1.0</td>\n",
       "      <td>90.0</td>\n",
       "      <td>2.0</td>\n",
       "      <td>574.0</td>\n",
       "      <td>558.0</td>\n",
       "    </tr>\n",
       "    <tr>\n",
       "      <td>3</td>\n",
       "      <td>0</td>\n",
       "      <td>64900000.0</td>\n",
       "      <td>159.0</td>\n",
       "      <td>2015-07-24T00:00:00</td>\n",
       "      <td>3</td>\n",
       "      <td>NaN</td>\n",
       "      <td>14.0</td>\n",
       "      <td>NaN</td>\n",
       "      <td>9</td>\n",
       "      <td>NaN</td>\n",
       "      <td>...</td>\n",
       "      <td>NaN</td>\n",
       "      <td>0.0</td>\n",
       "      <td>Санкт-Петербург</td>\n",
       "      <td>28098.0</td>\n",
       "      <td>6800.0</td>\n",
       "      <td>2.0</td>\n",
       "      <td>84.0</td>\n",
       "      <td>3.0</td>\n",
       "      <td>234.0</td>\n",
       "      <td>424.0</td>\n",
       "    </tr>\n",
       "    <tr>\n",
       "      <td>4</td>\n",
       "      <td>2</td>\n",
       "      <td>10000000.0</td>\n",
       "      <td>100.0</td>\n",
       "      <td>2018-06-19T00:00:00</td>\n",
       "      <td>2</td>\n",
       "      <td>3.03</td>\n",
       "      <td>14.0</td>\n",
       "      <td>32.0</td>\n",
       "      <td>13</td>\n",
       "      <td>NaN</td>\n",
       "      <td>...</td>\n",
       "      <td>41.0</td>\n",
       "      <td>NaN</td>\n",
       "      <td>Санкт-Петербург</td>\n",
       "      <td>31856.0</td>\n",
       "      <td>8098.0</td>\n",
       "      <td>2.0</td>\n",
       "      <td>112.0</td>\n",
       "      <td>1.0</td>\n",
       "      <td>48.0</td>\n",
       "      <td>121.0</td>\n",
       "    </tr>\n",
       "  </tbody>\n",
       "</table>\n",
       "<p>5 rows × 22 columns</p>\n",
       "</div>"
      ],
      "text/plain": [
       "   total_images  last_price  total_area first_day_exposition  rooms  \\\n",
       "0            20  13000000.0       108.0  2019-03-07T00:00:00      3   \n",
       "1             7   3350000.0        40.4  2018-12-04T00:00:00      1   \n",
       "2            10   5196000.0        56.0  2015-08-20T00:00:00      2   \n",
       "3             0  64900000.0       159.0  2015-07-24T00:00:00      3   \n",
       "4             2  10000000.0       100.0  2018-06-19T00:00:00      2   \n",
       "\n",
       "   ceiling_height  floors_total  living_area  floor is_apartment  ...  \\\n",
       "0            2.70          16.0         51.0      8          NaN  ...   \n",
       "1             NaN          11.0         18.6      1          NaN  ...   \n",
       "2             NaN           5.0         34.3      4          NaN  ...   \n",
       "3             NaN          14.0          NaN      9          NaN  ...   \n",
       "4            3.03          14.0         32.0     13          NaN  ...   \n",
       "\n",
       "   kitchen_area  balcony    locality_name  airports_nearest  \\\n",
       "0          25.0      NaN  Санкт-Петербург           18863.0   \n",
       "1          11.0      2.0   посёлок Шушары           12817.0   \n",
       "2           8.3      0.0  Санкт-Петербург           21741.0   \n",
       "3           NaN      0.0  Санкт-Петербург           28098.0   \n",
       "4          41.0      NaN  Санкт-Петербург           31856.0   \n",
       "\n",
       "  cityCenters_nearest  parks_around3000  parks_nearest  ponds_around3000  \\\n",
       "0             16028.0               1.0          482.0               2.0   \n",
       "1             18603.0               0.0            NaN               0.0   \n",
       "2             13933.0               1.0           90.0               2.0   \n",
       "3              6800.0               2.0           84.0               3.0   \n",
       "4              8098.0               2.0          112.0               1.0   \n",
       "\n",
       "   ponds_nearest  days_exposition  \n",
       "0          755.0              NaN  \n",
       "1            NaN             81.0  \n",
       "2          574.0            558.0  \n",
       "3          234.0            424.0  \n",
       "4           48.0            121.0  \n",
       "\n",
       "[5 rows x 22 columns]"
      ]
     },
     "execution_count": 1,
     "metadata": {},
     "output_type": "execute_result"
    }
   ],
   "source": [
    "# чтение данных\n",
    "df = pd.read_csv('/datasets/real_estate_data.csv', sep='\\t')\n",
    "df.head()"
   ]
  },
  {
   "cell_type": "code",
   "execution_count": 2,
   "metadata": {
    "scrolled": true
   },
   "outputs": [
    {
     "name": "stdout",
     "output_type": "stream",
     "text": [
      "<class 'pandas.core.frame.DataFrame'>\n",
      "RangeIndex: 23699 entries, 0 to 23698\n",
      "Data columns (total 22 columns):\n",
      "total_images            23699 non-null int64\n",
      "last_price              23699 non-null float64\n",
      "total_area              23699 non-null float64\n",
      "first_day_exposition    23699 non-null object\n",
      "rooms                   23699 non-null int64\n",
      "ceiling_height          14504 non-null float64\n",
      "floors_total            23613 non-null float64\n",
      "living_area             21796 non-null float64\n",
      "floor                   23699 non-null int64\n",
      "is_apartment            2775 non-null object\n",
      "studio                  23699 non-null bool\n",
      "open_plan               23699 non-null bool\n",
      "kitchen_area            21421 non-null float64\n",
      "balcony                 12180 non-null float64\n",
      "locality_name           23650 non-null object\n",
      "airports_nearest        18157 non-null float64\n",
      "cityCenters_nearest     18180 non-null float64\n",
      "parks_around3000        18181 non-null float64\n",
      "parks_nearest           8079 non-null float64\n",
      "ponds_around3000        18181 non-null float64\n",
      "ponds_nearest           9110 non-null float64\n",
      "days_exposition         20518 non-null float64\n",
      "dtypes: bool(2), float64(14), int64(3), object(3)\n",
      "memory usage: 3.7+ MB\n"
     ]
    }
   ],
   "source": [
    "# изучим информацию о таблице\n",
    "df.info()"
   ]
  },
  {
   "cell_type": "code",
   "execution_count": 3,
   "metadata": {
    "scrolled": true
   },
   "outputs": [
    {
     "data": {
      "text/html": [
       "<div>\n",
       "<style scoped>\n",
       "    .dataframe tbody tr th:only-of-type {\n",
       "        vertical-align: middle;\n",
       "    }\n",
       "\n",
       "    .dataframe tbody tr th {\n",
       "        vertical-align: top;\n",
       "    }\n",
       "\n",
       "    .dataframe thead th {\n",
       "        text-align: right;\n",
       "    }\n",
       "</style>\n",
       "<table border=\"1\" class=\"dataframe\">\n",
       "  <thead>\n",
       "    <tr style=\"text-align: right;\">\n",
       "      <th></th>\n",
       "      <th>total_images</th>\n",
       "      <th>last_price</th>\n",
       "      <th>total_area</th>\n",
       "      <th>rooms</th>\n",
       "      <th>ceiling_height</th>\n",
       "      <th>floors_total</th>\n",
       "      <th>living_area</th>\n",
       "      <th>floor</th>\n",
       "      <th>kitchen_area</th>\n",
       "      <th>balcony</th>\n",
       "      <th>airports_nearest</th>\n",
       "      <th>cityCenters_nearest</th>\n",
       "      <th>parks_around3000</th>\n",
       "      <th>parks_nearest</th>\n",
       "      <th>ponds_around3000</th>\n",
       "      <th>ponds_nearest</th>\n",
       "      <th>days_exposition</th>\n",
       "    </tr>\n",
       "  </thead>\n",
       "  <tbody>\n",
       "    <tr>\n",
       "      <td>count</td>\n",
       "      <td>23699.000000</td>\n",
       "      <td>2.369900e+04</td>\n",
       "      <td>23699.000000</td>\n",
       "      <td>23699.000000</td>\n",
       "      <td>14504.000000</td>\n",
       "      <td>23613.000000</td>\n",
       "      <td>21796.000000</td>\n",
       "      <td>23699.000000</td>\n",
       "      <td>21421.000000</td>\n",
       "      <td>12180.000000</td>\n",
       "      <td>18157.000000</td>\n",
       "      <td>18180.000000</td>\n",
       "      <td>18181.000000</td>\n",
       "      <td>8079.000000</td>\n",
       "      <td>18181.000000</td>\n",
       "      <td>9110.000000</td>\n",
       "      <td>20518.000000</td>\n",
       "    </tr>\n",
       "    <tr>\n",
       "      <td>mean</td>\n",
       "      <td>9.858475</td>\n",
       "      <td>6.541549e+06</td>\n",
       "      <td>60.348651</td>\n",
       "      <td>2.070636</td>\n",
       "      <td>2.771499</td>\n",
       "      <td>10.673824</td>\n",
       "      <td>34.457852</td>\n",
       "      <td>5.892358</td>\n",
       "      <td>10.569807</td>\n",
       "      <td>1.150082</td>\n",
       "      <td>28793.672193</td>\n",
       "      <td>14191.277833</td>\n",
       "      <td>0.611408</td>\n",
       "      <td>490.804555</td>\n",
       "      <td>0.770255</td>\n",
       "      <td>517.980900</td>\n",
       "      <td>180.888634</td>\n",
       "    </tr>\n",
       "    <tr>\n",
       "      <td>std</td>\n",
       "      <td>5.682529</td>\n",
       "      <td>1.088701e+07</td>\n",
       "      <td>35.654083</td>\n",
       "      <td>1.078405</td>\n",
       "      <td>1.261056</td>\n",
       "      <td>6.597173</td>\n",
       "      <td>22.030445</td>\n",
       "      <td>4.885249</td>\n",
       "      <td>5.905438</td>\n",
       "      <td>1.071300</td>\n",
       "      <td>12630.880622</td>\n",
       "      <td>8608.386210</td>\n",
       "      <td>0.802074</td>\n",
       "      <td>342.317995</td>\n",
       "      <td>0.938346</td>\n",
       "      <td>277.720643</td>\n",
       "      <td>219.727988</td>\n",
       "    </tr>\n",
       "    <tr>\n",
       "      <td>min</td>\n",
       "      <td>0.000000</td>\n",
       "      <td>1.219000e+04</td>\n",
       "      <td>12.000000</td>\n",
       "      <td>0.000000</td>\n",
       "      <td>1.000000</td>\n",
       "      <td>1.000000</td>\n",
       "      <td>2.000000</td>\n",
       "      <td>1.000000</td>\n",
       "      <td>1.300000</td>\n",
       "      <td>0.000000</td>\n",
       "      <td>0.000000</td>\n",
       "      <td>181.000000</td>\n",
       "      <td>0.000000</td>\n",
       "      <td>1.000000</td>\n",
       "      <td>0.000000</td>\n",
       "      <td>13.000000</td>\n",
       "      <td>1.000000</td>\n",
       "    </tr>\n",
       "    <tr>\n",
       "      <td>25%</td>\n",
       "      <td>6.000000</td>\n",
       "      <td>3.400000e+06</td>\n",
       "      <td>40.000000</td>\n",
       "      <td>1.000000</td>\n",
       "      <td>2.520000</td>\n",
       "      <td>5.000000</td>\n",
       "      <td>18.600000</td>\n",
       "      <td>2.000000</td>\n",
       "      <td>7.000000</td>\n",
       "      <td>0.000000</td>\n",
       "      <td>18585.000000</td>\n",
       "      <td>9238.000000</td>\n",
       "      <td>0.000000</td>\n",
       "      <td>288.000000</td>\n",
       "      <td>0.000000</td>\n",
       "      <td>294.000000</td>\n",
       "      <td>45.000000</td>\n",
       "    </tr>\n",
       "    <tr>\n",
       "      <td>50%</td>\n",
       "      <td>9.000000</td>\n",
       "      <td>4.650000e+06</td>\n",
       "      <td>52.000000</td>\n",
       "      <td>2.000000</td>\n",
       "      <td>2.650000</td>\n",
       "      <td>9.000000</td>\n",
       "      <td>30.000000</td>\n",
       "      <td>4.000000</td>\n",
       "      <td>9.100000</td>\n",
       "      <td>1.000000</td>\n",
       "      <td>26726.000000</td>\n",
       "      <td>13098.500000</td>\n",
       "      <td>0.000000</td>\n",
       "      <td>455.000000</td>\n",
       "      <td>1.000000</td>\n",
       "      <td>502.000000</td>\n",
       "      <td>95.000000</td>\n",
       "    </tr>\n",
       "    <tr>\n",
       "      <td>75%</td>\n",
       "      <td>14.000000</td>\n",
       "      <td>6.800000e+06</td>\n",
       "      <td>69.900000</td>\n",
       "      <td>3.000000</td>\n",
       "      <td>2.800000</td>\n",
       "      <td>16.000000</td>\n",
       "      <td>42.300000</td>\n",
       "      <td>8.000000</td>\n",
       "      <td>12.000000</td>\n",
       "      <td>2.000000</td>\n",
       "      <td>37273.000000</td>\n",
       "      <td>16293.000000</td>\n",
       "      <td>1.000000</td>\n",
       "      <td>612.000000</td>\n",
       "      <td>1.000000</td>\n",
       "      <td>729.000000</td>\n",
       "      <td>232.000000</td>\n",
       "    </tr>\n",
       "    <tr>\n",
       "      <td>max</td>\n",
       "      <td>50.000000</td>\n",
       "      <td>7.630000e+08</td>\n",
       "      <td>900.000000</td>\n",
       "      <td>19.000000</td>\n",
       "      <td>100.000000</td>\n",
       "      <td>60.000000</td>\n",
       "      <td>409.700000</td>\n",
       "      <td>33.000000</td>\n",
       "      <td>112.000000</td>\n",
       "      <td>5.000000</td>\n",
       "      <td>84869.000000</td>\n",
       "      <td>65968.000000</td>\n",
       "      <td>3.000000</td>\n",
       "      <td>3190.000000</td>\n",
       "      <td>3.000000</td>\n",
       "      <td>1344.000000</td>\n",
       "      <td>1580.000000</td>\n",
       "    </tr>\n",
       "  </tbody>\n",
       "</table>\n",
       "</div>"
      ],
      "text/plain": [
       "       total_images    last_price    total_area         rooms  ceiling_height  \\\n",
       "count  23699.000000  2.369900e+04  23699.000000  23699.000000    14504.000000   \n",
       "mean       9.858475  6.541549e+06     60.348651      2.070636        2.771499   \n",
       "std        5.682529  1.088701e+07     35.654083      1.078405        1.261056   \n",
       "min        0.000000  1.219000e+04     12.000000      0.000000        1.000000   \n",
       "25%        6.000000  3.400000e+06     40.000000      1.000000        2.520000   \n",
       "50%        9.000000  4.650000e+06     52.000000      2.000000        2.650000   \n",
       "75%       14.000000  6.800000e+06     69.900000      3.000000        2.800000   \n",
       "max       50.000000  7.630000e+08    900.000000     19.000000      100.000000   \n",
       "\n",
       "       floors_total   living_area         floor  kitchen_area       balcony  \\\n",
       "count  23613.000000  21796.000000  23699.000000  21421.000000  12180.000000   \n",
       "mean      10.673824     34.457852      5.892358     10.569807      1.150082   \n",
       "std        6.597173     22.030445      4.885249      5.905438      1.071300   \n",
       "min        1.000000      2.000000      1.000000      1.300000      0.000000   \n",
       "25%        5.000000     18.600000      2.000000      7.000000      0.000000   \n",
       "50%        9.000000     30.000000      4.000000      9.100000      1.000000   \n",
       "75%       16.000000     42.300000      8.000000     12.000000      2.000000   \n",
       "max       60.000000    409.700000     33.000000    112.000000      5.000000   \n",
       "\n",
       "       airports_nearest  cityCenters_nearest  parks_around3000  parks_nearest  \\\n",
       "count      18157.000000         18180.000000      18181.000000    8079.000000   \n",
       "mean       28793.672193         14191.277833          0.611408     490.804555   \n",
       "std        12630.880622          8608.386210          0.802074     342.317995   \n",
       "min            0.000000           181.000000          0.000000       1.000000   \n",
       "25%        18585.000000          9238.000000          0.000000     288.000000   \n",
       "50%        26726.000000         13098.500000          0.000000     455.000000   \n",
       "75%        37273.000000         16293.000000          1.000000     612.000000   \n",
       "max        84869.000000         65968.000000          3.000000    3190.000000   \n",
       "\n",
       "       ponds_around3000  ponds_nearest  days_exposition  \n",
       "count      18181.000000    9110.000000     20518.000000  \n",
       "mean           0.770255     517.980900       180.888634  \n",
       "std            0.938346     277.720643       219.727988  \n",
       "min            0.000000      13.000000         1.000000  \n",
       "25%            0.000000     294.000000        45.000000  \n",
       "50%            1.000000     502.000000        95.000000  \n",
       "75%            1.000000     729.000000       232.000000  \n",
       "max            3.000000    1344.000000      1580.000000  "
      ]
     },
     "execution_count": 3,
     "metadata": {},
     "output_type": "execute_result"
    }
   ],
   "source": [
    "# описательная статистика\n",
    "df.describe()"
   ]
  },
  {
   "cell_type": "markdown",
   "metadata": {},
   "source": [
    "### Вывод"
   ]
  },
  {
   "cell_type": "markdown",
   "metadata": {},
   "source": [
    "В данных есть пропуски, типы данных не соотвествуют заявленным, дата имеет тип object, есть количественные и категориальные данные, так же в некоторых данных есть большой разброс, например, площать продаваемых квартир, количество этажей в домах, так же анномальные значения. \n",
    "Пропуски есть в столбцах: \n",
    "\n",
    "* высота потолков, \n",
    "* количество этажей в доме, \n",
    "* жилая площадь, \n",
    "* площадь кухни, \n",
    "* число балконов, \n",
    "* название населенного пункта,  \n",
    "* растояние до аэропотра, \n",
    "* до центра города, \n",
    "* количество парков и водоемов около дома,  \n",
    "* растояние до ближайщего парка и водоема,  \n",
    "* сколько дней было размещено объявление. \n",
    "\n",
    "в некоторых данных заменим пропуски подходящими значениями, в других оставим без изменений."
   ]
  },
  {
   "cell_type": "markdown",
   "metadata": {},
   "source": [
    "## Предобработка данных"
   ]
  },
  {
   "cell_type": "code",
   "execution_count": 4,
   "metadata": {
    "scrolled": true
   },
   "outputs": [
    {
     "data": {
      "text/plain": [
       "total_images                0\n",
       "last_price                  0\n",
       "total_area                  0\n",
       "first_day_exposition        0\n",
       "rooms                       0\n",
       "ceiling_height           9195\n",
       "floors_total               86\n",
       "living_area              1903\n",
       "floor                       0\n",
       "is_apartment            20924\n",
       "studio                      0\n",
       "open_plan                   0\n",
       "kitchen_area             2278\n",
       "balcony                 11519\n",
       "locality_name              49\n",
       "airports_nearest         5542\n",
       "cityCenters_nearest      5519\n",
       "parks_around3000         5518\n",
       "parks_nearest           15620\n",
       "ponds_around3000         5518\n",
       "ponds_nearest           14589\n",
       "days_exposition          3181\n",
       "dtype: int64"
      ]
     },
     "execution_count": 4,
     "metadata": {},
     "output_type": "execute_result"
    }
   ],
   "source": [
    "# проверим количество пропусков во всем датасете\n",
    "df.isna().sum()"
   ]
  },
  {
   "cell_type": "code",
   "execution_count": null,
   "metadata": {},
   "outputs": [],
   "source": [
    "# посчитаем процент пропущеных значений\n",
    "round((rest_data.isna().mean()*100),2)"
   ]
  },
  {
   "cell_type": "markdown",
   "metadata": {},
   "source": [
    "### Столбец `balcony`"
   ]
  },
  {
   "cell_type": "code",
   "execution_count": 5,
   "metadata": {
    "scrolled": true
   },
   "outputs": [],
   "source": [
    "# в 11519 строчках не указано число балконов, скорее всего, их нет, заменим пропуски на число 0\n",
    "df['balcony'] = df['balcony'].fillna(0)"
   ]
  },
  {
   "cell_type": "code",
   "execution_count": 6,
   "metadata": {
    "scrolled": true
   },
   "outputs": [
    {
     "data": {
      "text/plain": [
       "0"
      ]
     },
     "execution_count": 6,
     "metadata": {},
     "output_type": "execute_result"
    }
   ],
   "source": [
    "# проверим остались ли пропуски\n",
    "df['balcony'].isna().sum()"
   ]
  },
  {
   "cell_type": "markdown",
   "metadata": {},
   "source": [
    "Пустых значений больше нет.\n",
    "\n",
    "### Следующее заполним пропуски в столбце `ceiling_height`. \n",
    "\n",
    "Медианное значение высоты потолков 2.65, эти даные из таблицы describe. Заменим на 2.65."
   ]
  },
  {
   "cell_type": "code",
   "execution_count": 7,
   "metadata": {
    "scrolled": true
   },
   "outputs": [],
   "source": [
    "# заменили пропущенныные значения на среднее значение\n",
    "df['ceiling_height'] = df['ceiling_height'].fillna(2.65)"
   ]
  },
  {
   "cell_type": "code",
   "execution_count": 8,
   "metadata": {
    "scrolled": true
   },
   "outputs": [
    {
     "data": {
      "text/plain": [
       "0"
      ]
     },
     "execution_count": 8,
     "metadata": {},
     "output_type": "execute_result"
    }
   ],
   "source": [
    "# проверим остались ли пропуски\n",
    "df['ceiling_height'].isna().sum()"
   ]
  },
  {
   "cell_type": "markdown",
   "metadata": {},
   "source": [
    "### Заменим пропуски в столбце `kitchen_area`"
   ]
  },
  {
   "cell_type": "code",
   "execution_count": 9,
   "metadata": {
    "scrolled": true
   },
   "outputs": [],
   "source": [
    "# заполним пропуски площади кухни значением 0 там, где указано, что квартира является студией.\n",
    "df.loc[df['studio'] == True, 'kitchen_area'] = df.loc[df['studio'] == True, 'kitchen_area'].fillna(0)"
   ]
  },
  {
   "cell_type": "code",
   "execution_count": 10,
   "metadata": {
    "scrolled": true
   },
   "outputs": [],
   "source": [
    "# оставшиеся прокуски заменим средним значением площади кухни в зависимости\n",
    "# от количества комнат в квартиры\n",
    "df_transformed = df.groupby('rooms')['kitchen_area'].transform('mean')\n",
    "df['kitchen_area'] = df['kitchen_area'].fillna(df_transformed)"
   ]
  },
  {
   "cell_type": "code",
   "execution_count": 11,
   "metadata": {
    "scrolled": true
   },
   "outputs": [
    {
     "data": {
      "text/plain": [
       "0"
      ]
     },
     "execution_count": 11,
     "metadata": {},
     "output_type": "execute_result"
    }
   ],
   "source": [
    "df['kitchen_area'].isna().sum()"
   ]
  },
  {
   "cell_type": "markdown",
   "metadata": {},
   "source": [
    "Пропуски заполнены."
   ]
  },
  {
   "cell_type": "markdown",
   "metadata": {},
   "source": [
    "### Столбец `living_area`\n",
    "\n",
    "Пропуски в столбце `living_area` заменим средним значением в зависимости от количества комнат в квартире"
   ]
  },
  {
   "cell_type": "code",
   "execution_count": 12,
   "metadata": {
    "scrolled": true
   },
   "outputs": [],
   "source": [
    "df_transformed = df.groupby('rooms')['living_area'].transform('mean')\n",
    "df['living_area'] = df['living_area'].fillna(df_transformed)"
   ]
  },
  {
   "cell_type": "code",
   "execution_count": 13,
   "metadata": {
    "scrolled": true
   },
   "outputs": [
    {
     "data": {
      "text/plain": [
       "0"
      ]
     },
     "execution_count": 13,
     "metadata": {},
     "output_type": "execute_result"
    }
   ],
   "source": [
    "df['living_area'].isna().sum()"
   ]
  },
  {
   "cell_type": "markdown",
   "metadata": {},
   "source": [
    "### Столбец `is_apartment`\n",
    "\n",
    "В столбеце `is_apartment` много пропусков. Данный вид недвижемости не популярен и очень редкий,  имеет статус не жилого помещения. и распологаются в основном в бизнес центрах. Вполне, возможно, эту строчку в оъявлении в большенстве случаев просто пропускали. Пропуски можно оставить без изменений, эта категория не существенная и не повлияет на анализ данных. "
   ]
  },
  {
   "cell_type": "markdown",
   "metadata": {},
   "source": [
    "### Столбец `floors_total`\n",
    "\n",
    "Пропусков в столбеце этажность дома всего 86, но этот стольбец понадобиться нам для дальнейшего анализа. Заполним эти пропуски значением этаж квартиры + 1 этаж"
   ]
  },
  {
   "cell_type": "code",
   "execution_count": 14,
   "metadata": {
    "scrolled": true
   },
   "outputs": [],
   "source": [
    "df['floors_total'] = df['floors_total'].fillna(df['floor'] + 1)"
   ]
  },
  {
   "cell_type": "code",
   "execution_count": 15,
   "metadata": {
    "scrolled": true
   },
   "outputs": [
    {
     "data": {
      "text/plain": [
       "0"
      ]
     },
     "execution_count": 15,
     "metadata": {},
     "output_type": "execute_result"
    }
   ],
   "source": [
    "df['floors_total'].isna().sum()"
   ]
  },
  {
   "cell_type": "markdown",
   "metadata": {},
   "source": [
    "### Столбец `locality_name`\n",
    "\n",
    "Столбец с названием населенного пункта. "
   ]
  },
  {
   "cell_type": "code",
   "execution_count": 16,
   "metadata": {
    "scrolled": true
   },
   "outputs": [
    {
     "data": {
      "text/plain": [
       "49"
      ]
     },
     "execution_count": 16,
     "metadata": {},
     "output_type": "execute_result"
    }
   ],
   "source": [
    "df['locality_name'].isna().sum()"
   ]
  },
  {
   "cell_type": "code",
   "execution_count": 17,
   "metadata": {
    "scrolled": true
   },
   "outputs": [
    {
     "data": {
      "text/plain": [
       "Санкт-Петербург            15721\n",
       "посёлок Мурино               522\n",
       "посёлок Шушары               440\n",
       "Всеволожск                   398\n",
       "Пушкин                       369\n",
       "Колпино                      338\n",
       "посёлок Парголово            327\n",
       "Гатчина                      307\n",
       "деревня Кудрово              299\n",
       "Выборг                       237\n",
       "Петергоф                     201\n",
       "Сестрорецк                   183\n",
       "Красное Село                 178\n",
       "Кудрово                      173\n",
       "деревня Новое Девяткино      144\n",
       "Сертолово                    142\n",
       "Ломоносов                    133\n",
       "Кириши                       125\n",
       "Сланцы                       112\n",
       "Волхов                       111\n",
       "Name: locality_name, dtype: int64"
      ]
     },
     "execution_count": 17,
     "metadata": {},
     "output_type": "execute_result"
    }
   ],
   "source": [
    "# посмотрим какие значения есть в этом столбце и их количество\n",
    "df['locality_name'].value_counts().head(20)"
   ]
  },
  {
   "cell_type": "code",
   "execution_count": 18,
   "metadata": {
    "scrolled": true
   },
   "outputs": [
    {
     "data": {
      "text/plain": [
       "61"
      ]
     },
     "execution_count": 18,
     "metadata": {},
     "output_type": "execute_result"
    }
   ],
   "source": [
    "# посмотрим сколько пропусков есть в столбце растояние от центра города для объявлений в спб\n",
    "df[df['locality_name'] == 'Санкт-Петербург']['cityCenters_nearest'].isna().sum()"
   ]
  },
  {
   "cell_type": "code",
   "execution_count": 19,
   "metadata": {
    "scrolled": true
   },
   "outputs": [
    {
     "data": {
      "text/html": [
       "<div>\n",
       "<style scoped>\n",
       "    .dataframe tbody tr th:only-of-type {\n",
       "        vertical-align: middle;\n",
       "    }\n",
       "\n",
       "    .dataframe tbody tr th {\n",
       "        vertical-align: top;\n",
       "    }\n",
       "\n",
       "    .dataframe thead th {\n",
       "        text-align: right;\n",
       "    }\n",
       "</style>\n",
       "<table border=\"1\" class=\"dataframe\">\n",
       "  <thead>\n",
       "    <tr style=\"text-align: right;\">\n",
       "      <th></th>\n",
       "      <th>cityCenters_nearest</th>\n",
       "    </tr>\n",
       "    <tr>\n",
       "      <th>locality_name</th>\n",
       "      <th></th>\n",
       "    </tr>\n",
       "  </thead>\n",
       "  <tbody>\n",
       "    <tr>\n",
       "      <td>Санкт-Петербург</td>\n",
       "      <td>11601.291571</td>\n",
       "    </tr>\n",
       "  </tbody>\n",
       "</table>\n",
       "</div>"
      ],
      "text/plain": [
       "                 cityCenters_nearest\n",
       "locality_name                       \n",
       "Санкт-Петербург         11601.291571"
      ]
     },
     "execution_count": 19,
     "metadata": {},
     "output_type": "execute_result"
    }
   ],
   "source": [
    "# посчитаем среднее растояние от центра города для объявлений находящихся в спб\n",
    "(\n",
    "    df.query('locality_name == \"Санкт-Петербург\"')\n",
    "    .pivot_table(index='locality_name', values='cityCenters_nearest')\n",
    ")"
   ]
  },
  {
   "cell_type": "code",
   "execution_count": 20,
   "metadata": {
    "scrolled": true
   },
   "outputs": [],
   "source": [
    "# заменим пропуски в столбце cityCenters_nearest на среднее растояние для объявлений расположеных в спб \n",
    "data_spb = df.groupby(df['locality_name'] == 'Санкт-Петербург')['cityCenters_nearest'].transform('mean')\n",
    "\n",
    "\n",
    "df.loc[df['locality_name'] == 'Санкт-Петербург', 'cityCenters_nearest'] = df.loc[df['locality_name'] == 'Санкт-Петербург', 'cityCenters_nearest'].fillna(data_spb) "
   ]
  },
  {
   "cell_type": "code",
   "execution_count": 21,
   "metadata": {
    "scrolled": true
   },
   "outputs": [
    {
     "data": {
      "text/plain": [
       "0"
      ]
     },
     "execution_count": 21,
     "metadata": {},
     "output_type": "execute_result"
    }
   ],
   "source": [
    "df[df['locality_name'] == 'Санкт-Петербург']['cityCenters_nearest'].isna().sum()"
   ]
  },
  {
   "cell_type": "code",
   "execution_count": 22,
   "metadata": {
    "scrolled": true
   },
   "outputs": [],
   "source": [
    "# тоже самое сделаем для объявлений чье место положение отлицается от спб\n",
    "data_no_spb = df.groupby(df['locality_name'] != 'Санкт-Петербург')['cityCenters_nearest'].transform('mean')\n",
    "\n",
    "\n",
    "df.loc[df['locality_name'] != 'Санкт-Петербург', 'cityCenters_nearest'] = df.loc[df['locality_name'] != 'Санкт-Петербург', 'cityCenters_nearest'].fillna(data_no_spb) "
   ]
  },
  {
   "cell_type": "code",
   "execution_count": 23,
   "metadata": {
    "scrolled": true
   },
   "outputs": [
    {
     "data": {
      "text/plain": [
       "0"
      ]
     },
     "execution_count": 23,
     "metadata": {},
     "output_type": "execute_result"
    }
   ],
   "source": [
    "df[df['locality_name'] != 'Санкт-Петербург']['cityCenters_nearest'].isna().sum()"
   ]
  },
  {
   "cell_type": "code",
   "execution_count": 24,
   "metadata": {
    "scrolled": true
   },
   "outputs": [],
   "source": [
    "# заполним пропуски в названиях населенного пункта, если растояние до центра города меньше или равно 15 км, то объявление расположено в спб\n",
    "df.loc[df['cityCenters_nearest'] <= 15000.0 , 'locality_name'] = df.loc[df['cityCenters_nearest'] <= 15000.0, 'locality_name'].fillna('Санкт-Петербург') "
   ]
  },
  {
   "cell_type": "code",
   "execution_count": 25,
   "metadata": {
    "scrolled": true
   },
   "outputs": [],
   "source": [
    "# если растояние до центра города больше 15 км, то объявление расположено в лен. обл.\n",
    "df.loc[df['cityCenters_nearest'] > 15000.0 , 'locality_name'] = df.loc[df['cityCenters_nearest'] > 15000.0, 'locality_name'].fillna('Лен.обл.')"
   ]
  },
  {
   "cell_type": "code",
   "execution_count": 26,
   "metadata": {
    "scrolled": true
   },
   "outputs": [
    {
     "data": {
      "text/plain": [
       "0"
      ]
     },
     "execution_count": 26,
     "metadata": {},
     "output_type": "execute_result"
    }
   ],
   "source": [
    "df['locality_name'].isna().sum()"
   ]
  },
  {
   "cell_type": "markdown",
   "metadata": {},
   "source": [
    "### Столбец `airports_nearest`, `parks_around3000`, `parks_nearest`, `ponds_around3000`, `ponds_nearest`\n",
    "\n",
    "Столбцы растояние до аэропорта, до ближайщего парка и водоема и количнство парков и водаемов в радиусе 3км эти данные заполняются автоматически, оставим их без изменений"
   ]
  },
  {
   "cell_type": "code",
   "execution_count": 27,
   "metadata": {
    "scrolled": true
   },
   "outputs": [
    {
     "data": {
      "text/html": [
       "<div>\n",
       "<style scoped>\n",
       "    .dataframe tbody tr th:only-of-type {\n",
       "        vertical-align: middle;\n",
       "    }\n",
       "\n",
       "    .dataframe tbody tr th {\n",
       "        vertical-align: top;\n",
       "    }\n",
       "\n",
       "    .dataframe thead th {\n",
       "        text-align: right;\n",
       "    }\n",
       "</style>\n",
       "<table border=\"1\" class=\"dataframe\">\n",
       "  <thead>\n",
       "    <tr style=\"text-align: right;\">\n",
       "      <th></th>\n",
       "      <th>total_images</th>\n",
       "      <th>last_price</th>\n",
       "      <th>total_area</th>\n",
       "      <th>first_day_exposition</th>\n",
       "      <th>rooms</th>\n",
       "      <th>ceiling_height</th>\n",
       "      <th>floors_total</th>\n",
       "      <th>living_area</th>\n",
       "      <th>floor</th>\n",
       "      <th>is_apartment</th>\n",
       "      <th>...</th>\n",
       "      <th>kitchen_area</th>\n",
       "      <th>balcony</th>\n",
       "      <th>locality_name</th>\n",
       "      <th>airports_nearest</th>\n",
       "      <th>cityCenters_nearest</th>\n",
       "      <th>parks_around3000</th>\n",
       "      <th>parks_nearest</th>\n",
       "      <th>ponds_around3000</th>\n",
       "      <th>ponds_nearest</th>\n",
       "      <th>days_exposition</th>\n",
       "    </tr>\n",
       "  </thead>\n",
       "  <tbody>\n",
       "    <tr>\n",
       "      <td>5</td>\n",
       "      <td>10</td>\n",
       "      <td>2890000.0</td>\n",
       "      <td>30.40</td>\n",
       "      <td>2018-09-10T00:00:00</td>\n",
       "      <td>1</td>\n",
       "      <td>2.65</td>\n",
       "      <td>12.0</td>\n",
       "      <td>14.400000</td>\n",
       "      <td>5</td>\n",
       "      <td>NaN</td>\n",
       "      <td>...</td>\n",
       "      <td>9.100000</td>\n",
       "      <td>0.0</td>\n",
       "      <td>городской посёлок Янино-1</td>\n",
       "      <td>NaN</td>\n",
       "      <td>30286.19246</td>\n",
       "      <td>NaN</td>\n",
       "      <td>NaN</td>\n",
       "      <td>NaN</td>\n",
       "      <td>NaN</td>\n",
       "      <td>55.0</td>\n",
       "    </tr>\n",
       "    <tr>\n",
       "      <td>8</td>\n",
       "      <td>20</td>\n",
       "      <td>2900000.0</td>\n",
       "      <td>33.16</td>\n",
       "      <td>2018-05-23T00:00:00</td>\n",
       "      <td>1</td>\n",
       "      <td>2.65</td>\n",
       "      <td>27.0</td>\n",
       "      <td>15.430000</td>\n",
       "      <td>26</td>\n",
       "      <td>NaN</td>\n",
       "      <td>...</td>\n",
       "      <td>8.810000</td>\n",
       "      <td>0.0</td>\n",
       "      <td>посёлок Мурино</td>\n",
       "      <td>NaN</td>\n",
       "      <td>30286.19246</td>\n",
       "      <td>NaN</td>\n",
       "      <td>NaN</td>\n",
       "      <td>NaN</td>\n",
       "      <td>NaN</td>\n",
       "      <td>189.0</td>\n",
       "    </tr>\n",
       "    <tr>\n",
       "      <td>12</td>\n",
       "      <td>10</td>\n",
       "      <td>3890000.0</td>\n",
       "      <td>54.00</td>\n",
       "      <td>2016-06-30T00:00:00</td>\n",
       "      <td>2</td>\n",
       "      <td>2.65</td>\n",
       "      <td>5.0</td>\n",
       "      <td>30.000000</td>\n",
       "      <td>5</td>\n",
       "      <td>NaN</td>\n",
       "      <td>...</td>\n",
       "      <td>9.000000</td>\n",
       "      <td>0.0</td>\n",
       "      <td>Сертолово</td>\n",
       "      <td>NaN</td>\n",
       "      <td>30286.19246</td>\n",
       "      <td>NaN</td>\n",
       "      <td>NaN</td>\n",
       "      <td>NaN</td>\n",
       "      <td>NaN</td>\n",
       "      <td>90.0</td>\n",
       "    </tr>\n",
       "    <tr>\n",
       "      <td>22</td>\n",
       "      <td>20</td>\n",
       "      <td>5000000.0</td>\n",
       "      <td>58.00</td>\n",
       "      <td>2017-04-24T00:00:00</td>\n",
       "      <td>2</td>\n",
       "      <td>2.75</td>\n",
       "      <td>25.0</td>\n",
       "      <td>30.000000</td>\n",
       "      <td>15</td>\n",
       "      <td>NaN</td>\n",
       "      <td>...</td>\n",
       "      <td>11.000000</td>\n",
       "      <td>2.0</td>\n",
       "      <td>деревня Кудрово</td>\n",
       "      <td>NaN</td>\n",
       "      <td>30286.19246</td>\n",
       "      <td>NaN</td>\n",
       "      <td>NaN</td>\n",
       "      <td>NaN</td>\n",
       "      <td>NaN</td>\n",
       "      <td>60.0</td>\n",
       "    </tr>\n",
       "    <tr>\n",
       "      <td>30</td>\n",
       "      <td>12</td>\n",
       "      <td>2200000.0</td>\n",
       "      <td>32.80</td>\n",
       "      <td>2018-02-19T00:00:00</td>\n",
       "      <td>1</td>\n",
       "      <td>2.65</td>\n",
       "      <td>9.0</td>\n",
       "      <td>17.893552</td>\n",
       "      <td>2</td>\n",
       "      <td>NaN</td>\n",
       "      <td>...</td>\n",
       "      <td>9.535576</td>\n",
       "      <td>0.0</td>\n",
       "      <td>Коммунар</td>\n",
       "      <td>NaN</td>\n",
       "      <td>30286.19246</td>\n",
       "      <td>NaN</td>\n",
       "      <td>NaN</td>\n",
       "      <td>NaN</td>\n",
       "      <td>NaN</td>\n",
       "      <td>63.0</td>\n",
       "    </tr>\n",
       "    <tr>\n",
       "      <td>...</td>\n",
       "      <td>...</td>\n",
       "      <td>...</td>\n",
       "      <td>...</td>\n",
       "      <td>...</td>\n",
       "      <td>...</td>\n",
       "      <td>...</td>\n",
       "      <td>...</td>\n",
       "      <td>...</td>\n",
       "      <td>...</td>\n",
       "      <td>...</td>\n",
       "      <td>...</td>\n",
       "      <td>...</td>\n",
       "      <td>...</td>\n",
       "      <td>...</td>\n",
       "      <td>...</td>\n",
       "      <td>...</td>\n",
       "      <td>...</td>\n",
       "      <td>...</td>\n",
       "      <td>...</td>\n",
       "      <td>...</td>\n",
       "      <td>...</td>\n",
       "    </tr>\n",
       "    <tr>\n",
       "      <td>23683</td>\n",
       "      <td>16</td>\n",
       "      <td>2100000.0</td>\n",
       "      <td>62.80</td>\n",
       "      <td>2018-09-18T00:00:00</td>\n",
       "      <td>4</td>\n",
       "      <td>2.50</td>\n",
       "      <td>5.0</td>\n",
       "      <td>45.500000</td>\n",
       "      <td>3</td>\n",
       "      <td>NaN</td>\n",
       "      <td>...</td>\n",
       "      <td>5.500000</td>\n",
       "      <td>0.0</td>\n",
       "      <td>посёлок Дзержинского</td>\n",
       "      <td>NaN</td>\n",
       "      <td>30286.19246</td>\n",
       "      <td>NaN</td>\n",
       "      <td>NaN</td>\n",
       "      <td>NaN</td>\n",
       "      <td>NaN</td>\n",
       "      <td>NaN</td>\n",
       "    </tr>\n",
       "    <tr>\n",
       "      <td>23692</td>\n",
       "      <td>2</td>\n",
       "      <td>1350000.0</td>\n",
       "      <td>30.00</td>\n",
       "      <td>2017-07-07T00:00:00</td>\n",
       "      <td>1</td>\n",
       "      <td>2.65</td>\n",
       "      <td>5.0</td>\n",
       "      <td>17.500000</td>\n",
       "      <td>4</td>\n",
       "      <td>NaN</td>\n",
       "      <td>...</td>\n",
       "      <td>6.000000</td>\n",
       "      <td>0.0</td>\n",
       "      <td>Тихвин</td>\n",
       "      <td>NaN</td>\n",
       "      <td>30286.19246</td>\n",
       "      <td>NaN</td>\n",
       "      <td>NaN</td>\n",
       "      <td>NaN</td>\n",
       "      <td>NaN</td>\n",
       "      <td>413.0</td>\n",
       "    </tr>\n",
       "    <tr>\n",
       "      <td>23695</td>\n",
       "      <td>14</td>\n",
       "      <td>3100000.0</td>\n",
       "      <td>59.00</td>\n",
       "      <td>2018-01-15T00:00:00</td>\n",
       "      <td>3</td>\n",
       "      <td>2.65</td>\n",
       "      <td>5.0</td>\n",
       "      <td>38.000000</td>\n",
       "      <td>4</td>\n",
       "      <td>NaN</td>\n",
       "      <td>...</td>\n",
       "      <td>8.500000</td>\n",
       "      <td>0.0</td>\n",
       "      <td>Тосно</td>\n",
       "      <td>NaN</td>\n",
       "      <td>30286.19246</td>\n",
       "      <td>NaN</td>\n",
       "      <td>NaN</td>\n",
       "      <td>NaN</td>\n",
       "      <td>NaN</td>\n",
       "      <td>45.0</td>\n",
       "    </tr>\n",
       "    <tr>\n",
       "      <td>23696</td>\n",
       "      <td>18</td>\n",
       "      <td>2500000.0</td>\n",
       "      <td>56.70</td>\n",
       "      <td>2018-02-11T00:00:00</td>\n",
       "      <td>2</td>\n",
       "      <td>2.65</td>\n",
       "      <td>3.0</td>\n",
       "      <td>29.700000</td>\n",
       "      <td>1</td>\n",
       "      <td>NaN</td>\n",
       "      <td>...</td>\n",
       "      <td>9.979584</td>\n",
       "      <td>0.0</td>\n",
       "      <td>село Рождествено</td>\n",
       "      <td>NaN</td>\n",
       "      <td>30286.19246</td>\n",
       "      <td>NaN</td>\n",
       "      <td>NaN</td>\n",
       "      <td>NaN</td>\n",
       "      <td>NaN</td>\n",
       "      <td>NaN</td>\n",
       "    </tr>\n",
       "    <tr>\n",
       "      <td>23698</td>\n",
       "      <td>4</td>\n",
       "      <td>1350000.0</td>\n",
       "      <td>32.30</td>\n",
       "      <td>2017-07-21T00:00:00</td>\n",
       "      <td>1</td>\n",
       "      <td>2.50</td>\n",
       "      <td>5.0</td>\n",
       "      <td>12.300000</td>\n",
       "      <td>1</td>\n",
       "      <td>NaN</td>\n",
       "      <td>...</td>\n",
       "      <td>9.000000</td>\n",
       "      <td>0.0</td>\n",
       "      <td>поселок Новый Учхоз</td>\n",
       "      <td>NaN</td>\n",
       "      <td>30286.19246</td>\n",
       "      <td>NaN</td>\n",
       "      <td>NaN</td>\n",
       "      <td>NaN</td>\n",
       "      <td>NaN</td>\n",
       "      <td>NaN</td>\n",
       "    </tr>\n",
       "  </tbody>\n",
       "</table>\n",
       "<p>5518 rows × 22 columns</p>\n",
       "</div>"
      ],
      "text/plain": [
       "       total_images  last_price  total_area first_day_exposition  rooms  \\\n",
       "5                10   2890000.0       30.40  2018-09-10T00:00:00      1   \n",
       "8                20   2900000.0       33.16  2018-05-23T00:00:00      1   \n",
       "12               10   3890000.0       54.00  2016-06-30T00:00:00      2   \n",
       "22               20   5000000.0       58.00  2017-04-24T00:00:00      2   \n",
       "30               12   2200000.0       32.80  2018-02-19T00:00:00      1   \n",
       "...             ...         ...         ...                  ...    ...   \n",
       "23683            16   2100000.0       62.80  2018-09-18T00:00:00      4   \n",
       "23692             2   1350000.0       30.00  2017-07-07T00:00:00      1   \n",
       "23695            14   3100000.0       59.00  2018-01-15T00:00:00      3   \n",
       "23696            18   2500000.0       56.70  2018-02-11T00:00:00      2   \n",
       "23698             4   1350000.0       32.30  2017-07-21T00:00:00      1   \n",
       "\n",
       "       ceiling_height  floors_total  living_area  floor is_apartment  ...  \\\n",
       "5                2.65          12.0    14.400000      5          NaN  ...   \n",
       "8                2.65          27.0    15.430000     26          NaN  ...   \n",
       "12               2.65           5.0    30.000000      5          NaN  ...   \n",
       "22               2.75          25.0    30.000000     15          NaN  ...   \n",
       "30               2.65           9.0    17.893552      2          NaN  ...   \n",
       "...               ...           ...          ...    ...          ...  ...   \n",
       "23683            2.50           5.0    45.500000      3          NaN  ...   \n",
       "23692            2.65           5.0    17.500000      4          NaN  ...   \n",
       "23695            2.65           5.0    38.000000      4          NaN  ...   \n",
       "23696            2.65           3.0    29.700000      1          NaN  ...   \n",
       "23698            2.50           5.0    12.300000      1          NaN  ...   \n",
       "\n",
       "       kitchen_area  balcony              locality_name  airports_nearest  \\\n",
       "5          9.100000      0.0  городской посёлок Янино-1               NaN   \n",
       "8          8.810000      0.0             посёлок Мурино               NaN   \n",
       "12         9.000000      0.0                  Сертолово               NaN   \n",
       "22        11.000000      2.0            деревня Кудрово               NaN   \n",
       "30         9.535576      0.0                   Коммунар               NaN   \n",
       "...             ...      ...                        ...               ...   \n",
       "23683      5.500000      0.0       посёлок Дзержинского               NaN   \n",
       "23692      6.000000      0.0                     Тихвин               NaN   \n",
       "23695      8.500000      0.0                      Тосно               NaN   \n",
       "23696      9.979584      0.0           село Рождествено               NaN   \n",
       "23698      9.000000      0.0        поселок Новый Учхоз               NaN   \n",
       "\n",
       "      cityCenters_nearest  parks_around3000  parks_nearest  ponds_around3000  \\\n",
       "5             30286.19246               NaN            NaN               NaN   \n",
       "8             30286.19246               NaN            NaN               NaN   \n",
       "12            30286.19246               NaN            NaN               NaN   \n",
       "22            30286.19246               NaN            NaN               NaN   \n",
       "30            30286.19246               NaN            NaN               NaN   \n",
       "...                   ...               ...            ...               ...   \n",
       "23683         30286.19246               NaN            NaN               NaN   \n",
       "23692         30286.19246               NaN            NaN               NaN   \n",
       "23695         30286.19246               NaN            NaN               NaN   \n",
       "23696         30286.19246               NaN            NaN               NaN   \n",
       "23698         30286.19246               NaN            NaN               NaN   \n",
       "\n",
       "       ponds_nearest  days_exposition  \n",
       "5                NaN             55.0  \n",
       "8                NaN            189.0  \n",
       "12               NaN             90.0  \n",
       "22               NaN             60.0  \n",
       "30               NaN             63.0  \n",
       "...              ...              ...  \n",
       "23683            NaN              NaN  \n",
       "23692            NaN            413.0  \n",
       "23695            NaN             45.0  \n",
       "23696            NaN              NaN  \n",
       "23698            NaN              NaN  \n",
       "\n",
       "[5518 rows x 22 columns]"
      ]
     },
     "execution_count": 27,
     "metadata": {},
     "output_type": "execute_result"
    }
   ],
   "source": [
    "df[df[['airports_nearest', 'parks_around3000',\n",
    "       'parks_nearest', 'ponds_around3000', 'ponds_nearest']].isna().all(axis=1) == True]"
   ]
  },
  {
   "cell_type": "markdown",
   "metadata": {},
   "source": [
    "### Тип данных "
   ]
  },
  {
   "cell_type": "code",
   "execution_count": 28,
   "metadata": {},
   "outputs": [],
   "source": [
    "df['first_date_datetime'] = pd.to_datetime(df['first_day_exposition'], format='%Y-%m-%dT%H:%M:%S')"
   ]
  },
  {
   "cell_type": "markdown",
   "metadata": {},
   "source": [
    "### Столбец `days_exposition`\n",
    "\n",
    "Расмотрим столбец сколько дней было размещенно объявление"
   ]
  },
  {
   "cell_type": "code",
   "execution_count": 29,
   "metadata": {},
   "outputs": [
    {
     "data": {
      "text/plain": [
       "45.0    880\n",
       "60.0    538\n",
       "7.0     234\n",
       "30.0    208\n",
       "90.0    204\n",
       "4.0     176\n",
       "3.0     158\n",
       "5.0     152\n",
       "14.0    148\n",
       "9.0     143\n",
       "20.0    139\n",
       "8.0     139\n",
       "44.0    138\n",
       "11.0    135\n",
       "18.0    129\n",
       "13.0    128\n",
       "10.0    127\n",
       "15.0    126\n",
       "28.0    126\n",
       "22.0    125\n",
       "Name: days_exposition, dtype: int64"
      ]
     },
     "execution_count": 29,
     "metadata": {},
     "output_type": "execute_result"
    }
   ],
   "source": [
    "df['days_exposition'].value_counts().head(20)"
   ]
  },
  {
   "cell_type": "markdown",
   "metadata": {},
   "source": [
    "Чаще всего продажа квартиры занимает 45 - 60 дней."
   ]
  },
  {
   "cell_type": "code",
   "execution_count": 30,
   "metadata": {},
   "outputs": [
    {
     "data": {
      "text/plain": [
       "3181"
      ]
     },
     "execution_count": 30,
     "metadata": {},
     "output_type": "execute_result"
    }
   ],
   "source": [
    "# количество пропусков\n",
    "df['days_exposition'].isna().sum()"
   ]
  },
  {
   "cell_type": "markdown",
   "metadata": {},
   "source": [
    "В 3181 строчках данных нет, возможно, это означает, что объявление еще актуально, квартира не снята с продажи."
   ]
  },
  {
   "cell_type": "markdown",
   "metadata": {},
   "source": [
    "<div class=\"alert alert-info\"> <b>Комментарий студента:</b> В разделе \"Предобработка данных\" была проведена работа по заполнению  пропусков в значимых столбцых, подходящими и логичными значениями, чтобы можно было продолжить работу по анализу таблицы.\n",
    "</div>"
   ]
  },
  {
   "cell_type": "markdown",
   "metadata": {},
   "source": [
    "**Вывод**"
   ]
  },
  {
   "cell_type": "markdown",
   "metadata": {},
   "source": [
    "### Расчёты и добавление результатов в таблицу"
   ]
  },
  {
   "cell_type": "markdown",
   "metadata": {},
   "source": [
    "#### Стоимость квадратного метра"
   ]
  },
  {
   "cell_type": "code",
   "execution_count": 31,
   "metadata": {
    "scrolled": true
   },
   "outputs": [],
   "source": [
    "# поссчитаем стоимость квадратного метра в квартире. Дабавим новый столбец.\n",
    "df['price_square_meter'] = df['last_price'] / df['total_area']"
   ]
  },
  {
   "cell_type": "markdown",
   "metadata": {},
   "source": [
    "#### Добавим в таблицу день недели, месяц и год публикации объявления"
   ]
  },
  {
   "cell_type": "code",
   "execution_count": 32,
   "metadata": {},
   "outputs": [],
   "source": [
    "#день недели\n",
    "df['week_day'] = df['first_date_datetime'].dt.weekday"
   ]
  },
  {
   "cell_type": "code",
   "execution_count": 33,
   "metadata": {},
   "outputs": [],
   "source": [
    "#месяц\n",
    "df['month'] = pd.DatetimeIndex(df['first_date_datetime']).month"
   ]
  },
  {
   "cell_type": "code",
   "execution_count": 34,
   "metadata": {},
   "outputs": [],
   "source": [
    "#год\n",
    "df['year'] = df['first_date_datetime'].dt.year"
   ]
  },
  {
   "cell_type": "markdown",
   "metadata": {},
   "source": [
    "#### Добавим в таблицу новый столбец категории по этажу квартиры: первый, последний, другой"
   ]
  },
  {
   "cell_type": "code",
   "execution_count": 35,
   "metadata": {},
   "outputs": [],
   "source": [
    "#напишем функцию для категоризации столбца этаж квартиры\n",
    "def group_floor(row):\n",
    "    floor = row['floor']\n",
    "    floors_total = row['floors_total']\n",
    "    if floor == 1:\n",
    "        return 'первый'\n",
    "    if floor == floors_total:\n",
    "        return 'последний'\n",
    "    return 'другой'\n",
    "\n",
    "#созданим новый столбец с результатом работы функции\n",
    "df['categori_floor'] = df.apply(group_floor, axis=1)"
   ]
  },
  {
   "cell_type": "code",
   "execution_count": 36,
   "metadata": {},
   "outputs": [
    {
     "data": {
      "text/plain": [
       "другой       17446\n",
       "последний     3336\n",
       "первый        2917\n",
       "Name: categori_floor, dtype: int64"
      ]
     },
     "execution_count": 36,
     "metadata": {},
     "output_type": "execute_result"
    }
   ],
   "source": [
    "df['categori_floor'].value_counts()"
   ]
  },
  {
   "cell_type": "markdown",
   "metadata": {},
   "source": [
    "#### соотношение жилой и общей площади, а также отношение площади кухни к общей"
   ]
  },
  {
   "cell_type": "code",
   "execution_count": 37,
   "metadata": {},
   "outputs": [],
   "source": [
    "#добавим столбец с долей жилой площади к общей площади\n",
    "df['share_living_area'] = df['living_area'] / df['total_area'] * 100"
   ]
  },
  {
   "cell_type": "code",
   "execution_count": 38,
   "metadata": {},
   "outputs": [],
   "source": [
    "#добавим столбец с долей площади кухни к общей площади\n",
    "df['share_kitchen_area'] = df['kitchen_area'] / df['total_area'] * 100"
   ]
  },
  {
   "cell_type": "markdown",
   "metadata": {},
   "source": [
    "## Исследовательский анализ данных"
   ]
  },
  {
   "cell_type": "markdown",
   "metadata": {},
   "source": [
    "### Построим гистограммы \n",
    "для следующих параметров: площадь, цена, число комнат, высота потолков"
   ]
  },
  {
   "cell_type": "code",
   "execution_count": 39,
   "metadata": {
    "scrolled": true
   },
   "outputs": [
    {
     "data": {
      "text/plain": [
       "array([[<matplotlib.axes._subplots.AxesSubplot object at 0x7f552eccecd0>]],\n",
       "      dtype=object)"
      ]
     },
     "execution_count": 39,
     "metadata": {},
     "output_type": "execute_result"
    },
    {
     "data": {
      "image/png": "[encoded data removed]",
      "text/plain": [
       "<Figure size 432x288 with 1 Axes>"
      ]
     },
     "metadata": {
      "needs_background": "light"
     },
     "output_type": "display_data"
    }
   ],
   "source": [
    "# гистограмма для общей площади квартиры\n",
    "df.hist(column='total_area', bins=1000, range=(0, 400))"
   ]
  },
  {
   "cell_type": "code",
   "execution_count": 40,
   "metadata": {
    "scrolled": true
   },
   "outputs": [
    {
     "data": {
      "text/plain": [
       "<matplotlib.axes._subplots.AxesSubplot at 0x7f552e282210>"
      ]
     },
     "execution_count": 40,
     "metadata": {},
     "output_type": "execute_result"
    },
    {
     "data": {
      "image/png": "[encoded data removed]",
      "text/plain": [
       "<Figure size 432x288 with 1 Axes>"
      ]
     },
     "metadata": {
      "needs_background": "light"
     },
     "output_type": "display_data"
    }
   ],
   "source": [
    "# построим диаграмму размаха\n",
    "df.boxplot(column='total_area')"
   ]
  },
  {
   "cell_type": "markdown",
   "metadata": {},
   "source": [
    "Вывод: Чаще всего продают квартиры площадью менее 50 м2 или около того, это могут быть студии, однокомнатный, двукомнатные в старом фонде. Так же в данных есть квартиры с очень большой площадью, в полне вероятно это выбросы."
   ]
  },
  {
   "cell_type": "code",
   "execution_count": 41,
   "metadata": {},
   "outputs": [
    {
     "data": {
      "text/plain": [
       "array([[<matplotlib.axes._subplots.AxesSubplot object at 0x7f552dce9710>]],\n",
       "      dtype=object)"
      ]
     },
     "execution_count": 41,
     "metadata": {},
     "output_type": "execute_result"
    },
    {
     "data": {
      "image/png": "[encoded data removed]",
      "text/plain": [
       "<Figure size 432x288 with 1 Axes>"
      ]
     },
     "metadata": {
      "needs_background": "light"
     },
     "output_type": "display_data"
    }
   ],
   "source": [
    "# гистограмма для цен на квартиры\n",
    "df.hist(column='last_price', bins=100, range=(0,0.7e8))"
   ]
  },
  {
   "cell_type": "markdown",
   "metadata": {},
   "source": [
    "Вывод: Большая часть цен на квартиры находиться в пределах до 10 000 000. Но есть анномально большие цены, выше 60 000 000. "
   ]
  },
  {
   "cell_type": "code",
   "execution_count": 42,
   "metadata": {},
   "outputs": [
    {
     "data": {
      "text/plain": [
       "array([[<matplotlib.axes._subplots.AxesSubplot object at 0x7f5525556c10>]],\n",
       "      dtype=object)"
      ]
     },
     "execution_count": 42,
     "metadata": {},
     "output_type": "execute_result"
    },
    {
     "data": {
      "image/png": "[encoded data removed]",
      "text/plain": [
       "<Figure size 432x288 with 1 Axes>"
      ]
     },
     "metadata": {
      "needs_background": "light"
     },
     "output_type": "display_data"
    }
   ],
   "source": [
    "# гистограмма для числа комнат в квартирых\n",
    "df.hist(column='rooms', bins=20, range=(0,20))"
   ]
  },
  {
   "cell_type": "code",
   "execution_count": 43,
   "metadata": {},
   "outputs": [
    {
     "data": {
      "text/plain": [
       "<matplotlib.axes._subplots.AxesSubplot at 0x7f55254b9f50>"
      ]
     },
     "execution_count": 43,
     "metadata": {},
     "output_type": "execute_result"
    },
    {
     "data": {
      "image/png": "[encoded data removed]",
      "text/plain": [
       "<Figure size 576x576 with 1 Axes>"
      ]
     },
     "metadata": {},
     "output_type": "display_data"
    }
   ],
   "source": [
    "df.groupby('rooms')['rooms'].count().plot(y='rooms', kind='pie', figsize=(8,8))"
   ]
  },
  {
   "cell_type": "code",
   "execution_count": 44,
   "metadata": {},
   "outputs": [
    {
     "data": {
      "text/plain": [
       "<matplotlib.axes._subplots.AxesSubplot at 0x7f55253ccb50>"
      ]
     },
     "execution_count": 44,
     "metadata": {},
     "output_type": "execute_result"
    },
    {
     "data": {
      "image/png": "[encoded data removed]",
      "text/plain": [
       "<Figure size 432x288 with 1 Axes>"
      ]
     },
     "metadata": {
      "needs_background": "light"
     },
     "output_type": "display_data"
    }
   ],
   "source": [
    "# построим диаграмму размаха\n",
    "df.boxplot(column='rooms')"
   ]
  },
  {
   "cell_type": "markdown",
   "metadata": {},
   "source": [
    "Вывод: Большую часть сегмента занимают однокомнатные квартиры, следом 2-х комнатные и 3-х комнатные, самые редкие 5-и и 6-и комнатные. Но есть некоторое количество анномальных значений, похожих на выброс."
   ]
  },
  {
   "cell_type": "code",
   "execution_count": 45,
   "metadata": {},
   "outputs": [
    {
     "data": {
      "text/plain": [
       "array([[<matplotlib.axes._subplots.AxesSubplot object at 0x7f55253491d0>]],\n",
       "      dtype=object)"
      ]
     },
     "execution_count": 45,
     "metadata": {},
     "output_type": "execute_result"
    },
    {
     "data": {
      "image/png": "[encoded data removed]",
      "text/plain": [
       "<Figure size 432x288 with 1 Axes>"
      ]
     },
     "metadata": {
      "needs_background": "light"
     },
     "output_type": "display_data"
    }
   ],
   "source": [
    "# гистограмма для высоты потолков в квартирах\n",
    "df.hist(column='ceiling_height', bins=50)"
   ]
  },
  {
   "cell_type": "code",
   "execution_count": 46,
   "metadata": {},
   "outputs": [
    {
     "data": {
      "text/plain": [
       "<matplotlib.axes._subplots.AxesSubplot at 0x7f5525276150>"
      ]
     },
     "execution_count": 46,
     "metadata": {},
     "output_type": "execute_result"
    },
    {
     "data": {
      "image/png": "[encoded data removed]",
      "text/plain": [
       "<Figure size 432x288 with 1 Axes>"
      ]
     },
     "metadata": {
      "needs_background": "light"
     },
     "output_type": "display_data"
    }
   ],
   "source": [
    "# построим диаграмму размаха\n",
    "df.boxplot(column='ceiling_height')"
   ]
  },
  {
   "cell_type": "markdown",
   "metadata": {},
   "source": [
    "Вывод:по диаграмме видно, что есть значения больше 10м и даже 100м, это нереально анномальные величины для высоты потолков в жилых помещениях."
   ]
  },
  {
   "cell_type": "markdown",
   "metadata": {},
   "source": [
    "### Изучим время продажи квартиры. "
   ]
  },
  {
   "cell_type": "code",
   "execution_count": 47,
   "metadata": {},
   "outputs": [
    {
     "data": {
      "text/plain": [
       "array([[<matplotlib.axes._subplots.AxesSubplot object at 0x7f55251ae190>]],\n",
       "      dtype=object)"
      ]
     },
     "execution_count": 47,
     "metadata": {},
     "output_type": "execute_result"
    },
    {
     "data": {
      "image/png": "[encoded data removed]",
      "text/plain": [
       "<Figure size 432x288 with 1 Axes>"
      ]
     },
     "metadata": {
      "needs_background": "light"
     },
     "output_type": "display_data"
    }
   ],
   "source": [
    "df.hist(column='days_exposition', bins=100)"
   ]
  },
  {
   "cell_type": "code",
   "execution_count": 48,
   "metadata": {},
   "outputs": [
    {
     "data": {
      "text/plain": [
       "<matplotlib.axes._subplots.AxesSubplot at 0x7f5525045c10>"
      ]
     },
     "execution_count": 48,
     "metadata": {},
     "output_type": "execute_result"
    },
    {
     "data": {
      "image/png": "[encoded data removed]",
      "text/plain": [
       "<Figure size 432x288 with 1 Axes>"
      ]
     },
     "metadata": {
      "needs_background": "light"
     },
     "output_type": "display_data"
    }
   ],
   "source": [
    "# построим диаграмму размаха\n",
    "df.boxplot(column='days_exposition')"
   ]
  },
  {
   "cell_type": "code",
   "execution_count": 49,
   "metadata": {},
   "outputs": [
    {
     "name": "stdout",
     "output_type": "stream",
     "text": [
      "95.0\n",
      "180.88863436982163\n"
     ]
    }
   ],
   "source": [
    "# рассчитаем медиану и сренее\n",
    "median = df['days_exposition'].median()\n",
    "mean = df['days_exposition'].mean()\n",
    "print(median)\n",
    "print(mean)"
   ]
  },
  {
   "cell_type": "markdown",
   "metadata": {},
   "source": [
    "Вывод: среднее значение больше медианого в два раза, это большое отклонение. Значит есть значения похожие на выбросы, анномально большие и их много в выборке. Обычно продажа занимает около 100 дней. Быстрыми продажами можно назвать продажи, занявшие несколько дней. Необычайно долгие продажи от 300 до 600 дней."
   ]
  },
  {
   "cell_type": "markdown",
   "metadata": {},
   "source": [
    "### Уберем редкие и выбивающиеся значения. "
   ]
  },
  {
   "cell_type": "code",
   "execution_count": 50,
   "metadata": {},
   "outputs": [],
   "source": [
    "# отфильтруем анномальные значения в площадях квартир, оставим квартиры площадью менее 400 м2\n",
    "df = df[df['total_area'] < 400.0]"
   ]
  },
  {
   "cell_type": "code",
   "execution_count": 51,
   "metadata": {},
   "outputs": [],
   "source": [
    "# исключим анномальные значения в стоимости на квартиры, оставим квартиры стоимостью менее 40 000 000\n",
    "df = df[df['last_price'] < 0.4e8]"
   ]
  },
  {
   "cell_type": "code",
   "execution_count": 52,
   "metadata": {},
   "outputs": [],
   "source": [
    "# оставим квартиры с числом комнат меньше 7\n",
    "df = df[df['rooms'] < 7.0]"
   ]
  },
  {
   "cell_type": "code",
   "execution_count": 53,
   "metadata": {},
   "outputs": [],
   "source": [
    "# оставляем квартиры с высотой потолков менее 10м и больше 2,5м\n",
    "df = df[df['ceiling_height'] < 10.0]\n",
    "df = df[df['ceiling_height'] > 2.5]"
   ]
  },
  {
   "cell_type": "code",
   "execution_count": 54,
   "metadata": {},
   "outputs": [
    {
     "name": "stdout",
     "output_type": "stream",
     "text": [
      "<class 'pandas.core.frame.DataFrame'>\n",
      "Int64Index: 19823 entries, 0 to 23697\n",
      "Data columns (total 30 columns):\n",
      "total_images            19823 non-null int64\n",
      "last_price              19823 non-null float64\n",
      "total_area              19823 non-null float64\n",
      "first_day_exposition    19823 non-null object\n",
      "rooms                   19823 non-null int64\n",
      "ceiling_height          19823 non-null float64\n",
      "floors_total            19823 non-null float64\n",
      "living_area             19823 non-null float64\n",
      "floor                   19823 non-null int64\n",
      "is_apartment            2421 non-null object\n",
      "studio                  19823 non-null bool\n",
      "open_plan               19823 non-null bool\n",
      "kitchen_area            19823 non-null float64\n",
      "balcony                 19823 non-null float64\n",
      "locality_name           19823 non-null object\n",
      "airports_nearest        15304 non-null float64\n",
      "cityCenters_nearest     19823 non-null float64\n",
      "parks_around3000        15324 non-null float64\n",
      "parks_nearest           6787 non-null float64\n",
      "ponds_around3000        15324 non-null float64\n",
      "ponds_nearest           7868 non-null float64\n",
      "days_exposition         17352 non-null float64\n",
      "first_date_datetime     19823 non-null datetime64[ns]\n",
      "price_square_meter      19823 non-null float64\n",
      "week_day                19823 non-null int64\n",
      "month                   19823 non-null int64\n",
      "year                    19823 non-null int64\n",
      "categori_floor          19823 non-null object\n",
      "share_living_area       19823 non-null float64\n",
      "share_kitchen_area      19823 non-null float64\n",
      "dtypes: bool(2), datetime64[ns](1), float64(17), int64(6), object(4)\n",
      "memory usage: 4.4+ MB\n"
     ]
    }
   ],
   "source": [
    "df.info()"
   ]
  },
  {
   "cell_type": "code",
   "execution_count": 55,
   "metadata": {},
   "outputs": [
    {
     "data": {
      "text/html": [
       "<div>\n",
       "<style scoped>\n",
       "    .dataframe tbody tr th:only-of-type {\n",
       "        vertical-align: middle;\n",
       "    }\n",
       "\n",
       "    .dataframe tbody tr th {\n",
       "        vertical-align: top;\n",
       "    }\n",
       "\n",
       "    .dataframe thead th {\n",
       "        text-align: right;\n",
       "    }\n",
       "</style>\n",
       "<table border=\"1\" class=\"dataframe\">\n",
       "  <thead>\n",
       "    <tr style=\"text-align: right;\">\n",
       "      <th></th>\n",
       "      <th>total_images</th>\n",
       "      <th>last_price</th>\n",
       "      <th>total_area</th>\n",
       "      <th>rooms</th>\n",
       "      <th>ceiling_height</th>\n",
       "      <th>floors_total</th>\n",
       "      <th>living_area</th>\n",
       "      <th>floor</th>\n",
       "      <th>kitchen_area</th>\n",
       "      <th>balcony</th>\n",
       "      <th>...</th>\n",
       "      <th>parks_nearest</th>\n",
       "      <th>ponds_around3000</th>\n",
       "      <th>ponds_nearest</th>\n",
       "      <th>days_exposition</th>\n",
       "      <th>price_square_meter</th>\n",
       "      <th>week_day</th>\n",
       "      <th>month</th>\n",
       "      <th>year</th>\n",
       "      <th>share_living_area</th>\n",
       "      <th>share_kitchen_area</th>\n",
       "    </tr>\n",
       "  </thead>\n",
       "  <tbody>\n",
       "    <tr>\n",
       "      <td>count</td>\n",
       "      <td>19823.000000</td>\n",
       "      <td>1.982300e+04</td>\n",
       "      <td>19823.000000</td>\n",
       "      <td>19823.000000</td>\n",
       "      <td>19823.000000</td>\n",
       "      <td>19823.000000</td>\n",
       "      <td>19823.000000</td>\n",
       "      <td>19823.00000</td>\n",
       "      <td>19823.000000</td>\n",
       "      <td>19823.000000</td>\n",
       "      <td>...</td>\n",
       "      <td>6787.000000</td>\n",
       "      <td>15324.000000</td>\n",
       "      <td>7868.000000</td>\n",
       "      <td>17352.000000</td>\n",
       "      <td>19823.000000</td>\n",
       "      <td>19823.000000</td>\n",
       "      <td>19823.000000</td>\n",
       "      <td>19823.000000</td>\n",
       "      <td>19823.000000</td>\n",
       "      <td>19823.000000</td>\n",
       "    </tr>\n",
       "    <tr>\n",
       "      <td>mean</td>\n",
       "      <td>9.819301</td>\n",
       "      <td>6.172333e+06</td>\n",
       "      <td>60.126104</td>\n",
       "      <td>2.036271</td>\n",
       "      <td>2.728189</td>\n",
       "      <td>11.260304</td>\n",
       "      <td>33.946671</td>\n",
       "      <td>6.17288</td>\n",
       "      <td>10.756095</td>\n",
       "      <td>0.598446</td>\n",
       "      <td>...</td>\n",
       "      <td>495.665390</td>\n",
       "      <td>0.796202</td>\n",
       "      <td>515.812023</td>\n",
       "      <td>182.148456</td>\n",
       "      <td>99420.950577</td>\n",
       "      <td>2.580639</td>\n",
       "      <td>6.419967</td>\n",
       "      <td>2017.315795</td>\n",
       "      <td>55.753290</td>\n",
       "      <td>19.281893</td>\n",
       "    </tr>\n",
       "    <tr>\n",
       "      <td>std</td>\n",
       "      <td>5.710558</td>\n",
       "      <td>4.687749e+06</td>\n",
       "      <td>29.239308</td>\n",
       "      <td>1.011410</td>\n",
       "      <td>0.221664</td>\n",
       "      <td>6.860402</td>\n",
       "      <td>18.736936</td>\n",
       "      <td>5.10366</td>\n",
       "      <td>5.322974</td>\n",
       "      <td>0.972470</td>\n",
       "      <td>...</td>\n",
       "      <td>355.685839</td>\n",
       "      <td>0.950259</td>\n",
       "      <td>277.673839</td>\n",
       "      <td>220.768908</td>\n",
       "      <td>39045.315775</td>\n",
       "      <td>1.784399</td>\n",
       "      <td>3.486318</td>\n",
       "      <td>1.041204</td>\n",
       "      <td>11.164125</td>\n",
       "      <td>7.781597</td>\n",
       "    </tr>\n",
       "    <tr>\n",
       "      <td>min</td>\n",
       "      <td>0.000000</td>\n",
       "      <td>1.219000e+04</td>\n",
       "      <td>12.000000</td>\n",
       "      <td>0.000000</td>\n",
       "      <td>2.510000</td>\n",
       "      <td>1.000000</td>\n",
       "      <td>2.000000</td>\n",
       "      <td>1.00000</td>\n",
       "      <td>0.000000</td>\n",
       "      <td>0.000000</td>\n",
       "      <td>...</td>\n",
       "      <td>1.000000</td>\n",
       "      <td>0.000000</td>\n",
       "      <td>13.000000</td>\n",
       "      <td>2.000000</td>\n",
       "      <td>111.834862</td>\n",
       "      <td>0.000000</td>\n",
       "      <td>1.000000</td>\n",
       "      <td>2014.000000</td>\n",
       "      <td>3.846154</td>\n",
       "      <td>0.000000</td>\n",
       "    </tr>\n",
       "    <tr>\n",
       "      <td>25%</td>\n",
       "      <td>6.000000</td>\n",
       "      <td>3.500000e+06</td>\n",
       "      <td>40.100000</td>\n",
       "      <td>1.000000</td>\n",
       "      <td>2.650000</td>\n",
       "      <td>5.000000</td>\n",
       "      <td>18.300000</td>\n",
       "      <td>2.00000</td>\n",
       "      <td>8.000000</td>\n",
       "      <td>0.000000</td>\n",
       "      <td>...</td>\n",
       "      <td>287.000000</td>\n",
       "      <td>0.000000</td>\n",
       "      <td>292.750000</td>\n",
       "      <td>45.000000</td>\n",
       "      <td>78097.709961</td>\n",
       "      <td>1.000000</td>\n",
       "      <td>3.000000</td>\n",
       "      <td>2017.000000</td>\n",
       "      <td>48.177083</td>\n",
       "      <td>13.725490</td>\n",
       "    </tr>\n",
       "    <tr>\n",
       "      <td>50%</td>\n",
       "      <td>9.000000</td>\n",
       "      <td>4.800000e+06</td>\n",
       "      <td>53.100000</td>\n",
       "      <td>2.000000</td>\n",
       "      <td>2.650000</td>\n",
       "      <td>9.000000</td>\n",
       "      <td>30.750000</td>\n",
       "      <td>5.00000</td>\n",
       "      <td>9.979584</td>\n",
       "      <td>0.000000</td>\n",
       "      <td>...</td>\n",
       "      <td>451.000000</td>\n",
       "      <td>1.000000</td>\n",
       "      <td>500.000000</td>\n",
       "      <td>96.000000</td>\n",
       "      <td>96147.672552</td>\n",
       "      <td>3.000000</td>\n",
       "      <td>6.000000</td>\n",
       "      <td>2017.000000</td>\n",
       "      <td>55.897436</td>\n",
       "      <td>17.950127</td>\n",
       "    </tr>\n",
       "    <tr>\n",
       "      <td>75%</td>\n",
       "      <td>14.000000</td>\n",
       "      <td>7.100000e+06</td>\n",
       "      <td>71.900000</td>\n",
       "      <td>3.000000</td>\n",
       "      <td>2.750000</td>\n",
       "      <td>16.000000</td>\n",
       "      <td>43.000000</td>\n",
       "      <td>8.00000</td>\n",
       "      <td>12.000000</td>\n",
       "      <td>1.000000</td>\n",
       "      <td>...</td>\n",
       "      <td>613.000000</td>\n",
       "      <td>1.000000</td>\n",
       "      <td>726.000000</td>\n",
       "      <td>233.000000</td>\n",
       "      <td>115949.737897</td>\n",
       "      <td>4.000000</td>\n",
       "      <td>10.000000</td>\n",
       "      <td>2018.000000</td>\n",
       "      <td>63.180372</td>\n",
       "      <td>24.101144</td>\n",
       "    </tr>\n",
       "    <tr>\n",
       "      <td>max</td>\n",
       "      <td>50.000000</td>\n",
       "      <td>3.999000e+07</td>\n",
       "      <td>380.000000</td>\n",
       "      <td>6.000000</td>\n",
       "      <td>8.300000</td>\n",
       "      <td>60.000000</td>\n",
       "      <td>200.000000</td>\n",
       "      <td>33.00000</td>\n",
       "      <td>100.700000</td>\n",
       "      <td>5.000000</td>\n",
       "      <td>...</td>\n",
       "      <td>3190.000000</td>\n",
       "      <td>3.000000</td>\n",
       "      <td>1344.000000</td>\n",
       "      <td>1572.000000</td>\n",
       "      <td>848484.848485</td>\n",
       "      <td>6.000000</td>\n",
       "      <td>12.000000</td>\n",
       "      <td>2019.000000</td>\n",
       "      <td>159.483865</td>\n",
       "      <td>79.463132</td>\n",
       "    </tr>\n",
       "  </tbody>\n",
       "</table>\n",
       "<p>8 rows × 23 columns</p>\n",
       "</div>"
      ],
      "text/plain": [
       "       total_images    last_price    total_area         rooms  ceiling_height  \\\n",
       "count  19823.000000  1.982300e+04  19823.000000  19823.000000    19823.000000   \n",
       "mean       9.819301  6.172333e+06     60.126104      2.036271        2.728189   \n",
       "std        5.710558  4.687749e+06     29.239308      1.011410        0.221664   \n",
       "min        0.000000  1.219000e+04     12.000000      0.000000        2.510000   \n",
       "25%        6.000000  3.500000e+06     40.100000      1.000000        2.650000   \n",
       "50%        9.000000  4.800000e+06     53.100000      2.000000        2.650000   \n",
       "75%       14.000000  7.100000e+06     71.900000      3.000000        2.750000   \n",
       "max       50.000000  3.999000e+07    380.000000      6.000000        8.300000   \n",
       "\n",
       "       floors_total   living_area        floor  kitchen_area       balcony  \\\n",
       "count  19823.000000  19823.000000  19823.00000  19823.000000  19823.000000   \n",
       "mean      11.260304     33.946671      6.17288     10.756095      0.598446   \n",
       "std        6.860402     18.736936      5.10366      5.322974      0.972470   \n",
       "min        1.000000      2.000000      1.00000      0.000000      0.000000   \n",
       "25%        5.000000     18.300000      2.00000      8.000000      0.000000   \n",
       "50%        9.000000     30.750000      5.00000      9.979584      0.000000   \n",
       "75%       16.000000     43.000000      8.00000     12.000000      1.000000   \n",
       "max       60.000000    200.000000     33.00000    100.700000      5.000000   \n",
       "\n",
       "       ...  parks_nearest  ponds_around3000  ponds_nearest  days_exposition  \\\n",
       "count  ...    6787.000000      15324.000000    7868.000000     17352.000000   \n",
       "mean   ...     495.665390          0.796202     515.812023       182.148456   \n",
       "std    ...     355.685839          0.950259     277.673839       220.768908   \n",
       "min    ...       1.000000          0.000000      13.000000         2.000000   \n",
       "25%    ...     287.000000          0.000000     292.750000        45.000000   \n",
       "50%    ...     451.000000          1.000000     500.000000        96.000000   \n",
       "75%    ...     613.000000          1.000000     726.000000       233.000000   \n",
       "max    ...    3190.000000          3.000000    1344.000000      1572.000000   \n",
       "\n",
       "       price_square_meter      week_day         month          year  \\\n",
       "count        19823.000000  19823.000000  19823.000000  19823.000000   \n",
       "mean         99420.950577      2.580639      6.419967   2017.315795   \n",
       "std          39045.315775      1.784399      3.486318      1.041204   \n",
       "min            111.834862      0.000000      1.000000   2014.000000   \n",
       "25%          78097.709961      1.000000      3.000000   2017.000000   \n",
       "50%          96147.672552      3.000000      6.000000   2017.000000   \n",
       "75%         115949.737897      4.000000     10.000000   2018.000000   \n",
       "max         848484.848485      6.000000     12.000000   2019.000000   \n",
       "\n",
       "       share_living_area  share_kitchen_area  \n",
       "count       19823.000000        19823.000000  \n",
       "mean           55.753290           19.281893  \n",
       "std            11.164125            7.781597  \n",
       "min             3.846154            0.000000  \n",
       "25%            48.177083           13.725490  \n",
       "50%            55.897436           17.950127  \n",
       "75%            63.180372           24.101144  \n",
       "max           159.483865           79.463132  \n",
       "\n",
       "[8 rows x 23 columns]"
      ]
     },
     "execution_count": 55,
     "metadata": {},
     "output_type": "execute_result"
    }
   ],
   "source": [
    "df.describe()"
   ]
  },
  {
   "cell_type": "markdown",
   "metadata": {},
   "source": [
    "**Вывод** После фильтрации таблицы количество сторк снизилось с 23699 до 19823, это 83% от исходного объема. Статистические характеристики стали более корректрыми, и соотвествуют реальным занчениям."
   ]
  },
  {
   "cell_type": "markdown",
   "metadata": {},
   "source": [
    "### Определим какие факторы больше всего влияют на стоимость квартиры"
   ]
  },
  {
   "cell_type": "code",
   "execution_count": 56,
   "metadata": {},
   "outputs": [
    {
     "data": {
      "text/html": [
       "<div>\n",
       "<style scoped>\n",
       "    .dataframe tbody tr th:only-of-type {\n",
       "        vertical-align: middle;\n",
       "    }\n",
       "\n",
       "    .dataframe tbody tr th {\n",
       "        vertical-align: top;\n",
       "    }\n",
       "\n",
       "    .dataframe thead th {\n",
       "        text-align: right;\n",
       "    }\n",
       "</style>\n",
       "<table border=\"1\" class=\"dataframe\">\n",
       "  <thead>\n",
       "    <tr style=\"text-align: right;\">\n",
       "      <th></th>\n",
       "      <th>last_price</th>\n",
       "    </tr>\n",
       "    <tr>\n",
       "      <th>total_area</th>\n",
       "      <th></th>\n",
       "    </tr>\n",
       "  </thead>\n",
       "  <tbody>\n",
       "    <tr>\n",
       "      <td>12.0</td>\n",
       "      <td>2400000.0</td>\n",
       "    </tr>\n",
       "    <tr>\n",
       "      <td>13.0</td>\n",
       "      <td>2350000.0</td>\n",
       "    </tr>\n",
       "    <tr>\n",
       "      <td>13.2</td>\n",
       "      <td>1686000.0</td>\n",
       "    </tr>\n",
       "    <tr>\n",
       "      <td>14.0</td>\n",
       "      <td>1190000.0</td>\n",
       "    </tr>\n",
       "    <tr>\n",
       "      <td>15.0</td>\n",
       "      <td>1550000.0</td>\n",
       "    </tr>\n",
       "    <tr>\n",
       "      <td>...</td>\n",
       "      <td>...</td>\n",
       "    </tr>\n",
       "    <tr>\n",
       "      <td>320.0</td>\n",
       "      <td>14000000.0</td>\n",
       "    </tr>\n",
       "    <tr>\n",
       "      <td>327.2</td>\n",
       "      <td>29000000.0</td>\n",
       "    </tr>\n",
       "    <tr>\n",
       "      <td>336.0</td>\n",
       "      <td>28000000.0</td>\n",
       "    </tr>\n",
       "    <tr>\n",
       "      <td>365.0</td>\n",
       "      <td>32350000.0</td>\n",
       "    </tr>\n",
       "    <tr>\n",
       "      <td>380.0</td>\n",
       "      <td>35000000.0</td>\n",
       "    </tr>\n",
       "  </tbody>\n",
       "</table>\n",
       "<p>2016 rows × 1 columns</p>\n",
       "</div>"
      ],
      "text/plain": [
       "            last_price\n",
       "total_area            \n",
       "12.0         2400000.0\n",
       "13.0         2350000.0\n",
       "13.2         1686000.0\n",
       "14.0         1190000.0\n",
       "15.0         1550000.0\n",
       "...                ...\n",
       "320.0       14000000.0\n",
       "327.2       29000000.0\n",
       "336.0       28000000.0\n",
       "365.0       32350000.0\n",
       "380.0       35000000.0\n",
       "\n",
       "[2016 rows x 1 columns]"
      ]
     },
     "execution_count": 56,
     "metadata": {},
     "output_type": "execute_result"
    }
   ],
   "source": [
    "# посмотрим средную цену квартир разной площади\n",
    "df.pivot_table(index='total_area', values='last_price')"
   ]
  },
  {
   "cell_type": "code",
   "execution_count": 57,
   "metadata": {},
   "outputs": [
    {
     "data": {
      "text/plain": [
       "<matplotlib.axes._subplots.AxesSubplot at 0x7f5524fe2f50>"
      ]
     },
     "execution_count": 57,
     "metadata": {},
     "output_type": "execute_result"
    },
    {
     "data": {
      "image/png": "[encoded data removed]",
      "text/plain": [
       "<Figure size 360x360 with 1 Axes>"
      ]
     },
     "metadata": {
      "needs_background": "light"
     },
     "output_type": "display_data"
    }
   ],
   "source": [
    "# цена от площади\n",
    "df.plot(x='total_area', y='last_price', kind='scatter', figsize=(5,5), grid=True, title='Price and Area')\n",
    "\n",
    "#df_price_area = df.pivot_table(index='total_area', values='last_price')\n",
    "#df_price_area.plot(x='last_price', kind='bar', grid=True, figsize=(8,5))\n",
    "         "
   ]
  },
  {
   "cell_type": "code",
   "execution_count": 58,
   "metadata": {},
   "outputs": [
    {
     "data": {
      "text/plain": [
       "0.7859567533467509"
      ]
     },
     "execution_count": 58,
     "metadata": {},
     "output_type": "execute_result"
    }
   ],
   "source": [
    "# посчитаем корреляцию\n",
    "df['last_price'].corr(df['total_area'])"
   ]
  },
  {
   "cell_type": "markdown",
   "metadata": {},
   "source": [
    "**Вывод** С увеличением площади квартиры возрастает ее цена. Коэффициент корреляции 0.65, зависимость линейная и положительная, с ростом одной величины растет и другая "
   ]
  },
  {
   "cell_type": "code",
   "execution_count": 59,
   "metadata": {},
   "outputs": [
    {
     "data": {
      "text/plain": [
       "<matplotlib.axes._subplots.AxesSubplot at 0x7f5524fc6ad0>"
      ]
     },
     "execution_count": 59,
     "metadata": {},
     "output_type": "execute_result"
    },
    {
     "data": {
      "image/png": "[encoded data removed]",
      "text/plain": [
       "<Figure size 360x360 with 1 Axes>"
      ]
     },
     "metadata": {
      "needs_background": "light"
     },
     "output_type": "display_data"
    }
   ],
   "source": [
    "# цена от числа комнат\n",
    "(\n",
    "df.pivot_table(index='rooms', values='last_price')\n",
    "    .plot(grid=True, figsize=(5,5), title='Price and Rooms')\n",
    "         )"
   ]
  },
  {
   "cell_type": "markdown",
   "metadata": {},
   "source": [
    "**Вывод** Чем больше комнат в квартире, тем выше ее стоимость"
   ]
  },
  {
   "cell_type": "code",
   "execution_count": 60,
   "metadata": {},
   "outputs": [
    {
     "data": {
      "text/plain": [
       "<matplotlib.axes._subplots.AxesSubplot at 0x7f5524e6a790>"
      ]
     },
     "execution_count": 60,
     "metadata": {},
     "output_type": "execute_result"
    },
    {
     "data": {
      "image/png": "[encoded data removed]",
      "text/plain": [
       "<Figure size 360x360 with 1 Axes>"
      ]
     },
     "metadata": {
      "needs_background": "light"
     },
     "output_type": "display_data"
    }
   ],
   "source": [
    "# цена от удаленности от центра\n",
    "df.plot(x='cityCenters_nearest', y='last_price', kind='scatter', figsize=(5,5), grid=True, title='Price and Center city')"
   ]
  },
  {
   "cell_type": "code",
   "execution_count": 61,
   "metadata": {},
   "outputs": [
    {
     "data": {
      "text/plain": [
       "-0.4643583594939335"
      ]
     },
     "execution_count": 61,
     "metadata": {},
     "output_type": "execute_result"
    }
   ],
   "source": [
    "# посчитаем корреляцию\n",
    "df['last_price'].corr(df['cityCenters_nearest'])"
   ]
  },
  {
   "cell_type": "markdown",
   "metadata": {},
   "source": [
    "**Вывод** Тут все не однозначно. Конечно, чем дольше от центра, тем меньше высоких цен на квартиры. Но так же есть много не дорогих квартир и в близи центра города. Возможно, это маленькие квартиры по площади, комнаты и студио. Коэффициент имеет отрицательное зачение, линейная заваисимость есть и при увеличении растояния - цена уменьшается."
   ]
  },
  {
   "cell_type": "code",
   "execution_count": 62,
   "metadata": {},
   "outputs": [
    {
     "data": {
      "text/plain": [
       "array([<matplotlib.axes._subplots.AxesSubplot object at 0x7f5524e67ed0>],\n",
       "      dtype=object)"
      ]
     },
     "execution_count": 62,
     "metadata": {},
     "output_type": "execute_result"
    },
    {
     "data": {
      "image/png": "[encoded data removed]",
      "text/plain": [
       "<Figure size 432x288 with 1 Axes>"
      ]
     },
     "metadata": {},
     "output_type": "display_data"
    }
   ],
   "source": [
    "# цена от этажа квартиры\n",
    "(\n",
    "df.pivot_table(index='categori_floor', values='last_price')\n",
    ".plot(y='last_price', kind='pie', autopct='%.0f%%', label='', title='Price and Floor', subplots=True)\n",
    ")"
   ]
  },
  {
   "cell_type": "code",
   "execution_count": 65,
   "metadata": {},
   "outputs": [
    {
     "name": "stderr",
     "output_type": "stream",
     "text": [
      "No handles with labels found to put in legend.\n"
     ]
    },
    {
     "data": {
      "text/plain": [
       "array([<matplotlib.axes._subplots.AxesSubplot object at 0x7f552f22c510>],\n",
       "      dtype=object)"
      ]
     },
     "execution_count": 65,
     "metadata": {},
     "output_type": "execute_result"
    },
    {
     "data": {
      "image/png": "[encoded data removed]",
      "text/plain": [
       "<Figure size 432x288 with 1 Axes>"
      ]
     },
     "metadata": {
      "needs_background": "light"
     },
     "output_type": "display_data"
    }
   ],
   "source": [
    "(\n",
    "df.pivot_table(index='categori_floor', values='last_price')\n",
    ".plot(y='last_price', kind='bar', label='', title='Price and Floor', subplots=True)\n",
    ")"
   ]
  },
  {
   "cell_type": "markdown",
   "metadata": {},
   "source": [
    "**Вывод** Больше ценяться квартиры на промежуточных этажах, квартиры на первом этаже стоят дешевле"
   ]
  },
  {
   "cell_type": "code",
   "execution_count": 66,
   "metadata": {},
   "outputs": [
    {
     "data": {
      "text/plain": [
       "<matplotlib.axes._subplots.AxesSubplot at 0x7f5524d34b90>"
      ]
     },
     "execution_count": 66,
     "metadata": {},
     "output_type": "execute_result"
    },
    {
     "data": {
      "image/png": "[encoded data removed]",
      "text/plain": [
       "<Figure size 360x360 with 1 Axes>"
      ]
     },
     "metadata": {
      "needs_background": "light"
     },
     "output_type": "display_data"
    }
   ],
   "source": [
    "# цена от даты размещения объявления\n",
    "df.groupby('year')['last_price'].mean().plot(y='last_price', kind='bar',figsize=(5,5), grid=True, title='Price and Year')"
   ]
  },
  {
   "cell_type": "markdown",
   "metadata": {},
   "source": [
    "**Вывод** В 2014 году стоимость квартир была высокая, потом был некоторый спад, который сменился повышением в 2017 году"
   ]
  },
  {
   "cell_type": "code",
   "execution_count": 67,
   "metadata": {},
   "outputs": [
    {
     "data": {
      "text/plain": [
       "<matplotlib.axes._subplots.AxesSubplot at 0x7f5524d8e810>"
      ]
     },
     "execution_count": 67,
     "metadata": {},
     "output_type": "execute_result"
    },
    {
     "data": {
      "image/png": "[encoded data removed]",
      "text/plain": [
       "<Figure size 360x360 with 1 Axes>"
      ]
     },
     "metadata": {
      "needs_background": "light"
     },
     "output_type": "display_data"
    }
   ],
   "source": [
    "# цена в зависимости от месяца\n",
    "df.groupby('month')['last_price'].mean().plot(y='last_price', kind='bar',figsize=(5,5), grid=True, title='Price and Month')"
   ]
  },
  {
   "cell_type": "code",
   "execution_count": 68,
   "metadata": {},
   "outputs": [
    {
     "data": {
      "text/plain": [
       "0.00317379879411917"
      ]
     },
     "execution_count": 68,
     "metadata": {},
     "output_type": "execute_result"
    }
   ],
   "source": [
    "df['last_price'].corr(df['month'])"
   ]
  },
  {
   "cell_type": "markdown",
   "metadata": {},
   "source": [
    "**Вывод** Месяц не влияет на цену. Коэффициент Пирсена - это подтверждает."
   ]
  },
  {
   "cell_type": "code",
   "execution_count": 69,
   "metadata": {},
   "outputs": [
    {
     "data": {
      "text/plain": [
       "<matplotlib.axes._subplots.AxesSubplot at 0x7f5524ef89d0>"
      ]
     },
     "execution_count": 69,
     "metadata": {},
     "output_type": "execute_result"
    },
    {
     "data": {
      "image/png": "[encoded data removed]",
      "text/plain": [
       "<Figure size 432x288 with 1 Axes>"
      ]
     },
     "metadata": {
      "needs_background": "light"
     },
     "output_type": "display_data"
    }
   ],
   "source": [
    "# цена в зависимости от дня недели\n",
    "df.groupby('week_day')['last_price'].mean().plot(y='last_price', kind='bar', grid=True, title='Price and Week day')"
   ]
  },
  {
   "cell_type": "code",
   "execution_count": 70,
   "metadata": {},
   "outputs": [
    {
     "data": {
      "text/plain": [
       "-0.017465033294418376"
      ]
     },
     "execution_count": 70,
     "metadata": {},
     "output_type": "execute_result"
    }
   ],
   "source": [
    "df['last_price'].corr(df['week_day'])"
   ]
  },
  {
   "cell_type": "markdown",
   "metadata": {},
   "source": [
    "**Вывод** День недели тоже не особо влияет. Можно только сказать, что в среду и четверг цены на квартиры стовят выше. Коэффициент это подтверждает."
   ]
  },
  {
   "cell_type": "markdown",
   "metadata": {},
   "source": [
    "### Выберите 10 населённых пунктов с наибольшим числом объявлений. "
   ]
  },
  {
   "cell_type": "code",
   "execution_count": 71,
   "metadata": {},
   "outputs": [
    {
     "data": {
      "text/html": [
       "<div>\n",
       "<style scoped>\n",
       "    .dataframe tbody tr th:only-of-type {\n",
       "        vertical-align: middle;\n",
       "    }\n",
       "\n",
       "    .dataframe tbody tr th {\n",
       "        vertical-align: top;\n",
       "    }\n",
       "\n",
       "    .dataframe thead th {\n",
       "        text-align: right;\n",
       "    }\n",
       "</style>\n",
       "<table border=\"1\" class=\"dataframe\">\n",
       "  <thead>\n",
       "    <tr style=\"text-align: right;\">\n",
       "      <th></th>\n",
       "      <th>price_square_meter</th>\n",
       "    </tr>\n",
       "    <tr>\n",
       "      <th>locality_name</th>\n",
       "      <th></th>\n",
       "    </tr>\n",
       "  </thead>\n",
       "  <tbody>\n",
       "    <tr>\n",
       "      <td>Выборг</td>\n",
       "      <td>58574.335689</td>\n",
       "    </tr>\n",
       "    <tr>\n",
       "      <td>Гатчина</td>\n",
       "      <td>68989.101059</td>\n",
       "    </tr>\n",
       "    <tr>\n",
       "      <td>Всеволожск</td>\n",
       "      <td>69145.087401</td>\n",
       "    </tr>\n",
       "    <tr>\n",
       "      <td>Колпино</td>\n",
       "      <td>75222.483947</td>\n",
       "    </tr>\n",
       "    <tr>\n",
       "      <td>посёлок Шушары</td>\n",
       "      <td>78654.354904</td>\n",
       "    </tr>\n",
       "    <tr>\n",
       "      <td>посёлок Мурино</td>\n",
       "      <td>85642.107405</td>\n",
       "    </tr>\n",
       "    <tr>\n",
       "      <td>посёлок Парголово</td>\n",
       "      <td>90272.963303</td>\n",
       "    </tr>\n",
       "    <tr>\n",
       "      <td>деревня Кудрово</td>\n",
       "      <td>92455.349950</td>\n",
       "    </tr>\n",
       "    <tr>\n",
       "      <td>Пушкин</td>\n",
       "      <td>104972.784221</td>\n",
       "    </tr>\n",
       "    <tr>\n",
       "      <td>Санкт-Петербург</td>\n",
       "      <td>113359.047470</td>\n",
       "    </tr>\n",
       "  </tbody>\n",
       "</table>\n",
       "</div>"
      ],
      "text/plain": [
       "                   price_square_meter\n",
       "locality_name                        \n",
       "Выборг                   58574.335689\n",
       "Гатчина                  68989.101059\n",
       "Всеволожск               69145.087401\n",
       "Колпино                  75222.483947\n",
       "посёлок Шушары           78654.354904\n",
       "посёлок Мурино           85642.107405\n",
       "посёлок Парголово        90272.963303\n",
       "деревня Кудрово          92455.349950\n",
       "Пушкин                  104972.784221\n",
       "Санкт-Петербург         113359.047470"
      ]
     },
     "execution_count": 71,
     "metadata": {},
     "output_type": "execute_result"
    }
   ],
   "source": [
    "#\n",
    "top10 = df['locality_name'].value_counts().head(10).index\n",
    "df_top10_price_meter = df[df['locality_name'].isin(top10)]\n",
    "final = df_top10_price_meter.pivot_table(index='locality_name', values='price_square_meter')\n",
    "final = final.sort_values(by='price_square_meter')\n",
    "final"
   ]
  },
  {
   "cell_type": "markdown",
   "metadata": {},
   "source": [
    "**Вывод** Cамый догорой метр с Санкт-Петербурге, самый дешовый в Выворге."
   ]
  },
  {
   "cell_type": "markdown",
   "metadata": {},
   "source": [
    "### Изучим предложения квартир"
   ]
  },
  {
   "cell_type": "code",
   "execution_count": 72,
   "metadata": {},
   "outputs": [
    {
     "data": {
      "text/plain": [
       "<matplotlib.axes._subplots.AxesSubplot at 0x7f5524bb8d50>"
      ]
     },
     "execution_count": 72,
     "metadata": {},
     "output_type": "execute_result"
    },
    {
     "data": {
      "image/png": "[encoded data removed]",
      "text/plain": [
       "<Figure size 720x720 with 1 Axes>"
      ]
     },
     "metadata": {
      "needs_background": "light"
     },
     "output_type": "display_data"
    }
   ],
   "source": [
    "#пернводим метры в километры и округляем значения до целого числа\n",
    "df['center_city_km'] = (df['cityCenters_nearest'] / 1000).round(0)\n",
    "#отбираем объявления, которые в спб, группируем по растоянию от центра и считаем среднюю цену\n",
    "df_price_km = df.query('locality_name == \"Санкт-Петербург\"').groupby('center_city_km')['last_price'].mean()\n",
    "#строим график\n",
    "df_price_km.plot(y='last_price', kind='bar', grid=True, figsize=(10,10), title='Price and Center_km')\n"
   ]
  },
  {
   "cell_type": "markdown",
   "metadata": {},
   "source": [
    "**Вывод** Граница центральной зоны радиус в 9 км"
   ]
  },
  {
   "cell_type": "markdown",
   "metadata": {},
   "source": [
    "### Выделим сегмент квартир в центре. "
   ]
  },
  {
   "cell_type": "code",
   "execution_count": 73,
   "metadata": {},
   "outputs": [
    {
     "data": {
      "text/plain": [
       "<matplotlib.axes._subplots.AxesSubplot at 0x7f5524b0d3d0>"
      ]
     },
     "execution_count": 73,
     "metadata": {},
     "output_type": "execute_result"
    },
    {
     "data": {
      "image/png": "[encoded data removed]",
      "text/plain": [
       "<Figure size 432x288 with 1 Axes>"
      ]
     },
     "metadata": {
      "needs_background": "light"
     },
     "output_type": "display_data"
    }
   ],
   "source": [
    "# получим датасет с объявлениями находящиеся в радиусе 9км от центра города\n",
    "df_center = df.query('center_city_km < 9.0')\n",
    "df_center.plot(y='total_area', grid=True, kind='hist', title='Total area')"
   ]
  },
  {
   "cell_type": "code",
   "execution_count": 74,
   "metadata": {},
   "outputs": [
    {
     "data": {
      "text/plain": [
       "<matplotlib.axes._subplots.AxesSubplot at 0x7f55249fe310>"
      ]
     },
     "execution_count": 74,
     "metadata": {},
     "output_type": "execute_result"
    },
    {
     "data": {
      "image/png": "[encoded data removed]",
      "text/plain": [
       "<Figure size 432x288 with 1 Axes>"
      ]
     },
     "metadata": {
      "needs_background": "light"
     },
     "output_type": "display_data"
    }
   ],
   "source": [
    "df_center.plot(y='last_price', kind='hist', grid=True, title='Last price')"
   ]
  },
  {
   "cell_type": "code",
   "execution_count": 75,
   "metadata": {},
   "outputs": [
    {
     "data": {
      "text/plain": [
       "<matplotlib.axes._subplots.AxesSubplot at 0x7f5524af7410>"
      ]
     },
     "execution_count": 75,
     "metadata": {},
     "output_type": "execute_result"
    },
    {
     "data": {
      "image/png": "[encoded data removed]",
      "text/plain": [
       "<Figure size 432x288 with 1 Axes>"
      ]
     },
     "metadata": {
      "needs_background": "light"
     },
     "output_type": "display_data"
    }
   ],
   "source": [
    "df_center.plot(y='rooms', kind='hist', grid=True, title='Rooms')"
   ]
  },
  {
   "cell_type": "code",
   "execution_count": 76,
   "metadata": {},
   "outputs": [
    {
     "data": {
      "text/plain": [
       "<matplotlib.axes._subplots.AxesSubplot at 0x7f552ed0a650>"
      ]
     },
     "execution_count": 76,
     "metadata": {},
     "output_type": "execute_result"
    },
    {
     "data": {
      "image/png": "[encoded data removed]",
      "text/plain": [
       "<Figure size 432x288 with 1 Axes>"
      ]
     },
     "metadata": {
      "needs_background": "light"
     },
     "output_type": "display_data"
    }
   ],
   "source": [
    "df_center.plot(y='ceiling_height', kind='hist', grid=True, title='Ceiling height')"
   ]
  },
  {
   "cell_type": "markdown",
   "metadata": {},
   "source": [
    "### Проведем исследование влияния различных факторов на стоимость квартир"
   ]
  },
  {
   "cell_type": "code",
   "execution_count": 77,
   "metadata": {},
   "outputs": [
    {
     "data": {
      "text/plain": [
       "<matplotlib.axes._subplots.AxesSubplot at 0x7f55248412d0>"
      ]
     },
     "execution_count": 77,
     "metadata": {},
     "output_type": "execute_result"
    },
    {
     "data": {
      "image/png": "[encoded data removed]",
      "text/plain": [
       "<Figure size 432x288 with 1 Axes>"
      ]
     },
     "metadata": {
      "needs_background": "light"
     },
     "output_type": "display_data"
    }
   ],
   "source": [
    "# фактор число комнат\n",
    "df_center.groupby('rooms')['last_price'].mean().plot(y='last_price', kind='bar', grid=True, title='Price and Rooms')"
   ]
  },
  {
   "cell_type": "code",
   "execution_count": 78,
   "metadata": {},
   "outputs": [
    {
     "data": {
      "text/plain": [
       "0.5167269590058723"
      ]
     },
     "execution_count": 78,
     "metadata": {},
     "output_type": "execute_result"
    }
   ],
   "source": [
    "df['last_price'].corr(df['rooms'])"
   ]
  },
  {
   "cell_type": "markdown",
   "metadata": {},
   "source": [
    "**Вывод** Коэффициент корреляции имеет линейную положительную зависимость, цена растер с ростом комнат в квартире."
   ]
  },
  {
   "cell_type": "code",
   "execution_count": 79,
   "metadata": {},
   "outputs": [
    {
     "data": {
      "text/plain": [
       "<matplotlib.axes._subplots.AxesSubplot at 0x7f55247c19d0>"
      ]
     },
     "execution_count": 79,
     "metadata": {},
     "output_type": "execute_result"
    },
    {
     "data": {
      "image/png": "[encoded data removed]",
      "text/plain": [
       "<Figure size 432x288 with 1 Axes>"
      ]
     },
     "metadata": {
      "needs_background": "light"
     },
     "output_type": "display_data"
    }
   ],
   "source": [
    "# фактор этаж квартиры\n",
    "df_center.groupby('categori_floor')['last_price'].mean().plot(y='last_price', kind='bar', grid=True, title='Price and Floor')"
   ]
  },
  {
   "cell_type": "markdown",
   "metadata": {},
   "source": [
    "**Вывод**"
   ]
  },
  {
   "cell_type": "code",
   "execution_count": 80,
   "metadata": {},
   "outputs": [
    {
     "data": {
      "text/plain": [
       "<matplotlib.axes._subplots.AxesSubplot at 0x7f552472a750>"
      ]
     },
     "execution_count": 80,
     "metadata": {},
     "output_type": "execute_result"
    },
    {
     "data": {
      "image/png": "[encoded data removed]",
      "text/plain": [
       "<Figure size 432x288 with 1 Axes>"
      ]
     },
     "metadata": {
      "needs_background": "light"
     },
     "output_type": "display_data"
    }
   ],
   "source": [
    "# фактор удаленость от центра города\n",
    "df_center.groupby('center_city_km')['last_price'].mean().plot(y='last_price', kind='bar', grid=True, title='Price and Center_km')"
   ]
  },
  {
   "cell_type": "code",
   "execution_count": 81,
   "metadata": {},
   "outputs": [
    {
     "data": {
      "text/plain": [
       "-0.4641057572003897"
      ]
     },
     "execution_count": 81,
     "metadata": {},
     "output_type": "execute_result"
    }
   ],
   "source": [
    "df['last_price'].corr(df['center_city_km'])"
   ]
  },
  {
   "cell_type": "markdown",
   "metadata": {},
   "source": [
    "**Вывод** Коэффициент корреляции имеет линейную отрицаиельную зависимость, цена растер, чем ближе к центру расположена квартира."
   ]
  },
  {
   "cell_type": "code",
   "execution_count": 82,
   "metadata": {},
   "outputs": [
    {
     "data": {
      "text/plain": [
       "<matplotlib.axes._subplots.AxesSubplot at 0x7f55246be210>"
      ]
     },
     "execution_count": 82,
     "metadata": {},
     "output_type": "execute_result"
    },
    {
     "data": {
      "image/png": "[encoded data removed]",
      "text/plain": [
       "<Figure size 432x288 with 1 Axes>"
      ]
     },
     "metadata": {
      "needs_background": "light"
     },
     "output_type": "display_data"
    }
   ],
   "source": [
    "# дата размещения объявления\n",
    "df_center.groupby('year')['last_price'].mean().plot(y='last_price', kind='bar', grid=True, title='Price and Year')"
   ]
  },
  {
   "cell_type": "code",
   "execution_count": 83,
   "metadata": {},
   "outputs": [
    {
     "data": {
      "text/plain": [
       "-0.024242300692756517"
      ]
     },
     "execution_count": 83,
     "metadata": {},
     "output_type": "execute_result"
    }
   ],
   "source": [
    "df['last_price'].corr(df['year'])"
   ]
  },
  {
   "cell_type": "markdown",
   "metadata": {},
   "source": [
    "**Вывод** Коэффициент корреляции близок к нулю, это значит зависимость не явная, но все же видно, цена снижается от года к году."
   ]
  },
  {
   "cell_type": "markdown",
   "metadata": {},
   "source": [
    "Проанализировав данные для центральной зоны можно сказать, что для нее характерны теже особенности как и для всего датафрейма."
   ]
  },
  {
   "cell_type": "markdown",
   "metadata": {},
   "source": [
    "## Общий вывод"
   ]
  },
  {
   "cell_type": "markdown",
   "metadata": {},
   "source": [
    "Цена квартиры зависит от площади квартиры, количества комнат, удаленности от центра. Цена квартиры снижается чем дальше она находиться от центра города. В 2014 году квартиры стоили дороже, в последующие годы цена пошла на снижение. Квартиры на первом этаже являются не пристижными, поэтому цена их заметно ниже остальных. Самочасто продаваемые квартиры - это квартиры площадью от 50 до 100 м2. Высота потолков не имеет особого влияния на стоимость кавартир. \n",
    "\n",
    "Деятельность мошеников можно отследить по данным, имеющие отклонения от стантартных значений. Если объявнение от продаже квартиры имеет некорректные данные, можно считать его подозрительным."
   ]
  }
 ],
 "metadata": {
  "ExecuteTimeLog": [
   {
    "duration": 855,
    "start_time": "2022-02-17T13:08:38.379Z"
   },
   {
    "duration": 74,
    "start_time": "2022-02-17T13:10:08.071Z"
   },
   {
    "duration": 119,
    "start_time": "2022-02-17T13:12:35.388Z"
   },
   {
    "duration": 76,
    "start_time": "2022-02-17T13:13:39.136Z"
   },
   {
    "duration": 119,
    "start_time": "2022-02-17T13:13:57.248Z"
   },
   {
    "duration": 16,
    "start_time": "2022-02-17T13:14:19.080Z"
   },
   {
    "duration": 105,
    "start_time": "2022-02-17T13:27:02.369Z"
   },
   {
    "duration": 6,
    "start_time": "2022-02-17T14:05:00.124Z"
   },
   {
    "duration": 7,
    "start_time": "2022-02-17T14:05:44.357Z"
   },
   {
    "duration": 93,
    "start_time": "2022-02-17T14:08:28.220Z"
   },
   {
    "duration": 5,
    "start_time": "2022-02-17T14:08:34.899Z"
   },
   {
    "duration": 6,
    "start_time": "2022-02-17T14:09:03.660Z"
   },
   {
    "duration": 9,
    "start_time": "2022-02-17T14:14:05.825Z"
   },
   {
    "duration": 5,
    "start_time": "2022-02-17T14:27:39.962Z"
   },
   {
    "duration": 7,
    "start_time": "2022-02-17T14:28:01.517Z"
   },
   {
    "duration": 134,
    "start_time": "2022-02-17T14:49:49.504Z"
   },
   {
    "duration": 33,
    "start_time": "2022-02-17T14:49:49.641Z"
   },
   {
    "duration": 182,
    "start_time": "2022-02-17T14:49:49.679Z"
   },
   {
    "duration": 8,
    "start_time": "2022-02-17T14:49:49.865Z"
   },
   {
    "duration": 6,
    "start_time": "2022-02-17T14:49:49.876Z"
   },
   {
    "duration": 8,
    "start_time": "2022-02-17T14:49:49.885Z"
   },
   {
    "duration": 14,
    "start_time": "2022-02-17T14:49:49.895Z"
   },
   {
    "duration": 50,
    "start_time": "2022-02-17T14:49:49.913Z"
   },
   {
    "duration": 964,
    "start_time": "2022-02-21T12:53:58.159Z"
   },
   {
    "duration": 12,
    "start_time": "2022-02-21T12:53:59.124Z"
   },
   {
    "duration": 89,
    "start_time": "2022-02-21T12:53:59.138Z"
   },
   {
    "duration": 5,
    "start_time": "2022-02-21T12:53:59.229Z"
   },
   {
    "duration": 31,
    "start_time": "2022-02-21T12:53:59.236Z"
   },
   {
    "duration": 28,
    "start_time": "2022-02-21T12:53:59.269Z"
   },
   {
    "duration": 15,
    "start_time": "2022-02-21T12:53:59.299Z"
   },
   {
    "duration": 37,
    "start_time": "2022-02-21T12:53:59.316Z"
   },
   {
    "duration": 22,
    "start_time": "2022-02-21T12:53:59.355Z"
   },
   {
    "duration": 10,
    "start_time": "2022-02-21T12:57:48.434Z"
   },
   {
    "duration": 14,
    "start_time": "2022-02-21T12:58:36.888Z"
   },
   {
    "duration": 354,
    "start_time": "2022-02-21T13:28:49.142Z"
   },
   {
    "duration": 9,
    "start_time": "2022-02-21T13:29:35.377Z"
   },
   {
    "duration": 15,
    "start_time": "2022-02-21T13:29:55.232Z"
   },
   {
    "duration": 8,
    "start_time": "2022-02-21T13:38:15.111Z"
   },
   {
    "duration": 6,
    "start_time": "2022-02-21T13:38:26.512Z"
   },
   {
    "duration": 5,
    "start_time": "2022-02-21T13:39:02.531Z"
   },
   {
    "duration": 6,
    "start_time": "2022-02-21T13:40:18.879Z"
   },
   {
    "duration": 87,
    "start_time": "2022-02-21T13:40:59.684Z"
   },
   {
    "duration": 11,
    "start_time": "2022-02-21T13:40:59.773Z"
   },
   {
    "duration": 108,
    "start_time": "2022-02-21T13:40:59.786Z"
   },
   {
    "duration": 5,
    "start_time": "2022-02-21T13:40:59.896Z"
   },
   {
    "duration": 8,
    "start_time": "2022-02-21T13:40:59.902Z"
   },
   {
    "duration": 9,
    "start_time": "2022-02-21T13:40:59.912Z"
   },
   {
    "duration": 21,
    "start_time": "2022-02-21T13:40:59.923Z"
   },
   {
    "duration": 3,
    "start_time": "2022-02-21T13:40:59.947Z"
   },
   {
    "duration": 8,
    "start_time": "2022-02-21T13:40:59.952Z"
   },
   {
    "duration": 8,
    "start_time": "2022-02-21T13:40:59.961Z"
   },
   {
    "duration": 10,
    "start_time": "2022-02-21T13:40:59.971Z"
   },
   {
    "duration": 89,
    "start_time": "2022-02-21T13:41:14.198Z"
   },
   {
    "duration": 10,
    "start_time": "2022-02-21T13:41:14.289Z"
   },
   {
    "duration": 91,
    "start_time": "2022-02-21T13:41:14.301Z"
   },
   {
    "duration": 4,
    "start_time": "2022-02-21T13:41:14.395Z"
   },
   {
    "duration": 19,
    "start_time": "2022-02-21T13:41:14.401Z"
   },
   {
    "duration": 17,
    "start_time": "2022-02-21T13:41:14.426Z"
   },
   {
    "duration": 20,
    "start_time": "2022-02-21T13:41:14.444Z"
   },
   {
    "duration": 5,
    "start_time": "2022-02-21T13:41:14.467Z"
   },
   {
    "duration": 21,
    "start_time": "2022-02-21T13:41:14.474Z"
   },
   {
    "duration": 10,
    "start_time": "2022-02-21T13:41:14.497Z"
   },
   {
    "duration": 13,
    "start_time": "2022-02-21T13:41:14.509Z"
   },
   {
    "duration": 35,
    "start_time": "2022-02-21T13:41:14.524Z"
   },
   {
    "duration": 5,
    "start_time": "2022-02-21T13:41:14.561Z"
   },
   {
    "duration": 6,
    "start_time": "2022-02-21T13:41:14.568Z"
   },
   {
    "duration": 55,
    "start_time": "2022-02-21T13:43:54.177Z"
   },
   {
    "duration": 85,
    "start_time": "2022-02-21T13:44:04.231Z"
   },
   {
    "duration": 13,
    "start_time": "2022-02-21T13:44:04.318Z"
   },
   {
    "duration": 98,
    "start_time": "2022-02-21T13:44:04.334Z"
   },
   {
    "duration": 4,
    "start_time": "2022-02-21T13:44:04.434Z"
   },
   {
    "duration": 22,
    "start_time": "2022-02-21T13:44:04.442Z"
   },
   {
    "duration": 26,
    "start_time": "2022-02-21T13:44:04.467Z"
   },
   {
    "duration": 34,
    "start_time": "2022-02-21T13:44:04.495Z"
   },
   {
    "duration": 29,
    "start_time": "2022-02-21T13:44:04.531Z"
   },
   {
    "duration": 31,
    "start_time": "2022-02-21T13:44:04.562Z"
   },
   {
    "duration": 69,
    "start_time": "2022-02-21T13:44:04.595Z"
   },
   {
    "duration": 35,
    "start_time": "2022-02-21T13:49:06.893Z"
   },
   {
    "duration": 87,
    "start_time": "2022-02-21T13:55:48.028Z"
   },
   {
    "duration": 15,
    "start_time": "2022-02-21T13:55:48.117Z"
   },
   {
    "duration": 76,
    "start_time": "2022-02-21T13:55:48.134Z"
   },
   {
    "duration": 7,
    "start_time": "2022-02-21T13:55:48.218Z"
   },
   {
    "duration": 15,
    "start_time": "2022-02-21T13:55:48.229Z"
   },
   {
    "duration": 9,
    "start_time": "2022-02-21T13:55:48.246Z"
   },
   {
    "duration": 18,
    "start_time": "2022-02-21T13:55:48.256Z"
   },
   {
    "duration": 3,
    "start_time": "2022-02-21T13:55:48.278Z"
   },
   {
    "duration": 12,
    "start_time": "2022-02-21T13:55:48.283Z"
   },
   {
    "duration": 58,
    "start_time": "2022-02-21T13:55:48.297Z"
   },
   {
    "duration": 10,
    "start_time": "2022-02-21T13:55:48.357Z"
   },
   {
    "duration": 30,
    "start_time": "2022-02-21T13:55:48.369Z"
   },
   {
    "duration": 68,
    "start_time": "2022-02-21T13:55:48.401Z"
   },
   {
    "duration": 7,
    "start_time": "2022-02-21T13:55:48.471Z"
   },
   {
    "duration": 13,
    "start_time": "2022-02-21T13:55:48.480Z"
   },
   {
    "duration": 31,
    "start_time": "2022-02-21T13:55:48.495Z"
   },
   {
    "duration": 85,
    "start_time": "2022-02-21T14:06:08.724Z"
   },
   {
    "duration": 10,
    "start_time": "2022-02-21T14:06:08.811Z"
   },
   {
    "duration": 69,
    "start_time": "2022-02-21T14:06:08.823Z"
   },
   {
    "duration": 5,
    "start_time": "2022-02-21T14:06:08.893Z"
   },
   {
    "duration": 4,
    "start_time": "2022-02-21T14:06:08.919Z"
   },
   {
    "duration": 6,
    "start_time": "2022-02-21T14:06:08.925Z"
   },
   {
    "duration": 15,
    "start_time": "2022-02-21T14:06:08.932Z"
   },
   {
    "duration": 3,
    "start_time": "2022-02-21T14:06:08.956Z"
   },
   {
    "duration": 10,
    "start_time": "2022-02-21T14:06:08.961Z"
   },
   {
    "duration": 54,
    "start_time": "2022-02-21T14:06:08.973Z"
   },
   {
    "duration": 9,
    "start_time": "2022-02-21T14:06:09.029Z"
   },
   {
    "duration": 12,
    "start_time": "2022-02-21T14:06:09.040Z"
   },
   {
    "duration": 5,
    "start_time": "2022-02-21T14:06:09.054Z"
   },
   {
    "duration": 86,
    "start_time": "2022-02-21T14:20:22.419Z"
   },
   {
    "duration": 20,
    "start_time": "2022-02-21T14:20:22.508Z"
   },
   {
    "duration": 95,
    "start_time": "2022-02-21T14:20:22.530Z"
   },
   {
    "duration": 4,
    "start_time": "2022-02-21T14:20:22.627Z"
   },
   {
    "duration": 4,
    "start_time": "2022-02-21T14:20:22.752Z"
   },
   {
    "duration": 42,
    "start_time": "2022-02-21T14:20:22.758Z"
   },
   {
    "duration": 51,
    "start_time": "2022-02-21T14:20:22.802Z"
   },
   {
    "duration": 27,
    "start_time": "2022-02-21T14:20:22.855Z"
   },
   {
    "duration": 35,
    "start_time": "2022-02-21T14:20:22.883Z"
   },
   {
    "duration": 77,
    "start_time": "2022-02-21T14:20:22.920Z"
   },
   {
    "duration": 9,
    "start_time": "2022-02-21T14:20:22.999Z"
   },
   {
    "duration": 34,
    "start_time": "2022-02-21T14:20:23.010Z"
   },
   {
    "duration": 316,
    "start_time": "2022-02-21T14:20:23.045Z"
   },
   {
    "duration": -3292,
    "start_time": "2022-02-21T14:20:26.655Z"
   },
   {
    "duration": 89,
    "start_time": "2022-02-21T14:20:42.632Z"
   },
   {
    "duration": 11,
    "start_time": "2022-02-21T14:20:42.723Z"
   },
   {
    "duration": 85,
    "start_time": "2022-02-21T14:20:42.736Z"
   },
   {
    "duration": 5,
    "start_time": "2022-02-21T14:20:42.823Z"
   },
   {
    "duration": 18,
    "start_time": "2022-02-21T14:20:42.829Z"
   },
   {
    "duration": 29,
    "start_time": "2022-02-21T14:20:42.848Z"
   },
   {
    "duration": 30,
    "start_time": "2022-02-21T14:20:42.878Z"
   },
   {
    "duration": 5,
    "start_time": "2022-02-21T14:20:42.909Z"
   },
   {
    "duration": 21,
    "start_time": "2022-02-21T14:20:42.916Z"
   },
   {
    "duration": 37,
    "start_time": "2022-02-21T14:20:42.939Z"
   },
   {
    "duration": 8,
    "start_time": "2022-02-21T14:20:42.978Z"
   },
   {
    "duration": 31,
    "start_time": "2022-02-21T14:20:42.988Z"
   },
   {
    "duration": 12,
    "start_time": "2022-02-21T14:20:43.021Z"
   },
   {
    "duration": 99,
    "start_time": "2022-02-21T14:20:43.034Z"
   },
   {
    "duration": 85,
    "start_time": "2022-02-21T14:21:04.404Z"
   },
   {
    "duration": 11,
    "start_time": "2022-02-21T14:21:04.490Z"
   },
   {
    "duration": 81,
    "start_time": "2022-02-21T14:21:04.503Z"
   },
   {
    "duration": 4,
    "start_time": "2022-02-21T14:21:04.586Z"
   },
   {
    "duration": 5,
    "start_time": "2022-02-21T14:21:04.592Z"
   },
   {
    "duration": 21,
    "start_time": "2022-02-21T14:21:04.599Z"
   },
   {
    "duration": 15,
    "start_time": "2022-02-21T14:21:04.622Z"
   },
   {
    "duration": 3,
    "start_time": "2022-02-21T14:21:04.639Z"
   },
   {
    "duration": 8,
    "start_time": "2022-02-21T14:21:04.644Z"
   },
   {
    "duration": 41,
    "start_time": "2022-02-21T14:21:04.654Z"
   },
   {
    "duration": 9,
    "start_time": "2022-02-21T14:21:04.719Z"
   },
   {
    "duration": 21,
    "start_time": "2022-02-21T14:21:04.730Z"
   },
   {
    "duration": 18,
    "start_time": "2022-02-21T14:21:04.753Z"
   },
   {
    "duration": 257,
    "start_time": "2022-02-21T14:21:04.772Z"
   },
   {
    "duration": 40,
    "start_time": "2022-02-21T14:27:24.303Z"
   },
   {
    "duration": 8,
    "start_time": "2022-02-21T14:39:48.608Z"
   },
   {
    "duration": 8,
    "start_time": "2022-02-21T14:40:28.474Z"
   },
   {
    "duration": 7,
    "start_time": "2022-02-21T14:44:52.324Z"
   },
   {
    "duration": 5,
    "start_time": "2022-02-21T14:45:14.139Z"
   },
   {
    "duration": 1022,
    "start_time": "2022-02-22T16:03:57.899Z"
   },
   {
    "duration": 20,
    "start_time": "2022-02-22T16:03:58.932Z"
   },
   {
    "duration": 174,
    "start_time": "2022-02-22T16:03:58.955Z"
   },
   {
    "duration": 32,
    "start_time": "2022-02-22T16:03:59.132Z"
   },
   {
    "duration": 5,
    "start_time": "2022-02-22T16:03:59.167Z"
   },
   {
    "duration": 12,
    "start_time": "2022-02-22T16:03:59.174Z"
   },
   {
    "duration": 8,
    "start_time": "2022-02-22T16:03:59.188Z"
   },
   {
    "duration": 18,
    "start_time": "2022-02-22T16:03:59.206Z"
   },
   {
    "duration": 4,
    "start_time": "2022-02-22T16:03:59.226Z"
   },
   {
    "duration": 12,
    "start_time": "2022-02-22T16:03:59.232Z"
   },
   {
    "duration": 8,
    "start_time": "2022-02-22T16:03:59.246Z"
   },
   {
    "duration": 15,
    "start_time": "2022-02-22T16:03:59.256Z"
   },
   {
    "duration": 44,
    "start_time": "2022-02-22T16:03:59.273Z"
   },
   {
    "duration": 2,
    "start_time": "2022-02-22T16:03:59.319Z"
   },
   {
    "duration": 46,
    "start_time": "2022-02-22T16:03:59.323Z"
   },
   {
    "duration": 9,
    "start_time": "2022-02-22T16:09:49.449Z"
   },
   {
    "duration": 334,
    "start_time": "2022-02-22T16:18:24.644Z"
   },
   {
    "duration": 11,
    "start_time": "2022-02-22T16:19:25.534Z"
   },
   {
    "duration": 18,
    "start_time": "2022-02-22T16:19:31.358Z"
   },
   {
    "duration": 17,
    "start_time": "2022-02-22T16:19:59.910Z"
   },
   {
    "duration": 18,
    "start_time": "2022-02-22T16:21:30.768Z"
   },
   {
    "duration": 14,
    "start_time": "2022-02-22T16:22:20.711Z"
   },
   {
    "duration": 8,
    "start_time": "2022-02-22T16:36:07.031Z"
   },
   {
    "duration": 97,
    "start_time": "2022-02-22T16:40:40.287Z"
   },
   {
    "duration": 25,
    "start_time": "2022-02-22T16:40:40.387Z"
   },
   {
    "duration": 92,
    "start_time": "2022-02-22T16:40:40.415Z"
   },
   {
    "duration": 11,
    "start_time": "2022-02-22T16:40:40.510Z"
   },
   {
    "duration": 4,
    "start_time": "2022-02-22T16:40:40.523Z"
   },
   {
    "duration": 12,
    "start_time": "2022-02-22T16:40:40.529Z"
   },
   {
    "duration": 5,
    "start_time": "2022-02-22T16:40:40.543Z"
   },
   {
    "duration": 6,
    "start_time": "2022-02-22T16:40:40.551Z"
   },
   {
    "duration": 11,
    "start_time": "2022-02-22T16:40:40.560Z"
   },
   {
    "duration": 41,
    "start_time": "2022-02-22T16:43:12.512Z"
   },
   {
    "duration": 28,
    "start_time": "2022-02-22T16:44:38.459Z"
   },
   {
    "duration": 8,
    "start_time": "2022-02-22T16:46:53.338Z"
   },
   {
    "duration": 7,
    "start_time": "2022-02-22T16:47:39.349Z"
   },
   {
    "duration": 89,
    "start_time": "2022-02-22T16:51:26.099Z"
   },
   {
    "duration": 27,
    "start_time": "2022-02-22T16:51:26.190Z"
   },
   {
    "duration": 94,
    "start_time": "2022-02-22T16:51:26.219Z"
   },
   {
    "duration": 9,
    "start_time": "2022-02-22T16:51:26.316Z"
   },
   {
    "duration": 4,
    "start_time": "2022-02-22T16:51:26.327Z"
   },
   {
    "duration": 11,
    "start_time": "2022-02-22T16:51:26.333Z"
   },
   {
    "duration": 5,
    "start_time": "2022-02-22T16:51:26.346Z"
   },
   {
    "duration": 5,
    "start_time": "2022-02-22T16:51:26.353Z"
   },
   {
    "duration": 62,
    "start_time": "2022-02-22T16:51:26.360Z"
   },
   {
    "duration": 17,
    "start_time": "2022-02-22T16:51:26.424Z"
   },
   {
    "duration": 13,
    "start_time": "2022-02-22T16:51:26.443Z"
   },
   {
    "duration": 6101,
    "start_time": "2022-02-22T16:51:26.458Z"
   },
   {
    "duration": -676,
    "start_time": "2022-02-22T16:51:33.237Z"
   },
   {
    "duration": 123,
    "start_time": "2022-02-22T16:52:08.563Z"
   },
   {
    "duration": 28,
    "start_time": "2022-02-22T16:52:08.689Z"
   },
   {
    "duration": 111,
    "start_time": "2022-02-22T16:52:08.720Z"
   },
   {
    "duration": 10,
    "start_time": "2022-02-22T16:52:08.833Z"
   },
   {
    "duration": 4,
    "start_time": "2022-02-22T16:52:08.846Z"
   },
   {
    "duration": 9,
    "start_time": "2022-02-22T16:52:08.852Z"
   },
   {
    "duration": 62,
    "start_time": "2022-02-22T16:52:08.864Z"
   },
   {
    "duration": 191,
    "start_time": "2022-02-22T16:52:08.931Z"
   },
   {
    "duration": 158,
    "start_time": "2022-02-22T16:52:09.131Z"
   },
   {
    "duration": 9,
    "start_time": "2022-02-22T16:52:09.292Z"
   },
   {
    "duration": 15,
    "start_time": "2022-02-22T16:52:09.304Z"
   },
   {
    "duration": 1676,
    "start_time": "2022-02-22T16:52:09.322Z"
   },
   {
    "duration": -648,
    "start_time": "2022-02-22T16:52:11.648Z"
   },
   {
    "duration": 2091,
    "start_time": "2022-02-22T16:56:49.246Z"
   },
   {
    "duration": 9,
    "start_time": "2022-02-22T16:58:38.056Z"
   },
   {
    "duration": 8,
    "start_time": "2022-02-22T16:59:10.371Z"
   },
   {
    "duration": 31,
    "start_time": "2022-02-22T16:59:41.337Z"
   },
   {
    "duration": 6,
    "start_time": "2022-02-22T17:01:04.571Z"
   },
   {
    "duration": 274,
    "start_time": "2022-02-22T17:01:22.340Z"
   },
   {
    "duration": 5,
    "start_time": "2022-02-22T17:01:43.269Z"
   },
   {
    "duration": 10,
    "start_time": "2022-02-22T17:06:43.758Z"
   },
   {
    "duration": 8,
    "start_time": "2022-02-22T17:07:37.641Z"
   },
   {
    "duration": 5,
    "start_time": "2022-02-22T17:12:46.763Z"
   },
   {
    "duration": 5,
    "start_time": "2022-02-22T17:13:51.934Z"
   },
   {
    "duration": 100,
    "start_time": "2022-02-22T17:23:20.616Z"
   },
   {
    "duration": 13,
    "start_time": "2022-02-22T17:23:20.718Z"
   },
   {
    "duration": 97,
    "start_time": "2022-02-22T17:23:20.735Z"
   },
   {
    "duration": 12,
    "start_time": "2022-02-22T17:23:20.835Z"
   },
   {
    "duration": 25,
    "start_time": "2022-02-22T17:23:20.849Z"
   },
   {
    "duration": 18,
    "start_time": "2022-02-22T17:23:20.876Z"
   },
   {
    "duration": 25,
    "start_time": "2022-02-22T17:23:20.896Z"
   },
   {
    "duration": 9,
    "start_time": "2022-02-22T17:23:20.924Z"
   },
   {
    "duration": 11,
    "start_time": "2022-02-22T17:23:20.937Z"
   },
   {
    "duration": 12,
    "start_time": "2022-02-22T17:23:20.951Z"
   },
   {
    "duration": 20,
    "start_time": "2022-02-22T17:23:20.965Z"
   },
   {
    "duration": 7,
    "start_time": "2022-02-22T17:24:08.265Z"
   },
   {
    "duration": 8,
    "start_time": "2022-02-22T17:35:45.639Z"
   },
   {
    "duration": 13,
    "start_time": "2022-02-22T17:35:49.441Z"
   },
   {
    "duration": 6,
    "start_time": "2022-02-22T17:35:57.168Z"
   },
   {
    "duration": 8,
    "start_time": "2022-02-22T17:46:14.134Z"
   },
   {
    "duration": 9,
    "start_time": "2022-02-22T17:47:01.862Z"
   },
   {
    "duration": 7,
    "start_time": "2022-02-22T17:47:19.972Z"
   },
   {
    "duration": 7251,
    "start_time": "2022-02-22T17:53:28.186Z"
   },
   {
    "duration": 8,
    "start_time": "2022-02-22T17:54:09.472Z"
   },
   {
    "duration": 676,
    "start_time": "2022-02-23T09:13:11.600Z"
   },
   {
    "duration": 10,
    "start_time": "2022-02-23T09:13:12.278Z"
   },
   {
    "duration": 83,
    "start_time": "2022-02-23T09:13:12.290Z"
   },
   {
    "duration": 9,
    "start_time": "2022-02-23T09:13:12.375Z"
   },
   {
    "duration": 6,
    "start_time": "2022-02-23T09:13:12.386Z"
   },
   {
    "duration": 7,
    "start_time": "2022-02-23T09:13:12.393Z"
   },
   {
    "duration": 8,
    "start_time": "2022-02-23T09:13:12.401Z"
   },
   {
    "duration": 9,
    "start_time": "2022-02-23T09:13:12.411Z"
   },
   {
    "duration": 7,
    "start_time": "2022-02-23T09:13:12.423Z"
   },
   {
    "duration": 5,
    "start_time": "2022-02-23T09:13:33.044Z"
   },
   {
    "duration": 7,
    "start_time": "2022-02-23T10:40:12.545Z"
   },
   {
    "duration": 5,
    "start_time": "2022-02-23T10:40:15.231Z"
   },
   {
    "duration": 7,
    "start_time": "2022-02-23T12:05:41.896Z"
   },
   {
    "duration": 6968,
    "start_time": "2022-02-23T12:34:32.352Z"
   },
   {
    "duration": 6,
    "start_time": "2022-02-23T12:34:52.033Z"
   },
   {
    "duration": 5,
    "start_time": "2022-02-23T12:34:55.506Z"
   },
   {
    "duration": 8,
    "start_time": "2022-02-23T12:41:57.595Z"
   },
   {
    "duration": 31,
    "start_time": "2022-02-23T12:44:42.579Z"
   },
   {
    "duration": 10,
    "start_time": "2022-02-23T12:45:28.510Z"
   },
   {
    "duration": 72,
    "start_time": "2022-02-23T12:49:25.482Z"
   },
   {
    "duration": 307,
    "start_time": "2022-02-23T12:50:03.540Z"
   },
   {
    "duration": 60,
    "start_time": "2022-02-23T12:50:16.867Z"
   },
   {
    "duration": 11,
    "start_time": "2022-02-23T12:52:37.036Z"
   },
   {
    "duration": 11,
    "start_time": "2022-02-23T12:52:48.868Z"
   },
   {
    "duration": 8,
    "start_time": "2022-02-23T12:56:04.311Z"
   },
   {
    "duration": 8,
    "start_time": "2022-02-23T12:56:41.487Z"
   },
   {
    "duration": 7,
    "start_time": "2022-02-23T12:59:00.185Z"
   },
   {
    "duration": 30,
    "start_time": "2022-02-23T13:10:34.838Z"
   },
   {
    "duration": 55,
    "start_time": "2022-02-23T13:12:33.218Z"
   },
   {
    "duration": 5,
    "start_time": "2022-02-23T13:15:11.678Z"
   },
   {
    "duration": 50,
    "start_time": "2022-02-23T13:17:38.622Z"
   },
   {
    "duration": 4750,
    "start_time": "2022-02-23T13:20:54.343Z"
   },
   {
    "duration": 63,
    "start_time": "2022-02-23T13:28:26.463Z"
   },
   {
    "duration": 20,
    "start_time": "2022-02-23T13:28:52.177Z"
   },
   {
    "duration": 413,
    "start_time": "2022-02-23T13:32:47.011Z"
   },
   {
    "duration": 184,
    "start_time": "2022-02-23T13:33:10.268Z"
   },
   {
    "duration": 11,
    "start_time": "2022-02-23T13:33:58.189Z"
   },
   {
    "duration": 54,
    "start_time": "2022-02-23T13:36:05.743Z"
   },
   {
    "duration": 56,
    "start_time": "2022-02-23T13:36:27.556Z"
   },
   {
    "duration": 66,
    "start_time": "2022-02-23T13:36:43.237Z"
   },
   {
    "duration": 4692,
    "start_time": "2022-02-23T13:36:49.439Z"
   },
   {
    "duration": 18,
    "start_time": "2022-02-23T13:37:41.926Z"
   },
   {
    "duration": 14,
    "start_time": "2022-02-23T13:41:51.384Z"
   },
   {
    "duration": 4464,
    "start_time": "2022-02-23T13:42:18.753Z"
   },
   {
    "duration": 10,
    "start_time": "2022-02-23T13:43:29.019Z"
   },
   {
    "duration": 16,
    "start_time": "2022-02-23T13:54:16.198Z"
   },
   {
    "duration": 9,
    "start_time": "2022-02-23T13:54:17.826Z"
   },
   {
    "duration": 9,
    "start_time": "2022-02-23T14:00:42.990Z"
   },
   {
    "duration": 9,
    "start_time": "2022-02-23T14:00:44.756Z"
   },
   {
    "duration": 10,
    "start_time": "2022-02-23T14:00:46.359Z"
   },
   {
    "duration": 13,
    "start_time": "2022-02-23T14:06:33.181Z"
   },
   {
    "duration": 13,
    "start_time": "2022-02-23T14:07:13.359Z"
   },
   {
    "duration": 94,
    "start_time": "2022-02-23T14:07:18.527Z"
   },
   {
    "duration": 12,
    "start_time": "2022-02-23T14:07:18.623Z"
   },
   {
    "duration": 91,
    "start_time": "2022-02-23T14:07:18.637Z"
   },
   {
    "duration": 11,
    "start_time": "2022-02-23T14:07:18.731Z"
   },
   {
    "duration": 18,
    "start_time": "2022-02-23T14:07:18.743Z"
   },
   {
    "duration": 13,
    "start_time": "2022-02-23T14:07:18.763Z"
   },
   {
    "duration": 16,
    "start_time": "2022-02-23T14:07:18.779Z"
   },
   {
    "duration": 10,
    "start_time": "2022-02-23T14:07:18.797Z"
   },
   {
    "duration": 8,
    "start_time": "2022-02-23T14:07:18.808Z"
   },
   {
    "duration": 6,
    "start_time": "2022-02-23T14:07:18.818Z"
   },
   {
    "duration": 6,
    "start_time": "2022-02-23T14:07:18.825Z"
   },
   {
    "duration": 35,
    "start_time": "2022-02-23T14:07:18.833Z"
   },
   {
    "duration": 19,
    "start_time": "2022-02-23T14:07:18.871Z"
   },
   {
    "duration": 4,
    "start_time": "2022-02-23T14:07:19.071Z"
   },
   {
    "duration": 7,
    "start_time": "2022-02-23T14:07:19.077Z"
   },
   {
    "duration": 9,
    "start_time": "2022-02-23T14:07:19.174Z"
   },
   {
    "duration": 15,
    "start_time": "2022-02-23T14:07:19.184Z"
   },
   {
    "duration": 16,
    "start_time": "2022-02-23T14:07:19.201Z"
   },
   {
    "duration": 15,
    "start_time": "2022-02-23T14:07:19.219Z"
   },
   {
    "duration": 7,
    "start_time": "2022-02-23T14:07:19.236Z"
   },
   {
    "duration": 33,
    "start_time": "2022-02-23T14:07:19.245Z"
   },
   {
    "duration": 9,
    "start_time": "2022-02-23T14:07:19.281Z"
   },
   {
    "duration": 8,
    "start_time": "2022-02-23T14:07:19.292Z"
   },
   {
    "duration": 9,
    "start_time": "2022-02-23T14:07:19.301Z"
   },
   {
    "duration": 11,
    "start_time": "2022-02-23T14:07:19.312Z"
   },
   {
    "duration": 35,
    "start_time": "2022-02-23T14:07:19.325Z"
   },
   {
    "duration": 5,
    "start_time": "2022-02-23T14:13:52.421Z"
   },
   {
    "duration": 87,
    "start_time": "2022-02-23T14:13:58.532Z"
   },
   {
    "duration": 10,
    "start_time": "2022-02-23T14:13:58.621Z"
   },
   {
    "duration": 103,
    "start_time": "2022-02-23T14:13:58.633Z"
   },
   {
    "duration": 10,
    "start_time": "2022-02-23T14:13:58.739Z"
   },
   {
    "duration": 10,
    "start_time": "2022-02-23T14:13:58.750Z"
   },
   {
    "duration": 14,
    "start_time": "2022-02-23T14:13:58.763Z"
   },
   {
    "duration": 12,
    "start_time": "2022-02-23T14:13:58.779Z"
   },
   {
    "duration": 7,
    "start_time": "2022-02-23T14:13:58.793Z"
   },
   {
    "duration": 9,
    "start_time": "2022-02-23T14:13:58.802Z"
   },
   {
    "duration": 9,
    "start_time": "2022-02-23T14:13:58.812Z"
   },
   {
    "duration": 4,
    "start_time": "2022-02-23T14:13:58.823Z"
   },
   {
    "duration": 8,
    "start_time": "2022-02-23T14:13:58.828Z"
   },
   {
    "duration": 24,
    "start_time": "2022-02-23T14:13:58.838Z"
   },
   {
    "duration": 17,
    "start_time": "2022-02-23T14:13:58.865Z"
   },
   {
    "duration": 10,
    "start_time": "2022-02-23T14:13:58.884Z"
   },
   {
    "duration": 83,
    "start_time": "2022-02-23T14:14:02.721Z"
   },
   {
    "duration": 12,
    "start_time": "2022-02-23T14:14:02.807Z"
   },
   {
    "duration": 95,
    "start_time": "2022-02-23T14:14:02.821Z"
   },
   {
    "duration": 8,
    "start_time": "2022-02-23T14:14:02.918Z"
   },
   {
    "duration": 12,
    "start_time": "2022-02-23T14:14:02.928Z"
   },
   {
    "duration": 10,
    "start_time": "2022-02-23T14:14:02.942Z"
   },
   {
    "duration": 12,
    "start_time": "2022-02-23T14:14:02.954Z"
   },
   {
    "duration": 15,
    "start_time": "2022-02-23T14:14:02.970Z"
   },
   {
    "duration": 11,
    "start_time": "2022-02-23T14:14:02.987Z"
   },
   {
    "duration": 6,
    "start_time": "2022-02-23T14:14:03.000Z"
   },
   {
    "duration": 13,
    "start_time": "2022-02-23T14:14:03.008Z"
   },
   {
    "duration": 15,
    "start_time": "2022-02-23T14:14:03.023Z"
   },
   {
    "duration": 7,
    "start_time": "2022-02-23T14:14:03.039Z"
   },
   {
    "duration": 12,
    "start_time": "2022-02-23T14:14:03.047Z"
   },
   {
    "duration": 14,
    "start_time": "2022-02-23T14:14:03.061Z"
   },
   {
    "duration": 11,
    "start_time": "2022-02-23T14:14:03.077Z"
   },
   {
    "duration": 5,
    "start_time": "2022-02-23T14:14:32.005Z"
   },
   {
    "duration": 93,
    "start_time": "2022-02-23T14:14:36.330Z"
   },
   {
    "duration": 10,
    "start_time": "2022-02-23T14:14:36.425Z"
   },
   {
    "duration": 98,
    "start_time": "2022-02-23T14:14:36.437Z"
   },
   {
    "duration": 24,
    "start_time": "2022-02-23T14:14:36.537Z"
   },
   {
    "duration": 6,
    "start_time": "2022-02-23T14:14:36.563Z"
   },
   {
    "duration": 10,
    "start_time": "2022-02-23T14:14:36.572Z"
   },
   {
    "duration": 8,
    "start_time": "2022-02-23T14:14:36.584Z"
   },
   {
    "duration": 6,
    "start_time": "2022-02-23T14:14:36.594Z"
   },
   {
    "duration": 8,
    "start_time": "2022-02-23T14:14:36.602Z"
   },
   {
    "duration": 16,
    "start_time": "2022-02-23T14:14:36.612Z"
   },
   {
    "duration": 4,
    "start_time": "2022-02-23T14:14:36.630Z"
   },
   {
    "duration": 29,
    "start_time": "2022-02-23T14:14:36.636Z"
   },
   {
    "duration": 9,
    "start_time": "2022-02-23T14:14:36.668Z"
   },
   {
    "duration": 10,
    "start_time": "2022-02-23T14:14:36.679Z"
   },
   {
    "duration": 6,
    "start_time": "2022-02-23T14:14:36.691Z"
   },
   {
    "duration": 9,
    "start_time": "2022-02-23T14:14:36.699Z"
   },
   {
    "duration": 13,
    "start_time": "2022-02-23T14:14:36.710Z"
   },
   {
    "duration": 13,
    "start_time": "2022-02-23T14:14:36.725Z"
   },
   {
    "duration": 39,
    "start_time": "2022-02-23T14:14:36.739Z"
   },
   {
    "duration": 14,
    "start_time": "2022-02-23T14:14:36.780Z"
   },
   {
    "duration": 9,
    "start_time": "2022-02-23T14:14:36.796Z"
   },
   {
    "duration": 18,
    "start_time": "2022-02-23T14:14:36.807Z"
   },
   {
    "duration": 33,
    "start_time": "2022-02-23T14:14:36.828Z"
   },
   {
    "duration": 14,
    "start_time": "2022-02-23T14:14:36.863Z"
   },
   {
    "duration": 18,
    "start_time": "2022-02-23T14:14:36.879Z"
   },
   {
    "duration": 5,
    "start_time": "2022-02-23T14:14:36.899Z"
   },
   {
    "duration": 92,
    "start_time": "2022-02-23T14:16:27.146Z"
   },
   {
    "duration": 31,
    "start_time": "2022-02-23T14:16:27.240Z"
   },
   {
    "duration": 73,
    "start_time": "2022-02-23T14:16:27.274Z"
   },
   {
    "duration": 13,
    "start_time": "2022-02-23T14:16:27.359Z"
   },
   {
    "duration": 9,
    "start_time": "2022-02-23T14:16:27.375Z"
   },
   {
    "duration": 9,
    "start_time": "2022-02-23T14:16:27.386Z"
   },
   {
    "duration": 9,
    "start_time": "2022-02-23T14:16:27.396Z"
   },
   {
    "duration": 6,
    "start_time": "2022-02-23T14:16:27.407Z"
   },
   {
    "duration": 16,
    "start_time": "2022-02-23T14:16:27.416Z"
   },
   {
    "duration": 10,
    "start_time": "2022-02-23T14:16:27.434Z"
   },
   {
    "duration": 17,
    "start_time": "2022-02-23T14:16:27.446Z"
   },
   {
    "duration": 19,
    "start_time": "2022-02-23T14:16:27.466Z"
   },
   {
    "duration": 17,
    "start_time": "2022-02-23T14:16:27.487Z"
   },
   {
    "duration": 6,
    "start_time": "2022-02-23T14:16:27.506Z"
   },
   {
    "duration": 12,
    "start_time": "2022-02-23T14:16:27.513Z"
   },
   {
    "duration": 9,
    "start_time": "2022-02-23T14:16:27.526Z"
   },
   {
    "duration": 12,
    "start_time": "2022-02-23T14:16:27.536Z"
   },
   {
    "duration": 13,
    "start_time": "2022-02-23T14:16:27.550Z"
   },
   {
    "duration": 21,
    "start_time": "2022-02-23T14:16:27.566Z"
   },
   {
    "duration": 13,
    "start_time": "2022-02-23T14:16:27.589Z"
   },
   {
    "duration": 8,
    "start_time": "2022-02-23T14:16:27.604Z"
   },
   {
    "duration": 50,
    "start_time": "2022-02-23T14:16:27.614Z"
   },
   {
    "duration": 11,
    "start_time": "2022-02-23T14:16:27.667Z"
   },
   {
    "duration": 10,
    "start_time": "2022-02-23T14:16:27.680Z"
   },
   {
    "duration": 7,
    "start_time": "2022-02-23T14:16:27.691Z"
   },
   {
    "duration": 4,
    "start_time": "2022-02-23T14:16:27.700Z"
   },
   {
    "duration": 9,
    "start_time": "2022-02-23T14:16:55.477Z"
   },
   {
    "duration": 11,
    "start_time": "2022-02-23T14:16:56.357Z"
   },
   {
    "duration": 6,
    "start_time": "2022-02-23T14:16:56.883Z"
   },
   {
    "duration": 95,
    "start_time": "2022-02-23T14:17:01.735Z"
   },
   {
    "duration": 28,
    "start_time": "2022-02-23T14:17:01.832Z"
   },
   {
    "duration": 97,
    "start_time": "2022-02-23T14:17:01.864Z"
   },
   {
    "duration": 13,
    "start_time": "2022-02-23T14:17:01.964Z"
   },
   {
    "duration": 18,
    "start_time": "2022-02-23T14:17:01.980Z"
   },
   {
    "duration": 60,
    "start_time": "2022-02-23T14:17:02.001Z"
   },
   {
    "duration": 95,
    "start_time": "2022-02-23T14:17:02.063Z"
   },
   {
    "duration": 71,
    "start_time": "2022-02-23T14:17:02.162Z"
   },
   {
    "duration": 49,
    "start_time": "2022-02-23T14:17:02.235Z"
   },
   {
    "duration": 66,
    "start_time": "2022-02-23T14:17:02.286Z"
   },
   {
    "duration": 10,
    "start_time": "2022-02-23T14:17:02.353Z"
   },
   {
    "duration": 23,
    "start_time": "2022-02-23T14:17:02.366Z"
   },
   {
    "duration": 82,
    "start_time": "2022-02-23T14:17:02.392Z"
   },
   {
    "duration": 14,
    "start_time": "2022-02-23T14:17:02.477Z"
   },
   {
    "duration": 18,
    "start_time": "2022-02-23T14:17:02.493Z"
   },
   {
    "duration": 27,
    "start_time": "2022-02-23T14:17:02.513Z"
   },
   {
    "duration": 32,
    "start_time": "2022-02-23T14:17:02.542Z"
   },
   {
    "duration": 15,
    "start_time": "2022-02-23T14:17:02.577Z"
   },
   {
    "duration": 36,
    "start_time": "2022-02-23T14:17:02.594Z"
   },
   {
    "duration": 17,
    "start_time": "2022-02-23T14:17:02.632Z"
   },
   {
    "duration": 27,
    "start_time": "2022-02-23T14:17:02.652Z"
   },
   {
    "duration": 23,
    "start_time": "2022-02-23T14:17:02.681Z"
   },
   {
    "duration": 10,
    "start_time": "2022-02-23T14:17:02.707Z"
   },
   {
    "duration": 15,
    "start_time": "2022-02-23T14:17:02.718Z"
   },
   {
    "duration": 22,
    "start_time": "2022-02-23T14:17:02.735Z"
   },
   {
    "duration": 22,
    "start_time": "2022-02-23T14:17:02.760Z"
   },
   {
    "duration": 28,
    "start_time": "2022-02-23T14:17:02.784Z"
   },
   {
    "duration": 99,
    "start_time": "2022-02-23T14:17:41.767Z"
   },
   {
    "duration": 16,
    "start_time": "2022-02-23T14:17:41.868Z"
   },
   {
    "duration": 96,
    "start_time": "2022-02-23T14:17:41.886Z"
   },
   {
    "duration": 7,
    "start_time": "2022-02-23T14:17:41.984Z"
   },
   {
    "duration": 3,
    "start_time": "2022-02-23T14:17:41.993Z"
   },
   {
    "duration": 9,
    "start_time": "2022-02-23T14:17:41.997Z"
   },
   {
    "duration": 7,
    "start_time": "2022-02-23T14:17:42.007Z"
   },
   {
    "duration": 6,
    "start_time": "2022-02-23T14:17:42.016Z"
   },
   {
    "duration": 9,
    "start_time": "2022-02-23T14:17:42.023Z"
   },
   {
    "duration": 35,
    "start_time": "2022-02-23T14:17:42.033Z"
   },
   {
    "duration": 8,
    "start_time": "2022-02-23T14:17:42.071Z"
   },
   {
    "duration": 11,
    "start_time": "2022-02-23T14:17:42.081Z"
   },
   {
    "duration": 6,
    "start_time": "2022-02-23T14:17:42.093Z"
   },
   {
    "duration": 5,
    "start_time": "2022-02-23T14:17:42.101Z"
   },
   {
    "duration": 7,
    "start_time": "2022-02-23T14:17:42.107Z"
   },
   {
    "duration": 6,
    "start_time": "2022-02-23T14:17:42.115Z"
   },
   {
    "duration": 9,
    "start_time": "2022-02-23T14:17:42.123Z"
   },
   {
    "duration": 44,
    "start_time": "2022-02-23T14:17:42.133Z"
   },
   {
    "duration": 20,
    "start_time": "2022-02-23T14:17:42.178Z"
   },
   {
    "duration": 14,
    "start_time": "2022-02-23T14:17:42.199Z"
   },
   {
    "duration": 8,
    "start_time": "2022-02-23T14:17:42.215Z"
   },
   {
    "duration": 14,
    "start_time": "2022-02-23T14:17:42.224Z"
   },
   {
    "duration": 13,
    "start_time": "2022-02-23T14:17:42.263Z"
   },
   {
    "duration": 12,
    "start_time": "2022-02-23T14:17:42.278Z"
   },
   {
    "duration": 7,
    "start_time": "2022-02-23T14:17:42.292Z"
   },
   {
    "duration": 6,
    "start_time": "2022-02-23T14:17:42.300Z"
   },
   {
    "duration": 19,
    "start_time": "2022-02-23T14:17:42.307Z"
   },
   {
    "duration": 106,
    "start_time": "2022-02-23T14:18:44.969Z"
   },
   {
    "duration": 11,
    "start_time": "2022-02-23T14:18:45.077Z"
   },
   {
    "duration": 97,
    "start_time": "2022-02-23T14:18:45.090Z"
   },
   {
    "duration": 9,
    "start_time": "2022-02-23T14:18:45.189Z"
   },
   {
    "duration": 8,
    "start_time": "2022-02-23T14:18:45.200Z"
   },
   {
    "duration": 7,
    "start_time": "2022-02-23T14:18:45.209Z"
   },
   {
    "duration": 6,
    "start_time": "2022-02-23T14:18:45.218Z"
   },
   {
    "duration": 9,
    "start_time": "2022-02-23T14:18:45.226Z"
   },
   {
    "duration": 30,
    "start_time": "2022-02-23T14:18:45.237Z"
   },
   {
    "duration": 20,
    "start_time": "2022-02-23T14:18:45.269Z"
   },
   {
    "duration": 4,
    "start_time": "2022-02-23T14:18:45.291Z"
   },
   {
    "duration": 7,
    "start_time": "2022-02-23T14:18:45.297Z"
   },
   {
    "duration": 4,
    "start_time": "2022-02-23T14:18:45.305Z"
   },
   {
    "duration": 5,
    "start_time": "2022-02-23T14:18:45.311Z"
   },
   {
    "duration": 5,
    "start_time": "2022-02-23T14:18:45.318Z"
   },
   {
    "duration": 8,
    "start_time": "2022-02-23T14:18:45.324Z"
   },
   {
    "duration": 12,
    "start_time": "2022-02-23T14:18:45.359Z"
   },
   {
    "duration": 18,
    "start_time": "2022-02-23T14:18:45.374Z"
   },
   {
    "duration": 20,
    "start_time": "2022-02-23T14:18:45.394Z"
   },
   {
    "duration": 13,
    "start_time": "2022-02-23T14:18:45.416Z"
   },
   {
    "duration": 31,
    "start_time": "2022-02-23T14:18:45.430Z"
   },
   {
    "duration": 25,
    "start_time": "2022-02-23T14:18:45.463Z"
   },
   {
    "duration": 9,
    "start_time": "2022-02-23T14:18:45.491Z"
   },
   {
    "duration": 8,
    "start_time": "2022-02-23T14:18:45.501Z"
   },
   {
    "duration": 6,
    "start_time": "2022-02-23T14:18:45.511Z"
   },
   {
    "duration": 5,
    "start_time": "2022-02-23T14:18:45.519Z"
   },
   {
    "duration": 54,
    "start_time": "2022-02-23T14:18:45.525Z"
   },
   {
    "duration": 14,
    "start_time": "2022-02-23T14:19:28.551Z"
   },
   {
    "duration": 42,
    "start_time": "2022-02-23T14:20:10.000Z"
   },
   {
    "duration": 7,
    "start_time": "2022-02-23T14:23:16.181Z"
   },
   {
    "duration": 5,
    "start_time": "2022-02-23T14:23:46.179Z"
   },
   {
    "duration": 9,
    "start_time": "2022-02-23T15:22:28.729Z"
   },
   {
    "duration": 4,
    "start_time": "2022-02-23T15:40:08.850Z"
   },
   {
    "duration": 6,
    "start_time": "2022-02-23T15:43:48.283Z"
   },
   {
    "duration": 7,
    "start_time": "2022-02-23T15:46:57.885Z"
   },
   {
    "duration": 6,
    "start_time": "2022-02-23T15:49:17.446Z"
   },
   {
    "duration": 55,
    "start_time": "2022-02-23T16:06:10.049Z"
   },
   {
    "duration": 469,
    "start_time": "2022-02-23T16:06:36.783Z"
   },
   {
    "duration": 903,
    "start_time": "2022-02-24T13:05:08.241Z"
   },
   {
    "duration": 16,
    "start_time": "2022-02-24T13:05:09.146Z"
   },
   {
    "duration": 132,
    "start_time": "2022-02-24T13:05:09.165Z"
   },
   {
    "duration": 13,
    "start_time": "2022-02-24T13:05:09.299Z"
   },
   {
    "duration": 7,
    "start_time": "2022-02-24T13:05:09.315Z"
   },
   {
    "duration": 26,
    "start_time": "2022-02-24T13:05:09.324Z"
   },
   {
    "duration": 14,
    "start_time": "2022-02-24T13:05:09.352Z"
   },
   {
    "duration": 6,
    "start_time": "2022-02-24T13:05:09.370Z"
   },
   {
    "duration": 11,
    "start_time": "2022-02-24T13:05:09.379Z"
   },
   {
    "duration": 11,
    "start_time": "2022-02-24T13:05:09.392Z"
   },
   {
    "duration": 45,
    "start_time": "2022-02-24T13:05:09.405Z"
   },
   {
    "duration": 11,
    "start_time": "2022-02-24T13:05:09.453Z"
   },
   {
    "duration": 7,
    "start_time": "2022-02-24T13:05:09.467Z"
   },
   {
    "duration": 12,
    "start_time": "2022-02-24T13:05:09.477Z"
   },
   {
    "duration": 7,
    "start_time": "2022-02-24T13:05:09.491Z"
   },
   {
    "duration": 50,
    "start_time": "2022-02-24T13:05:09.501Z"
   },
   {
    "duration": 11,
    "start_time": "2022-02-24T13:05:09.554Z"
   },
   {
    "duration": 13,
    "start_time": "2022-02-24T13:05:09.567Z"
   },
   {
    "duration": 26,
    "start_time": "2022-02-24T13:05:09.583Z"
   },
   {
    "duration": 20,
    "start_time": "2022-02-24T13:05:09.647Z"
   },
   {
    "duration": 11,
    "start_time": "2022-02-24T13:05:09.670Z"
   },
   {
    "duration": 24,
    "start_time": "2022-02-24T13:05:09.683Z"
   },
   {
    "duration": 39,
    "start_time": "2022-02-24T13:05:09.711Z"
   },
   {
    "duration": 20,
    "start_time": "2022-02-24T13:05:09.752Z"
   },
   {
    "duration": 39,
    "start_time": "2022-02-24T13:05:09.774Z"
   },
   {
    "duration": 25,
    "start_time": "2022-02-24T13:05:09.816Z"
   },
   {
    "duration": 70,
    "start_time": "2022-02-24T13:05:09.844Z"
   },
   {
    "duration": 11,
    "start_time": "2022-02-24T13:05:09.916Z"
   },
   {
    "duration": 21,
    "start_time": "2022-02-24T13:05:09.929Z"
   },
   {
    "duration": 17,
    "start_time": "2022-02-24T13:05:09.953Z"
   },
   {
    "duration": 23,
    "start_time": "2022-02-24T13:05:09.972Z"
   },
   {
    "duration": 21,
    "start_time": "2022-02-24T13:05:09.998Z"
   },
   {
    "duration": 19,
    "start_time": "2022-02-24T13:05:10.022Z"
   },
   {
    "duration": 123,
    "start_time": "2022-02-24T13:05:10.044Z"
   },
   {
    "duration": -750,
    "start_time": "2022-02-24T13:05:10.920Z"
   },
   {
    "duration": -754,
    "start_time": "2022-02-24T13:05:10.925Z"
   },
   {
    "duration": 118,
    "start_time": "2022-02-24T13:07:42.007Z"
   },
   {
    "duration": 16,
    "start_time": "2022-02-24T13:07:42.149Z"
   },
   {
    "duration": 132,
    "start_time": "2022-02-24T13:07:42.168Z"
   },
   {
    "duration": 12,
    "start_time": "2022-02-24T13:07:42.303Z"
   },
   {
    "duration": 30,
    "start_time": "2022-02-24T13:07:42.318Z"
   },
   {
    "duration": 7,
    "start_time": "2022-02-24T13:07:42.351Z"
   },
   {
    "duration": 28,
    "start_time": "2022-02-24T13:07:42.361Z"
   },
   {
    "duration": 14,
    "start_time": "2022-02-24T13:07:42.392Z"
   },
   {
    "duration": 12,
    "start_time": "2022-02-24T13:07:42.410Z"
   },
   {
    "duration": 23,
    "start_time": "2022-02-24T13:07:42.425Z"
   },
   {
    "duration": 7,
    "start_time": "2022-02-24T13:07:42.451Z"
   },
   {
    "duration": 22,
    "start_time": "2022-02-24T13:07:42.460Z"
   },
   {
    "duration": 21,
    "start_time": "2022-02-24T13:07:42.484Z"
   },
   {
    "duration": 14,
    "start_time": "2022-02-24T13:07:42.508Z"
   },
   {
    "duration": 11,
    "start_time": "2022-02-24T13:07:42.525Z"
   },
   {
    "duration": 20,
    "start_time": "2022-02-24T13:07:42.539Z"
   },
   {
    "duration": 40,
    "start_time": "2022-02-24T13:07:42.562Z"
   },
   {
    "duration": 39,
    "start_time": "2022-02-24T13:07:42.605Z"
   },
   {
    "duration": 27,
    "start_time": "2022-02-24T13:07:42.648Z"
   },
   {
    "duration": 32,
    "start_time": "2022-02-24T13:07:42.677Z"
   },
   {
    "duration": 14,
    "start_time": "2022-02-24T13:07:42.712Z"
   },
   {
    "duration": 32,
    "start_time": "2022-02-24T13:07:42.729Z"
   },
   {
    "duration": 11,
    "start_time": "2022-02-24T13:07:42.764Z"
   },
   {
    "duration": 38,
    "start_time": "2022-02-24T13:07:42.778Z"
   },
   {
    "duration": 19,
    "start_time": "2022-02-24T13:07:42.819Z"
   },
   {
    "duration": 21,
    "start_time": "2022-02-24T13:07:42.841Z"
   },
   {
    "duration": 82,
    "start_time": "2022-02-24T13:07:42.869Z"
   },
   {
    "duration": 11,
    "start_time": "2022-02-24T13:07:42.954Z"
   },
   {
    "duration": 13,
    "start_time": "2022-02-24T13:07:42.968Z"
   },
   {
    "duration": 45,
    "start_time": "2022-02-24T13:07:42.983Z"
   },
   {
    "duration": 23,
    "start_time": "2022-02-24T13:07:43.031Z"
   },
   {
    "duration": 25,
    "start_time": "2022-02-24T13:07:43.057Z"
   },
   {
    "duration": 15,
    "start_time": "2022-02-24T13:07:43.085Z"
   },
   {
    "duration": 141,
    "start_time": "2022-02-24T13:07:43.103Z"
   },
   {
    "duration": -1535,
    "start_time": "2022-02-24T13:07:44.782Z"
   },
   {
    "duration": -1539,
    "start_time": "2022-02-24T13:07:44.788Z"
   },
   {
    "duration": -1540,
    "start_time": "2022-02-24T13:07:44.791Z"
   },
   {
    "duration": 117,
    "start_time": "2022-02-24T13:08:32.891Z"
   },
   {
    "duration": 14,
    "start_time": "2022-02-24T13:08:33.012Z"
   },
   {
    "duration": 131,
    "start_time": "2022-02-24T13:08:33.030Z"
   },
   {
    "duration": 13,
    "start_time": "2022-02-24T13:08:33.164Z"
   },
   {
    "duration": 10,
    "start_time": "2022-02-24T13:08:33.180Z"
   },
   {
    "duration": 24,
    "start_time": "2022-02-24T13:08:33.193Z"
   },
   {
    "duration": 30,
    "start_time": "2022-02-24T13:08:33.220Z"
   },
   {
    "duration": 14,
    "start_time": "2022-02-24T13:08:33.252Z"
   },
   {
    "duration": 22,
    "start_time": "2022-02-24T13:08:33.270Z"
   },
   {
    "duration": 12,
    "start_time": "2022-02-24T13:08:33.295Z"
   },
   {
    "duration": 16,
    "start_time": "2022-02-24T13:08:33.309Z"
   },
   {
    "duration": 41,
    "start_time": "2022-02-24T13:08:33.327Z"
   },
   {
    "duration": 18,
    "start_time": "2022-02-24T13:08:33.371Z"
   },
   {
    "duration": 12,
    "start_time": "2022-02-24T13:08:33.392Z"
   },
   {
    "duration": 8,
    "start_time": "2022-02-24T13:08:33.407Z"
   },
   {
    "duration": 22,
    "start_time": "2022-02-24T13:08:33.417Z"
   },
   {
    "duration": 13,
    "start_time": "2022-02-24T13:08:33.442Z"
   },
   {
    "duration": 22,
    "start_time": "2022-02-24T13:08:33.458Z"
   },
   {
    "duration": 27,
    "start_time": "2022-02-24T13:08:33.483Z"
   },
   {
    "duration": 26,
    "start_time": "2022-02-24T13:08:33.513Z"
   },
   {
    "duration": 15,
    "start_time": "2022-02-24T13:08:33.541Z"
   },
   {
    "duration": 24,
    "start_time": "2022-02-24T13:08:33.559Z"
   },
   {
    "duration": 31,
    "start_time": "2022-02-24T13:08:33.586Z"
   },
   {
    "duration": 21,
    "start_time": "2022-02-24T13:08:33.619Z"
   },
   {
    "duration": 19,
    "start_time": "2022-02-24T13:08:33.643Z"
   },
   {
    "duration": 32,
    "start_time": "2022-02-24T13:08:33.664Z"
   },
   {
    "duration": 89,
    "start_time": "2022-02-24T13:08:33.701Z"
   },
   {
    "duration": 12,
    "start_time": "2022-02-24T13:08:33.793Z"
   },
   {
    "duration": 17,
    "start_time": "2022-02-24T13:08:33.807Z"
   },
   {
    "duration": 33,
    "start_time": "2022-02-24T13:08:33.827Z"
   },
   {
    "duration": 22,
    "start_time": "2022-02-24T13:08:33.862Z"
   },
   {
    "duration": 16,
    "start_time": "2022-02-24T13:08:33.886Z"
   },
   {
    "duration": 11,
    "start_time": "2022-02-24T13:08:33.905Z"
   },
   {
    "duration": 30,
    "start_time": "2022-02-24T13:08:33.919Z"
   },
   {
    "duration": 839,
    "start_time": "2022-02-24T13:08:33.952Z"
   },
   {
    "duration": 5,
    "start_time": "2022-02-24T13:08:34.794Z"
   },
   {
    "duration": 8,
    "start_time": "2022-02-24T13:08:34.801Z"
   },
   {
    "duration": 678,
    "start_time": "2022-02-24T13:22:48.052Z"
   },
   {
    "duration": 557,
    "start_time": "2022-02-24T13:23:56.177Z"
   },
   {
    "duration": 528,
    "start_time": "2022-02-24T13:24:13.562Z"
   },
   {
    "duration": 400,
    "start_time": "2022-02-24T13:32:28.512Z"
   },
   {
    "duration": 524,
    "start_time": "2022-02-24T13:32:37.948Z"
   },
   {
    "duration": 933,
    "start_time": "2022-02-24T13:32:51.944Z"
   },
   {
    "duration": 1406,
    "start_time": "2022-02-24T13:33:00.304Z"
   },
   {
    "duration": 3239,
    "start_time": "2022-02-24T13:33:14.282Z"
   },
   {
    "duration": 30338,
    "start_time": "2022-02-24T13:33:30.252Z"
   },
   {
    "duration": 3831,
    "start_time": "2022-02-24T13:34:55.750Z"
   },
   {
    "duration": 3202,
    "start_time": "2022-02-24T13:35:51.598Z"
   },
   {
    "duration": 559,
    "start_time": "2022-02-24T13:36:09.214Z"
   },
   {
    "duration": 3658,
    "start_time": "2022-02-24T13:36:20.257Z"
   },
   {
    "duration": 3097,
    "start_time": "2022-02-24T13:36:36.627Z"
   },
   {
    "duration": 3258,
    "start_time": "2022-02-24T13:37:08.112Z"
   },
   {
    "duration": 584,
    "start_time": "2022-02-24T13:47:58.842Z"
   },
   {
    "duration": 3754,
    "start_time": "2022-02-24T13:48:45.527Z"
   },
   {
    "duration": 3070,
    "start_time": "2022-02-24T13:49:11.988Z"
   },
   {
    "duration": 32589,
    "start_time": "2022-02-24T13:50:01.253Z"
   },
   {
    "duration": 297,
    "start_time": "2022-02-24T13:50:54.868Z"
   },
   {
    "duration": 344,
    "start_time": "2022-02-24T13:51:10.786Z"
   },
   {
    "duration": 554,
    "start_time": "2022-02-24T13:51:19.603Z"
   },
   {
    "duration": 322,
    "start_time": "2022-02-24T13:52:03.631Z"
   },
   {
    "duration": 311,
    "start_time": "2022-02-24T13:52:21.524Z"
   },
   {
    "duration": 325,
    "start_time": "2022-02-24T13:52:36.007Z"
   },
   {
    "duration": 316,
    "start_time": "2022-02-24T13:53:33.367Z"
   },
   {
    "duration": 364,
    "start_time": "2022-02-24T13:53:42.646Z"
   },
   {
    "duration": 291,
    "start_time": "2022-02-24T13:54:40.452Z"
   },
   {
    "duration": 310,
    "start_time": "2022-02-24T13:55:05.978Z"
   },
   {
    "duration": 274,
    "start_time": "2022-02-24T13:55:44.037Z"
   },
   {
    "duration": 679,
    "start_time": "2022-02-24T13:55:56.119Z"
   },
   {
    "duration": 281,
    "start_time": "2022-02-24T13:56:07.205Z"
   },
   {
    "duration": 283,
    "start_time": "2022-02-24T13:56:31.231Z"
   },
   {
    "duration": 353,
    "start_time": "2022-02-24T13:56:37.775Z"
   },
   {
    "duration": 159,
    "start_time": "2022-02-24T14:00:42.385Z"
   },
   {
    "duration": 1091,
    "start_time": "2022-02-24T14:01:30.995Z"
   },
   {
    "duration": 572,
    "start_time": "2022-02-24T14:24:43.983Z"
   },
   {
    "duration": 595,
    "start_time": "2022-02-24T14:25:03.656Z"
   },
   {
    "duration": 595,
    "start_time": "2022-02-24T14:26:16.325Z"
   },
   {
    "duration": 317,
    "start_time": "2022-02-24T14:26:29.039Z"
   },
   {
    "duration": 573,
    "start_time": "2022-02-24T14:29:37.821Z"
   },
   {
    "duration": 571,
    "start_time": "2022-02-24T14:30:04.935Z"
   },
   {
    "duration": 320,
    "start_time": "2022-02-24T14:32:03.057Z"
   },
   {
    "duration": 603,
    "start_time": "2022-02-24T14:32:17.001Z"
   },
   {
    "duration": 323,
    "start_time": "2022-02-24T14:32:24.362Z"
   },
   {
    "duration": 573,
    "start_time": "2022-02-24T14:32:33.303Z"
   },
   {
    "duration": 9,
    "start_time": "2022-02-24T14:34:19.131Z"
   },
   {
    "duration": 7,
    "start_time": "2022-02-24T14:34:37.508Z"
   },
   {
    "duration": 905,
    "start_time": "2022-02-25T09:21:23.364Z"
   },
   {
    "duration": 25,
    "start_time": "2022-02-25T09:21:24.271Z"
   },
   {
    "duration": 116,
    "start_time": "2022-02-25T09:21:24.299Z"
   },
   {
    "duration": 11,
    "start_time": "2022-02-25T09:21:24.418Z"
   },
   {
    "duration": 4,
    "start_time": "2022-02-25T09:21:24.431Z"
   },
   {
    "duration": 6,
    "start_time": "2022-02-25T09:21:24.437Z"
   },
   {
    "duration": 7,
    "start_time": "2022-02-25T09:21:24.446Z"
   },
   {
    "duration": 8,
    "start_time": "2022-02-25T09:21:24.493Z"
   },
   {
    "duration": 10,
    "start_time": "2022-02-25T09:21:24.504Z"
   },
   {
    "duration": 10,
    "start_time": "2022-02-25T09:21:24.516Z"
   },
   {
    "duration": 6,
    "start_time": "2022-02-25T09:21:24.529Z"
   },
   {
    "duration": 9,
    "start_time": "2022-02-25T09:21:24.538Z"
   },
   {
    "duration": 47,
    "start_time": "2022-02-25T09:21:24.550Z"
   },
   {
    "duration": 9,
    "start_time": "2022-02-25T09:21:24.599Z"
   },
   {
    "duration": 6,
    "start_time": "2022-02-25T09:21:24.610Z"
   },
   {
    "duration": 9,
    "start_time": "2022-02-25T09:21:24.618Z"
   },
   {
    "duration": 12,
    "start_time": "2022-02-25T09:21:24.629Z"
   },
   {
    "duration": 57,
    "start_time": "2022-02-25T09:21:24.643Z"
   },
   {
    "duration": 24,
    "start_time": "2022-02-25T09:21:24.702Z"
   },
   {
    "duration": 25,
    "start_time": "2022-02-25T09:21:24.729Z"
   },
   {
    "duration": 16,
    "start_time": "2022-02-25T09:21:24.756Z"
   },
   {
    "duration": 22,
    "start_time": "2022-02-25T09:21:24.793Z"
   },
   {
    "duration": 11,
    "start_time": "2022-02-25T09:21:24.820Z"
   },
   {
    "duration": 15,
    "start_time": "2022-02-25T09:21:24.834Z"
   },
   {
    "duration": 9,
    "start_time": "2022-02-25T09:21:24.851Z"
   },
   {
    "duration": 33,
    "start_time": "2022-02-25T09:21:24.863Z"
   },
   {
    "duration": 55,
    "start_time": "2022-02-25T09:21:24.899Z"
   },
   {
    "duration": 37,
    "start_time": "2022-02-25T09:21:24.957Z"
   },
   {
    "duration": 9,
    "start_time": "2022-02-25T09:21:24.997Z"
   },
   {
    "duration": 6,
    "start_time": "2022-02-25T09:21:25.009Z"
   },
   {
    "duration": 17,
    "start_time": "2022-02-25T09:21:25.018Z"
   },
   {
    "duration": 10,
    "start_time": "2022-02-25T09:21:25.038Z"
   },
   {
    "duration": 42,
    "start_time": "2022-02-25T09:21:25.051Z"
   },
   {
    "duration": 411,
    "start_time": "2022-02-25T09:21:25.096Z"
   },
   {
    "duration": -439,
    "start_time": "2022-02-25T09:21:25.949Z"
   },
   {
    "duration": -443,
    "start_time": "2022-02-25T09:21:25.954Z"
   },
   {
    "duration": -445,
    "start_time": "2022-02-25T09:21:25.958Z"
   },
   {
    "duration": -448,
    "start_time": "2022-02-25T09:21:25.962Z"
   },
   {
    "duration": -450,
    "start_time": "2022-02-25T09:21:25.966Z"
   },
   {
    "duration": -462,
    "start_time": "2022-02-25T09:21:25.979Z"
   },
   {
    "duration": -464,
    "start_time": "2022-02-25T09:21:25.983Z"
   },
   {
    "duration": -469,
    "start_time": "2022-02-25T09:21:25.989Z"
   },
   {
    "duration": -470,
    "start_time": "2022-02-25T09:21:25.992Z"
   },
   {
    "duration": -474,
    "start_time": "2022-02-25T09:21:25.997Z"
   },
   {
    "duration": -475,
    "start_time": "2022-02-25T09:21:26.000Z"
   },
   {
    "duration": -479,
    "start_time": "2022-02-25T09:21:26.005Z"
   },
   {
    "duration": 8,
    "start_time": "2022-02-25T09:22:43.352Z"
   },
   {
    "duration": 824,
    "start_time": "2022-02-25T09:22:46.770Z"
   },
   {
    "duration": 7,
    "start_time": "2022-02-25T09:22:51.419Z"
   },
   {
    "duration": 739,
    "start_time": "2022-02-25T09:22:54.082Z"
   },
   {
    "duration": 6,
    "start_time": "2022-02-25T09:22:59.035Z"
   },
   {
    "duration": 568,
    "start_time": "2022-02-25T09:23:03.614Z"
   },
   {
    "duration": 3213,
    "start_time": "2022-02-25T09:23:10.123Z"
   },
   {
    "duration": 544,
    "start_time": "2022-02-25T09:23:19.207Z"
   },
   {
    "duration": 341,
    "start_time": "2022-02-25T09:50:28.352Z"
   },
   {
    "duration": 148,
    "start_time": "2022-02-25T09:50:34.097Z"
   },
   {
    "duration": 286,
    "start_time": "2022-02-25T09:50:49.430Z"
   },
   {
    "duration": 556,
    "start_time": "2022-02-25T09:51:25.923Z"
   },
   {
    "duration": 7,
    "start_time": "2022-02-25T09:51:33.594Z"
   },
   {
    "duration": 293,
    "start_time": "2022-02-25T09:57:20.270Z"
   },
   {
    "duration": 1571,
    "start_time": "2022-02-25T09:59:48.372Z"
   },
   {
    "duration": 231,
    "start_time": "2022-02-25T10:01:29.718Z"
   },
   {
    "duration": 234,
    "start_time": "2022-02-25T10:17:08.762Z"
   },
   {
    "duration": 175,
    "start_time": "2022-02-25T10:24:44.505Z"
   },
   {
    "duration": 328,
    "start_time": "2022-02-25T10:24:54.333Z"
   },
   {
    "duration": 229,
    "start_time": "2022-02-25T10:26:21.390Z"
   },
   {
    "duration": 206,
    "start_time": "2022-02-25T10:29:01.830Z"
   },
   {
    "duration": 10,
    "start_time": "2022-02-25T10:34:23.681Z"
   },
   {
    "duration": 11,
    "start_time": "2022-02-25T10:44:40.320Z"
   },
   {
    "duration": 9,
    "start_time": "2022-02-25T10:52:31.309Z"
   },
   {
    "duration": 9,
    "start_time": "2022-02-25T10:52:32.620Z"
   },
   {
    "duration": 9,
    "start_time": "2022-02-25T10:52:33.854Z"
   },
   {
    "duration": 9,
    "start_time": "2022-02-25T11:18:34.909Z"
   },
   {
    "duration": 128,
    "start_time": "2022-02-25T11:19:05.892Z"
   },
   {
    "duration": 14,
    "start_time": "2022-02-25T11:19:06.022Z"
   },
   {
    "duration": 154,
    "start_time": "2022-02-25T11:19:06.040Z"
   },
   {
    "duration": 13,
    "start_time": "2022-02-25T11:19:06.197Z"
   },
   {
    "duration": 6,
    "start_time": "2022-02-25T11:19:06.213Z"
   },
   {
    "duration": 5,
    "start_time": "2022-02-25T11:19:06.221Z"
   },
   {
    "duration": 4,
    "start_time": "2022-02-25T11:19:06.228Z"
   },
   {
    "duration": 6,
    "start_time": "2022-02-25T11:19:06.236Z"
   },
   {
    "duration": 54,
    "start_time": "2022-02-25T11:19:06.244Z"
   },
   {
    "duration": 8,
    "start_time": "2022-02-25T11:19:06.300Z"
   },
   {
    "duration": 5,
    "start_time": "2022-02-25T11:19:06.310Z"
   },
   {
    "duration": 8,
    "start_time": "2022-02-25T11:19:06.318Z"
   },
   {
    "duration": 6,
    "start_time": "2022-02-25T11:19:06.329Z"
   },
   {
    "duration": 5,
    "start_time": "2022-02-25T11:19:06.337Z"
   },
   {
    "duration": 51,
    "start_time": "2022-02-25T11:19:06.344Z"
   },
   {
    "duration": 6,
    "start_time": "2022-02-25T11:19:06.397Z"
   },
   {
    "duration": 11,
    "start_time": "2022-02-25T11:19:06.406Z"
   },
   {
    "duration": 11,
    "start_time": "2022-02-25T11:19:06.420Z"
   },
   {
    "duration": 82,
    "start_time": "2022-02-25T11:19:06.434Z"
   },
   {
    "duration": 30,
    "start_time": "2022-02-25T11:19:06.519Z"
   },
   {
    "duration": 15,
    "start_time": "2022-02-25T11:19:06.552Z"
   },
   {
    "duration": 49,
    "start_time": "2022-02-25T11:19:06.571Z"
   },
   {
    "duration": 14,
    "start_time": "2022-02-25T11:19:06.628Z"
   },
   {
    "duration": 14,
    "start_time": "2022-02-25T11:19:06.646Z"
   },
   {
    "duration": 40,
    "start_time": "2022-02-25T11:19:06.663Z"
   },
   {
    "duration": 9,
    "start_time": "2022-02-25T11:19:06.707Z"
   },
   {
    "duration": 119,
    "start_time": "2022-02-25T11:19:06.719Z"
   },
   {
    "duration": 18,
    "start_time": "2022-02-25T11:19:06.842Z"
   },
   {
    "duration": 30,
    "start_time": "2022-02-25T11:19:06.863Z"
   },
   {
    "duration": 7,
    "start_time": "2022-02-25T11:19:06.897Z"
   },
   {
    "duration": 6,
    "start_time": "2022-02-25T11:19:06.907Z"
   },
   {
    "duration": 10,
    "start_time": "2022-02-25T11:19:06.916Z"
   },
   {
    "duration": 10,
    "start_time": "2022-02-25T11:19:06.929Z"
   },
   {
    "duration": 7,
    "start_time": "2022-02-25T11:19:06.942Z"
   },
   {
    "duration": 895,
    "start_time": "2022-02-25T11:19:06.952Z"
   },
   {
    "duration": 6,
    "start_time": "2022-02-25T11:19:07.851Z"
   },
   {
    "duration": 726,
    "start_time": "2022-02-25T11:19:07.859Z"
   },
   {
    "duration": 7,
    "start_time": "2022-02-25T11:19:08.594Z"
   },
   {
    "duration": 958,
    "start_time": "2022-02-25T11:19:08.604Z"
   },
   {
    "duration": 3955,
    "start_time": "2022-02-25T11:19:09.565Z"
   },
   {
    "duration": 230,
    "start_time": "2022-02-25T11:19:13.523Z"
   },
   {
    "duration": 788,
    "start_time": "2022-02-25T11:19:13.755Z"
   },
   {
    "duration": 359,
    "start_time": "2022-02-25T11:19:14.546Z"
   },
   {
    "duration": 242,
    "start_time": "2022-02-25T11:19:14.907Z"
   },
   {
    "duration": 254,
    "start_time": "2022-02-25T11:19:15.152Z"
   },
   {
    "duration": 302,
    "start_time": "2022-02-25T11:19:15.409Z"
   },
   {
    "duration": 242,
    "start_time": "2022-02-25T11:19:15.713Z"
   },
   {
    "duration": 740,
    "start_time": "2022-02-25T11:19:15.959Z"
   },
   {
    "duration": 253,
    "start_time": "2022-02-25T11:19:16.702Z"
   },
   {
    "duration": 8,
    "start_time": "2022-02-25T11:19:16.958Z"
   },
   {
    "duration": 32,
    "start_time": "2022-02-25T11:19:16.972Z"
   },
   {
    "duration": 9,
    "start_time": "2022-02-25T11:19:17.006Z"
   },
   {
    "duration": 8,
    "start_time": "2022-02-25T11:19:17.017Z"
   },
   {
    "duration": 246,
    "start_time": "2022-02-25T11:19:17.028Z"
   },
   {
    "duration": 14,
    "start_time": "2022-02-25T11:31:39.426Z"
   },
   {
    "duration": 303,
    "start_time": "2022-02-25T11:47:35.619Z"
   },
   {
    "duration": 268,
    "start_time": "2022-02-25T11:49:49.268Z"
   },
   {
    "duration": 291,
    "start_time": "2022-02-25T11:50:52.094Z"
   },
   {
    "duration": 255,
    "start_time": "2022-02-25T11:54:09.440Z"
   },
   {
    "duration": 289,
    "start_time": "2022-02-25T11:55:45.984Z"
   },
   {
    "duration": 11,
    "start_time": "2022-02-25T11:56:08.655Z"
   },
   {
    "duration": 500,
    "start_time": "2022-02-25T12:02:36.172Z"
   },
   {
    "duration": 317,
    "start_time": "2022-02-25T12:03:55.469Z"
   },
   {
    "duration": 6879,
    "start_time": "2022-02-25T12:06:20.551Z"
   },
   {
    "duration": 168,
    "start_time": "2022-02-25T12:10:15.032Z"
   },
   {
    "duration": 37738,
    "start_time": "2022-02-25T13:58:35.603Z"
   },
   {
    "duration": 505,
    "start_time": "2022-02-25T13:59:59.577Z"
   },
   {
    "duration": 522,
    "start_time": "2022-02-25T14:01:06.714Z"
   },
   {
    "duration": 258,
    "start_time": "2022-02-25T14:07:16.654Z"
   },
   {
    "duration": 36499,
    "start_time": "2022-02-25T14:13:28.140Z"
   },
   {
    "duration": 270,
    "start_time": "2022-02-25T14:15:34.158Z"
   },
   {
    "duration": 296,
    "start_time": "2022-02-25T14:27:08.149Z"
   },
   {
    "duration": 558,
    "start_time": "2022-02-25T14:28:12.978Z"
   },
   {
    "duration": 1099,
    "start_time": "2022-02-25T14:28:25.209Z"
   },
   {
    "duration": 171,
    "start_time": "2022-02-25T14:28:31.679Z"
   },
   {
    "duration": 154,
    "start_time": "2022-02-25T14:29:06.640Z"
   },
   {
    "duration": 161,
    "start_time": "2022-02-25T14:29:21.234Z"
   },
   {
    "duration": 3,
    "start_time": "2022-02-25T14:29:24.167Z"
   },
   {
    "duration": 159,
    "start_time": "2022-02-25T14:30:03.867Z"
   },
   {
    "duration": 31,
    "start_time": "2022-02-25T14:37:31.911Z"
   },
   {
    "duration": 36444,
    "start_time": "2022-02-25T14:38:29.712Z"
   },
   {
    "duration": 266,
    "start_time": "2022-02-25T14:43:41.953Z"
   },
   {
    "duration": 16,
    "start_time": "2022-02-25T14:50:24.084Z"
   },
   {
    "duration": 305,
    "start_time": "2022-02-25T14:51:20.404Z"
   },
   {
    "duration": 379,
    "start_time": "2022-02-25T14:51:27.124Z"
   },
   {
    "duration": 15,
    "start_time": "2022-02-25T14:51:45.940Z"
   },
   {
    "duration": 23,
    "start_time": "2022-02-25T14:52:02.374Z"
   },
   {
    "duration": 6453,
    "start_time": "2022-02-25T14:57:22.351Z"
   },
   {
    "duration": 715,
    "start_time": "2022-02-25T14:57:46.761Z"
   },
   {
    "duration": 338,
    "start_time": "2022-02-25T14:58:30.220Z"
   },
   {
    "duration": 300,
    "start_time": "2022-02-25T14:59:10.569Z"
   },
   {
    "duration": 13,
    "start_time": "2022-02-25T15:00:17.468Z"
   },
   {
    "duration": 71,
    "start_time": "2022-02-25T15:03:48.778Z"
   },
   {
    "duration": 28,
    "start_time": "2022-02-25T15:09:33.215Z"
   },
   {
    "duration": 26,
    "start_time": "2022-02-25T15:15:20.625Z"
   },
   {
    "duration": 629,
    "start_time": "2022-02-25T15:15:31.305Z"
   },
   {
    "duration": 119,
    "start_time": "2022-02-25T15:17:45.275Z"
   },
   {
    "duration": 30,
    "start_time": "2022-02-25T15:17:59.126Z"
   },
   {
    "duration": 4,
    "start_time": "2022-02-25T15:19:01.089Z"
   },
   {
    "duration": 62,
    "start_time": "2022-02-25T15:19:09.956Z"
   },
   {
    "duration": 340,
    "start_time": "2022-02-25T16:14:42.233Z"
   },
   {
    "duration": 860,
    "start_time": "2022-02-25T16:15:00.522Z"
   },
   {
    "duration": 23,
    "start_time": "2022-02-25T16:15:01.385Z"
   },
   {
    "duration": 122,
    "start_time": "2022-02-25T16:15:01.412Z"
   },
   {
    "duration": 13,
    "start_time": "2022-02-25T16:15:01.537Z"
   },
   {
    "duration": 19,
    "start_time": "2022-02-25T16:15:01.552Z"
   },
   {
    "duration": 28,
    "start_time": "2022-02-25T16:15:01.574Z"
   },
   {
    "duration": 19,
    "start_time": "2022-02-25T16:15:01.604Z"
   },
   {
    "duration": 30,
    "start_time": "2022-02-25T16:15:01.627Z"
   },
   {
    "duration": 17,
    "start_time": "2022-02-25T16:15:01.660Z"
   },
   {
    "duration": 29,
    "start_time": "2022-02-25T16:15:01.679Z"
   },
   {
    "duration": 8,
    "start_time": "2022-02-25T16:15:01.711Z"
   },
   {
    "duration": 16,
    "start_time": "2022-02-25T16:15:01.722Z"
   },
   {
    "duration": 15,
    "start_time": "2022-02-25T16:15:01.740Z"
   },
   {
    "duration": 20,
    "start_time": "2022-02-25T16:15:01.757Z"
   },
   {
    "duration": 13,
    "start_time": "2022-02-25T16:15:01.780Z"
   },
   {
    "duration": 23,
    "start_time": "2022-02-25T16:15:01.795Z"
   },
   {
    "duration": 23,
    "start_time": "2022-02-25T16:15:01.820Z"
   },
   {
    "duration": 26,
    "start_time": "2022-02-25T16:15:01.845Z"
   },
   {
    "duration": 34,
    "start_time": "2022-02-25T16:15:01.873Z"
   },
   {
    "duration": 19,
    "start_time": "2022-02-25T16:15:01.909Z"
   },
   {
    "duration": 10,
    "start_time": "2022-02-25T16:15:01.930Z"
   },
   {
    "duration": 19,
    "start_time": "2022-02-25T16:15:01.943Z"
   },
   {
    "duration": 34,
    "start_time": "2022-02-25T16:15:01.968Z"
   },
   {
    "duration": 26,
    "start_time": "2022-02-25T16:15:02.006Z"
   },
   {
    "duration": 50,
    "start_time": "2022-02-25T16:15:02.034Z"
   },
   {
    "duration": 13,
    "start_time": "2022-02-25T16:15:02.087Z"
   },
   {
    "duration": 83,
    "start_time": "2022-02-25T16:15:02.102Z"
   },
   {
    "duration": 13,
    "start_time": "2022-02-25T16:15:02.188Z"
   },
   {
    "duration": 20,
    "start_time": "2022-02-25T16:15:02.203Z"
   },
   {
    "duration": 19,
    "start_time": "2022-02-25T16:15:02.226Z"
   },
   {
    "duration": 12,
    "start_time": "2022-02-25T16:15:02.248Z"
   },
   {
    "duration": 23,
    "start_time": "2022-02-25T16:15:02.263Z"
   },
   {
    "duration": 15,
    "start_time": "2022-02-25T16:15:02.288Z"
   },
   {
    "duration": 15,
    "start_time": "2022-02-25T16:15:02.305Z"
   },
   {
    "duration": 782,
    "start_time": "2022-02-25T16:15:02.322Z"
   },
   {
    "duration": 10,
    "start_time": "2022-02-25T16:15:03.106Z"
   },
   {
    "duration": 7,
    "start_time": "2022-02-25T16:15:03.118Z"
   },
   {
    "duration": 734,
    "start_time": "2022-02-25T16:15:03.127Z"
   },
   {
    "duration": 8,
    "start_time": "2022-02-25T16:15:03.864Z"
   },
   {
    "duration": 606,
    "start_time": "2022-02-25T16:15:03.874Z"
   },
   {
    "duration": 3191,
    "start_time": "2022-02-25T16:15:04.483Z"
   },
   {
    "duration": 233,
    "start_time": "2022-02-25T16:15:07.677Z"
   },
   {
    "duration": 584,
    "start_time": "2022-02-25T16:15:07.912Z"
   },
   {
    "duration": 383,
    "start_time": "2022-02-25T16:15:08.499Z"
   },
   {
    "duration": 250,
    "start_time": "2022-02-25T16:15:08.884Z"
   },
   {
    "duration": 250,
    "start_time": "2022-02-25T16:15:09.137Z"
   },
   {
    "duration": 299,
    "start_time": "2022-02-25T16:15:09.389Z"
   },
   {
    "duration": 239,
    "start_time": "2022-02-25T16:15:09.694Z"
   },
   {
    "duration": 687,
    "start_time": "2022-02-25T16:15:09.936Z"
   },
   {
    "duration": 267,
    "start_time": "2022-02-25T16:15:10.625Z"
   },
   {
    "duration": 9,
    "start_time": "2022-02-25T16:15:10.894Z"
   },
   {
    "duration": 19,
    "start_time": "2022-02-25T16:15:10.905Z"
   },
   {
    "duration": 10,
    "start_time": "2022-02-25T16:15:10.926Z"
   },
   {
    "duration": 14,
    "start_time": "2022-02-25T16:15:10.939Z"
   },
   {
    "duration": 47,
    "start_time": "2022-02-25T16:15:10.955Z"
   },
   {
    "duration": 23,
    "start_time": "2022-02-25T16:15:11.005Z"
   },
   {
    "duration": 719,
    "start_time": "2022-02-25T16:15:11.031Z"
   },
   {
    "duration": 337,
    "start_time": "2022-02-25T16:15:11.753Z"
   },
   {
    "duration": 3,
    "start_time": "2022-02-25T16:15:12.094Z"
   },
   {
    "duration": 181,
    "start_time": "2022-02-25T16:15:12.100Z"
   },
   {
    "duration": 3,
    "start_time": "2022-02-25T16:15:12.283Z"
   },
   {
    "duration": 37,
    "start_time": "2022-02-25T16:15:12.293Z"
   },
   {
    "duration": 6558,
    "start_time": "2022-02-25T16:15:12.332Z"
   },
   {
    "duration": 19,
    "start_time": "2022-02-25T16:15:49.159Z"
   },
   {
    "duration": 21,
    "start_time": "2022-02-25T16:16:04.165Z"
   },
   {
    "duration": 82,
    "start_time": "2022-02-25T16:16:32.634Z"
   },
   {
    "duration": 41,
    "start_time": "2022-02-25T16:17:13.503Z"
   },
   {
    "duration": 81,
    "start_time": "2022-02-25T16:17:54.719Z"
   },
   {
    "duration": 6678,
    "start_time": "2022-02-25T16:18:03.000Z"
   },
   {
    "duration": 6555,
    "start_time": "2022-02-25T16:18:13.839Z"
   },
   {
    "duration": 824,
    "start_time": "2022-02-25T17:19:19.566Z"
   },
   {
    "duration": 361463,
    "start_time": "2022-02-25T17:28:10.157Z"
   },
   {
    "duration": 5883,
    "start_time": "2022-02-25T18:14:10.673Z"
   },
   {
    "duration": 19,
    "start_time": "2022-02-25T18:14:46.183Z"
   },
   {
    "duration": 18,
    "start_time": "2022-02-25T18:14:59.364Z"
   },
   {
    "duration": 9,
    "start_time": "2022-02-25T18:17:55.301Z"
   },
   {
    "duration": 359,
    "start_time": "2022-02-25T18:18:05.302Z"
   },
   {
    "duration": 679,
    "start_time": "2022-02-25T18:19:26.508Z"
   },
   {
    "duration": 255,
    "start_time": "2022-02-25T18:24:23.541Z"
   },
   {
    "duration": 346,
    "start_time": "2022-02-25T18:24:33.941Z"
   },
   {
    "duration": 279,
    "start_time": "2022-02-25T18:25:46.749Z"
   },
   {
    "duration": 65,
    "start_time": "2022-02-25T18:36:28.116Z"
   },
   {
    "duration": 6093,
    "start_time": "2022-02-25T18:40:27.184Z"
   },
   {
    "duration": 1764,
    "start_time": "2022-02-25T18:41:20.197Z"
   },
   {
    "duration": -202,
    "start_time": "2022-02-25T18:44:41.150Z"
   },
   {
    "duration": 615,
    "start_time": "2022-02-26T08:41:04.082Z"
   },
   {
    "duration": 945,
    "start_time": "2022-02-26T08:41:13.793Z"
   },
   {
    "duration": 28,
    "start_time": "2022-02-26T08:41:14.741Z"
   },
   {
    "duration": 122,
    "start_time": "2022-02-26T08:41:14.772Z"
   },
   {
    "duration": 10,
    "start_time": "2022-02-26T08:41:14.897Z"
   },
   {
    "duration": 4,
    "start_time": "2022-02-26T08:41:14.909Z"
   },
   {
    "duration": 9,
    "start_time": "2022-02-26T08:41:14.915Z"
   },
   {
    "duration": 9,
    "start_time": "2022-02-26T08:41:14.927Z"
   },
   {
    "duration": 34,
    "start_time": "2022-02-26T08:41:14.939Z"
   },
   {
    "duration": 8,
    "start_time": "2022-02-26T08:41:14.976Z"
   },
   {
    "duration": 7,
    "start_time": "2022-02-26T08:41:14.986Z"
   },
   {
    "duration": 30,
    "start_time": "2022-02-26T08:41:14.995Z"
   },
   {
    "duration": 32,
    "start_time": "2022-02-26T08:41:15.028Z"
   },
   {
    "duration": 16,
    "start_time": "2022-02-26T08:41:15.062Z"
   },
   {
    "duration": 14,
    "start_time": "2022-02-26T08:41:15.080Z"
   },
   {
    "duration": 8,
    "start_time": "2022-02-26T08:41:15.096Z"
   },
   {
    "duration": 7,
    "start_time": "2022-02-26T08:41:15.106Z"
   },
   {
    "duration": 17,
    "start_time": "2022-02-26T08:41:15.115Z"
   },
   {
    "duration": 21,
    "start_time": "2022-02-26T08:41:15.134Z"
   },
   {
    "duration": 25,
    "start_time": "2022-02-26T08:41:15.157Z"
   },
   {
    "duration": 16,
    "start_time": "2022-02-26T08:41:15.184Z"
   },
   {
    "duration": 9,
    "start_time": "2022-02-26T08:41:15.202Z"
   },
   {
    "duration": 18,
    "start_time": "2022-02-26T08:41:15.213Z"
   },
   {
    "duration": 10,
    "start_time": "2022-02-26T08:41:15.268Z"
   },
   {
    "duration": 9,
    "start_time": "2022-02-26T08:41:15.280Z"
   },
   {
    "duration": 10,
    "start_time": "2022-02-26T08:41:15.291Z"
   },
   {
    "duration": 8,
    "start_time": "2022-02-26T08:41:15.303Z"
   },
   {
    "duration": 71,
    "start_time": "2022-02-26T08:41:15.313Z"
   },
   {
    "duration": 9,
    "start_time": "2022-02-26T08:41:15.386Z"
   },
   {
    "duration": 14,
    "start_time": "2022-02-26T08:41:15.397Z"
   },
   {
    "duration": 6,
    "start_time": "2022-02-26T08:41:15.413Z"
   },
   {
    "duration": 8,
    "start_time": "2022-02-26T08:41:15.421Z"
   },
   {
    "duration": 37,
    "start_time": "2022-02-26T08:41:15.432Z"
   },
   {
    "duration": 8,
    "start_time": "2022-02-26T08:41:15.472Z"
   },
   {
    "duration": 9,
    "start_time": "2022-02-26T08:41:15.482Z"
   },
   {
    "duration": 549,
    "start_time": "2022-02-26T08:41:15.493Z"
   },
   {
    "duration": 10,
    "start_time": "2022-02-26T08:41:16.045Z"
   },
   {
    "duration": 16,
    "start_time": "2022-02-26T08:41:16.057Z"
   },
   {
    "duration": 7,
    "start_time": "2022-02-26T08:41:16.075Z"
   },
   {
    "duration": 2095,
    "start_time": "2022-02-26T08:41:16.084Z"
   },
   {
    "duration": 154,
    "start_time": "2022-02-26T08:41:37.615Z"
   },
   {
    "duration": 661,
    "start_time": "2022-02-26T08:42:07.398Z"
   },
   {
    "duration": 614,
    "start_time": "2022-02-26T08:42:30.735Z"
   },
   {
    "duration": 596,
    "start_time": "2022-02-26T08:42:58.373Z"
   },
   {
    "duration": 245,
    "start_time": "2022-02-26T08:43:29.702Z"
   },
   {
    "duration": 220,
    "start_time": "2022-02-26T08:44:33.913Z"
   },
   {
    "duration": 299,
    "start_time": "2022-02-26T08:44:43.672Z"
   },
   {
    "duration": 433,
    "start_time": "2022-02-26T09:11:14.114Z"
   },
   {
    "duration": 160,
    "start_time": "2022-02-26T09:11:30.328Z"
   },
   {
    "duration": 12,
    "start_time": "2022-02-26T09:11:30.491Z"
   },
   {
    "duration": 110,
    "start_time": "2022-02-26T09:11:30.506Z"
   },
   {
    "duration": 9,
    "start_time": "2022-02-26T09:11:30.618Z"
   },
   {
    "duration": 21,
    "start_time": "2022-02-26T09:11:30.629Z"
   },
   {
    "duration": 29,
    "start_time": "2022-02-26T09:11:30.653Z"
   },
   {
    "duration": 23,
    "start_time": "2022-02-26T09:11:30.685Z"
   },
   {
    "duration": 32,
    "start_time": "2022-02-26T09:11:30.711Z"
   },
   {
    "duration": 19,
    "start_time": "2022-02-26T09:11:30.746Z"
   },
   {
    "duration": 25,
    "start_time": "2022-02-26T09:11:30.767Z"
   },
   {
    "duration": 21,
    "start_time": "2022-02-26T09:11:30.794Z"
   },
   {
    "duration": 23,
    "start_time": "2022-02-26T09:11:30.818Z"
   },
   {
    "duration": 7,
    "start_time": "2022-02-26T09:11:30.843Z"
   },
   {
    "duration": 9,
    "start_time": "2022-02-26T09:11:30.853Z"
   },
   {
    "duration": 19,
    "start_time": "2022-02-26T09:11:30.864Z"
   },
   {
    "duration": 12,
    "start_time": "2022-02-26T09:11:30.886Z"
   },
   {
    "duration": 15,
    "start_time": "2022-02-26T09:11:30.900Z"
   },
   {
    "duration": 31,
    "start_time": "2022-02-26T09:11:30.917Z"
   },
   {
    "duration": 25,
    "start_time": "2022-02-26T09:11:30.950Z"
   },
   {
    "duration": 20,
    "start_time": "2022-02-26T09:11:30.977Z"
   },
   {
    "duration": 9,
    "start_time": "2022-02-26T09:11:31.000Z"
   },
   {
    "duration": 24,
    "start_time": "2022-02-26T09:11:31.011Z"
   },
   {
    "duration": 33,
    "start_time": "2022-02-26T09:11:31.041Z"
   },
   {
    "duration": 16,
    "start_time": "2022-02-26T09:11:31.077Z"
   },
   {
    "duration": 19,
    "start_time": "2022-02-26T09:11:31.096Z"
   },
   {
    "duration": 17,
    "start_time": "2022-02-26T09:11:31.117Z"
   },
   {
    "duration": 56,
    "start_time": "2022-02-26T09:11:31.137Z"
   },
   {
    "duration": 15,
    "start_time": "2022-02-26T09:11:31.195Z"
   },
   {
    "duration": 23,
    "start_time": "2022-02-26T09:11:31.213Z"
   },
   {
    "duration": 7,
    "start_time": "2022-02-26T09:11:31.239Z"
   },
   {
    "duration": 22,
    "start_time": "2022-02-26T09:11:31.248Z"
   },
   {
    "duration": 17,
    "start_time": "2022-02-26T09:11:31.273Z"
   },
   {
    "duration": 38,
    "start_time": "2022-02-26T09:11:31.292Z"
   },
   {
    "duration": 20,
    "start_time": "2022-02-26T09:11:31.331Z"
   },
   {
    "duration": 648,
    "start_time": "2022-02-26T09:11:31.354Z"
   },
   {
    "duration": 9,
    "start_time": "2022-02-26T09:11:32.004Z"
   },
   {
    "duration": 12,
    "start_time": "2022-02-26T09:11:32.016Z"
   },
   {
    "duration": 12,
    "start_time": "2022-02-26T09:11:32.030Z"
   },
   {
    "duration": 3241,
    "start_time": "2022-02-26T09:11:32.045Z"
   },
   {
    "duration": 298,
    "start_time": "2022-02-26T09:11:35.289Z"
   },
   {
    "duration": 409,
    "start_time": "2022-02-26T09:11:35.589Z"
   },
   {
    "duration": 270,
    "start_time": "2022-02-26T09:11:36.001Z"
   },
   {
    "duration": 177,
    "start_time": "2022-02-26T09:11:36.273Z"
   },
   {
    "duration": 176,
    "start_time": "2022-02-26T09:11:36.452Z"
   },
   {
    "duration": 312,
    "start_time": "2022-02-26T09:11:36.630Z"
   },
   {
    "duration": 168,
    "start_time": "2022-02-26T09:11:36.944Z"
   },
   {
    "duration": 400,
    "start_time": "2022-02-26T09:11:37.114Z"
   },
   {
    "duration": 190,
    "start_time": "2022-02-26T09:11:37.516Z"
   },
   {
    "duration": 6,
    "start_time": "2022-02-26T09:11:37.709Z"
   },
   {
    "duration": 28,
    "start_time": "2022-02-26T09:11:37.717Z"
   },
   {
    "duration": 11,
    "start_time": "2022-02-26T09:11:37.748Z"
   },
   {
    "duration": 7,
    "start_time": "2022-02-26T09:11:37.761Z"
   },
   {
    "duration": 18,
    "start_time": "2022-02-26T09:11:37.770Z"
   },
   {
    "duration": 23,
    "start_time": "2022-02-26T09:11:37.791Z"
   },
   {
    "duration": 657,
    "start_time": "2022-02-26T09:11:37.818Z"
   },
   {
    "duration": 249,
    "start_time": "2022-02-26T09:11:38.478Z"
   },
   {
    "duration": 562,
    "start_time": "2022-02-26T09:11:38.731Z"
   },
   {
    "duration": 132,
    "start_time": "2022-02-26T09:11:39.297Z"
   },
   {
    "duration": 282,
    "start_time": "2022-02-26T09:11:39.431Z"
   },
   {
    "duration": 341,
    "start_time": "2022-02-26T09:11:39.716Z"
   },
   {
    "duration": 296,
    "start_time": "2022-02-26T09:11:40.060Z"
   },
   {
    "duration": 38,
    "start_time": "2022-02-26T09:11:40.358Z"
   },
   {
    "duration": 474,
    "start_time": "2022-02-26T09:11:40.398Z"
   },
   {
    "duration": 8,
    "start_time": "2022-02-26T09:11:52.021Z"
   },
   {
    "duration": 544,
    "start_time": "2022-02-26T09:21:09.601Z"
   },
   {
    "duration": 297,
    "start_time": "2022-02-26T09:23:17.145Z"
   },
   {
    "duration": 221,
    "start_time": "2022-02-26T09:25:18.170Z"
   },
   {
    "duration": 188,
    "start_time": "2022-02-26T09:27:39.012Z"
   },
   {
    "duration": 206,
    "start_time": "2022-02-26T09:27:53.156Z"
   },
   {
    "duration": 188,
    "start_time": "2022-02-26T09:28:42.909Z"
   },
   {
    "duration": 8,
    "start_time": "2022-02-26T09:28:51.205Z"
   },
   {
    "duration": 115,
    "start_time": "2022-02-26T09:33:15.017Z"
   },
   {
    "duration": 218,
    "start_time": "2022-02-26T09:33:30.391Z"
   },
   {
    "duration": 224,
    "start_time": "2022-02-26T09:34:05.352Z"
   },
   {
    "duration": 227,
    "start_time": "2022-02-26T09:35:00.108Z"
   },
   {
    "duration": 243,
    "start_time": "2022-02-26T09:35:43.152Z"
   },
   {
    "duration": 216,
    "start_time": "2022-02-26T09:36:08.141Z"
   },
   {
    "duration": 233,
    "start_time": "2022-02-26T09:37:14.096Z"
   },
   {
    "duration": 175,
    "start_time": "2022-02-26T09:39:36.937Z"
   },
   {
    "duration": 184,
    "start_time": "2022-02-26T09:40:13.194Z"
   },
   {
    "duration": 459,
    "start_time": "2022-02-26T09:44:23.316Z"
   },
   {
    "duration": 178,
    "start_time": "2022-02-26T09:44:51.679Z"
   },
   {
    "duration": 171,
    "start_time": "2022-02-26T09:47:39.088Z"
   },
   {
    "duration": 186,
    "start_time": "2022-02-26T11:07:14.073Z"
   },
   {
    "duration": 624,
    "start_time": "2022-02-26T11:55:47.178Z"
   },
   {
    "duration": 10,
    "start_time": "2022-02-26T11:55:47.804Z"
   },
   {
    "duration": 74,
    "start_time": "2022-02-26T11:55:47.815Z"
   },
   {
    "duration": 7,
    "start_time": "2022-02-26T11:55:47.891Z"
   },
   {
    "duration": 3,
    "start_time": "2022-02-26T11:55:47.900Z"
   },
   {
    "duration": 5,
    "start_time": "2022-02-26T11:55:47.905Z"
   },
   {
    "duration": 24,
    "start_time": "2022-02-26T11:55:47.911Z"
   },
   {
    "duration": 7,
    "start_time": "2022-02-26T11:55:47.936Z"
   },
   {
    "duration": 6,
    "start_time": "2022-02-26T11:55:47.946Z"
   },
   {
    "duration": 6,
    "start_time": "2022-02-26T11:55:47.954Z"
   },
   {
    "duration": 6,
    "start_time": "2022-02-26T11:55:47.961Z"
   },
   {
    "duration": 5,
    "start_time": "2022-02-26T11:55:47.969Z"
   },
   {
    "duration": 3,
    "start_time": "2022-02-26T11:55:47.976Z"
   },
   {
    "duration": 5,
    "start_time": "2022-02-26T11:55:47.981Z"
   },
   {
    "duration": 4,
    "start_time": "2022-02-26T11:55:47.987Z"
   },
   {
    "duration": 43,
    "start_time": "2022-02-26T11:55:47.993Z"
   },
   {
    "duration": 9,
    "start_time": "2022-02-26T11:55:48.038Z"
   },
   {
    "duration": 9,
    "start_time": "2022-02-26T11:55:48.049Z"
   },
   {
    "duration": 17,
    "start_time": "2022-02-26T11:55:48.060Z"
   },
   {
    "duration": 14,
    "start_time": "2022-02-26T11:55:48.079Z"
   },
   {
    "duration": 38,
    "start_time": "2022-02-26T11:55:48.095Z"
   },
   {
    "duration": 14,
    "start_time": "2022-02-26T11:55:48.135Z"
   },
   {
    "duration": 8,
    "start_time": "2022-02-26T11:55:48.151Z"
   },
   {
    "duration": 7,
    "start_time": "2022-02-26T11:55:48.160Z"
   },
   {
    "duration": 8,
    "start_time": "2022-02-26T11:55:48.169Z"
   },
   {
    "duration": 5,
    "start_time": "2022-02-26T11:55:48.178Z"
   },
   {
    "duration": 67,
    "start_time": "2022-02-26T11:55:48.187Z"
   },
   {
    "duration": 8,
    "start_time": "2022-02-26T11:55:48.256Z"
   },
   {
    "duration": 10,
    "start_time": "2022-02-26T11:55:48.266Z"
   },
   {
    "duration": 10,
    "start_time": "2022-02-26T11:55:48.277Z"
   },
   {
    "duration": 5,
    "start_time": "2022-02-26T11:55:48.288Z"
   },
   {
    "duration": 8,
    "start_time": "2022-02-26T11:55:48.294Z"
   },
   {
    "duration": 28,
    "start_time": "2022-02-26T11:55:48.304Z"
   },
   {
    "duration": 5,
    "start_time": "2022-02-26T11:55:48.334Z"
   },
   {
    "duration": 514,
    "start_time": "2022-02-26T11:55:48.341Z"
   },
   {
    "duration": 7,
    "start_time": "2022-02-26T11:55:48.856Z"
   },
   {
    "duration": 6,
    "start_time": "2022-02-26T11:55:48.865Z"
   },
   {
    "duration": 4,
    "start_time": "2022-02-26T11:55:48.873Z"
   },
   {
    "duration": 1961,
    "start_time": "2022-02-26T11:55:48.879Z"
   },
   {
    "duration": 135,
    "start_time": "2022-02-26T11:55:50.842Z"
   },
   {
    "duration": 408,
    "start_time": "2022-02-26T11:55:50.979Z"
   },
   {
    "duration": 220,
    "start_time": "2022-02-26T11:55:51.389Z"
   },
   {
    "duration": 152,
    "start_time": "2022-02-26T11:55:51.611Z"
   },
   {
    "duration": 150,
    "start_time": "2022-02-26T11:55:51.765Z"
   },
   {
    "duration": 250,
    "start_time": "2022-02-26T11:55:51.917Z"
   },
   {
    "duration": 145,
    "start_time": "2022-02-26T11:55:52.169Z"
   },
   {
    "duration": 326,
    "start_time": "2022-02-26T11:55:52.316Z"
   },
   {
    "duration": 168,
    "start_time": "2022-02-26T11:55:52.644Z"
   },
   {
    "duration": 6,
    "start_time": "2022-02-26T11:55:52.814Z"
   },
   {
    "duration": 18,
    "start_time": "2022-02-26T11:55:52.821Z"
   },
   {
    "duration": 6,
    "start_time": "2022-02-26T11:55:52.841Z"
   },
   {
    "duration": 6,
    "start_time": "2022-02-26T11:55:52.848Z"
   },
   {
    "duration": 9,
    "start_time": "2022-02-26T11:55:52.856Z"
   },
   {
    "duration": 13,
    "start_time": "2022-02-26T11:55:52.867Z"
   },
   {
    "duration": 505,
    "start_time": "2022-02-26T11:55:52.881Z"
   },
   {
    "duration": 276,
    "start_time": "2022-02-26T11:55:53.388Z"
   },
   {
    "duration": 504,
    "start_time": "2022-02-26T11:55:53.666Z"
   },
   {
    "duration": 103,
    "start_time": "2022-02-26T11:55:54.172Z"
   },
   {
    "duration": 167,
    "start_time": "2022-02-26T11:55:54.276Z"
   },
   {
    "duration": 162,
    "start_time": "2022-02-26T11:55:54.445Z"
   },
   {
    "duration": 187,
    "start_time": "2022-02-26T11:55:54.609Z"
   },
   {
    "duration": 163,
    "start_time": "2022-02-26T11:55:54.797Z"
   },
   {
    "duration": 20,
    "start_time": "2022-02-26T11:55:54.962Z"
   },
   {
    "duration": 380,
    "start_time": "2022-02-26T11:55:54.983Z"
   },
   {
    "duration": 206,
    "start_time": "2022-02-26T11:55:55.365Z"
   },
   {
    "duration": 211,
    "start_time": "2022-02-26T11:55:55.573Z"
   },
   {
    "duration": 200,
    "start_time": "2022-02-26T11:55:55.786Z"
   },
   {
    "duration": 213,
    "start_time": "2022-02-26T11:55:55.988Z"
   },
   {
    "duration": 583,
    "start_time": "2022-02-26T12:00:34.213Z"
   },
   {
    "duration": 158,
    "start_time": "2022-02-26T12:01:04.772Z"
   },
   {
    "duration": 132,
    "start_time": "2022-02-26T12:03:21.391Z"
   },
   {
    "duration": 183,
    "start_time": "2022-02-26T12:04:14.720Z"
   },
   {
    "duration": 271,
    "start_time": "2022-02-26T12:04:17.925Z"
   },
   {
    "duration": 150,
    "start_time": "2022-02-26T12:18:42.557Z"
   },
   {
    "duration": 154,
    "start_time": "2022-02-26T12:19:02.383Z"
   },
   {
    "duration": 160,
    "start_time": "2022-02-26T12:19:16.631Z"
   },
   {
    "duration": 184,
    "start_time": "2022-02-26T12:21:06.975Z"
   },
   {
    "duration": 143,
    "start_time": "2022-02-26T12:21:25.272Z"
   },
   {
    "duration": 465,
    "start_time": "2022-02-26T12:34:10.044Z"
   },
   {
    "duration": 95,
    "start_time": "2022-02-26T12:34:58.249Z"
   },
   {
    "duration": 151,
    "start_time": "2022-02-26T12:35:42.753Z"
   },
   {
    "duration": 188,
    "start_time": "2022-02-26T12:35:57.401Z"
   },
   {
    "duration": 153,
    "start_time": "2022-02-26T12:36:16.215Z"
   },
   {
    "duration": 380,
    "start_time": "2022-02-26T12:36:53.152Z"
   },
   {
    "duration": 433,
    "start_time": "2022-02-26T12:37:07.825Z"
   },
   {
    "duration": 63,
    "start_time": "2022-02-26T12:37:31.946Z"
   },
   {
    "duration": 204,
    "start_time": "2022-02-26T12:37:45.593Z"
   },
   {
    "duration": 210,
    "start_time": "2022-02-26T12:38:08.194Z"
   },
   {
    "duration": 190,
    "start_time": "2022-02-26T12:38:23.705Z"
   },
   {
    "duration": 205,
    "start_time": "2022-02-26T12:38:42.410Z"
   },
   {
    "duration": 166,
    "start_time": "2022-02-26T12:39:10.210Z"
   },
   {
    "duration": 289,
    "start_time": "2022-02-26T12:39:37.658Z"
   },
   {
    "duration": 178,
    "start_time": "2022-02-26T12:39:54.473Z"
   },
   {
    "duration": 159,
    "start_time": "2022-02-26T12:40:08.163Z"
   },
   {
    "duration": 157,
    "start_time": "2022-02-26T12:41:07.731Z"
   },
   {
    "duration": 190,
    "start_time": "2022-02-26T12:41:25.678Z"
   },
   {
    "duration": 495,
    "start_time": "2022-02-26T12:41:51.381Z"
   },
   {
    "duration": 678,
    "start_time": "2022-02-26T12:50:30.126Z"
   },
   {
    "duration": 9,
    "start_time": "2022-02-26T12:50:30.806Z"
   },
   {
    "duration": 77,
    "start_time": "2022-02-26T12:50:30.817Z"
   },
   {
    "duration": 9,
    "start_time": "2022-02-26T12:50:30.897Z"
   },
   {
    "duration": 12,
    "start_time": "2022-02-26T12:50:30.907Z"
   },
   {
    "duration": 39,
    "start_time": "2022-02-26T12:50:30.920Z"
   },
   {
    "duration": 8,
    "start_time": "2022-02-26T12:50:30.961Z"
   },
   {
    "duration": 29,
    "start_time": "2022-02-26T12:50:30.972Z"
   },
   {
    "duration": 17,
    "start_time": "2022-02-26T12:50:31.003Z"
   },
   {
    "duration": 22,
    "start_time": "2022-02-26T12:50:31.021Z"
   },
   {
    "duration": 10,
    "start_time": "2022-02-26T12:50:31.045Z"
   },
   {
    "duration": 23,
    "start_time": "2022-02-26T12:50:31.056Z"
   },
   {
    "duration": 8,
    "start_time": "2022-02-26T12:50:31.080Z"
   },
   {
    "duration": 10,
    "start_time": "2022-02-26T12:50:31.090Z"
   },
   {
    "duration": 9,
    "start_time": "2022-02-26T12:50:31.101Z"
   },
   {
    "duration": 43,
    "start_time": "2022-02-26T12:50:31.112Z"
   },
   {
    "duration": 31,
    "start_time": "2022-02-26T12:50:31.156Z"
   },
   {
    "duration": 15,
    "start_time": "2022-02-26T12:50:31.189Z"
   },
   {
    "duration": 32,
    "start_time": "2022-02-26T12:50:31.206Z"
   },
   {
    "duration": 13,
    "start_time": "2022-02-26T12:50:31.240Z"
   },
   {
    "duration": 11,
    "start_time": "2022-02-26T12:50:31.255Z"
   },
   {
    "duration": 14,
    "start_time": "2022-02-26T12:50:31.268Z"
   },
   {
    "duration": 9,
    "start_time": "2022-02-26T12:50:31.286Z"
   },
   {
    "duration": 12,
    "start_time": "2022-02-26T12:50:31.297Z"
   },
   {
    "duration": 29,
    "start_time": "2022-02-26T12:50:31.310Z"
   },
   {
    "duration": 6,
    "start_time": "2022-02-26T12:50:31.341Z"
   },
   {
    "duration": 47,
    "start_time": "2022-02-26T12:50:31.348Z"
   },
   {
    "duration": 9,
    "start_time": "2022-02-26T12:50:31.397Z"
   },
   {
    "duration": 25,
    "start_time": "2022-02-26T12:50:31.408Z"
   },
   {
    "duration": 9,
    "start_time": "2022-02-26T12:50:31.434Z"
   },
   {
    "duration": 7,
    "start_time": "2022-02-26T12:50:31.445Z"
   },
   {
    "duration": 13,
    "start_time": "2022-02-26T12:50:31.454Z"
   },
   {
    "duration": 10,
    "start_time": "2022-02-26T12:50:31.469Z"
   },
   {
    "duration": 13,
    "start_time": "2022-02-26T12:50:31.481Z"
   },
   {
    "duration": 467,
    "start_time": "2022-02-26T12:50:31.496Z"
   },
   {
    "duration": 8,
    "start_time": "2022-02-26T12:50:31.965Z"
   },
   {
    "duration": 5,
    "start_time": "2022-02-26T12:50:31.975Z"
   },
   {
    "duration": 7,
    "start_time": "2022-02-26T12:50:31.981Z"
   },
   {
    "duration": 1817,
    "start_time": "2022-02-26T12:50:31.990Z"
   },
   {
    "duration": 132,
    "start_time": "2022-02-26T12:50:33.809Z"
   },
   {
    "duration": 404,
    "start_time": "2022-02-26T12:50:33.943Z"
   },
   {
    "duration": 214,
    "start_time": "2022-02-26T12:50:34.349Z"
   },
   {
    "duration": 147,
    "start_time": "2022-02-26T12:50:34.565Z"
   },
   {
    "duration": 148,
    "start_time": "2022-02-26T12:50:34.714Z"
   },
   {
    "duration": 285,
    "start_time": "2022-02-26T12:50:34.864Z"
   },
   {
    "duration": 146,
    "start_time": "2022-02-26T12:50:35.150Z"
   },
   {
    "duration": 335,
    "start_time": "2022-02-26T12:50:35.298Z"
   },
   {
    "duration": 150,
    "start_time": "2022-02-26T12:50:35.634Z"
   },
   {
    "duration": 6,
    "start_time": "2022-02-26T12:50:35.786Z"
   },
   {
    "duration": 14,
    "start_time": "2022-02-26T12:50:35.794Z"
   },
   {
    "duration": 23,
    "start_time": "2022-02-26T12:50:35.810Z"
   },
   {
    "duration": 8,
    "start_time": "2022-02-26T12:50:35.834Z"
   },
   {
    "duration": 9,
    "start_time": "2022-02-26T12:50:35.843Z"
   },
   {
    "duration": 13,
    "start_time": "2022-02-26T12:50:35.854Z"
   },
   {
    "duration": 532,
    "start_time": "2022-02-26T12:50:35.868Z"
   },
   {
    "duration": 280,
    "start_time": "2022-02-26T12:50:36.402Z"
   },
   {
    "duration": 519,
    "start_time": "2022-02-26T12:50:36.684Z"
   },
   {
    "duration": 104,
    "start_time": "2022-02-26T12:50:37.205Z"
   },
   {
    "duration": 163,
    "start_time": "2022-02-26T12:50:37.311Z"
   },
   {
    "duration": 159,
    "start_time": "2022-02-26T12:50:37.476Z"
   },
   {
    "duration": 185,
    "start_time": "2022-02-26T12:50:37.637Z"
   },
   {
    "duration": 170,
    "start_time": "2022-02-26T12:50:37.823Z"
   },
   {
    "duration": 22,
    "start_time": "2022-02-26T12:50:37.995Z"
   },
   {
    "duration": 376,
    "start_time": "2022-02-26T12:50:38.018Z"
   },
   {
    "duration": 211,
    "start_time": "2022-02-26T12:50:38.395Z"
   },
   {
    "duration": 213,
    "start_time": "2022-02-26T12:50:38.608Z"
   },
   {
    "duration": 205,
    "start_time": "2022-02-26T12:50:38.822Z"
   },
   {
    "duration": 215,
    "start_time": "2022-02-26T12:50:39.031Z"
   },
   {
    "duration": 199,
    "start_time": "2022-02-26T12:50:39.247Z"
   },
   {
    "duration": 153,
    "start_time": "2022-02-26T12:50:39.448Z"
   },
   {
    "duration": 186,
    "start_time": "2022-02-26T12:50:39.603Z"
   },
   {
    "duration": 296,
    "start_time": "2022-02-26T12:50:39.791Z"
   },
   {
    "duration": 682,
    "start_time": "2022-03-07T10:16:56.520Z"
   },
   {
    "duration": 12,
    "start_time": "2022-03-07T10:16:57.204Z"
   },
   {
    "duration": 83,
    "start_time": "2022-03-07T10:16:57.219Z"
   },
   {
    "duration": 11,
    "start_time": "2022-03-07T10:16:57.304Z"
   },
   {
    "duration": 22,
    "start_time": "2022-03-07T10:16:57.317Z"
   },
   {
    "duration": 6,
    "start_time": "2022-03-07T10:16:57.341Z"
   },
   {
    "duration": 8,
    "start_time": "2022-03-07T10:16:57.349Z"
   },
   {
    "duration": 4,
    "start_time": "2022-03-07T10:17:08.098Z"
   },
   {
    "duration": 81,
    "start_time": "2022-03-07T10:39:47.683Z"
   },
   {
    "duration": 10,
    "start_time": "2022-03-07T10:39:47.765Z"
   },
   {
    "duration": 90,
    "start_time": "2022-03-07T10:39:47.777Z"
   },
   {
    "duration": 8,
    "start_time": "2022-03-07T10:39:47.869Z"
   },
   {
    "duration": 3,
    "start_time": "2022-03-07T10:39:47.879Z"
   },
   {
    "duration": 7,
    "start_time": "2022-03-07T10:39:47.883Z"
   },
   {
    "duration": 6,
    "start_time": "2022-03-07T10:39:47.891Z"
   },
   {
    "duration": 5,
    "start_time": "2022-03-07T10:39:47.898Z"
   },
   {
    "duration": 6,
    "start_time": "2022-03-07T10:39:47.939Z"
   },
   {
    "duration": 10,
    "start_time": "2022-03-07T10:39:47.947Z"
   },
   {
    "duration": 4,
    "start_time": "2022-03-07T10:39:47.959Z"
   },
   {
    "duration": 10,
    "start_time": "2022-03-07T10:39:47.965Z"
   },
   {
    "duration": 22,
    "start_time": "2022-03-07T10:39:47.977Z"
   },
   {
    "duration": 8,
    "start_time": "2022-03-07T10:39:48.000Z"
   },
   {
    "duration": 29,
    "start_time": "2022-03-07T10:39:48.009Z"
   },
   {
    "duration": 5,
    "start_time": "2022-03-07T10:39:48.040Z"
   },
   {
    "duration": 10,
    "start_time": "2022-03-07T10:39:48.047Z"
   },
   {
    "duration": 8,
    "start_time": "2022-03-07T10:39:48.058Z"
   },
   {
    "duration": 16,
    "start_time": "2022-03-07T10:39:48.068Z"
   },
   {
    "duration": 14,
    "start_time": "2022-03-07T10:39:48.085Z"
   },
   {
    "duration": 42,
    "start_time": "2022-03-07T10:39:48.100Z"
   },
   {
    "duration": 16,
    "start_time": "2022-03-07T10:39:48.144Z"
   },
   {
    "duration": 9,
    "start_time": "2022-03-07T10:39:48.162Z"
   },
   {
    "duration": 8,
    "start_time": "2022-03-07T10:39:48.173Z"
   },
   {
    "duration": 8,
    "start_time": "2022-03-07T10:39:48.182Z"
   },
   {
    "duration": 6,
    "start_time": "2022-03-07T10:39:48.192Z"
   },
   {
    "duration": 37,
    "start_time": "2022-03-07T10:39:48.242Z"
   },
   {
    "duration": 9,
    "start_time": "2022-03-07T10:39:48.282Z"
   },
   {
    "duration": 10,
    "start_time": "2022-03-07T10:39:48.293Z"
   },
   {
    "duration": 34,
    "start_time": "2022-03-07T10:39:48.305Z"
   },
   {
    "duration": 5,
    "start_time": "2022-03-07T10:39:48.341Z"
   },
   {
    "duration": 10,
    "start_time": "2022-03-07T10:39:48.348Z"
   },
   {
    "duration": 6,
    "start_time": "2022-03-07T10:39:48.359Z"
   },
   {
    "duration": 5,
    "start_time": "2022-03-07T10:39:48.366Z"
   },
   {
    "duration": 489,
    "start_time": "2022-03-07T10:39:48.373Z"
   },
   {
    "duration": 7,
    "start_time": "2022-03-07T10:39:48.864Z"
   },
   {
    "duration": 6,
    "start_time": "2022-03-07T10:39:48.873Z"
   },
   {
    "duration": 5,
    "start_time": "2022-03-07T10:39:48.880Z"
   },
   {
    "duration": 1973,
    "start_time": "2022-03-07T10:39:48.887Z"
   },
   {
    "duration": 145,
    "start_time": "2022-03-07T10:39:50.862Z"
   },
   {
    "duration": 466,
    "start_time": "2022-03-07T10:39:51.009Z"
   },
   {
    "duration": 243,
    "start_time": "2022-03-07T10:39:51.477Z"
   },
   {
    "duration": 152,
    "start_time": "2022-03-07T10:39:51.721Z"
   },
   {
    "duration": 144,
    "start_time": "2022-03-07T10:39:51.875Z"
   },
   {
    "duration": 272,
    "start_time": "2022-03-07T10:39:52.021Z"
   },
   {
    "duration": 155,
    "start_time": "2022-03-07T10:39:52.294Z"
   },
   {
    "duration": 364,
    "start_time": "2022-03-07T10:39:52.450Z"
   },
   {
    "duration": 159,
    "start_time": "2022-03-07T10:39:52.815Z"
   },
   {
    "duration": 5,
    "start_time": "2022-03-07T10:39:52.975Z"
   },
   {
    "duration": 11,
    "start_time": "2022-03-07T10:39:52.982Z"
   },
   {
    "duration": 12,
    "start_time": "2022-03-07T10:39:52.994Z"
   },
   {
    "duration": 7,
    "start_time": "2022-03-07T10:39:53.008Z"
   },
   {
    "duration": 28,
    "start_time": "2022-03-07T10:39:53.017Z"
   },
   {
    "duration": 12,
    "start_time": "2022-03-07T10:39:53.047Z"
   },
   {
    "duration": 12,
    "start_time": "2022-03-07T10:39:53.060Z"
   },
   {
    "duration": 119,
    "start_time": "2022-03-07T10:39:53.073Z"
   },
   {
    "duration": 88,
    "start_time": "2022-03-07T10:39:53.194Z"
   },
   {
    "duration": 241,
    "start_time": "2022-03-07T11:37:45.487Z"
   },
   {
    "duration": 5,
    "start_time": "2022-03-07T11:38:40.531Z"
   },
   {
    "duration": 6,
    "start_time": "2022-03-07T12:03:48.321Z"
   },
   {
    "duration": 96,
    "start_time": "2022-03-07T12:14:46.913Z"
   },
   {
    "duration": 11,
    "start_time": "2022-03-07T12:14:47.011Z"
   },
   {
    "duration": 75,
    "start_time": "2022-03-07T12:14:47.039Z"
   },
   {
    "duration": 29,
    "start_time": "2022-03-07T12:14:47.116Z"
   },
   {
    "duration": 3,
    "start_time": "2022-03-07T12:14:47.147Z"
   },
   {
    "duration": 6,
    "start_time": "2022-03-07T12:14:47.152Z"
   },
   {
    "duration": 6,
    "start_time": "2022-03-07T12:14:47.160Z"
   },
   {
    "duration": 5,
    "start_time": "2022-03-07T12:14:47.168Z"
   },
   {
    "duration": 7,
    "start_time": "2022-03-07T12:14:47.175Z"
   },
   {
    "duration": 6,
    "start_time": "2022-03-07T12:14:47.183Z"
   },
   {
    "duration": 4,
    "start_time": "2022-03-07T12:14:47.191Z"
   },
   {
    "duration": 42,
    "start_time": "2022-03-07T12:14:47.196Z"
   },
   {
    "duration": 4,
    "start_time": "2022-03-07T12:14:47.240Z"
   },
   {
    "duration": 7,
    "start_time": "2022-03-07T12:14:47.246Z"
   },
   {
    "duration": 5,
    "start_time": "2022-03-07T12:14:47.254Z"
   },
   {
    "duration": 11,
    "start_time": "2022-03-07T12:14:47.261Z"
   },
   {
    "duration": 7,
    "start_time": "2022-03-07T12:14:47.274Z"
   },
   {
    "duration": 12,
    "start_time": "2022-03-07T12:14:47.283Z"
   },
   {
    "duration": 43,
    "start_time": "2022-03-07T12:14:47.296Z"
   },
   {
    "duration": 14,
    "start_time": "2022-03-07T12:14:47.341Z"
   },
   {
    "duration": 8,
    "start_time": "2022-03-07T12:14:47.357Z"
   },
   {
    "duration": 14,
    "start_time": "2022-03-07T12:14:47.367Z"
   },
   {
    "duration": 7,
    "start_time": "2022-03-07T12:14:47.384Z"
   },
   {
    "duration": 7,
    "start_time": "2022-03-07T12:14:47.393Z"
   },
   {
    "duration": 42,
    "start_time": "2022-03-07T12:14:47.402Z"
   },
   {
    "duration": 5,
    "start_time": "2022-03-07T12:14:47.445Z"
   },
   {
    "duration": 38,
    "start_time": "2022-03-07T12:14:47.452Z"
   },
   {
    "duration": 8,
    "start_time": "2022-03-07T12:14:47.492Z"
   },
   {
    "duration": 39,
    "start_time": "2022-03-07T12:14:47.501Z"
   },
   {
    "duration": 5,
    "start_time": "2022-03-07T12:14:47.541Z"
   },
   {
    "duration": 6,
    "start_time": "2022-03-07T12:14:47.547Z"
   },
   {
    "duration": 10,
    "start_time": "2022-03-07T12:14:47.555Z"
   },
   {
    "duration": 6,
    "start_time": "2022-03-07T12:14:47.566Z"
   },
   {
    "duration": 6,
    "start_time": "2022-03-07T12:14:47.573Z"
   },
   {
    "duration": 592,
    "start_time": "2022-03-07T12:14:47.580Z"
   },
   {
    "duration": 7,
    "start_time": "2022-03-07T12:14:48.174Z"
   },
   {
    "duration": 6,
    "start_time": "2022-03-07T12:14:48.182Z"
   },
   {
    "duration": 4,
    "start_time": "2022-03-07T12:14:48.191Z"
   },
   {
    "duration": 2005,
    "start_time": "2022-03-07T12:14:48.197Z"
   },
   {
    "duration": 150,
    "start_time": "2022-03-07T12:14:50.203Z"
   },
   {
    "duration": 377,
    "start_time": "2022-03-07T12:14:50.355Z"
   },
   {
    "duration": 245,
    "start_time": "2022-03-07T12:14:50.733Z"
   },
   {
    "duration": 148,
    "start_time": "2022-03-07T12:14:50.980Z"
   },
   {
    "duration": 155,
    "start_time": "2022-03-07T12:14:51.137Z"
   },
   {
    "duration": 283,
    "start_time": "2022-03-07T12:14:51.294Z"
   },
   {
    "duration": 160,
    "start_time": "2022-03-07T12:14:51.579Z"
   },
   {
    "duration": 365,
    "start_time": "2022-03-07T12:14:51.741Z"
   },
   {
    "duration": 164,
    "start_time": "2022-03-07T12:14:52.108Z"
   },
   {
    "duration": 5,
    "start_time": "2022-03-07T12:14:52.274Z"
   },
   {
    "duration": 15,
    "start_time": "2022-03-07T12:14:52.281Z"
   },
   {
    "duration": 7,
    "start_time": "2022-03-07T12:14:52.298Z"
   },
   {
    "duration": 197,
    "start_time": "2022-03-07T12:14:52.306Z"
   },
   {
    "duration": -1142,
    "start_time": "2022-03-07T12:14:53.647Z"
   },
   {
    "duration": -1175,
    "start_time": "2022-03-07T12:14:53.681Z"
   },
   {
    "duration": -1183,
    "start_time": "2022-03-07T12:14:53.690Z"
   },
   {
    "duration": 7,
    "start_time": "2022-03-07T12:15:13.292Z"
   },
   {
    "duration": 13,
    "start_time": "2022-03-07T12:15:14.760Z"
   },
   {
    "duration": 13,
    "start_time": "2022-03-07T12:15:15.539Z"
   },
   {
    "duration": 236,
    "start_time": "2022-03-07T12:15:17.347Z"
   },
   {
    "duration": 16,
    "start_time": "2022-03-07T12:15:22.803Z"
   },
   {
    "duration": 503,
    "start_time": "2022-03-07T12:15:23.522Z"
   },
   {
    "duration": 5,
    "start_time": "2022-03-07T12:15:24.293Z"
   },
   {
    "duration": 232,
    "start_time": "2022-03-07T12:15:27.838Z"
   },
   {
    "duration": 491,
    "start_time": "2022-03-07T12:15:32.516Z"
   },
   {
    "duration": 6,
    "start_time": "2022-03-07T12:15:34.557Z"
   },
   {
    "duration": 105,
    "start_time": "2022-03-07T12:16:12.232Z"
   },
   {
    "duration": 195,
    "start_time": "2022-03-07T12:16:14.951Z"
   },
   {
    "duration": 154,
    "start_time": "2022-03-07T12:16:19.813Z"
   },
   {
    "duration": 209,
    "start_time": "2022-03-07T12:16:23.638Z"
   },
   {
    "duration": 181,
    "start_time": "2022-03-07T12:16:28.797Z"
   },
   {
    "duration": 23,
    "start_time": "2022-03-07T12:17:10.648Z"
   },
   {
    "duration": 4624,
    "start_time": "2022-03-07T12:18:52.762Z"
   },
   {
    "duration": 88,
    "start_time": "2022-03-07T12:19:02.193Z"
   },
   {
    "duration": 11,
    "start_time": "2022-03-07T12:19:02.283Z"
   },
   {
    "duration": 96,
    "start_time": "2022-03-07T12:19:02.296Z"
   },
   {
    "duration": 8,
    "start_time": "2022-03-07T12:19:02.394Z"
   },
   {
    "duration": 4,
    "start_time": "2022-03-07T12:19:02.404Z"
   },
   {
    "duration": 29,
    "start_time": "2022-03-07T12:19:02.410Z"
   },
   {
    "duration": 3,
    "start_time": "2022-03-07T12:19:02.441Z"
   },
   {
    "duration": 13,
    "start_time": "2022-03-07T12:19:02.446Z"
   },
   {
    "duration": 7,
    "start_time": "2022-03-07T12:19:02.462Z"
   },
   {
    "duration": 7,
    "start_time": "2022-03-07T12:19:02.471Z"
   },
   {
    "duration": 6,
    "start_time": "2022-03-07T12:19:02.480Z"
   },
   {
    "duration": 9,
    "start_time": "2022-03-07T12:19:02.487Z"
   },
   {
    "duration": 40,
    "start_time": "2022-03-07T12:19:02.498Z"
   },
   {
    "duration": 6,
    "start_time": "2022-03-07T12:19:02.539Z"
   },
   {
    "duration": 8,
    "start_time": "2022-03-07T12:19:02.546Z"
   },
   {
    "duration": 8,
    "start_time": "2022-03-07T12:19:02.555Z"
   },
   {
    "duration": 10,
    "start_time": "2022-03-07T12:19:02.564Z"
   },
   {
    "duration": 17,
    "start_time": "2022-03-07T12:19:02.575Z"
   },
   {
    "duration": 47,
    "start_time": "2022-03-07T12:19:02.594Z"
   },
   {
    "duration": 15,
    "start_time": "2022-03-07T12:19:02.643Z"
   },
   {
    "duration": 8,
    "start_time": "2022-03-07T12:19:02.660Z"
   },
   {
    "duration": 14,
    "start_time": "2022-03-07T12:19:02.670Z"
   },
   {
    "duration": 7,
    "start_time": "2022-03-07T12:19:02.686Z"
   },
   {
    "duration": 45,
    "start_time": "2022-03-07T12:19:02.695Z"
   },
   {
    "duration": 7,
    "start_time": "2022-03-07T12:19:02.742Z"
   },
   {
    "duration": 16,
    "start_time": "2022-03-07T12:19:02.750Z"
   },
   {
    "duration": 37,
    "start_time": "2022-03-07T12:19:02.771Z"
   },
   {
    "duration": 8,
    "start_time": "2022-03-07T12:19:02.811Z"
   },
   {
    "duration": 22,
    "start_time": "2022-03-07T12:19:02.821Z"
   },
   {
    "duration": 5,
    "start_time": "2022-03-07T12:19:02.845Z"
   },
   {
    "duration": 6,
    "start_time": "2022-03-07T12:19:02.851Z"
   },
   {
    "duration": 8,
    "start_time": "2022-03-07T12:19:02.858Z"
   },
   {
    "duration": 6,
    "start_time": "2022-03-07T12:19:02.868Z"
   },
   {
    "duration": 7,
    "start_time": "2022-03-07T12:19:02.876Z"
   },
   {
    "duration": 493,
    "start_time": "2022-03-07T12:19:02.884Z"
   },
   {
    "duration": 8,
    "start_time": "2022-03-07T12:19:03.379Z"
   },
   {
    "duration": 26,
    "start_time": "2022-03-07T12:19:03.388Z"
   },
   {
    "duration": 16,
    "start_time": "2022-03-07T12:19:03.416Z"
   },
   {
    "duration": 2063,
    "start_time": "2022-03-07T12:19:03.434Z"
   },
   {
    "duration": 149,
    "start_time": "2022-03-07T12:19:05.499Z"
   },
   {
    "duration": 359,
    "start_time": "2022-03-07T12:19:05.649Z"
   },
   {
    "duration": 243,
    "start_time": "2022-03-07T12:19:06.010Z"
   },
   {
    "duration": 152,
    "start_time": "2022-03-07T12:19:06.254Z"
   },
   {
    "duration": 157,
    "start_time": "2022-03-07T12:19:06.407Z"
   },
   {
    "duration": 269,
    "start_time": "2022-03-07T12:19:06.566Z"
   },
   {
    "duration": 147,
    "start_time": "2022-03-07T12:19:06.838Z"
   },
   {
    "duration": 373,
    "start_time": "2022-03-07T12:19:06.987Z"
   },
   {
    "duration": 369,
    "start_time": "2022-03-07T12:19:07.362Z"
   },
   {
    "duration": 7,
    "start_time": "2022-03-07T12:19:07.733Z"
   },
   {
    "duration": 9,
    "start_time": "2022-03-07T12:19:07.742Z"
   },
   {
    "duration": 6,
    "start_time": "2022-03-07T12:19:07.753Z"
   },
   {
    "duration": 16,
    "start_time": "2022-03-07T12:19:07.760Z"
   },
   {
    "duration": 9,
    "start_time": "2022-03-07T12:19:07.778Z"
   },
   {
    "duration": 14,
    "start_time": "2022-03-07T12:19:07.788Z"
   },
   {
    "duration": 114,
    "start_time": "2022-03-07T12:19:07.804Z"
   },
   {
    "duration": 24,
    "start_time": "2022-03-07T12:19:07.920Z"
   },
   {
    "duration": 502,
    "start_time": "2022-03-07T12:19:07.945Z"
   },
   {
    "duration": 5,
    "start_time": "2022-03-07T12:19:08.449Z"
   },
   {
    "duration": 260,
    "start_time": "2022-03-07T12:19:08.455Z"
   },
   {
    "duration": 491,
    "start_time": "2022-03-07T12:19:08.716Z"
   },
   {
    "duration": 5,
    "start_time": "2022-03-07T12:19:09.208Z"
   },
   {
    "duration": 115,
    "start_time": "2022-03-07T12:19:09.215Z"
   },
   {
    "duration": 180,
    "start_time": "2022-03-07T12:19:09.331Z"
   },
   {
    "duration": 181,
    "start_time": "2022-03-07T12:19:09.513Z"
   },
   {
    "duration": 217,
    "start_time": "2022-03-07T12:19:09.695Z"
   },
   {
    "duration": 182,
    "start_time": "2022-03-07T12:19:09.913Z"
   },
   {
    "duration": 22,
    "start_time": "2022-03-07T12:19:10.097Z"
   },
   {
    "duration": 418,
    "start_time": "2022-03-07T12:19:10.120Z"
   },
   {
    "duration": 224,
    "start_time": "2022-03-07T12:19:10.540Z"
   },
   {
    "duration": 233,
    "start_time": "2022-03-07T12:19:10.765Z"
   },
   {
    "duration": 227,
    "start_time": "2022-03-07T12:19:11.001Z"
   },
   {
    "duration": 240,
    "start_time": "2022-03-07T12:19:11.230Z"
   },
   {
    "duration": 194,
    "start_time": "2022-03-07T12:19:11.472Z"
   },
   {
    "duration": 4336,
    "start_time": "2022-03-07T12:19:11.669Z"
   },
   {
    "duration": 5,
    "start_time": "2022-03-07T12:19:35.848Z"
   },
   {
    "duration": 619,
    "start_time": "2022-03-07T12:20:13.363Z"
   },
   {
    "duration": 5,
    "start_time": "2022-03-07T12:21:11.409Z"
   },
   {
    "duration": 5,
    "start_time": "2022-03-07T12:21:42.328Z"
   },
   {
    "duration": 6,
    "start_time": "2022-03-07T12:29:28.490Z"
   },
   {
    "duration": 5,
    "start_time": "2022-03-07T12:33:22.686Z"
   },
   {
    "duration": 1526,
    "start_time": "2022-03-07T12:35:28.159Z"
   },
   {
    "duration": 11,
    "start_time": "2022-03-07T12:35:29.687Z"
   },
   {
    "duration": 80,
    "start_time": "2022-03-07T12:35:29.701Z"
   },
   {
    "duration": 8,
    "start_time": "2022-03-07T12:35:29.783Z"
   },
   {
    "duration": 26,
    "start_time": "2022-03-07T12:35:29.792Z"
   },
   {
    "duration": 6,
    "start_time": "2022-03-07T12:35:29.819Z"
   },
   {
    "duration": 6,
    "start_time": "2022-03-07T12:35:29.826Z"
   },
   {
    "duration": 6,
    "start_time": "2022-03-07T12:35:29.834Z"
   },
   {
    "duration": 10,
    "start_time": "2022-03-07T12:35:29.842Z"
   },
   {
    "duration": 10,
    "start_time": "2022-03-07T12:35:29.854Z"
   },
   {
    "duration": 9,
    "start_time": "2022-03-07T12:35:29.866Z"
   },
   {
    "duration": 12,
    "start_time": "2022-03-07T12:35:29.876Z"
   },
   {
    "duration": 7,
    "start_time": "2022-03-07T12:35:29.889Z"
   },
   {
    "duration": 7,
    "start_time": "2022-03-07T12:35:29.897Z"
   },
   {
    "duration": 5,
    "start_time": "2022-03-07T12:35:29.905Z"
   },
   {
    "duration": 5,
    "start_time": "2022-03-07T12:35:29.938Z"
   },
   {
    "duration": 10,
    "start_time": "2022-03-07T12:35:29.945Z"
   },
   {
    "duration": 10,
    "start_time": "2022-03-07T12:35:29.956Z"
   },
   {
    "duration": 19,
    "start_time": "2022-03-07T12:35:29.968Z"
   },
   {
    "duration": 15,
    "start_time": "2022-03-07T12:35:29.989Z"
   },
   {
    "duration": 39,
    "start_time": "2022-03-07T12:35:30.006Z"
   },
   {
    "duration": 15,
    "start_time": "2022-03-07T12:35:30.047Z"
   },
   {
    "duration": 8,
    "start_time": "2022-03-07T12:35:30.066Z"
   },
   {
    "duration": 12,
    "start_time": "2022-03-07T12:35:30.077Z"
   },
   {
    "duration": 17,
    "start_time": "2022-03-07T12:35:30.091Z"
   },
   {
    "duration": 29,
    "start_time": "2022-03-07T12:35:30.111Z"
   },
   {
    "duration": 38,
    "start_time": "2022-03-07T12:35:30.141Z"
   },
   {
    "duration": 8,
    "start_time": "2022-03-07T12:35:30.181Z"
   },
   {
    "duration": 16,
    "start_time": "2022-03-07T12:35:30.190Z"
   },
   {
    "duration": 8,
    "start_time": "2022-03-07T12:35:30.208Z"
   },
   {
    "duration": 23,
    "start_time": "2022-03-07T12:35:30.218Z"
   },
   {
    "duration": 14,
    "start_time": "2022-03-07T12:35:30.243Z"
   },
   {
    "duration": 9,
    "start_time": "2022-03-07T12:35:30.259Z"
   },
   {
    "duration": 9,
    "start_time": "2022-03-07T12:35:30.270Z"
   },
   {
    "duration": 494,
    "start_time": "2022-03-07T12:35:30.280Z"
   },
   {
    "duration": 7,
    "start_time": "2022-03-07T12:35:30.776Z"
   },
   {
    "duration": 11,
    "start_time": "2022-03-07T12:35:30.784Z"
   },
   {
    "duration": 18,
    "start_time": "2022-03-07T12:35:30.796Z"
   },
   {
    "duration": 1994,
    "start_time": "2022-03-07T12:35:30.816Z"
   },
   {
    "duration": 144,
    "start_time": "2022-03-07T12:35:32.812Z"
   },
   {
    "duration": 474,
    "start_time": "2022-03-07T12:35:32.958Z"
   },
   {
    "duration": 258,
    "start_time": "2022-03-07T12:35:33.434Z"
   },
   {
    "duration": 158,
    "start_time": "2022-03-07T12:35:33.694Z"
   },
   {
    "duration": 159,
    "start_time": "2022-03-07T12:35:33.854Z"
   },
   {
    "duration": 282,
    "start_time": "2022-03-07T12:35:34.015Z"
   },
   {
    "duration": 147,
    "start_time": "2022-03-07T12:35:34.299Z"
   },
   {
    "duration": 367,
    "start_time": "2022-03-07T12:35:34.448Z"
   },
   {
    "duration": 168,
    "start_time": "2022-03-07T12:35:34.817Z"
   },
   {
    "duration": 5,
    "start_time": "2022-03-07T12:35:34.986Z"
   },
   {
    "duration": 14,
    "start_time": "2022-03-07T12:35:34.993Z"
   },
   {
    "duration": 7,
    "start_time": "2022-03-07T12:35:35.009Z"
   },
   {
    "duration": 20,
    "start_time": "2022-03-07T12:35:35.018Z"
   },
   {
    "duration": 10,
    "start_time": "2022-03-07T12:35:35.040Z"
   },
   {
    "duration": 13,
    "start_time": "2022-03-07T12:35:35.052Z"
   },
   {
    "duration": 113,
    "start_time": "2022-03-07T12:35:35.067Z"
   },
   {
    "duration": 17,
    "start_time": "2022-03-07T12:35:35.183Z"
   },
   {
    "duration": 510,
    "start_time": "2022-03-07T12:35:35.202Z"
   },
   {
    "duration": 4,
    "start_time": "2022-03-07T12:35:35.714Z"
   },
   {
    "duration": 315,
    "start_time": "2022-03-07T12:35:35.719Z"
   },
   {
    "duration": 486,
    "start_time": "2022-03-07T12:35:36.035Z"
   },
   {
    "duration": 5,
    "start_time": "2022-03-07T12:35:36.523Z"
   },
   {
    "duration": 2,
    "start_time": "2022-03-07T12:35:36.538Z"
   },
   {
    "duration": 5,
    "start_time": "2022-03-07T12:35:36.542Z"
   },
   {
    "duration": 114,
    "start_time": "2022-03-07T12:35:36.549Z"
   },
   {
    "duration": 179,
    "start_time": "2022-03-07T12:35:36.665Z"
   },
   {
    "duration": 177,
    "start_time": "2022-03-07T12:35:36.846Z"
   },
   {
    "duration": 207,
    "start_time": "2022-03-07T12:35:37.025Z"
   },
   {
    "duration": 5,
    "start_time": "2022-03-07T12:35:37.238Z"
   },
   {
    "duration": 181,
    "start_time": "2022-03-07T12:35:37.244Z"
   },
   {
    "duration": 11,
    "start_time": "2022-03-07T12:35:37.427Z"
   },
   {
    "duration": 24,
    "start_time": "2022-03-07T12:35:37.440Z"
   },
   {
    "duration": 395,
    "start_time": "2022-03-07T12:35:37.465Z"
   },
   {
    "duration": 226,
    "start_time": "2022-03-07T12:35:37.862Z"
   },
   {
    "duration": 235,
    "start_time": "2022-03-07T12:35:38.089Z"
   },
   {
    "duration": 224,
    "start_time": "2022-03-07T12:35:38.325Z"
   },
   {
    "duration": 224,
    "start_time": "2022-03-07T12:35:38.551Z"
   },
   {
    "duration": 198,
    "start_time": "2022-03-07T12:35:38.777Z"
   },
   {
    "duration": 4,
    "start_time": "2022-03-07T12:35:38.977Z"
   },
   {
    "duration": 165,
    "start_time": "2022-03-07T12:35:38.983Z"
   },
   {
    "duration": 197,
    "start_time": "2022-03-07T12:35:39.150Z"
   },
   {
    "duration": 5,
    "start_time": "2022-03-07T12:35:39.348Z"
   },
   {
    "duration": 195,
    "start_time": "2022-03-07T12:35:39.354Z"
   },
   {
    "duration": 4,
    "start_time": "2022-03-07T12:35:39.551Z"
   },
   {
    "duration": 780,
    "start_time": "2022-03-08T16:11:32.671Z"
   },
   {
    "duration": 13,
    "start_time": "2022-03-08T16:11:33.453Z"
   },
   {
    "duration": 107,
    "start_time": "2022-03-08T16:11:33.468Z"
   },
   {
    "duration": 11,
    "start_time": "2022-03-08T16:11:33.577Z"
   },
   {
    "duration": 4,
    "start_time": "2022-03-08T16:11:33.601Z"
   },
   {
    "duration": 10,
    "start_time": "2022-03-08T16:11:33.607Z"
   },
   {
    "duration": 7,
    "start_time": "2022-03-08T16:11:33.619Z"
   },
   {
    "duration": 6,
    "start_time": "2022-03-08T16:11:33.629Z"
   },
   {
    "duration": 9,
    "start_time": "2022-03-08T16:11:33.637Z"
   },
   {
    "duration": 7,
    "start_time": "2022-03-08T16:11:33.648Z"
   },
   {
    "duration": 9,
    "start_time": "2022-03-08T16:11:33.657Z"
   },
   {
    "duration": 36,
    "start_time": "2022-03-08T16:11:33.668Z"
   },
   {
    "duration": 7,
    "start_time": "2022-03-08T16:11:33.706Z"
   },
   {
    "duration": 10,
    "start_time": "2022-03-08T16:11:33.715Z"
   },
   {
    "duration": 5,
    "start_time": "2022-03-08T16:11:33.726Z"
   },
   {
    "duration": 23,
    "start_time": "2022-03-08T16:11:33.733Z"
   },
   {
    "duration": 14,
    "start_time": "2022-03-08T16:11:33.758Z"
   },
   {
    "duration": 13,
    "start_time": "2022-03-08T16:11:33.774Z"
   },
   {
    "duration": 40,
    "start_time": "2022-03-08T16:11:33.788Z"
   },
   {
    "duration": 16,
    "start_time": "2022-03-08T16:11:33.830Z"
   },
   {
    "duration": 9,
    "start_time": "2022-03-08T16:11:33.849Z"
   },
   {
    "duration": 24,
    "start_time": "2022-03-08T16:11:33.859Z"
   },
   {
    "duration": 23,
    "start_time": "2022-03-08T16:11:33.887Z"
   },
   {
    "duration": 10,
    "start_time": "2022-03-08T16:11:33.913Z"
   },
   {
    "duration": 13,
    "start_time": "2022-03-08T16:11:33.925Z"
   },
   {
    "duration": 6,
    "start_time": "2022-03-08T16:11:33.940Z"
   },
   {
    "duration": 62,
    "start_time": "2022-03-08T16:11:33.947Z"
   },
   {
    "duration": 9,
    "start_time": "2022-03-08T16:11:34.011Z"
   },
   {
    "duration": 11,
    "start_time": "2022-03-08T16:11:34.022Z"
   },
   {
    "duration": 4,
    "start_time": "2022-03-08T16:11:34.035Z"
   },
   {
    "duration": 8,
    "start_time": "2022-03-08T16:11:34.041Z"
   },
   {
    "duration": 14,
    "start_time": "2022-03-08T16:11:34.051Z"
   },
   {
    "duration": 34,
    "start_time": "2022-03-08T16:11:34.067Z"
   },
   {
    "duration": 6,
    "start_time": "2022-03-08T16:11:34.103Z"
   },
   {
    "duration": 526,
    "start_time": "2022-03-08T16:11:34.111Z"
   },
   {
    "duration": 8,
    "start_time": "2022-03-08T16:11:34.639Z"
   },
   {
    "duration": 14,
    "start_time": "2022-03-08T16:11:34.649Z"
   },
   {
    "duration": 7,
    "start_time": "2022-03-08T16:11:34.664Z"
   },
   {
    "duration": 1968,
    "start_time": "2022-03-08T16:11:34.673Z"
   },
   {
    "duration": 163,
    "start_time": "2022-03-08T16:11:36.643Z"
   },
   {
    "duration": 454,
    "start_time": "2022-03-08T16:11:36.808Z"
   },
   {
    "duration": 256,
    "start_time": "2022-03-08T16:11:37.264Z"
   },
   {
    "duration": 158,
    "start_time": "2022-03-08T16:11:37.522Z"
   },
   {
    "duration": 227,
    "start_time": "2022-03-08T16:11:37.682Z"
   },
   {
    "duration": 400,
    "start_time": "2022-03-08T16:11:37.911Z"
   },
   {
    "duration": 155,
    "start_time": "2022-03-08T16:11:38.313Z"
   },
   {
    "duration": 365,
    "start_time": "2022-03-08T16:11:38.470Z"
   },
   {
    "duration": 166,
    "start_time": "2022-03-08T16:11:38.837Z"
   },
   {
    "duration": 6,
    "start_time": "2022-03-08T16:11:39.005Z"
   },
   {
    "duration": 39,
    "start_time": "2022-03-08T16:11:39.013Z"
   },
   {
    "duration": 22,
    "start_time": "2022-03-08T16:11:39.054Z"
   },
   {
    "duration": 13,
    "start_time": "2022-03-08T16:11:39.078Z"
   },
   {
    "duration": 24,
    "start_time": "2022-03-08T16:11:39.093Z"
   },
   {
    "duration": 22,
    "start_time": "2022-03-08T16:11:39.119Z"
   },
   {
    "duration": 91,
    "start_time": "2022-03-08T16:11:39.143Z"
   },
   {
    "duration": 15,
    "start_time": "2022-03-08T16:11:39.236Z"
   },
   {
    "duration": 532,
    "start_time": "2022-03-08T16:11:39.253Z"
   },
   {
    "duration": 5,
    "start_time": "2022-03-08T16:11:39.787Z"
   },
   {
    "duration": 315,
    "start_time": "2022-03-08T16:11:39.801Z"
   },
   {
    "duration": 559,
    "start_time": "2022-03-08T16:11:40.118Z"
   },
   {
    "duration": 5,
    "start_time": "2022-03-08T16:11:40.679Z"
   },
   {
    "duration": 130,
    "start_time": "2022-03-08T16:11:40.686Z"
   },
   {
    "duration": 2,
    "start_time": "2022-03-08T16:11:40.818Z"
   },
   {
    "duration": 24,
    "start_time": "2022-03-08T16:11:40.822Z"
   },
   {
    "duration": 176,
    "start_time": "2022-03-08T16:11:40.848Z"
   },
   {
    "duration": 185,
    "start_time": "2022-03-08T16:11:41.026Z"
   },
   {
    "duration": 219,
    "start_time": "2022-03-08T16:11:41.213Z"
   },
   {
    "duration": 6,
    "start_time": "2022-03-08T16:11:41.437Z"
   },
   {
    "duration": 196,
    "start_time": "2022-03-08T16:11:41.445Z"
   },
   {
    "duration": 6,
    "start_time": "2022-03-08T16:11:41.643Z"
   },
   {
    "duration": 27,
    "start_time": "2022-03-08T16:11:41.651Z"
   },
   {
    "duration": 410,
    "start_time": "2022-03-08T16:11:41.700Z"
   },
   {
    "duration": 232,
    "start_time": "2022-03-08T16:11:42.112Z"
   },
   {
    "duration": 235,
    "start_time": "2022-03-08T16:11:42.346Z"
   },
   {
    "duration": 223,
    "start_time": "2022-03-08T16:11:42.583Z"
   },
   {
    "duration": 232,
    "start_time": "2022-03-08T16:11:42.809Z"
   },
   {
    "duration": 197,
    "start_time": "2022-03-08T16:11:43.043Z"
   },
   {
    "duration": 6,
    "start_time": "2022-03-08T16:11:43.243Z"
   },
   {
    "duration": 192,
    "start_time": "2022-03-08T16:11:43.251Z"
   },
   {
    "duration": 206,
    "start_time": "2022-03-08T16:11:43.445Z"
   },
   {
    "duration": 5,
    "start_time": "2022-03-08T16:11:43.653Z"
   },
   {
    "duration": 202,
    "start_time": "2022-03-08T16:11:43.660Z"
   },
   {
    "duration": 6,
    "start_time": "2022-03-08T16:11:43.864Z"
   }
  ],
  "kernelspec": {
   "display_name": "Python 3 (ipykernel)",
   "language": "python",
   "name": "python3"
  },
  "language_info": {
   "codemirror_mode": {
    "name": "ipython",
    "version": 3
   },
   "file_extension": ".py",
   "mimetype": "text/x-python",
   "name": "python",
   "nbconvert_exporter": "python",
   "pygments_lexer": "ipython3",
   "version": "3.9.7"
  },
  "toc": {
   "base_numbering": 1,
   "nav_menu": {},
   "number_sections": true,
   "sideBar": true,
   "skip_h1_title": true,
   "title_cell": "Содержание",
   "title_sidebar": "Contents",
   "toc_cell": true,
   "toc_position": {
    "height": "calc(100% - 180px)",
    "left": "10px",
    "top": "150px",
    "width": "164.988px"
   },
   "toc_section_display": true,
   "toc_window_display": false
  }
 },
 "nbformat": 4,
 "nbformat_minor": 4
}
