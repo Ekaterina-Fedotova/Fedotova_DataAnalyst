{
 "cells": [
  {
   "cell_type": "markdown",
   "metadata": {},
   "source": [
    "1. [Описание проекта](#description)\n",
    "2. [Открытие данных](#start)\n",
    "3. [Предобработка данных](#preprocessing)\n",
    "* [Обработка пропущенных значений](#null)\n",
    "* [Обработка дубликатов](#duplicates)\n",
    "4. [Анализ данных](#analysis)\n",
    "5. [Вывод](#conclusion)\n",
    "6. [Презентация](#presentation)"
   ]
  },
  {
   "cell_type": "markdown",
   "metadata": {},
   "source": [
    "# Рынок заведений общественного питания Москвы\n",
    "\n",
    "<a id=\"description\"></a>\n",
    "\n",
    "Необходимо подготовить исследование рынка общественного питания в Москве. Запилить призентацию для инвесторов, с целью получить средства на открытие небольшое кафе в Москве, в котором работать будут роботы-официант. Инвесторов интересует текущее положение дел на рынке — сможет ли кафе снискать популярность на долгое время.\n",
    "\n",
    "**Описание данных**\n",
    "\n",
    "Таблица rest_data:\n",
    "* id — идентификатор объекта;\n",
    "* object_name — название объекта общественного питания;\n",
    "* chain — сетевой ресторан;\n",
    "* object_type — тип объекта общественного питания;\n",
    "* address — адрес;\n",
    "* number — количество посадочных мест.\n",
    "\n",
    "**План работы**\n",
    "\n",
    "* Изучим полученые данные.\n",
    "* Заполним пропуски в данных. \n",
    "* Удалим дубликаты и данные, которые менее информативны и мешают для проведения расчетов. \n",
    "* Приведем данные к необxодимому виду для анализа.\n",
    "* Проанализуруем текущее положение дел на рынке общепита.\n",
    "* Выясним какие объекты общепита преобладают на рынке.\n",
    "* Подготовим презентацию с рекомендациями."
   ]
  },
  {
   "cell_type": "markdown",
   "metadata": {},
   "source": [
    "<a id=\"start\"></a>\n",
    "## Шаг №1. Загрузите данные и подготовьте их к анализу"
   ]
  },
  {
   "cell_type": "code",
   "execution_count": 2,
   "metadata": {},
   "outputs": [],
   "source": [
    "# импортируем библиотеки\n",
    "import pandas as pd\n",
    "import numpy as np\n",
    "from numpy import median\n",
    "from datetime import datetime, timedelta\n",
    "from matplotlib import pyplot as plt\n",
    "import seaborn as sns\n",
    "import datetime as dt"
   ]
  },
  {
   "cell_type": "code",
   "execution_count": 3,
   "metadata": {},
   "outputs": [
    {
     "data": {
      "text/html": [
       "<div>\n",
       "<style scoped>\n",
       "    .dataframe tbody tr th:only-of-type {\n",
       "        vertical-align: middle;\n",
       "    }\n",
       "\n",
       "    .dataframe tbody tr th {\n",
       "        vertical-align: top;\n",
       "    }\n",
       "\n",
       "    .dataframe thead th {\n",
       "        text-align: right;\n",
       "    }\n",
       "</style>\n",
       "<table border=\"1\" class=\"dataframe\">\n",
       "  <thead>\n",
       "    <tr style=\"text-align: right;\">\n",
       "      <th></th>\n",
       "      <th>id</th>\n",
       "      <th>object_name</th>\n",
       "      <th>chain</th>\n",
       "      <th>object_type</th>\n",
       "      <th>address</th>\n",
       "      <th>number</th>\n",
       "    </tr>\n",
       "  </thead>\n",
       "  <tbody>\n",
       "    <tr>\n",
       "      <th>0</th>\n",
       "      <td>151635</td>\n",
       "      <td>СМЕТАНА</td>\n",
       "      <td>нет</td>\n",
       "      <td>кафе</td>\n",
       "      <td>город Москва, улица Егора Абакумова, дом 9</td>\n",
       "      <td>48</td>\n",
       "    </tr>\n",
       "    <tr>\n",
       "      <th>1</th>\n",
       "      <td>77874</td>\n",
       "      <td>Родник</td>\n",
       "      <td>нет</td>\n",
       "      <td>кафе</td>\n",
       "      <td>город Москва, улица Талалихина, дом 2/1, корпус 1</td>\n",
       "      <td>35</td>\n",
       "    </tr>\n",
       "    <tr>\n",
       "      <th>2</th>\n",
       "      <td>24309</td>\n",
       "      <td>Кафе «Академия»</td>\n",
       "      <td>нет</td>\n",
       "      <td>кафе</td>\n",
       "      <td>город Москва, Абельмановская улица, дом 6</td>\n",
       "      <td>95</td>\n",
       "    </tr>\n",
       "    <tr>\n",
       "      <th>3</th>\n",
       "      <td>21894</td>\n",
       "      <td>ПИЦЦЕТОРИЯ</td>\n",
       "      <td>да</td>\n",
       "      <td>кафе</td>\n",
       "      <td>город Москва, Абрамцевская улица, дом 1</td>\n",
       "      <td>40</td>\n",
       "    </tr>\n",
       "    <tr>\n",
       "      <th>4</th>\n",
       "      <td>119365</td>\n",
       "      <td>Кафе «Вишневая метель»</td>\n",
       "      <td>нет</td>\n",
       "      <td>кафе</td>\n",
       "      <td>город Москва, Абрамцевская улица, дом 9, корпус 1</td>\n",
       "      <td>50</td>\n",
       "    </tr>\n",
       "  </tbody>\n",
       "</table>\n",
       "</div>"
      ],
      "text/plain": [
       "       id             object_name chain object_type  \\\n",
       "0  151635                 СМЕТАНА   нет        кафе   \n",
       "1   77874                  Родник   нет        кафе   \n",
       "2   24309         Кафе «Академия»   нет        кафе   \n",
       "3   21894              ПИЦЦЕТОРИЯ    да        кафе   \n",
       "4  119365  Кафе «Вишневая метель»   нет        кафе   \n",
       "\n",
       "                                             address  number  \n",
       "0         город Москва, улица Егора Абакумова, дом 9      48  \n",
       "1  город Москва, улица Талалихина, дом 2/1, корпус 1      35  \n",
       "2          город Москва, Абельмановская улица, дом 6      95  \n",
       "3            город Москва, Абрамцевская улица, дом 1      40  \n",
       "4  город Москва, Абрамцевская улица, дом 9, корпус 1      50  "
      ]
     },
     "execution_count": 3,
     "metadata": {},
     "output_type": "execute_result"
    }
   ],
   "source": [
    "# загружаем данные\n",
    "path = '/datasets/'\n",
    "rest_data = pd.read_csv(path + 'rest_data.csv')\n",
    "rest_data.head()"
   ]
  },
  {
   "cell_type": "code",
   "execution_count": 4,
   "metadata": {},
   "outputs": [
    {
     "name": "stdout",
     "output_type": "stream",
     "text": [
      "<class 'pandas.core.frame.DataFrame'>\n",
      "RangeIndex: 15366 entries, 0 to 15365\n",
      "Data columns (total 6 columns):\n",
      " #   Column       Non-Null Count  Dtype \n",
      "---  ------       --------------  ----- \n",
      " 0   id           15366 non-null  int64 \n",
      " 1   object_name  15366 non-null  object\n",
      " 2   chain        15366 non-null  object\n",
      " 3   object_type  15366 non-null  object\n",
      " 4   address      15366 non-null  object\n",
      " 5   number       15366 non-null  int64 \n",
      "dtypes: int64(2), object(4)\n",
      "memory usage: 720.4+ KB\n"
     ]
    }
   ],
   "source": [
    "# изучим информацию о датасете\n",
    "rest_data.info()"
   ]
  },
  {
   "cell_type": "markdown",
   "metadata": {},
   "source": [
    " <a id=\"preprocessing\"></a>\n",
    "### Предобработка данных"
   ]
  },
  {
   "cell_type": "markdown",
   "metadata": {},
   "source": [
    "<a id=\"null\"></a>\n",
    "#### Обработка пропущенных значений "
   ]
  },
  {
   "cell_type": "code",
   "execution_count": 5,
   "metadata": {},
   "outputs": [
    {
     "data": {
      "text/plain": [
       "id             0.0\n",
       "object_name    0.0\n",
       "chain          0.0\n",
       "object_type    0.0\n",
       "address        0.0\n",
       "number         0.0\n",
       "dtype: float64"
      ]
     },
     "execution_count": 5,
     "metadata": {},
     "output_type": "execute_result"
    }
   ],
   "source": [
    "# проверим на пропуски\n",
    "round((rest_data.isna().mean()*100),2)"
   ]
  },
  {
   "cell_type": "markdown",
   "metadata": {},
   "source": [
    "<a id=\"duplicates\"></a>\n",
    "#### Обработка дубликатов "
   ]
  },
  {
   "cell_type": "code",
   "execution_count": 6,
   "metadata": {},
   "outputs": [
    {
     "data": {
      "text/plain": [
       "0"
      ]
     },
     "execution_count": 6,
     "metadata": {},
     "output_type": "execute_result"
    }
   ],
   "source": [
    "# проверим на дубликаты\n",
    "rest_data.duplicated().sum()"
   ]
  },
  {
   "cell_type": "markdown",
   "metadata": {},
   "source": [
    "<div class=\"alert alert-warning\">\n",
    "<b>⚠️ Комментарий ревьюера:</b> \n",
    "\n",
    "Согласен, смотреть явные дубликаты стоит всегда, но в данном случае, можно порассуждать, у тебя есть айдишники - они скорее всего должны быть уникальными, поэтому дубликатов вряд ли найдется. В этом случае, стоит добавить еще одну проверку и посмотреть уже без столбца `id` найдутся явные дубликаты или нет.\n",
    "</div>"
   ]
  },
  {
   "cell_type": "code",
   "execution_count": 7,
   "metadata": {},
   "outputs": [
    {
     "data": {
      "text/plain": [
       "82"
      ]
     },
     "execution_count": 7,
     "metadata": {},
     "output_type": "execute_result"
    }
   ],
   "source": [
    "# попробую реализовать пробурку\n",
    "# дубликатов без столбца id\n",
    "\n",
    "rest_dupl = rest_data.drop('id', axis=1)\n",
    "rest_dupl.duplicated().sum()"
   ]
  },
  {
   "cell_type": "code",
   "execution_count": 8,
   "metadata": {},
   "outputs": [
    {
     "data": {
      "text/plain": [
       "10393"
      ]
     },
     "execution_count": 8,
     "metadata": {},
     "output_type": "execute_result"
    }
   ],
   "source": [
    "# количество уникальных названий ресторанов\n",
    "len(rest_data['object_name'].unique())"
   ]
  },
  {
   "cell_type": "code",
   "execution_count": 9,
   "metadata": {},
   "outputs": [
    {
     "data": {
      "text/plain": [
       "Столовая                          267\n",
       "Кафе                              236\n",
       "Шаурма                            234\n",
       "KFC                               155\n",
       "Шоколадница                       142\n",
       "                                 ... \n",
       "Донеркебаб                          1\n",
       "Ресторан «Кувшин»                   1\n",
       "СТОЛОВАЯ ПРИ ЗАО «КУЗЬМИНСКОЕ»      1\n",
       "Островок «Super Mango Shake»        1\n",
       "Local Band                          1\n",
       "Name: object_name, Length: 10393, dtype: int64"
      ]
     },
     "execution_count": 9,
     "metadata": {},
     "output_type": "execute_result"
    }
   ],
   "source": [
    "#список уникальных названий ресторанов и количество их упоминаний\n",
    "rest_data['object_name'].value_counts()"
   ]
  },
  {
   "cell_type": "code",
   "execution_count": 10,
   "metadata": {},
   "outputs": [
    {
     "data": {
      "text/plain": [
       "array(['кафе', 'столовая', 'закусочная',\n",
       "       'предприятие быстрого обслуживания', 'ресторан', 'кафетерий',\n",
       "       'буфет', 'бар', 'магазин (отдел кулинарии)'], dtype=object)"
      ]
     },
     "execution_count": 10,
     "metadata": {},
     "output_type": "execute_result"
    }
   ],
   "source": [
    "# список уникальных типов объектов общественного питания\n",
    "rest_data['object_type'].unique()"
   ]
  },
  {
   "cell_type": "code",
   "execution_count": 11,
   "metadata": {},
   "outputs": [],
   "source": [
    "#укоротим названия типов объектов питания\n",
    "rest_data['object_type'] = (\n",
    "    rest_data['object_type'].replace('предприятие быстрого обслуживания', 'фастфуд')\n",
    ")    \n",
    "rest_data['object_type'] = (\n",
    "    rest_data['object_type'].replace('магазин (отдел кулинарии)', 'кулинария')\n",
    ") "
   ]
  },
  {
   "cell_type": "markdown",
   "metadata": {},
   "source": [
    "**Итог** Данные загружены корректно, пропусков и дубликатов нет, типы данных соотвествуют."
   ]
  },
  {
   "cell_type": "markdown",
   "metadata": {},
   "source": [
    "<div class=\"alert alert-danger\">\n",
    "<b>❌ Комментарий ревьюера:</b> \n",
    "\n",
    "По предобработке следует поработать более подробно\n",
    "- у тебя есть названия заведений, порассуждай, требуется их предоработка - да/нет и почему?\n",
    "- проанализируй аномальность численных столбцов, вдруг в них что то запрятно\n",
    "    - макс/мин значения - адекватны или нет\n",
    "    - наличие отрицательных значений - допустимо или нет\n",
    "    - основной диапазон выборки численных столбцов - адекватен или нет\n",
    "</div>"
   ]
  },
  {
   "cell_type": "markdown",
   "metadata": {},
   "source": [
    "<div class=\"alert alert-info\"> <b>Комментарий студента:</b> Сразу спрошу, как вы это понимаете, что что-то может быть с данными, мы смотрим первые 5 строк датафрейма, чтобы понять, что с данными что-то не так, нужно пролистать всех датасет, но он может быть километровый, и все равно в тетрадке не выводиться весь датасет.</div>"
   ]
  },
  {
   "cell_type": "markdown",
   "metadata": {},
   "source": [
    "<div class=\"alert alert-success\">\n",
    "<b>✅ Комментарий ревьюера V2:</b> \n",
    "\n",
    "Для того, чтобы искать ошибки в данных на первых шагах анализа требуется знать основные методы. \n",
    "- head - просто взглянуть на данные\n",
    "- describe - посмотреть стат.характристики столбцов, при текстовых выведется одна информация при численных другая. Тут ты можешь взглянуть на макс/мин среднее.\n",
    "- duplicated - взглянуть на дубликаты, есть есть айдишники то исключить их и взглянуть без них\n",
    "- unique - взглянуть на уникальные значения\n",
    "    \n",
    "Далее можно расширять кол-во используемыех методов в зависимости от поставленной задачи. Например, у тебя в датасете достаточно много пунктов опирается на кол-во посадочных мест - числовой столбец, исходя из того что он числовой следует понять как распределена величина, характерно ли это, адекватно? У тебя есть много текстовых столбцов, логично посмотреть дубликаты, т.к. это может существенно сказаться на картинке анализа.\n",
    "</div>"
   ]
  },
  {
   "cell_type": "markdown",
   "metadata": {},
   "source": [
    "Столбец с названиями заведений, написан разной высотой букв. Я думала о том, что бы привести все к нижнему регистру. Можно поэкперементировать."
   ]
  },
  {
   "cell_type": "code",
   "execution_count": 12,
   "metadata": {},
   "outputs": [],
   "source": [
    "rest_data['object_name'] = rest_data['object_name'].str.lower()"
   ]
  },
  {
   "cell_type": "code",
   "execution_count": 13,
   "metadata": {},
   "outputs": [
    {
     "data": {
      "text/plain": [
       "85"
      ]
     },
     "execution_count": 13,
     "metadata": {},
     "output_type": "execute_result"
    }
   ],
   "source": [
    "# еще раз посмотрим на дубликаты\n",
    "rest_dupl = rest_data.drop('id', axis=1)\n",
    "rest_dupl.duplicated().sum()"
   ]
  },
  {
   "cell_type": "markdown",
   "metadata": {},
   "source": [
    "<div class=\"alert alert-info\"> <b>Комментарий студента:</b> Что с ними делать? Удалить. Как? Я подумала что можно получить список будевых значений с помощью фун. duplicated из датасета rest_dupl(здесь нет id), а потом с помощью этого списка удалить из rest_data(здесь датасет с id) строки, которым соотвествует True из списка с булевыми значениями. Но никак не соображу как это сделать.</div>"
   ]
  },
  {
   "cell_type": "markdown",
   "metadata": {},
   "source": [
    "<div class=\"alert alert-success\">\n",
    "<b>✅ Комментарий ревьюера V2:</b> \n",
    "\n",
    "Попробуй использовать метод `drop_duplicates`, как работает - можно почитать [тут](https://pandas.pydata.org/pandas-docs/stable/reference/api/pandas.DataFrame.drop_duplicates.html)\n",
    "</div>"
   ]
  },
  {
   "cell_type": "code",
   "execution_count": 14,
   "metadata": {},
   "outputs": [],
   "source": [
    "rest_data = rest_data.drop_duplicates(subset=[\n",
    "    'object_name', \n",
    "    'chain', \n",
    "    'object_type', \n",
    "    'address', \n",
    "    'number'])"
   ]
  },
  {
   "cell_type": "code",
   "execution_count": 15,
   "metadata": {},
   "outputs": [
    {
     "data": {
      "text/plain": [
       "count    15281.000000\n",
       "mean        59.788234\n",
       "std         74.843042\n",
       "min          0.000000\n",
       "25%         14.000000\n",
       "50%         40.000000\n",
       "75%         80.000000\n",
       "max       1700.000000\n",
       "Name: number, dtype: float64"
      ]
     },
     "execution_count": 15,
     "metadata": {},
     "output_type": "execute_result"
    }
   ],
   "source": [
    "# проанализируй аномальность численных столбцов\n",
    "rest_data['number'].describe()"
   ]
  },
  {
   "cell_type": "code",
   "execution_count": 16,
   "metadata": {},
   "outputs": [
    {
     "data": {
      "text/plain": [
       "array([  48,   35,   95,   40,   50,  240,   10,   90,  150,  120,    5,\n",
       "         24,  140,   32,  270,  320,    7,    2,  160,   20,   30,  110,\n",
       "          6,  192,   65,   45,    4,  125,  100,   49,   63,   70,   22,\n",
       "         56,   38,  220,   78,    3,   80,   46,   15,   96,   60,   47,\n",
       "        180,  250,  200,   25,   12,   14,   16,  420,   98,   75,   34,\n",
       "        216,   43,   54,  580,  159,    0,   28,   64,   67,   42,  124,\n",
       "         82,   36,  114,    8,   71,   18,  158,   55,  196,   44,   76,\n",
       "        144,   41,   26,   68,  143,  198,   79,    1,   86,  148,  190,\n",
       "        202,  131,   52,   92,  300,   85,  102,   88,   84,  246,   81,\n",
       "         94,   23,   37,   39,   99,   61,   11,  130,   74,  128,  106,\n",
       "         58,  260,   27,   19,   29,   13,    9,  168,  350,   93,   33,\n",
       "        105,  239,  104,   17,   62,  230,  132,   87,   89,  170,   83,\n",
       "         21,  108,  210,   51,   53,  115,   66,  280,  126,   97,  356,\n",
       "        156,  428,  380,  138,   72,  118,  139,  236,  450,  194,  330,\n",
       "        225,  500,  112,  109,  146,  306,  272,  290,  176,  175,  252,\n",
       "        122,  400,  542,  424, 1040,  660,  282,  145,  395,  188,  149,\n",
       "        157,  103,   69,  184,  185,  121,  187,  247,  217,  313,  155,\n",
       "        310,  328,  101,  226,  398,  430,  166,  301,  245,  238,  283,\n",
       "        133,  142,   73,   77,  650,   57,   59,  154,  222,  174, 1200,\n",
       "        204,  127,  360,  178,  680,  244,  134,  213,  214,  152,  206,\n",
       "        248,  324,  224,  165,   31,  277,  337,  259,  167,  266,  481,\n",
       "        273,  136,  229,  242,  533,  218,  173,  228,  760,  585,  195,\n",
       "        284,  305,  215,  162,  135,  116,   91,  644,  600,  177,  338,\n",
       "        181,  302,  237,  288,  362,  141,  111,  153,  123,  495,  186,\n",
       "        275,  232,  480,  164,  255,  147,  189,  286,  625,  207,  520,\n",
       "        675,  292,  340,  205,  278,  151,  343, 1500, 1400,  308,  161,\n",
       "        483,  107,  243,  371,  276,  257,  271,  456, 1288,  172,  478,\n",
       "        113,  199,  920,  287,  326,  208,  472,  234,  455,  307, 1700,\n",
       "        490,  491,  700,  295,  268,  212,  119])"
      ]
     },
     "execution_count": 16,
     "metadata": {},
     "output_type": "execute_result"
    }
   ],
   "source": [
    "rest_data['number'].unique()"
   ]
  },
  {
   "cell_type": "markdown",
   "metadata": {},
   "source": [
    "<div class=\"alert alert-info\"> <b>Комментарий студента:</b> основной диапазон выборки численных столбцов - не поняла, это о чем?</div>"
   ]
  },
  {
   "cell_type": "markdown",
   "metadata": {},
   "source": [
    "<div class=\"alert alert-success\">\n",
    "<b>✅ Комментарий ревьюера V2:</b> \n",
    "\n",
    "Это начит посмотреть метод `describe` и увидеть какие значения стоят на против `25%`, `75%` перцентлей. Диапазон между `25%`, `75%` считается основным диапазоном выборки при нормальном распределении. Про то, какие характеристики содержит в себе метод `describe` можешь почитать [тут](https://pandas.pydata.org/pandas-docs/stable/reference/api/pandas.DataFrame.describe.html)\n",
    "</div>"
   ]
  },
  {
   "cell_type": "markdown",
   "metadata": {},
   "source": [
    "<div class=\"alert alert-info\"> <b>Комментарий студента:</b> Мин. значение 0 - это странно, посадочных мест 0, либо данные потеряны, либо в этом месте все едят стоя. Отрицательных значений нет, это хорошо, это была бы явная ошибка в данных. Мах. значение 1700 посадочных мест, не знаю, наверно много, но Москва город большой, может это банкетный зал для крупных мероприятий, или огромная столовка, и тогда это допустимо. </div>"
   ]
  },
  {
   "cell_type": "markdown",
   "metadata": {},
   "source": [
    "<div class=\"alert alert-success\">\n",
    "<b>✅ Комментарий ревьюера V2:</b> \n",
    "\n",
    "С точки зрения аналитики стоит более подробно и чательно исследовать подобные значения. Например, 0 кол-во допустимо или нет? Вполне много заведениях где торгуют на вынос, значит это допустимо, у них нет посадочных мест. 1700 мест допустимо? стоит посмотреть этот адрес в интернете и посмотреть реально есть такое заведение или нет, если есть можем уверенно сказать да, иначе не может точно ответить.\n",
    "</div>"
   ]
  },
  {
   "cell_type": "markdown",
   "metadata": {},
   "source": [
    "<a id=\"analysis\"></a>\n",
    "## Шаг №2. Анализ данных"
   ]
  },
  {
   "cell_type": "markdown",
   "metadata": {},
   "source": [
    "### Исследуйте соотношение видов объектов общественного питания по количеству. Постройте график."
   ]
  },
  {
   "cell_type": "code",
   "execution_count": 17,
   "metadata": {},
   "outputs": [
    {
     "data": {
      "image/png": "[encoded data removed]",
      "text/plain": [
       "<Figure size 432x288 with 1 Axes>"
      ]
     },
     "metadata": {
      "needs_background": "light"
     },
     "output_type": "display_data"
    }
   ],
   "source": [
    "# график количества объектов общепита \n",
    "rest_data.pivot_table(\n",
    "    index='object_type', \n",
    "    values='id', \n",
    "    aggfunc='count'\n",
    ").sort_values(by='id', ascending=False).plot(kind='bar')\n",
    "plt.title('Количество видов объектов общественного питания')\n",
    "plt.xlabel('Вид объекта питания')\n",
    "plt.ylabel('Количество')\n",
    "plt.show()"
   ]
  },
  {
   "cell_type": "code",
   "execution_count": 18,
   "metadata": {},
   "outputs": [
    {
     "data": {
      "image/png": "[encoded data removed]",
      "text/plain": [
       "<Figure size 360x360 with 1 Axes>"
      ]
     },
     "metadata": {},
     "output_type": "display_data"
    }
   ],
   "source": [
    "# график занимаемой доли рынка каждым объектом общепита\n",
    "rest_type = rest_data.pivot_table(\n",
    "    index='object_type', \n",
    "    values='id', \n",
    "    aggfunc='count'\n",
    ").sort_values(by='id', ascending=False)\n",
    "rest_type['percent'] = rest_type['id'] / rest_type['id'].sum() * 100\n",
    "rest_type.plot(y='percent',kind='pie', figsize=(5, 5), autopct='%1.1f%%', legend=False)\n",
    "plt.ylabel('')\n",
    "#plt.legend(loc=(1.3, 0.5))\n",
    "plt.title('Соотношение видов объектов общественного питания')\n",
    "plt.show()"
   ]
  },
  {
   "cell_type": "markdown",
   "metadata": {},
   "source": [
    "**Вывод** По графику видно, что значительную долю рынка занимают кафе"
   ]
  },
  {
   "cell_type": "markdown",
   "metadata": {},
   "source": [
    "<div class=\"alert alert-success\">\n",
    "<b>✅ Комментарий ревьюера:</b> \n",
    "\n",
    "Визуализация отличная, тип графика подобран корректно. Все подписи, заголовки присутствуют. Вывод корректный.\n",
    "</div>"
   ]
  },
  {
   "cell_type": "markdown",
   "metadata": {},
   "source": [
    "### Исследуйте соотношение сетевых и несетевых заведений по количеству. Постройте график."
   ]
  },
  {
   "cell_type": "code",
   "execution_count": 19,
   "metadata": {},
   "outputs": [
    {
     "data": {
      "image/png": "[encoded data removed]",
      "text/plain": [
       "<Figure size 360x360 with 1 Axes>"
      ]
     },
     "metadata": {
      "needs_background": "light"
     },
     "output_type": "display_data"
    }
   ],
   "source": [
    "# \n",
    "sns.catplot(x='chain', kind='count', data=rest_data)\n",
    "plt.title('Соотношение сетевых и несетых заведений')\n",
    "plt.xlabel('Наличие сети')\n",
    "plt.ylabel('Количество')\n",
    "plt.show()"
   ]
  },
  {
   "cell_type": "markdown",
   "metadata": {},
   "source": [
    "**Вывод**\n",
    "Несетевые заведения преобладают в городе."
   ]
  },
  {
   "cell_type": "markdown",
   "metadata": {},
   "source": [
    "<div class=\"alert alert-success\">\n",
    "<b>✅ Комментарий ревьюера:</b> \n",
    "\n",
    "В данном пункте так же все хорошо, тип графика подобран корректно. Так же тут подойдет пайплот, как вариант. С выводом согласен.\n",
    "</div>"
   ]
  },
  {
   "cell_type": "markdown",
   "metadata": {},
   "source": [
    "### Для какого вида объекта общественного питания характерно сетевое распространение?"
   ]
  },
  {
   "cell_type": "code",
   "execution_count": 20,
   "metadata": {},
   "outputs": [
    {
     "data": {
      "text/plain": [
       "<Figure size 576x1440 with 0 Axes>"
      ]
     },
     "metadata": {},
     "output_type": "display_data"
    },
    {
     "data": {
      "image/png": "[encoded data removed]",
      "text/plain": [
       "<Figure size 414.5x360 with 1 Axes>"
      ]
     },
     "metadata": {
      "needs_background": "light"
     },
     "output_type": "display_data"
    }
   ],
   "source": [
    "plt.figure(figsize=(8,20))\n",
    "sns.catplot(x=\"object_type\", y=\"id\", hue=\"chain\", kind=\"bar\", data=rest_data)\n",
    "plt.title('Соотношение сетевых и несетых заведений')\n",
    "plt.xlabel('Вид общественого питания')\n",
    "plt.ylabel('Количество')\n",
    "plt.xticks(rotation = 45)\n",
    "plt.show()"
   ]
  },
  {
   "cell_type": "markdown",
   "metadata": {},
   "source": [
    "**Вывод** Для столовых, кафетериев, буфетов характерно сетевое распространение."
   ]
  },
  {
   "cell_type": "markdown",
   "metadata": {},
   "source": [
    "<div class=\"alert alert-danger\">\n",
    "<b>❌ Комментарий ревьюера:</b> \n",
    "\n",
    "Попробуй для ответа на вопрос о том для каких заведений характерно сетевое распространение рассчитать именно долю заведений, относящихся к сетевым. Представь, в городе 15 баров, 14 из которых сетевые, и 200 кафе, 50 из которых - сетевые. Тогда, именно для баров будет характерно сетевое распределение, а не для кафе. Хотя формально сетевых кафе у нас больше, чем сетевых баров.\n",
    "</div>"
   ]
  },
  {
   "cell_type": "code",
   "execution_count": 21,
   "metadata": {},
   "outputs": [],
   "source": [
    "rest_chain = rest_data.pivot_table(\n",
    "    index='object_type', \n",
    "    columns='chain', \n",
    "    values='id', \n",
    "    aggfunc='count').reset_index()\n",
    "rest_chain['total'] = rest_chain['да'] + rest_chain['нет']\n",
    "rest_chain['percent'] = rest_chain['да'] / rest_chain['total'] * 100\n"
   ]
  },
  {
   "cell_type": "code",
   "execution_count": 22,
   "metadata": {},
   "outputs": [
    {
     "data": {
      "text/plain": [
       "<Figure size 576x1440 with 0 Axes>"
      ]
     },
     "metadata": {},
     "output_type": "display_data"
    },
    {
     "data": {
      "image/png": "[encoded data removed]",
      "text/plain": [
       "<Figure size 360x360 with 1 Axes>"
      ]
     },
     "metadata": {
      "needs_background": "light"
     },
     "output_type": "display_data"
    }
   ],
   "source": [
    "plt.figure(figsize=(8,20))\n",
    "sns.catplot(x=\"object_type\", y=\"percent\", kind=\"bar\", data=rest_chain)\n",
    "plt.title('Доля сетевых заведений среди объектов общественного питания')\n",
    "plt.xlabel('Вид общественого питания')\n",
    "plt.ylabel('Доля сетевых заведений')\n",
    "plt.xticks(rotation = 45)\n",
    "plt.show()"
   ]
  },
  {
   "cell_type": "markdown",
   "metadata": {},
   "source": [
    "<div class=\"alert alert-info\"> <b>Комментарий студента:</b> На первом месте заведения быстрого питания, для больше всего характерно сетевое распространение, следом идет кулинария, рестораны и кафе. </div>"
   ]
  },
  {
   "cell_type": "markdown",
   "metadata": {},
   "source": [
    "<div class=\"alert alert-success\">\n",
    "<b>✅ Комментарий ревьюера V2:</b> \n",
    "\n",
    "Верно\n",
    "</div>"
   ]
  },
  {
   "cell_type": "markdown",
   "metadata": {},
   "source": [
    "### Что характерно для сетевых заведений: много заведений с небольшим числом посадочных мест в каждом или мало заведений с большим количеством посадочных мест?"
   ]
  },
  {
   "cell_type": "code",
   "execution_count": 23,
   "metadata": {},
   "outputs": [],
   "source": [
    "# оставим только сетевые заведения\n",
    "rest_chain = rest_data[rest_data['chain'] == 'да']"
   ]
  },
  {
   "cell_type": "code",
   "execution_count": 24,
   "metadata": {},
   "outputs": [
    {
     "data": {
      "image/png": "[encoded data removed]",
      "text/plain": [
       "<Figure size 432x288 with 1 Axes>"
      ]
     },
     "metadata": {
      "needs_background": "light"
     },
     "output_type": "display_data"
    }
   ],
   "source": [
    "# \n",
    "rest_chain.pivot_table(\n",
    "    index='number', \n",
    "    columns='chain', \n",
    "    values='id', \n",
    "    aggfunc='count').plot(kind='hist', bins=50)\n",
    "plt.title('Распределение посадочных мест и количество заведений')\n",
    "plt.xlabel('Количество посадочных мест')\n",
    "plt.ylabel('Количество заведений')\n",
    "plt.show()"
   ]
  },
  {
   "cell_type": "code",
   "execution_count": 25,
   "metadata": {
    "scrolled": true
   },
   "outputs": [
    {
     "name": "stderr",
     "output_type": "stream",
     "text": [
      "/opt/conda/lib/python3.9/site-packages/seaborn/distributions.py:2557: FutureWarning: `distplot` is a deprecated function and will be removed in a future version. Please adapt your code to use either `displot` (a figure-level function with similar flexibility) or `histplot` (an axes-level function for histograms).\n",
      "  warnings.warn(msg, FutureWarning)\n"
     ]
    },
    {
     "data": {
      "image/png": "[encoded data removed]",
      "text/plain": [
       "<Figure size 432x288 with 1 Axes>"
      ]
     },
     "metadata": {
      "needs_background": "light"
     },
     "output_type": "display_data"
    }
   ],
   "source": [
    "# \n",
    "ax = sns.distplot(rest_chain['number']) \n",
    "ax.axes.set_title('Распреденение количества посадочных мест')\n",
    "ax.set_xlabel('Количество мест')\n",
    "ax.set_ylabel('Количество заведений')\n",
    "#ax.xticks(rotation = 45)\n",
    "plt.show()"
   ]
  },
  {
   "cell_type": "markdown",
   "metadata": {},
   "source": [
    "**Вывод** для сетевых заведений характерно много заведений с небольшим числом посадочных мест в каждом."
   ]
  },
  {
   "cell_type": "markdown",
   "metadata": {},
   "source": [
    "<div class=\"alert alert-success\">\n",
    "<b>✅ Комментарий ревьюера:</b> \n",
    "\n",
    "Супер, визуализация наглядная и понятная. Вывод корректный. Молодец, что испоьлзуешь гистограммы для оценки выборки.\n",
    "</div>"
   ]
  },
  {
   "cell_type": "markdown",
   "metadata": {},
   "source": [
    "### Для каждого вида объекта общественного питания опишите среднее количество посадочных мест. Какой вид предоставляет в среднем самое большое количество посадочных мест? Постройте графики."
   ]
  },
  {
   "cell_type": "code",
   "execution_count": 26,
   "metadata": {},
   "outputs": [
    {
     "data": {
      "text/plain": [
       "Text(0, 0.5, 'Количество мест')"
      ]
     },
     "execution_count": 26,
     "metadata": {},
     "output_type": "execute_result"
    },
    {
     "data": {
      "image/png": "[encoded data removed]",
      "text/plain": [
       "<Figure size 360x360 with 1 Axes>"
      ]
     },
     "metadata": {
      "needs_background": "light"
     },
     "output_type": "display_data"
    }
   ],
   "source": [
    "plt.figure(figsize=(5, 5))\n",
    "\n",
    "\n",
    "ax = sns.barplot(x='object_type', y='number', data=rest_data)\n",
    "ax.axes.set_title('Распреденение количества посадочных мест')\n",
    "ax.set_xlabel('Виды объектов общественного питания')\n",
    "ax.set_ylabel('Количество мест')\n",
    "#ax.xticks(rotation = 45)"
   ]
  },
  {
   "cell_type": "code",
   "execution_count": 27,
   "metadata": {},
   "outputs": [
    {
     "data": {
      "image/png": "[encoded data removed]",
      "text/plain": [
       "<Figure size 864x576 with 1 Axes>"
      ]
     },
     "metadata": {
      "needs_background": "light"
     },
     "output_type": "display_data"
    }
   ],
   "source": [
    "plt.figure(figsize=(12, 8))\n",
    "\n",
    "rest_data_number = rest_data[rest_data['number'] < 300]\n",
    "sns.boxplot(x='object_type', y='number', data=rest_data_number) \n",
    "plt.title('Среднее количество посадочных мест')\n",
    "plt.xlabel('Вид общественного питания')\n",
    "plt.ylabel('Количество посадочных мест')\n",
    "plt.show()"
   ]
  },
  {
   "cell_type": "markdown",
   "metadata": {},
   "source": [
    "**Вывод** Самое большое количество посадочных мест предоставляют столовые."
   ]
  },
  {
   "cell_type": "markdown",
   "metadata": {},
   "source": [
    "<div class=\"alert alert-success\">\n",
    "<b>✅ Комментарий ревьюера:</b> \n",
    "\n",
    "Хороший график, барплот как тип графика тут отлично подходит. \n",
    "</div>"
   ]
  },
  {
   "cell_type": "markdown",
   "metadata": {},
   "source": [
    "### Выделите в отдельный столбец информацию об улице из столбца address"
   ]
  },
  {
   "cell_type": "code",
   "execution_count": 26,
   "metadata": {},
   "outputs": [],
   "source": [
    "# новый столбец с названием улицы\n",
    "rest_data['street'] = rest_data['address'].str.split(', ', expand=True)[1]\n"
   ]
  },
  {
   "cell_type": "markdown",
   "metadata": {},
   "source": [
    "<div class=\"alert alert-warning\">\n",
    "<b>⚠️ Комментарий ревьюера:</b> \n",
    "\n",
    "Метод допустим, но если смотреть с точки зрения качества - у нас улица не всегда располагаются на второй поизиции в строке, метод достаточно грубоват. Рекомендую использовать слова маркеры: улица, бульвар и т.д. который помогут определить позицию, в которой находится улица в строке.\n",
    "</div>"
   ]
  },
  {
   "cell_type": "markdown",
   "metadata": {},
   "source": [
    "<div class=\"alert alert-info\"> <b>Комментарий студента:</b> для этого надо писать функцию, которая будет искать эти слова и заполнять новый столбец с этими значениями.</div>"
   ]
  },
  {
   "cell_type": "markdown",
   "metadata": {},
   "source": [
    "<div class=\"alert alert-success\">\n",
    "<b>✅ Комментарий ревьюера V2:</b> \n",
    "\n",
    "Да, верно, этот подход будет более качественным\n",
    "</div>"
   ]
  },
  {
   "cell_type": "markdown",
   "metadata": {},
   "source": [
    "### Постройте график топ-10 улиц по количеству объектов общественного питания. Воспользуйтесь внешней информацией и ответьте на вопрос — в каких районах Москвы находятся эти улицы?"
   ]
  },
  {
   "cell_type": "code",
   "execution_count": 27,
   "metadata": {},
   "outputs": [
    {
     "data": {
      "text/html": [
       "<div>\n",
       "<style scoped>\n",
       "    .dataframe tbody tr th:only-of-type {\n",
       "        vertical-align: middle;\n",
       "    }\n",
       "\n",
       "    .dataframe tbody tr th {\n",
       "        vertical-align: top;\n",
       "    }\n",
       "\n",
       "    .dataframe thead th {\n",
       "        text-align: right;\n",
       "    }\n",
       "</style>\n",
       "<table border=\"1\" class=\"dataframe\">\n",
       "  <thead>\n",
       "    <tr style=\"text-align: right;\">\n",
       "      <th></th>\n",
       "      <th>ID</th>\n",
       "      <th>Name</th>\n",
       "      <th>global_id</th>\n",
       "      <th>IsNetObject</th>\n",
       "      <th>OperatingCompany</th>\n",
       "      <th>TypeObject</th>\n",
       "      <th>AdmArea</th>\n",
       "      <th>District</th>\n",
       "      <th>Address</th>\n",
       "      <th>PublicPhone</th>\n",
       "      <th>...</th>\n",
       "      <th>AdmArea_en</th>\n",
       "      <th>District_en</th>\n",
       "      <th>Address_en</th>\n",
       "      <th>PublicPhone_en</th>\n",
       "      <th>SeatsCount_en</th>\n",
       "      <th>SocialPrivileges_en</th>\n",
       "      <th>Longitude_WGS84_en</th>\n",
       "      <th>Latitude_WGS84_en</th>\n",
       "      <th>geodata_center</th>\n",
       "      <th>geoarea</th>\n",
       "    </tr>\n",
       "  </thead>\n",
       "  <tbody>\n",
       "    <tr>\n",
       "      <th>0</th>\n",
       "      <td>Код</td>\n",
       "      <td>Наименование</td>\n",
       "      <td>global_id</td>\n",
       "      <td>Является сетевым</td>\n",
       "      <td>Название управляющей компании</td>\n",
       "      <td>Вид объекта</td>\n",
       "      <td>Административный округ по адресу</td>\n",
       "      <td>Район</td>\n",
       "      <td>Адрес</td>\n",
       "      <td>Контактный телефон</td>\n",
       "      <td>...</td>\n",
       "      <td>AdmArea_en</td>\n",
       "      <td>District_en</td>\n",
       "      <td>Address_en</td>\n",
       "      <td>PublicPhone_en</td>\n",
       "      <td>SeatsCount_en</td>\n",
       "      <td>SocialPrivileges_en</td>\n",
       "      <td>Longitude_WGS84_en</td>\n",
       "      <td>Latitude_WGS84_en</td>\n",
       "      <td>geodata_center</td>\n",
       "      <td>geoarea</td>\n",
       "    </tr>\n",
       "    <tr>\n",
       "      <th>1</th>\n",
       "      <td>00151635</td>\n",
       "      <td>СМЕТАНА</td>\n",
       "      <td>637376221</td>\n",
       "      <td>нет</td>\n",
       "      <td>NaN</td>\n",
       "      <td>кафе</td>\n",
       "      <td>Северо-Восточный административный округ</td>\n",
       "      <td>Ярославский район</td>\n",
       "      <td>город Москва, улица Егора Абакумова, дом 9</td>\n",
       "      <td>PublicPhone:(499) 183-14-10\\n\\n</td>\n",
       "      <td>...</td>\n",
       "      <td>NaN</td>\n",
       "      <td>NaN</td>\n",
       "      <td>NaN</td>\n",
       "      <td>NaN</td>\n",
       "      <td>NaN</td>\n",
       "      <td>NaN</td>\n",
       "      <td>NaN</td>\n",
       "      <td>NaN</td>\n",
       "      <td>{\"coordinates\":[37.714565000436,55.87900153130...</td>\n",
       "      <td>NaN</td>\n",
       "    </tr>\n",
       "    <tr>\n",
       "      <th>2</th>\n",
       "      <td>000077874</td>\n",
       "      <td>Родник</td>\n",
       "      <td>637376331</td>\n",
       "      <td>нет</td>\n",
       "      <td>NaN</td>\n",
       "      <td>кафе</td>\n",
       "      <td>Центральный административный округ</td>\n",
       "      <td>Таганский район</td>\n",
       "      <td>город Москва, улица Талалихина, дом 2/1, корпус 1</td>\n",
       "      <td>PublicPhone:(495) 676-55-35\\n\\n</td>\n",
       "      <td>...</td>\n",
       "      <td>NaN</td>\n",
       "      <td>NaN</td>\n",
       "      <td>NaN</td>\n",
       "      <td>NaN</td>\n",
       "      <td>NaN</td>\n",
       "      <td>NaN</td>\n",
       "      <td>NaN</td>\n",
       "      <td>NaN</td>\n",
       "      <td>{\"coordinates\":[37.6733061300344,55.7382386551...</td>\n",
       "      <td>NaN</td>\n",
       "    </tr>\n",
       "  </tbody>\n",
       "</table>\n",
       "<p>3 rows × 29 columns</p>\n",
       "</div>"
      ],
      "text/plain": [
       "          ID          Name  global_id       IsNetObject  \\\n",
       "0        Код  Наименование  global_id  Является сетевым   \n",
       "1   00151635       СМЕТАНА  637376221               нет   \n",
       "2  000077874        Родник  637376331               нет   \n",
       "\n",
       "                OperatingCompany   TypeObject  \\\n",
       "0  Название управляющей компании  Вид объекта   \n",
       "1                            NaN         кафе   \n",
       "2                            NaN         кафе   \n",
       "\n",
       "                                   AdmArea           District  \\\n",
       "0         Административный округ по адресу              Район   \n",
       "1  Северо-Восточный административный округ  Ярославский район   \n",
       "2       Центральный административный округ    Таганский район   \n",
       "\n",
       "                                             Address  \\\n",
       "0                                              Адрес   \n",
       "1         город Москва, улица Егора Абакумова, дом 9   \n",
       "2  город Москва, улица Талалихина, дом 2/1, корпус 1   \n",
       "\n",
       "                       PublicPhone  ...  AdmArea_en  District_en  Address_en  \\\n",
       "0               Контактный телефон  ...  AdmArea_en  District_en  Address_en   \n",
       "1  PublicPhone:(499) 183-14-10\\n\\n  ...         NaN          NaN         NaN   \n",
       "2  PublicPhone:(495) 676-55-35\\n\\n  ...         NaN          NaN         NaN   \n",
       "\n",
       "   PublicPhone_en  SeatsCount_en  SocialPrivileges_en  Longitude_WGS84_en  \\\n",
       "0  PublicPhone_en  SeatsCount_en  SocialPrivileges_en  Longitude_WGS84_en   \n",
       "1             NaN            NaN                  NaN                 NaN   \n",
       "2             NaN            NaN                  NaN                 NaN   \n",
       "\n",
       "   Latitude_WGS84_en                                     geodata_center  \\\n",
       "0  Latitude_WGS84_en                                     geodata_center   \n",
       "1                NaN  {\"coordinates\":[37.714565000436,55.87900153130...   \n",
       "2                NaN  {\"coordinates\":[37.6733061300344,55.7382386551...   \n",
       "\n",
       "   geoarea  \n",
       "0  geoarea  \n",
       "1      NaN  \n",
       "2      NaN  \n",
       "\n",
       "[3 rows x 29 columns]"
      ]
     },
     "execution_count": 27,
     "metadata": {},
     "output_type": "execute_result"
    }
   ],
   "source": [
    "# импортирование файла с внешней ниформацией\n",
    "from io import BytesIO\n",
    "import requests\n",
    "spreadsheet_id = '1ZCSvPmSnYmH7YZIduf2nDnn468MNXZBZgK1iuKGoGHM'\n",
    "file_name = 'https://docs.google.com/spreadsheets/d/{}/export?format=csv'.format(spreadsheet_id)\n",
    "r = requests.get(file_name)\n",
    "df = pd.read_csv(BytesIO(r.content))\n",
    "df.head(3)"
   ]
  },
  {
   "cell_type": "markdown",
   "metadata": {},
   "source": [
    "<div class=\"alert alert-success\">\n",
    "<b>✅ Комментарий ревьюера:</b> \n",
    "\n",
    "Супер, внешний источник подгружен успешно\n",
    "</div>"
   ]
  },
  {
   "cell_type": "code",
   "execution_count": 28,
   "metadata": {},
   "outputs": [],
   "source": [
    "#выделим из адреса только улицу\n",
    "df['street'] = df['Address'].str.split(', ', expand=True)[1]"
   ]
  },
  {
   "cell_type": "code",
   "execution_count": 29,
   "metadata": {},
   "outputs": [],
   "source": [
    "# создадим новый датасет с двумя столбцами улица и округ\n",
    "district = df[['street', 'District']]\n",
    "district = district.rename(columns={'District': 'district'})"
   ]
  },
  {
   "cell_type": "code",
   "execution_count": 30,
   "metadata": {},
   "outputs": [
    {
     "data": {
      "text/html": [
       "<div>\n",
       "<style scoped>\n",
       "    .dataframe tbody tr th:only-of-type {\n",
       "        vertical-align: middle;\n",
       "    }\n",
       "\n",
       "    .dataframe tbody tr th {\n",
       "        vertical-align: top;\n",
       "    }\n",
       "\n",
       "    .dataframe thead th {\n",
       "        text-align: right;\n",
       "    }\n",
       "</style>\n",
       "<table border=\"1\" class=\"dataframe\">\n",
       "  <thead>\n",
       "    <tr style=\"text-align: right;\">\n",
       "      <th></th>\n",
       "      <th>id</th>\n",
       "      <th>object_name</th>\n",
       "      <th>chain</th>\n",
       "      <th>object_type</th>\n",
       "      <th>address</th>\n",
       "      <th>number</th>\n",
       "      <th>street</th>\n",
       "      <th>district</th>\n",
       "    </tr>\n",
       "  </thead>\n",
       "  <tbody>\n",
       "    <tr>\n",
       "      <th>0</th>\n",
       "      <td>151635</td>\n",
       "      <td>сметана</td>\n",
       "      <td>нет</td>\n",
       "      <td>кафе</td>\n",
       "      <td>город Москва, улица Егора Абакумова, дом 9</td>\n",
       "      <td>48</td>\n",
       "      <td>улица Егора Абакумова</td>\n",
       "      <td>Ярославский район</td>\n",
       "    </tr>\n",
       "    <tr>\n",
       "      <th>3</th>\n",
       "      <td>77874</td>\n",
       "      <td>родник</td>\n",
       "      <td>нет</td>\n",
       "      <td>кафе</td>\n",
       "      <td>город Москва, улица Талалихина, дом 2/1, корпус 1</td>\n",
       "      <td>35</td>\n",
       "      <td>улица Талалихина</td>\n",
       "      <td>Таганский район</td>\n",
       "    </tr>\n",
       "    <tr>\n",
       "      <th>11</th>\n",
       "      <td>77874</td>\n",
       "      <td>родник</td>\n",
       "      <td>нет</td>\n",
       "      <td>кафе</td>\n",
       "      <td>город Москва, улица Талалихина, дом 2/1, корпус 1</td>\n",
       "      <td>35</td>\n",
       "      <td>улица Талалихина</td>\n",
       "      <td>Нижегородский район</td>\n",
       "    </tr>\n",
       "    <tr>\n",
       "      <th>12</th>\n",
       "      <td>24309</td>\n",
       "      <td>кафе «академия»</td>\n",
       "      <td>нет</td>\n",
       "      <td>кафе</td>\n",
       "      <td>город Москва, Абельмановская улица, дом 6</td>\n",
       "      <td>95</td>\n",
       "      <td>Абельмановская улица</td>\n",
       "      <td>Таганский район</td>\n",
       "    </tr>\n",
       "    <tr>\n",
       "      <th>14</th>\n",
       "      <td>21894</td>\n",
       "      <td>пиццетория</td>\n",
       "      <td>да</td>\n",
       "      <td>кафе</td>\n",
       "      <td>город Москва, Абрамцевская улица, дом 1</td>\n",
       "      <td>40</td>\n",
       "      <td>Абрамцевская улица</td>\n",
       "      <td>район Лианозово</td>\n",
       "    </tr>\n",
       "  </tbody>\n",
       "</table>\n",
       "</div>"
      ],
      "text/plain": [
       "        id      object_name chain object_type  \\\n",
       "0   151635          сметана   нет        кафе   \n",
       "3    77874           родник   нет        кафе   \n",
       "11   77874           родник   нет        кафе   \n",
       "12   24309  кафе «академия»   нет        кафе   \n",
       "14   21894       пиццетория    да        кафе   \n",
       "\n",
       "                                              address  number  \\\n",
       "0          город Москва, улица Егора Абакумова, дом 9      48   \n",
       "3   город Москва, улица Талалихина, дом 2/1, корпус 1      35   \n",
       "11  город Москва, улица Талалихина, дом 2/1, корпус 1      35   \n",
       "12          город Москва, Абельмановская улица, дом 6      95   \n",
       "14            город Москва, Абрамцевская улица, дом 1      40   \n",
       "\n",
       "                   street             district  \n",
       "0   улица Егора Абакумова    Ярославский район  \n",
       "3        улица Талалихина      Таганский район  \n",
       "11       улица Талалихина  Нижегородский район  \n",
       "12   Абельмановская улица      Таганский район  \n",
       "14     Абрамцевская улица      район Лианозово  "
      ]
     },
     "execution_count": 30,
     "metadata": {},
     "output_type": "execute_result"
    }
   ],
   "source": [
    "# добавим столбец округ из таблицы с сайта\n",
    "rest_data_district = rest_data.merge(district, on='street', how='left')\n",
    "rest_data_district = rest_data_district.drop_duplicates()\n",
    "rest_data_district.head()"
   ]
  },
  {
   "cell_type": "code",
   "execution_count": 31,
   "metadata": {},
   "outputs": [
    {
     "data": {
      "text/html": [
       "<div>\n",
       "<style scoped>\n",
       "    .dataframe tbody tr th:only-of-type {\n",
       "        vertical-align: middle;\n",
       "    }\n",
       "\n",
       "    .dataframe tbody tr th {\n",
       "        vertical-align: top;\n",
       "    }\n",
       "\n",
       "    .dataframe thead th {\n",
       "        text-align: right;\n",
       "    }\n",
       "</style>\n",
       "<table border=\"1\" class=\"dataframe\">\n",
       "  <thead>\n",
       "    <tr style=\"text-align: right;\">\n",
       "      <th></th>\n",
       "      <th>street</th>\n",
       "      <th>district</th>\n",
       "      <th>count</th>\n",
       "      <th>number</th>\n",
       "    </tr>\n",
       "  </thead>\n",
       "  <tbody>\n",
       "    <tr>\n",
       "      <th>1401</th>\n",
       "      <td>город Зеленоград</td>\n",
       "      <td>район Савёлки</td>\n",
       "      <td>232</td>\n",
       "      <td>17050</td>\n",
       "    </tr>\n",
       "    <tr>\n",
       "      <th>1400</th>\n",
       "      <td>город Зеленоград</td>\n",
       "      <td>район Матушкино</td>\n",
       "      <td>232</td>\n",
       "      <td>17050</td>\n",
       "    </tr>\n",
       "    <tr>\n",
       "      <th>1402</th>\n",
       "      <td>город Зеленоград</td>\n",
       "      <td>район Силино</td>\n",
       "      <td>232</td>\n",
       "      <td>17050</td>\n",
       "    </tr>\n",
       "    <tr>\n",
       "      <th>1403</th>\n",
       "      <td>город Зеленоград</td>\n",
       "      <td>район Старое Крюково</td>\n",
       "      <td>232</td>\n",
       "      <td>17050</td>\n",
       "    </tr>\n",
       "    <tr>\n",
       "      <th>1399</th>\n",
       "      <td>город Зеленоград</td>\n",
       "      <td>район Крюково</td>\n",
       "      <td>232</td>\n",
       "      <td>17050</td>\n",
       "    </tr>\n",
       "    <tr>\n",
       "      <th>...</th>\n",
       "      <td>...</td>\n",
       "      <td>...</td>\n",
       "      <td>...</td>\n",
       "      <td>...</td>\n",
       "    </tr>\n",
       "    <tr>\n",
       "      <th>837</th>\n",
       "      <td>Нагорный бульвар</td>\n",
       "      <td>район Котловка</td>\n",
       "      <td>1</td>\n",
       "      <td>40</td>\n",
       "    </tr>\n",
       "    <tr>\n",
       "      <th>1638</th>\n",
       "      <td>улица Генерала Ермолова</td>\n",
       "      <td>район Дорогомилово</td>\n",
       "      <td>1</td>\n",
       "      <td>60</td>\n",
       "    </tr>\n",
       "    <tr>\n",
       "      <th>839</th>\n",
       "      <td>Напрудный переулок</td>\n",
       "      <td>Мещанский район</td>\n",
       "      <td>1</td>\n",
       "      <td>30</td>\n",
       "    </tr>\n",
       "    <tr>\n",
       "      <th>840</th>\n",
       "      <td>Нарвская улица</td>\n",
       "      <td>Войковский район</td>\n",
       "      <td>1</td>\n",
       "      <td>45</td>\n",
       "    </tr>\n",
       "    <tr>\n",
       "      <th>1005</th>\n",
       "      <td>Пожарский переулок</td>\n",
       "      <td>район Хамовники</td>\n",
       "      <td>1</td>\n",
       "      <td>30</td>\n",
       "    </tr>\n",
       "  </tbody>\n",
       "</table>\n",
       "<p>2010 rows × 4 columns</p>\n",
       "</div>"
      ],
      "text/plain": [
       "                       street              district  count  number\n",
       "1401         город Зеленоград         район Савёлки    232   17050\n",
       "1400         город Зеленоград       район Матушкино    232   17050\n",
       "1402         город Зеленоград          район Силино    232   17050\n",
       "1403         город Зеленоград  район Старое Крюково    232   17050\n",
       "1399         город Зеленоград         район Крюково    232   17050\n",
       "...                       ...                   ...    ...     ...\n",
       "837          Нагорный бульвар        район Котловка      1      40\n",
       "1638  улица Генерала Ермолова    район Дорогомилово      1      60\n",
       "839        Напрудный переулок       Мещанский район      1      30\n",
       "840            Нарвская улица      Войковский район      1      45\n",
       "1005       Пожарский переулок       район Хамовники      1      30\n",
       "\n",
       "[2010 rows x 4 columns]"
      ]
     },
     "execution_count": 31,
     "metadata": {},
     "output_type": "execute_result"
    }
   ],
   "source": [
    "# посчитаем количество объектов общепитов и количество посадочных мест на улицах\n",
    "streets = (\n",
    "    rest_data_district.groupby(['street', 'district'])\n",
    "    .agg({'id':'count',\n",
    "         'number':'sum'})\n",
    "    .rename(columns={'id': 'count'})\n",
    "    .reset_index()\n",
    "    .sort_values(by='count', ascending=False)\n",
    ")    \n",
    "streets"
   ]
  },
  {
   "cell_type": "code",
   "execution_count": 32,
   "metadata": {},
   "outputs": [],
   "source": [
    "#street_10 = rest_data['street'].value_counts().head(10)\n",
    "#street_10\n",
    "\n",
    "# построим график распределения объектов общепита на 10 самых крупных улицах Москвы\n",
    "\n",
    "streets_10 = (\n",
    "    rest_data.groupby('street')\n",
    "    .agg({'id':'count',\n",
    "         'number':'sum'})\n",
    "    .rename(columns={'id': 'count'})\n",
    "    .reset_index()\n",
    "    .sort_values(by='count', ascending=False)\n",
    "#    .head(10)\n",
    ")    \n",
    "#streets_10.plot(kind='bar', x='street', y='count')\n",
    "#plt.title('Самые густо заполненые улицы объектами общественного питания')\n",
    "#plt.xlabel('Названия улиц')\n",
    "#plt.ylabel('Количество заведений')\n",
    "#plt.show()"
   ]
  },
  {
   "cell_type": "markdown",
   "metadata": {},
   "source": [
    "<div class=\"alert alert-warning\">\n",
    "<b>⚠️ Комментарий ревьюера:</b> \n",
    "\n",
    "Стоит ли оставлять Зеленоград и Сосенское в топе? Тебе ведь нужны только улицы. Оставляя их нужно будет рекомендовать инвестору открыть там заведение\n",
    "</div>"
   ]
  },
  {
   "cell_type": "markdown",
   "metadata": {},
   "source": [
    "<div class=\"alert alert-info\"> <b>Комментарий студента:</b> Предлагаешь удалить?</div>"
   ]
  },
  {
   "cell_type": "markdown",
   "metadata": {},
   "source": [
    "<div class=\"alert alert-success\">\n",
    "<b>✅ Комментарий ревьюера V2:</b> \n",
    "\n",
    "Да, т.к. если ты хочешь исследовать округа, то выводи округа, если улицы, значит, нужны улицы</div>"
   ]
  },
  {
   "cell_type": "code",
   "execution_count": 33,
   "metadata": {},
   "outputs": [],
   "source": [
    "streets_10 = streets_10.query('street != \"город Зеленоград\" & street != \"поселение Сосенское\"')"
   ]
  },
  {
   "cell_type": "code",
   "execution_count": 34,
   "metadata": {},
   "outputs": [],
   "source": [
    "streets_10 = streets_10.head(10)"
   ]
  },
  {
   "cell_type": "code",
   "execution_count": 35,
   "metadata": {},
   "outputs": [
    {
     "data": {
      "image/png": "[encoded data removed]",
      "text/plain": [
       "<Figure size 432x288 with 1 Axes>"
      ]
     },
     "metadata": {
      "needs_background": "light"
     },
     "output_type": "display_data"
    }
   ],
   "source": [
    "streets_10.plot(kind='bar', x='street', y='count')\n",
    "plt.title('Самые густо заполненые улицы объектами общественного питания')\n",
    "plt.xlabel('Названия улиц')\n",
    "plt.ylabel('Количество заведений')\n",
    "plt.show()"
   ]
  },
  {
   "cell_type": "markdown",
   "metadata": {},
   "source": [
    "<div class=\"alert alert-info\"> <b>Комментарий студента:</b> Так себе решение, конечно, с этими улицами и округами, все грубовато выходит.</div>"
   ]
  },
  {
   "cell_type": "code",
   "execution_count": 36,
   "metadata": {},
   "outputs": [
    {
     "data": {
      "text/html": [
       "<div>\n",
       "<style scoped>\n",
       "    .dataframe tbody tr th:only-of-type {\n",
       "        vertical-align: middle;\n",
       "    }\n",
       "\n",
       "    .dataframe tbody tr th {\n",
       "        vertical-align: top;\n",
       "    }\n",
       "\n",
       "    .dataframe thead th {\n",
       "        text-align: right;\n",
       "    }\n",
       "</style>\n",
       "<table border=\"1\" class=\"dataframe\">\n",
       "  <thead>\n",
       "    <tr style=\"text-align: right;\">\n",
       "      <th></th>\n",
       "      <th>street</th>\n",
       "      <th>count</th>\n",
       "      <th>number</th>\n",
       "      <th>district</th>\n",
       "    </tr>\n",
       "  </thead>\n",
       "  <tbody>\n",
       "    <tr>\n",
       "      <th>0</th>\n",
       "      <td>проспект Мира</td>\n",
       "      <td>204</td>\n",
       "      <td>12790</td>\n",
       "      <td>Мещанский район</td>\n",
       "    </tr>\n",
       "    <tr>\n",
       "      <th>1</th>\n",
       "      <td>проспект Мира</td>\n",
       "      <td>204</td>\n",
       "      <td>12790</td>\n",
       "      <td>Мещанский район</td>\n",
       "    </tr>\n",
       "    <tr>\n",
       "      <th>2</th>\n",
       "      <td>проспект Мира</td>\n",
       "      <td>204</td>\n",
       "      <td>12790</td>\n",
       "      <td>Мещанский район</td>\n",
       "    </tr>\n",
       "    <tr>\n",
       "      <th>3</th>\n",
       "      <td>проспект Мира</td>\n",
       "      <td>204</td>\n",
       "      <td>12790</td>\n",
       "      <td>Мещанский район</td>\n",
       "    </tr>\n",
       "    <tr>\n",
       "      <th>4</th>\n",
       "      <td>проспект Мира</td>\n",
       "      <td>204</td>\n",
       "      <td>12790</td>\n",
       "      <td>Мещанский район</td>\n",
       "    </tr>\n",
       "    <tr>\n",
       "      <th>...</th>\n",
       "      <td>...</td>\n",
       "      <td>...</td>\n",
       "      <td>...</td>\n",
       "      <td>...</td>\n",
       "    </tr>\n",
       "    <tr>\n",
       "      <th>1511</th>\n",
       "      <td>Кировоградская улица</td>\n",
       "      <td>110</td>\n",
       "      <td>6577</td>\n",
       "      <td>район Чертаново Центральное</td>\n",
       "    </tr>\n",
       "    <tr>\n",
       "      <th>1512</th>\n",
       "      <td>Кировоградская улица</td>\n",
       "      <td>110</td>\n",
       "      <td>6577</td>\n",
       "      <td>район Чертаново Центральное</td>\n",
       "    </tr>\n",
       "    <tr>\n",
       "      <th>1513</th>\n",
       "      <td>Кировоградская улица</td>\n",
       "      <td>110</td>\n",
       "      <td>6577</td>\n",
       "      <td>район Чертаново Центральное</td>\n",
       "    </tr>\n",
       "    <tr>\n",
       "      <th>1514</th>\n",
       "      <td>Кировоградская улица</td>\n",
       "      <td>110</td>\n",
       "      <td>6577</td>\n",
       "      <td>район Чертаново Центральное</td>\n",
       "    </tr>\n",
       "    <tr>\n",
       "      <th>1515</th>\n",
       "      <td>Кировоградская улица</td>\n",
       "      <td>110</td>\n",
       "      <td>6577</td>\n",
       "      <td>район Чертаново Северное</td>\n",
       "    </tr>\n",
       "  </tbody>\n",
       "</table>\n",
       "<p>1516 rows × 4 columns</p>\n",
       "</div>"
      ],
      "text/plain": [
       "                    street  count  number                     district\n",
       "0            проспект Мира    204   12790              Мещанский район\n",
       "1            проспект Мира    204   12790              Мещанский район\n",
       "2            проспект Мира    204   12790              Мещанский район\n",
       "3            проспект Мира    204   12790              Мещанский район\n",
       "4            проспект Мира    204   12790              Мещанский район\n",
       "...                    ...    ...     ...                          ...\n",
       "1511  Кировоградская улица    110    6577  район Чертаново Центральное\n",
       "1512  Кировоградская улица    110    6577  район Чертаново Центральное\n",
       "1513  Кировоградская улица    110    6577  район Чертаново Центральное\n",
       "1514  Кировоградская улица    110    6577  район Чертаново Центральное\n",
       "1515  Кировоградская улица    110    6577     район Чертаново Северное\n",
       "\n",
       "[1516 rows x 4 columns]"
      ]
     },
     "execution_count": 36,
     "metadata": {},
     "output_type": "execute_result"
    }
   ],
   "source": [
    "streets_10_d = streets_10.merge(district, on='street', how='left')\n",
    "streets_10_d"
   ]
  },
  {
   "cell_type": "markdown",
   "metadata": {},
   "source": [
    "**Вывод** Улица с самым большим количеством объектов общепита проспект Мира, это одна из центральных улиц города, самая протященная."
   ]
  },
  {
   "cell_type": "markdown",
   "metadata": {},
   "source": [
    "<div class=\"alert alert-success\">\n",
    "<b>✅ Комментарий ревьюера:</b> \n",
    "\n",
    "Районы найдены корректно</div>"
   ]
  },
  {
   "cell_type": "markdown",
   "metadata": {},
   "source": [
    "### Найдите число улиц с одним объектом общественного питания. Воспользуйтесь внешней информацией и ответьте на вопрос — в каких районах Москвы находятся эти улицы?"
   ]
  },
  {
   "cell_type": "code",
   "execution_count": 37,
   "metadata": {},
   "outputs": [
    {
     "data": {
      "text/plain": [
       "579"
      ]
     },
     "execution_count": 37,
     "metadata": {},
     "output_type": "execute_result"
    }
   ],
   "source": [
    "streetss = (\n",
    "    rest_data.groupby('street')\n",
    "    .agg({'id':'count'})\n",
    "    .rename(columns={'id': 'count'})\n",
    "    .reset_index()\n",
    "    .sort_values(by='count')\n",
    ")    \n",
    "streetss = streetss[streetss['count'] == 1]\n",
    "len(streetss['street'])"
   ]
  },
  {
   "cell_type": "code",
   "execution_count": 38,
   "metadata": {},
   "outputs": [
    {
     "data": {
      "text/html": [
       "<div>\n",
       "<style scoped>\n",
       "    .dataframe tbody tr th:only-of-type {\n",
       "        vertical-align: middle;\n",
       "    }\n",
       "\n",
       "    .dataframe tbody tr th {\n",
       "        vertical-align: top;\n",
       "    }\n",
       "\n",
       "    .dataframe thead th {\n",
       "        text-align: right;\n",
       "    }\n",
       "</style>\n",
       "<table border=\"1\" class=\"dataframe\">\n",
       "  <thead>\n",
       "    <tr style=\"text-align: right;\">\n",
       "      <th></th>\n",
       "      <th>street</th>\n",
       "      <th>count</th>\n",
       "      <th>district</th>\n",
       "    </tr>\n",
       "  </thead>\n",
       "  <tbody>\n",
       "    <tr>\n",
       "      <th>0</th>\n",
       "      <td>Новопресненский переулок</td>\n",
       "      <td>1</td>\n",
       "      <td>Пресненский район</td>\n",
       "    </tr>\n",
       "    <tr>\n",
       "      <th>1</th>\n",
       "      <td>Вяземская улица</td>\n",
       "      <td>1</td>\n",
       "      <td>Можайский район</td>\n",
       "    </tr>\n",
       "    <tr>\n",
       "      <th>2</th>\n",
       "      <td>улица Раевского</td>\n",
       "      <td>1</td>\n",
       "      <td>район Дорогомилово</td>\n",
       "    </tr>\n",
       "    <tr>\n",
       "      <th>3</th>\n",
       "      <td>Таёжная улица</td>\n",
       "      <td>1</td>\n",
       "      <td>Лосиноостровский район</td>\n",
       "    </tr>\n",
       "    <tr>\n",
       "      <th>4</th>\n",
       "      <td>Газгольдерная улица</td>\n",
       "      <td>1</td>\n",
       "      <td>Нижегородский район</td>\n",
       "    </tr>\n",
       "    <tr>\n",
       "      <th>...</th>\n",
       "      <td>...</td>\n",
       "      <td>...</td>\n",
       "      <td>...</td>\n",
       "    </tr>\n",
       "    <tr>\n",
       "      <th>730</th>\n",
       "      <td>80-й километр Московской Кольцевой Автодороги</td>\n",
       "      <td>1</td>\n",
       "      <td>NaN</td>\n",
       "    </tr>\n",
       "    <tr>\n",
       "      <th>731</th>\n",
       "      <td>6-й Лучевой просек</td>\n",
       "      <td>1</td>\n",
       "      <td>район Сокольники</td>\n",
       "    </tr>\n",
       "    <tr>\n",
       "      <th>732</th>\n",
       "      <td>6-я улица Лазенки</td>\n",
       "      <td>1</td>\n",
       "      <td>район Ново-Переделкино</td>\n",
       "    </tr>\n",
       "    <tr>\n",
       "      <th>733</th>\n",
       "      <td>8-я улица Соколиной Горы</td>\n",
       "      <td>1</td>\n",
       "      <td>район Соколиная Гора</td>\n",
       "    </tr>\n",
       "    <tr>\n",
       "      <th>734</th>\n",
       "      <td>улица Алексея Дикого</td>\n",
       "      <td>1</td>\n",
       "      <td>район Новогиреево</td>\n",
       "    </tr>\n",
       "  </tbody>\n",
       "</table>\n",
       "<p>735 rows × 3 columns</p>\n",
       "</div>"
      ],
      "text/plain": [
       "                                            street  count  \\\n",
       "0                         Новопресненский переулок      1   \n",
       "1                                  Вяземская улица      1   \n",
       "2                                  улица Раевского      1   \n",
       "3                                    Таёжная улица      1   \n",
       "4                              Газгольдерная улица      1   \n",
       "..                                             ...    ...   \n",
       "730  80-й километр Московской Кольцевой Автодороги      1   \n",
       "731                             6-й Лучевой просек      1   \n",
       "732                              6-я улица Лазенки      1   \n",
       "733                       8-я улица Соколиной Горы      1   \n",
       "734                           улица Алексея Дикого      1   \n",
       "\n",
       "                   district  \n",
       "0         Пресненский район  \n",
       "1           Можайский район  \n",
       "2        район Дорогомилово  \n",
       "3    Лосиноостровский район  \n",
       "4       Нижегородский район  \n",
       "..                      ...  \n",
       "730                     NaN  \n",
       "731        район Сокольники  \n",
       "732  район Ново-Переделкино  \n",
       "733    район Соколиная Гора  \n",
       "734       район Новогиреево  \n",
       "\n",
       "[735 rows x 3 columns]"
      ]
     },
     "execution_count": 38,
     "metadata": {},
     "output_type": "execute_result"
    }
   ],
   "source": [
    "streetss_d = streetss.merge(district, on='street', how='left')\n",
    "streetss_d"
   ]
  },
  {
   "cell_type": "markdown",
   "metadata": {},
   "source": [
    "**Вывод** Улиц с одним объектом общепита 579, это улицы окраин."
   ]
  },
  {
   "cell_type": "markdown",
   "metadata": {},
   "source": [
    "<div class=\"alert alert-warning\">\n",
    "<b>⚠️ Комментарий ревьюера:</b> \n",
    "\n",
    "Районы присоединены верным типом соединения как и в случае с поиском районов для топ 10, но здесь есть один нюанс, там было всего 10 улиц и можно их визуально проверить (всем ли нашлись районы), а тут у тебя более 500 улиц, как убедиться в том, что для всех этих улиц нашелся район? В данном случае, следует сделать еще проверку на корректность соединения двух датасетов, чтобы проверить сколько улиц корректно сджойнилось, а сколько нет. Без этой информации нельзя оценить адекватность дальнейшего анализа, представь, что у тебя будет только 40% улиц, которые нашли себе район. Для реализации такой проверки можно как раз восползоваться спецификой типа соединения `left` и посмотреть для сколько улиц получились эти пропуски. Все данные, что были слева от `left` останутся, а те, что справа приджойнятся в случае совпадения и появятся пропуски в случае несовпадения.</div>"
   ]
  },
  {
   "cell_type": "markdown",
   "metadata": {},
   "source": [
    "<div class=\"alert alert-info\"> <b>Комментарий студента:</b> Предлагаешь посчитать пропуски?</div>"
   ]
  },
  {
   "cell_type": "code",
   "execution_count": 39,
   "metadata": {},
   "outputs": [
    {
     "data": {
      "text/plain": [
       "171"
      ]
     },
     "execution_count": 39,
     "metadata": {},
     "output_type": "execute_result"
    }
   ],
   "source": [
    "streetss_d['district'].isna().sum()"
   ]
  },
  {
   "cell_type": "markdown",
   "metadata": {},
   "source": [
    "Получается 29% от объема улиц. Значительно."
   ]
  },
  {
   "cell_type": "markdown",
   "metadata": {},
   "source": [
    "<div class=\"alert alert-success\">\n",
    "<b>✅ Комментарий ревьюера V2:</b> \n",
    "\n",
    "Отлично, расчет корректен. 29% - стоит дать ответ допустимо это или нет. То есть ты здесь исследуешь улицы с одним заведением и их очень много, важно ли качественно названия этих улиц? - думаю нет, поэтому пренебречь некоторой долей некритично</div>"
   ]
  },
  {
   "cell_type": "markdown",
   "metadata": {},
   "source": [
    "### Посмотрите на распределение количества посадочных мест для улиц с большим количеством объектов общественного питания. Какие закономерности можно выявить?"
   ]
  },
  {
   "cell_type": "code",
   "execution_count": 40,
   "metadata": {},
   "outputs": [
    {
     "data": {
      "image/png": "[encoded data removed]",
      "text/plain": [
       "<Figure size 432x432 with 3 Axes>"
      ]
     },
     "metadata": {
      "needs_background": "light"
     },
     "output_type": "display_data"
    }
   ],
   "source": [
    "# график распределения посадочных мест на улицах с большим количеством объектов общепита\n",
    "sns.jointplot(x='number', y='count', data=streets_10) \n",
    "#plt.title('Распределение посадочных мест на улицах в большим количеством заведений')\n",
    "plt.xlabel('Посадочные места')\n",
    "plt.ylabel('Заведения общепита')\n",
    "plt.show()"
   ]
  },
  {
   "cell_type": "code",
   "execution_count": 41,
   "metadata": {},
   "outputs": [
    {
     "data": {
      "image/png": "[encoded data removed]",
      "text/plain": [
       "<Figure size 432x288 with 1 Axes>"
      ]
     },
     "metadata": {
      "needs_background": "light"
     },
     "output_type": "display_data"
    }
   ],
   "source": [
    "sns.stripplot(x='count', y='number', data=streets_10) \n",
    "plt.title('Распределение посадочных мест на улицах в большим количеством заведений')\n",
    "plt.xlabel('Заведения общепита')\n",
    "plt.ylabel('Посадочные места')\n",
    "plt.show()"
   ]
  },
  {
   "cell_type": "markdown",
   "metadata": {},
   "source": [
    "**Вывод** Для самых крупных улиц с наибольшим количеством заведений характерно предоставление посадочных мест около 8000-10000."
   ]
  },
  {
   "cell_type": "markdown",
   "metadata": {},
   "source": [
    "<a id=\"conclusion\"></a>\n",
    "**Выводы** \n",
    "\n",
    "Рынок общественного птания города Москва очень насыщенный и конкурирующий, есть большой выбор видов объектов для различных целей и аудитории. Самый насыщенный по количеству заведений - это районы прилежащие к центру. \n",
    "\n",
    "Для нового стартапа покекомендую выбрать вид объекта общественного питания - кафе, это самый популярный вид в городе Москва. Количество посадочных мест не самое большое, расположение должно быть в на улицах с большим покопом людей, но не в самом центре, там большая конкуренция. Думаю, развитие сети для такого новаторского объекта будет приемлемым и перспективным.\n"
   ]
  },
  {
   "cell_type": "markdown",
   "metadata": {},
   "source": [
    "<div class=\"alert alert-success\">\n",
    "<b>✅ Комментарий ревьюера:</b> \n",
    "\n",
    "Да, все корректно. Рекомендую еще добавлять оценку гистограмм, так как речь идет об оценках распределения выборки. Гистограммы покажут частотность появления значений и визуализируют это распределения с помощью графика. По этому распределению можно оценить какие кол-во мест преобладает.\n",
    "</div>"
   ]
  },
  {
   "cell_type": "code",
   "execution_count": 42,
   "metadata": {},
   "outputs": [
    {
     "data": {
      "text/plain": [
       "<AxesSubplot:>"
      ]
     },
     "execution_count": 42,
     "metadata": {},
     "output_type": "execute_result"
    },
    {
     "data": {
      "image/png": "[encoded data removed]",
      "text/plain": [
       "<Figure size 432x288 with 1 Axes>"
      ]
     },
     "metadata": {
      "needs_background": "light"
     },
     "output_type": "display_data"
    }
   ],
   "source": [
    "streets_10['number'].hist()"
   ]
  },
  {
   "cell_type": "markdown",
   "metadata": {},
   "source": [
    "Чаще всего улицы предоставляют 9000 посадочных мест."
   ]
  },
  {
   "cell_type": "markdown",
   "metadata": {},
   "source": [
    "<a id=\"presentation\"></a>\n",
    "## Шаг №3. Подготовка презентации"
   ]
  },
  {
   "cell_type": "markdown",
   "metadata": {},
   "source": [
    "Презентация: <https://disk.yandex.ru/i/I7XVDT1HrD-oWQ>"
   ]
  },
  {
   "cell_type": "markdown",
   "metadata": {},
   "source": [
    "Это самый провальный проект из всех. Спринт по графикам был на столько короткий и стремительный, разобраться самостоятельно не удолось, как их оформлять и причесывать к приятному виду. Задания в проекте как будто не дотянуты, или я их не поняла. Презентацию, как ни странно, делала в первые раз в жизни( Я не много растроена."
   ]
  },
  {
   "cell_type": "markdown",
   "metadata": {},
   "source": [
    "<div class=\"alert alert-warning\">\n",
    "<b>⚠️ Комментарий ревьюера:</b> \n",
    "\n",
    "По презентации:\n",
    "- Оформление супер, молодец\n",
    "- Рекомнедую в начале добавить получившееся результаты анализа, т.к. презентация - это результат твоего исследования и рук-лю/заказчику будет интересно сперва узнать, что получилось, а потом погружаться в подробности\n",
    "\n",
    "В остальном все супер\n",
    "</div>"
   ]
  },
  {
   "cell_type": "code",
   "execution_count": null,
   "metadata": {},
   "outputs": [],
   "source": []
  }
 ],
 "metadata": {
  "ExecuteTimeLog": [
   {
    "duration": 487,
    "start_time": "2022-05-06T12:00:24.567Z"
   },
   {
    "duration": 88,
    "start_time": "2022-05-06T12:01:21.065Z"
   },
   {
    "duration": 15,
    "start_time": "2022-05-06T12:11:50.361Z"
   },
   {
    "duration": 11,
    "start_time": "2022-05-06T12:34:44.855Z"
   },
   {
    "duration": 17,
    "start_time": "2022-05-06T12:38:52.019Z"
   },
   {
    "duration": 6,
    "start_time": "2022-05-06T12:41:40.566Z"
   },
   {
    "duration": 5,
    "start_time": "2022-05-06T12:41:56.853Z"
   },
   {
    "duration": 6,
    "start_time": "2022-05-06T12:43:29.535Z"
   },
   {
    "duration": 6,
    "start_time": "2022-05-06T12:43:34.045Z"
   },
   {
    "duration": 7,
    "start_time": "2022-05-06T12:43:39.071Z"
   },
   {
    "duration": 8,
    "start_time": "2022-05-06T12:44:17.631Z"
   },
   {
    "duration": 6,
    "start_time": "2022-05-06T12:46:13.807Z"
   },
   {
    "duration": 5,
    "start_time": "2022-05-06T12:46:24.641Z"
   },
   {
    "duration": 5,
    "start_time": "2022-05-06T12:46:40.913Z"
   },
   {
    "duration": 61,
    "start_time": "2022-05-06T12:55:14.723Z"
   },
   {
    "duration": 11,
    "start_time": "2022-05-06T12:55:53.346Z"
   },
   {
    "duration": 5,
    "start_time": "2022-05-06T13:08:52.842Z"
   },
   {
    "duration": 7,
    "start_time": "2022-05-06T13:24:00.283Z"
   },
   {
    "duration": 12,
    "start_time": "2022-05-06T13:24:10.149Z"
   },
   {
    "duration": 115,
    "start_time": "2022-05-06T13:25:27.246Z"
   },
   {
    "duration": 102,
    "start_time": "2022-05-06T13:26:01.947Z"
   },
   {
    "duration": 103,
    "start_time": "2022-05-06T13:26:20.312Z"
   },
   {
    "duration": 18,
    "start_time": "2022-05-06T13:26:41.431Z"
   },
   {
    "duration": 17,
    "start_time": "2022-05-06T13:26:49.796Z"
   },
   {
    "duration": 20,
    "start_time": "2022-05-06T13:27:07.969Z"
   },
   {
    "duration": 872,
    "start_time": "2022-05-06T13:31:57.067Z"
   },
   {
    "duration": 40,
    "start_time": "2022-05-06T13:32:40.763Z"
   },
   {
    "duration": 112,
    "start_time": "2022-05-06T13:33:04.766Z"
   },
   {
    "duration": 99,
    "start_time": "2022-05-06T13:33:15.445Z"
   },
   {
    "duration": 154,
    "start_time": "2022-05-06T13:33:22.772Z"
   },
   {
    "duration": 159,
    "start_time": "2022-05-06T13:33:38.517Z"
   },
   {
    "duration": 53,
    "start_time": "2022-05-06T13:40:51.784Z"
   },
   {
    "duration": 13,
    "start_time": "2022-05-06T13:40:57.443Z"
   },
   {
    "duration": 108,
    "start_time": "2022-05-06T14:10:01.128Z"
   },
   {
    "duration": 108,
    "start_time": "2022-05-06T14:10:10.669Z"
   },
   {
    "duration": 6,
    "start_time": "2022-05-06T14:10:27.989Z"
   },
   {
    "duration": 4,
    "start_time": "2022-05-06T14:18:45.633Z"
   },
   {
    "duration": 138,
    "start_time": "2022-05-06T14:19:22.984Z"
   },
   {
    "duration": 6,
    "start_time": "2022-05-06T14:21:28.453Z"
   },
   {
    "duration": 165,
    "start_time": "2022-05-06T14:21:31.780Z"
   },
   {
    "duration": 5,
    "start_time": "2022-05-06T14:21:40.788Z"
   },
   {
    "duration": 142,
    "start_time": "2022-05-06T14:21:42.772Z"
   },
   {
    "duration": 100,
    "start_time": "2022-05-06T14:21:56.770Z"
   },
   {
    "duration": 328,
    "start_time": "2022-05-06T14:22:45.933Z"
   },
   {
    "duration": 147,
    "start_time": "2022-05-06T14:23:22.878Z"
   },
   {
    "duration": 119,
    "start_time": "2022-05-06T14:24:03.291Z"
   },
   {
    "duration": 109,
    "start_time": "2022-05-06T14:24:28.213Z"
   },
   {
    "duration": 6,
    "start_time": "2022-05-06T14:25:02.580Z"
   },
   {
    "duration": 138,
    "start_time": "2022-05-06T14:25:06.128Z"
   },
   {
    "duration": 6,
    "start_time": "2022-05-06T14:25:52.117Z"
   },
   {
    "duration": 138,
    "start_time": "2022-05-06T14:25:54.418Z"
   },
   {
    "duration": 5,
    "start_time": "2022-05-06T14:26:41.390Z"
   },
   {
    "duration": 6,
    "start_time": "2022-05-06T14:26:43.829Z"
   },
   {
    "duration": 139,
    "start_time": "2022-05-06T14:26:45.503Z"
   },
   {
    "duration": 17,
    "start_time": "2022-05-06T14:26:54.734Z"
   },
   {
    "duration": 6,
    "start_time": "2022-05-06T14:27:00.205Z"
   },
   {
    "duration": 5,
    "start_time": "2022-05-06T14:29:22.955Z"
   },
   {
    "duration": 202,
    "start_time": "2022-05-06T14:29:24.679Z"
   },
   {
    "duration": 4,
    "start_time": "2022-05-06T14:29:28.044Z"
   },
   {
    "duration": 4,
    "start_time": "2022-05-06T14:29:28.553Z"
   },
   {
    "duration": 142,
    "start_time": "2022-05-06T14:29:30.236Z"
   },
   {
    "duration": 1063,
    "start_time": "2022-05-06T14:29:41.004Z"
   },
   {
    "duration": 60,
    "start_time": "2022-05-06T14:29:42.069Z"
   },
   {
    "duration": 12,
    "start_time": "2022-05-06T14:29:42.131Z"
   },
   {
    "duration": 9,
    "start_time": "2022-05-06T14:29:42.148Z"
   },
   {
    "duration": 15,
    "start_time": "2022-05-06T14:29:42.159Z"
   },
   {
    "duration": 5,
    "start_time": "2022-05-06T14:29:42.176Z"
   },
   {
    "duration": 10,
    "start_time": "2022-05-06T14:29:42.182Z"
   },
   {
    "duration": 5,
    "start_time": "2022-05-06T14:29:42.193Z"
   },
   {
    "duration": 8,
    "start_time": "2022-05-06T14:29:42.199Z"
   },
   {
    "duration": 179,
    "start_time": "2022-05-06T14:29:42.209Z"
   },
   {
    "duration": 90,
    "start_time": "2022-05-06T14:36:00.185Z"
   },
   {
    "duration": 9,
    "start_time": "2022-05-06T14:36:22.451Z"
   },
   {
    "duration": 16,
    "start_time": "2022-05-06T14:37:08.659Z"
   },
   {
    "duration": 16,
    "start_time": "2022-05-06T14:37:47.796Z"
   },
   {
    "duration": 209,
    "start_time": "2022-05-06T14:38:23.261Z"
   },
   {
    "duration": 203,
    "start_time": "2022-05-06T14:39:28.173Z"
   },
   {
    "duration": 210,
    "start_time": "2022-05-06T14:39:44.372Z"
   },
   {
    "duration": 241,
    "start_time": "2022-05-06T14:39:51.092Z"
   },
   {
    "duration": 138,
    "start_time": "2022-05-06T14:48:19.656Z"
   },
   {
    "duration": 224,
    "start_time": "2022-05-06T14:49:11.798Z"
   },
   {
    "duration": 365,
    "start_time": "2022-05-06T14:50:17.300Z"
   },
   {
    "duration": 11,
    "start_time": "2022-05-06T14:52:32.221Z"
   },
   {
    "duration": 327,
    "start_time": "2022-05-06T14:55:13.251Z"
   },
   {
    "duration": 241,
    "start_time": "2022-05-06T14:55:40.538Z"
   },
   {
    "duration": 236,
    "start_time": "2022-05-06T14:55:50.846Z"
   },
   {
    "duration": 263,
    "start_time": "2022-05-06T14:57:36.929Z"
   },
   {
    "duration": 5,
    "start_time": "2022-05-06T15:00:08.618Z"
   },
   {
    "duration": 264,
    "start_time": "2022-05-06T15:07:21.241Z"
   },
   {
    "duration": 144,
    "start_time": "2022-05-06T15:10:27.643Z"
   },
   {
    "duration": 147,
    "start_time": "2022-05-06T15:10:37.920Z"
   },
   {
    "duration": 217,
    "start_time": "2022-05-06T15:13:40.023Z"
   },
   {
    "duration": 228,
    "start_time": "2022-05-06T15:15:20.003Z"
   },
   {
    "duration": 190,
    "start_time": "2022-05-06T15:16:35.388Z"
   },
   {
    "duration": 180,
    "start_time": "2022-05-06T15:16:43.661Z"
   },
   {
    "duration": 257,
    "start_time": "2022-05-06T15:16:48.453Z"
   },
   {
    "duration": 169,
    "start_time": "2022-05-06T15:16:54.021Z"
   },
   {
    "duration": 175,
    "start_time": "2022-05-06T15:17:01.876Z"
   },
   {
    "duration": 167,
    "start_time": "2022-05-06T15:17:14.476Z"
   },
   {
    "duration": 174,
    "start_time": "2022-05-06T15:17:25.348Z"
   },
   {
    "duration": 225,
    "start_time": "2022-05-06T15:18:23.245Z"
   },
   {
    "duration": 172,
    "start_time": "2022-05-06T15:18:30.573Z"
   },
   {
    "duration": 182,
    "start_time": "2022-05-06T15:19:52.312Z"
   },
   {
    "duration": 126,
    "start_time": "2022-05-06T15:20:52.168Z"
   },
   {
    "duration": 815,
    "start_time": "2022-05-06T15:23:50.009Z"
   },
   {
    "duration": 818,
    "start_time": "2022-05-06T15:24:18.241Z"
   },
   {
    "duration": 712,
    "start_time": "2022-05-06T15:25:45.661Z"
   },
   {
    "duration": 955,
    "start_time": "2022-05-06T15:26:23.092Z"
   },
   {
    "duration": 757,
    "start_time": "2022-05-06T15:27:49.064Z"
   },
   {
    "duration": 764,
    "start_time": "2022-05-06T15:28:08.367Z"
   },
   {
    "duration": 761,
    "start_time": "2022-05-06T15:28:29.092Z"
   },
   {
    "duration": 846,
    "start_time": "2022-05-06T15:29:10.625Z"
   },
   {
    "duration": 796,
    "start_time": "2022-05-06T16:45:53.652Z"
   },
   {
    "duration": 1845,
    "start_time": "2022-05-07T10:46:17.276Z"
   },
   {
    "duration": 84,
    "start_time": "2022-05-07T10:46:19.125Z"
   },
   {
    "duration": 27,
    "start_time": "2022-05-07T10:46:19.211Z"
   },
   {
    "duration": 28,
    "start_time": "2022-05-07T10:46:19.242Z"
   },
   {
    "duration": 63,
    "start_time": "2022-05-07T10:46:19.273Z"
   },
   {
    "duration": 7,
    "start_time": "2022-05-07T10:46:19.338Z"
   },
   {
    "duration": 17,
    "start_time": "2022-05-07T10:46:19.347Z"
   },
   {
    "duration": 8,
    "start_time": "2022-05-07T10:46:19.368Z"
   },
   {
    "duration": 48,
    "start_time": "2022-05-07T10:46:19.379Z"
   },
   {
    "duration": 475,
    "start_time": "2022-05-07T10:46:19.433Z"
   },
   {
    "duration": 254,
    "start_time": "2022-05-07T10:46:19.910Z"
   },
   {
    "duration": 427,
    "start_time": "2022-05-07T10:46:20.167Z"
   },
   {
    "duration": 8,
    "start_time": "2022-05-07T10:46:20.596Z"
   },
   {
    "duration": 1562,
    "start_time": "2022-05-07T10:46:20.606Z"
   },
   {
    "duration": 31,
    "start_time": "2022-05-07T10:46:22.170Z"
   },
   {
    "duration": 25,
    "start_time": "2022-05-07T10:47:42.956Z"
   },
   {
    "duration": 3585,
    "start_time": "2022-05-07T10:48:15.858Z"
   },
   {
    "duration": 258,
    "start_time": "2022-05-07T10:48:57.878Z"
   },
   {
    "duration": 339,
    "start_time": "2022-05-07T11:18:56.054Z"
   },
   {
    "duration": 455,
    "start_time": "2022-05-07T11:20:09.136Z"
   },
   {
    "duration": 662,
    "start_time": "2022-05-07T11:24:07.214Z"
   },
   {
    "duration": 340,
    "start_time": "2022-05-07T11:25:24.574Z"
   },
   {
    "duration": 755,
    "start_time": "2022-05-07T11:41:32.009Z"
   },
   {
    "duration": 813,
    "start_time": "2022-05-07T11:45:19.089Z"
   },
   {
    "duration": 713,
    "start_time": "2022-05-07T11:45:41.154Z"
   },
   {
    "duration": 663,
    "start_time": "2022-05-07T11:46:19.813Z"
   },
   {
    "duration": 660,
    "start_time": "2022-05-07T11:46:36.569Z"
   },
   {
    "duration": 15,
    "start_time": "2022-05-07T11:49:47.470Z"
   },
   {
    "duration": 2373,
    "start_time": "2022-05-07T11:50:02.314Z"
   },
   {
    "duration": 29,
    "start_time": "2022-05-07T11:50:33.438Z"
   },
   {
    "duration": 49,
    "start_time": "2022-05-07T11:50:43.715Z"
   },
   {
    "duration": 47,
    "start_time": "2022-05-07T11:51:03.831Z"
   },
   {
    "duration": 43,
    "start_time": "2022-05-07T12:12:55.322Z"
   },
   {
    "duration": 13,
    "start_time": "2022-05-07T12:13:00.163Z"
   },
   {
    "duration": 41,
    "start_time": "2022-05-07T12:13:08.311Z"
   },
   {
    "duration": 46,
    "start_time": "2022-05-07T12:20:39.903Z"
   },
   {
    "duration": 39,
    "start_time": "2022-05-07T12:29:04.325Z"
   },
   {
    "duration": 44,
    "start_time": "2022-05-07T12:35:04.697Z"
   },
   {
    "duration": 162,
    "start_time": "2022-05-07T12:38:18.569Z"
   },
   {
    "duration": 44,
    "start_time": "2022-05-07T12:39:26.105Z"
   },
   {
    "duration": 49,
    "start_time": "2022-05-07T12:39:46.562Z"
   },
   {
    "duration": 57,
    "start_time": "2022-05-07T12:39:50.860Z"
   },
   {
    "duration": 80,
    "start_time": "2022-05-07T12:53:49.074Z"
   },
   {
    "duration": 11,
    "start_time": "2022-05-07T12:55:04.710Z"
   },
   {
    "duration": 38,
    "start_time": "2022-05-07T12:55:28.023Z"
   },
   {
    "duration": 13,
    "start_time": "2022-05-07T12:56:06.222Z"
   },
   {
    "duration": 79,
    "start_time": "2022-05-07T12:57:31.350Z"
   },
   {
    "duration": 13,
    "start_time": "2022-05-07T12:57:35.071Z"
   },
   {
    "duration": 14,
    "start_time": "2022-05-07T13:03:35.422Z"
   },
   {
    "duration": 13,
    "start_time": "2022-05-07T13:03:48.838Z"
   },
   {
    "duration": 2065,
    "start_time": "2022-05-07T13:37:37.617Z"
   },
   {
    "duration": 2171,
    "start_time": "2022-05-07T13:48:53.116Z"
   },
   {
    "duration": 29,
    "start_time": "2022-05-07T13:50:03.932Z"
   },
   {
    "duration": 11,
    "start_time": "2022-05-07T13:50:25.497Z"
   },
   {
    "duration": 42,
    "start_time": "2022-05-07T13:52:56.788Z"
   },
   {
    "duration": 63,
    "start_time": "2022-05-07T13:56:00.519Z"
   },
   {
    "duration": 2055,
    "start_time": "2022-05-07T13:57:54.505Z"
   },
   {
    "duration": 1892,
    "start_time": "2022-05-07T13:58:08.035Z"
   },
   {
    "duration": 2015,
    "start_time": "2022-05-07T14:01:07.154Z"
   },
   {
    "duration": 74,
    "start_time": "2022-05-07T14:01:23.762Z"
   },
   {
    "duration": 18,
    "start_time": "2022-05-07T14:02:51.237Z"
   },
   {
    "duration": 163,
    "start_time": "2022-05-07T14:17:56.986Z"
   },
   {
    "duration": 184,
    "start_time": "2022-05-07T14:20:21.495Z"
   },
   {
    "duration": 140,
    "start_time": "2022-05-07T14:20:33.664Z"
   },
   {
    "duration": 902,
    "start_time": "2022-05-07T14:26:19.393Z"
   },
   {
    "duration": 916,
    "start_time": "2022-05-07T14:26:25.807Z"
   },
   {
    "duration": 922,
    "start_time": "2022-05-07T14:26:36.127Z"
   },
   {
    "duration": 44,
    "start_time": "2022-05-07T14:40:37.865Z"
   },
   {
    "duration": 125,
    "start_time": "2022-05-07T14:42:01.905Z"
   },
   {
    "duration": 50,
    "start_time": "2022-05-07T14:42:14.744Z"
   },
   {
    "duration": 33,
    "start_time": "2022-05-07T14:42:58.089Z"
   },
   {
    "duration": 7,
    "start_time": "2022-05-07T14:43:53.602Z"
   },
   {
    "duration": 1121,
    "start_time": "2022-05-07T14:43:54.966Z"
   },
   {
    "duration": 34,
    "start_time": "2022-05-07T14:44:01.676Z"
   },
   {
    "duration": 37,
    "start_time": "2022-05-07T14:47:46.892Z"
   },
   {
    "duration": 43,
    "start_time": "2022-05-07T14:48:14.615Z"
   },
   {
    "duration": 44,
    "start_time": "2022-05-07T14:48:21.023Z"
   },
   {
    "duration": 29,
    "start_time": "2022-05-07T14:53:55.456Z"
   },
   {
    "duration": 31,
    "start_time": "2022-05-07T14:54:12.080Z"
   },
   {
    "duration": 31,
    "start_time": "2022-05-07T14:54:38.130Z"
   },
   {
    "duration": 24,
    "start_time": "2022-05-07T14:55:22.643Z"
   },
   {
    "duration": 30,
    "start_time": "2022-05-07T14:57:00.735Z"
   },
   {
    "duration": 35,
    "start_time": "2022-05-07T14:57:10.875Z"
   },
   {
    "duration": 58,
    "start_time": "2022-05-07T15:00:19.438Z"
   },
   {
    "duration": 21,
    "start_time": "2022-05-07T15:00:26.076Z"
   },
   {
    "duration": 364,
    "start_time": "2022-05-07T15:04:28.560Z"
   },
   {
    "duration": 316,
    "start_time": "2022-05-07T15:05:00.262Z"
   },
   {
    "duration": 35,
    "start_time": "2022-05-07T15:06:38.408Z"
   },
   {
    "duration": 28,
    "start_time": "2022-05-07T15:06:46.542Z"
   },
   {
    "duration": 25,
    "start_time": "2022-05-07T15:07:28.865Z"
   },
   {
    "duration": 19,
    "start_time": "2022-05-07T15:11:49.644Z"
   },
   {
    "duration": 26,
    "start_time": "2022-05-07T15:13:30.206Z"
   },
   {
    "duration": 25,
    "start_time": "2022-05-07T15:13:39.261Z"
   },
   {
    "duration": 57,
    "start_time": "2022-05-07T15:25:00.754Z"
   },
   {
    "duration": 122,
    "start_time": "2022-05-07T15:26:00.274Z"
   },
   {
    "duration": 353,
    "start_time": "2022-05-07T15:26:08.329Z"
   },
   {
    "duration": 299,
    "start_time": "2022-05-07T15:26:29.990Z"
   },
   {
    "duration": 451,
    "start_time": "2022-05-07T15:27:13.158Z"
   },
   {
    "duration": 43,
    "start_time": "2022-05-07T15:27:16.108Z"
   },
   {
    "duration": 19,
    "start_time": "2022-05-07T15:27:18.814Z"
   },
   {
    "duration": 25,
    "start_time": "2022-05-07T15:27:20.777Z"
   },
   {
    "duration": 617,
    "start_time": "2022-05-07T15:27:26.246Z"
   },
   {
    "duration": 469,
    "start_time": "2022-05-07T15:31:21.171Z"
   },
   {
    "duration": 372,
    "start_time": "2022-05-07T15:31:41.250Z"
   },
   {
    "duration": 392,
    "start_time": "2022-05-07T15:35:16.804Z"
   },
   {
    "duration": 374,
    "start_time": "2022-05-07T15:36:04.633Z"
   },
   {
    "duration": 64,
    "start_time": "2022-05-08T17:26:07.127Z"
   },
   {
    "duration": 1410,
    "start_time": "2022-05-08T17:26:23.429Z"
   },
   {
    "duration": 223,
    "start_time": "2022-05-08T17:26:24.841Z"
   },
   {
    "duration": 15,
    "start_time": "2022-05-08T17:26:25.066Z"
   },
   {
    "duration": 28,
    "start_time": "2022-05-08T17:26:25.084Z"
   },
   {
    "duration": 29,
    "start_time": "2022-05-08T17:26:25.114Z"
   },
   {
    "duration": 7,
    "start_time": "2022-05-08T17:26:25.145Z"
   },
   {
    "duration": 17,
    "start_time": "2022-05-08T17:26:25.154Z"
   },
   {
    "duration": 12,
    "start_time": "2022-05-08T17:26:25.172Z"
   },
   {
    "duration": 7,
    "start_time": "2022-05-08T17:26:25.185Z"
   },
   {
    "duration": 211,
    "start_time": "2022-05-08T17:26:25.195Z"
   },
   {
    "duration": 160,
    "start_time": "2022-05-08T17:26:25.408Z"
   },
   {
    "duration": 372,
    "start_time": "2022-05-08T17:26:25.570Z"
   },
   {
    "duration": 897,
    "start_time": "2022-05-08T17:26:25.944Z"
   },
   {
    "duration": 6,
    "start_time": "2022-05-08T17:26:26.843Z"
   },
   {
    "duration": 312,
    "start_time": "2022-05-08T17:26:26.851Z"
   },
   {
    "duration": 324,
    "start_time": "2022-05-08T17:26:27.165Z"
   },
   {
    "duration": 0,
    "start_time": "2022-05-08T17:26:27.491Z"
   },
   {
    "duration": 0,
    "start_time": "2022-05-08T17:26:27.493Z"
   },
   {
    "duration": 0,
    "start_time": "2022-05-08T17:26:27.494Z"
   },
   {
    "duration": 0,
    "start_time": "2022-05-08T17:26:27.495Z"
   },
   {
    "duration": 0,
    "start_time": "2022-05-08T17:26:27.496Z"
   },
   {
    "duration": 0,
    "start_time": "2022-05-08T17:26:27.497Z"
   },
   {
    "duration": 0,
    "start_time": "2022-05-08T17:26:27.498Z"
   },
   {
    "duration": 0,
    "start_time": "2022-05-08T17:26:27.500Z"
   },
   {
    "duration": 0,
    "start_time": "2022-05-08T17:26:27.501Z"
   },
   {
    "duration": 0,
    "start_time": "2022-05-08T17:26:27.502Z"
   },
   {
    "duration": 0,
    "start_time": "2022-05-08T17:26:27.503Z"
   },
   {
    "duration": 0,
    "start_time": "2022-05-08T17:26:27.504Z"
   },
   {
    "duration": 0,
    "start_time": "2022-05-08T17:26:27.505Z"
   },
   {
    "duration": 0,
    "start_time": "2022-05-08T17:26:27.507Z"
   },
   {
    "duration": 289,
    "start_time": "2022-05-08T17:26:40.798Z"
   },
   {
    "duration": 214,
    "start_time": "2022-05-08T17:28:11.600Z"
   },
   {
    "duration": 1206,
    "start_time": "2022-05-08T17:30:07.929Z"
   },
   {
    "duration": 66,
    "start_time": "2022-05-08T17:30:09.137Z"
   },
   {
    "duration": 13,
    "start_time": "2022-05-08T17:30:09.205Z"
   },
   {
    "duration": 14,
    "start_time": "2022-05-08T17:30:09.220Z"
   },
   {
    "duration": 22,
    "start_time": "2022-05-08T17:30:09.236Z"
   },
   {
    "duration": 5,
    "start_time": "2022-05-08T17:30:09.260Z"
   },
   {
    "duration": 17,
    "start_time": "2022-05-08T17:30:09.267Z"
   },
   {
    "duration": 6,
    "start_time": "2022-05-08T17:30:09.286Z"
   },
   {
    "duration": 6,
    "start_time": "2022-05-08T17:30:09.293Z"
   },
   {
    "duration": 223,
    "start_time": "2022-05-08T17:30:09.302Z"
   },
   {
    "duration": 162,
    "start_time": "2022-05-08T17:30:09.526Z"
   },
   {
    "duration": 300,
    "start_time": "2022-05-08T17:30:09.690Z"
   },
   {
    "duration": 918,
    "start_time": "2022-05-08T17:30:09.991Z"
   },
   {
    "duration": 5,
    "start_time": "2022-05-08T17:30:10.911Z"
   },
   {
    "duration": 238,
    "start_time": "2022-05-08T17:30:10.918Z"
   },
   {
    "duration": 227,
    "start_time": "2022-05-08T17:30:11.158Z"
   },
   {
    "duration": 578,
    "start_time": "2022-05-08T17:30:11.387Z"
   },
   {
    "duration": 0,
    "start_time": "2022-05-08T17:30:11.968Z"
   },
   {
    "duration": 0,
    "start_time": "2022-05-08T17:30:11.969Z"
   },
   {
    "duration": 0,
    "start_time": "2022-05-08T17:30:11.970Z"
   },
   {
    "duration": 0,
    "start_time": "2022-05-08T17:30:11.972Z"
   },
   {
    "duration": 0,
    "start_time": "2022-05-08T17:30:11.973Z"
   },
   {
    "duration": 0,
    "start_time": "2022-05-08T17:30:11.975Z"
   },
   {
    "duration": 0,
    "start_time": "2022-05-08T17:30:11.976Z"
   },
   {
    "duration": 0,
    "start_time": "2022-05-08T17:30:11.977Z"
   },
   {
    "duration": 0,
    "start_time": "2022-05-08T17:30:11.979Z"
   },
   {
    "duration": 0,
    "start_time": "2022-05-08T17:30:11.981Z"
   },
   {
    "duration": 1,
    "start_time": "2022-05-08T17:30:11.982Z"
   },
   {
    "duration": 0,
    "start_time": "2022-05-08T17:30:11.984Z"
   },
   {
    "duration": 0,
    "start_time": "2022-05-08T17:30:11.985Z"
   },
   {
    "duration": 375,
    "start_time": "2022-05-08T17:32:36.560Z"
   },
   {
    "duration": 3,
    "start_time": "2022-05-08T17:36:41.446Z"
   },
   {
    "duration": 463,
    "start_time": "2022-05-08T17:36:47.740Z"
   },
   {
    "duration": 439,
    "start_time": "2022-05-08T17:37:04.326Z"
   },
   {
    "duration": 247,
    "start_time": "2022-05-08T17:39:23.060Z"
   },
   {
    "duration": 234,
    "start_time": "2022-05-08T17:41:24.510Z"
   },
   {
    "duration": 446,
    "start_time": "2022-05-08T17:46:16.189Z"
   },
   {
    "duration": 432,
    "start_time": "2022-05-08T17:46:27.554Z"
   },
   {
    "duration": 547,
    "start_time": "2022-05-08T17:48:27.109Z"
   },
   {
    "duration": 439,
    "start_time": "2022-05-08T17:48:40.658Z"
   },
   {
    "duration": 438,
    "start_time": "2022-05-08T17:49:41.109Z"
   },
   {
    "duration": 283,
    "start_time": "2022-05-08T17:51:02.552Z"
   },
   {
    "duration": 462,
    "start_time": "2022-05-08T17:55:50.769Z"
   },
   {
    "duration": 72,
    "start_time": "2022-05-08T18:09:49.819Z"
   },
   {
    "duration": 2648,
    "start_time": "2022-05-08T18:09:55.264Z"
   },
   {
    "duration": 57,
    "start_time": "2022-05-08T18:10:10.895Z"
   },
   {
    "duration": 26,
    "start_time": "2022-05-08T18:10:13.160Z"
   },
   {
    "duration": 684,
    "start_time": "2022-05-08T18:13:52.539Z"
   },
   {
    "duration": 28,
    "start_time": "2022-05-08T18:13:55.444Z"
   },
   {
    "duration": 26,
    "start_time": "2022-05-08T18:16:42.867Z"
   },
   {
    "duration": 287,
    "start_time": "2022-05-08T18:16:49.949Z"
   },
   {
    "duration": 215,
    "start_time": "2022-05-08T18:19:13.902Z"
   },
   {
    "duration": 24,
    "start_time": "2022-05-08T18:19:18.420Z"
   },
   {
    "duration": 14,
    "start_time": "2022-05-08T18:21:59.620Z"
   },
   {
    "duration": 18,
    "start_time": "2022-05-08T18:22:00.382Z"
   },
   {
    "duration": 492,
    "start_time": "2022-05-08T18:34:27.352Z"
   },
   {
    "duration": 237,
    "start_time": "2022-05-08T18:34:39.671Z"
   },
   {
    "duration": 923,
    "start_time": "2022-05-08T18:50:36.049Z"
   },
   {
    "duration": 298,
    "start_time": "2022-05-08T19:55:17.997Z"
   },
   {
    "duration": 425,
    "start_time": "2022-05-08T20:03:40.008Z"
   },
   {
    "duration": 236,
    "start_time": "2022-05-08T20:04:44.786Z"
   },
   {
    "duration": 240,
    "start_time": "2022-05-08T20:08:16.985Z"
   },
   {
    "duration": 387,
    "start_time": "2022-05-08T20:08:55.178Z"
   },
   {
    "duration": 470,
    "start_time": "2022-05-08T20:14:30.390Z"
   },
   {
    "duration": 430,
    "start_time": "2022-05-08T20:14:38.796Z"
   },
   {
    "duration": 439,
    "start_time": "2022-05-08T20:14:52.187Z"
   },
   {
    "duration": 450,
    "start_time": "2022-05-08T20:15:00.167Z"
   },
   {
    "duration": 439,
    "start_time": "2022-05-08T20:15:07.561Z"
   },
   {
    "duration": 434,
    "start_time": "2022-05-08T20:15:17.726Z"
   },
   {
    "duration": 1400,
    "start_time": "2022-05-09T15:19:13.103Z"
   },
   {
    "duration": 67,
    "start_time": "2022-05-09T15:19:15.097Z"
   },
   {
    "duration": 16,
    "start_time": "2022-05-09T15:19:17.564Z"
   },
   {
    "duration": 15,
    "start_time": "2022-05-09T15:19:21.431Z"
   },
   {
    "duration": 21,
    "start_time": "2022-05-09T15:19:23.289Z"
   },
   {
    "duration": 7,
    "start_time": "2022-05-09T15:19:23.942Z"
   },
   {
    "duration": 12,
    "start_time": "2022-05-09T15:19:35.087Z"
   },
   {
    "duration": 5,
    "start_time": "2022-05-09T15:19:39.686Z"
   },
   {
    "duration": 9,
    "start_time": "2022-05-09T15:19:40.303Z"
   },
   {
    "duration": 286,
    "start_time": "2022-05-09T15:19:46.600Z"
   },
   {
    "duration": 349,
    "start_time": "2022-05-09T15:20:10.781Z"
   },
   {
    "duration": 1001,
    "start_time": "2022-05-09T15:21:49.219Z"
   },
   {
    "duration": 108,
    "start_time": "2022-05-09T15:26:25.635Z"
   },
   {
    "duration": 7,
    "start_time": "2022-05-09T15:26:41.770Z"
   },
   {
    "duration": 345,
    "start_time": "2022-05-09T15:26:42.992Z"
   },
   {
    "duration": 250,
    "start_time": "2022-05-09T15:27:20.239Z"
   },
   {
    "duration": 468,
    "start_time": "2022-05-09T15:27:38.213Z"
   },
   {
    "duration": 427,
    "start_time": "2022-05-09T15:28:10.269Z"
   },
   {
    "duration": 289,
    "start_time": "2022-05-09T15:31:16.113Z"
   },
   {
    "duration": 280,
    "start_time": "2022-05-09T15:31:27.832Z"
   },
   {
    "duration": 61,
    "start_time": "2022-05-09T15:31:40.825Z"
   },
   {
    "duration": 45,
    "start_time": "2022-05-09T15:32:04.061Z"
   },
   {
    "duration": 3167,
    "start_time": "2022-05-09T15:32:44.892Z"
   },
   {
    "duration": 232,
    "start_time": "2022-05-09T15:32:51.327Z"
   },
   {
    "duration": 30,
    "start_time": "2022-05-09T15:32:55.616Z"
   },
   {
    "duration": 899,
    "start_time": "2022-05-09T15:32:57.742Z"
   },
   {
    "duration": 33,
    "start_time": "2022-05-09T15:32:59.847Z"
   },
   {
    "duration": 207,
    "start_time": "2022-05-09T15:34:43.495Z"
   },
   {
    "duration": 20,
    "start_time": "2022-05-09T15:34:49.328Z"
   },
   {
    "duration": 16,
    "start_time": "2022-05-09T15:34:55.366Z"
   },
   {
    "duration": 20,
    "start_time": "2022-05-09T15:35:02.447Z"
   },
   {
    "duration": 508,
    "start_time": "2022-05-09T15:37:28.171Z"
   },
   {
    "duration": 492,
    "start_time": "2022-05-09T15:37:40.750Z"
   },
   {
    "duration": 280,
    "start_time": "2022-05-09T15:37:54.778Z"
   },
   {
    "duration": 452,
    "start_time": "2022-05-09T15:38:42.985Z"
   },
   {
    "duration": 373,
    "start_time": "2022-05-09T15:39:44.043Z"
   },
   {
    "duration": 2238,
    "start_time": "2022-05-10T12:44:36.242Z"
   },
   {
    "duration": 123,
    "start_time": "2022-05-10T12:44:38.483Z"
   },
   {
    "duration": 14,
    "start_time": "2022-05-10T12:44:38.609Z"
   },
   {
    "duration": 10,
    "start_time": "2022-05-10T12:44:38.625Z"
   },
   {
    "duration": 33,
    "start_time": "2022-05-10T12:44:38.651Z"
   },
   {
    "duration": 7,
    "start_time": "2022-05-10T12:44:38.686Z"
   },
   {
    "duration": 14,
    "start_time": "2022-05-10T12:44:38.695Z"
   },
   {
    "duration": 6,
    "start_time": "2022-05-10T12:44:38.711Z"
   },
   {
    "duration": 7,
    "start_time": "2022-05-10T12:44:38.718Z"
   },
   {
    "duration": 263,
    "start_time": "2022-05-10T12:44:38.747Z"
   },
   {
    "duration": 199,
    "start_time": "2022-05-10T12:44:39.011Z"
   },
   {
    "duration": 349,
    "start_time": "2022-05-10T12:44:39.212Z"
   },
   {
    "duration": 1074,
    "start_time": "2022-05-10T12:44:39.564Z"
   },
   {
    "duration": 35,
    "start_time": "2022-05-10T12:44:40.640Z"
   },
   {
    "duration": 245,
    "start_time": "2022-05-10T12:44:40.677Z"
   },
   {
    "duration": 252,
    "start_time": "2022-05-10T12:44:40.924Z"
   },
   {
    "duration": 549,
    "start_time": "2022-05-10T12:44:41.178Z"
   },
   {
    "duration": 274,
    "start_time": "2022-05-10T12:44:41.729Z"
   },
   {
    "duration": 88,
    "start_time": "2022-05-10T12:44:42.005Z"
   },
   {
    "duration": 2962,
    "start_time": "2022-05-10T12:44:42.095Z"
   },
   {
    "duration": 59,
    "start_time": "2022-05-10T12:44:45.059Z"
   },
   {
    "duration": 45,
    "start_time": "2022-05-10T12:44:45.119Z"
   },
   {
    "duration": 1715,
    "start_time": "2022-05-10T12:44:45.166Z"
   },
   {
    "duration": 86,
    "start_time": "2022-05-10T12:44:46.882Z"
   },
   {
    "duration": 480,
    "start_time": "2022-05-10T12:44:46.970Z"
   },
   {
    "duration": 23,
    "start_time": "2022-05-10T12:44:47.454Z"
   },
   {
    "duration": 109,
    "start_time": "2022-05-10T12:44:47.482Z"
   },
   {
    "duration": 16,
    "start_time": "2022-05-10T12:44:47.592Z"
   },
   {
    "duration": 698,
    "start_time": "2022-05-10T12:44:47.609Z"
   },
   {
    "duration": 361,
    "start_time": "2022-05-10T12:44:48.309Z"
   },
   {
    "duration": 1675,
    "start_time": "2022-05-11T10:36:24.993Z"
   },
   {
    "duration": 87,
    "start_time": "2022-05-11T10:36:26.671Z"
   },
   {
    "duration": 20,
    "start_time": "2022-05-11T10:36:26.760Z"
   },
   {
    "duration": 16,
    "start_time": "2022-05-11T10:36:28.501Z"
   },
   {
    "duration": 26,
    "start_time": "2022-05-11T10:36:29.697Z"
   },
   {
    "duration": 150,
    "start_time": "2022-05-11T10:36:31.510Z"
   },
   {
    "duration": 6,
    "start_time": "2022-05-11T10:36:50.971Z"
   },
   {
    "duration": 20,
    "start_time": "2022-05-11T10:37:03.126Z"
   },
   {
    "duration": 24,
    "start_time": "2022-05-11T10:37:25.126Z"
   },
   {
    "duration": 14,
    "start_time": "2022-05-11T10:46:20.247Z"
   },
   {
    "duration": 15,
    "start_time": "2022-05-11T10:46:38.428Z"
   },
   {
    "duration": 5,
    "start_time": "2022-05-11T10:46:43.437Z"
   },
   {
    "duration": 72,
    "start_time": "2022-05-11T10:46:44.070Z"
   },
   {
    "duration": 18,
    "start_time": "2022-05-11T10:46:44.535Z"
   },
   {
    "duration": 15,
    "start_time": "2022-05-11T10:46:46.129Z"
   },
   {
    "duration": 27,
    "start_time": "2022-05-11T10:46:47.162Z"
   },
   {
    "duration": 25,
    "start_time": "2022-05-11T10:46:48.242Z"
   },
   {
    "duration": 9,
    "start_time": "2022-05-11T10:46:49.959Z"
   },
   {
    "duration": 17,
    "start_time": "2022-05-11T10:46:50.669Z"
   },
   {
    "duration": 7,
    "start_time": "2022-05-11T10:46:51.716Z"
   },
   {
    "duration": 8,
    "start_time": "2022-05-11T10:46:52.759Z"
   },
   {
    "duration": 14,
    "start_time": "2022-05-11T10:46:58.865Z"
   },
   {
    "duration": 15,
    "start_time": "2022-05-11T10:47:36.886Z"
   },
   {
    "duration": 17,
    "start_time": "2022-05-11T10:47:51.719Z"
   },
   {
    "duration": 28,
    "start_time": "2022-05-11T10:50:49.711Z"
   },
   {
    "duration": 17,
    "start_time": "2022-05-11T10:51:30.045Z"
   },
   {
    "duration": 9,
    "start_time": "2022-05-11T10:52:00.153Z"
   },
   {
    "duration": 5,
    "start_time": "2022-05-11T10:52:42.907Z"
   },
   {
    "duration": 76,
    "start_time": "2022-05-11T10:52:43.439Z"
   },
   {
    "duration": 21,
    "start_time": "2022-05-11T10:52:44.037Z"
   },
   {
    "duration": 12,
    "start_time": "2022-05-11T10:52:45.908Z"
   },
   {
    "duration": 27,
    "start_time": "2022-05-11T10:52:46.978Z"
   },
   {
    "duration": 25,
    "start_time": "2022-05-11T10:52:48.282Z"
   },
   {
    "duration": 9,
    "start_time": "2022-05-11T10:52:49.804Z"
   },
   {
    "duration": 17,
    "start_time": "2022-05-11T10:52:50.535Z"
   },
   {
    "duration": 6,
    "start_time": "2022-05-11T10:52:53.948Z"
   },
   {
    "duration": 7,
    "start_time": "2022-05-11T10:52:55.864Z"
   },
   {
    "duration": 18,
    "start_time": "2022-05-11T10:53:02.516Z"
   },
   {
    "duration": 29,
    "start_time": "2022-05-11T10:53:11.458Z"
   },
   {
    "duration": 27,
    "start_time": "2022-05-11T10:53:35.854Z"
   },
   {
    "duration": 28,
    "start_time": "2022-05-11T10:53:55.400Z"
   },
   {
    "duration": 14,
    "start_time": "2022-05-11T10:54:07.623Z"
   },
   {
    "duration": 24,
    "start_time": "2022-05-11T10:54:35.864Z"
   },
   {
    "duration": 25,
    "start_time": "2022-05-11T10:58:10.975Z"
   },
   {
    "duration": 34,
    "start_time": "2022-05-11T10:59:24.545Z"
   },
   {
    "duration": 33,
    "start_time": "2022-05-11T10:59:39.931Z"
   },
   {
    "duration": 121,
    "start_time": "2022-05-11T11:29:32.838Z"
   },
   {
    "duration": 31,
    "start_time": "2022-05-11T11:33:32.450Z"
   },
   {
    "duration": 21,
    "start_time": "2022-05-11T11:34:38.714Z"
   },
   {
    "duration": 27,
    "start_time": "2022-05-11T11:34:53.114Z"
   },
   {
    "duration": 31,
    "start_time": "2022-05-11T11:44:09.516Z"
   },
   {
    "duration": 32,
    "start_time": "2022-05-11T11:44:41.226Z"
   },
   {
    "duration": 25,
    "start_time": "2022-05-11T11:45:34.984Z"
   },
   {
    "duration": 35,
    "start_time": "2022-05-11T11:46:34.816Z"
   },
   {
    "duration": 32,
    "start_time": "2022-05-11T11:47:16.802Z"
   },
   {
    "duration": 35,
    "start_time": "2022-05-11T11:48:11.414Z"
   },
   {
    "duration": 22,
    "start_time": "2022-05-11T11:49:45.979Z"
   },
   {
    "duration": 36,
    "start_time": "2022-05-11T11:49:50.521Z"
   },
   {
    "duration": 29,
    "start_time": "2022-05-11T11:50:04.150Z"
   },
   {
    "duration": 61,
    "start_time": "2022-05-11T11:51:23.252Z"
   },
   {
    "duration": 45,
    "start_time": "2022-05-11T11:52:13.321Z"
   },
   {
    "duration": 1820,
    "start_time": "2022-05-11T11:57:04.937Z"
   },
   {
    "duration": 5,
    "start_time": "2022-05-11T11:57:28.531Z"
   },
   {
    "duration": 87,
    "start_time": "2022-05-11T11:57:28.800Z"
   },
   {
    "duration": 25,
    "start_time": "2022-05-11T11:57:28.993Z"
   },
   {
    "duration": 15,
    "start_time": "2022-05-11T11:57:29.762Z"
   },
   {
    "duration": 28,
    "start_time": "2022-05-11T11:57:30.707Z"
   },
   {
    "duration": 24,
    "start_time": "2022-05-11T11:57:31.585Z"
   },
   {
    "duration": 7,
    "start_time": "2022-05-11T11:57:32.122Z"
   },
   {
    "duration": 15,
    "start_time": "2022-05-11T11:57:32.797Z"
   },
   {
    "duration": 7,
    "start_time": "2022-05-11T11:57:33.345Z"
   },
   {
    "duration": 8,
    "start_time": "2022-05-11T11:57:33.976Z"
   },
   {
    "duration": 15,
    "start_time": "2022-05-11T11:57:36.636Z"
   },
   {
    "duration": 26,
    "start_time": "2022-05-11T11:57:37.450Z"
   },
   {
    "duration": 1732,
    "start_time": "2022-05-11T11:57:38.953Z"
   },
   {
    "duration": 9,
    "start_time": "2022-05-11T11:58:07.662Z"
   },
   {
    "duration": 13,
    "start_time": "2022-05-11T11:59:48.059Z"
   },
   {
    "duration": 7,
    "start_time": "2022-05-11T12:01:13.316Z"
   },
   {
    "duration": 302,
    "start_time": "2022-05-11T12:09:13.780Z"
   },
   {
    "duration": 241,
    "start_time": "2022-05-11T12:09:14.742Z"
   },
   {
    "duration": 435,
    "start_time": "2022-05-11T12:09:17.592Z"
   },
   {
    "duration": 1511,
    "start_time": "2022-05-11T12:09:21.812Z"
   },
   {
    "duration": 30,
    "start_time": "2022-05-11T12:12:58.540Z"
   },
   {
    "duration": 27,
    "start_time": "2022-05-11T12:17:56.399Z"
   },
   {
    "duration": 21,
    "start_time": "2022-05-11T12:19:05.410Z"
   },
   {
    "duration": 1930,
    "start_time": "2022-05-11T12:19:45.761Z"
   },
   {
    "duration": 20,
    "start_time": "2022-05-11T12:19:54.066Z"
   },
   {
    "duration": 10,
    "start_time": "2022-05-11T12:20:44.916Z"
   },
   {
    "duration": 30,
    "start_time": "2022-05-11T12:22:00.963Z"
   },
   {
    "duration": 23,
    "start_time": "2022-05-11T12:22:09.171Z"
   },
   {
    "duration": 1511,
    "start_time": "2022-05-11T12:26:01.141Z"
   },
   {
    "duration": 574,
    "start_time": "2022-05-11T12:26:51.616Z"
   },
   {
    "duration": 484,
    "start_time": "2022-05-11T12:28:19.942Z"
   },
   {
    "duration": 10,
    "start_time": "2022-05-11T13:03:37.441Z"
   },
   {
    "duration": 1487,
    "start_time": "2022-05-11T13:03:46.414Z"
   },
   {
    "duration": 82,
    "start_time": "2022-05-11T13:03:47.903Z"
   },
   {
    "duration": 19,
    "start_time": "2022-05-11T13:03:47.987Z"
   },
   {
    "duration": 16,
    "start_time": "2022-05-11T13:03:48.009Z"
   },
   {
    "duration": 48,
    "start_time": "2022-05-11T13:03:48.027Z"
   },
   {
    "duration": 24,
    "start_time": "2022-05-11T13:03:48.077Z"
   },
   {
    "duration": 12,
    "start_time": "2022-05-11T13:03:48.104Z"
   },
   {
    "duration": 40,
    "start_time": "2022-05-11T13:03:48.119Z"
   },
   {
    "duration": 30,
    "start_time": "2022-05-11T13:03:48.162Z"
   },
   {
    "duration": 19,
    "start_time": "2022-05-11T13:03:48.196Z"
   },
   {
    "duration": 31,
    "start_time": "2022-05-11T13:03:48.217Z"
   },
   {
    "duration": 30,
    "start_time": "2022-05-11T13:03:48.250Z"
   },
   {
    "duration": 13,
    "start_time": "2022-05-11T13:03:48.283Z"
   },
   {
    "duration": 28,
    "start_time": "2022-05-11T13:03:48.299Z"
   },
   {
    "duration": 301,
    "start_time": "2022-05-11T13:03:48.330Z"
   },
   {
    "duration": 235,
    "start_time": "2022-05-11T13:03:48.633Z"
   },
   {
    "duration": 390,
    "start_time": "2022-05-11T13:03:48.871Z"
   },
   {
    "duration": 1521,
    "start_time": "2022-05-11T13:03:49.264Z"
   },
   {
    "duration": 24,
    "start_time": "2022-05-11T13:03:50.787Z"
   },
   {
    "duration": 482,
    "start_time": "2022-05-11T13:03:50.813Z"
   },
   {
    "duration": 7,
    "start_time": "2022-05-11T13:03:51.297Z"
   },
   {
    "duration": 367,
    "start_time": "2022-05-11T13:03:51.307Z"
   },
   {
    "duration": 519,
    "start_time": "2022-05-11T13:03:51.677Z"
   },
   {
    "duration": 822,
    "start_time": "2022-05-11T13:03:52.199Z"
   },
   {
    "duration": 428,
    "start_time": "2022-05-11T13:03:53.024Z"
   },
   {
    "duration": 62,
    "start_time": "2022-05-11T13:03:53.454Z"
   },
   {
    "duration": 2701,
    "start_time": "2022-05-11T13:03:53.519Z"
   },
   {
    "duration": 76,
    "start_time": "2022-05-11T13:03:56.226Z"
   },
   {
    "duration": 30,
    "start_time": "2022-05-11T13:03:56.305Z"
   },
   {
    "duration": 977,
    "start_time": "2022-05-11T13:03:56.353Z"
   },
   {
    "duration": 44,
    "start_time": "2022-05-11T13:03:57.332Z"
   },
   {
    "duration": 349,
    "start_time": "2022-05-11T13:03:57.378Z"
   },
   {
    "duration": 22,
    "start_time": "2022-05-11T13:03:57.729Z"
   },
   {
    "duration": 25,
    "start_time": "2022-05-11T13:03:57.754Z"
   },
   {
    "duration": 17,
    "start_time": "2022-05-11T13:03:57.781Z"
   },
   {
    "duration": 57,
    "start_time": "2022-05-11T13:03:57.801Z"
   },
   {
    "duration": 733,
    "start_time": "2022-05-11T13:03:57.860Z"
   },
   {
    "duration": 402,
    "start_time": "2022-05-11T13:03:58.595Z"
   },
   {
    "duration": 16,
    "start_time": "2022-05-11T13:17:06.664Z"
   },
   {
    "duration": 17,
    "start_time": "2022-05-11T13:17:11.236Z"
   },
   {
    "duration": 12,
    "start_time": "2022-05-11T13:35:30.099Z"
   },
   {
    "duration": 60,
    "start_time": "2022-05-11T13:35:39.014Z"
   },
   {
    "duration": 10,
    "start_time": "2022-05-11T13:36:00.969Z"
   },
   {
    "duration": 11,
    "start_time": "2022-05-11T13:36:12.786Z"
   },
   {
    "duration": 10,
    "start_time": "2022-05-11T13:37:41.720Z"
   },
   {
    "duration": 20,
    "start_time": "2022-05-11T13:37:41.734Z"
   },
   {
    "duration": 333,
    "start_time": "2022-05-11T13:37:41.756Z"
   },
   {
    "duration": 6,
    "start_time": "2022-05-11T13:40:31.309Z"
   },
   {
    "duration": 9,
    "start_time": "2022-05-11T13:46:23.794Z"
   },
   {
    "duration": 661,
    "start_time": "2022-05-11T13:48:00.861Z"
   },
   {
    "duration": 226,
    "start_time": "2022-05-11T13:48:36.970Z"
   },
   {
    "duration": 1517,
    "start_time": "2022-05-11T13:56:24.360Z"
   },
   {
    "duration": 80,
    "start_time": "2022-05-11T13:56:25.879Z"
   },
   {
    "duration": 19,
    "start_time": "2022-05-11T13:56:25.962Z"
   },
   {
    "duration": 14,
    "start_time": "2022-05-11T13:56:25.984Z"
   },
   {
    "duration": 55,
    "start_time": "2022-05-11T13:56:26.000Z"
   },
   {
    "duration": 22,
    "start_time": "2022-05-11T13:56:26.057Z"
   },
   {
    "duration": 7,
    "start_time": "2022-05-11T13:56:26.081Z"
   },
   {
    "duration": 17,
    "start_time": "2022-05-11T13:56:26.090Z"
   },
   {
    "duration": 6,
    "start_time": "2022-05-11T13:56:26.109Z"
   },
   {
    "duration": 8,
    "start_time": "2022-05-11T13:56:26.154Z"
   },
   {
    "duration": 16,
    "start_time": "2022-05-11T13:56:26.164Z"
   },
   {
    "duration": 30,
    "start_time": "2022-05-11T13:56:26.182Z"
   },
   {
    "duration": 40,
    "start_time": "2022-05-11T13:56:26.214Z"
   },
   {
    "duration": 7,
    "start_time": "2022-05-11T13:56:26.256Z"
   },
   {
    "duration": 290,
    "start_time": "2022-05-11T13:56:26.265Z"
   },
   {
    "duration": 336,
    "start_time": "2022-05-11T13:56:26.557Z"
   },
   {
    "duration": 373,
    "start_time": "2022-05-11T13:56:26.895Z"
   },
   {
    "duration": 1364,
    "start_time": "2022-05-11T13:56:27.270Z"
   },
   {
    "duration": 33,
    "start_time": "2022-05-11T13:56:28.637Z"
   },
   {
    "duration": 495,
    "start_time": "2022-05-11T13:56:28.673Z"
   },
   {
    "duration": 6,
    "start_time": "2022-05-11T13:56:29.171Z"
   },
   {
    "duration": 353,
    "start_time": "2022-05-11T13:56:29.180Z"
   },
   {
    "duration": 494,
    "start_time": "2022-05-11T13:56:29.535Z"
   },
   {
    "duration": 688,
    "start_time": "2022-05-11T13:56:30.032Z"
   },
   {
    "duration": 439,
    "start_time": "2022-05-11T13:56:30.723Z"
   },
   {
    "duration": 61,
    "start_time": "2022-05-11T13:56:31.164Z"
   },
   {
    "duration": 2807,
    "start_time": "2022-05-11T13:56:31.227Z"
   },
   {
    "duration": 74,
    "start_time": "2022-05-11T13:56:34.039Z"
   },
   {
    "duration": 45,
    "start_time": "2022-05-11T13:56:34.115Z"
   },
   {
    "duration": 903,
    "start_time": "2022-05-11T13:56:34.162Z"
   },
   {
    "duration": 39,
    "start_time": "2022-05-11T13:56:35.067Z"
   },
   {
    "duration": 43,
    "start_time": "2022-05-11T13:56:35.109Z"
   },
   {
    "duration": 11,
    "start_time": "2022-05-11T13:56:35.154Z"
   },
   {
    "duration": 17,
    "start_time": "2022-05-11T13:56:35.168Z"
   },
   {
    "duration": 332,
    "start_time": "2022-05-11T13:56:35.187Z"
   },
   {
    "duration": 40,
    "start_time": "2022-05-11T13:56:35.522Z"
   },
   {
    "duration": 21,
    "start_time": "2022-05-11T13:56:35.565Z"
   },
   {
    "duration": 25,
    "start_time": "2022-05-11T13:56:35.589Z"
   },
   {
    "duration": 8,
    "start_time": "2022-05-11T13:56:35.652Z"
   },
   {
    "duration": 750,
    "start_time": "2022-05-11T13:56:35.663Z"
   },
   {
    "duration": 399,
    "start_time": "2022-05-11T13:56:36.416Z"
   },
   {
    "duration": 228,
    "start_time": "2022-05-11T13:56:36.817Z"
   },
   {
    "duration": 50,
    "start_time": "2022-05-12T11:48:13.150Z"
   },
   {
    "duration": 1339,
    "start_time": "2022-05-12T11:48:22.329Z"
   },
   {
    "duration": 89,
    "start_time": "2022-05-12T11:48:27.044Z"
   },
   {
    "duration": 13,
    "start_time": "2022-05-12T11:48:28.693Z"
   },
   {
    "duration": 13,
    "start_time": "2022-05-12T11:48:32.042Z"
   },
   {
    "duration": 18,
    "start_time": "2022-05-12T11:48:35.036Z"
   },
   {
    "duration": 18,
    "start_time": "2022-05-12T11:48:41.236Z"
   },
   {
    "duration": 9,
    "start_time": "2022-05-12T11:48:46.646Z"
   },
   {
    "duration": 12,
    "start_time": "2022-05-12T11:48:48.972Z"
   },
   {
    "duration": 7,
    "start_time": "2022-05-12T11:48:49.635Z"
   },
   {
    "duration": 5,
    "start_time": "2022-05-12T11:48:50.511Z"
   },
   {
    "duration": 18,
    "start_time": "2022-05-12T11:48:58.796Z"
   },
   {
    "duration": 17,
    "start_time": "2022-05-12T11:48:59.362Z"
   },
   {
    "duration": 15,
    "start_time": "2022-05-12T11:49:04.242Z"
   },
   {
    "duration": 8,
    "start_time": "2022-05-12T11:49:12.871Z"
   },
   {
    "duration": 6,
    "start_time": "2022-05-12T11:49:16.221Z"
   },
   {
    "duration": 171,
    "start_time": "2022-05-12T11:50:58.892Z"
   },
   {
    "duration": 142,
    "start_time": "2022-05-12T11:51:14.197Z"
   },
   {
    "duration": 354,
    "start_time": "2022-05-12T11:51:19.900Z"
   },
   {
    "duration": 915,
    "start_time": "2022-05-12T11:51:24.160Z"
   },
   {
    "duration": 16,
    "start_time": "2022-05-12T11:51:29.693Z"
   },
   {
    "duration": 369,
    "start_time": "2022-05-12T11:51:31.030Z"
   },
   {
    "duration": 5,
    "start_time": "2022-05-12T11:51:38.397Z"
   },
   {
    "duration": 214,
    "start_time": "2022-05-12T11:51:39.240Z"
   },
   {
    "duration": 322,
    "start_time": "2022-05-12T11:51:40.621Z"
   },
   {
    "duration": 425,
    "start_time": "2022-05-12T11:51:45.942Z"
   },
   {
    "duration": 234,
    "start_time": "2022-05-12T11:51:49.054Z"
   }
  ],
  "kernelspec": {
   "display_name": "Python 3 (ipykernel)",
   "language": "python",
   "name": "python3"
  },
  "language_info": {
   "codemirror_mode": {
    "name": "ipython",
    "version": 3
   },
   "file_extension": ".py",
   "mimetype": "text/x-python",
   "name": "python",
   "nbconvert_exporter": "python",
   "pygments_lexer": "ipython3",
   "version": "3.9.7"
  },
  "toc": {
   "base_numbering": 1,
   "nav_menu": {},
   "number_sections": true,
   "sideBar": true,
   "skip_h1_title": true,
   "title_cell": "Table of Contents",
   "title_sidebar": "Contents",
   "toc_cell": false,
   "toc_position": {},
   "toc_section_display": true,
   "toc_window_display": false
  }
 },
 "nbformat": 4,
 "nbformat_minor": 2
}
