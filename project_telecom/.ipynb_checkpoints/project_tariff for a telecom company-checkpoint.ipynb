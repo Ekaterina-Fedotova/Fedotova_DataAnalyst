{
 "cells": [
  {
   "cell_type": "markdown",
   "metadata": {
    "id": "dpUwPUIuhucM"
   },
   "source": [
    "# Определение перспективного тарифа для телеком-компании\n",
    "Необходимо проанализировать данные небольшой выборки клиентов мобильной сети \"Мегалайт\" за 2018 год для скоррекции рекламного бюджета. Коммерческий департамент хочет понять, какой тариф приносит больше денег. "
   ]
  },
  {
   "cell_type": "markdown",
   "metadata": {
    "id": "VnHEa2nKdShc"
   },
   "source": [
    "**Описание тарифов**\n",
    "\n",
    "*Тариф «Смарт»*\n",
    "\n",
    "1.   Ежемесячная плата: 550 рублей\n",
    "2.   Включено 500 минут разговора, 50 сообщений и 15 Гб интернет-трафика\n",
    "3.   Стоимость услуг сверх тарифного пакета:\n",
    "*   минута разговора: 3 рубля\n",
    "*   сообщение: 3 рубля\n",
    "*   1 Гб интернет-трафика: 200 рублей\n",
    "\n",
    "*Тариф «Ультра»*\n",
    "\n",
    "1.   Ежемесячная плата: 1950 рублей\n",
    "2.   Включено 3000 минут разговора, 1000 сообщений, 30 Гб интернет-трафика\n",
    "3.   Стоимость услуг сверх тарифного пакета:\n",
    "*   минута разговора: 1 рубль\n",
    "*   сообщение: 1 рубль\n",
    "*   1 Гб интернет-трафика: 150 рублей\n",
    "\n",
    "**Примечание:**\n",
    "\n",
    "«Мегалайн» всегда округляет секунды до минут, а мегабайты — до гигабайт. Каждый звонок округляется отдельно: даже если он длился всего 1 секунду, будет засчитан как 1 минута.\n",
    "\n",
    "Для веб-трафика отдельные сессии не считаются. Вместо этого общая сумма за месяц округляется в бо́льшую сторону. Если абонент использует 1025 мегабайт в этом месяце, с него возьмут плату за 2 гигабайта."
   ]
  },
  {
   "cell_type": "markdown",
   "metadata": {
    "id": "HkT8NIgLwb6N"
   },
   "source": [
    "## Описание данных\n",
    "\n",
    "Таблица `users` (информация о пользователях):\n",
    "\n",
    "* `user_id` — уникальный идентификатор пользователя\n",
    "* `first_name` — имя пользователя\n",
    "* `last_name` — фамилия пользователя\n",
    "* `age` — возраст пользователя (годы)\n",
    "* `reg_date` — дата подключения тарифа (день, месяц, год)\n",
    "* `churn_date` — дата прекращения пользования тарифом (если значение пропущено, то тариф ещё действовал на момент выгрузки данных)\n",
    "* `city` — город проживания пользователя\n",
    "* `tarif` — название тарифного плана\n",
    "\n",
    "Таблица `calls` (информация о звонках):\n",
    "\n",
    "* `id` — уникальный номер звонка\n",
    "* `call_date` — дата звонка\n",
    "* `duration` — длительность звонка в минутах\n",
    "* `user_id` — идентификатор пользователя, сделавшего звонок\n",
    "\n",
    "Таблица `messages` (информация о сообщениях):\n",
    "\n",
    "* `id` — уникальный номер сообщения\n",
    "* `message_date` — дата сообщения\n",
    "* `user_id` — идентификатор пользователя, отправившего сообщение\n",
    "\n",
    "Таблица `internet` (информация об интернет-сессиях):\n",
    "\n",
    "* `id` — уникальный номер сессии\n",
    "* `mb_used` — объём потраченного за сессию интернет-трафика (в мегабайтах)\n",
    "* `session_date` — дата интернет-сессии\n",
    "* `user_id` — идентификатор пользователя\n",
    "\n",
    "Таблица `tariffs` (информация о тарифах):\n",
    "\n",
    "* `tariff_name` — название тарифа\n",
    "* `rub_monthly_fee` — ежемесячная абонентская плата в рублях\n",
    "* `minutes_included` — количество минут разговора в месяц, включённых в абонентскую плату\n",
    "* `messages_included` — количество сообщений в месяц, включённых в абонентскую плату\n",
    "* `mb_per_month_included` — объём интернет-трафика, включённого в абонентскую плату (в мегабайтах)\n",
    "* `rub_per_minute` — стоимость минуты разговора сверх тарифного пакета (например, если в тарифе 100 минут разговора в месяц, то со 101 минуты будет взиматься плата)\n",
    "* `rub_per_message` — стоимость отправки сообщения сверх тарифного пакета\n",
    "* `rub_per_gb` — стоимость дополнительного гигабайта интернет-трафика сверх тарифного пакета (1 гигабайт = 1024 мегабайта)\n"
   ]
  },
  {
   "cell_type": "markdown",
   "metadata": {
    "id": "LArESw_ai_ir"
   },
   "source": [
    "## Загружаем данные"
   ]
  },
  {
   "cell_type": "code",
   "execution_count": 88,
   "metadata": {
    "id": "7OsGBI1RjIp_"
   },
   "outputs": [],
   "source": [
    "# импортируем бибилиотеки\n",
    "import pandas as pd\n",
    "import numpy as np"
   ]
  },
  {
   "cell_type": "code",
   "execution_count": 89,
   "metadata": {
    "id": "TGdwonKpjoED"
   },
   "outputs": [],
   "source": [
    "# чтение данных\n",
    "try:\n",
    "    df_calls = pd.read_csv('calls.csv')\n",
    "    df_internet = pd.read_csv('internet.csv', index_col='Unnamed: 0')\n",
    "    df_messages = pd.read_csv('messages.csv')\n",
    "    df_tariffs = pd.read_csv('tariffs.csv')\n",
    "    df_users = pd.read_csv('users.csv')\n",
    "except:\n",
    "    df_calls = pd.read_csv('/datasets/calls.csv')\n",
    "    df_internet = pd.read_csv('/datasets/internet.csv', index_col='Unnamed: 0')\n",
    "    df_messages = pd.read_csv('/datasets/messages.csv')\n",
    "    df_tariffs = pd.read_csv('/datasets/tariffs.csv')\n",
    "    df_users = pd.read_csv('/datasets/users.csv')"
   ]
  },
  {
   "cell_type": "code",
   "execution_count": 101,
   "metadata": {
    "colab": {
     "base_uri": "https://localhost:8080/",
     "height": 206
    },
    "id": "k-vFEogynnWQ",
    "outputId": "394d905a-0f09-4a73-d34b-b534397a7cdb"
   },
   "outputs": [
    {
     "data": {
      "text/html": [
       "<div>\n",
       "<style scoped>\n",
       "    .dataframe tbody tr th:only-of-type {\n",
       "        vertical-align: middle;\n",
       "    }\n",
       "\n",
       "    .dataframe tbody tr th {\n",
       "        vertical-align: top;\n",
       "    }\n",
       "\n",
       "    .dataframe thead th {\n",
       "        text-align: right;\n",
       "    }\n",
       "</style>\n",
       "<table border=\"1\" class=\"dataframe\">\n",
       "  <thead>\n",
       "    <tr style=\"text-align: right;\">\n",
       "      <th></th>\n",
       "      <th>id</th>\n",
       "      <th>call_date</th>\n",
       "      <th>duration</th>\n",
       "      <th>user_id</th>\n",
       "    </tr>\n",
       "  </thead>\n",
       "  <tbody>\n",
       "    <tr>\n",
       "      <th>0</th>\n",
       "      <td>1000_0</td>\n",
       "      <td>2018-07-25</td>\n",
       "      <td>0.00</td>\n",
       "      <td>1000</td>\n",
       "    </tr>\n",
       "    <tr>\n",
       "      <th>1</th>\n",
       "      <td>1000_1</td>\n",
       "      <td>2018-08-17</td>\n",
       "      <td>0.00</td>\n",
       "      <td>1000</td>\n",
       "    </tr>\n",
       "    <tr>\n",
       "      <th>2</th>\n",
       "      <td>1000_2</td>\n",
       "      <td>2018-06-11</td>\n",
       "      <td>2.85</td>\n",
       "      <td>1000</td>\n",
       "    </tr>\n",
       "    <tr>\n",
       "      <th>3</th>\n",
       "      <td>1000_3</td>\n",
       "      <td>2018-09-21</td>\n",
       "      <td>13.80</td>\n",
       "      <td>1000</td>\n",
       "    </tr>\n",
       "    <tr>\n",
       "      <th>4</th>\n",
       "      <td>1000_4</td>\n",
       "      <td>2018-12-15</td>\n",
       "      <td>5.18</td>\n",
       "      <td>1000</td>\n",
       "    </tr>\n",
       "  </tbody>\n",
       "</table>\n",
       "</div>"
      ],
      "text/plain": [
       "       id   call_date  duration  user_id\n",
       "0  1000_0  2018-07-25      0.00     1000\n",
       "1  1000_1  2018-08-17      0.00     1000\n",
       "2  1000_2  2018-06-11      2.85     1000\n",
       "3  1000_3  2018-09-21     13.80     1000\n",
       "4  1000_4  2018-12-15      5.18     1000"
      ]
     },
     "execution_count": 101,
     "metadata": {},
     "output_type": "execute_result"
    }
   ],
   "source": [
    "# посмотрим первые строчки таблицы звонков\n",
    "df_calls.head()"
   ]
  },
  {
   "cell_type": "code",
   "execution_count": 102,
   "metadata": {
    "colab": {
     "base_uri": "https://localhost:8080/",
     "height": 206
    },
    "id": "HUYr7BhjsfFd",
    "outputId": "c668b1c6-dd46-449c-d488-1e3c31f16da9"
   },
   "outputs": [
    {
     "data": {
      "text/html": [
       "<div>\n",
       "<style scoped>\n",
       "    .dataframe tbody tr th:only-of-type {\n",
       "        vertical-align: middle;\n",
       "    }\n",
       "\n",
       "    .dataframe tbody tr th {\n",
       "        vertical-align: top;\n",
       "    }\n",
       "\n",
       "    .dataframe thead th {\n",
       "        text-align: right;\n",
       "    }\n",
       "</style>\n",
       "<table border=\"1\" class=\"dataframe\">\n",
       "  <thead>\n",
       "    <tr style=\"text-align: right;\">\n",
       "      <th></th>\n",
       "      <th>id</th>\n",
       "      <th>mb_used</th>\n",
       "      <th>session_date</th>\n",
       "      <th>user_id</th>\n",
       "    </tr>\n",
       "  </thead>\n",
       "  <tbody>\n",
       "    <tr>\n",
       "      <th>0</th>\n",
       "      <td>1000_0</td>\n",
       "      <td>112.95</td>\n",
       "      <td>2018-11-25</td>\n",
       "      <td>1000</td>\n",
       "    </tr>\n",
       "    <tr>\n",
       "      <th>1</th>\n",
       "      <td>1000_1</td>\n",
       "      <td>1052.81</td>\n",
       "      <td>2018-09-07</td>\n",
       "      <td>1000</td>\n",
       "    </tr>\n",
       "    <tr>\n",
       "      <th>2</th>\n",
       "      <td>1000_2</td>\n",
       "      <td>1197.26</td>\n",
       "      <td>2018-06-25</td>\n",
       "      <td>1000</td>\n",
       "    </tr>\n",
       "    <tr>\n",
       "      <th>3</th>\n",
       "      <td>1000_3</td>\n",
       "      <td>550.27</td>\n",
       "      <td>2018-08-22</td>\n",
       "      <td>1000</td>\n",
       "    </tr>\n",
       "    <tr>\n",
       "      <th>4</th>\n",
       "      <td>1000_4</td>\n",
       "      <td>302.56</td>\n",
       "      <td>2018-09-24</td>\n",
       "      <td>1000</td>\n",
       "    </tr>\n",
       "  </tbody>\n",
       "</table>\n",
       "</div>"
      ],
      "text/plain": [
       "       id  mb_used session_date  user_id\n",
       "0  1000_0   112.95   2018-11-25     1000\n",
       "1  1000_1  1052.81   2018-09-07     1000\n",
       "2  1000_2  1197.26   2018-06-25     1000\n",
       "3  1000_3   550.27   2018-08-22     1000\n",
       "4  1000_4   302.56   2018-09-24     1000"
      ]
     },
     "execution_count": 102,
     "metadata": {},
     "output_type": "execute_result"
    }
   ],
   "source": [
    "# посмотрим первые строчки таблицы интернет трафика\n",
    "df_internet.head()"
   ]
  },
  {
   "cell_type": "code",
   "execution_count": 103,
   "metadata": {
    "colab": {
     "base_uri": "https://localhost:8080/",
     "height": 206
    },
    "id": "QqevErRiv0ei",
    "outputId": "7b8709e0-543a-4798-998d-e9d5a2b05000"
   },
   "outputs": [
    {
     "data": {
      "text/html": [
       "<div>\n",
       "<style scoped>\n",
       "    .dataframe tbody tr th:only-of-type {\n",
       "        vertical-align: middle;\n",
       "    }\n",
       "\n",
       "    .dataframe tbody tr th {\n",
       "        vertical-align: top;\n",
       "    }\n",
       "\n",
       "    .dataframe thead th {\n",
       "        text-align: right;\n",
       "    }\n",
       "</style>\n",
       "<table border=\"1\" class=\"dataframe\">\n",
       "  <thead>\n",
       "    <tr style=\"text-align: right;\">\n",
       "      <th></th>\n",
       "      <th>id</th>\n",
       "      <th>message_date</th>\n",
       "      <th>user_id</th>\n",
       "    </tr>\n",
       "  </thead>\n",
       "  <tbody>\n",
       "    <tr>\n",
       "      <th>0</th>\n",
       "      <td>1000_0</td>\n",
       "      <td>2018-06-27</td>\n",
       "      <td>1000</td>\n",
       "    </tr>\n",
       "    <tr>\n",
       "      <th>1</th>\n",
       "      <td>1000_1</td>\n",
       "      <td>2018-10-08</td>\n",
       "      <td>1000</td>\n",
       "    </tr>\n",
       "    <tr>\n",
       "      <th>2</th>\n",
       "      <td>1000_2</td>\n",
       "      <td>2018-08-04</td>\n",
       "      <td>1000</td>\n",
       "    </tr>\n",
       "    <tr>\n",
       "      <th>3</th>\n",
       "      <td>1000_3</td>\n",
       "      <td>2018-06-16</td>\n",
       "      <td>1000</td>\n",
       "    </tr>\n",
       "    <tr>\n",
       "      <th>4</th>\n",
       "      <td>1000_4</td>\n",
       "      <td>2018-12-05</td>\n",
       "      <td>1000</td>\n",
       "    </tr>\n",
       "  </tbody>\n",
       "</table>\n",
       "</div>"
      ],
      "text/plain": [
       "       id message_date  user_id\n",
       "0  1000_0   2018-06-27     1000\n",
       "1  1000_1   2018-10-08     1000\n",
       "2  1000_2   2018-08-04     1000\n",
       "3  1000_3   2018-06-16     1000\n",
       "4  1000_4   2018-12-05     1000"
      ]
     },
     "execution_count": 103,
     "metadata": {},
     "output_type": "execute_result"
    }
   ],
   "source": [
    "# посмотрим первые строчки таблицы сообщений\n",
    "df_messages.head()"
   ]
  },
  {
   "cell_type": "code",
   "execution_count": 104,
   "metadata": {
    "colab": {
     "base_uri": "https://localhost:8080/",
     "height": 112
    },
    "id": "wLGWXOYtyQkQ",
    "outputId": "5ffd2374-e435-4900-99ea-8267188ad279"
   },
   "outputs": [
    {
     "data": {
      "text/html": [
       "<div>\n",
       "<style scoped>\n",
       "    .dataframe tbody tr th:only-of-type {\n",
       "        vertical-align: middle;\n",
       "    }\n",
       "\n",
       "    .dataframe tbody tr th {\n",
       "        vertical-align: top;\n",
       "    }\n",
       "\n",
       "    .dataframe thead th {\n",
       "        text-align: right;\n",
       "    }\n",
       "</style>\n",
       "<table border=\"1\" class=\"dataframe\">\n",
       "  <thead>\n",
       "    <tr style=\"text-align: right;\">\n",
       "      <th></th>\n",
       "      <th>messages_included</th>\n",
       "      <th>mb_per_month_included</th>\n",
       "      <th>minutes_included</th>\n",
       "      <th>rub_monthly_fee</th>\n",
       "      <th>rub_per_gb</th>\n",
       "      <th>rub_per_message</th>\n",
       "      <th>rub_per_minute</th>\n",
       "      <th>tariff</th>\n",
       "    </tr>\n",
       "  </thead>\n",
       "  <tbody>\n",
       "    <tr>\n",
       "      <th>0</th>\n",
       "      <td>50</td>\n",
       "      <td>15360</td>\n",
       "      <td>500</td>\n",
       "      <td>550</td>\n",
       "      <td>200</td>\n",
       "      <td>3</td>\n",
       "      <td>3</td>\n",
       "      <td>smart</td>\n",
       "    </tr>\n",
       "    <tr>\n",
       "      <th>1</th>\n",
       "      <td>1000</td>\n",
       "      <td>30720</td>\n",
       "      <td>3000</td>\n",
       "      <td>1950</td>\n",
       "      <td>150</td>\n",
       "      <td>1</td>\n",
       "      <td>1</td>\n",
       "      <td>ultra</td>\n",
       "    </tr>\n",
       "  </tbody>\n",
       "</table>\n",
       "</div>"
      ],
      "text/plain": [
       "   messages_included  mb_per_month_included  minutes_included  \\\n",
       "0                 50                  15360               500   \n",
       "1               1000                  30720              3000   \n",
       "\n",
       "   rub_monthly_fee  rub_per_gb  rub_per_message  rub_per_minute tariff  \n",
       "0              550         200                3               3  smart  \n",
       "1             1950         150                1               1  ultra  "
      ]
     },
     "execution_count": 104,
     "metadata": {},
     "output_type": "execute_result"
    }
   ],
   "source": [
    "# посмотрим первые строчки таблицы тарифа\n",
    "df_tariffs"
   ]
  },
  {
   "cell_type": "code",
   "execution_count": 105,
   "metadata": {
    "colab": {
     "base_uri": "https://localhost:8080/",
     "height": 206
    },
    "id": "PsY9eyv7yQn2",
    "outputId": "ab38bb00-c99a-469e-c452-84295008b4a9"
   },
   "outputs": [
    {
     "data": {
      "text/html": [
       "<div>\n",
       "<style scoped>\n",
       "    .dataframe tbody tr th:only-of-type {\n",
       "        vertical-align: middle;\n",
       "    }\n",
       "\n",
       "    .dataframe tbody tr th {\n",
       "        vertical-align: top;\n",
       "    }\n",
       "\n",
       "    .dataframe thead th {\n",
       "        text-align: right;\n",
       "    }\n",
       "</style>\n",
       "<table border=\"1\" class=\"dataframe\">\n",
       "  <thead>\n",
       "    <tr style=\"text-align: right;\">\n",
       "      <th></th>\n",
       "      <th>user_id</th>\n",
       "      <th>age</th>\n",
       "      <th>churn_date</th>\n",
       "      <th>city</th>\n",
       "      <th>first_name</th>\n",
       "      <th>last_name</th>\n",
       "      <th>reg_date</th>\n",
       "      <th>tariff</th>\n",
       "    </tr>\n",
       "  </thead>\n",
       "  <tbody>\n",
       "    <tr>\n",
       "      <th>0</th>\n",
       "      <td>1000</td>\n",
       "      <td>52</td>\n",
       "      <td>NaN</td>\n",
       "      <td>Краснодар</td>\n",
       "      <td>Рафаил</td>\n",
       "      <td>Верещагин</td>\n",
       "      <td>2018-05-25</td>\n",
       "      <td>ultra</td>\n",
       "    </tr>\n",
       "    <tr>\n",
       "      <th>1</th>\n",
       "      <td>1001</td>\n",
       "      <td>41</td>\n",
       "      <td>NaN</td>\n",
       "      <td>Москва</td>\n",
       "      <td>Иван</td>\n",
       "      <td>Ежов</td>\n",
       "      <td>2018-11-01</td>\n",
       "      <td>smart</td>\n",
       "    </tr>\n",
       "    <tr>\n",
       "      <th>2</th>\n",
       "      <td>1002</td>\n",
       "      <td>59</td>\n",
       "      <td>NaN</td>\n",
       "      <td>Стерлитамак</td>\n",
       "      <td>Евгений</td>\n",
       "      <td>Абрамович</td>\n",
       "      <td>2018-06-17</td>\n",
       "      <td>smart</td>\n",
       "    </tr>\n",
       "    <tr>\n",
       "      <th>3</th>\n",
       "      <td>1003</td>\n",
       "      <td>23</td>\n",
       "      <td>NaN</td>\n",
       "      <td>Москва</td>\n",
       "      <td>Белла</td>\n",
       "      <td>Белякова</td>\n",
       "      <td>2018-08-17</td>\n",
       "      <td>ultra</td>\n",
       "    </tr>\n",
       "    <tr>\n",
       "      <th>4</th>\n",
       "      <td>1004</td>\n",
       "      <td>68</td>\n",
       "      <td>NaN</td>\n",
       "      <td>Новокузнецк</td>\n",
       "      <td>Татьяна</td>\n",
       "      <td>Авдеенко</td>\n",
       "      <td>2018-05-14</td>\n",
       "      <td>ultra</td>\n",
       "    </tr>\n",
       "  </tbody>\n",
       "</table>\n",
       "</div>"
      ],
      "text/plain": [
       "   user_id  age churn_date         city first_name  last_name    reg_date  \\\n",
       "0     1000   52        NaN    Краснодар     Рафаил  Верещагин  2018-05-25   \n",
       "1     1001   41        NaN       Москва       Иван       Ежов  2018-11-01   \n",
       "2     1002   59        NaN  Стерлитамак    Евгений  Абрамович  2018-06-17   \n",
       "3     1003   23        NaN       Москва      Белла   Белякова  2018-08-17   \n",
       "4     1004   68        NaN  Новокузнецк    Татьяна   Авдеенко  2018-05-14   \n",
       "\n",
       "  tariff  \n",
       "0  ultra  \n",
       "1  smart  \n",
       "2  smart  \n",
       "3  ultra  \n",
       "4  ultra  "
      ]
     },
     "execution_count": 105,
     "metadata": {},
     "output_type": "execute_result"
    }
   ],
   "source": [
    "# посмотрим первые строчки таблицы пользователей\n",
    "df_users.head()"
   ]
  },
  {
   "cell_type": "code",
   "execution_count": 90,
   "metadata": {
    "colab": {
     "base_uri": "https://localhost:8080/"
    },
    "id": "hbg-iwyxnOXM",
    "outputId": "6ce8e864-84ec-471e-e620-985930c55584"
   },
   "outputs": [
    {
     "name": "stdout",
     "output_type": "stream",
     "text": [
      "<class 'pandas.core.frame.DataFrame'>\n",
      "RangeIndex: 202607 entries, 0 to 202606\n",
      "Data columns (total 4 columns):\n",
      " #   Column     Non-Null Count   Dtype  \n",
      "---  ------     --------------   -----  \n",
      " 0   id         202607 non-null  object \n",
      " 1   call_date  202607 non-null  object \n",
      " 2   duration   202607 non-null  float64\n",
      " 3   user_id    202607 non-null  int64  \n",
      "dtypes: float64(1), int64(1), object(2)\n",
      "memory usage: 6.2+ MB\n"
     ]
    }
   ],
   "source": [
    "# инормация о таблице со звонками\n",
    "df_calls.info()"
   ]
  },
  {
   "cell_type": "markdown",
   "metadata": {},
   "source": []
  },
  {
   "cell_type": "code",
   "execution_count": 91,
   "metadata": {
    "colab": {
     "base_uri": "https://localhost:8080/"
    },
    "id": "O5yUtqmPtm3a",
    "outputId": "ead10e24-e0f2-4a0a-e4af-72444757c21b"
   },
   "outputs": [
    {
     "name": "stdout",
     "output_type": "stream",
     "text": [
      "<class 'pandas.core.frame.DataFrame'>\n",
      "Int64Index: 149396 entries, 0 to 149395\n",
      "Data columns (total 4 columns):\n",
      " #   Column        Non-Null Count   Dtype  \n",
      "---  ------        --------------   -----  \n",
      " 0   id            149396 non-null  object \n",
      " 1   mb_used       149396 non-null  float64\n",
      " 2   session_date  149396 non-null  object \n",
      " 3   user_id       149396 non-null  int64  \n",
      "dtypes: float64(1), int64(1), object(2)\n",
      "memory usage: 5.7+ MB\n"
     ]
    }
   ],
   "source": [
    "# инормация о таблице с интернет трафиком\n",
    "df_internet.info()"
   ]
  },
  {
   "cell_type": "markdown",
   "metadata": {},
   "source": []
  },
  {
   "cell_type": "code",
   "execution_count": 92,
   "metadata": {
    "colab": {
     "base_uri": "https://localhost:8080/"
    },
    "id": "3bgbxQ0_vkYw",
    "outputId": "ef3fbb38-47a2-4d69-dc5c-78adc6d0f13b"
   },
   "outputs": [
    {
     "name": "stdout",
     "output_type": "stream",
     "text": [
      "<class 'pandas.core.frame.DataFrame'>\n",
      "RangeIndex: 123036 entries, 0 to 123035\n",
      "Data columns (total 3 columns):\n",
      " #   Column        Non-Null Count   Dtype \n",
      "---  ------        --------------   ----- \n",
      " 0   id            123036 non-null  object\n",
      " 1   message_date  123036 non-null  object\n",
      " 2   user_id       123036 non-null  int64 \n",
      "dtypes: int64(1), object(2)\n",
      "memory usage: 2.8+ MB\n"
     ]
    }
   ],
   "source": [
    "# инормация о таблице с сообщениями\n",
    "df_messages.info()"
   ]
  },
  {
   "cell_type": "markdown",
   "metadata": {},
   "source": []
  },
  {
   "cell_type": "code",
   "execution_count": 93,
   "metadata": {
    "colab": {
     "base_uri": "https://localhost:8080/"
    },
    "id": "NIkG6UuAwCQv",
    "outputId": "48e0c1b9-061b-4f25-c607-4bae0fc80408"
   },
   "outputs": [
    {
     "name": "stdout",
     "output_type": "stream",
     "text": [
      "<class 'pandas.core.frame.DataFrame'>\n",
      "RangeIndex: 2 entries, 0 to 1\n",
      "Data columns (total 8 columns):\n",
      " #   Column                 Non-Null Count  Dtype \n",
      "---  ------                 --------------  ----- \n",
      " 0   messages_included      2 non-null      int64 \n",
      " 1   mb_per_month_included  2 non-null      int64 \n",
      " 2   minutes_included       2 non-null      int64 \n",
      " 3   rub_monthly_fee        2 non-null      int64 \n",
      " 4   rub_per_gb             2 non-null      int64 \n",
      " 5   rub_per_message        2 non-null      int64 \n",
      " 6   rub_per_minute         2 non-null      int64 \n",
      " 7   tariff_name            2 non-null      object\n",
      "dtypes: int64(7), object(1)\n",
      "memory usage: 256.0+ bytes\n"
     ]
    }
   ],
   "source": [
    "# инормация о таблице с тарифами\n",
    "df_tariffs.info()"
   ]
  },
  {
   "cell_type": "markdown",
   "metadata": {},
   "source": []
  },
  {
   "cell_type": "code",
   "execution_count": 94,
   "metadata": {
    "colab": {
     "base_uri": "https://localhost:8080/"
    },
    "id": "gNSzVIREyEOX",
    "outputId": "2961c289-34f5-4a48-a879-be2c8719ba6a"
   },
   "outputs": [
    {
     "name": "stdout",
     "output_type": "stream",
     "text": [
      "<class 'pandas.core.frame.DataFrame'>\n",
      "RangeIndex: 500 entries, 0 to 499\n",
      "Data columns (total 8 columns):\n",
      " #   Column      Non-Null Count  Dtype \n",
      "---  ------      --------------  ----- \n",
      " 0   user_id     500 non-null    int64 \n",
      " 1   age         500 non-null    int64 \n",
      " 2   churn_date  38 non-null     object\n",
      " 3   city        500 non-null    object\n",
      " 4   first_name  500 non-null    object\n",
      " 5   last_name   500 non-null    object\n",
      " 6   reg_date    500 non-null    object\n",
      " 7   tariff      500 non-null    object\n",
      "dtypes: int64(2), object(6)\n",
      "memory usage: 31.4+ KB\n"
     ]
    }
   ],
   "source": [
    "# инормация о таблице с пользователями\n",
    "df_users.info()"
   ]
  },
  {
   "cell_type": "markdown",
   "metadata": {},
   "source": []
  },
  {
   "cell_type": "markdown",
   "metadata": {},
   "source": [
    "**Вывод**"
   ]
  },
  {
   "cell_type": "markdown",
   "metadata": {},
   "source": [
    "<div class=\"alert alert-warning\">\n",
    "<h1> Комментарий ревьюера 💡</h1>\n",
    "\n",
    "В этом блоке не хватает описательной части. Непонятно что делам и зачем. "
   ]
  },
  {
   "cell_type": "markdown",
   "metadata": {},
   "source": []
  },
  {
   "cell_type": "code",
   "execution_count": 99,
   "metadata": {
    "id": "q9BXQGR3t-A-"
   },
   "outputs": [],
   "source": [
    "# поменяем название колонки на новое в таблице с тарифами\n",
    "df_tariffs = df_tariffs.rename(columns={'tariff_name':'tariff'})"
   ]
  },
  {
   "cell_type": "code",
   "execution_count": 100,
   "metadata": {
    "colab": {
     "base_uri": "https://localhost:8080/"
    },
    "id": "GyClu2nhx9P0",
    "outputId": "527841aa-acf2-4686-e07c-7c2b84364348"
   },
   "outputs": [
    {
     "data": {
      "text/plain": [
       "Index(['user_id', 'age', 'churn_date', 'city', 'first_name', 'last_name',\n",
       "       'reg_date', 'tariff'],\n",
       "      dtype='object')"
      ]
     },
     "execution_count": 100,
     "metadata": {},
     "output_type": "execute_result"
    }
   ],
   "source": [
    "df_users.columns"
   ]
  },
  {
   "cell_type": "markdown",
   "metadata": {
    "id": "5Rm45DgIyzAd"
   },
   "source": [
    "**Шаг 2. Подготовьте данные** "
   ]
  },
  {
   "cell_type": "markdown",
   "metadata": {
    "id": "Zv2EYiKqy-8u"
   },
   "source": [
    "2.1 Приведите данные к нужным типам"
   ]
  },
  {
   "cell_type": "code",
   "execution_count": 106,
   "metadata": {
    "id": "hUH_TqI1zE33"
   },
   "outputs": [],
   "source": [
    "# поменяем тип столбца дата в таблицах, где он есть\n",
    "df_calls.call_date = df_calls.call_date.apply(pd.to_datetime)\n",
    "df_internet.session_date = df_internet.session_date.apply(pd.to_datetime)\n",
    "df_messages.message_date = df_messages.message_date.apply(pd.to_datetime)\n",
    "df_users.churn_date = df_users.churn_date.apply(pd.to_datetime)\n",
    "df_users.reg_date = df_users.reg_date.apply(pd.to_datetime)"
   ]
  },
  {
   "cell_type": "code",
   "execution_count": 107,
   "metadata": {
    "colab": {
     "base_uri": "https://localhost:8080/"
    },
    "id": "CPBkEUd3Frtb",
    "outputId": "c0d51853-ca0f-493f-94ba-1951a51d62b0"
   },
   "outputs": [
    {
     "data": {
      "text/plain": [
       "id                   object\n",
       "call_date    datetime64[ns]\n",
       "duration            float64\n",
       "user_id               int64\n",
       "dtype: object"
      ]
     },
     "execution_count": 107,
     "metadata": {},
     "output_type": "execute_result"
    }
   ],
   "source": [
    "# проверим изменения\n",
    "df_calls.dtypes"
   ]
  },
  {
   "cell_type": "code",
   "execution_count": 108,
   "metadata": {
    "colab": {
     "base_uri": "https://localhost:8080/"
    },
    "id": "DVO-NHLEHB9u",
    "outputId": "e8a39bf6-89c3-4eb8-9064-2f191cf2c9b7"
   },
   "outputs": [
    {
     "data": {
      "text/plain": [
       "id                      object\n",
       "message_date    datetime64[ns]\n",
       "user_id                  int64\n",
       "dtype: object"
      ]
     },
     "execution_count": 108,
     "metadata": {},
     "output_type": "execute_result"
    }
   ],
   "source": [
    "df_messages.dtypes"
   ]
  },
  {
   "cell_type": "code",
   "execution_count": 109,
   "metadata": {
    "colab": {
     "base_uri": "https://localhost:8080/"
    },
    "id": "jpSQyywbHPqR",
    "outputId": "2ad6f95f-015c-4d15-a83a-35487a9cf4de"
   },
   "outputs": [
    {
     "data": {
      "text/plain": [
       "id                      object\n",
       "mb_used                float64\n",
       "session_date    datetime64[ns]\n",
       "user_id                  int64\n",
       "dtype: object"
      ]
     },
     "execution_count": 109,
     "metadata": {},
     "output_type": "execute_result"
    }
   ],
   "source": [
    "df_internet.dtypes"
   ]
  },
  {
   "cell_type": "code",
   "execution_count": 110,
   "metadata": {
    "colab": {
     "base_uri": "https://localhost:8080/"
    },
    "id": "kuD_WPkKHi5V",
    "outputId": "cf047b6e-a7a4-4de8-9dc8-480559050ded"
   },
   "outputs": [
    {
     "data": {
      "text/plain": [
       "user_id                int64\n",
       "age                    int64\n",
       "churn_date    datetime64[ns]\n",
       "city                  object\n",
       "first_name            object\n",
       "last_name             object\n",
       "reg_date      datetime64[ns]\n",
       "tariff                object\n",
       "dtype: object"
      ]
     },
     "execution_count": 110,
     "metadata": {},
     "output_type": "execute_result"
    }
   ],
   "source": [
    "df_users.dtypes"
   ]
  },
  {
   "cell_type": "code",
   "execution_count": 111,
   "metadata": {
    "id": "lf9E_jTTXUJQ"
   },
   "outputs": [],
   "source": [
    "# добавим новый стоблец в таблицу с тарифами, переведем Мб в Гб\n",
    "df_tariffs['gb_per_month_included'] = (df_tariffs['mb_per_month_included'] / 1024).astype('int')"
   ]
  },
  {
   "cell_type": "markdown",
   "metadata": {
    "id": "ozvtLNlWrvES"
   },
   "source": [
    "**Посчитайте для каждого пользователя:**"
   ]
  },
  {
   "cell_type": "markdown",
   "metadata": {
    "id": "h7J9XcYwru7D"
   },
   "source": [
    "1. количество сделанных звонков и израсходованных минут разговора по месяцам"
   ]
  },
  {
   "cell_type": "code",
   "execution_count": 112,
   "metadata": {
    "id": "z7TcZOmNiBnO"
   },
   "outputs": [],
   "source": [
    "# добавим столбец месяц в таблицу звонков\n",
    "df_calls['month'] = df_calls['call_date'].dt.month"
   ]
  },
  {
   "cell_type": "code",
   "execution_count": 113,
   "metadata": {
    "id": "HVRH2o1tQi2j"
   },
   "outputs": [],
   "source": [
    "# откруглим длительность звонков до целого числа\n",
    "df_calls['duration'] = np.ceil(df_calls['duration']).astype('int')"
   ]
  },
  {
   "cell_type": "code",
   "execution_count": 114,
   "metadata": {
    "id": "a0pBvOENiBR5"
   },
   "outputs": [],
   "source": [
    "# группируем таблицу по месяцу и индивидуальному номеру звонка, считаем продолжительность и количество звонков\n",
    "df_calls_group = df_calls.groupby(by=['user_id', 'month'])['duration'].agg({'sum', 'count'}).reset_index()"
   ]
  },
  {
   "cell_type": "code",
   "execution_count": 115,
   "metadata": {
    "id": "kCG-f4DY4OST"
   },
   "outputs": [],
   "source": [
    "# зададим новые названия колонок\n",
    "df_calls_group.columns = ['user_id', 'month', 'count_calls', 'sum_calls']"
   ]
  },
  {
   "cell_type": "code",
   "execution_count": 116,
   "metadata": {
    "colab": {
     "base_uri": "https://localhost:8080/",
     "height": 423
    },
    "id": "rlKi8aAX-bB7",
    "outputId": "9e76f2bf-ad80-444b-fa80-878583f6a80c"
   },
   "outputs": [
    {
     "data": {
      "text/html": [
       "<div>\n",
       "<style scoped>\n",
       "    .dataframe tbody tr th:only-of-type {\n",
       "        vertical-align: middle;\n",
       "    }\n",
       "\n",
       "    .dataframe tbody tr th {\n",
       "        vertical-align: top;\n",
       "    }\n",
       "\n",
       "    .dataframe thead th {\n",
       "        text-align: right;\n",
       "    }\n",
       "</style>\n",
       "<table border=\"1\" class=\"dataframe\">\n",
       "  <thead>\n",
       "    <tr style=\"text-align: right;\">\n",
       "      <th></th>\n",
       "      <th>user_id</th>\n",
       "      <th>month</th>\n",
       "      <th>count_calls</th>\n",
       "      <th>sum_calls</th>\n",
       "    </tr>\n",
       "  </thead>\n",
       "  <tbody>\n",
       "    <tr>\n",
       "      <th>0</th>\n",
       "      <td>1000</td>\n",
       "      <td>5</td>\n",
       "      <td>22</td>\n",
       "      <td>159</td>\n",
       "    </tr>\n",
       "    <tr>\n",
       "      <th>1</th>\n",
       "      <td>1000</td>\n",
       "      <td>6</td>\n",
       "      <td>43</td>\n",
       "      <td>172</td>\n",
       "    </tr>\n",
       "    <tr>\n",
       "      <th>2</th>\n",
       "      <td>1000</td>\n",
       "      <td>7</td>\n",
       "      <td>47</td>\n",
       "      <td>340</td>\n",
       "    </tr>\n",
       "    <tr>\n",
       "      <th>3</th>\n",
       "      <td>1000</td>\n",
       "      <td>8</td>\n",
       "      <td>52</td>\n",
       "      <td>408</td>\n",
       "    </tr>\n",
       "    <tr>\n",
       "      <th>4</th>\n",
       "      <td>1000</td>\n",
       "      <td>9</td>\n",
       "      <td>58</td>\n",
       "      <td>466</td>\n",
       "    </tr>\n",
       "    <tr>\n",
       "      <th>...</th>\n",
       "      <td>...</td>\n",
       "      <td>...</td>\n",
       "      <td>...</td>\n",
       "      <td>...</td>\n",
       "    </tr>\n",
       "    <tr>\n",
       "      <th>3169</th>\n",
       "      <td>1498</td>\n",
       "      <td>10</td>\n",
       "      <td>41</td>\n",
       "      <td>247</td>\n",
       "    </tr>\n",
       "    <tr>\n",
       "      <th>3170</th>\n",
       "      <td>1499</td>\n",
       "      <td>9</td>\n",
       "      <td>9</td>\n",
       "      <td>70</td>\n",
       "    </tr>\n",
       "    <tr>\n",
       "      <th>3171</th>\n",
       "      <td>1499</td>\n",
       "      <td>10</td>\n",
       "      <td>68</td>\n",
       "      <td>449</td>\n",
       "    </tr>\n",
       "    <tr>\n",
       "      <th>3172</th>\n",
       "      <td>1499</td>\n",
       "      <td>11</td>\n",
       "      <td>74</td>\n",
       "      <td>612</td>\n",
       "    </tr>\n",
       "    <tr>\n",
       "      <th>3173</th>\n",
       "      <td>1499</td>\n",
       "      <td>12</td>\n",
       "      <td>69</td>\n",
       "      <td>492</td>\n",
       "    </tr>\n",
       "  </tbody>\n",
       "</table>\n",
       "<p>3174 rows × 4 columns</p>\n",
       "</div>"
      ],
      "text/plain": [
       "      user_id  month  count_calls  sum_calls\n",
       "0        1000      5           22        159\n",
       "1        1000      6           43        172\n",
       "2        1000      7           47        340\n",
       "3        1000      8           52        408\n",
       "4        1000      9           58        466\n",
       "...       ...    ...          ...        ...\n",
       "3169     1498     10           41        247\n",
       "3170     1499      9            9         70\n",
       "3171     1499     10           68        449\n",
       "3172     1499     11           74        612\n",
       "3173     1499     12           69        492\n",
       "\n",
       "[3174 rows x 4 columns]"
      ]
     },
     "execution_count": 116,
     "metadata": {},
     "output_type": "execute_result"
    }
   ],
   "source": [
    "df_calls_group"
   ]
  },
  {
   "cell_type": "markdown",
   "metadata": {
    "id": "0puAMuBvsX8V"
   },
   "source": [
    "2. количество отправленных сообщений по месяцам"
   ]
  },
  {
   "cell_type": "code",
   "execution_count": 117,
   "metadata": {
    "id": "QsdRmi4ziBeS"
   },
   "outputs": [],
   "source": [
    "# добавим столбец месяц в таблицу сообщения\n",
    "df_messages['month'] = df_messages['message_date'].dt.month"
   ]
  },
  {
   "cell_type": "code",
   "execution_count": 118,
   "metadata": {
    "id": "9cUv5QtJonAE"
   },
   "outputs": [],
   "source": [
    "# группируем таблицу по месяцу и индивидуальному номеру сообщения, считаем количество отправленных смс\n",
    "df_messages_group = df_messages.groupby(by=['user_id', 'month'])['id'].count().reset_index()"
   ]
  },
  {
   "cell_type": "code",
   "execution_count": 119,
   "metadata": {
    "id": "TJdEBMbe5Qof"
   },
   "outputs": [],
   "source": [
    "# зададим новые названия колонок\n",
    "df_messages_group.columns = ['user_id', 'month', 'sms']"
   ]
  },
  {
   "cell_type": "code",
   "execution_count": 120,
   "metadata": {
    "colab": {
     "base_uri": "https://localhost:8080/",
     "height": 423
    },
    "id": "9PsILKi6-fNV",
    "outputId": "1cf98296-089f-4c91-9da8-1f45fc270300"
   },
   "outputs": [
    {
     "data": {
      "text/html": [
       "<div>\n",
       "<style scoped>\n",
       "    .dataframe tbody tr th:only-of-type {\n",
       "        vertical-align: middle;\n",
       "    }\n",
       "\n",
       "    .dataframe tbody tr th {\n",
       "        vertical-align: top;\n",
       "    }\n",
       "\n",
       "    .dataframe thead th {\n",
       "        text-align: right;\n",
       "    }\n",
       "</style>\n",
       "<table border=\"1\" class=\"dataframe\">\n",
       "  <thead>\n",
       "    <tr style=\"text-align: right;\">\n",
       "      <th></th>\n",
       "      <th>user_id</th>\n",
       "      <th>month</th>\n",
       "      <th>sms</th>\n",
       "    </tr>\n",
       "  </thead>\n",
       "  <tbody>\n",
       "    <tr>\n",
       "      <th>0</th>\n",
       "      <td>1000</td>\n",
       "      <td>5</td>\n",
       "      <td>22</td>\n",
       "    </tr>\n",
       "    <tr>\n",
       "      <th>1</th>\n",
       "      <td>1000</td>\n",
       "      <td>6</td>\n",
       "      <td>60</td>\n",
       "    </tr>\n",
       "    <tr>\n",
       "      <th>2</th>\n",
       "      <td>1000</td>\n",
       "      <td>7</td>\n",
       "      <td>75</td>\n",
       "    </tr>\n",
       "    <tr>\n",
       "      <th>3</th>\n",
       "      <td>1000</td>\n",
       "      <td>8</td>\n",
       "      <td>81</td>\n",
       "    </tr>\n",
       "    <tr>\n",
       "      <th>4</th>\n",
       "      <td>1000</td>\n",
       "      <td>9</td>\n",
       "      <td>57</td>\n",
       "    </tr>\n",
       "    <tr>\n",
       "      <th>...</th>\n",
       "      <td>...</td>\n",
       "      <td>...</td>\n",
       "      <td>...</td>\n",
       "    </tr>\n",
       "    <tr>\n",
       "      <th>2712</th>\n",
       "      <td>1498</td>\n",
       "      <td>10</td>\n",
       "      <td>42</td>\n",
       "    </tr>\n",
       "    <tr>\n",
       "      <th>2713</th>\n",
       "      <td>1499</td>\n",
       "      <td>9</td>\n",
       "      <td>11</td>\n",
       "    </tr>\n",
       "    <tr>\n",
       "      <th>2714</th>\n",
       "      <td>1499</td>\n",
       "      <td>10</td>\n",
       "      <td>48</td>\n",
       "    </tr>\n",
       "    <tr>\n",
       "      <th>2715</th>\n",
       "      <td>1499</td>\n",
       "      <td>11</td>\n",
       "      <td>59</td>\n",
       "    </tr>\n",
       "    <tr>\n",
       "      <th>2716</th>\n",
       "      <td>1499</td>\n",
       "      <td>12</td>\n",
       "      <td>66</td>\n",
       "    </tr>\n",
       "  </tbody>\n",
       "</table>\n",
       "<p>2717 rows × 3 columns</p>\n",
       "</div>"
      ],
      "text/plain": [
       "      user_id  month  sms\n",
       "0        1000      5   22\n",
       "1        1000      6   60\n",
       "2        1000      7   75\n",
       "3        1000      8   81\n",
       "4        1000      9   57\n",
       "...       ...    ...  ...\n",
       "2712     1498     10   42\n",
       "2713     1499      9   11\n",
       "2714     1499     10   48\n",
       "2715     1499     11   59\n",
       "2716     1499     12   66\n",
       "\n",
       "[2717 rows x 3 columns]"
      ]
     },
     "execution_count": 120,
     "metadata": {},
     "output_type": "execute_result"
    }
   ],
   "source": [
    "df_messages_group"
   ]
  },
  {
   "cell_type": "markdown",
   "metadata": {
    "id": "CsKX-JX_sd_r"
   },
   "source": [
    "3. объем израсходованного интернет-трафика по месяцам"
   ]
  },
  {
   "cell_type": "code",
   "execution_count": 121,
   "metadata": {
    "id": "Wq6cDdraiBiy"
   },
   "outputs": [],
   "source": [
    "# добавим столбец месяц в таблицу интернент трафика\n",
    "df_internet['month'] = df_internet['session_date'].dt.month"
   ]
  },
  {
   "cell_type": "code",
   "execution_count": 122,
   "metadata": {
    "id": "6gf7psJdol5v"
   },
   "outputs": [],
   "source": [
    "# группируем по месяцу и индивидуальному норему интернет сессии, считаем сумму мв \n",
    "df_internet_group = df_internet.groupby(by=['user_id', 'month'])['mb_used'].sum().reset_index()"
   ]
  },
  {
   "cell_type": "code",
   "execution_count": 123,
   "metadata": {
    "id": "_5HeOF58Du_g"
   },
   "outputs": [],
   "source": [
    "# добавим новый столбец с Гб, переведем Мб в Гб\n",
    "df_internet_group['gb_used'] = np.ceil(df_internet_group['mb_used'] / 1024).astype('int')"
   ]
  },
  {
   "cell_type": "code",
   "execution_count": 124,
   "metadata": {
    "colab": {
     "base_uri": "https://localhost:8080/",
     "height": 423
    },
    "id": "__6RsT7t-kzq",
    "outputId": "c367645e-09c7-4d61-a8cd-953e2fb58faa"
   },
   "outputs": [
    {
     "data": {
      "text/html": [
       "<div>\n",
       "<style scoped>\n",
       "    .dataframe tbody tr th:only-of-type {\n",
       "        vertical-align: middle;\n",
       "    }\n",
       "\n",
       "    .dataframe tbody tr th {\n",
       "        vertical-align: top;\n",
       "    }\n",
       "\n",
       "    .dataframe thead th {\n",
       "        text-align: right;\n",
       "    }\n",
       "</style>\n",
       "<table border=\"1\" class=\"dataframe\">\n",
       "  <thead>\n",
       "    <tr style=\"text-align: right;\">\n",
       "      <th></th>\n",
       "      <th>user_id</th>\n",
       "      <th>month</th>\n",
       "      <th>mb_used</th>\n",
       "      <th>gb_used</th>\n",
       "    </tr>\n",
       "  </thead>\n",
       "  <tbody>\n",
       "    <tr>\n",
       "      <th>0</th>\n",
       "      <td>1000</td>\n",
       "      <td>5</td>\n",
       "      <td>2253.49</td>\n",
       "      <td>3</td>\n",
       "    </tr>\n",
       "    <tr>\n",
       "      <th>1</th>\n",
       "      <td>1000</td>\n",
       "      <td>6</td>\n",
       "      <td>23233.77</td>\n",
       "      <td>23</td>\n",
       "    </tr>\n",
       "    <tr>\n",
       "      <th>2</th>\n",
       "      <td>1000</td>\n",
       "      <td>7</td>\n",
       "      <td>14003.64</td>\n",
       "      <td>14</td>\n",
       "    </tr>\n",
       "    <tr>\n",
       "      <th>3</th>\n",
       "      <td>1000</td>\n",
       "      <td>8</td>\n",
       "      <td>14055.93</td>\n",
       "      <td>14</td>\n",
       "    </tr>\n",
       "    <tr>\n",
       "      <th>4</th>\n",
       "      <td>1000</td>\n",
       "      <td>9</td>\n",
       "      <td>14568.91</td>\n",
       "      <td>15</td>\n",
       "    </tr>\n",
       "    <tr>\n",
       "      <th>...</th>\n",
       "      <td>...</td>\n",
       "      <td>...</td>\n",
       "      <td>...</td>\n",
       "      <td>...</td>\n",
       "    </tr>\n",
       "    <tr>\n",
       "      <th>3198</th>\n",
       "      <td>1498</td>\n",
       "      <td>10</td>\n",
       "      <td>20579.36</td>\n",
       "      <td>21</td>\n",
       "    </tr>\n",
       "    <tr>\n",
       "      <th>3199</th>\n",
       "      <td>1499</td>\n",
       "      <td>9</td>\n",
       "      <td>1845.75</td>\n",
       "      <td>2</td>\n",
       "    </tr>\n",
       "    <tr>\n",
       "      <th>3200</th>\n",
       "      <td>1499</td>\n",
       "      <td>10</td>\n",
       "      <td>17788.51</td>\n",
       "      <td>18</td>\n",
       "    </tr>\n",
       "    <tr>\n",
       "      <th>3201</th>\n",
       "      <td>1499</td>\n",
       "      <td>11</td>\n",
       "      <td>17963.31</td>\n",
       "      <td>18</td>\n",
       "    </tr>\n",
       "    <tr>\n",
       "      <th>3202</th>\n",
       "      <td>1499</td>\n",
       "      <td>12</td>\n",
       "      <td>13055.58</td>\n",
       "      <td>13</td>\n",
       "    </tr>\n",
       "  </tbody>\n",
       "</table>\n",
       "<p>3203 rows × 4 columns</p>\n",
       "</div>"
      ],
      "text/plain": [
       "      user_id  month   mb_used  gb_used\n",
       "0        1000      5   2253.49        3\n",
       "1        1000      6  23233.77       23\n",
       "2        1000      7  14003.64       14\n",
       "3        1000      8  14055.93       14\n",
       "4        1000      9  14568.91       15\n",
       "...       ...    ...       ...      ...\n",
       "3198     1498     10  20579.36       21\n",
       "3199     1499      9   1845.75        2\n",
       "3200     1499     10  17788.51       18\n",
       "3201     1499     11  17963.31       18\n",
       "3202     1499     12  13055.58       13\n",
       "\n",
       "[3203 rows x 4 columns]"
      ]
     },
     "execution_count": 124,
     "metadata": {},
     "output_type": "execute_result"
    }
   ],
   "source": [
    "df_internet_group"
   ]
  },
  {
   "cell_type": "markdown",
   "metadata": {
    "id": "ezVkXKX5siW-"
   },
   "source": [
    "4. помесячную выручку с каждого пользователя (вычтите бесплатный лимит из суммарного количества звонков, сообщений и интернет-трафика; остаток умножьте на значение из тарифного плана; прибавьте абонентскую плату, соответствующую тарифному плану)"
   ]
  },
  {
   "cell_type": "code",
   "execution_count": 125,
   "metadata": {
    "id": "-Kohh0Qwom3I"
   },
   "outputs": [],
   "source": [
    "# объединим таблицу звонков и интернет трафика\n",
    "df_trafik1 = df_calls_group.merge(df_internet_group, on=['user_id', 'month'], how='outer')"
   ]
  },
  {
   "cell_type": "code",
   "execution_count": 126,
   "metadata": {
    "id": "tDq5DlG2omz9"
   },
   "outputs": [],
   "source": [
    "# добавим еще таблицу с сообщениями\n",
    "df_trafik = df_trafik1.merge(df_messages_group, on=['user_id', 'month'], how='outer')"
   ]
  },
  {
   "cell_type": "code",
   "execution_count": 127,
   "metadata": {
    "id": "qvI-7WGG-7Ji"
   },
   "outputs": [],
   "source": [
    "# добавим в таблицу данные о клиентах\n",
    "df1 = df_trafik.merge(df_users, on='user_id', how='outer')"
   ]
  },
  {
   "cell_type": "code",
   "execution_count": 128,
   "metadata": {
    "id": "SaPFCogFtJDu"
   },
   "outputs": [],
   "source": [
    "# присоединим к общей таблице таблицу с тарифами\n",
    "df = df1.merge(df_tariffs, on='tariff', how='outer')"
   ]
  },
  {
   "cell_type": "code",
   "execution_count": 129,
   "metadata": {
    "colab": {
     "base_uri": "https://localhost:8080/",
     "height": 289
    },
    "id": "QEMXTKlx3FIu",
    "outputId": "a2ebe6f2-3417-4af0-be52-121610ad7a1a"
   },
   "outputs": [
    {
     "data": {
      "text/html": [
       "<div>\n",
       "<style scoped>\n",
       "    .dataframe tbody tr th:only-of-type {\n",
       "        vertical-align: middle;\n",
       "    }\n",
       "\n",
       "    .dataframe tbody tr th {\n",
       "        vertical-align: top;\n",
       "    }\n",
       "\n",
       "    .dataframe thead th {\n",
       "        text-align: right;\n",
       "    }\n",
       "</style>\n",
       "<table border=\"1\" class=\"dataframe\">\n",
       "  <thead>\n",
       "    <tr style=\"text-align: right;\">\n",
       "      <th></th>\n",
       "      <th>user_id</th>\n",
       "      <th>month</th>\n",
       "      <th>count_calls</th>\n",
       "      <th>sum_calls</th>\n",
       "      <th>mb_used</th>\n",
       "      <th>gb_used</th>\n",
       "      <th>sms</th>\n",
       "      <th>age</th>\n",
       "      <th>churn_date</th>\n",
       "      <th>city</th>\n",
       "      <th>...</th>\n",
       "      <th>reg_date</th>\n",
       "      <th>tariff</th>\n",
       "      <th>messages_included</th>\n",
       "      <th>mb_per_month_included</th>\n",
       "      <th>minutes_included</th>\n",
       "      <th>rub_monthly_fee</th>\n",
       "      <th>rub_per_gb</th>\n",
       "      <th>rub_per_message</th>\n",
       "      <th>rub_per_minute</th>\n",
       "      <th>gb_per_month_included</th>\n",
       "    </tr>\n",
       "  </thead>\n",
       "  <tbody>\n",
       "    <tr>\n",
       "      <th>0</th>\n",
       "      <td>1000</td>\n",
       "      <td>5.0</td>\n",
       "      <td>22.0</td>\n",
       "      <td>159.0</td>\n",
       "      <td>2253.49</td>\n",
       "      <td>3.0</td>\n",
       "      <td>22.0</td>\n",
       "      <td>52</td>\n",
       "      <td>NaT</td>\n",
       "      <td>Краснодар</td>\n",
       "      <td>...</td>\n",
       "      <td>2018-05-25</td>\n",
       "      <td>ultra</td>\n",
       "      <td>1000</td>\n",
       "      <td>30720</td>\n",
       "      <td>3000</td>\n",
       "      <td>1950</td>\n",
       "      <td>150</td>\n",
       "      <td>1</td>\n",
       "      <td>1</td>\n",
       "      <td>30</td>\n",
       "    </tr>\n",
       "    <tr>\n",
       "      <th>1</th>\n",
       "      <td>1000</td>\n",
       "      <td>6.0</td>\n",
       "      <td>43.0</td>\n",
       "      <td>172.0</td>\n",
       "      <td>23233.77</td>\n",
       "      <td>23.0</td>\n",
       "      <td>60.0</td>\n",
       "      <td>52</td>\n",
       "      <td>NaT</td>\n",
       "      <td>Краснодар</td>\n",
       "      <td>...</td>\n",
       "      <td>2018-05-25</td>\n",
       "      <td>ultra</td>\n",
       "      <td>1000</td>\n",
       "      <td>30720</td>\n",
       "      <td>3000</td>\n",
       "      <td>1950</td>\n",
       "      <td>150</td>\n",
       "      <td>1</td>\n",
       "      <td>1</td>\n",
       "      <td>30</td>\n",
       "    </tr>\n",
       "    <tr>\n",
       "      <th>2</th>\n",
       "      <td>1000</td>\n",
       "      <td>7.0</td>\n",
       "      <td>47.0</td>\n",
       "      <td>340.0</td>\n",
       "      <td>14003.64</td>\n",
       "      <td>14.0</td>\n",
       "      <td>75.0</td>\n",
       "      <td>52</td>\n",
       "      <td>NaT</td>\n",
       "      <td>Краснодар</td>\n",
       "      <td>...</td>\n",
       "      <td>2018-05-25</td>\n",
       "      <td>ultra</td>\n",
       "      <td>1000</td>\n",
       "      <td>30720</td>\n",
       "      <td>3000</td>\n",
       "      <td>1950</td>\n",
       "      <td>150</td>\n",
       "      <td>1</td>\n",
       "      <td>1</td>\n",
       "      <td>30</td>\n",
       "    </tr>\n",
       "  </tbody>\n",
       "</table>\n",
       "<p>3 rows × 22 columns</p>\n",
       "</div>"
      ],
      "text/plain": [
       "   user_id  month  count_calls  sum_calls   mb_used  gb_used   sms  age  \\\n",
       "0     1000    5.0         22.0      159.0   2253.49      3.0  22.0   52   \n",
       "1     1000    6.0         43.0      172.0  23233.77     23.0  60.0   52   \n",
       "2     1000    7.0         47.0      340.0  14003.64     14.0  75.0   52   \n",
       "\n",
       "  churn_date       city  ...   reg_date tariff messages_included  \\\n",
       "0        NaT  Краснодар  ... 2018-05-25  ultra              1000   \n",
       "1        NaT  Краснодар  ... 2018-05-25  ultra              1000   \n",
       "2        NaT  Краснодар  ... 2018-05-25  ultra              1000   \n",
       "\n",
       "  mb_per_month_included  minutes_included  rub_monthly_fee  rub_per_gb  \\\n",
       "0                 30720              3000             1950         150   \n",
       "1                 30720              3000             1950         150   \n",
       "2                 30720              3000             1950         150   \n",
       "\n",
       "   rub_per_message  rub_per_minute  gb_per_month_included  \n",
       "0                1               1                     30  \n",
       "1                1               1                     30  \n",
       "2                1               1                     30  \n",
       "\n",
       "[3 rows x 22 columns]"
      ]
     },
     "execution_count": 129,
     "metadata": {},
     "output_type": "execute_result"
    }
   ],
   "source": [
    "df.head(3)"
   ]
  },
  {
   "cell_type": "code",
   "execution_count": 130,
   "metadata": {
    "colab": {
     "base_uri": "https://localhost:8080/"
    },
    "id": "HU_EIv0fa8xD",
    "outputId": "694676f7-f12a-4f07-a57e-23d8628ba22a"
   },
   "outputs": [
    {
     "name": "stdout",
     "output_type": "stream",
     "text": [
      "<class 'pandas.core.frame.DataFrame'>\n",
      "Int64Index: 3216 entries, 0 to 3215\n",
      "Data columns (total 22 columns):\n",
      " #   Column                 Non-Null Count  Dtype         \n",
      "---  ------                 --------------  -----         \n",
      " 0   user_id                3216 non-null   int64         \n",
      " 1   month                  3214 non-null   float64       \n",
      " 2   count_calls            3174 non-null   float64       \n",
      " 3   sum_calls              3174 non-null   float64       \n",
      " 4   mb_used                3203 non-null   float64       \n",
      " 5   gb_used                3203 non-null   float64       \n",
      " 6   sms                    2717 non-null   float64       \n",
      " 7   age                    3216 non-null   int64         \n",
      " 8   churn_date             189 non-null    datetime64[ns]\n",
      " 9   city                   3216 non-null   object        \n",
      " 10  first_name             3216 non-null   object        \n",
      " 11  last_name              3216 non-null   object        \n",
      " 12  reg_date               3216 non-null   datetime64[ns]\n",
      " 13  tariff                 3216 non-null   object        \n",
      " 14  messages_included      3216 non-null   int64         \n",
      " 15  mb_per_month_included  3216 non-null   int64         \n",
      " 16  minutes_included       3216 non-null   int64         \n",
      " 17  rub_monthly_fee        3216 non-null   int64         \n",
      " 18  rub_per_gb             3216 non-null   int64         \n",
      " 19  rub_per_message        3216 non-null   int64         \n",
      " 20  rub_per_minute         3216 non-null   int64         \n",
      " 21  gb_per_month_included  3216 non-null   int64         \n",
      "dtypes: datetime64[ns](2), float64(6), int64(10), object(4)\n",
      "memory usage: 577.9+ KB\n"
     ]
    }
   ],
   "source": [
    "df.info()"
   ]
  },
  {
   "cell_type": "code",
   "execution_count": 131,
   "metadata": {
    "id": "LjbaWSqmbSlo"
   },
   "outputs": [],
   "source": [
    "# пропуски заменим 0\n",
    "df['sum_calls'] = df['sum_calls'].fillna(0)\n",
    "df['gb_used'] = df['gb_used'].fillna(0)\n",
    "df['sms'] = df['sms'].fillna(0)"
   ]
  },
  {
   "cell_type": "code",
   "execution_count": 132,
   "metadata": {
    "id": "FN2idksUBU1S"
   },
   "outputs": [],
   "source": [
    "# посчитаем помесячную выручку с каждого пользователя\n",
    "def profit(row):\n",
    "     calls = row['sum_calls']\n",
    "     sms = row['sms']\n",
    "     gb = row['gb_used']\n",
    "     min_inc = row['minutes_included']\n",
    "     sms_inc = row['messages_included']\n",
    "     gb_inc = row['gb_per_month_included']\n",
    "     rub_sms = row['rub_per_message']\n",
    "     rub_min = row['rub_per_minute']\n",
    "     rub_gb = row['rub_per_gb']\n",
    "     rub_monthly_fee = row['rub_monthly_fee']\n",
    "     revenue = 0\n",
    "\n",
    "     if calls > min_inc:\n",
    "       revenue = revenue + (calls - min_inc)*rub_min\n",
    "     elif sms > sms_inc:\n",
    "       revenue = revenue + (sms - sms_inc)*rub_sms\n",
    "     elif gb > gb_inc:\n",
    "       revenue = revenue + (gb - gb_inc)*rub_gb\n",
    "     revenue = revenue + rub_monthly_fee  \n",
    "     return revenue       \n",
    "     \n",
    "df['profit'] = df.apply(profit, axis=1)"
   ]
  },
  {
   "cell_type": "markdown",
   "metadata": {
    "id": "nYAo2fV6tv2J"
   },
   "source": [
    "# Шаг 3. Проанализируйте данные"
   ]
  },
  {
   "cell_type": "markdown",
   "metadata": {
    "id": "SyJC-nQ0t6hm"
   },
   "source": [
    "Опишите поведение клиентов оператора, исходя из выборки. Сколько минут разговора, сколько сообщений и какой объём интернет-трафика требуется пользователям каждого тарифа в месяц? Посчитайте среднее количество, дисперсию и стандартное отклонение. Постройте гистограммы. Опишите распределения."
   ]
  },
  {
   "cell_type": "markdown",
   "metadata": {
    "id": "c6PRAhc4_Hum"
   },
   "source": [
    "3.1 Сколько минут разговора, сколько сообщений и какой объём интернет-трафика требуется пользователям каждого тарифа в месяц?"
   ]
  },
  {
   "cell_type": "code",
   "execution_count": 133,
   "metadata": {
    "id": "LqKMsgC-Rw3p"
   },
   "outputs": [],
   "source": [
    "# посчитаем требуемый объем трафика, минут, сообщений каждого трафика в месяц\n",
    "df_sum = df.pivot_table(index=['month'], columns='tariff', values=['sum_calls', 'gb_used', 'sms'], aggfunc='sum')"
   ]
  },
  {
   "cell_type": "code",
   "execution_count": 134,
   "metadata": {
    "id": "T6q7gLoLR7u7"
   },
   "outputs": [],
   "source": [
    "# изменим название колонок\n",
    "df_sum.columns = ['gb_smart_sum', 'gb_ultra_sum', 'sms_smart_sum', 'sms_ultra_sum', 'calls_smart_sum', 'calls_ultra_sum']"
   ]
  },
  {
   "cell_type": "code",
   "execution_count": 135,
   "metadata": {
    "colab": {
     "base_uri": "https://localhost:8080/",
     "height": 457
    },
    "id": "HOyQ52hUSHtC",
    "outputId": "2d43de35-5c69-41b6-846d-8c28dd761f27"
   },
   "outputs": [
    {
     "data": {
      "text/html": [
       "<div>\n",
       "<style scoped>\n",
       "    .dataframe tbody tr th:only-of-type {\n",
       "        vertical-align: middle;\n",
       "    }\n",
       "\n",
       "    .dataframe tbody tr th {\n",
       "        vertical-align: top;\n",
       "    }\n",
       "\n",
       "    .dataframe thead th {\n",
       "        text-align: right;\n",
       "    }\n",
       "</style>\n",
       "<table border=\"1\" class=\"dataframe\">\n",
       "  <thead>\n",
       "    <tr style=\"text-align: right;\">\n",
       "      <th></th>\n",
       "      <th>gb_smart_sum</th>\n",
       "      <th>gb_ultra_sum</th>\n",
       "      <th>sms_smart_sum</th>\n",
       "      <th>sms_ultra_sum</th>\n",
       "      <th>calls_smart_sum</th>\n",
       "      <th>calls_ultra_sum</th>\n",
       "    </tr>\n",
       "    <tr>\n",
       "      <th>month</th>\n",
       "      <th></th>\n",
       "      <th></th>\n",
       "      <th></th>\n",
       "      <th></th>\n",
       "      <th></th>\n",
       "      <th></th>\n",
       "    </tr>\n",
       "  </thead>\n",
       "  <tbody>\n",
       "    <tr>\n",
       "      <th>1.0</th>\n",
       "      <td>297.0</td>\n",
       "      <td>119.0</td>\n",
       "      <td>620.0</td>\n",
       "      <td>304.0</td>\n",
       "      <td>6931.0</td>\n",
       "      <td>3853.0</td>\n",
       "    </tr>\n",
       "    <tr>\n",
       "      <th>2.0</th>\n",
       "      <td>687.0</td>\n",
       "      <td>288.0</td>\n",
       "      <td>1397.0</td>\n",
       "      <td>527.0</td>\n",
       "      <td>17324.0</td>\n",
       "      <td>7131.0</td>\n",
       "    </tr>\n",
       "    <tr>\n",
       "      <th>3.0</th>\n",
       "      <td>1173.0</td>\n",
       "      <td>653.0</td>\n",
       "      <td>2453.0</td>\n",
       "      <td>1195.0</td>\n",
       "      <td>30034.0</td>\n",
       "      <td>18117.0</td>\n",
       "    </tr>\n",
       "    <tr>\n",
       "      <th>4.0</th>\n",
       "      <td>1526.0</td>\n",
       "      <td>933.0</td>\n",
       "      <td>3443.0</td>\n",
       "      <td>1736.0</td>\n",
       "      <td>41119.0</td>\n",
       "      <td>25191.0</td>\n",
       "    </tr>\n",
       "    <tr>\n",
       "      <th>5.0</th>\n",
       "      <td>2243.0</td>\n",
       "      <td>1298.0</td>\n",
       "      <td>4762.0</td>\n",
       "      <td>2536.0</td>\n",
       "      <td>54618.0</td>\n",
       "      <td>34192.0</td>\n",
       "    </tr>\n",
       "    <tr>\n",
       "      <th>6.0</th>\n",
       "      <td>2616.0</td>\n",
       "      <td>1591.0</td>\n",
       "      <td>5478.0</td>\n",
       "      <td>3505.0</td>\n",
       "      <td>64885.0</td>\n",
       "      <td>40295.0</td>\n",
       "    </tr>\n",
       "    <tr>\n",
       "      <th>7.0</th>\n",
       "      <td>3191.0</td>\n",
       "      <td>1866.0</td>\n",
       "      <td>6784.0</td>\n",
       "      <td>4536.0</td>\n",
       "      <td>82079.0</td>\n",
       "      <td>49667.0</td>\n",
       "    </tr>\n",
       "    <tr>\n",
       "      <th>8.0</th>\n",
       "      <td>3933.0</td>\n",
       "      <td>2097.0</td>\n",
       "      <td>7905.0</td>\n",
       "      <td>5183.0</td>\n",
       "      <td>99045.0</td>\n",
       "      <td>54653.0</td>\n",
       "    </tr>\n",
       "    <tr>\n",
       "      <th>9.0</th>\n",
       "      <td>4262.0</td>\n",
       "      <td>2213.0</td>\n",
       "      <td>8746.0</td>\n",
       "      <td>6013.0</td>\n",
       "      <td>111439.0</td>\n",
       "      <td>62036.0</td>\n",
       "    </tr>\n",
       "    <tr>\n",
       "      <th>10.0</th>\n",
       "      <td>4963.0</td>\n",
       "      <td>2468.0</td>\n",
       "      <td>9927.0</td>\n",
       "      <td>7187.0</td>\n",
       "      <td>125284.0</td>\n",
       "      <td>68644.0</td>\n",
       "    </tr>\n",
       "    <tr>\n",
       "      <th>11.0</th>\n",
       "      <td>5372.0</td>\n",
       "      <td>2654.0</td>\n",
       "      <td>10768.0</td>\n",
       "      <td>7476.0</td>\n",
       "      <td>137544.0</td>\n",
       "      <td>72545.0</td>\n",
       "    </tr>\n",
       "    <tr>\n",
       "      <th>12.0</th>\n",
       "      <td>6134.0</td>\n",
       "      <td>3022.0</td>\n",
       "      <td>12130.0</td>\n",
       "      <td>8425.0</td>\n",
       "      <td>161275.0</td>\n",
       "      <td>82400.0</td>\n",
       "    </tr>\n",
       "  </tbody>\n",
       "</table>\n",
       "</div>"
      ],
      "text/plain": [
       "       gb_smart_sum  gb_ultra_sum  sms_smart_sum  sms_ultra_sum  \\\n",
       "month                                                             \n",
       "1.0           297.0         119.0          620.0          304.0   \n",
       "2.0           687.0         288.0         1397.0          527.0   \n",
       "3.0          1173.0         653.0         2453.0         1195.0   \n",
       "4.0          1526.0         933.0         3443.0         1736.0   \n",
       "5.0          2243.0        1298.0         4762.0         2536.0   \n",
       "6.0          2616.0        1591.0         5478.0         3505.0   \n",
       "7.0          3191.0        1866.0         6784.0         4536.0   \n",
       "8.0          3933.0        2097.0         7905.0         5183.0   \n",
       "9.0          4262.0        2213.0         8746.0         6013.0   \n",
       "10.0         4963.0        2468.0         9927.0         7187.0   \n",
       "11.0         5372.0        2654.0        10768.0         7476.0   \n",
       "12.0         6134.0        3022.0        12130.0         8425.0   \n",
       "\n",
       "       calls_smart_sum  calls_ultra_sum  \n",
       "month                                    \n",
       "1.0             6931.0           3853.0  \n",
       "2.0            17324.0           7131.0  \n",
       "3.0            30034.0          18117.0  \n",
       "4.0            41119.0          25191.0  \n",
       "5.0            54618.0          34192.0  \n",
       "6.0            64885.0          40295.0  \n",
       "7.0            82079.0          49667.0  \n",
       "8.0            99045.0          54653.0  \n",
       "9.0           111439.0          62036.0  \n",
       "10.0          125284.0          68644.0  \n",
       "11.0          137544.0          72545.0  \n",
       "12.0          161275.0          82400.0  "
      ]
     },
     "execution_count": 135,
     "metadata": {},
     "output_type": "execute_result"
    }
   ],
   "source": [
    "df_sum"
   ]
  },
  {
   "cell_type": "code",
   "execution_count": 136,
   "metadata": {
    "colab": {
     "base_uri": "https://localhost:8080/",
     "height": 333
    },
    "id": "RdMRRxq-2hEp",
    "outputId": "0e5fd4e3-ddeb-4e1a-bf89-a8afadf7b4b5"
   },
   "outputs": [
    {
     "data": {
      "text/plain": [
       "array([[<AxesSubplot:title={'center':'gb_smart_sum'}>,\n",
       "        <AxesSubplot:title={'center':'gb_ultra_sum'}>]], dtype=object)"
      ]
     },
     "execution_count": 136,
     "metadata": {},
     "output_type": "execute_result"
    },
    {
     "data": {
      "image/png": "[encoded data removed]",
      "text/plain": [
       "<Figure size 432x288 with 2 Axes>"
      ]
     },
     "metadata": {
      "needs_background": "light"
     },
     "output_type": "display_data"
    }
   ],
   "source": [
    "df_sum.hist(column=['gb_smart_sum', 'gb_ultra_sum'])"
   ]
  },
  {
   "cell_type": "code",
   "execution_count": 137,
   "metadata": {
    "colab": {
     "base_uri": "https://localhost:8080/",
     "height": 283
    },
    "id": "zKkTHYzQVBoU",
    "outputId": "cb1a5e91-ceed-40f5-8d85-ca905579c24f"
   },
   "outputs": [
    {
     "data": {
      "text/plain": [
       "<AxesSubplot:ylabel='Frequency'>"
      ]
     },
     "execution_count": 137,
     "metadata": {},
     "output_type": "execute_result"
    },
    {
     "data": {
      "image/png": "[encoded data removed]",
      "text/plain": [
       "<Figure size 432x288 with 1 Axes>"
      ]
     },
     "metadata": {
      "needs_background": "light"
     },
     "output_type": "display_data"
    }
   ],
   "source": [
    "# построим гистограммы для данных двух тарифов\n",
    "ax = df_sum.plot(kind='hist', y='gb_smart_sum', bins=12, alpha=0.5, label='smart_gb')\n",
    "df_sum.plot(kind='hist', y='gb_ultra_sum',bins=12, alpha=0.5, label='ultra_gb', ax=ax, grid=True, legend=True)"
   ]
  },
  {
   "cell_type": "markdown",
   "metadata": {
    "id": "9mF5Bn-4VneN"
   },
   "source": [
    "Вывод: чаще всего пользователям тарифа \"Смарт\" в месяц требуется около 500Гб или 2500Гб интернета. И они не тратят больше 3000 Гб. Пользователи тарифа \"Ультра\" также чаще всего тратят в мясяц около 500Гб или 2500Гб. И они не тратят больше 6000Гб."
   ]
  },
  {
   "cell_type": "code",
   "execution_count": 138,
   "metadata": {
    "colab": {
     "base_uri": "https://localhost:8080/",
     "height": 379
    },
    "id": "me1QnkM85P_b",
    "outputId": "6a2f4051-28be-4f65-cce3-7f0ff5e48b49"
   },
   "outputs": [
    {
     "data": {
      "text/plain": [
       "<AxesSubplot:title={'center':'Gb and Month'}, xlabel='month'>"
      ]
     },
     "execution_count": 138,
     "metadata": {},
     "output_type": "execute_result"
    },
    {
     "data": {
      "image/png": "[encoded data removed]",
      "text/plain": [
       "<Figure size 360x360 with 1 Axes>"
      ]
     },
     "metadata": {
      "needs_background": "light"
     },
     "output_type": "display_data"
    }
   ],
   "source": [
    "# построим столбчатую диаграмму\n",
    "df_sum.plot(y=['gb_smart_sum', 'gb_ultra_sum'], kind='bar', figsize=(5,5), grid=True, title='Gb and Month')"
   ]
  },
  {
   "cell_type": "code",
   "execution_count": 139,
   "metadata": {
    "colab": {
     "base_uri": "https://localhost:8080/",
     "height": 283
    },
    "id": "IrqRp3rbNQcU",
    "outputId": "c106b0a9-bc1e-450b-da59-6dfa7f9649d0"
   },
   "outputs": [
    {
     "data": {
      "text/plain": [
       "<AxesSubplot:ylabel='Frequency'>"
      ]
     },
     "execution_count": 139,
     "metadata": {},
     "output_type": "execute_result"
    },
    {
     "data": {
      "image/png": "[encoded data removed]",
      "text/plain": [
       "<Figure size 432x288 with 1 Axes>"
      ]
     },
     "metadata": {
      "needs_background": "light"
     },
     "output_type": "display_data"
    }
   ],
   "source": [
    "# построим гистограммы для данных двух тарифов\n",
    "ax = df_sum.plot(kind='hist', y='sms_smart_sum', bins=12, alpha=0.5, label='smart_sms')\n",
    "df_sum.plot(kind='hist', y='sms_ultra_sum',bins=12, alpha=0.5, label='ultra_sms', ax=ax, grid=True, legend=True)"
   ]
  },
  {
   "cell_type": "markdown",
   "metadata": {
    "id": "XyU87gfpYToD"
   },
   "source": [
    "Вывод: чаще всего в месяц пользователям тарифа \"Ультра\" требиется 1000 смс или около 7000, но 8000 они не используют. Пользователии тарифа \"Сматр\" чаще всего требуется 1000 сообщений в смс, а максимум не превышает 12000."
   ]
  },
  {
   "cell_type": "code",
   "execution_count": 140,
   "metadata": {
    "colab": {
     "base_uri": "https://localhost:8080/",
     "height": 379
    },
    "id": "kAXnLCyK9xtE",
    "outputId": "971a3215-76f8-4a01-991f-3ece73ad2250"
   },
   "outputs": [
    {
     "data": {
      "text/plain": [
       "<AxesSubplot:title={'center':'Sms and Month'}, xlabel='month'>"
      ]
     },
     "execution_count": 140,
     "metadata": {},
     "output_type": "execute_result"
    },
    {
     "data": {
      "image/png": "[encoded data removed]",
      "text/plain": [
       "<Figure size 360x360 with 1 Axes>"
      ]
     },
     "metadata": {
      "needs_background": "light"
     },
     "output_type": "display_data"
    }
   ],
   "source": [
    "# построим столбчатую диаграмму\n",
    "df_sum.plot(y=['sms_smart_sum', 'sms_ultra_sum'], kind='bar', figsize=(5,5), grid=True, title='Sms and Month')"
   ]
  },
  {
   "cell_type": "code",
   "execution_count": 141,
   "metadata": {
    "colab": {
     "base_uri": "https://localhost:8080/",
     "height": 283
    },
    "id": "lLh69-xcNmb7",
    "outputId": "e466e361-7689-4827-c62f-ada00034a617"
   },
   "outputs": [
    {
     "data": {
      "text/plain": [
       "<AxesSubplot:ylabel='Frequency'>"
      ]
     },
     "execution_count": 141,
     "metadata": {},
     "output_type": "execute_result"
    },
    {
     "data": {
      "image/png": "[encoded data removed]",
      "text/plain": [
       "<Figure size 432x288 with 1 Axes>"
      ]
     },
     "metadata": {
      "needs_background": "light"
     },
     "output_type": "display_data"
    }
   ],
   "source": [
    "# построим гистограммы для данных двух тарифов\n",
    "ax = df_sum.plot(kind='hist', y='calls_smart_sum', bins=12, alpha=0.5, label='smart_calls')\n",
    "df_sum.plot(kind='hist', y='calls_ultra_sum',bins=12, alpha=0.5, label='ultra_calls', ax=ax, grid=True, legend=True)"
   ]
  },
  {
   "cell_type": "markdown",
   "metadata": {
    "id": "nTB-klCSZtU-"
   },
   "source": [
    "Вывод:чаще всего пользователям тарифа \"Смарт\" требуется около 2000 мин в мясяц, максимум 23000 мин. Пользователям тарифа \"Ультра\" требуется чаще всего в месяц около 1000 мин, максимум 12000 мин."
   ]
  },
  {
   "cell_type": "code",
   "execution_count": 142,
   "metadata": {
    "colab": {
     "base_uri": "https://localhost:8080/",
     "height": 379
    },
    "id": "IniDj7_M9-mm",
    "outputId": "cae2fcc7-4d8c-4894-d6cf-45530c0ee6bf"
   },
   "outputs": [
    {
     "data": {
      "text/plain": [
       "<AxesSubplot:title={'center':'Calls and Month'}, xlabel='month'>"
      ]
     },
     "execution_count": 142,
     "metadata": {},
     "output_type": "execute_result"
    },
    {
     "data": {
      "image/png": "[encoded data removed]",
      "text/plain": [
       "<Figure size 360x360 with 1 Axes>"
      ]
     },
     "metadata": {
      "needs_background": "light"
     },
     "output_type": "display_data"
    }
   ],
   "source": [
    "# построим столбчатую диаграмму\n",
    "df_sum.plot(y=['calls_smart_sum', 'calls_ultra_sum'], kind='bar', figsize=(5,5), grid=True, title='Calls and Month')"
   ]
  },
  {
   "cell_type": "markdown",
   "metadata": {
    "id": "fHh7OIgrK6W3"
   },
   "source": [
    "Вывод: по графикам видно, что пользователи тарифа \"Смарт\" используют больше интернет-трафика, сообщений, минут на звонки в месяц, чем пользователи тарифа \"Ультра\". Пользователей тарифа \"Смарт\" больше."
   ]
  },
  {
   "cell_type": "markdown",
   "metadata": {
    "id": "XbvC9nn4_UUQ"
   },
   "source": [
    "3.2 Посчитайте среднее количество минут, сообщений, интерет-трафика в месяц для каждого тарифа.\n"
   ]
  },
  {
   "cell_type": "code",
   "execution_count": 143,
   "metadata": {
    "id": "CCyOfUIC9P_u"
   },
   "outputs": [],
   "source": [
    "# расчитаем среднее\n",
    "df_mean = df.pivot_table(index=['month'], columns='tariff', values=['sum_calls', 'gb_used', 'sms'], aggfunc='mean')"
   ]
  },
  {
   "cell_type": "code",
   "execution_count": 144,
   "metadata": {
    "id": "0lEqPw2p96B_"
   },
   "outputs": [],
   "source": [
    "# изменим название колонок\n",
    "df_mean.columns = ['gb_smart_mean', 'gb_ultra_mean', 'sms_smart_mean', 'sms_ultra_mean', 'calls_smart_mean', 'calls_ultra_mean']"
   ]
  },
  {
   "cell_type": "code",
   "execution_count": 145,
   "metadata": {
    "colab": {
     "base_uri": "https://localhost:8080/",
     "height": 457
    },
    "id": "bIU3ua4A95tf",
    "outputId": "fd168c1b-df02-4daa-9e16-0e15d68939d8"
   },
   "outputs": [
    {
     "data": {
      "text/html": [
       "<div>\n",
       "<style scoped>\n",
       "    .dataframe tbody tr th:only-of-type {\n",
       "        vertical-align: middle;\n",
       "    }\n",
       "\n",
       "    .dataframe tbody tr th {\n",
       "        vertical-align: top;\n",
       "    }\n",
       "\n",
       "    .dataframe thead th {\n",
       "        text-align: right;\n",
       "    }\n",
       "</style>\n",
       "<table border=\"1\" class=\"dataframe\">\n",
       "  <thead>\n",
       "    <tr style=\"text-align: right;\">\n",
       "      <th></th>\n",
       "      <th>gb_smart_mean</th>\n",
       "      <th>gb_ultra_mean</th>\n",
       "      <th>sms_smart_mean</th>\n",
       "      <th>sms_ultra_mean</th>\n",
       "      <th>calls_smart_mean</th>\n",
       "      <th>calls_ultra_mean</th>\n",
       "    </tr>\n",
       "    <tr>\n",
       "      <th>month</th>\n",
       "      <th></th>\n",
       "      <th></th>\n",
       "      <th></th>\n",
       "      <th></th>\n",
       "      <th></th>\n",
       "      <th></th>\n",
       "    </tr>\n",
       "  </thead>\n",
       "  <tbody>\n",
       "    <tr>\n",
       "      <th>1.0</th>\n",
       "      <td>8.735294</td>\n",
       "      <td>13.222222</td>\n",
       "      <td>18.235294</td>\n",
       "      <td>33.777778</td>\n",
       "      <td>203.852941</td>\n",
       "      <td>428.111111</td>\n",
       "    </tr>\n",
       "    <tr>\n",
       "      <th>2.0</th>\n",
       "      <td>11.844828</td>\n",
       "      <td>12.000000</td>\n",
       "      <td>24.086207</td>\n",
       "      <td>21.958333</td>\n",
       "      <td>298.689655</td>\n",
       "      <td>297.125000</td>\n",
       "    </tr>\n",
       "    <tr>\n",
       "      <th>3.0</th>\n",
       "      <td>15.233766</td>\n",
       "      <td>17.648649</td>\n",
       "      <td>31.857143</td>\n",
       "      <td>32.297297</td>\n",
       "      <td>390.051948</td>\n",
       "      <td>489.648649</td>\n",
       "    </tr>\n",
       "    <tr>\n",
       "      <th>4.0</th>\n",
       "      <td>13.625000</td>\n",
       "      <td>16.963636</td>\n",
       "      <td>30.741071</td>\n",
       "      <td>31.563636</td>\n",
       "      <td>367.133929</td>\n",
       "      <td>458.018182</td>\n",
       "    </tr>\n",
       "    <tr>\n",
       "      <th>5.0</th>\n",
       "      <td>15.907801</td>\n",
       "      <td>19.373134</td>\n",
       "      <td>33.773050</td>\n",
       "      <td>37.850746</td>\n",
       "      <td>387.361702</td>\n",
       "      <td>510.328358</td>\n",
       "    </tr>\n",
       "    <tr>\n",
       "      <th>6.0</th>\n",
       "      <td>15.951220</td>\n",
       "      <td>18.940476</td>\n",
       "      <td>33.402439</td>\n",
       "      <td>41.726190</td>\n",
       "      <td>395.640244</td>\n",
       "      <td>479.702381</td>\n",
       "    </tr>\n",
       "    <tr>\n",
       "      <th>7.0</th>\n",
       "      <td>15.875622</td>\n",
       "      <td>20.505495</td>\n",
       "      <td>33.751244</td>\n",
       "      <td>49.846154</td>\n",
       "      <td>408.353234</td>\n",
       "      <td>545.791209</td>\n",
       "    </tr>\n",
       "    <tr>\n",
       "      <th>8.0</th>\n",
       "      <td>16.736170</td>\n",
       "      <td>19.598131</td>\n",
       "      <td>33.638298</td>\n",
       "      <td>48.439252</td>\n",
       "      <td>421.468085</td>\n",
       "      <td>510.775701</td>\n",
       "    </tr>\n",
       "    <tr>\n",
       "      <th>9.0</th>\n",
       "      <td>16.392308</td>\n",
       "      <td>19.243478</td>\n",
       "      <td>33.638462</td>\n",
       "      <td>52.286957</td>\n",
       "      <td>428.611538</td>\n",
       "      <td>539.443478</td>\n",
       "    </tr>\n",
       "    <tr>\n",
       "      <th>10.0</th>\n",
       "      <td>16.880952</td>\n",
       "      <td>20.065041</td>\n",
       "      <td>33.765306</td>\n",
       "      <td>58.430894</td>\n",
       "      <td>426.136054</td>\n",
       "      <td>558.081301</td>\n",
       "    </tr>\n",
       "    <tr>\n",
       "      <th>11.0</th>\n",
       "      <td>17.000000</td>\n",
       "      <td>19.805970</td>\n",
       "      <td>34.075949</td>\n",
       "      <td>55.791045</td>\n",
       "      <td>435.265823</td>\n",
       "      <td>541.380597</td>\n",
       "    </tr>\n",
       "    <tr>\n",
       "      <th>12.0</th>\n",
       "      <td>18.201780</td>\n",
       "      <td>21.741007</td>\n",
       "      <td>35.994065</td>\n",
       "      <td>60.611511</td>\n",
       "      <td>478.560831</td>\n",
       "      <td>592.805755</td>\n",
       "    </tr>\n",
       "  </tbody>\n",
       "</table>\n",
       "</div>"
      ],
      "text/plain": [
       "       gb_smart_mean  gb_ultra_mean  sms_smart_mean  sms_ultra_mean  \\\n",
       "month                                                                 \n",
       "1.0         8.735294      13.222222       18.235294       33.777778   \n",
       "2.0        11.844828      12.000000       24.086207       21.958333   \n",
       "3.0        15.233766      17.648649       31.857143       32.297297   \n",
       "4.0        13.625000      16.963636       30.741071       31.563636   \n",
       "5.0        15.907801      19.373134       33.773050       37.850746   \n",
       "6.0        15.951220      18.940476       33.402439       41.726190   \n",
       "7.0        15.875622      20.505495       33.751244       49.846154   \n",
       "8.0        16.736170      19.598131       33.638298       48.439252   \n",
       "9.0        16.392308      19.243478       33.638462       52.286957   \n",
       "10.0       16.880952      20.065041       33.765306       58.430894   \n",
       "11.0       17.000000      19.805970       34.075949       55.791045   \n",
       "12.0       18.201780      21.741007       35.994065       60.611511   \n",
       "\n",
       "       calls_smart_mean  calls_ultra_mean  \n",
       "month                                      \n",
       "1.0          203.852941        428.111111  \n",
       "2.0          298.689655        297.125000  \n",
       "3.0          390.051948        489.648649  \n",
       "4.0          367.133929        458.018182  \n",
       "5.0          387.361702        510.328358  \n",
       "6.0          395.640244        479.702381  \n",
       "7.0          408.353234        545.791209  \n",
       "8.0          421.468085        510.775701  \n",
       "9.0          428.611538        539.443478  \n",
       "10.0         426.136054        558.081301  \n",
       "11.0         435.265823        541.380597  \n",
       "12.0         478.560831        592.805755  "
      ]
     },
     "execution_count": 145,
     "metadata": {},
     "output_type": "execute_result"
    }
   ],
   "source": [
    "df_mean"
   ]
  },
  {
   "cell_type": "code",
   "execution_count": 146,
   "metadata": {
    "colab": {
     "base_uri": "https://localhost:8080/",
     "height": 333
    },
    "id": "vfDQlI4ruQK1",
    "outputId": "36f70115-ae19-43fc-9954-5972e21e56d8"
   },
   "outputs": [
    {
     "data": {
      "text/plain": [
       "array([[<AxesSubplot:title={'center':'gb_smart_mean'}>,\n",
       "        <AxesSubplot:title={'center':'gb_ultra_mean'}>]], dtype=object)"
      ]
     },
     "execution_count": 146,
     "metadata": {},
     "output_type": "execute_result"
    },
    {
     "data": {
      "image/png": "[encoded data removed]",
      "text/plain": [
       "<Figure size 432x288 with 2 Axes>"
      ]
     },
     "metadata": {
      "needs_background": "light"
     },
     "output_type": "display_data"
    }
   ],
   "source": [
    "df_mean.hist(column=['gb_smart_mean', 'gb_ultra_mean'])"
   ]
  },
  {
   "cell_type": "code",
   "execution_count": 147,
   "metadata": {
    "colab": {
     "base_uri": "https://localhost:8080/",
     "height": 283
    },
    "id": "PTwtIH-KA4_H",
    "outputId": "dcbf2eb6-b7f3-4454-d6df-3aae51c75065"
   },
   "outputs": [
    {
     "data": {
      "text/plain": [
       "<AxesSubplot:ylabel='Frequency'>"
      ]
     },
     "execution_count": 147,
     "metadata": {},
     "output_type": "execute_result"
    },
    {
     "data": {
      "image/png": "[encoded data removed]",
      "text/plain": [
       "<Figure size 432x288 with 1 Axes>"
      ]
     },
     "metadata": {
      "needs_background": "light"
     },
     "output_type": "display_data"
    }
   ],
   "source": [
    "# постороим гистограммы для средних значений интернет-трафика для каждого тарифа\n",
    "ax = df_mean.plot(kind='hist', y='gb_smart_mean', bins=12, range=(0,22), alpha=0.5, label='smart_gb')\n",
    "df_mean.plot(kind='hist', y='gb_ultra_mean',bins=12, range=(0,22), alpha=0.5, label='ultra_gb', ax=ax, grid=True, legend=True)"
   ]
  },
  {
   "cell_type": "code",
   "execution_count": 148,
   "metadata": {
    "colab": {
     "base_uri": "https://localhost:8080/",
     "height": 379
    },
    "id": "cPEsGJ3R7jMm",
    "outputId": "51564eb9-382c-4655-ad9e-96e036659db5"
   },
   "outputs": [
    {
     "data": {
      "text/plain": [
       "<AxesSubplot:title={'center':'Gb_mean and Month'}, xlabel='month'>"
      ]
     },
     "execution_count": 148,
     "metadata": {},
     "output_type": "execute_result"
    },
    {
     "data": {
      "image/png": "[encoded data removed]",
      "text/plain": [
       "<Figure size 360x360 with 1 Axes>"
      ]
     },
     "metadata": {
      "needs_background": "light"
     },
     "output_type": "display_data"
    }
   ],
   "source": [
    "# построим столбчатую диаграмму\n",
    "df_mean.plot(y=['gb_smart_mean', 'gb_ultra_mean'], kind='bar', figsize=(5,5), grid=True, title='Gb_mean and Month')"
   ]
  },
  {
   "cell_type": "markdown",
   "metadata": {
    "id": "YWHxR-hRN13z"
   },
   "source": [
    "Вывод: по графикам видно, что пользователи тарифа \"Смарт\" чаще всего в среднем тратят интернет-трафика около 15Гб или больше, это вы ходит за пределы тарифного плана, значит допольнительные Гб они докупают. Пользователи тарифа \"Ультра\" чаще всего тратят в среднем в месяц около 20Гб, это не привышает тарифный план."
   ]
  },
  {
   "cell_type": "code",
   "execution_count": 149,
   "metadata": {
    "colab": {
     "base_uri": "https://localhost:8080/",
     "height": 283
    },
    "id": "nATdnHNnn9eW",
    "outputId": "4959706a-a4dc-4776-b216-38a783fbfc7a"
   },
   "outputs": [
    {
     "data": {
      "text/plain": [
       "<AxesSubplot:ylabel='Frequency'>"
      ]
     },
     "execution_count": 149,
     "metadata": {},
     "output_type": "execute_result"
    },
    {
     "data": {
      "image/png": "[encoded data removed]",
      "text/plain": [
       "<Figure size 432x288 with 1 Axes>"
      ]
     },
     "metadata": {
      "needs_background": "light"
     },
     "output_type": "display_data"
    }
   ],
   "source": [
    "# постороим гистограммы для средних значений количества сообщений для каждого тарифа\n",
    "ax = df_mean.plot(kind='hist', y='sms_smart_mean', bins=12, range=(0,70), alpha=0.5, label='smart_sms')\n",
    "df_mean.plot(kind='hist', y='sms_ultra_mean',bins=12, range=(0,70), alpha=0.5, label='ultra_sms', ax=ax, grid=True, legend=True)"
   ]
  },
  {
   "cell_type": "markdown",
   "metadata": {
    "id": "OV4Mq3g4MOXL"
   },
   "source": [
    "Вывод: в среднем чаще всего пользователи тарифа \"Смарт\" тратят около 30 смс, что входит в тарифный план и не выходят за его границы. Пользователи тарифа \"Ультра\" используют не больше 70 смс, этона много меньше, чем предоставляется тарифом."
   ]
  },
  {
   "cell_type": "code",
   "execution_count": 150,
   "metadata": {
    "colab": {
     "base_uri": "https://localhost:8080/",
     "height": 379
    },
    "id": "_7j0XKoQ7wtZ",
    "outputId": "45f1ddc1-93fa-4d92-8bfe-4a17fc62ddb9"
   },
   "outputs": [
    {
     "data": {
      "text/plain": [
       "<AxesSubplot:title={'center':'Sms_mean and Month'}, xlabel='month'>"
      ]
     },
     "execution_count": 150,
     "metadata": {},
     "output_type": "execute_result"
    },
    {
     "data": {
      "image/png": "[encoded data removed]",
      "text/plain": [
       "<Figure size 360x360 with 1 Axes>"
      ]
     },
     "metadata": {
      "needs_background": "light"
     },
     "output_type": "display_data"
    }
   ],
   "source": [
    "# построим столбчатую диаграмму\n",
    "df_mean.plot(y=['sms_smart_mean', 'sms_ultra_mean'], kind='bar', figsize=(5,5), grid=True, title='Sms_mean and Month')"
   ]
  },
  {
   "cell_type": "code",
   "execution_count": 151,
   "metadata": {
    "colab": {
     "base_uri": "https://localhost:8080/",
     "height": 283
    },
    "id": "OX-H6Kq_ou4T",
    "outputId": "7c150e08-1626-46cc-f64a-46ed72bb08aa"
   },
   "outputs": [
    {
     "data": {
      "text/plain": [
       "<AxesSubplot:ylabel='Frequency'>"
      ]
     },
     "execution_count": 151,
     "metadata": {},
     "output_type": "execute_result"
    },
    {
     "data": {
      "image/png": "[encoded data removed]",
      "text/plain": [
       "<Figure size 432x288 with 1 Axes>"
      ]
     },
     "metadata": {
      "needs_background": "light"
     },
     "output_type": "display_data"
    }
   ],
   "source": [
    "# постороим гистограммы для средних значений минут разговора для каждого тарифа\n",
    "ax = df_mean.plot(kind='hist', y='calls_smart_mean', bins=12, range=(0,90), alpha=0.5, label='smart_calls')\n",
    "df_mean.plot(kind='hist', y='calls_ultra_mean',bins=12, range=(0,90), alpha=0.5, label='ultra_calls', ax=ax, grid=True, legend=True)"
   ]
  },
  {
   "cell_type": "markdown",
   "metadata": {
    "id": "P98SFPtNO0QV"
   },
   "source": [
    "Вывод: Чаще всего пользователи тарифа \"Смарт\" тратят в месяц в среднем около 60 минут разговора, это не выходит за рамки тарифного плана. Пользователи тарифа \"Ультра\" чаще всего тратят на раговоры около 70 мин, это также не выходит за рамки тарифного плана."
   ]
  },
  {
   "cell_type": "code",
   "execution_count": 152,
   "metadata": {
    "colab": {
     "base_uri": "https://localhost:8080/",
     "height": 379
    },
    "id": "vt3WO5Qj8AOH",
    "outputId": "9bf51dcd-a074-47ad-d3fb-83fe8bae0872"
   },
   "outputs": [
    {
     "data": {
      "text/plain": [
       "<AxesSubplot:title={'center':'Calls_mean and Month'}, xlabel='month'>"
      ]
     },
     "execution_count": 152,
     "metadata": {},
     "output_type": "execute_result"
    },
    {
     "data": {
      "image/png": "[encoded data removed]",
      "text/plain": [
       "<Figure size 360x360 with 1 Axes>"
      ]
     },
     "metadata": {
      "needs_background": "light"
     },
     "output_type": "display_data"
    }
   ],
   "source": [
    "# построим столбчатую диаграмму\n",
    "df_mean.plot(y=['calls_smart_mean', 'calls_ultra_mean'], kind='bar', figsize=(5,5), grid=True, title='Calls_mean and Month')"
   ]
  },
  {
   "cell_type": "markdown",
   "metadata": {
    "id": "AHgskkC5Lbci"
   },
   "source": [
    "Вывод: среднии траты по интернет-трафику, сообщениям и звонкам по месяцам выше у тарифа \"Ультра\". Все пользователи не привышают лимиты установленые их тарифными планами, за исключением пользователей тарифа \"Смарт\", которые докупают Гб интернета."
   ]
  },
  {
   "cell_type": "markdown",
   "metadata": {
    "id": "cgr3UgXY_boN"
   },
   "source": [
    "3.3 Посчитайте дисперсию."
   ]
  },
  {
   "cell_type": "code",
   "execution_count": 153,
   "metadata": {
    "id": "8ZsoQ-PB_Brg"
   },
   "outputs": [],
   "source": [
    "# расчет дисперсии\n",
    "df_var = df.pivot_table(index=['month'], columns='tariff', values=['sum_calls', 'gb_used', 'sms'], aggfunc='var')"
   ]
  },
  {
   "cell_type": "code",
   "execution_count": 154,
   "metadata": {
    "id": "n-6pQ67DACYR"
   },
   "outputs": [],
   "source": [
    "# изменение названий колонок\n",
    "df_var.columns = ['gb_smart_var', 'gb_ultra_var', 'sms_smart_var', 'sms_ultra_var', 'calls_smart_var', 'calls_ultra_var']"
   ]
  },
  {
   "cell_type": "code",
   "execution_count": 155,
   "metadata": {
    "colab": {
     "base_uri": "https://localhost:8080/",
     "height": 457
    },
    "id": "o984SkNj_pOd",
    "outputId": "29cff76b-6823-45d5-be4c-49d8a86264f3"
   },
   "outputs": [
    {
     "data": {
      "text/html": [
       "<div>\n",
       "<style scoped>\n",
       "    .dataframe tbody tr th:only-of-type {\n",
       "        vertical-align: middle;\n",
       "    }\n",
       "\n",
       "    .dataframe tbody tr th {\n",
       "        vertical-align: top;\n",
       "    }\n",
       "\n",
       "    .dataframe thead th {\n",
       "        text-align: right;\n",
       "    }\n",
       "</style>\n",
       "<table border=\"1\" class=\"dataframe\">\n",
       "  <thead>\n",
       "    <tr style=\"text-align: right;\">\n",
       "      <th></th>\n",
       "      <th>gb_smart_var</th>\n",
       "      <th>gb_ultra_var</th>\n",
       "      <th>sms_smart_var</th>\n",
       "      <th>sms_ultra_var</th>\n",
       "      <th>calls_smart_var</th>\n",
       "      <th>calls_ultra_var</th>\n",
       "    </tr>\n",
       "    <tr>\n",
       "      <th>month</th>\n",
       "      <th></th>\n",
       "      <th></th>\n",
       "      <th></th>\n",
       "      <th></th>\n",
       "      <th></th>\n",
       "      <th></th>\n",
       "    </tr>\n",
       "  </thead>\n",
       "  <tbody>\n",
       "    <tr>\n",
       "      <th>1.0</th>\n",
       "      <td>39.412656</td>\n",
       "      <td>44.444444</td>\n",
       "      <td>262.367201</td>\n",
       "      <td>940.694444</td>\n",
       "      <td>23787.341355</td>\n",
       "      <td>72769.361111</td>\n",
       "    </tr>\n",
       "    <tr>\n",
       "      <th>2.0</th>\n",
       "      <td>37.150938</td>\n",
       "      <td>109.130435</td>\n",
       "      <td>473.097701</td>\n",
       "      <td>716.824275</td>\n",
       "      <td>36412.287961</td>\n",
       "      <td>87919.679348</td>\n",
       "    </tr>\n",
       "    <tr>\n",
       "      <th>3.0</th>\n",
       "      <td>32.549897</td>\n",
       "      <td>114.345345</td>\n",
       "      <td>718.492481</td>\n",
       "      <td>1732.381381</td>\n",
       "      <td>36823.155161</td>\n",
       "      <td>111384.900901</td>\n",
       "    </tr>\n",
       "    <tr>\n",
       "      <th>4.0</th>\n",
       "      <td>31.299550</td>\n",
       "      <td>89.443098</td>\n",
       "      <td>602.139559</td>\n",
       "      <td>1407.287542</td>\n",
       "      <td>34778.207127</td>\n",
       "      <td>71653.870034</td>\n",
       "    </tr>\n",
       "    <tr>\n",
       "      <th>5.0</th>\n",
       "      <td>34.370010</td>\n",
       "      <td>95.631389</td>\n",
       "      <td>730.990983</td>\n",
       "      <td>1624.644052</td>\n",
       "      <td>34820.061094</td>\n",
       "      <td>83870.193578</td>\n",
       "    </tr>\n",
       "    <tr>\n",
       "      <th>6.0</th>\n",
       "      <td>31.911716</td>\n",
       "      <td>82.394005</td>\n",
       "      <td>806.806374</td>\n",
       "      <td>1986.297619</td>\n",
       "      <td>30742.918861</td>\n",
       "      <td>91535.946500</td>\n",
       "    </tr>\n",
       "    <tr>\n",
       "      <th>7.0</th>\n",
       "      <td>33.419453</td>\n",
       "      <td>96.430525</td>\n",
       "      <td>799.887811</td>\n",
       "      <td>2372.042735</td>\n",
       "      <td>32250.269602</td>\n",
       "      <td>94322.278144</td>\n",
       "    </tr>\n",
       "    <tr>\n",
       "      <th>8.0</th>\n",
       "      <td>30.041207</td>\n",
       "      <td>105.148298</td>\n",
       "      <td>838.257501</td>\n",
       "      <td>2171.739199</td>\n",
       "      <td>34793.583379</td>\n",
       "      <td>97956.496385</td>\n",
       "    </tr>\n",
       "    <tr>\n",
       "      <th>9.0</th>\n",
       "      <td>25.884110</td>\n",
       "      <td>86.255988</td>\n",
       "      <td>790.617820</td>\n",
       "      <td>2152.855530</td>\n",
       "      <td>33535.342723</td>\n",
       "      <td>105716.775286</td>\n",
       "    </tr>\n",
       "    <tr>\n",
       "      <th>10.0</th>\n",
       "      <td>32.897042</td>\n",
       "      <td>91.258030</td>\n",
       "      <td>816.111966</td>\n",
       "      <td>2697.181661</td>\n",
       "      <td>35392.336375</td>\n",
       "      <td>106464.583500</td>\n",
       "    </tr>\n",
       "    <tr>\n",
       "      <th>11.0</th>\n",
       "      <td>27.180952</td>\n",
       "      <td>93.796656</td>\n",
       "      <td>805.937071</td>\n",
       "      <td>2476.948491</td>\n",
       "      <td>31605.237050</td>\n",
       "      <td>96570.057064</td>\n",
       "    </tr>\n",
       "    <tr>\n",
       "      <th>12.0</th>\n",
       "      <td>29.786544</td>\n",
       "      <td>103.236784</td>\n",
       "      <td>934.952346</td>\n",
       "      <td>2681.978417</td>\n",
       "      <td>39698.622033</td>\n",
       "      <td>117276.331561</td>\n",
       "    </tr>\n",
       "  </tbody>\n",
       "</table>\n",
       "</div>"
      ],
      "text/plain": [
       "       gb_smart_var  gb_ultra_var  sms_smart_var  sms_ultra_var  \\\n",
       "month                                                             \n",
       "1.0       39.412656     44.444444     262.367201     940.694444   \n",
       "2.0       37.150938    109.130435     473.097701     716.824275   \n",
       "3.0       32.549897    114.345345     718.492481    1732.381381   \n",
       "4.0       31.299550     89.443098     602.139559    1407.287542   \n",
       "5.0       34.370010     95.631389     730.990983    1624.644052   \n",
       "6.0       31.911716     82.394005     806.806374    1986.297619   \n",
       "7.0       33.419453     96.430525     799.887811    2372.042735   \n",
       "8.0       30.041207    105.148298     838.257501    2171.739199   \n",
       "9.0       25.884110     86.255988     790.617820    2152.855530   \n",
       "10.0      32.897042     91.258030     816.111966    2697.181661   \n",
       "11.0      27.180952     93.796656     805.937071    2476.948491   \n",
       "12.0      29.786544    103.236784     934.952346    2681.978417   \n",
       "\n",
       "       calls_smart_var  calls_ultra_var  \n",
       "month                                    \n",
       "1.0       23787.341355     72769.361111  \n",
       "2.0       36412.287961     87919.679348  \n",
       "3.0       36823.155161    111384.900901  \n",
       "4.0       34778.207127     71653.870034  \n",
       "5.0       34820.061094     83870.193578  \n",
       "6.0       30742.918861     91535.946500  \n",
       "7.0       32250.269602     94322.278144  \n",
       "8.0       34793.583379     97956.496385  \n",
       "9.0       33535.342723    105716.775286  \n",
       "10.0      35392.336375    106464.583500  \n",
       "11.0      31605.237050     96570.057064  \n",
       "12.0      39698.622033    117276.331561  "
      ]
     },
     "execution_count": 155,
     "metadata": {},
     "output_type": "execute_result"
    }
   ],
   "source": [
    "df_var"
   ]
  },
  {
   "cell_type": "code",
   "execution_count": 156,
   "metadata": {
    "colab": {
     "base_uri": "https://localhost:8080/",
     "height": 283
    },
    "id": "9TUiUZXC0r0v",
    "outputId": "b13666ab-7295-461c-f316-184531350f08"
   },
   "outputs": [
    {
     "data": {
      "text/plain": [
       "<AxesSubplot:ylabel='Frequency'>"
      ]
     },
     "execution_count": 156,
     "metadata": {},
     "output_type": "execute_result"
    },
    {
     "data": {
      "image/png": "[encoded data removed]",
      "text/plain": [
       "<Figure size 432x288 with 1 Axes>"
      ]
     },
     "metadata": {
      "needs_background": "light"
     },
     "output_type": "display_data"
    }
   ],
   "source": [
    "# постороим гистограммы для дисперсии интернет-трафика для каждого тарифа\n",
    "ax = df_var.plot(kind='hist', y='gb_smart_var', bins=12, alpha=0.5, label='smart_gb_var')\n",
    "df_var.plot(kind='hist', y='gb_ultra_var',bins=12, alpha=0.5, label='ultra_gb_var', ax=ax, grid=True, legend=True)"
   ]
  },
  {
   "cell_type": "code",
   "execution_count": 157,
   "metadata": {
    "colab": {
     "base_uri": "https://localhost:8080/",
     "height": 379
    },
    "id": "WI9wqPEk8Kx6",
    "outputId": "eab8a514-cbb0-4c1c-aeec-d49109090d98"
   },
   "outputs": [
    {
     "data": {
      "text/plain": [
       "<AxesSubplot:title={'center':'Gb_var and Month'}, xlabel='month'>"
      ]
     },
     "execution_count": 157,
     "metadata": {},
     "output_type": "execute_result"
    },
    {
     "data": {
      "image/png": "[encoded data removed]",
      "text/plain": [
       "<Figure size 360x360 with 1 Axes>"
      ]
     },
     "metadata": {
      "needs_background": "light"
     },
     "output_type": "display_data"
    }
   ],
   "source": [
    "# построим столбчатую диаграмму\n",
    "df_var.plot(y=['gb_smart_var', 'gb_ultra_var'], kind='bar', figsize=(5,5), grid=True, title='Gb_var and Month')"
   ]
  },
  {
   "cell_type": "code",
   "execution_count": 158,
   "metadata": {
    "colab": {
     "base_uri": "https://localhost:8080/",
     "height": 283
    },
    "id": "9dl4yDvw0rqt",
    "outputId": "d8bb4931-30ce-455b-8d46-adb0408fd342"
   },
   "outputs": [
    {
     "data": {
      "text/plain": [
       "<AxesSubplot:ylabel='Frequency'>"
      ]
     },
     "execution_count": 158,
     "metadata": {},
     "output_type": "execute_result"
    },
    {
     "data": {
      "image/png": "[encoded data removed]",
      "text/plain": [
       "<Figure size 432x288 with 1 Axes>"
      ]
     },
     "metadata": {
      "needs_background": "light"
     },
     "output_type": "display_data"
    }
   ],
   "source": [
    "# постороим гистограммы для дисперсии сообщений для каждого тарифа\n",
    "ax = df_var.plot(kind='hist', y='sms_smart_var', bins=12, alpha=0.5, label='smart_sms_var')\n",
    "df_var.plot(kind='hist', y='sms_ultra_var',bins=12, alpha=0.5, label='ultra_sms_var', ax=ax, grid=True, legend=True)"
   ]
  },
  {
   "cell_type": "code",
   "execution_count": 159,
   "metadata": {
    "colab": {
     "base_uri": "https://localhost:8080/",
     "height": 379
    },
    "id": "tOb2RNYP8mcn",
    "outputId": "9371e38b-9f67-4d9b-a616-6d7dc725fed5"
   },
   "outputs": [
    {
     "data": {
      "text/plain": [
       "<AxesSubplot:title={'center':'Sms_var and Month'}, xlabel='month'>"
      ]
     },
     "execution_count": 159,
     "metadata": {},
     "output_type": "execute_result"
    },
    {
     "data": {
      "image/png": "[encoded data removed]",
      "text/plain": [
       "<Figure size 360x360 with 1 Axes>"
      ]
     },
     "metadata": {
      "needs_background": "light"
     },
     "output_type": "display_data"
    }
   ],
   "source": [
    "# построим столбчатую диаграмму\n",
    "df_var.plot(y=['sms_smart_var', 'sms_ultra_var'], kind='bar', figsize=(5,5), grid=True, title='Sms_var and Month')"
   ]
  },
  {
   "cell_type": "code",
   "execution_count": 160,
   "metadata": {
    "colab": {
     "base_uri": "https://localhost:8080/",
     "height": 283
    },
    "id": "8xWLiNiP0rdv",
    "outputId": "acd50aef-07c2-41bc-e07a-4494cb721545"
   },
   "outputs": [
    {
     "data": {
      "text/plain": [
       "<AxesSubplot:ylabel='Frequency'>"
      ]
     },
     "execution_count": 160,
     "metadata": {},
     "output_type": "execute_result"
    },
    {
     "data": {
      "image/png": "[encoded data removed]",
      "text/plain": [
       "<Figure size 432x288 with 1 Axes>"
      ]
     },
     "metadata": {
      "needs_background": "light"
     },
     "output_type": "display_data"
    }
   ],
   "source": [
    "# постороим гистограммы для дисперсии звонков для каждого тарифа\n",
    "ax = df_var.plot(kind='hist', y='calls_smart_var', bins=12, alpha=0.5, label='smart_calls_var')\n",
    "df_var.plot(kind='hist', y='calls_ultra_var',bins=12, alpha=0.5, label='ultra_calls_var', ax=ax, grid=True, legend=True)"
   ]
  },
  {
   "cell_type": "code",
   "execution_count": 161,
   "metadata": {
    "colab": {
     "base_uri": "https://localhost:8080/",
     "height": 379
    },
    "id": "wb9FD-a-9BGs",
    "outputId": "e62f5780-790e-4a4f-a60a-14f95179cec2"
   },
   "outputs": [
    {
     "data": {
      "text/plain": [
       "<AxesSubplot:title={'center':'Calls_var and Month'}, xlabel='month'>"
      ]
     },
     "execution_count": 161,
     "metadata": {},
     "output_type": "execute_result"
    },
    {
     "data": {
      "image/png": "[encoded data removed]",
      "text/plain": [
       "<Figure size 360x360 with 1 Axes>"
      ]
     },
     "metadata": {
      "needs_background": "light"
     },
     "output_type": "display_data"
    }
   ],
   "source": [
    "# построим столбчатую диаграмму\n",
    "df_var.plot(y=['calls_smart_var', 'calls_ultra_var'], kind='bar', figsize=(5,5), grid=True, title='Calls_var and Month')"
   ]
  },
  {
   "cell_type": "markdown",
   "metadata": {
    "id": "9kcmtjNb_kjo"
   },
   "source": [
    "3.4 Посчитайте стандартное отклонение."
   ]
  },
  {
   "cell_type": "code",
   "execution_count": 162,
   "metadata": {
    "id": "g-6XJK2mAUNW"
   },
   "outputs": [],
   "source": [
    "# расчет стандартного отклонения \n",
    "df_std = df.pivot_table(index=['month'], columns='tariff', values=['sum_calls', 'gb_used', 'sms'], aggfunc='std')"
   ]
  },
  {
   "cell_type": "code",
   "execution_count": 163,
   "metadata": {
    "id": "a03nnxgXAb5m"
   },
   "outputs": [],
   "source": [
    "#\n",
    "df_std.columns = ['gb_smart_std', 'gb_ultra_std', 'sms_smart_std', 'sms_ultra_std', 'calls_smart_std', 'calls_ultra_std']"
   ]
  },
  {
   "cell_type": "code",
   "execution_count": 164,
   "metadata": {
    "colab": {
     "base_uri": "https://localhost:8080/",
     "height": 457
    },
    "id": "nJWPBlpQAlXJ",
    "outputId": "1a9dd8b6-0e91-4da6-e433-03d4bace50d9"
   },
   "outputs": [
    {
     "data": {
      "text/html": [
       "<div>\n",
       "<style scoped>\n",
       "    .dataframe tbody tr th:only-of-type {\n",
       "        vertical-align: middle;\n",
       "    }\n",
       "\n",
       "    .dataframe tbody tr th {\n",
       "        vertical-align: top;\n",
       "    }\n",
       "\n",
       "    .dataframe thead th {\n",
       "        text-align: right;\n",
       "    }\n",
       "</style>\n",
       "<table border=\"1\" class=\"dataframe\">\n",
       "  <thead>\n",
       "    <tr style=\"text-align: right;\">\n",
       "      <th></th>\n",
       "      <th>gb_smart_std</th>\n",
       "      <th>gb_ultra_std</th>\n",
       "      <th>sms_smart_std</th>\n",
       "      <th>sms_ultra_std</th>\n",
       "      <th>calls_smart_std</th>\n",
       "      <th>calls_ultra_std</th>\n",
       "    </tr>\n",
       "    <tr>\n",
       "      <th>month</th>\n",
       "      <th></th>\n",
       "      <th></th>\n",
       "      <th></th>\n",
       "      <th></th>\n",
       "      <th></th>\n",
       "      <th></th>\n",
       "    </tr>\n",
       "  </thead>\n",
       "  <tbody>\n",
       "    <tr>\n",
       "      <th>1.0</th>\n",
       "      <td>6.277950</td>\n",
       "      <td>6.666667</td>\n",
       "      <td>16.197753</td>\n",
       "      <td>30.670742</td>\n",
       "      <td>154.231454</td>\n",
       "      <td>269.757968</td>\n",
       "    </tr>\n",
       "    <tr>\n",
       "      <th>2.0</th>\n",
       "      <td>6.095157</td>\n",
       "      <td>10.446551</td>\n",
       "      <td>21.750809</td>\n",
       "      <td>26.773574</td>\n",
       "      <td>190.820041</td>\n",
       "      <td>296.512528</td>\n",
       "    </tr>\n",
       "    <tr>\n",
       "      <th>3.0</th>\n",
       "      <td>5.705252</td>\n",
       "      <td>10.693238</td>\n",
       "      <td>26.804710</td>\n",
       "      <td>41.621886</td>\n",
       "      <td>191.893604</td>\n",
       "      <td>333.743765</td>\n",
       "    </tr>\n",
       "    <tr>\n",
       "      <th>4.0</th>\n",
       "      <td>5.594600</td>\n",
       "      <td>9.457436</td>\n",
       "      <td>24.538532</td>\n",
       "      <td>37.513831</td>\n",
       "      <td>186.489161</td>\n",
       "      <td>267.682405</td>\n",
       "    </tr>\n",
       "    <tr>\n",
       "      <th>5.0</th>\n",
       "      <td>5.862594</td>\n",
       "      <td>9.779130</td>\n",
       "      <td>27.036845</td>\n",
       "      <td>40.306874</td>\n",
       "      <td>186.601343</td>\n",
       "      <td>289.603511</td>\n",
       "    </tr>\n",
       "    <tr>\n",
       "      <th>6.0</th>\n",
       "      <td>5.649046</td>\n",
       "      <td>9.077114</td>\n",
       "      <td>28.404337</td>\n",
       "      <td>44.567899</td>\n",
       "      <td>175.336587</td>\n",
       "      <td>302.549081</td>\n",
       "    </tr>\n",
       "    <tr>\n",
       "      <th>7.0</th>\n",
       "      <td>5.780956</td>\n",
       "      <td>9.819905</td>\n",
       "      <td>28.282288</td>\n",
       "      <td>48.703621</td>\n",
       "      <td>179.583601</td>\n",
       "      <td>307.119322</td>\n",
       "    </tr>\n",
       "    <tr>\n",
       "      <th>8.0</th>\n",
       "      <td>5.480986</td>\n",
       "      <td>10.254184</td>\n",
       "      <td>28.952677</td>\n",
       "      <td>46.601923</td>\n",
       "      <td>186.530382</td>\n",
       "      <td>312.980026</td>\n",
       "    </tr>\n",
       "    <tr>\n",
       "      <th>9.0</th>\n",
       "      <td>5.087643</td>\n",
       "      <td>9.287410</td>\n",
       "      <td>28.117927</td>\n",
       "      <td>46.398874</td>\n",
       "      <td>183.126576</td>\n",
       "      <td>325.141162</td>\n",
       "    </tr>\n",
       "    <tr>\n",
       "      <th>10.0</th>\n",
       "      <td>5.735594</td>\n",
       "      <td>9.552907</td>\n",
       "      <td>28.567673</td>\n",
       "      <td>51.934398</td>\n",
       "      <td>188.128510</td>\n",
       "      <td>326.289110</td>\n",
       "    </tr>\n",
       "    <tr>\n",
       "      <th>11.0</th>\n",
       "      <td>5.213535</td>\n",
       "      <td>9.684867</td>\n",
       "      <td>28.389031</td>\n",
       "      <td>49.768951</td>\n",
       "      <td>177.778618</td>\n",
       "      <td>310.757232</td>\n",
       "    </tr>\n",
       "    <tr>\n",
       "      <th>12.0</th>\n",
       "      <td>5.457705</td>\n",
       "      <td>10.160550</td>\n",
       "      <td>30.576990</td>\n",
       "      <td>51.787821</td>\n",
       "      <td>199.245131</td>\n",
       "      <td>342.456321</td>\n",
       "    </tr>\n",
       "  </tbody>\n",
       "</table>\n",
       "</div>"
      ],
      "text/plain": [
       "       gb_smart_std  gb_ultra_std  sms_smart_std  sms_ultra_std  \\\n",
       "month                                                             \n",
       "1.0        6.277950      6.666667      16.197753      30.670742   \n",
       "2.0        6.095157     10.446551      21.750809      26.773574   \n",
       "3.0        5.705252     10.693238      26.804710      41.621886   \n",
       "4.0        5.594600      9.457436      24.538532      37.513831   \n",
       "5.0        5.862594      9.779130      27.036845      40.306874   \n",
       "6.0        5.649046      9.077114      28.404337      44.567899   \n",
       "7.0        5.780956      9.819905      28.282288      48.703621   \n",
       "8.0        5.480986     10.254184      28.952677      46.601923   \n",
       "9.0        5.087643      9.287410      28.117927      46.398874   \n",
       "10.0       5.735594      9.552907      28.567673      51.934398   \n",
       "11.0       5.213535      9.684867      28.389031      49.768951   \n",
       "12.0       5.457705     10.160550      30.576990      51.787821   \n",
       "\n",
       "       calls_smart_std  calls_ultra_std  \n",
       "month                                    \n",
       "1.0         154.231454       269.757968  \n",
       "2.0         190.820041       296.512528  \n",
       "3.0         191.893604       333.743765  \n",
       "4.0         186.489161       267.682405  \n",
       "5.0         186.601343       289.603511  \n",
       "6.0         175.336587       302.549081  \n",
       "7.0         179.583601       307.119322  \n",
       "8.0         186.530382       312.980026  \n",
       "9.0         183.126576       325.141162  \n",
       "10.0        188.128510       326.289110  \n",
       "11.0        177.778618       310.757232  \n",
       "12.0        199.245131       342.456321  "
      ]
     },
     "execution_count": 164,
     "metadata": {},
     "output_type": "execute_result"
    }
   ],
   "source": [
    "df_std"
   ]
  },
  {
   "cell_type": "code",
   "execution_count": 165,
   "metadata": {
    "colab": {
     "base_uri": "https://localhost:8080/",
     "height": 283
    },
    "id": "zMf56uqx4a2U",
    "outputId": "6c9c6704-aece-413c-8c5d-9041d0313c96"
   },
   "outputs": [
    {
     "data": {
      "text/plain": [
       "<AxesSubplot:ylabel='Frequency'>"
      ]
     },
     "execution_count": 165,
     "metadata": {},
     "output_type": "execute_result"
    },
    {
     "data": {
      "image/png": "[encoded data removed]",
      "text/plain": [
       "<Figure size 432x288 with 1 Axes>"
      ]
     },
     "metadata": {
      "needs_background": "light"
     },
     "output_type": "display_data"
    }
   ],
   "source": [
    "# постороим гистограммы для стандартного отклонения интернет-трафика для каждого тарифа\n",
    "ax = df_std.plot(kind='hist', y='gb_smart_std', bins=12, alpha=0.5, label='smart_gb')\n",
    "df_std.plot(kind='hist', y='gb_ultra_std',bins=12, alpha=0.5, label='ultra_gb', ax=ax, grid=True, legend=True)"
   ]
  },
  {
   "cell_type": "code",
   "execution_count": 166,
   "metadata": {
    "colab": {
     "base_uri": "https://localhost:8080/",
     "height": 379
    },
    "id": "8yiecO4u9N5o",
    "outputId": "fd5eb733-6d4b-4251-a851-a27156d3f479"
   },
   "outputs": [
    {
     "data": {
      "text/plain": [
       "<AxesSubplot:title={'center':'Gb_std and Month'}, xlabel='month'>"
      ]
     },
     "execution_count": 166,
     "metadata": {},
     "output_type": "execute_result"
    },
    {
     "data": {
      "image/png": "[encoded data removed]",
      "text/plain": [
       "<Figure size 360x360 with 1 Axes>"
      ]
     },
     "metadata": {
      "needs_background": "light"
     },
     "output_type": "display_data"
    }
   ],
   "source": [
    "# построим столбчатую диаграмму\n",
    "df_std.plot(y=['gb_smart_std', 'gb_ultra_std'], kind='bar', figsize=(5,5), grid=True, title='Gb_std and Month')"
   ]
  },
  {
   "cell_type": "markdown",
   "metadata": {
    "id": "yJ4Tm9ZWbQQ5"
   },
   "source": [
    "Вывод: в тарифе \"Ультра\" стандартное отклонение большое, это значит что есть большой разброс в данных, кто-то тратит трафика мало, а кто-то много. Тариф предоставляет большой пакет. По тарифу \"Смарт\" разброс значений не большой, тарифный план меньше предоставляет трафика, и пользователи в него укладываются."
   ]
  },
  {
   "cell_type": "code",
   "execution_count": 167,
   "metadata": {
    "colab": {
     "base_uri": "https://localhost:8080/",
     "height": 283
    },
    "id": "faYvvscO4asv",
    "outputId": "b4a4443c-8353-4c9b-8b20-8bfcf84654b5"
   },
   "outputs": [
    {
     "data": {
      "text/plain": [
       "<AxesSubplot:ylabel='Frequency'>"
      ]
     },
     "execution_count": 167,
     "metadata": {},
     "output_type": "execute_result"
    },
    {
     "data": {
      "image/png": "[encoded data removed]",
      "text/plain": [
       "<Figure size 432x288 with 1 Axes>"
      ]
     },
     "metadata": {
      "needs_background": "light"
     },
     "output_type": "display_data"
    }
   ],
   "source": [
    "# постороим гистограммы для стандартного отклонения сообщений для каждого тарифа\n",
    "ax = df_std.plot(kind='hist', y='sms_smart_std', bins=12, alpha=0.5, label='smart_sms')\n",
    "df_std.plot(kind='hist', y='sms_ultra_std',bins=12, alpha=0.5, label='ultra_sms', ax=ax, grid=True, legend=True)"
   ]
  },
  {
   "cell_type": "code",
   "execution_count": 168,
   "metadata": {
    "colab": {
     "base_uri": "https://localhost:8080/",
     "height": 379
    },
    "id": "iXdu1iVL9Olg",
    "outputId": "ba87e562-5c6b-4163-c7cc-aad98ce22771"
   },
   "outputs": [
    {
     "data": {
      "text/plain": [
       "<AxesSubplot:title={'center':'Sms_std and Month'}, xlabel='month'>"
      ]
     },
     "execution_count": 168,
     "metadata": {},
     "output_type": "execute_result"
    },
    {
     "data": {
      "image/png": "[encoded data removed]",
      "text/plain": [
       "<Figure size 360x360 with 1 Axes>"
      ]
     },
     "metadata": {
      "needs_background": "light"
     },
     "output_type": "display_data"
    }
   ],
   "source": [
    "# построим столбчатую диаграмму\n",
    "df_std.plot(y=['sms_smart_std', 'sms_ultra_std'], kind='bar', figsize=(5,5), grid=True, title='Sms_std and Month')"
   ]
  },
  {
   "cell_type": "code",
   "execution_count": 169,
   "metadata": {
    "colab": {
     "base_uri": "https://localhost:8080/",
     "height": 283
    },
    "id": "9SP5VX6z4aiQ",
    "outputId": "078043c1-a5e5-4125-b3fa-14b9f4fe6981"
   },
   "outputs": [
    {
     "data": {
      "text/plain": [
       "<AxesSubplot:ylabel='Frequency'>"
      ]
     },
     "execution_count": 169,
     "metadata": {},
     "output_type": "execute_result"
    },
    {
     "data": {
      "image/png": "[encoded data removed]",
      "text/plain": [
       "<Figure size 432x288 with 1 Axes>"
      ]
     },
     "metadata": {
      "needs_background": "light"
     },
     "output_type": "display_data"
    }
   ],
   "source": [
    "# постороим гистограммы для стандартного отклонения звонков для каждого тарифа\n",
    "ax = df_std.plot(kind='hist', y='calls_smart_std', bins=12, alpha=0.5, label='smart_calls')\n",
    "df_std.plot(kind='hist', y='calls_ultra_std',bins=12, alpha=0.5, label='ultra_calls', ax=ax, grid=True, legend=True)"
   ]
  },
  {
   "cell_type": "code",
   "execution_count": 170,
   "metadata": {
    "colab": {
     "base_uri": "https://localhost:8080/",
     "height": 379
    },
    "id": "N7yHYOKS9PSu",
    "outputId": "0b256074-beaa-4c20-fc62-3fb350751f46"
   },
   "outputs": [
    {
     "data": {
      "text/plain": [
       "<AxesSubplot:title={'center':'Calls_std and Month'}, xlabel='month'>"
      ]
     },
     "execution_count": 170,
     "metadata": {},
     "output_type": "execute_result"
    },
    {
     "data": {
      "image/png": "[encoded data removed]",
      "text/plain": [
       "<Figure size 360x360 with 1 Axes>"
      ]
     },
     "metadata": {
      "needs_background": "light"
     },
     "output_type": "display_data"
    }
   ],
   "source": [
    "# построим столбчатую диаграмму\n",
    "df_std.plot(y=['calls_smart_std', 'calls_ultra_std'], kind='bar', figsize=(5,5), grid=True, title='Calls_std and Month')"
   ]
  },
  {
   "cell_type": "markdown",
   "metadata": {},
   "source": [
    "Изучим неагрегированные данные.\n",
    "Построим гистограммы для звонков, интернет трафика и сообщений."
   ]
  },
  {
   "cell_type": "code",
   "execution_count": 171,
   "metadata": {},
   "outputs": [
    {
     "data": {
      "text/plain": [
       "<AxesSubplot:>"
      ]
     },
     "execution_count": 171,
     "metadata": {},
     "output_type": "execute_result"
    },
    {
     "data": {
      "image/png": "[encoded data removed]",
      "text/plain": [
       "<Figure size 432x288 with 1 Axes>"
      ]
     },
     "metadata": {
      "needs_background": "light"
     },
     "output_type": "display_data"
    }
   ],
   "source": [
    "# гистограмма звонков\n",
    "df['sum_calls'].hist(bins=12)"
   ]
  },
  {
   "cell_type": "markdown",
   "metadata": {},
   "source": [
    "Большенство пользователей тратит 500мин в месяц, много кто не выговаривают это значение, и совмем мало тех, кто тратит на звонки больше 800мин. Это значит, что пользователи в большенстве своем пратят максимум доступных минут из тарифа сматр. Тариф ультра в своем пакете предоставляет 3000 мин на разговоры, как видно из графика никто из пользователй не добирается до этой отметки."
   ]
  },
  {
   "cell_type": "code",
   "execution_count": 173,
   "metadata": {},
   "outputs": [
    {
     "data": {
      "text/plain": [
       "<AxesSubplot:>"
      ]
     },
     "execution_count": 173,
     "metadata": {},
     "output_type": "execute_result"
    },
    {
     "data": {
      "image/png": "[encoded data removed]",
      "text/plain": [
       "<Figure size 432x288 with 1 Axes>"
      ]
     },
     "metadata": {
      "needs_background": "light"
     },
     "output_type": "display_data"
    }
   ],
   "source": [
    "# гистограмма интернет трафика\n",
    "df['gb_used'].hist(bins=12)"
   ]
  },
  {
   "cell_type": "markdown",
   "metadata": {},
   "source": [
    "Больше всего пользователей тратят около 15-20 Гб интернет трафика, это больше предоставляемого лимита в тарифе смарт, следовательно допольнительный трафик пользователи преобретают за дополнительную плату. Если рассматривать тариф ультра, который предоставляет 30Гб интернет трафика, то среди пользователей есть те, кто  тратит на интернет больше этого значения, но их совсем не много."
   ]
  },
  {
   "cell_type": "code",
   "execution_count": 174,
   "metadata": {},
   "outputs": [
    {
     "data": {
      "text/plain": [
       "<AxesSubplot:>"
      ]
     },
     "execution_count": 174,
     "metadata": {},
     "output_type": "execute_result"
    },
    {
     "data": {
      "image/png": "[encoded data removed]",
      "text/plain": [
       "<Figure size 432x288 with 1 Axes>"
      ]
     },
     "metadata": {
      "needs_background": "light"
     },
     "output_type": "display_data"
    }
   ],
   "source": [
    "# гистограмма смс\n",
    "df['sms'].hist(bins=12)"
   ]
  },
  {
   "cell_type": "markdown",
   "metadata": {},
   "source": [
    "Большенство пользователей тратят в мясяц около 15 сообщений, это меньше чем предоставляет тарифный план смарт, и никто из пользователей не добирается до отметки 1000 смс в тарифе ультра."
   ]
  },
  {
   "cell_type": "markdown",
   "metadata": {},
   "source": []
  },
  {
   "cell_type": "markdown",
   "metadata": {
    "id": "W4rd80nJyvpE"
   },
   "source": [
    "## Шаг 4. Проверьте гипотезы"
   ]
  },
  {
   "cell_type": "markdown",
   "metadata": {
    "id": "2g0LeG8bBG6p"
   },
   "source": [
    "Поясните:\n",
    "\n",
    "*   как вы формулировали нулевую и альтернативную гипотезы\n",
    "*   какой критерий использовали для проверки гипотез и почему"
   ]
  },
  {
   "cell_type": "markdown",
   "metadata": {
    "id": "XGf6QimZy4YL"
   },
   "source": [
    "**4.1 Гипотеза №1**\n",
    "Средняя выручка пользователей тарифов «Ультра» и «Смарт» различаются"
   ]
  },
  {
   "cell_type": "markdown",
   "metadata": {
    "id": "GuRxoLKvBvEO"
   },
   "source": [
    "Нулева гипотеза содержит равенство. Сформулируем ее:\n",
    "> Средняя выручка пользователей тарифов \"Ультра\" и \"Смарт\" одинаковая, или\n",
    "равны друг другу.\n",
    "\n",
    "Альтернативная будет звучать:\n",
    "> Средняя выручка пользователей тарифов \"Ультра\" и \"Смарт\" различаются, или не равны друг другу."
   ]
  },
  {
   "cell_type": "code",
   "execution_count": 84,
   "metadata": {
    "id": "2l5khfC3DOss"
   },
   "outputs": [],
   "source": [
    "from scipy import stats as st"
   ]
  },
  {
   "cell_type": "code",
   "execution_count": 85,
   "metadata": {
    "id": "AbCcLUTUyvPO"
   },
   "outputs": [],
   "source": [
    "# получим два датасета с данными выручки по тарифам смарт и ультра\n",
    "df_smart = df.query('tariff == \"smart\"')['profit']\n",
    "df_ultra = df.query('tariff == \"ultra\"')['profit']"
   ]
  },
  {
   "cell_type": "code",
   "execution_count": 86,
   "metadata": {
    "colab": {
     "base_uri": "https://localhost:8080/"
    },
    "id": "vcIm1SeKzLs-",
    "outputId": "9e8da265-5846-4f08-8f0a-3d98dbc79291"
   },
   "outputs": [
    {
     "name": "stdout",
     "output_type": "stream",
     "text": [
      "p-значение: 0.0\n",
      "Отвергаем нулевую гипотезу\n"
     ]
    }
   ],
   "source": [
    "alpha = .05\n",
    "results = st.ttest_ind(df_smart, df_ultra)\n",
    "print('p-значение:', results.pvalue)\n",
    "\n",
    "if results.pvalue < alpha:\n",
    "  print('Отвергаем нулевую гипотезу')\n",
    "else:\n",
    "  print('Не получилось отвергнуть нулевую гипотезу')  "
   ]
  },
  {
   "cell_type": "markdown",
   "metadata": {
    "id": "85e3CXMlHVQy"
   },
   "source": [
    "Вывод: нулевая гипотеза отвергнута, значит средняя выручка пользователей тарифов \"Смарт\" и \"Ультра\" различается. Гипотеза №1 подтверждается."
   ]
  },
  {
   "cell_type": "markdown",
   "metadata": {
    "id": "QASmeW6BzMdU"
   },
   "source": [
    "**4.2 Гипотеза №2**\n",
    "Средняя выручка пользователей из Москвы отличается от выручки пользователей из других регионов\n",
    "\n"
   ]
  },
  {
   "cell_type": "markdown",
   "metadata": {
    "id": "ecHNtWFHIKuj"
   },
   "source": [
    "Нулева гипотеза содержит равенство. Сформулируем ее:\n",
    "> Средняя выручка пользователей из Москвы одинаковая выручке пользователей из других регионов, или равны друг другу.\n",
    "\n",
    "Альтернативная будет звучать:\n",
    "> Средняя выручка пользователей из Москвы одинаковая выручке пользователей из других регионов, или не равны друг другу."
   ]
  },
  {
   "cell_type": "code",
   "execution_count": 87,
   "metadata": {
    "id": "4lwybGxOzZyO"
   },
   "outputs": [],
   "source": [
    "# получим два датасета с данными по выручке для пользователей из Москвы и других регионов\n",
    "df_moscow = df.query('city == \"Москва\"')['profit']\n",
    "df_region = df.query('city != \"Москва\"')['profit']"
   ]
  },
  {
   "cell_type": "code",
   "execution_count": 88,
   "metadata": {
    "colab": {
     "base_uri": "https://localhost:8080/"
    },
    "id": "hnD0KCuzHE5X",
    "outputId": "5b097dc9-6da3-4d47-943a-4a209e159ba9"
   },
   "outputs": [
    {
     "name": "stdout",
     "output_type": "stream",
     "text": [
      "p-значение: 0.03442782549232905\n",
      "Отвергаем нулевую гипотезу\n"
     ]
    }
   ],
   "source": [
    "alpha = .05\n",
    "results = st.ttest_ind(df_moscow, df_region)\n",
    "print('p-значение:', results.pvalue)\n",
    "\n",
    "if results.pvalue < alpha:\n",
    "  print('Отвергаем нулевую гипотезу')\n",
    "else:\n",
    "  print('Не получилось отвергнуть нулевую гипотезу')  "
   ]
  },
  {
   "cell_type": "markdown",
   "metadata": {
    "id": "grEjcZ6jH0dq"
   },
   "source": [
    "Вывод: нулевая гипотеза отвергнута, значит средняя выручка пользователей из Москвы отличается от выручки пользователей из других регионов. Гипотеза №2 подтверждается."
   ]
  },
  {
   "cell_type": "markdown",
   "metadata": {
    "id": "SDjE7ScazTR6"
   },
   "source": [
    "## Шаг 5. Напишите общий вывод"
   ]
  },
  {
   "cell_type": "markdown",
   "metadata": {
    "id": "uZS7ZyZrzXLQ"
   },
   "source": [
    "Проанализировав данные можно сказать, что пользователей тарифа \"Сматр\" больше, и они тратят весь трафик, предоставляемый тарифным планом. Пользователей тарифа \"Ультра\" меньше, многие не используют свой тарифный план в полной мере. \n",
    "Тарифный план \"Смарт\" лучше, так как польностью соотвествует потребностям клиентов, и они охотнее на него подключаются.\n",
    "\n"
   ]
  },
  {
   "cell_type": "markdown",
   "metadata": {},
   "source": [
    "Для компании выгоднее тариф ультра, так как пользователи платят больше, а расходуют меньше.\n",
    "Но мне кажется, что для рекламной компании лучше превлекать клиентов на тариф смарт, так как есть большое число пользователей которые выходят за рамки тарифа и доплачивают. А так же пользователи могут переходить на более выгодный для себя тариф. \n",
    "Если коректировать рекламный бюджет, то наверно лучше потратиться на рекламу тарифа ультра, на дешевый и так подключаться. А с другой стороны, чтобы конкурировать с другими сетями, компании \"Мегалайн\" лучше привлечь больше пользователей на выгодный тариф смарт."
   ]
  },
  {
   "cell_type": "code",
   "execution_count": null,
   "metadata": {},
   "outputs": [],
   "source": []
  }
 ],
 "metadata": {
  "ExecuteTimeLog": [
   {
    "duration": 420,
    "start_time": "2022-03-22T15:51:54.118Z"
   },
   {
    "duration": 133,
    "start_time": "2022-03-22T15:51:54.540Z"
   },
   {
    "duration": 0,
    "start_time": "2022-03-22T15:51:54.677Z"
   },
   {
    "duration": 0,
    "start_time": "2022-03-22T15:51:54.678Z"
   },
   {
    "duration": 0,
    "start_time": "2022-03-22T15:51:54.680Z"
   },
   {
    "duration": 0,
    "start_time": "2022-03-22T15:51:54.681Z"
   },
   {
    "duration": 0,
    "start_time": "2022-03-22T15:51:54.683Z"
   },
   {
    "duration": 0,
    "start_time": "2022-03-22T15:51:54.684Z"
   },
   {
    "duration": 0,
    "start_time": "2022-03-22T15:51:54.685Z"
   },
   {
    "duration": 0,
    "start_time": "2022-03-22T15:51:54.686Z"
   },
   {
    "duration": 0,
    "start_time": "2022-03-22T15:51:54.687Z"
   },
   {
    "duration": 0,
    "start_time": "2022-03-22T15:51:54.688Z"
   },
   {
    "duration": 0,
    "start_time": "2022-03-22T15:51:54.689Z"
   },
   {
    "duration": 0,
    "start_time": "2022-03-22T15:51:54.709Z"
   },
   {
    "duration": 0,
    "start_time": "2022-03-22T15:51:54.710Z"
   },
   {
    "duration": 0,
    "start_time": "2022-03-22T15:51:54.711Z"
   },
   {
    "duration": 1,
    "start_time": "2022-03-22T15:51:54.712Z"
   },
   {
    "duration": 0,
    "start_time": "2022-03-22T15:51:54.714Z"
   },
   {
    "duration": 0,
    "start_time": "2022-03-22T15:51:54.715Z"
   },
   {
    "duration": 0,
    "start_time": "2022-03-22T15:51:54.716Z"
   },
   {
    "duration": 1,
    "start_time": "2022-03-22T15:51:54.717Z"
   },
   {
    "duration": 0,
    "start_time": "2022-03-22T15:51:54.719Z"
   },
   {
    "duration": 0,
    "start_time": "2022-03-22T15:51:54.720Z"
   },
   {
    "duration": 1,
    "start_time": "2022-03-22T15:51:54.721Z"
   },
   {
    "duration": 0,
    "start_time": "2022-03-22T15:51:54.722Z"
   },
   {
    "duration": 0,
    "start_time": "2022-03-22T15:51:54.724Z"
   },
   {
    "duration": 0,
    "start_time": "2022-03-22T15:51:54.726Z"
   },
   {
    "duration": 0,
    "start_time": "2022-03-22T15:51:54.727Z"
   },
   {
    "duration": 0,
    "start_time": "2022-03-22T15:51:54.728Z"
   },
   {
    "duration": 0,
    "start_time": "2022-03-22T15:51:54.729Z"
   },
   {
    "duration": 0,
    "start_time": "2022-03-22T15:51:54.730Z"
   },
   {
    "duration": 0,
    "start_time": "2022-03-22T15:51:54.731Z"
   },
   {
    "duration": 0,
    "start_time": "2022-03-22T15:51:54.732Z"
   },
   {
    "duration": 0,
    "start_time": "2022-03-22T15:51:54.733Z"
   },
   {
    "duration": 0,
    "start_time": "2022-03-22T15:51:54.734Z"
   },
   {
    "duration": 0,
    "start_time": "2022-03-22T15:51:54.735Z"
   },
   {
    "duration": 0,
    "start_time": "2022-03-22T15:51:54.736Z"
   },
   {
    "duration": 0,
    "start_time": "2022-03-22T15:51:54.737Z"
   },
   {
    "duration": 0,
    "start_time": "2022-03-22T15:51:54.738Z"
   },
   {
    "duration": 0,
    "start_time": "2022-03-22T15:51:54.740Z"
   },
   {
    "duration": 0,
    "start_time": "2022-03-22T15:51:54.741Z"
   },
   {
    "duration": 0,
    "start_time": "2022-03-22T15:51:54.742Z"
   },
   {
    "duration": 0,
    "start_time": "2022-03-22T15:51:54.743Z"
   },
   {
    "duration": 0,
    "start_time": "2022-03-22T15:51:54.746Z"
   },
   {
    "duration": 0,
    "start_time": "2022-03-22T15:51:54.809Z"
   },
   {
    "duration": 0,
    "start_time": "2022-03-22T15:51:54.810Z"
   },
   {
    "duration": 0,
    "start_time": "2022-03-22T15:51:54.812Z"
   },
   {
    "duration": 0,
    "start_time": "2022-03-22T15:51:54.813Z"
   },
   {
    "duration": 0,
    "start_time": "2022-03-22T15:51:54.814Z"
   },
   {
    "duration": 0,
    "start_time": "2022-03-22T15:51:54.815Z"
   },
   {
    "duration": 0,
    "start_time": "2022-03-22T15:51:54.816Z"
   },
   {
    "duration": 0,
    "start_time": "2022-03-22T15:51:54.816Z"
   },
   {
    "duration": 0,
    "start_time": "2022-03-22T15:51:54.818Z"
   },
   {
    "duration": 0,
    "start_time": "2022-03-22T15:51:54.819Z"
   },
   {
    "duration": 0,
    "start_time": "2022-03-22T15:51:54.820Z"
   },
   {
    "duration": 0,
    "start_time": "2022-03-22T15:51:54.823Z"
   },
   {
    "duration": 0,
    "start_time": "2022-03-22T15:51:54.824Z"
   },
   {
    "duration": 0,
    "start_time": "2022-03-22T15:51:54.826Z"
   },
   {
    "duration": 0,
    "start_time": "2022-03-22T15:51:54.827Z"
   },
   {
    "duration": 0,
    "start_time": "2022-03-22T15:51:54.828Z"
   },
   {
    "duration": 0,
    "start_time": "2022-03-22T15:51:54.829Z"
   },
   {
    "duration": 0,
    "start_time": "2022-03-22T15:51:54.830Z"
   },
   {
    "duration": 0,
    "start_time": "2022-03-22T15:51:54.831Z"
   },
   {
    "duration": 0,
    "start_time": "2022-03-22T15:51:54.833Z"
   },
   {
    "duration": 0,
    "start_time": "2022-03-22T15:51:54.834Z"
   },
   {
    "duration": 0,
    "start_time": "2022-03-22T15:51:54.835Z"
   },
   {
    "duration": 0,
    "start_time": "2022-03-22T15:51:54.836Z"
   },
   {
    "duration": 0,
    "start_time": "2022-03-22T15:51:54.837Z"
   },
   {
    "duration": 0,
    "start_time": "2022-03-22T15:51:54.838Z"
   },
   {
    "duration": 0,
    "start_time": "2022-03-22T15:51:54.839Z"
   },
   {
    "duration": 0,
    "start_time": "2022-03-22T15:51:54.840Z"
   },
   {
    "duration": 0,
    "start_time": "2022-03-22T15:51:54.842Z"
   },
   {
    "duration": 0,
    "start_time": "2022-03-22T15:51:54.843Z"
   },
   {
    "duration": 0,
    "start_time": "2022-03-22T15:51:54.844Z"
   },
   {
    "duration": 0,
    "start_time": "2022-03-22T15:51:54.909Z"
   },
   {
    "duration": 1,
    "start_time": "2022-03-22T15:51:54.910Z"
   },
   {
    "duration": 0,
    "start_time": "2022-03-22T15:51:54.911Z"
   },
   {
    "duration": 0,
    "start_time": "2022-03-22T15:51:54.912Z"
   },
   {
    "duration": 0,
    "start_time": "2022-03-22T15:51:54.913Z"
   },
   {
    "duration": 0,
    "start_time": "2022-03-22T15:51:54.914Z"
   },
   {
    "duration": 0,
    "start_time": "2022-03-22T15:51:54.915Z"
   },
   {
    "duration": 0,
    "start_time": "2022-03-22T15:51:54.916Z"
   },
   {
    "duration": 0,
    "start_time": "2022-03-22T15:51:54.917Z"
   },
   {
    "duration": 0,
    "start_time": "2022-03-22T15:51:54.918Z"
   },
   {
    "duration": 0,
    "start_time": "2022-03-22T15:51:54.919Z"
   },
   {
    "duration": 0,
    "start_time": "2022-03-22T15:51:54.920Z"
   },
   {
    "duration": 0,
    "start_time": "2022-03-22T15:51:54.922Z"
   },
   {
    "duration": 0,
    "start_time": "2022-03-22T15:51:54.923Z"
   },
   {
    "duration": 1045,
    "start_time": "2022-03-22T16:00:46.740Z"
   },
   {
    "duration": 427,
    "start_time": "2022-03-22T16:02:05.020Z"
   },
   {
    "duration": 430,
    "start_time": "2022-03-22T16:02:05.449Z"
   },
   {
    "duration": 36,
    "start_time": "2022-03-22T16:02:05.881Z"
   },
   {
    "duration": 22,
    "start_time": "2022-03-22T16:02:05.919Z"
   },
   {
    "duration": 20,
    "start_time": "2022-03-22T16:02:05.942Z"
   },
   {
    "duration": 10,
    "start_time": "2022-03-22T16:02:05.964Z"
   },
   {
    "duration": 36,
    "start_time": "2022-03-22T16:02:05.976Z"
   },
   {
    "duration": 14,
    "start_time": "2022-03-22T16:02:06.015Z"
   },
   {
    "duration": 7,
    "start_time": "2022-03-22T16:02:06.030Z"
   },
   {
    "duration": 4,
    "start_time": "2022-03-22T16:02:06.040Z"
   },
   {
    "duration": 5,
    "start_time": "2022-03-22T16:02:06.046Z"
   },
   {
    "duration": 5,
    "start_time": "2022-03-22T16:02:06.052Z"
   },
   {
    "duration": 5,
    "start_time": "2022-03-22T16:02:06.058Z"
   },
   {
    "duration": 45,
    "start_time": "2022-03-22T16:02:06.065Z"
   },
   {
    "duration": 9,
    "start_time": "2022-03-22T16:02:06.112Z"
   },
   {
    "duration": 9,
    "start_time": "2022-03-22T16:02:06.123Z"
   },
   {
    "duration": 10,
    "start_time": "2022-03-22T16:02:06.133Z"
   },
   {
    "duration": 11,
    "start_time": "2022-03-22T16:02:06.144Z"
   },
   {
    "duration": 27867,
    "start_time": "2022-03-22T16:02:06.157Z"
   },
   {
    "duration": 5,
    "start_time": "2022-03-22T16:02:34.025Z"
   },
   {
    "duration": 11,
    "start_time": "2022-03-22T16:02:34.031Z"
   },
   {
    "duration": 6,
    "start_time": "2022-03-22T16:02:34.043Z"
   },
   {
    "duration": 9,
    "start_time": "2022-03-22T16:02:34.050Z"
   },
   {
    "duration": 6,
    "start_time": "2022-03-22T16:02:34.061Z"
   },
   {
    "duration": 40,
    "start_time": "2022-03-22T16:02:34.069Z"
   },
   {
    "duration": 5,
    "start_time": "2022-03-22T16:02:34.110Z"
   },
   {
    "duration": 22,
    "start_time": "2022-03-22T16:02:34.117Z"
   },
   {
    "duration": 2,
    "start_time": "2022-03-22T16:02:34.143Z"
   },
   {
    "duration": 13,
    "start_time": "2022-03-22T16:02:34.146Z"
   },
   {
    "duration": 18,
    "start_time": "2022-03-22T16:02:34.160Z"
   },
   {
    "duration": 41,
    "start_time": "2022-03-22T16:02:34.180Z"
   },
   {
    "duration": 3,
    "start_time": "2022-03-22T16:02:34.222Z"
   },
   {
    "duration": 12,
    "start_time": "2022-03-22T16:02:34.226Z"
   },
   {
    "duration": 17,
    "start_time": "2022-03-22T16:02:34.239Z"
   },
   {
    "duration": 13,
    "start_time": "2022-03-22T16:02:34.258Z"
   },
   {
    "duration": 4,
    "start_time": "2022-03-22T16:02:34.273Z"
   },
   {
    "duration": 33,
    "start_time": "2022-03-22T16:02:34.278Z"
   },
   {
    "duration": 9,
    "start_time": "2022-03-22T16:02:34.312Z"
   },
   {
    "duration": 6,
    "start_time": "2022-03-22T16:02:34.322Z"
   },
   {
    "duration": 8,
    "start_time": "2022-03-22T16:02:34.329Z"
   },
   {
    "duration": 7,
    "start_time": "2022-03-22T16:02:34.338Z"
   },
   {
    "duration": 17,
    "start_time": "2022-03-22T16:02:34.346Z"
   },
   {
    "duration": 44,
    "start_time": "2022-03-22T16:02:34.365Z"
   },
   {
    "duration": 4,
    "start_time": "2022-03-22T16:02:34.411Z"
   },
   {
    "duration": 118,
    "start_time": "2022-03-22T16:02:34.417Z"
   },
   {
    "duration": 12,
    "start_time": "2022-03-22T16:02:34.536Z"
   },
   {
    "duration": 2,
    "start_time": "2022-03-22T16:02:34.550Z"
   },
   {
    "duration": 16,
    "start_time": "2022-03-22T16:02:34.554Z"
   },
   {
    "duration": 606,
    "start_time": "2022-03-22T16:02:34.571Z"
   },
   {
    "duration": 203,
    "start_time": "2022-03-22T16:02:35.178Z"
   },
   {
    "duration": 209,
    "start_time": "2022-03-22T16:02:35.383Z"
   },
   {
    "duration": 218,
    "start_time": "2022-03-22T16:02:35.594Z"
   },
   {
    "duration": 272,
    "start_time": "2022-03-22T16:02:35.814Z"
   },
   {
    "duration": 209,
    "start_time": "2022-03-22T16:02:36.089Z"
   },
   {
    "duration": 211,
    "start_time": "2022-03-22T16:02:36.300Z"
   },
   {
    "duration": 13,
    "start_time": "2022-03-22T16:02:36.512Z"
   },
   {
    "duration": 3,
    "start_time": "2022-03-22T16:02:36.526Z"
   },
   {
    "duration": 13,
    "start_time": "2022-03-22T16:02:36.531Z"
   },
   {
    "duration": 264,
    "start_time": "2022-03-22T16:02:36.546Z"
   },
   {
    "duration": 199,
    "start_time": "2022-03-22T16:02:36.811Z"
   },
   {
    "duration": 211,
    "start_time": "2022-03-22T16:02:37.012Z"
   },
   {
    "duration": 200,
    "start_time": "2022-03-22T16:02:37.225Z"
   },
   {
    "duration": 221,
    "start_time": "2022-03-22T16:02:37.427Z"
   },
   {
    "duration": 204,
    "start_time": "2022-03-22T16:02:37.650Z"
   },
   {
    "duration": 222,
    "start_time": "2022-03-22T16:02:37.856Z"
   },
   {
    "duration": 12,
    "start_time": "2022-03-22T16:02:38.080Z"
   },
   {
    "duration": 16,
    "start_time": "2022-03-22T16:02:38.094Z"
   },
   {
    "duration": 13,
    "start_time": "2022-03-22T16:02:38.111Z"
   },
   {
    "duration": 260,
    "start_time": "2022-03-22T16:02:38.126Z"
   },
   {
    "duration": 240,
    "start_time": "2022-03-22T16:02:38.388Z"
   },
   {
    "duration": 210,
    "start_time": "2022-03-22T16:02:38.630Z"
   },
   {
    "duration": 206,
    "start_time": "2022-03-22T16:02:38.842Z"
   },
   {
    "duration": 197,
    "start_time": "2022-03-22T16:02:39.050Z"
   },
   {
    "duration": 204,
    "start_time": "2022-03-22T16:02:39.249Z"
   },
   {
    "duration": 12,
    "start_time": "2022-03-22T16:02:39.455Z"
   },
   {
    "duration": 3,
    "start_time": "2022-03-22T16:02:39.468Z"
   },
   {
    "duration": 12,
    "start_time": "2022-03-22T16:02:39.473Z"
   },
   {
    "duration": 220,
    "start_time": "2022-03-22T16:02:39.487Z"
   },
   {
    "duration": 216,
    "start_time": "2022-03-22T16:02:39.709Z"
   },
   {
    "duration": 195,
    "start_time": "2022-03-22T16:02:39.927Z"
   },
   {
    "duration": 208,
    "start_time": "2022-03-22T16:02:40.124Z"
   },
   {
    "duration": 205,
    "start_time": "2022-03-22T16:02:40.337Z"
   },
   {
    "duration": 299,
    "start_time": "2022-03-22T16:02:40.544Z"
   },
   {
    "duration": 362,
    "start_time": "2022-03-22T16:02:40.844Z"
   },
   {
    "duration": 11,
    "start_time": "2022-03-22T16:02:41.209Z"
   },
   {
    "duration": 8,
    "start_time": "2022-03-22T16:02:41.221Z"
   },
   {
    "duration": 8,
    "start_time": "2022-03-22T16:02:41.230Z"
   },
   {
    "duration": 5,
    "start_time": "2022-03-22T16:02:41.240Z"
   },
   {
    "duration": 469,
    "start_time": "2022-03-24T08:56:33.448Z"
   },
   {
    "duration": 452,
    "start_time": "2022-03-24T08:56:33.919Z"
   },
   {
    "duration": 26,
    "start_time": "2022-03-24T08:56:34.372Z"
   },
   {
    "duration": 20,
    "start_time": "2022-03-24T08:56:34.400Z"
   },
   {
    "duration": 19,
    "start_time": "2022-03-24T08:56:34.422Z"
   },
   {
    "duration": 10,
    "start_time": "2022-03-24T08:56:34.443Z"
   },
   {
    "duration": 23,
    "start_time": "2022-03-24T08:56:34.455Z"
   },
   {
    "duration": 17,
    "start_time": "2022-03-24T08:56:34.480Z"
   },
   {
    "duration": 9,
    "start_time": "2022-03-24T08:56:34.499Z"
   },
   {
    "duration": 6,
    "start_time": "2022-03-24T08:56:34.512Z"
   },
   {
    "duration": 5,
    "start_time": "2022-03-24T08:56:34.533Z"
   },
   {
    "duration": 8,
    "start_time": "2022-03-24T08:56:34.540Z"
   },
   {
    "duration": 12,
    "start_time": "2022-03-24T08:56:34.550Z"
   },
   {
    "duration": 16,
    "start_time": "2022-03-24T08:56:34.564Z"
   },
   {
    "duration": 8,
    "start_time": "2022-03-24T08:56:34.582Z"
   },
   {
    "duration": 9,
    "start_time": "2022-03-24T08:56:34.591Z"
   },
   {
    "duration": 37,
    "start_time": "2022-03-24T08:56:34.602Z"
   },
   {
    "duration": 13,
    "start_time": "2022-03-24T08:56:34.641Z"
   },
   {
    "duration": 27463,
    "start_time": "2022-03-24T08:56:34.656Z"
   },
   {
    "duration": 14,
    "start_time": "2022-03-24T08:57:02.121Z"
   },
   {
    "duration": 22,
    "start_time": "2022-03-24T08:57:02.137Z"
   },
   {
    "duration": 30,
    "start_time": "2022-03-24T08:57:02.161Z"
   },
   {
    "duration": 19,
    "start_time": "2022-03-24T08:57:02.193Z"
   },
   {
    "duration": 20,
    "start_time": "2022-03-24T08:57:02.214Z"
   },
   {
    "duration": 39,
    "start_time": "2022-03-24T08:57:02.236Z"
   },
   {
    "duration": 6,
    "start_time": "2022-03-24T08:57:02.277Z"
   },
   {
    "duration": 41,
    "start_time": "2022-03-24T08:57:02.285Z"
   },
   {
    "duration": 4,
    "start_time": "2022-03-24T08:57:02.333Z"
   },
   {
    "duration": 20,
    "start_time": "2022-03-24T08:57:02.338Z"
   },
   {
    "duration": 21,
    "start_time": "2022-03-24T08:57:02.360Z"
   },
   {
    "duration": 18,
    "start_time": "2022-03-24T08:57:02.382Z"
   },
   {
    "duration": 3,
    "start_time": "2022-03-24T08:57:02.401Z"
   },
   {
    "duration": 27,
    "start_time": "2022-03-24T08:57:02.406Z"
   },
   {
    "duration": 17,
    "start_time": "2022-03-24T08:57:02.435Z"
   },
   {
    "duration": 15,
    "start_time": "2022-03-24T08:57:02.454Z"
   },
   {
    "duration": 12,
    "start_time": "2022-03-24T08:57:02.471Z"
   },
   {
    "duration": 28,
    "start_time": "2022-03-24T08:57:02.484Z"
   },
   {
    "duration": 20,
    "start_time": "2022-03-24T08:57:02.514Z"
   },
   {
    "duration": 8,
    "start_time": "2022-03-24T08:57:02.536Z"
   },
   {
    "duration": 10,
    "start_time": "2022-03-24T08:57:02.545Z"
   },
   {
    "duration": 10,
    "start_time": "2022-03-24T08:57:02.557Z"
   },
   {
    "duration": 24,
    "start_time": "2022-03-24T08:57:02.569Z"
   },
   {
    "duration": 12,
    "start_time": "2022-03-24T08:57:02.595Z"
   },
   {
    "duration": 5,
    "start_time": "2022-03-24T08:57:02.633Z"
   },
   {
    "duration": 121,
    "start_time": "2022-03-24T08:57:02.640Z"
   },
   {
    "duration": 13,
    "start_time": "2022-03-24T08:57:02.763Z"
   },
   {
    "duration": 11,
    "start_time": "2022-03-24T08:57:02.777Z"
   },
   {
    "duration": 20,
    "start_time": "2022-03-24T08:57:02.789Z"
   },
   {
    "duration": 674,
    "start_time": "2022-03-24T08:57:02.810Z"
   },
   {
    "duration": 284,
    "start_time": "2022-03-24T08:57:03.487Z"
   },
   {
    "duration": 212,
    "start_time": "2022-03-24T08:57:03.773Z"
   },
   {
    "duration": 196,
    "start_time": "2022-03-24T08:57:03.986Z"
   },
   {
    "duration": 257,
    "start_time": "2022-03-24T08:57:04.183Z"
   },
   {
    "duration": 201,
    "start_time": "2022-03-24T08:57:04.441Z"
   },
   {
    "duration": 203,
    "start_time": "2022-03-24T08:57:04.644Z"
   },
   {
    "duration": 12,
    "start_time": "2022-03-24T08:57:04.849Z"
   },
   {
    "duration": 3,
    "start_time": "2022-03-24T08:57:04.862Z"
   },
   {
    "duration": 14,
    "start_time": "2022-03-24T08:57:04.867Z"
   },
   {
    "duration": 228,
    "start_time": "2022-03-24T08:57:04.883Z"
   },
   {
    "duration": 169,
    "start_time": "2022-03-24T08:57:05.113Z"
   },
   {
    "duration": 184,
    "start_time": "2022-03-24T08:57:05.284Z"
   },
   {
    "duration": 179,
    "start_time": "2022-03-24T08:57:05.470Z"
   },
   {
    "duration": 191,
    "start_time": "2022-03-24T08:57:05.651Z"
   },
   {
    "duration": 167,
    "start_time": "2022-03-24T08:57:05.843Z"
   },
   {
    "duration": 198,
    "start_time": "2022-03-24T08:57:06.012Z"
   },
   {
    "duration": 21,
    "start_time": "2022-03-24T08:57:06.212Z"
   },
   {
    "duration": 3,
    "start_time": "2022-03-24T08:57:06.234Z"
   },
   {
    "duration": 16,
    "start_time": "2022-03-24T08:57:06.239Z"
   },
   {
    "duration": 263,
    "start_time": "2022-03-24T08:57:06.257Z"
   },
   {
    "duration": 198,
    "start_time": "2022-03-24T08:57:06.522Z"
   },
   {
    "duration": 172,
    "start_time": "2022-03-24T08:57:06.722Z"
   },
   {
    "duration": 191,
    "start_time": "2022-03-24T08:57:06.896Z"
   },
   {
    "duration": 228,
    "start_time": "2022-03-24T08:57:07.089Z"
   },
   {
    "duration": 213,
    "start_time": "2022-03-24T08:57:07.320Z"
   },
   {
    "duration": 12,
    "start_time": "2022-03-24T08:57:07.534Z"
   },
   {
    "duration": 7,
    "start_time": "2022-03-24T08:57:07.548Z"
   },
   {
    "duration": 15,
    "start_time": "2022-03-24T08:57:07.557Z"
   },
   {
    "duration": 190,
    "start_time": "2022-03-24T08:57:07.574Z"
   },
   {
    "duration": 194,
    "start_time": "2022-03-24T08:57:07.766Z"
   },
   {
    "duration": 196,
    "start_time": "2022-03-24T08:57:07.962Z"
   },
   {
    "duration": 198,
    "start_time": "2022-03-24T08:57:08.160Z"
   },
   {
    "duration": 209,
    "start_time": "2022-03-24T08:57:08.363Z"
   },
   {
    "duration": 305,
    "start_time": "2022-03-24T08:57:08.574Z"
   },
   {
    "duration": 903,
    "start_time": "2022-03-24T08:57:08.881Z"
   },
   {
    "duration": 15,
    "start_time": "2022-03-24T08:57:50.811Z"
   },
   {
    "duration": 1734,
    "start_time": "2022-03-24T08:58:57.038Z"
   },
   {
    "duration": 146,
    "start_time": "2022-03-24T10:21:26.923Z"
   },
   {
    "duration": 3,
    "start_time": "2022-03-24T10:24:14.218Z"
   },
   {
    "duration": 532,
    "start_time": "2022-03-24T10:24:14.223Z"
   },
   {
    "duration": 24,
    "start_time": "2022-03-24T10:24:14.757Z"
   },
   {
    "duration": 22,
    "start_time": "2022-03-24T10:24:14.783Z"
   },
   {
    "duration": 18,
    "start_time": "2022-03-24T10:24:14.806Z"
   },
   {
    "duration": 19,
    "start_time": "2022-03-24T10:24:14.827Z"
   },
   {
    "duration": 25,
    "start_time": "2022-03-24T10:24:14.849Z"
   },
   {
    "duration": 12,
    "start_time": "2022-03-24T10:24:14.876Z"
   },
   {
    "duration": 17,
    "start_time": "2022-03-24T10:24:14.890Z"
   },
   {
    "duration": 18,
    "start_time": "2022-03-24T10:24:14.909Z"
   },
   {
    "duration": 28,
    "start_time": "2022-03-24T10:24:14.929Z"
   },
   {
    "duration": 15,
    "start_time": "2022-03-24T10:24:14.959Z"
   },
   {
    "duration": 15,
    "start_time": "2022-03-24T10:24:14.975Z"
   },
   {
    "duration": 11,
    "start_time": "2022-03-24T10:24:14.992Z"
   },
   {
    "duration": 25,
    "start_time": "2022-03-24T10:24:15.008Z"
   },
   {
    "duration": 25,
    "start_time": "2022-03-24T10:24:15.037Z"
   },
   {
    "duration": 10,
    "start_time": "2022-03-24T10:24:15.063Z"
   },
   {
    "duration": 12,
    "start_time": "2022-03-24T10:24:15.076Z"
   },
   {
    "duration": 29980,
    "start_time": "2022-03-24T10:24:15.089Z"
   },
   {
    "duration": 6,
    "start_time": "2022-03-24T10:24:45.072Z"
   },
   {
    "duration": 20,
    "start_time": "2022-03-24T10:24:45.079Z"
   },
   {
    "duration": 11,
    "start_time": "2022-03-24T10:24:45.101Z"
   },
   {
    "duration": 11,
    "start_time": "2022-03-24T10:24:45.114Z"
   },
   {
    "duration": 4,
    "start_time": "2022-03-24T10:24:45.132Z"
   },
   {
    "duration": 42,
    "start_time": "2022-03-24T10:24:45.138Z"
   },
   {
    "duration": 5,
    "start_time": "2022-03-24T10:24:45.182Z"
   },
   {
    "duration": 23,
    "start_time": "2022-03-24T10:24:45.189Z"
   },
   {
    "duration": 3,
    "start_time": "2022-03-24T10:24:45.214Z"
   },
   {
    "duration": 25,
    "start_time": "2022-03-24T10:24:45.219Z"
   },
   {
    "duration": 20,
    "start_time": "2022-03-24T10:24:45.246Z"
   },
   {
    "duration": 24,
    "start_time": "2022-03-24T10:24:45.268Z"
   },
   {
    "duration": 4,
    "start_time": "2022-03-24T10:24:45.295Z"
   },
   {
    "duration": 37,
    "start_time": "2022-03-24T10:24:45.301Z"
   },
   {
    "duration": 23,
    "start_time": "2022-03-24T10:24:45.340Z"
   },
   {
    "duration": 23,
    "start_time": "2022-03-24T10:24:45.366Z"
   },
   {
    "duration": 5,
    "start_time": "2022-03-24T10:24:45.391Z"
   },
   {
    "duration": 44,
    "start_time": "2022-03-24T10:24:45.398Z"
   },
   {
    "duration": 10,
    "start_time": "2022-03-24T10:24:45.444Z"
   },
   {
    "duration": 7,
    "start_time": "2022-03-24T10:24:45.456Z"
   },
   {
    "duration": 17,
    "start_time": "2022-03-24T10:24:45.464Z"
   },
   {
    "duration": 9,
    "start_time": "2022-03-24T10:24:45.483Z"
   },
   {
    "duration": 43,
    "start_time": "2022-03-24T10:24:45.498Z"
   },
   {
    "duration": 16,
    "start_time": "2022-03-24T10:24:45.543Z"
   },
   {
    "duration": 9,
    "start_time": "2022-03-24T10:24:45.561Z"
   },
   {
    "duration": 196,
    "start_time": "2022-03-24T10:24:45.572Z"
   },
   {
    "duration": 16,
    "start_time": "2022-03-24T10:24:45.770Z"
   },
   {
    "duration": 3,
    "start_time": "2022-03-24T10:24:45.788Z"
   },
   {
    "duration": 27,
    "start_time": "2022-03-24T10:24:45.793Z"
   },
   {
    "duration": 272,
    "start_time": "2022-03-24T10:24:45.835Z"
   },
   {
    "duration": 307,
    "start_time": "2022-03-24T10:24:46.109Z"
   },
   {
    "duration": 201,
    "start_time": "2022-03-24T10:24:46.418Z"
   },
   {
    "duration": 202,
    "start_time": "2022-03-24T10:24:46.621Z"
   },
   {
    "duration": 284,
    "start_time": "2022-03-24T10:24:46.825Z"
   },
   {
    "duration": 205,
    "start_time": "2022-03-24T10:24:47.111Z"
   },
   {
    "duration": 217,
    "start_time": "2022-03-24T10:24:47.318Z"
   },
   {
    "duration": 14,
    "start_time": "2022-03-24T10:24:47.538Z"
   },
   {
    "duration": 5,
    "start_time": "2022-03-24T10:24:47.554Z"
   },
   {
    "duration": 14,
    "start_time": "2022-03-24T10:24:47.560Z"
   },
   {
    "duration": 216,
    "start_time": "2022-03-24T10:24:47.575Z"
   },
   {
    "duration": 254,
    "start_time": "2022-03-24T10:24:47.793Z"
   },
   {
    "duration": 203,
    "start_time": "2022-03-24T10:24:48.048Z"
   },
   {
    "duration": 246,
    "start_time": "2022-03-24T10:24:48.252Z"
   },
   {
    "duration": 287,
    "start_time": "2022-03-24T10:24:48.501Z"
   },
   {
    "duration": 254,
    "start_time": "2022-03-24T10:24:48.790Z"
   },
   {
    "duration": 342,
    "start_time": "2022-03-24T10:24:49.045Z"
   },
   {
    "duration": 11,
    "start_time": "2022-03-24T10:24:49.389Z"
   },
   {
    "duration": 4,
    "start_time": "2022-03-24T10:24:49.402Z"
   },
   {
    "duration": 32,
    "start_time": "2022-03-24T10:24:49.408Z"
   },
   {
    "duration": 276,
    "start_time": "2022-03-24T10:24:49.441Z"
   },
   {
    "duration": 225,
    "start_time": "2022-03-24T10:24:49.719Z"
   },
   {
    "duration": 188,
    "start_time": "2022-03-24T10:24:49.946Z"
   },
   {
    "duration": 202,
    "start_time": "2022-03-24T10:24:50.136Z"
   },
   {
    "duration": 204,
    "start_time": "2022-03-24T10:24:50.340Z"
   },
   {
    "duration": 218,
    "start_time": "2022-03-24T10:24:50.546Z"
   },
   {
    "duration": 13,
    "start_time": "2022-03-24T10:24:50.766Z"
   },
   {
    "duration": 5,
    "start_time": "2022-03-24T10:24:50.781Z"
   },
   {
    "duration": 21,
    "start_time": "2022-03-24T10:24:50.788Z"
   },
   {
    "duration": 197,
    "start_time": "2022-03-24T10:24:50.811Z"
   },
   {
    "duration": 208,
    "start_time": "2022-03-24T10:24:51.010Z"
   },
   {
    "duration": 253,
    "start_time": "2022-03-24T10:24:51.220Z"
   },
   {
    "duration": 199,
    "start_time": "2022-03-24T10:24:51.474Z"
   },
   {
    "duration": 282,
    "start_time": "2022-03-24T10:24:51.675Z"
   },
   {
    "duration": 295,
    "start_time": "2022-03-24T10:24:51.960Z"
   },
   {
    "duration": 166,
    "start_time": "2022-03-24T10:24:52.257Z"
   },
   {
    "duration": 149,
    "start_time": "2022-03-24T10:26:41.404Z"
   },
   {
    "duration": 192,
    "start_time": "2022-03-24T10:33:26.701Z"
   },
   {
    "duration": 270,
    "start_time": "2022-03-24T10:34:19.011Z"
   },
   {
    "duration": 206,
    "start_time": "2022-03-24T10:40:19.508Z"
   },
   {
    "duration": 14,
    "start_time": "2022-03-24T10:48:54.135Z"
   },
   {
    "duration": 7,
    "start_time": "2022-03-24T10:49:29.922Z"
   }
  ],
  "colab": {
   "collapsed_sections": [],
   "name": "Untitled0.ipynb",
   "provenance": []
  },
  "kernelspec": {
   "display_name": "Python 3 (ipykernel)",
   "language": "python",
   "name": "python3"
  },
  "language_info": {
   "codemirror_mode": {
    "name": "ipython",
    "version": 3
   },
   "file_extension": ".py",
   "mimetype": "text/x-python",
   "name": "python",
   "nbconvert_exporter": "python",
   "pygments_lexer": "ipython3",
   "version": "3.9.7"
  },
  "toc": {
   "base_numbering": 1,
   "nav_menu": {},
   "number_sections": true,
   "sideBar": true,
   "skip_h1_title": true,
   "title_cell": "Table of Contents",
   "title_sidebar": "Contents",
   "toc_cell": false,
   "toc_position": {},
   "toc_section_display": true,
   "toc_window_display": false
  }
 },
 "nbformat": 4,
 "nbformat_minor": 1
}
