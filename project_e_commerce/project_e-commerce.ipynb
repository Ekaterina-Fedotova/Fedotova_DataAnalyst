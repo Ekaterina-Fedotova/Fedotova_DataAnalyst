{
 "cells": [
  {
   "cell_type": "markdown",
   "metadata": {
    "toc": true
   },
   "source": [
    "<h1>Содержание<span class=\"tocSkip\"></span></h1>\n",
    "<div class=\"toc\"><ul class=\"toc-item\"><li><span><a href=\"#Предобработка-данных\" data-toc-modified-id=\"Предобработка-данных-1\"><span class=\"toc-item-num\">1&nbsp;&nbsp;</span>Предобработка данных</a></span><ul class=\"toc-item\"><li><span><a href=\"#Загрузите-данные\" data-toc-modified-id=\"Загрузите-данные-1.1\"><span class=\"toc-item-num\">1.1&nbsp;&nbsp;</span>Загрузите данные</a></span></li><li><span><a href=\"#Изучите-общую-информацию-о-данных\" data-toc-modified-id=\"Изучите-общую-информацию-о-данных-1.2\"><span class=\"toc-item-num\">1.2&nbsp;&nbsp;</span>Изучите общую информацию о данных</a></span></li><li><span><a href=\"#Приведите-данные-к-нужным-типам\" data-toc-modified-id=\"Приведите-данные-к-нужным-типам-1.3\"><span class=\"toc-item-num\">1.3&nbsp;&nbsp;</span>Приведите данные к нужным типам</a></span></li><li><span><a href=\"#Проверте-и-обработайте-данные-на-аномалии,-пропуски-и-дубликаты\" data-toc-modified-id=\"Проверте-и-обработайте-данные-на-аномалии,-пропуски-и-дубликаты-1.4\"><span class=\"toc-item-num\">1.4&nbsp;&nbsp;</span>Проверте и обработайте данные на аномалии, пропуски и дубликаты</a></span></li><li><span><a href=\"#Задайте-новую-нумерацию-заказов\" data-toc-modified-id=\"Задайте-новую-нумерацию-заказов-1.5\"><span class=\"toc-item-num\">1.5&nbsp;&nbsp;</span>Задайте новую нумерацию заказов</a></span></li></ul></li><li><span><a href=\"#Исследовательский-анализ-данных\" data-toc-modified-id=\"Исследовательский-анализ-данных-2\"><span class=\"toc-item-num\">2&nbsp;&nbsp;</span>Исследовательский анализ данных</a></span><ul class=\"toc-item\"><li><span><a href=\"#Посчитайте-итоговую-стоимость-товаров-в-заказах\" data-toc-modified-id=\"Посчитайте-итоговую-стоимость-товаров-в-заказах-2.1\"><span class=\"toc-item-num\">2.1&nbsp;&nbsp;</span>Посчитайте итоговую стоимость товаров в заказах</a></span></li><li><span><a href=\"#Сформируйте-категорий-товара\" data-toc-modified-id=\"Сформируйте-категорий-товара-2.2\"><span class=\"toc-item-num\">2.2&nbsp;&nbsp;</span>Сформируйте категорий товара</a></span></li><li><span><a href=\"#Постройте-гистограмму-распределения-категорий-товара-во-времени\" data-toc-modified-id=\"Постройте-гистограмму-распределения-категорий-товара-во-времени-2.3\"><span class=\"toc-item-num\">2.3&nbsp;&nbsp;</span>Постройте гистограмму распределения категорий товара во времени</a></span></li></ul></li><li><span><a href=\"#Проверка-статестических-гипотез\" data-toc-modified-id=\"Проверка-статестических-гипотез-3\"><span class=\"toc-item-num\">3&nbsp;&nbsp;</span>Проверка статестических гипотез</a></span><ul class=\"toc-item\"><li><span><a href=\"#Гипотеза-№1\" data-toc-modified-id=\"Гипотеза-№1-3.1\"><span class=\"toc-item-num\">3.1&nbsp;&nbsp;</span>Гипотеза №1</a></span></li><li><span><a href=\"#Гипотеза-№2\" data-toc-modified-id=\"Гипотеза-№2-3.2\"><span class=\"toc-item-num\">3.2&nbsp;&nbsp;</span>Гипотеза №2</a></span></li></ul></li><li><span><a href=\"#Выводы-и-рекомендации\" data-toc-modified-id=\"Выводы-и-рекомендации-4\"><span class=\"toc-item-num\">4&nbsp;&nbsp;</span>Выводы и рекомендации</a></span></li><li><span><a href=\"#Подготовка-презинтации\" data-toc-modified-id=\"Подготовка-презинтации-5\"><span class=\"toc-item-num\">5&nbsp;&nbsp;</span>Подготовка презинтации</a></span></li></ul></div>"
   ]
  },
  {
   "cell_type": "markdown",
   "metadata": {},
   "source": [
    "# Анализ товарного ассортимента интернет-магазина"
   ]
  },
  {
   "cell_type": "markdown",
   "metadata": {},
   "source": [
    "Интернет-магазин товаров для дома и быта «Пока все ещё тут» хочет узнать, как обстоят дела в бизнесе, и разработать стратегию дальнейшего развития, получить рекомендации по увеличению выручки.\n",
    "\n",
    "Данные описывают транзакции магазина:\n",
    "- `date` — дата заказа;\n",
    "- `customer_id` — идентификатор покупателя;\n",
    "- `order_id` — идентификатор заказа;\n",
    "- `product` — наименование товара;\n",
    "- `quantity` — количество товара в заказе;\n",
    "- `price` — цена товара."
   ]
  },
  {
   "cell_type": "markdown",
   "metadata": {},
   "source": [
    "## Предобработка данных"
   ]
  },
  {
   "cell_type": "markdown",
   "metadata": {},
   "source": [
    "### Загрузите данные"
   ]
  },
  {
   "cell_type": "code",
   "execution_count": 1,
   "metadata": {},
   "outputs": [],
   "source": [
    "# импортируем библиотеки\n",
    "import pandas as pd\n",
    "import numpy as np\n",
    "import datetime as dt\n",
    "import random\n",
    "from scipy import stats as st\n",
    "from datetime import datetime, timedelta\n",
    "from matplotlib import pyplot as plt\n",
    "import seaborn as sns\n",
    "from pymystem3 import Mystem\n",
    "\n",
    "import warnings\n",
    "warnings.filterwarnings(\"ignore\")"
   ]
  },
  {
   "cell_type": "code",
   "execution_count": 2,
   "metadata": {},
   "outputs": [],
   "source": [
    "# загрузим данные\n",
    "df = pd.read_csv('ecommerce_dataset.csv')"
   ]
  },
  {
   "cell_type": "code",
   "execution_count": 3,
   "metadata": {},
   "outputs": [
    {
     "data": {
      "text/html": [
       "<div>\n",
       "<style scoped>\n",
       "    .dataframe tbody tr th:only-of-type {\n",
       "        vertical-align: middle;\n",
       "    }\n",
       "\n",
       "    .dataframe tbody tr th {\n",
       "        vertical-align: top;\n",
       "    }\n",
       "\n",
       "    .dataframe thead th {\n",
       "        text-align: right;\n",
       "    }\n",
       "</style>\n",
       "<table border=\"1\" class=\"dataframe\">\n",
       "  <thead>\n",
       "    <tr style=\"text-align: right;\">\n",
       "      <th></th>\n",
       "      <th>date</th>\n",
       "      <th>customer_id</th>\n",
       "      <th>order_id</th>\n",
       "      <th>product</th>\n",
       "      <th>quantity</th>\n",
       "      <th>price</th>\n",
       "    </tr>\n",
       "  </thead>\n",
       "  <tbody>\n",
       "    <tr>\n",
       "      <th>0</th>\n",
       "      <td>2018100100</td>\n",
       "      <td>ee47d746-6d2f-4d3c-9622-c31412542920</td>\n",
       "      <td>68477</td>\n",
       "      <td>Комнатное растение в горшке Алое Вера, d12, h30</td>\n",
       "      <td>1</td>\n",
       "      <td>142.0</td>\n",
       "    </tr>\n",
       "    <tr>\n",
       "      <th>1</th>\n",
       "      <td>2018100100</td>\n",
       "      <td>ee47d746-6d2f-4d3c-9622-c31412542920</td>\n",
       "      <td>68477</td>\n",
       "      <td>Комнатное растение в горшке Кофе Арабика, d12,...</td>\n",
       "      <td>1</td>\n",
       "      <td>194.0</td>\n",
       "    </tr>\n",
       "    <tr>\n",
       "      <th>2</th>\n",
       "      <td>2018100100</td>\n",
       "      <td>ee47d746-6d2f-4d3c-9622-c31412542920</td>\n",
       "      <td>68477</td>\n",
       "      <td>Радермахера d-12 см h-20 см</td>\n",
       "      <td>1</td>\n",
       "      <td>112.0</td>\n",
       "    </tr>\n",
       "    <tr>\n",
       "      <th>3</th>\n",
       "      <td>2018100100</td>\n",
       "      <td>ee47d746-6d2f-4d3c-9622-c31412542920</td>\n",
       "      <td>68477</td>\n",
       "      <td>Хризолидокарпус Лутесценс d-9 см</td>\n",
       "      <td>1</td>\n",
       "      <td>179.0</td>\n",
       "    </tr>\n",
       "    <tr>\n",
       "      <th>4</th>\n",
       "      <td>2018100100</td>\n",
       "      <td>ee47d746-6d2f-4d3c-9622-c31412542920</td>\n",
       "      <td>68477</td>\n",
       "      <td>Циперус Зумула d-12 см h-25 см</td>\n",
       "      <td>1</td>\n",
       "      <td>112.0</td>\n",
       "    </tr>\n",
       "  </tbody>\n",
       "</table>\n",
       "</div>"
      ],
      "text/plain": [
       "         date                           customer_id  order_id  \\\n",
       "0  2018100100  ee47d746-6d2f-4d3c-9622-c31412542920     68477   \n",
       "1  2018100100  ee47d746-6d2f-4d3c-9622-c31412542920     68477   \n",
       "2  2018100100  ee47d746-6d2f-4d3c-9622-c31412542920     68477   \n",
       "3  2018100100  ee47d746-6d2f-4d3c-9622-c31412542920     68477   \n",
       "4  2018100100  ee47d746-6d2f-4d3c-9622-c31412542920     68477   \n",
       "\n",
       "                                             product  quantity  price  \n",
       "0    Комнатное растение в горшке Алое Вера, d12, h30         1  142.0  \n",
       "1  Комнатное растение в горшке Кофе Арабика, d12,...         1  194.0  \n",
       "2                        Радермахера d-12 см h-20 см         1  112.0  \n",
       "3                   Хризолидокарпус Лутесценс d-9 см         1  179.0  \n",
       "4                     Циперус Зумула d-12 см h-25 см         1  112.0  "
      ]
     },
     "execution_count": 3,
     "metadata": {},
     "output_type": "execute_result"
    }
   ],
   "source": [
    "# выведим первые 5 строк\n",
    "df.head()"
   ]
  },
  {
   "cell_type": "markdown",
   "metadata": {},
   "source": [
    "Дадасет требует обработки. На первый взгляд необходимо привести дату к стандартному виду. Узнать объем данных, проверить на аномалии, пропуски и дубликаты."
   ]
  },
  {
   "cell_type": "markdown",
   "metadata": {},
   "source": [
    "### Изучите общую информацию о данных"
   ]
  },
  {
   "cell_type": "code",
   "execution_count": 4,
   "metadata": {},
   "outputs": [
    {
     "data": {
      "text/plain": [
       "(6737, 6)"
      ]
     },
     "execution_count": 4,
     "metadata": {},
     "output_type": "execute_result"
    }
   ],
   "source": [
    "# размер таблицы\n",
    "df.shape"
   ]
  },
  {
   "cell_type": "code",
   "execution_count": 5,
   "metadata": {},
   "outputs": [
    {
     "name": "stdout",
     "output_type": "stream",
     "text": [
      "<class 'pandas.core.frame.DataFrame'>\n",
      "RangeIndex: 6737 entries, 0 to 6736\n",
      "Data columns (total 6 columns):\n",
      " #   Column       Non-Null Count  Dtype  \n",
      "---  ------       --------------  -----  \n",
      " 0   date         6737 non-null   int64  \n",
      " 1   customer_id  6737 non-null   object \n",
      " 2   order_id     6737 non-null   int64  \n",
      " 3   product      6737 non-null   object \n",
      " 4   quantity     6737 non-null   int64  \n",
      " 5   price        6737 non-null   float64\n",
      "dtypes: float64(1), int64(3), object(2)\n",
      "memory usage: 315.9+ KB\n"
     ]
    }
   ],
   "source": [
    "# общая информация\n",
    "df.info()"
   ]
  },
  {
   "cell_type": "code",
   "execution_count": 6,
   "metadata": {},
   "outputs": [
    {
     "data": {
      "text/html": [
       "<div>\n",
       "<style scoped>\n",
       "    .dataframe tbody tr th:only-of-type {\n",
       "        vertical-align: middle;\n",
       "    }\n",
       "\n",
       "    .dataframe tbody tr th {\n",
       "        vertical-align: top;\n",
       "    }\n",
       "\n",
       "    .dataframe thead th {\n",
       "        text-align: right;\n",
       "    }\n",
       "</style>\n",
       "<table border=\"1\" class=\"dataframe\">\n",
       "  <thead>\n",
       "    <tr style=\"text-align: right;\">\n",
       "      <th></th>\n",
       "      <th>date</th>\n",
       "      <th>order_id</th>\n",
       "      <th>quantity</th>\n",
       "      <th>price</th>\n",
       "    </tr>\n",
       "  </thead>\n",
       "  <tbody>\n",
       "    <tr>\n",
       "      <th>count</th>\n",
       "      <td>6.737000e+03</td>\n",
       "      <td>6737.000000</td>\n",
       "      <td>6737.000000</td>\n",
       "      <td>6737.000000</td>\n",
       "    </tr>\n",
       "    <tr>\n",
       "      <th>mean</th>\n",
       "      <td>2.018855e+09</td>\n",
       "      <td>43128.948345</td>\n",
       "      <td>2.501559</td>\n",
       "      <td>462.028499</td>\n",
       "    </tr>\n",
       "    <tr>\n",
       "      <th>std</th>\n",
       "      <td>3.855185e+05</td>\n",
       "      <td>27899.414662</td>\n",
       "      <td>15.266478</td>\n",
       "      <td>871.296064</td>\n",
       "    </tr>\n",
       "    <tr>\n",
       "      <th>min</th>\n",
       "      <td>2.018100e+09</td>\n",
       "      <td>12624.000000</td>\n",
       "      <td>1.000000</td>\n",
       "      <td>9.000000</td>\n",
       "    </tr>\n",
       "    <tr>\n",
       "      <th>25%</th>\n",
       "      <td>2.019020e+09</td>\n",
       "      <td>14827.000000</td>\n",
       "      <td>1.000000</td>\n",
       "      <td>101.000000</td>\n",
       "    </tr>\n",
       "    <tr>\n",
       "      <th>50%</th>\n",
       "      <td>2.019050e+09</td>\n",
       "      <td>68503.000000</td>\n",
       "      <td>1.000000</td>\n",
       "      <td>135.000000</td>\n",
       "    </tr>\n",
       "    <tr>\n",
       "      <th>75%</th>\n",
       "      <td>2.019061e+09</td>\n",
       "      <td>70504.000000</td>\n",
       "      <td>1.000000</td>\n",
       "      <td>398.000000</td>\n",
       "    </tr>\n",
       "    <tr>\n",
       "      <th>max</th>\n",
       "      <td>2.019103e+09</td>\n",
       "      <td>73164.000000</td>\n",
       "      <td>1000.000000</td>\n",
       "      <td>14917.000000</td>\n",
       "    </tr>\n",
       "  </tbody>\n",
       "</table>\n",
       "</div>"
      ],
      "text/plain": [
       "               date      order_id     quantity         price\n",
       "count  6.737000e+03   6737.000000  6737.000000   6737.000000\n",
       "mean   2.018855e+09  43128.948345     2.501559    462.028499\n",
       "std    3.855185e+05  27899.414662    15.266478    871.296064\n",
       "min    2.018100e+09  12624.000000     1.000000      9.000000\n",
       "25%    2.019020e+09  14827.000000     1.000000    101.000000\n",
       "50%    2.019050e+09  68503.000000     1.000000    135.000000\n",
       "75%    2.019061e+09  70504.000000     1.000000    398.000000\n",
       "max    2.019103e+09  73164.000000  1000.000000  14917.000000"
      ]
     },
     "execution_count": 6,
     "metadata": {},
     "output_type": "execute_result"
    }
   ],
   "source": [
    "# описательная статистика\n",
    "df.describe()"
   ]
  },
  {
   "cell_type": "markdown",
   "metadata": {},
   "source": [
    "В датасете 6 столбцов и 6737 строк. Данные заполнены полностью. Столбец количество товара в заказе имеет большой диапазон от 1 штуки до 1000, при этом большенство заказов содержит по 1 штуке товара. 1000 штук товара в заказе - это аномальное значение. Цена товара в датасете находиться в пределах от 9 до 14917, в магазите есть как совсем не дорогие товары, так и дорогостоящие, при этом медианная цена находиться в пределах 135, значит не дорогие товары в магазине преобладают."
   ]
  },
  {
   "cell_type": "markdown",
   "metadata": {},
   "source": [
    "### Приведите данные к нужным типам"
   ]
  },
  {
   "cell_type": "code",
   "execution_count": 7,
   "metadata": {},
   "outputs": [],
   "source": [
    "# переведем тип заказа в строковый тип\n",
    "df['order_id'] = df['order_id'].astype('str')"
   ]
  },
  {
   "cell_type": "code",
   "execution_count": 8,
   "metadata": {},
   "outputs": [],
   "source": [
    "# изменим тип даты, добавим новые столбцы\n",
    "\n",
    "df['date'] = pd.to_datetime(df['date'], format='%Y%m%d%H')\n",
    "df['data'] = df['date'].dt.date\n",
    "df['day'] = df['date'].dt.weekday\n",
    "df['month'] = df['date'].dt.month\n",
    "df['year'] = df['date'].dt.year\n"
   ]
  },
  {
   "cell_type": "code",
   "execution_count": 9,
   "metadata": {},
   "outputs": [
    {
     "name": "stdout",
     "output_type": "stream",
     "text": [
      "<class 'pandas.core.frame.DataFrame'>\n",
      "RangeIndex: 6737 entries, 0 to 6736\n",
      "Data columns (total 10 columns):\n",
      " #   Column       Non-Null Count  Dtype         \n",
      "---  ------       --------------  -----         \n",
      " 0   date         6737 non-null   datetime64[ns]\n",
      " 1   customer_id  6737 non-null   object        \n",
      " 2   order_id     6737 non-null   object        \n",
      " 3   product      6737 non-null   object        \n",
      " 4   quantity     6737 non-null   int64         \n",
      " 5   price        6737 non-null   float64       \n",
      " 6   data         6737 non-null   object        \n",
      " 7   day          6737 non-null   int64         \n",
      " 8   month        6737 non-null   int64         \n",
      " 9   year         6737 non-null   int64         \n",
      "dtypes: datetime64[ns](1), float64(1), int64(4), object(4)\n",
      "memory usage: 526.5+ KB\n"
     ]
    }
   ],
   "source": [
    "df.info()"
   ]
  },
  {
   "cell_type": "code",
   "execution_count": 10,
   "metadata": {},
   "outputs": [
    {
     "data": {
      "text/plain": [
       "datetime.date(2018, 10, 1)"
      ]
     },
     "metadata": {},
     "output_type": "display_data"
    },
    {
     "data": {
      "text/plain": [
       "datetime.date(2019, 10, 31)"
      ]
     },
     "execution_count": 10,
     "metadata": {},
     "output_type": "execute_result"
    }
   ],
   "source": [
    "# определим за какой период в датасе данные\n",
    "display(df['data'].min())\n",
    "df['data'].max() "
   ]
  },
  {
   "cell_type": "code",
   "execution_count": 11,
   "metadata": {},
   "outputs": [
    {
     "data": {
      "image/png": "[encoded data removed]",
      "text/plain": [
       "<Figure size 432x288 with 1 Axes>"
      ]
     },
     "metadata": {
      "needs_background": "light"
     },
     "output_type": "display_data"
    }
   ],
   "source": [
    "# гистограмма \n",
    "df['data'].hist()\n",
    "plt.xticks(rotation = 45)\n",
    "plt.show()"
   ]
  },
  {
   "cell_type": "markdown",
   "metadata": {},
   "source": [
    "На гистограмме видно, что в период май-июнь активность в магазине возрастает, вероятно это связанно с сезонностью предлагаемого товара."
   ]
  },
  {
   "cell_type": "code",
   "execution_count": 12,
   "metadata": {},
   "outputs": [
    {
     "data": {
      "text/html": [
       "<div>\n",
       "<style scoped>\n",
       "    .dataframe tbody tr th:only-of-type {\n",
       "        vertical-align: middle;\n",
       "    }\n",
       "\n",
       "    .dataframe tbody tr th {\n",
       "        vertical-align: top;\n",
       "    }\n",
       "\n",
       "    .dataframe thead th {\n",
       "        text-align: right;\n",
       "    }\n",
       "</style>\n",
       "<table border=\"1\" class=\"dataframe\">\n",
       "  <thead>\n",
       "    <tr style=\"text-align: right;\">\n",
       "      <th></th>\n",
       "      <th>date</th>\n",
       "      <th>customer_id</th>\n",
       "      <th>order_id</th>\n",
       "      <th>product</th>\n",
       "      <th>quantity</th>\n",
       "      <th>price</th>\n",
       "      <th>data</th>\n",
       "      <th>day</th>\n",
       "      <th>month</th>\n",
       "      <th>year</th>\n",
       "    </tr>\n",
       "  </thead>\n",
       "  <tbody>\n",
       "    <tr>\n",
       "      <th>0</th>\n",
       "      <td>2018-10-01</td>\n",
       "      <td>ee47d746-6d2f-4d3c-9622-c31412542920</td>\n",
       "      <td>68477</td>\n",
       "      <td>Комнатное растение в горшке Алое Вера, d12, h30</td>\n",
       "      <td>1</td>\n",
       "      <td>142.0</td>\n",
       "      <td>2018-10-01</td>\n",
       "      <td>0</td>\n",
       "      <td>10</td>\n",
       "      <td>2018</td>\n",
       "    </tr>\n",
       "    <tr>\n",
       "      <th>1</th>\n",
       "      <td>2018-10-01</td>\n",
       "      <td>ee47d746-6d2f-4d3c-9622-c31412542920</td>\n",
       "      <td>68477</td>\n",
       "      <td>Комнатное растение в горшке Кофе Арабика, d12,...</td>\n",
       "      <td>1</td>\n",
       "      <td>194.0</td>\n",
       "      <td>2018-10-01</td>\n",
       "      <td>0</td>\n",
       "      <td>10</td>\n",
       "      <td>2018</td>\n",
       "    </tr>\n",
       "    <tr>\n",
       "      <th>2</th>\n",
       "      <td>2018-10-01</td>\n",
       "      <td>ee47d746-6d2f-4d3c-9622-c31412542920</td>\n",
       "      <td>68477</td>\n",
       "      <td>Радермахера d-12 см h-20 см</td>\n",
       "      <td>1</td>\n",
       "      <td>112.0</td>\n",
       "      <td>2018-10-01</td>\n",
       "      <td>0</td>\n",
       "      <td>10</td>\n",
       "      <td>2018</td>\n",
       "    </tr>\n",
       "    <tr>\n",
       "      <th>3</th>\n",
       "      <td>2018-10-01</td>\n",
       "      <td>ee47d746-6d2f-4d3c-9622-c31412542920</td>\n",
       "      <td>68477</td>\n",
       "      <td>Хризолидокарпус Лутесценс d-9 см</td>\n",
       "      <td>1</td>\n",
       "      <td>179.0</td>\n",
       "      <td>2018-10-01</td>\n",
       "      <td>0</td>\n",
       "      <td>10</td>\n",
       "      <td>2018</td>\n",
       "    </tr>\n",
       "    <tr>\n",
       "      <th>4</th>\n",
       "      <td>2018-10-01</td>\n",
       "      <td>ee47d746-6d2f-4d3c-9622-c31412542920</td>\n",
       "      <td>68477</td>\n",
       "      <td>Циперус Зумула d-12 см h-25 см</td>\n",
       "      <td>1</td>\n",
       "      <td>112.0</td>\n",
       "      <td>2018-10-01</td>\n",
       "      <td>0</td>\n",
       "      <td>10</td>\n",
       "      <td>2018</td>\n",
       "    </tr>\n",
       "  </tbody>\n",
       "</table>\n",
       "</div>"
      ],
      "text/plain": [
       "        date                           customer_id order_id  \\\n",
       "0 2018-10-01  ee47d746-6d2f-4d3c-9622-c31412542920    68477   \n",
       "1 2018-10-01  ee47d746-6d2f-4d3c-9622-c31412542920    68477   \n",
       "2 2018-10-01  ee47d746-6d2f-4d3c-9622-c31412542920    68477   \n",
       "3 2018-10-01  ee47d746-6d2f-4d3c-9622-c31412542920    68477   \n",
       "4 2018-10-01  ee47d746-6d2f-4d3c-9622-c31412542920    68477   \n",
       "\n",
       "                                             product  quantity  price  \\\n",
       "0    Комнатное растение в горшке Алое Вера, d12, h30         1  142.0   \n",
       "1  Комнатное растение в горшке Кофе Арабика, d12,...         1  194.0   \n",
       "2                        Радермахера d-12 см h-20 см         1  112.0   \n",
       "3                   Хризолидокарпус Лутесценс d-9 см         1  179.0   \n",
       "4                     Циперус Зумула d-12 см h-25 см         1  112.0   \n",
       "\n",
       "         data  day  month  year  \n",
       "0  2018-10-01    0     10  2018  \n",
       "1  2018-10-01    0     10  2018  \n",
       "2  2018-10-01    0     10  2018  \n",
       "3  2018-10-01    0     10  2018  \n",
       "4  2018-10-01    0     10  2018  "
      ]
     },
     "execution_count": 12,
     "metadata": {},
     "output_type": "execute_result"
    }
   ],
   "source": [
    "df.head()"
   ]
  },
  {
   "cell_type": "markdown",
   "metadata": {},
   "source": [
    "Узнали, что в датасете данные находяться за период с 1.10.2018 по 31.10.2019 года, то есть за 1 полный год и 1 месяц. В датасете два октября месяца за два года. На графике распределения данных заметна сезонность товаров. Мы преобразовали столбец с датой, получили дату и час заказа, выделили в отдельный столбец дату, день недели, месяц и год. Номер заказа сделали строкой. "
   ]
  },
  {
   "cell_type": "markdown",
   "metadata": {},
   "source": [
    "### Проверим и обработаем данные на аномалии, пропуски и дубликаты"
   ]
  },
  {
   "cell_type": "code",
   "execution_count": 13,
   "metadata": {},
   "outputs": [
    {
     "data": {
      "text/plain": [
       "date           0\n",
       "customer_id    0\n",
       "order_id       0\n",
       "product        0\n",
       "quantity       0\n",
       "price          0\n",
       "data           0\n",
       "day            0\n",
       "month          0\n",
       "year           0\n",
       "dtype: int64"
      ]
     },
     "execution_count": 13,
     "metadata": {},
     "output_type": "execute_result"
    }
   ],
   "source": [
    "# проверим датасет на пропуски\n",
    "df.isna().sum()"
   ]
  },
  {
   "cell_type": "code",
   "execution_count": 14,
   "metadata": {},
   "outputs": [
    {
     "data": {
      "text/plain": [
       "0"
      ]
     },
     "execution_count": 14,
     "metadata": {},
     "output_type": "execute_result"
    }
   ],
   "source": [
    "# проверим датафрейм на дубликаты\n",
    "df.duplicated().sum()"
   ]
  },
  {
   "cell_type": "markdown",
   "metadata": {},
   "source": [
    "Ни пропуско, ни дубликатов не обназужено."
   ]
  },
  {
   "cell_type": "code",
   "execution_count": 15,
   "metadata": {},
   "outputs": [
    {
     "data": {
      "text/plain": [
       "2451"
      ]
     },
     "execution_count": 15,
     "metadata": {},
     "output_type": "execute_result"
    }
   ],
   "source": [
    "# количество уникальных клиентов\n",
    "len(df['customer_id'].unique())"
   ]
  },
  {
   "cell_type": "code",
   "execution_count": 16,
   "metadata": {},
   "outputs": [
    {
     "data": {
      "text/plain": [
       "2784"
      ]
     },
     "execution_count": 16,
     "metadata": {},
     "output_type": "execute_result"
    }
   ],
   "source": [
    "# количество уникальных заказов\n",
    "len(df['order_id'].unique())"
   ]
  },
  {
   "cell_type": "markdown",
   "metadata": {},
   "source": [
    "Очень странно, что количество уникальных заказов чуть больше количества клиентов. "
   ]
  },
  {
   "cell_type": "code",
   "execution_count": 17,
   "metadata": {},
   "outputs": [
    {
     "data": {
      "text/plain": [
       "order_id\n",
       "14833    74\n",
       "70960    60\n",
       "69162    23\n",
       "71148    16\n",
       "69531    12\n",
       "Name: date, dtype: int64"
      ]
     },
     "execution_count": 17,
     "metadata": {},
     "output_type": "execute_result"
    }
   ],
   "source": [
    "# проверим у каждого заказ своя уникальная дата\n",
    "df.groupby('order_id')['date'].nunique().sort_values(ascending=False).head()"
   ]
  },
  {
   "cell_type": "code",
   "execution_count": 18,
   "metadata": {},
   "outputs": [
    {
     "data": {
      "text/plain": [
       "order_id\n",
       "72845    4\n",
       "71480    3\n",
       "69485    3\n",
       "69310    2\n",
       "69833    2\n",
       "Name: customer_id, dtype: int64"
      ]
     },
     "execution_count": 18,
     "metadata": {},
     "output_type": "execute_result"
    }
   ],
   "source": [
    "# проверим у каждого заказа свой уникальный клиент\n",
    "df.groupby('order_id')['customer_id'].nunique().sort_values(ascending=False).head()"
   ]
  },
  {
   "cell_type": "markdown",
   "metadata": {},
   "source": [
    "С нумерацией заказов в магазине своя идеалогия, если заказ повторяется через какое-то время, то его номер сохраняет прежнее значение и этот же заказ может повторить другой клиент. На самом деле заказов по количеству больше. Необходимо провести новую нумерацию заказов."
   ]
  },
  {
   "cell_type": "code",
   "execution_count": 19,
   "metadata": {},
   "outputs": [
    {
     "data": {
      "text/plain": [
       "2343"
      ]
     },
     "execution_count": 19,
     "metadata": {},
     "output_type": "execute_result"
    }
   ],
   "source": [
    "# количество уникальных товаров\n",
    "len(df['product'].unique())"
   ]
  },
  {
   "cell_type": "code",
   "execution_count": 20,
   "metadata": {},
   "outputs": [
    {
     "data": {
      "text/html": [
       "<div>\n",
       "<style scoped>\n",
       "    .dataframe tbody tr th:only-of-type {\n",
       "        vertical-align: middle;\n",
       "    }\n",
       "\n",
       "    .dataframe tbody tr th {\n",
       "        vertical-align: top;\n",
       "    }\n",
       "\n",
       "    .dataframe thead th {\n",
       "        text-align: right;\n",
       "    }\n",
       "</style>\n",
       "<table border=\"1\" class=\"dataframe\">\n",
       "  <thead>\n",
       "    <tr style=\"text-align: right;\">\n",
       "      <th></th>\n",
       "      <th>date</th>\n",
       "      <th>customer_id</th>\n",
       "      <th>order_id</th>\n",
       "      <th>product</th>\n",
       "      <th>quantity</th>\n",
       "      <th>price</th>\n",
       "      <th>data</th>\n",
       "      <th>day</th>\n",
       "      <th>month</th>\n",
       "      <th>year</th>\n",
       "    </tr>\n",
       "  </thead>\n",
       "  <tbody>\n",
       "    <tr>\n",
       "      <th>5456</th>\n",
       "      <td>2019-06-18 15:00:00</td>\n",
       "      <td>312e9a3e-5fca-43ff-a6a1-892d2b2d5ba6</td>\n",
       "      <td>71743</td>\n",
       "      <td>Вантуз с деревянной ручкой d14 см красный, Bur...</td>\n",
       "      <td>1000</td>\n",
       "      <td>675.0</td>\n",
       "      <td>2019-06-18</td>\n",
       "      <td>1</td>\n",
       "      <td>6</td>\n",
       "      <td>2019</td>\n",
       "    </tr>\n",
       "  </tbody>\n",
       "</table>\n",
       "</div>"
      ],
      "text/plain": [
       "                    date                           customer_id order_id  \\\n",
       "5456 2019-06-18 15:00:00  312e9a3e-5fca-43ff-a6a1-892d2b2d5ba6    71743   \n",
       "\n",
       "                                                product  quantity  price  \\\n",
       "5456  Вантуз с деревянной ручкой d14 см красный, Bur...      1000  675.0   \n",
       "\n",
       "            data  day  month  year  \n",
       "5456  2019-06-18    1      6  2019  "
      ]
     },
     "execution_count": 20,
     "metadata": {},
     "output_type": "execute_result"
    }
   ],
   "source": [
    "# посмотрим на заказ на 1000 позиций\n",
    "df[df['quantity'] == 1000]"
   ]
  },
  {
   "cell_type": "markdown",
   "metadata": {},
   "source": [
    "Такой заказ всего один, и это большая редкость для магазина, такие заказы не характерны - удалим его."
   ]
  },
  {
   "cell_type": "code",
   "execution_count": 21,
   "metadata": {},
   "outputs": [],
   "source": [
    "df = df.query('quantity != 1000').reset_index(drop=True)"
   ]
  },
  {
   "cell_type": "markdown",
   "metadata": {},
   "source": [
    "### Зададим новую нумерацию заказов"
   ]
  },
  {
   "cell_type": "code",
   "execution_count": 22,
   "metadata": {},
   "outputs": [],
   "source": [
    "# будем использовать модуль random, \n",
    "# зафиксируем полученые значения с помощью функции  seed()\n",
    "random.seed(42)"
   ]
  },
  {
   "cell_type": "code",
   "execution_count": 23,
   "metadata": {},
   "outputs": [],
   "source": [
    "# функция для выбора случайного уникального номера заказа в новом столбце 'num'\n",
    "def num_order(df):\n",
    "    list = []\n",
    "    for i in range(len(df)):\n",
    "        para = str(df.loc[i, 'date']) + df.loc[i, 'order_id']\n",
    "        if para not in list:\n",
    "            list.append(para)\n",
    "            df.loc[i, 'num'] = str(random.randint(10000, 90000))\n",
    "        else:\n",
    "            df.loc[i, 'num'] = df.loc[(i-1), 'num']\n",
    "            "
   ]
  },
  {
   "cell_type": "code",
   "execution_count": 24,
   "metadata": {},
   "outputs": [],
   "source": [
    "# применим функцию в датасету\n",
    "num_order(df)"
   ]
  },
  {
   "cell_type": "code",
   "execution_count": 25,
   "metadata": {},
   "outputs": [
    {
     "data": {
      "text/plain": [
       "3341"
      ]
     },
     "execution_count": 25,
     "metadata": {},
     "output_type": "execute_result"
    }
   ],
   "source": [
    "# проверим количество заказов по новой нумерации\n",
    "len(df['num'].unique())"
   ]
  },
  {
   "cell_type": "markdown",
   "metadata": {},
   "source": [
    "Получили 3341 уникальных заказов."
   ]
  },
  {
   "cell_type": "markdown",
   "metadata": {},
   "source": [
    "На этапе предобработка данных привели данные к нужным типам, проверили на пропуски и дубликаты, удалили аномальные значения. В датасете даные представлены за период с 1 октября 2018 года по 31 октября 2019 года, всего 6737 строк. В датасете была нарушена укальная нумерация заказов, номера повторялись в разные даты, заказы пронумеровали по новой. По гистограмме распределения данных по времени заметно, что в период май-июнь активность в магазине повышается - это может быть связано с наличием сезонного товара в ассотрименте."
   ]
  },
  {
   "cell_type": "markdown",
   "metadata": {},
   "source": [
    "## Исследовательский анализ данных"
   ]
  },
  {
   "cell_type": "markdown",
   "metadata": {},
   "source": [
    "### Посчитайте итоговую стоимость товаров в заказах"
   ]
  },
  {
   "cell_type": "code",
   "execution_count": 26,
   "metadata": {},
   "outputs": [],
   "source": [
    "# создадим новый столбец со стоимостью\n",
    "df['total_price'] = df['quantity'] * df['price']"
   ]
  },
  {
   "cell_type": "markdown",
   "metadata": {},
   "source": [
    "### Распределим товары по категориям"
   ]
  },
  {
   "cell_type": "code",
   "execution_count": 28,
   "metadata": {},
   "outputs": [],
   "source": [
    "# приведем название товара к нижнему регистру \n",
    "df['product'] = df['product'].str.lower()"
   ]
  },
  {
   "cell_type": "code",
   "execution_count": 29,
   "metadata": {},
   "outputs": [],
   "source": [
    "# разделим название товара на слова и выделим первые два\n",
    "df[['word1', 'word2']] = df['product'].str.split(' ', expand=True)[[0, 1]]"
   ]
  },
  {
   "cell_type": "code",
   "execution_count": 30,
   "metadata": {},
   "outputs": [],
   "source": [
    "# получим единый столбец \n",
    "df['word'] = df['word1'] + ' ' + df['word2']"
   ]
  },
  {
   "cell_type": "code",
   "execution_count": 31,
   "metadata": {},
   "outputs": [],
   "source": [
    "# удалим лишнее\n",
    "df = df.drop(['word1', 'word2'], axis=1)"
   ]
  },
  {
   "cell_type": "code",
   "execution_count": 32,
   "metadata": {},
   "outputs": [],
   "source": [
    "# проведем лемматизацию\n",
    "m = Mystem()\n",
    "df['lemmas'] = df['word'].apply(m.lemmatize)"
   ]
  },
  {
   "cell_type": "code",
   "execution_count": 33,
   "metadata": {},
   "outputs": [],
   "source": [
    "# функция для определения категории по лемме\n",
    "def product_category(lemmas):\n",
    "    if (\n",
    "        'растение' in lemmas or 'рассада' in lemmas or 'd' in lemmas or 'цветок' in lemmas\n",
    "        or 'микс' in lemmas or 'герань' in lemmas or 'пеларгония' in lemmas or 'роза' in lemmas \n",
    "        or 'хризолидокарпус' in lemmas or 'циперус' in lemmas or 'шеффлер' in lemmas \n",
    "        or 'юкка' in lemmas or 'эхеверие' in lemmas or 'эвкалипт' in lemmas or 'лекарственный' in lemmas \n",
    "        or 'бегония' in lemmas or 'фиалка' in lemmas or 'бальзамин' in lemmas or 'мимоза' in lemmas\n",
    "        or 'бархатцы' in lemmas or 'подсолнечник' in lemmas or 'ель' in lemmas or 'кориандр' in lemmas\n",
    "        or 'адиантум' in lemmas or 'калатея' in lemmas or 'антуриум' in lemmas or 'азалия' in lemmas \n",
    "        or 'калоцефалус' in lemmas or 'цинерария' in lemmas or 'примула' in lemmas or 'нолина' in lemmas\n",
    "        or 'косметь' in lemmas or 'хризантема' in lemmas or 'афеляндра' in lemmas or 'обыкновенный' in lemmas\n",
    "        or 'пуансеттия' in lemmas or 'смесь' in lemmas or 'декабрист' in lemmas or 'крассула' in lemmas\n",
    "        or 'тюльпан' in lemmas or 'каланхое' in lemmas or 'календула' in lemmas or 'мята' in lemmas\n",
    "        or 'кофе' in lemmas or 'фикус' in lemmas or 'балконный' in lemmas or 'спатифиллум' in lemmas\n",
    "        or 'ампельный' in lemmas or 'алоэ' in lemmas or 'калибрахоа' in lemmas or 'чабер' in lemmas\n",
    "        or 'петуния' in lemmas or 'настурция' in lemmas or 'дендробиум' in lemmas or 'гвоздик' in lemmas\n",
    "        or 'гипсофил' in lemmas or 'ранункулус' in lemmas or 'базилик' in lemmas or 'колокольчик' in lemmas\n",
    "        or 'цикламен' in lemmas or 'артемизия' in lemmas or 'лаванда' in lemmas or 'зев' in lemmas\n",
    "        or 'папоротник' in lemmas or 'вербейник' in lemmas or 'флокс' in lemmas or 'ясколка' in lemmas\n",
    "        or 'дыня' in lemmas or 'фуксия' in lemmas or 'каллун' in lemmas or 'альбук' in lemmas\n",
    "        or 'капсикум' in lemmas or 'алиссум' in lemmas or 'лапчатка' in lemmas or 'цинния' in lemmas\n",
    "        or 'помидор' in lemmas or 'виноград' in lemmas or 'мускарь' in lemmas or 'крупноцветковый' in lemmas\n",
    "        or 'лобелия' in lemmas or 'цитрофортунелла' in lemmas or 'аспарагус' in lemmas or 'тимьян' in lemmas\n",
    "        or 'котовник' in lemmas or 'вербена' in lemmas or 'гиацинт' in lemmas or 'пиретрум' in lemmas\n",
    "        or 'годеция' in lemmas or 'кореопсис' in lemmas or 'скиммия' in lemmas or 'фиттоний' in lemmas\n",
    "        or 'эхинокактус' in lemmas or 'нефролепис' in lemmas or 'эшшольция' in lemmas or 'кипарисовик' in lemmas\n",
    "        or 'энотера' in lemmas or 'крокус' in lemmas or 'фаленопсис' in lemmas or 'укоренять' in lemmas\n",
    "        or 'табак' in lemmas or 'синнингия' in lemmas or 'гортензия' in lemmas or 'лавр' in lemmas\n",
    "        or 'виола' in lemmas or 'целозия' in lemmas or 'драцена' in lemmas or 'джункус' in lemmas \n",
    "        or 'лук' in lemmas or 'баклажан' in lemmas or 'патиссон'in lemmas or 'клубника' in lemmas \n",
    "        or 'арбуз' in lemmas or 'огурец' in lemmas or 'морковь' in lemmas or 'горох' in lemmas\n",
    "        or 'укроп' in lemmas or 'земляника' in lemmas or 'капуста' in lemmas or 'камнеломка' in lemmas \n",
    "        or 'петрушка' in lemmas or 'кабачок' in lemmas or 'тыква' in lemmas or 'сельдерей' in lemmas \n",
    "        or 'зверобой' in lemmas or 'георгин' in lemmas or 'мединилла' in lemmas or 'вигна' in lemmas\n",
    "        or 'бадан' in lemmas or 'барвинок' in lemmas or 'трава' in lemmas or 'салат' in lemmas\n",
    "        or 'клен' in lemmas or 'змееголовник' in lemmas or 'любисток' in lemmas or 'нивянник' in lemmas\n",
    "        or 'импатиенс' in lemmas or 'лен' in lemmas or 'вероника' in lemmas or 'фатсия' in lemmas\n",
    "        or 'физостегия' in lemmas or 'эпипремнум' in lemmas or 'лилейник' in lemmas or 'астра' in lemmas\n",
    "        or 'монард' in lemmas or 'пахира' in lemmas or 'диффенбахий' in lemmas or 'шалфей' in lemmas \n",
    "        or 'смолевка' in lemmas or 'маттиола' in lemmas or 'сциндапсус' in lemmas or 'розмарин' in lemmas\n",
    "        or 'амариллис' in lemmas or 'бузульник' in lemmas or 'рудбекия' in lemmas or 'солидаго' in lemmas\n",
    "        or 'лаватер' in lemmas or 'анемон' in lemmas or 'лантан' in lemmas or 'буддлей' in lemmas\n",
    "        or 'детерминантный' in lemmas or 'государь' in lemmas \n",
    "    ):\n",
    "        return 'сад-огород'\n",
    "    if (\n",
    "        'щетка' in lemmas or 'таз' in lemmas or 'совок' in lemmas or 'вантуз' in lemmas \n",
    "        or 'прищепок' in lemmas or 'дозатор' in lemmas or 'ерш' in lemmas or 'биопорошок' in lemmas \n",
    "        or 'крем' in lemmas or 'перчатка' in lemmas or 'мыло' in lemmas or 'паста' in lemmas \n",
    "        or 'швабра' in lemmas or 'ведро' in lemmas or 'ножеточка' in lemmas or 'блок' in lemmas \n",
    "        or 'пена' in lemmas or 'рыбочистка' in lemmas or 'урна' in lemmas or 'насадка' in lemmas \n",
    "        or 'овощечистка' in lemmas or 'стяжка' in lemmas or 'лоток' in lemmas or 'губка' in lemmas \n",
    "        or 'средство' in lemmas or 'ролик' in lemmas or 'веник' in lemmas or 'пробка' in lemmas \n",
    "        or 'ковш' in lemmas or 'антижир' in lemmas or 'шнур' in lemmas or 'ополаскиватель' in lemmas \n",
    "        or 'корыто' in lemmas or 'картофелемялка' in lemmas or 'подставка' in lemmas \n",
    "        or 'линейка' in lemmas or 'мыльница' in lemmas or 'держатель' in lemmas \n",
    "        or 'кондиционер' in lemmas or 'кольцо' in lemmas or 'емкость' in lemmas or 'соль' in lemmas\n",
    "        or 'сито' in lemmas or 'рукав' in lemmas or 'бак' in lemmas or 'концентрат' in lemmas\n",
    "        or 'тряпкодержатель' in lemmas or 'окномойка' in lemmas or 'фиксатор' in lemmas or 'седум' in lemmas\n",
    "        or 'антинакипин' in lemmas or 'ванна' in lemmas or 'фал' in lemmas or 'отделитель' in lemmas\n",
    "        or 'отбеливатель' in lemmas or 'тряпка' in lemmas or 'молодить' in lemmas or 'концентрированный' in lemmas\n",
    "    ):\n",
    "        return 'хозтовары'\n",
    "    if ('тарелка' in lemmas or 'вилка' in lemmas or 'ложка' in lemmas or 'нож' in lemmas \n",
    "        or 'сковорода' in lemmas or 'кружка' in lemmas or 'чайник' in lemmas or 'крышка' in lemmas \n",
    "        or 'противень' in lemmas or 'толкушка' in lemmas or 'кувшин' in lemmas \n",
    "        or 'tepмокружка' in lemmas or 'миксер' in lemmas or 'масленка' in lemmas or 'фужер' in lemmas \n",
    "        or 'кастрюля' in lemmas or 'салатник' in lemmas or 'термос' in lemmas or 'стакан' in lemmas \n",
    "        or 'овощеварка' in lemmas or 'терка' in lemmas or 'банка' in lemmas or 'чайный' in lemmas \n",
    "        or 'лопатка' in lemmas or 'измельчитель' in lemmas or 'кухонный' in lemmas or 'бокал' in lemmas \n",
    "        or 'мантоварка' in lemmas or 'скребок' in lemmas or 'кисточка' in lemmas \n",
    "        or 'эмалированный' in lemmas or 'форма' in lemmas or 'миска' in lemmas \n",
    "        or 'термостакан' in lemmas or 'столовая' in lemmas or 'термокружок' in lemmas \n",
    "        or 'блюдце' in lemmas or 'бульонница' in lemmas or 'просеиватель' in lemmas \n",
    "        or 'хлебница' in lemmas or 'маска' in lemmas or 'бальзам' in lemmas or 'орехоколка' in lemmas\n",
    "        or 'скалка' in lemmas or 'венчик' in lemmas or 'овсянница' in lemmas or 'тортница' in lemmas\n",
    "        or 'блюдо' in lemmas or 'стеклянный' in lemmas or 'посуда' in lemmas or 'сотейник' in lemmas\n",
    "        or 'бидон' in lemmas or 'шприц' in lemmas or 'сахарница' in lemmas or 'соковарка' in lemmas\n",
    "        or 'соковыжималка' in lemmas or 'половник' in lemmas\n",
    "    ):\n",
    "        return 'посуда'\n",
    "    if ('муляж' in lemmas or 'халат' in lemmas or 'одеяло' in lemmas or 'фоторамка' in lemmas \n",
    "        or 'коврик' in lemmas or 'скатерть' in lemmas or 'ковер' in lemmas or 'искусственный' in lemmas \n",
    "        or 'штора' in lemmas or 'подкладка' in lemmas or 'простыня' in lemmas or 'салфетка' in lemmas \n",
    "        or 'декоративный' in lemmas or 'плед' in lemmas or 'полотенце' in lemmas \n",
    "        or 'наматрасник' in lemmas or 'карниз' in lemmas or 'комнатный' in lemmas \n",
    "        or 'салфетница' in lemmas or 'вкладыш' in lemmas or 'покрывало' in lemmas \n",
    "        or 'новогодний' in lemmas or 'постельный' in lemmas or 'махровый' in lemmas \n",
    "        or 'сетка' in lemmas or 'картина' in lemmas or 'подарочный' in lemmas or 'ткань' in lemmas\n",
    "        or 'кашпо' in lemmas or 'наматрацник' in lemmas or 'наволочка' in lemmas or 'пододеяльник' in lemmas\n",
    "        or 'ваза' in lemmas or 'корзинка' in lemmas or 'подушка' in lemmas or 'набор' in lemmas\n",
    "    ):\n",
    "        return 'уют'\n",
    "    if ('доска' in lemmas or 'сушилка' in lemmas or 'сумка' in lemmas or 'корзина' in lemmas \n",
    "        or 'крючок' in lemmas or 'тележка' in lemmas or 'контейнер' in lemmas or 'плечики' in lemmas \n",
    "        or 'вешалка' in lemmas or 'чехол' in lemmas or 'стремянка' in lemmas or 'кофр' in lemmas \n",
    "        or 'светильник' in lemmas or 'пружина' in lemmas or 'короб' in lemmas or 'коробка' in lemmas \n",
    "        or 'ручка' in lemmas or 'ящик' in lemmas or 'котел' in lemmas or 'пакет' in lemmas \n",
    "        or 'подрукавник' in lemmas or 'петля' in lemmas or 'фен' in lemmas or 'сидение' in lemmas \n",
    "        or 'сверло' in lemmas or 'термометр' in lemmas or 'крепеж' in lemmas or 'шило' in lemmas \n",
    "        or 'комод' in lemmas or 'сварка' in lemmas or 'весы' in lemmas or 'гладильный' in lemmas \n",
    "        or 'подголовник' in lemmas or 'инструмент' in lemmas or 'этажерка' in lemmas or 'полка' in lemmas\n",
    "        or 'электроштопор' in lemmas or 'экран' in lemmas or 'пылесос' in lemmas or 'штанга' in lemmas\n",
    "        or 'пресс' in lemmas or 'штангенциркуль' in lemmas or 'полк' in lemmas or 'настенный' in lemmas\n",
    "        or 'обувница' in lemmas or 'отжим' in lemmas or 'стеллаж' in lemmas or 'рассекатель' in lemmas\n",
    "        or 'рассекатель' in lemmas or 'измерительный' in lemmas or 'шпагат' in lemmas or 'мешок' in lemmas\n",
    "        or 'складной' in lemmas or 'завертка' in lemmas or 'веревка' in lemmas or 'решетка' in lemmas\n",
    "        or 'покрытие' in lemmas or 'электрический' in lemmas or 'уголок' in lemmas or 'шпингалет' in lemmas\n",
    "        or 'пьезозажигалка' in lemmas or 'основание' in lemmas or 'утюг' in lemmas or 'комплект' in lemmas\n",
    "        or 'сметка' in lemmas or 'бензин' in lemmas\n",
    "    ):\n",
    "        return 'дом'\n",
    "    return 'разное'"
   ]
  },
  {
   "cell_type": "code",
   "execution_count": 34,
   "metadata": {},
   "outputs": [],
   "source": [
    "# применим функцию, выделим категории\n",
    "df['category'] = df['lemmas'].apply(product_category)"
   ]
  },
  {
   "cell_type": "code",
   "execution_count": 35,
   "metadata": {},
   "outputs": [
    {
     "data": {
      "text/html": [
       "<div>\n",
       "<style scoped>\n",
       "    .dataframe tbody tr th:only-of-type {\n",
       "        vertical-align: middle;\n",
       "    }\n",
       "\n",
       "    .dataframe tbody tr th {\n",
       "        vertical-align: top;\n",
       "    }\n",
       "\n",
       "    .dataframe thead th {\n",
       "        text-align: right;\n",
       "    }\n",
       "</style>\n",
       "<table border=\"1\" class=\"dataframe\">\n",
       "  <thead>\n",
       "    <tr style=\"text-align: right;\">\n",
       "      <th></th>\n",
       "      <th>date</th>\n",
       "      <th>customer_id</th>\n",
       "      <th>order_id</th>\n",
       "      <th>product</th>\n",
       "      <th>quantity</th>\n",
       "      <th>price</th>\n",
       "      <th>data</th>\n",
       "      <th>day</th>\n",
       "      <th>month</th>\n",
       "      <th>year</th>\n",
       "      <th>num</th>\n",
       "      <th>total_price</th>\n",
       "      <th>word</th>\n",
       "      <th>lemmas</th>\n",
       "      <th>category</th>\n",
       "    </tr>\n",
       "  </thead>\n",
       "  <tbody>\n",
       "    <tr>\n",
       "      <th>0</th>\n",
       "      <td>2018-10-01</td>\n",
       "      <td>ee47d746-6d2f-4d3c-9622-c31412542920</td>\n",
       "      <td>68477</td>\n",
       "      <td>комнатное растение в горшке алое вера, d12, h30</td>\n",
       "      <td>1</td>\n",
       "      <td>142.0</td>\n",
       "      <td>2018-10-01</td>\n",
       "      <td>0</td>\n",
       "      <td>10</td>\n",
       "      <td>2018</td>\n",
       "      <td>24592</td>\n",
       "      <td>142.0</td>\n",
       "      <td>комнатное растение</td>\n",
       "      <td>[комнатный,  , растение, \\n]</td>\n",
       "      <td>сад-огород</td>\n",
       "    </tr>\n",
       "    <tr>\n",
       "      <th>1</th>\n",
       "      <td>2018-10-01</td>\n",
       "      <td>ee47d746-6d2f-4d3c-9622-c31412542920</td>\n",
       "      <td>68477</td>\n",
       "      <td>комнатное растение в горшке кофе арабика, d12,...</td>\n",
       "      <td>1</td>\n",
       "      <td>194.0</td>\n",
       "      <td>2018-10-01</td>\n",
       "      <td>0</td>\n",
       "      <td>10</td>\n",
       "      <td>2018</td>\n",
       "      <td>24592</td>\n",
       "      <td>194.0</td>\n",
       "      <td>комнатное растение</td>\n",
       "      <td>[комнатный,  , растение, \\n]</td>\n",
       "      <td>сад-огород</td>\n",
       "    </tr>\n",
       "    <tr>\n",
       "      <th>2</th>\n",
       "      <td>2018-10-01</td>\n",
       "      <td>ee47d746-6d2f-4d3c-9622-c31412542920</td>\n",
       "      <td>68477</td>\n",
       "      <td>радермахера d-12 см h-20 см</td>\n",
       "      <td>1</td>\n",
       "      <td>112.0</td>\n",
       "      <td>2018-10-01</td>\n",
       "      <td>0</td>\n",
       "      <td>10</td>\n",
       "      <td>2018</td>\n",
       "      <td>24592</td>\n",
       "      <td>112.0</td>\n",
       "      <td>радермахера d-12</td>\n",
       "      <td>[радермахер,  , d, -, 12, \\n]</td>\n",
       "      <td>сад-огород</td>\n",
       "    </tr>\n",
       "    <tr>\n",
       "      <th>3</th>\n",
       "      <td>2018-10-01</td>\n",
       "      <td>ee47d746-6d2f-4d3c-9622-c31412542920</td>\n",
       "      <td>68477</td>\n",
       "      <td>хризолидокарпус лутесценс d-9 см</td>\n",
       "      <td>1</td>\n",
       "      <td>179.0</td>\n",
       "      <td>2018-10-01</td>\n",
       "      <td>0</td>\n",
       "      <td>10</td>\n",
       "      <td>2018</td>\n",
       "      <td>24592</td>\n",
       "      <td>179.0</td>\n",
       "      <td>хризолидокарпус лутесценс</td>\n",
       "      <td>[хризолидокарпус,  , лутесценс, \\n]</td>\n",
       "      <td>сад-огород</td>\n",
       "    </tr>\n",
       "    <tr>\n",
       "      <th>4</th>\n",
       "      <td>2018-10-01</td>\n",
       "      <td>ee47d746-6d2f-4d3c-9622-c31412542920</td>\n",
       "      <td>68477</td>\n",
       "      <td>циперус зумула d-12 см h-25 см</td>\n",
       "      <td>1</td>\n",
       "      <td>112.0</td>\n",
       "      <td>2018-10-01</td>\n",
       "      <td>0</td>\n",
       "      <td>10</td>\n",
       "      <td>2018</td>\n",
       "      <td>24592</td>\n",
       "      <td>112.0</td>\n",
       "      <td>циперус зумула</td>\n",
       "      <td>[циперус,  , зумул, \\n]</td>\n",
       "      <td>сад-огород</td>\n",
       "    </tr>\n",
       "  </tbody>\n",
       "</table>\n",
       "</div>"
      ],
      "text/plain": [
       "        date                           customer_id order_id  \\\n",
       "0 2018-10-01  ee47d746-6d2f-4d3c-9622-c31412542920    68477   \n",
       "1 2018-10-01  ee47d746-6d2f-4d3c-9622-c31412542920    68477   \n",
       "2 2018-10-01  ee47d746-6d2f-4d3c-9622-c31412542920    68477   \n",
       "3 2018-10-01  ee47d746-6d2f-4d3c-9622-c31412542920    68477   \n",
       "4 2018-10-01  ee47d746-6d2f-4d3c-9622-c31412542920    68477   \n",
       "\n",
       "                                             product  quantity  price  \\\n",
       "0    комнатное растение в горшке алое вера, d12, h30         1  142.0   \n",
       "1  комнатное растение в горшке кофе арабика, d12,...         1  194.0   \n",
       "2                        радермахера d-12 см h-20 см         1  112.0   \n",
       "3                   хризолидокарпус лутесценс d-9 см         1  179.0   \n",
       "4                     циперус зумула d-12 см h-25 см         1  112.0   \n",
       "\n",
       "         data  day  month  year    num  total_price  \\\n",
       "0  2018-10-01    0     10  2018  24592        142.0   \n",
       "1  2018-10-01    0     10  2018  24592        194.0   \n",
       "2  2018-10-01    0     10  2018  24592        112.0   \n",
       "3  2018-10-01    0     10  2018  24592        179.0   \n",
       "4  2018-10-01    0     10  2018  24592        112.0   \n",
       "\n",
       "                        word                               lemmas    category  \n",
       "0         комнатное растение         [комнатный,  , растение, \\n]  сад-огород  \n",
       "1         комнатное растение         [комнатный,  , растение, \\n]  сад-огород  \n",
       "2           радермахера d-12        [радермахер,  , d, -, 12, \\n]  сад-огород  \n",
       "3  хризолидокарпус лутесценс  [хризолидокарпус,  , лутесценс, \\n]  сад-огород  \n",
       "4             циперус зумула              [циперус,  , зумул, \\n]  сад-огород  "
      ]
     },
     "execution_count": 35,
     "metadata": {},
     "output_type": "execute_result"
    }
   ],
   "source": [
    "df.head()"
   ]
  },
  {
   "cell_type": "code",
   "execution_count": 36,
   "metadata": {},
   "outputs": [
    {
     "data": {
      "image/png": "[encoded data removed]",
      "text/plain": [
       "<Figure size 432x288 with 1 Axes>"
      ]
     },
     "metadata": {
      "needs_background": "light"
     },
     "output_type": "display_data"
    }
   ],
   "source": [
    "# посмотрим в какой категории сколько товаров\n",
    "df.groupby('category')['product'].nunique().plot(kind='bar', grid=True, color='#ff3408')\n",
    "plt.title('Распределение товаров по категориям')\n",
    "plt.xlabel('Категории')\n",
    "plt.ylabel('Количество товара')\n",
    "plt.xticks(rotation=45)\n",
    "plt.show()"
   ]
  },
  {
   "cell_type": "code",
   "execution_count": 37,
   "metadata": {},
   "outputs": [
    {
     "data": {
      "image/png": "[encoded data removed]",
      "text/plain": [
       "<Figure size 432x288 with 1 Axes>"
      ]
     },
     "metadata": {},
     "output_type": "display_data"
    }
   ],
   "source": [
    "# посмотрим в какой категории сколько товаров\n",
    "gh = df.pivot_table(index='category', values='product', aggfunc='nunique')\n",
    "(\n",
    "    gh.pivot_table(index='category', values='product')\n",
    "    .plot(kind='pie', \n",
    "          grid=True, \n",
    "          autopct='%.0f%%', \n",
    "          subplots=True, \n",
    "          legend=False, \n",
    "          colors=['#ff3408', '#ff5757', '#ff1f73', '#ff66c4', '#ff1e89'])\n",
    ")    \n",
    "plt.title('Распределение категорий в процентах')\n",
    "plt.ylabel(' ')\n",
    "plt.show()"
   ]
  },
  {
   "cell_type": "markdown",
   "metadata": {},
   "source": [
    "В заказах преобладают товары из категории \"сад-огород\". Значит основная клиентура магазина - это люди, преобретающие товары этой категории."
   ]
  },
  {
   "cell_type": "code",
   "execution_count": 39,
   "metadata": {},
   "outputs": [
    {
     "data": {
      "text/plain": [
       "Text(0, 0.5, 'Выручка')"
      ]
     },
     "execution_count": 39,
     "metadata": {},
     "output_type": "execute_result"
    },
    {
     "data": {
      "image/png": "[encoded data removed]",
      "text/plain": [
       "<Figure size 360x360 with 1 Axes>"
      ]
     },
     "metadata": {
      "needs_background": "light"
     },
     "output_type": "display_data"
    }
   ],
   "source": [
    "# посмотрим какая категория сколько приносит прибыли\n",
    "plt.figure(figsize=(5, 5))\n",
    "sns.set_theme(style=\"whitegrid\")\n",
    "\n",
    "ax = sns.barplot(x='category', y='total_price', data=df, color='#ff3408')\n",
    "ax.axes.set_title('Распреденение выручки')\n",
    "ax.set_xlabel('Категории товара')\n",
    "ax.set_ylabel('Выручка')\n"
   ]
  },
  {
   "cell_type": "markdown",
   "metadata": {},
   "source": [
    "Самую большую прибыль магазин получает от продажи товаров из категории \"дом\", а вот такая большая категория как \"сад-огород\" приностит самую минильную прибыль магазину."
   ]
  },
  {
   "cell_type": "markdown",
   "metadata": {},
   "source": [
    "### Построим гистограмму распределения категорий товара во времени"
   ]
  },
  {
   "cell_type": "code",
   "execution_count": 40,
   "metadata": {},
   "outputs": [
    {
     "data": {
      "image/png": "[encoded data removed]",
      "text/plain": [
       "<Figure size 1440x360 with 1 Axes>"
      ]
     },
     "metadata": {},
     "output_type": "display_data"
    }
   ],
   "source": [
    "# \n",
    "(\n",
    "    df.pivot_table(index=['month', 'year'], columns='category', values='product', aggfunc='nunique')\n",
    "    .sort_values(by=['year', 'month'])\n",
    "    .plot(kind='bar',figsize=(20,5), grid=True)\n",
    ")    \n",
    "plt.legend()\n",
    "plt.title('Заказываемые категории товара за данный период')\n",
    "plt.xlabel('Год, месяц')\n",
    "plt.ylabel('Количество товаров')\n",
    "plt.xticks(rotation=45)\n",
    "plt.show()"
   ]
  },
  {
   "cell_type": "markdown",
   "metadata": {},
   "source": [
    "За предоставленный период видно, что товары из категории \"сад-щгород\" имеют сезонный характер, пик их продаж приходиться на апрель-май. По остальным категориям тавара видно снижение продаж. "
   ]
  },
  {
   "cell_type": "code",
   "execution_count": 41,
   "metadata": {},
   "outputs": [
    {
     "data": {
      "image/png": "[encoded data removed]",
      "text/plain": [
       "<Figure size 1440x360 with 1 Axes>"
      ]
     },
     "metadata": {},
     "output_type": "display_data"
    },
    {
     "data": {
      "image/png": "[encoded data removed]",
      "text/plain": [
       "<Figure size 1440x360 with 1 Axes>"
      ]
     },
     "metadata": {},
     "output_type": "display_data"
    }
   ],
   "source": [
    "# посмотрим как изменяется выручка и количество заказов во времени\n",
    "fg = (\n",
    "    df.groupby(by=['year', 'month'])\n",
    "    .agg({'total_price':'sum', 'num': 'nunique'})\n",
    "    .sort_values(by=['year', 'month'])\n",
    ")    \n",
    "\n",
    "fg.plot(y='total_price', grid=True, figsize=(20,5), color='#ff3408')\n",
    "plt.title('Динамика изменения выручки')\n",
    "plt.xlabel('Год, месяц')\n",
    "plt.ylabel('Выручка')\n",
    "plt.show()\n",
    "\n",
    "fg.plot(y='num', grid=True, figsize=(20,5), color='#ff3408')\n",
    "plt.title('Динамика изменения количества заказов')\n",
    "plt.xlabel('Год, месяц')\n",
    "plt.ylabel('Количество заказов')\n",
    "plt.show()"
   ]
  },
  {
   "cell_type": "code",
   "execution_count": 43,
   "metadata": {},
   "outputs": [
    {
     "data": {
      "image/png": "[encoded data removed]",
      "text/plain": [
       "<Figure size 1440x360 with 1 Axes>"
      ]
     },
     "metadata": {},
     "output_type": "display_data"
    }
   ],
   "source": [
    "# посчитаем средний чек\n",
    "\n",
    "fg = (\n",
    "    df.pivot_table(index=['year', 'month', 'num'], values='total_price', aggfunc='sum')\n",
    "    .reset_index() \n",
    ")    \n",
    "    \n",
    "(\n",
    "    fg.groupby(by=['year', 'month'])\n",
    "    .mean()\n",
    "    .plot(figsize=(20,5), grid=True, color='#ff3408')\n",
    ")    \n",
    "    \n",
    "plt.title('Динамика изменения среднего чека')\n",
    "plt.xlabel('Год, месяц')\n",
    "plt.ylabel('Средний чек')\n",
    "plt.show()\n"
   ]
  },
  {
   "cell_type": "markdown",
   "metadata": {},
   "source": [
    "Магазин специальзируется на продаже различных мелочей для дома по не высоким ценам. Среди заказываемых товаров преобладают дешевые и средней стоимости товары. Так же было определено, что магазин продает не дорогие товары сезонного характера, присущие летнему периоду. За предоставленный период выручка магазина снижается, количество заказов примерно стается на том же уровне, но средний чек заказа значительно уменьшился по сравнению с началом периода. В магазине в основном представлены товары среднего ценнового сегмента от 100 до 500, но большую выручку приносят товары премеум сегмента стоимостью от 1000. "
   ]
  },
  {
   "cell_type": "markdown",
   "metadata": {},
   "source": [
    "## Проверка статестических гипотез"
   ]
  },
  {
   "cell_type": "markdown",
   "metadata": {},
   "source": [
    "### Гипотеза №1"
   ]
  },
  {
   "cell_type": "markdown",
   "metadata": {},
   "source": [
    "**Гипотеза №1:** \n",
    "\n",
    "Нулевая гипотеза: Средняя выручка в начале первого года равна средней выручки на начало второго года. \n",
    "\n",
    "Альтернативная гипотеза: Среднии выручки различаются."
   ]
  },
  {
   "cell_type": "code",
   "execution_count": 45,
   "metadata": {},
   "outputs": [],
   "source": [
    "# подготовим данные\n",
    "oct18 = df.query('month == 10 and year == 2018')['total_price']\n",
    "oct19 = df.query('month == 10 and year == 2019')['total_price']"
   ]
  },
  {
   "cell_type": "code",
   "execution_count": 46,
   "metadata": {},
   "outputs": [
    {
     "name": "stdout",
     "output_type": "stream",
     "text": [
      "p-значение: 0.0056057746565425625\n",
      "Отвергаем нулевую гипотезу\n"
     ]
    }
   ],
   "source": [
    "# проведем стат. тест\n",
    "alpha = .05\n",
    "results = st.ttest_ind(oct18, oct19)\n",
    "print('p-значение:', results.pvalue)\n",
    "\n",
    "if results.pvalue < alpha:\n",
    "  print('Отвергаем нулевую гипотезу')\n",
    "else:\n",
    "  print('Не получилось отвергнуть нулевую гипотезу') "
   ]
  },
  {
   "cell_type": "markdown",
   "metadata": {},
   "source": [
    "По результатам теста нельзя сказать, что средняя выручка за октябрь 2018 года равна средней выручке за октябрь 2019 года, значит имеются различия."
   ]
  },
  {
   "cell_type": "markdown",
   "metadata": {},
   "source": [
    "### Гипотеза №2"
   ]
  },
  {
   "cell_type": "markdown",
   "metadata": {},
   "source": [
    "**Гипотеза №2:** \n",
    "\n",
    "Нулевая гипотеза: Средний чек в начале первого года равен среднему чеку на начало второго года. \n",
    "\n",
    "Альтернативная гипотеза: Среднии чеки различаются."
   ]
  },
  {
   "cell_type": "code",
   "execution_count": 47,
   "metadata": {},
   "outputs": [],
   "source": [
    "# просуммируем стоимость каждого заказа\n",
    "avg_check = (\n",
    "    df.pivot_table(index=['year', 'month', 'num'], values='total_price', aggfunc='sum')\n",
    "    .reset_index()\n",
    "    .rename(columns={'total_price':'cost_order'})\n",
    ")\n"
   ]
  },
  {
   "cell_type": "code",
   "execution_count": 48,
   "metadata": {},
   "outputs": [],
   "source": [
    "# выделим данные для проверки\n",
    "avg_check18 = avg_check.query('month == 10 and year == 2018')['cost_order']\n",
    "avg_check19 = avg_check.query('month == 10 and year == 2019')['cost_order']"
   ]
  },
  {
   "cell_type": "code",
   "execution_count": 49,
   "metadata": {},
   "outputs": [
    {
     "name": "stdout",
     "output_type": "stream",
     "text": [
      "p-значение: 0.00045684087980911794\n",
      "Отвергаем нулевую гипотезу\n"
     ]
    }
   ],
   "source": [
    "alpha = .05\n",
    "results = st.ttest_ind(avg_check18, avg_check19)\n",
    "print('p-значение:', results.pvalue)\n",
    "\n",
    "if results.pvalue < alpha:\n",
    "  print('Отвергаем нулевую гипотезу')\n",
    "else:\n",
    "  print('Не получилось отвергнуть нулевую гипотезу') "
   ]
  },
  {
   "cell_type": "markdown",
   "metadata": {},
   "source": [
    "По результатам теста нельзя сказать, что средний чек за октябрь 2018 года равен среднему чеку за октябрь 2019 года, значит имеются различия."
   ]
  },
  {
   "cell_type": "markdown",
   "metadata": {},
   "source": [
    "Мы проверили две гипотезы, по их результатам можно сказать, что данные о выручке и среднем чеке имеют различия по сравнения с началом первого года и началом второго года."
   ]
  },
  {
   "cell_type": "markdown",
   "metadata": {},
   "source": [
    "## Выводы и рекомендации"
   ]
  },
  {
   "cell_type": "markdown",
   "metadata": {},
   "source": [
    "**Рекомендарии:**\n",
    "1. Магазину необходимо расширить ассортимент товаров, включить новые сезонные товары, соотвествующие зимнему периоду спроса. \n",
    "2. Расширить ассортимент в категории \"уют\", \"посуда\", \"хозтовары\".\n",
    "3. Изменить порядок присвоения номера заказов.\n",
    "4. Провести маркетинговую компанию по увеличению спроса на товары категории \"дом\".\n"
   ]
  },
  {
   "cell_type": "markdown",
   "metadata": {},
   "source": [
    "## Подготовка презинтации"
   ]
  },
  {
   "cell_type": "markdown",
   "metadata": {},
   "source": [
    "Презентация: <https://disk.yandex.ru/i/6xLWgg7nQgMgkA>"
   ]
  },
  {
   "cell_type": "markdown",
   "metadata": {},
   "source": [
    "## Дашборд"
   ]
  },
  {
   "cell_type": "markdown",
   "metadata": {},
   "source": [
    "В дашборде представлены следующие графики:\n",
    "1. Диаграмма, отображающая сумму покупок по дням.\n",
    "2. Гистограмма, отображающая распределение заказов по сумме.\n",
    "\n",
    "В дашборд добавлен фильтр по дате совершения покупки."
   ]
  },
  {
   "cell_type": "markdown",
   "metadata": {},
   "source": [
    "Ссылка на дашборд: <https://public.tableau.com/app/profile/ekaterina.fedotova/viz/Dashe-commerce/Dashboard1?publish=yes>"
   ]
  },
  {
   "cell_type": "code",
   "execution_count": null,
   "metadata": {},
   "outputs": [],
   "source": []
  }
 ],
 "metadata": {
  "ExecuteTimeLog": [
   {
    "duration": 763,
    "start_time": "2022-06-29T12:32:07.835Z"
   },
   {
    "duration": 122,
    "start_time": "2022-06-29T12:32:08.669Z"
   },
   {
    "duration": 7,
    "start_time": "2022-06-29T12:32:09.349Z"
   },
   {
    "duration": 213,
    "start_time": "2022-06-29T12:34:03.975Z"
   },
   {
    "duration": 18,
    "start_time": "2022-06-29T12:34:06.700Z"
   },
   {
    "duration": 4,
    "start_time": "2022-06-29T12:34:12.899Z"
   },
   {
    "duration": 12,
    "start_time": "2022-06-29T12:34:22.990Z"
   },
   {
    "duration": 24,
    "start_time": "2022-06-29T12:34:25.612Z"
   },
   {
    "duration": 1425,
    "start_time": "2022-06-29T12:34:27.643Z"
   },
   {
    "duration": 8,
    "start_time": "2022-06-29T12:35:17.547Z"
   },
   {
    "duration": 18,
    "start_time": "2022-06-29T12:35:18.037Z"
   },
   {
    "duration": 8,
    "start_time": "2022-06-29T12:35:18.936Z"
   },
   {
    "duration": 14,
    "start_time": "2022-06-29T12:35:25.540Z"
   },
   {
    "duration": 7,
    "start_time": "2022-06-29T12:35:31.579Z"
   },
   {
    "duration": 14,
    "start_time": "2022-06-29T12:35:33.317Z"
   },
   {
    "duration": 4,
    "start_time": "2022-06-29T12:35:33.795Z"
   },
   {
    "duration": 4,
    "start_time": "2022-06-29T12:35:34.638Z"
   },
   {
    "duration": 5,
    "start_time": "2022-06-29T12:35:53.290Z"
   },
   {
    "duration": 20,
    "start_time": "2022-06-29T12:37:35.770Z"
   },
   {
    "duration": 11,
    "start_time": "2022-06-29T12:37:42.037Z"
   },
   {
    "duration": 5,
    "start_time": "2022-06-29T12:38:55.805Z"
   },
   {
    "duration": 4,
    "start_time": "2022-06-29T12:40:20.147Z"
   },
   {
    "duration": 10,
    "start_time": "2022-06-29T12:40:43.836Z"
   },
   {
    "duration": 11,
    "start_time": "2022-06-29T12:40:44.043Z"
   },
   {
    "duration": 5,
    "start_time": "2022-06-29T12:40:44.372Z"
   },
   {
    "duration": 7,
    "start_time": "2022-06-29T12:40:44.830Z"
   },
   {
    "duration": 8,
    "start_time": "2022-06-29T12:40:45.124Z"
   },
   {
    "duration": 63,
    "start_time": "2022-06-29T12:40:49.720Z"
   },
   {
    "duration": 45,
    "start_time": "2022-06-29T12:41:07.595Z"
   },
   {
    "duration": 4,
    "start_time": "2022-06-29T12:42:11.493Z"
   },
   {
    "duration": 11,
    "start_time": "2022-06-29T12:42:12.325Z"
   },
   {
    "duration": 78,
    "start_time": "2022-06-29T12:43:56.318Z"
   },
   {
    "duration": 1571,
    "start_time": "2022-06-29T12:43:58.741Z"
   },
   {
    "duration": 620,
    "start_time": "2022-06-29T12:44:24.870Z"
   },
   {
    "duration": 86,
    "start_time": "2022-06-29T12:44:25.492Z"
   },
   {
    "duration": 14,
    "start_time": "2022-06-29T12:44:25.579Z"
   },
   {
    "duration": 4,
    "start_time": "2022-06-29T12:44:25.596Z"
   },
   {
    "duration": 12,
    "start_time": "2022-06-29T12:44:25.602Z"
   },
   {
    "duration": 22,
    "start_time": "2022-06-29T12:44:25.616Z"
   },
   {
    "duration": 9,
    "start_time": "2022-06-29T12:44:25.640Z"
   },
   {
    "duration": 21,
    "start_time": "2022-06-29T12:44:25.651Z"
   },
   {
    "duration": 12,
    "start_time": "2022-06-29T12:44:25.673Z"
   },
   {
    "duration": 5,
    "start_time": "2022-06-29T12:44:25.688Z"
   },
   {
    "duration": 36,
    "start_time": "2022-06-29T12:44:25.695Z"
   },
   {
    "duration": 14,
    "start_time": "2022-06-29T12:44:25.733Z"
   },
   {
    "duration": 12,
    "start_time": "2022-06-29T12:44:25.748Z"
   },
   {
    "duration": 5,
    "start_time": "2022-06-29T12:44:25.761Z"
   },
   {
    "duration": 6,
    "start_time": "2022-06-29T12:44:25.767Z"
   },
   {
    "duration": 10,
    "start_time": "2022-06-29T12:44:25.775Z"
   },
   {
    "duration": 85,
    "start_time": "2022-06-29T12:44:25.786Z"
   },
   {
    "duration": 37,
    "start_time": "2022-06-29T12:44:25.873Z"
   },
   {
    "duration": 15,
    "start_time": "2022-06-29T12:44:25.912Z"
   },
   {
    "duration": 11,
    "start_time": "2022-06-29T12:44:25.930Z"
   },
   {
    "duration": 4,
    "start_time": "2022-06-29T13:10:45.147Z"
   },
   {
    "duration": 639,
    "start_time": "2022-06-29T13:10:58.965Z"
   },
   {
    "duration": 79,
    "start_time": "2022-06-29T13:10:59.605Z"
   },
   {
    "duration": 13,
    "start_time": "2022-06-29T13:10:59.685Z"
   },
   {
    "duration": 4,
    "start_time": "2022-06-29T13:10:59.699Z"
   },
   {
    "duration": 13,
    "start_time": "2022-06-29T13:10:59.705Z"
   },
   {
    "duration": 20,
    "start_time": "2022-06-29T13:10:59.719Z"
   },
   {
    "duration": 6,
    "start_time": "2022-06-29T13:10:59.741Z"
   },
   {
    "duration": 19,
    "start_time": "2022-06-29T13:10:59.749Z"
   },
   {
    "duration": 14,
    "start_time": "2022-06-29T13:10:59.769Z"
   },
   {
    "duration": 7,
    "start_time": "2022-06-29T13:10:59.784Z"
   },
   {
    "duration": 36,
    "start_time": "2022-06-29T13:10:59.793Z"
   },
   {
    "duration": 9,
    "start_time": "2022-06-29T13:10:59.831Z"
   },
   {
    "duration": 12,
    "start_time": "2022-06-29T13:10:59.842Z"
   },
   {
    "duration": 4,
    "start_time": "2022-06-29T13:10:59.856Z"
   },
   {
    "duration": 6,
    "start_time": "2022-06-29T13:10:59.862Z"
   },
   {
    "duration": 5,
    "start_time": "2022-06-29T13:10:59.869Z"
   },
   {
    "duration": 5,
    "start_time": "2022-06-29T13:10:59.876Z"
   },
   {
    "duration": 6016,
    "start_time": "2022-06-29T13:10:59.882Z"
   },
   {
    "duration": 2,
    "start_time": "2022-06-29T13:11:05.900Z"
   },
   {
    "duration": 6,
    "start_time": "2022-06-29T13:11:05.903Z"
   },
   {
    "duration": 5,
    "start_time": "2022-06-29T13:11:05.925Z"
   },
   {
    "duration": 5,
    "start_time": "2022-06-29T13:11:05.931Z"
   },
   {
    "duration": 83,
    "start_time": "2022-06-30T08:55:05.596Z"
   },
   {
    "duration": 1020,
    "start_time": "2022-06-30T08:55:10.864Z"
   },
   {
    "duration": 139,
    "start_time": "2022-06-30T08:55:11.888Z"
   },
   {
    "duration": 19,
    "start_time": "2022-06-30T08:55:12.764Z"
   },
   {
    "duration": 4,
    "start_time": "2022-06-30T08:55:14.559Z"
   },
   {
    "duration": 20,
    "start_time": "2022-06-30T08:55:15.011Z"
   },
   {
    "duration": 31,
    "start_time": "2022-06-30T08:55:15.495Z"
   },
   {
    "duration": 13,
    "start_time": "2022-06-30T08:55:16.191Z"
   },
   {
    "duration": 28,
    "start_time": "2022-06-30T08:55:16.408Z"
   },
   {
    "duration": 22,
    "start_time": "2022-06-30T08:55:16.804Z"
   },
   {
    "duration": 10,
    "start_time": "2022-06-30T08:55:17.362Z"
   },
   {
    "duration": 18,
    "start_time": "2022-06-30T08:55:18.799Z"
   },
   {
    "duration": 18,
    "start_time": "2022-06-30T08:55:20.334Z"
   },
   {
    "duration": 17,
    "start_time": "2022-06-30T08:55:20.585Z"
   },
   {
    "duration": 6,
    "start_time": "2022-06-30T08:55:21.276Z"
   },
   {
    "duration": 9,
    "start_time": "2022-06-30T08:55:24.440Z"
   },
   {
    "duration": 7,
    "start_time": "2022-06-30T08:55:25.909Z"
   },
   {
    "duration": 13,
    "start_time": "2022-06-30T08:55:27.428Z"
   },
   {
    "duration": 710,
    "start_time": "2022-06-30T09:56:33.362Z"
   },
   {
    "duration": 138,
    "start_time": "2022-06-30T09:56:34.074Z"
   },
   {
    "duration": 22,
    "start_time": "2022-06-30T09:56:34.214Z"
   },
   {
    "duration": 36,
    "start_time": "2022-06-30T09:56:34.239Z"
   },
   {
    "duration": 21,
    "start_time": "2022-06-30T09:56:34.277Z"
   },
   {
    "duration": 43,
    "start_time": "2022-06-30T09:56:34.301Z"
   },
   {
    "duration": 9,
    "start_time": "2022-06-30T09:56:34.347Z"
   },
   {
    "duration": 24,
    "start_time": "2022-06-30T09:56:34.358Z"
   },
   {
    "duration": 17,
    "start_time": "2022-06-30T09:56:34.385Z"
   },
   {
    "duration": 7,
    "start_time": "2022-06-30T09:56:34.406Z"
   },
   {
    "duration": 26,
    "start_time": "2022-06-30T09:56:34.414Z"
   },
   {
    "duration": 19,
    "start_time": "2022-06-30T09:56:34.444Z"
   },
   {
    "duration": 17,
    "start_time": "2022-06-30T09:56:34.465Z"
   },
   {
    "duration": 10,
    "start_time": "2022-06-30T09:56:34.484Z"
   },
   {
    "duration": 8,
    "start_time": "2022-06-30T09:56:34.495Z"
   },
   {
    "duration": 9,
    "start_time": "2022-06-30T09:56:34.505Z"
   },
   {
    "duration": 15,
    "start_time": "2022-06-30T09:56:34.516Z"
   },
   {
    "duration": 20,
    "start_time": "2022-06-30T09:56:34.534Z"
   },
   {
    "duration": 7430,
    "start_time": "2022-06-30T09:56:34.556Z"
   },
   {
    "duration": 3,
    "start_time": "2022-06-30T09:56:41.990Z"
   },
   {
    "duration": 28,
    "start_time": "2022-06-30T09:56:41.996Z"
   },
   {
    "duration": 53,
    "start_time": "2022-06-30T09:56:42.027Z"
   },
   {
    "duration": 18,
    "start_time": "2022-06-30T09:56:42.082Z"
   },
   {
    "duration": 54,
    "start_time": "2022-06-30T09:56:42.102Z"
   },
   {
    "duration": 51,
    "start_time": "2022-06-30T09:56:42.158Z"
   },
   {
    "duration": 219,
    "start_time": "2022-06-30T09:56:42.212Z"
   },
   {
    "duration": 4,
    "start_time": "2022-06-30T10:02:43.375Z"
   },
   {
    "duration": 100,
    "start_time": "2022-06-30T10:03:50.066Z"
   },
   {
    "duration": 16,
    "start_time": "2022-06-30T10:04:05.894Z"
   },
   {
    "duration": 77,
    "start_time": "2022-06-30T10:05:22.542Z"
   },
   {
    "duration": 12,
    "start_time": "2022-06-30T10:05:30.160Z"
   },
   {
    "duration": 9,
    "start_time": "2022-06-30T10:05:47.392Z"
   },
   {
    "duration": 8,
    "start_time": "2022-06-30T10:07:13.506Z"
   },
   {
    "duration": 8,
    "start_time": "2022-06-30T10:11:12.546Z"
   },
   {
    "duration": 4,
    "start_time": "2022-06-30T10:18:29.446Z"
   },
   {
    "duration": 2311,
    "start_time": "2022-06-30T10:18:31.623Z"
   },
   {
    "duration": 701,
    "start_time": "2022-06-30T10:18:44.491Z"
   },
   {
    "duration": 92,
    "start_time": "2022-06-30T10:18:45.194Z"
   },
   {
    "duration": 15,
    "start_time": "2022-06-30T10:18:45.288Z"
   },
   {
    "duration": 13,
    "start_time": "2022-06-30T10:18:45.305Z"
   },
   {
    "duration": 39,
    "start_time": "2022-06-30T10:18:45.322Z"
   },
   {
    "duration": 26,
    "start_time": "2022-06-30T10:18:45.363Z"
   },
   {
    "duration": 11,
    "start_time": "2022-06-30T10:18:45.391Z"
   },
   {
    "duration": 33,
    "start_time": "2022-06-30T10:18:45.403Z"
   },
   {
    "duration": 16,
    "start_time": "2022-06-30T10:18:45.444Z"
   },
   {
    "duration": 8,
    "start_time": "2022-06-30T10:18:45.462Z"
   },
   {
    "duration": 19,
    "start_time": "2022-06-30T10:18:45.472Z"
   },
   {
    "duration": 13,
    "start_time": "2022-06-30T10:18:45.493Z"
   },
   {
    "duration": 37,
    "start_time": "2022-06-30T10:18:45.509Z"
   },
   {
    "duration": 6,
    "start_time": "2022-06-30T10:18:45.551Z"
   },
   {
    "duration": 7,
    "start_time": "2022-06-30T10:18:45.559Z"
   },
   {
    "duration": 7,
    "start_time": "2022-06-30T10:18:45.568Z"
   },
   {
    "duration": 8,
    "start_time": "2022-06-30T10:18:45.577Z"
   },
   {
    "duration": 5,
    "start_time": "2022-06-30T10:18:45.587Z"
   },
   {
    "duration": 2438,
    "start_time": "2022-06-30T10:18:45.594Z"
   },
   {
    "duration": 4,
    "start_time": "2022-06-30T10:18:48.033Z"
   },
   {
    "duration": 34,
    "start_time": "2022-06-30T10:18:48.038Z"
   },
   {
    "duration": 19,
    "start_time": "2022-06-30T10:18:48.075Z"
   },
   {
    "duration": 26,
    "start_time": "2022-06-30T10:18:48.096Z"
   },
   {
    "duration": 37,
    "start_time": "2022-06-30T10:18:48.124Z"
   },
   {
    "duration": 34,
    "start_time": "2022-06-30T10:18:48.164Z"
   },
   {
    "duration": 91,
    "start_time": "2022-06-30T10:18:48.200Z"
   },
   {
    "duration": 9,
    "start_time": "2022-06-30T10:18:48.293Z"
   },
   {
    "duration": 54,
    "start_time": "2022-06-30T10:18:48.304Z"
   },
   {
    "duration": 21,
    "start_time": "2022-06-30T10:18:48.359Z"
   },
   {
    "duration": 66,
    "start_time": "2022-06-30T10:18:48.382Z"
   },
   {
    "duration": 241,
    "start_time": "2022-06-30T10:18:48.451Z"
   },
   {
    "duration": 24,
    "start_time": "2022-06-30T10:19:40.294Z"
   },
   {
    "duration": 5,
    "start_time": "2022-06-30T10:20:26.142Z"
   },
   {
    "duration": 105,
    "start_time": "2022-06-30T10:20:26.629Z"
   },
   {
    "duration": 32,
    "start_time": "2022-06-30T10:20:35.925Z"
   },
   {
    "duration": 733,
    "start_time": "2022-06-30T10:22:01.948Z"
   },
   {
    "duration": 82,
    "start_time": "2022-06-30T10:22:02.684Z"
   },
   {
    "duration": 13,
    "start_time": "2022-06-30T10:22:02.769Z"
   },
   {
    "duration": 9,
    "start_time": "2022-06-30T10:22:02.784Z"
   },
   {
    "duration": 43,
    "start_time": "2022-06-30T10:22:02.795Z"
   },
   {
    "duration": 40,
    "start_time": "2022-06-30T10:22:02.846Z"
   },
   {
    "duration": 19,
    "start_time": "2022-06-30T10:22:02.888Z"
   },
   {
    "duration": 44,
    "start_time": "2022-06-30T10:22:02.909Z"
   },
   {
    "duration": 22,
    "start_time": "2022-06-30T10:22:02.955Z"
   },
   {
    "duration": 12,
    "start_time": "2022-06-30T10:22:02.979Z"
   },
   {
    "duration": 28,
    "start_time": "2022-06-30T10:22:02.993Z"
   },
   {
    "duration": 29,
    "start_time": "2022-06-30T10:22:03.024Z"
   },
   {
    "duration": 22,
    "start_time": "2022-06-30T10:22:03.055Z"
   },
   {
    "duration": 16,
    "start_time": "2022-06-30T10:22:03.080Z"
   },
   {
    "duration": 16,
    "start_time": "2022-06-30T10:22:03.097Z"
   },
   {
    "duration": 35,
    "start_time": "2022-06-30T10:22:03.115Z"
   },
   {
    "duration": 28,
    "start_time": "2022-06-30T10:22:03.151Z"
   },
   {
    "duration": 32,
    "start_time": "2022-06-30T10:22:03.181Z"
   },
   {
    "duration": 160,
    "start_time": "2022-06-30T10:22:03.216Z"
   },
   {
    "duration": 0,
    "start_time": "2022-06-30T10:22:03.378Z"
   },
   {
    "duration": 0,
    "start_time": "2022-06-30T10:22:03.379Z"
   },
   {
    "duration": 0,
    "start_time": "2022-06-30T10:22:03.380Z"
   },
   {
    "duration": 0,
    "start_time": "2022-06-30T10:22:03.382Z"
   },
   {
    "duration": 0,
    "start_time": "2022-06-30T10:22:03.383Z"
   },
   {
    "duration": 0,
    "start_time": "2022-06-30T10:22:03.384Z"
   },
   {
    "duration": 0,
    "start_time": "2022-06-30T10:22:03.386Z"
   },
   {
    "duration": 0,
    "start_time": "2022-06-30T10:22:03.388Z"
   },
   {
    "duration": 0,
    "start_time": "2022-06-30T10:22:03.389Z"
   },
   {
    "duration": 0,
    "start_time": "2022-06-30T10:22:03.390Z"
   },
   {
    "duration": 0,
    "start_time": "2022-06-30T10:22:03.393Z"
   },
   {
    "duration": 0,
    "start_time": "2022-06-30T10:22:03.395Z"
   },
   {
    "duration": 0,
    "start_time": "2022-06-30T10:22:03.396Z"
   },
   {
    "duration": 5,
    "start_time": "2022-06-30T10:22:24.557Z"
   },
   {
    "duration": 21,
    "start_time": "2022-06-30T10:22:25.986Z"
   },
   {
    "duration": 4,
    "start_time": "2022-06-30T10:23:20.258Z"
   },
   {
    "duration": 20,
    "start_time": "2022-06-30T10:23:21.043Z"
   },
   {
    "duration": 5,
    "start_time": "2022-06-30T10:25:02.807Z"
   },
   {
    "duration": 5,
    "start_time": "2022-06-30T10:25:22.013Z"
   },
   {
    "duration": 5,
    "start_time": "2022-06-30T10:26:10.462Z"
   },
   {
    "duration": 51788,
    "start_time": "2022-06-30T10:26:12.000Z"
   },
   {
    "duration": 53,
    "start_time": "2022-06-30T10:27:27.352Z"
   },
   {
    "duration": 646,
    "start_time": "2022-06-30T10:27:43.889Z"
   },
   {
    "duration": 66,
    "start_time": "2022-06-30T10:27:44.537Z"
   },
   {
    "duration": 17,
    "start_time": "2022-06-30T10:27:44.605Z"
   },
   {
    "duration": 7,
    "start_time": "2022-06-30T10:27:44.624Z"
   },
   {
    "duration": 44,
    "start_time": "2022-06-30T10:27:44.634Z"
   },
   {
    "duration": 33,
    "start_time": "2022-06-30T10:27:44.680Z"
   },
   {
    "duration": 13,
    "start_time": "2022-06-30T10:27:44.715Z"
   },
   {
    "duration": 51,
    "start_time": "2022-06-30T10:27:44.729Z"
   },
   {
    "duration": 29,
    "start_time": "2022-06-30T10:27:44.782Z"
   },
   {
    "duration": 9,
    "start_time": "2022-06-30T10:27:44.813Z"
   },
   {
    "duration": 39,
    "start_time": "2022-06-30T10:27:44.825Z"
   },
   {
    "duration": 23,
    "start_time": "2022-06-30T10:27:44.866Z"
   },
   {
    "duration": 28,
    "start_time": "2022-06-30T10:27:44.890Z"
   },
   {
    "duration": 26,
    "start_time": "2022-06-30T10:27:44.921Z"
   },
   {
    "duration": 18,
    "start_time": "2022-06-30T10:27:44.949Z"
   },
   {
    "duration": 19,
    "start_time": "2022-06-30T10:27:44.969Z"
   },
   {
    "duration": 26,
    "start_time": "2022-06-30T10:27:44.990Z"
   },
   {
    "duration": 32,
    "start_time": "2022-06-30T10:27:45.018Z"
   },
   {
    "duration": 1008,
    "start_time": "2022-06-30T10:27:45.053Z"
   },
   {
    "duration": 0,
    "start_time": "2022-06-30T10:27:46.063Z"
   },
   {
    "duration": 0,
    "start_time": "2022-06-30T10:27:46.064Z"
   },
   {
    "duration": 0,
    "start_time": "2022-06-30T10:27:46.065Z"
   },
   {
    "duration": 0,
    "start_time": "2022-06-30T10:27:46.067Z"
   },
   {
    "duration": 0,
    "start_time": "2022-06-30T10:27:46.069Z"
   },
   {
    "duration": 0,
    "start_time": "2022-06-30T10:27:46.070Z"
   },
   {
    "duration": 0,
    "start_time": "2022-06-30T10:27:46.072Z"
   },
   {
    "duration": 0,
    "start_time": "2022-06-30T10:27:46.073Z"
   },
   {
    "duration": 0,
    "start_time": "2022-06-30T10:27:46.074Z"
   },
   {
    "duration": 0,
    "start_time": "2022-06-30T10:27:46.076Z"
   },
   {
    "duration": 0,
    "start_time": "2022-06-30T10:27:46.077Z"
   },
   {
    "duration": 0,
    "start_time": "2022-06-30T10:27:46.079Z"
   },
   {
    "duration": 0,
    "start_time": "2022-06-30T10:27:46.080Z"
   },
   {
    "duration": 4,
    "start_time": "2022-06-30T10:28:30.913Z"
   },
   {
    "duration": 3428,
    "start_time": "2022-06-30T10:28:31.533Z"
   },
   {
    "duration": 20,
    "start_time": "2022-06-30T10:28:34.962Z"
   },
   {
    "duration": 645,
    "start_time": "2022-06-30T10:28:50.784Z"
   },
   {
    "duration": 93,
    "start_time": "2022-06-30T10:28:51.431Z"
   },
   {
    "duration": 23,
    "start_time": "2022-06-30T10:28:51.526Z"
   },
   {
    "duration": 34,
    "start_time": "2022-06-30T10:28:51.551Z"
   },
   {
    "duration": 47,
    "start_time": "2022-06-30T10:28:51.587Z"
   },
   {
    "duration": 53,
    "start_time": "2022-06-30T10:28:51.638Z"
   },
   {
    "duration": 18,
    "start_time": "2022-06-30T10:28:51.693Z"
   },
   {
    "duration": 39,
    "start_time": "2022-06-30T10:28:51.713Z"
   },
   {
    "duration": 32,
    "start_time": "2022-06-30T10:28:51.754Z"
   },
   {
    "duration": 43,
    "start_time": "2022-06-30T10:28:51.791Z"
   },
   {
    "duration": 41,
    "start_time": "2022-06-30T10:28:51.839Z"
   },
   {
    "duration": 28,
    "start_time": "2022-06-30T10:28:51.882Z"
   },
   {
    "duration": 38,
    "start_time": "2022-06-30T10:28:51.912Z"
   },
   {
    "duration": 5,
    "start_time": "2022-06-30T10:28:51.952Z"
   },
   {
    "duration": 10,
    "start_time": "2022-06-30T10:28:51.959Z"
   },
   {
    "duration": 16,
    "start_time": "2022-06-30T10:28:51.971Z"
   },
   {
    "duration": 10,
    "start_time": "2022-06-30T10:28:51.988Z"
   },
   {
    "duration": 7,
    "start_time": "2022-06-30T10:28:51.999Z"
   },
   {
    "duration": 3148,
    "start_time": "2022-06-30T10:28:52.008Z"
   },
   {
    "duration": 20,
    "start_time": "2022-06-30T10:28:55.158Z"
   },
   {
    "duration": 3,
    "start_time": "2022-06-30T10:28:55.180Z"
   },
   {
    "duration": 10,
    "start_time": "2022-06-30T10:28:55.187Z"
   },
   {
    "duration": 10,
    "start_time": "2022-06-30T10:28:55.199Z"
   },
   {
    "duration": 26,
    "start_time": "2022-06-30T10:28:55.210Z"
   },
   {
    "duration": 20,
    "start_time": "2022-06-30T10:28:55.239Z"
   },
   {
    "duration": 7,
    "start_time": "2022-06-30T10:28:55.261Z"
   },
   {
    "duration": 78,
    "start_time": "2022-06-30T10:28:55.270Z"
   },
   {
    "duration": 10,
    "start_time": "2022-06-30T10:28:55.351Z"
   },
   {
    "duration": 17,
    "start_time": "2022-06-30T10:28:55.362Z"
   },
   {
    "duration": 8,
    "start_time": "2022-06-30T10:28:55.381Z"
   },
   {
    "duration": 40,
    "start_time": "2022-06-30T10:28:55.391Z"
   },
   {
    "duration": 172,
    "start_time": "2022-06-30T10:28:55.433Z"
   },
   {
    "duration": 16,
    "start_time": "2022-06-30T10:37:12.303Z"
   },
   {
    "duration": 15,
    "start_time": "2022-06-30T10:37:41.167Z"
   },
   {
    "duration": 9,
    "start_time": "2022-06-30T10:38:57.288Z"
   },
   {
    "duration": 12,
    "start_time": "2022-06-30T10:41:42.245Z"
   },
   {
    "duration": 27,
    "start_time": "2022-06-30T10:42:31.702Z"
   },
   {
    "duration": 1125,
    "start_time": "2022-06-30T10:43:04.626Z"
   },
   {
    "duration": 154,
    "start_time": "2022-06-30T10:43:20.342Z"
   },
   {
    "duration": 47,
    "start_time": "2022-06-30T10:49:47.553Z"
   },
   {
    "duration": 10866,
    "start_time": "2022-06-30T10:51:58.121Z"
   },
   {
    "duration": 10382,
    "start_time": "2022-06-30T10:53:59.782Z"
   },
   {
    "duration": 10646,
    "start_time": "2022-06-30T10:55:10.210Z"
   },
   {
    "duration": 10620,
    "start_time": "2022-06-30T10:55:59.843Z"
   },
   {
    "duration": 10628,
    "start_time": "2022-06-30T11:09:02.241Z"
   },
   {
    "duration": 10413,
    "start_time": "2022-06-30T11:09:20.746Z"
   },
   {
    "duration": 11329,
    "start_time": "2022-06-30T11:10:07.025Z"
   },
   {
    "duration": 53,
    "start_time": "2022-06-30T16:08:25.858Z"
   },
   {
    "duration": 860,
    "start_time": "2022-06-30T16:37:53.164Z"
   },
   {
    "duration": 176,
    "start_time": "2022-06-30T16:37:54.026Z"
   },
   {
    "duration": 15,
    "start_time": "2022-06-30T16:37:54.204Z"
   },
   {
    "duration": 5,
    "start_time": "2022-06-30T16:37:54.221Z"
   },
   {
    "duration": 24,
    "start_time": "2022-06-30T16:37:54.230Z"
   },
   {
    "duration": 24,
    "start_time": "2022-06-30T16:37:54.256Z"
   },
   {
    "duration": 8,
    "start_time": "2022-06-30T16:37:54.281Z"
   },
   {
    "duration": 51,
    "start_time": "2022-06-30T16:37:54.291Z"
   },
   {
    "duration": 19,
    "start_time": "2022-06-30T16:37:54.344Z"
   },
   {
    "duration": 8,
    "start_time": "2022-06-30T16:37:54.365Z"
   },
   {
    "duration": 15,
    "start_time": "2022-06-30T16:37:54.376Z"
   },
   {
    "duration": 15,
    "start_time": "2022-06-30T16:37:54.393Z"
   },
   {
    "duration": 41,
    "start_time": "2022-06-30T16:37:54.410Z"
   },
   {
    "duration": 5,
    "start_time": "2022-06-30T16:37:54.455Z"
   },
   {
    "duration": 7,
    "start_time": "2022-06-30T16:37:54.462Z"
   },
   {
    "duration": 6,
    "start_time": "2022-06-30T16:37:54.471Z"
   },
   {
    "duration": 9,
    "start_time": "2022-06-30T16:37:54.479Z"
   },
   {
    "duration": 3,
    "start_time": "2022-06-30T16:37:54.491Z"
   },
   {
    "duration": 47,
    "start_time": "2022-06-30T16:37:54.496Z"
   },
   {
    "duration": 5,
    "start_time": "2022-06-30T16:37:54.546Z"
   },
   {
    "duration": 3424,
    "start_time": "2022-06-30T16:37:54.553Z"
   },
   {
    "duration": 4,
    "start_time": "2022-06-30T16:37:57.979Z"
   },
   {
    "duration": 11,
    "start_time": "2022-06-30T16:37:57.985Z"
   },
   {
    "duration": 11,
    "start_time": "2022-06-30T16:37:57.998Z"
   },
   {
    "duration": 6,
    "start_time": "2022-06-30T16:37:58.010Z"
   },
   {
    "duration": 98,
    "start_time": "2022-06-30T16:37:58.018Z"
   },
   {
    "duration": 8,
    "start_time": "2022-06-30T16:37:58.119Z"
   },
   {
    "duration": 20,
    "start_time": "2022-06-30T16:37:58.129Z"
   },
   {
    "duration": 13,
    "start_time": "2022-06-30T16:37:58.151Z"
   },
   {
    "duration": 9838,
    "start_time": "2022-06-30T16:37:58.166Z"
   },
   {
    "duration": 21,
    "start_time": "2022-06-30T16:38:08.006Z"
   },
   {
    "duration": 251,
    "start_time": "2022-06-30T16:38:08.043Z"
   },
   {
    "duration": 9,
    "start_time": "2022-06-30T16:38:08.296Z"
   },
   {
    "duration": 11,
    "start_time": "2022-06-30T16:38:08.307Z"
   },
   {
    "duration": 86,
    "start_time": "2022-06-30T17:03:59.461Z"
   },
   {
    "duration": 449,
    "start_time": "2022-06-30T17:05:58.204Z"
   },
   {
    "duration": 62,
    "start_time": "2022-06-30T17:06:04.492Z"
   },
   {
    "duration": 9,
    "start_time": "2022-06-30T17:07:51.406Z"
   },
   {
    "duration": 8,
    "start_time": "2022-06-30T17:08:09.329Z"
   },
   {
    "duration": 26,
    "start_time": "2022-06-30T17:10:02.440Z"
   },
   {
    "duration": 19,
    "start_time": "2022-06-30T17:10:03.945Z"
   },
   {
    "duration": 7,
    "start_time": "2022-06-30T17:10:12.511Z"
   },
   {
    "duration": 9,
    "start_time": "2022-06-30T17:13:38.269Z"
   },
   {
    "duration": 6,
    "start_time": "2022-06-30T17:13:38.918Z"
   },
   {
    "duration": 6,
    "start_time": "2022-06-30T17:13:39.404Z"
   },
   {
    "duration": 5,
    "start_time": "2022-06-30T17:32:55.951Z"
   },
   {
    "duration": 170,
    "start_time": "2022-06-30T17:34:33.125Z"
   },
   {
    "duration": 7,
    "start_time": "2022-06-30T17:35:06.116Z"
   },
   {
    "duration": 198,
    "start_time": "2022-06-30T17:35:17.215Z"
   },
   {
    "duration": 12,
    "start_time": "2022-06-30T17:39:30.034Z"
   },
   {
    "duration": 24,
    "start_time": "2022-06-30T17:50:15.163Z"
   },
   {
    "duration": 23,
    "start_time": "2022-06-30T17:51:18.167Z"
   },
   {
    "duration": 278,
    "start_time": "2022-06-30T17:52:30.264Z"
   },
   {
    "duration": 51,
    "start_time": "2022-07-02T09:55:35.394Z"
   },
   {
    "duration": 1238,
    "start_time": "2022-07-02T09:55:49.364Z"
   },
   {
    "duration": 301,
    "start_time": "2022-07-02T09:55:50.604Z"
   },
   {
    "duration": 14,
    "start_time": "2022-07-02T09:55:50.907Z"
   },
   {
    "duration": 3,
    "start_time": "2022-07-02T09:55:50.923Z"
   },
   {
    "duration": 15,
    "start_time": "2022-07-02T09:55:50.928Z"
   },
   {
    "duration": 23,
    "start_time": "2022-07-02T09:55:50.945Z"
   },
   {
    "duration": 8,
    "start_time": "2022-07-02T09:55:50.969Z"
   },
   {
    "duration": 24,
    "start_time": "2022-07-02T09:55:50.979Z"
   },
   {
    "duration": 16,
    "start_time": "2022-07-02T09:55:51.004Z"
   },
   {
    "duration": 9,
    "start_time": "2022-07-02T09:55:51.042Z"
   },
   {
    "duration": 17,
    "start_time": "2022-07-02T09:55:51.053Z"
   },
   {
    "duration": 10,
    "start_time": "2022-07-02T09:55:51.072Z"
   },
   {
    "duration": 13,
    "start_time": "2022-07-02T09:55:51.084Z"
   },
   {
    "duration": 5,
    "start_time": "2022-07-02T09:55:51.101Z"
   },
   {
    "duration": 7,
    "start_time": "2022-07-02T09:55:51.141Z"
   },
   {
    "duration": 11,
    "start_time": "2022-07-02T09:55:51.150Z"
   },
   {
    "duration": 11,
    "start_time": "2022-07-02T09:55:51.163Z"
   },
   {
    "duration": 5,
    "start_time": "2022-07-02T09:55:51.176Z"
   },
   {
    "duration": 7,
    "start_time": "2022-07-02T09:55:51.183Z"
   },
   {
    "duration": 3,
    "start_time": "2022-07-02T09:55:51.192Z"
   },
   {
    "duration": 47,
    "start_time": "2022-07-02T09:55:51.197Z"
   },
   {
    "duration": 8,
    "start_time": "2022-07-02T09:55:51.246Z"
   },
   {
    "duration": 3231,
    "start_time": "2022-07-02T09:55:51.256Z"
   },
   {
    "duration": 4,
    "start_time": "2022-07-02T09:55:54.489Z"
   },
   {
    "duration": 11,
    "start_time": "2022-07-02T09:55:54.495Z"
   },
   {
    "duration": 20,
    "start_time": "2022-07-02T09:55:54.508Z"
   },
   {
    "duration": 3,
    "start_time": "2022-07-02T09:55:54.530Z"
   },
   {
    "duration": 72,
    "start_time": "2022-07-02T09:55:54.535Z"
   },
   {
    "duration": 8,
    "start_time": "2022-07-02T09:55:54.609Z"
   },
   {
    "duration": 7,
    "start_time": "2022-07-02T09:55:54.619Z"
   },
   {
    "duration": 26,
    "start_time": "2022-07-02T09:55:54.627Z"
   },
   {
    "duration": 9607,
    "start_time": "2022-07-02T09:55:54.654Z"
   },
   {
    "duration": 20,
    "start_time": "2022-07-02T09:56:04.262Z"
   },
   {
    "duration": 188,
    "start_time": "2022-07-02T09:56:04.283Z"
   },
   {
    "duration": 6,
    "start_time": "2022-07-02T09:56:04.473Z"
   },
   {
    "duration": 177,
    "start_time": "2022-07-02T09:56:04.481Z"
   },
   {
    "duration": 195,
    "start_time": "2022-07-02T09:56:04.660Z"
   },
   {
    "duration": 313,
    "start_time": "2022-07-02T09:56:04.857Z"
   },
   {
    "duration": 13,
    "start_time": "2022-07-02T09:56:05.172Z"
   },
   {
    "duration": 17,
    "start_time": "2022-07-02T09:56:05.187Z"
   },
   {
    "duration": 13,
    "start_time": "2022-07-02T09:58:07.689Z"
   },
   {
    "duration": 8,
    "start_time": "2022-07-02T10:01:34.058Z"
   },
   {
    "duration": 385,
    "start_time": "2022-07-02T10:17:12.823Z"
   },
   {
    "duration": 206,
    "start_time": "2022-07-02T10:17:50.337Z"
   },
   {
    "duration": 307,
    "start_time": "2022-07-02T10:19:03.561Z"
   },
   {
    "duration": 224,
    "start_time": "2022-07-02T10:19:22.136Z"
   },
   {
    "duration": 200,
    "start_time": "2022-07-02T10:19:40.786Z"
   },
   {
    "duration": 214,
    "start_time": "2022-07-02T10:20:40.643Z"
   },
   {
    "duration": 196,
    "start_time": "2022-07-02T10:20:56.298Z"
   },
   {
    "duration": 9,
    "start_time": "2022-07-02T10:23:19.114Z"
   },
   {
    "duration": 189,
    "start_time": "2022-07-02T10:25:05.786Z"
   },
   {
    "duration": 11,
    "start_time": "2022-07-02T10:26:39.548Z"
   },
   {
    "duration": 189,
    "start_time": "2022-07-02T10:26:48.477Z"
   },
   {
    "duration": 180,
    "start_time": "2022-07-02T10:29:27.149Z"
   },
   {
    "duration": 237,
    "start_time": "2022-07-02T10:35:48.700Z"
   },
   {
    "duration": 190,
    "start_time": "2022-07-02T10:36:16.244Z"
   },
   {
    "duration": 155,
    "start_time": "2022-07-02T10:36:22.011Z"
   },
   {
    "duration": 1119,
    "start_time": "2022-07-02T10:36:31.843Z"
   },
   {
    "duration": 168,
    "start_time": "2022-07-02T10:36:32.964Z"
   },
   {
    "duration": 14,
    "start_time": "2022-07-02T10:36:33.134Z"
   },
   {
    "duration": 4,
    "start_time": "2022-07-02T10:36:33.150Z"
   },
   {
    "duration": 13,
    "start_time": "2022-07-02T10:36:33.156Z"
   },
   {
    "duration": 21,
    "start_time": "2022-07-02T10:36:33.171Z"
   },
   {
    "duration": 7,
    "start_time": "2022-07-02T10:36:33.194Z"
   },
   {
    "duration": 53,
    "start_time": "2022-07-02T10:36:33.203Z"
   },
   {
    "duration": 13,
    "start_time": "2022-07-02T10:36:33.258Z"
   },
   {
    "duration": 7,
    "start_time": "2022-07-02T10:36:33.274Z"
   },
   {
    "duration": 12,
    "start_time": "2022-07-02T10:36:33.283Z"
   },
   {
    "duration": 10,
    "start_time": "2022-07-02T10:36:33.297Z"
   },
   {
    "duration": 44,
    "start_time": "2022-07-02T10:36:33.308Z"
   },
   {
    "duration": 5,
    "start_time": "2022-07-02T10:36:33.354Z"
   },
   {
    "duration": 14,
    "start_time": "2022-07-02T10:36:33.361Z"
   },
   {
    "duration": 13,
    "start_time": "2022-07-02T10:36:33.377Z"
   },
   {
    "duration": 19,
    "start_time": "2022-07-02T10:36:33.392Z"
   },
   {
    "duration": 5,
    "start_time": "2022-07-02T10:36:33.412Z"
   },
   {
    "duration": 34,
    "start_time": "2022-07-02T10:36:33.419Z"
   },
   {
    "duration": 7,
    "start_time": "2022-07-02T10:36:33.454Z"
   },
   {
    "duration": 5,
    "start_time": "2022-07-02T10:36:33.462Z"
   },
   {
    "duration": 5,
    "start_time": "2022-07-02T10:36:33.469Z"
   },
   {
    "duration": 7,
    "start_time": "2022-07-02T10:36:33.476Z"
   },
   {
    "duration": 4531,
    "start_time": "2022-07-02T10:36:33.485Z"
   },
   {
    "duration": 0,
    "start_time": "2022-07-02T10:36:38.018Z"
   },
   {
    "duration": 0,
    "start_time": "2022-07-02T10:36:38.020Z"
   },
   {
    "duration": 0,
    "start_time": "2022-07-02T10:36:38.021Z"
   },
   {
    "duration": 0,
    "start_time": "2022-07-02T10:36:38.022Z"
   },
   {
    "duration": 0,
    "start_time": "2022-07-02T10:36:38.023Z"
   },
   {
    "duration": 0,
    "start_time": "2022-07-02T10:36:38.024Z"
   },
   {
    "duration": 0,
    "start_time": "2022-07-02T10:36:38.025Z"
   },
   {
    "duration": 0,
    "start_time": "2022-07-02T10:36:38.026Z"
   },
   {
    "duration": 0,
    "start_time": "2022-07-02T10:36:38.027Z"
   },
   {
    "duration": 1,
    "start_time": "2022-07-02T10:36:38.027Z"
   },
   {
    "duration": 0,
    "start_time": "2022-07-02T10:36:38.029Z"
   },
   {
    "duration": 0,
    "start_time": "2022-07-02T10:36:38.030Z"
   },
   {
    "duration": 0,
    "start_time": "2022-07-02T10:36:38.031Z"
   },
   {
    "duration": 0,
    "start_time": "2022-07-02T10:36:38.032Z"
   },
   {
    "duration": 0,
    "start_time": "2022-07-02T10:36:38.033Z"
   },
   {
    "duration": 0,
    "start_time": "2022-07-02T10:36:38.035Z"
   },
   {
    "duration": 0,
    "start_time": "2022-07-02T10:36:38.036Z"
   },
   {
    "duration": 0,
    "start_time": "2022-07-02T10:36:38.037Z"
   },
   {
    "duration": 6,
    "start_time": "2022-07-02T10:37:31.934Z"
   },
   {
    "duration": 6,
    "start_time": "2022-07-02T10:37:33.349Z"
   },
   {
    "duration": 4750,
    "start_time": "2022-07-02T10:37:34.046Z"
   },
   {
    "duration": 1194,
    "start_time": "2022-07-02T10:37:49.912Z"
   },
   {
    "duration": 160,
    "start_time": "2022-07-02T10:37:51.108Z"
   },
   {
    "duration": 14,
    "start_time": "2022-07-02T10:37:51.270Z"
   },
   {
    "duration": 4,
    "start_time": "2022-07-02T10:37:51.286Z"
   },
   {
    "duration": 14,
    "start_time": "2022-07-02T10:37:51.292Z"
   },
   {
    "duration": 44,
    "start_time": "2022-07-02T10:37:51.308Z"
   },
   {
    "duration": 8,
    "start_time": "2022-07-02T10:37:51.354Z"
   },
   {
    "duration": 25,
    "start_time": "2022-07-02T10:37:51.364Z"
   },
   {
    "duration": 14,
    "start_time": "2022-07-02T10:37:51.391Z"
   },
   {
    "duration": 33,
    "start_time": "2022-07-02T10:37:51.409Z"
   },
   {
    "duration": 15,
    "start_time": "2022-07-02T10:37:51.445Z"
   },
   {
    "duration": 20,
    "start_time": "2022-07-02T10:37:51.462Z"
   },
   {
    "duration": 13,
    "start_time": "2022-07-02T10:37:51.484Z"
   },
   {
    "duration": 6,
    "start_time": "2022-07-02T10:37:51.498Z"
   },
   {
    "duration": 8,
    "start_time": "2022-07-02T10:37:51.506Z"
   },
   {
    "duration": 9,
    "start_time": "2022-07-02T10:37:51.542Z"
   },
   {
    "duration": 10,
    "start_time": "2022-07-02T10:37:51.553Z"
   },
   {
    "duration": 6,
    "start_time": "2022-07-02T10:37:51.565Z"
   },
   {
    "duration": 18,
    "start_time": "2022-07-02T10:37:51.573Z"
   },
   {
    "duration": 50,
    "start_time": "2022-07-02T10:37:51.593Z"
   },
   {
    "duration": 2,
    "start_time": "2022-07-02T10:37:51.645Z"
   },
   {
    "duration": 9,
    "start_time": "2022-07-02T10:37:51.649Z"
   },
   {
    "duration": 10,
    "start_time": "2022-07-02T10:37:51.660Z"
   },
   {
    "duration": 4495,
    "start_time": "2022-07-02T10:37:51.672Z"
   },
   {
    "duration": 0,
    "start_time": "2022-07-02T10:37:56.169Z"
   },
   {
    "duration": 0,
    "start_time": "2022-07-02T10:37:56.171Z"
   },
   {
    "duration": 0,
    "start_time": "2022-07-02T10:37:56.172Z"
   },
   {
    "duration": 0,
    "start_time": "2022-07-02T10:37:56.173Z"
   },
   {
    "duration": 0,
    "start_time": "2022-07-02T10:37:56.174Z"
   },
   {
    "duration": 0,
    "start_time": "2022-07-02T10:37:56.175Z"
   },
   {
    "duration": 0,
    "start_time": "2022-07-02T10:37:56.176Z"
   },
   {
    "duration": 0,
    "start_time": "2022-07-02T10:37:56.177Z"
   },
   {
    "duration": 0,
    "start_time": "2022-07-02T10:37:56.178Z"
   },
   {
    "duration": 0,
    "start_time": "2022-07-02T10:37:56.180Z"
   },
   {
    "duration": 0,
    "start_time": "2022-07-02T10:37:56.181Z"
   },
   {
    "duration": 0,
    "start_time": "2022-07-02T10:37:56.182Z"
   },
   {
    "duration": 0,
    "start_time": "2022-07-02T10:37:56.184Z"
   },
   {
    "duration": 0,
    "start_time": "2022-07-02T10:37:56.185Z"
   },
   {
    "duration": 0,
    "start_time": "2022-07-02T10:37:56.186Z"
   },
   {
    "duration": 0,
    "start_time": "2022-07-02T10:37:56.187Z"
   },
   {
    "duration": 0,
    "start_time": "2022-07-02T10:37:56.188Z"
   },
   {
    "duration": 0,
    "start_time": "2022-07-02T10:37:56.189Z"
   },
   {
    "duration": 18,
    "start_time": "2022-07-02T10:41:54.210Z"
   },
   {
    "duration": 4,
    "start_time": "2022-07-02T10:42:24.107Z"
   },
   {
    "duration": 117,
    "start_time": "2022-07-02T10:42:25.129Z"
   },
   {
    "duration": 12,
    "start_time": "2022-07-02T10:42:25.882Z"
   },
   {
    "duration": 4,
    "start_time": "2022-07-02T10:42:27.444Z"
   },
   {
    "duration": 13,
    "start_time": "2022-07-02T10:42:28.689Z"
   },
   {
    "duration": 27,
    "start_time": "2022-07-02T10:42:29.393Z"
   },
   {
    "duration": 7,
    "start_time": "2022-07-02T10:42:31.388Z"
   },
   {
    "duration": 23,
    "start_time": "2022-07-02T10:42:31.886Z"
   },
   {
    "duration": 15,
    "start_time": "2022-07-02T10:42:32.383Z"
   },
   {
    "duration": 7,
    "start_time": "2022-07-02T10:42:33.197Z"
   },
   {
    "duration": 13,
    "start_time": "2022-07-02T10:42:34.603Z"
   },
   {
    "duration": 8,
    "start_time": "2022-07-02T10:43:12.683Z"
   },
   {
    "duration": 13,
    "start_time": "2022-07-02T10:43:13.228Z"
   },
   {
    "duration": 6,
    "start_time": "2022-07-02T10:43:15.985Z"
   },
   {
    "duration": 5,
    "start_time": "2022-07-02T10:43:25.788Z"
   },
   {
    "duration": 10,
    "start_time": "2022-07-02T10:43:30.132Z"
   },
   {
    "duration": 10,
    "start_time": "2022-07-02T10:43:41.887Z"
   },
   {
    "duration": 7,
    "start_time": "2022-07-02T10:43:45.518Z"
   },
   {
    "duration": 14,
    "start_time": "2022-07-02T10:43:46.140Z"
   },
   {
    "duration": 16,
    "start_time": "2022-07-02T10:43:50.007Z"
   },
   {
    "duration": 2,
    "start_time": "2022-07-02T10:43:55.533Z"
   },
   {
    "duration": 4,
    "start_time": "2022-07-02T10:43:57.007Z"
   },
   {
    "duration": 3,
    "start_time": "2022-07-02T10:43:59.975Z"
   },
   {
    "duration": 4297,
    "start_time": "2022-07-02T10:44:01.188Z"
   },
   {
    "duration": 24,
    "start_time": "2022-07-02T10:53:13.683Z"
   },
   {
    "duration": 4,
    "start_time": "2022-07-02T10:53:24.973Z"
   },
   {
    "duration": 87,
    "start_time": "2022-07-02T10:53:25.481Z"
   },
   {
    "duration": 10,
    "start_time": "2022-07-02T10:53:25.923Z"
   },
   {
    "duration": 5,
    "start_time": "2022-07-02T10:53:26.959Z"
   },
   {
    "duration": 16,
    "start_time": "2022-07-02T10:53:27.403Z"
   },
   {
    "duration": 22,
    "start_time": "2022-07-02T10:53:27.829Z"
   },
   {
    "duration": 8,
    "start_time": "2022-07-02T10:53:28.389Z"
   },
   {
    "duration": 21,
    "start_time": "2022-07-02T10:53:28.564Z"
   },
   {
    "duration": 15,
    "start_time": "2022-07-02T10:53:28.707Z"
   },
   {
    "duration": 10,
    "start_time": "2022-07-02T10:53:28.885Z"
   },
   {
    "duration": 15,
    "start_time": "2022-07-02T10:53:29.209Z"
   },
   {
    "duration": 13,
    "start_time": "2022-07-02T10:53:30.082Z"
   },
   {
    "duration": 13,
    "start_time": "2022-07-02T10:53:30.270Z"
   },
   {
    "duration": 6,
    "start_time": "2022-07-02T10:53:30.453Z"
   },
   {
    "duration": 7,
    "start_time": "2022-07-02T10:53:30.630Z"
   },
   {
    "duration": 12,
    "start_time": "2022-07-02T10:53:31.282Z"
   },
   {
    "duration": 13,
    "start_time": "2022-07-02T10:53:32.007Z"
   },
   {
    "duration": 7,
    "start_time": "2022-07-02T10:53:33.469Z"
   },
   {
    "duration": 18,
    "start_time": "2022-07-02T10:53:33.693Z"
   },
   {
    "duration": 17,
    "start_time": "2022-07-02T10:53:36.524Z"
   },
   {
    "duration": 3,
    "start_time": "2022-07-02T10:53:41.107Z"
   },
   {
    "duration": 5,
    "start_time": "2022-07-02T10:53:42.780Z"
   },
   {
    "duration": 4,
    "start_time": "2022-07-02T10:53:44.611Z"
   },
   {
    "duration": 3380,
    "start_time": "2022-07-02T10:53:45.561Z"
   },
   {
    "duration": 1148,
    "start_time": "2022-07-02T10:54:02.300Z"
   },
   {
    "duration": 181,
    "start_time": "2022-07-02T10:54:03.450Z"
   },
   {
    "duration": 17,
    "start_time": "2022-07-02T10:54:03.633Z"
   },
   {
    "duration": 4,
    "start_time": "2022-07-02T10:54:03.653Z"
   },
   {
    "duration": 17,
    "start_time": "2022-07-02T10:54:03.660Z"
   },
   {
    "duration": 31,
    "start_time": "2022-07-02T10:54:03.679Z"
   },
   {
    "duration": 9,
    "start_time": "2022-07-02T10:54:03.712Z"
   },
   {
    "duration": 52,
    "start_time": "2022-07-02T10:54:03.723Z"
   },
   {
    "duration": 17,
    "start_time": "2022-07-02T10:54:03.777Z"
   },
   {
    "duration": 9,
    "start_time": "2022-07-02T10:54:03.798Z"
   },
   {
    "duration": 40,
    "start_time": "2022-07-02T10:54:03.809Z"
   },
   {
    "duration": 13,
    "start_time": "2022-07-02T10:54:03.851Z"
   },
   {
    "duration": 17,
    "start_time": "2022-07-02T10:54:03.866Z"
   },
   {
    "duration": 6,
    "start_time": "2022-07-02T10:54:03.886Z"
   },
   {
    "duration": 20,
    "start_time": "2022-07-02T10:54:03.894Z"
   },
   {
    "duration": 32,
    "start_time": "2022-07-02T10:54:03.917Z"
   },
   {
    "duration": 10,
    "start_time": "2022-07-02T10:54:03.951Z"
   },
   {
    "duration": 7,
    "start_time": "2022-07-02T10:54:03.964Z"
   },
   {
    "duration": 21,
    "start_time": "2022-07-02T10:54:03.973Z"
   },
   {
    "duration": 62,
    "start_time": "2022-07-02T10:54:03.997Z"
   },
   {
    "duration": 8,
    "start_time": "2022-07-02T10:54:04.062Z"
   },
   {
    "duration": 34,
    "start_time": "2022-07-02T10:54:04.073Z"
   },
   {
    "duration": 9,
    "start_time": "2022-07-02T10:54:04.109Z"
   },
   {
    "duration": 3734,
    "start_time": "2022-07-02T10:54:04.121Z"
   },
   {
    "duration": 5,
    "start_time": "2022-07-02T10:54:07.857Z"
   },
   {
    "duration": 9,
    "start_time": "2022-07-02T10:54:07.864Z"
   },
   {
    "duration": 242,
    "start_time": "2022-07-02T10:54:07.875Z"
   },
   {
    "duration": 214,
    "start_time": "2022-07-02T10:54:08.121Z"
   },
   {
    "duration": 6,
    "start_time": "2022-07-02T10:54:08.337Z"
   },
   {
    "duration": 76,
    "start_time": "2022-07-02T10:54:08.345Z"
   },
   {
    "duration": 149,
    "start_time": "2022-07-02T10:54:08.423Z"
   },
   {
    "duration": 142,
    "start_time": "2022-07-02T10:54:08.574Z"
   },
   {
    "duration": 186,
    "start_time": "2022-07-02T10:54:08.718Z"
   },
   {
    "duration": 10016,
    "start_time": "2022-07-02T10:54:08.906Z"
   },
   {
    "duration": 29,
    "start_time": "2022-07-02T10:54:18.925Z"
   },
   {
    "duration": 183,
    "start_time": "2022-07-02T10:54:18.955Z"
   },
   {
    "duration": 7,
    "start_time": "2022-07-02T10:54:19.142Z"
   },
   {
    "duration": 178,
    "start_time": "2022-07-02T10:54:19.151Z"
   },
   {
    "duration": 208,
    "start_time": "2022-07-02T10:54:19.331Z"
   },
   {
    "duration": 305,
    "start_time": "2022-07-02T10:54:19.541Z"
   },
   {
    "duration": 9,
    "start_time": "2022-07-02T10:54:19.847Z"
   },
   {
    "duration": 5,
    "start_time": "2022-07-02T10:54:19.858Z"
   },
   {
    "duration": 164,
    "start_time": "2022-07-02T11:02:08.740Z"
   },
   {
    "duration": 151,
    "start_time": "2022-07-02T12:21:54.320Z"
   },
   {
    "duration": 127,
    "start_time": "2022-07-02T12:22:22.588Z"
   },
   {
    "duration": 325,
    "start_time": "2022-07-02T12:23:41.483Z"
   },
   {
    "duration": 413,
    "start_time": "2022-07-02T12:25:42.894Z"
   },
   {
    "duration": 197,
    "start_time": "2022-07-02T12:28:07.181Z"
   },
   {
    "duration": 214,
    "start_time": "2022-07-02T12:28:47.185Z"
   },
   {
    "duration": 323,
    "start_time": "2022-07-02T12:30:15.679Z"
   },
   {
    "duration": 325,
    "start_time": "2022-07-02T12:38:05.819Z"
   },
   {
    "duration": 109,
    "start_time": "2022-07-02T13:28:46.176Z"
   },
   {
    "duration": 9,
    "start_time": "2022-07-02T13:28:54.385Z"
   },
   {
    "duration": 19,
    "start_time": "2022-07-02T13:29:02.423Z"
   },
   {
    "duration": 44,
    "start_time": "2022-07-02T13:30:38.679Z"
   },
   {
    "duration": 30,
    "start_time": "2022-07-02T13:32:40.199Z"
   },
   {
    "duration": 30,
    "start_time": "2022-07-02T13:33:10.779Z"
   },
   {
    "duration": 28,
    "start_time": "2022-07-02T13:33:23.119Z"
   },
   {
    "duration": 50,
    "start_time": "2022-07-02T13:33:31.598Z"
   },
   {
    "duration": 35,
    "start_time": "2022-07-02T13:35:40.183Z"
   },
   {
    "duration": 37,
    "start_time": "2022-07-02T13:36:07.029Z"
   },
   {
    "duration": 50,
    "start_time": "2022-07-02T13:36:31.162Z"
   },
   {
    "duration": 32,
    "start_time": "2022-07-02T13:37:06.810Z"
   },
   {
    "duration": 24,
    "start_time": "2022-07-02T13:37:15.079Z"
   },
   {
    "duration": 36,
    "start_time": "2022-07-02T13:37:36.007Z"
   },
   {
    "duration": 21,
    "start_time": "2022-07-02T13:37:42.407Z"
   },
   {
    "duration": 157,
    "start_time": "2022-07-02T13:38:14.977Z"
   },
   {
    "duration": 155,
    "start_time": "2022-07-02T13:41:01.100Z"
   },
   {
    "duration": 188,
    "start_time": "2022-07-02T13:59:47.343Z"
   },
   {
    "duration": 27,
    "start_time": "2022-07-02T14:00:02.027Z"
   },
   {
    "duration": 42,
    "start_time": "2022-07-02T14:00:30.405Z"
   },
   {
    "duration": 167,
    "start_time": "2022-07-02T14:00:45.287Z"
   },
   {
    "duration": 251,
    "start_time": "2022-07-02T14:01:10.422Z"
   },
   {
    "duration": 18,
    "start_time": "2022-07-02T14:32:01.770Z"
   },
   {
    "duration": 13,
    "start_time": "2022-07-02T14:32:04.952Z"
   },
   {
    "duration": 168,
    "start_time": "2022-07-02T14:34:15.668Z"
   },
   {
    "duration": 213,
    "start_time": "2022-07-02T14:34:57.769Z"
   },
   {
    "duration": 200,
    "start_time": "2022-07-02T14:35:04.194Z"
   },
   {
    "duration": 195,
    "start_time": "2022-07-02T14:35:34.419Z"
   },
   {
    "duration": 244,
    "start_time": "2022-07-02T14:37:30.805Z"
   },
   {
    "duration": 202,
    "start_time": "2022-07-02T14:38:01.819Z"
   },
   {
    "duration": 49,
    "start_time": "2022-07-03T10:29:09.515Z"
   },
   {
    "duration": 1571,
    "start_time": "2022-07-03T10:29:19.440Z"
   },
   {
    "duration": 235,
    "start_time": "2022-07-03T10:29:21.016Z"
   },
   {
    "duration": 18,
    "start_time": "2022-07-03T10:29:21.411Z"
   },
   {
    "duration": 5,
    "start_time": "2022-07-03T10:29:22.467Z"
   },
   {
    "duration": 16,
    "start_time": "2022-07-03T10:29:22.787Z"
   },
   {
    "duration": 30,
    "start_time": "2022-07-03T10:29:23.323Z"
   },
   {
    "duration": 11,
    "start_time": "2022-07-03T10:29:25.812Z"
   },
   {
    "duration": 28,
    "start_time": "2022-07-03T10:29:26.043Z"
   },
   {
    "duration": 20,
    "start_time": "2022-07-03T10:29:26.291Z"
   },
   {
    "duration": 9,
    "start_time": "2022-07-03T10:29:26.723Z"
   },
   {
    "duration": 28,
    "start_time": "2022-07-03T10:29:27.113Z"
   },
   {
    "duration": 11,
    "start_time": "2022-07-03T10:29:28.341Z"
   },
   {
    "duration": 42,
    "start_time": "2022-07-03T10:29:28.795Z"
   },
   {
    "duration": 6,
    "start_time": "2022-07-03T10:29:29.171Z"
   },
   {
    "duration": 7,
    "start_time": "2022-07-03T10:29:29.502Z"
   },
   {
    "duration": 12,
    "start_time": "2022-07-03T10:29:30.319Z"
   },
   {
    "duration": 14,
    "start_time": "2022-07-03T10:29:30.571Z"
   },
   {
    "duration": 6,
    "start_time": "2022-07-03T10:29:30.940Z"
   },
   {
    "duration": 20,
    "start_time": "2022-07-03T10:29:31.208Z"
   },
   {
    "duration": 22,
    "start_time": "2022-07-03T10:30:00.422Z"
   },
   {
    "duration": 3,
    "start_time": "2022-07-03T10:30:01.432Z"
   },
   {
    "duration": 6,
    "start_time": "2022-07-03T10:30:01.625Z"
   },
   {
    "duration": 3,
    "start_time": "2022-07-03T10:30:01.812Z"
   },
   {
    "duration": 4119,
    "start_time": "2022-07-03T10:30:01.979Z"
   },
   {
    "duration": 5,
    "start_time": "2022-07-03T10:30:06.100Z"
   },
   {
    "duration": 8,
    "start_time": "2022-07-03T10:30:06.107Z"
   },
   {
    "duration": 349,
    "start_time": "2022-07-03T10:30:06.117Z"
   },
   {
    "duration": 277,
    "start_time": "2022-07-03T10:30:06.469Z"
   },
   {
    "duration": 301,
    "start_time": "2022-07-03T10:30:23.637Z"
   },
   {
    "duration": 288,
    "start_time": "2022-07-03T10:30:29.425Z"
   },
   {
    "duration": 308,
    "start_time": "2022-07-03T10:30:35.303Z"
   },
   {
    "duration": 71,
    "start_time": "2022-07-03T10:33:13.691Z"
   },
   {
    "duration": 246,
    "start_time": "2022-07-03T10:33:26.816Z"
   },
   {
    "duration": 5,
    "start_time": "2022-07-03T10:33:29.699Z"
   },
   {
    "duration": 116,
    "start_time": "2022-07-03T10:33:29.897Z"
   },
   {
    "duration": 156,
    "start_time": "2022-07-03T10:33:30.231Z"
   },
   {
    "duration": 207,
    "start_time": "2022-07-03T10:33:30.504Z"
   },
   {
    "duration": 169,
    "start_time": "2022-07-03T10:33:30.713Z"
   },
   {
    "duration": 387,
    "start_time": "2022-07-03T10:33:31.729Z"
   },
   {
    "duration": 419,
    "start_time": "2022-07-03T10:40:58.871Z"
   },
   {
    "duration": 322,
    "start_time": "2022-07-03T10:42:40.403Z"
   },
   {
    "duration": 292,
    "start_time": "2022-07-03T10:43:48.974Z"
   },
   {
    "duration": 50,
    "start_time": "2022-07-03T10:45:29.477Z"
   },
   {
    "duration": 295,
    "start_time": "2022-07-03T10:45:38.479Z"
   },
   {
    "duration": 288,
    "start_time": "2022-07-03T10:46:06.809Z"
   },
   {
    "duration": 203,
    "start_time": "2022-07-03T10:46:22.363Z"
   },
   {
    "duration": 283,
    "start_time": "2022-07-03T10:46:39.703Z"
   },
   {
    "duration": 239,
    "start_time": "2022-07-03T10:48:09.623Z"
   },
   {
    "duration": 264,
    "start_time": "2022-07-03T10:49:19.003Z"
   },
   {
    "duration": 56,
    "start_time": "2022-07-03T10:52:03.415Z"
   },
   {
    "duration": 49,
    "start_time": "2022-07-03T10:52:15.195Z"
   },
   {
    "duration": 57,
    "start_time": "2022-07-03T10:52:43.012Z"
   },
   {
    "duration": 60,
    "start_time": "2022-07-03T10:53:08.325Z"
   },
   {
    "duration": 47,
    "start_time": "2022-07-03T10:53:16.821Z"
   },
   {
    "duration": 68,
    "start_time": "2022-07-03T10:53:23.715Z"
   },
   {
    "duration": 214,
    "start_time": "2022-07-03T10:53:51.999Z"
   },
   {
    "duration": 12,
    "start_time": "2022-07-03T11:09:27.907Z"
   },
   {
    "duration": 9,
    "start_time": "2022-07-03T11:11:00.736Z"
   },
   {
    "duration": 12,
    "start_time": "2022-07-03T11:16:07.186Z"
   },
   {
    "duration": 23,
    "start_time": "2022-07-03T11:19:24.614Z"
   },
   {
    "duration": 22,
    "start_time": "2022-07-03T11:19:50.542Z"
   },
   {
    "duration": 26,
    "start_time": "2022-07-03T11:24:10.544Z"
   },
   {
    "duration": 22,
    "start_time": "2022-07-03T11:24:43.733Z"
   },
   {
    "duration": 23,
    "start_time": "2022-07-03T11:25:13.221Z"
   },
   {
    "duration": 28,
    "start_time": "2022-07-03T11:34:19.802Z"
   },
   {
    "duration": 26,
    "start_time": "2022-07-03T11:38:03.432Z"
   },
   {
    "duration": 62,
    "start_time": "2022-07-03T13:54:26.317Z"
   },
   {
    "duration": 1388,
    "start_time": "2022-07-03T13:54:37.176Z"
   },
   {
    "duration": 159,
    "start_time": "2022-07-03T13:54:38.567Z"
   },
   {
    "duration": 23,
    "start_time": "2022-07-03T13:54:38.729Z"
   },
   {
    "duration": 8,
    "start_time": "2022-07-03T13:54:38.755Z"
   },
   {
    "duration": 43,
    "start_time": "2022-07-03T13:54:38.765Z"
   },
   {
    "duration": 67,
    "start_time": "2022-07-03T13:54:38.810Z"
   },
   {
    "duration": 14,
    "start_time": "2022-07-03T13:54:38.879Z"
   },
   {
    "duration": 42,
    "start_time": "2022-07-03T13:54:38.895Z"
   },
   {
    "duration": 27,
    "start_time": "2022-07-03T13:54:38.945Z"
   },
   {
    "duration": 29,
    "start_time": "2022-07-03T13:54:38.975Z"
   },
   {
    "duration": 20,
    "start_time": "2022-07-03T13:54:39.006Z"
   },
   {
    "duration": 34,
    "start_time": "2022-07-03T13:54:39.031Z"
   },
   {
    "duration": 42,
    "start_time": "2022-07-03T13:54:39.067Z"
   },
   {
    "duration": 5,
    "start_time": "2022-07-03T13:54:39.111Z"
   },
   {
    "duration": 19,
    "start_time": "2022-07-03T13:54:39.118Z"
   },
   {
    "duration": 30,
    "start_time": "2022-07-03T13:54:39.139Z"
   },
   {
    "duration": 11,
    "start_time": "2022-07-03T13:54:39.171Z"
   },
   {
    "duration": 12,
    "start_time": "2022-07-03T13:54:39.184Z"
   },
   {
    "duration": 50,
    "start_time": "2022-07-03T13:54:39.198Z"
   },
   {
    "duration": 25,
    "start_time": "2022-07-03T13:54:39.251Z"
   },
   {
    "duration": 5,
    "start_time": "2022-07-03T13:54:39.278Z"
   },
   {
    "duration": 15,
    "start_time": "2022-07-03T13:54:39.285Z"
   },
   {
    "duration": 14,
    "start_time": "2022-07-03T13:54:39.302Z"
   },
   {
    "duration": 4130,
    "start_time": "2022-07-03T13:54:39.319Z"
   },
   {
    "duration": 6,
    "start_time": "2022-07-03T13:54:43.451Z"
   },
   {
    "duration": 25,
    "start_time": "2022-07-03T13:54:43.458Z"
   },
   {
    "duration": 314,
    "start_time": "2022-07-03T13:54:43.485Z"
   },
   {
    "duration": 277,
    "start_time": "2022-07-03T13:54:43.805Z"
   },
   {
    "duration": 9,
    "start_time": "2022-07-03T13:54:44.084Z"
   },
   {
    "duration": 190,
    "start_time": "2022-07-03T13:54:44.095Z"
   },
   {
    "duration": 186,
    "start_time": "2022-07-03T13:54:44.287Z"
   },
   {
    "duration": 212,
    "start_time": "2022-07-03T13:54:44.476Z"
   },
   {
    "duration": 251,
    "start_time": "2022-07-03T13:54:44.690Z"
   },
   {
    "duration": 504,
    "start_time": "2022-07-03T13:54:44.944Z"
   },
   {
    "duration": 25,
    "start_time": "2022-07-03T13:54:45.451Z"
   },
   {
    "duration": 381,
    "start_time": "2022-07-03T13:54:45.479Z"
   },
   {
    "duration": 9,
    "start_time": "2022-07-03T13:54:45.866Z"
   },
   {
    "duration": 269,
    "start_time": "2022-07-03T13:54:45.883Z"
   },
   {
    "duration": 361,
    "start_time": "2022-07-03T13:54:46.155Z"
   },
   {
    "duration": 416,
    "start_time": "2022-07-03T13:54:46.518Z"
   },
   {
    "duration": 345,
    "start_time": "2022-07-03T13:54:46.939Z"
   },
   {
    "duration": 27,
    "start_time": "2022-07-03T13:54:47.286Z"
   },
   {
    "duration": 147,
    "start_time": "2022-07-03T13:54:47.315Z"
   },
   {
    "duration": 247,
    "start_time": "2022-07-03T13:54:47.469Z"
   },
   {
    "duration": 0,
    "start_time": "2022-07-03T13:54:47.718Z"
   },
   {
    "duration": 0,
    "start_time": "2022-07-03T13:54:47.720Z"
   },
   {
    "duration": 19,
    "start_time": "2022-07-03T14:00:30.763Z"
   },
   {
    "duration": 49,
    "start_time": "2022-07-03T14:00:45.183Z"
   },
   {
    "duration": 31,
    "start_time": "2022-07-03T14:00:52.378Z"
   },
   {
    "duration": 83,
    "start_time": "2022-07-03T14:01:08.845Z"
   },
   {
    "duration": 20,
    "start_time": "2022-07-03T14:01:20.263Z"
   },
   {
    "duration": 5,
    "start_time": "2022-07-03T14:01:42.854Z"
   },
   {
    "duration": 6,
    "start_time": "2022-07-03T14:02:01.488Z"
   },
   {
    "duration": 5,
    "start_time": "2022-07-03T14:02:16.589Z"
   },
   {
    "duration": 9,
    "start_time": "2022-07-03T14:02:22.661Z"
   },
   {
    "duration": 25,
    "start_time": "2022-07-03T14:02:39.756Z"
   },
   {
    "duration": 73,
    "start_time": "2022-07-03T14:03:17.828Z"
   },
   {
    "duration": 6,
    "start_time": "2022-07-03T14:03:18.309Z"
   },
   {
    "duration": 5,
    "start_time": "2022-07-03T14:08:20.818Z"
   },
   {
    "duration": 5,
    "start_time": "2022-07-03T14:08:27.679Z"
   },
   {
    "duration": 5,
    "start_time": "2022-07-03T14:09:00.050Z"
   },
   {
    "duration": 55,
    "start_time": "2022-07-03T14:09:02.217Z"
   },
   {
    "duration": 27,
    "start_time": "2022-07-03T14:09:31.209Z"
   },
   {
    "duration": 49,
    "start_time": "2022-07-03T14:10:06.308Z"
   },
   {
    "duration": 5,
    "start_time": "2022-07-03T14:10:19.761Z"
   },
   {
    "duration": 53,
    "start_time": "2022-07-03T14:11:29.450Z"
   },
   {
    "duration": 154,
    "start_time": "2022-07-03T14:11:45.261Z"
   },
   {
    "duration": 25,
    "start_time": "2022-07-03T14:11:56.204Z"
   },
   {
    "duration": 24,
    "start_time": "2022-07-03T14:12:26.620Z"
   },
   {
    "duration": 28,
    "start_time": "2022-07-03T14:25:07.445Z"
   },
   {
    "duration": 36,
    "start_time": "2022-07-03T14:25:29.605Z"
   },
   {
    "duration": 35,
    "start_time": "2022-07-03T14:25:39.644Z"
   },
   {
    "duration": 169,
    "start_time": "2022-07-03T14:25:54.979Z"
   },
   {
    "duration": 29,
    "start_time": "2022-07-03T14:26:18.283Z"
   },
   {
    "duration": 287,
    "start_time": "2022-07-03T14:26:18.766Z"
   },
   {
    "duration": 177,
    "start_time": "2022-07-03T14:26:56.909Z"
   },
   {
    "duration": 26,
    "start_time": "2022-07-03T14:27:33.877Z"
   },
   {
    "duration": 10,
    "start_time": "2022-07-03T14:28:05.435Z"
   },
   {
    "duration": 6,
    "start_time": "2022-07-03T14:28:07.741Z"
   },
   {
    "duration": 4,
    "start_time": "2022-07-03T14:28:10.077Z"
   },
   {
    "duration": 17,
    "start_time": "2022-07-03T14:28:32.688Z"
   },
   {
    "duration": 176,
    "start_time": "2022-07-03T14:29:52.264Z"
   },
   {
    "duration": 215,
    "start_time": "2022-07-03T14:30:37.920Z"
   },
   {
    "duration": 183,
    "start_time": "2022-07-03T14:33:11.643Z"
   },
   {
    "duration": 114,
    "start_time": "2022-07-03T14:34:32.848Z"
   },
   {
    "duration": 142,
    "start_time": "2022-07-03T14:35:01.517Z"
   },
   {
    "duration": 118,
    "start_time": "2022-07-03T14:35:40.520Z"
   },
   {
    "duration": 160,
    "start_time": "2022-07-03T14:35:53.849Z"
   },
   {
    "duration": 212,
    "start_time": "2022-07-03T14:37:47.241Z"
   },
   {
    "duration": 9,
    "start_time": "2022-07-03T14:55:18.903Z"
   },
   {
    "duration": 167,
    "start_time": "2022-07-03T14:56:39.437Z"
   },
   {
    "duration": 238,
    "start_time": "2022-07-03T14:57:36.044Z"
   },
   {
    "duration": 163,
    "start_time": "2022-07-03T14:58:26.481Z"
   },
   {
    "duration": 332,
    "start_time": "2022-07-03T14:59:13.037Z"
   },
   {
    "duration": 14,
    "start_time": "2022-07-03T15:01:15.346Z"
   },
   {
    "duration": 7,
    "start_time": "2022-07-03T15:02:17.410Z"
   },
   {
    "duration": 139,
    "start_time": "2022-07-03T15:02:20.571Z"
   },
   {
    "duration": 177,
    "start_time": "2022-07-03T15:02:22.690Z"
   },
   {
    "duration": 16,
    "start_time": "2022-07-03T15:05:36.170Z"
   },
   {
    "duration": 147,
    "start_time": "2022-07-03T15:06:15.249Z"
   },
   {
    "duration": 186,
    "start_time": "2022-07-03T15:08:00.415Z"
   },
   {
    "duration": 278,
    "start_time": "2022-07-03T15:08:24.476Z"
   },
   {
    "duration": 19,
    "start_time": "2022-07-03T15:08:39.945Z"
   },
   {
    "duration": 33,
    "start_time": "2022-07-03T15:10:02.985Z"
   },
   {
    "duration": 380,
    "start_time": "2022-07-03T15:10:10.993Z"
   },
   {
    "duration": 870,
    "start_time": "2022-07-03T15:10:46.245Z"
   },
   {
    "duration": 288,
    "start_time": "2022-07-03T15:10:59.197Z"
   },
   {
    "duration": 201,
    "start_time": "2022-07-03T15:11:22.076Z"
   },
   {
    "duration": 22,
    "start_time": "2022-07-03T15:12:45.440Z"
   },
   {
    "duration": 17,
    "start_time": "2022-07-03T15:17:42.312Z"
   },
   {
    "duration": 148,
    "start_time": "2022-07-03T15:19:19.493Z"
   },
   {
    "duration": 217,
    "start_time": "2022-07-03T15:26:00.949Z"
   },
   {
    "duration": 180,
    "start_time": "2022-07-03T15:26:13.548Z"
   },
   {
    "duration": 136,
    "start_time": "2022-07-03T15:26:39.179Z"
   },
   {
    "duration": 17,
    "start_time": "2022-07-03T15:26:56.619Z"
   },
   {
    "duration": 206,
    "start_time": "2022-07-03T15:27:17.615Z"
   },
   {
    "duration": 859,
    "start_time": "2022-07-03T15:34:40.812Z"
   },
   {
    "duration": 277,
    "start_time": "2022-07-03T15:34:50.592Z"
   },
   {
    "duration": 391,
    "start_time": "2022-07-03T15:35:39.126Z"
   },
   {
    "duration": 385,
    "start_time": "2022-07-03T15:36:11.612Z"
   },
   {
    "duration": 512,
    "start_time": "2022-07-03T15:37:13.501Z"
   },
   {
    "duration": 1334,
    "start_time": "2022-07-04T09:49:55.892Z"
   },
   {
    "duration": 226,
    "start_time": "2022-07-04T09:49:57.228Z"
   },
   {
    "duration": 13,
    "start_time": "2022-07-04T09:49:57.456Z"
   },
   {
    "duration": 4,
    "start_time": "2022-07-04T09:49:58.199Z"
   },
   {
    "duration": 12,
    "start_time": "2022-07-04T09:49:58.397Z"
   },
   {
    "duration": 21,
    "start_time": "2022-07-04T09:49:58.565Z"
   },
   {
    "duration": 7,
    "start_time": "2022-07-04T09:50:00.503Z"
   },
   {
    "duration": 18,
    "start_time": "2022-07-04T09:50:01.163Z"
   },
   {
    "duration": 14,
    "start_time": "2022-07-04T09:50:02.016Z"
   },
   {
    "duration": 9,
    "start_time": "2022-07-04T09:50:05.440Z"
   },
   {
    "duration": 315,
    "start_time": "2022-07-04T09:50:06.459Z"
   },
   {
    "duration": 11,
    "start_time": "2022-07-04T09:58:10.693Z"
   },
   {
    "duration": 11,
    "start_time": "2022-07-04T09:58:12.029Z"
   },
   {
    "duration": 11,
    "start_time": "2022-07-04T09:58:12.366Z"
   },
   {
    "duration": 5,
    "start_time": "2022-07-04T09:58:12.625Z"
   },
   {
    "duration": 5,
    "start_time": "2022-07-04T09:58:12.897Z"
   },
   {
    "duration": 7,
    "start_time": "2022-07-04T09:58:13.366Z"
   },
   {
    "duration": 8,
    "start_time": "2022-07-04T09:58:13.609Z"
   },
   {
    "duration": 5,
    "start_time": "2022-07-04T09:58:14.364Z"
   },
   {
    "duration": 13,
    "start_time": "2022-07-04T09:58:14.691Z"
   },
   {
    "duration": 7,
    "start_time": "2022-07-04T09:58:15.710Z"
   },
   {
    "duration": 3,
    "start_time": "2022-07-04T09:58:17.000Z"
   },
   {
    "duration": 4,
    "start_time": "2022-07-04T09:58:17.340Z"
   },
   {
    "duration": 2,
    "start_time": "2022-07-04T09:58:17.824Z"
   },
   {
    "duration": 2967,
    "start_time": "2022-07-04T09:58:18.297Z"
   },
   {
    "duration": 4,
    "start_time": "2022-07-04T09:58:21.266Z"
   },
   {
    "duration": 4,
    "start_time": "2022-07-04T10:14:13.565Z"
   },
   {
    "duration": 2,
    "start_time": "2022-07-04T10:14:14.705Z"
   },
   {
    "duration": 3578,
    "start_time": "2022-07-04T10:14:15.444Z"
   },
   {
    "duration": 5,
    "start_time": "2022-07-04T10:14:20.906Z"
   },
   {
    "duration": 6,
    "start_time": "2022-07-04T10:14:54.224Z"
   },
   {
    "duration": 2,
    "start_time": "2022-07-04T10:14:55.503Z"
   },
   {
    "duration": 3332,
    "start_time": "2022-07-04T10:14:56.094Z"
   },
   {
    "duration": 6,
    "start_time": "2022-07-04T10:15:00.110Z"
   },
   {
    "duration": 6,
    "start_time": "2022-07-04T10:15:13.838Z"
   },
   {
    "duration": 6,
    "start_time": "2022-07-04T10:15:14.543Z"
   },
   {
    "duration": 3,
    "start_time": "2022-07-04T10:15:16.339Z"
   },
   {
    "duration": 3137,
    "start_time": "2022-07-04T10:15:17.302Z"
   },
   {
    "duration": 4,
    "start_time": "2022-07-04T10:15:21.321Z"
   },
   {
    "duration": 3,
    "start_time": "2022-07-04T10:15:42.311Z"
   },
   {
    "duration": 10,
    "start_time": "2022-07-04T10:15:42.784Z"
   },
   {
    "duration": 3,
    "start_time": "2022-07-04T10:15:43.249Z"
   },
   {
    "duration": 3341,
    "start_time": "2022-07-04T10:15:45.310Z"
   },
   {
    "duration": 5,
    "start_time": "2022-07-04T10:15:49.464Z"
   },
   {
    "duration": 3,
    "start_time": "2022-07-04T10:16:10.195Z"
   },
   {
    "duration": 194,
    "start_time": "2022-07-04T10:16:10.400Z"
   },
   {
    "duration": 10,
    "start_time": "2022-07-04T10:16:10.615Z"
   },
   {
    "duration": 5,
    "start_time": "2022-07-04T10:16:11.202Z"
   },
   {
    "duration": 17,
    "start_time": "2022-07-04T10:16:11.539Z"
   },
   {
    "duration": 31,
    "start_time": "2022-07-04T10:16:11.738Z"
   },
   {
    "duration": 10,
    "start_time": "2022-07-04T10:16:12.302Z"
   },
   {
    "duration": 25,
    "start_time": "2022-07-04T10:16:12.496Z"
   },
   {
    "duration": 17,
    "start_time": "2022-07-04T10:16:12.695Z"
   },
   {
    "duration": 6,
    "start_time": "2022-07-04T10:16:12.885Z"
   },
   {
    "duration": 202,
    "start_time": "2022-07-04T10:16:13.099Z"
   },
   {
    "duration": 11,
    "start_time": "2022-07-04T10:16:13.491Z"
   },
   {
    "duration": 8,
    "start_time": "2022-07-04T10:16:17.713Z"
   },
   {
    "duration": 24,
    "start_time": "2022-07-04T10:16:17.921Z"
   },
   {
    "duration": 4,
    "start_time": "2022-07-04T10:16:18.115Z"
   },
   {
    "duration": 4,
    "start_time": "2022-07-04T10:16:18.410Z"
   },
   {
    "duration": 12,
    "start_time": "2022-07-04T10:16:19.147Z"
   },
   {
    "duration": 9,
    "start_time": "2022-07-04T10:16:19.464Z"
   },
   {
    "duration": 5,
    "start_time": "2022-07-04T10:16:20.015Z"
   },
   {
    "duration": 13,
    "start_time": "2022-07-04T10:16:20.206Z"
   },
   {
    "duration": 7,
    "start_time": "2022-07-04T10:16:20.599Z"
   },
   {
    "duration": 3,
    "start_time": "2022-07-04T10:16:20.954Z"
   },
   {
    "duration": 4,
    "start_time": "2022-07-04T10:16:21.851Z"
   },
   {
    "duration": 3,
    "start_time": "2022-07-04T10:16:22.154Z"
   },
   {
    "duration": 3506,
    "start_time": "2022-07-04T10:16:22.854Z"
   },
   {
    "duration": 5,
    "start_time": "2022-07-04T10:16:26.362Z"
   },
   {
    "duration": 5,
    "start_time": "2022-07-04T10:31:36.060Z"
   },
   {
    "duration": 284,
    "start_time": "2022-07-04T10:31:36.874Z"
   },
   {
    "duration": 230,
    "start_time": "2022-07-04T10:31:38.185Z"
   },
   {
    "duration": 6,
    "start_time": "2022-07-04T10:31:39.354Z"
   },
   {
    "duration": 101,
    "start_time": "2022-07-04T10:31:40.006Z"
   },
   {
    "duration": 189,
    "start_time": "2022-07-04T10:31:40.633Z"
   },
   {
    "duration": 153,
    "start_time": "2022-07-04T10:31:48.185Z"
   },
   {
    "duration": 183,
    "start_time": "2022-07-04T10:32:38.052Z"
   },
   {
    "duration": 499,
    "start_time": "2022-07-04T10:32:42.685Z"
   },
   {
    "duration": 439,
    "start_time": "2022-07-04T10:32:46.266Z"
   },
   {
    "duration": 428,
    "start_time": "2022-07-04T10:34:40.252Z"
   },
   {
    "duration": 222,
    "start_time": "2022-07-04T10:34:41.653Z"
   },
   {
    "duration": 22,
    "start_time": "2022-07-04T10:34:48.743Z"
   },
   {
    "duration": 4,
    "start_time": "2022-07-04T10:34:49.996Z"
   },
   {
    "duration": 16,
    "start_time": "2022-07-04T10:34:54.609Z"
   },
   {
    "duration": 9,
    "start_time": "2022-07-04T10:34:55.389Z"
   },
   {
    "duration": 5,
    "start_time": "2022-07-04T10:34:56.772Z"
   },
   {
    "duration": 2,
    "start_time": "2022-07-04T10:47:21.006Z"
   },
   {
    "duration": 3,
    "start_time": "2022-07-04T10:47:23.099Z"
   },
   {
    "duration": 2,
    "start_time": "2022-07-04T10:47:24.790Z"
   },
   {
    "duration": 3589,
    "start_time": "2022-07-04T10:47:26.740Z"
   },
   {
    "duration": 6,
    "start_time": "2022-07-04T10:47:32.151Z"
   },
   {
    "duration": 2,
    "start_time": "2022-07-04T10:47:44.692Z"
   },
   {
    "duration": 6,
    "start_time": "2022-07-04T10:47:45.387Z"
   },
   {
    "duration": 2,
    "start_time": "2022-07-04T10:47:47.475Z"
   },
   {
    "duration": 3658,
    "start_time": "2022-07-04T10:47:47.816Z"
   },
   {
    "duration": 6,
    "start_time": "2022-07-04T10:47:57.451Z"
   },
   {
    "duration": 4,
    "start_time": "2022-07-04T10:48:21.753Z"
   },
   {
    "duration": 303,
    "start_time": "2022-07-04T10:48:21.986Z"
   },
   {
    "duration": 9,
    "start_time": "2022-07-04T10:48:22.290Z"
   },
   {
    "duration": 4,
    "start_time": "2022-07-04T10:48:22.817Z"
   },
   {
    "duration": 13,
    "start_time": "2022-07-04T10:48:23.050Z"
   },
   {
    "duration": 20,
    "start_time": "2022-07-04T10:48:23.251Z"
   },
   {
    "duration": 9,
    "start_time": "2022-07-04T10:48:23.913Z"
   },
   {
    "duration": 27,
    "start_time": "2022-07-04T10:48:24.132Z"
   },
   {
    "duration": 15,
    "start_time": "2022-07-04T10:48:24.349Z"
   },
   {
    "duration": 8,
    "start_time": "2022-07-04T10:48:24.559Z"
   },
   {
    "duration": 190,
    "start_time": "2022-07-04T10:48:24.779Z"
   },
   {
    "duration": 16,
    "start_time": "2022-07-04T10:48:26.151Z"
   },
   {
    "duration": 8,
    "start_time": "2022-07-04T10:48:27.494Z"
   },
   {
    "duration": 17,
    "start_time": "2022-07-04T10:48:27.747Z"
   },
   {
    "duration": 4,
    "start_time": "2022-07-04T10:48:27.963Z"
   },
   {
    "duration": 6,
    "start_time": "2022-07-04T10:48:28.170Z"
   },
   {
    "duration": 8,
    "start_time": "2022-07-04T10:48:28.676Z"
   },
   {
    "duration": 15,
    "start_time": "2022-07-04T10:48:28.850Z"
   },
   {
    "duration": 2,
    "start_time": "2022-07-04T10:49:07.673Z"
   },
   {
    "duration": 4,
    "start_time": "2022-07-04T10:49:48.474Z"
   },
   {
    "duration": 2,
    "start_time": "2022-07-04T10:49:48.883Z"
   },
   {
    "duration": 3402,
    "start_time": "2022-07-04T10:49:49.882Z"
   },
   {
    "duration": 5,
    "start_time": "2022-07-04T10:49:53.285Z"
   },
   {
    "duration": 1062,
    "start_time": "2022-07-04T10:50:03.593Z"
   },
   {
    "duration": 219,
    "start_time": "2022-07-04T10:50:04.657Z"
   },
   {
    "duration": 13,
    "start_time": "2022-07-04T10:50:04.877Z"
   },
   {
    "duration": 7,
    "start_time": "2022-07-04T10:50:04.892Z"
   },
   {
    "duration": 20,
    "start_time": "2022-07-04T10:50:04.901Z"
   },
   {
    "duration": 27,
    "start_time": "2022-07-04T10:50:04.922Z"
   },
   {
    "duration": 19,
    "start_time": "2022-07-04T10:50:04.950Z"
   },
   {
    "duration": 18,
    "start_time": "2022-07-04T10:50:04.971Z"
   },
   {
    "duration": 14,
    "start_time": "2022-07-04T10:50:04.990Z"
   },
   {
    "duration": 26,
    "start_time": "2022-07-04T10:50:05.007Z"
   },
   {
    "duration": 305,
    "start_time": "2022-07-04T10:50:05.036Z"
   },
   {
    "duration": 19,
    "start_time": "2022-07-04T10:50:05.344Z"
   },
   {
    "duration": 8,
    "start_time": "2022-07-04T10:50:05.365Z"
   },
   {
    "duration": 12,
    "start_time": "2022-07-04T10:50:05.374Z"
   },
   {
    "duration": 5,
    "start_time": "2022-07-04T10:50:05.388Z"
   },
   {
    "duration": 55,
    "start_time": "2022-07-04T10:50:05.395Z"
   },
   {
    "duration": 11,
    "start_time": "2022-07-04T10:50:05.453Z"
   },
   {
    "duration": 22,
    "start_time": "2022-07-04T10:50:05.466Z"
   },
   {
    "duration": 9,
    "start_time": "2022-07-04T10:50:05.492Z"
   },
   {
    "duration": 46,
    "start_time": "2022-07-04T10:50:05.503Z"
   },
   {
    "duration": 12,
    "start_time": "2022-07-04T10:50:05.552Z"
   },
   {
    "duration": 9,
    "start_time": "2022-07-04T10:50:05.566Z"
   },
   {
    "duration": 12,
    "start_time": "2022-07-04T10:50:05.576Z"
   },
   {
    "duration": 13,
    "start_time": "2022-07-04T10:50:05.589Z"
   },
   {
    "duration": 3677,
    "start_time": "2022-07-04T10:50:05.604Z"
   },
   {
    "duration": 6,
    "start_time": "2022-07-04T10:50:09.283Z"
   },
   {
    "duration": 10,
    "start_time": "2022-07-04T10:50:09.292Z"
   },
   {
    "duration": 258,
    "start_time": "2022-07-04T10:50:09.306Z"
   },
   {
    "duration": 211,
    "start_time": "2022-07-04T10:50:09.566Z"
   },
   {
    "duration": 4,
    "start_time": "2022-07-04T10:50:09.778Z"
   },
   {
    "duration": 106,
    "start_time": "2022-07-04T10:50:09.784Z"
   },
   {
    "duration": 168,
    "start_time": "2022-07-04T10:50:09.892Z"
   },
   {
    "duration": 157,
    "start_time": "2022-07-04T10:50:10.063Z"
   },
   {
    "duration": 215,
    "start_time": "2022-07-04T10:50:10.234Z"
   },
   {
    "duration": 464,
    "start_time": "2022-07-04T10:50:10.451Z"
   },
   {
    "duration": 432,
    "start_time": "2022-07-04T10:50:10.917Z"
   },
   {
    "duration": 220,
    "start_time": "2022-07-04T10:50:11.351Z"
   },
   {
    "duration": 10,
    "start_time": "2022-07-04T10:50:11.573Z"
   },
   {
    "duration": 33,
    "start_time": "2022-07-04T10:50:11.584Z"
   },
   {
    "duration": 36,
    "start_time": "2022-07-04T10:50:11.619Z"
   },
   {
    "duration": 18,
    "start_time": "2022-07-04T10:50:11.657Z"
   },
   {
    "duration": 6,
    "start_time": "2022-07-04T10:50:11.677Z"
   },
   {
    "duration": 1141,
    "start_time": "2022-07-04T10:50:30.111Z"
   },
   {
    "duration": 253,
    "start_time": "2022-07-04T10:50:31.256Z"
   },
   {
    "duration": 13,
    "start_time": "2022-07-04T10:50:31.511Z"
   },
   {
    "duration": 16,
    "start_time": "2022-07-04T10:50:31.535Z"
   },
   {
    "duration": 18,
    "start_time": "2022-07-04T10:50:31.552Z"
   },
   {
    "duration": 24,
    "start_time": "2022-07-04T10:50:31.572Z"
   },
   {
    "duration": 7,
    "start_time": "2022-07-04T10:50:31.598Z"
   },
   {
    "duration": 32,
    "start_time": "2022-07-04T10:50:31.607Z"
   },
   {
    "duration": 20,
    "start_time": "2022-07-04T10:50:31.649Z"
   },
   {
    "duration": 7,
    "start_time": "2022-07-04T10:50:31.671Z"
   },
   {
    "duration": 306,
    "start_time": "2022-07-04T10:50:31.680Z"
   },
   {
    "duration": 13,
    "start_time": "2022-07-04T10:50:31.987Z"
   },
   {
    "duration": 12,
    "start_time": "2022-07-04T10:50:32.001Z"
   },
   {
    "duration": 22,
    "start_time": "2022-07-04T10:50:32.035Z"
   },
   {
    "duration": 7,
    "start_time": "2022-07-04T10:50:32.060Z"
   },
   {
    "duration": 4,
    "start_time": "2022-07-04T10:50:32.069Z"
   },
   {
    "duration": 9,
    "start_time": "2022-07-04T10:50:32.075Z"
   },
   {
    "duration": 9,
    "start_time": "2022-07-04T10:50:32.086Z"
   },
   {
    "duration": 57,
    "start_time": "2022-07-04T10:50:32.097Z"
   },
   {
    "duration": 14,
    "start_time": "2022-07-04T10:50:32.158Z"
   },
   {
    "duration": 8,
    "start_time": "2022-07-04T10:50:32.173Z"
   },
   {
    "duration": 12,
    "start_time": "2022-07-04T10:50:32.183Z"
   },
   {
    "duration": 9,
    "start_time": "2022-07-04T10:50:32.197Z"
   },
   {
    "duration": 7,
    "start_time": "2022-07-04T10:50:32.208Z"
   },
   {
    "duration": 3428,
    "start_time": "2022-07-04T10:50:32.216Z"
   },
   {
    "duration": 5,
    "start_time": "2022-07-04T10:50:35.654Z"
   },
   {
    "duration": 6,
    "start_time": "2022-07-04T10:50:35.661Z"
   },
   {
    "duration": 224,
    "start_time": "2022-07-04T10:50:35.671Z"
   },
   {
    "duration": 220,
    "start_time": "2022-07-04T10:50:35.897Z"
   },
   {
    "duration": 22,
    "start_time": "2022-07-04T10:50:36.119Z"
   },
   {
    "duration": 68,
    "start_time": "2022-07-04T10:50:36.151Z"
   },
   {
    "duration": 159,
    "start_time": "2022-07-04T10:50:36.221Z"
   },
   {
    "duration": 170,
    "start_time": "2022-07-04T10:50:36.381Z"
   },
   {
    "duration": 208,
    "start_time": "2022-07-04T10:50:36.553Z"
   },
   {
    "duration": 514,
    "start_time": "2022-07-04T10:50:36.763Z"
   },
   {
    "duration": 485,
    "start_time": "2022-07-04T10:50:37.279Z"
   },
   {
    "duration": 231,
    "start_time": "2022-07-04T10:50:37.765Z"
   },
   {
    "duration": 9,
    "start_time": "2022-07-04T10:50:37.997Z"
   },
   {
    "duration": 9,
    "start_time": "2022-07-04T10:50:38.008Z"
   },
   {
    "duration": 36,
    "start_time": "2022-07-04T10:50:38.032Z"
   },
   {
    "duration": 8,
    "start_time": "2022-07-04T10:50:38.070Z"
   },
   {
    "duration": 6,
    "start_time": "2022-07-04T10:50:38.079Z"
   },
   {
    "duration": 1083,
    "start_time": "2022-07-04T10:51:03.448Z"
   },
   {
    "duration": 212,
    "start_time": "2022-07-04T10:51:04.534Z"
   },
   {
    "duration": 18,
    "start_time": "2022-07-04T10:51:04.753Z"
   },
   {
    "duration": 5,
    "start_time": "2022-07-04T10:51:04.773Z"
   },
   {
    "duration": 13,
    "start_time": "2022-07-04T10:51:04.780Z"
   },
   {
    "duration": 19,
    "start_time": "2022-07-04T10:51:04.795Z"
   },
   {
    "duration": 26,
    "start_time": "2022-07-04T10:51:04.815Z"
   },
   {
    "duration": 34,
    "start_time": "2022-07-04T10:51:04.843Z"
   },
   {
    "duration": 12,
    "start_time": "2022-07-04T10:51:04.879Z"
   },
   {
    "duration": 6,
    "start_time": "2022-07-04T10:51:04.892Z"
   },
   {
    "duration": 294,
    "start_time": "2022-07-04T10:51:04.899Z"
   },
   {
    "duration": 12,
    "start_time": "2022-07-04T10:51:05.195Z"
   },
   {
    "duration": 18,
    "start_time": "2022-07-04T10:51:05.208Z"
   },
   {
    "duration": 14,
    "start_time": "2022-07-04T10:51:05.229Z"
   },
   {
    "duration": 22,
    "start_time": "2022-07-04T10:51:05.250Z"
   },
   {
    "duration": 9,
    "start_time": "2022-07-04T10:51:05.273Z"
   },
   {
    "duration": 10,
    "start_time": "2022-07-04T10:51:05.284Z"
   },
   {
    "duration": 9,
    "start_time": "2022-07-04T10:51:05.296Z"
   },
   {
    "duration": 5,
    "start_time": "2022-07-04T10:51:05.307Z"
   },
   {
    "duration": 36,
    "start_time": "2022-07-04T10:51:05.313Z"
   },
   {
    "duration": 14,
    "start_time": "2022-07-04T10:51:05.351Z"
   },
   {
    "duration": 6,
    "start_time": "2022-07-04T10:51:05.366Z"
   },
   {
    "duration": 8,
    "start_time": "2022-07-04T10:51:05.373Z"
   },
   {
    "duration": 4,
    "start_time": "2022-07-04T10:51:05.383Z"
   },
   {
    "duration": 3364,
    "start_time": "2022-07-04T10:51:05.389Z"
   },
   {
    "duration": 7,
    "start_time": "2022-07-04T10:51:08.766Z"
   },
   {
    "duration": 10,
    "start_time": "2022-07-04T10:51:08.775Z"
   },
   {
    "duration": 264,
    "start_time": "2022-07-04T10:51:08.786Z"
   },
   {
    "duration": 211,
    "start_time": "2022-07-04T10:51:09.052Z"
   },
   {
    "duration": 3,
    "start_time": "2022-07-04T10:51:09.267Z"
   },
   {
    "duration": 95,
    "start_time": "2022-07-04T10:51:09.272Z"
   },
   {
    "duration": 157,
    "start_time": "2022-07-04T10:51:09.368Z"
   },
   {
    "duration": 155,
    "start_time": "2022-07-04T10:51:09.528Z"
   },
   {
    "duration": 194,
    "start_time": "2022-07-04T10:51:09.684Z"
   },
   {
    "duration": 483,
    "start_time": "2022-07-04T10:51:09.879Z"
   },
   {
    "duration": 470,
    "start_time": "2022-07-04T10:51:10.364Z"
   },
   {
    "duration": 241,
    "start_time": "2022-07-04T10:51:10.837Z"
   },
   {
    "duration": 9,
    "start_time": "2022-07-04T10:51:11.080Z"
   },
   {
    "duration": 8,
    "start_time": "2022-07-04T10:51:11.090Z"
   },
   {
    "duration": 49,
    "start_time": "2022-07-04T10:51:11.100Z"
   },
   {
    "duration": 9,
    "start_time": "2022-07-04T10:51:11.159Z"
   },
   {
    "duration": 5,
    "start_time": "2022-07-04T10:51:11.170Z"
   },
   {
    "duration": 3,
    "start_time": "2022-07-04T10:52:39.677Z"
   },
   {
    "duration": 1149,
    "start_time": "2022-07-04T10:52:51.174Z"
   },
   {
    "duration": 264,
    "start_time": "2022-07-04T10:52:52.325Z"
   },
   {
    "duration": 13,
    "start_time": "2022-07-04T10:52:52.591Z"
   },
   {
    "duration": 4,
    "start_time": "2022-07-04T10:52:52.606Z"
   },
   {
    "duration": 33,
    "start_time": "2022-07-04T10:52:52.612Z"
   },
   {
    "duration": 28,
    "start_time": "2022-07-04T10:52:52.655Z"
   },
   {
    "duration": 7,
    "start_time": "2022-07-04T10:52:52.685Z"
   },
   {
    "duration": 19,
    "start_time": "2022-07-04T10:52:52.693Z"
   },
   {
    "duration": 20,
    "start_time": "2022-07-04T10:52:52.713Z"
   },
   {
    "duration": 8,
    "start_time": "2022-07-04T10:52:52.755Z"
   },
   {
    "duration": 309,
    "start_time": "2022-07-04T10:52:52.765Z"
   },
   {
    "duration": 12,
    "start_time": "2022-07-04T10:52:53.076Z"
   },
   {
    "duration": 11,
    "start_time": "2022-07-04T10:52:53.090Z"
   },
   {
    "duration": 34,
    "start_time": "2022-07-04T10:52:53.103Z"
   },
   {
    "duration": 7,
    "start_time": "2022-07-04T10:52:53.151Z"
   },
   {
    "duration": 6,
    "start_time": "2022-07-04T10:52:53.160Z"
   },
   {
    "duration": 13,
    "start_time": "2022-07-04T10:52:53.168Z"
   },
   {
    "duration": 8,
    "start_time": "2022-07-04T10:52:53.182Z"
   },
   {
    "duration": 4,
    "start_time": "2022-07-04T10:52:53.192Z"
   },
   {
    "duration": 13,
    "start_time": "2022-07-04T10:52:53.198Z"
   },
   {
    "duration": 23,
    "start_time": "2022-07-04T10:52:53.226Z"
   },
   {
    "duration": 4,
    "start_time": "2022-07-04T10:52:53.258Z"
   },
   {
    "duration": 6,
    "start_time": "2022-07-04T10:52:53.264Z"
   },
   {
    "duration": 3566,
    "start_time": "2022-07-04T10:52:53.272Z"
   },
   {
    "duration": 18,
    "start_time": "2022-07-04T10:52:56.840Z"
   },
   {
    "duration": 14,
    "start_time": "2022-07-04T10:52:56.863Z"
   },
   {
    "duration": 280,
    "start_time": "2022-07-04T10:52:56.879Z"
   },
   {
    "duration": 200,
    "start_time": "2022-07-04T10:52:57.161Z"
   },
   {
    "duration": 3,
    "start_time": "2022-07-04T10:52:57.363Z"
   },
   {
    "duration": 88,
    "start_time": "2022-07-04T10:52:57.368Z"
   },
   {
    "duration": 152,
    "start_time": "2022-07-04T10:52:57.458Z"
   },
   {
    "duration": 176,
    "start_time": "2022-07-04T10:52:57.611Z"
   },
   {
    "duration": 192,
    "start_time": "2022-07-04T10:52:57.789Z"
   },
   {
    "duration": 488,
    "start_time": "2022-07-04T10:52:57.983Z"
   },
   {
    "duration": 458,
    "start_time": "2022-07-04T10:52:58.473Z"
   },
   {
    "duration": 240,
    "start_time": "2022-07-04T10:52:58.933Z"
   },
   {
    "duration": 9,
    "start_time": "2022-07-04T10:52:59.175Z"
   },
   {
    "duration": 6,
    "start_time": "2022-07-04T10:52:59.185Z"
   },
   {
    "duration": 33,
    "start_time": "2022-07-04T10:52:59.192Z"
   },
   {
    "duration": 16,
    "start_time": "2022-07-04T10:52:59.227Z"
   },
   {
    "duration": 11,
    "start_time": "2022-07-04T10:52:59.248Z"
   },
   {
    "duration": 139,
    "start_time": "2022-07-04T12:52:23.276Z"
   },
   {
    "duration": 320,
    "start_time": "2022-07-04T12:55:53.353Z"
   },
   {
    "duration": 363,
    "start_time": "2022-07-04T12:57:05.893Z"
   },
   {
    "duration": 398,
    "start_time": "2022-07-04T13:13:13.356Z"
   },
   {
    "duration": 528,
    "start_time": "2022-07-04T13:16:06.065Z"
   },
   {
    "duration": 13,
    "start_time": "2022-07-04T14:00:52.031Z"
   },
   {
    "duration": 8,
    "start_time": "2022-07-04T14:01:48.180Z"
   },
   {
    "duration": 4,
    "start_time": "2022-07-04T14:01:50.004Z"
   },
   {
    "duration": 202,
    "start_time": "2022-07-04T14:01:50.948Z"
   },
   {
    "duration": 176,
    "start_time": "2022-07-04T14:01:54.872Z"
   },
   {
    "duration": 3,
    "start_time": "2022-07-04T14:01:59.398Z"
   },
   {
    "duration": 61,
    "start_time": "2022-07-04T14:02:01.148Z"
   },
   {
    "duration": 139,
    "start_time": "2022-07-04T14:02:01.988Z"
   },
   {
    "duration": 127,
    "start_time": "2022-07-04T14:02:07.110Z"
   },
   {
    "duration": 331,
    "start_time": "2022-07-04T14:02:14.439Z"
   },
   {
    "duration": 369,
    "start_time": "2022-07-04T14:02:19.719Z"
   },
   {
    "duration": 1019,
    "start_time": "2022-07-04T14:02:32.333Z"
   },
   {
    "duration": 404,
    "start_time": "2022-07-04T14:02:33.354Z"
   },
   {
    "duration": 14,
    "start_time": "2022-07-04T14:02:33.760Z"
   },
   {
    "duration": 4,
    "start_time": "2022-07-04T14:02:33.775Z"
   },
   {
    "duration": 11,
    "start_time": "2022-07-04T14:02:33.782Z"
   },
   {
    "duration": 36,
    "start_time": "2022-07-04T14:02:33.795Z"
   },
   {
    "duration": 7,
    "start_time": "2022-07-04T14:02:33.832Z"
   },
   {
    "duration": 20,
    "start_time": "2022-07-04T14:02:33.840Z"
   },
   {
    "duration": 12,
    "start_time": "2022-07-04T14:02:33.862Z"
   },
   {
    "duration": 5,
    "start_time": "2022-07-04T14:02:33.876Z"
   },
   {
    "duration": 289,
    "start_time": "2022-07-04T14:02:33.883Z"
   },
   {
    "duration": 13,
    "start_time": "2022-07-04T14:02:34.174Z"
   },
   {
    "duration": 12,
    "start_time": "2022-07-04T14:02:34.189Z"
   },
   {
    "duration": 27,
    "start_time": "2022-07-04T14:02:34.204Z"
   },
   {
    "duration": 5,
    "start_time": "2022-07-04T14:02:34.232Z"
   },
   {
    "duration": 6,
    "start_time": "2022-07-04T14:02:34.240Z"
   },
   {
    "duration": 12,
    "start_time": "2022-07-04T14:02:34.248Z"
   },
   {
    "duration": 9,
    "start_time": "2022-07-04T14:02:34.262Z"
   },
   {
    "duration": 5,
    "start_time": "2022-07-04T14:02:34.272Z"
   },
   {
    "duration": 47,
    "start_time": "2022-07-04T14:02:34.279Z"
   },
   {
    "duration": 7,
    "start_time": "2022-07-04T14:02:34.328Z"
   },
   {
    "duration": 6,
    "start_time": "2022-07-04T14:02:34.337Z"
   },
   {
    "duration": 5,
    "start_time": "2022-07-04T14:02:34.345Z"
   },
   {
    "duration": 3151,
    "start_time": "2022-07-04T14:02:34.352Z"
   },
   {
    "duration": 5,
    "start_time": "2022-07-04T14:02:37.505Z"
   },
   {
    "duration": 26,
    "start_time": "2022-07-04T14:02:37.512Z"
   },
   {
    "duration": 12,
    "start_time": "2022-07-04T14:02:37.540Z"
   },
   {
    "duration": 6,
    "start_time": "2022-07-04T14:02:37.554Z"
   },
   {
    "duration": 224,
    "start_time": "2022-07-04T14:02:37.562Z"
   },
   {
    "duration": 173,
    "start_time": "2022-07-04T14:02:37.787Z"
   },
   {
    "duration": 3,
    "start_time": "2022-07-04T14:02:37.962Z"
   },
   {
    "duration": 73,
    "start_time": "2022-07-04T14:02:37.966Z"
   },
   {
    "duration": 140,
    "start_time": "2022-07-04T14:02:38.041Z"
   },
   {
    "duration": 142,
    "start_time": "2022-07-04T14:02:38.183Z"
   },
   {
    "duration": 354,
    "start_time": "2022-07-04T14:02:38.328Z"
   },
   {
    "duration": 479,
    "start_time": "2022-07-04T14:02:38.684Z"
   },
   {
    "duration": 471,
    "start_time": "2022-07-04T14:02:39.165Z"
   },
   {
    "duration": 198,
    "start_time": "2022-07-04T14:02:39.638Z"
   },
   {
    "duration": 10,
    "start_time": "2022-07-04T14:02:39.838Z"
   },
   {
    "duration": 6,
    "start_time": "2022-07-04T14:02:39.850Z"
   },
   {
    "duration": 30,
    "start_time": "2022-07-04T14:02:39.859Z"
   },
   {
    "duration": 8,
    "start_time": "2022-07-04T14:02:39.891Z"
   },
   {
    "duration": 12,
    "start_time": "2022-07-04T14:02:39.900Z"
   },
   {
    "duration": 95,
    "start_time": "2022-07-04T15:53:52.382Z"
   },
   {
    "duration": 95,
    "start_time": "2022-07-04T15:55:10.565Z"
   },
   {
    "duration": 93,
    "start_time": "2022-07-04T15:55:33.270Z"
   },
   {
    "duration": 106,
    "start_time": "2022-07-04T16:09:16.964Z"
   },
   {
    "duration": 179,
    "start_time": "2022-07-04T16:09:34.810Z"
   },
   {
    "duration": 205,
    "start_time": "2022-07-04T16:10:13.992Z"
   },
   {
    "duration": 121,
    "start_time": "2022-07-04T16:10:52.730Z"
   },
   {
    "duration": 181,
    "start_time": "2022-07-04T16:10:58.875Z"
   },
   {
    "duration": 111,
    "start_time": "2022-07-04T16:15:01.954Z"
   },
   {
    "duration": 356,
    "start_time": "2022-07-04T18:25:04.602Z"
   },
   {
    "duration": 137,
    "start_time": "2022-07-04T18:25:20.271Z"
   },
   {
    "duration": 146,
    "start_time": "2022-07-04T18:25:29.151Z"
   },
   {
    "duration": 140,
    "start_time": "2022-07-04T18:27:00.775Z"
   },
   {
    "duration": 142,
    "start_time": "2022-07-04T18:30:38.508Z"
   },
   {
    "duration": 165,
    "start_time": "2022-07-04T18:31:07.109Z"
   },
   {
    "duration": 140,
    "start_time": "2022-07-04T18:31:28.683Z"
   },
   {
    "duration": 467,
    "start_time": "2022-07-04T18:31:43.193Z"
   },
   {
    "duration": 202,
    "start_time": "2022-07-04T18:31:53.012Z"
   },
   {
    "duration": 132,
    "start_time": "2022-07-04T18:43:37.964Z"
   },
   {
    "duration": 124,
    "start_time": "2022-07-04T18:44:45.932Z"
   },
   {
    "duration": 1012,
    "start_time": "2022-07-04T21:17:24.310Z"
   },
   {
    "duration": 376,
    "start_time": "2022-07-04T21:17:25.325Z"
   },
   {
    "duration": 13,
    "start_time": "2022-07-04T21:17:25.702Z"
   },
   {
    "duration": 3,
    "start_time": "2022-07-04T21:17:25.716Z"
   },
   {
    "duration": 14,
    "start_time": "2022-07-04T21:17:25.721Z"
   },
   {
    "duration": 19,
    "start_time": "2022-07-04T21:17:25.736Z"
   },
   {
    "duration": 7,
    "start_time": "2022-07-04T21:17:25.757Z"
   },
   {
    "duration": 19,
    "start_time": "2022-07-04T21:17:25.766Z"
   },
   {
    "duration": 12,
    "start_time": "2022-07-04T21:17:25.787Z"
   },
   {
    "duration": 7,
    "start_time": "2022-07-04T21:17:25.825Z"
   },
   {
    "duration": 244,
    "start_time": "2022-07-04T21:17:25.834Z"
   },
   {
    "duration": 11,
    "start_time": "2022-07-04T21:17:26.080Z"
   },
   {
    "duration": 13,
    "start_time": "2022-07-04T21:17:26.093Z"
   },
   {
    "duration": 22,
    "start_time": "2022-07-04T21:17:26.108Z"
   },
   {
    "duration": 4,
    "start_time": "2022-07-04T21:17:26.132Z"
   },
   {
    "duration": 6,
    "start_time": "2022-07-04T21:17:26.138Z"
   },
   {
    "duration": 10,
    "start_time": "2022-07-04T21:17:26.145Z"
   },
   {
    "duration": 7,
    "start_time": "2022-07-04T21:17:26.157Z"
   },
   {
    "duration": 5,
    "start_time": "2022-07-04T21:17:26.165Z"
   },
   {
    "duration": 16,
    "start_time": "2022-07-04T21:17:26.172Z"
   },
   {
    "duration": 36,
    "start_time": "2022-07-04T21:17:26.189Z"
   },
   {
    "duration": 2,
    "start_time": "2022-07-04T21:17:26.227Z"
   },
   {
    "duration": 8,
    "start_time": "2022-07-04T21:17:26.230Z"
   },
   {
    "duration": 3075,
    "start_time": "2022-07-04T21:17:26.239Z"
   },
   {
    "duration": 11,
    "start_time": "2022-07-04T21:17:29.315Z"
   },
   {
    "duration": 7,
    "start_time": "2022-07-04T21:17:29.328Z"
   },
   {
    "duration": 216,
    "start_time": "2022-07-04T21:17:29.336Z"
   },
   {
    "duration": 187,
    "start_time": "2022-07-04T21:17:29.556Z"
   },
   {
    "duration": 3,
    "start_time": "2022-07-04T21:17:29.745Z"
   },
   {
    "duration": 70,
    "start_time": "2022-07-04T21:17:29.750Z"
   },
   {
    "duration": 151,
    "start_time": "2022-07-04T21:17:29.821Z"
   },
   {
    "duration": 120,
    "start_time": "2022-07-04T21:17:29.973Z"
   },
   {
    "duration": 143,
    "start_time": "2022-07-04T21:17:30.095Z"
   },
   {
    "duration": 392,
    "start_time": "2022-07-04T21:17:30.240Z"
   },
   {
    "duration": 363,
    "start_time": "2022-07-04T21:17:30.634Z"
   },
   {
    "duration": 476,
    "start_time": "2022-07-04T21:17:30.999Z"
   },
   {
    "duration": 201,
    "start_time": "2022-07-04T21:17:31.477Z"
   },
   {
    "duration": 8,
    "start_time": "2022-07-04T21:17:31.680Z"
   },
   {
    "duration": 8,
    "start_time": "2022-07-04T21:17:31.690Z"
   },
   {
    "duration": 29,
    "start_time": "2022-07-04T21:17:31.699Z"
   },
   {
    "duration": 8,
    "start_time": "2022-07-04T21:17:31.730Z"
   },
   {
    "duration": 9,
    "start_time": "2022-07-04T21:17:31.739Z"
   },
   {
    "duration": 1168,
    "start_time": "2022-07-08T10:32:56.560Z"
   },
   {
    "duration": 254,
    "start_time": "2022-07-08T10:32:57.731Z"
   },
   {
    "duration": 12,
    "start_time": "2022-07-08T10:32:57.986Z"
   },
   {
    "duration": 4,
    "start_time": "2022-07-08T10:32:58.001Z"
   },
   {
    "duration": 19,
    "start_time": "2022-07-08T10:32:58.006Z"
   },
   {
    "duration": 30,
    "start_time": "2022-07-08T10:32:58.196Z"
   },
   {
    "duration": 10,
    "start_time": "2022-07-08T10:32:58.862Z"
   },
   {
    "duration": 27,
    "start_time": "2022-07-08T10:32:59.216Z"
   },
   {
    "duration": 20,
    "start_time": "2022-07-08T10:32:59.383Z"
   },
   {
    "duration": 8,
    "start_time": "2022-07-08T10:32:59.577Z"
   },
   {
    "duration": 260,
    "start_time": "2022-07-08T10:32:59.745Z"
   },
   {
    "duration": 12,
    "start_time": "2022-07-08T10:33:00.096Z"
   },
   {
    "duration": 9,
    "start_time": "2022-07-08T10:33:00.973Z"
   },
   {
    "duration": 12,
    "start_time": "2022-07-08T10:33:01.195Z"
   },
   {
    "duration": 6,
    "start_time": "2022-07-08T10:33:01.374Z"
   },
   {
    "duration": 5,
    "start_time": "2022-07-08T10:33:01.557Z"
   },
   {
    "duration": 9,
    "start_time": "2022-07-08T10:33:01.941Z"
   },
   {
    "duration": 9,
    "start_time": "2022-07-08T10:33:02.118Z"
   },
   {
    "duration": 6,
    "start_time": "2022-07-08T10:33:02.541Z"
   },
   {
    "duration": 14,
    "start_time": "2022-07-08T10:33:02.742Z"
   },
   {
    "duration": 9,
    "start_time": "2022-07-08T10:33:03.295Z"
   },
   {
    "duration": 3,
    "start_time": "2022-07-08T10:33:03.660Z"
   },
   {
    "duration": 5,
    "start_time": "2022-07-08T10:33:03.851Z"
   },
   {
    "duration": 3318,
    "start_time": "2022-07-08T10:33:04.028Z"
   },
   {
    "duration": 6,
    "start_time": "2022-07-08T10:33:07.348Z"
   },
   {
    "duration": 16,
    "start_time": "2022-07-08T10:33:07.355Z"
   },
   {
    "duration": 223,
    "start_time": "2022-07-08T10:33:07.373Z"
   },
   {
    "duration": 92,
    "start_time": "2022-07-08T10:33:22.956Z"
   },
   {
    "duration": 15,
    "start_time": "2022-07-08T10:33:33.960Z"
   },
   {
    "duration": 3482,
    "start_time": "2022-07-08T10:34:03.889Z"
   },
   {
    "duration": 11,
    "start_time": "2022-07-08T10:34:18.106Z"
   },
   {
    "duration": 3,
    "start_time": "2022-07-08T10:34:57.307Z"
   },
   {
    "duration": 17,
    "start_time": "2022-07-08T10:35:11.988Z"
   },
   {
    "duration": 3,
    "start_time": "2022-07-08T10:35:32.495Z"
   },
   {
    "duration": 6,
    "start_time": "2022-07-08T10:35:41.228Z"
   },
   {
    "duration": 23,
    "start_time": "2022-07-08T10:38:12.554Z"
   },
   {
    "duration": 145,
    "start_time": "2022-07-08T10:38:30.097Z"
   },
   {
    "duration": 1770,
    "start_time": "2022-07-08T10:40:01.824Z"
   },
   {
    "duration": 39,
    "start_time": "2022-07-08T10:41:01.146Z"
   },
   {
    "duration": 6,
    "start_time": "2022-07-08T10:42:28.849Z"
   },
   {
    "duration": 30,
    "start_time": "2022-07-08T10:46:21.685Z"
   },
   {
    "duration": 8,
    "start_time": "2022-07-08T10:46:53.150Z"
   },
   {
    "duration": 26,
    "start_time": "2022-07-08T10:46:54.526Z"
   },
   {
    "duration": 69,
    "start_time": "2022-07-08T10:47:51.684Z"
   },
   {
    "duration": 63,
    "start_time": "2022-07-08T10:48:06.176Z"
   },
   {
    "duration": 8,
    "start_time": "2022-07-08T10:48:06.837Z"
   },
   {
    "duration": 24,
    "start_time": "2022-07-08T10:48:07.464Z"
   },
   {
    "duration": 17,
    "start_time": "2022-07-08T10:48:15.125Z"
   },
   {
    "duration": 999,
    "start_time": "2022-07-08T10:48:57.576Z"
   },
   {
    "duration": 117,
    "start_time": "2022-07-08T10:48:59.246Z"
   },
   {
    "duration": 13,
    "start_time": "2022-07-08T10:48:59.431Z"
   },
   {
    "duration": 4,
    "start_time": "2022-07-08T10:49:00.125Z"
   },
   {
    "duration": 17,
    "start_time": "2022-07-08T10:49:00.288Z"
   },
   {
    "duration": 21,
    "start_time": "2022-07-08T10:49:00.451Z"
   },
   {
    "duration": 11,
    "start_time": "2022-07-08T10:49:01.116Z"
   },
   {
    "duration": 22,
    "start_time": "2022-07-08T10:49:01.652Z"
   },
   {
    "duration": 16,
    "start_time": "2022-07-08T10:49:01.842Z"
   },
   {
    "duration": 8,
    "start_time": "2022-07-08T10:49:02.002Z"
   },
   {
    "duration": 258,
    "start_time": "2022-07-08T10:49:02.179Z"
   },
   {
    "duration": 12,
    "start_time": "2022-07-08T10:49:02.778Z"
   },
   {
    "duration": 9,
    "start_time": "2022-07-08T10:49:03.898Z"
   },
   {
    "duration": 16,
    "start_time": "2022-07-08T10:49:04.075Z"
   },
   {
    "duration": 6,
    "start_time": "2022-07-08T10:49:04.260Z"
   },
   {
    "duration": 6,
    "start_time": "2022-07-08T10:49:04.453Z"
   },
   {
    "duration": 10,
    "start_time": "2022-07-08T10:49:05.075Z"
   },
   {
    "duration": 9,
    "start_time": "2022-07-08T10:49:05.405Z"
   },
   {
    "duration": 6,
    "start_time": "2022-07-08T10:49:06.144Z"
   },
   {
    "duration": 18,
    "start_time": "2022-07-08T10:49:06.406Z"
   },
   {
    "duration": 10,
    "start_time": "2022-07-08T10:49:06.892Z"
   },
   {
    "duration": 3,
    "start_time": "2022-07-08T10:49:07.627Z"
   },
   {
    "duration": 6,
    "start_time": "2022-07-08T10:49:07.813Z"
   },
   {
    "duration": 3267,
    "start_time": "2022-07-08T10:49:08.224Z"
   },
   {
    "duration": 5,
    "start_time": "2022-07-08T10:49:11.494Z"
   },
   {
    "duration": 5,
    "start_time": "2022-07-08T10:49:13.408Z"
   },
   {
    "duration": 218,
    "start_time": "2022-07-08T10:49:14.677Z"
   },
   {
    "duration": 10,
    "start_time": "2022-07-08T10:49:19.460Z"
   },
   {
    "duration": 35,
    "start_time": "2022-07-08T10:49:20.027Z"
   },
   {
    "duration": 9,
    "start_time": "2022-07-08T10:49:20.645Z"
   },
   {
    "duration": 7,
    "start_time": "2022-07-08T10:49:21.799Z"
   },
   {
    "duration": 1475,
    "start_time": "2022-07-08T10:49:23.628Z"
   },
   {
    "duration": 530,
    "start_time": "2022-07-08T10:49:45.808Z"
   },
   {
    "duration": 10,
    "start_time": "2022-07-08T10:49:57.857Z"
   },
   {
    "duration": 15,
    "start_time": "2022-07-08T11:01:23.759Z"
   },
   {
    "duration": 7,
    "start_time": "2022-07-08T11:01:28.485Z"
   },
   {
    "duration": 7,
    "start_time": "2022-07-08T11:01:32.198Z"
   },
   {
    "duration": 18,
    "start_time": "2022-07-08T11:01:35.756Z"
   },
   {
    "duration": 22,
    "start_time": "2022-07-08T11:03:03.660Z"
   },
   {
    "duration": 542,
    "start_time": "2022-07-08T11:04:17.484Z"
   },
   {
    "duration": 470,
    "start_time": "2022-07-08T11:04:45.389Z"
   },
   {
    "duration": 12,
    "start_time": "2022-07-08T11:05:17.047Z"
   },
   {
    "duration": 15,
    "start_time": "2022-07-08T11:05:52.168Z"
   },
   {
    "duration": 8,
    "start_time": "2022-07-08T11:09:44.913Z"
   },
   {
    "duration": 5,
    "start_time": "2022-07-08T13:56:03.605Z"
   },
   {
    "duration": 9,
    "start_time": "2022-07-08T13:56:13.406Z"
   },
   {
    "duration": 9,
    "start_time": "2022-07-08T13:56:21.777Z"
   },
   {
    "duration": 16,
    "start_time": "2022-07-08T14:19:45.680Z"
   },
   {
    "duration": 19,
    "start_time": "2022-07-08T14:19:53.414Z"
   },
   {
    "duration": 46,
    "start_time": "2022-07-08T14:19:58.205Z"
   },
   {
    "duration": 7,
    "start_time": "2022-07-08T14:19:59.121Z"
   },
   {
    "duration": 8,
    "start_time": "2022-07-08T14:19:59.897Z"
   },
   {
    "duration": 10,
    "start_time": "2022-07-08T14:20:04.184Z"
   },
   {
    "duration": 14,
    "start_time": "2022-07-08T14:20:23.688Z"
   },
   {
    "duration": 18,
    "start_time": "2022-07-08T14:23:00.800Z"
   },
   {
    "duration": 61,
    "start_time": "2022-07-08T14:23:11.739Z"
   },
   {
    "duration": 55,
    "start_time": "2022-07-08T14:23:53.463Z"
   },
   {
    "duration": 12,
    "start_time": "2022-07-08T14:23:55.095Z"
   },
   {
    "duration": 8,
    "start_time": "2022-07-08T14:23:56.599Z"
   },
   {
    "duration": 9,
    "start_time": "2022-07-08T14:23:57.657Z"
   },
   {
    "duration": 978,
    "start_time": "2022-07-08T14:24:15.590Z"
   },
   {
    "duration": 5,
    "start_time": "2022-07-08T14:25:21.493Z"
   },
   {
    "duration": 1057,
    "start_time": "2022-07-08T14:25:46.403Z"
   },
   {
    "duration": 201,
    "start_time": "2022-07-08T14:25:47.461Z"
   },
   {
    "duration": 16,
    "start_time": "2022-07-08T14:25:47.664Z"
   },
   {
    "duration": 8,
    "start_time": "2022-07-08T14:25:47.683Z"
   },
   {
    "duration": 16,
    "start_time": "2022-07-08T14:25:47.693Z"
   },
   {
    "duration": 22,
    "start_time": "2022-07-08T14:25:47.711Z"
   },
   {
    "duration": 8,
    "start_time": "2022-07-08T14:25:47.735Z"
   },
   {
    "duration": 36,
    "start_time": "2022-07-08T14:25:47.744Z"
   },
   {
    "duration": 17,
    "start_time": "2022-07-08T14:25:47.782Z"
   },
   {
    "duration": 19,
    "start_time": "2022-07-08T14:25:47.804Z"
   },
   {
    "duration": 279,
    "start_time": "2022-07-08T14:25:47.825Z"
   },
   {
    "duration": 14,
    "start_time": "2022-07-08T14:25:48.105Z"
   },
   {
    "duration": 18,
    "start_time": "2022-07-08T14:25:48.121Z"
   },
   {
    "duration": 30,
    "start_time": "2022-07-08T14:25:48.141Z"
   },
   {
    "duration": 8,
    "start_time": "2022-07-08T14:25:48.172Z"
   },
   {
    "duration": 19,
    "start_time": "2022-07-08T14:25:48.181Z"
   },
   {
    "duration": 20,
    "start_time": "2022-07-08T14:25:48.203Z"
   },
   {
    "duration": 18,
    "start_time": "2022-07-08T14:25:48.225Z"
   },
   {
    "duration": 14,
    "start_time": "2022-07-08T14:25:48.245Z"
   },
   {
    "duration": 18,
    "start_time": "2022-07-08T14:25:48.261Z"
   },
   {
    "duration": 9,
    "start_time": "2022-07-08T14:25:48.281Z"
   },
   {
    "duration": 7,
    "start_time": "2022-07-08T14:25:48.292Z"
   },
   {
    "duration": 10,
    "start_time": "2022-07-08T14:25:48.300Z"
   },
   {
    "duration": 3122,
    "start_time": "2022-07-08T14:25:48.312Z"
   },
   {
    "duration": 7,
    "start_time": "2022-07-08T14:25:51.436Z"
   },
   {
    "duration": 7,
    "start_time": "2022-07-08T14:25:51.461Z"
   },
   {
    "duration": 262,
    "start_time": "2022-07-08T14:25:51.470Z"
   },
   {
    "duration": 10,
    "start_time": "2022-07-08T14:25:51.735Z"
   },
   {
    "duration": 47,
    "start_time": "2022-07-08T14:25:51.746Z"
   },
   {
    "duration": 13,
    "start_time": "2022-07-08T14:25:51.795Z"
   },
   {
    "duration": 32,
    "start_time": "2022-07-08T14:25:51.811Z"
   },
   {
    "duration": 15,
    "start_time": "2022-07-08T14:25:51.846Z"
   },
   {
    "duration": 1004,
    "start_time": "2022-07-08T14:25:51.863Z"
   },
   {
    "duration": 0,
    "start_time": "2022-07-08T14:25:52.869Z"
   },
   {
    "duration": 0,
    "start_time": "2022-07-08T14:25:52.871Z"
   },
   {
    "duration": 0,
    "start_time": "2022-07-08T14:25:52.873Z"
   },
   {
    "duration": 0,
    "start_time": "2022-07-08T14:25:52.875Z"
   },
   {
    "duration": 0,
    "start_time": "2022-07-08T14:25:52.877Z"
   },
   {
    "duration": 0,
    "start_time": "2022-07-08T14:25:52.878Z"
   },
   {
    "duration": 0,
    "start_time": "2022-07-08T14:25:52.880Z"
   },
   {
    "duration": 0,
    "start_time": "2022-07-08T14:25:52.882Z"
   },
   {
    "duration": 0,
    "start_time": "2022-07-08T14:25:52.885Z"
   },
   {
    "duration": 0,
    "start_time": "2022-07-08T14:25:52.886Z"
   },
   {
    "duration": 0,
    "start_time": "2022-07-08T14:25:52.888Z"
   },
   {
    "duration": 0,
    "start_time": "2022-07-08T14:25:52.889Z"
   },
   {
    "duration": 0,
    "start_time": "2022-07-08T14:25:52.891Z"
   },
   {
    "duration": 0,
    "start_time": "2022-07-08T14:25:52.893Z"
   },
   {
    "duration": 1,
    "start_time": "2022-07-08T14:25:52.894Z"
   },
   {
    "duration": 4,
    "start_time": "2022-07-08T14:54:33.551Z"
   },
   {
    "duration": 4,
    "start_time": "2022-07-08T15:06:28.085Z"
   },
   {
    "duration": 5,
    "start_time": "2022-07-08T15:06:40.977Z"
   },
   {
    "duration": 4,
    "start_time": "2022-07-08T15:19:39.897Z"
   },
   {
    "duration": 11,
    "start_time": "2022-07-08T15:19:39.904Z"
   },
   {
    "duration": 4,
    "start_time": "2022-07-08T15:32:52.174Z"
   },
   {
    "duration": 5,
    "start_time": "2022-07-08T15:32:53.424Z"
   },
   {
    "duration": 11,
    "start_time": "2022-07-08T15:35:35.097Z"
   },
   {
    "duration": 7,
    "start_time": "2022-07-08T15:43:34.033Z"
   },
   {
    "duration": 6,
    "start_time": "2022-07-08T15:43:35.415Z"
   },
   {
    "duration": 9,
    "start_time": "2022-07-08T15:44:24.202Z"
   },
   {
    "duration": 15,
    "start_time": "2022-07-08T15:44:24.800Z"
   },
   {
    "duration": 4,
    "start_time": "2022-07-08T15:45:34.345Z"
   },
   {
    "duration": 12,
    "start_time": "2022-07-08T15:45:42.727Z"
   },
   {
    "duration": 10,
    "start_time": "2022-07-08T15:46:07.014Z"
   },
   {
    "duration": 19,
    "start_time": "2022-07-08T15:46:07.842Z"
   },
   {
    "duration": 10,
    "start_time": "2022-07-08T15:46:39.283Z"
   },
   {
    "duration": 12,
    "start_time": "2022-07-08T15:46:40.377Z"
   },
   {
    "duration": 6,
    "start_time": "2022-07-08T15:46:54.252Z"
   },
   {
    "duration": 18,
    "start_time": "2022-07-08T15:46:55.289Z"
   },
   {
    "duration": 14,
    "start_time": "2022-07-08T15:47:29.400Z"
   },
   {
    "duration": 17,
    "start_time": "2022-07-08T16:09:37.751Z"
   },
   {
    "duration": 9,
    "start_time": "2022-07-08T16:21:47.283Z"
   },
   {
    "duration": 6,
    "start_time": "2022-07-08T16:21:53.848Z"
   },
   {
    "duration": 9,
    "start_time": "2022-07-08T16:31:15.292Z"
   },
   {
    "duration": 3,
    "start_time": "2022-07-08T16:31:16.177Z"
   },
   {
    "duration": 9,
    "start_time": "2022-07-08T16:31:22.049Z"
   },
   {
    "duration": 3,
    "start_time": "2022-07-08T16:31:22.656Z"
   },
   {
    "duration": 2531,
    "start_time": "2022-07-08T16:33:30.378Z"
   },
   {
    "duration": 2980,
    "start_time": "2022-07-08T16:35:34.685Z"
   },
   {
    "duration": 13,
    "start_time": "2022-07-08T16:37:45.135Z"
   },
   {
    "duration": 13,
    "start_time": "2022-07-08T16:38:12.944Z"
   },
   {
    "duration": 13,
    "start_time": "2022-07-08T17:12:16.604Z"
   },
   {
    "duration": 1007,
    "start_time": "2022-07-08T17:12:29.198Z"
   },
   {
    "duration": 391,
    "start_time": "2022-07-08T17:12:30.207Z"
   },
   {
    "duration": 12,
    "start_time": "2022-07-08T17:12:30.603Z"
   },
   {
    "duration": 25,
    "start_time": "2022-07-08T17:12:30.617Z"
   },
   {
    "duration": 25,
    "start_time": "2022-07-08T17:12:30.643Z"
   },
   {
    "duration": 46,
    "start_time": "2022-07-08T17:12:30.670Z"
   },
   {
    "duration": 11,
    "start_time": "2022-07-08T17:12:30.718Z"
   },
   {
    "duration": 41,
    "start_time": "2022-07-08T17:12:30.731Z"
   },
   {
    "duration": 33,
    "start_time": "2022-07-08T17:12:30.775Z"
   },
   {
    "duration": 26,
    "start_time": "2022-07-08T17:12:30.809Z"
   },
   {
    "duration": 269,
    "start_time": "2022-07-08T17:12:30.837Z"
   },
   {
    "duration": 12,
    "start_time": "2022-07-08T17:12:31.108Z"
   },
   {
    "duration": 24,
    "start_time": "2022-07-08T17:12:31.122Z"
   },
   {
    "duration": 20,
    "start_time": "2022-07-08T17:12:31.148Z"
   },
   {
    "duration": 5,
    "start_time": "2022-07-08T17:12:31.170Z"
   },
   {
    "duration": 13,
    "start_time": "2022-07-08T17:12:31.176Z"
   },
   {
    "duration": 11,
    "start_time": "2022-07-08T17:12:31.190Z"
   },
   {
    "duration": 15,
    "start_time": "2022-07-08T17:12:31.202Z"
   },
   {
    "duration": 5,
    "start_time": "2022-07-08T17:12:31.219Z"
   },
   {
    "duration": 26,
    "start_time": "2022-07-08T17:12:31.226Z"
   },
   {
    "duration": 7,
    "start_time": "2022-07-08T17:12:31.261Z"
   },
   {
    "duration": 16,
    "start_time": "2022-07-08T17:12:31.270Z"
   },
   {
    "duration": 14,
    "start_time": "2022-07-08T17:12:31.288Z"
   },
   {
    "duration": 3069,
    "start_time": "2022-07-08T17:12:31.304Z"
   },
   {
    "duration": 5,
    "start_time": "2022-07-08T17:12:34.375Z"
   },
   {
    "duration": 8,
    "start_time": "2022-07-08T17:12:34.381Z"
   },
   {
    "duration": 219,
    "start_time": "2022-07-08T17:12:34.394Z"
   },
   {
    "duration": 10,
    "start_time": "2022-07-08T17:12:34.615Z"
   },
   {
    "duration": 52,
    "start_time": "2022-07-08T17:12:34.627Z"
   },
   {
    "duration": 23,
    "start_time": "2022-07-08T17:12:34.682Z"
   },
   {
    "duration": 17,
    "start_time": "2022-07-08T17:12:34.707Z"
   },
   {
    "duration": 10,
    "start_time": "2022-07-08T17:12:34.727Z"
   },
   {
    "duration": 26,
    "start_time": "2022-07-08T17:12:34.739Z"
   },
   {
    "duration": 48,
    "start_time": "2022-07-08T17:12:34.766Z"
   },
   {
    "duration": 0,
    "start_time": "2022-07-08T17:12:34.816Z"
   },
   {
    "duration": 0,
    "start_time": "2022-07-08T17:12:34.817Z"
   },
   {
    "duration": 0,
    "start_time": "2022-07-08T17:12:34.818Z"
   },
   {
    "duration": 0,
    "start_time": "2022-07-08T17:12:34.819Z"
   },
   {
    "duration": 0,
    "start_time": "2022-07-08T17:12:34.820Z"
   },
   {
    "duration": 0,
    "start_time": "2022-07-08T17:12:34.821Z"
   },
   {
    "duration": 0,
    "start_time": "2022-07-08T17:12:34.822Z"
   },
   {
    "duration": 0,
    "start_time": "2022-07-08T17:12:34.824Z"
   },
   {
    "duration": 0,
    "start_time": "2022-07-08T17:12:34.825Z"
   },
   {
    "duration": 0,
    "start_time": "2022-07-08T17:12:34.826Z"
   },
   {
    "duration": 0,
    "start_time": "2022-07-08T17:12:34.827Z"
   },
   {
    "duration": 0,
    "start_time": "2022-07-08T17:12:34.828Z"
   },
   {
    "duration": 0,
    "start_time": "2022-07-08T17:12:34.829Z"
   },
   {
    "duration": 0,
    "start_time": "2022-07-08T17:12:34.830Z"
   },
   {
    "duration": 0,
    "start_time": "2022-07-08T17:12:34.832Z"
   },
   {
    "duration": 0,
    "start_time": "2022-07-08T17:12:34.832Z"
   },
   {
    "duration": 5,
    "start_time": "2022-07-08T17:12:47.307Z"
   },
   {
    "duration": 6,
    "start_time": "2022-07-08T17:15:29.768Z"
   },
   {
    "duration": 125,
    "start_time": "2022-07-08T17:15:32.864Z"
   },
   {
    "duration": 9,
    "start_time": "2022-07-08T17:17:52.699Z"
   },
   {
    "duration": 6,
    "start_time": "2022-07-08T17:54:04.490Z"
   },
   {
    "duration": 5,
    "start_time": "2022-07-08T17:54:22.812Z"
   },
   {
    "duration": 13,
    "start_time": "2022-07-08T17:55:49.228Z"
   },
   {
    "duration": 18,
    "start_time": "2022-07-08T17:58:11.621Z"
   },
   {
    "duration": 19,
    "start_time": "2022-07-08T18:23:33.314Z"
   },
   {
    "duration": 19,
    "start_time": "2022-07-08T18:24:45.158Z"
   },
   {
    "duration": 1071,
    "start_time": "2022-07-08T18:24:58.346Z"
   },
   {
    "duration": 184,
    "start_time": "2022-07-08T18:24:59.419Z"
   },
   {
    "duration": 13,
    "start_time": "2022-07-08T18:24:59.605Z"
   },
   {
    "duration": 5,
    "start_time": "2022-07-08T18:24:59.620Z"
   },
   {
    "duration": 15,
    "start_time": "2022-07-08T18:24:59.627Z"
   },
   {
    "duration": 23,
    "start_time": "2022-07-08T18:24:59.644Z"
   },
   {
    "duration": 12,
    "start_time": "2022-07-08T18:24:59.669Z"
   },
   {
    "duration": 23,
    "start_time": "2022-07-08T18:24:59.683Z"
   },
   {
    "duration": 12,
    "start_time": "2022-07-08T18:24:59.708Z"
   },
   {
    "duration": 7,
    "start_time": "2022-07-08T18:24:59.722Z"
   },
   {
    "duration": 293,
    "start_time": "2022-07-08T18:24:59.730Z"
   },
   {
    "duration": 13,
    "start_time": "2022-07-08T18:25:00.024Z"
   },
   {
    "duration": 37,
    "start_time": "2022-07-08T18:25:00.039Z"
   },
   {
    "duration": 15,
    "start_time": "2022-07-08T18:25:00.079Z"
   },
   {
    "duration": 10,
    "start_time": "2022-07-08T18:25:00.096Z"
   },
   {
    "duration": 31,
    "start_time": "2022-07-08T18:25:00.107Z"
   },
   {
    "duration": 41,
    "start_time": "2022-07-08T18:25:00.140Z"
   },
   {
    "duration": 24,
    "start_time": "2022-07-08T18:25:00.183Z"
   },
   {
    "duration": 26,
    "start_time": "2022-07-08T18:25:00.208Z"
   },
   {
    "duration": 22,
    "start_time": "2022-07-08T18:25:00.236Z"
   },
   {
    "duration": 21,
    "start_time": "2022-07-08T18:25:00.261Z"
   },
   {
    "duration": 16,
    "start_time": "2022-07-08T18:25:00.284Z"
   },
   {
    "duration": 27,
    "start_time": "2022-07-08T18:25:00.301Z"
   },
   {
    "duration": 3268,
    "start_time": "2022-07-08T18:25:00.330Z"
   },
   {
    "duration": 5,
    "start_time": "2022-07-08T18:25:03.600Z"
   },
   {
    "duration": 8,
    "start_time": "2022-07-08T18:25:03.607Z"
   },
   {
    "duration": 228,
    "start_time": "2022-07-08T18:25:03.616Z"
   },
   {
    "duration": 16,
    "start_time": "2022-07-08T18:25:03.848Z"
   },
   {
    "duration": 46,
    "start_time": "2022-07-08T18:25:03.866Z"
   },
   {
    "duration": 13,
    "start_time": "2022-07-08T18:25:03.913Z"
   },
   {
    "duration": 13,
    "start_time": "2022-07-08T18:25:03.928Z"
   },
   {
    "duration": 36,
    "start_time": "2022-07-08T18:25:03.943Z"
   },
   {
    "duration": 122,
    "start_time": "2022-07-08T18:25:03.981Z"
   },
   {
    "duration": 0,
    "start_time": "2022-07-08T18:25:04.105Z"
   },
   {
    "duration": 0,
    "start_time": "2022-07-08T18:25:04.107Z"
   },
   {
    "duration": 0,
    "start_time": "2022-07-08T18:25:04.108Z"
   },
   {
    "duration": 0,
    "start_time": "2022-07-08T18:25:04.110Z"
   },
   {
    "duration": 0,
    "start_time": "2022-07-08T18:25:04.111Z"
   },
   {
    "duration": 0,
    "start_time": "2022-07-08T18:25:04.113Z"
   },
   {
    "duration": 0,
    "start_time": "2022-07-08T18:25:04.114Z"
   },
   {
    "duration": 0,
    "start_time": "2022-07-08T18:25:04.116Z"
   },
   {
    "duration": 0,
    "start_time": "2022-07-08T18:25:04.117Z"
   },
   {
    "duration": 0,
    "start_time": "2022-07-08T18:25:04.118Z"
   },
   {
    "duration": 0,
    "start_time": "2022-07-08T18:25:04.120Z"
   },
   {
    "duration": 0,
    "start_time": "2022-07-08T18:25:04.121Z"
   },
   {
    "duration": 0,
    "start_time": "2022-07-08T18:25:04.123Z"
   },
   {
    "duration": 0,
    "start_time": "2022-07-08T18:25:04.124Z"
   },
   {
    "duration": 0,
    "start_time": "2022-07-08T18:25:04.125Z"
   },
   {
    "duration": 0,
    "start_time": "2022-07-08T18:25:04.126Z"
   },
   {
    "duration": 1203,
    "start_time": "2022-07-09T07:20:13.215Z"
   },
   {
    "duration": 269,
    "start_time": "2022-07-09T07:20:14.422Z"
   },
   {
    "duration": 13,
    "start_time": "2022-07-09T07:20:14.693Z"
   },
   {
    "duration": 15,
    "start_time": "2022-07-09T07:20:14.708Z"
   },
   {
    "duration": 21,
    "start_time": "2022-07-09T07:20:14.725Z"
   },
   {
    "duration": 26,
    "start_time": "2022-07-09T07:20:14.749Z"
   },
   {
    "duration": 6,
    "start_time": "2022-07-09T07:20:14.777Z"
   },
   {
    "duration": 20,
    "start_time": "2022-07-09T07:20:14.784Z"
   },
   {
    "duration": 25,
    "start_time": "2022-07-09T07:20:14.806Z"
   },
   {
    "duration": 15,
    "start_time": "2022-07-09T07:20:14.834Z"
   },
   {
    "duration": 278,
    "start_time": "2022-07-09T07:20:14.851Z"
   },
   {
    "duration": 14,
    "start_time": "2022-07-09T07:20:15.131Z"
   },
   {
    "duration": 14,
    "start_time": "2022-07-09T07:20:15.147Z"
   },
   {
    "duration": 11,
    "start_time": "2022-07-09T07:20:15.162Z"
   },
   {
    "duration": 4,
    "start_time": "2022-07-09T07:20:15.175Z"
   },
   {
    "duration": 7,
    "start_time": "2022-07-09T07:20:15.180Z"
   },
   {
    "duration": 40,
    "start_time": "2022-07-09T07:20:15.189Z"
   },
   {
    "duration": 16,
    "start_time": "2022-07-09T07:20:15.231Z"
   },
   {
    "duration": 5,
    "start_time": "2022-07-09T07:20:15.248Z"
   },
   {
    "duration": 27,
    "start_time": "2022-07-09T07:20:15.255Z"
   },
   {
    "duration": 8,
    "start_time": "2022-07-09T07:20:15.283Z"
   },
   {
    "duration": 8,
    "start_time": "2022-07-09T07:20:15.292Z"
   },
   {
    "duration": 26,
    "start_time": "2022-07-09T07:20:15.301Z"
   },
   {
    "duration": 2948,
    "start_time": "2022-07-09T07:20:15.329Z"
   },
   {
    "duration": 5,
    "start_time": "2022-07-09T07:20:18.278Z"
   },
   {
    "duration": 11,
    "start_time": "2022-07-09T07:20:18.285Z"
   },
   {
    "duration": 228,
    "start_time": "2022-07-09T07:20:18.297Z"
   },
   {
    "duration": 16,
    "start_time": "2022-07-09T07:20:18.530Z"
   },
   {
    "duration": 37,
    "start_time": "2022-07-09T07:20:18.548Z"
   },
   {
    "duration": 12,
    "start_time": "2022-07-09T07:20:18.586Z"
   },
   {
    "duration": 25,
    "start_time": "2022-07-09T07:20:18.600Z"
   },
   {
    "duration": 23,
    "start_time": "2022-07-09T07:20:18.628Z"
   },
   {
    "duration": 10,
    "start_time": "2022-07-09T07:20:18.653Z"
   },
   {
    "duration": 10,
    "start_time": "2022-07-09T07:20:18.664Z"
   },
   {
    "duration": 55,
    "start_time": "2022-07-09T07:20:18.675Z"
   },
   {
    "duration": 0,
    "start_time": "2022-07-09T07:20:18.732Z"
   },
   {
    "duration": 0,
    "start_time": "2022-07-09T07:20:18.734Z"
   },
   {
    "duration": 0,
    "start_time": "2022-07-09T07:20:18.735Z"
   },
   {
    "duration": 0,
    "start_time": "2022-07-09T07:20:18.739Z"
   },
   {
    "duration": 0,
    "start_time": "2022-07-09T07:20:18.745Z"
   },
   {
    "duration": 0,
    "start_time": "2022-07-09T07:20:18.746Z"
   },
   {
    "duration": 0,
    "start_time": "2022-07-09T07:20:18.747Z"
   },
   {
    "duration": 0,
    "start_time": "2022-07-09T07:20:18.748Z"
   },
   {
    "duration": 0,
    "start_time": "2022-07-09T07:20:18.749Z"
   },
   {
    "duration": 0,
    "start_time": "2022-07-09T07:20:18.751Z"
   },
   {
    "duration": 0,
    "start_time": "2022-07-09T07:20:18.752Z"
   },
   {
    "duration": 0,
    "start_time": "2022-07-09T07:20:18.753Z"
   },
   {
    "duration": 0,
    "start_time": "2022-07-09T07:20:18.754Z"
   },
   {
    "duration": 0,
    "start_time": "2022-07-09T07:20:18.755Z"
   },
   {
    "duration": 0,
    "start_time": "2022-07-09T07:20:18.757Z"
   },
   {
    "duration": 0,
    "start_time": "2022-07-09T07:20:18.757Z"
   },
   {
    "duration": 12,
    "start_time": "2022-07-09T07:22:24.544Z"
   },
   {
    "duration": 4,
    "start_time": "2022-07-09T07:22:27.856Z"
   },
   {
    "duration": 11,
    "start_time": "2022-07-09T07:23:08.207Z"
   },
   {
    "duration": 7,
    "start_time": "2022-07-09T07:26:48.473Z"
   },
   {
    "duration": 3,
    "start_time": "2022-07-09T07:26:50.202Z"
   },
   {
    "duration": 17,
    "start_time": "2022-07-09T07:26:53.124Z"
   },
   {
    "duration": 7,
    "start_time": "2022-07-09T07:27:34.885Z"
   },
   {
    "duration": 4,
    "start_time": "2022-07-09T07:27:36.400Z"
   },
   {
    "duration": 13,
    "start_time": "2022-07-09T07:27:37.959Z"
   },
   {
    "duration": 16,
    "start_time": "2022-07-09T07:29:43.961Z"
   },
   {
    "duration": 3,
    "start_time": "2022-07-09T07:29:45.256Z"
   },
   {
    "duration": 22,
    "start_time": "2022-07-09T07:29:46.831Z"
   },
   {
    "duration": 9,
    "start_time": "2022-07-09T07:31:13.572Z"
   },
   {
    "duration": 5,
    "start_time": "2022-07-09T07:31:16.302Z"
   },
   {
    "duration": 13,
    "start_time": "2022-07-09T07:31:17.652Z"
   },
   {
    "duration": 9,
    "start_time": "2022-07-09T07:32:47.710Z"
   },
   {
    "duration": 5,
    "start_time": "2022-07-09T07:32:49.168Z"
   },
   {
    "duration": 8,
    "start_time": "2022-07-09T07:32:54.164Z"
   },
   {
    "duration": 4,
    "start_time": "2022-07-09T07:32:54.803Z"
   },
   {
    "duration": 9,
    "start_time": "2022-07-09T07:32:56.187Z"
   },
   {
    "duration": 8,
    "start_time": "2022-07-09T07:32:59.164Z"
   },
   {
    "duration": 4,
    "start_time": "2022-07-09T07:32:59.764Z"
   },
   {
    "duration": 10,
    "start_time": "2022-07-09T07:33:00.865Z"
   },
   {
    "duration": 11,
    "start_time": "2022-07-09T07:33:59.874Z"
   },
   {
    "duration": 5,
    "start_time": "2022-07-09T07:34:01.257Z"
   },
   {
    "duration": 10,
    "start_time": "2022-07-09T07:34:04.987Z"
   },
   {
    "duration": 15,
    "start_time": "2022-07-09T07:34:54.556Z"
   },
   {
    "duration": 4,
    "start_time": "2022-07-09T07:34:55.871Z"
   },
   {
    "duration": 10,
    "start_time": "2022-07-09T07:34:57.763Z"
   },
   {
    "duration": 17,
    "start_time": "2022-07-09T07:37:13.218Z"
   },
   {
    "duration": 4,
    "start_time": "2022-07-09T07:37:16.078Z"
   },
   {
    "duration": 16,
    "start_time": "2022-07-09T07:37:17.782Z"
   },
   {
    "duration": 9,
    "start_time": "2022-07-09T07:37:55.387Z"
   },
   {
    "duration": 3,
    "start_time": "2022-07-09T07:37:56.511Z"
   },
   {
    "duration": 8,
    "start_time": "2022-07-09T07:37:58.166Z"
   },
   {
    "duration": 21,
    "start_time": "2022-07-09T07:38:10.026Z"
   },
   {
    "duration": 6,
    "start_time": "2022-07-09T07:38:10.659Z"
   },
   {
    "duration": 9,
    "start_time": "2022-07-09T07:38:14.671Z"
   },
   {
    "duration": 4,
    "start_time": "2022-07-09T07:38:15.894Z"
   },
   {
    "duration": 9,
    "start_time": "2022-07-09T07:38:17.402Z"
   },
   {
    "duration": 12,
    "start_time": "2022-07-09T07:43:19.108Z"
   },
   {
    "duration": 3,
    "start_time": "2022-07-09T07:43:20.714Z"
   },
   {
    "duration": 9,
    "start_time": "2022-07-09T07:43:22.179Z"
   },
   {
    "duration": 13,
    "start_time": "2022-07-09T07:43:24.604Z"
   },
   {
    "duration": 4,
    "start_time": "2022-07-09T07:43:25.273Z"
   },
   {
    "duration": 13,
    "start_time": "2022-07-09T07:43:26.877Z"
   },
   {
    "duration": 14,
    "start_time": "2022-07-09T07:43:29.351Z"
   },
   {
    "duration": 4,
    "start_time": "2022-07-09T07:43:30.606Z"
   },
   {
    "duration": 9,
    "start_time": "2022-07-09T07:43:31.970Z"
   },
   {
    "duration": 11,
    "start_time": "2022-07-09T07:46:28.609Z"
   },
   {
    "duration": 5,
    "start_time": "2022-07-09T07:46:29.665Z"
   },
   {
    "duration": 13,
    "start_time": "2022-07-09T07:46:30.747Z"
   },
   {
    "duration": 11,
    "start_time": "2022-07-09T07:46:33.001Z"
   },
   {
    "duration": 7,
    "start_time": "2022-07-09T07:46:34.054Z"
   },
   {
    "duration": 8,
    "start_time": "2022-07-09T07:46:35.658Z"
   },
   {
    "duration": 11,
    "start_time": "2022-07-09T07:46:37.982Z"
   },
   {
    "duration": 5,
    "start_time": "2022-07-09T07:46:39.351Z"
   },
   {
    "duration": 12,
    "start_time": "2022-07-09T07:49:09.973Z"
   },
   {
    "duration": 4,
    "start_time": "2022-07-09T07:49:10.694Z"
   },
   {
    "duration": 8,
    "start_time": "2022-07-09T07:49:11.873Z"
   },
   {
    "duration": 25,
    "start_time": "2022-07-09T07:49:18.841Z"
   },
   {
    "duration": 3,
    "start_time": "2022-07-09T07:49:19.612Z"
   },
   {
    "duration": 18,
    "start_time": "2022-07-09T07:49:20.751Z"
   },
   {
    "duration": 10,
    "start_time": "2022-07-09T07:51:28.184Z"
   },
   {
    "duration": 7,
    "start_time": "2022-07-09T07:51:29.237Z"
   },
   {
    "duration": 9,
    "start_time": "2022-07-09T07:51:30.485Z"
   },
   {
    "duration": 14,
    "start_time": "2022-07-09T07:51:46.151Z"
   },
   {
    "duration": 5,
    "start_time": "2022-07-09T07:51:46.797Z"
   },
   {
    "duration": 9,
    "start_time": "2022-07-09T07:51:47.962Z"
   },
   {
    "duration": 21,
    "start_time": "2022-07-09T07:51:50.149Z"
   },
   {
    "duration": 4,
    "start_time": "2022-07-09T07:51:50.667Z"
   },
   {
    "duration": 13,
    "start_time": "2022-07-09T07:51:51.684Z"
   },
   {
    "duration": 25,
    "start_time": "2022-07-09T07:59:17.419Z"
   },
   {
    "duration": 19,
    "start_time": "2022-07-09T07:59:18.220Z"
   },
   {
    "duration": 9,
    "start_time": "2022-07-09T07:59:19.369Z"
   },
   {
    "duration": 21,
    "start_time": "2022-07-09T07:59:22.215Z"
   },
   {
    "duration": 4,
    "start_time": "2022-07-09T07:59:22.884Z"
   },
   {
    "duration": 11,
    "start_time": "2022-07-09T07:59:25.485Z"
   },
   {
    "duration": 19,
    "start_time": "2022-07-09T07:59:26.134Z"
   },
   {
    "duration": 14,
    "start_time": "2022-07-09T07:59:29.073Z"
   },
   {
    "duration": 10,
    "start_time": "2022-07-09T07:59:31.349Z"
   },
   {
    "duration": 21,
    "start_time": "2022-07-09T07:59:32.444Z"
   },
   {
    "duration": 17,
    "start_time": "2022-07-09T08:02:43.304Z"
   },
   {
    "duration": 4,
    "start_time": "2022-07-09T08:02:43.991Z"
   },
   {
    "duration": 18,
    "start_time": "2022-07-09T08:02:44.773Z"
   },
   {
    "duration": 16,
    "start_time": "2022-07-09T08:02:46.797Z"
   },
   {
    "duration": 7,
    "start_time": "2022-07-09T08:02:47.680Z"
   },
   {
    "duration": 38,
    "start_time": "2022-07-09T08:02:50.451Z"
   },
   {
    "duration": 5,
    "start_time": "2022-07-09T08:02:51.014Z"
   },
   {
    "duration": 43,
    "start_time": "2022-07-09T08:02:55.321Z"
   },
   {
    "duration": 4,
    "start_time": "2022-07-09T08:02:56.716Z"
   },
   {
    "duration": 12,
    "start_time": "2022-07-09T08:02:59.491Z"
   },
   {
    "duration": 4,
    "start_time": "2022-07-09T08:03:00.106Z"
   },
   {
    "duration": 8,
    "start_time": "2022-07-09T08:03:00.904Z"
   },
   {
    "duration": 20,
    "start_time": "2022-07-09T08:03:22.756Z"
   },
   {
    "duration": 5,
    "start_time": "2022-07-09T08:03:23.367Z"
   },
   {
    "duration": 9,
    "start_time": "2022-07-09T08:03:24.375Z"
   },
   {
    "duration": 12,
    "start_time": "2022-07-09T08:03:27.173Z"
   },
   {
    "duration": 5,
    "start_time": "2022-07-09T08:03:27.773Z"
   },
   {
    "duration": 11,
    "start_time": "2022-07-09T08:03:28.817Z"
   },
   {
    "duration": 12,
    "start_time": "2022-07-09T08:03:31.776Z"
   },
   {
    "duration": 4,
    "start_time": "2022-07-09T08:03:32.462Z"
   },
   {
    "duration": 17,
    "start_time": "2022-07-09T08:03:33.256Z"
   },
   {
    "duration": 18,
    "start_time": "2022-07-09T08:03:52.662Z"
   },
   {
    "duration": 4,
    "start_time": "2022-07-09T08:03:53.792Z"
   },
   {
    "duration": 13,
    "start_time": "2022-07-09T08:03:55.078Z"
   },
   {
    "duration": 15,
    "start_time": "2022-07-09T08:04:00.365Z"
   },
   {
    "duration": 12,
    "start_time": "2022-07-09T08:04:00.956Z"
   },
   {
    "duration": 10,
    "start_time": "2022-07-09T08:04:01.769Z"
   },
   {
    "duration": 11,
    "start_time": "2022-07-09T08:04:23.680Z"
   },
   {
    "duration": 4,
    "start_time": "2022-07-09T08:04:24.306Z"
   },
   {
    "duration": 8,
    "start_time": "2022-07-09T08:04:25.306Z"
   },
   {
    "duration": 23,
    "start_time": "2022-07-09T08:04:27.657Z"
   },
   {
    "duration": 4,
    "start_time": "2022-07-09T08:04:28.213Z"
   },
   {
    "duration": 19,
    "start_time": "2022-07-09T08:04:29.051Z"
   },
   {
    "duration": 19,
    "start_time": "2022-07-09T08:05:28.702Z"
   },
   {
    "duration": 3,
    "start_time": "2022-07-09T08:05:29.406Z"
   },
   {
    "duration": 32,
    "start_time": "2022-07-09T08:05:31.616Z"
   },
   {
    "duration": 8,
    "start_time": "2022-07-09T08:05:32.164Z"
   },
   {
    "duration": 8,
    "start_time": "2022-07-09T08:05:33.495Z"
   },
   {
    "duration": 24,
    "start_time": "2022-07-09T08:05:35.856Z"
   },
   {
    "duration": 9,
    "start_time": "2022-07-09T08:05:36.353Z"
   },
   {
    "duration": 23,
    "start_time": "2022-07-09T08:05:37.939Z"
   },
   {
    "duration": 18,
    "start_time": "2022-07-09T08:06:19.415Z"
   },
   {
    "duration": 4,
    "start_time": "2022-07-09T08:06:20.288Z"
   },
   {
    "duration": 22,
    "start_time": "2022-07-09T08:06:24.412Z"
   },
   {
    "duration": 4,
    "start_time": "2022-07-09T08:06:25.017Z"
   },
   {
    "duration": 8,
    "start_time": "2022-07-09T08:06:26.672Z"
   },
   {
    "duration": 67,
    "start_time": "2022-07-09T08:12:20.510Z"
   },
   {
    "duration": 60,
    "start_time": "2022-07-09T08:12:54.458Z"
   },
   {
    "duration": 11,
    "start_time": "2022-07-09T08:13:11.058Z"
   },
   {
    "duration": 4,
    "start_time": "2022-07-09T08:13:12.349Z"
   },
   {
    "duration": 11,
    "start_time": "2022-07-09T08:13:15.460Z"
   },
   {
    "duration": 4,
    "start_time": "2022-07-09T08:13:16.053Z"
   },
   {
    "duration": 9,
    "start_time": "2022-07-09T08:13:18.488Z"
   },
   {
    "duration": 4,
    "start_time": "2022-07-09T08:13:19.074Z"
   },
   {
    "duration": 11,
    "start_time": "2022-07-09T08:13:21.712Z"
   },
   {
    "duration": 3,
    "start_time": "2022-07-09T08:13:22.409Z"
   },
   {
    "duration": 4,
    "start_time": "2022-07-09T08:13:24.259Z"
   },
   {
    "duration": 10,
    "start_time": "2022-07-09T08:13:26.948Z"
   },
   {
    "duration": 5,
    "start_time": "2022-07-09T08:13:27.503Z"
   },
   {
    "duration": 11,
    "start_time": "2022-07-09T08:13:30.994Z"
   },
   {
    "duration": 4,
    "start_time": "2022-07-09T08:13:31.491Z"
   },
   {
    "duration": 11,
    "start_time": "2022-07-09T08:13:34.048Z"
   },
   {
    "duration": 8,
    "start_time": "2022-07-09T08:13:34.555Z"
   },
   {
    "duration": 5,
    "start_time": "2022-07-09T08:13:36.808Z"
   },
   {
    "duration": 19,
    "start_time": "2022-07-09T08:13:41.016Z"
   },
   {
    "duration": 3,
    "start_time": "2022-07-09T08:13:41.516Z"
   },
   {
    "duration": 3,
    "start_time": "2022-07-09T08:13:42.448Z"
   },
   {
    "duration": 17,
    "start_time": "2022-07-09T08:13:45.119Z"
   },
   {
    "duration": 4,
    "start_time": "2022-07-09T08:13:45.681Z"
   },
   {
    "duration": 4,
    "start_time": "2022-07-09T08:13:48.545Z"
   },
   {
    "duration": 97,
    "start_time": "2022-07-09T08:14:26.175Z"
   },
   {
    "duration": 12,
    "start_time": "2022-07-09T08:20:42.958Z"
   },
   {
    "duration": 3,
    "start_time": "2022-07-09T08:20:47.318Z"
   },
   {
    "duration": 10,
    "start_time": "2022-07-09T08:21:00.601Z"
   },
   {
    "duration": 4,
    "start_time": "2022-07-09T08:21:01.760Z"
   },
   {
    "duration": 3,
    "start_time": "2022-07-09T08:21:48.058Z"
   },
   {
    "duration": 137,
    "start_time": "2022-07-09T08:21:48.600Z"
   },
   {
    "duration": 1083,
    "start_time": "2022-07-09T08:21:54.267Z"
   },
   {
    "duration": 119,
    "start_time": "2022-07-09T08:21:55.353Z"
   },
   {
    "duration": 12,
    "start_time": "2022-07-09T08:21:55.474Z"
   },
   {
    "duration": 4,
    "start_time": "2022-07-09T08:21:55.488Z"
   },
   {
    "duration": 19,
    "start_time": "2022-07-09T08:21:55.493Z"
   },
   {
    "duration": 19,
    "start_time": "2022-07-09T08:21:55.514Z"
   },
   {
    "duration": 7,
    "start_time": "2022-07-09T08:21:55.534Z"
   },
   {
    "duration": 24,
    "start_time": "2022-07-09T08:21:55.542Z"
   },
   {
    "duration": 14,
    "start_time": "2022-07-09T08:21:55.568Z"
   },
   {
    "duration": 7,
    "start_time": "2022-07-09T08:21:55.584Z"
   },
   {
    "duration": 274,
    "start_time": "2022-07-09T08:21:55.592Z"
   },
   {
    "duration": 11,
    "start_time": "2022-07-09T08:21:55.868Z"
   },
   {
    "duration": 9,
    "start_time": "2022-07-09T08:21:55.881Z"
   },
   {
    "duration": 32,
    "start_time": "2022-07-09T08:21:55.891Z"
   },
   {
    "duration": 5,
    "start_time": "2022-07-09T08:21:55.925Z"
   },
   {
    "duration": 8,
    "start_time": "2022-07-09T08:21:55.932Z"
   },
   {
    "duration": 16,
    "start_time": "2022-07-09T08:21:55.941Z"
   },
   {
    "duration": 9,
    "start_time": "2022-07-09T08:21:55.960Z"
   },
   {
    "duration": 4,
    "start_time": "2022-07-09T08:21:55.971Z"
   },
   {
    "duration": 20,
    "start_time": "2022-07-09T08:21:55.977Z"
   },
   {
    "duration": 27,
    "start_time": "2022-07-09T08:21:55.998Z"
   },
   {
    "duration": 5,
    "start_time": "2022-07-09T08:21:56.027Z"
   },
   {
    "duration": 10,
    "start_time": "2022-07-09T08:21:56.034Z"
   },
   {
    "duration": 2879,
    "start_time": "2022-07-09T08:21:56.045Z"
   },
   {
    "duration": 5,
    "start_time": "2022-07-09T08:21:58.925Z"
   },
   {
    "duration": 11,
    "start_time": "2022-07-09T08:21:58.931Z"
   },
   {
    "duration": 207,
    "start_time": "2022-07-09T08:21:58.944Z"
   },
   {
    "duration": 9,
    "start_time": "2022-07-09T08:21:59.155Z"
   },
   {
    "duration": 37,
    "start_time": "2022-07-09T08:21:59.165Z"
   },
   {
    "duration": 25,
    "start_time": "2022-07-09T08:21:59.204Z"
   },
   {
    "duration": 13,
    "start_time": "2022-07-09T08:21:59.230Z"
   },
   {
    "duration": 15,
    "start_time": "2022-07-09T08:21:59.244Z"
   },
   {
    "duration": 13,
    "start_time": "2022-07-09T08:21:59.260Z"
   },
   {
    "duration": 14,
    "start_time": "2022-07-09T08:21:59.274Z"
   },
   {
    "duration": 11,
    "start_time": "2022-07-09T08:21:59.290Z"
   },
   {
    "duration": 65,
    "start_time": "2022-07-09T08:21:59.303Z"
   },
   {
    "duration": 0,
    "start_time": "2022-07-09T08:21:59.369Z"
   },
   {
    "duration": 0,
    "start_time": "2022-07-09T08:21:59.371Z"
   },
   {
    "duration": 0,
    "start_time": "2022-07-09T08:21:59.372Z"
   },
   {
    "duration": 0,
    "start_time": "2022-07-09T08:21:59.373Z"
   },
   {
    "duration": 0,
    "start_time": "2022-07-09T08:21:59.375Z"
   },
   {
    "duration": 0,
    "start_time": "2022-07-09T08:21:59.376Z"
   },
   {
    "duration": 0,
    "start_time": "2022-07-09T08:21:59.377Z"
   },
   {
    "duration": 0,
    "start_time": "2022-07-09T08:21:59.379Z"
   },
   {
    "duration": 0,
    "start_time": "2022-07-09T08:21:59.380Z"
   },
   {
    "duration": 0,
    "start_time": "2022-07-09T08:21:59.381Z"
   },
   {
    "duration": 0,
    "start_time": "2022-07-09T08:21:59.382Z"
   },
   {
    "duration": 0,
    "start_time": "2022-07-09T08:21:59.384Z"
   },
   {
    "duration": 0,
    "start_time": "2022-07-09T08:21:59.385Z"
   },
   {
    "duration": 0,
    "start_time": "2022-07-09T08:21:59.387Z"
   },
   {
    "duration": 0,
    "start_time": "2022-07-09T08:21:59.388Z"
   },
   {
    "duration": 0,
    "start_time": "2022-07-09T08:21:59.389Z"
   },
   {
    "duration": 1040,
    "start_time": "2022-07-09T08:23:42.748Z"
   },
   {
    "duration": 124,
    "start_time": "2022-07-09T08:23:43.790Z"
   },
   {
    "duration": 14,
    "start_time": "2022-07-09T08:23:43.916Z"
   },
   {
    "duration": 5,
    "start_time": "2022-07-09T08:23:43.932Z"
   },
   {
    "duration": 15,
    "start_time": "2022-07-09T08:23:43.938Z"
   },
   {
    "duration": 23,
    "start_time": "2022-07-09T08:23:43.955Z"
   },
   {
    "duration": 7,
    "start_time": "2022-07-09T08:23:43.980Z"
   },
   {
    "duration": 48,
    "start_time": "2022-07-09T08:23:43.988Z"
   },
   {
    "duration": 13,
    "start_time": "2022-07-09T08:23:44.038Z"
   },
   {
    "duration": 10,
    "start_time": "2022-07-09T08:23:44.055Z"
   },
   {
    "duration": 266,
    "start_time": "2022-07-09T08:23:44.066Z"
   },
   {
    "duration": 13,
    "start_time": "2022-07-09T08:23:44.334Z"
   },
   {
    "duration": 11,
    "start_time": "2022-07-09T08:23:44.349Z"
   },
   {
    "duration": 14,
    "start_time": "2022-07-09T08:23:44.362Z"
   },
   {
    "duration": 6,
    "start_time": "2022-07-09T08:23:44.379Z"
   },
   {
    "duration": 15,
    "start_time": "2022-07-09T08:23:44.387Z"
   },
   {
    "duration": 20,
    "start_time": "2022-07-09T08:23:44.423Z"
   },
   {
    "duration": 18,
    "start_time": "2022-07-09T08:23:44.445Z"
   },
   {
    "duration": 7,
    "start_time": "2022-07-09T08:23:44.465Z"
   },
   {
    "duration": 17,
    "start_time": "2022-07-09T08:23:44.474Z"
   },
   {
    "duration": 8,
    "start_time": "2022-07-09T08:23:44.494Z"
   },
   {
    "duration": 3,
    "start_time": "2022-07-09T08:23:44.523Z"
   },
   {
    "duration": 10,
    "start_time": "2022-07-09T08:23:44.529Z"
   },
   {
    "duration": 2919,
    "start_time": "2022-07-09T08:23:44.540Z"
   },
   {
    "duration": 5,
    "start_time": "2022-07-09T08:23:47.461Z"
   },
   {
    "duration": 10,
    "start_time": "2022-07-09T08:23:47.468Z"
   },
   {
    "duration": 198,
    "start_time": "2022-07-09T08:23:47.479Z"
   },
   {
    "duration": 9,
    "start_time": "2022-07-09T08:23:47.680Z"
   },
   {
    "duration": 44,
    "start_time": "2022-07-09T08:23:47.691Z"
   },
   {
    "duration": 11,
    "start_time": "2022-07-09T08:23:47.736Z"
   },
   {
    "duration": 9,
    "start_time": "2022-07-09T08:23:47.749Z"
   },
   {
    "duration": 7,
    "start_time": "2022-07-09T08:23:47.760Z"
   },
   {
    "duration": 13,
    "start_time": "2022-07-09T08:23:47.769Z"
   },
   {
    "duration": 13,
    "start_time": "2022-07-09T08:23:47.783Z"
   },
   {
    "duration": 32,
    "start_time": "2022-07-09T08:23:47.797Z"
   },
   {
    "duration": 53,
    "start_time": "2022-07-09T08:23:47.831Z"
   },
   {
    "duration": 0,
    "start_time": "2022-07-09T08:23:47.885Z"
   },
   {
    "duration": 0,
    "start_time": "2022-07-09T08:23:47.887Z"
   },
   {
    "duration": 0,
    "start_time": "2022-07-09T08:23:47.888Z"
   },
   {
    "duration": 0,
    "start_time": "2022-07-09T08:23:47.889Z"
   },
   {
    "duration": 0,
    "start_time": "2022-07-09T08:23:47.890Z"
   },
   {
    "duration": 0,
    "start_time": "2022-07-09T08:23:47.892Z"
   },
   {
    "duration": 0,
    "start_time": "2022-07-09T08:23:47.893Z"
   },
   {
    "duration": 0,
    "start_time": "2022-07-09T08:23:47.894Z"
   },
   {
    "duration": 0,
    "start_time": "2022-07-09T08:23:47.895Z"
   },
   {
    "duration": 0,
    "start_time": "2022-07-09T08:23:47.896Z"
   },
   {
    "duration": 0,
    "start_time": "2022-07-09T08:23:47.897Z"
   },
   {
    "duration": 0,
    "start_time": "2022-07-09T08:23:47.898Z"
   },
   {
    "duration": 0,
    "start_time": "2022-07-09T08:23:47.899Z"
   },
   {
    "duration": 0,
    "start_time": "2022-07-09T08:23:47.900Z"
   },
   {
    "duration": 0,
    "start_time": "2022-07-09T08:23:47.901Z"
   },
   {
    "duration": 0,
    "start_time": "2022-07-09T08:23:47.902Z"
   },
   {
    "duration": 12,
    "start_time": "2022-07-09T08:28:25.735Z"
   },
   {
    "duration": 6,
    "start_time": "2022-07-09T08:28:30.635Z"
   },
   {
    "duration": 11,
    "start_time": "2022-07-09T08:29:48.909Z"
   },
   {
    "duration": 5,
    "start_time": "2022-07-09T08:29:51.078Z"
   },
   {
    "duration": 5,
    "start_time": "2022-07-09T08:29:58.253Z"
   },
   {
    "duration": 13,
    "start_time": "2022-07-09T08:30:51.052Z"
   },
   {
    "duration": 7,
    "start_time": "2022-07-09T08:33:40.999Z"
   },
   {
    "duration": 1399,
    "start_time": "2022-07-09T08:35:44.491Z"
   },
   {
    "duration": 9,
    "start_time": "2022-07-09T08:35:58.165Z"
   },
   {
    "duration": 488,
    "start_time": "2022-07-09T08:36:17.771Z"
   },
   {
    "duration": 9,
    "start_time": "2022-07-09T08:37:14.717Z"
   },
   {
    "duration": 497,
    "start_time": "2022-07-09T08:37:38.954Z"
   },
   {
    "duration": 7,
    "start_time": "2022-07-09T08:40:35.991Z"
   },
   {
    "duration": 7,
    "start_time": "2022-07-09T08:54:31.014Z"
   },
   {
    "duration": 11,
    "start_time": "2022-07-09T08:54:57.007Z"
   },
   {
    "duration": 7,
    "start_time": "2022-07-09T08:55:06.800Z"
   },
   {
    "duration": 12,
    "start_time": "2022-07-09T08:55:10.820Z"
   },
   {
    "duration": 4,
    "start_time": "2022-07-09T08:55:36.930Z"
   },
   {
    "duration": 4,
    "start_time": "2022-07-09T09:06:28.870Z"
   },
   {
    "duration": 5,
    "start_time": "2022-07-09T09:07:28.103Z"
   },
   {
    "duration": 16,
    "start_time": "2022-07-09T09:07:28.781Z"
   },
   {
    "duration": 11,
    "start_time": "2022-07-09T09:07:32.328Z"
   },
   {
    "duration": 29,
    "start_time": "2022-07-09T09:07:58.220Z"
   },
   {
    "duration": 9,
    "start_time": "2022-07-09T09:08:17.130Z"
   },
   {
    "duration": 14,
    "start_time": "2022-07-09T09:08:38.955Z"
   },
   {
    "duration": 5,
    "start_time": "2022-07-09T09:12:49.406Z"
   },
   {
    "duration": 12,
    "start_time": "2022-07-09T09:12:51.804Z"
   },
   {
    "duration": 16,
    "start_time": "2022-07-09T09:12:52.828Z"
   },
   {
    "duration": 6,
    "start_time": "2022-07-09T09:17:12.933Z"
   },
   {
    "duration": 17,
    "start_time": "2022-07-09T09:17:14.413Z"
   },
   {
    "duration": 13,
    "start_time": "2022-07-09T09:17:15.384Z"
   },
   {
    "duration": 7,
    "start_time": "2022-07-09T09:22:54.448Z"
   },
   {
    "duration": 18,
    "start_time": "2022-07-09T09:22:55.794Z"
   },
   {
    "duration": 13,
    "start_time": "2022-07-09T09:22:57.355Z"
   },
   {
    "duration": 6,
    "start_time": "2022-07-09T09:26:55.926Z"
   },
   {
    "duration": 19,
    "start_time": "2022-07-09T09:26:56.893Z"
   },
   {
    "duration": 14,
    "start_time": "2022-07-09T09:26:57.972Z"
   },
   {
    "duration": 8,
    "start_time": "2022-07-09T09:30:10.435Z"
   },
   {
    "duration": 23,
    "start_time": "2022-07-09T09:30:11.735Z"
   },
   {
    "duration": 13,
    "start_time": "2022-07-09T09:30:13.631Z"
   },
   {
    "duration": 8,
    "start_time": "2022-07-09T09:33:23.230Z"
   },
   {
    "duration": 35,
    "start_time": "2022-07-09T09:33:24.402Z"
   },
   {
    "duration": 20,
    "start_time": "2022-07-09T09:33:25.117Z"
   },
   {
    "duration": 10,
    "start_time": "2022-07-09T09:36:46.079Z"
   },
   {
    "duration": 24,
    "start_time": "2022-07-09T09:36:47.903Z"
   },
   {
    "duration": 13,
    "start_time": "2022-07-09T09:36:48.977Z"
   },
   {
    "duration": 7,
    "start_time": "2022-07-09T09:39:41.159Z"
   },
   {
    "duration": 23,
    "start_time": "2022-07-09T09:39:42.552Z"
   },
   {
    "duration": 13,
    "start_time": "2022-07-09T09:39:43.366Z"
   },
   {
    "duration": 15,
    "start_time": "2022-07-09T09:42:55.538Z"
   },
   {
    "duration": 42,
    "start_time": "2022-07-09T09:42:59.310Z"
   },
   {
    "duration": 19,
    "start_time": "2022-07-09T09:43:00.311Z"
   },
   {
    "duration": 8,
    "start_time": "2022-07-09T09:46:00.100Z"
   },
   {
    "duration": 26,
    "start_time": "2022-07-09T09:46:01.649Z"
   },
   {
    "duration": 14,
    "start_time": "2022-07-09T09:46:03.187Z"
   },
   {
    "duration": 9,
    "start_time": "2022-07-09T09:47:28.943Z"
   },
   {
    "duration": 34,
    "start_time": "2022-07-09T09:47:29.969Z"
   },
   {
    "duration": 14,
    "start_time": "2022-07-09T09:47:30.798Z"
   },
   {
    "duration": 13,
    "start_time": "2022-07-09T09:49:24.954Z"
   },
   {
    "duration": 35,
    "start_time": "2022-07-09T09:49:25.837Z"
   },
   {
    "duration": 22,
    "start_time": "2022-07-09T09:49:27.021Z"
   },
   {
    "duration": 9,
    "start_time": "2022-07-09T09:50:07.073Z"
   },
   {
    "duration": 36,
    "start_time": "2022-07-09T09:50:08.101Z"
   },
   {
    "duration": 27,
    "start_time": "2022-07-09T09:50:09.310Z"
   },
   {
    "duration": 15,
    "start_time": "2022-07-09T09:50:38.013Z"
   },
   {
    "duration": 41,
    "start_time": "2022-07-09T09:50:39.554Z"
   },
   {
    "duration": 34,
    "start_time": "2022-07-09T09:50:40.917Z"
   },
   {
    "duration": 10,
    "start_time": "2022-07-09T09:52:25.269Z"
   },
   {
    "duration": 26,
    "start_time": "2022-07-09T09:52:26.250Z"
   },
   {
    "duration": 13,
    "start_time": "2022-07-09T09:52:27.086Z"
   },
   {
    "duration": 9,
    "start_time": "2022-07-09T09:53:15.451Z"
   },
   {
    "duration": 27,
    "start_time": "2022-07-09T09:53:16.546Z"
   },
   {
    "duration": 16,
    "start_time": "2022-07-09T09:53:17.238Z"
   },
   {
    "duration": 8,
    "start_time": "2022-07-09T09:54:00.671Z"
   },
   {
    "duration": 31,
    "start_time": "2022-07-09T09:54:01.745Z"
   },
   {
    "duration": 15,
    "start_time": "2022-07-09T09:54:02.437Z"
   },
   {
    "duration": 8,
    "start_time": "2022-07-09T09:54:27.595Z"
   },
   {
    "duration": 29,
    "start_time": "2022-07-09T09:54:28.967Z"
   },
   {
    "duration": 8,
    "start_time": "2022-07-09T09:57:24.195Z"
   },
   {
    "duration": 29,
    "start_time": "2022-07-09T09:57:26.213Z"
   },
   {
    "duration": 15,
    "start_time": "2022-07-09T09:57:27.438Z"
   },
   {
    "duration": 9,
    "start_time": "2022-07-09T09:58:44.296Z"
   },
   {
    "duration": 29,
    "start_time": "2022-07-09T09:58:45.543Z"
   },
   {
    "duration": 12,
    "start_time": "2022-07-09T09:58:46.289Z"
   },
   {
    "duration": 9,
    "start_time": "2022-07-09T09:59:26.249Z"
   },
   {
    "duration": 43,
    "start_time": "2022-07-09T09:59:26.912Z"
   },
   {
    "duration": 14,
    "start_time": "2022-07-09T09:59:27.642Z"
   },
   {
    "duration": 11,
    "start_time": "2022-07-09T10:00:09.153Z"
   },
   {
    "duration": 31,
    "start_time": "2022-07-09T10:00:10.447Z"
   },
   {
    "duration": 14,
    "start_time": "2022-07-09T10:00:11.477Z"
   },
   {
    "duration": 9,
    "start_time": "2022-07-09T10:02:26.570Z"
   },
   {
    "duration": 28,
    "start_time": "2022-07-09T10:02:27.673Z"
   },
   {
    "duration": 17,
    "start_time": "2022-07-09T10:02:29.036Z"
   },
   {
    "duration": 24,
    "start_time": "2022-07-09T10:03:03.211Z"
   },
   {
    "duration": 29,
    "start_time": "2022-07-09T10:03:03.777Z"
   },
   {
    "duration": 12,
    "start_time": "2022-07-09T10:03:04.267Z"
   },
   {
    "duration": 14,
    "start_time": "2022-07-09T10:04:10.494Z"
   },
   {
    "duration": 39,
    "start_time": "2022-07-09T10:04:11.946Z"
   },
   {
    "duration": 17,
    "start_time": "2022-07-09T10:04:13.849Z"
   },
   {
    "duration": 24,
    "start_time": "2022-07-09T10:05:23.127Z"
   },
   {
    "duration": 34,
    "start_time": "2022-07-09T10:05:24.040Z"
   },
   {
    "duration": 20,
    "start_time": "2022-07-09T10:05:24.837Z"
   },
   {
    "duration": 17,
    "start_time": "2022-07-09T10:05:38.419Z"
   },
   {
    "duration": 35,
    "start_time": "2022-07-09T10:05:39.089Z"
   },
   {
    "duration": 15,
    "start_time": "2022-07-09T10:05:39.641Z"
   },
   {
    "duration": 10,
    "start_time": "2022-07-09T10:06:05.171Z"
   },
   {
    "duration": 42,
    "start_time": "2022-07-09T10:06:05.903Z"
   },
   {
    "duration": 16,
    "start_time": "2022-07-09T10:06:06.546Z"
   },
   {
    "duration": 10,
    "start_time": "2022-07-09T10:06:31.658Z"
   },
   {
    "duration": 35,
    "start_time": "2022-07-09T10:06:32.382Z"
   },
   {
    "duration": 14,
    "start_time": "2022-07-09T10:06:32.660Z"
   },
   {
    "duration": 19,
    "start_time": "2022-07-09T10:06:52.624Z"
   },
   {
    "duration": 36,
    "start_time": "2022-07-09T10:06:53.083Z"
   },
   {
    "duration": 14,
    "start_time": "2022-07-09T10:06:53.493Z"
   },
   {
    "duration": 11,
    "start_time": "2022-07-09T10:09:03.088Z"
   },
   {
    "duration": 32,
    "start_time": "2022-07-09T10:09:04.050Z"
   },
   {
    "duration": 24,
    "start_time": "2022-07-09T10:09:04.914Z"
   },
   {
    "duration": 13,
    "start_time": "2022-07-09T10:10:22.645Z"
   },
   {
    "duration": 47,
    "start_time": "2022-07-09T10:10:23.194Z"
   },
   {
    "duration": 13,
    "start_time": "2022-07-09T10:10:23.661Z"
   },
   {
    "duration": 17,
    "start_time": "2022-07-09T10:11:01.137Z"
   },
   {
    "duration": 46,
    "start_time": "2022-07-09T10:11:01.417Z"
   },
   {
    "duration": 14,
    "start_time": "2022-07-09T10:11:01.677Z"
   },
   {
    "duration": 11,
    "start_time": "2022-07-09T10:11:27.642Z"
   },
   {
    "duration": 30,
    "start_time": "2022-07-09T10:11:28.373Z"
   },
   {
    "duration": 13,
    "start_time": "2022-07-09T10:11:29.390Z"
   },
   {
    "duration": 9,
    "start_time": "2022-07-09T10:12:48.051Z"
   },
   {
    "duration": 43,
    "start_time": "2022-07-09T10:12:49.103Z"
   },
   {
    "duration": 14,
    "start_time": "2022-07-09T10:12:50.050Z"
   },
   {
    "duration": 11,
    "start_time": "2022-07-09T10:13:11.743Z"
   },
   {
    "duration": 33,
    "start_time": "2022-07-09T10:13:12.290Z"
   },
   {
    "duration": 13,
    "start_time": "2022-07-09T10:13:13.008Z"
   },
   {
    "duration": 17,
    "start_time": "2022-07-09T10:15:00.122Z"
   },
   {
    "duration": 38,
    "start_time": "2022-07-09T10:15:01.190Z"
   },
   {
    "duration": 15,
    "start_time": "2022-07-09T10:15:01.970Z"
   },
   {
    "duration": 14,
    "start_time": "2022-07-09T10:15:58.543Z"
   },
   {
    "duration": 36,
    "start_time": "2022-07-09T10:15:59.133Z"
   },
   {
    "duration": 13,
    "start_time": "2022-07-09T10:15:59.662Z"
   },
   {
    "duration": 12,
    "start_time": "2022-07-09T10:16:18.459Z"
   },
   {
    "duration": 45,
    "start_time": "2022-07-09T10:16:18.988Z"
   },
   {
    "duration": 20,
    "start_time": "2022-07-09T10:16:19.521Z"
   },
   {
    "duration": 11,
    "start_time": "2022-07-09T10:17:18.735Z"
   },
   {
    "duration": 43,
    "start_time": "2022-07-09T10:17:19.491Z"
   },
   {
    "duration": 13,
    "start_time": "2022-07-09T10:17:20.090Z"
   },
   {
    "duration": 11,
    "start_time": "2022-07-09T10:17:40.710Z"
   },
   {
    "duration": 35,
    "start_time": "2022-07-09T10:17:41.258Z"
   },
   {
    "duration": 14,
    "start_time": "2022-07-09T10:17:42.647Z"
   },
   {
    "duration": 12,
    "start_time": "2022-07-09T10:18:24.083Z"
   },
   {
    "duration": 35,
    "start_time": "2022-07-09T10:18:24.671Z"
   },
   {
    "duration": 14,
    "start_time": "2022-07-09T10:18:25.435Z"
   },
   {
    "duration": 12,
    "start_time": "2022-07-09T10:19:02.696Z"
   },
   {
    "duration": 49,
    "start_time": "2022-07-09T10:19:03.685Z"
   },
   {
    "duration": 16,
    "start_time": "2022-07-09T10:19:04.402Z"
   },
   {
    "duration": 99,
    "start_time": "2022-07-09T10:19:46.446Z"
   },
   {
    "duration": 35,
    "start_time": "2022-07-09T10:19:47.069Z"
   },
   {
    "duration": 25,
    "start_time": "2022-07-09T10:19:47.609Z"
   },
   {
    "duration": 11,
    "start_time": "2022-07-09T10:20:18.896Z"
   },
   {
    "duration": 45,
    "start_time": "2022-07-09T10:20:19.708Z"
   },
   {
    "duration": 12,
    "start_time": "2022-07-09T10:20:20.739Z"
   },
   {
    "duration": 16,
    "start_time": "2022-07-09T10:20:50.297Z"
   },
   {
    "duration": 39,
    "start_time": "2022-07-09T10:20:50.735Z"
   },
   {
    "duration": 13,
    "start_time": "2022-07-09T10:20:51.206Z"
   },
   {
    "duration": 12,
    "start_time": "2022-07-09T10:22:04.664Z"
   },
   {
    "duration": 41,
    "start_time": "2022-07-09T10:22:09.535Z"
   },
   {
    "duration": 15,
    "start_time": "2022-07-09T10:22:10.283Z"
   },
   {
    "duration": 12,
    "start_time": "2022-07-09T10:22:32.091Z"
   },
   {
    "duration": 36,
    "start_time": "2022-07-09T10:22:32.478Z"
   },
   {
    "duration": 13,
    "start_time": "2022-07-09T10:22:32.895Z"
   },
   {
    "duration": 19,
    "start_time": "2022-07-09T10:23:09.522Z"
   },
   {
    "duration": 40,
    "start_time": "2022-07-09T10:23:10.054Z"
   },
   {
    "duration": 16,
    "start_time": "2022-07-09T10:23:11.460Z"
   },
   {
    "duration": 13,
    "start_time": "2022-07-09T10:23:40.069Z"
   },
   {
    "duration": 36,
    "start_time": "2022-07-09T10:23:40.638Z"
   },
   {
    "duration": 13,
    "start_time": "2022-07-09T10:23:41.092Z"
   },
   {
    "duration": 22,
    "start_time": "2022-07-09T10:24:27.619Z"
   },
   {
    "duration": 74,
    "start_time": "2022-07-09T10:24:27.846Z"
   },
   {
    "duration": 22,
    "start_time": "2022-07-09T10:24:28.078Z"
   },
   {
    "duration": 13,
    "start_time": "2022-07-09T10:25:07.288Z"
   },
   {
    "duration": 54,
    "start_time": "2022-07-09T10:25:08.422Z"
   },
   {
    "duration": 19,
    "start_time": "2022-07-09T10:25:08.927Z"
   },
   {
    "duration": 17,
    "start_time": "2022-07-09T10:25:41.530Z"
   },
   {
    "duration": 42,
    "start_time": "2022-07-09T10:25:41.984Z"
   },
   {
    "duration": 19,
    "start_time": "2022-07-09T10:25:42.384Z"
   },
   {
    "duration": 13,
    "start_time": "2022-07-09T10:26:09.108Z"
   },
   {
    "duration": 39,
    "start_time": "2022-07-09T10:26:09.748Z"
   },
   {
    "duration": 13,
    "start_time": "2022-07-09T10:26:10.680Z"
   },
   {
    "duration": 13,
    "start_time": "2022-07-09T10:27:18.835Z"
   },
   {
    "duration": 49,
    "start_time": "2022-07-09T10:27:19.103Z"
   },
   {
    "duration": 14,
    "start_time": "2022-07-09T10:27:19.534Z"
   },
   {
    "duration": 14,
    "start_time": "2022-07-09T10:28:04.912Z"
   },
   {
    "duration": 42,
    "start_time": "2022-07-09T10:28:05.426Z"
   },
   {
    "duration": 23,
    "start_time": "2022-07-09T10:28:07.312Z"
   },
   {
    "duration": 11,
    "start_time": "2022-07-09T10:29:35.947Z"
   },
   {
    "duration": 37,
    "start_time": "2022-07-09T10:29:36.534Z"
   },
   {
    "duration": 14,
    "start_time": "2022-07-09T10:29:37.134Z"
   },
   {
    "duration": 15,
    "start_time": "2022-07-09T10:30:24.439Z"
   },
   {
    "duration": 40,
    "start_time": "2022-07-09T10:30:25.035Z"
   },
   {
    "duration": 12,
    "start_time": "2022-07-09T10:30:25.865Z"
   },
   {
    "duration": 12,
    "start_time": "2022-07-09T10:31:17.775Z"
   },
   {
    "duration": 48,
    "start_time": "2022-07-09T10:31:18.922Z"
   },
   {
    "duration": 12,
    "start_time": "2022-07-09T10:31:32.444Z"
   },
   {
    "duration": 52,
    "start_time": "2022-07-09T10:31:33.117Z"
   },
   {
    "duration": 13,
    "start_time": "2022-07-09T10:31:33.711Z"
   },
   {
    "duration": 13,
    "start_time": "2022-07-09T10:31:48.836Z"
   },
   {
    "duration": 49,
    "start_time": "2022-07-09T10:31:49.400Z"
   },
   {
    "duration": 21,
    "start_time": "2022-07-09T10:31:50.228Z"
   },
   {
    "duration": 13,
    "start_time": "2022-07-09T10:32:25.409Z"
   },
   {
    "duration": 41,
    "start_time": "2022-07-09T10:32:25.963Z"
   },
   {
    "duration": 13,
    "start_time": "2022-07-09T10:32:26.489Z"
   },
   {
    "duration": 13,
    "start_time": "2022-07-09T10:33:28.286Z"
   },
   {
    "duration": 46,
    "start_time": "2022-07-09T10:33:28.885Z"
   },
   {
    "duration": 18,
    "start_time": "2022-07-09T10:33:29.434Z"
   },
   {
    "duration": 21,
    "start_time": "2022-07-09T10:34:22.236Z"
   },
   {
    "duration": 42,
    "start_time": "2022-07-09T10:34:22.875Z"
   },
   {
    "duration": 14,
    "start_time": "2022-07-09T10:34:23.469Z"
   },
   {
    "duration": 14,
    "start_time": "2022-07-09T10:34:25.933Z"
   },
   {
    "duration": 46,
    "start_time": "2022-07-09T10:34:26.398Z"
   },
   {
    "duration": 14,
    "start_time": "2022-07-09T10:34:26.931Z"
   },
   {
    "duration": 13,
    "start_time": "2022-07-09T10:35:00.602Z"
   },
   {
    "duration": 46,
    "start_time": "2022-07-09T10:35:01.106Z"
   },
   {
    "duration": 13,
    "start_time": "2022-07-09T10:35:01.373Z"
   },
   {
    "duration": 23,
    "start_time": "2022-07-09T10:35:35.118Z"
   },
   {
    "duration": 37,
    "start_time": "2022-07-09T10:35:35.449Z"
   },
   {
    "duration": 14,
    "start_time": "2022-07-09T10:35:35.775Z"
   },
   {
    "duration": 13,
    "start_time": "2022-07-09T10:35:56.194Z"
   },
   {
    "duration": 40,
    "start_time": "2022-07-09T10:35:56.566Z"
   },
   {
    "duration": 13,
    "start_time": "2022-07-09T10:35:56.949Z"
   },
   {
    "duration": 14,
    "start_time": "2022-07-09T10:39:40.357Z"
   },
   {
    "duration": 41,
    "start_time": "2022-07-09T10:39:41.029Z"
   },
   {
    "duration": 13,
    "start_time": "2022-07-09T10:39:41.615Z"
   },
   {
    "duration": 16,
    "start_time": "2022-07-09T10:41:04.056Z"
   },
   {
    "duration": 40,
    "start_time": "2022-07-09T10:41:04.751Z"
   },
   {
    "duration": 12,
    "start_time": "2022-07-09T10:41:05.242Z"
   },
   {
    "duration": 14,
    "start_time": "2022-07-09T10:42:56.718Z"
   },
   {
    "duration": 45,
    "start_time": "2022-07-09T10:42:57.750Z"
   },
   {
    "duration": 14,
    "start_time": "2022-07-09T10:42:58.222Z"
   },
   {
    "duration": 15,
    "start_time": "2022-07-09T10:43:29.713Z"
   },
   {
    "duration": 39,
    "start_time": "2022-07-09T10:43:31.777Z"
   },
   {
    "duration": 14,
    "start_time": "2022-07-09T10:43:32.225Z"
   },
   {
    "duration": 15,
    "start_time": "2022-07-09T10:44:05.325Z"
   },
   {
    "duration": 41,
    "start_time": "2022-07-09T10:44:05.712Z"
   },
   {
    "duration": 15,
    "start_time": "2022-07-09T10:44:06.168Z"
   },
   {
    "duration": 18,
    "start_time": "2022-07-09T10:45:24.365Z"
   },
   {
    "duration": 41,
    "start_time": "2022-07-09T10:45:24.632Z"
   },
   {
    "duration": 13,
    "start_time": "2022-07-09T10:45:24.834Z"
   },
   {
    "duration": 14,
    "start_time": "2022-07-09T10:45:59.507Z"
   },
   {
    "duration": 42,
    "start_time": "2022-07-09T10:45:59.992Z"
   },
   {
    "duration": 14,
    "start_time": "2022-07-09T10:46:00.538Z"
   },
   {
    "duration": 14,
    "start_time": "2022-07-09T10:47:00.220Z"
   },
   {
    "duration": 41,
    "start_time": "2022-07-09T10:47:00.737Z"
   },
   {
    "duration": 13,
    "start_time": "2022-07-09T10:47:01.169Z"
   },
   {
    "duration": 15,
    "start_time": "2022-07-09T10:47:21.799Z"
   },
   {
    "duration": 44,
    "start_time": "2022-07-09T10:47:22.324Z"
   },
   {
    "duration": 14,
    "start_time": "2022-07-09T10:47:23.450Z"
   },
   {
    "duration": 15,
    "start_time": "2022-07-09T10:47:42.528Z"
   },
   {
    "duration": 47,
    "start_time": "2022-07-09T10:47:43.017Z"
   },
   {
    "duration": 13,
    "start_time": "2022-07-09T10:47:43.475Z"
   },
   {
    "duration": 15,
    "start_time": "2022-07-09T10:49:04.086Z"
   },
   {
    "duration": 49,
    "start_time": "2022-07-09T10:49:04.525Z"
   },
   {
    "duration": 14,
    "start_time": "2022-07-09T10:49:04.885Z"
   },
   {
    "duration": 16,
    "start_time": "2022-07-09T10:49:45.735Z"
   },
   {
    "duration": 42,
    "start_time": "2022-07-09T10:49:46.850Z"
   },
   {
    "duration": 13,
    "start_time": "2022-07-09T10:49:47.418Z"
   },
   {
    "duration": 16,
    "start_time": "2022-07-09T10:50:50.444Z"
   },
   {
    "duration": 45,
    "start_time": "2022-07-09T10:50:51.137Z"
   },
   {
    "duration": 13,
    "start_time": "2022-07-09T10:50:51.590Z"
   },
   {
    "duration": 15,
    "start_time": "2022-07-09T10:51:59.767Z"
   },
   {
    "duration": 41,
    "start_time": "2022-07-09T10:52:00.264Z"
   },
   {
    "duration": 14,
    "start_time": "2022-07-09T10:52:02.020Z"
   },
   {
    "duration": 15,
    "start_time": "2022-07-09T10:53:43.486Z"
   },
   {
    "duration": 42,
    "start_time": "2022-07-09T10:53:44.174Z"
   },
   {
    "duration": 13,
    "start_time": "2022-07-09T10:53:46.518Z"
   },
   {
    "duration": 16,
    "start_time": "2022-07-09T10:54:41.752Z"
   },
   {
    "duration": 44,
    "start_time": "2022-07-09T10:54:42.260Z"
   },
   {
    "duration": 12,
    "start_time": "2022-07-09T10:54:42.742Z"
   },
   {
    "duration": 24,
    "start_time": "2022-07-09T10:56:59.397Z"
   },
   {
    "duration": 44,
    "start_time": "2022-07-09T10:56:59.841Z"
   },
   {
    "duration": 14,
    "start_time": "2022-07-09T10:57:00.351Z"
   },
   {
    "duration": 16,
    "start_time": "2022-07-09T10:57:30.651Z"
   },
   {
    "duration": 47,
    "start_time": "2022-07-09T10:57:31.478Z"
   },
   {
    "duration": 13,
    "start_time": "2022-07-09T10:57:31.688Z"
   },
   {
    "duration": 16,
    "start_time": "2022-07-09T10:58:26.874Z"
   },
   {
    "duration": 47,
    "start_time": "2022-07-09T10:58:27.353Z"
   },
   {
    "duration": 13,
    "start_time": "2022-07-09T10:58:28.256Z"
   },
   {
    "duration": 16,
    "start_time": "2022-07-09T10:59:25.606Z"
   },
   {
    "duration": 47,
    "start_time": "2022-07-09T10:59:26.189Z"
   },
   {
    "duration": 12,
    "start_time": "2022-07-09T10:59:27.402Z"
   },
   {
    "duration": 16,
    "start_time": "2022-07-09T11:00:47.143Z"
   },
   {
    "duration": 48,
    "start_time": "2022-07-09T11:00:47.969Z"
   },
   {
    "duration": 17,
    "start_time": "2022-07-09T11:00:48.506Z"
   },
   {
    "duration": 21,
    "start_time": "2022-07-09T11:01:14.398Z"
   },
   {
    "duration": 49,
    "start_time": "2022-07-09T11:01:15.307Z"
   },
   {
    "duration": 13,
    "start_time": "2022-07-09T11:01:15.889Z"
   },
   {
    "duration": 23,
    "start_time": "2022-07-09T11:03:14.568Z"
   },
   {
    "duration": 45,
    "start_time": "2022-07-09T11:03:16.082Z"
   },
   {
    "duration": 13,
    "start_time": "2022-07-09T11:03:17.428Z"
   },
   {
    "duration": 16,
    "start_time": "2022-07-09T11:03:44.110Z"
   },
   {
    "duration": 51,
    "start_time": "2022-07-09T11:03:44.521Z"
   },
   {
    "duration": 14,
    "start_time": "2022-07-09T11:03:45.042Z"
   },
   {
    "duration": 30,
    "start_time": "2022-07-09T11:04:27.167Z"
   },
   {
    "duration": 46,
    "start_time": "2022-07-09T11:04:27.621Z"
   },
   {
    "duration": 13,
    "start_time": "2022-07-09T11:04:28.125Z"
   },
   {
    "duration": 17,
    "start_time": "2022-07-09T11:04:48.838Z"
   },
   {
    "duration": 47,
    "start_time": "2022-07-09T11:04:49.631Z"
   },
   {
    "duration": 17,
    "start_time": "2022-07-09T11:04:50.902Z"
   },
   {
    "duration": 18,
    "start_time": "2022-07-09T11:05:15.985Z"
   },
   {
    "duration": 46,
    "start_time": "2022-07-09T11:05:17.046Z"
   },
   {
    "duration": 14,
    "start_time": "2022-07-09T11:05:17.441Z"
   },
   {
    "duration": 17,
    "start_time": "2022-07-09T11:05:37.793Z"
   },
   {
    "duration": 58,
    "start_time": "2022-07-09T11:05:37.999Z"
   },
   {
    "duration": 13,
    "start_time": "2022-07-09T11:05:38.215Z"
   },
   {
    "duration": 16,
    "start_time": "2022-07-09T11:07:05.559Z"
   },
   {
    "duration": 52,
    "start_time": "2022-07-09T11:07:06.157Z"
   },
   {
    "duration": 13,
    "start_time": "2022-07-09T11:07:06.602Z"
   },
   {
    "duration": 24,
    "start_time": "2022-07-09T11:07:34.862Z"
   },
   {
    "duration": 44,
    "start_time": "2022-07-09T11:07:35.062Z"
   },
   {
    "duration": 13,
    "start_time": "2022-07-09T11:07:35.301Z"
   },
   {
    "duration": 17,
    "start_time": "2022-07-09T11:08:18.954Z"
   },
   {
    "duration": 45,
    "start_time": "2022-07-09T11:08:19.200Z"
   },
   {
    "duration": 13,
    "start_time": "2022-07-09T11:08:19.478Z"
   },
   {
    "duration": 19,
    "start_time": "2022-07-09T11:08:31.297Z"
   },
   {
    "duration": 47,
    "start_time": "2022-07-09T11:08:31.782Z"
   },
   {
    "duration": 13,
    "start_time": "2022-07-09T11:08:32.386Z"
   },
   {
    "duration": 17,
    "start_time": "2022-07-09T11:09:38.047Z"
   },
   {
    "duration": 48,
    "start_time": "2022-07-09T11:09:38.959Z"
   },
   {
    "duration": 17,
    "start_time": "2022-07-09T11:09:39.241Z"
   },
   {
    "duration": 18,
    "start_time": "2022-07-09T11:10:08.083Z"
   },
   {
    "duration": 67,
    "start_time": "2022-07-09T11:10:08.699Z"
   },
   {
    "duration": 15,
    "start_time": "2022-07-09T11:10:09.263Z"
   },
   {
    "duration": 18,
    "start_time": "2022-07-09T11:10:31.556Z"
   },
   {
    "duration": 55,
    "start_time": "2022-07-09T11:10:31.956Z"
   },
   {
    "duration": 13,
    "start_time": "2022-07-09T11:10:32.217Z"
   },
   {
    "duration": 18,
    "start_time": "2022-07-09T11:10:58.835Z"
   },
   {
    "duration": 50,
    "start_time": "2022-07-09T11:10:59.564Z"
   },
   {
    "duration": 14,
    "start_time": "2022-07-09T11:11:00.149Z"
   },
   {
    "duration": 20,
    "start_time": "2022-07-09T11:11:42.467Z"
   },
   {
    "duration": 49,
    "start_time": "2022-07-09T11:11:42.927Z"
   },
   {
    "duration": 13,
    "start_time": "2022-07-09T11:11:43.298Z"
   },
   {
    "duration": 19,
    "start_time": "2022-07-09T11:12:04.973Z"
   },
   {
    "duration": 46,
    "start_time": "2022-07-09T11:12:05.170Z"
   },
   {
    "duration": 13,
    "start_time": "2022-07-09T11:12:05.425Z"
   },
   {
    "duration": 18,
    "start_time": "2022-07-09T11:12:32.765Z"
   },
   {
    "duration": 49,
    "start_time": "2022-07-09T11:12:32.986Z"
   },
   {
    "duration": 13,
    "start_time": "2022-07-09T11:12:33.198Z"
   },
   {
    "duration": 21,
    "start_time": "2022-07-09T11:13:59.174Z"
   },
   {
    "duration": 52,
    "start_time": "2022-07-09T11:13:59.341Z"
   },
   {
    "duration": 14,
    "start_time": "2022-07-09T11:13:59.561Z"
   },
   {
    "duration": 17,
    "start_time": "2022-07-09T11:14:43.431Z"
   },
   {
    "duration": 45,
    "start_time": "2022-07-09T11:14:43.701Z"
   },
   {
    "duration": 14,
    "start_time": "2022-07-09T11:14:43.962Z"
   },
   {
    "duration": 20,
    "start_time": "2022-07-09T11:15:11.760Z"
   },
   {
    "duration": 61,
    "start_time": "2022-07-09T11:15:11.999Z"
   },
   {
    "duration": 15,
    "start_time": "2022-07-09T11:15:12.244Z"
   },
   {
    "duration": 18,
    "start_time": "2022-07-09T11:15:29.092Z"
   },
   {
    "duration": 55,
    "start_time": "2022-07-09T11:15:29.309Z"
   },
   {
    "duration": 15,
    "start_time": "2022-07-09T11:15:29.676Z"
   },
   {
    "duration": 20,
    "start_time": "2022-07-09T11:15:40.559Z"
   },
   {
    "duration": 49,
    "start_time": "2022-07-09T11:15:41.314Z"
   },
   {
    "duration": 13,
    "start_time": "2022-07-09T11:15:41.898Z"
   },
   {
    "duration": 19,
    "start_time": "2022-07-09T11:16:26.256Z"
   },
   {
    "duration": 47,
    "start_time": "2022-07-09T11:16:28.622Z"
   },
   {
    "duration": 13,
    "start_time": "2022-07-09T11:16:28.870Z"
   },
   {
    "duration": 26,
    "start_time": "2022-07-09T11:17:52.001Z"
   },
   {
    "duration": 66,
    "start_time": "2022-07-09T11:17:52.632Z"
   },
   {
    "duration": 24,
    "start_time": "2022-07-09T11:17:53.176Z"
   },
   {
    "duration": 19,
    "start_time": "2022-07-09T11:18:40.456Z"
   },
   {
    "duration": 46,
    "start_time": "2022-07-09T11:18:40.655Z"
   },
   {
    "duration": 13,
    "start_time": "2022-07-09T11:18:40.842Z"
   },
   {
    "duration": 19,
    "start_time": "2022-07-09T11:19:05.602Z"
   },
   {
    "duration": 45,
    "start_time": "2022-07-09T11:19:05.863Z"
   },
   {
    "duration": 13,
    "start_time": "2022-07-09T11:19:06.121Z"
   },
   {
    "duration": 18,
    "start_time": "2022-07-09T11:19:32.758Z"
   },
   {
    "duration": 46,
    "start_time": "2022-07-09T11:19:32.982Z"
   },
   {
    "duration": 12,
    "start_time": "2022-07-09T11:19:33.281Z"
   },
   {
    "duration": 19,
    "start_time": "2022-07-09T11:20:01.464Z"
   },
   {
    "duration": 49,
    "start_time": "2022-07-09T11:20:02.246Z"
   },
   {
    "duration": 13,
    "start_time": "2022-07-09T11:20:02.863Z"
   },
   {
    "duration": 18,
    "start_time": "2022-07-09T11:20:21.665Z"
   },
   {
    "duration": 45,
    "start_time": "2022-07-09T11:20:21.898Z"
   },
   {
    "duration": 13,
    "start_time": "2022-07-09T11:20:22.128Z"
   },
   {
    "duration": 18,
    "start_time": "2022-07-09T11:20:45.107Z"
   },
   {
    "duration": 46,
    "start_time": "2022-07-09T11:20:45.321Z"
   },
   {
    "duration": 12,
    "start_time": "2022-07-09T11:20:45.538Z"
   },
   {
    "duration": 20,
    "start_time": "2022-07-09T11:21:02.124Z"
   },
   {
    "duration": 48,
    "start_time": "2022-07-09T11:21:02.320Z"
   },
   {
    "duration": 13,
    "start_time": "2022-07-09T11:21:02.547Z"
   },
   {
    "duration": 18,
    "start_time": "2022-07-09T11:21:43.101Z"
   },
   {
    "duration": 58,
    "start_time": "2022-07-09T11:21:43.640Z"
   },
   {
    "duration": 13,
    "start_time": "2022-07-09T11:21:44.255Z"
   },
   {
    "duration": 18,
    "start_time": "2022-07-09T11:22:06.401Z"
   },
   {
    "duration": 51,
    "start_time": "2022-07-09T11:22:06.745Z"
   },
   {
    "duration": 11,
    "start_time": "2022-07-09T11:22:07.312Z"
   },
   {
    "duration": 18,
    "start_time": "2022-07-09T11:22:37.893Z"
   },
   {
    "duration": 47,
    "start_time": "2022-07-09T11:22:38.345Z"
   },
   {
    "duration": 15,
    "start_time": "2022-07-09T11:22:38.777Z"
   },
   {
    "duration": 18,
    "start_time": "2022-07-09T11:23:40.444Z"
   },
   {
    "duration": 48,
    "start_time": "2022-07-09T11:23:41.664Z"
   },
   {
    "duration": 12,
    "start_time": "2022-07-09T11:23:42.424Z"
   },
   {
    "duration": 18,
    "start_time": "2022-07-09T11:24:20.721Z"
   },
   {
    "duration": 47,
    "start_time": "2022-07-09T11:24:21.056Z"
   },
   {
    "duration": 12,
    "start_time": "2022-07-09T11:24:21.751Z"
   },
   {
    "duration": 18,
    "start_time": "2022-07-09T11:25:02.756Z"
   },
   {
    "duration": 51,
    "start_time": "2022-07-09T11:25:03.251Z"
   },
   {
    "duration": 12,
    "start_time": "2022-07-09T11:25:03.786Z"
   },
   {
    "duration": 19,
    "start_time": "2022-07-09T11:26:14.759Z"
   },
   {
    "duration": 48,
    "start_time": "2022-07-09T11:26:15.871Z"
   },
   {
    "duration": 12,
    "start_time": "2022-07-09T11:26:16.984Z"
   },
   {
    "duration": 867,
    "start_time": "2022-07-09T11:27:05.447Z"
   },
   {
    "duration": 0,
    "start_time": "2022-07-09T11:27:06.315Z"
   },
   {
    "duration": 19,
    "start_time": "2022-07-09T11:27:07.854Z"
   },
   {
    "duration": 55,
    "start_time": "2022-07-09T11:27:08.526Z"
   },
   {
    "duration": 13,
    "start_time": "2022-07-09T11:27:09.302Z"
   },
   {
    "duration": 1041,
    "start_time": "2022-07-09T11:27:19.621Z"
   },
   {
    "duration": 286,
    "start_time": "2022-07-09T11:27:20.664Z"
   },
   {
    "duration": 14,
    "start_time": "2022-07-09T11:27:20.951Z"
   },
   {
    "duration": 20,
    "start_time": "2022-07-09T11:27:20.967Z"
   },
   {
    "duration": 41,
    "start_time": "2022-07-09T11:27:20.989Z"
   },
   {
    "duration": 29,
    "start_time": "2022-07-09T11:27:21.033Z"
   },
   {
    "duration": 7,
    "start_time": "2022-07-09T11:27:21.064Z"
   },
   {
    "duration": 31,
    "start_time": "2022-07-09T11:27:21.073Z"
   },
   {
    "duration": 23,
    "start_time": "2022-07-09T11:27:21.106Z"
   },
   {
    "duration": 23,
    "start_time": "2022-07-09T11:27:21.135Z"
   },
   {
    "duration": 265,
    "start_time": "2022-07-09T11:27:21.160Z"
   },
   {
    "duration": 18,
    "start_time": "2022-07-09T11:27:21.427Z"
   },
   {
    "duration": 10,
    "start_time": "2022-07-09T11:27:21.449Z"
   },
   {
    "duration": 17,
    "start_time": "2022-07-09T11:27:21.460Z"
   },
   {
    "duration": 4,
    "start_time": "2022-07-09T11:27:21.479Z"
   },
   {
    "duration": 12,
    "start_time": "2022-07-09T11:27:21.484Z"
   },
   {
    "duration": 31,
    "start_time": "2022-07-09T11:27:21.497Z"
   },
   {
    "duration": 17,
    "start_time": "2022-07-09T11:27:21.530Z"
   },
   {
    "duration": 5,
    "start_time": "2022-07-09T11:27:21.549Z"
   },
   {
    "duration": 24,
    "start_time": "2022-07-09T11:27:21.556Z"
   },
   {
    "duration": 7,
    "start_time": "2022-07-09T11:27:21.581Z"
   },
   {
    "duration": 5,
    "start_time": "2022-07-09T11:27:21.590Z"
   },
   {
    "duration": 9,
    "start_time": "2022-07-09T11:27:21.596Z"
   },
   {
    "duration": 3353,
    "start_time": "2022-07-09T11:27:21.624Z"
   },
   {
    "duration": 4,
    "start_time": "2022-07-09T11:27:24.979Z"
   },
   {
    "duration": 16,
    "start_time": "2022-07-09T11:27:24.985Z"
   },
   {
    "duration": 204,
    "start_time": "2022-07-09T11:27:25.002Z"
   },
   {
    "duration": 12,
    "start_time": "2022-07-09T11:27:25.210Z"
   },
   {
    "duration": 39,
    "start_time": "2022-07-09T11:27:25.224Z"
   },
   {
    "duration": 12,
    "start_time": "2022-07-09T11:27:25.265Z"
   },
   {
    "duration": 9,
    "start_time": "2022-07-09T11:27:25.278Z"
   },
   {
    "duration": 1242,
    "start_time": "2022-07-09T11:27:25.289Z"
   },
   {
    "duration": 13,
    "start_time": "2022-07-09T11:27:26.533Z"
   },
   {
    "duration": 22,
    "start_time": "2022-07-09T11:27:26.548Z"
   },
   {
    "duration": 59,
    "start_time": "2022-07-09T11:27:26.572Z"
   },
   {
    "duration": 17,
    "start_time": "2022-07-09T11:27:26.633Z"
   },
   {
    "duration": 4,
    "start_time": "2022-07-09T11:27:26.652Z"
   },
   {
    "duration": 121,
    "start_time": "2022-07-09T11:27:26.658Z"
   },
   {
    "duration": 0,
    "start_time": "2022-07-09T11:27:26.781Z"
   },
   {
    "duration": 0,
    "start_time": "2022-07-09T11:27:26.782Z"
   },
   {
    "duration": 0,
    "start_time": "2022-07-09T11:27:26.783Z"
   },
   {
    "duration": 0,
    "start_time": "2022-07-09T11:27:26.785Z"
   },
   {
    "duration": 0,
    "start_time": "2022-07-09T11:27:26.785Z"
   },
   {
    "duration": 0,
    "start_time": "2022-07-09T11:27:26.787Z"
   },
   {
    "duration": 0,
    "start_time": "2022-07-09T11:27:26.787Z"
   },
   {
    "duration": 0,
    "start_time": "2022-07-09T11:27:26.788Z"
   },
   {
    "duration": 0,
    "start_time": "2022-07-09T11:27:26.789Z"
   },
   {
    "duration": 0,
    "start_time": "2022-07-09T11:27:26.791Z"
   },
   {
    "duration": 0,
    "start_time": "2022-07-09T11:27:26.791Z"
   },
   {
    "duration": 0,
    "start_time": "2022-07-09T11:27:26.793Z"
   },
   {
    "duration": 0,
    "start_time": "2022-07-09T11:27:26.794Z"
   },
   {
    "duration": 0,
    "start_time": "2022-07-09T11:27:26.795Z"
   },
   {
    "duration": 0,
    "start_time": "2022-07-09T11:27:26.823Z"
   },
   {
    "duration": 0,
    "start_time": "2022-07-09T11:27:26.824Z"
   },
   {
    "duration": 0,
    "start_time": "2022-07-09T11:27:26.825Z"
   },
   {
    "duration": 19,
    "start_time": "2022-07-09T11:28:39.821Z"
   },
   {
    "duration": 37,
    "start_time": "2022-07-09T11:28:40.137Z"
   },
   {
    "duration": 12,
    "start_time": "2022-07-09T11:28:40.674Z"
   },
   {
    "duration": 18,
    "start_time": "2022-07-09T11:29:40.824Z"
   },
   {
    "duration": 45,
    "start_time": "2022-07-09T11:29:40.845Z"
   },
   {
    "duration": 14,
    "start_time": "2022-07-09T11:29:40.891Z"
   },
   {
    "duration": 19,
    "start_time": "2022-07-09T11:30:06.052Z"
   },
   {
    "duration": 35,
    "start_time": "2022-07-09T11:30:07.021Z"
   },
   {
    "duration": 13,
    "start_time": "2022-07-09T11:30:07.916Z"
   },
   {
    "duration": 21,
    "start_time": "2022-07-09T11:30:34.996Z"
   },
   {
    "duration": 37,
    "start_time": "2022-07-09T11:30:35.327Z"
   },
   {
    "duration": 12,
    "start_time": "2022-07-09T11:30:35.662Z"
   },
   {
    "duration": 10,
    "start_time": "2022-07-09T11:31:11.915Z"
   },
   {
    "duration": 38,
    "start_time": "2022-07-09T11:31:12.260Z"
   },
   {
    "duration": 14,
    "start_time": "2022-07-09T11:31:12.521Z"
   },
   {
    "duration": 5,
    "start_time": "2022-07-09T11:31:12.794Z"
   },
   {
    "duration": 1606,
    "start_time": "2022-07-09T11:31:13.051Z"
   },
   {
    "duration": 66,
    "start_time": "2022-07-09T11:31:14.660Z"
   },
   {
    "duration": 20,
    "start_time": "2022-07-09T11:31:14.728Z"
   },
   {
    "duration": 47,
    "start_time": "2022-07-09T11:31:14.840Z"
   },
   {
    "duration": 14,
    "start_time": "2022-07-09T11:31:14.889Z"
   },
   {
    "duration": 18,
    "start_time": "2022-07-09T11:32:07.866Z"
   },
   {
    "duration": 50,
    "start_time": "2022-07-09T11:32:08.693Z"
   },
   {
    "duration": 14,
    "start_time": "2022-07-09T11:32:09.263Z"
   },
   {
    "duration": 20,
    "start_time": "2022-07-09T11:32:38.516Z"
   },
   {
    "duration": 46,
    "start_time": "2022-07-09T11:32:38.772Z"
   },
   {
    "duration": 12,
    "start_time": "2022-07-09T11:32:38.986Z"
   },
   {
    "duration": 21,
    "start_time": "2022-07-09T11:33:01.885Z"
   },
   {
    "duration": 50,
    "start_time": "2022-07-09T11:33:02.100Z"
   },
   {
    "duration": 13,
    "start_time": "2022-07-09T11:33:02.301Z"
   },
   {
    "duration": 19,
    "start_time": "2022-07-09T11:33:47.594Z"
   },
   {
    "duration": 61,
    "start_time": "2022-07-09T11:33:47.615Z"
   },
   {
    "duration": 11,
    "start_time": "2022-07-09T11:33:47.798Z"
   },
   {
    "duration": 20,
    "start_time": "2022-07-09T11:34:08.126Z"
   },
   {
    "duration": 46,
    "start_time": "2022-07-09T11:34:08.413Z"
   },
   {
    "duration": 13,
    "start_time": "2022-07-09T11:34:09.307Z"
   },
   {
    "duration": 20,
    "start_time": "2022-07-09T11:34:41.538Z"
   },
   {
    "duration": 48,
    "start_time": "2022-07-09T11:34:41.728Z"
   },
   {
    "duration": 12,
    "start_time": "2022-07-09T11:34:42.312Z"
   },
   {
    "duration": 21,
    "start_time": "2022-07-09T11:35:06.794Z"
   },
   {
    "duration": 50,
    "start_time": "2022-07-09T11:35:07.367Z"
   },
   {
    "duration": 15,
    "start_time": "2022-07-09T11:35:07.970Z"
   },
   {
    "duration": 74,
    "start_time": "2022-07-09T11:35:33.144Z"
   },
   {
    "duration": 21,
    "start_time": "2022-07-09T11:35:43.984Z"
   },
   {
    "duration": 49,
    "start_time": "2022-07-09T11:35:44.179Z"
   },
   {
    "duration": 18,
    "start_time": "2022-07-09T11:35:44.397Z"
   },
   {
    "duration": 30,
    "start_time": "2022-07-09T11:36:04.630Z"
   },
   {
    "duration": 58,
    "start_time": "2022-07-09T11:36:04.913Z"
   },
   {
    "duration": 23,
    "start_time": "2022-07-09T11:36:05.150Z"
   },
   {
    "duration": 19,
    "start_time": "2022-07-09T11:36:23.842Z"
   },
   {
    "duration": 50,
    "start_time": "2022-07-09T11:36:24.049Z"
   },
   {
    "duration": 12,
    "start_time": "2022-07-09T11:36:24.254Z"
   },
   {
    "duration": 30,
    "start_time": "2022-07-09T11:36:41.713Z"
   },
   {
    "duration": 80,
    "start_time": "2022-07-09T11:36:41.910Z"
   },
   {
    "duration": 13,
    "start_time": "2022-07-09T11:36:42.094Z"
   },
   {
    "duration": 19,
    "start_time": "2022-07-09T11:37:03.099Z"
   },
   {
    "duration": 49,
    "start_time": "2022-07-09T11:37:03.422Z"
   },
   {
    "duration": 12,
    "start_time": "2022-07-09T11:37:03.716Z"
   },
   {
    "duration": 22,
    "start_time": "2022-07-09T11:37:28.955Z"
   },
   {
    "duration": 49,
    "start_time": "2022-07-09T11:37:29.120Z"
   },
   {
    "duration": 12,
    "start_time": "2022-07-09T11:37:29.321Z"
   },
   {
    "duration": 20,
    "start_time": "2022-07-09T11:38:21.427Z"
   },
   {
    "duration": 52,
    "start_time": "2022-07-09T11:38:22.052Z"
   },
   {
    "duration": 12,
    "start_time": "2022-07-09T11:38:24.055Z"
   },
   {
    "duration": 21,
    "start_time": "2022-07-09T11:39:17.470Z"
   },
   {
    "duration": 64,
    "start_time": "2022-07-09T11:39:17.707Z"
   },
   {
    "duration": 13,
    "start_time": "2022-07-09T11:39:17.959Z"
   },
   {
    "duration": 20,
    "start_time": "2022-07-09T11:39:41.981Z"
   },
   {
    "duration": 48,
    "start_time": "2022-07-09T11:39:42.161Z"
   },
   {
    "duration": 19,
    "start_time": "2022-07-09T11:39:42.332Z"
   },
   {
    "duration": 23,
    "start_time": "2022-07-09T11:40:30.733Z"
   },
   {
    "duration": 54,
    "start_time": "2022-07-09T11:40:30.930Z"
   },
   {
    "duration": 13,
    "start_time": "2022-07-09T11:40:31.170Z"
   },
   {
    "duration": 20,
    "start_time": "2022-07-09T11:40:53.579Z"
   },
   {
    "duration": 64,
    "start_time": "2022-07-09T11:40:53.792Z"
   },
   {
    "duration": 18,
    "start_time": "2022-07-09T11:40:54.116Z"
   },
   {
    "duration": 22,
    "start_time": "2022-07-09T11:41:50.362Z"
   },
   {
    "duration": 66,
    "start_time": "2022-07-09T11:41:51.316Z"
   },
   {
    "duration": 22,
    "start_time": "2022-07-09T11:41:51.507Z"
   },
   {
    "duration": 19,
    "start_time": "2022-07-09T11:42:18.594Z"
   },
   {
    "duration": 66,
    "start_time": "2022-07-09T11:42:18.615Z"
   },
   {
    "duration": 13,
    "start_time": "2022-07-09T11:42:18.802Z"
   },
   {
    "duration": 21,
    "start_time": "2022-07-09T11:42:36.110Z"
   },
   {
    "duration": 62,
    "start_time": "2022-07-09T11:42:36.313Z"
   },
   {
    "duration": 17,
    "start_time": "2022-07-09T11:42:36.621Z"
   },
   {
    "duration": 22,
    "start_time": "2022-07-09T11:43:44.758Z"
   },
   {
    "duration": 65,
    "start_time": "2022-07-09T11:43:44.983Z"
   },
   {
    "duration": 13,
    "start_time": "2022-07-09T11:43:45.584Z"
   },
   {
    "duration": 29,
    "start_time": "2022-07-09T11:44:09.407Z"
   },
   {
    "duration": 66,
    "start_time": "2022-07-09T11:44:09.710Z"
   },
   {
    "duration": 19,
    "start_time": "2022-07-09T11:44:09.973Z"
   },
   {
    "duration": 23,
    "start_time": "2022-07-09T13:00:28.117Z"
   },
   {
    "duration": 62,
    "start_time": "2022-07-09T13:00:33.282Z"
   },
   {
    "duration": 18,
    "start_time": "2022-07-09T13:00:33.517Z"
   },
   {
    "duration": 22,
    "start_time": "2022-07-09T13:01:04.885Z"
   },
   {
    "duration": 54,
    "start_time": "2022-07-09T13:01:05.572Z"
   },
   {
    "duration": 13,
    "start_time": "2022-07-09T13:01:05.780Z"
   },
   {
    "duration": 22,
    "start_time": "2022-07-09T13:02:37.163Z"
   },
   {
    "duration": 51,
    "start_time": "2022-07-09T13:02:38.038Z"
   },
   {
    "duration": 13,
    "start_time": "2022-07-09T13:02:38.262Z"
   },
   {
    "duration": 24,
    "start_time": "2022-07-09T13:03:15.171Z"
   },
   {
    "duration": 55,
    "start_time": "2022-07-09T13:03:16.140Z"
   },
   {
    "duration": 13,
    "start_time": "2022-07-09T13:03:16.404Z"
   },
   {
    "duration": 21,
    "start_time": "2022-07-09T13:04:21.631Z"
   },
   {
    "duration": 57,
    "start_time": "2022-07-09T13:04:23.705Z"
   },
   {
    "duration": 18,
    "start_time": "2022-07-09T13:04:26.045Z"
   },
   {
    "duration": 24,
    "start_time": "2022-07-09T13:05:10.963Z"
   },
   {
    "duration": 62,
    "start_time": "2022-07-09T13:05:12.072Z"
   },
   {
    "duration": 22,
    "start_time": "2022-07-09T13:05:12.388Z"
   },
   {
    "duration": 23,
    "start_time": "2022-07-09T13:05:36.939Z"
   },
   {
    "duration": 68,
    "start_time": "2022-07-09T13:05:37.944Z"
   },
   {
    "duration": 13,
    "start_time": "2022-07-09T13:05:38.194Z"
   },
   {
    "duration": 23,
    "start_time": "2022-07-09T13:05:56.657Z"
   },
   {
    "duration": 71,
    "start_time": "2022-07-09T13:05:57.069Z"
   },
   {
    "duration": 20,
    "start_time": "2022-07-09T13:05:57.568Z"
   },
   {
    "duration": 39,
    "start_time": "2022-07-09T13:06:47.805Z"
   },
   {
    "duration": 58,
    "start_time": "2022-07-09T13:06:49.069Z"
   },
   {
    "duration": 22,
    "start_time": "2022-07-09T13:06:49.672Z"
   },
   {
    "duration": 28,
    "start_time": "2022-07-09T13:07:34.373Z"
   },
   {
    "duration": 62,
    "start_time": "2022-07-09T13:07:35.297Z"
   },
   {
    "duration": 24,
    "start_time": "2022-07-09T13:07:35.506Z"
   },
   {
    "duration": 35,
    "start_time": "2022-07-09T13:07:59.031Z"
   },
   {
    "duration": 90,
    "start_time": "2022-07-09T13:07:59.401Z"
   },
   {
    "duration": 13,
    "start_time": "2022-07-09T13:07:59.612Z"
   },
   {
    "duration": 71,
    "start_time": "2022-07-09T13:08:22.854Z"
   },
   {
    "duration": 71,
    "start_time": "2022-07-09T13:08:44.749Z"
   },
   {
    "duration": 136,
    "start_time": "2022-07-09T13:08:51.814Z"
   },
   {
    "duration": 82,
    "start_time": "2022-07-09T13:08:54.617Z"
   },
   {
    "duration": 40,
    "start_time": "2022-07-09T13:09:13.822Z"
   },
   {
    "duration": 52,
    "start_time": "2022-07-09T13:09:16.147Z"
   },
   {
    "duration": 12,
    "start_time": "2022-07-09T13:09:16.794Z"
   },
   {
    "duration": 34,
    "start_time": "2022-07-09T13:09:47.314Z"
   },
   {
    "duration": 63,
    "start_time": "2022-07-09T13:09:47.957Z"
   },
   {
    "duration": 14,
    "start_time": "2022-07-09T13:09:48.603Z"
   },
   {
    "duration": 24,
    "start_time": "2022-07-09T13:11:23.154Z"
   },
   {
    "duration": 63,
    "start_time": "2022-07-09T13:11:24.298Z"
   },
   {
    "duration": 19,
    "start_time": "2022-07-09T13:11:24.549Z"
   },
   {
    "duration": 25,
    "start_time": "2022-07-09T13:12:01.352Z"
   },
   {
    "duration": 74,
    "start_time": "2022-07-09T13:12:02.610Z"
   },
   {
    "duration": 15,
    "start_time": "2022-07-09T13:12:05.057Z"
   },
   {
    "duration": 36,
    "start_time": "2022-07-09T13:12:48.028Z"
   },
   {
    "duration": 74,
    "start_time": "2022-07-09T13:12:48.903Z"
   },
   {
    "duration": 15,
    "start_time": "2022-07-09T13:12:49.469Z"
   },
   {
    "duration": 25,
    "start_time": "2022-07-09T13:14:33.870Z"
   },
   {
    "duration": 80,
    "start_time": "2022-07-09T13:14:34.318Z"
   },
   {
    "duration": 28,
    "start_time": "2022-07-09T13:14:34.513Z"
   },
   {
    "duration": 25,
    "start_time": "2022-07-09T13:15:29.347Z"
   },
   {
    "duration": 58,
    "start_time": "2022-07-09T13:15:29.743Z"
   },
   {
    "duration": 16,
    "start_time": "2022-07-09T13:15:29.985Z"
   },
   {
    "duration": 33,
    "start_time": "2022-07-09T13:16:08.328Z"
   },
   {
    "duration": 67,
    "start_time": "2022-07-09T13:16:08.749Z"
   },
   {
    "duration": 16,
    "start_time": "2022-07-09T13:16:09.007Z"
   },
   {
    "duration": 38,
    "start_time": "2022-07-09T13:17:01.544Z"
   },
   {
    "duration": 91,
    "start_time": "2022-07-09T13:17:01.905Z"
   },
   {
    "duration": 18,
    "start_time": "2022-07-09T13:17:02.186Z"
   },
   {
    "duration": 32,
    "start_time": "2022-07-09T13:17:21.034Z"
   },
   {
    "duration": 67,
    "start_time": "2022-07-09T13:17:21.432Z"
   },
   {
    "duration": 25,
    "start_time": "2022-07-09T13:17:21.630Z"
   },
   {
    "duration": 32,
    "start_time": "2022-07-09T13:17:39.957Z"
   },
   {
    "duration": 97,
    "start_time": "2022-07-09T13:17:40.327Z"
   },
   {
    "duration": 21,
    "start_time": "2022-07-09T13:17:41.344Z"
   },
   {
    "duration": 29,
    "start_time": "2022-07-09T13:17:58.861Z"
   },
   {
    "duration": 60,
    "start_time": "2022-07-09T13:18:00.260Z"
   },
   {
    "duration": 20,
    "start_time": "2022-07-09T13:18:00.746Z"
   },
   {
    "duration": 22,
    "start_time": "2022-07-09T13:18:20.499Z"
   },
   {
    "duration": 61,
    "start_time": "2022-07-09T13:18:20.871Z"
   },
   {
    "duration": 13,
    "start_time": "2022-07-09T13:18:21.073Z"
   },
   {
    "duration": 23,
    "start_time": "2022-07-09T13:18:38.457Z"
   },
   {
    "duration": 75,
    "start_time": "2022-07-09T13:18:38.798Z"
   },
   {
    "duration": 13,
    "start_time": "2022-07-09T13:18:39.007Z"
   },
   {
    "duration": 38,
    "start_time": "2022-07-09T13:19:00.163Z"
   },
   {
    "duration": 64,
    "start_time": "2022-07-09T13:19:00.829Z"
   },
   {
    "duration": 13,
    "start_time": "2022-07-09T13:19:01.085Z"
   },
   {
    "duration": 29,
    "start_time": "2022-07-09T13:21:04.138Z"
   },
   {
    "duration": 88,
    "start_time": "2022-07-09T13:21:05.046Z"
   },
   {
    "duration": 22,
    "start_time": "2022-07-09T13:21:05.532Z"
   },
   {
    "duration": 37,
    "start_time": "2022-07-09T13:21:30.943Z"
   },
   {
    "duration": 69,
    "start_time": "2022-07-09T13:21:31.338Z"
   },
   {
    "duration": 18,
    "start_time": "2022-07-09T13:21:31.690Z"
   },
   {
    "duration": 41,
    "start_time": "2022-07-09T13:22:05.194Z"
   },
   {
    "duration": 83,
    "start_time": "2022-07-09T13:22:05.638Z"
   },
   {
    "duration": 17,
    "start_time": "2022-07-09T13:22:06.067Z"
   },
   {
    "duration": 23,
    "start_time": "2022-07-09T13:22:35.182Z"
   },
   {
    "duration": 70,
    "start_time": "2022-07-09T13:22:35.898Z"
   },
   {
    "duration": 13,
    "start_time": "2022-07-09T13:22:36.109Z"
   },
   {
    "duration": 29,
    "start_time": "2022-07-09T13:23:31.449Z"
   },
   {
    "duration": 67,
    "start_time": "2022-07-09T13:23:31.938Z"
   },
   {
    "duration": 18,
    "start_time": "2022-07-09T13:23:32.269Z"
   },
   {
    "duration": 24,
    "start_time": "2022-07-09T13:23:56.202Z"
   },
   {
    "duration": 63,
    "start_time": "2022-07-09T13:23:56.605Z"
   },
   {
    "duration": 13,
    "start_time": "2022-07-09T13:23:56.861Z"
   },
   {
    "duration": 30,
    "start_time": "2022-07-09T13:24:23.199Z"
   },
   {
    "duration": 54,
    "start_time": "2022-07-09T13:24:23.659Z"
   },
   {
    "duration": 16,
    "start_time": "2022-07-09T13:24:24.560Z"
   },
   {
    "duration": 45,
    "start_time": "2022-07-09T13:25:09.396Z"
   },
   {
    "duration": 63,
    "start_time": "2022-07-09T13:25:09.756Z"
   },
   {
    "duration": 17,
    "start_time": "2022-07-09T13:25:09.974Z"
   },
   {
    "duration": 1192,
    "start_time": "2022-07-09T13:31:51.925Z"
   },
   {
    "duration": 164,
    "start_time": "2022-07-09T13:31:53.119Z"
   },
   {
    "duration": 14,
    "start_time": "2022-07-09T13:31:54.166Z"
   },
   {
    "duration": 5,
    "start_time": "2022-07-09T13:31:55.648Z"
   },
   {
    "duration": 15,
    "start_time": "2022-07-09T13:31:55.950Z"
   },
   {
    "duration": 22,
    "start_time": "2022-07-09T13:31:56.200Z"
   },
   {
    "duration": 11,
    "start_time": "2022-07-09T13:31:57.081Z"
   },
   {
    "duration": 19,
    "start_time": "2022-07-09T13:31:57.598Z"
   },
   {
    "duration": 19,
    "start_time": "2022-07-09T13:31:58.642Z"
   },
   {
    "duration": 12,
    "start_time": "2022-07-09T13:31:58.926Z"
   },
   {
    "duration": 273,
    "start_time": "2022-07-09T13:32:00.440Z"
   },
   {
    "duration": 16,
    "start_time": "2022-07-09T13:32:02.539Z"
   },
   {
    "duration": 10,
    "start_time": "2022-07-09T13:32:05.403Z"
   },
   {
    "duration": 15,
    "start_time": "2022-07-09T13:32:05.672Z"
   },
   {
    "duration": 5,
    "start_time": "2022-07-09T13:32:05.879Z"
   },
   {
    "duration": 6,
    "start_time": "2022-07-09T13:32:06.096Z"
   },
   {
    "duration": 12,
    "start_time": "2022-07-09T13:32:06.944Z"
   },
   {
    "duration": 14,
    "start_time": "2022-07-09T13:32:07.238Z"
   },
   {
    "duration": 7,
    "start_time": "2022-07-09T13:32:07.691Z"
   },
   {
    "duration": 16,
    "start_time": "2022-07-09T13:32:07.939Z"
   },
   {
    "duration": 12,
    "start_time": "2022-07-09T13:32:08.628Z"
   },
   {
    "duration": 4,
    "start_time": "2022-07-09T13:32:09.307Z"
   },
   {
    "duration": 7,
    "start_time": "2022-07-09T13:32:11.544Z"
   },
   {
    "duration": 3329,
    "start_time": "2022-07-09T13:32:11.747Z"
   },
   {
    "duration": 6,
    "start_time": "2022-07-09T13:32:15.079Z"
   },
   {
    "duration": 5,
    "start_time": "2022-07-09T13:32:18.736Z"
   },
   {
    "duration": 234,
    "start_time": "2022-07-09T13:32:20.050Z"
   },
   {
    "duration": 11,
    "start_time": "2022-07-09T13:32:21.184Z"
   },
   {
    "duration": 43,
    "start_time": "2022-07-09T13:32:22.391Z"
   },
   {
    "duration": 14,
    "start_time": "2022-07-09T13:32:22.671Z"
   },
   {
    "duration": 9,
    "start_time": "2022-07-09T13:32:23.352Z"
   },
   {
    "duration": 1576,
    "start_time": "2022-07-09T13:32:25.207Z"
   },
   {
    "duration": 13,
    "start_time": "2022-07-09T13:32:26.786Z"
   },
   {
    "duration": 8,
    "start_time": "2022-07-09T13:32:31.027Z"
   },
   {
    "duration": 5,
    "start_time": "2022-07-09T13:33:18.054Z"
   },
   {
    "duration": 12,
    "start_time": "2022-07-09T13:33:18.980Z"
   },
   {
    "duration": 16,
    "start_time": "2022-07-09T13:33:19.755Z"
   },
   {
    "duration": 5,
    "start_time": "2022-07-09T13:34:12.647Z"
   },
   {
    "duration": 14,
    "start_time": "2022-07-09T13:34:13.048Z"
   },
   {
    "duration": 13,
    "start_time": "2022-07-09T13:34:13.585Z"
   },
   {
    "duration": 5,
    "start_time": "2022-07-09T13:34:39.215Z"
   },
   {
    "duration": 12,
    "start_time": "2022-07-09T13:34:39.655Z"
   },
   {
    "duration": 15,
    "start_time": "2022-07-09T13:34:40.079Z"
   },
   {
    "duration": 5,
    "start_time": "2022-07-09T13:35:47.669Z"
   },
   {
    "duration": 12,
    "start_time": "2022-07-09T13:35:48.148Z"
   },
   {
    "duration": 15,
    "start_time": "2022-07-09T13:35:48.650Z"
   },
   {
    "duration": 6,
    "start_time": "2022-07-09T13:36:01.627Z"
   },
   {
    "duration": 14,
    "start_time": "2022-07-09T13:36:01.933Z"
   },
   {
    "duration": 20,
    "start_time": "2022-07-09T13:36:02.230Z"
   },
   {
    "duration": 8,
    "start_time": "2022-07-09T13:36:28.190Z"
   },
   {
    "duration": 12,
    "start_time": "2022-07-09T13:36:28.487Z"
   },
   {
    "duration": 13,
    "start_time": "2022-07-09T13:36:29.054Z"
   },
   {
    "duration": 7,
    "start_time": "2022-07-09T13:36:48.028Z"
   },
   {
    "duration": 14,
    "start_time": "2022-07-09T13:36:48.229Z"
   },
   {
    "duration": 19,
    "start_time": "2022-07-09T13:36:48.531Z"
   },
   {
    "duration": 7,
    "start_time": "2022-07-09T13:37:09.363Z"
   },
   {
    "duration": 14,
    "start_time": "2022-07-09T13:37:09.649Z"
   },
   {
    "duration": 16,
    "start_time": "2022-07-09T13:37:10.103Z"
   },
   {
    "duration": 5,
    "start_time": "2022-07-09T13:37:36.446Z"
   },
   {
    "duration": 12,
    "start_time": "2022-07-09T13:37:36.659Z"
   },
   {
    "duration": 21,
    "start_time": "2022-07-09T13:37:36.934Z"
   },
   {
    "duration": 7,
    "start_time": "2022-07-09T13:39:10.126Z"
   },
   {
    "duration": 15,
    "start_time": "2022-07-09T13:39:11.540Z"
   },
   {
    "duration": 6,
    "start_time": "2022-07-09T13:39:29.662Z"
   },
   {
    "duration": 14,
    "start_time": "2022-07-09T13:39:30.252Z"
   },
   {
    "duration": 16,
    "start_time": "2022-07-09T13:39:31.365Z"
   },
   {
    "duration": 5,
    "start_time": "2022-07-09T13:39:58.859Z"
   },
   {
    "duration": 11,
    "start_time": "2022-07-09T13:39:59.053Z"
   },
   {
    "duration": 19,
    "start_time": "2022-07-09T13:39:59.559Z"
   },
   {
    "duration": 6,
    "start_time": "2022-07-09T13:41:42.003Z"
   },
   {
    "duration": 13,
    "start_time": "2022-07-09T13:41:42.206Z"
   },
   {
    "duration": 13,
    "start_time": "2022-07-09T13:41:42.383Z"
   },
   {
    "duration": 11,
    "start_time": "2022-07-09T13:42:01.016Z"
   },
   {
    "duration": 19,
    "start_time": "2022-07-09T13:42:01.609Z"
   },
   {
    "duration": 16,
    "start_time": "2022-07-09T13:42:03.008Z"
   },
   {
    "duration": 4,
    "start_time": "2022-07-09T13:42:41.691Z"
   },
   {
    "duration": 13,
    "start_time": "2022-07-09T13:42:41.881Z"
   },
   {
    "duration": 14,
    "start_time": "2022-07-09T13:42:42.088Z"
   },
   {
    "duration": 7,
    "start_time": "2022-07-09T13:43:16.937Z"
   },
   {
    "duration": 13,
    "start_time": "2022-07-09T13:43:17.103Z"
   },
   {
    "duration": 15,
    "start_time": "2022-07-09T13:43:17.310Z"
   },
   {
    "duration": 6,
    "start_time": "2022-07-09T13:43:32.330Z"
   },
   {
    "duration": 22,
    "start_time": "2022-07-09T13:43:32.523Z"
   },
   {
    "duration": 16,
    "start_time": "2022-07-09T13:43:32.744Z"
   },
   {
    "duration": 6,
    "start_time": "2022-07-09T13:44:09.391Z"
   },
   {
    "duration": 20,
    "start_time": "2022-07-09T13:44:09.597Z"
   },
   {
    "duration": 22,
    "start_time": "2022-07-09T13:44:09.806Z"
   },
   {
    "duration": 5,
    "start_time": "2022-07-09T13:44:56.453Z"
   },
   {
    "duration": 14,
    "start_time": "2022-07-09T13:44:56.655Z"
   },
   {
    "duration": 13,
    "start_time": "2022-07-09T13:44:56.976Z"
   },
   {
    "duration": 6,
    "start_time": "2022-07-09T13:45:26.581Z"
   },
   {
    "duration": 14,
    "start_time": "2022-07-09T13:45:26.855Z"
   },
   {
    "duration": 16,
    "start_time": "2022-07-09T13:45:27.206Z"
   },
   {
    "duration": 6,
    "start_time": "2022-07-09T13:46:14.071Z"
   },
   {
    "duration": 14,
    "start_time": "2022-07-09T13:46:14.306Z"
   },
   {
    "duration": 14,
    "start_time": "2022-07-09T13:46:15.760Z"
   },
   {
    "duration": 7,
    "start_time": "2022-07-09T13:46:48.120Z"
   },
   {
    "duration": 17,
    "start_time": "2022-07-09T13:46:48.477Z"
   },
   {
    "duration": 15,
    "start_time": "2022-07-09T13:46:50.451Z"
   },
   {
    "duration": 9,
    "start_time": "2022-07-09T13:47:40.322Z"
   },
   {
    "duration": 25,
    "start_time": "2022-07-09T13:47:40.531Z"
   },
   {
    "duration": 20,
    "start_time": "2022-07-09T13:47:41.534Z"
   },
   {
    "duration": 6,
    "start_time": "2022-07-09T13:48:32.658Z"
   },
   {
    "duration": 18,
    "start_time": "2022-07-09T13:48:33.256Z"
   },
   {
    "duration": 14,
    "start_time": "2022-07-09T13:48:48.956Z"
   },
   {
    "duration": 25,
    "start_time": "2022-07-09T13:54:06.877Z"
   },
   {
    "duration": 56,
    "start_time": "2022-07-09T13:54:11.398Z"
   },
   {
    "duration": 14,
    "start_time": "2022-07-09T13:54:11.782Z"
   },
   {
    "duration": 23,
    "start_time": "2022-07-09T13:55:01.185Z"
   },
   {
    "duration": 51,
    "start_time": "2022-07-09T13:55:01.523Z"
   },
   {
    "duration": 13,
    "start_time": "2022-07-09T13:55:02.166Z"
   },
   {
    "duration": 23,
    "start_time": "2022-07-09T13:55:49.614Z"
   },
   {
    "duration": 57,
    "start_time": "2022-07-09T13:55:50.385Z"
   },
   {
    "duration": 17,
    "start_time": "2022-07-09T13:55:50.838Z"
   },
   {
    "duration": 16,
    "start_time": "2022-07-09T13:56:12.570Z"
   },
   {
    "duration": 56,
    "start_time": "2022-07-09T13:56:12.889Z"
   },
   {
    "duration": 20,
    "start_time": "2022-07-09T13:56:13.144Z"
   },
   {
    "duration": 27,
    "start_time": "2022-07-09T13:56:31.406Z"
   },
   {
    "duration": 42,
    "start_time": "2022-07-09T13:56:31.865Z"
   },
   {
    "duration": 24,
    "start_time": "2022-07-09T13:56:32.120Z"
   },
   {
    "duration": 17,
    "start_time": "2022-07-09T13:56:56.446Z"
   },
   {
    "duration": 40,
    "start_time": "2022-07-09T13:56:56.650Z"
   },
   {
    "duration": 13,
    "start_time": "2022-07-09T13:56:56.864Z"
   },
   {
    "duration": 24,
    "start_time": "2022-07-09T13:57:16.428Z"
   },
   {
    "duration": 78,
    "start_time": "2022-07-09T13:57:16.762Z"
   },
   {
    "duration": 14,
    "start_time": "2022-07-09T13:57:16.958Z"
   },
   {
    "duration": 28,
    "start_time": "2022-07-09T13:58:22.981Z"
   },
   {
    "duration": 67,
    "start_time": "2022-07-09T13:58:23.203Z"
   },
   {
    "duration": 20,
    "start_time": "2022-07-09T13:58:23.472Z"
   },
   {
    "duration": 29,
    "start_time": "2022-07-09T13:59:28.227Z"
   },
   {
    "duration": 55,
    "start_time": "2022-07-09T13:59:28.700Z"
   },
   {
    "duration": 14,
    "start_time": "2022-07-09T13:59:29.179Z"
   },
   {
    "duration": 21,
    "start_time": "2022-07-09T14:00:52.348Z"
   },
   {
    "duration": 45,
    "start_time": "2022-07-09T14:00:52.556Z"
   },
   {
    "duration": 16,
    "start_time": "2022-07-09T14:00:52.803Z"
   },
   {
    "duration": 22,
    "start_time": "2022-07-09T14:03:44.680Z"
   },
   {
    "duration": 44,
    "start_time": "2022-07-09T14:03:45.678Z"
   },
   {
    "duration": 26,
    "start_time": "2022-07-09T14:03:46.215Z"
   },
   {
    "duration": 17,
    "start_time": "2022-07-09T14:04:38.570Z"
   },
   {
    "duration": 57,
    "start_time": "2022-07-09T14:04:38.939Z"
   },
   {
    "duration": 14,
    "start_time": "2022-07-09T14:04:39.397Z"
   },
   {
    "duration": 15,
    "start_time": "2022-07-09T14:05:39.798Z"
   },
   {
    "duration": 61,
    "start_time": "2022-07-09T14:05:40.275Z"
   },
   {
    "duration": 24,
    "start_time": "2022-07-09T14:05:40.815Z"
   },
   {
    "duration": 18,
    "start_time": "2022-07-09T14:06:09.178Z"
   },
   {
    "duration": 61,
    "start_time": "2022-07-09T14:06:09.423Z"
   },
   {
    "duration": 16,
    "start_time": "2022-07-09T14:06:09.754Z"
   },
   {
    "duration": 16,
    "start_time": "2022-07-09T14:06:22.604Z"
   },
   {
    "duration": 47,
    "start_time": "2022-07-09T14:06:23.423Z"
   },
   {
    "duration": 14,
    "start_time": "2022-07-09T14:06:24.159Z"
   },
   {
    "duration": 112,
    "start_time": "2022-07-09T14:07:51.727Z"
   },
   {
    "duration": 54,
    "start_time": "2022-07-09T14:07:51.940Z"
   },
   {
    "duration": 28,
    "start_time": "2022-07-09T14:07:52.214Z"
   },
   {
    "duration": 19,
    "start_time": "2022-07-09T14:09:28.291Z"
   },
   {
    "duration": 14,
    "start_time": "2022-07-09T14:09:28.783Z"
   },
   {
    "duration": 10,
    "start_time": "2022-07-09T14:09:29.319Z"
   },
   {
    "duration": 27,
    "start_time": "2022-07-09T14:09:37.442Z"
   },
   {
    "duration": 27,
    "start_time": "2022-07-09T14:09:37.922Z"
   },
   {
    "duration": 6,
    "start_time": "2022-07-09T14:09:38.349Z"
   },
   {
    "duration": 23,
    "start_time": "2022-07-09T14:10:24.668Z"
   },
   {
    "duration": 43,
    "start_time": "2022-07-09T14:10:25.358Z"
   },
   {
    "duration": 18,
    "start_time": "2022-07-09T14:10:25.831Z"
   },
   {
    "duration": 29,
    "start_time": "2022-07-09T14:11:03.846Z"
   },
   {
    "duration": 59,
    "start_time": "2022-07-09T14:11:04.013Z"
   },
   {
    "duration": 14,
    "start_time": "2022-07-09T14:11:04.291Z"
   },
   {
    "duration": 20,
    "start_time": "2022-07-09T14:11:22.765Z"
   },
   {
    "duration": 54,
    "start_time": "2022-07-09T14:11:22.950Z"
   },
   {
    "duration": 29,
    "start_time": "2022-07-09T14:11:23.203Z"
   },
   {
    "duration": 19,
    "start_time": "2022-07-09T14:12:09.657Z"
   },
   {
    "duration": 76,
    "start_time": "2022-07-09T14:12:09.985Z"
   },
   {
    "duration": 22,
    "start_time": "2022-07-09T14:12:10.190Z"
   },
   {
    "duration": 19,
    "start_time": "2022-07-09T14:12:35.908Z"
   },
   {
    "duration": 88,
    "start_time": "2022-07-09T14:12:36.327Z"
   },
   {
    "duration": 17,
    "start_time": "2022-07-09T14:12:37.202Z"
   },
   {
    "duration": 25,
    "start_time": "2022-07-09T14:13:25.416Z"
   },
   {
    "duration": 86,
    "start_time": "2022-07-09T14:13:25.759Z"
   },
   {
    "duration": 20,
    "start_time": "2022-07-09T14:13:26.260Z"
   },
   {
    "duration": 18,
    "start_time": "2022-07-09T14:14:16.069Z"
   },
   {
    "duration": 57,
    "start_time": "2022-07-09T14:14:16.288Z"
   },
   {
    "duration": 21,
    "start_time": "2022-07-09T14:14:17.016Z"
   },
   {
    "duration": 17,
    "start_time": "2022-07-09T14:15:19.402Z"
   },
   {
    "duration": 60,
    "start_time": "2022-07-09T14:15:19.909Z"
   },
   {
    "duration": 19,
    "start_time": "2022-07-09T14:15:20.358Z"
   },
   {
    "duration": 22,
    "start_time": "2022-07-09T14:15:53.267Z"
   },
   {
    "duration": 67,
    "start_time": "2022-07-09T14:15:53.710Z"
   },
   {
    "duration": 23,
    "start_time": "2022-07-09T14:15:54.410Z"
   },
   {
    "duration": 21,
    "start_time": "2022-07-09T14:16:30.204Z"
   },
   {
    "duration": 62,
    "start_time": "2022-07-09T14:16:30.517Z"
   },
   {
    "duration": 15,
    "start_time": "2022-07-09T14:16:30.813Z"
   },
   {
    "duration": 18,
    "start_time": "2022-07-09T14:17:10.395Z"
   },
   {
    "duration": 48,
    "start_time": "2022-07-09T14:17:10.668Z"
   },
   {
    "duration": 16,
    "start_time": "2022-07-09T14:17:10.911Z"
   },
   {
    "duration": 22,
    "start_time": "2022-07-09T14:18:24.038Z"
   },
   {
    "duration": 70,
    "start_time": "2022-07-09T14:18:24.387Z"
   },
   {
    "duration": 14,
    "start_time": "2022-07-09T14:18:24.751Z"
   },
   {
    "duration": 18,
    "start_time": "2022-07-09T14:18:59.795Z"
   },
   {
    "duration": 57,
    "start_time": "2022-07-09T14:18:59.999Z"
   },
   {
    "duration": 16,
    "start_time": "2022-07-09T14:19:00.186Z"
   },
   {
    "duration": 29,
    "start_time": "2022-07-09T14:20:05.357Z"
   },
   {
    "duration": 48,
    "start_time": "2022-07-09T14:20:05.743Z"
   },
   {
    "duration": 18,
    "start_time": "2022-07-09T14:20:06.335Z"
   },
   {
    "duration": 22,
    "start_time": "2022-07-09T14:20:45.211Z"
   },
   {
    "duration": 59,
    "start_time": "2022-07-09T14:20:45.388Z"
   },
   {
    "duration": 13,
    "start_time": "2022-07-09T14:20:45.603Z"
   },
   {
    "duration": 17,
    "start_time": "2022-07-09T14:21:05.250Z"
   },
   {
    "duration": 52,
    "start_time": "2022-07-09T14:21:05.437Z"
   },
   {
    "duration": 17,
    "start_time": "2022-07-09T14:21:05.740Z"
   },
   {
    "duration": 37,
    "start_time": "2022-07-09T14:21:31.199Z"
   },
   {
    "duration": 51,
    "start_time": "2022-07-09T14:21:31.560Z"
   },
   {
    "duration": 19,
    "start_time": "2022-07-09T14:21:31.871Z"
   },
   {
    "duration": 18,
    "start_time": "2022-07-09T14:21:53.585Z"
   },
   {
    "duration": 44,
    "start_time": "2022-07-09T14:21:53.862Z"
   },
   {
    "duration": 20,
    "start_time": "2022-07-09T14:21:54.144Z"
   },
   {
    "duration": 19,
    "start_time": "2022-07-09T14:23:52.178Z"
   },
   {
    "duration": 88,
    "start_time": "2022-07-09T14:23:52.938Z"
   },
   {
    "duration": 22,
    "start_time": "2022-07-09T14:23:53.203Z"
   },
   {
    "duration": 32,
    "start_time": "2022-07-09T14:24:49.716Z"
   },
   {
    "duration": 56,
    "start_time": "2022-07-09T14:24:50.236Z"
   },
   {
    "duration": 15,
    "start_time": "2022-07-09T14:24:50.614Z"
   },
   {
    "duration": 23,
    "start_time": "2022-07-09T14:25:56.140Z"
   },
   {
    "duration": 44,
    "start_time": "2022-07-09T14:25:56.358Z"
   },
   {
    "duration": 13,
    "start_time": "2022-07-09T14:25:56.595Z"
   },
   {
    "duration": 26,
    "start_time": "2022-07-09T14:26:52.181Z"
   },
   {
    "duration": 54,
    "start_time": "2022-07-09T14:26:52.389Z"
   },
   {
    "duration": 15,
    "start_time": "2022-07-09T14:26:52.657Z"
   },
   {
    "duration": 19,
    "start_time": "2022-07-09T14:27:18.639Z"
   },
   {
    "duration": 45,
    "start_time": "2022-07-09T14:27:19.166Z"
   },
   {
    "duration": 14,
    "start_time": "2022-07-09T14:27:19.547Z"
   },
   {
    "duration": 17,
    "start_time": "2022-07-09T14:28:42.689Z"
   },
   {
    "duration": 48,
    "start_time": "2022-07-09T14:28:42.920Z"
   },
   {
    "duration": 14,
    "start_time": "2022-07-09T14:28:43.189Z"
   },
   {
    "duration": 20,
    "start_time": "2022-07-09T14:29:28.345Z"
   },
   {
    "duration": 44,
    "start_time": "2022-07-09T14:29:28.646Z"
   },
   {
    "duration": 13,
    "start_time": "2022-07-09T14:29:29.498Z"
   },
   {
    "duration": 19,
    "start_time": "2022-07-09T14:30:35.654Z"
   },
   {
    "duration": 45,
    "start_time": "2022-07-09T14:30:36.291Z"
   },
   {
    "duration": 14,
    "start_time": "2022-07-09T14:30:36.792Z"
   },
   {
    "duration": 20,
    "start_time": "2022-07-09T14:31:38.377Z"
   },
   {
    "duration": 46,
    "start_time": "2022-07-09T14:31:38.588Z"
   },
   {
    "duration": 14,
    "start_time": "2022-07-09T14:31:38.850Z"
   },
   {
    "duration": 21,
    "start_time": "2022-07-09T14:32:16.486Z"
   },
   {
    "duration": 48,
    "start_time": "2022-07-09T14:32:17.042Z"
   },
   {
    "duration": 13,
    "start_time": "2022-07-09T14:32:17.565Z"
   },
   {
    "duration": 23,
    "start_time": "2022-07-09T14:33:40.913Z"
   },
   {
    "duration": 47,
    "start_time": "2022-07-09T14:33:41.179Z"
   },
   {
    "duration": 14,
    "start_time": "2022-07-09T14:33:41.419Z"
   },
   {
    "duration": 36,
    "start_time": "2022-07-09T14:34:05.153Z"
   },
   {
    "duration": 93,
    "start_time": "2022-07-09T14:34:05.329Z"
   },
   {
    "duration": 20,
    "start_time": "2022-07-09T14:34:05.641Z"
   },
   {
    "duration": 26,
    "start_time": "2022-07-09T14:34:54.512Z"
   },
   {
    "duration": 49,
    "start_time": "2022-07-09T14:34:54.896Z"
   },
   {
    "duration": 14,
    "start_time": "2022-07-09T14:34:55.437Z"
   },
   {
    "duration": 20,
    "start_time": "2022-07-09T14:35:40.570Z"
   },
   {
    "duration": 46,
    "start_time": "2022-07-09T14:35:40.774Z"
   },
   {
    "duration": 13,
    "start_time": "2022-07-09T14:35:41.007Z"
   },
   {
    "duration": 33,
    "start_time": "2022-07-09T14:36:52.822Z"
   },
   {
    "duration": 50,
    "start_time": "2022-07-09T14:36:52.996Z"
   },
   {
    "duration": 16,
    "start_time": "2022-07-09T14:36:53.218Z"
   },
   {
    "duration": 21,
    "start_time": "2022-07-09T14:37:20.622Z"
   },
   {
    "duration": 46,
    "start_time": "2022-07-09T14:37:20.858Z"
   },
   {
    "duration": 13,
    "start_time": "2022-07-09T14:37:21.120Z"
   },
   {
    "duration": 39,
    "start_time": "2022-07-09T14:37:53.070Z"
   },
   {
    "duration": 70,
    "start_time": "2022-07-09T14:37:53.257Z"
   },
   {
    "duration": 14,
    "start_time": "2022-07-09T14:37:53.475Z"
   },
   {
    "duration": 36,
    "start_time": "2022-07-09T14:38:44.754Z"
   },
   {
    "duration": 46,
    "start_time": "2022-07-09T14:38:45.058Z"
   },
   {
    "duration": 13,
    "start_time": "2022-07-09T14:38:45.560Z"
   },
   {
    "duration": 22,
    "start_time": "2022-07-09T14:39:11.754Z"
   },
   {
    "duration": 57,
    "start_time": "2022-07-09T14:39:12.082Z"
   },
   {
    "duration": 15,
    "start_time": "2022-07-09T14:39:13.343Z"
   },
   {
    "duration": 33,
    "start_time": "2022-07-09T14:39:56.730Z"
   },
   {
    "duration": 58,
    "start_time": "2022-07-09T14:39:56.909Z"
   },
   {
    "duration": 12,
    "start_time": "2022-07-09T14:39:57.092Z"
   },
   {
    "duration": 31,
    "start_time": "2022-07-09T14:40:39.947Z"
   },
   {
    "duration": 66,
    "start_time": "2022-07-09T14:40:40.194Z"
   },
   {
    "duration": 15,
    "start_time": "2022-07-09T14:40:40.946Z"
   },
   {
    "duration": 34,
    "start_time": "2022-07-09T14:41:18.823Z"
   },
   {
    "duration": 59,
    "start_time": "2022-07-09T14:41:19.008Z"
   },
   {
    "duration": 14,
    "start_time": "2022-07-09T14:41:19.250Z"
   },
   {
    "duration": 25,
    "start_time": "2022-07-09T14:41:44.549Z"
   },
   {
    "duration": 57,
    "start_time": "2022-07-09T14:41:44.726Z"
   },
   {
    "duration": 18,
    "start_time": "2022-07-09T14:41:44.923Z"
   },
   {
    "duration": 25,
    "start_time": "2022-07-09T14:42:13.014Z"
   },
   {
    "duration": 76,
    "start_time": "2022-07-09T14:42:13.491Z"
   },
   {
    "duration": 16,
    "start_time": "2022-07-09T14:42:15.277Z"
   },
   {
    "duration": 20,
    "start_time": "2022-07-09T14:42:31.653Z"
   },
   {
    "duration": 47,
    "start_time": "2022-07-09T14:42:31.870Z"
   },
   {
    "duration": 14,
    "start_time": "2022-07-09T14:42:32.107Z"
   },
   {
    "duration": 24,
    "start_time": "2022-07-09T14:42:53.275Z"
   },
   {
    "duration": 47,
    "start_time": "2022-07-09T14:42:53.455Z"
   },
   {
    "duration": 19,
    "start_time": "2022-07-09T14:42:53.731Z"
   },
   {
    "duration": 27,
    "start_time": "2022-07-09T14:43:14.821Z"
   },
   {
    "duration": 55,
    "start_time": "2022-07-09T14:43:15.117Z"
   },
   {
    "duration": 14,
    "start_time": "2022-07-09T14:43:15.762Z"
   },
   {
    "duration": 32,
    "start_time": "2022-07-09T14:43:40.114Z"
   },
   {
    "duration": 62,
    "start_time": "2022-07-09T14:43:40.399Z"
   },
   {
    "duration": 23,
    "start_time": "2022-07-09T14:43:40.935Z"
   },
   {
    "duration": 20,
    "start_time": "2022-07-09T14:43:57.483Z"
   },
   {
    "duration": 53,
    "start_time": "2022-07-09T14:43:57.731Z"
   },
   {
    "duration": 14,
    "start_time": "2022-07-09T14:43:58.063Z"
   },
   {
    "duration": 36,
    "start_time": "2022-07-09T14:44:53.016Z"
   },
   {
    "duration": 76,
    "start_time": "2022-07-09T14:44:53.321Z"
   },
   {
    "duration": 14,
    "start_time": "2022-07-09T14:44:53.872Z"
   },
   {
    "duration": 19,
    "start_time": "2022-07-09T14:45:22.591Z"
   },
   {
    "duration": 51,
    "start_time": "2022-07-09T14:45:22.972Z"
   },
   {
    "duration": 14,
    "start_time": "2022-07-09T14:45:23.448Z"
   },
   {
    "duration": 94,
    "start_time": "2022-07-09T14:46:04.187Z"
   },
   {
    "duration": 63,
    "start_time": "2022-07-09T14:46:04.422Z"
   },
   {
    "duration": 20,
    "start_time": "2022-07-09T14:46:04.743Z"
   },
   {
    "duration": 21,
    "start_time": "2022-07-09T14:46:22.479Z"
   },
   {
    "duration": 46,
    "start_time": "2022-07-09T14:46:22.663Z"
   },
   {
    "duration": 12,
    "start_time": "2022-07-09T14:46:22.866Z"
   },
   {
    "duration": 31,
    "start_time": "2022-07-09T14:46:47.208Z"
   },
   {
    "duration": 48,
    "start_time": "2022-07-09T14:46:47.378Z"
   },
   {
    "duration": 16,
    "start_time": "2022-07-09T14:46:47.624Z"
   },
   {
    "duration": 22,
    "start_time": "2022-07-09T14:47:29.574Z"
   },
   {
    "duration": 90,
    "start_time": "2022-07-09T14:47:29.778Z"
   },
   {
    "duration": 14,
    "start_time": "2022-07-09T14:47:30.367Z"
   },
   {
    "duration": 21,
    "start_time": "2022-07-09T14:48:29.365Z"
   },
   {
    "duration": 51,
    "start_time": "2022-07-09T14:48:29.573Z"
   },
   {
    "duration": 23,
    "start_time": "2022-07-09T14:48:29.814Z"
   },
   {
    "duration": 20,
    "start_time": "2022-07-09T14:49:56.659Z"
   },
   {
    "duration": 77,
    "start_time": "2022-07-09T14:49:57.363Z"
   },
   {
    "duration": 20,
    "start_time": "2022-07-09T14:49:58.941Z"
   },
   {
    "duration": 21,
    "start_time": "2022-07-09T14:51:07.794Z"
   },
   {
    "duration": 57,
    "start_time": "2022-07-09T14:51:07.994Z"
   },
   {
    "duration": 15,
    "start_time": "2022-07-09T14:51:08.620Z"
   },
   {
    "duration": 20,
    "start_time": "2022-07-09T14:51:40.580Z"
   },
   {
    "duration": 49,
    "start_time": "2022-07-09T14:51:40.781Z"
   },
   {
    "duration": 12,
    "start_time": "2022-07-09T14:51:40.989Z"
   },
   {
    "duration": 22,
    "start_time": "2022-07-09T14:54:00.910Z"
   },
   {
    "duration": 49,
    "start_time": "2022-07-09T14:54:01.350Z"
   },
   {
    "duration": 13,
    "start_time": "2022-07-09T14:54:01.881Z"
   },
   {
    "duration": 37,
    "start_time": "2022-07-09T14:54:36.936Z"
   },
   {
    "duration": 79,
    "start_time": "2022-07-09T14:54:37.200Z"
   },
   {
    "duration": 13,
    "start_time": "2022-07-09T14:54:37.805Z"
   },
   {
    "duration": 33,
    "start_time": "2022-07-09T14:55:26.035Z"
   },
   {
    "duration": 49,
    "start_time": "2022-07-09T14:55:26.367Z"
   },
   {
    "duration": 19,
    "start_time": "2022-07-09T14:55:26.940Z"
   },
   {
    "duration": 23,
    "start_time": "2022-07-09T14:55:50.592Z"
   },
   {
    "duration": 51,
    "start_time": "2022-07-09T14:55:51.262Z"
   },
   {
    "duration": 15,
    "start_time": "2022-07-09T14:55:52.607Z"
   },
   {
    "duration": 22,
    "start_time": "2022-07-09T14:56:37.455Z"
   },
   {
    "duration": 63,
    "start_time": "2022-07-09T14:56:37.694Z"
   },
   {
    "duration": 22,
    "start_time": "2022-07-09T14:56:37.938Z"
   },
   {
    "duration": 35,
    "start_time": "2022-07-09T14:57:27.519Z"
   },
   {
    "duration": 61,
    "start_time": "2022-07-09T14:57:27.718Z"
   },
   {
    "duration": 13,
    "start_time": "2022-07-09T14:57:27.982Z"
   },
   {
    "duration": 26,
    "start_time": "2022-07-09T14:58:03.440Z"
   },
   {
    "duration": 90,
    "start_time": "2022-07-09T14:58:03.672Z"
   },
   {
    "duration": 21,
    "start_time": "2022-07-09T14:58:03.951Z"
   },
   {
    "duration": 22,
    "start_time": "2022-07-09T14:58:35.797Z"
   },
   {
    "duration": 74,
    "start_time": "2022-07-09T14:58:36.096Z"
   },
   {
    "duration": 12,
    "start_time": "2022-07-09T14:58:36.671Z"
   },
   {
    "duration": 22,
    "start_time": "2022-07-09T14:58:58.675Z"
   },
   {
    "duration": 91,
    "start_time": "2022-07-09T14:58:58.850Z"
   },
   {
    "duration": 15,
    "start_time": "2022-07-09T14:58:59.068Z"
   },
   {
    "duration": 21,
    "start_time": "2022-07-09T14:59:16.876Z"
   },
   {
    "duration": 49,
    "start_time": "2022-07-09T14:59:17.090Z"
   },
   {
    "duration": 14,
    "start_time": "2022-07-09T14:59:17.352Z"
   },
   {
    "duration": 23,
    "start_time": "2022-07-09T14:59:46.667Z"
   },
   {
    "duration": 358,
    "start_time": "2022-07-09T14:59:48.479Z"
   },
   {
    "duration": 12,
    "start_time": "2022-07-09T14:59:48.865Z"
   },
   {
    "duration": 24,
    "start_time": "2022-07-09T15:00:12.794Z"
   },
   {
    "duration": 91,
    "start_time": "2022-07-09T15:00:13.346Z"
   },
   {
    "duration": 16,
    "start_time": "2022-07-09T15:00:13.941Z"
   },
   {
    "duration": 22,
    "start_time": "2022-07-09T15:00:45.648Z"
   },
   {
    "duration": 71,
    "start_time": "2022-07-09T15:00:45.809Z"
   },
   {
    "duration": 17,
    "start_time": "2022-07-09T15:00:46.046Z"
   },
   {
    "duration": 23,
    "start_time": "2022-07-09T15:01:50.576Z"
   },
   {
    "duration": 81,
    "start_time": "2022-07-09T15:01:50.799Z"
   },
   {
    "duration": 14,
    "start_time": "2022-07-09T15:01:51.067Z"
   },
   {
    "duration": 26,
    "start_time": "2022-07-09T15:02:23.782Z"
   },
   {
    "duration": 73,
    "start_time": "2022-07-09T15:02:23.976Z"
   },
   {
    "duration": 15,
    "start_time": "2022-07-09T15:02:24.169Z"
   },
   {
    "duration": 30,
    "start_time": "2022-07-09T15:02:50.505Z"
   },
   {
    "duration": 91,
    "start_time": "2022-07-09T15:02:50.782Z"
   },
   {
    "duration": 15,
    "start_time": "2022-07-09T15:02:51.016Z"
   },
   {
    "duration": 43,
    "start_time": "2022-07-09T15:03:37.505Z"
   },
   {
    "duration": 88,
    "start_time": "2022-07-09T15:03:38.079Z"
   },
   {
    "duration": 12,
    "start_time": "2022-07-09T15:03:38.788Z"
   },
   {
    "duration": 35,
    "start_time": "2022-07-09T15:04:15.049Z"
   },
   {
    "duration": 62,
    "start_time": "2022-07-09T15:04:15.649Z"
   },
   {
    "duration": 12,
    "start_time": "2022-07-09T15:04:16.183Z"
   },
   {
    "duration": 32,
    "start_time": "2022-07-09T15:04:36.450Z"
   },
   {
    "duration": 58,
    "start_time": "2022-07-09T15:04:36.954Z"
   },
   {
    "duration": 26,
    "start_time": "2022-07-09T15:04:37.452Z"
   },
   {
    "duration": 24,
    "start_time": "2022-07-09T15:04:57.383Z"
   },
   {
    "duration": 91,
    "start_time": "2022-07-09T15:04:57.715Z"
   },
   {
    "duration": 11,
    "start_time": "2022-07-09T15:04:58.279Z"
   },
   {
    "duration": 23,
    "start_time": "2022-07-09T15:05:21.568Z"
   },
   {
    "duration": 52,
    "start_time": "2022-07-09T15:05:21.761Z"
   },
   {
    "duration": 23,
    "start_time": "2022-07-09T15:05:22.010Z"
   },
   {
    "duration": 37,
    "start_time": "2022-07-09T15:05:48.411Z"
   },
   {
    "duration": 53,
    "start_time": "2022-07-09T15:05:48.756Z"
   },
   {
    "duration": 11,
    "start_time": "2022-07-09T15:05:49.406Z"
   },
   {
    "duration": 24,
    "start_time": "2022-07-09T15:06:34.160Z"
   },
   {
    "duration": 75,
    "start_time": "2022-07-09T15:06:34.662Z"
   },
   {
    "duration": 17,
    "start_time": "2022-07-09T15:06:35.269Z"
   },
   {
    "duration": 41,
    "start_time": "2022-07-09T15:07:10.731Z"
   },
   {
    "duration": 77,
    "start_time": "2022-07-09T15:07:10.967Z"
   },
   {
    "duration": 23,
    "start_time": "2022-07-09T15:07:12.041Z"
   },
   {
    "duration": 32,
    "start_time": "2022-07-09T15:07:37.503Z"
   },
   {
    "duration": 55,
    "start_time": "2022-07-09T15:07:37.746Z"
   },
   {
    "duration": 12,
    "start_time": "2022-07-09T15:07:37.996Z"
   },
   {
    "duration": 28,
    "start_time": "2022-07-09T15:08:12.550Z"
   },
   {
    "duration": 66,
    "start_time": "2022-07-09T15:08:13.537Z"
   },
   {
    "duration": 14,
    "start_time": "2022-07-09T15:08:14.114Z"
   },
   {
    "duration": 24,
    "start_time": "2022-07-09T15:08:47.581Z"
   },
   {
    "duration": 82,
    "start_time": "2022-07-09T15:08:48.312Z"
   },
   {
    "duration": 17,
    "start_time": "2022-07-09T15:08:48.849Z"
   },
   {
    "duration": 27,
    "start_time": "2022-07-09T15:09:33.490Z"
   },
   {
    "duration": 67,
    "start_time": "2022-07-09T15:09:34.077Z"
   },
   {
    "duration": 17,
    "start_time": "2022-07-09T15:09:34.588Z"
   },
   {
    "duration": 27,
    "start_time": "2022-07-09T15:09:54.179Z"
   },
   {
    "duration": 101,
    "start_time": "2022-07-09T15:09:54.403Z"
   },
   {
    "duration": 20,
    "start_time": "2022-07-09T15:09:54.741Z"
   },
   {
    "duration": 26,
    "start_time": "2022-07-09T15:10:22.292Z"
   },
   {
    "duration": 129,
    "start_time": "2022-07-09T15:10:22.951Z"
   },
   {
    "duration": 10,
    "start_time": "2022-07-09T15:10:23.578Z"
   },
   {
    "duration": 37,
    "start_time": "2022-07-09T15:10:51.007Z"
   },
   {
    "duration": 103,
    "start_time": "2022-07-09T15:10:52.582Z"
   },
   {
    "duration": 11,
    "start_time": "2022-07-09T15:10:53.285Z"
   },
   {
    "duration": 28,
    "start_time": "2022-07-09T15:11:13.873Z"
   },
   {
    "duration": 107,
    "start_time": "2022-07-09T15:11:14.331Z"
   },
   {
    "duration": 11,
    "start_time": "2022-07-09T15:11:14.892Z"
   },
   {
    "duration": 43,
    "start_time": "2022-07-09T15:11:53.970Z"
   },
   {
    "duration": 115,
    "start_time": "2022-07-09T15:11:54.400Z"
   },
   {
    "duration": 22,
    "start_time": "2022-07-09T15:11:54.850Z"
   },
   {
    "duration": 39,
    "start_time": "2022-07-09T15:12:11.590Z"
   },
   {
    "duration": 89,
    "start_time": "2022-07-09T15:12:11.771Z"
   },
   {
    "duration": 11,
    "start_time": "2022-07-09T15:12:11.996Z"
   },
   {
    "duration": 114,
    "start_time": "2022-07-09T15:12:34.104Z"
   },
   {
    "duration": 97,
    "start_time": "2022-07-09T15:12:34.999Z"
   },
   {
    "duration": 19,
    "start_time": "2022-07-09T15:12:38.346Z"
   },
   {
    "duration": 43,
    "start_time": "2022-07-09T15:13:12.801Z"
   },
   {
    "duration": 96,
    "start_time": "2022-07-09T15:13:13.914Z"
   },
   {
    "duration": 19,
    "start_time": "2022-07-09T15:13:14.013Z"
   },
   {
    "duration": 25,
    "start_time": "2022-07-09T15:14:01.270Z"
   },
   {
    "duration": 107,
    "start_time": "2022-07-09T15:14:02.122Z"
   },
   {
    "duration": 9,
    "start_time": "2022-07-09T15:14:02.853Z"
   },
   {
    "duration": 36,
    "start_time": "2022-07-09T15:14:17.274Z"
   },
   {
    "duration": 75,
    "start_time": "2022-07-09T15:14:17.939Z"
   },
   {
    "duration": 18,
    "start_time": "2022-07-09T15:14:18.519Z"
   },
   {
    "duration": 37,
    "start_time": "2022-07-09T15:14:33.501Z"
   },
   {
    "duration": 72,
    "start_time": "2022-07-09T15:14:34.014Z"
   },
   {
    "duration": 27,
    "start_time": "2022-07-09T15:14:34.538Z"
   },
   {
    "duration": 45,
    "start_time": "2022-07-09T15:14:50.351Z"
   },
   {
    "duration": 104,
    "start_time": "2022-07-09T15:14:50.615Z"
   },
   {
    "duration": 13,
    "start_time": "2022-07-09T15:14:51.078Z"
   },
   {
    "duration": 39,
    "start_time": "2022-07-09T15:15:16.270Z"
   },
   {
    "duration": 91,
    "start_time": "2022-07-09T15:15:17.008Z"
   },
   {
    "duration": 10,
    "start_time": "2022-07-09T15:15:18.100Z"
   },
   {
    "duration": 49,
    "start_time": "2022-07-09T15:15:34.789Z"
   },
   {
    "duration": 60,
    "start_time": "2022-07-09T15:15:35.346Z"
   },
   {
    "duration": 12,
    "start_time": "2022-07-09T15:15:37.750Z"
   },
   {
    "duration": 42,
    "start_time": "2022-07-09T15:15:58.321Z"
   },
   {
    "duration": 93,
    "start_time": "2022-07-09T15:15:59.058Z"
   },
   {
    "duration": 8,
    "start_time": "2022-07-09T15:15:59.610Z"
   },
   {
    "duration": 24,
    "start_time": "2022-07-09T15:16:25.443Z"
   },
   {
    "duration": 56,
    "start_time": "2022-07-09T15:16:26.557Z"
   },
   {
    "duration": 8,
    "start_time": "2022-07-09T15:16:27.376Z"
   },
   {
    "duration": 46,
    "start_time": "2022-07-09T15:17:09.782Z"
   },
   {
    "duration": 110,
    "start_time": "2022-07-09T15:17:10.299Z"
   },
   {
    "duration": 15,
    "start_time": "2022-07-09T15:17:11.717Z"
   },
   {
    "duration": 1029,
    "start_time": "2022-07-09T15:18:28.782Z"
   },
   {
    "duration": 16,
    "start_time": "2022-07-09T15:18:41.451Z"
   },
   {
    "duration": 54,
    "start_time": "2022-07-09T15:18:41.893Z"
   },
   {
    "duration": 10,
    "start_time": "2022-07-09T15:18:42.937Z"
   },
   {
    "duration": 8,
    "start_time": "2022-07-09T15:18:43.862Z"
   },
   {
    "duration": 1177,
    "start_time": "2022-07-09T15:18:50.228Z"
   },
   {
    "duration": 212,
    "start_time": "2022-07-09T15:18:51.408Z"
   },
   {
    "duration": 23,
    "start_time": "2022-07-09T15:18:51.622Z"
   },
   {
    "duration": 4,
    "start_time": "2022-07-09T15:18:51.648Z"
   },
   {
    "duration": 17,
    "start_time": "2022-07-09T15:18:51.654Z"
   },
   {
    "duration": 23,
    "start_time": "2022-07-09T15:18:51.673Z"
   },
   {
    "duration": 41,
    "start_time": "2022-07-09T15:18:51.698Z"
   },
   {
    "duration": 41,
    "start_time": "2022-07-09T15:18:51.741Z"
   },
   {
    "duration": 18,
    "start_time": "2022-07-09T15:18:51.784Z"
   },
   {
    "duration": 11,
    "start_time": "2022-07-09T15:18:51.807Z"
   },
   {
    "duration": 336,
    "start_time": "2022-07-09T15:18:51.823Z"
   },
   {
    "duration": 14,
    "start_time": "2022-07-09T15:18:52.161Z"
   },
   {
    "duration": 18,
    "start_time": "2022-07-09T15:18:52.177Z"
   },
   {
    "duration": 34,
    "start_time": "2022-07-09T15:18:52.198Z"
   },
   {
    "duration": 6,
    "start_time": "2022-07-09T15:18:52.237Z"
   },
   {
    "duration": 23,
    "start_time": "2022-07-09T15:18:52.246Z"
   },
   {
    "duration": 18,
    "start_time": "2022-07-09T15:18:52.271Z"
   },
   {
    "duration": 9,
    "start_time": "2022-07-09T15:18:52.291Z"
   },
   {
    "duration": 29,
    "start_time": "2022-07-09T15:18:52.302Z"
   },
   {
    "duration": 22,
    "start_time": "2022-07-09T15:18:52.333Z"
   },
   {
    "duration": 9,
    "start_time": "2022-07-09T15:18:52.357Z"
   },
   {
    "duration": 7,
    "start_time": "2022-07-09T15:18:52.368Z"
   },
   {
    "duration": 17,
    "start_time": "2022-07-09T15:18:52.377Z"
   },
   {
    "duration": 3656,
    "start_time": "2022-07-09T15:18:52.396Z"
   },
   {
    "duration": 6,
    "start_time": "2022-07-09T15:18:56.054Z"
   },
   {
    "duration": 17,
    "start_time": "2022-07-09T15:18:56.062Z"
   },
   {
    "duration": 229,
    "start_time": "2022-07-09T15:18:56.081Z"
   },
   {
    "duration": 15,
    "start_time": "2022-07-09T15:18:56.314Z"
   },
   {
    "duration": 53,
    "start_time": "2022-07-09T15:18:56.334Z"
   },
   {
    "duration": 6,
    "start_time": "2022-07-09T15:18:56.389Z"
   },
   {
    "duration": 12,
    "start_time": "2022-07-09T15:18:56.397Z"
   },
   {
    "duration": 1638,
    "start_time": "2022-07-09T15:18:56.411Z"
   },
   {
    "duration": 40,
    "start_time": "2022-07-09T15:18:58.052Z"
   },
   {
    "duration": 78,
    "start_time": "2022-07-09T15:18:58.093Z"
   },
   {
    "duration": 189,
    "start_time": "2022-07-09T15:18:58.173Z"
   },
   {
    "duration": 4,
    "start_time": "2022-07-09T15:18:58.363Z"
   },
   {
    "duration": 101,
    "start_time": "2022-07-09T15:18:58.369Z"
   },
   {
    "duration": 158,
    "start_time": "2022-07-09T15:18:58.472Z"
   },
   {
    "duration": 230,
    "start_time": "2022-07-09T15:18:58.632Z"
   },
   {
    "duration": 172,
    "start_time": "2022-07-09T15:18:58.863Z"
   },
   {
    "duration": 370,
    "start_time": "2022-07-09T15:18:59.038Z"
   },
   {
    "duration": 422,
    "start_time": "2022-07-09T15:18:59.411Z"
   },
   {
    "duration": 558,
    "start_time": "2022-07-09T15:18:59.836Z"
   },
   {
    "duration": 248,
    "start_time": "2022-07-09T15:19:00.396Z"
   },
   {
    "duration": 10,
    "start_time": "2022-07-09T15:19:00.646Z"
   },
   {
    "duration": 21,
    "start_time": "2022-07-09T15:19:00.658Z"
   },
   {
    "duration": 41,
    "start_time": "2022-07-09T15:19:00.681Z"
   },
   {
    "duration": 24,
    "start_time": "2022-07-09T15:19:00.724Z"
   },
   {
    "duration": 7,
    "start_time": "2022-07-09T15:19:00.754Z"
   },
   {
    "duration": 1140,
    "start_time": "2022-07-09T15:20:34.513Z"
   },
   {
    "duration": 124,
    "start_time": "2022-07-09T15:20:35.655Z"
   },
   {
    "duration": 14,
    "start_time": "2022-07-09T15:20:35.781Z"
   },
   {
    "duration": 7,
    "start_time": "2022-07-09T15:20:35.798Z"
   },
   {
    "duration": 23,
    "start_time": "2022-07-09T15:20:35.806Z"
   },
   {
    "duration": 22,
    "start_time": "2022-07-09T15:20:35.830Z"
   },
   {
    "duration": 44,
    "start_time": "2022-07-09T15:20:35.854Z"
   },
   {
    "duration": 22,
    "start_time": "2022-07-09T15:20:35.900Z"
   },
   {
    "duration": 15,
    "start_time": "2022-07-09T15:20:35.924Z"
   },
   {
    "duration": 7,
    "start_time": "2022-07-09T15:20:35.944Z"
   },
   {
    "duration": 354,
    "start_time": "2022-07-09T15:20:35.954Z"
   },
   {
    "duration": 17,
    "start_time": "2022-07-09T15:20:36.310Z"
   },
   {
    "duration": 16,
    "start_time": "2022-07-09T15:20:36.328Z"
   },
   {
    "duration": 16,
    "start_time": "2022-07-09T15:20:36.346Z"
   },
   {
    "duration": 6,
    "start_time": "2022-07-09T15:20:36.364Z"
   },
   {
    "duration": 6,
    "start_time": "2022-07-09T15:20:36.371Z"
   },
   {
    "duration": 47,
    "start_time": "2022-07-09T15:20:36.378Z"
   },
   {
    "duration": 14,
    "start_time": "2022-07-09T15:20:36.427Z"
   },
   {
    "duration": 6,
    "start_time": "2022-07-09T15:20:36.442Z"
   },
   {
    "duration": 16,
    "start_time": "2022-07-09T15:20:36.450Z"
   },
   {
    "duration": 9,
    "start_time": "2022-07-09T15:20:36.468Z"
   },
   {
    "duration": 7,
    "start_time": "2022-07-09T15:20:36.478Z"
   },
   {
    "duration": 40,
    "start_time": "2022-07-09T15:20:36.486Z"
   },
   {
    "duration": 3203,
    "start_time": "2022-07-09T15:20:36.528Z"
   },
   {
    "duration": 5,
    "start_time": "2022-07-09T15:20:39.733Z"
   },
   {
    "duration": 20,
    "start_time": "2022-07-09T15:20:39.740Z"
   },
   {
    "duration": 228,
    "start_time": "2022-07-09T15:20:39.762Z"
   },
   {
    "duration": 15,
    "start_time": "2022-07-09T15:20:39.995Z"
   },
   {
    "duration": 43,
    "start_time": "2022-07-09T15:20:40.022Z"
   },
   {
    "duration": 17,
    "start_time": "2022-07-09T15:20:40.067Z"
   },
   {
    "duration": 12,
    "start_time": "2022-07-09T15:20:40.086Z"
   },
   {
    "duration": 1505,
    "start_time": "2022-07-09T15:20:40.100Z"
   },
   {
    "duration": 57,
    "start_time": "2022-07-09T15:20:41.608Z"
   },
   {
    "duration": 89,
    "start_time": "2022-07-09T15:20:41.667Z"
   },
   {
    "duration": 160,
    "start_time": "2022-07-09T15:20:41.759Z"
   },
   {
    "duration": 132,
    "start_time": "2022-07-09T15:20:41.923Z"
   },
   {
    "duration": 178,
    "start_time": "2022-07-09T15:20:42.057Z"
   },
   {
    "duration": 471,
    "start_time": "2022-07-09T15:20:42.237Z"
   },
   {
    "duration": 383,
    "start_time": "2022-07-09T15:20:42.711Z"
   },
   {
    "duration": 512,
    "start_time": "2022-07-09T15:20:43.097Z"
   },
   {
    "duration": 215,
    "start_time": "2022-07-09T15:20:43.611Z"
   },
   {
    "duration": 10,
    "start_time": "2022-07-09T15:20:43.828Z"
   },
   {
    "duration": 9,
    "start_time": "2022-07-09T15:20:43.839Z"
   },
   {
    "duration": 23,
    "start_time": "2022-07-09T15:20:43.849Z"
   },
   {
    "duration": 11,
    "start_time": "2022-07-09T15:20:43.873Z"
   },
   {
    "duration": 6,
    "start_time": "2022-07-09T15:20:43.886Z"
   },
   {
    "duration": 162,
    "start_time": "2022-07-09T16:16:54.477Z"
   },
   {
    "duration": 143,
    "start_time": "2022-07-09T17:00:02.618Z"
   },
   {
    "duration": 160,
    "start_time": "2022-07-09T17:00:24.210Z"
   },
   {
    "duration": 11,
    "start_time": "2022-07-09T17:11:55.656Z"
   },
   {
    "duration": 23,
    "start_time": "2022-07-09T17:22:22.615Z"
   },
   {
    "duration": 6,
    "start_time": "2022-07-09T17:28:54.254Z"
   },
   {
    "duration": 30,
    "start_time": "2022-07-09T17:30:51.047Z"
   },
   {
    "duration": 29,
    "start_time": "2022-07-09T17:31:14.295Z"
   },
   {
    "duration": 44,
    "start_time": "2022-07-09T17:32:40.616Z"
   },
   {
    "duration": 3,
    "start_time": "2022-07-09T17:32:55.863Z"
   },
   {
    "duration": 21,
    "start_time": "2022-07-09T17:32:56.465Z"
   },
   {
    "duration": 29,
    "start_time": "2022-07-09T17:34:10.673Z"
   },
   {
    "duration": 58,
    "start_time": "2022-07-09T17:34:41.471Z"
   },
   {
    "duration": 51440,
    "start_time": "2022-07-09T17:34:50.711Z"
   },
   {
    "duration": 51184,
    "start_time": "2022-07-09T17:36:05.684Z"
   },
   {
    "duration": 44,
    "start_time": "2022-07-10T08:11:28.457Z"
   },
   {
    "duration": 1307,
    "start_time": "2022-07-10T08:11:30.612Z"
   },
   {
    "duration": 78,
    "start_time": "2022-07-10T08:11:31.921Z"
   },
   {
    "duration": 13,
    "start_time": "2022-07-10T08:11:32.668Z"
   },
   {
    "duration": 4,
    "start_time": "2022-07-10T08:11:34.691Z"
   },
   {
    "duration": 15,
    "start_time": "2022-07-10T08:11:35.479Z"
   },
   {
    "duration": 21,
    "start_time": "2022-07-10T08:11:35.717Z"
   },
   {
    "duration": 6,
    "start_time": "2022-07-10T08:11:36.979Z"
   },
   {
    "duration": 21,
    "start_time": "2022-07-10T08:11:37.461Z"
   },
   {
    "duration": 13,
    "start_time": "2022-07-10T08:11:37.682Z"
   },
   {
    "duration": 6,
    "start_time": "2022-07-10T08:11:38.449Z"
   },
   {
    "duration": 261,
    "start_time": "2022-07-10T08:11:38.971Z"
   },
   {
    "duration": 15,
    "start_time": "2022-07-10T08:11:40.624Z"
   },
   {
    "duration": 8,
    "start_time": "2022-07-10T08:11:46.603Z"
   },
   {
    "duration": 14,
    "start_time": "2022-07-10T08:11:47.365Z"
   },
   {
    "duration": 5,
    "start_time": "2022-07-10T08:11:48.011Z"
   },
   {
    "duration": 6,
    "start_time": "2022-07-10T08:11:48.854Z"
   },
   {
    "duration": 12,
    "start_time": "2022-07-10T08:11:50.510Z"
   },
   {
    "duration": 13,
    "start_time": "2022-07-10T08:11:50.972Z"
   },
   {
    "duration": 5,
    "start_time": "2022-07-10T08:11:52.143Z"
   },
   {
    "duration": 14,
    "start_time": "2022-07-10T08:11:52.686Z"
   },
   {
    "duration": 8,
    "start_time": "2022-07-10T08:11:53.826Z"
   },
   {
    "duration": 3,
    "start_time": "2022-07-10T08:11:54.941Z"
   },
   {
    "duration": 6,
    "start_time": "2022-07-10T08:11:55.443Z"
   },
   {
    "duration": 2869,
    "start_time": "2022-07-10T08:11:56.243Z"
   },
   {
    "duration": 5,
    "start_time": "2022-07-10T08:11:59.897Z"
   },
   {
    "duration": 4,
    "start_time": "2022-07-10T08:12:03.013Z"
   },
   {
    "duration": 194,
    "start_time": "2022-07-10T08:12:04.151Z"
   },
   {
    "duration": 8,
    "start_time": "2022-07-10T08:12:05.457Z"
   },
   {
    "duration": 31,
    "start_time": "2022-07-10T08:12:06.860Z"
   },
   {
    "duration": 7,
    "start_time": "2022-07-10T08:12:07.321Z"
   },
   {
    "duration": 7,
    "start_time": "2022-07-10T08:12:09.700Z"
   },
   {
    "duration": 1392,
    "start_time": "2022-07-10T08:12:10.555Z"
   },
   {
    "duration": 25,
    "start_time": "2022-07-10T08:12:11.949Z"
   },
   {
    "duration": 47,
    "start_time": "2022-07-10T08:12:12.811Z"
   },
   {
    "duration": 127,
    "start_time": "2022-07-10T08:12:14.051Z"
   },
   {
    "duration": 109,
    "start_time": "2022-07-10T08:12:15.083Z"
   },
   {
    "duration": 191,
    "start_time": "2022-07-10T08:12:16.964Z"
   },
   {
    "duration": 132,
    "start_time": "2022-07-10T08:12:17.834Z"
   },
   {
    "duration": 379,
    "start_time": "2022-07-10T08:12:19.837Z"
   },
   {
    "duration": 350,
    "start_time": "2022-07-10T08:12:22.153Z"
   },
   {
    "duration": 2552,
    "start_time": "2022-07-10T08:12:24.180Z"
   },
   {
    "duration": 47,
    "start_time": "2022-07-10T08:13:42.863Z"
   },
   {
    "duration": 280,
    "start_time": "2022-07-10T08:13:51.878Z"
   },
   {
    "duration": 446,
    "start_time": "2022-07-10T08:14:59.011Z"
   },
   {
    "duration": 17,
    "start_time": "2022-07-10T08:41:46.165Z"
   },
   {
    "duration": 13,
    "start_time": "2022-07-10T08:56:44.314Z"
   },
   {
    "duration": 12,
    "start_time": "2022-07-10T08:56:58.152Z"
   },
   {
    "duration": 13,
    "start_time": "2022-07-10T08:57:20.773Z"
   },
   {
    "duration": 16,
    "start_time": "2022-07-10T08:57:51.128Z"
   },
   {
    "duration": 21,
    "start_time": "2022-07-10T08:58:10.492Z"
   },
   {
    "duration": 27,
    "start_time": "2022-07-10T08:58:34.392Z"
   },
   {
    "duration": 11,
    "start_time": "2022-07-10T08:58:54.982Z"
   },
   {
    "duration": 8,
    "start_time": "2022-07-10T09:05:14.537Z"
   },
   {
    "duration": 23,
    "start_time": "2022-07-10T09:06:02.308Z"
   },
   {
    "duration": 12,
    "start_time": "2022-07-10T09:06:09.713Z"
   },
   {
    "duration": 9,
    "start_time": "2022-07-10T09:06:17.919Z"
   },
   {
    "duration": 11,
    "start_time": "2022-07-10T09:06:32.378Z"
   },
   {
    "duration": 11,
    "start_time": "2022-07-10T09:06:38.172Z"
   },
   {
    "duration": 13,
    "start_time": "2022-07-10T09:07:02.195Z"
   },
   {
    "duration": 10,
    "start_time": "2022-07-10T09:07:19.653Z"
   },
   {
    "duration": 41,
    "start_time": "2022-07-10T09:07:44.413Z"
   },
   {
    "duration": 30,
    "start_time": "2022-07-10T09:09:03.532Z"
   },
   {
    "duration": 248,
    "start_time": "2022-07-10T09:15:41.581Z"
   },
   {
    "duration": 255,
    "start_time": "2022-07-10T09:16:08.582Z"
   },
   {
    "duration": 239,
    "start_time": "2022-07-10T09:17:24.651Z"
   },
   {
    "duration": 213,
    "start_time": "2022-07-10T09:32:54.229Z"
   },
   {
    "duration": 254,
    "start_time": "2022-07-10T09:44:52.765Z"
   },
   {
    "duration": 22,
    "start_time": "2022-07-10T09:50:02.872Z"
   },
   {
    "duration": 257,
    "start_time": "2022-07-10T09:51:21.006Z"
   },
   {
    "duration": 257,
    "start_time": "2022-07-10T09:51:47.082Z"
   },
   {
    "duration": 18,
    "start_time": "2022-07-10T10:04:33.456Z"
   },
   {
    "duration": 17,
    "start_time": "2022-07-10T10:05:59.417Z"
   },
   {
    "duration": 17,
    "start_time": "2022-07-10T10:06:20.828Z"
   },
   {
    "duration": 272,
    "start_time": "2022-07-10T10:08:30.831Z"
   },
   {
    "duration": 345,
    "start_time": "2022-07-10T10:13:44.043Z"
   },
   {
    "duration": 259,
    "start_time": "2022-07-10T10:13:55.730Z"
   },
   {
    "duration": 281,
    "start_time": "2022-07-10T10:14:03.355Z"
   },
   {
    "duration": 263,
    "start_time": "2022-07-10T10:15:36.280Z"
   },
   {
    "duration": 105938,
    "start_time": "2022-07-10T10:18:46.430Z"
   },
   {
    "duration": 26,
    "start_time": "2022-07-10T10:22:15.469Z"
   },
   {
    "duration": 23,
    "start_time": "2022-07-10T10:24:07.447Z"
   },
   {
    "duration": 503,
    "start_time": "2022-07-10T10:25:52.725Z"
   },
   {
    "duration": 1109,
    "start_time": "2022-07-10T11:04:52.027Z"
   },
   {
    "duration": 170,
    "start_time": "2022-07-10T11:04:53.138Z"
   },
   {
    "duration": 12,
    "start_time": "2022-07-10T11:04:53.310Z"
   },
   {
    "duration": 8,
    "start_time": "2022-07-10T11:04:53.324Z"
   },
   {
    "duration": 21,
    "start_time": "2022-07-10T11:04:53.334Z"
   },
   {
    "duration": 28,
    "start_time": "2022-07-10T11:04:53.357Z"
   },
   {
    "duration": 8,
    "start_time": "2022-07-10T11:04:53.387Z"
   },
   {
    "duration": 24,
    "start_time": "2022-07-10T11:04:53.401Z"
   },
   {
    "duration": 24,
    "start_time": "2022-07-10T11:04:53.428Z"
   },
   {
    "duration": 8,
    "start_time": "2022-07-10T11:04:53.456Z"
   },
   {
    "duration": 305,
    "start_time": "2022-07-10T11:04:53.466Z"
   },
   {
    "duration": 12,
    "start_time": "2022-07-10T11:04:53.773Z"
   },
   {
    "duration": 17,
    "start_time": "2022-07-10T11:04:53.787Z"
   },
   {
    "duration": 13,
    "start_time": "2022-07-10T11:04:53.806Z"
   },
   {
    "duration": 4,
    "start_time": "2022-07-10T11:04:53.821Z"
   },
   {
    "duration": 11,
    "start_time": "2022-07-10T11:04:53.827Z"
   },
   {
    "duration": 17,
    "start_time": "2022-07-10T11:04:53.840Z"
   },
   {
    "duration": 21,
    "start_time": "2022-07-10T11:04:53.859Z"
   },
   {
    "duration": 22,
    "start_time": "2022-07-10T11:04:53.881Z"
   },
   {
    "duration": 23,
    "start_time": "2022-07-10T11:04:53.906Z"
   },
   {
    "duration": 8,
    "start_time": "2022-07-10T11:04:53.931Z"
   },
   {
    "duration": 13,
    "start_time": "2022-07-10T11:04:53.940Z"
   },
   {
    "duration": 19,
    "start_time": "2022-07-10T11:04:53.954Z"
   },
   {
    "duration": 2836,
    "start_time": "2022-07-10T11:04:53.975Z"
   },
   {
    "duration": 4,
    "start_time": "2022-07-10T11:04:56.812Z"
   },
   {
    "duration": 18,
    "start_time": "2022-07-10T11:04:56.818Z"
   },
   {
    "duration": 185,
    "start_time": "2022-07-10T11:04:56.837Z"
   },
   {
    "duration": 8,
    "start_time": "2022-07-10T11:04:57.026Z"
   },
   {
    "duration": 38,
    "start_time": "2022-07-10T11:04:57.036Z"
   },
   {
    "duration": 6,
    "start_time": "2022-07-10T11:04:57.076Z"
   },
   {
    "duration": 26,
    "start_time": "2022-07-10T11:04:57.084Z"
   },
   {
    "duration": 1306,
    "start_time": "2022-07-10T11:04:57.112Z"
   },
   {
    "duration": 25,
    "start_time": "2022-07-10T11:04:58.420Z"
   },
   {
    "duration": 59,
    "start_time": "2022-07-10T11:04:58.446Z"
   },
   {
    "duration": 15,
    "start_time": "2022-07-10T11:04:58.507Z"
   },
   {
    "duration": 135,
    "start_time": "2022-07-10T11:04:58.524Z"
   },
   {
    "duration": 119,
    "start_time": "2022-07-10T11:04:58.660Z"
   },
   {
    "duration": 197,
    "start_time": "2022-07-10T11:04:58.781Z"
   },
   {
    "duration": 261,
    "start_time": "2022-07-10T11:04:58.980Z"
   },
   {
    "duration": 376,
    "start_time": "2022-07-10T11:04:59.242Z"
   },
   {
    "duration": 396,
    "start_time": "2022-07-10T11:04:59.619Z"
   },
   {
    "duration": 510,
    "start_time": "2022-07-10T11:05:00.017Z"
   },
   {
    "duration": 218,
    "start_time": "2022-07-10T11:05:00.528Z"
   },
   {
    "duration": 9,
    "start_time": "2022-07-10T11:05:00.747Z"
   },
   {
    "duration": 13,
    "start_time": "2022-07-10T11:05:00.757Z"
   },
   {
    "duration": 6,
    "start_time": "2022-07-10T11:05:00.771Z"
   },
   {
    "duration": 43,
    "start_time": "2022-07-10T11:05:00.779Z"
   },
   {
    "duration": 8,
    "start_time": "2022-07-10T11:05:00.824Z"
   },
   {
    "duration": 23,
    "start_time": "2022-07-10T11:05:00.833Z"
   }
  ],
  "kernelspec": {
   "display_name": "Python 3 (ipykernel)",
   "language": "python",
   "name": "python3"
  },
  "language_info": {
   "codemirror_mode": {
    "name": "ipython",
    "version": 3
   },
   "file_extension": ".py",
   "mimetype": "text/x-python",
   "name": "python",
   "nbconvert_exporter": "python",
   "pygments_lexer": "ipython3",
   "version": "3.9.7"
  },
  "toc": {
   "base_numbering": 1,
   "nav_menu": {},
   "number_sections": true,
   "sideBar": true,
   "skip_h1_title": true,
   "title_cell": "Содержание",
   "title_sidebar": "Contents",
   "toc_cell": true,
   "toc_position": {},
   "toc_section_display": true,
   "toc_window_display": false
  }
 },
 "nbformat": 4,
 "nbformat_minor": 2
}
