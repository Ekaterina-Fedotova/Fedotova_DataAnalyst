{
 "cells": [
  {
   "cell_type": "markdown",
   "metadata": {},
   "source": [
    "## Содержание:\n",
    "1. [Обзор данных](#start)\n",
    "2. [Предобработка данных](#preprocessing)\n",
    "* [Стиль заголовков](#title)\n",
    "* [Пропуски значений](#passes)\n",
    "* [Дубликаты](#dupl)\n",
    "3. [Проверка гипотез](#hypothesis)\n",
    "* [Сравнение поведения пользователей двух столиц](#behavior)\n",
    "* [Музыка в начале и в конце недели](#week)\n",
    "* [Жанровые предпочтения в Москве и Петербурге](#genre)\n",
    "4. [Итоги исследования](#total)"
   ]
  },
  {
   "cell_type": "markdown",
   "metadata": {
    "id": "E0vqbgi9ay0H"
   },
   "source": [
    "# Исследование данных сервиса Яндекс.Музыка"
   ]
  },
  {
   "cell_type": "markdown",
   "metadata": {
    "id": "VUC88oWjTJw2"
   },
   "source": [
    "На данных Яндекс.Музыки необходимо провести сравнение поведения пользователей двух столиц.\n",
    "\n",
    "**Цель исследования** — проверить три гипотезы:\n",
    "1. Активность пользователей зависит от дня недели. Причём в Москве и Петербурге это проявляется по-разному.\n",
    "2. В понедельник утром в Москве преобладают одни жанры, а в Петербурге — другие. Так же и вечером пятницы преобладают разные жанры — в зависимости от города. \n",
    "3. Москва и Петербург предпочитают разные жанры музыки. В Москве чаще слушают поп-музыку, в Петербурге — русский рэп."
   ]
  },
  {
   "cell_type": "markdown",
   "metadata": {
    "id": "Ml1hmfXC_Zcs"
   },
   "source": [
    "## Обзор данных <a id=\"start\"></a>\n",
    "\n",
    "Изучим данные, предоставленные сервисом для проекта."
   ]
  },
  {
   "cell_type": "code",
   "execution_count": 1,
   "metadata": {
    "id": "AXN7PHPN_Zcs"
   },
   "outputs": [],
   "source": [
    "# импорт библиотеки pandas\n",
    "import pandas as pd "
   ]
  },
  {
   "cell_type": "markdown",
   "metadata": {
    "id": "SG23P8tt_Zcs"
   },
   "source": [
    "Прочитаем файл `yandex_music_project.csv` и сохраните его в переменной `df`. "
   ]
  },
  {
   "cell_type": "code",
   "execution_count": 2,
   "metadata": {
    "id": "fFVu7vqh_Zct"
   },
   "outputs": [],
   "source": [
    "# чтение файла с данными и сохранение в df\n",
    "df = pd.read_csv('yandex_music_project.csv')"
   ]
  },
  {
   "cell_type": "markdown",
   "metadata": {
    "id": "rDoOMd3uTqnZ"
   },
   "source": [
    "Выведите на экран первые десять строк таблицы:"
   ]
  },
  {
   "cell_type": "code",
   "execution_count": 3,
   "metadata": {
    "id": "oWTVX3gW_Zct"
   },
   "outputs": [
    {
     "data": {
      "text/html": [
       "<div>\n",
       "<style scoped>\n",
       "    .dataframe tbody tr th:only-of-type {\n",
       "        vertical-align: middle;\n",
       "    }\n",
       "\n",
       "    .dataframe tbody tr th {\n",
       "        vertical-align: top;\n",
       "    }\n",
       "\n",
       "    .dataframe thead th {\n",
       "        text-align: right;\n",
       "    }\n",
       "</style>\n",
       "<table border=\"1\" class=\"dataframe\">\n",
       "  <thead>\n",
       "    <tr style=\"text-align: right;\">\n",
       "      <th></th>\n",
       "      <th>userID</th>\n",
       "      <th>Track</th>\n",
       "      <th>artist</th>\n",
       "      <th>genre</th>\n",
       "      <th>City</th>\n",
       "      <th>time</th>\n",
       "      <th>Day</th>\n",
       "    </tr>\n",
       "  </thead>\n",
       "  <tbody>\n",
       "    <tr>\n",
       "      <th>0</th>\n",
       "      <td>FFB692EC</td>\n",
       "      <td>Kamigata To Boots</td>\n",
       "      <td>The Mass Missile</td>\n",
       "      <td>rock</td>\n",
       "      <td>Saint-Petersburg</td>\n",
       "      <td>20:28:33</td>\n",
       "      <td>Wednesday</td>\n",
       "    </tr>\n",
       "    <tr>\n",
       "      <th>1</th>\n",
       "      <td>55204538</td>\n",
       "      <td>Delayed Because of Accident</td>\n",
       "      <td>Andreas Rönnberg</td>\n",
       "      <td>rock</td>\n",
       "      <td>Moscow</td>\n",
       "      <td>14:07:09</td>\n",
       "      <td>Friday</td>\n",
       "    </tr>\n",
       "    <tr>\n",
       "      <th>2</th>\n",
       "      <td>20EC38</td>\n",
       "      <td>Funiculì funiculà</td>\n",
       "      <td>Mario Lanza</td>\n",
       "      <td>pop</td>\n",
       "      <td>Saint-Petersburg</td>\n",
       "      <td>20:58:07</td>\n",
       "      <td>Wednesday</td>\n",
       "    </tr>\n",
       "    <tr>\n",
       "      <th>3</th>\n",
       "      <td>A3DD03C9</td>\n",
       "      <td>Dragons in the Sunset</td>\n",
       "      <td>Fire + Ice</td>\n",
       "      <td>folk</td>\n",
       "      <td>Saint-Petersburg</td>\n",
       "      <td>08:37:09</td>\n",
       "      <td>Monday</td>\n",
       "    </tr>\n",
       "    <tr>\n",
       "      <th>4</th>\n",
       "      <td>E2DC1FAE</td>\n",
       "      <td>Soul People</td>\n",
       "      <td>Space Echo</td>\n",
       "      <td>dance</td>\n",
       "      <td>Moscow</td>\n",
       "      <td>08:34:34</td>\n",
       "      <td>Monday</td>\n",
       "    </tr>\n",
       "    <tr>\n",
       "      <th>5</th>\n",
       "      <td>842029A1</td>\n",
       "      <td>Преданная</td>\n",
       "      <td>IMPERVTOR</td>\n",
       "      <td>rusrap</td>\n",
       "      <td>Saint-Petersburg</td>\n",
       "      <td>13:09:41</td>\n",
       "      <td>Friday</td>\n",
       "    </tr>\n",
       "    <tr>\n",
       "      <th>6</th>\n",
       "      <td>4CB90AA5</td>\n",
       "      <td>True</td>\n",
       "      <td>Roman Messer</td>\n",
       "      <td>dance</td>\n",
       "      <td>Moscow</td>\n",
       "      <td>13:00:07</td>\n",
       "      <td>Wednesday</td>\n",
       "    </tr>\n",
       "    <tr>\n",
       "      <th>7</th>\n",
       "      <td>F03E1C1F</td>\n",
       "      <td>Feeling This Way</td>\n",
       "      <td>Polina Griffith</td>\n",
       "      <td>dance</td>\n",
       "      <td>Moscow</td>\n",
       "      <td>20:47:49</td>\n",
       "      <td>Wednesday</td>\n",
       "    </tr>\n",
       "    <tr>\n",
       "      <th>8</th>\n",
       "      <td>8FA1D3BE</td>\n",
       "      <td>И вновь продолжается бой</td>\n",
       "      <td>NaN</td>\n",
       "      <td>ruspop</td>\n",
       "      <td>Moscow</td>\n",
       "      <td>09:17:40</td>\n",
       "      <td>Friday</td>\n",
       "    </tr>\n",
       "    <tr>\n",
       "      <th>9</th>\n",
       "      <td>E772D5C0</td>\n",
       "      <td>Pessimist</td>\n",
       "      <td>NaN</td>\n",
       "      <td>dance</td>\n",
       "      <td>Saint-Petersburg</td>\n",
       "      <td>21:20:49</td>\n",
       "      <td>Wednesday</td>\n",
       "    </tr>\n",
       "  </tbody>\n",
       "</table>\n",
       "</div>"
      ],
      "text/plain": [
       "     userID                        Track            artist   genre  \\\n",
       "0  FFB692EC            Kamigata To Boots  The Mass Missile    rock   \n",
       "1  55204538  Delayed Because of Accident  Andreas Rönnberg    rock   \n",
       "2    20EC38            Funiculì funiculà       Mario Lanza     pop   \n",
       "3  A3DD03C9        Dragons in the Sunset        Fire + Ice    folk   \n",
       "4  E2DC1FAE                  Soul People        Space Echo   dance   \n",
       "5  842029A1                    Преданная         IMPERVTOR  rusrap   \n",
       "6  4CB90AA5                         True      Roman Messer   dance   \n",
       "7  F03E1C1F             Feeling This Way   Polina Griffith   dance   \n",
       "8  8FA1D3BE     И вновь продолжается бой               NaN  ruspop   \n",
       "9  E772D5C0                    Pessimist               NaN   dance   \n",
       "\n",
       "             City        time        Day  \n",
       "0  Saint-Petersburg  20:28:33  Wednesday  \n",
       "1            Moscow  14:07:09     Friday  \n",
       "2  Saint-Petersburg  20:58:07  Wednesday  \n",
       "3  Saint-Petersburg  08:37:09     Monday  \n",
       "4            Moscow  08:34:34     Monday  \n",
       "5  Saint-Petersburg  13:09:41     Friday  \n",
       "6            Moscow  13:00:07  Wednesday  \n",
       "7            Moscow  20:47:49  Wednesday  \n",
       "8            Moscow  09:17:40     Friday  \n",
       "9  Saint-Petersburg  21:20:49  Wednesday  "
      ]
     },
     "execution_count": 3,
     "metadata": {},
     "output_type": "execute_result"
    }
   ],
   "source": [
    "# получение первых 10 строк таблицы df\n",
    "df.head(10)"
   ]
  },
  {
   "cell_type": "markdown",
   "metadata": {},
   "source": [
    "Общая информация о данных таблицы df."
   ]
  },
  {
   "cell_type": "code",
   "execution_count": 4,
   "metadata": {
    "id": "DSf2kIb-_Zct"
   },
   "outputs": [
    {
     "name": "stdout",
     "output_type": "stream",
     "text": [
      "<class 'pandas.core.frame.DataFrame'>\n",
      "RangeIndex: 65079 entries, 0 to 65078\n",
      "Data columns (total 7 columns):\n",
      " #   Column    Non-Null Count  Dtype \n",
      "---  ------    --------------  ----- \n",
      " 0     userID  65079 non-null  object\n",
      " 1   Track     63848 non-null  object\n",
      " 2   artist    57876 non-null  object\n",
      " 3   genre     63881 non-null  object\n",
      " 4     City    65079 non-null  object\n",
      " 5   time      65079 non-null  object\n",
      " 6   Day       65079 non-null  object\n",
      "dtypes: object(7)\n",
      "memory usage: 3.5+ MB\n"
     ]
    }
   ],
   "source": [
    "# получение общей информации о данных в таблице df\n",
    "df.info()"
   ]
  },
  {
   "cell_type": "markdown",
   "metadata": {
    "id": "TaQ2Iwbr_Zct"
   },
   "source": [
    "Итак, в таблице семь столбцов. Тип данных во всех столбцах — `object`.\n",
    "\n",
    "Согласно документации к данным:\n",
    "* `userID` — идентификатор пользователя;\n",
    "* `Track` — название трека;  \n",
    "* `artist` — имя исполнителя;\n",
    "* `genre` — название жанра;\n",
    "* `City` — город пользователя;\n",
    "* `time` — время начала прослушивания;\n",
    "* `Day` — день недели.\n",
    "\n",
    "Количество значений в столбцах различается. Значит, в данных есть пропущенные значения.\n",
    "Названия колонок имеют разное написание, необходимо привести к единому стилю."
   ]
  },
  {
   "cell_type": "markdown",
   "metadata": {
    "id": "MCB6-dXG_Zct"
   },
   "source": [
    "**Выводы**\n",
    "\n",
    "В каждой строке таблицы — данные о прослушанном треке. Часть колонок описывает саму композицию: название, исполнителя и жанр. Остальные данные рассказывают о пользователе: из какого он города, когда он слушал музыку. \n",
    "\n",
    "Предварительно можно утверждать, что, данных достаточно для проверки гипотез. Но встречаются пропуски в данных, а в названиях колонок — расхождения с хорошим стилем.\n",
    "\n",
    "Чтобы двигаться дальше, нужно устранить проблемы в данных."
   ]
  },
  {
   "cell_type": "markdown",
   "metadata": {
    "id": "SjYF6Ub9_Zct"
   },
   "source": [
    "## Предобработка данных <a id=\"preprocessing\"></a> \n",
    "Исключим пропуски, переименуем столбцы, а также проверим данные на наличие дубликатов."
   ]
  },
  {
   "cell_type": "markdown",
   "metadata": {
    "id": "dIaKXr29_Zct"
   },
   "source": [
    "### Стиль заголовков <a id=\"title\"></a>\n",
    "Получаем перечень названий столбцов"
   ]
  },
  {
   "cell_type": "code",
   "execution_count": 5,
   "metadata": {
    "id": "oKOTdF_Q_Zct"
   },
   "outputs": [
    {
     "data": {
      "text/plain": [
       "Index(['  userID', 'Track', 'artist', 'genre', '  City  ', 'time', 'Day'], dtype='object')"
      ]
     },
     "execution_count": 5,
     "metadata": {},
     "output_type": "execute_result"
    }
   ],
   "source": [
    "# перечень названий столбцов таблицы df\n",
    "df.columns "
   ]
  },
  {
   "cell_type": "code",
   "execution_count": 6,
   "metadata": {
    "id": "ISlFqs5y_Zct"
   },
   "outputs": [],
   "source": [
    "# переименуем названия\n",
    "df = df.rename(columns={'  userID':'user_id', 'Track':'track', '  City  ':'city', 'Day':'day'})"
   ]
  },
  {
   "cell_type": "markdown",
   "metadata": {
    "id": "1dqbh00J_Zct"
   },
   "source": [
    "Проверьте результат. Для этого ещё раз выведите на экран названия столбцов:"
   ]
  },
  {
   "cell_type": "code",
   "execution_count": 7,
   "metadata": {
    "id": "d4NOAmTW_Zct"
   },
   "outputs": [
    {
     "data": {
      "text/plain": [
       "Index(['user_id', 'track', 'artist', 'genre', 'city', 'time', 'day'], dtype='object')"
      ]
     },
     "execution_count": 7,
     "metadata": {},
     "output_type": "execute_result"
    }
   ],
   "source": [
    "# проверка результатов - перечень названий столбцов\n",
    "df.column"
   ]
  },
  {
   "cell_type": "markdown",
   "metadata": {
    "id": "5ISfbcfY_Zct"
   },
   "source": [
    "### Пропуски значений <a id=\"passes\"></a>\n",
    "Сначала посчитайте, сколько в таблице пропущенных значений. Для этого достаточно двух методов `pandas`:"
   ]
  },
  {
   "cell_type": "code",
   "execution_count": 8,
   "metadata": {
    "id": "RskX29qr_Zct",
    "scrolled": true
   },
   "outputs": [
    {
     "data": {
      "text/plain": [
       "user_id       0\n",
       "track      1231\n",
       "artist     7203\n",
       "genre      1198\n",
       "city          0\n",
       "time          0\n",
       "day           0\n",
       "dtype: int64"
      ]
     },
     "execution_count": 8,
     "metadata": {},
     "output_type": "execute_result"
    }
   ],
   "source": [
    "# подсчёт пропусков\n",
    "df.isna().sum() "
   ]
  },
  {
   "cell_type": "markdown",
   "metadata": {
    "id": "qubhgnlO_Zct"
   },
   "source": [
    "Не все пропущенные значения влияют на исследование. Так в `track` и `artist` пропуски не важны для вашей работы. Достаточно заменить их явными обозначениями.\n",
    "\n",
    "Но пропуски в `genre` могут помешать сравнению музыкальных вкусов в Москве и Санкт-Петербурге. На практике было бы правильно установить причину пропусков и восстановить данные. Такой возможности нет в учебном проекте. Придётся:\n",
    "* заполнить и эти пропуски явными обозначениями,\n",
    "* оценить, насколько они повредят расчётам. "
   ]
  },
  {
   "cell_type": "markdown",
   "metadata": {
    "id": "fSv2laPA_Zct"
   },
   "source": [
    "Замените пропущенные значения в столбцах `track`, `artist` и `genre` на строку `'unknown'`. Для этого создайте список `columns_to_replace`, переберите его элементы циклом `for` и для каждого столбца выполните замену пропущенных значений:"
   ]
  },
  {
   "cell_type": "code",
   "execution_count": 9,
   "metadata": {
    "id": "KplB5qWs_Zct"
   },
   "outputs": [],
   "source": [
    "# перебор названий столбцов в цикле и замена пропущенных значений на 'unknown'\n",
    "columns_to_replace = ['track','artist','genre']\n",
    "for value in columns_to_replace:\n",
    "    df[value] = df[value].fillna('unknown')"
   ]
  },
  {
   "cell_type": "markdown",
   "metadata": {
    "id": "Ilsm-MZo_Zct"
   },
   "source": [
    "Убедимся, что в таблице не осталось пропусков. Для этого ещё раз посчитаем пропущенные значения."
   ]
  },
  {
   "cell_type": "code",
   "execution_count": 10,
   "metadata": {
    "id": "Tq4nYRX4_Zct"
   },
   "outputs": [
    {
     "data": {
      "text/plain": [
       "user_id    0\n",
       "track      0\n",
       "artist     0\n",
       "genre      0\n",
       "city       0\n",
       "time       0\n",
       "day        0\n",
       "dtype: int64"
      ]
     },
     "execution_count": 10,
     "metadata": {},
     "output_type": "execute_result"
    }
   ],
   "source": [
    "# подсчёт пропусков\n",
    "df.isna().sum()"
   ]
  },
  {
   "cell_type": "markdown",
   "metadata": {
    "id": "BWKRtBJ3_Zct"
   },
   "source": [
    "### Дубликаты <a id=\"dupl\"></a>\n",
    "\n",
    "Посчитаем явные дубликаты в таблице"
   ]
  },
  {
   "cell_type": "code",
   "execution_count": 11,
   "metadata": {
    "id": "36eES_S0_Zct"
   },
   "outputs": [
    {
     "data": {
      "text/plain": [
       "3826"
      ]
     },
     "execution_count": 11,
     "metadata": {},
     "output_type": "execute_result"
    }
   ],
   "source": [
    "# подсчёт явных дубликатов\n",
    "df.duplicated().sum()"
   ]
  },
  {
   "cell_type": "code",
   "execution_count": 12,
   "metadata": {
    "id": "exFHq6tt_Zct"
   },
   "outputs": [],
   "source": [
    "# удаление явных дубликатов (с удалением старых индексов и формированием новых)\n",
    "df = df.drop_duplicates().reset_index(drop=True)"
   ]
  },
  {
   "cell_type": "markdown",
   "metadata": {
    "id": "Im2YwBEG_Zct"
   },
   "source": [
    "Ещё раз посчитаем явные дубликаты в таблице — убедимся, что полностью от них избавились."
   ]
  },
  {
   "cell_type": "code",
   "execution_count": 13,
   "metadata": {
    "id": "-8PuNWQ0_Zct"
   },
   "outputs": [
    {
     "data": {
      "text/plain": [
       "0"
      ]
     },
     "execution_count": 13,
     "metadata": {},
     "output_type": "execute_result"
    }
   ],
   "source": [
    "# проверка на отсутствие дубликатов\n",
    "df.duplicated().sum()"
   ]
  },
  {
   "cell_type": "markdown",
   "metadata": {
    "id": "QlFBsxAr_Zct"
   },
   "source": [
    "Теперь избавимся от неявных дубликатов в колонке `genre`. Например, название одного и того же жанра может быть записано немного по-разному. Такие ошибки тоже повлияют на результат исследования."
   ]
  },
  {
   "cell_type": "code",
   "execution_count": 14,
   "metadata": {
    "id": "JIUcqzZN_Zct"
   },
   "outputs": [
    {
     "name": "stdout",
     "output_type": "stream",
     "text": [
      "['acid' 'acoustic' 'action' 'adult' 'africa' 'afrikaans' 'alternative'\n",
      " 'alternativepunk' 'ambient' 'americana' 'animated' 'anime' 'arabesk'\n",
      " 'arabic' 'arena' 'argentinetango' 'art' 'audiobook' 'author' 'avantgarde'\n",
      " 'axé' 'baile' 'balkan' 'beats' 'bigroom' 'black' 'bluegrass' 'blues'\n",
      " 'bollywood' 'bossa' 'brazilian' 'breakbeat' 'breaks' 'broadway'\n",
      " 'cantautori' 'cantopop' 'canzone' 'caribbean' 'caucasian' 'celtic'\n",
      " 'chamber' 'chanson' 'children' 'chill' 'chinese' 'choral' 'christian'\n",
      " 'christmas' 'classical' 'classicmetal' 'club' 'colombian' 'comedy'\n",
      " 'conjazz' 'contemporary' 'country' 'cuban' 'dance' 'dancehall' 'dancepop'\n",
      " 'dark' 'death' 'deep' 'deutschrock' 'deutschspr' 'dirty' 'disco' 'dnb'\n",
      " 'documentary' 'downbeat' 'downtempo' 'drum' 'dub' 'dubstep' 'eastern'\n",
      " 'easy' 'electronic' 'electropop' 'emo' 'entehno' 'epicmetal' 'estrada'\n",
      " 'ethnic' 'eurofolk' 'european' 'experimental' 'extrememetal' 'fado'\n",
      " 'fairytail' 'film' 'fitness' 'flamenco' 'folk' 'folklore' 'folkmetal'\n",
      " 'folkrock' 'folktronica' 'forró' 'frankreich' 'französisch' 'french'\n",
      " 'funk' 'future' 'gangsta' 'garage' 'german' 'ghazal' 'gitarre' 'glitch'\n",
      " 'gospel' 'gothic' 'grime' 'grunge' 'gypsy' 'handsup' \"hard'n'heavy\"\n",
      " 'hardcore' 'hardstyle' 'hardtechno' 'hip' 'hip-hop' 'hiphop' 'historisch'\n",
      " 'holiday' 'hop' 'horror' 'house' 'hymn' 'idm' 'independent' 'indian'\n",
      " 'indie' 'indipop' 'industrial' 'inspirational' 'instrumental'\n",
      " 'international' 'irish' 'jam' 'japanese' 'jazz' 'jewish' 'jpop' 'jungle'\n",
      " 'k-pop' 'karadeniz' 'karaoke' 'kayokyoku' 'korean' 'laiko' 'latin'\n",
      " 'latino' 'leftfield' 'local' 'lounge' 'loungeelectronic' 'lovers'\n",
      " 'malaysian' 'mandopop' 'marschmusik' 'meditative' 'mediterranean'\n",
      " 'melodic' 'metal' 'metalcore' 'mexican' 'middle' 'minimal'\n",
      " 'miscellaneous' 'modern' 'mood' 'mpb' 'muslim' 'native' 'neoklassik'\n",
      " 'neue' 'new' 'newage' 'newwave' 'nu' 'nujazz' 'numetal' 'oceania' 'old'\n",
      " 'opera' 'orchestral' 'other' 'piano' 'podcasts' 'pop' 'popdance'\n",
      " 'popelectronic' 'popeurodance' 'poprussian' 'post' 'posthardcore'\n",
      " 'postrock' 'power' 'progmetal' 'progressive' 'psychedelic' 'punjabi'\n",
      " 'punk' 'quebecois' 'ragga' 'ram' 'rancheras' 'rap' 'rave' 'reggae'\n",
      " 'reggaeton' 'regional' 'relax' 'religious' 'retro' 'rhythm' 'rnb' 'rnr'\n",
      " 'rock' 'rockabilly' 'rockalternative' 'rockindie' 'rockother' 'romance'\n",
      " 'roots' 'ruspop' 'rusrap' 'rusrock' 'russian' 'salsa' 'samba' 'scenic'\n",
      " 'schlager' 'self' 'sertanejo' 'shanson' 'shoegazing' 'showtunes' 'singer'\n",
      " 'ska' 'skarock' 'slow' 'smooth' 'soft' 'soul' 'soulful' 'sound'\n",
      " 'soundtrack' 'southern' 'specialty' 'speech' 'spiritual' 'sport'\n",
      " 'stonerrock' 'surf' 'swing' 'synthpop' 'synthrock' 'sängerportrait'\n",
      " 'tango' 'tanzorchester' 'taraftar' 'tatar' 'tech' 'techno' 'teen'\n",
      " 'thrash' 'top' 'traditional' 'tradjazz' 'trance' 'tribal' 'trip'\n",
      " 'triphop' 'tropical' 'türk' 'türkçe' 'ukrrock' 'unknown' 'urban' 'uzbek'\n",
      " 'variété' 'vi' 'videogame' 'vocal' 'western' 'world' 'worldbeat' 'ïîï'\n",
      " 'электроника']\n"
     ]
    }
   ],
   "source": [
    "part_df_genre = df['genre']\n",
    "part_df_genre = part_df_genre.sort_values()\n",
    "part_df_genre.unique() # просмотр уникальных названий жанров"
   ]
  },
  {
   "cell_type": "markdown",
   "metadata": {
    "id": "qej-Qmuo_Zct"
   },
   "source": [
    "В списке попадается различное написание одного из жанров:\n",
    "* *hip*,\n",
    "* *hop*,\n",
    "* *hip-hop*.\n",
    "\n",
    "Чтобы очистить от них таблицу, напишем функцию `replace_wrong_genres()` с двумя параметрами: \n",
    "* `wrong_genres` — список дубликатов,\n",
    "* `correct_genre` — строка с правильным значением.\n",
    "\n",
    "Функция исправит колонку `genre` в таблице `df`: заменит каждое значение из списка `wrong_genres` на значение из `correct_genre`."
   ]
  },
  {
   "cell_type": "code",
   "execution_count": 15,
   "metadata": {
    "id": "ErNDkmns_Zct"
   },
   "outputs": [],
   "source": [
    "# функция для замены неявных дубликатов\n",
    "def replace_wrong_genres(wrong_genres, correct_genre):\n",
    "    for genre in wrong_genres:\n",
    "        df['genre'] = df['genre'].replace(wrong_genres, correct_genre)"
   ]
  },
  {
   "cell_type": "markdown",
   "metadata": {
    "id": "aDoBJxbA_Zct"
   },
   "source": [
    "С помощью функции заменим все неправельные написания жанра на `hiphop`:"
   ]
  },
  {
   "cell_type": "code",
   "execution_count": 16,
   "metadata": {
    "id": "YN5i2hpmSo09"
   },
   "outputs": [],
   "source": [
    "# устранение неявных дубликатов\n",
    "replace_wrong_genres(['hip', 'hop', 'hip-hop'], 'hiphop') "
   ]
  },
  {
   "cell_type": "code",
   "execution_count": 17,
   "metadata": {
    "id": "wvixALnFG15m"
   },
   "outputs": [
    {
     "name": "stdout",
     "output_type": "stream",
     "text": [
      "['acid' 'acoustic' 'action' 'adult' 'africa' 'afrikaans' 'alternative'\n",
      " 'alternativepunk' 'ambient' 'americana' 'animated' 'anime' 'arabesk'\n",
      " 'arabic' 'arena' 'argentinetango' 'art' 'audiobook' 'author' 'avantgarde'\n",
      " 'axé' 'baile' 'balkan' 'beats' 'bigroom' 'black' 'bluegrass' 'blues'\n",
      " 'bollywood' 'bossa' 'brazilian' 'breakbeat' 'breaks' 'broadway'\n",
      " 'cantautori' 'cantopop' 'canzone' 'caribbean' 'caucasian' 'celtic'\n",
      " 'chamber' 'chanson' 'children' 'chill' 'chinese' 'choral' 'christian'\n",
      " 'christmas' 'classical' 'classicmetal' 'club' 'colombian' 'comedy'\n",
      " 'conjazz' 'contemporary' 'country' 'cuban' 'dance' 'dancehall' 'dancepop'\n",
      " 'dark' 'death' 'deep' 'deutschrock' 'deutschspr' 'dirty' 'disco' 'dnb'\n",
      " 'documentary' 'downbeat' 'downtempo' 'drum' 'dub' 'dubstep' 'eastern'\n",
      " 'easy' 'electronic' 'electropop' 'emo' 'entehno' 'epicmetal' 'estrada'\n",
      " 'ethnic' 'eurofolk' 'european' 'experimental' 'extrememetal' 'fado'\n",
      " 'fairytail' 'film' 'fitness' 'flamenco' 'folk' 'folklore' 'folkmetal'\n",
      " 'folkrock' 'folktronica' 'forró' 'frankreich' 'französisch' 'french'\n",
      " 'funk' 'future' 'gangsta' 'garage' 'german' 'ghazal' 'gitarre' 'glitch'\n",
      " 'gospel' 'gothic' 'grime' 'grunge' 'gypsy' 'handsup' \"hard'n'heavy\"\n",
      " 'hardcore' 'hardstyle' 'hardtechno' 'hiphop' 'historisch' 'holiday'\n",
      " 'horror' 'house' 'hymn' 'idm' 'independent' 'indian' 'indie' 'indipop'\n",
      " 'industrial' 'inspirational' 'instrumental' 'international' 'irish' 'jam'\n",
      " 'japanese' 'jazz' 'jewish' 'jpop' 'jungle' 'k-pop' 'karadeniz' 'karaoke'\n",
      " 'kayokyoku' 'korean' 'laiko' 'latin' 'latino' 'leftfield' 'local'\n",
      " 'lounge' 'loungeelectronic' 'lovers' 'malaysian' 'mandopop' 'marschmusik'\n",
      " 'meditative' 'mediterranean' 'melodic' 'metal' 'metalcore' 'mexican'\n",
      " 'middle' 'minimal' 'miscellaneous' 'modern' 'mood' 'mpb' 'muslim'\n",
      " 'native' 'neoklassik' 'neue' 'new' 'newage' 'newwave' 'nu' 'nujazz'\n",
      " 'numetal' 'oceania' 'old' 'opera' 'orchestral' 'other' 'piano' 'podcasts'\n",
      " 'pop' 'popdance' 'popelectronic' 'popeurodance' 'poprussian' 'post'\n",
      " 'posthardcore' 'postrock' 'power' 'progmetal' 'progressive' 'psychedelic'\n",
      " 'punjabi' 'punk' 'quebecois' 'ragga' 'ram' 'rancheras' 'rap' 'rave'\n",
      " 'reggae' 'reggaeton' 'regional' 'relax' 'religious' 'retro' 'rhythm'\n",
      " 'rnb' 'rnr' 'rock' 'rockabilly' 'rockalternative' 'rockindie' 'rockother'\n",
      " 'romance' 'roots' 'ruspop' 'rusrap' 'rusrock' 'russian' 'salsa' 'samba'\n",
      " 'scenic' 'schlager' 'self' 'sertanejo' 'shanson' 'shoegazing' 'showtunes'\n",
      " 'singer' 'ska' 'skarock' 'slow' 'smooth' 'soft' 'soul' 'soulful' 'sound'\n",
      " 'soundtrack' 'southern' 'specialty' 'speech' 'spiritual' 'sport'\n",
      " 'stonerrock' 'surf' 'swing' 'synthpop' 'synthrock' 'sängerportrait'\n",
      " 'tango' 'tanzorchester' 'taraftar' 'tatar' 'tech' 'techno' 'teen'\n",
      " 'thrash' 'top' 'traditional' 'tradjazz' 'trance' 'tribal' 'trip'\n",
      " 'triphop' 'tropical' 'türk' 'türkçe' 'ukrrock' 'unknown' 'urban' 'uzbek'\n",
      " 'variété' 'vi' 'videogame' 'vocal' 'western' 'world' 'worldbeat' 'ïîï'\n",
      " 'электроника']\n"
     ]
    }
   ],
   "source": [
    "# проверим внесные изменения\n",
    "part_df_genre = df['genre']\n",
    "part_df_genre = part_df_genre.sort_values()\n",
    "print(part_df_genre.unique())# проверка на неявные дубликаты"
   ]
  },
  {
   "cell_type": "markdown",
   "metadata": {
    "id": "jz6a9-7HQUDd"
   },
   "source": [
    "**Выводы**\n",
    "\n",
    "Предобработка обнаружила три проблемы в данных:\n",
    "\n",
    "- нарушения в стиле заголовков,\n",
    "- пропущенные значения,\n",
    "- дубликаты — явные и неявные.\n",
    "\n",
    "Мы исправили заголовки, чтобы упростить работу с таблицей. Без дубликатов исследование станет более точным.\n",
    "\n",
    "Пропущенные значения мы заменили на `'unknown'`. Ещё предстоит увидеть, не повредят ли исследованию пропуски в колонке `genre`.\n",
    "\n",
    "Теперь можно перейти к проверке гипотез. "
   ]
  },
  {
   "cell_type": "markdown",
   "metadata": {
    "id": "WttZHXH0SqKk"
   },
   "source": [
    "## Проверка гипотез <a id=\"hypothesis\"></a>"
   ]
  },
  {
   "cell_type": "markdown",
   "metadata": {
    "id": "Im936VVi_Zcu"
   },
   "source": [
    "### Сравнение поведения пользователей двух столиц <a id=\"behavior\"></a>"
   ]
  },
  {
   "cell_type": "markdown",
   "metadata": {
    "id": "nwt_MuaL_Zcu"
   },
   "source": [
    "Первая гипотеза утверждает, что пользователи по-разному слушают музыку в Москве и Санкт-Петербурге. Проверим это предположение по данным о трёх днях недели — понедельнике, среде и пятнице. Для этого:\n",
    "\n",
    "* Разделите пользователей Москвы и Санкт-Петербурга\n",
    "* Сравните, сколько треков послушала каждая группа пользователей в понедельник, среду и пятницу.\n"
   ]
  },
  {
   "cell_type": "markdown",
   "metadata": {
    "id": "8Dw_YMmT_Zcu"
   },
   "source": [
    "Оценим активность пользователей в каждом городе. Сгруппируем данные по городу и посчитаем прослушивания в каждой группе."
   ]
  },
  {
   "cell_type": "code",
   "execution_count": 18,
   "metadata": {
    "id": "0_Qs96oh_Zcu"
   },
   "outputs": [
    {
     "data": {
      "text/plain": [
       "city\n",
       "Moscow              42741\n",
       "Saint-Petersburg    18512\n",
       "Name: user_id, dtype: int64"
      ]
     },
     "execution_count": 18,
     "metadata": {},
     "output_type": "execute_result"
    }
   ],
   "source": [
    "# подсчёт прослушиваний в каждом городе\n",
    "df.groupby('city')['user_id'].count()"
   ]
  },
  {
   "cell_type": "markdown",
   "metadata": {
    "id": "dzli3w8o_Zcu"
   },
   "source": [
    "В Москве прослушиваний больше, чем в Петербурге. Из этого не следует, что московские пользователи чаще слушают музыку. Просто самих пользователей в Москве больше.\n",
    "\n",
    "Теперь сгруппируем данные по дню недели и подсчитаем прослушивания в понедельник, среду и пятницу. Учтем, что в данных есть информация только о прослушиваниях только за эти дни.\n"
   ]
  },
  {
   "cell_type": "code",
   "execution_count": 19,
   "metadata": {
    "id": "uZMKjiJz_Zcu"
   },
   "outputs": [
    {
     "data": {
      "text/plain": [
       "day\n",
       "Friday       21840\n",
       "Monday       21354\n",
       "Wednesday    18059\n",
       "Name: user_id, dtype: int64"
      ]
     },
     "execution_count": 19,
     "metadata": {},
     "output_type": "execute_result"
    }
   ],
   "source": [
    "# подсчёт прослушиваний в каждый из трёх дней\n",
    "df.groupby('day')['user_id'].count() "
   ]
  },
  {
   "cell_type": "markdown",
   "metadata": {
    "id": "cC2tNrlL_Zcu"
   },
   "source": [
    "В среднем пользователи из двух городов менее активны по средам. Но картина может измениться, если рассмотреть каждый город в отдельности."
   ]
  },
  {
   "cell_type": "markdown",
   "metadata": {
    "id": "POzs8bGa_Zcu"
   },
   "source": [
    "Создайте функцию `number_tracks()`, которая посчитает прослушивания для заданного дня и города. Ей понадобятся два параметра:\n",
    "* день недели,\n",
    "* название города.\n",
    "\n",
    "В функции сохраним в переменную строки исходной таблицы, у которых значение:\n",
    "  * в колонке `day` равно параметру `day`,\n",
    "  * в колонке `city` равно параметру `city`.\n",
    "\n",
    "Для этого применим последовательную фильтрацию с логической индексацией.\n",
    "\n",
    "Затем посчитаем значения в столбце `user_id` получившейся таблицы. Результат сохраним в новую переменную. Вернем эту переменную из функции."
   ]
  },
  {
   "cell_type": "code",
   "execution_count": 20,
   "metadata": {
    "id": "Nz3GdQB1_Zcu"
   },
   "outputs": [],
   "source": [
    "# создание функции number_tracks()\n",
    "def number_tracks(day, city): \n",
    "    track_list = df[df['day']==day]\n",
    "    track_list = track_list[track_list['city']==city]\n",
    "    track_list_count = track_list['user_id'].count()\n",
    "    return track_list_count \n"
   ]
  },
  {
   "cell_type": "markdown",
   "metadata": {
    "id": "ytf7xFrFJQ2r"
   },
   "source": [
    "Вызовим `number_tracks()` шесть раз, меняя значение параметров — так, чтобы получить данные для каждого города в каждый из трёх дней."
   ]
  },
  {
   "cell_type": "code",
   "execution_count": 21,
   "metadata": {
    "id": "rJcRATNQ_Zcu"
   },
   "outputs": [
    {
     "data": {
      "text/plain": [
       "15740"
      ]
     },
     "execution_count": 21,
     "metadata": {},
     "output_type": "execute_result"
    }
   ],
   "source": [
    "# количество прослушиваний в Москве по понедельникам\n",
    "monday_moscow = number_tracks('Monday', 'Moscow')\n",
    "monday_moscow "
   ]
  },
  {
   "cell_type": "code",
   "execution_count": 22,
   "metadata": {
    "id": "hq_ncZ5T_Zcu"
   },
   "outputs": [
    {
     "data": {
      "text/plain": [
       "5614"
      ]
     },
     "execution_count": 22,
     "metadata": {},
     "output_type": "execute_result"
    }
   ],
   "source": [
    "# количество прослушиваний в Санкт-Петербурге по понедельникам\n",
    "number_tracks('Monday', 'Saint-Petersburg')"
   ]
  },
  {
   "cell_type": "code",
   "execution_count": 23,
   "metadata": {
    "id": "_NTy2VPU_Zcu"
   },
   "outputs": [
    {
     "data": {
      "text/plain": [
       "11056"
      ]
     },
     "execution_count": 23,
     "metadata": {},
     "output_type": "execute_result"
    }
   ],
   "source": [
    "# количество прослушиваний в Москве по средам\n",
    "number_tracks('Wednesday', 'Moscow')"
   ]
  },
  {
   "cell_type": "code",
   "execution_count": 24,
   "metadata": {
    "id": "j2y3TAwo_Zcu"
   },
   "outputs": [
    {
     "data": {
      "text/plain": [
       "7003"
      ]
     },
     "execution_count": 24,
     "metadata": {},
     "output_type": "execute_result"
    }
   ],
   "source": [
    "# количество прослушиваний в Санкт-Петербурге по средам\n",
    "number_tracks('Wednesday', 'Saint-Petersburg')"
   ]
  },
  {
   "cell_type": "code",
   "execution_count": 25,
   "metadata": {
    "id": "vYDw5u_K_Zcu"
   },
   "outputs": [
    {
     "data": {
      "text/plain": [
       "15945"
      ]
     },
     "execution_count": 25,
     "metadata": {},
     "output_type": "execute_result"
    }
   ],
   "source": [
    "# количество прослушиваний в Москве по пятницам\n",
    "frinday_moscow = number_tracks('Friday', 'Moscow')\n",
    "frinday_moscow "
   ]
  },
  {
   "cell_type": "code",
   "execution_count": 26,
   "metadata": {
    "id": "8_yzFtW3_Zcu"
   },
   "outputs": [
    {
     "data": {
      "text/plain": [
       "5895"
      ]
     },
     "execution_count": 26,
     "metadata": {},
     "output_type": "execute_result"
    }
   ],
   "source": [
    "# количество прослушиваний в Санкт-Петербурге по пятницам\n",
    "number_tracks('Friday', 'Saint-Petersburg')\n"
   ]
  },
  {
   "cell_type": "code",
   "execution_count": 27,
   "metadata": {
    "id": "APAcLpOr_Zcu"
   },
   "outputs": [
    {
     "data": {
      "text/html": [
       "<div>\n",
       "<style scoped>\n",
       "    .dataframe tbody tr th:only-of-type {\n",
       "        vertical-align: middle;\n",
       "    }\n",
       "\n",
       "    .dataframe tbody tr th {\n",
       "        vertical-align: top;\n",
       "    }\n",
       "\n",
       "    .dataframe thead th {\n",
       "        text-align: right;\n",
       "    }\n",
       "</style>\n",
       "<table border=\"1\" class=\"dataframe\">\n",
       "  <thead>\n",
       "    <tr style=\"text-align: right;\">\n",
       "      <th></th>\n",
       "      <th>city</th>\n",
       "      <th>monday</th>\n",
       "      <th>wednesday</th>\n",
       "      <th>friday</th>\n",
       "    </tr>\n",
       "  </thead>\n",
       "  <tbody>\n",
       "    <tr>\n",
       "      <th>0</th>\n",
       "      <td>Moscow</td>\n",
       "      <td>15740</td>\n",
       "      <td>11056</td>\n",
       "      <td>15945</td>\n",
       "    </tr>\n",
       "    <tr>\n",
       "      <th>1</th>\n",
       "      <td>Saint-Petersburg</td>\n",
       "      <td>5614</td>\n",
       "      <td>7003</td>\n",
       "      <td>5895</td>\n",
       "    </tr>\n",
       "  </tbody>\n",
       "</table>\n",
       "</div>"
      ],
      "text/plain": [
       "               city  monday  wednesday  friday\n",
       "0            Moscow   15740      11056   15945\n",
       "1  Saint-Petersburg    5614       7003    5895"
      ]
     },
     "execution_count": 27,
     "metadata": {},
     "output_type": "execute_result"
    }
   ],
   "source": [
    "# занесем полученые результаты в таблицу\n",
    "data = [\n",
    "    ['Moscow', 15740, 11056, 15945],\n",
    "    ['Saint-Petersburg', 5614, 7003, 5895]\n",
    "]\n",
    "columns = ['city', 'monday', 'wednesday', 'friday']\n",
    "df_hypothesis_1 = pd.DataFrame(data=data, columns=columns)# таблица с результатами\n",
    "df_hypothesis_1"
   ]
  },
  {
   "cell_type": "markdown",
   "metadata": {
    "id": "-EgPIHYu_Zcu"
   },
   "source": [
    "**Выводы**\n",
    "\n",
    "Данные показывают разницу поведения пользователей:\n",
    "\n",
    "- В Москве пик прослушиваний приходится на понедельник и пятницу, а в среду заметен спад.\n",
    "- В Петербурге, наоборот, больше слушают музыку по средам. Активность в понедельник и пятницу здесь почти в равной мере уступает среде.\n",
    "\n",
    "Значит, данные говорят в пользу первой гипотезы."
   ]
  },
  {
   "cell_type": "markdown",
   "metadata": {
    "id": "atZAxtq4_Zcu"
   },
   "source": [
    "### Музыка в начале и в конце недели <a id=\"week\"></a>"
   ]
  },
  {
   "cell_type": "markdown",
   "metadata": {
    "id": "eXrQqXFH_Zcu"
   },
   "source": [
    "Согласно второй гипотезе, утром в понедельник в Москве преобладают одни жанры, а в Петербурге — другие. Так же и вечером пятницы преобладают разные жанры — в зависимости от города."
   ]
  },
  {
   "cell_type": "markdown",
   "metadata": {
    "id": "S8UcW6Hw_Zcu"
   },
   "source": [
    "Сохраним таблицы с данными в две переменные:\n",
    "* по Москве — в `moscow_general`;\n",
    "* по Санкт-Петербургу — в `spb_general`."
   ]
  },
  {
   "cell_type": "code",
   "execution_count": 28,
   "metadata": {
    "id": "qeaFfM_P_Zcu"
   },
   "outputs": [],
   "source": [
    "# получение таблицы moscow_general из тех строк таблицы df, \n",
    "# для которых значение в столбце 'city' равно 'Moscow'\n",
    "moscow_general = df[df['city']=='Moscow'] "
   ]
  },
  {
   "cell_type": "code",
   "execution_count": 29,
   "metadata": {
    "id": "ORaVRKto_Zcu"
   },
   "outputs": [],
   "source": [
    "# получение таблицы spb_general из тех строк таблицы df,\n",
    "# для которых значение в столбце 'city' равно 'Saint-Petersburg'\n",
    "spb_general = df[df['city']=='Saint-Petersburg']"
   ]
  },
  {
   "cell_type": "markdown",
   "metadata": {
    "id": "MEJV-CX2_Zcu"
   },
   "source": [
    "Создам функцию `genre_weekday()` с четырьмя параметрами:\n",
    "* таблица (датафрейм) с данными,\n",
    "* день недели,\n",
    "* начальная временная метка в формате 'hh:mm', \n",
    "* последняя временная метка в формате 'hh:mm'.\n",
    "\n",
    "Функция должна вернуть информацию о топ-10 жанров тех треков, которые прослушивали в указанный день, в промежутке между двумя отметками времени."
   ]
  },
  {
   "cell_type": "code",
   "execution_count": 30,
   "metadata": {
    "id": "laJT9BYl_Zcu"
   },
   "outputs": [],
   "source": [
    "# объявление функции genre_weekday()\n",
    "def genre_weekday(table, day, time1, time2):\n",
    "    genre_df = table[table['day']==day]\n",
    "    genre_df = genre_df[genre_df['time']>time1]\n",
    "    genre_df = genre_df[genre_df['time']<time2]\n",
    "    genre_df_count = genre_df.groupby('genre')['day'].count()\n",
    "    genre_df_sorted = genre_df_count.sort_values(ascending=False)\n",
    "    return genre_df_sorted.head(10)\n"
   ]
  },
  {
   "cell_type": "markdown",
   "metadata": {
    "id": "la2s2_PF_Zcu"
   },
   "source": [
    "Cравним результаты функции `genre_weekday()` для Москвы и Санкт-Петербурга в понедельник утром (с 7:00 до 11:00) и в пятницу вечером (с 17:00 до 23:00):"
   ]
  },
  {
   "cell_type": "code",
   "execution_count": 31,
   "metadata": {
    "id": "yz7itPUQ_Zcu"
   },
   "outputs": [
    {
     "data": {
      "text/plain": [
       "genre\n",
       "pop            781\n",
       "dance          549\n",
       "electronic     480\n",
       "rock           474\n",
       "hiphop         286\n",
       "ruspop         186\n",
       "world          181\n",
       "rusrap         175\n",
       "alternative    164\n",
       "unknown        161\n",
       "Name: day, dtype: int64"
      ]
     },
     "execution_count": 31,
     "metadata": {},
     "output_type": "execute_result"
    }
   ],
   "source": [
    "# вызов функции для утра понедельника в Москве \n",
    "# объекты, хранящие время, являются строками и сравниваются как строки\n",
    "genre_weekday(table = moscow_general, day='Monday', time1='07:00', time2='11:00')"
   ]
  },
  {
   "cell_type": "code",
   "execution_count": 32,
   "metadata": {
    "id": "kwUcHPdy_Zcu"
   },
   "outputs": [
    {
     "data": {
      "text/plain": [
       "genre\n",
       "pop            218\n",
       "dance          182\n",
       "rock           162\n",
       "electronic     147\n",
       "hiphop          80\n",
       "ruspop          64\n",
       "alternative     58\n",
       "rusrap          55\n",
       "jazz            44\n",
       "classical       40\n",
       "Name: day, dtype: int64"
      ]
     },
     "execution_count": 32,
     "metadata": {},
     "output_type": "execute_result"
    }
   ],
   "source": [
    "# вызов функции для утра понедельника в Петербурге \n",
    "genre_weekday(table = spb_general, day='Monday', time1='07:00', time2='11:00')"
   ]
  },
  {
   "cell_type": "code",
   "execution_count": 33,
   "metadata": {
    "id": "EzXVRE1o_Zcu"
   },
   "outputs": [
    {
     "data": {
      "text/plain": [
       "genre\n",
       "pop            713\n",
       "rock           517\n",
       "dance          495\n",
       "electronic     482\n",
       "hiphop         273\n",
       "world          208\n",
       "ruspop         170\n",
       "alternative    163\n",
       "classical      163\n",
       "rusrap         142\n",
       "Name: day, dtype: int64"
      ]
     },
     "execution_count": 33,
     "metadata": {},
     "output_type": "execute_result"
    }
   ],
   "source": [
    "# вызов функции для вечера пятницы в Москве\n",
    "genre_weekday(table = moscow_general, day='Friday', time1='17:00', time2='23:00')"
   ]
  },
  {
   "cell_type": "code",
   "execution_count": 34,
   "metadata": {
    "id": "JZaEKu5v_Zcu"
   },
   "outputs": [
    {
     "data": {
      "text/plain": [
       "genre\n",
       "pop            256\n",
       "electronic     216\n",
       "rock           216\n",
       "dance          210\n",
       "hiphop          97\n",
       "alternative     63\n",
       "jazz            61\n",
       "classical       60\n",
       "rusrap          59\n",
       "world           54\n",
       "Name: day, dtype: int64"
      ]
     },
     "execution_count": 34,
     "metadata": {},
     "output_type": "execute_result"
    }
   ],
   "source": [
    "# вызов функции для вечера пятницы в Петербурге\n",
    "genre_weekday(table = spb_general, day='Friday', time1='17:00', time2='23:00')"
   ]
  },
  {
   "cell_type": "markdown",
   "metadata": {
    "id": "wrCe4MNX_Zcu"
   },
   "source": [
    "**Выводы**\n",
    "\n",
    "Если сравнить топ-10 жанров в понедельник утром, можно сделать такие выводы:\n",
    "\n",
    "1. В Москве и Петербурге слушают похожую музыку. Единственное отличие — в московский рейтинг вошёл жанр “world”, а в петербургский — джаз и классика.\n",
    "\n",
    "2. В Москве пропущенных значений оказалось так много, что значение `'unknown'` заняло десятое место среди самых популярных жанров. Значит, пропущенные значения занимают существенную долю в данных и угрожают достоверности исследования.\n",
    "\n",
    "Вечер пятницы не меняет эту картину. Некоторые жанры поднимаются немного выше, другие спускаются, но в целом топ-10 остаётся тем же самым.\n",
    "\n",
    "Таким образом, вторая гипотеза подтвердилась лишь частично:\n",
    "* Пользователи слушают похожую музыку в начале недели и в конце.\n",
    "* Разница между Москвой и Петербургом не слишком выражена. В Москве чаще слушают русскую популярную музыку, в Петербурге — джаз.\n",
    "\n",
    "Однако пропуски в данных ставят под сомнение этот результат. В Москве их так много, что рейтинг топ-10 мог бы выглядеть иначе, если бы не утерянные  данные о жанрах."
   ]
  },
  {
   "cell_type": "markdown",
   "metadata": {
    "id": "JolODAqr_Zcu"
   },
   "source": [
    "### Жанровые предпочтения в Москве и Петербурге <a id=\"genre\"></a>\n",
    "\n",
    "Гипотеза: Петербург — столица рэпа, музыку этого жанра там слушают чаще, чем в Москве.  А Москва — город контрастов, в котором, тем не менее, преобладает поп-музыка."
   ]
  },
  {
   "cell_type": "markdown",
   "metadata": {
    "id": "DlegSvaT_Zcu"
   },
   "source": [
    "Сгруппируем таблицу `moscow_general` по жанру и посчитаем прослушивания треков каждого жанра методом `count()`. Затем отсортируем результат в порядке убывания и сохраните его в таблице `moscow_genres`."
   ]
  },
  {
   "cell_type": "code",
   "execution_count": 35,
   "metadata": {
    "id": "r19lIPke_Zcu"
   },
   "outputs": [],
   "source": [
    "moscow_genres = moscow_general.groupby('genre')['genre'].count().sort_values(ascending=False)"
   ]
  },
  {
   "cell_type": "code",
   "execution_count": 36,
   "metadata": {
    "id": "WhCSooF8_Zcv"
   },
   "outputs": [
    {
     "data": {
      "text/plain": [
       "genre\n",
       "pop            5892\n",
       "dance          4435\n",
       "rock           3965\n",
       "electronic     3786\n",
       "hiphop         2096\n",
       "classical      1616\n",
       "world          1432\n",
       "alternative    1379\n",
       "ruspop         1372\n",
       "rusrap         1161\n",
       "Name: genre, dtype: int64"
      ]
     },
     "execution_count": 36,
     "metadata": {},
     "output_type": "execute_result"
    }
   ],
   "source": [
    "# просмотр первых 10 строк moscow_genres\n",
    "moscow_genres.head(10)"
   ]
  },
  {
   "cell_type": "markdown",
   "metadata": {
    "id": "cnPG2vnN_Zcv"
   },
   "source": [
    "Теперь повторим то же и для Петербурга.\n",
    "\n",
    "Сгруппируем таблицу `spb_general` по жанру. Посчитаем прослушивания треков каждого жанра. \n"
   ]
  },
  {
   "cell_type": "code",
   "execution_count": 37,
   "metadata": {
    "id": "gluLIpE7_Zcv"
   },
   "outputs": [],
   "source": [
    "spb_genres = spb_general.groupby('genre')['genre'].count().sort_values(ascending=False)"
   ]
  },
  {
   "cell_type": "code",
   "execution_count": 38,
   "metadata": {
    "id": "uaGJHjVU_Zcv"
   },
   "outputs": [
    {
     "data": {
      "text/plain": [
       "genre\n",
       "pop            2431\n",
       "dance          1932\n",
       "rock           1879\n",
       "electronic     1736\n",
       "hiphop          960\n",
       "alternative     649\n",
       "classical       646\n",
       "rusrap          564\n",
       "ruspop          538\n",
       "world           515\n",
       "Name: genre, dtype: int64"
      ]
     },
     "execution_count": 38,
     "metadata": {},
     "output_type": "execute_result"
    }
   ],
   "source": [
    "# просмотр первых 10 строк spb_genres\n",
    "spb_genres.head(10)"
   ]
  },
  {
   "cell_type": "markdown",
   "metadata": {
    "id": "RY51YJYu_Zcv"
   },
   "source": [
    "**Выводы**"
   ]
  },
  {
   "cell_type": "markdown",
   "metadata": {
    "id": "nVhnJEm__Zcv"
   },
   "source": [
    "Гипотеза частично подтвердилась:\n",
    "* Поп-музыка — самый популярный жанр в Москве, как и предполагала гипотеза. Более того, в топ-10 жанров встречается близкий жанр — русская популярная музыка.\n",
    "* Вопреки ожиданиям, рэп одинаково популярен в Москве и Петербурге. \n"
   ]
  },
  {
   "cell_type": "markdown",
   "metadata": {
    "id": "ykKQ0N65_Zcv"
   },
   "source": [
    "## Итоги исследования <a id=\"total\"></a>"
   ]
  },
  {
   "cell_type": "markdown",
   "metadata": {
    "id": "tjUwbHb3_Zcv"
   },
   "source": [
    "Мы проверили три гипотезы и установили:\n",
    "\n",
    "1. День недели по-разному влияет на активность пользователей в Москве и Петербурге. \n",
    "\n",
    "Первая гипотеза полностью подтвердилась.\n",
    "\n",
    "2. Музыкальные предпочтения не сильно меняются в течение недели — будь то Москва или Петербург. Небольшие различия заметны в начале недели, по понедельникам:\n",
    "* в Москве слушают музыку жанра “world”,\n",
    "* в Петербурге — джаз и классику.\n",
    "\n",
    "Таким образом, вторая гипотеза подтвердилась лишь отчасти. Этот результат мог оказаться иным, если бы не пропуски в данных.\n",
    "\n",
    "3. Во вкусах пользователей Москвы и Петербурга больше общего чем различий. Вопреки ожиданиям, предпочтения жанров в Петербурге напоминают московские.\n",
    "\n",
    "Третья гипотеза не подтвердилась. Если различия в предпочтениях и существуют, на основной массе пользователей они незаметны.\n",
    "\n",
    "**На практике исследования содержат проверки статистических гипотез.**\n",
    "Из данных одного сервиса не всегда можно сделать вывод о всех жителях города.\n",
    "Проверки статистических гипотез покажут, насколько они достоверны, исходя из имеющихся данных. \n",
    "С методами проверок гипотез вы ещё познакомитесь в следующих темах."
   ]
  },
  {
   "cell_type": "code",
   "execution_count": null,
   "metadata": {},
   "outputs": [],
   "source": []
  }
 ],
 "metadata": {
  "ExecuteTimeLog": [
   {
    "duration": 448,
    "start_time": "2022-01-10T18:30:04.434Z"
   },
   {
    "duration": 479,
    "start_time": "2022-01-10T18:30:18.934Z"
   },
   {
    "duration": 836,
    "start_time": "2022-01-10T18:30:28.967Z"
   },
   {
    "duration": 4,
    "start_time": "2022-01-10T18:30:33.630Z"
   },
   {
    "duration": 410,
    "start_time": "2022-01-10T18:30:35.718Z"
   },
   {
    "duration": 358,
    "start_time": "2022-01-10T18:30:40.705Z"
   },
   {
    "duration": 1174,
    "start_time": "2022-01-10T18:31:07.508Z"
   },
   {
    "duration": 32,
    "start_time": "2022-01-10T18:31:11.981Z"
   },
   {
    "duration": 42,
    "start_time": "2022-01-10T18:31:47.841Z"
   },
   {
    "duration": 8,
    "start_time": "2022-01-10T18:38:06.267Z"
   },
   {
    "duration": 27,
    "start_time": "2022-01-10T18:42:33.135Z"
   },
   {
    "duration": 7,
    "start_time": "2022-01-10T18:42:55.548Z"
   },
   {
    "duration": 297,
    "start_time": "2022-01-11T15:51:45.080Z"
   },
   {
    "duration": 572,
    "start_time": "2022-01-11T15:52:50.660Z"
   },
   {
    "duration": 138,
    "start_time": "2022-01-11T15:52:55.231Z"
   },
   {
    "duration": 17,
    "start_time": "2022-01-11T15:52:57.603Z"
   },
   {
    "duration": 36,
    "start_time": "2022-01-11T15:53:02.840Z"
   },
   {
    "duration": 5,
    "start_time": "2022-01-11T15:53:09.039Z"
   },
   {
    "duration": 19,
    "start_time": "2022-01-11T15:53:14.809Z"
   },
   {
    "duration": 4,
    "start_time": "2022-01-11T15:53:17.409Z"
   },
   {
    "duration": 24,
    "start_time": "2022-01-11T15:53:20.789Z"
   },
   {
    "duration": 17,
    "start_time": "2022-01-11T16:01:28.344Z"
   },
   {
    "duration": 22,
    "start_time": "2022-01-11T16:01:48.716Z"
   },
   {
    "duration": 52,
    "start_time": "2022-01-11T16:05:14.191Z"
   },
   {
    "duration": 68,
    "start_time": "2022-01-11T16:06:36.802Z"
   },
   {
    "duration": 53,
    "start_time": "2022-01-11T16:06:52.768Z"
   },
   {
    "duration": 39,
    "start_time": "2022-01-11T16:13:35.812Z"
   },
   {
    "duration": 3,
    "start_time": "2022-01-11T16:34:56.530Z"
   },
   {
    "duration": 14,
    "start_time": "2022-01-11T16:34:58.786Z"
   },
   {
    "duration": 40,
    "start_time": "2022-01-11T16:40:48.794Z"
   },
   {
    "duration": 369,
    "start_time": "2022-01-11T16:48:22.538Z"
   },
   {
    "duration": 308,
    "start_time": "2022-01-11T17:01:14.351Z"
   },
   {
    "duration": 223,
    "start_time": "2022-01-11T17:01:55.869Z"
   },
   {
    "duration": 437,
    "start_time": "2022-01-11T17:03:07.057Z"
   },
   {
    "duration": 238,
    "start_time": "2022-01-11T17:16:44.067Z"
   },
   {
    "duration": 233,
    "start_time": "2022-01-11T17:35:53.298Z"
   },
   {
    "duration": 372,
    "start_time": "2022-01-11T17:40:46.385Z"
   },
   {
    "duration": 27,
    "start_time": "2022-01-11T17:41:03.614Z"
   },
   {
    "duration": 31,
    "start_time": "2022-01-11T17:41:56.685Z"
   },
   {
    "duration": 10,
    "start_time": "2022-01-11T17:42:05.781Z"
   },
   {
    "duration": 32,
    "start_time": "2022-01-11T17:44:44.021Z"
   },
   {
    "duration": 3,
    "start_time": "2022-01-11T17:58:52.763Z"
   },
   {
    "duration": 244,
    "start_time": "2022-01-11T17:59:55.571Z"
   },
   {
    "duration": 5,
    "start_time": "2022-01-11T18:42:42.286Z"
   },
   {
    "duration": 334,
    "start_time": "2022-01-11T18:42:54.699Z"
   },
   {
    "duration": 556,
    "start_time": "2022-01-11T18:44:26.844Z"
   },
   {
    "duration": 700,
    "start_time": "2022-01-11T18:45:18.240Z"
   },
   {
    "duration": 176,
    "start_time": "2022-01-11T18:45:21.162Z"
   },
   {
    "duration": 25,
    "start_time": "2022-01-11T18:45:23.612Z"
   },
   {
    "duration": 33,
    "start_time": "2022-01-11T18:45:27.416Z"
   },
   {
    "duration": 6,
    "start_time": "2022-01-11T18:45:36.740Z"
   },
   {
    "duration": 24,
    "start_time": "2022-01-11T18:45:39.656Z"
   },
   {
    "duration": 5,
    "start_time": "2022-01-11T18:45:42.098Z"
   },
   {
    "duration": 29,
    "start_time": "2022-01-11T18:45:44.955Z"
   },
   {
    "duration": 22,
    "start_time": "2022-01-11T18:45:49.163Z"
   },
   {
    "duration": 29,
    "start_time": "2022-01-11T18:45:51.835Z"
   },
   {
    "duration": 82,
    "start_time": "2022-01-11T18:45:55.695Z"
   },
   {
    "duration": 93,
    "start_time": "2022-01-11T18:45:57.964Z"
   },
   {
    "duration": 78,
    "start_time": "2022-01-11T18:46:01.029Z"
   },
   {
    "duration": 55,
    "start_time": "2022-01-11T18:46:04.508Z"
   },
   {
    "duration": 4,
    "start_time": "2022-01-11T18:46:10.197Z"
   },
   {
    "duration": 21,
    "start_time": "2022-01-11T18:46:12.294Z"
   },
   {
    "duration": 51,
    "start_time": "2022-01-11T18:46:15.543Z"
   },
   {
    "duration": 40,
    "start_time": "2022-01-11T18:46:23.639Z"
   },
   {
    "duration": 41,
    "start_time": "2022-01-11T18:46:26.607Z"
   },
   {
    "duration": 5,
    "start_time": "2022-01-11T18:46:30.752Z"
   },
   {
    "duration": 20,
    "start_time": "2022-01-11T18:46:35.489Z"
   },
   {
    "duration": 19,
    "start_time": "2022-01-11T18:48:29.956Z"
   },
   {
    "duration": 20,
    "start_time": "2022-01-11T18:48:32.628Z"
   },
   {
    "duration": 17,
    "start_time": "2022-01-11T18:48:33.509Z"
   },
   {
    "duration": 11,
    "start_time": "2022-01-11T18:48:35.325Z"
   },
   {
    "duration": 11,
    "start_time": "2022-01-11T18:48:36.525Z"
   },
   {
    "duration": 421,
    "start_time": "2022-01-11T18:51:48.986Z"
   },
   {
    "duration": 300,
    "start_time": "2022-01-11T18:59:56.332Z"
   },
   {
    "duration": 381,
    "start_time": "2022-01-11T19:00:01.289Z"
   },
   {
    "duration": 327,
    "start_time": "2022-01-11T19:00:54.440Z"
   },
   {
    "duration": 20,
    "start_time": "2022-01-11T19:05:33.164Z"
   },
   {
    "duration": 28,
    "start_time": "2022-01-11T19:05:38.359Z"
   },
   {
    "duration": 25,
    "start_time": "2022-01-11T19:06:11.938Z"
   },
   {
    "duration": 11,
    "start_time": "2022-01-11T19:07:09.819Z"
   },
   {
    "duration": 19,
    "start_time": "2022-01-11T19:07:35.853Z"
   },
   {
    "duration": 20,
    "start_time": "2022-01-11T19:07:37.806Z"
   },
   {
    "duration": 20,
    "start_time": "2022-01-11T19:07:41.020Z"
   },
   {
    "duration": 370,
    "start_time": "2022-01-11T19:08:09.067Z"
   },
   {
    "duration": 311,
    "start_time": "2022-01-11T19:08:48.228Z"
   },
   {
    "duration": 887,
    "start_time": "2022-01-12T09:21:37.819Z"
   },
   {
    "duration": 240,
    "start_time": "2022-01-12T09:21:40.642Z"
   },
   {
    "duration": 25,
    "start_time": "2022-01-12T09:21:43.044Z"
   },
   {
    "duration": 32,
    "start_time": "2022-01-12T09:21:46.026Z"
   },
   {
    "duration": 6,
    "start_time": "2022-01-12T09:21:51.019Z"
   },
   {
    "duration": 24,
    "start_time": "2022-01-12T09:21:54.042Z"
   },
   {
    "duration": 5,
    "start_time": "2022-01-12T09:21:56.354Z"
   },
   {
    "duration": 29,
    "start_time": "2022-01-12T09:21:59.498Z"
   },
   {
    "duration": 24,
    "start_time": "2022-01-12T09:22:02.920Z"
   },
   {
    "duration": 30,
    "start_time": "2022-01-12T09:22:05.195Z"
   },
   {
    "duration": 111,
    "start_time": "2022-01-12T09:22:08.564Z"
   },
   {
    "duration": 131,
    "start_time": "2022-01-12T09:22:11.333Z"
   },
   {
    "duration": 106,
    "start_time": "2022-01-12T09:22:14.462Z"
   },
   {
    "duration": 59,
    "start_time": "2022-01-12T09:22:17.468Z"
   },
   {
    "duration": 4,
    "start_time": "2022-01-12T09:22:21.462Z"
   },
   {
    "duration": 22,
    "start_time": "2022-01-12T09:22:23.718Z"
   },
   {
    "duration": 61,
    "start_time": "2022-01-12T09:22:28.276Z"
   },
   {
    "duration": 42,
    "start_time": "2022-01-12T09:22:32.959Z"
   },
   {
    "duration": 46,
    "start_time": "2022-01-12T09:22:38.569Z"
   },
   {
    "duration": 6,
    "start_time": "2022-01-12T09:22:43.626Z"
   },
   {
    "duration": 28,
    "start_time": "2022-01-12T09:22:47.106Z"
   },
   {
    "duration": 29,
    "start_time": "2022-01-12T09:22:51.339Z"
   },
   {
    "duration": 26,
    "start_time": "2022-01-12T09:22:53.098Z"
   },
   {
    "duration": 18,
    "start_time": "2022-01-12T09:22:54.186Z"
   },
   {
    "duration": 30,
    "start_time": "2022-01-12T09:22:55.419Z"
   },
   {
    "duration": 18,
    "start_time": "2022-01-12T09:22:58.739Z"
   },
   {
    "duration": 665,
    "start_time": "2022-01-12T09:23:25.239Z"
   },
   {
    "duration": 8,
    "start_time": "2022-01-12T09:23:58.964Z"
   },
   {
    "duration": 7,
    "start_time": "2022-01-12T09:24:04.668Z"
   },
   {
    "duration": 12,
    "start_time": "2022-01-12T13:01:46.853Z"
   },
   {
    "duration": 14,
    "start_time": "2022-01-12T13:44:43.471Z"
   },
   {
    "duration": 25,
    "start_time": "2022-01-12T14:44:34.044Z"
   },
   {
    "duration": 15,
    "start_time": "2022-01-12T14:45:26.234Z"
   },
   {
    "duration": 6,
    "start_time": "2022-01-12T15:02:11.668Z"
   },
   {
    "duration": 765,
    "start_time": "2022-01-12T15:04:45.680Z"
   },
   {
    "duration": 910,
    "start_time": "2022-01-12T15:05:11.756Z"
   },
   {
    "duration": 775,
    "start_time": "2022-01-12T15:06:11.124Z"
   },
   {
    "duration": 822,
    "start_time": "2022-01-12T15:06:36.841Z"
   },
   {
    "duration": 5,
    "start_time": "2022-01-12T15:08:18.790Z"
   },
   {
    "duration": 25,
    "start_time": "2022-01-12T15:08:21.716Z"
   },
   {
    "duration": 13,
    "start_time": "2022-01-12T15:08:28.160Z"
   },
   {
    "duration": 918,
    "start_time": "2022-01-12T15:09:35.573Z"
   },
   {
    "duration": 16,
    "start_time": "2022-01-12T15:10:57.873Z"
   },
   {
    "duration": 22,
    "start_time": "2022-01-12T15:11:01.458Z"
   },
   {
    "duration": 16,
    "start_time": "2022-01-12T15:11:04.633Z"
   },
   {
    "duration": 410,
    "start_time": "2022-01-12T16:05:26.292Z"
   },
   {
    "duration": 11,
    "start_time": "2022-01-12T16:05:41.898Z"
   },
   {
    "duration": 7,
    "start_time": "2022-01-12T16:06:09.588Z"
   },
   {
    "duration": 7,
    "start_time": "2022-01-12T16:06:50.866Z"
   },
   {
    "duration": 6,
    "start_time": "2022-01-12T16:07:07.427Z"
   },
   {
    "duration": 687,
    "start_time": "2022-01-14T09:46:39.995Z"
   },
   {
    "duration": 178,
    "start_time": "2022-01-14T09:46:40.685Z"
   },
   {
    "duration": 25,
    "start_time": "2022-01-14T09:46:40.866Z"
   },
   {
    "duration": 32,
    "start_time": "2022-01-14T09:46:40.894Z"
   },
   {
    "duration": 31,
    "start_time": "2022-01-14T09:46:40.928Z"
   },
   {
    "duration": 24,
    "start_time": "2022-01-14T09:46:40.962Z"
   },
   {
    "duration": 7,
    "start_time": "2022-01-14T09:46:40.988Z"
   },
   {
    "duration": 64,
    "start_time": "2022-01-14T09:46:40.998Z"
   },
   {
    "duration": 22,
    "start_time": "2022-01-14T09:46:41.065Z"
   },
   {
    "duration": 29,
    "start_time": "2022-01-14T09:46:41.089Z"
   },
   {
    "duration": 113,
    "start_time": "2022-01-14T09:46:41.121Z"
   },
   {
    "duration": 105,
    "start_time": "2022-01-14T09:46:41.237Z"
   },
   {
    "duration": 87,
    "start_time": "2022-01-14T09:46:41.344Z"
   },
   {
    "duration": 67,
    "start_time": "2022-01-14T09:46:41.433Z"
   },
   {
    "duration": 4,
    "start_time": "2022-01-14T09:46:41.502Z"
   },
   {
    "duration": 22,
    "start_time": "2022-01-14T09:46:41.508Z"
   },
   {
    "duration": 56,
    "start_time": "2022-01-14T09:46:41.559Z"
   },
   {
    "duration": 68,
    "start_time": "2022-01-14T09:46:41.618Z"
   },
   {
    "duration": 42,
    "start_time": "2022-01-14T09:46:41.688Z"
   },
   {
    "duration": 4,
    "start_time": "2022-01-14T09:46:41.732Z"
   },
   {
    "duration": 39,
    "start_time": "2022-01-14T09:46:41.738Z"
   },
   {
    "duration": 20,
    "start_time": "2022-01-14T09:46:41.779Z"
   },
   {
    "duration": 65,
    "start_time": "2022-01-14T09:46:41.805Z"
   },
   {
    "duration": 18,
    "start_time": "2022-01-14T09:46:41.872Z"
   },
   {
    "duration": 19,
    "start_time": "2022-01-14T09:46:41.893Z"
   },
   {
    "duration": 46,
    "start_time": "2022-01-14T09:46:41.915Z"
   },
   {
    "duration": 9,
    "start_time": "2022-01-14T09:46:41.963Z"
   },
   {
    "duration": 28,
    "start_time": "2022-01-14T09:46:41.974Z"
   },
   {
    "duration": 13,
    "start_time": "2022-01-14T09:46:42.004Z"
   },
   {
    "duration": 5,
    "start_time": "2022-01-14T09:46:42.020Z"
   },
   {
    "duration": 55,
    "start_time": "2022-01-14T09:46:42.027Z"
   },
   {
    "duration": 19,
    "start_time": "2022-01-14T09:46:42.085Z"
   },
   {
    "duration": 55,
    "start_time": "2022-01-14T09:46:42.106Z"
   },
   {
    "duration": 16,
    "start_time": "2022-01-14T09:46:42.163Z"
   },
   {
    "duration": 11,
    "start_time": "2022-01-14T09:46:42.181Z"
   },
   {
    "duration": 6,
    "start_time": "2022-01-14T09:46:42.194Z"
   },
   {
    "duration": 8,
    "start_time": "2022-01-14T09:46:42.203Z"
   },
   {
    "duration": 51,
    "start_time": "2022-01-14T09:46:42.213Z"
   },
   {
    "duration": 342,
    "start_time": "2022-01-14T10:51:32.732Z"
   },
   {
    "duration": 713,
    "start_time": "2022-01-14T10:51:53.959Z"
   },
   {
    "duration": 167,
    "start_time": "2022-01-14T10:51:59.648Z"
   },
   {
    "duration": 23,
    "start_time": "2022-01-14T10:52:02.572Z"
   },
   {
    "duration": 33,
    "start_time": "2022-01-14T10:52:11.494Z"
   },
   {
    "duration": 6,
    "start_time": "2022-01-14T10:52:22.471Z"
   },
   {
    "duration": 24,
    "start_time": "2022-01-14T10:52:29.681Z"
   },
   {
    "duration": 5,
    "start_time": "2022-01-14T10:52:33.541Z"
   },
   {
    "duration": 30,
    "start_time": "2022-01-14T10:52:37.115Z"
   },
   {
    "duration": 21,
    "start_time": "2022-01-14T10:52:46.398Z"
   },
   {
    "duration": 32,
    "start_time": "2022-01-14T10:52:49.432Z"
   },
   {
    "duration": 78,
    "start_time": "2022-01-14T10:52:56.465Z"
   },
   {
    "duration": 97,
    "start_time": "2022-01-14T10:52:59.963Z"
   },
   {
    "duration": 78,
    "start_time": "2022-01-14T10:53:03.890Z"
   },
   {
    "duration": 4,
    "start_time": "2022-01-14T10:53:16.601Z"
   },
   {
    "duration": 32,
    "start_time": "2022-01-14T10:53:20.579Z"
   },
   {
    "duration": 100,
    "start_time": "2022-01-14T10:53:28.254Z"
   },
   {
    "duration": 23,
    "start_time": "2022-01-14T10:53:38.611Z"
   },
   {
    "duration": 18,
    "start_time": "2022-01-14T10:54:09.831Z"
   },
   {
    "duration": 334,
    "start_time": "2022-01-14T11:11:49.691Z"
   },
   {
    "duration": 5,
    "start_time": "2022-01-14T11:12:18.142Z"
   },
   {
    "duration": 21,
    "start_time": "2022-01-14T11:12:21.997Z"
   },
   {
    "duration": 25,
    "start_time": "2022-01-14T11:12:25.036Z"
   },
   {
    "duration": 17,
    "start_time": "2022-01-14T11:12:26.289Z"
   },
   {
    "duration": 18,
    "start_time": "2022-01-14T11:12:27.353Z"
   },
   {
    "duration": 19,
    "start_time": "2022-01-14T11:12:28.548Z"
   },
   {
    "duration": 19,
    "start_time": "2022-01-14T11:12:29.677Z"
   },
   {
    "duration": 8,
    "start_time": "2022-01-14T11:12:38.399Z"
   },
   {
    "duration": 21,
    "start_time": "2022-01-14T11:13:12.393Z"
   },
   {
    "duration": 14,
    "start_time": "2022-01-14T11:13:19.793Z"
   },
   {
    "duration": 6,
    "start_time": "2022-01-14T11:13:27.119Z"
   },
   {
    "duration": 25,
    "start_time": "2022-01-14T11:13:35.698Z"
   },
   {
    "duration": 20,
    "start_time": "2022-01-14T11:13:36.857Z"
   },
   {
    "duration": 23,
    "start_time": "2022-01-14T11:13:43.554Z"
   },
   {
    "duration": 21,
    "start_time": "2022-01-14T11:13:44.991Z"
   },
   {
    "duration": 13,
    "start_time": "2022-01-14T11:14:35.745Z"
   },
   {
    "duration": 7,
    "start_time": "2022-01-14T11:14:40.456Z"
   },
   {
    "duration": 9,
    "start_time": "2022-01-14T11:14:51.177Z"
   },
   {
    "duration": 7,
    "start_time": "2022-01-14T11:14:54.802Z"
   },
   {
    "duration": 742,
    "start_time": "2022-01-14T17:07:45.819Z"
   },
   {
    "duration": 193,
    "start_time": "2022-01-14T17:07:46.564Z"
   },
   {
    "duration": 26,
    "start_time": "2022-01-14T17:07:46.760Z"
   },
   {
    "duration": 34,
    "start_time": "2022-01-14T17:07:46.800Z"
   },
   {
    "duration": 5,
    "start_time": "2022-01-14T17:07:46.836Z"
   },
   {
    "duration": 57,
    "start_time": "2022-01-14T17:07:46.844Z"
   },
   {
    "duration": 5,
    "start_time": "2022-01-14T17:07:46.903Z"
   },
   {
    "duration": 33,
    "start_time": "2022-01-14T17:07:46.912Z"
   },
   {
    "duration": 52,
    "start_time": "2022-01-14T17:07:46.948Z"
   },
   {
    "duration": 32,
    "start_time": "2022-01-14T17:07:47.002Z"
   },
   {
    "duration": 139,
    "start_time": "2022-01-14T17:07:47.037Z"
   },
   {
    "duration": 108,
    "start_time": "2022-01-14T17:07:47.178Z"
   },
   {
    "duration": 90,
    "start_time": "2022-01-14T17:07:47.288Z"
   },
   {
    "duration": 68,
    "start_time": "2022-01-14T17:07:47.381Z"
   },
   {
    "duration": 4,
    "start_time": "2022-01-14T17:07:47.452Z"
   },
   {
    "duration": 49,
    "start_time": "2022-01-14T17:07:47.459Z"
   },
   {
    "duration": 56,
    "start_time": "2022-01-14T17:07:47.511Z"
   },
   {
    "duration": 50,
    "start_time": "2022-01-14T17:07:47.570Z"
   },
   {
    "duration": 17,
    "start_time": "2022-01-14T17:07:47.623Z"
   },
   {
    "duration": 5,
    "start_time": "2022-01-14T17:07:47.643Z"
   },
   {
    "duration": 50,
    "start_time": "2022-01-14T17:07:47.651Z"
   },
   {
    "duration": 22,
    "start_time": "2022-01-14T17:07:47.703Z"
   },
   {
    "duration": 20,
    "start_time": "2022-01-14T17:07:47.730Z"
   },
   {
    "duration": 52,
    "start_time": "2022-01-14T17:07:47.752Z"
   },
   {
    "duration": 22,
    "start_time": "2022-01-14T17:07:47.807Z"
   },
   {
    "duration": 20,
    "start_time": "2022-01-14T17:07:47.831Z"
   },
   {
    "duration": 9,
    "start_time": "2022-01-14T17:07:47.854Z"
   },
   {
    "duration": 57,
    "start_time": "2022-01-14T17:07:47.865Z"
   },
   {
    "duration": 12,
    "start_time": "2022-01-14T17:07:47.925Z"
   },
   {
    "duration": 5,
    "start_time": "2022-01-14T17:07:47.940Z"
   },
   {
    "duration": 67,
    "start_time": "2022-01-14T17:07:47.948Z"
   },
   {
    "duration": 19,
    "start_time": "2022-01-14T17:07:48.017Z"
   },
   {
    "duration": 23,
    "start_time": "2022-01-14T17:07:48.039Z"
   },
   {
    "duration": 49,
    "start_time": "2022-01-14T17:07:48.064Z"
   },
   {
    "duration": 13,
    "start_time": "2022-01-14T17:07:48.115Z"
   },
   {
    "duration": 6,
    "start_time": "2022-01-14T17:07:48.130Z"
   },
   {
    "duration": 9,
    "start_time": "2022-01-14T17:07:48.139Z"
   },
   {
    "duration": 6,
    "start_time": "2022-01-14T17:07:48.151Z"
   },
   {
    "duration": 743,
    "start_time": "2022-01-14T17:13:08.411Z"
   },
   {
    "duration": 190,
    "start_time": "2022-01-14T17:13:09.157Z"
   },
   {
    "duration": 25,
    "start_time": "2022-01-14T17:13:09.353Z"
   },
   {
    "duration": 36,
    "start_time": "2022-01-14T17:13:09.400Z"
   },
   {
    "duration": 32,
    "start_time": "2022-01-14T17:13:09.439Z"
   },
   {
    "duration": 51,
    "start_time": "2022-01-14T17:13:09.473Z"
   },
   {
    "duration": 23,
    "start_time": "2022-01-14T17:13:09.528Z"
   },
   {
    "duration": 56,
    "start_time": "2022-01-14T17:13:09.554Z"
   },
   {
    "duration": 38,
    "start_time": "2022-01-14T17:13:09.612Z"
   },
   {
    "duration": 65,
    "start_time": "2022-01-14T17:13:09.653Z"
   },
   {
    "duration": 119,
    "start_time": "2022-01-14T17:13:09.721Z"
   },
   {
    "duration": 129,
    "start_time": "2022-01-14T17:13:09.843Z"
   },
   {
    "duration": 117,
    "start_time": "2022-01-14T17:13:09.975Z"
   },
   {
    "duration": 90,
    "start_time": "2022-01-14T17:13:10.100Z"
   },
   {
    "duration": 6,
    "start_time": "2022-01-14T17:13:10.201Z"
   },
   {
    "duration": 65,
    "start_time": "2022-01-14T17:13:10.210Z"
   },
   {
    "duration": 100,
    "start_time": "2022-01-14T17:13:10.278Z"
   },
   {
    "duration": 34,
    "start_time": "2022-01-14T17:13:10.380Z"
   },
   {
    "duration": 36,
    "start_time": "2022-01-14T17:13:10.417Z"
   },
   {
    "duration": 13,
    "start_time": "2022-01-14T17:13:10.456Z"
   },
   {
    "duration": 65,
    "start_time": "2022-01-14T17:13:10.471Z"
   },
   {
    "duration": 37,
    "start_time": "2022-01-14T17:13:10.541Z"
   },
   {
    "duration": 42,
    "start_time": "2022-01-14T17:13:10.581Z"
   },
   {
    "duration": 33,
    "start_time": "2022-01-14T17:13:10.626Z"
   },
   {
    "duration": 48,
    "start_time": "2022-01-14T17:13:10.661Z"
   },
   {
    "duration": 25,
    "start_time": "2022-01-14T17:13:10.711Z"
   },
   {
    "duration": 29,
    "start_time": "2022-01-14T17:13:10.738Z"
   },
   {
    "duration": 30,
    "start_time": "2022-01-14T17:13:10.770Z"
   },
   {
    "duration": 39,
    "start_time": "2022-01-14T17:13:10.802Z"
   },
   {
    "duration": 49,
    "start_time": "2022-01-14T17:13:10.844Z"
   },
   {
    "duration": 25,
    "start_time": "2022-01-14T17:13:10.895Z"
   },
   {
    "duration": 51,
    "start_time": "2022-01-14T17:13:10.923Z"
   },
   {
    "duration": 36,
    "start_time": "2022-01-14T17:13:10.976Z"
   },
   {
    "duration": 33,
    "start_time": "2022-01-14T17:13:11.014Z"
   },
   {
    "duration": 38,
    "start_time": "2022-01-14T17:13:11.049Z"
   },
   {
    "duration": 74,
    "start_time": "2022-01-14T17:13:11.089Z"
   },
   {
    "duration": 38,
    "start_time": "2022-01-14T17:13:11.166Z"
   },
   {
    "duration": 52,
    "start_time": "2022-01-14T17:13:11.207Z"
   },
   {
    "duration": 22,
    "start_time": "2022-01-14T17:13:11.262Z"
   },
   {
    "duration": 37,
    "start_time": "2022-01-14T17:13:11.286Z"
   },
   {
    "duration": 23,
    "start_time": "2022-01-14T17:13:11.325Z"
   },
   {
    "duration": 36,
    "start_time": "2022-01-14T17:13:11.350Z"
   },
   {
    "duration": 48,
    "start_time": "2022-01-14T17:13:11.388Z"
   },
   {
    "duration": 759,
    "start_time": "2022-01-17T13:30:45.865Z"
   },
   {
    "duration": 377,
    "start_time": "2022-01-17T13:30:46.626Z"
   },
   {
    "duration": 34,
    "start_time": "2022-01-17T13:30:47.007Z"
   },
   {
    "duration": 38,
    "start_time": "2022-01-17T13:30:47.044Z"
   },
   {
    "duration": 6,
    "start_time": "2022-01-17T13:30:47.084Z"
   },
   {
    "duration": 46,
    "start_time": "2022-01-17T13:30:47.092Z"
   },
   {
    "duration": 6,
    "start_time": "2022-01-17T13:30:47.140Z"
   },
   {
    "duration": 33,
    "start_time": "2022-01-17T13:30:47.150Z"
   },
   {
    "duration": 59,
    "start_time": "2022-01-17T13:30:47.188Z"
   },
   {
    "duration": 49,
    "start_time": "2022-01-17T13:30:47.250Z"
   },
   {
    "duration": 146,
    "start_time": "2022-01-17T13:30:47.303Z"
   },
   {
    "duration": 154,
    "start_time": "2022-01-17T13:30:47.453Z"
   },
   {
    "duration": 118,
    "start_time": "2022-01-17T13:30:47.610Z"
   },
   {
    "duration": 106,
    "start_time": "2022-01-17T13:30:47.732Z"
   },
   {
    "duration": 6,
    "start_time": "2022-01-17T13:30:47.841Z"
   },
   {
    "duration": 25,
    "start_time": "2022-01-17T13:30:47.850Z"
   },
   {
    "duration": 76,
    "start_time": "2022-01-17T13:30:47.877Z"
   },
   {
    "duration": 24,
    "start_time": "2022-01-17T13:30:47.956Z"
   },
   {
    "duration": 14,
    "start_time": "2022-01-17T13:30:47.983Z"
   },
   {
    "duration": 6,
    "start_time": "2022-01-17T13:30:48.023Z"
   },
   {
    "duration": 27,
    "start_time": "2022-01-17T13:30:48.032Z"
   },
   {
    "duration": 21,
    "start_time": "2022-01-17T13:30:48.062Z"
   },
   {
    "duration": 22,
    "start_time": "2022-01-17T13:30:48.123Z"
   },
   {
    "duration": 26,
    "start_time": "2022-01-17T13:30:48.148Z"
   },
   {
    "duration": 71,
    "start_time": "2022-01-17T13:30:48.177Z"
   },
   {
    "duration": 77,
    "start_time": "2022-01-17T13:30:48.250Z"
   },
   {
    "duration": 9,
    "start_time": "2022-01-17T13:30:48.329Z"
   },
   {
    "duration": 46,
    "start_time": "2022-01-17T13:30:48.340Z"
   },
   {
    "duration": 31,
    "start_time": "2022-01-17T13:30:48.389Z"
   },
   {
    "duration": 30,
    "start_time": "2022-01-17T13:30:48.422Z"
   },
   {
    "duration": 23,
    "start_time": "2022-01-17T13:30:48.455Z"
   },
   {
    "duration": 19,
    "start_time": "2022-01-17T13:30:48.481Z"
   },
   {
    "duration": 34,
    "start_time": "2022-01-17T13:30:48.503Z"
   },
   {
    "duration": 59,
    "start_time": "2022-01-17T13:30:48.539Z"
   },
   {
    "duration": 5,
    "start_time": "2022-01-17T13:30:48.601Z"
   },
   {
    "duration": 43,
    "start_time": "2022-01-17T13:30:48.608Z"
   },
   {
    "duration": 19,
    "start_time": "2022-01-17T13:30:48.654Z"
   },
   {
    "duration": 54,
    "start_time": "2022-01-17T13:30:48.675Z"
   },
   {
    "duration": 23,
    "start_time": "2022-01-17T13:30:48.732Z"
   },
   {
    "duration": 11,
    "start_time": "2022-01-17T13:30:48.757Z"
   },
   {
    "duration": 11,
    "start_time": "2022-01-17T13:30:48.771Z"
   },
   {
    "duration": 42,
    "start_time": "2022-01-17T13:30:48.785Z"
   },
   {
    "duration": 8,
    "start_time": "2022-01-17T13:30:48.830Z"
   },
   {
    "duration": 13,
    "start_time": "2022-01-17T13:33:56.747Z"
   },
   {
    "duration": 30,
    "start_time": "2022-01-17T13:35:34.385Z"
   }
  ],
  "colab": {
   "collapsed_sections": [
    "E0vqbgi9ay0H",
    "VUC88oWjTJw2"
   ],
   "name": "yandex_music_project_2021.2.ipynb",
   "provenance": []
  },
  "kernelspec": {
   "display_name": "Python 3 (ipykernel)",
   "language": "python",
   "name": "python3"
  },
  "language_info": {
   "codemirror_mode": {
    "name": "ipython",
    "version": 3
   },
   "file_extension": ".py",
   "mimetype": "text/x-python",
   "name": "python",
   "nbconvert_exporter": "python",
   "pygments_lexer": "ipython3",
   "version": "3.9.7"
  },
  "toc": {
   "base_numbering": 1,
   "nav_menu": {},
   "number_sections": true,
   "sideBar": true,
   "skip_h1_title": true,
   "title_cell": "Table of Contents",
   "title_sidebar": "Contents",
   "toc_cell": false,
   "toc_position": {
    "height": "calc(100% - 180px)",
    "left": "10px",
    "top": "150px",
    "width": "165px"
   },
   "toc_section_display": true,
   "toc_window_display": true
  }
 },
 "nbformat": 4,
 "nbformat_minor": 1
}
