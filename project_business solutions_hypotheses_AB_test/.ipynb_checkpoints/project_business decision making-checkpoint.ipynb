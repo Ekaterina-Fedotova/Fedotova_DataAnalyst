{
 "cells": [
  {
   "cell_type": "markdown",
   "metadata": {},
   "source": [
    "## Содержание:\n",
    "1. [Описание проекта](#description)\n",
    "2. [Открытие данных](#start)\n",
    "3. [Предобработка данных](#preprocessing)\n",
    "* [Обработка пропущенных значений](#null)\n",
    "* [Обработка дубликатов](#duplicates)\n",
    "4. [Анализ данных](#analysis)\n",
    "5. [Анализ воронки событий](#funnel)\n",
    "6. [Анализ результатов эксперимента](#experiment)\n",
    "7. [Вывод](#conclusion)"
   ]
  },
  {
   "cell_type": "markdown",
   "metadata": {},
   "source": [
    "# Принятие решений в бизнесе\n",
    "\n",
    "В крупном интернет-магазине отдел маркетинга подготовил список гипотез для увеличения выручки, неоходимо приоритизировать гипотезы, запустить A/B-тест и проанализировать результаты.\n",
    "\n",
    "## Описание данных\n",
    "\n",
    "### Данные для первой части\n",
    "Файл `hypothesis.csv`\n",
    "* `Hypothesis` — краткое описание гипотезы;\n",
    "* `Reach` — охват пользователей по 10-балльной шкале;\n",
    "* `Impact` — влияние на пользователей по 10-балльной шкале;\n",
    "* `Confidence` — уверенность в гипотезе по 10-балльной шкале;\n",
    "* `Efforts` — затраты ресурсов на проверку гипотезы по 10-балльной шкале. \n",
    "  Чем больше значение `Efforts`, тем дороже проверка гипотезы.\n",
    "  \n",
    "### Данные для второй части\n",
    "Файл `orders.csv`\n",
    "* `transactionId` — идентификатор заказа;\n",
    "* `visitorId` — идентификатор пользователя, совершившего заказ;\n",
    "* `date` — дата, когда был совершён заказ;\n",
    "* `revenue` — выручка заказа;\n",
    "* `group` — группа A/B-теста, в которую попал заказ.\n",
    "\n",
    "Файл `visitors.csv`\n",
    "* `date — дата;\n",
    "* `group` — группа A/B-теста;\n",
    "* `visitors` — количество пользователей в указанную дату в указанной группе A/B-теста\n",
    "\n",
    "### План работы\n",
    "* Изучим полученые данные.\n",
    "* Приведем данные к необходимому виду для анализа. \n",
    "* Раставим приоритеты для гипотоз по двум методам. \n",
    "* Проведем анализ А/В-теста.\n",
    "* Примем решение по итогам аназила теста.\n"
   ]
  },
  {
   "cell_type": "markdown",
   "metadata": {},
   "source": [
    "## Часть 1. Приоритизация гипотез\n",
    "Дано 9 гипотез по увеличению выручки интернет-магазина с указанными параметрами Reach, Impact, Confidence, Effort.\n",
    "\n",
    "Необходимо:\n",
    "* Примените фреймворк ICE для приоритизации гипотез. Отсортируйте их по убыванию приоритета.\n",
    "* Примените фреймворк RICE для приоритизации гипотез. Отсортируйте их по убыванию приоритета.\n",
    "* Укажите, как изменилась приоритизация гипотез при применении RICE вместо ICE. Объясните, почему так произошло."
   ]
  },
  {
   "cell_type": "markdown",
   "metadata": {},
   "source": [
    "## Получение данных"
   ]
  },
  {
   "cell_type": "markdown",
   "metadata": {},
   "source": [
    "Изучим данные для проекта."
   ]
  },
  {
   "cell_type": "code",
   "execution_count": 1,
   "metadata": {},
   "outputs": [],
   "source": [
    "# импорт используемых библиотек\n",
    "import pandas as pd\n",
    "import numpy as np\n",
    "from datetime import datetime, timedelta\n",
    "from matplotlib import pyplot as plt\n",
    "import seaborn as sns\n",
    "import datetime as dt\n",
    "import scipy.stats as stats"
   ]
  },
  {
   "cell_type": "code",
   "execution_count": 2,
   "metadata": {},
   "outputs": [
    {
     "data": {
      "text/html": [
       "<div>\n",
       "<style scoped>\n",
       "    .dataframe tbody tr th:only-of-type {\n",
       "        vertical-align: middle;\n",
       "    }\n",
       "\n",
       "    .dataframe tbody tr th {\n",
       "        vertical-align: top;\n",
       "    }\n",
       "\n",
       "    .dataframe thead th {\n",
       "        text-align: right;\n",
       "    }\n",
       "</style>\n",
       "<table border=\"1\" class=\"dataframe\">\n",
       "  <thead>\n",
       "    <tr style=\"text-align: right;\">\n",
       "      <th></th>\n",
       "      <th>Hypothesis</th>\n",
       "      <th>Reach</th>\n",
       "      <th>Impact</th>\n",
       "      <th>Confidence</th>\n",
       "      <th>Efforts</th>\n",
       "    </tr>\n",
       "  </thead>\n",
       "  <tbody>\n",
       "    <tr>\n",
       "      <th>0</th>\n",
       "      <td>Добавить два новых канала привлечения трафика,...</td>\n",
       "      <td>3</td>\n",
       "      <td>10</td>\n",
       "      <td>8</td>\n",
       "      <td>6</td>\n",
       "    </tr>\n",
       "    <tr>\n",
       "      <th>1</th>\n",
       "      <td>Запустить собственную службу доставки, что сок...</td>\n",
       "      <td>2</td>\n",
       "      <td>5</td>\n",
       "      <td>4</td>\n",
       "      <td>10</td>\n",
       "    </tr>\n",
       "    <tr>\n",
       "      <th>2</th>\n",
       "      <td>Добавить блоки рекомендаций товаров на сайт ин...</td>\n",
       "      <td>8</td>\n",
       "      <td>3</td>\n",
       "      <td>7</td>\n",
       "      <td>3</td>\n",
       "    </tr>\n",
       "    <tr>\n",
       "      <th>3</th>\n",
       "      <td>Изменить структура категорий, что увеличит кон...</td>\n",
       "      <td>8</td>\n",
       "      <td>3</td>\n",
       "      <td>3</td>\n",
       "      <td>8</td>\n",
       "    </tr>\n",
       "    <tr>\n",
       "      <th>4</th>\n",
       "      <td>Изменить цвет фона главной страницы, чтобы уве...</td>\n",
       "      <td>3</td>\n",
       "      <td>1</td>\n",
       "      <td>1</td>\n",
       "      <td>1</td>\n",
       "    </tr>\n",
       "    <tr>\n",
       "      <th>5</th>\n",
       "      <td>Добавить страницу отзывов клиентов о магазине,...</td>\n",
       "      <td>3</td>\n",
       "      <td>2</td>\n",
       "      <td>2</td>\n",
       "      <td>3</td>\n",
       "    </tr>\n",
       "    <tr>\n",
       "      <th>6</th>\n",
       "      <td>Показать на главной странице баннеры с актуаль...</td>\n",
       "      <td>5</td>\n",
       "      <td>3</td>\n",
       "      <td>8</td>\n",
       "      <td>3</td>\n",
       "    </tr>\n",
       "    <tr>\n",
       "      <th>7</th>\n",
       "      <td>Добавить форму подписки на все основные страни...</td>\n",
       "      <td>10</td>\n",
       "      <td>7</td>\n",
       "      <td>8</td>\n",
       "      <td>5</td>\n",
       "    </tr>\n",
       "    <tr>\n",
       "      <th>8</th>\n",
       "      <td>Запустить акцию, дающую скидку на товар в день...</td>\n",
       "      <td>1</td>\n",
       "      <td>9</td>\n",
       "      <td>9</td>\n",
       "      <td>5</td>\n",
       "    </tr>\n",
       "  </tbody>\n",
       "</table>\n",
       "</div>"
      ],
      "text/plain": [
       "                                          Hypothesis  Reach  Impact  \\\n",
       "0  Добавить два новых канала привлечения трафика,...      3      10   \n",
       "1  Запустить собственную службу доставки, что сок...      2       5   \n",
       "2  Добавить блоки рекомендаций товаров на сайт ин...      8       3   \n",
       "3  Изменить структура категорий, что увеличит кон...      8       3   \n",
       "4  Изменить цвет фона главной страницы, чтобы уве...      3       1   \n",
       "5  Добавить страницу отзывов клиентов о магазине,...      3       2   \n",
       "6  Показать на главной странице баннеры с актуаль...      5       3   \n",
       "7  Добавить форму подписки на все основные страни...     10       7   \n",
       "8  Запустить акцию, дающую скидку на товар в день...      1       9   \n",
       "\n",
       "   Confidence  Efforts  \n",
       "0           8        6  \n",
       "1           4       10  \n",
       "2           7        3  \n",
       "3           3        8  \n",
       "4           1        1  \n",
       "5           2        3  \n",
       "6           8        3  \n",
       "7           8        5  \n",
       "8           9        5  "
      ]
     },
     "execution_count": 2,
     "metadata": {},
     "output_type": "execute_result"
    }
   ],
   "source": [
    "# прочитаем файл hypothesis.csv и сохраним его в переменной data\n",
    "data = pd.read_csv('hypothesis.csv')\n",
    "data.head(9)"
   ]
  },
  {
   "cell_type": "code",
   "execution_count": 3,
   "metadata": {},
   "outputs": [
    {
     "name": "stdout",
     "output_type": "stream",
     "text": [
      "<class 'pandas.core.frame.DataFrame'>\n",
      "RangeIndex: 9 entries, 0 to 8\n",
      "Data columns (total 5 columns):\n",
      " #   Column      Non-Null Count  Dtype \n",
      "---  ------      --------------  ----- \n",
      " 0   Hypothesis  9 non-null      object\n",
      " 1   Reach       9 non-null      int64 \n",
      " 2   Impact      9 non-null      int64 \n",
      " 3   Confidence  9 non-null      int64 \n",
      " 4   Efforts     9 non-null      int64 \n",
      "dtypes: int64(4), object(1)\n",
      "memory usage: 488.0+ bytes\n"
     ]
    }
   ],
   "source": [
    "# общая информация о данных таблицы data\n",
    "data.info()"
   ]
  },
  {
   "cell_type": "markdown",
   "metadata": {},
   "source": [
    "В таблице 5 колонок и 9 строк, тип данных столбца `Hypothesis` - `object`, остальные данные имеют тип - `int`, пропусков данных нет.\n",
    "Подробно разберём, какие в data столбцы и какую информацию они содержат:\n",
    "* `Hypothesis` — краткое описание гипотезы;\n",
    "* `Reach` — охват пользователей по 10-балльной шкале;\n",
    "* `Impact` — влияние на пользователей по 10-балльной шкале;\n",
    "* `Confidence` — уверенность в гипотезе по 10-балльной шкале;\n",
    "* `Efforts` — затраты ресурсов на проверку гипотезы по 10-балльной шкале. \n",
    "  Чем больше значение `Efforts`, тем дороже проверка гипотезы.\n",
    "  \n",
    "В таблице для удобной работы с ней названия колонок приведем к нижнему регистру. "
   ]
  },
  {
   "cell_type": "markdown",
   "metadata": {},
   "source": [
    "## Предобработка данных"
   ]
  },
  {
   "cell_type": "code",
   "execution_count": 4,
   "metadata": {},
   "outputs": [],
   "source": [
    "# приведем названия колонок к нижнему регистру\n",
    "data.columns = data.columns.str.lower()"
   ]
  },
  {
   "cell_type": "code",
   "execution_count": 5,
   "metadata": {},
   "outputs": [],
   "source": [
    "# добавим столбец с номером гиротезы\n",
    "data['number'] = range(1,10)"
   ]
  },
  {
   "cell_type": "markdown",
   "metadata": {},
   "source": [
    "## Исследовательский анализ данных <a id=\"analysis\"></a>"
   ]
  },
  {
   "cell_type": "markdown",
   "metadata": {},
   "source": [
    "### Посчитаем ICE для гипотез"
   ]
  },
  {
   "cell_type": "code",
   "execution_count": 6,
   "metadata": {},
   "outputs": [],
   "source": [
    "data['ICE'] = round((data['impact'] * data['confidence']) / data['efforts'], 2) "
   ]
  },
  {
   "cell_type": "code",
   "execution_count": 7,
   "metadata": {},
   "outputs": [
    {
     "data": {
      "text/html": [
       "<div>\n",
       "<style scoped>\n",
       "    .dataframe tbody tr th:only-of-type {\n",
       "        vertical-align: middle;\n",
       "    }\n",
       "\n",
       "    .dataframe tbody tr th {\n",
       "        vertical-align: top;\n",
       "    }\n",
       "\n",
       "    .dataframe thead th {\n",
       "        text-align: right;\n",
       "    }\n",
       "</style>\n",
       "<table border=\"1\" class=\"dataframe\">\n",
       "  <thead>\n",
       "    <tr style=\"text-align: right;\">\n",
       "      <th></th>\n",
       "      <th>hypothesis</th>\n",
       "      <th>reach</th>\n",
       "      <th>impact</th>\n",
       "      <th>confidence</th>\n",
       "      <th>efforts</th>\n",
       "      <th>number</th>\n",
       "      <th>ICE</th>\n",
       "    </tr>\n",
       "  </thead>\n",
       "  <tbody>\n",
       "    <tr>\n",
       "      <th>8</th>\n",
       "      <td>Запустить акцию, дающую скидку на товар в день...</td>\n",
       "      <td>1</td>\n",
       "      <td>9</td>\n",
       "      <td>9</td>\n",
       "      <td>5</td>\n",
       "      <td>9</td>\n",
       "      <td>16.20</td>\n",
       "    </tr>\n",
       "    <tr>\n",
       "      <th>0</th>\n",
       "      <td>Добавить два новых канала привлечения трафика,...</td>\n",
       "      <td>3</td>\n",
       "      <td>10</td>\n",
       "      <td>8</td>\n",
       "      <td>6</td>\n",
       "      <td>1</td>\n",
       "      <td>13.33</td>\n",
       "    </tr>\n",
       "    <tr>\n",
       "      <th>7</th>\n",
       "      <td>Добавить форму подписки на все основные страни...</td>\n",
       "      <td>10</td>\n",
       "      <td>7</td>\n",
       "      <td>8</td>\n",
       "      <td>5</td>\n",
       "      <td>8</td>\n",
       "      <td>11.20</td>\n",
       "    </tr>\n",
       "    <tr>\n",
       "      <th>6</th>\n",
       "      <td>Показать на главной странице баннеры с актуаль...</td>\n",
       "      <td>5</td>\n",
       "      <td>3</td>\n",
       "      <td>8</td>\n",
       "      <td>3</td>\n",
       "      <td>7</td>\n",
       "      <td>8.00</td>\n",
       "    </tr>\n",
       "    <tr>\n",
       "      <th>2</th>\n",
       "      <td>Добавить блоки рекомендаций товаров на сайт ин...</td>\n",
       "      <td>8</td>\n",
       "      <td>3</td>\n",
       "      <td>7</td>\n",
       "      <td>3</td>\n",
       "      <td>3</td>\n",
       "      <td>7.00</td>\n",
       "    </tr>\n",
       "    <tr>\n",
       "      <th>1</th>\n",
       "      <td>Запустить собственную службу доставки, что сок...</td>\n",
       "      <td>2</td>\n",
       "      <td>5</td>\n",
       "      <td>4</td>\n",
       "      <td>10</td>\n",
       "      <td>2</td>\n",
       "      <td>2.00</td>\n",
       "    </tr>\n",
       "    <tr>\n",
       "      <th>5</th>\n",
       "      <td>Добавить страницу отзывов клиентов о магазине,...</td>\n",
       "      <td>3</td>\n",
       "      <td>2</td>\n",
       "      <td>2</td>\n",
       "      <td>3</td>\n",
       "      <td>6</td>\n",
       "      <td>1.33</td>\n",
       "    </tr>\n",
       "    <tr>\n",
       "      <th>3</th>\n",
       "      <td>Изменить структура категорий, что увеличит кон...</td>\n",
       "      <td>8</td>\n",
       "      <td>3</td>\n",
       "      <td>3</td>\n",
       "      <td>8</td>\n",
       "      <td>4</td>\n",
       "      <td>1.12</td>\n",
       "    </tr>\n",
       "    <tr>\n",
       "      <th>4</th>\n",
       "      <td>Изменить цвет фона главной страницы, чтобы уве...</td>\n",
       "      <td>3</td>\n",
       "      <td>1</td>\n",
       "      <td>1</td>\n",
       "      <td>1</td>\n",
       "      <td>5</td>\n",
       "      <td>1.00</td>\n",
       "    </tr>\n",
       "  </tbody>\n",
       "</table>\n",
       "</div>"
      ],
      "text/plain": [
       "                                          hypothesis  reach  impact  \\\n",
       "8  Запустить акцию, дающую скидку на товар в день...      1       9   \n",
       "0  Добавить два новых канала привлечения трафика,...      3      10   \n",
       "7  Добавить форму подписки на все основные страни...     10       7   \n",
       "6  Показать на главной странице баннеры с актуаль...      5       3   \n",
       "2  Добавить блоки рекомендаций товаров на сайт ин...      8       3   \n",
       "1  Запустить собственную службу доставки, что сок...      2       5   \n",
       "5  Добавить страницу отзывов клиентов о магазине,...      3       2   \n",
       "3  Изменить структура категорий, что увеличит кон...      8       3   \n",
       "4  Изменить цвет фона главной страницы, чтобы уве...      3       1   \n",
       "\n",
       "   confidence  efforts  number    ICE  \n",
       "8           9        5       9  16.20  \n",
       "0           8        6       1  13.33  \n",
       "7           8        5       8  11.20  \n",
       "6           8        3       7   8.00  \n",
       "2           7        3       3   7.00  \n",
       "1           4       10       2   2.00  \n",
       "5           2        3       6   1.33  \n",
       "3           3        8       4   1.12  \n",
       "4           1        1       5   1.00  "
      ]
     },
     "execution_count": 7,
     "metadata": {},
     "output_type": "execute_result"
    }
   ],
   "source": [
    "data.sort_values('ICE', ascending=False)"
   ]
  },
  {
   "cell_type": "markdown",
   "metadata": {},
   "source": [
    "По методу ICE получили наиболее перспективные гипотезы под номером 9, 1, 8, 7 "
   ]
  },
  {
   "cell_type": "markdown",
   "metadata": {},
   "source": [
    "### Посчитаем RICE для гипотез"
   ]
  },
  {
   "cell_type": "code",
   "execution_count": 8,
   "metadata": {},
   "outputs": [],
   "source": [
    "# рассчитаем RICE по формуле\n",
    "data['RICE'] = (data['reach'] * data['impact'] * data['confidence']) / data['efforts']"
   ]
  },
  {
   "cell_type": "code",
   "execution_count": 10,
   "metadata": {},
   "outputs": [
    {
     "data": {
      "text/html": [
       "<div>\n",
       "<style scoped>\n",
       "    .dataframe tbody tr th:only-of-type {\n",
       "        vertical-align: middle;\n",
       "    }\n",
       "\n",
       "    .dataframe tbody tr th {\n",
       "        vertical-align: top;\n",
       "    }\n",
       "\n",
       "    .dataframe thead th {\n",
       "        text-align: right;\n",
       "    }\n",
       "</style>\n",
       "<table border=\"1\" class=\"dataframe\">\n",
       "  <thead>\n",
       "    <tr style=\"text-align: right;\">\n",
       "      <th></th>\n",
       "      <th>hypothesis</th>\n",
       "      <th>reach</th>\n",
       "      <th>impact</th>\n",
       "      <th>confidence</th>\n",
       "      <th>efforts</th>\n",
       "      <th>number</th>\n",
       "      <th>ICE</th>\n",
       "      <th>RICE</th>\n",
       "    </tr>\n",
       "  </thead>\n",
       "  <tbody>\n",
       "    <tr>\n",
       "      <th>7</th>\n",
       "      <td>Добавить форму подписки на все основные страни...</td>\n",
       "      <td>10</td>\n",
       "      <td>7</td>\n",
       "      <td>8</td>\n",
       "      <td>5</td>\n",
       "      <td>8</td>\n",
       "      <td>11.20</td>\n",
       "      <td>112.0</td>\n",
       "    </tr>\n",
       "    <tr>\n",
       "      <th>2</th>\n",
       "      <td>Добавить блоки рекомендаций товаров на сайт ин...</td>\n",
       "      <td>8</td>\n",
       "      <td>3</td>\n",
       "      <td>7</td>\n",
       "      <td>3</td>\n",
       "      <td>3</td>\n",
       "      <td>7.00</td>\n",
       "      <td>56.0</td>\n",
       "    </tr>\n",
       "    <tr>\n",
       "      <th>0</th>\n",
       "      <td>Добавить два новых канала привлечения трафика,...</td>\n",
       "      <td>3</td>\n",
       "      <td>10</td>\n",
       "      <td>8</td>\n",
       "      <td>6</td>\n",
       "      <td>1</td>\n",
       "      <td>13.33</td>\n",
       "      <td>40.0</td>\n",
       "    </tr>\n",
       "    <tr>\n",
       "      <th>6</th>\n",
       "      <td>Показать на главной странице баннеры с актуаль...</td>\n",
       "      <td>5</td>\n",
       "      <td>3</td>\n",
       "      <td>8</td>\n",
       "      <td>3</td>\n",
       "      <td>7</td>\n",
       "      <td>8.00</td>\n",
       "      <td>40.0</td>\n",
       "    </tr>\n",
       "    <tr>\n",
       "      <th>8</th>\n",
       "      <td>Запустить акцию, дающую скидку на товар в день...</td>\n",
       "      <td>1</td>\n",
       "      <td>9</td>\n",
       "      <td>9</td>\n",
       "      <td>5</td>\n",
       "      <td>9</td>\n",
       "      <td>16.20</td>\n",
       "      <td>16.2</td>\n",
       "    </tr>\n",
       "    <tr>\n",
       "      <th>3</th>\n",
       "      <td>Изменить структура категорий, что увеличит кон...</td>\n",
       "      <td>8</td>\n",
       "      <td>3</td>\n",
       "      <td>3</td>\n",
       "      <td>8</td>\n",
       "      <td>4</td>\n",
       "      <td>1.12</td>\n",
       "      <td>9.0</td>\n",
       "    </tr>\n",
       "    <tr>\n",
       "      <th>1</th>\n",
       "      <td>Запустить собственную службу доставки, что сок...</td>\n",
       "      <td>2</td>\n",
       "      <td>5</td>\n",
       "      <td>4</td>\n",
       "      <td>10</td>\n",
       "      <td>2</td>\n",
       "      <td>2.00</td>\n",
       "      <td>4.0</td>\n",
       "    </tr>\n",
       "    <tr>\n",
       "      <th>5</th>\n",
       "      <td>Добавить страницу отзывов клиентов о магазине,...</td>\n",
       "      <td>3</td>\n",
       "      <td>2</td>\n",
       "      <td>2</td>\n",
       "      <td>3</td>\n",
       "      <td>6</td>\n",
       "      <td>1.33</td>\n",
       "      <td>4.0</td>\n",
       "    </tr>\n",
       "    <tr>\n",
       "      <th>4</th>\n",
       "      <td>Изменить цвет фона главной страницы, чтобы уве...</td>\n",
       "      <td>3</td>\n",
       "      <td>1</td>\n",
       "      <td>1</td>\n",
       "      <td>1</td>\n",
       "      <td>5</td>\n",
       "      <td>1.00</td>\n",
       "      <td>3.0</td>\n",
       "    </tr>\n",
       "  </tbody>\n",
       "</table>\n",
       "</div>"
      ],
      "text/plain": [
       "                                          hypothesis  reach  impact  \\\n",
       "7  Добавить форму подписки на все основные страни...     10       7   \n",
       "2  Добавить блоки рекомендаций товаров на сайт ин...      8       3   \n",
       "0  Добавить два новых канала привлечения трафика,...      3      10   \n",
       "6  Показать на главной странице баннеры с актуаль...      5       3   \n",
       "8  Запустить акцию, дающую скидку на товар в день...      1       9   \n",
       "3  Изменить структура категорий, что увеличит кон...      8       3   \n",
       "1  Запустить собственную службу доставки, что сок...      2       5   \n",
       "5  Добавить страницу отзывов клиентов о магазине,...      3       2   \n",
       "4  Изменить цвет фона главной страницы, чтобы уве...      3       1   \n",
       "\n",
       "   confidence  efforts  number    ICE   RICE  \n",
       "7           8        5       8  11.20  112.0  \n",
       "2           7        3       3   7.00   56.0  \n",
       "0           8        6       1  13.33   40.0  \n",
       "6           8        3       7   8.00   40.0  \n",
       "8           9        5       9  16.20   16.2  \n",
       "3           3        8       4   1.12    9.0  \n",
       "1           4       10       2   2.00    4.0  \n",
       "5           2        3       6   1.33    4.0  \n",
       "4           1        1       5   1.00    3.0  "
      ]
     },
     "execution_count": 10,
     "metadata": {},
     "output_type": "execute_result"
    }
   ],
   "source": [
    "# отсортируем таблицу по убыванию значения RICE\n",
    "data.sort_values('RICE', ascending=False)"
   ]
  },
  {
   "cell_type": "markdown",
   "metadata": {},
   "source": [
    "По методу RICE получили наиболее перспективные гипотезы под номером 8, 3, 1, 7 "
   ]
  },
  {
   "cell_type": "code",
   "execution_count": 17,
   "metadata": {},
   "outputs": [
    {
     "data": {
      "text/plain": [
       "<AxesSubplot:xlabel='ICE', ylabel='RICE'>"
      ]
     },
     "execution_count": 17,
     "metadata": {},
     "output_type": "execute_result"
    },
    {
     "data": {
      "image/png": "[encoded data removed]",
      "text/plain": [
       "<Figure size 1440x720 with 1 Axes>"
      ]
     },
     "metadata": {
      "needs_background": "light"
     },
     "output_type": "display_data"
    }
   ],
   "source": [
    "# визуализируем результат\n",
    "plt.figure(figsize=(20,10))\n",
    "sns.scatterplot(data=data, x='ICE', y='RICE', hue='hypothesis', s=500)"
   ]
  },
  {
   "cell_type": "code",
   "execution_count": 11,
   "metadata": {},
   "outputs": [
    {
     "data": {
      "image/png": "[encoded data removed]",
      "text/plain": [
       "<Figure size 1440x720 with 1 Axes>"
      ]
     },
     "metadata": {
      "needs_background": "light"
     },
     "output_type": "display_data"
    }
   ],
   "source": [
    "# \n",
    "plt.figure(figsize=(20,10))\n",
    "plt.axvline(1, c='black')\n",
    "plt.axvline(2, c='black')\n",
    "for _, (ice, rice, hypo) in data[['ICE', 'RICE', 'hypothesis']].iterrows():\n",
    "    plt.plot([1,2], [ice, rice], label=hypo)\n",
    "plt.xticks(np.arange(0.75, 2.5, 0.25), [None, 'ICE', None, None, None, 'RICE', None], fontsize=15)\n",
    "plt.legend()\n",
    "plt.show()"
   ]
  },
  {
   "cell_type": "markdown",
   "metadata": {},
   "source": [
    "**Вывод** По методу ICE первое место занимает гипотеза №9, у нее высокий показатель R и I, и она относительно не горога в реализации E = 5. Но эта гипотеза сильно проигрывает в методе RICE, так как показатель вовлеченности пользователей очень низкий, она повлияет на не большое число людей.\n",
    "\n",
    "Гипотеза №1 не плоха по расчетам обоих методов, второе и третее место, но ее минус в маленьком охвате пользователей, на которых она повлияет. \n",
    "\n",
    "Гипотеза №8 - она фаворит по методу RICE, это сильная гипотеза - она повлияет на значительное количество людей, так же еще реальзация не займет много средств.\n",
    "\n",
    "Гипотеза №7 за нимает четвертое место в рейтинге обоих методов. Ее реализация обойдется дешевле предидуших гипотез, но она не оказет сильных изменений на пользователей, но они потно произойдет, и охват у нее средний.\n",
    "\n",
    "Гипотеза №3 по методу ICE не попала в список лучших гипотез, но зато по методу RICE она на втором месте. Это связано с тем, что хоть сила изменений, которые она окажет на пользователей не велик, она охватит дастаточное количество людей, эти зменения будут сильлными, и тестирование этой гиротезы потребудет мало средств.\n",
    "\n",
    "Считаю, что гипотезы №8 и №3 в приоритете."
   ]
  },
  {
   "cell_type": "markdown",
   "metadata": {},
   "source": [
    "## Часть 2. Анализ A/B-теста\n",
    "Необходимо проанализируйте A/B-тест по полученным данным:\n",
    "\n",
    "* Постройте график кумулятивной выручки по группам. Сделайте выводы и предположения.\n",
    "* Постройте график кумулятивного среднего чека по группам. Сделайте выводы и предположения.\n",
    "* Постройте график относительного изменения кумулятивного среднего чека группы B к группе A. Сделайте выводы и предположения.\n",
    "* Постройте график кумулятивной конверсии по группам. Сделайте выводы и предположения.\n",
    "* Постройте график относительного изменения кумулятивной конверсии группы B к группе A. Сделайте выводы и предположения.\n",
    "* Постройте точечный график количества заказов по пользователям. Сделайте выводы и предположения.\n",
    "* Посчитайте 95-й и 99-й перцентили количества заказов на пользователя. Выберите границу для определения аномальных пользователей.\n",
    "* Постройте точечный график стоимостей заказов. Сделайте выводы и предположения.\n",
    "* Посчитайте 95-й и 99-й перцентили стоимости заказов. Выберите границу для определения аномальных заказов.\n",
    "* Посчитайте статистическую значимость различий в конверсии между группами по «сырым» данным. Сделайте выводы и предположения.\n",
    "* Посчитайте статистическую значимость различий в среднем чеке заказа между группами по «сырым» данным. Сделайте выводы и предположения.\n",
    "* Посчитайте статистическую значимость различий в конверсии между группами по «очищенным» данным. Сделайте выводы и предположения.\n",
    "* Посчитайте статистическую значимость различий в среднем чеке заказа между группами по «очищенным» данным. Сделайте выводы и предположения.\n",
    "* Примите решение по результатам теста и объясните его. Варианты решений: 1. Остановить тест, зафиксировать победу одной из групп. 2. Остановить тест, зафиксировать отсутствие различий между группами. 3. Продолжить тест."
   ]
  },
  {
   "cell_type": "markdown",
   "metadata": {},
   "source": [
    "## Получение данных"
   ]
  },
  {
   "cell_type": "code",
   "execution_count": 12,
   "metadata": {},
   "outputs": [],
   "source": [
    "# прочитаем файл orders.csv и сохраним его в переменной orders\n",
    "orders = pd.read_csv('orders.csv', sep=',')"
   ]
  },
  {
   "cell_type": "code",
   "execution_count": 13,
   "metadata": {},
   "outputs": [
    {
     "data": {
      "text/html": [
       "<div>\n",
       "<style scoped>\n",
       "    .dataframe tbody tr th:only-of-type {\n",
       "        vertical-align: middle;\n",
       "    }\n",
       "\n",
       "    .dataframe tbody tr th {\n",
       "        vertical-align: top;\n",
       "    }\n",
       "\n",
       "    .dataframe thead th {\n",
       "        text-align: right;\n",
       "    }\n",
       "</style>\n",
       "<table border=\"1\" class=\"dataframe\">\n",
       "  <thead>\n",
       "    <tr style=\"text-align: right;\">\n",
       "      <th></th>\n",
       "      <th>transactionId</th>\n",
       "      <th>visitorId</th>\n",
       "      <th>date</th>\n",
       "      <th>revenue</th>\n",
       "      <th>group</th>\n",
       "    </tr>\n",
       "  </thead>\n",
       "  <tbody>\n",
       "    <tr>\n",
       "      <th>0</th>\n",
       "      <td>3667963787</td>\n",
       "      <td>3312258926</td>\n",
       "      <td>2019-08-15</td>\n",
       "      <td>1650</td>\n",
       "      <td>B</td>\n",
       "    </tr>\n",
       "    <tr>\n",
       "      <th>1</th>\n",
       "      <td>2804400009</td>\n",
       "      <td>3642806036</td>\n",
       "      <td>2019-08-15</td>\n",
       "      <td>730</td>\n",
       "      <td>B</td>\n",
       "    </tr>\n",
       "    <tr>\n",
       "      <th>2</th>\n",
       "      <td>2961555356</td>\n",
       "      <td>4069496402</td>\n",
       "      <td>2019-08-15</td>\n",
       "      <td>400</td>\n",
       "      <td>A</td>\n",
       "    </tr>\n",
       "    <tr>\n",
       "      <th>3</th>\n",
       "      <td>3797467345</td>\n",
       "      <td>1196621759</td>\n",
       "      <td>2019-08-15</td>\n",
       "      <td>9759</td>\n",
       "      <td>B</td>\n",
       "    </tr>\n",
       "    <tr>\n",
       "      <th>4</th>\n",
       "      <td>2282983706</td>\n",
       "      <td>2322279887</td>\n",
       "      <td>2019-08-15</td>\n",
       "      <td>2308</td>\n",
       "      <td>B</td>\n",
       "    </tr>\n",
       "  </tbody>\n",
       "</table>\n",
       "</div>"
      ],
      "text/plain": [
       "   transactionId   visitorId        date  revenue group\n",
       "0     3667963787  3312258926  2019-08-15     1650     B\n",
       "1     2804400009  3642806036  2019-08-15      730     B\n",
       "2     2961555356  4069496402  2019-08-15      400     A\n",
       "3     3797467345  1196621759  2019-08-15     9759     B\n",
       "4     2282983706  2322279887  2019-08-15     2308     B"
      ]
     },
     "execution_count": 13,
     "metadata": {},
     "output_type": "execute_result"
    }
   ],
   "source": [
    "# выведем первые строки таблицы\n",
    "orders.head()"
   ]
  },
  {
   "cell_type": "code",
   "execution_count": 14,
   "metadata": {},
   "outputs": [
    {
     "name": "stdout",
     "output_type": "stream",
     "text": [
      "<class 'pandas.core.frame.DataFrame'>\n",
      "RangeIndex: 1197 entries, 0 to 1196\n",
      "Data columns (total 5 columns):\n",
      " #   Column         Non-Null Count  Dtype \n",
      "---  ------         --------------  ----- \n",
      " 0   transactionId  1197 non-null   int64 \n",
      " 1   visitorId      1197 non-null   int64 \n",
      " 2   date           1197 non-null   object\n",
      " 3   revenue        1197 non-null   int64 \n",
      " 4   group          1197 non-null   object\n",
      "dtypes: int64(3), object(2)\n",
      "memory usage: 46.9+ KB\n"
     ]
    }
   ],
   "source": [
    "# посмотрим на общую информацию о датафреймах\n",
    "orders.info()"
   ]
  },
  {
   "cell_type": "markdown",
   "metadata": {},
   "source": [
    "В датасете 5 колонок и 1197 строк, тип данных - `int` и `object`. "
   ]
  },
  {
   "cell_type": "code",
   "execution_count": 16,
   "metadata": {},
   "outputs": [],
   "source": [
    "# прочитаем файл visitors.csv и сохраним его в переменной visitors\n",
    "visitors = pd.read_csv('visitors.csv', sep=',')"
   ]
  },
  {
   "cell_type": "code",
   "execution_count": 17,
   "metadata": {},
   "outputs": [
    {
     "data": {
      "text/html": [
       "<div>\n",
       "<style scoped>\n",
       "    .dataframe tbody tr th:only-of-type {\n",
       "        vertical-align: middle;\n",
       "    }\n",
       "\n",
       "    .dataframe tbody tr th {\n",
       "        vertical-align: top;\n",
       "    }\n",
       "\n",
       "    .dataframe thead th {\n",
       "        text-align: right;\n",
       "    }\n",
       "</style>\n",
       "<table border=\"1\" class=\"dataframe\">\n",
       "  <thead>\n",
       "    <tr style=\"text-align: right;\">\n",
       "      <th></th>\n",
       "      <th>date</th>\n",
       "      <th>group</th>\n",
       "      <th>visitors</th>\n",
       "    </tr>\n",
       "  </thead>\n",
       "  <tbody>\n",
       "    <tr>\n",
       "      <th>0</th>\n",
       "      <td>2019-08-01</td>\n",
       "      <td>A</td>\n",
       "      <td>719</td>\n",
       "    </tr>\n",
       "    <tr>\n",
       "      <th>1</th>\n",
       "      <td>2019-08-02</td>\n",
       "      <td>A</td>\n",
       "      <td>619</td>\n",
       "    </tr>\n",
       "    <tr>\n",
       "      <th>2</th>\n",
       "      <td>2019-08-03</td>\n",
       "      <td>A</td>\n",
       "      <td>507</td>\n",
       "    </tr>\n",
       "    <tr>\n",
       "      <th>3</th>\n",
       "      <td>2019-08-04</td>\n",
       "      <td>A</td>\n",
       "      <td>717</td>\n",
       "    </tr>\n",
       "    <tr>\n",
       "      <th>4</th>\n",
       "      <td>2019-08-05</td>\n",
       "      <td>A</td>\n",
       "      <td>756</td>\n",
       "    </tr>\n",
       "  </tbody>\n",
       "</table>\n",
       "</div>"
      ],
      "text/plain": [
       "         date group  visitors\n",
       "0  2019-08-01     A       719\n",
       "1  2019-08-02     A       619\n",
       "2  2019-08-03     A       507\n",
       "3  2019-08-04     A       717\n",
       "4  2019-08-05     A       756"
      ]
     },
     "execution_count": 17,
     "metadata": {},
     "output_type": "execute_result"
    }
   ],
   "source": [
    "#\n",
    "visitors.head()"
   ]
  },
  {
   "cell_type": "code",
   "execution_count": 18,
   "metadata": {},
   "outputs": [
    {
     "name": "stdout",
     "output_type": "stream",
     "text": [
      "<class 'pandas.core.frame.DataFrame'>\n",
      "RangeIndex: 62 entries, 0 to 61\n",
      "Data columns (total 3 columns):\n",
      " #   Column    Non-Null Count  Dtype \n",
      "---  ------    --------------  ----- \n",
      " 0   date      62 non-null     object\n",
      " 1   group     62 non-null     object\n",
      " 2   visitors  62 non-null     int64 \n",
      "dtypes: int64(1), object(2)\n",
      "memory usage: 1.6+ KB\n"
     ]
    }
   ],
   "source": [
    "#\n",
    "visitors.info()"
   ]
  },
  {
   "cell_type": "markdown",
   "metadata": {},
   "source": [
    "В таблице visitors 3 колонки и 62 строки, тип данных `object` и столбец `visitors` - `int`. Пропусков на первый взгляд не видно.\n"
   ]
  },
  {
   "cell_type": "markdown",
   "metadata": {},
   "source": [
    "## Предобработка данных"
   ]
  },
  {
   "cell_type": "code",
   "execution_count": 15,
   "metadata": {},
   "outputs": [
    {
     "data": {
      "text/plain": [
       "transactionId    0.0\n",
       "visitorId        0.0\n",
       "date             0.0\n",
       "revenue          0.0\n",
       "group            0.0\n",
       "dtype: float64"
      ]
     },
     "execution_count": 15,
     "metadata": {},
     "output_type": "execute_result"
    }
   ],
   "source": [
    "# проверим наличие пропусков в таблице orders\n",
    "round((orders.isna().mean()*100),2)"
   ]
  },
  {
   "cell_type": "code",
   "execution_count": 19,
   "metadata": {},
   "outputs": [
    {
     "data": {
      "text/plain": [
       "date        0.0\n",
       "group       0.0\n",
       "visitors    0.0\n",
       "dtype: float64"
      ]
     },
     "execution_count": 19,
     "metadata": {},
     "output_type": "execute_result"
    }
   ],
   "source": [
    "#\n",
    "round((visitors.isna().mean()*100),2)"
   ]
  },
  {
   "cell_type": "code",
   "execution_count": 20,
   "metadata": {},
   "outputs": [],
   "source": [
    "# изменим тип данных о времени\n",
    "orders['date'] = orders['date'].map(lambda x: dt.datetime.strptime(x, '%Y-%m-%d')) \n",
    "visitors['date'] = visitors['date'].map(lambda x: dt.datetime.strptime(x, '%Y-%m-%d'))   "
   ]
  },
  {
   "cell_type": "markdown",
   "metadata": {},
   "source": [
    "## Исследовательский анализ данных <a id=\"analysis\"></a>"
   ]
  },
  {
   "cell_type": "markdown",
   "metadata": {},
   "source": [
    "### Проведем проверку на попадание пользователей в обе группы теста"
   ]
  },
  {
   "cell_type": "code",
   "execution_count": 21,
   "metadata": {},
   "outputs": [
    {
     "data": {
      "text/plain": [
       "58"
      ]
     },
     "execution_count": 21,
     "metadata": {},
     "output_type": "execute_result"
    }
   ],
   "source": [
    "# отбираем группы из данных с заказами \n",
    "group_a = orders.query('group == \"A\"') \n",
    "group_b = orders.query('group == \"B\"') \n",
    "  \n",
    "# получаем пользователей, попавших в обе группы \n",
    "group_double = list(np.intersect1d(group_a['visitorId'], group_b['visitorId']))\n",
    "len(group_double)"
   ]
  },
  {
   "cell_type": "markdown",
   "metadata": {},
   "source": [
    "Таких пользователей оказалось 58. Это серьезная ошибка теста, и следует прекратить его проведение. Но, чтобы провести исследование до конца, удалим их из датасета. "
   ]
  },
  {
   "cell_type": "code",
   "execution_count": 22,
   "metadata": {},
   "outputs": [],
   "source": [
    "# заказы без двойных групп\n",
    "orders = orders.query('visitorId not in @group_double')"
   ]
  },
  {
   "cell_type": "markdown",
   "metadata": {},
   "source": [
    "### Построим график кумулятивной выручки по группам"
   ]
  },
  {
   "cell_type": "code",
   "execution_count": 23,
   "metadata": {},
   "outputs": [],
   "source": [
    "# создаем массив уникальных пар значений дат и групп теста\n",
    "dates_groups = orders[['date','group']].drop_duplicates()"
   ]
  },
  {
   "cell_type": "code",
   "execution_count": 24,
   "metadata": {},
   "outputs": [],
   "source": [
    "# получаем агрегированные кумулятивные по дням данные о заказах\n",
    "orders_aggregated = (\n",
    "    dates_groups.apply(\n",
    "        lambda x: orders[np.logical_and(orders['date'] <= x['date'], orders['group'] == x['group'])]\\\n",
    "        .agg({'date' : 'max', \n",
    "              'group' : 'max', \n",
    "              'transactionId' : 'nunique', \n",
    "              'visitorId' : 'nunique', \n",
    "              'revenue' : 'sum'}),\n",
    "        axis=1)\n",
    "    .sort_values(by=['date','group'])\n",
    ") "
   ]
  },
  {
   "cell_type": "code",
   "execution_count": 25,
   "metadata": {},
   "outputs": [],
   "source": [
    "# получаем агрегированные кумулятивные по дням данные о посетителях интернет-магазина\n",
    "visitors_aggregated = (\n",
    "    dates_groups.apply(\n",
    "    lambda x: visitors[np.logical_and(visitors['date'] <= x['date'], visitors['group'] == x['group'])]\n",
    "    .agg({'date' : 'max', 'group' : 'max', 'visitors' : 'sum'}), axis=1)\n",
    "    .sort_values(by=['date','group'])\n",
    ")    "
   ]
  },
  {
   "cell_type": "code",
   "execution_count": 26,
   "metadata": {},
   "outputs": [],
   "source": [
    "# объединяем кумулятивные данные в одной таблице и присваиваем ее столбцам понятные названия\n",
    "cumulative_data = orders_aggregated.merge(visitors_aggregated, \n",
    "                                          left_on=['date', 'group'], \n",
    "                                          right_on=['date', 'group'])\n",
    "cumulative_data.columns = ['date', 'group', 'orders', 'buyers', 'revenue', 'visitors']\n"
   ]
  },
  {
   "cell_type": "code",
   "execution_count": 65,
   "metadata": {},
   "outputs": [
    {
     "data": {
      "image/png": "[encoded data removed]",
      "text/plain": [
       "<Figure size 432x288 with 1 Axes>"
      ]
     },
     "metadata": {
      "needs_background": "light"
     },
     "output_type": "display_data"
    }
   ],
   "source": [
    "# датафрейм с кумулятивным количеством заказов и кумулятивной выручкой по дням в группе А\n",
    "cumulative_revenue_a = cumulative_data[cumulative_data['group']=='A'][['date','revenue', 'orders']]\n",
    "\n",
    "# датафрейм с кумулятивным количеством заказов и кумулятивной выручкой по дням в группе B\n",
    "cumulative_revenue_b = cumulative_data[cumulative_data['group']=='B'][['date','revenue', 'orders']]\n",
    "\n",
    "# Строим график выручки группы А\n",
    "plt.plot(cumulative_revenue_a['date'], cumulative_revenue_a['revenue'], label='A')\n",
    "\n",
    "# Строим график выручки группы B\n",
    "plt.plot(cumulative_revenue_b['date'], cumulative_revenue_b['revenue'], label='B')\n",
    "\n",
    "\n",
    "plt.xticks(rotation = 90)\n",
    "plt.title('Кумулятивная выручка по группам')\n",
    "plt.xlabel('Дата проведения теста')\n",
    "plt.legend()\n",
    "plt.show()"
   ]
  },
  {
   "cell_type": "markdown",
   "metadata": {},
   "source": [
    "**Вывод** Выручка в обеих группах растет в течение всего теста. Однако, группа В показывается себя лучше. Также на графике этой группы есть резкий скачек выручки, скорее всего это связано с появлением выбросов в данных. "
   ]
  },
  {
   "cell_type": "markdown",
   "metadata": {},
   "source": [
    "### Постройте график кумулятивного среднего чека по группам"
   ]
  },
  {
   "cell_type": "code",
   "execution_count": 66,
   "metadata": {},
   "outputs": [
    {
     "data": {
      "image/png": "[encoded data removed]",
      "text/plain": [
       "<Figure size 432x288 with 1 Axes>"
      ]
     },
     "metadata": {
      "needs_background": "light"
     },
     "output_type": "display_data"
    }
   ],
   "source": [
    "# Построим графики среднего чека по группам\n",
    "plt.plot(cumulative_revenue_a['date'], cumulative_revenue_a['revenue']/cumulative_revenue_a['orders'], label='A')\n",
    "plt.plot(cumulative_revenue_b['date'], cumulative_revenue_b['revenue']/cumulative_revenue_b['orders'], label='B')\n",
    "\n",
    "plt.xticks(rotation = 90)\n",
    "plt.xlabel('Дата проведения теста')\n",
    "plt.title('Средний чек по группам')\n",
    "plt.legend()\n",
    "plt.show()"
   ]
  },
  {
   "cell_type": "markdown",
   "metadata": {},
   "source": [
    "**Вывод** Со средним чеком все сложнее. По графику сложно сказать, что средний чек становится равномерным ближе к концу теста. У группы А заметен резкий спад, а потом подьем, и снова снижение. Группа В тоже есть несколько подьемов и спадов, резкий скачек там же по времени где скачет графиу выручки, а после этого график идет на снижение. Определенно,в данных есть выбросы. В целом группа В показыает себя лучше группы А, но нужно поработать с выбросами."
   ]
  },
  {
   "cell_type": "markdown",
   "metadata": {},
   "source": [
    "### Построим график относительного изменения кумулятивного среднего чека группы B к группе A"
   ]
  },
  {
   "cell_type": "code",
   "execution_count": 67,
   "metadata": {},
   "outputs": [
    {
     "data": {
      "image/png": "[encoded data removed]",
      "text/plain": [
       "<Figure size 432x288 with 1 Axes>"
      ]
     },
     "metadata": {
      "needs_background": "light"
     },
     "output_type": "display_data"
    }
   ],
   "source": [
    "# собираем данные в одном датафрейме\n",
    "merged_cumulative_revenue = cumulative_revenue_a.merge(cumulative_revenue_b, left_on='date', right_on='date', how='left', suffixes=['A', 'B'])\n",
    "\n",
    "# cтроим отношение средних чеков\n",
    "plt.plot(merged_cumulative_revenue['date'], (merged_cumulative_revenue['revenueB']/merged_cumulative_revenue['ordersB'])/(merged_cumulative_revenue['revenueA']/merged_cumulative_revenue['ordersA'])-1)\n",
    "\n",
    "# добавляем ось X\n",
    "plt.axhline(y=0, color='black', linestyle='--')\n",
    "\n",
    "plt.xticks(rotation = 90)\n",
    "plt.xlabel('Дата проведения теста')\n",
    "plt.title('Относительное изменение среднего чека группы В')\n",
    "plt.show()"
   ]
  },
  {
   "cell_type": "markdown",
   "metadata": {},
   "source": [
    "**Вывод** График различия между сегментами в нескольких точках резко скачет. Средний чук группы В к концу теста начинает просидать по отношению к среднему чеку группы А."
   ]
  },
  {
   "cell_type": "markdown",
   "metadata": {},
   "source": [
    "### Постройте график кумулятивной конверсии по группам"
   ]
  },
  {
   "cell_type": "code",
   "execution_count": 68,
   "metadata": {},
   "outputs": [
    {
     "data": {
      "image/png": "[encoded data removed]",
      "text/plain": [
       "<Figure size 432x288 with 1 Axes>"
      ]
     },
     "metadata": {
      "needs_background": "light"
     },
     "output_type": "display_data"
    }
   ],
   "source": [
    "# считаем кумулятивную конверсию\n",
    "cumulative_data['conversion'] = cumulative_data['orders']/cumulative_data['visitors']\n",
    "\n",
    "# отделяем данные по группе A\n",
    "cumulative_data_a = cumulative_data[cumulative_data['group']=='A']\n",
    "\n",
    "# отделяем данные по группе B\n",
    "cumulative_data_b = cumulative_data[cumulative_data['group']=='B']\n",
    "\n",
    "# строим графики\n",
    "plt.plot(cumulative_data_a['date'], cumulative_data_a['conversion'], label='A')\n",
    "plt.plot(cumulative_data_b['date'], cumulative_data_b['conversion'], label='B')\n",
    "plt.legend()\n",
    "\n",
    "# задаем масштаб осей\n",
    "plt.axis([dt.datetime(2019, 8, 1), dt.datetime(2019, 9, 1), 0.02, 0.04])\n",
    "\n",
    "plt.xticks(rotation = 90)\n",
    "plt.xlabel('Дата проведения теста')\n",
    "plt.title('Кумулятивная конверсия по группам')\n",
    "plt.show()"
   ]
  },
  {
   "cell_type": "markdown",
   "metadata": {},
   "source": [
    "**Вывод** График получился симметричный. Группы пересекались несколько раз, но затем конверсия группы В вырвалась вперёд и зафиксировалась, а конверсия группы А просела и также зафиксировалась"
   ]
  },
  {
   "cell_type": "markdown",
   "metadata": {},
   "source": [
    "### Постройте график относительного изменения кумулятивной конверсии группы B к группе A"
   ]
  },
  {
   "cell_type": "code",
   "execution_count": 69,
   "metadata": {},
   "outputs": [
    {
     "data": {
      "image/png": "[encoded data removed]",
      "text/plain": [
       "<Figure size 432x288 with 1 Axes>"
      ]
     },
     "metadata": {
      "needs_background": "light"
     },
     "output_type": "display_data"
    }
   ],
   "source": [
    "# построим график относительного различия кумулятивных конверсий\n",
    "merged_cumulative_conversions = cumulative_data_a[['date','conversion']].merge(cumulative_data_b[['date','conversion']], left_on='date', right_on='date', how='left', suffixes=['A', 'B'])\n",
    "\n",
    "plt.plot(merged_cumulative_conversions['date'], merged_cumulative_conversions['conversionB']/merged_cumulative_conversions['conversionA']-1)\n",
    "\n",
    "\n",
    "plt.axhline(y=0, color='black', linestyle='--')\n",
    "plt.axhline(y=0.15, color='grey', linestyle='--')\n",
    "plt.axis([dt.datetime(2019, 8, 1), dt.datetime(2019, 9, 1), -0.25, 0.25])\n",
    "\n",
    "plt.xticks(rotation = 90)\n",
    "plt.xlabel('Дата проведения теста')\n",
    "plt.title('Относительный прирост конверсии группы B относительно группы A')\n",
    "plt.show()"
   ]
  },
  {
   "cell_type": "markdown",
   "metadata": {},
   "source": [
    "**Вывод** В начале теста группа B значительно проигрывала группе A, затем вырвалась вперёд. Потом её конверсия снова падала, но теперь постепенно растёт.\n",
    "В целом отношение конверсии ещё не установилось, и сейчас делать какие-либо выводы по тесту нельзя. Впрочем, сперва стоит проанализировать аномалии, возможно, они изменят картину."
   ]
  },
  {
   "cell_type": "markdown",
   "metadata": {},
   "source": [
    "<div class=\"alert alert-warning\" ; style=\"border-left: 7px solid orange\">\n",
    "<font size=\"4\"><b>Комментарий ревьюера 👀</b></font>\n",
    "    <br />\n",
    "    <font size=\"3\", color = \"black\">\n",
    "    <br /> Стоит оставить пояснения по поводу выделенного уровня. Что он означает?\n",
    "    <br />\n",
    "    </font>\n",
    "\n",
    "</div>"
   ]
  },
  {
   "cell_type": "markdown",
   "metadata": {},
   "source": [
    "<div class=\"alert alert-block alert-info\">\n",
    "  \n",
    "  <b>Комментарий cтудента</b>\n",
    "    \n",
    " Коверсия группы В лучше на 15% группы А.\n",
    "</div>"
   ]
  },
  {
   "cell_type": "markdown",
   "metadata": {},
   "source": [
    "<div class=\"alert alert-success\"; style=\"border-left: 7px solid green\">\n",
    "<font size=\"4\"><b>Комментарий ревьюера 🚀 v2</b></font>\n",
    "    <br />\n",
    "    <font size=\"3\", color = \"black\">\n",
    "    <br /> При добавлении дополнительных элементов к графику следует всегда их описывать, так как они могут пониматься разными специалистами по-разному.\n",
    "    </font>\n",
    "\n",
    "</div>"
   ]
  },
  {
   "cell_type": "markdown",
   "metadata": {},
   "source": [
    "### Постройте точечный график количества заказов по пользователям"
   ]
  },
  {
   "cell_type": "code",
   "execution_count": 32,
   "metadata": {},
   "outputs": [],
   "source": [
    "orders_by_users = (\n",
    "    orders.groupby('visitorId', as_index=False)\n",
    "    .agg({'transactionId': 'nunique'})\n",
    ")\n",
    "\n",
    "orders_by_users.columns = ['userId', 'orders']\n"
   ]
  },
  {
   "cell_type": "code",
   "execution_count": 71,
   "metadata": {},
   "outputs": [
    {
     "data": {
      "image/png": "[encoded data removed]",
      "text/plain": [
       "<Figure size 432x288 with 1 Axes>"
      ]
     },
     "metadata": {
      "needs_background": "light"
     },
     "output_type": "display_data"
    }
   ],
   "source": [
    "x_values = pd.Series(range(0,len(orders_by_users)))\n",
    "\n",
    "plt.scatter(x_values, orders_by_users['orders'])\n",
    "\n",
    "plt.title('Распределение количества заказов по пользователям')\n",
    "plt.ylabel('Количество заказов')\n",
    "plt.show()"
   ]
  },
  {
   "cell_type": "markdown",
   "metadata": {},
   "source": [
    "**Вывод** Большинство покупателей заказывали только один раз. На графике отборжается некоторое количество выбросов с большим числом заказов. Также много пользователей с 2-4 заказами, оценим их долю, можно ли считать их аномальными. Принято отсеивать от 1% до 5% наблюдений с крайними значениями"
   ]
  },
  {
   "cell_type": "markdown",
   "metadata": {},
   "source": [
    "<div class=\"alert alert-success\"; style=\"border-left: 7px solid green\">\n",
    "<font size=\"4\"><b>Комментарий ревьюера 🚀</b></font>\n",
    "    <br />\n",
    "    <font size=\"3\", color = \"black\">\n",
    "    <br /> Абсолютно верное построение точечного графика. Действительно, по графику видим, что аномальные значения начинаются от 3-4 заказов\n",
    "     <br />\n",
    "    </font>\n",
    "\n",
    "</div>"
   ]
  },
  {
   "cell_type": "markdown",
   "metadata": {},
   "source": [
    "### Посчитайте 95-й и 99-й перцентили количества заказов на пользователя"
   ]
  },
  {
   "cell_type": "code",
   "execution_count": 34,
   "metadata": {},
   "outputs": [
    {
     "name": "stdout",
     "output_type": "stream",
     "text": [
      "1.0\n"
     ]
    },
    {
     "data": {
      "text/plain": [
       "2.0"
      ]
     },
     "execution_count": 34,
     "metadata": {},
     "output_type": "execute_result"
    }
   ],
   "source": [
    "orders_per95, orders_per99 = np.percentile(orders_by_users['orders'], [95, 99])\n",
    "print(orders_per95)\n",
    "orders_per99"
   ]
  },
  {
   "cell_type": "markdown",
   "metadata": {},
   "source": [
    "**Вывод** Не более 5% пользователей оформляли больше чем 1 заказов. И 1% пользователей заказывали более 2 раз. Выберем 2 заказа на одного пользователя за нижнюю границу числа заказов, и отсеем аномальных пользователей по ней."
   ]
  },
  {
   "cell_type": "markdown",
   "metadata": {},
   "source": [
    "### Постройте точечный график стоимостей заказов"
   ]
  },
  {
   "cell_type": "code",
   "execution_count": 72,
   "metadata": {},
   "outputs": [
    {
     "data": {
      "image/png": "[encoded data removed]",
      "text/plain": [
       "<Figure size 432x288 with 1 Axes>"
      ]
     },
     "metadata": {
      "needs_background": "light"
     },
     "output_type": "display_data"
    }
   ],
   "source": [
    "x_values = pd.Series(range(0,len(orders['revenue'])))\n",
    "plt.scatter(x_values, orders['revenue'])\n",
    "\n",
    "plt.title('Распределение стоимости заказов по пользователям')\n",
    "plt.ylabel('Сумма заказа')\n",
    "plt.show()"
   ]
  },
  {
   "cell_type": "markdown",
   "metadata": {},
   "source": [
    "**Вывод** Есть немного дорогих заказов. По графику видно, что большая часть заказов не превышает 200 000 тысяч."
   ]
  },
  {
   "cell_type": "markdown",
   "metadata": {},
   "source": [
    "<div class=\"alert alert-success\"; style=\"border-left: 7px solid green\">\n",
    "<font size=\"4\"><b>Комментарий ревьюера 🚀</b></font>\n",
    "    <br />\n",
    "    <font size=\"3\", color = \"black\">\n",
    "    <br /> Действительно, по такому графику сразу можно заметить 2 выброса.\n",
    "     <br />\n",
    "    </font>\n",
    "\n",
    "</div>"
   ]
  },
  {
   "cell_type": "markdown",
   "metadata": {},
   "source": [
    "<div class=\"alert alert-warning\" ; style=\"border-left: 7px solid orange\">\n",
    "<font size=\"4\"><b>Комментарий ревьюера 👀</b></font>\n",
    "    <br />\n",
    "    <font size=\"3\", color = \"black\">\n",
    "    <br />Правда это не 20 тысяч, а а 200 тысяч. Для более детального изучения распределения точек советую построить еще один график с ограничениями по осям\n",
    "    <br />\n",
    "    </font>\n",
    "\n",
    "</div>"
   ]
  },
  {
   "cell_type": "code",
   "execution_count": 73,
   "metadata": {},
   "outputs": [
    {
     "data": {
      "image/png": "[encoded data removed]",
      "text/plain": [
       "<Figure size 432x288 with 1 Axes>"
      ]
     },
     "metadata": {
      "needs_background": "light"
     },
     "output_type": "display_data"
    }
   ],
   "source": [
    "x_values = pd.Series(range(0,len(orders['revenue'])))\n",
    "plt.scatter(x_values, orders['revenue'])\n",
    "\n",
    "plt.ylim(0, 200000)\n",
    "plt.title('Распределение стоимости заказов по пользователям')\n",
    "plt.ylabel('Сумма заказа')\n",
    "plt.show()"
   ]
  },
  {
   "cell_type": "markdown",
   "metadata": {},
   "source": [
    "### Посчитайте 95-й и 99-й перцентили стоимости заказов"
   ]
  },
  {
   "cell_type": "code",
   "execution_count": 37,
   "metadata": {},
   "outputs": [
    {
     "name": "stdout",
     "output_type": "stream",
     "text": [
      "26785.0\n"
     ]
    },
    {
     "data": {
      "text/plain": [
       "53904.0"
      ]
     },
     "execution_count": 37,
     "metadata": {},
     "output_type": "execute_result"
    }
   ],
   "source": [
    "revenue_per95, revenue_per99 = np.percentile(orders['revenue'], [95, 99])\n",
    "print(revenue_per95)\n",
    "revenue_per99"
   ]
  },
  {
   "cell_type": "markdown",
   "metadata": {},
   "source": [
    "**Вывод** Не более 5% заказов дороже 26 785 рублей и не более 1% дороже 53 904 рублей. Выберем 26 785  за нижнюю границу стоимости заказов, и отсеем аномальных пользователей по ней."
   ]
  },
  {
   "cell_type": "markdown",
   "metadata": {},
   "source": [
    "### Посчитайте статистическую значимость различий в конверсии между группами по «сырым» данным"
   ]
  },
  {
   "cell_type": "code",
   "execution_count": 38,
   "metadata": {},
   "outputs": [
    {
     "data": {
      "text/html": [
       "<div>\n",
       "<style scoped>\n",
       "    .dataframe tbody tr th:only-of-type {\n",
       "        vertical-align: middle;\n",
       "    }\n",
       "\n",
       "    .dataframe tbody tr th {\n",
       "        vertical-align: top;\n",
       "    }\n",
       "\n",
       "    .dataframe thead th {\n",
       "        text-align: right;\n",
       "    }\n",
       "</style>\n",
       "<table border=\"1\" class=\"dataframe\">\n",
       "  <thead>\n",
       "    <tr style=\"text-align: right;\">\n",
       "      <th></th>\n",
       "      <th>date</th>\n",
       "      <th>ordersPerDateA</th>\n",
       "      <th>revenuePerDateA</th>\n",
       "      <th>ordersPerDateB</th>\n",
       "      <th>revenuePerDateB</th>\n",
       "      <th>ordersCummulativeA</th>\n",
       "      <th>revenueCummulativeA</th>\n",
       "      <th>ordersCummulativeB</th>\n",
       "      <th>revenueCummulativeB</th>\n",
       "      <th>visitorsPerDateA</th>\n",
       "      <th>visitorsPerDateB</th>\n",
       "      <th>visitorsCummulativeA</th>\n",
       "      <th>visitorsCummulativeB</th>\n",
       "    </tr>\n",
       "  </thead>\n",
       "  <tbody>\n",
       "    <tr>\n",
       "      <th>0</th>\n",
       "      <td>2019-08-01</td>\n",
       "      <td>23</td>\n",
       "      <td>142779</td>\n",
       "      <td>17</td>\n",
       "      <td>59758</td>\n",
       "      <td>23</td>\n",
       "      <td>142779</td>\n",
       "      <td>17</td>\n",
       "      <td>59758</td>\n",
       "      <td>719</td>\n",
       "      <td>713</td>\n",
       "      <td>719</td>\n",
       "      <td>713</td>\n",
       "    </tr>\n",
       "    <tr>\n",
       "      <th>1</th>\n",
       "      <td>2019-08-02</td>\n",
       "      <td>19</td>\n",
       "      <td>91602</td>\n",
       "      <td>23</td>\n",
       "      <td>162043</td>\n",
       "      <td>42</td>\n",
       "      <td>234381</td>\n",
       "      <td>40</td>\n",
       "      <td>221801</td>\n",
       "      <td>619</td>\n",
       "      <td>581</td>\n",
       "      <td>1338</td>\n",
       "      <td>1294</td>\n",
       "    </tr>\n",
       "    <tr>\n",
       "      <th>2</th>\n",
       "      <td>2019-08-03</td>\n",
       "      <td>24</td>\n",
       "      <td>112473</td>\n",
       "      <td>14</td>\n",
       "      <td>67049</td>\n",
       "      <td>66</td>\n",
       "      <td>346854</td>\n",
       "      <td>54</td>\n",
       "      <td>288850</td>\n",
       "      <td>507</td>\n",
       "      <td>509</td>\n",
       "      <td>1845</td>\n",
       "      <td>1803</td>\n",
       "    </tr>\n",
       "    <tr>\n",
       "      <th>3</th>\n",
       "      <td>2019-08-04</td>\n",
       "      <td>11</td>\n",
       "      <td>41176</td>\n",
       "      <td>14</td>\n",
       "      <td>96890</td>\n",
       "      <td>77</td>\n",
       "      <td>388030</td>\n",
       "      <td>68</td>\n",
       "      <td>385740</td>\n",
       "      <td>717</td>\n",
       "      <td>770</td>\n",
       "      <td>2562</td>\n",
       "      <td>2573</td>\n",
       "    </tr>\n",
       "    <tr>\n",
       "      <th>4</th>\n",
       "      <td>2019-08-05</td>\n",
       "      <td>22</td>\n",
       "      <td>86383</td>\n",
       "      <td>21</td>\n",
       "      <td>89908</td>\n",
       "      <td>99</td>\n",
       "      <td>474413</td>\n",
       "      <td>89</td>\n",
       "      <td>475648</td>\n",
       "      <td>756</td>\n",
       "      <td>707</td>\n",
       "      <td>3318</td>\n",
       "      <td>3280</td>\n",
       "    </tr>\n",
       "  </tbody>\n",
       "</table>\n",
       "</div>"
      ],
      "text/plain": [
       "        date  ordersPerDateA  revenuePerDateA  ordersPerDateB  \\\n",
       "0 2019-08-01              23           142779              17   \n",
       "1 2019-08-02              19            91602              23   \n",
       "2 2019-08-03              24           112473              14   \n",
       "3 2019-08-04              11            41176              14   \n",
       "4 2019-08-05              22            86383              21   \n",
       "\n",
       "   revenuePerDateB  ordersCummulativeA  revenueCummulativeA  \\\n",
       "0            59758                  23               142779   \n",
       "1           162043                  42               234381   \n",
       "2            67049                  66               346854   \n",
       "3            96890                  77               388030   \n",
       "4            89908                  99               474413   \n",
       "\n",
       "   ordersCummulativeB  revenueCummulativeB  visitorsPerDateA  \\\n",
       "0                  17                59758               719   \n",
       "1                  40               221801               619   \n",
       "2                  54               288850               507   \n",
       "3                  68               385740               717   \n",
       "4                  89               475648               756   \n",
       "\n",
       "   visitorsPerDateB  visitorsCummulativeA  visitorsCummulativeB  \n",
       "0               713                   719                   713  \n",
       "1               581                  1338                  1294  \n",
       "2               509                  1845                  1803  \n",
       "3               770                  2562                  2573  \n",
       "4               707                  3318                  3280  "
      ]
     },
     "execution_count": 38,
     "metadata": {},
     "output_type": "execute_result"
    }
   ],
   "source": [
    "#\n",
    "visitors_a_daily = visitors[visitors['group'] == 'A'][['date', 'visitors']]\n",
    "\n",
    "visitors_a_cummulative = visitors_a_daily.apply(\n",
    "    lambda x: visitors_a_daily[visitors_a_daily['date'] <= x['date']].agg(\n",
    "        {'date': 'max', 'visitors_per_date_a': 'sum'}\n",
    "    ),\n",
    "    axis=1,\n",
    ")\n",
    "visitors_a_cummulative.columns = ['date', 'visitors_cummulative_a']\n",
    "\n",
    "visitors_b_daily = visitors[visitors['group'] == 'B'][['date', 'visitors']]\n",
    "visitors_b_daily.columns = ['date', 'visitors_per_date_b']\n",
    "\n",
    "visitors_b_cummulative = visitors_b_daily.apply(\n",
    "    lambda x: visitors_b_daily[visitors_b_daily['date'] <= x['date']].agg(\n",
    "        {'date': 'max', 'visitors_per_date_b': 'sum'}\n",
    "    ),\n",
    "    axis=1,\n",
    ")\n",
    "visitors_b_cummulative.columns = ['date', 'visitors_cummulative_b']\n",
    "\n",
    "orders_a_daily = (\n",
    "    orders[orders['group'] == 'A'][['date', 'transaction_id', 'visitor_id', 'revenue']]\n",
    "    .groupby('date', as_index=False)\n",
    "    .agg({'transaction_id': pd.Series.nunique, 'revenue': 'sum'})\n",
    ")\n",
    "orders_a_daily.columns = ['date', 'orders_per_date_a', 'revenue_per_date_a']\n",
    "\n",
    "orders_a_cummulative = orders_a_daily.apply(\n",
    "    lambda x: orders_a_daily[orders_a_daily['date'] <= x['date']].agg(\n",
    "        {'date': 'max', 'orders_per_date_a': 'sum', 'revenue_per_date_a': 'sum'}\n",
    "    ),\n",
    "    axis=1,\n",
    ").sort_values(by=['date'])\n",
    "orders_a_cummulative.columns = [\n",
    "    'date',\n",
    "    'orders_cummulative_a',\n",
    "    'revenue_cummulative_a',\n",
    "]\n",
    "\n",
    "orders_b_daily = (\n",
    "    orders[orders['group'] == 'B'][['date', 'transaction_id', 'visitor_id', 'revenue']]\n",
    "    .groupby('date', as_index=False)\n",
    "    .agg({'transaction_id': pd.Series.nunique, 'revenue': 'sum'})\n",
    ")\n",
    "orders_b_daily.columns = ['date', 'orders_per_date_b', 'revenue_per_date_b']\n",
    "\n",
    "orders_b_cummulative = orders_b_daily.apply(\n",
    "    lambda x: orders_b_daily[orders_b_daily['date'] <= x['date']].agg(\n",
    "        {'date': 'max', 'orders_per_date_b': 'sum', 'revenue_per_date_b': 'sum'}\n",
    "    ),\n",
    "    axis=1,\n",
    ").sort_values(by=['date'])\n",
    "ordersBCummulative.columns = [\n",
    "    'date',\n",
    "    'orders_cummulative_b',\n",
    "    'revenue_cummulative_b',\n",
    "]\n",
    "\n",
    "df = (\n",
    "    orders_a_daily.merge(\n",
    "        orders_b_daily, left_on='date', right_on='date', how='left'\n",
    "    )\n",
    "    .merge(orders_a_cummulative, left_on='date', right_on='date', how='left')\n",
    "    .merge(orders_b_cummulative, left_on='date', right_on='date', how='left')\n",
    "    .merge(visitors_a_daily, left_on='date', right_on='date', how='left')\n",
    "    .merge(visitors_b_daily, left_on='date', right_on='date', how='left')\n",
    "    .merge(visitors_a_cummulative, left_on='date', right_on='date', how='left')\n",
    "    .merge(visitors_b_cummulative, left_on='date', right_on='date', how='left')\n",
    ")\n",
    "\n",
    "df.head()"
   ]
  },
  {
   "cell_type": "markdown",
   "metadata": {},
   "source": [
    "<div class=\"alert alert-success\"; style=\"border-left: 7px solid green\">\n",
    "<font size=\"4\"><b>Комментарий ревьюера 🚀</b></font>\n",
    "    <br />\n",
    "    <font size=\"3\", color = \"black\">\n",
    "    <br /> Молодец! Верно получен финальный датафрейм с необходимыми расчетами. Абсолютно грамотное соединение таблиц между собой\n",
    "     <br />\n",
    "    </font>\n",
    "\n",
    "</div>"
   ]
  },
  {
   "cell_type": "code",
   "execution_count": 39,
   "metadata": {},
   "outputs": [],
   "source": [
    "ordersByUsersA = (\n",
    "    orders[orders['group'] == 'A']\n",
    "    .groupby('visitorId', as_index=False)\n",
    "    .agg({'transactionId': 'nunique'})\n",
    ")\n",
    "ordersByUsersA.columns = ['userId', 'orders']\n",
    "\n",
    "ordersByUsersB = (\n",
    "    orders[orders['group'] == 'B']\n",
    "    .groupby('visitorId', as_index=False)\n",
    "    .agg({'transactionId': 'nunique'})\n",
    ")\n",
    "ordersByUsersB.columns = ['userId', 'orders']"
   ]
  },
  {
   "cell_type": "code",
   "execution_count": 40,
   "metadata": {},
   "outputs": [],
   "source": [
    "sampleA = pd.concat(\n",
    "    [ordersByUsersA['orders'],\n",
    "     pd.Series(0, index=np.arange(df['visitorsPerDateA'].sum()\n",
    "                                  - len(ordersByUsersA['orders'])), name='orders')],axis=0)\n",
    "\n",
    "sampleB = pd.concat(\n",
    "    [ordersByUsersB['orders'],\n",
    "     pd.Series(0, index=np.arange(df['visitorsPerDateB'].sum()\n",
    "                                  - len(ordersByUsersB['orders'])), name='orders')],axis=0)"
   ]
  },
  {
   "cell_type": "markdown",
   "metadata": {},
   "source": [
    "Сформулируем гипотезы.\n",
    "\n",
    "Нулевая: различий в конверсии между группами нет.\n",
    "\n",
    "Альтернативная: различия в конверсии между группами есть."
   ]
  },
  {
   "cell_type": "markdown",
   "metadata": {},
   "source": [
    "<div class=\"alert alert-success\"; style=\"border-left: 7px solid green\">\n",
    "<font size=\"4\"><b>Комментарий ревьюера 🚀</b></font>\n",
    "    <br />\n",
    "    <font size=\"3\", color = \"black\">\n",
    "    <br /> Верная формулировка гипотез!\n",
    "     <br />\n",
    "    </font>\n",
    "\n",
    "</div>"
   ]
  },
  {
   "cell_type": "code",
   "execution_count": 41,
   "metadata": {},
   "outputs": [
    {
     "data": {
      "text/plain": [
       "0.011"
      ]
     },
     "execution_count": 41,
     "metadata": {},
     "output_type": "execute_result"
    }
   ],
   "source": [
    "# применим статистический критерий Манна-Уитни\n",
    "p_value = round(stats.mannwhitneyu(sampleA, sampleB)[1], 3)\n",
    "p_value"
   ]
  },
  {
   "cell_type": "markdown",
   "metadata": {},
   "source": [
    "**Вывод** По «сырым» данным различия в конверсии групп A и B есть. p-value = 0.011 меньше 0.05. Значит, нулевую гипотезу о том, что статистически значимых различий в конверсии между группами нет, отвергаем."
   ]
  },
  {
   "cell_type": "code",
   "execution_count": 42,
   "metadata": {},
   "outputs": [
    {
     "data": {
      "text/plain": [
       "'0.160'"
      ]
     },
     "execution_count": 42,
     "metadata": {},
     "output_type": "execute_result"
    }
   ],
   "source": [
    "# относительный прирост конверсии группы B\n",
    "\"{0:.3f}\".format(sampleB.mean() / sampleA.mean() - 1)"
   ]
  },
  {
   "cell_type": "markdown",
   "metadata": {},
   "source": [
    "**Вывод** Относительный выйгрыш группы B равен 16%."
   ]
  },
  {
   "cell_type": "markdown",
   "metadata": {},
   "source": [
    "<div class=\"alert alert-success\"; style=\"border-left: 7px solid green\">\n",
    "<font size=\"4\"><b>Комментарий ревьюера 🚀</b></font>\n",
    "    <br />\n",
    "    <font size=\"3\", color = \"black\">\n",
    "    <br /> Супер! Получены верные результаты по расчетам стат теста и прироста. Нравится вывод и объяснение полученных значений\n",
    "     <br />\n",
    "    </font>\n",
    "\n",
    "</div>"
   ]
  },
  {
   "cell_type": "markdown",
   "metadata": {},
   "source": [
    "<div class=\"alert alert-warning\" ; style=\"border-left: 7px solid orange\">\n",
    "<font size=\"4\"><b>Комментарий ревьюера 👀</b></font>\n",
    "    <br />\n",
    "    <font size=\"3\", color = \"black\">\n",
    "    <br /> Сравнение p-value с alpha следует делать в самом коде. Советую использовать условный оператор, чтобы код сразу говорил нам, отвергаем или не можем отвергнуть нулевую гипотезу. Надо бы добавить во всех проверках\n",
    "    <br />\n",
    "    </font>\n",
    "\n",
    "</div>"
   ]
  },
  {
   "cell_type": "code",
   "execution_count": 43,
   "metadata": {},
   "outputs": [
    {
     "name": "stdout",
     "output_type": "stream",
     "text": [
      "Отвеграем нулевую гипотезу\n"
     ]
    }
   ],
   "source": [
    "alpha = .05\n",
    "if p_value < alpha:\n",
    "  print('Отвеграем нулевую гипотезу')\n",
    "else:\n",
    "  print('Не получилось отвергнуть нулевую гипотезу')  "
   ]
  },
  {
   "cell_type": "markdown",
   "metadata": {},
   "source": [
    "<div class=\"alert alert-success\"; style=\"border-left: 7px solid green\">\n",
    "<font size=\"4\"><b>Комментарий ревьюера 🚀 v2</b></font>\n",
    "    <br />\n",
    "    <font size=\"3\", color = \"black\">\n",
    "    <br /> Спасибо! Принимается\n",
    "    </font>\n",
    "\n",
    "</div>"
   ]
  },
  {
   "cell_type": "markdown",
   "metadata": {},
   "source": [
    "### Посчитайте статистическую значимость различий в среднем чеке заказа между группами по «сырым» данным"
   ]
  },
  {
   "cell_type": "markdown",
   "metadata": {},
   "source": [
    "Нулевая гипотеза: различий в среднем чеке между группами нет.\n",
    "\n",
    "Альтернативная гипотеза: различия в среднем чеке между группами есть."
   ]
  },
  {
   "cell_type": "markdown",
   "metadata": {},
   "source": [
    "<div class=\"alert alert-success\"; style=\"border-left: 7px solid green\">\n",
    "<font size=\"4\"><b>Комментарий ревьюера 🚀</b></font>\n",
    "    <br />\n",
    "    <font size=\"3\", color = \"black\">\n",
    "    <br /> Верная формулировка гипотез!\n",
    "     <br />\n",
    "    </font>\n",
    "\n",
    "</div>"
   ]
  },
  {
   "cell_type": "code",
   "execution_count": 44,
   "metadata": {},
   "outputs": [
    {
     "data": {
      "text/plain": [
       "0.829"
      ]
     },
     "execution_count": 44,
     "metadata": {},
     "output_type": "execute_result"
    }
   ],
   "source": [
    "# применим статистический критерий Манна-Уитни\n",
    "p_value = round(stats.mannwhitneyu(orders[orders['group']=='A']['revenue'],\n",
    "                                    orders[orders['group']=='B']['revenue'])[1], 3)\n",
    "p_value"
   ]
  },
  {
   "cell_type": "markdown",
   "metadata": {},
   "source": [
    "**Вывод** P-value значительно больше 0.05. Значит, причин отвергать нулевую гипотезу и считать, что в среднем чеке есть различия, нет."
   ]
  },
  {
   "cell_type": "code",
   "execution_count": 45,
   "metadata": {},
   "outputs": [
    {
     "data": {
      "text/plain": [
       "'0.287'"
      ]
     },
     "execution_count": 45,
     "metadata": {},
     "output_type": "execute_result"
    }
   ],
   "source": [
    "# найдём относительные различия в среднем чеке между группами\n",
    "\"{0:.3f}\".format(orders[orders['group']=='B']['revenue'].mean()\n",
    "                 /orders[orders['group']=='A']['revenue'].mean()-1)"
   ]
  },
  {
   "cell_type": "code",
   "execution_count": 46,
   "metadata": {},
   "outputs": [
    {
     "name": "stdout",
     "output_type": "stream",
     "text": [
      "Не получилось отвергнуть нулевую гипотезу\n"
     ]
    }
   ],
   "source": [
    "alpha = .05\n",
    "if p_value < alpha:\n",
    "  print('Отвеграем нулевую гипотезу')\n",
    "else:\n",
    "  print('Не получилось отвергнуть нулевую гипотезу')  "
   ]
  },
  {
   "cell_type": "markdown",
   "metadata": {},
   "source": [
    "**Вывод** Средний чек группы B значительно выше среднего чека группы A."
   ]
  },
  {
   "cell_type": "markdown",
   "metadata": {},
   "source": [
    "<div class=\"alert alert-success\"; style=\"border-left: 7px solid green\">\n",
    "<font size=\"4\"><b>Комментарий ревьюера 🚀</b></font>\n",
    "    <br />\n",
    "    <font size=\"3\", color = \"black\">\n",
    "    <br /> Правильная реализация стат теста! Верный вывод\n",
    "     <br />\n",
    "    </font>\n",
    "\n",
    "</div>"
   ]
  },
  {
   "cell_type": "markdown",
   "metadata": {},
   "source": [
    "<div class=\"alert alert-warning\" ; style=\"border-left: 7px solid orange\">\n",
    "<font size=\"4\"><b>Комментарий ревьюера 👀</b></font>\n",
    "    <br />\n",
    "    <font size=\"3\", color = \"black\">\n",
    "    <br /> Мы не смогли отвергнуть нулевую гипотез, то есть срдение должны быть приблизительно равны. Но тут мы видим прирост в пользу группы В в 26%. Стоит объяснить этот момент\n",
    "    <br />\n",
    "    </font>\n",
    "\n",
    "</div>"
   ]
  },
  {
   "cell_type": "markdown",
   "metadata": {},
   "source": [
    "<div class=\"alert alert-block alert-info\">\n",
    "  \n",
    "  <b>Комментарий cтудента</b>\n",
    "    \n",
    " Тест говорит что различий в среднем чеке групп - нет, но при этом относительное различие показывает, что средний чек группы В лучше на 28.7%. Скорее всего это связать с выбросами в данных, есть очень крупные заказы в группе В.\n",
    "</div>"
   ]
  },
  {
   "cell_type": "markdown",
   "metadata": {},
   "source": [
    "<div class=\"alert alert-success\"; style=\"border-left: 7px solid green\">\n",
    "<font size=\"4\"><b>Комментарий ревьюера 🚀 v2</b></font>\n",
    "    <br />\n",
    "    <font size=\"3\", color = \"black\">\n",
    "    <br /> Хорошее предположение. Принимается\n",
    "    </font>\n",
    "\n",
    "</div>"
   ]
  },
  {
   "cell_type": "markdown",
   "metadata": {},
   "source": [
    "### Посчитайте статистическую значимость различий в конверсии между группами по «очищенным» данным"
   ]
  },
  {
   "cell_type": "code",
   "execution_count": 60,
   "metadata": {},
   "outputs": [
    {
     "name": "stdout",
     "output_type": "stream",
     "text": [
      "568     113298937\n",
      "1099    148427295\n",
      "928     204675465\n",
      "33      249864742\n",
      "684     358944393\n",
      "dtype: int64\n",
      "86\n"
     ]
    }
   ],
   "source": [
    "# сколько всего аномальных пользователей\n",
    "usersWithManyOrders = pd.concat(\n",
    "    [\n",
    "        ordersByUsersA[ordersByUsersA['orders'] > orders_per95]['userId'],\n",
    "        ordersByUsersB[ordersByUsersB['orders'] > orders_per95]['userId'],\n",
    "    ],\n",
    "    axis=0,\n",
    ")\n",
    "usersWithExpensiveOrders = orders[orders['revenue'] > revenue_per95]['visitorId']\n",
    "abnormalUsers = (\n",
    "    pd.concat([usersWithManyOrders, usersWithExpensiveOrders], axis=0)\n",
    "    .drop_duplicates()\n",
    "    .sort_values()\n",
    ")\n",
    "print(abnormalUsers.head(5))\n",
    "print(abnormalUsers.shape[0])"
   ]
  },
  {
   "cell_type": "markdown",
   "metadata": {},
   "source": [
    "<div class=\"alert alert-success\"; style=\"border-left: 7px solid green\">\n",
    "<font size=\"4\"><b>Комментарий ревьюера 🚀</b></font>\n",
    "    <br />\n",
    "    <font size=\"3\", color = \"black\">\n",
    "    <br /> Отличное выделение аномальных пользователей\n",
    "     <br />\n",
    "    </font>\n",
    "\n",
    "</div>"
   ]
  },
  {
   "cell_type": "markdown",
   "metadata": {},
   "source": [
    "<div class=\"alert alert-warning\" ; style=\"border-left: 7px solid orange\">\n",
    "<font size=\"4\"><b>Комментарий ревьюера 👀</b></font>\n",
    "    <br />\n",
    "    <font size=\"3\", color = \"black\">\n",
    "    <br /> Следует делать расчет с помощью кода (посчитать перцентили) и не вписывать значения вручную. Это приводит к отстутствию автоматизации, что может привести к ошибке\n",
    "    <br />\n",
    "    </font>\n",
    "\n",
    "</div>"
   ]
  },
  {
   "cell_type": "markdown",
   "metadata": {},
   "source": [
    "<div class=\"alert alert-success\"; style=\"border-left: 7px solid green\">\n",
    "<font size=\"4\"><b>Комментарий ревьюера 🚀 v2</b></font>\n",
    "    <br />\n",
    "    <font size=\"3\", color = \"black\">\n",
    "    <br /> Супер, все верно\n",
    "    </font>\n",
    "\n",
    "</div>"
   ]
  },
  {
   "cell_type": "markdown",
   "metadata": {},
   "source": [
    "Таких пользователей 86"
   ]
  },
  {
   "cell_type": "code",
   "execution_count": 48,
   "metadata": {},
   "outputs": [],
   "source": [
    "sampleAFiltered = pd.concat(\n",
    "    [\n",
    "        ordersByUsersA[\n",
    "            np.logical_not(ordersByUsersA['userId'].isin(abnormalUsers))\n",
    "        ]['orders'],\n",
    "        pd.Series(\n",
    "            0,\n",
    "            index=np.arange(\n",
    "                df['visitorsPerDateA'].sum() - len(ordersByUsersA['orders'])\n",
    "            ),\n",
    "            name='orders',\n",
    "        ),\n",
    "    ],\n",
    "    axis=0,\n",
    ")\n",
    "\n",
    "sampleBFiltered = pd.concat(\n",
    "    [\n",
    "        ordersByUsersB[\n",
    "            np.logical_not(ordersByUsersB['userId'].isin(abnormalUsers))\n",
    "        ]['orders'],\n",
    "        pd.Series(\n",
    "            0,\n",
    "            index=np.arange(\n",
    "                df['visitorsPerDateB'].sum() - len(ordersByUsersB['orders'])\n",
    "            ),\n",
    "            name='orders',\n",
    "        ),\n",
    "    ],\n",
    "    axis=0,\n",
    ")"
   ]
  },
  {
   "cell_type": "code",
   "execution_count": 53,
   "metadata": {},
   "outputs": [
    {
     "data": {
      "text/plain": [
       "0.009"
      ]
     },
     "execution_count": 53,
     "metadata": {},
     "output_type": "execute_result"
    }
   ],
   "source": [
    "# применим статистический критерий Манна-Уитни\n",
    "p_value = round(stats.mannwhitneyu(sampleAFiltered, sampleBFiltered)[1], 3)\n",
    "p_value"
   ]
  },
  {
   "cell_type": "code",
   "execution_count": 54,
   "metadata": {},
   "outputs": [
    {
     "data": {
      "text/plain": [
       "'0.189'"
      ]
     },
     "execution_count": 54,
     "metadata": {},
     "output_type": "execute_result"
    }
   ],
   "source": [
    "'{0:.3f}'.format(sampleBFiltered.mean()/sampleAFiltered.mean()-1)"
   ]
  },
  {
   "cell_type": "code",
   "execution_count": 55,
   "metadata": {},
   "outputs": [
    {
     "name": "stdout",
     "output_type": "stream",
     "text": [
      "Отвеграем нулевую гипотезу\n"
     ]
    }
   ],
   "source": [
    "alpha = .05\n",
    "if p_value < alpha:\n",
    "  print('Отвеграем нулевую гипотезу')\n",
    "else:\n",
    "  print('Не получилось отвергнуть нулевую гипотезу')  "
   ]
  },
  {
   "cell_type": "markdown",
   "metadata": {},
   "source": [
    "**Вывод** Результаты по конверсии практически не изменились."
   ]
  },
  {
   "cell_type": "markdown",
   "metadata": {},
   "source": [
    "<div class=\"alert alert-success\"; style=\"border-left: 7px solid green\">\n",
    "<font size=\"4\"><b>Комментарий ревьюера 🚀</b></font>\n",
    "    <br />\n",
    "    <font size=\"3\", color = \"black\">\n",
    "    <br /> Верная логика реализации теста. Правильные результаты!\n",
    "     <br />\n",
    "    </font>\n",
    "\n",
    "</div>"
   ]
  },
  {
   "cell_type": "markdown",
   "metadata": {},
   "source": [
    "<div class=\"alert alert-danger\"; style=\"border-left: 7px solid red\">\n",
    "<font size=\"4\"><b>Комментарий ревьюера 🦔 </b></font>\n",
    "    <br /> \n",
    "    <font size=\"3\", color = \"black\">\n",
    "<br />\n",
    "    Нет вывода по нулевой гипотезе: отвергаем или не можем отвергнуть\n",
    "    <br />\n",
    "    </font>\n",
    "\n",
    "</div>"
   ]
  },
  {
   "cell_type": "markdown",
   "metadata": {},
   "source": [
    "<div class=\"alert alert-block alert-info\">\n",
    "  \n",
    "  <b>Комментарий cтудента</b>\n",
    "    \n",
    " Нулевая гипотеза отвергнута.\n",
    "</div>"
   ]
  },
  {
   "cell_type": "markdown",
   "metadata": {},
   "source": [
    "<div class=\"alert alert-success\"; style=\"border-left: 7px solid green\">\n",
    "<font size=\"4\"><b>Комментарий ревьюера 🚀 v2</b></font>\n",
    "    <br />\n",
    "    <font size=\"3\", color = \"black\">\n",
    "    <br /> Спасибо! Принимается\n",
    "    </font>\n",
    "\n",
    "</div>"
   ]
  },
  {
   "cell_type": "markdown",
   "metadata": {},
   "source": [
    "### Посчитайте статистическую значимость различий в среднем чеке заказа между группами по «очищенным» данным"
   ]
  },
  {
   "cell_type": "code",
   "execution_count": 58,
   "metadata": {},
   "outputs": [
    {
     "name": "stdout",
     "output_type": "stream",
     "text": [
      "0.762\n",
      "-0.022\n"
     ]
    }
   ],
   "source": [
    "p_value = round(\n",
    "        stats.mannwhitneyu(\n",
    "            orders[\n",
    "                np.logical_and(\n",
    "                    orders['group'] == 'A',\n",
    "                    np.logical_not(orders['visitorId'].isin(abnormalUsers)),\n",
    "                )\n",
    "            ]['revenue'],\n",
    "            orders[\n",
    "                np.logical_and(\n",
    "                    orders['group'] == 'B',\n",
    "                    np.logical_not(orders['visitorId'].isin(abnormalUsers)),\n",
    "                )\n",
    "            ]['revenue'],\n",
    "        )[1], 3\n",
    "    )\n",
    "print(p_value)\n",
    "print(\n",
    "    \"{0:.3f}\".format(\n",
    "        orders[\n",
    "            np.logical_and(\n",
    "                orders['group'] == 'B',\n",
    "                np.logical_not(orders['visitorId'].isin(abnormalUsers)),\n",
    "            )\n",
    "        ]['revenue'].mean()\n",
    "        / orders[\n",
    "            np.logical_and(\n",
    "                orders['group'] == 'A',\n",
    "                np.logical_not(orders['visitorId'].isin(abnormalUsers)),\n",
    "            )\n",
    "        ]['revenue'].mean()\n",
    "        - 1\n",
    "    )\n",
    ")\n"
   ]
  },
  {
   "cell_type": "markdown",
   "metadata": {},
   "source": [
    "**Вывод** P-value увеличился, а разница между сегментами стала противоположной, средний чек группы В уступает группе А на 2%."
   ]
  },
  {
   "cell_type": "markdown",
   "metadata": {},
   "source": [
    "<div class=\"alert alert-success\"; style=\"border-left: 7px solid green\">\n",
    "<font size=\"4\"><b>Комментарий ревьюера 🚀</b></font>\n",
    "    <br />\n",
    "    <font size=\"3\", color = \"black\">\n",
    "    <br /> Абсолютная верная логика реализации стат теста и подсчета относительного увеличения среднего чека\n",
    "     <br />\n",
    "    </font>\n",
    "\n",
    "</div>"
   ]
  },
  {
   "cell_type": "markdown",
   "metadata": {},
   "source": [
    "<div class=\"alert alert-danger\"; style=\"border-left: 7px solid red\">\n",
    "<font size=\"4\"><b>Комментарий ревьюера 🦔 </b></font>\n",
    "    <br /> \n",
    "    <font size=\"3\", color = \"black\">\n",
    "<br />\n",
    "    Следует сделать вывод по гипотезам\n",
    "    <br />\n",
    "    </font>\n",
    "\n",
    "</div>"
   ]
  },
  {
   "cell_type": "code",
   "execution_count": 59,
   "metadata": {},
   "outputs": [
    {
     "name": "stdout",
     "output_type": "stream",
     "text": [
      "Не получилось отвергнуть нулевую гипотезу\n"
     ]
    }
   ],
   "source": [
    "alpha = .05\n",
    "if p_value < alpha:\n",
    "  print('Отвеграем нулевую гипотезу')\n",
    "else:\n",
    "  print('Не получилось отвергнуть нулевую гипотезу')  "
   ]
  },
  {
   "cell_type": "markdown",
   "metadata": {},
   "source": [
    "<div class=\"alert alert-block alert-info\">\n",
    "  \n",
    "  <b>Комментарий cтудента</b>\n",
    "    \n",
    " Не получилось отвергнуть нулевую гиротезу. Значимых различий в средних чеках групп нет, различия около 2% \n",
    "</div>"
   ]
  },
  {
   "cell_type": "markdown",
   "metadata": {},
   "source": [
    "## Примятие решение по результатам теста"
   ]
  },
  {
   "cell_type": "markdown",
   "metadata": {},
   "source": [
    "Имеющиеся факты:\n",
    "\n",
    "* Есть статистически значимые различия по конверсии между группами по «сырым», и по данным после фильтрации аномалий;\n",
    "* Нет статистически значимого различия по среднему чеку между группами ни по «сырым», ни по данным после фильтрации аномалий;\n",
    "* График различия конверсии между группами сообщает, что результаты группы B лучше группы A;\n",
    "* График различия среднего чека говорит о том, что результаты группы B лучше, но есть тенденция к снижению;\n",
    "\n",
    "Исходя из обнаруженных фактов, можно сделать вывод, что тест следует продолжить, получить больше данных, что бы понаблюдать за поведением среднего чека. Конверсия группы В заметно лучше конверсии группы А, средний чек говорит нам, что различий нет и после фильтрации данных, средний чек группы В показал ухудшение показателей."
   ]
  },
  {
   "cell_type": "markdown",
   "metadata": {},
   "source": [
    "<div class=\"alert alert-block alert-info\">\n",
    "  \n",
    "  <b>Комментарий cтудента</b>\n",
    "    \n",
    " Возможно, тест можно остановить и признать победу группы В.\n",
    "</div>"
   ]
  },
  {
   "cell_type": "markdown",
   "metadata": {},
   "source": [
    "<div class=\"alert alert-danger\"; style=\"border-left: 7px solid red\">\n",
    "<font size=\"4\"><b>Комментарий ревьюера 🦔 </b></font>\n",
    "    <br /> \n",
    "    <font size=\"3\", color = \"black\">\n",
    "<br />\n",
    "    Мы мы получили ухудшение по среднему чеку в 2%, в то время как конверсия повысилась на 17,3%. Конверсия и средний чек являются элементами получения выручки: выручка = количество посетителей * конверсию * средний чек. То есть при потере среднего чека в 2% мы все равно увеличиваем выручку. Кроме этого, продолжение теста - это дополнительные расходы, превышающие бюджета проведения теста, а так же увеличение времени принятия бизнес-решения. Поэтому требуется серьезная аргументация для продолжения теста\n",
    "    <br />\n",
    "    </font>\n",
    "\n",
    "</div>"
   ]
  }
 ],
 "metadata": {
  "ExecuteTimeLog": [
   {
    "duration": 533,
    "start_time": "2022-05-03T11:17:25.606Z"
   },
   {
    "duration": 14,
    "start_time": "2022-05-03T11:17:27.008Z"
   },
   {
    "duration": 30,
    "start_time": "2022-05-03T11:17:42.871Z"
   },
   {
    "duration": 21,
    "start_time": "2022-05-03T11:17:50.661Z"
   },
   {
    "duration": 20,
    "start_time": "2022-05-03T11:18:01.438Z"
   },
   {
    "duration": 21,
    "start_time": "2022-05-03T11:18:07.872Z"
   },
   {
    "duration": 20,
    "start_time": "2022-05-03T11:18:33.799Z"
   },
   {
    "duration": 17,
    "start_time": "2022-05-03T11:19:21.489Z"
   },
   {
    "duration": 5,
    "start_time": "2022-05-03T11:30:48.772Z"
   },
   {
    "duration": 12,
    "start_time": "2022-05-03T11:31:06.511Z"
   },
   {
    "duration": 16,
    "start_time": "2022-05-03T11:31:54.855Z"
   },
   {
    "duration": 5,
    "start_time": "2022-05-03T11:50:01.167Z"
   },
   {
    "duration": 15,
    "start_time": "2022-05-03T11:50:02.341Z"
   },
   {
    "duration": 6,
    "start_time": "2022-05-03T11:50:08.994Z"
   },
   {
    "duration": 16,
    "start_time": "2022-05-03T11:50:09.710Z"
   },
   {
    "duration": 5,
    "start_time": "2022-05-03T11:51:29.540Z"
   },
   {
    "duration": 15,
    "start_time": "2022-05-03T11:51:38.572Z"
   },
   {
    "duration": 4,
    "start_time": "2022-05-03T11:52:08.740Z"
   },
   {
    "duration": 25,
    "start_time": "2022-05-03T11:52:09.227Z"
   },
   {
    "duration": 15,
    "start_time": "2022-05-03T11:52:10.617Z"
   },
   {
    "duration": 4,
    "start_time": "2022-05-03T11:52:12.119Z"
   },
   {
    "duration": 14,
    "start_time": "2022-05-03T11:52:13.625Z"
   },
   {
    "duration": 7,
    "start_time": "2022-05-03T11:52:28.363Z"
   },
   {
    "duration": 15,
    "start_time": "2022-05-03T11:52:30.522Z"
   },
   {
    "duration": 6,
    "start_time": "2022-05-03T11:54:44.144Z"
   },
   {
    "duration": 17,
    "start_time": "2022-05-03T11:54:49.796Z"
   },
   {
    "duration": 17,
    "start_time": "2022-05-03T11:55:23.006Z"
   },
   {
    "duration": 6,
    "start_time": "2022-05-03T11:55:33.066Z"
   },
   {
    "duration": 17,
    "start_time": "2022-05-03T11:55:34.799Z"
   },
   {
    "duration": 5,
    "start_time": "2022-05-03T11:56:59.401Z"
   },
   {
    "duration": 4,
    "start_time": "2022-05-03T11:57:24.105Z"
   },
   {
    "duration": 20,
    "start_time": "2022-05-03T11:57:24.520Z"
   },
   {
    "duration": 4,
    "start_time": "2022-05-03T11:57:25.624Z"
   },
   {
    "duration": 5,
    "start_time": "2022-05-03T11:57:27.902Z"
   },
   {
    "duration": 15,
    "start_time": "2022-05-03T11:57:32.879Z"
   },
   {
    "duration": 7,
    "start_time": "2022-05-03T11:57:45.071Z"
   },
   {
    "duration": 15,
    "start_time": "2022-05-03T11:57:45.864Z"
   },
   {
    "duration": 7,
    "start_time": "2022-05-03T11:57:49.019Z"
   },
   {
    "duration": 19,
    "start_time": "2022-05-03T11:57:49.737Z"
   },
   {
    "duration": 673,
    "start_time": "2022-05-03T12:19:04.078Z"
   },
   {
    "duration": 755,
    "start_time": "2022-05-03T12:26:11.450Z"
   },
   {
    "duration": 1441,
    "start_time": "2022-05-03T12:30:51.892Z"
   },
   {
    "duration": 60,
    "start_time": "2022-05-03T13:28:56.302Z"
   },
   {
    "duration": 15,
    "start_time": "2022-05-03T13:29:47.965Z"
   },
   {
    "duration": 18,
    "start_time": "2022-05-03T13:30:13.172Z"
   },
   {
    "duration": 11,
    "start_time": "2022-05-03T13:30:38.846Z"
   },
   {
    "duration": 16,
    "start_time": "2022-05-03T13:30:51.773Z"
   },
   {
    "duration": 67,
    "start_time": "2022-05-03T13:32:16.414Z"
   },
   {
    "duration": 601,
    "start_time": "2022-05-03T13:46:31.299Z"
   },
   {
    "duration": 574,
    "start_time": "2022-05-03T13:49:32.931Z"
   },
   {
    "duration": 580,
    "start_time": "2022-05-03T13:53:48.164Z"
   },
   {
    "duration": 1095,
    "start_time": "2022-05-03T13:54:10.988Z"
   },
   {
    "duration": 576,
    "start_time": "2022-05-03T14:23:49.075Z"
   },
   {
    "duration": 586,
    "start_time": "2022-05-03T14:24:28.942Z"
   },
   {
    "duration": 31,
    "start_time": "2022-05-03T14:25:36.249Z"
   },
   {
    "duration": 12,
    "start_time": "2022-05-03T14:25:38.051Z"
   },
   {
    "duration": 15,
    "start_time": "2022-05-03T14:25:42.712Z"
   },
   {
    "duration": 10,
    "start_time": "2022-05-03T14:25:44.816Z"
   },
   {
    "duration": 17,
    "start_time": "2022-05-03T14:25:46.559Z"
   },
   {
    "duration": 21,
    "start_time": "2022-05-03T14:25:48.999Z"
   },
   {
    "duration": 8,
    "start_time": "2022-05-03T14:25:53.467Z"
   },
   {
    "duration": 39,
    "start_time": "2022-05-03T14:25:54.101Z"
   },
   {
    "duration": 275,
    "start_time": "2022-05-03T14:27:50.171Z"
   },
   {
    "duration": 230,
    "start_time": "2022-05-03T14:27:51.939Z"
   },
   {
    "duration": 10,
    "start_time": "2022-05-03T14:27:54.473Z"
   },
   {
    "duration": 14,
    "start_time": "2022-05-03T14:27:58.378Z"
   },
   {
    "duration": 13,
    "start_time": "2022-05-03T14:28:12.873Z"
   },
   {
    "duration": 484,
    "start_time": "2022-05-03T14:28:23.925Z"
   },
   {
    "duration": 260,
    "start_time": "2022-05-03T14:36:44.882Z"
   },
   {
    "duration": 386,
    "start_time": "2022-05-03T14:36:47.374Z"
   },
   {
    "duration": 467,
    "start_time": "2022-05-03T14:39:48.640Z"
   },
   {
    "duration": 351,
    "start_time": "2022-05-03T14:40:47.306Z"
   },
   {
    "duration": 502,
    "start_time": "2022-05-03T14:45:08.057Z"
   },
   {
    "duration": 457,
    "start_time": "2022-05-03T14:47:03.606Z"
   },
   {
    "duration": 417,
    "start_time": "2022-05-03T14:49:30.535Z"
   },
   {
    "duration": 575,
    "start_time": "2022-05-03T14:49:40.690Z"
   },
   {
    "duration": 545,
    "start_time": "2022-05-03T14:50:04.049Z"
   },
   {
    "duration": 441,
    "start_time": "2022-05-03T14:50:44.416Z"
   },
   {
    "duration": 311,
    "start_time": "2022-05-03T14:52:17.336Z"
   },
   {
    "duration": 263,
    "start_time": "2022-05-03T14:53:29.451Z"
   },
   {
    "duration": 498,
    "start_time": "2022-05-03T14:53:44.617Z"
   },
   {
    "duration": 259,
    "start_time": "2022-05-03T14:53:55.665Z"
   },
   {
    "duration": 277,
    "start_time": "2022-05-03T14:54:04.641Z"
   },
   {
    "duration": 254,
    "start_time": "2022-05-03T14:54:10.689Z"
   },
   {
    "duration": 452,
    "start_time": "2022-05-03T14:54:21.762Z"
   },
   {
    "duration": 266,
    "start_time": "2022-05-03T14:54:38.969Z"
   },
   {
    "duration": 299,
    "start_time": "2022-05-03T14:54:51.201Z"
   },
   {
    "duration": 322,
    "start_time": "2022-05-03T14:54:59.411Z"
   },
   {
    "duration": 424,
    "start_time": "2022-05-03T14:55:24.061Z"
   },
   {
    "duration": 419,
    "start_time": "2022-05-03T14:55:34.955Z"
   },
   {
    "duration": 421,
    "start_time": "2022-05-03T14:56:03.719Z"
   },
   {
    "duration": 10,
    "start_time": "2022-05-03T15:03:46.440Z"
   },
   {
    "duration": 180,
    "start_time": "2022-05-03T15:03:47.374Z"
   },
   {
    "duration": 7,
    "start_time": "2022-05-03T15:05:18.976Z"
   },
   {
    "duration": 1847,
    "start_time": "2022-05-03T15:06:24.168Z"
   },
   {
    "duration": 320,
    "start_time": "2022-05-03T15:08:08.353Z"
   },
   {
    "duration": 7,
    "start_time": "2022-05-03T15:09:29.331Z"
   },
   {
    "duration": 150,
    "start_time": "2022-05-03T15:20:45.351Z"
   },
   {
    "duration": 208,
    "start_time": "2022-05-03T15:21:15.834Z"
   },
   {
    "duration": 331,
    "start_time": "2022-05-03T15:22:47.651Z"
   },
   {
    "duration": 186,
    "start_time": "2022-05-03T15:28:19.912Z"
   },
   {
    "duration": 167,
    "start_time": "2022-05-03T15:29:41.241Z"
   },
   {
    "duration": 348,
    "start_time": "2022-05-03T15:31:05.690Z"
   },
   {
    "duration": 20,
    "start_time": "2022-05-03T15:31:33.408Z"
   },
   {
    "duration": 16,
    "start_time": "2022-05-03T15:32:43.298Z"
   },
   {
    "duration": 2028,
    "start_time": "2022-05-03T15:33:32.962Z"
   },
   {
    "duration": 9,
    "start_time": "2022-05-03T15:34:32.707Z"
   },
   {
    "duration": 29,
    "start_time": "2022-05-03T15:36:55.240Z"
   },
   {
    "duration": 7,
    "start_time": "2022-05-03T15:36:56.163Z"
   },
   {
    "duration": 21,
    "start_time": "2022-05-03T15:36:58.054Z"
   },
   {
    "duration": 13,
    "start_time": "2022-05-03T15:37:11.706Z"
   },
   {
    "duration": 11,
    "start_time": "2022-05-03T15:37:12.617Z"
   },
   {
    "duration": 13,
    "start_time": "2022-05-03T15:38:19.895Z"
   },
   {
    "duration": 17,
    "start_time": "2022-05-03T15:38:19.911Z"
   },
   {
    "duration": 1742,
    "start_time": "2022-05-03T15:40:10.301Z"
   },
   {
    "duration": 2091,
    "start_time": "2022-05-03T15:40:42.935Z"
   },
   {
    "duration": 14,
    "start_time": "2022-05-03T15:42:03.337Z"
   },
   {
    "duration": 11,
    "start_time": "2022-05-03T15:43:14.376Z"
   },
   {
    "duration": 11,
    "start_time": "2022-05-03T15:43:15.759Z"
   },
   {
    "duration": 1752,
    "start_time": "2022-05-03T15:43:22.568Z"
   },
   {
    "duration": 0,
    "start_time": "2022-05-03T15:43:24.323Z"
   },
   {
    "duration": 12,
    "start_time": "2022-05-03T15:43:26.311Z"
   },
   {
    "duration": 12,
    "start_time": "2022-05-03T15:44:22.173Z"
   },
   {
    "duration": 29,
    "start_time": "2022-05-03T15:44:23.551Z"
   },
   {
    "duration": 7,
    "start_time": "2022-05-03T15:44:25.416Z"
   },
   {
    "duration": 2145,
    "start_time": "2022-05-03T15:45:07.335Z"
   },
   {
    "duration": 29,
    "start_time": "2022-05-03T15:46:04.138Z"
   },
   {
    "duration": 1045,
    "start_time": "2022-05-04T10:02:39.061Z"
   },
   {
    "duration": 26,
    "start_time": "2022-05-04T10:02:40.108Z"
   },
   {
    "duration": 4,
    "start_time": "2022-05-04T10:02:40.207Z"
   },
   {
    "duration": 5,
    "start_time": "2022-05-04T10:02:40.861Z"
   },
   {
    "duration": 17,
    "start_time": "2022-05-04T10:02:41.756Z"
   },
   {
    "duration": 10,
    "start_time": "2022-05-04T10:02:43.907Z"
   },
   {
    "duration": 16,
    "start_time": "2022-05-04T10:02:44.633Z"
   },
   {
    "duration": 6,
    "start_time": "2022-05-04T10:02:47.641Z"
   },
   {
    "duration": 17,
    "start_time": "2022-05-04T10:02:48.451Z"
   },
   {
    "duration": 1428,
    "start_time": "2022-05-04T10:02:50.204Z"
   },
   {
    "duration": 724,
    "start_time": "2022-05-04T10:02:51.636Z"
   },
   {
    "duration": 30,
    "start_time": "2022-05-04T10:02:56.306Z"
   },
   {
    "duration": 11,
    "start_time": "2022-05-04T10:02:57.394Z"
   },
   {
    "duration": 16,
    "start_time": "2022-05-04T10:02:59.821Z"
   },
   {
    "duration": 10,
    "start_time": "2022-05-04T10:03:01.879Z"
   },
   {
    "duration": 10,
    "start_time": "2022-05-04T10:03:06.465Z"
   },
   {
    "duration": 138,
    "start_time": "2022-05-04T10:03:24.736Z"
   },
   {
    "duration": 15,
    "start_time": "2022-05-04T10:03:33.278Z"
   },
   {
    "duration": 9,
    "start_time": "2022-05-04T10:03:34.124Z"
   },
   {
    "duration": 20,
    "start_time": "2022-05-04T10:03:37.783Z"
   },
   {
    "duration": 8,
    "start_time": "2022-05-04T10:03:39.842Z"
   },
   {
    "duration": 261,
    "start_time": "2022-05-04T10:03:43.169Z"
   },
   {
    "duration": 224,
    "start_time": "2022-05-04T10:03:44.449Z"
   },
   {
    "duration": 11,
    "start_time": "2022-05-04T10:03:45.375Z"
   },
   {
    "duration": 382,
    "start_time": "2022-05-04T10:03:47.473Z"
   },
   {
    "duration": 284,
    "start_time": "2022-05-04T10:03:48.894Z"
   },
   {
    "duration": 340,
    "start_time": "2022-05-04T10:03:50.169Z"
   },
   {
    "duration": 284,
    "start_time": "2022-05-04T10:03:51.251Z"
   },
   {
    "duration": 406,
    "start_time": "2022-05-04T10:03:52.028Z"
   },
   {
    "duration": 12,
    "start_time": "2022-05-04T10:03:53.367Z"
   },
   {
    "duration": 259,
    "start_time": "2022-05-04T10:03:53.907Z"
   },
   {
    "duration": 8,
    "start_time": "2022-05-04T10:03:54.965Z"
   },
   {
    "duration": 200,
    "start_time": "2022-05-04T10:03:56.261Z"
   },
   {
    "duration": 7,
    "start_time": "2022-05-04T10:03:56.873Z"
   },
   {
    "duration": 351,
    "start_time": "2022-05-04T10:03:58.873Z"
   },
   {
    "duration": 16,
    "start_time": "2022-05-04T10:03:59.538Z"
   },
   {
    "duration": 9,
    "start_time": "2022-05-04T10:04:00.626Z"
   },
   {
    "duration": 31,
    "start_time": "2022-05-04T10:04:01.326Z"
   },
   {
    "duration": 7,
    "start_time": "2022-05-04T10:04:02.144Z"
   },
   {
    "duration": 11,
    "start_time": "2022-05-04T10:04:03.848Z"
   },
   {
    "duration": 10,
    "start_time": "2022-05-04T10:04:04.341Z"
   },
   {
    "duration": 14,
    "start_time": "2022-05-04T10:04:06.291Z"
   },
   {
    "duration": 12,
    "start_time": "2022-05-04T10:04:07.449Z"
   },
   {
    "duration": 29,
    "start_time": "2022-05-04T10:04:08.680Z"
   },
   {
    "duration": 7,
    "start_time": "2022-05-04T10:04:09.487Z"
   },
   {
    "duration": 20,
    "start_time": "2022-05-04T10:04:10.955Z"
   },
   {
    "duration": 16,
    "start_time": "2022-05-04T10:08:03.707Z"
   },
   {
    "duration": 351,
    "start_time": "2022-05-04T11:36:39.370Z"
   },
   {
    "duration": 880,
    "start_time": "2022-05-04T11:37:15.422Z"
   },
   {
    "duration": 25,
    "start_time": "2022-05-04T11:37:16.305Z"
   },
   {
    "duration": 4,
    "start_time": "2022-05-04T11:37:16.332Z"
   },
   {
    "duration": 14,
    "start_time": "2022-05-04T11:37:16.338Z"
   },
   {
    "duration": 16,
    "start_time": "2022-05-04T11:37:16.354Z"
   },
   {
    "duration": 7,
    "start_time": "2022-05-04T11:37:16.372Z"
   },
   {
    "duration": 16,
    "start_time": "2022-05-04T11:37:16.381Z"
   },
   {
    "duration": 8,
    "start_time": "2022-05-04T11:37:16.399Z"
   },
   {
    "duration": 54,
    "start_time": "2022-05-04T11:37:16.409Z"
   },
   {
    "duration": 1437,
    "start_time": "2022-05-04T11:37:16.468Z"
   },
   {
    "duration": 732,
    "start_time": "2022-05-04T11:37:17.907Z"
   },
   {
    "duration": 30,
    "start_time": "2022-05-04T11:37:18.641Z"
   },
   {
    "duration": 12,
    "start_time": "2022-05-04T11:37:18.673Z"
   },
   {
    "duration": 17,
    "start_time": "2022-05-04T11:37:18.687Z"
   },
   {
    "duration": 10,
    "start_time": "2022-05-04T11:37:18.706Z"
   },
   {
    "duration": 12,
    "start_time": "2022-05-04T11:37:18.718Z"
   },
   {
    "duration": 14,
    "start_time": "2022-05-04T11:37:18.753Z"
   },
   {
    "duration": 18,
    "start_time": "2022-05-04T11:37:18.769Z"
   },
   {
    "duration": 13,
    "start_time": "2022-05-04T11:37:18.790Z"
   },
   {
    "duration": 53,
    "start_time": "2022-05-04T11:37:18.806Z"
   },
   {
    "duration": 13,
    "start_time": "2022-05-04T11:37:18.861Z"
   },
   {
    "duration": 338,
    "start_time": "2022-05-04T11:37:18.876Z"
   },
   {
    "duration": 222,
    "start_time": "2022-05-04T11:37:19.216Z"
   },
   {
    "duration": 10,
    "start_time": "2022-05-04T11:37:19.451Z"
   },
   {
    "duration": 399,
    "start_time": "2022-05-04T11:37:19.463Z"
   },
   {
    "duration": 282,
    "start_time": "2022-05-04T11:37:19.865Z"
   },
   {
    "duration": 367,
    "start_time": "2022-05-04T11:37:20.152Z"
   },
   {
    "duration": 301,
    "start_time": "2022-05-04T11:37:20.524Z"
   },
   {
    "duration": 420,
    "start_time": "2022-05-04T11:37:20.827Z"
   },
   {
    "duration": 9,
    "start_time": "2022-05-04T11:37:21.249Z"
   },
   {
    "duration": 264,
    "start_time": "2022-05-04T11:37:21.260Z"
   },
   {
    "duration": 7,
    "start_time": "2022-05-04T11:37:21.526Z"
   },
   {
    "duration": 234,
    "start_time": "2022-05-04T11:37:21.536Z"
   },
   {
    "duration": 7,
    "start_time": "2022-05-04T11:37:21.773Z"
   },
   {
    "duration": 409,
    "start_time": "2022-05-04T11:37:21.783Z"
   },
   {
    "duration": 17,
    "start_time": "2022-05-04T11:37:22.194Z"
   },
   {
    "duration": 10,
    "start_time": "2022-05-04T11:37:22.213Z"
   },
   {
    "duration": 52,
    "start_time": "2022-05-04T11:37:22.225Z"
   },
   {
    "duration": 6,
    "start_time": "2022-05-04T11:37:22.279Z"
   },
   {
    "duration": 16,
    "start_time": "2022-05-04T11:37:22.287Z"
   },
   {
    "duration": 13,
    "start_time": "2022-05-04T11:37:22.305Z"
   },
   {
    "duration": 43,
    "start_time": "2022-05-04T11:37:22.321Z"
   },
   {
    "duration": 17,
    "start_time": "2022-05-04T11:37:22.367Z"
   },
   {
    "duration": 30,
    "start_time": "2022-05-04T11:37:22.386Z"
   },
   {
    "duration": 5,
    "start_time": "2022-05-04T11:37:22.419Z"
   },
   {
    "duration": 21,
    "start_time": "2022-05-04T11:37:22.452Z"
   },
   {
    "duration": 6,
    "start_time": "2022-05-04T11:43:04.523Z"
   },
   {
    "duration": 828,
    "start_time": "2022-05-04T15:28:12.900Z"
   },
   {
    "duration": 24,
    "start_time": "2022-05-04T15:28:13.730Z"
   },
   {
    "duration": 3,
    "start_time": "2022-05-04T15:28:13.756Z"
   },
   {
    "duration": 6,
    "start_time": "2022-05-04T15:28:13.760Z"
   },
   {
    "duration": 11,
    "start_time": "2022-05-04T15:28:13.767Z"
   },
   {
    "duration": 6,
    "start_time": "2022-05-04T15:28:13.780Z"
   },
   {
    "duration": 10,
    "start_time": "2022-05-04T15:28:13.787Z"
   },
   {
    "duration": 6,
    "start_time": "2022-05-04T15:28:13.798Z"
   },
   {
    "duration": 12,
    "start_time": "2022-05-04T15:28:13.824Z"
   },
   {
    "duration": 897,
    "start_time": "2022-05-04T15:28:13.839Z"
   },
   {
    "duration": 464,
    "start_time": "2022-05-04T15:28:14.738Z"
   },
   {
    "duration": 19,
    "start_time": "2022-05-04T15:28:15.204Z"
   },
   {
    "duration": 8,
    "start_time": "2022-05-04T15:28:15.225Z"
   },
   {
    "duration": 18,
    "start_time": "2022-05-04T15:28:15.235Z"
   },
   {
    "duration": 9,
    "start_time": "2022-05-04T15:28:15.255Z"
   },
   {
    "duration": 12,
    "start_time": "2022-05-04T15:28:15.265Z"
   },
   {
    "duration": 6,
    "start_time": "2022-05-04T15:28:15.279Z"
   },
   {
    "duration": 10,
    "start_time": "2022-05-04T15:28:15.287Z"
   },
   {
    "duration": 9,
    "start_time": "2022-05-04T15:28:15.299Z"
   },
   {
    "duration": 14,
    "start_time": "2022-05-04T15:28:15.324Z"
   },
   {
    "duration": 16,
    "start_time": "2022-05-04T15:28:15.340Z"
   },
   {
    "duration": 163,
    "start_time": "2022-05-04T15:28:15.357Z"
   },
   {
    "duration": 126,
    "start_time": "2022-05-04T15:28:15.522Z"
   },
   {
    "duration": 6,
    "start_time": "2022-05-04T15:28:15.650Z"
   },
   {
    "duration": 233,
    "start_time": "2022-05-04T15:28:15.657Z"
   },
   {
    "duration": 152,
    "start_time": "2022-05-04T15:28:15.892Z"
   },
   {
    "duration": 249,
    "start_time": "2022-05-04T15:28:16.046Z"
   },
   {
    "duration": 175,
    "start_time": "2022-05-04T15:28:16.298Z"
   },
   {
    "duration": 279,
    "start_time": "2022-05-04T15:28:16.474Z"
   },
   {
    "duration": 7,
    "start_time": "2022-05-04T15:28:16.755Z"
   },
   {
    "duration": 180,
    "start_time": "2022-05-04T15:28:16.763Z"
   },
   {
    "duration": 4,
    "start_time": "2022-05-04T15:28:16.944Z"
   },
   {
    "duration": 120,
    "start_time": "2022-05-04T15:28:16.950Z"
   },
   {
    "duration": 5,
    "start_time": "2022-05-04T15:28:17.071Z"
   },
   {
    "duration": 228,
    "start_time": "2022-05-04T15:28:17.077Z"
   },
   {
    "duration": 19,
    "start_time": "2022-05-04T15:28:17.306Z"
   },
   {
    "duration": 6,
    "start_time": "2022-05-04T15:28:17.326Z"
   },
   {
    "duration": 19,
    "start_time": "2022-05-04T15:28:17.334Z"
   },
   {
    "duration": 4,
    "start_time": "2022-05-04T15:28:17.354Z"
   },
   {
    "duration": 9,
    "start_time": "2022-05-04T15:28:17.360Z"
   },
   {
    "duration": 5,
    "start_time": "2022-05-04T15:28:17.371Z"
   },
   {
    "duration": 10,
    "start_time": "2022-05-04T15:28:17.378Z"
   },
   {
    "duration": 38,
    "start_time": "2022-05-04T15:28:17.390Z"
   },
   {
    "duration": 18,
    "start_time": "2022-05-04T15:28:17.430Z"
   },
   {
    "duration": 4,
    "start_time": "2022-05-04T15:28:17.449Z"
   },
   {
    "duration": 11,
    "start_time": "2022-05-04T15:28:17.454Z"
   },
   {
    "duration": 1233,
    "start_time": "2022-05-05T16:36:53.683Z"
   },
   {
    "duration": 29,
    "start_time": "2022-05-05T16:36:54.918Z"
   },
   {
    "duration": 3,
    "start_time": "2022-05-05T16:36:54.949Z"
   },
   {
    "duration": 10,
    "start_time": "2022-05-05T16:36:54.954Z"
   },
   {
    "duration": 13,
    "start_time": "2022-05-05T16:36:54.965Z"
   },
   {
    "duration": 6,
    "start_time": "2022-05-05T16:36:54.980Z"
   },
   {
    "duration": 13,
    "start_time": "2022-05-05T16:36:54.987Z"
   },
   {
    "duration": 6,
    "start_time": "2022-05-05T16:36:55.001Z"
   },
   {
    "duration": 27,
    "start_time": "2022-05-05T16:36:55.009Z"
   },
   {
    "duration": 453,
    "start_time": "2022-05-05T16:36:55.039Z"
   },
   {
    "duration": 485,
    "start_time": "2022-05-05T16:36:55.494Z"
   },
   {
    "duration": 18,
    "start_time": "2022-05-05T16:36:55.981Z"
   },
   {
    "duration": 7,
    "start_time": "2022-05-05T16:36:56.001Z"
   },
   {
    "duration": 11,
    "start_time": "2022-05-05T16:36:56.009Z"
   },
   {
    "duration": 10,
    "start_time": "2022-05-05T16:36:56.021Z"
   },
   {
    "duration": 15,
    "start_time": "2022-05-05T16:36:56.033Z"
   },
   {
    "duration": 7,
    "start_time": "2022-05-05T16:36:56.050Z"
   },
   {
    "duration": 12,
    "start_time": "2022-05-05T16:36:56.059Z"
   },
   {
    "duration": 8,
    "start_time": "2022-05-05T16:36:56.072Z"
   },
   {
    "duration": 17,
    "start_time": "2022-05-05T16:36:56.081Z"
   },
   {
    "duration": 8,
    "start_time": "2022-05-05T16:37:05.087Z"
   },
   {
    "duration": 10,
    "start_time": "2022-05-05T16:37:29.659Z"
   },
   {
    "duration": 8,
    "start_time": "2022-05-05T16:37:40.233Z"
   },
   {
    "duration": 94,
    "start_time": "2022-05-05T16:39:52.959Z"
   },
   {
    "duration": 10,
    "start_time": "2022-05-05T16:40:11.194Z"
   },
   {
    "duration": 5,
    "start_time": "2022-05-05T16:40:51.975Z"
   },
   {
    "duration": 1220,
    "start_time": "2022-05-05T16:41:42.674Z"
   },
   {
    "duration": 19,
    "start_time": "2022-05-05T16:41:43.896Z"
   },
   {
    "duration": 2,
    "start_time": "2022-05-05T16:41:43.917Z"
   },
   {
    "duration": 7,
    "start_time": "2022-05-05T16:41:43.924Z"
   },
   {
    "duration": 13,
    "start_time": "2022-05-05T16:41:43.932Z"
   },
   {
    "duration": 8,
    "start_time": "2022-05-05T16:41:43.946Z"
   },
   {
    "duration": 10,
    "start_time": "2022-05-05T16:41:43.955Z"
   },
   {
    "duration": 9,
    "start_time": "2022-05-05T16:41:43.967Z"
   },
   {
    "duration": 13,
    "start_time": "2022-05-05T16:41:43.978Z"
   },
   {
    "duration": 450,
    "start_time": "2022-05-05T16:41:43.994Z"
   },
   {
    "duration": 404,
    "start_time": "2022-05-05T16:41:44.445Z"
   },
   {
    "duration": 19,
    "start_time": "2022-05-05T16:41:44.851Z"
   },
   {
    "duration": 7,
    "start_time": "2022-05-05T16:41:44.872Z"
   },
   {
    "duration": 12,
    "start_time": "2022-05-05T16:41:44.881Z"
   },
   {
    "duration": 9,
    "start_time": "2022-05-05T16:41:44.894Z"
   },
   {
    "duration": 17,
    "start_time": "2022-05-05T16:41:44.904Z"
   },
   {
    "duration": 8,
    "start_time": "2022-05-05T16:41:44.922Z"
   },
   {
    "duration": 11,
    "start_time": "2022-05-05T16:41:44.931Z"
   },
   {
    "duration": 6,
    "start_time": "2022-05-05T16:41:44.943Z"
   },
   {
    "duration": 14,
    "start_time": "2022-05-05T16:41:44.951Z"
   },
   {
    "duration": 10,
    "start_time": "2022-05-05T16:41:44.967Z"
   },
   {
    "duration": 4,
    "start_time": "2022-05-05T16:41:44.979Z"
   },
   {
    "duration": 8,
    "start_time": "2022-05-05T16:41:44.984Z"
   },
   {
    "duration": 179,
    "start_time": "2022-05-05T16:41:44.993Z"
   },
   {
    "duration": 121,
    "start_time": "2022-05-05T16:41:45.174Z"
   },
   {
    "duration": 6,
    "start_time": "2022-05-05T16:41:45.297Z"
   },
   {
    "duration": 225,
    "start_time": "2022-05-05T16:41:45.304Z"
   },
   {
    "duration": 157,
    "start_time": "2022-05-05T16:41:45.533Z"
   },
   {
    "duration": 283,
    "start_time": "2022-05-05T16:41:45.692Z"
   },
   {
    "duration": 165,
    "start_time": "2022-05-05T16:41:45.977Z"
   },
   {
    "duration": 283,
    "start_time": "2022-05-05T16:41:46.143Z"
   },
   {
    "duration": 7,
    "start_time": "2022-05-05T16:41:46.427Z"
   },
   {
    "duration": 191,
    "start_time": "2022-05-05T16:41:46.436Z"
   },
   {
    "duration": 5,
    "start_time": "2022-05-05T16:41:46.629Z"
   },
   {
    "duration": 122,
    "start_time": "2022-05-05T16:41:46.636Z"
   },
   {
    "duration": 5,
    "start_time": "2022-05-05T16:41:46.759Z"
   },
   {
    "duration": 225,
    "start_time": "2022-05-05T16:41:46.765Z"
   },
   {
    "duration": 10,
    "start_time": "2022-05-05T16:41:46.991Z"
   },
   {
    "duration": 6,
    "start_time": "2022-05-05T16:41:47.002Z"
   },
   {
    "duration": 27,
    "start_time": "2022-05-05T16:41:47.009Z"
   },
   {
    "duration": 4,
    "start_time": "2022-05-05T16:41:47.038Z"
   },
   {
    "duration": 13,
    "start_time": "2022-05-05T16:41:47.043Z"
   },
   {
    "duration": 9,
    "start_time": "2022-05-05T16:41:47.057Z"
   },
   {
    "duration": 11,
    "start_time": "2022-05-05T16:41:47.068Z"
   },
   {
    "duration": 9,
    "start_time": "2022-05-05T16:41:47.081Z"
   },
   {
    "duration": 45,
    "start_time": "2022-05-05T16:41:47.092Z"
   },
   {
    "duration": 4,
    "start_time": "2022-05-05T16:41:47.138Z"
   },
   {
    "duration": 14,
    "start_time": "2022-05-05T16:41:47.144Z"
   },
   {
    "duration": 182,
    "start_time": "2022-05-05T16:50:01.176Z"
   },
   {
    "duration": 256,
    "start_time": "2022-05-05T16:56:43.270Z"
   },
   {
    "duration": 272,
    "start_time": "2022-05-05T16:57:57.620Z"
   },
   {
    "duration": 348,
    "start_time": "2022-05-05T16:58:36.875Z"
   },
   {
    "duration": 247,
    "start_time": "2022-05-05T16:58:53.557Z"
   },
   {
    "duration": 171,
    "start_time": "2022-05-05T16:59:44.448Z"
   },
   {
    "duration": 332,
    "start_time": "2022-05-05T17:01:05.217Z"
   },
   {
    "duration": 381,
    "start_time": "2022-05-05T17:01:22.673Z"
   },
   {
    "duration": 270,
    "start_time": "2022-05-05T17:01:28.941Z"
   },
   {
    "duration": 273,
    "start_time": "2022-05-05T17:02:41.625Z"
   },
   {
    "duration": 321,
    "start_time": "2022-05-05T17:04:50.448Z"
   },
   {
    "duration": 136,
    "start_time": "2022-05-05T17:06:16.300Z"
   },
   {
    "duration": 216,
    "start_time": "2022-05-05T17:07:49.995Z"
   },
   {
    "duration": 133,
    "start_time": "2022-05-05T17:08:07.671Z"
   },
   {
    "duration": 136,
    "start_time": "2022-05-05T17:11:30.589Z"
   },
   {
    "duration": 20,
    "start_time": "2022-05-05T17:11:38.388Z"
   },
   {
    "duration": 4,
    "start_time": "2022-05-05T17:12:18.686Z"
   },
   {
    "duration": 6,
    "start_time": "2022-05-05T17:15:10.317Z"
   },
   {
    "duration": 9,
    "start_time": "2022-05-05T17:15:41.317Z"
   },
   {
    "duration": 8,
    "start_time": "2022-05-05T17:15:53.429Z"
   },
   {
    "duration": 4,
    "start_time": "2022-05-05T17:15:55.823Z"
   },
   {
    "duration": 7,
    "start_time": "2022-05-05T17:20:39.155Z"
   },
   {
    "duration": 6,
    "start_time": "2022-05-05T17:23:12.195Z"
   },
   {
    "duration": 3,
    "start_time": "2022-05-05T17:24:34.792Z"
   },
   {
    "duration": 21,
    "start_time": "2022-05-05T17:24:34.798Z"
   },
   {
    "duration": 4,
    "start_time": "2022-05-05T17:24:34.821Z"
   },
   {
    "duration": 8,
    "start_time": "2022-05-05T17:24:34.827Z"
   },
   {
    "duration": 17,
    "start_time": "2022-05-05T17:24:34.837Z"
   },
   {
    "duration": 12,
    "start_time": "2022-05-05T17:24:34.856Z"
   },
   {
    "duration": 12,
    "start_time": "2022-05-05T17:24:34.870Z"
   },
   {
    "duration": 5,
    "start_time": "2022-05-05T17:24:34.885Z"
   },
   {
    "duration": 33,
    "start_time": "2022-05-05T17:24:34.892Z"
   },
   {
    "duration": 547,
    "start_time": "2022-05-05T17:24:34.927Z"
   },
   {
    "duration": 514,
    "start_time": "2022-05-05T17:24:35.477Z"
   },
   {
    "duration": 20,
    "start_time": "2022-05-05T17:24:35.993Z"
   },
   {
    "duration": 9,
    "start_time": "2022-05-05T17:24:36.015Z"
   },
   {
    "duration": 16,
    "start_time": "2022-05-05T17:24:36.026Z"
   },
   {
    "duration": 8,
    "start_time": "2022-05-05T17:24:36.044Z"
   },
   {
    "duration": 19,
    "start_time": "2022-05-05T17:24:36.054Z"
   },
   {
    "duration": 11,
    "start_time": "2022-05-05T17:24:36.074Z"
   },
   {
    "duration": 13,
    "start_time": "2022-05-05T17:24:36.086Z"
   },
   {
    "duration": 12,
    "start_time": "2022-05-05T17:24:36.101Z"
   },
   {
    "duration": 28,
    "start_time": "2022-05-05T17:24:36.123Z"
   },
   {
    "duration": 14,
    "start_time": "2022-05-05T17:24:36.153Z"
   },
   {
    "duration": 6,
    "start_time": "2022-05-05T17:24:36.169Z"
   },
   {
    "duration": 8,
    "start_time": "2022-05-05T17:24:36.177Z"
   },
   {
    "duration": 244,
    "start_time": "2022-05-05T17:24:36.187Z"
   },
   {
    "duration": 176,
    "start_time": "2022-05-05T17:24:36.434Z"
   },
   {
    "duration": 14,
    "start_time": "2022-05-05T17:24:36.612Z"
   },
   {
    "duration": 180,
    "start_time": "2022-05-05T17:24:36.628Z"
   },
   {
    "duration": 174,
    "start_time": "2022-05-05T17:24:36.809Z"
   },
   {
    "duration": 289,
    "start_time": "2022-05-05T17:24:36.988Z"
   },
   {
    "duration": 194,
    "start_time": "2022-05-05T17:24:37.279Z"
   },
   {
    "duration": 267,
    "start_time": "2022-05-05T17:24:37.475Z"
   },
   {
    "duration": 7,
    "start_time": "2022-05-05T17:24:37.743Z"
   },
   {
    "duration": 144,
    "start_time": "2022-05-05T17:24:37.752Z"
   },
   {
    "duration": 5,
    "start_time": "2022-05-05T17:24:44.460Z"
   },
   {
    "duration": 1477,
    "start_time": "2022-05-05T17:27:18.708Z"
   },
   {
    "duration": 26,
    "start_time": "2022-05-05T17:27:20.188Z"
   },
   {
    "duration": 7,
    "start_time": "2022-05-05T17:27:20.216Z"
   },
   {
    "duration": 4,
    "start_time": "2022-05-05T17:27:20.226Z"
   },
   {
    "duration": 16,
    "start_time": "2022-05-05T17:27:20.232Z"
   },
   {
    "duration": 8,
    "start_time": "2022-05-05T17:27:20.250Z"
   },
   {
    "duration": 14,
    "start_time": "2022-05-05T17:27:20.260Z"
   },
   {
    "duration": 5,
    "start_time": "2022-05-05T17:27:20.276Z"
   },
   {
    "duration": 47,
    "start_time": "2022-05-05T17:27:20.283Z"
   },
   {
    "duration": 654,
    "start_time": "2022-05-05T17:27:20.333Z"
   },
   {
    "duration": 619,
    "start_time": "2022-05-05T17:27:20.988Z"
   },
   {
    "duration": 21,
    "start_time": "2022-05-05T17:27:21.609Z"
   },
   {
    "duration": 11,
    "start_time": "2022-05-05T17:27:21.633Z"
   },
   {
    "duration": 15,
    "start_time": "2022-05-05T17:27:21.646Z"
   },
   {
    "duration": 13,
    "start_time": "2022-05-05T17:27:21.663Z"
   },
   {
    "duration": 25,
    "start_time": "2022-05-05T17:27:21.678Z"
   },
   {
    "duration": 9,
    "start_time": "2022-05-05T17:27:21.706Z"
   },
   {
    "duration": 18,
    "start_time": "2022-05-05T17:27:21.717Z"
   },
   {
    "duration": 24,
    "start_time": "2022-05-05T17:27:21.737Z"
   },
   {
    "duration": 24,
    "start_time": "2022-05-05T17:27:21.763Z"
   },
   {
    "duration": 18,
    "start_time": "2022-05-05T17:27:21.788Z"
   },
   {
    "duration": 13,
    "start_time": "2022-05-05T17:27:21.807Z"
   },
   {
    "duration": 8,
    "start_time": "2022-05-05T17:27:21.821Z"
   },
   {
    "duration": 161,
    "start_time": "2022-05-05T17:27:21.831Z"
   },
   {
    "duration": 134,
    "start_time": "2022-05-05T17:27:21.994Z"
   },
   {
    "duration": 8,
    "start_time": "2022-05-05T17:27:22.130Z"
   },
   {
    "duration": 246,
    "start_time": "2022-05-05T17:27:22.140Z"
   },
   {
    "duration": 183,
    "start_time": "2022-05-05T17:27:22.389Z"
   },
   {
    "duration": 261,
    "start_time": "2022-05-05T17:27:22.573Z"
   },
   {
    "duration": 199,
    "start_time": "2022-05-05T17:27:22.836Z"
   },
   {
    "duration": 278,
    "start_time": "2022-05-05T17:27:23.037Z"
   },
   {
    "duration": 12,
    "start_time": "2022-05-05T17:27:23.316Z"
   },
   {
    "duration": 219,
    "start_time": "2022-05-05T17:27:23.329Z"
   },
   {
    "duration": 5,
    "start_time": "2022-05-05T17:27:23.550Z"
   },
   {
    "duration": 135,
    "start_time": "2022-05-05T17:27:23.557Z"
   },
   {
    "duration": 142,
    "start_time": "2022-05-05T17:27:23.693Z"
   },
   {
    "duration": 5,
    "start_time": "2022-05-05T17:27:23.837Z"
   },
   {
    "duration": 241,
    "start_time": "2022-05-05T17:27:23.844Z"
   },
   {
    "duration": 10,
    "start_time": "2022-05-05T17:27:24.087Z"
   },
   {
    "duration": 10,
    "start_time": "2022-05-05T17:27:24.099Z"
   },
   {
    "duration": 31,
    "start_time": "2022-05-05T17:27:24.111Z"
   },
   {
    "duration": 5,
    "start_time": "2022-05-05T17:27:24.143Z"
   },
   {
    "duration": 6,
    "start_time": "2022-05-05T17:27:24.150Z"
   },
   {
    "duration": 11,
    "start_time": "2022-05-05T17:27:24.157Z"
   },
   {
    "duration": 16,
    "start_time": "2022-05-05T17:27:24.170Z"
   },
   {
    "duration": 6,
    "start_time": "2022-05-05T17:27:24.187Z"
   },
   {
    "duration": 31,
    "start_time": "2022-05-05T17:27:24.195Z"
   },
   {
    "duration": 9,
    "start_time": "2022-05-05T17:27:24.228Z"
   },
   {
    "duration": 24,
    "start_time": "2022-05-05T17:27:24.239Z"
   },
   {
    "duration": 4,
    "start_time": "2022-05-05T17:27:24.265Z"
   },
   {
    "duration": 14,
    "start_time": "2022-05-05T17:27:24.271Z"
   },
   {
    "duration": 18,
    "start_time": "2022-05-05T17:28:53.912Z"
   },
   {
    "duration": 20,
    "start_time": "2022-05-05T17:29:01.442Z"
   },
   {
    "duration": 5,
    "start_time": "2022-05-05T17:29:04.704Z"
   },
   {
    "duration": 3,
    "start_time": "2022-05-05T17:29:06.192Z"
   },
   {
    "duration": 6,
    "start_time": "2022-05-05T17:30:42.332Z"
   },
   {
    "duration": 17,
    "start_time": "2022-05-05T17:30:58.266Z"
   },
   {
    "duration": 14,
    "start_time": "2022-05-05T17:31:25.476Z"
   },
   {
    "duration": 3,
    "start_time": "2022-05-05T17:31:28.961Z"
   },
   {
    "duration": 9,
    "start_time": "2022-05-05T17:33:43.514Z"
   },
   {
    "duration": 178,
    "start_time": "2022-05-05T17:47:34.830Z"
   },
   {
    "duration": 168,
    "start_time": "2022-05-05T17:48:10.622Z"
   },
   {
    "duration": 253,
    "start_time": "2022-05-05T17:48:26.821Z"
   },
   {
    "duration": 266,
    "start_time": "2022-05-05T17:48:35.037Z"
   },
   {
    "duration": 166,
    "start_time": "2022-05-05T17:48:51.193Z"
   },
   {
    "duration": 166,
    "start_time": "2022-05-05T17:50:15.433Z"
   },
   {
    "duration": 258,
    "start_time": "2022-05-05T17:50:28.032Z"
   },
   {
    "duration": 166,
    "start_time": "2022-05-05T17:50:57.854Z"
   },
   {
    "duration": 267,
    "start_time": "2022-05-05T17:51:22.914Z"
   },
   {
    "duration": 203,
    "start_time": "2022-05-05T18:07:54.617Z"
   },
   {
    "duration": 134,
    "start_time": "2022-05-05T18:08:06.199Z"
   },
   {
    "duration": 192,
    "start_time": "2022-05-05T18:08:27.549Z"
   },
   {
    "duration": 132,
    "start_time": "2022-05-05T18:08:50.808Z"
   }
  ],
  "kernelspec": {
   "display_name": "Python 3 (ipykernel)",
   "language": "python",
   "name": "python3"
  },
  "language_info": {
   "codemirror_mode": {
    "name": "ipython",
    "version": 3
   },
   "file_extension": ".py",
   "mimetype": "text/x-python",
   "name": "python",
   "nbconvert_exporter": "python",
   "pygments_lexer": "ipython3",
   "version": "3.9.7"
  },
  "toc": {
   "base_numbering": 1,
   "nav_menu": {},
   "number_sections": true,
   "sideBar": true,
   "skip_h1_title": true,
   "title_cell": "Table of Contents",
   "title_sidebar": "Contents",
   "toc_cell": false,
   "toc_position": {},
   "toc_section_display": true,
   "toc_window_display": false
  }
 },
 "nbformat": 4,
 "nbformat_minor": 2
}
