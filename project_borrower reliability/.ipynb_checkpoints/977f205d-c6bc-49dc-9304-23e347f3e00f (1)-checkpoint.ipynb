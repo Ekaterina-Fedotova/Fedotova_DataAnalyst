{
 "cells": [
  {
   "cell_type": "markdown",
   "id": "ba6103b6",
   "metadata": {},
   "source": [
    "<div class=\"alert alert-block alert-success\">\n",
    "<b>V3 Успех:</b> Екатерина, все доработки сделаны и я поздравляю тебя с успешным выполнением этого проекта. Это продолжение интересного и непростого пути, на котором ты сделала следующий шаг. Проект зачтен, я думаю он получился крутым, надеюсь тебе было интересно. Еще раз поздравляю!    \n",
    "</div>\n",
    "\n",
    "<div class=\"alert alert-block alert-success\">\n",
    "<b>V2 Успех:</b> Екатерина, ты сделала много полезных правок. Осталось буквально несколько комментариев. После их исправления работа будет зачтена и у тебя будет крутой проект :) \n",
    "</div>\n"
   ]
  },
  {
   "cell_type": "markdown",
   "id": "686d59c7",
   "metadata": {},
   "source": [
    "**Привет, Екатерина!**\n",
    "\n",
    "<br> Меня зовут Родион Щебентовский, сегодня я буду проверять твой проект. Моя цель при проверке - помочь тебе разобраться в такой важной теме, как кредитный скоринг, и порадоваться, когда ты сделаешь классную работу :) \n",
    "<br> Предлагаю в общении перейти на \"ты\", если тебе так комфортно. \n",
    "<br> Будет здорово, если будешь реагировать на мои комментарий ('исправил', 'не понял как исправить ошибку', ...) и я смогу дать более подробную информацию по неразрешенным вопросам.\n",
    "\n",
    "<br> Пожалуйста, не удаляй мои комментарии во время доработки, так мы сможем быть в одном контексте и работа будет проверяться быстрее.\n",
    "\n",
    "Комментарии будут в <font color='green'>зеленой</font>, <font color='orange'>желтой</font> или <font color='red'>красной</font> рамках:\n",
    "\n",
    "<div class=\"alert alert-block alert-success\">\n",
    "<b>Успех:</b> Если все сделано отлично\n",
    "</div>\n",
    "\n",
    "<div class=\"alert alert-block alert-warning\">\n",
    "<b>Совет: </b> Если можно немного улучшить\n",
    "</div>\n",
    "\n",
    "<div class=\"alert alert-block alert-danger\">\n",
    "<b>Необходимо исправить: </b> Работа не может быть принята с красными комментариями.\n",
    "</div>\n",
    "\n",
    "Буду рад, если ты оформишь свои комментарии так: \n",
    "<div class=\"alert alert-info\" role=\"alert\">\n",
    "<b>Комментарий студента: </b>\n",
    "</div>\n",
    "\n",
    "\n",
    "  \n",
    "<br></br>\n",
    "<font color='blue'>**Общее впечатление**</font>\n",
    "* Этот проект выполнен довольно хорошо.\n",
    "* Молодец, что структурируешь ноутбук. Хорошо структурированную информацию легче воспринимать. Обрати внимание на оглавление, его ты можешь сделать с помощью плагина в тренажере. Подробнее подскажут в слаке твоей кагорты. \n",
    "* В работе допущено несколько ошибок, которые достаточно легко исправить.\n",
    "* Я оставил несколько советов, они позволят тебе глубже изучить тему и привести работу в еще лучшее состояние. Исправь их если останется время.\n",
    "* Жду новую версию проекта. Уверен, ты справишься :) "
   ]
  },
  {
   "cell_type": "markdown",
   "id": "a87411f1",
   "metadata": {},
   "source": [
    "<div class=\"alert alert-info\" role=\"alert\">\n",
    "<b>Комментарий студента: </b>Привет. Спасибо за столь внимательный разбор работы. Буду стараться исправиться.\n",
    "</div>\n",
    "\n",
    "<div class=\"alert alert-block alert-warning\">\n",
    "<b>V2 Совет: </b> Со временем ты сможешь писать проекты с учетом лучших практик на машинальном уровне. Ближе к концу обучения твои проекты станут сильно более подробными, для этого я здесь :)\n",
    "</div>"
   ]
  },
  {
   "cell_type": "markdown",
   "id": "02b25c27",
   "metadata": {},
   "source": [
    "# Исследование надежности заемщиков."
   ]
  },
  {
   "cell_type": "markdown",
   "id": "6c1400b1",
   "metadata": {},
   "source": [
    "<div class=\"alert alert-block alert-warning\">\n",
    "<b>Совет: </b> Хорошая практика начинать проект с контекста, описания задачи, возможного хода\\плана исследования, а также описания имеющихся данных. Было бы крутое добавить больше вводной информации. Очень надеюсь, что ты будешь уделять этому внимание в последующих проектах. Для нумерации оглавления рекомендую использовать встроенный плагин, который проставляет пункты."
   ]
  },
  {
   "cell_type": "markdown",
   "id": "aa63ac9b",
   "metadata": {},
   "source": [
    "<div class=\"alert alert-info\" role=\"alert\">\n",
    "<b>Комментарий студента: </b>Изучим данные статистики о платёжеспособности клиентов. Выясним, от каких факторов зависит погашение кредита заемщиком.\n",
    "    \n",
    "Изучим данные.\n",
    "\n",
    "Проверим их на наличие анномалий, пропусков и дубликатов.\n",
    "\n",
    "Создадим для некоторых данных категориальные значения.\n",
    "\n",
    "Ответим на четыре вопроса:\n",
    "* Есть ли зависимость между количеством детей и возвратом кредита в срок?\n",
    "* Есть ли зависимость между семейным положением и возвратом кредита в срок?\n",
    "* Есть ли зависимость между уровнем дохода и возвратом кредита в срок?\n",
    "* Как разные цели кредита влияют на его возврат в срок?\n",
    "\n",
    "Описание данных:\n",
    "* children — количество детей в семье\n",
    "* days_employed — общий трудовой стаж в днях\n",
    "* dob_years — возраст клиента в годах\n",
    "* education — уровень образования клиента\n",
    "* education_id — идентификатор уровня образования\n",
    "* family_status — семейное положение\n",
    "* family_status_id — идентификатор семейного положения\n",
    "* gender — пол клиента\n",
    "* income_type — тип занятости\n",
    "* debt — имел ли задолженность по возврату кредитов\n",
    "* total_income — ежемесячный доход\n",
    "* purpose — цель получения кредита\n",
    "</div>"
   ]
  },
  {
   "cell_type": "markdown",
   "id": "784bbdd3",
   "metadata": {},
   "source": [
    "<div class=\"alert alert-block alert-warning\">\n",
    "<b>V2 Совет: </b> Да, теперь контекст тал понятнее\n",
    "</div>"
   ]
  },
  {
   "cell_type": "markdown",
   "id": "9cd2041e",
   "metadata": {},
   "source": [
    "### Шаг 1. Обзор данных"
   ]
  },
  {
   "cell_type": "code",
   "execution_count": 1,
   "id": "2314c86b",
   "metadata": {},
   "outputs": [],
   "source": [
    "import pandas as pd"
   ]
  },
  {
   "cell_type": "code",
   "execution_count": 2,
   "id": "e498c1ad",
   "metadata": {},
   "outputs": [
    {
     "ename": "FileNotFoundError",
     "evalue": "[Errno 2] No such file or directory: '/datasets/data.csv'",
     "output_type": "error",
     "traceback": [
      "\u001b[1;31m---------------------------------------------------------------------------\u001b[0m",
      "\u001b[1;31mFileNotFoundError\u001b[0m                         Traceback (most recent call last)",
      "\u001b[1;32m~\\AppData\\Local\\Temp/ipykernel_9708/4173674279.py\u001b[0m in \u001b[0;36m<module>\u001b[1;34m\u001b[0m\n\u001b[1;32m----> 1\u001b[1;33m \u001b[0mdata\u001b[0m \u001b[1;33m=\u001b[0m \u001b[0mpd\u001b[0m\u001b[1;33m.\u001b[0m\u001b[0mread_csv\u001b[0m\u001b[1;33m(\u001b[0m\u001b[1;34m'/datasets/data.csv'\u001b[0m\u001b[1;33m)\u001b[0m\u001b[1;33m\u001b[0m\u001b[1;33m\u001b[0m\u001b[0m\n\u001b[0m\u001b[0;32m      2\u001b[0m \u001b[0mdata\u001b[0m\u001b[1;33m.\u001b[0m\u001b[0minfo\u001b[0m\u001b[1;33m(\u001b[0m\u001b[1;33m)\u001b[0m\u001b[1;33m\u001b[0m\u001b[1;33m\u001b[0m\u001b[0m\n",
      "\u001b[1;32m~\\anaconda3\\lib\\site-packages\\pandas\\util\\_decorators.py\u001b[0m in \u001b[0;36mwrapper\u001b[1;34m(*args, **kwargs)\u001b[0m\n\u001b[0;32m    309\u001b[0m                     \u001b[0mstacklevel\u001b[0m\u001b[1;33m=\u001b[0m\u001b[0mstacklevel\u001b[0m\u001b[1;33m,\u001b[0m\u001b[1;33m\u001b[0m\u001b[1;33m\u001b[0m\u001b[0m\n\u001b[0;32m    310\u001b[0m                 )\n\u001b[1;32m--> 311\u001b[1;33m             \u001b[1;32mreturn\u001b[0m \u001b[0mfunc\u001b[0m\u001b[1;33m(\u001b[0m\u001b[1;33m*\u001b[0m\u001b[0margs\u001b[0m\u001b[1;33m,\u001b[0m \u001b[1;33m**\u001b[0m\u001b[0mkwargs\u001b[0m\u001b[1;33m)\u001b[0m\u001b[1;33m\u001b[0m\u001b[1;33m\u001b[0m\u001b[0m\n\u001b[0m\u001b[0;32m    312\u001b[0m \u001b[1;33m\u001b[0m\u001b[0m\n\u001b[0;32m    313\u001b[0m         \u001b[1;32mreturn\u001b[0m \u001b[0mwrapper\u001b[0m\u001b[1;33m\u001b[0m\u001b[1;33m\u001b[0m\u001b[0m\n",
      "\u001b[1;32m~\\anaconda3\\lib\\site-packages\\pandas\\io\\parsers\\readers.py\u001b[0m in \u001b[0;36mread_csv\u001b[1;34m(filepath_or_buffer, sep, delimiter, header, names, index_col, usecols, squeeze, prefix, mangle_dupe_cols, dtype, engine, converters, true_values, false_values, skipinitialspace, skiprows, skipfooter, nrows, na_values, keep_default_na, na_filter, verbose, skip_blank_lines, parse_dates, infer_datetime_format, keep_date_col, date_parser, dayfirst, cache_dates, iterator, chunksize, compression, thousands, decimal, lineterminator, quotechar, quoting, doublequote, escapechar, comment, encoding, encoding_errors, dialect, error_bad_lines, warn_bad_lines, on_bad_lines, delim_whitespace, low_memory, memory_map, float_precision, storage_options)\u001b[0m\n\u001b[0;32m    584\u001b[0m     \u001b[0mkwds\u001b[0m\u001b[1;33m.\u001b[0m\u001b[0mupdate\u001b[0m\u001b[1;33m(\u001b[0m\u001b[0mkwds_defaults\u001b[0m\u001b[1;33m)\u001b[0m\u001b[1;33m\u001b[0m\u001b[1;33m\u001b[0m\u001b[0m\n\u001b[0;32m    585\u001b[0m \u001b[1;33m\u001b[0m\u001b[0m\n\u001b[1;32m--> 586\u001b[1;33m     \u001b[1;32mreturn\u001b[0m \u001b[0m_read\u001b[0m\u001b[1;33m(\u001b[0m\u001b[0mfilepath_or_buffer\u001b[0m\u001b[1;33m,\u001b[0m \u001b[0mkwds\u001b[0m\u001b[1;33m)\u001b[0m\u001b[1;33m\u001b[0m\u001b[1;33m\u001b[0m\u001b[0m\n\u001b[0m\u001b[0;32m    587\u001b[0m \u001b[1;33m\u001b[0m\u001b[0m\n\u001b[0;32m    588\u001b[0m \u001b[1;33m\u001b[0m\u001b[0m\n",
      "\u001b[1;32m~\\anaconda3\\lib\\site-packages\\pandas\\io\\parsers\\readers.py\u001b[0m in \u001b[0;36m_read\u001b[1;34m(filepath_or_buffer, kwds)\u001b[0m\n\u001b[0;32m    480\u001b[0m \u001b[1;33m\u001b[0m\u001b[0m\n\u001b[0;32m    481\u001b[0m     \u001b[1;31m# Create the parser.\u001b[0m\u001b[1;33m\u001b[0m\u001b[1;33m\u001b[0m\u001b[0m\n\u001b[1;32m--> 482\u001b[1;33m     \u001b[0mparser\u001b[0m \u001b[1;33m=\u001b[0m \u001b[0mTextFileReader\u001b[0m\u001b[1;33m(\u001b[0m\u001b[0mfilepath_or_buffer\u001b[0m\u001b[1;33m,\u001b[0m \u001b[1;33m**\u001b[0m\u001b[0mkwds\u001b[0m\u001b[1;33m)\u001b[0m\u001b[1;33m\u001b[0m\u001b[1;33m\u001b[0m\u001b[0m\n\u001b[0m\u001b[0;32m    483\u001b[0m \u001b[1;33m\u001b[0m\u001b[0m\n\u001b[0;32m    484\u001b[0m     \u001b[1;32mif\u001b[0m \u001b[0mchunksize\u001b[0m \u001b[1;32mor\u001b[0m \u001b[0miterator\u001b[0m\u001b[1;33m:\u001b[0m\u001b[1;33m\u001b[0m\u001b[1;33m\u001b[0m\u001b[0m\n",
      "\u001b[1;32m~\\anaconda3\\lib\\site-packages\\pandas\\io\\parsers\\readers.py\u001b[0m in \u001b[0;36m__init__\u001b[1;34m(self, f, engine, **kwds)\u001b[0m\n\u001b[0;32m    809\u001b[0m             \u001b[0mself\u001b[0m\u001b[1;33m.\u001b[0m\u001b[0moptions\u001b[0m\u001b[1;33m[\u001b[0m\u001b[1;34m\"has_index_names\"\u001b[0m\u001b[1;33m]\u001b[0m \u001b[1;33m=\u001b[0m \u001b[0mkwds\u001b[0m\u001b[1;33m[\u001b[0m\u001b[1;34m\"has_index_names\"\u001b[0m\u001b[1;33m]\u001b[0m\u001b[1;33m\u001b[0m\u001b[1;33m\u001b[0m\u001b[0m\n\u001b[0;32m    810\u001b[0m \u001b[1;33m\u001b[0m\u001b[0m\n\u001b[1;32m--> 811\u001b[1;33m         \u001b[0mself\u001b[0m\u001b[1;33m.\u001b[0m\u001b[0m_engine\u001b[0m \u001b[1;33m=\u001b[0m \u001b[0mself\u001b[0m\u001b[1;33m.\u001b[0m\u001b[0m_make_engine\u001b[0m\u001b[1;33m(\u001b[0m\u001b[0mself\u001b[0m\u001b[1;33m.\u001b[0m\u001b[0mengine\u001b[0m\u001b[1;33m)\u001b[0m\u001b[1;33m\u001b[0m\u001b[1;33m\u001b[0m\u001b[0m\n\u001b[0m\u001b[0;32m    812\u001b[0m \u001b[1;33m\u001b[0m\u001b[0m\n\u001b[0;32m    813\u001b[0m     \u001b[1;32mdef\u001b[0m \u001b[0mclose\u001b[0m\u001b[1;33m(\u001b[0m\u001b[0mself\u001b[0m\u001b[1;33m)\u001b[0m\u001b[1;33m:\u001b[0m\u001b[1;33m\u001b[0m\u001b[1;33m\u001b[0m\u001b[0m\n",
      "\u001b[1;32m~\\anaconda3\\lib\\site-packages\\pandas\\io\\parsers\\readers.py\u001b[0m in \u001b[0;36m_make_engine\u001b[1;34m(self, engine)\u001b[0m\n\u001b[0;32m   1038\u001b[0m             )\n\u001b[0;32m   1039\u001b[0m         \u001b[1;31m# error: Too many arguments for \"ParserBase\"\u001b[0m\u001b[1;33m\u001b[0m\u001b[1;33m\u001b[0m\u001b[0m\n\u001b[1;32m-> 1040\u001b[1;33m         \u001b[1;32mreturn\u001b[0m \u001b[0mmapping\u001b[0m\u001b[1;33m[\u001b[0m\u001b[0mengine\u001b[0m\u001b[1;33m]\u001b[0m\u001b[1;33m(\u001b[0m\u001b[0mself\u001b[0m\u001b[1;33m.\u001b[0m\u001b[0mf\u001b[0m\u001b[1;33m,\u001b[0m \u001b[1;33m**\u001b[0m\u001b[0mself\u001b[0m\u001b[1;33m.\u001b[0m\u001b[0moptions\u001b[0m\u001b[1;33m)\u001b[0m  \u001b[1;31m# type: ignore[call-arg]\u001b[0m\u001b[1;33m\u001b[0m\u001b[1;33m\u001b[0m\u001b[0m\n\u001b[0m\u001b[0;32m   1041\u001b[0m \u001b[1;33m\u001b[0m\u001b[0m\n\u001b[0;32m   1042\u001b[0m     \u001b[1;32mdef\u001b[0m \u001b[0m_failover_to_python\u001b[0m\u001b[1;33m(\u001b[0m\u001b[0mself\u001b[0m\u001b[1;33m)\u001b[0m\u001b[1;33m:\u001b[0m\u001b[1;33m\u001b[0m\u001b[1;33m\u001b[0m\u001b[0m\n",
      "\u001b[1;32m~\\anaconda3\\lib\\site-packages\\pandas\\io\\parsers\\c_parser_wrapper.py\u001b[0m in \u001b[0;36m__init__\u001b[1;34m(self, src, **kwds)\u001b[0m\n\u001b[0;32m     49\u001b[0m \u001b[1;33m\u001b[0m\u001b[0m\n\u001b[0;32m     50\u001b[0m         \u001b[1;31m# open handles\u001b[0m\u001b[1;33m\u001b[0m\u001b[1;33m\u001b[0m\u001b[0m\n\u001b[1;32m---> 51\u001b[1;33m         \u001b[0mself\u001b[0m\u001b[1;33m.\u001b[0m\u001b[0m_open_handles\u001b[0m\u001b[1;33m(\u001b[0m\u001b[0msrc\u001b[0m\u001b[1;33m,\u001b[0m \u001b[0mkwds\u001b[0m\u001b[1;33m)\u001b[0m\u001b[1;33m\u001b[0m\u001b[1;33m\u001b[0m\u001b[0m\n\u001b[0m\u001b[0;32m     52\u001b[0m         \u001b[1;32massert\u001b[0m \u001b[0mself\u001b[0m\u001b[1;33m.\u001b[0m\u001b[0mhandles\u001b[0m \u001b[1;32mis\u001b[0m \u001b[1;32mnot\u001b[0m \u001b[1;32mNone\u001b[0m\u001b[1;33m\u001b[0m\u001b[1;33m\u001b[0m\u001b[0m\n\u001b[0;32m     53\u001b[0m \u001b[1;33m\u001b[0m\u001b[0m\n",
      "\u001b[1;32m~\\anaconda3\\lib\\site-packages\\pandas\\io\\parsers\\base_parser.py\u001b[0m in \u001b[0;36m_open_handles\u001b[1;34m(self, src, kwds)\u001b[0m\n\u001b[0;32m    220\u001b[0m         \u001b[0mLet\u001b[0m \u001b[0mthe\u001b[0m \u001b[0mreaders\u001b[0m \u001b[0mopen\u001b[0m \u001b[0mIOHandles\u001b[0m \u001b[0mafter\u001b[0m \u001b[0mthey\u001b[0m \u001b[0mare\u001b[0m \u001b[0mdone\u001b[0m \u001b[1;32mwith\u001b[0m \u001b[0mtheir\u001b[0m \u001b[0mpotential\u001b[0m \u001b[0mraises\u001b[0m\u001b[1;33m.\u001b[0m\u001b[1;33m\u001b[0m\u001b[1;33m\u001b[0m\u001b[0m\n\u001b[0;32m    221\u001b[0m         \"\"\"\n\u001b[1;32m--> 222\u001b[1;33m         self.handles = get_handle(\n\u001b[0m\u001b[0;32m    223\u001b[0m             \u001b[0msrc\u001b[0m\u001b[1;33m,\u001b[0m\u001b[1;33m\u001b[0m\u001b[1;33m\u001b[0m\u001b[0m\n\u001b[0;32m    224\u001b[0m             \u001b[1;34m\"r\"\u001b[0m\u001b[1;33m,\u001b[0m\u001b[1;33m\u001b[0m\u001b[1;33m\u001b[0m\u001b[0m\n",
      "\u001b[1;32m~\\anaconda3\\lib\\site-packages\\pandas\\io\\common.py\u001b[0m in \u001b[0;36mget_handle\u001b[1;34m(path_or_buf, mode, encoding, compression, memory_map, is_text, errors, storage_options)\u001b[0m\n\u001b[0;32m    700\u001b[0m         \u001b[1;32mif\u001b[0m \u001b[0mioargs\u001b[0m\u001b[1;33m.\u001b[0m\u001b[0mencoding\u001b[0m \u001b[1;32mand\u001b[0m \u001b[1;34m\"b\"\u001b[0m \u001b[1;32mnot\u001b[0m \u001b[1;32min\u001b[0m \u001b[0mioargs\u001b[0m\u001b[1;33m.\u001b[0m\u001b[0mmode\u001b[0m\u001b[1;33m:\u001b[0m\u001b[1;33m\u001b[0m\u001b[1;33m\u001b[0m\u001b[0m\n\u001b[0;32m    701\u001b[0m             \u001b[1;31m# Encoding\u001b[0m\u001b[1;33m\u001b[0m\u001b[1;33m\u001b[0m\u001b[0m\n\u001b[1;32m--> 702\u001b[1;33m             handle = open(\n\u001b[0m\u001b[0;32m    703\u001b[0m                 \u001b[0mhandle\u001b[0m\u001b[1;33m,\u001b[0m\u001b[1;33m\u001b[0m\u001b[1;33m\u001b[0m\u001b[0m\n\u001b[0;32m    704\u001b[0m                 \u001b[0mioargs\u001b[0m\u001b[1;33m.\u001b[0m\u001b[0mmode\u001b[0m\u001b[1;33m,\u001b[0m\u001b[1;33m\u001b[0m\u001b[1;33m\u001b[0m\u001b[0m\n",
      "\u001b[1;31mFileNotFoundError\u001b[0m: [Errno 2] No such file or directory: '/datasets/data.csv'"
     ]
    }
   ],
   "source": [
    "data = pd.read_csv('/data.csv')\n",
    "data.info()"
   ]
  },
  {
   "cell_type": "markdown",
   "id": "04e9ac48",
   "metadata": {},
   "source": [
    "Из данных видно, что пропуски есть в столбцах days_employed и total_income.\n",
    "Посмотрим на первые 10 строк таблицы, оценим информацию в ней хранящуюся. В таблице есть количественные и катериальные данные. Столбцы days_employed и total_income хранят количественные значения. Пропуски в этих столбцах могли появиться из-за не заполнениях этих данных самими гражданнами."
   ]
  },
  {
   "cell_type": "markdown",
   "id": "2ea848d4",
   "metadata": {},
   "source": [
    "<div class=\"alert alert-block alert-success\">\n",
    "<b>Успех:</b> Достаточно подробный вывод дает нам много полезной информации. Здорово, что ты сделала первоначальный план работы. \n",
    "</div>\n",
    "\n",
    "<div class=\"alert alert-block alert-warning\">\n",
    "<b>Совет: </b> Блок обзора данных крайне важный, потому что именно в нем мы понимаем, какие проблемы должны устранить, на что посмотреть более внимательно. В этом блоке стоит сделать как можно больше разных проверок данных (дубликаты, пропуски, аномалии, графики), чтобы в блоке предобработки ничего не забыть. Будет здорово, если ты добавишь более подробное исследование в этот блок.\n",
    "\n",
    "Я вижу, что у тебя есть проверка на этапе предобработки данных, но в таком случае мы можем что-то упустить, поэтому лучше проверки делать на этапе изучения данных, чтобы четко структурировать дальнейший план обработки и ничего не забыть. \n",
    "</div>"
   ]
  },
  {
   "cell_type": "markdown",
   "id": "2d0cc521",
   "metadata": {},
   "source": [
    "<div class=\"alert alert-info\" role=\"alert\">\n",
    "<b>Комментарий студента: </b>Ты имеешь ввиду, что в разделе обзор данных нужно проверить каждый столбец на на личие анномалий, пропусков и дубликатов, а в разделе предобработка заниматься их устраннением?\n",
    "</div>"
   ]
  },
  {
   "cell_type": "markdown",
   "id": "4313ea33",
   "metadata": {},
   "source": [
    "<div class=\"alert alert-block alert-warning\">\n",
    "<b>V2 Совет: </b> Да, общая схема работы с данными почти всегда именно такая. Исследуем, что не так -> очищаем -> анализируем. Так построена и структуруа текущего проекта. \n",
    "</div>"
   ]
  },
  {
   "cell_type": "code",
   "execution_count": null,
   "id": "5d5cdf2f",
   "metadata": {},
   "outputs": [],
   "source": [
    "data.head(10)"
   ]
  },
  {
   "cell_type": "markdown",
   "id": "a3038ec4",
   "metadata": {},
   "source": [
    "### Шаг 2.1 Заполнение пропусков"
   ]
  },
  {
   "cell_type": "code",
   "execution_count": null,
   "id": "3b953421",
   "metadata": {},
   "outputs": [],
   "source": [
    "data[data['days_employed'].isna()].head()"
   ]
  },
  {
   "cell_type": "code",
   "execution_count": null,
   "id": "05da8793",
   "metadata": {},
   "outputs": [],
   "source": [
    "len(data[data['days_employed'].isna()])/len(data['days_employed'])*100"
   ]
  },
  {
   "cell_type": "markdown",
   "id": "3d1ad4ce",
   "metadata": {},
   "source": [
    "<div class=\"alert alert-info\" role=\"alert\">\n",
    "<b>Комментарий студента: </b>Попробую новый метод\n",
    "</div>"
   ]
  },
  {
   "cell_type": "code",
   "execution_count": null,
   "id": "b9158a2c",
   "metadata": {},
   "outputs": [],
   "source": [
    "data[data['total_income'].isna()].mean()"
   ]
  },
  {
   "cell_type": "code",
   "execution_count": null,
   "id": "7b09bc6d",
   "metadata": {},
   "outputs": [],
   "source": [
    "# Код ревьюера\n",
    "\n",
    "data['total_income'].isna().mean()"
   ]
  },
  {
   "cell_type": "code",
   "execution_count": null,
   "id": "7d193e03",
   "metadata": {},
   "outputs": [],
   "source": [
    "# Код ревьюера\n",
    "# Так можно посмотреть по всем столбцам\n",
    "\n",
    "data.isna().mean()"
   ]
  },
  {
   "cell_type": "markdown",
   "id": "0e7146be",
   "metadata": {},
   "source": [
    "<div class=\"alert alert-info\" role=\"alert\">\n",
    "<b>Комментарий студента: </b>Что имеем? Получили среднее значение по столбцам датафрейма в строчках, где есть пропуски в столбцах days_employed и total_income? Может глупый вопрос, но не понимаю, что это за цифры, что они значат?\n",
    "</div>\n",
    "\n",
    "<div class=\"alert alert-block alert-warning\">\n",
    "<b>V2 Совет: </b> Похоже я опечатался и добавил лишнюю \"data\". Исправил ниже комментарий и выше привожу код.\n",
    "</div>\n",
    "\n",
    "<div class=\"alert alert-info\" role=\"alert\">\n",
    "<b>V2 Комментарий студента: </b>Спасибо. Теперь все понятно c цифрами.\n",
    "</div>"
   ]
  },
  {
   "cell_type": "code",
   "execution_count": null,
   "id": "6a91a0ac",
   "metadata": {},
   "outputs": [],
   "source": [
    "len(data[data['total_income'].isna()])/len(data['total_income'])*100"
   ]
  },
  {
   "cell_type": "markdown",
   "id": "eb518130",
   "metadata": {},
   "source": [
    "Пропуски в таблице обозначенны NaN, они имееют тип float, для расчетов они не помешают.\n",
    "Пропуски в столбцах составляют 10% от общего обЪема информации, это значительная доля. Чтобы не потерять информацию в строках с пропусками, заменим пропуски медиальными значениями этих столбцов.\n",
    "Это подходящий способ замены пропусков в количественных переменных, где могут быть данные с большими расхождениями в значениях."
   ]
  },
  {
   "cell_type": "markdown",
   "id": "94618d61",
   "metadata": {},
   "source": [
    "<div class=\"alert alert-block alert-success\">\n",
    "<b>Успех:</b> Здорово, что ты контролируешь объем пропусков, это важный показатель. Возможно тебе будет удобнее для определния процента пропусков использовать такой вариант: \n",
    "    \n",
    "    data['total_income'].isna().mean()\n",
    "</div>"
   ]
  },
  {
   "cell_type": "code",
   "execution_count": null,
   "id": "277f43a6",
   "metadata": {},
   "outputs": [],
   "source": [
    "median_days_employed = data['days_employed'].median()\n",
    "data['days_employed'] = data['days_employed'].fillna(median_days_employed)\n"
   ]
  },
  {
   "cell_type": "code",
   "execution_count": null,
   "id": "3fb084ae",
   "metadata": {},
   "outputs": [],
   "source": [
    "median_total_income = data['total_income'].median()\n",
    "data['total_income'] = data['total_income'].fillna(median_total_income)\n",
    "data.info()"
   ]
  },
  {
   "cell_type": "markdown",
   "id": "37dd2739",
   "metadata": {},
   "source": [
    "Заменили пропуски в столбцах на медианные значения, и еще раз вывели общую информацию о таблице, \n",
    "пропусков больше нет."
   ]
  },
  {
   "cell_type": "markdown",
   "id": "53673462",
   "metadata": {},
   "source": [
    "<div class=\"alert alert-block alert-success\">\n",
    "<b>Успех:</b> Да, такой способ обработки пропусков будет подходящим. \n",
    "</div>"
   ]
  },
  {
   "cell_type": "markdown",
   "id": "7de4c2b5",
   "metadata": {},
   "source": [
    "### Шаг 2.2 Проверка данных на аномалии и исправления."
   ]
  },
  {
   "cell_type": "code",
   "execution_count": null,
   "id": "780fede6",
   "metadata": {},
   "outputs": [],
   "source": [
    "data['education'].unique()"
   ]
  },
  {
   "cell_type": "markdown",
   "id": "19e4400d",
   "metadata": {},
   "source": [
    "В столбце education исползуется разный регистр букв, приведем все данные к единому виду."
   ]
  },
  {
   "cell_type": "code",
   "execution_count": null,
   "id": "655ea098",
   "metadata": {},
   "outputs": [],
   "source": [
    "data['education'] = data['education'].str.lower()"
   ]
  },
  {
   "cell_type": "code",
   "execution_count": null,
   "id": "3106b726",
   "metadata": {},
   "outputs": [],
   "source": [
    "data['education'].unique()"
   ]
  },
  {
   "cell_type": "markdown",
   "id": "2dd5b3ee",
   "metadata": {},
   "source": [
    "<div class=\"alert alert-block alert-success\">\n",
    "<b>Успех:</b> Вот так легко и просто убрали дубликаты. Элегантно) \n",
    "</div>"
   ]
  },
  {
   "cell_type": "code",
   "execution_count": null,
   "id": "26d40bf6",
   "metadata": {},
   "outputs": [],
   "source": [
    "data['family_status'].unique()"
   ]
  },
  {
   "cell_type": "code",
   "execution_count": null,
   "id": "6b3a8411",
   "metadata": {},
   "outputs": [],
   "source": [
    "data['gender'].unique()"
   ]
  },
  {
   "cell_type": "markdown",
   "id": "d6a219ef",
   "metadata": {},
   "source": [
    "В столбец gender есть аномальное значение, XNA есть только в одной строчке таблицы. Поэтому проигнорируем данную особенность, она не помешает для дальнейшей работы."
   ]
  },
  {
   "cell_type": "markdown",
   "id": "7d90da00",
   "metadata": {},
   "source": [
    "<div class=\"alert alert-block alert-success\">\n",
    "<b>Необходимо исправить: </b> Странная особенность в данных часто требует какой-то предобработки. Давай предположим, как она могла появиться и что с этим можно сделать.  \n",
    "</div>"
   ]
  },
  {
   "cell_type": "markdown",
   "id": "106bdbd3",
   "metadata": {},
   "source": [
    "<div class=\"alert alert-info\" role=\"alert\">\n",
    "<b>Комментарий студента: </b>С предположениями - это сложно)\n",
    "    Эту анномалию можно было бы заменить на подходящее значение, но из таблицы сложно понять какой пол может быть у данного участника кредитования. Поэтому эту строчку можно удалить, но потяряються данные из других колонок, которые могли бы быть полезны для других расчетов (если, конечно, таких строчек с анномальными значениями больше, чем одна). Заполнить средним или медианой нельзя, это категориальные данные. \n",
    "    Строчка одна, если не оставляем, то удаляем. Есть еще какие то варианты? Что можно сделать в этом случае другое? \n",
    "</div>\n",
    "\n",
    "<div class=\"alert alert-block alert-warning\">\n",
    "<b>V2 Совет: </b> Не стоит бояться удалять данные, некоторых данных здесь быть не должно. В то же время увлекаться тоже не стоит, порог в 5% считается критичным для удаления. Думаю эту строку можно безжалостно удалить. Что касается заполнения, то при категориальных переменных замены обычно делаются на самую частотную категорию или на категорию из группировки по другим признакам. Дальше в курсе ты сможешь познакомиться с более продвинутыми методами заполнения пропусков.\n",
    "</div>"
   ]
  },
  {
   "cell_type": "code",
   "execution_count": null,
   "id": "1900ae1e",
   "metadata": {},
   "outputs": [],
   "source": [
    "# удаляем строку с анномальным значением в столбце gender\n",
    "\n",
    "data = data.dropna(subset=['gender']).reset_index(drop=True)"
   ]
  },
  {
   "cell_type": "code",
   "execution_count": null,
   "id": "0bb3eec3",
   "metadata": {},
   "outputs": [],
   "source": [
    "#data[data['gender']=='XNA']"
   ]
  },
  {
   "cell_type": "code",
   "execution_count": null,
   "id": "8940b2da",
   "metadata": {},
   "outputs": [],
   "source": [
    "data['income_type'].unique()"
   ]
  },
  {
   "cell_type": "code",
   "execution_count": null,
   "id": "91e1d27d",
   "metadata": {},
   "outputs": [],
   "source": [
    "data['children'].unique()"
   ]
  },
  {
   "cell_type": "markdown",
   "id": "de2c59bf",
   "metadata": {},
   "source": [
    "В столбце children имеется два аномальных значения. -1 ребенок такого не бывает, а 20 детей это много, заменим это значения на более реальные. -1 на 1 ребенок, 20 на 2 ребенка."
   ]
  },
  {
   "cell_type": "markdown",
   "id": "b81cf37c",
   "metadata": {},
   "source": [
    "<div class=\"alert alert-block alert-success\">\n",
    "<b>Успех:</b> Отлично, нашли еще аномалии. \n",
    "</div>"
   ]
  },
  {
   "cell_type": "code",
   "execution_count": null,
   "id": "9b8216a5",
   "metadata": {},
   "outputs": [],
   "source": [
    "data['children'] = data['children'].replace(-1, 1)\n",
    "data['children'] = data['children'].replace(20, 2)\n",
    "data['children'].unique()"
   ]
  },
  {
   "cell_type": "code",
   "execution_count": null,
   "id": "30585081",
   "metadata": {},
   "outputs": [],
   "source": [
    "data['dob_years'].unique()"
   ]
  },
  {
   "cell_type": "markdown",
   "id": "e62884cb",
   "metadata": {},
   "source": [
    "<div class=\"alert alert-block alert-warning\">\n",
    "<b>Совет: </b> Чем больше значений, тем сложнее такая проверка. Давай попробуем сделать гистограму и понять, все ли ок у нас с данными\n",
    "</div>"
   ]
  },
  {
   "cell_type": "markdown",
   "id": "a0e1c855",
   "metadata": {},
   "source": [
    "<div class=\"alert alert-info\" role=\"alert\">\n",
    "<b>Комментарий студента: </b>В этом спринте мы не проходили гистограммы, но т. к. я уже прошлы теорию следующего спринта Исследовательский анализ данных, то давай построим гистограмму\n",
    "</div>\n",
    "\n",
    "<div class=\"alert alert-block alert-warning\">\n",
    "<b>V2 Совет: </b> Ого, мне казалось, что в тренажере осталась часть про гистограммы. Спасибо что сказала и молодец, что обгоняешь программу :)\n",
    "</div>"
   ]
  },
  {
   "cell_type": "code",
   "execution_count": null,
   "id": "a50100ad",
   "metadata": {},
   "outputs": [],
   "source": [
    "data.plot( y='dob_years', grid=True, kind='hist')"
   ]
  },
  {
   "cell_type": "markdown",
   "id": "ce7ef8dc",
   "metadata": {},
   "source": [
    "<div class=\"alert alert-info\" role=\"alert\">\n",
    "<b>Комментарий студента: </b>Правильно? "
   ]
  },
  {
   "cell_type": "markdown",
   "id": "b949e7a5",
   "metadata": {},
   "source": [
    "<div class=\"alert alert-block alert-warning\">\n",
    "<b>V2 Совет: </b> Да, сейчас мы видим много интересного. Например околонулевые значения и значения в 70 лет\n",
    "</div>"
   ]
  },
  {
   "cell_type": "code",
   "execution_count": null,
   "id": "aeacb4ab",
   "metadata": {},
   "outputs": [],
   "source": [
    "data['dob_years'].max()"
   ]
  },
  {
   "cell_type": "code",
   "execution_count": null,
   "id": "b38e61e8",
   "metadata": {},
   "outputs": [],
   "source": [
    "# Код студента\n",
    "\n",
    "# код с использование метода hist для построения гистограмм, \n",
    "# применили к столбцу dob_years,\n",
    "# взяли 7 корзин\n",
    "\n",
    "data['dob_years'].hist(bins=7)"
   ]
  },
  {
   "cell_type": "markdown",
   "id": "503ebc91",
   "metadata": {},
   "source": [
    "<div class=\"alert alert-info\" role=\"alert\">\n",
    "<b>Комментарий студента: </b>А если чуть иначе построить график, то значения по оси y доходят до 6000. Почему?\n",
    "</div>\n",
    "\n",
    "<div class=\"alert alert-info\" role=\"alert\">\n",
    "<b>V2 Комментарий студента: </b>По оси Y в этом графике так же откладывается частота?\n",
    "</div>\n",
    "\n",
    "<div class=\"alert alert-block alert-warning\">\n",
    "<b>V2 Совет: </b> Покажи в коде и я расскажу как так получилось. Пока есть подозрение, что для построения ты выбрала другой столбец.\n",
    "</div>\n",
    "\n",
    "<div class=\"alert alert-block alert-warning\">\n",
    "<b>V3 Совет: </b> Да, все верно, по оси Y откладывается количество записей, попавших в столбец.\n",
    "</div>"
   ]
  },
  {
   "cell_type": "markdown",
   "id": "549b5497",
   "metadata": {},
   "source": [
    "По гистограмме видно, что есть некоторое количестово значений возроста в районе нуля.\n",
    "В столбце \"возраст\" есть строки с нулевым значением, таких столбцов много, заменим в них нулевой возраст на медианное значение."
   ]
  },
  {
   "cell_type": "code",
   "execution_count": null,
   "id": "f753b9b2",
   "metadata": {},
   "outputs": [],
   "source": [
    "data[data['dob_years']== 0]"
   ]
  },
  {
   "cell_type": "code",
   "execution_count": null,
   "id": "edfdae6f",
   "metadata": {},
   "outputs": [],
   "source": [
    "median_dob_years = data['dob_years'].median()\n",
    "print(median_dob_years)\n",
    "data['dob_years'] = data['dob_years'].replace(0, median_dob_years)\n"
   ]
  },
  {
   "cell_type": "code",
   "execution_count": null,
   "id": "76ead2a4",
   "metadata": {},
   "outputs": [],
   "source": [
    "data['dob_years'].unique()"
   ]
  },
  {
   "cell_type": "code",
   "execution_count": null,
   "id": "3df73f84",
   "metadata": {},
   "outputs": [],
   "source": [
    "data['purpose'].unique()"
   ]
  },
  {
   "cell_type": "code",
   "execution_count": null,
   "id": "6d98ebda",
   "metadata": {},
   "outputs": [],
   "source": [
    "data['debt'].isna().sum()"
   ]
  },
  {
   "cell_type": "markdown",
   "id": "d08d48dd",
   "metadata": {},
   "source": [
    "<div class=\"alert alert-block alert-success\">\n",
    "<b>Успех:</b> Здорово, что планируешь использовать медиану и знаешь про чувствительность среднего к выбросам. \n",
    "</div>\n",
    "\n",
    "<div class=\"alert alert-block alert-success\">\n",
    "<b>Необходимо исправить: </b> Мы сделали большую часть предобработки. Будет круто написать вывод, который опишет преобразования данных, почему и зачем мы делали предобработку  \n",
    "</div>"
   ]
  },
  {
   "cell_type": "markdown",
   "id": "9c903b41",
   "metadata": {},
   "source": [
    "<div class=\"alert alert-info\" role=\"alert\">\n",
    "<b>Комментарий студента: </b>Ох, уже эти вводы))) Это самое сложное в анализе данных. \n",
    "    \n",
    "Проверили все столбцы в таблице на анномальные значения, и исправили их. В основном,делали это для очистки датафрейма, и для дальнейшей правильной работы с данными, что бы плучить корректные результаты. Ну, как то так))) Корявенько)\n",
    "</div>\n",
    "\n",
    "<div class=\"alert alert-block alert-warning\">\n",
    "<b>V2 Совет: </b> Мне однажды посоветовали писать в вывод даже самые очевидные вещи. Сейчас я посоветую это тебе. Так ты сохранишь все мысли на бумаге и, что более важно, для себя сможешь структурировать результат работы. Комментарий исправляю на зеленый в надежде, что чем больше ты будешь писать выводов, тем лучше они будут становиться :) \n",
    "</div>"
   ]
  },
  {
   "cell_type": "markdown",
   "id": "bf7dd445",
   "metadata": {},
   "source": [
    "### Шаг 2.3. Изменение типов данных."
   ]
  },
  {
   "cell_type": "code",
   "execution_count": null,
   "id": "5c151ceb",
   "metadata": {},
   "outputs": [],
   "source": [
    "data['total_income'] = data['total_income'].astype('int')"
   ]
  },
  {
   "cell_type": "markdown",
   "id": "28f74986",
   "metadata": {},
   "source": [
    "<div class=\"alert alert-block alert-success\">\n",
    "<b>Необходимо исправить: </b> Возможно стоит проверить, все ли данные находятся в правильных типах. Может ты что-то упустила?  \n",
    "</div>"
   ]
  },
  {
   "cell_type": "markdown",
   "id": "e0b88470",
   "metadata": {},
   "source": [
    "<div class=\"alert alert-info\" role=\"alert\">\n",
    "<b>Комментарий студента: </b>Сделанно\n",
    "</div>"
   ]
  },
  {
   "cell_type": "code",
   "execution_count": null,
   "id": "e0bfe7c7",
   "metadata": {},
   "outputs": [],
   "source": [
    "data.info()"
   ]
  },
  {
   "cell_type": "markdown",
   "id": "8b3e999c",
   "metadata": {},
   "source": [
    "<div class=\"alert alert-info\" role=\"alert\">\n",
    "<b>Комментарий студента: </b>Замена типа произошла, столбец total_income имеет целочисленый тип\n",
    "</div>"
   ]
  },
  {
   "cell_type": "markdown",
   "id": "512b351b",
   "metadata": {},
   "source": [
    "### Шаг 2.4. Удаление дубликатов."
   ]
  },
  {
   "cell_type": "code",
   "execution_count": null,
   "id": "2eb4f588",
   "metadata": {},
   "outputs": [],
   "source": [
    "data.duplicated().sum()"
   ]
  },
  {
   "cell_type": "code",
   "execution_count": null,
   "id": "ef9ed2c8",
   "metadata": {},
   "outputs": [],
   "source": [
    "duplicated_data = data[data.duplicated()].head()\n",
    "duplicated_data"
   ]
  },
  {
   "cell_type": "code",
   "execution_count": null,
   "id": "4b78cc7b",
   "metadata": {},
   "outputs": [],
   "source": [
    "data = data.drop_duplicates().reset_index(drop=True)"
   ]
  },
  {
   "cell_type": "markdown",
   "id": "3aec48ad",
   "metadata": {},
   "source": [
    "<div class=\"alert alert-block alert-success\">\n",
    "<b>Успех:</b> Здорово, что ты исключила дубликаты. Дополнительно можно было бы посмотреть, какой процент данных мы в итоге удаляем.\n",
    "</div>\n",
    "\n",
    "<div class=\"alert alert-block alert-success\">\n",
    "<b>Необходимо исправить: </b> Давай убедимся, что мы действительно удаляем дубликаты. Сейчас я вижу, что датафрейм с дубликатами на самом деле без дубликатов, хотя сам код удаления дубликатов верный. Еще стоит подумать над причинами появления дубликатов, возможно они возникли из-за нашей обработки. Будет полезно добавить вывод по результатам предобработки.\n",
    "</div>\n"
   ]
  },
  {
   "cell_type": "code",
   "execution_count": null,
   "id": "6613d6d9",
   "metadata": {},
   "outputs": [],
   "source": [
    "data.duplicated().sum()"
   ]
  },
  {
   "cell_type": "markdown",
   "id": "bccc9f5c",
   "metadata": {},
   "source": [
    "<div class=\"alert alert-info\" role=\"alert\">\n",
    "<b>Комментарий студента: </b> Количество дубликатов после обработки 0.\n",
    "</b>Возможно, что дубликаты появились после обработки данных, заполнения пропусков, и изменения регистра букв в столбцах. Возможно, это не дубликаты, а разные люди со схожими данными, которые берут кредит. Из таблице это сложно понять. Выводы по результатам обработки: не знаю, что здесь написать. Провели все этапы предобработки данных, работали с пропусками, с анномальными значениями, явными и не явными дубликатами. \n",
    "</div>"
   ]
  },
  {
   "cell_type": "markdown",
   "id": "e4d11f06",
   "metadata": {},
   "source": [
    "### Шаг 2.5. Формирование дополнительных датафреймов словарей, декомпозиция исходного датафрейма."
   ]
  },
  {
   "cell_type": "code",
   "execution_count": null,
   "id": "6caa55fb",
   "metadata": {},
   "outputs": [],
   "source": [
    "education_dict = data[['education_id','education']].drop_duplicates().reset_index(drop=True)\n",
    "family_status_dict = data[['family_status_id','family_status']].drop_duplicates().reset_index(drop=True)\n"
   ]
  },
  {
   "cell_type": "code",
   "execution_count": null,
   "id": "d2384222",
   "metadata": {},
   "outputs": [],
   "source": [
    "family_status_dict"
   ]
  },
  {
   "cell_type": "code",
   "execution_count": null,
   "id": "6c1573a1",
   "metadata": {},
   "outputs": [],
   "source": [
    "education_dict"
   ]
  },
  {
   "cell_type": "markdown",
   "id": "3982df13",
   "metadata": {},
   "source": [
    "<div class=\"alert alert-block alert-success\">\n",
    "<b>Успех:</b> У нас теперь есть новые словари, здорово! Так мы лучше понимаем структуру наших данных\n",
    "</div>\n",
    "\n",
    "<div class=\"alert alert-block alert-warning\">\n",
    "<b>Совет: </b> Интересная идея для создания дополнительных словарей. Чтобы в будущем не переписывать названия столбцов (их иногда может быть очень много), посмотри на метод drop():\n",
    "    \n",
    "    df.drop(columns=[список_колонок_для_дропа])\n",
    "    \n",
    "</div>"
   ]
  },
  {
   "cell_type": "markdown",
   "id": "f6aa850d",
   "metadata": {},
   "source": [
    "<div class=\"alert alert-info\" role=\"alert\">\n",
    "<b>Комментарий студента: </b>Попробуем этим способом убрать столбцы education и family_status из общей таблицы\n",
    "</div>"
   ]
  },
  {
   "cell_type": "code",
   "execution_count": null,
   "id": "7f883b07",
   "metadata": {},
   "outputs": [],
   "source": [
    "data = data.drop(columns=['education', 'family_status'])\n",
    "data.head(5)"
   ]
  },
  {
   "cell_type": "markdown",
   "id": "c716408f",
   "metadata": {},
   "source": [
    "### Шаг 2.6. Категоризация дохода."
   ]
  },
  {
   "cell_type": "code",
   "execution_count": null,
   "id": "04a1aed6",
   "metadata": {},
   "outputs": [],
   "source": [
    "def total_income_category(total_income):\n",
    "    if total_income <= 30000:\n",
    "        return 'E'\n",
    "    if 30001 <= total_income <= 50000:\n",
    "        return 'D'\n",
    "    if 50001 <= total_income <= 200000:\n",
    "        return 'C'\n",
    "    if 200001 <= total_income <= 1000000:\n",
    "        return 'B'\n",
    "    return 'A'\n",
    "\n",
    "data['total_income_category'] = data['total_income'].apply(total_income_category)"
   ]
  },
  {
   "cell_type": "markdown",
   "id": "c940f2f9",
   "metadata": {},
   "source": [
    "<div class=\"alert alert-block alert-warning\">\n",
    "<b>Совет: </b> Функция - это самый верный способ категоризации дохода. Но вот верно ли работает она? Будет круто потестировать функцию, чтобы убедиться в отсутствии ошибки. Сделать это можно, если мы передаим ей разные пороговые значения.  \n",
    "</div>\n",
    "\n",
    "<div class=\"alert alert-block alert-success\">\n",
    "<b>Необходимо исправить: </b> Будет полезно добавить вывод, посмотреть, как в итоге группа дохода выглядит в нашей таблице\n",
    "</div>"
   ]
  },
  {
   "cell_type": "markdown",
   "id": "df33b384",
   "metadata": {},
   "source": [
    "<div class=\"alert alert-info\" role=\"alert\">\n",
    "<b>Комментарий студента: </b>Сделанно. Вывели первые 20 строк датафрейма. Категоризация добавлена в овом столбце.\n",
    "</div>"
   ]
  },
  {
   "cell_type": "code",
   "execution_count": null,
   "id": "e01e0a26",
   "metadata": {},
   "outputs": [],
   "source": [
    "data.head(20)"
   ]
  },
  {
   "cell_type": "markdown",
   "id": "c264d365",
   "metadata": {},
   "source": [
    "### Шаг 2.7. Категоризация целей кредита."
   ]
  },
  {
   "cell_type": "code",
   "execution_count": null,
   "id": "84904842",
   "metadata": {},
   "outputs": [],
   "source": [
    "from pymystem3 import Mystem\n",
    "m = Mystem()\n",
    "data['lemmas'] = data['purpose'].apply(m.lemmatize)\n",
    "data['lemmas']"
   ]
  },
  {
   "cell_type": "code",
   "execution_count": null,
   "id": "92a3de97",
   "metadata": {},
   "outputs": [],
   "source": [
    "def purpose_category(lemmas):\n",
    "    if 'жилье' in lemmas or 'недвижимость' in lemmas:\n",
    "        return 'операции с недвижимостью'\n",
    "    if 'автомобиль' in lemmas:\n",
    "        return 'операции с автомобилем'\n",
    "    if 'свадьба' in lemmas:\n",
    "        return 'проведение свадьбы'\n",
    "    return 'получение образования'\n",
    "\n",
    "data['purpose_category'] = data['lemmas'].apply(purpose_category)"
   ]
  },
  {
   "cell_type": "code",
   "execution_count": null,
   "id": "b63c3d8f",
   "metadata": {
    "scrolled": true
   },
   "outputs": [],
   "source": [
    "data"
   ]
  },
  {
   "cell_type": "markdown",
   "id": "3ee4ec79",
   "metadata": {},
   "source": [
    "<div class=\"alert alert-block alert-success\">\n",
    "<b>Успех:</b> Редко в работах этого модуля вижу лемматизацию, здорово, что используешь такие инструменты! \n",
    "</div>"
   ]
  },
  {
   "cell_type": "markdown",
   "id": "273b0623",
   "metadata": {},
   "source": [
    "### Шаг 3. Ответы на вопросы."
   ]
  },
  {
   "cell_type": "markdown",
   "id": "26d18290",
   "metadata": {},
   "source": [
    "##### Вопрос 1:\n",
    "Есть ли зависимость между количеством детей и возвратом кредита в срок?"
   ]
  },
  {
   "cell_type": "code",
   "execution_count": null,
   "id": "ceb23a40",
   "metadata": {},
   "outputs": [],
   "source": [
    "data_pivot_children = data.pivot_table(index=['children'], \n",
    "                                       columns='debt', values='total_income_category', aggfunc='count')\n",
    "data_pivot_children"
   ]
  },
  {
   "cell_type": "code",
   "execution_count": null,
   "id": "f20543dc",
   "metadata": {},
   "outputs": [],
   "source": [
    "data_pivot_children['sum'] = data_pivot_children[0] + data_pivot_children[1]\n",
    "data_pivot_children['0%'] = data_pivot_children[0] / data_pivot_children['sum']\n",
    "data_pivot_children['1%'] = data_pivot_children[1] / data_pivot_children['sum']\n",
    "data_pivot_children"
   ]
  },
  {
   "cell_type": "markdown",
   "id": "3d9bcf66",
   "metadata": {},
   "source": [
    "Не поняла почему в строке с 5 детьми, количество тех, кто не вернул кредит NaN. Проверила в столбце debt нет пропусков."
   ]
  },
  {
   "cell_type": "markdown",
   "id": "b087cc3f",
   "metadata": {},
   "source": [
    "<div class=\"alert alert-block alert-success\">\n",
    "<b>Успех:</b> Интересно, в чем могут быть причины такой разницы? Круто, что используешь pivot_table для агрегации.\n",
    "</div>\n",
    "\n",
    "<div class=\"alert alert-block alert-warning\">\n",
    "<b>Совет: </b> Попробуй посчитать процент просрочивших кредит следующим образом:\n",
    "    \n",
    "    data.groupby('debt')['твоя_колонка'].mean()\n",
    "    \n",
    "Возможно так тебе станет очевиднее расчет :)\n",
    "</div>\n",
    "\n",
    "<div class=\"alert alert-block alert-success\">\n",
    "<b>V2 Успех:</b> А вот пример того, как изменение группировок влияет на цифры :) \n",
    "</div>"
   ]
  },
  {
   "cell_type": "markdown",
   "id": "993b92b4",
   "metadata": {},
   "source": [
    "<div class=\"alert alert-info\" role=\"alert\">\n",
    "<b>Комментарий студента: </b>Попробую применить новый код. \n",
    "    \n",
    "Получили две цифры среднего значения чего? Родион, опять не понимаю, что это за значения. Сделали группоровку про возврату кредита, а ресчет среднего по столбцу с детьми. Я правильно поняла работу кода?\n",
    "</div>\n",
    "\n",
    "<div class=\"alert alert-block alert-success\">\n",
    "<b>V2 Успех:</b> Ты получила среднее количество детей у тех, кто отдал и не отдал кредит. Я привел правильный код ниже, так будет чуть понятнее механика \n",
    "</div>"
   ]
  },
  {
   "cell_type": "code",
   "execution_count": null,
   "id": "6a7ac4ef",
   "metadata": {
    "scrolled": false
   },
   "outputs": [],
   "source": [
    "data.groupby('debt')['children'].mean()"
   ]
  },
  {
   "cell_type": "code",
   "execution_count": null,
   "id": "e4536aa7",
   "metadata": {},
   "outputs": [],
   "source": [
    "# Код ревьюера\n",
    "\n",
    "data.groupby('children')['debt'].mean()"
   ]
  },
  {
   "cell_type": "markdown",
   "id": "be59f3bb",
   "metadata": {},
   "source": [
    "<div class=\"alert alert-info\" role=\"alert\">\n",
    "<b>V2 Комментарий студента: </b>Ясно. Получили процент людей не вернувших кредит в зависимости от количество детей в семье. Больше всех таких, у кого 4 детей - их 9,8%, а вот семьи с 3 детьми кредит возвращают лучше, должников 8,2%.\n",
    "</div>"
   ]
  },
  {
   "cell_type": "markdown",
   "id": "d9608d5f",
   "metadata": {},
   "source": [
    "##### Вывод 1:"
   ]
  },
  {
   "cell_type": "markdown",
   "id": "9ad7681e",
   "metadata": {},
   "source": [
    "Чаще возвращают кредит люди без детей, их 92%. Люди с детьми возвращают кредит в 90% случаях."
   ]
  },
  {
   "cell_type": "markdown",
   "id": "ce7172a5",
   "metadata": {},
   "source": [
    "<div class=\"alert alert-block alert-success\">\n",
    "<b>Успех:</b> Здорово, похоже наличие детей действительно влияет на возврат кредита. Однако банку интересно посмотреть, сколько же процентов НЕ вернули кредит. Будет круто ответить на этот вопрос здесь и далее\n",
    "</div>\n",
    "\n",
    "<div class=\"alert alert-info\" role=\"alert\">\n",
    "<b>Комментарий студента: </b>Кредит чаше не возвращают людей с детьми, чем без детей.\n",
    "</div>"
   ]
  },
  {
   "cell_type": "markdown",
   "id": "1ba86b99",
   "metadata": {},
   "source": [
    "##### Вопрос 2:\n",
    "Есть ли зависимость между семейным положением и возвратом кредита в срок?"
   ]
  },
  {
   "cell_type": "code",
   "execution_count": null,
   "id": "20103c4b",
   "metadata": {},
   "outputs": [],
   "source": [
    "#data_pivot_family_status = data.pivot_table(index=['family_status_id'], columns='debt',\n",
    "#                                            values='family_status_id', aggfunc='count')\n",
    "#data_pivot_family_status"
   ]
  },
  {
   "cell_type": "code",
   "execution_count": null,
   "id": "7d570b81",
   "metadata": {},
   "outputs": [],
   "source": [
    "#data_pivot_family_status['sum'] = data_pivot_family_status[0] + data_pivot_family_status[1]\n",
    "#data_pivot_family_status['0%'] = data_pivot_family_status[0] / data_pivot_family_status['sum']\n",
    "#data_pivot_family_status['1%'] = data_pivot_family_status[1] / data_pivot_family_status['sum']\n",
    "#data_pivot_family_status"
   ]
  },
  {
   "cell_type": "markdown",
   "id": "a5ff2793",
   "metadata": {},
   "source": [
    "<div class=\"alert alert-block alert-warning\">\n",
    "<b>Совет: </b> Здесь тоже стоит немного изменить код для расчета. \n",
    "</div>\n",
    "\n",
    "<div class=\"alert alert-info\" role=\"alert\">\n",
    "<b>Комментарий студента: </b>Так?\n",
    "</div>"
   ]
  },
  {
   "cell_type": "code",
   "execution_count": null,
   "id": "eb8cefc7",
   "metadata": {},
   "outputs": [],
   "source": [
    "data.groupby('debt')['family_status_id'].mean()"
   ]
  },
  {
   "cell_type": "code",
   "execution_count": null,
   "id": "2744df90",
   "metadata": {},
   "outputs": [],
   "source": [
    "# Код ревьюера\n",
    "\n",
    "data.groupby('family_status_id')['debt'].mean()"
   ]
  },
  {
   "cell_type": "markdown",
   "id": "9ca371e6",
   "metadata": {},
   "source": [
    "<div class=\"alert alert-info\" role=\"alert\">\n",
    "<b>V2 Комментарий студента: </b>Хуже всего возвращают кредит одинокие люди, им сложнее всего, у них нет поддержки второй половины 9,8%. Люди состоящие в гражданском браке тоже часто не возвращают кредит 9,3%. Лучше всего выплачивают люди, потерявшие свою пару, не возврат составляет 6,6%. Возможно, это связано с получением страховки или иных выплат за потерю супруга. Мне было бы интересно посмотреть на, что берет кредит эта категория граждан. Семейные и в разводе выплачивают кредиты примерно одинавково, задолжников среди них около 7%, наверно, это связано с наличием поддержки со стороны второго супруга.\n",
    "</div>\n",
    "\n",
    "\n",
    "\n",
    "<div class=\"alert alert-info\" role=\"alert\">\n",
    "<b>Комментарий студента: </b>Дальше не стала применять метод, т.к. не понимаю его смысл.\n",
    "</div>\n",
    "\n"
   ]
  },
  {
   "cell_type": "markdown",
   "id": "7340c307",
   "metadata": {},
   "source": [
    "##### Вывод 2:"
   ]
  },
  {
   "cell_type": "markdown",
   "id": "cf6de87a",
   "metadata": {},
   "source": [
    "Хуже отдают кредит люди одинокие или, находящиеся в незарегестрированных отношениях, 90%. Затем идут люди в браке или в разводе - 92%, лучше отдают кредиты люди овдовевшие."
   ]
  },
  {
   "cell_type": "markdown",
   "id": "b38ef2b6",
   "metadata": {},
   "source": [
    "<div class=\"alert alert-block alert-success\">\n",
    "<b>Успех:</b> Разница существенная, это будет важно банку!\n",
    "</div>"
   ]
  },
  {
   "cell_type": "markdown",
   "id": "be851130",
   "metadata": {},
   "source": [
    "##### Вопрос 3:\n",
    "Есть ли зависимость между уровнем дохода и возвратом кредита в срок?"
   ]
  },
  {
   "cell_type": "code",
   "execution_count": null,
   "id": "6965a91f",
   "metadata": {},
   "outputs": [],
   "source": [
    "data.groupby('total_income_category')['debt'].mean()"
   ]
  },
  {
   "cell_type": "code",
   "execution_count": null,
   "id": "5f823436",
   "metadata": {},
   "outputs": [],
   "source": [
    "#data_pivot_total_income = data.pivot_table(index=['total_income_category'], \n",
    "#                                           columns='debt', values='total_income', aggfunc='count')\n",
    "#data_pivot_total_income"
   ]
  },
  {
   "cell_type": "code",
   "execution_count": null,
   "id": "7ddfd4a8",
   "metadata": {},
   "outputs": [],
   "source": [
    "#data_pivot_total_income['sum'] = data_pivot_total_income[0] + data_pivot_total_income[1]\n",
    "#data_pivot_total_income['0%'] = data_pivot_total_income[0] / data_pivot_total_income['sum']\n",
    "#data_pivot_total_income['1%'] = data_pivot_total_income[1] / data_pivot_total_income['sum']\n",
    "#data_pivot_total_income"
   ]
  },
  {
   "cell_type": "markdown",
   "id": "e62dc7f4",
   "metadata": {},
   "source": [
    "##### Вывод 3:"
   ]
  },
  {
   "cell_type": "markdown",
   "id": "44ee9562",
   "metadata": {},
   "source": [
    "Лучше всего кредит возвращают люди со средним достатком - 94%. Хуже - люди с низким достатком, 90%."
   ]
  },
  {
   "cell_type": "markdown",
   "id": "a5a28ed4",
   "metadata": {},
   "source": [
    "<div class=\"alert alert-block alert-success\">\n",
    "<b>Необходимо исправить: </b> Давай предположим возможные причины задолженностей клиентов. Какой по твоему мнению будет ТОП-3 причин?\n",
    "</div>\n",
    "\n",
    "<div class=\"alert alert-info\" role=\"alert\">\n",
    "<b>Комментарий студента: </b>Ох, опять гипотезы и выводы))) Люди с низким доходом могут иметь задолжности по кредиту по нескольким причинам:\n",
    "    \n",
    "* не хватка средств\n",
    "* потеря работы\n",
    "* **и я не знаю** ((  \n",
    "* безотвественное отношение к выплоте кредита\n",
    "</div>\n",
    "\n",
    "<div class=\"alert alert-block alert-success\">\n",
    "<b>V2 Успех: </b> Видишь, 3 причины ведь знаешь, а значит банку уже есть с чем работать :)\n",
    "</div>\n"
   ]
  },
  {
   "cell_type": "markdown",
   "id": "c997362d",
   "metadata": {},
   "source": [
    "##### Вопрос 4:\n",
    "Как разные цели кредита влияют на его возврат в срок?"
   ]
  },
  {
   "cell_type": "code",
   "execution_count": null,
   "id": "5431e376",
   "metadata": {},
   "outputs": [],
   "source": [
    "data.groupby('purpose_category')['debt'].mean()"
   ]
  },
  {
   "cell_type": "code",
   "execution_count": null,
   "id": "408f9ab0",
   "metadata": {},
   "outputs": [],
   "source": [
    "#data_pivot_purpose = data.pivot_table(index=['purpose_category'], columns='debt', values='total_income', aggfunc='count')\n",
    "#data_pivot_purpose"
   ]
  },
  {
   "cell_type": "code",
   "execution_count": null,
   "id": "a99d16d6",
   "metadata": {},
   "outputs": [],
   "source": [
    "#data_pivot_purpose['sum'] = data_pivot_purpose[0] + data_pivot_purpose[1]\n",
    "#data_pivot_purpose['1%'] = data_pivot_purpose[1] / data_pivot_purpose['sum']\n",
    "#data_pivot_purpose"
   ]
  },
  {
   "cell_type": "markdown",
   "id": "6b3049b5",
   "metadata": {},
   "source": [
    "##### Вывод 4:"
   ]
  },
  {
   "cell_type": "markdown",
   "id": "25323879",
   "metadata": {},
   "source": [
    "Кредит возвращают лучше те, кто берет его на покупку недвижемости 92%. Следующие идут те, кто берет кредит на свадьбу 91%, следующие те, кто покупает автомобиль и повышают образование, их по 90%."
   ]
  },
  {
   "cell_type": "markdown",
   "id": "9ecd7be0",
   "metadata": {},
   "source": [
    "<div class=\"alert alert-block alert-success\">\n",
    "<b>Успех:</b> Похоже, что цель кредита в каком-то смысле характеризует заемщика, интересно! \n",
    "</div>"
   ]
  },
  {
   "cell_type": "markdown",
   "id": "cdb8fe55",
   "metadata": {},
   "source": [
    "## Общий вывод:"
   ]
  },
  {
   "cell_type": "markdown",
   "id": "f7592d59",
   "metadata": {},
   "source": [
    "В большенстве своем кредиты отдают люди отвественные, имеющие средний доход, детей, и состоящие в зарегестрированых отношениях."
   ]
  },
  {
   "cell_type": "markdown",
   "id": "43cbcb63",
   "metadata": {},
   "source": [
    "<div class=\"alert alert-block alert-success\">\n",
    "<b>Необходимо исправить: </b> Ты проделала большую работу, исследовала множество разных зависимостей и причин просрочек по кредитам. Возможно стоит более детально описать проделанную работу, сделать выводы и порекомендовать руководству банка дальнейшие действия, чтобы должников стало поменьше.\n",
    "</div>\n",
    "\n",
    "<div class=\"alert alert-block alert-success\">\n",
    "<b>Успех:</b> Здорово, что ты пишешь функции для своего кода, хорошо структурируешь ноутбук и стараешься глубже разобраться в вопросе. Ты выполнила все пункты работы, молодец! Критических замечаний немного, однако их важно исправить. Также есть желтые комментарии, которые стоит исправить. Думаю, ты справишься с этим быстро. Жду твою работу :) \n",
    "</div>\n",
    "\n",
    "<div class=\"alert alert-info\" role=\"alert\">\n",
    "<b>Комментарий студента: </b>Что можно порекомендовать?...\n",
    "    \n",
    "Страховать заемщиков имеющих детей и низкий заработок, предлогать для них особые условия, меньший месяцный платеж. Или может, вообще, не давать кредиты определенным катерогия граждан, одиноким людям, например.\n",
    "    \n",
    "Больше похоже на брет, но как вы это делаете? Не уже ли надо изучить банковское дело, что бы корректно давать рекомендации?\n",
    "</div>\n",
    "\n",
    "\n",
    "<div class=\"alert alert-block alert-warning\">\n",
    "<b>V2 Совет: </b> Попробуй пройтись глазами по работе, отметить в выводе основные этапы работы и их результаты. Так ты сведешь информацию из промежуточных выводов в один последовательный рассказ, который так важен банку.\n",
    "</div>\n",
    "\n",
    "<div class=\"alert alert-info\" role=\"alert\">\n",
    "<b>V2 Комментарий студента: </b>Спасибо большое за подсказки и помощь. Сейчас работа для меня стала более интересной, появилось много вопросов. Например, интересно посмотреть, как возвращают кредиты люди с высшим образованием или люди со степенью, на какие нужды берут кредиты люди в возрасте 75 лет, или кто чаще повышает свой уровень образования, люди, имеющие высшее образование, и продолжающие повышать свой интелект или те, кто имеет только среднее, как возвращают кредиты люди в зависимости от возраста.\n",
    "    \n",
    "В работе нужно было ответить на четыре вопроса, как часто не возвращают кредит люди в зависимости от их семейного пложения, дохода и цели кредита. \n",
    "    \n",
    "Самая надежная катерогрия граждан  - это люди состояшие в браке, без детей, со средним доходом и покупающие недвижемость. \n",
    "    \n",
    "Должников больше среди одиноких людей с низким доходом, и многодетные семьи от 4 детей.\n",
    "    \n",
    "Самый не надежный вид кредитования это операции с автомобилем, вероятность не возврата кредита 9,3%.\n",
    "    \n",
    "Очень интересно, что люди со средним доходом чаще не возвращают кредит 8,5%, чем люди с доходом ниже среднего 6% или выше среднего 7,1%. Люди с высоким долходом тоже склоны не возвращать креди их 8%. Конечно, больше всего людей с низким доходом их 9%.\n",
    "    \n",
    "Интересно также, что среди людей имеющих детей, не вернувших кредит больше среди тех у кого 4 детей 9,8%, а вот, у кого 3 детй отдают кредиты лучше всех, задолжников только 8,2%. Значительная разница по должникам с появлением четвертого ребенка.\n",
    "    \n",
    "Тяжелее всего возвращать кредит людям одиноким и, состоящим в незарестрированых отношениях, их 9,1% и 9,3% соотвественно. \n",
    "    \n",
    "Банкам стоит лучше смотреть на категории людей, и исключать опасные сочетания параметров неблагонадежности граждан.\n",
    "</div>"
   ]
  }
 ],
 "metadata": {
  "ExecuteTimeLog": [
   {
    "duration": 613,
    "start_time": "2022-02-01T06:07:48.268Z"
   },
   {
    "duration": 59,
    "start_time": "2022-02-01T06:07:49.609Z"
   },
   {
    "duration": 8,
    "start_time": "2022-02-01T06:11:09.912Z"
   },
   {
    "duration": 20,
    "start_time": "2022-02-01T06:13:41.726Z"
   },
   {
    "duration": 4,
    "start_time": "2022-02-01T07:46:25.746Z"
   },
   {
    "duration": 3,
    "start_time": "2022-02-01T07:46:46.211Z"
   },
   {
    "duration": 3,
    "start_time": "2022-02-01T07:52:03.313Z"
   },
   {
    "duration": 4,
    "start_time": "2022-02-01T07:52:25.007Z"
   },
   {
    "duration": 10,
    "start_time": "2022-02-01T07:53:23.461Z"
   },
   {
    "duration": 7,
    "start_time": "2022-02-01T07:55:48.755Z"
   },
   {
    "duration": 10,
    "start_time": "2022-02-01T07:56:32.936Z"
   },
   {
    "duration": 15,
    "start_time": "2022-02-01T07:56:49.820Z"
   },
   {
    "duration": 6,
    "start_time": "2022-02-01T07:58:31.957Z"
   },
   {
    "duration": 322,
    "start_time": "2022-02-01T08:04:42.872Z"
   },
   {
    "duration": 5,
    "start_time": "2022-02-01T08:04:52.785Z"
   },
   {
    "duration": 4,
    "start_time": "2022-02-01T08:04:54.258Z"
   },
   {
    "duration": 15,
    "start_time": "2022-02-01T08:06:35.964Z"
   },
   {
    "duration": 11,
    "start_time": "2022-02-01T08:23:05.844Z"
   },
   {
    "duration": 10,
    "start_time": "2022-02-01T08:23:17.413Z"
   },
   {
    "duration": 11,
    "start_time": "2022-02-01T08:23:32.440Z"
   },
   {
    "duration": 6,
    "start_time": "2022-02-01T08:24:30.568Z"
   },
   {
    "duration": 9,
    "start_time": "2022-02-01T08:25:19.591Z"
   },
   {
    "duration": 8,
    "start_time": "2022-02-01T08:26:40.040Z"
   },
   {
    "duration": 3,
    "start_time": "2022-02-01T08:26:48.526Z"
   },
   {
    "duration": 60,
    "start_time": "2022-02-01T08:26:50.573Z"
   },
   {
    "duration": 14,
    "start_time": "2022-02-01T08:26:55.378Z"
   },
   {
    "duration": 21,
    "start_time": "2022-02-01T08:26:59.966Z"
   },
   {
    "duration": 17,
    "start_time": "2022-02-01T08:27:14.859Z"
   },
   {
    "duration": 94,
    "start_time": "2022-02-01T08:28:24.331Z"
   },
   {
    "duration": 16,
    "start_time": "2022-02-01T08:28:49.303Z"
   },
   {
    "duration": 6,
    "start_time": "2022-02-01T08:29:24.977Z"
   },
   {
    "duration": 6,
    "start_time": "2022-02-01T08:30:46.690Z"
   },
   {
    "duration": 6,
    "start_time": "2022-02-01T08:31:06.102Z"
   },
   {
    "duration": 9,
    "start_time": "2022-02-01T08:31:58.202Z"
   },
   {
    "duration": 5,
    "start_time": "2022-02-01T13:31:47.501Z"
   },
   {
    "duration": 16,
    "start_time": "2022-02-01T15:33:16.786Z"
   },
   {
    "duration": 13,
    "start_time": "2022-02-01T15:34:02.397Z"
   },
   {
    "duration": 5,
    "start_time": "2022-02-01T15:34:25.346Z"
   },
   {
    "duration": 269,
    "start_time": "2022-02-01T15:34:59.693Z"
   },
   {
    "duration": 4,
    "start_time": "2022-02-01T15:35:07.734Z"
   },
   {
    "duration": 356,
    "start_time": "2022-02-01T15:36:01.399Z"
   },
   {
    "duration": 11,
    "start_time": "2022-02-01T15:36:15.205Z"
   },
   {
    "duration": 7,
    "start_time": "2022-02-01T15:36:17.640Z"
   },
   {
    "duration": 7,
    "start_time": "2022-02-01T15:40:07.319Z"
   },
   {
    "duration": 5,
    "start_time": "2022-02-01T15:40:40.470Z"
   },
   {
    "duration": 15,
    "start_time": "2022-02-01T15:44:07.383Z"
   },
   {
    "duration": 5,
    "start_time": "2022-02-01T15:48:20.522Z"
   },
   {
    "duration": 26,
    "start_time": "2022-02-01T15:49:22.328Z"
   },
   {
    "duration": 7,
    "start_time": "2022-02-01T15:59:25.723Z"
   },
   {
    "duration": 271,
    "start_time": "2022-02-01T16:31:43.420Z"
   },
   {
    "duration": 15,
    "start_time": "2022-02-01T16:32:34.101Z"
   },
   {
    "duration": 4,
    "start_time": "2022-02-01T16:33:12.591Z"
   },
   {
    "duration": 5,
    "start_time": "2022-02-01T16:39:25.780Z"
   },
   {
    "duration": 5,
    "start_time": "2022-02-01T16:42:20.531Z"
   },
   {
    "duration": 9,
    "start_time": "2022-02-01T16:42:46.121Z"
   },
   {
    "duration": 7,
    "start_time": "2022-02-01T16:45:30.033Z"
   },
   {
    "duration": 6,
    "start_time": "2022-02-01T16:46:05.811Z"
   },
   {
    "duration": 25,
    "start_time": "2022-02-01T16:46:08.407Z"
   },
   {
    "duration": 8,
    "start_time": "2022-02-01T16:46:11.156Z"
   },
   {
    "duration": 9,
    "start_time": "2022-02-01T16:46:28.021Z"
   },
   {
    "duration": 5,
    "start_time": "2022-02-01T16:47:03.115Z"
   },
   {
    "duration": 7,
    "start_time": "2022-02-01T16:47:26.753Z"
   },
   {
    "duration": 7,
    "start_time": "2022-02-01T16:47:37.217Z"
   },
   {
    "duration": 5,
    "start_time": "2022-02-01T16:47:46.773Z"
   },
   {
    "duration": 6,
    "start_time": "2022-02-01T16:49:01.206Z"
   },
   {
    "duration": 6,
    "start_time": "2022-02-01T16:49:02.888Z"
   },
   {
    "duration": 6,
    "start_time": "2022-02-01T16:49:57.509Z"
   },
   {
    "duration": 6,
    "start_time": "2022-02-01T16:50:00.777Z"
   },
   {
    "duration": 7,
    "start_time": "2022-02-01T16:50:09.698Z"
   },
   {
    "duration": 6,
    "start_time": "2022-02-01T16:50:12.097Z"
   },
   {
    "duration": 5,
    "start_time": "2022-02-01T16:50:27.614Z"
   },
   {
    "duration": 9,
    "start_time": "2022-02-01T16:50:29.012Z"
   },
   {
    "duration": 6,
    "start_time": "2022-02-01T16:50:30.224Z"
   },
   {
    "duration": 5,
    "start_time": "2022-02-01T16:50:30.961Z"
   },
   {
    "duration": 6,
    "start_time": "2022-02-01T16:50:45.746Z"
   },
   {
    "duration": 6,
    "start_time": "2022-02-01T16:51:19.036Z"
   },
   {
    "duration": 6,
    "start_time": "2022-02-01T16:51:26.308Z"
   },
   {
    "duration": 3,
    "start_time": "2022-02-01T16:51:58.982Z"
   },
   {
    "duration": 63,
    "start_time": "2022-02-01T16:51:58.987Z"
   },
   {
    "duration": 14,
    "start_time": "2022-02-01T16:51:59.052Z"
   },
   {
    "duration": 34,
    "start_time": "2022-02-01T16:51:59.069Z"
   },
   {
    "duration": 8,
    "start_time": "2022-02-01T16:51:59.105Z"
   },
   {
    "duration": 7,
    "start_time": "2022-02-01T16:51:59.115Z"
   },
   {
    "duration": 8,
    "start_time": "2022-02-01T16:51:59.124Z"
   },
   {
    "duration": 14,
    "start_time": "2022-02-01T16:51:59.134Z"
   },
   {
    "duration": 5,
    "start_time": "2022-02-01T16:51:59.151Z"
   },
   {
    "duration": 56,
    "start_time": "2022-02-01T16:51:59.157Z"
   },
   {
    "duration": 9,
    "start_time": "2022-02-01T16:51:59.215Z"
   },
   {
    "duration": 10,
    "start_time": "2022-02-01T16:51:59.226Z"
   },
   {
    "duration": 5,
    "start_time": "2022-02-01T16:51:59.238Z"
   },
   {
    "duration": 14,
    "start_time": "2022-02-01T16:51:59.245Z"
   },
   {
    "duration": 9,
    "start_time": "2022-02-01T16:51:59.260Z"
   },
   {
    "duration": 32,
    "start_time": "2022-02-01T16:51:59.271Z"
   },
   {
    "duration": 10,
    "start_time": "2022-02-01T16:51:59.305Z"
   },
   {
    "duration": 6,
    "start_time": "2022-02-01T16:51:59.317Z"
   },
   {
    "duration": 27,
    "start_time": "2022-02-01T16:51:59.325Z"
   },
   {
    "duration": 6,
    "start_time": "2022-02-01T16:51:59.354Z"
   },
   {
    "duration": 5,
    "start_time": "2022-02-01T16:51:59.362Z"
   },
   {
    "duration": 5,
    "start_time": "2022-02-01T16:52:23.206Z"
   },
   {
    "duration": 19,
    "start_time": "2022-02-01T16:54:05.781Z"
   },
   {
    "duration": 19,
    "start_time": "2022-02-01T16:55:54.064Z"
   },
   {
    "duration": 23,
    "start_time": "2022-02-01T16:56:16.537Z"
   },
   {
    "duration": 24,
    "start_time": "2022-02-01T16:56:24.441Z"
   },
   {
    "duration": 20,
    "start_time": "2022-02-01T16:59:35.472Z"
   },
   {
    "duration": 18,
    "start_time": "2022-02-01T17:03:01.866Z"
   },
   {
    "duration": 911,
    "start_time": "2022-02-02T07:22:45.789Z"
   },
   {
    "duration": 78,
    "start_time": "2022-02-02T07:22:46.703Z"
   },
   {
    "duration": 28,
    "start_time": "2022-02-02T07:22:46.783Z"
   },
   {
    "duration": 30,
    "start_time": "2022-02-02T07:22:46.813Z"
   },
   {
    "duration": 7,
    "start_time": "2022-02-02T07:22:46.845Z"
   },
   {
    "duration": 22,
    "start_time": "2022-02-02T07:22:46.854Z"
   },
   {
    "duration": 5,
    "start_time": "2022-02-02T07:22:46.878Z"
   },
   {
    "duration": 11,
    "start_time": "2022-02-02T07:22:46.886Z"
   },
   {
    "duration": 4,
    "start_time": "2022-02-02T07:22:46.900Z"
   },
   {
    "duration": 29,
    "start_time": "2022-02-02T07:22:46.906Z"
   },
   {
    "duration": 5,
    "start_time": "2022-02-02T07:22:46.937Z"
   },
   {
    "duration": 7,
    "start_time": "2022-02-02T07:22:46.944Z"
   },
   {
    "duration": 8,
    "start_time": "2022-02-02T07:22:46.953Z"
   },
   {
    "duration": 15,
    "start_time": "2022-02-02T07:22:46.962Z"
   },
   {
    "duration": 6,
    "start_time": "2022-02-02T07:22:46.979Z"
   },
   {
    "duration": 41,
    "start_time": "2022-02-02T07:22:46.986Z"
   },
   {
    "duration": 6,
    "start_time": "2022-02-02T07:22:47.029Z"
   },
   {
    "duration": 5,
    "start_time": "2022-02-02T07:22:47.037Z"
   },
   {
    "duration": 21,
    "start_time": "2022-02-02T07:22:47.044Z"
   },
   {
    "duration": 4,
    "start_time": "2022-02-02T07:22:47.066Z"
   },
   {
    "duration": 6,
    "start_time": "2022-02-02T07:22:47.072Z"
   },
   {
    "duration": 4,
    "start_time": "2022-02-02T07:22:47.079Z"
   },
   {
    "duration": 58,
    "start_time": "2022-02-02T07:22:47.086Z"
   },
   {
    "duration": 20,
    "start_time": "2022-02-02T07:22:47.146Z"
   },
   {
    "duration": 18,
    "start_time": "2022-02-02T07:22:47.168Z"
   },
   {
    "duration": 5,
    "start_time": "2022-02-02T07:22:47.187Z"
   },
   {
    "duration": 6,
    "start_time": "2022-02-02T07:34:22.892Z"
   },
   {
    "duration": 5,
    "start_time": "2022-02-02T08:00:44.168Z"
   },
   {
    "duration": -548,
    "start_time": "2022-02-02T08:01:53.454Z"
   },
   {
    "duration": 8708,
    "start_time": "2022-02-02T08:01:56.523Z"
   },
   {
    "duration": 9527,
    "start_time": "2022-02-02T08:02:31.802Z"
   },
   {
    "duration": 429,
    "start_time": "2022-02-02T17:11:33.589Z"
   },
   {
    "duration": 739,
    "start_time": "2022-02-02T17:11:59.965Z"
   },
   {
    "duration": 78,
    "start_time": "2022-02-02T17:12:00.707Z"
   },
   {
    "duration": 29,
    "start_time": "2022-02-02T17:12:00.788Z"
   },
   {
    "duration": 45,
    "start_time": "2022-02-02T17:12:00.819Z"
   },
   {
    "duration": 15,
    "start_time": "2022-02-02T17:12:00.866Z"
   },
   {
    "duration": 17,
    "start_time": "2022-02-02T17:12:00.883Z"
   },
   {
    "duration": 7,
    "start_time": "2022-02-02T17:12:00.903Z"
   },
   {
    "duration": 43,
    "start_time": "2022-02-02T17:12:00.914Z"
   },
   {
    "duration": 7,
    "start_time": "2022-02-02T17:12:00.961Z"
   },
   {
    "duration": 31,
    "start_time": "2022-02-02T17:12:00.970Z"
   },
   {
    "duration": 32,
    "start_time": "2022-02-02T17:12:01.004Z"
   },
   {
    "duration": 10,
    "start_time": "2022-02-02T17:12:01.039Z"
   },
   {
    "duration": 29,
    "start_time": "2022-02-02T17:12:01.051Z"
   },
   {
    "duration": 53,
    "start_time": "2022-02-02T17:12:01.083Z"
   },
   {
    "duration": 12,
    "start_time": "2022-02-02T17:12:01.139Z"
   },
   {
    "duration": 17,
    "start_time": "2022-02-02T17:12:01.153Z"
   },
   {
    "duration": 43,
    "start_time": "2022-02-02T17:12:01.172Z"
   },
   {
    "duration": 26,
    "start_time": "2022-02-02T17:12:01.217Z"
   },
   {
    "duration": 43,
    "start_time": "2022-02-02T17:12:01.245Z"
   },
   {
    "duration": 14,
    "start_time": "2022-02-02T17:12:01.291Z"
   },
   {
    "duration": 23,
    "start_time": "2022-02-02T17:12:01.308Z"
   },
   {
    "duration": 16,
    "start_time": "2022-02-02T17:12:01.334Z"
   },
   {
    "duration": 14,
    "start_time": "2022-02-02T17:12:01.356Z"
   },
   {
    "duration": 46,
    "start_time": "2022-02-02T17:12:01.373Z"
   },
   {
    "duration": 39,
    "start_time": "2022-02-02T17:12:01.421Z"
   },
   {
    "duration": 26,
    "start_time": "2022-02-02T17:12:01.463Z"
   },
   {
    "duration": 8,
    "start_time": "2022-02-02T17:12:01.492Z"
   },
   {
    "duration": 23,
    "start_time": "2022-02-02T17:12:01.502Z"
   },
   {
    "duration": 20,
    "start_time": "2022-02-02T17:12:50.249Z"
   },
   {
    "duration": 7,
    "start_time": "2022-02-02T17:14:12.878Z"
   },
   {
    "duration": 32,
    "start_time": "2022-02-02T17:18:51.265Z"
   },
   {
    "duration": 14,
    "start_time": "2022-02-02T17:20:41.784Z"
   },
   {
    "duration": 32,
    "start_time": "2022-02-02T17:20:45.346Z"
   },
   {
    "duration": 299,
    "start_time": "2022-02-02T17:26:17.965Z"
   },
   {
    "duration": 4982,
    "start_time": "2022-02-02T17:26:58.272Z"
   },
   {
    "duration": 4947,
    "start_time": "2022-02-02T17:27:17.074Z"
   },
   {
    "duration": 4920,
    "start_time": "2022-02-02T17:32:40.778Z"
   },
   {
    "duration": 4977,
    "start_time": "2022-02-02T17:35:07.900Z"
   },
   {
    "duration": 9189,
    "start_time": "2022-02-02T17:35:57.816Z"
   },
   {
    "duration": 4892,
    "start_time": "2022-02-02T17:36:35.239Z"
   },
   {
    "duration": 4747,
    "start_time": "2022-02-02T17:36:54.008Z"
   },
   {
    "duration": 4092,
    "start_time": "2022-02-02T17:46:27.200Z"
   },
   {
    "duration": 533,
    "start_time": "2022-02-02T17:47:23.686Z"
   },
   {
    "duration": 65,
    "start_time": "2022-02-02T17:47:43.479Z"
   },
   {
    "duration": 5383,
    "start_time": "2022-02-02T17:49:27.748Z"
   },
   {
    "duration": 1133,
    "start_time": "2022-02-02T17:49:34.633Z"
   },
   {
    "duration": 57,
    "start_time": "2022-02-02T17:49:45.448Z"
   },
   {
    "duration": 758,
    "start_time": "2022-02-02T17:50:18.658Z"
   },
   {
    "duration": 39,
    "start_time": "2022-02-02T17:50:19.805Z"
   },
   {
    "duration": 227,
    "start_time": "2022-02-02T17:51:34.682Z"
   },
   {
    "duration": 37,
    "start_time": "2022-02-02T17:51:40.010Z"
   },
   {
    "duration": 1087,
    "start_time": "2022-02-02T17:52:41.278Z"
   },
   {
    "duration": -161,
    "start_time": "2022-02-02T17:52:42.529Z"
   },
   {
    "duration": 18,
    "start_time": "2022-02-02T17:52:51.150Z"
   },
   {
    "duration": 42,
    "start_time": "2022-02-02T17:52:55.487Z"
   },
   {
    "duration": 25,
    "start_time": "2022-02-02T18:29:47.322Z"
   },
   {
    "duration": 32,
    "start_time": "2022-02-02T18:30:02.781Z"
   },
   {
    "duration": 7,
    "start_time": "2022-02-02T18:31:13.679Z"
   },
   {
    "duration": 12,
    "start_time": "2022-02-02T18:33:08.835Z"
   },
   {
    "duration": 12,
    "start_time": "2022-02-02T18:33:38.479Z"
   },
   {
    "duration": 4,
    "start_time": "2022-02-02T18:34:25.764Z"
   },
   {
    "duration": 97,
    "start_time": "2022-02-02T18:34:25.771Z"
   },
   {
    "duration": 37,
    "start_time": "2022-02-02T18:34:25.872Z"
   },
   {
    "duration": 42,
    "start_time": "2022-02-02T18:34:25.912Z"
   },
   {
    "duration": 9,
    "start_time": "2022-02-02T18:34:25.957Z"
   },
   {
    "duration": 12,
    "start_time": "2022-02-02T18:34:25.968Z"
   },
   {
    "duration": 6,
    "start_time": "2022-02-02T18:34:25.984Z"
   },
   {
    "duration": 58,
    "start_time": "2022-02-02T18:34:25.993Z"
   },
   {
    "duration": 7,
    "start_time": "2022-02-02T18:34:26.053Z"
   },
   {
    "duration": 18,
    "start_time": "2022-02-02T18:34:26.063Z"
   },
   {
    "duration": 9,
    "start_time": "2022-02-02T18:34:26.084Z"
   },
   {
    "duration": 55,
    "start_time": "2022-02-02T18:34:26.096Z"
   },
   {
    "duration": 11,
    "start_time": "2022-02-02T18:34:26.154Z"
   },
   {
    "duration": 24,
    "start_time": "2022-02-02T18:34:26.168Z"
   },
   {
    "duration": 11,
    "start_time": "2022-02-02T18:34:26.194Z"
   },
   {
    "duration": 43,
    "start_time": "2022-02-02T18:34:26.207Z"
   },
   {
    "duration": 12,
    "start_time": "2022-02-02T18:34:26.254Z"
   },
   {
    "duration": 10,
    "start_time": "2022-02-02T18:34:26.269Z"
   },
   {
    "duration": 71,
    "start_time": "2022-02-02T18:34:26.286Z"
   },
   {
    "duration": 7,
    "start_time": "2022-02-02T18:34:26.361Z"
   },
   {
    "duration": 12,
    "start_time": "2022-02-02T18:34:26.371Z"
   },
   {
    "duration": 10,
    "start_time": "2022-02-02T18:34:26.385Z"
   },
   {
    "duration": 10,
    "start_time": "2022-02-02T18:34:26.398Z"
   },
   {
    "duration": 6,
    "start_time": "2022-02-02T18:34:26.449Z"
   },
   {
    "duration": 26,
    "start_time": "2022-02-02T18:34:26.457Z"
   },
   {
    "duration": 36,
    "start_time": "2022-02-02T18:34:26.485Z"
   },
   {
    "duration": 29,
    "start_time": "2022-02-02T18:34:26.549Z"
   },
   {
    "duration": 8,
    "start_time": "2022-02-02T18:34:26.581Z"
   },
   {
    "duration": 23,
    "start_time": "2022-02-02T18:34:26.591Z"
   },
   {
    "duration": 6004,
    "start_time": "2022-02-02T18:34:26.617Z"
   },
   {
    "duration": 32,
    "start_time": "2022-02-02T18:34:32.629Z"
   },
   {
    "duration": 623,
    "start_time": "2022-02-02T18:34:32.664Z"
   },
   {
    "duration": 59,
    "start_time": "2022-02-02T18:34:33.290Z"
   },
   {
    "duration": 7458,
    "start_time": "2022-02-02T18:35:04.942Z"
   },
   {
    "duration": 6,
    "start_time": "2022-02-02T18:35:19.774Z"
   },
   {
    "duration": 26,
    "start_time": "2022-02-02T18:44:08.247Z"
   },
   {
    "duration": 756,
    "start_time": "2022-02-02T18:44:41.438Z"
   },
   {
    "duration": 317,
    "start_time": "2022-02-02T18:45:20.755Z"
   },
   {
    "duration": 27,
    "start_time": "2022-02-02T18:46:00.377Z"
   },
   {
    "duration": 27,
    "start_time": "2022-02-02T18:51:30.360Z"
   },
   {
    "duration": 27,
    "start_time": "2022-02-02T18:53:35.692Z"
   },
   {
    "duration": 17,
    "start_time": "2022-02-02T18:55:30.480Z"
   },
   {
    "duration": 9,
    "start_time": "2022-02-02T18:59:18.208Z"
   },
   {
    "duration": 19,
    "start_time": "2022-02-02T18:59:35.909Z"
   },
   {
    "duration": 27,
    "start_time": "2022-02-02T19:00:53.022Z"
   },
   {
    "duration": 13,
    "start_time": "2022-02-02T19:22:27.640Z"
   },
   {
    "duration": 17,
    "start_time": "2022-02-02T19:25:23.621Z"
   },
   {
    "duration": 10,
    "start_time": "2022-02-02T19:25:27.402Z"
   },
   {
    "duration": 10,
    "start_time": "2022-02-02T19:25:43.775Z"
   },
   {
    "duration": 16,
    "start_time": "2022-02-02T19:26:51.842Z"
   },
   {
    "duration": 8,
    "start_time": "2022-02-02T19:26:55.252Z"
   },
   {
    "duration": 17,
    "start_time": "2022-02-02T19:33:56.730Z"
   },
   {
    "duration": 15,
    "start_time": "2022-02-02T19:36:49.952Z"
   },
   {
    "duration": 74,
    "start_time": "2022-02-12T10:08:53.840Z"
   },
   {
    "duration": 567,
    "start_time": "2022-02-12T10:18:32.127Z"
   },
   {
    "duration": 53,
    "start_time": "2022-02-12T10:18:32.696Z"
   },
   {
    "duration": 24,
    "start_time": "2022-02-12T10:18:32.752Z"
   },
   {
    "duration": 13,
    "start_time": "2022-02-12T10:18:32.779Z"
   },
   {
    "duration": 6,
    "start_time": "2022-02-12T10:18:32.794Z"
   },
   {
    "duration": 7,
    "start_time": "2022-02-12T10:18:32.802Z"
   },
   {
    "duration": 6,
    "start_time": "2022-02-12T10:18:32.811Z"
   },
   {
    "duration": 55,
    "start_time": "2022-02-12T10:18:32.819Z"
   },
   {
    "duration": 6,
    "start_time": "2022-02-12T10:18:32.877Z"
   },
   {
    "duration": 12,
    "start_time": "2022-02-12T10:18:32.885Z"
   },
   {
    "duration": 12,
    "start_time": "2022-02-12T10:18:32.899Z"
   },
   {
    "duration": 9,
    "start_time": "2022-02-12T10:18:32.912Z"
   },
   {
    "duration": 5,
    "start_time": "2022-02-12T10:18:32.922Z"
   },
   {
    "duration": 37,
    "start_time": "2022-02-12T10:18:32.929Z"
   },
   {
    "duration": 5,
    "start_time": "2022-02-12T10:18:32.967Z"
   },
   {
    "duration": 5,
    "start_time": "2022-02-12T10:18:32.973Z"
   },
   {
    "duration": 7,
    "start_time": "2022-02-12T10:18:32.980Z"
   },
   {
    "duration": 5,
    "start_time": "2022-02-12T10:18:32.988Z"
   },
   {
    "duration": 23,
    "start_time": "2022-02-12T10:18:32.994Z"
   },
   {
    "duration": 5,
    "start_time": "2022-02-12T10:18:33.019Z"
   },
   {
    "duration": 37,
    "start_time": "2022-02-12T10:18:33.025Z"
   },
   {
    "duration": 12,
    "start_time": "2022-02-12T10:18:33.064Z"
   },
   {
    "duration": 7,
    "start_time": "2022-02-12T10:18:33.077Z"
   },
   {
    "duration": 7,
    "start_time": "2022-02-12T10:18:33.085Z"
   },
   {
    "duration": 18,
    "start_time": "2022-02-12T10:18:33.094Z"
   },
   {
    "duration": 48,
    "start_time": "2022-02-12T10:18:33.114Z"
   },
   {
    "duration": 20,
    "start_time": "2022-02-12T10:18:33.164Z"
   },
   {
    "duration": 16,
    "start_time": "2022-02-12T10:18:50.118Z"
   },
   {
    "duration": 558,
    "start_time": "2022-02-12T10:34:24.574Z"
   },
   {
    "duration": 58,
    "start_time": "2022-02-12T10:34:25.135Z"
   },
   {
    "duration": 17,
    "start_time": "2022-02-12T10:34:25.195Z"
   },
   {
    "duration": 12,
    "start_time": "2022-02-12T10:34:25.214Z"
   },
   {
    "duration": 6,
    "start_time": "2022-02-12T10:34:25.227Z"
   },
   {
    "duration": 27,
    "start_time": "2022-02-12T10:34:25.234Z"
   },
   {
    "duration": 4,
    "start_time": "2022-02-12T10:34:25.262Z"
   },
   {
    "duration": 14,
    "start_time": "2022-02-12T10:34:25.269Z"
   },
   {
    "duration": 5,
    "start_time": "2022-02-12T10:34:25.285Z"
   },
   {
    "duration": 12,
    "start_time": "2022-02-12T10:34:25.291Z"
   },
   {
    "duration": 8,
    "start_time": "2022-02-12T10:34:25.304Z"
   },
   {
    "duration": 6,
    "start_time": "2022-02-12T10:34:25.314Z"
   },
   {
    "duration": 39,
    "start_time": "2022-02-12T10:34:25.321Z"
   },
   {
    "duration": 13,
    "start_time": "2022-02-12T10:34:25.362Z"
   },
   {
    "duration": 8,
    "start_time": "2022-02-12T10:34:25.377Z"
   },
   {
    "duration": 11,
    "start_time": "2022-02-12T10:34:25.387Z"
   },
   {
    "duration": 12,
    "start_time": "2022-02-12T10:34:25.400Z"
   },
   {
    "duration": 9,
    "start_time": "2022-02-12T10:34:25.413Z"
   },
   {
    "duration": 45,
    "start_time": "2022-02-12T10:34:25.423Z"
   },
   {
    "duration": 6,
    "start_time": "2022-02-12T10:34:25.470Z"
   },
   {
    "duration": 7,
    "start_time": "2022-02-12T10:34:25.477Z"
   },
   {
    "duration": 9,
    "start_time": "2022-02-12T10:34:25.486Z"
   },
   {
    "duration": 4,
    "start_time": "2022-02-12T10:34:25.499Z"
   },
   {
    "duration": 7,
    "start_time": "2022-02-12T10:34:25.505Z"
   },
   {
    "duration": 48,
    "start_time": "2022-02-12T10:34:25.513Z"
   },
   {
    "duration": 21,
    "start_time": "2022-02-12T10:34:25.563Z"
   },
   {
    "duration": 18,
    "start_time": "2022-02-12T10:34:25.586Z"
   },
   {
    "duration": 13,
    "start_time": "2022-02-12T10:34:25.606Z"
   },
   {
    "duration": 6,
    "start_time": "2022-02-12T10:34:25.621Z"
   },
   {
    "duration": 35,
    "start_time": "2022-02-12T10:34:25.628Z"
   },
   {
    "duration": 12,
    "start_time": "2022-02-12T10:34:25.665Z"
   },
   {
    "duration": 3268,
    "start_time": "2022-02-12T10:34:25.679Z"
   },
   {
    "duration": 11,
    "start_time": "2022-02-12T10:34:28.959Z"
   },
   {
    "duration": 28,
    "start_time": "2022-02-12T10:34:28.972Z"
   },
   {
    "duration": 24,
    "start_time": "2022-02-12T10:34:29.001Z"
   },
   {
    "duration": 33,
    "start_time": "2022-02-12T10:34:29.027Z"
   },
   {
    "duration": 16,
    "start_time": "2022-02-12T10:34:29.062Z"
   },
   {
    "duration": 10,
    "start_time": "2022-02-12T10:34:29.080Z"
   },
   {
    "duration": 17,
    "start_time": "2022-02-12T10:34:29.092Z"
   },
   {
    "duration": 10,
    "start_time": "2022-02-12T10:34:29.111Z"
   },
   {
    "duration": 47,
    "start_time": "2022-02-12T10:34:29.123Z"
   },
   {
    "duration": 11,
    "start_time": "2022-02-12T10:34:29.171Z"
   },
   {
    "duration": 659,
    "start_time": "2022-02-13T13:00:28.987Z"
   },
   {
    "duration": 56,
    "start_time": "2022-02-13T13:00:29.648Z"
   },
   {
    "duration": 29,
    "start_time": "2022-02-13T13:00:29.706Z"
   },
   {
    "duration": 14,
    "start_time": "2022-02-13T13:00:29.737Z"
   },
   {
    "duration": 12,
    "start_time": "2022-02-13T13:00:29.753Z"
   },
   {
    "duration": 95,
    "start_time": "2022-02-13T13:00:29.767Z"
   },
   {
    "duration": -1947,
    "start_time": "2022-02-13T13:00:31.812Z"
   },
   {
    "duration": -1973,
    "start_time": "2022-02-13T13:00:31.839Z"
   },
   {
    "duration": -1982,
    "start_time": "2022-02-13T13:00:31.849Z"
   },
   {
    "duration": -2004,
    "start_time": "2022-02-13T13:00:31.872Z"
   },
   {
    "duration": -2014,
    "start_time": "2022-02-13T13:00:31.883Z"
   },
   {
    "duration": -2077,
    "start_time": "2022-02-13T13:00:31.947Z"
   },
   {
    "duration": -2080,
    "start_time": "2022-02-13T13:00:31.951Z"
   },
   {
    "duration": -2085,
    "start_time": "2022-02-13T13:00:31.956Z"
   },
   {
    "duration": -2094,
    "start_time": "2022-02-13T13:00:31.966Z"
   },
   {
    "duration": -2097,
    "start_time": "2022-02-13T13:00:31.970Z"
   },
   {
    "duration": -2106,
    "start_time": "2022-02-13T13:00:31.980Z"
   },
   {
    "duration": -2113,
    "start_time": "2022-02-13T13:00:31.988Z"
   },
   {
    "duration": -2118,
    "start_time": "2022-02-13T13:00:31.994Z"
   },
   {
    "duration": -2121,
    "start_time": "2022-02-13T13:00:31.999Z"
   },
   {
    "duration": -2125,
    "start_time": "2022-02-13T13:00:32.004Z"
   },
   {
    "duration": -2126,
    "start_time": "2022-02-13T13:00:32.007Z"
   },
   {
    "duration": -2130,
    "start_time": "2022-02-13T13:00:32.012Z"
   },
   {
    "duration": -2132,
    "start_time": "2022-02-13T13:00:32.016Z"
   },
   {
    "duration": -2148,
    "start_time": "2022-02-13T13:00:32.033Z"
   },
   {
    "duration": -2152,
    "start_time": "2022-02-13T13:00:32.038Z"
   },
   {
    "duration": -2167,
    "start_time": "2022-02-13T13:00:32.054Z"
   },
   {
    "duration": -2171,
    "start_time": "2022-02-13T13:00:32.059Z"
   },
   {
    "duration": -2193,
    "start_time": "2022-02-13T13:00:32.082Z"
   },
   {
    "duration": -2207,
    "start_time": "2022-02-13T13:00:32.097Z"
   },
   {
    "duration": -2257,
    "start_time": "2022-02-13T13:00:32.148Z"
   },
   {
    "duration": -2272,
    "start_time": "2022-02-13T13:00:32.164Z"
   },
   {
    "duration": -2288,
    "start_time": "2022-02-13T13:00:32.181Z"
   },
   {
    "duration": -2303,
    "start_time": "2022-02-13T13:00:32.197Z"
   },
   {
    "duration": -2316,
    "start_time": "2022-02-13T13:00:32.211Z"
   },
   {
    "duration": -2331,
    "start_time": "2022-02-13T13:00:32.227Z"
   },
   {
    "duration": -2344,
    "start_time": "2022-02-13T13:00:32.241Z"
   },
   {
    "duration": -2367,
    "start_time": "2022-02-13T13:00:32.265Z"
   },
   {
    "duration": -2369,
    "start_time": "2022-02-13T13:00:32.269Z"
   },
   {
    "duration": -2371,
    "start_time": "2022-02-13T13:00:32.272Z"
   },
   {
    "duration": -2376,
    "start_time": "2022-02-13T13:00:32.278Z"
   },
   {
    "duration": -2379,
    "start_time": "2022-02-13T13:00:32.282Z"
   },
   {
    "duration": -2383,
    "start_time": "2022-02-13T13:00:32.287Z"
   },
   {
    "duration": 101,
    "start_time": "2022-02-13T13:01:58.439Z"
   },
   {
    "duration": 83,
    "start_time": "2022-02-13T13:02:32.416Z"
   },
   {
    "duration": 321,
    "start_time": "2022-02-13T13:03:25.442Z"
   },
   {
    "duration": 62,
    "start_time": "2022-02-13T13:04:28.450Z"
   },
   {
    "duration": 4,
    "start_time": "2022-02-13T13:05:17.752Z"
   },
   {
    "duration": 168,
    "start_time": "2022-02-13T13:05:17.769Z"
   },
   {
    "duration": 33,
    "start_time": "2022-02-13T13:05:17.947Z"
   },
   {
    "duration": 80,
    "start_time": "2022-02-13T13:05:17.983Z"
   },
   {
    "duration": 6,
    "start_time": "2022-02-13T13:05:18.065Z"
   },
   {
    "duration": 56,
    "start_time": "2022-02-13T13:05:18.073Z"
   },
   {
    "duration": 6,
    "start_time": "2022-02-13T13:05:18.130Z"
   },
   {
    "duration": 5,
    "start_time": "2022-02-13T13:05:18.137Z"
   },
   {
    "duration": 15,
    "start_time": "2022-02-13T13:05:18.144Z"
   },
   {
    "duration": 5,
    "start_time": "2022-02-13T13:05:18.161Z"
   },
   {
    "duration": 12,
    "start_time": "2022-02-13T13:05:18.167Z"
   },
   {
    "duration": 10,
    "start_time": "2022-02-13T13:05:18.181Z"
   },
   {
    "duration": 31,
    "start_time": "2022-02-13T13:05:18.193Z"
   },
   {
    "duration": 6,
    "start_time": "2022-02-13T13:05:18.225Z"
   },
   {
    "duration": 14,
    "start_time": "2022-02-13T13:05:18.232Z"
   },
   {
    "duration": 8,
    "start_time": "2022-02-13T13:05:18.247Z"
   },
   {
    "duration": 5,
    "start_time": "2022-02-13T13:05:18.256Z"
   },
   {
    "duration": 11,
    "start_time": "2022-02-13T13:05:18.262Z"
   },
   {
    "duration": 6,
    "start_time": "2022-02-13T13:05:18.274Z"
   },
   {
    "duration": 50,
    "start_time": "2022-02-13T13:05:18.282Z"
   },
   {
    "duration": 7,
    "start_time": "2022-02-13T13:05:18.334Z"
   },
   {
    "duration": 6,
    "start_time": "2022-02-13T13:05:18.342Z"
   },
   {
    "duration": 10,
    "start_time": "2022-02-13T13:05:18.349Z"
   },
   {
    "duration": 5,
    "start_time": "2022-02-13T13:05:18.361Z"
   },
   {
    "duration": 4,
    "start_time": "2022-02-13T13:05:18.368Z"
   },
   {
    "duration": 60,
    "start_time": "2022-02-13T13:05:18.374Z"
   },
   {
    "duration": 23,
    "start_time": "2022-02-13T13:05:18.435Z"
   },
   {
    "duration": 18,
    "start_time": "2022-02-13T13:05:18.462Z"
   },
   {
    "duration": 39,
    "start_time": "2022-02-13T13:05:18.482Z"
   },
   {
    "duration": 5,
    "start_time": "2022-02-13T13:05:18.523Z"
   },
   {
    "duration": 8,
    "start_time": "2022-02-13T13:05:18.530Z"
   },
   {
    "duration": 13,
    "start_time": "2022-02-13T13:05:18.540Z"
   },
   {
    "duration": 3597,
    "start_time": "2022-02-13T13:05:18.555Z"
   },
   {
    "duration": 12,
    "start_time": "2022-02-13T13:05:22.154Z"
   },
   {
    "duration": 30,
    "start_time": "2022-02-13T13:05:22.167Z"
   },
   {
    "duration": 39,
    "start_time": "2022-02-13T13:05:22.199Z"
   },
   {
    "duration": 17,
    "start_time": "2022-02-13T13:05:22.240Z"
   },
   {
    "duration": 17,
    "start_time": "2022-02-13T13:05:22.258Z"
   },
   {
    "duration": 13,
    "start_time": "2022-02-13T13:05:22.277Z"
   },
   {
    "duration": 40,
    "start_time": "2022-02-13T13:05:22.292Z"
   },
   {
    "duration": 19,
    "start_time": "2022-02-13T13:05:22.334Z"
   },
   {
    "duration": 23,
    "start_time": "2022-02-13T13:05:22.355Z"
   },
   {
    "duration": 16,
    "start_time": "2022-02-13T13:05:22.379Z"
   },
   {
    "duration": 5,
    "start_time": "2022-02-13T13:11:04.814Z"
   },
   {
    "duration": 9,
    "start_time": "2022-02-13T13:11:32.879Z"
   },
   {
    "duration": 6,
    "start_time": "2022-02-13T13:12:35.628Z"
   },
   {
    "duration": 2,
    "start_time": "2022-02-13T13:12:57.866Z"
   },
   {
    "duration": 58,
    "start_time": "2022-02-13T13:12:57.870Z"
   },
   {
    "duration": 12,
    "start_time": "2022-02-13T13:12:57.930Z"
   },
   {
    "duration": 15,
    "start_time": "2022-02-13T13:12:57.943Z"
   },
   {
    "duration": 5,
    "start_time": "2022-02-13T13:12:57.960Z"
   },
   {
    "duration": 60,
    "start_time": "2022-02-13T13:12:57.967Z"
   },
   {
    "duration": 58,
    "start_time": "2022-02-13T13:12:58.030Z"
   },
   {
    "duration": 31,
    "start_time": "2022-02-13T13:12:58.091Z"
   },
   {
    "duration": 4,
    "start_time": "2022-02-13T13:12:58.124Z"
   },
   {
    "duration": 11,
    "start_time": "2022-02-13T13:12:58.130Z"
   },
   {
    "duration": 5,
    "start_time": "2022-02-13T13:12:58.142Z"
   },
   {
    "duration": 12,
    "start_time": "2022-02-13T13:12:58.149Z"
   },
   {
    "duration": 10,
    "start_time": "2022-02-13T13:12:58.163Z"
   },
   {
    "duration": 8,
    "start_time": "2022-02-13T13:12:58.175Z"
   },
   {
    "duration": 37,
    "start_time": "2022-02-13T13:12:58.185Z"
   },
   {
    "duration": 14,
    "start_time": "2022-02-13T13:12:58.224Z"
   },
   {
    "duration": 6,
    "start_time": "2022-02-13T13:12:58.240Z"
   },
   {
    "duration": 4,
    "start_time": "2022-02-13T13:12:58.248Z"
   },
   {
    "duration": 6,
    "start_time": "2022-02-13T13:12:58.255Z"
   },
   {
    "duration": 4,
    "start_time": "2022-02-13T13:12:58.263Z"
   },
   {
    "duration": 55,
    "start_time": "2022-02-13T13:12:58.268Z"
   },
   {
    "duration": 5,
    "start_time": "2022-02-13T13:12:58.325Z"
   },
   {
    "duration": 4,
    "start_time": "2022-02-13T13:12:58.331Z"
   },
   {
    "duration": 7,
    "start_time": "2022-02-13T13:12:58.337Z"
   },
   {
    "duration": 4,
    "start_time": "2022-02-13T13:12:58.345Z"
   },
   {
    "duration": 5,
    "start_time": "2022-02-13T13:12:58.351Z"
   },
   {
    "duration": 20,
    "start_time": "2022-02-13T13:12:58.357Z"
   },
   {
    "duration": 56,
    "start_time": "2022-02-13T13:12:58.379Z"
   },
   {
    "duration": 19,
    "start_time": "2022-02-13T13:12:58.436Z"
   },
   {
    "duration": 11,
    "start_time": "2022-02-13T13:12:58.457Z"
   },
   {
    "duration": 6,
    "start_time": "2022-02-13T13:12:58.469Z"
   },
   {
    "duration": 8,
    "start_time": "2022-02-13T13:12:58.477Z"
   },
   {
    "duration": 35,
    "start_time": "2022-02-13T13:12:58.487Z"
   },
   {
    "duration": 3649,
    "start_time": "2022-02-13T13:12:58.524Z"
   },
   {
    "duration": 14,
    "start_time": "2022-02-13T13:13:02.175Z"
   },
   {
    "duration": 39,
    "start_time": "2022-02-13T13:13:02.190Z"
   },
   {
    "duration": 25,
    "start_time": "2022-02-13T13:13:02.231Z"
   },
   {
    "duration": 13,
    "start_time": "2022-02-13T13:13:02.258Z"
   },
   {
    "duration": 28,
    "start_time": "2022-02-13T13:13:02.273Z"
   },
   {
    "duration": 25,
    "start_time": "2022-02-13T13:13:02.302Z"
   },
   {
    "duration": 21,
    "start_time": "2022-02-13T13:13:02.328Z"
   },
   {
    "duration": 10,
    "start_time": "2022-02-13T13:13:02.350Z"
   },
   {
    "duration": 24,
    "start_time": "2022-02-13T13:13:02.361Z"
   },
   {
    "duration": 33,
    "start_time": "2022-02-13T13:13:02.386Z"
   },
   {
    "duration": 3,
    "start_time": "2022-02-13T13:15:46.035Z"
   },
   {
    "duration": 58,
    "start_time": "2022-02-13T13:15:46.040Z"
   },
   {
    "duration": 12,
    "start_time": "2022-02-13T13:15:46.100Z"
   },
   {
    "duration": 15,
    "start_time": "2022-02-13T13:15:46.267Z"
   },
   {
    "duration": 6,
    "start_time": "2022-02-13T13:15:46.283Z"
   },
   {
    "duration": 3,
    "start_time": "2022-02-13T13:16:03.165Z"
   },
   {
    "duration": 53,
    "start_time": "2022-02-13T13:16:03.171Z"
   },
   {
    "duration": 12,
    "start_time": "2022-02-13T13:16:03.226Z"
   },
   {
    "duration": 16,
    "start_time": "2022-02-13T13:16:03.240Z"
   },
   {
    "duration": 6,
    "start_time": "2022-02-13T13:16:03.259Z"
   },
   {
    "duration": 2,
    "start_time": "2022-02-13T13:16:31.230Z"
   },
   {
    "duration": 57,
    "start_time": "2022-02-13T13:16:31.234Z"
   },
   {
    "duration": 13,
    "start_time": "2022-02-13T13:16:31.293Z"
   },
   {
    "duration": 33,
    "start_time": "2022-02-13T13:16:31.307Z"
   },
   {
    "duration": 24,
    "start_time": "2022-02-13T13:16:31.342Z"
   },
   {
    "duration": 16,
    "start_time": "2022-02-13T13:16:31.367Z"
   },
   {
    "duration": 3,
    "start_time": "2022-02-13T13:17:06.557Z"
   },
   {
    "duration": 53,
    "start_time": "2022-02-13T13:17:06.562Z"
   },
   {
    "duration": 13,
    "start_time": "2022-02-13T13:17:06.617Z"
   },
   {
    "duration": 14,
    "start_time": "2022-02-13T13:17:06.631Z"
   },
   {
    "duration": 5,
    "start_time": "2022-02-13T13:17:06.646Z"
   },
   {
    "duration": 10,
    "start_time": "2022-02-13T13:17:06.653Z"
   },
   {
    "duration": 3,
    "start_time": "2022-02-13T13:31:45.502Z"
   },
   {
    "duration": 56,
    "start_time": "2022-02-13T13:31:45.506Z"
   },
   {
    "duration": 13,
    "start_time": "2022-02-13T13:31:45.564Z"
   },
   {
    "duration": 15,
    "start_time": "2022-02-13T13:31:45.579Z"
   },
   {
    "duration": 5,
    "start_time": "2022-02-13T13:31:45.595Z"
   },
   {
    "duration": 72,
    "start_time": "2022-02-13T13:31:45.602Z"
   },
   {
    "duration": 5,
    "start_time": "2022-02-13T13:31:45.676Z"
   },
   {
    "duration": 6,
    "start_time": "2022-02-13T13:31:45.683Z"
   },
   {
    "duration": 38,
    "start_time": "2022-02-13T13:31:45.691Z"
   },
   {
    "duration": 5,
    "start_time": "2022-02-13T13:31:45.731Z"
   },
   {
    "duration": 15,
    "start_time": "2022-02-13T13:31:45.738Z"
   },
   {
    "duration": 12,
    "start_time": "2022-02-13T13:31:45.755Z"
   },
   {
    "duration": 8,
    "start_time": "2022-02-13T13:31:45.769Z"
   },
   {
    "duration": 5,
    "start_time": "2022-02-13T13:31:45.779Z"
   },
   {
    "duration": 16,
    "start_time": "2022-02-13T13:31:45.809Z"
   },
   {
    "duration": 3,
    "start_time": "2022-02-13T13:42:32.854Z"
   },
   {
    "duration": 70,
    "start_time": "2022-02-13T13:42:32.858Z"
   },
   {
    "duration": 12,
    "start_time": "2022-02-13T13:42:32.930Z"
   },
   {
    "duration": 22,
    "start_time": "2022-02-13T13:42:32.944Z"
   },
   {
    "duration": 5,
    "start_time": "2022-02-13T13:42:32.968Z"
   },
   {
    "duration": 80,
    "start_time": "2022-02-13T13:42:32.974Z"
   },
   {
    "duration": 5,
    "start_time": "2022-02-13T13:42:33.057Z"
   },
   {
    "duration": 8,
    "start_time": "2022-02-13T13:42:33.064Z"
   },
   {
    "duration": 16,
    "start_time": "2022-02-13T13:42:33.073Z"
   },
   {
    "duration": 28,
    "start_time": "2022-02-13T13:42:33.091Z"
   },
   {
    "duration": 11,
    "start_time": "2022-02-13T13:42:33.121Z"
   },
   {
    "duration": 9,
    "start_time": "2022-02-13T13:42:33.135Z"
   },
   {
    "duration": 6,
    "start_time": "2022-02-13T13:42:33.146Z"
   },
   {
    "duration": 6,
    "start_time": "2022-02-13T13:42:33.154Z"
   },
   {
    "duration": 11,
    "start_time": "2022-02-13T13:42:33.162Z"
   },
   {
    "duration": 2,
    "start_time": "2022-02-13T13:42:33.175Z"
   },
   {
    "duration": 6,
    "start_time": "2022-02-13T13:42:33.218Z"
   },
   {
    "duration": 6,
    "start_time": "2022-02-13T13:42:33.227Z"
   },
   {
    "duration": 14,
    "start_time": "2022-02-13T13:42:33.235Z"
   },
   {
    "duration": 4,
    "start_time": "2022-02-13T13:42:33.251Z"
   },
   {
    "duration": 23,
    "start_time": "2022-02-13T13:42:33.257Z"
   },
   {
    "duration": 6,
    "start_time": "2022-02-13T13:42:33.282Z"
   },
   {
    "duration": 5,
    "start_time": "2022-02-13T13:42:33.319Z"
   },
   {
    "duration": 10,
    "start_time": "2022-02-13T13:42:33.325Z"
   },
   {
    "duration": 8,
    "start_time": "2022-02-13T13:42:33.337Z"
   },
   {
    "duration": 8,
    "start_time": "2022-02-13T13:42:33.346Z"
   },
   {
    "duration": 256,
    "start_time": "2022-02-13T13:42:33.355Z"
   },
   {
    "duration": 3,
    "start_time": "2022-02-13T13:42:43.986Z"
   },
   {
    "duration": 54,
    "start_time": "2022-02-13T13:42:43.991Z"
   },
   {
    "duration": 12,
    "start_time": "2022-02-13T13:42:44.048Z"
   },
   {
    "duration": 18,
    "start_time": "2022-02-13T13:42:44.063Z"
   },
   {
    "duration": 6,
    "start_time": "2022-02-13T13:42:44.084Z"
   },
   {
    "duration": 66,
    "start_time": "2022-02-13T13:42:44.131Z"
   },
   {
    "duration": 6,
    "start_time": "2022-02-13T13:42:44.200Z"
   },
   {
    "duration": 6,
    "start_time": "2022-02-13T13:42:44.218Z"
   },
   {
    "duration": 17,
    "start_time": "2022-02-13T13:42:44.225Z"
   },
   {
    "duration": 5,
    "start_time": "2022-02-13T13:42:44.244Z"
   },
   {
    "duration": 15,
    "start_time": "2022-02-13T13:42:44.251Z"
   },
   {
    "duration": 8,
    "start_time": "2022-02-13T13:42:44.268Z"
   },
   {
    "duration": 6,
    "start_time": "2022-02-13T13:42:44.278Z"
   },
   {
    "duration": 41,
    "start_time": "2022-02-13T13:42:44.286Z"
   },
   {
    "duration": 11,
    "start_time": "2022-02-13T13:42:44.329Z"
   },
   {
    "duration": 2,
    "start_time": "2022-02-13T13:42:44.342Z"
   },
   {
    "duration": 7,
    "start_time": "2022-02-13T13:42:44.346Z"
   },
   {
    "duration": 5,
    "start_time": "2022-02-13T13:42:44.355Z"
   },
   {
    "duration": 7,
    "start_time": "2022-02-13T13:42:44.363Z"
   },
   {
    "duration": 5,
    "start_time": "2022-02-13T13:42:44.372Z"
   },
   {
    "duration": 59,
    "start_time": "2022-02-13T13:42:44.379Z"
   },
   {
    "duration": 6,
    "start_time": "2022-02-13T13:42:44.440Z"
   },
   {
    "duration": 10,
    "start_time": "2022-02-13T13:42:44.448Z"
   },
   {
    "duration": 9,
    "start_time": "2022-02-13T13:42:44.460Z"
   },
   {
    "duration": 9,
    "start_time": "2022-02-13T13:42:44.471Z"
   },
   {
    "duration": 4,
    "start_time": "2022-02-13T13:42:44.482Z"
   },
   {
    "duration": 12,
    "start_time": "2022-02-13T13:42:44.518Z"
   },
   {
    "duration": 2,
    "start_time": "2022-02-13T13:45:52.585Z"
   },
   {
    "duration": 57,
    "start_time": "2022-02-13T13:45:52.589Z"
   },
   {
    "duration": 13,
    "start_time": "2022-02-13T13:45:52.648Z"
   },
   {
    "duration": 13,
    "start_time": "2022-02-13T13:45:52.663Z"
   },
   {
    "duration": 6,
    "start_time": "2022-02-13T13:45:52.678Z"
   },
   {
    "duration": 56,
    "start_time": "2022-02-13T13:45:52.718Z"
   },
   {
    "duration": 5,
    "start_time": "2022-02-13T13:45:52.777Z"
   },
   {
    "duration": 9,
    "start_time": "2022-02-13T13:45:52.783Z"
   },
   {
    "duration": 33,
    "start_time": "2022-02-13T13:45:52.793Z"
   },
   {
    "duration": 5,
    "start_time": "2022-02-13T13:45:52.827Z"
   },
   {
    "duration": 14,
    "start_time": "2022-02-13T13:45:52.833Z"
   },
   {
    "duration": 8,
    "start_time": "2022-02-13T13:45:52.849Z"
   },
   {
    "duration": 10,
    "start_time": "2022-02-13T13:45:52.859Z"
   },
   {
    "duration": 13,
    "start_time": "2022-02-13T13:45:52.870Z"
   },
   {
    "duration": 13,
    "start_time": "2022-02-13T13:45:52.884Z"
   },
   {
    "duration": 19,
    "start_time": "2022-02-13T13:45:52.899Z"
   },
   {
    "duration": 12,
    "start_time": "2022-02-13T13:45:52.920Z"
   },
   {
    "duration": 6,
    "start_time": "2022-02-13T13:45:52.934Z"
   },
   {
    "duration": 7,
    "start_time": "2022-02-13T13:45:52.943Z"
   },
   {
    "duration": 4,
    "start_time": "2022-02-13T13:45:52.952Z"
   },
   {
    "duration": 25,
    "start_time": "2022-02-13T13:45:52.958Z"
   },
   {
    "duration": 5,
    "start_time": "2022-02-13T13:45:52.985Z"
   },
   {
    "duration": 29,
    "start_time": "2022-02-13T13:45:52.992Z"
   },
   {
    "duration": 8,
    "start_time": "2022-02-13T13:45:53.023Z"
   },
   {
    "duration": 10,
    "start_time": "2022-02-13T13:45:53.033Z"
   },
   {
    "duration": 6,
    "start_time": "2022-02-13T13:45:53.044Z"
   },
   {
    "duration": 13,
    "start_time": "2022-02-13T13:45:53.052Z"
   },
   {
    "duration": 15,
    "start_time": "2022-02-13T13:45:53.068Z"
   },
   {
    "duration": 50,
    "start_time": "2022-02-13T13:45:53.085Z"
   },
   {
    "duration": 19,
    "start_time": "2022-02-13T13:45:53.136Z"
   },
   {
    "duration": 16,
    "start_time": "2022-02-13T13:45:53.157Z"
   },
   {
    "duration": 3,
    "start_time": "2022-02-13T14:13:37.407Z"
   },
   {
    "duration": 74,
    "start_time": "2022-02-13T14:13:37.411Z"
   },
   {
    "duration": 12,
    "start_time": "2022-02-13T14:13:37.487Z"
   },
   {
    "duration": 20,
    "start_time": "2022-02-13T14:13:37.501Z"
   },
   {
    "duration": 6,
    "start_time": "2022-02-13T14:13:37.713Z"
   },
   {
    "duration": 75,
    "start_time": "2022-02-13T14:13:37.721Z"
   },
   {
    "duration": 4,
    "start_time": "2022-02-13T14:13:37.798Z"
   },
   {
    "duration": 9,
    "start_time": "2022-02-13T14:13:37.804Z"
   },
   {
    "duration": 17,
    "start_time": "2022-02-13T14:13:37.814Z"
   },
   {
    "duration": 18,
    "start_time": "2022-02-13T14:13:37.833Z"
   },
   {
    "duration": 12,
    "start_time": "2022-02-13T14:13:37.852Z"
   },
   {
    "duration": 12,
    "start_time": "2022-02-13T14:13:37.866Z"
   },
   {
    "duration": 6,
    "start_time": "2022-02-13T14:13:37.881Z"
   },
   {
    "duration": 14,
    "start_time": "2022-02-13T14:13:37.889Z"
   },
   {
    "duration": 23,
    "start_time": "2022-02-13T14:13:37.905Z"
   },
   {
    "duration": 9,
    "start_time": "2022-02-13T14:13:37.930Z"
   },
   {
    "duration": 17,
    "start_time": "2022-02-13T14:13:37.941Z"
   },
   {
    "duration": 14,
    "start_time": "2022-02-13T14:13:37.959Z"
   },
   {
    "duration": 13,
    "start_time": "2022-02-13T14:13:37.974Z"
   },
   {
    "duration": 4,
    "start_time": "2022-02-13T14:13:38.091Z"
   },
   {
    "duration": 37,
    "start_time": "2022-02-13T14:13:38.097Z"
   },
   {
    "duration": 9,
    "start_time": "2022-02-13T14:13:38.136Z"
   },
   {
    "duration": 14,
    "start_time": "2022-02-13T14:13:38.147Z"
   },
   {
    "duration": 14,
    "start_time": "2022-02-13T14:13:38.163Z"
   },
   {
    "duration": 26,
    "start_time": "2022-02-13T14:13:38.179Z"
   },
   {
    "duration": 12,
    "start_time": "2022-02-13T14:13:38.207Z"
   },
   {
    "duration": 35,
    "start_time": "2022-02-13T14:13:38.220Z"
   },
   {
    "duration": 20,
    "start_time": "2022-02-13T14:13:38.257Z"
   },
   {
    "duration": 23,
    "start_time": "2022-02-13T14:13:38.278Z"
   },
   {
    "duration": 19,
    "start_time": "2022-02-13T14:13:38.302Z"
   },
   {
    "duration": 15,
    "start_time": "2022-02-13T14:13:38.323Z"
   },
   {
    "duration": 15,
    "start_time": "2022-02-13T14:13:38.339Z"
   },
   {
    "duration": 8,
    "start_time": "2022-02-13T14:13:38.356Z"
   },
   {
    "duration": 11,
    "start_time": "2022-02-13T14:13:38.366Z"
   },
   {
    "duration": 9,
    "start_time": "2022-02-13T14:13:38.378Z"
   },
   {
    "duration": 3,
    "start_time": "2022-02-13T14:16:26.051Z"
   },
   {
    "duration": 68,
    "start_time": "2022-02-13T14:16:26.059Z"
   },
   {
    "duration": 13,
    "start_time": "2022-02-13T14:16:26.129Z"
   },
   {
    "duration": 17,
    "start_time": "2022-02-13T14:16:26.145Z"
   },
   {
    "duration": 6,
    "start_time": "2022-02-13T14:16:26.164Z"
   },
   {
    "duration": 79,
    "start_time": "2022-02-13T14:16:26.171Z"
   },
   {
    "duration": 6,
    "start_time": "2022-02-13T14:16:26.251Z"
   },
   {
    "duration": 7,
    "start_time": "2022-02-13T14:16:26.258Z"
   },
   {
    "duration": 13,
    "start_time": "2022-02-13T14:16:26.267Z"
   },
   {
    "duration": 5,
    "start_time": "2022-02-13T14:16:26.282Z"
   },
   {
    "duration": 39,
    "start_time": "2022-02-13T14:16:26.289Z"
   },
   {
    "duration": 14,
    "start_time": "2022-02-13T14:16:26.330Z"
   },
   {
    "duration": 7,
    "start_time": "2022-02-13T14:16:26.346Z"
   },
   {
    "duration": 7,
    "start_time": "2022-02-13T14:16:26.355Z"
   },
   {
    "duration": 15,
    "start_time": "2022-02-13T14:16:26.363Z"
   },
   {
    "duration": 2,
    "start_time": "2022-02-13T14:16:26.380Z"
   },
   {
    "duration": 11,
    "start_time": "2022-02-13T14:16:26.383Z"
   },
   {
    "duration": 24,
    "start_time": "2022-02-13T14:16:26.395Z"
   },
   {
    "duration": 6,
    "start_time": "2022-02-13T14:16:26.421Z"
   },
   {
    "duration": 5,
    "start_time": "2022-02-13T14:16:26.428Z"
   },
   {
    "duration": 25,
    "start_time": "2022-02-13T14:16:26.434Z"
   },
   {
    "duration": 6,
    "start_time": "2022-02-13T14:16:26.461Z"
   },
   {
    "duration": 10,
    "start_time": "2022-02-13T14:16:26.468Z"
   },
   {
    "duration": 6,
    "start_time": "2022-02-13T14:16:26.519Z"
   },
   {
    "duration": 11,
    "start_time": "2022-02-13T14:16:26.526Z"
   },
   {
    "duration": 7,
    "start_time": "2022-02-13T14:16:26.538Z"
   },
   {
    "duration": 15,
    "start_time": "2022-02-13T14:16:26.547Z"
   },
   {
    "duration": 16,
    "start_time": "2022-02-13T14:16:26.564Z"
   },
   {
    "duration": 42,
    "start_time": "2022-02-13T14:16:26.581Z"
   },
   {
    "duration": 19,
    "start_time": "2022-02-13T14:16:26.625Z"
   },
   {
    "duration": 18,
    "start_time": "2022-02-13T14:16:26.646Z"
   },
   {
    "duration": 13,
    "start_time": "2022-02-13T14:16:26.666Z"
   },
   {
    "duration": 7,
    "start_time": "2022-02-13T14:16:26.680Z"
   },
   {
    "duration": 35,
    "start_time": "2022-02-13T14:16:26.688Z"
   },
   {
    "duration": 17,
    "start_time": "2022-02-13T14:16:26.725Z"
   },
   {
    "duration": 23,
    "start_time": "2022-02-13T14:16:26.743Z"
   },
   {
    "duration": 22,
    "start_time": "2022-02-13T14:16:26.768Z"
   },
   {
    "duration": 3,
    "start_time": "2022-02-13T14:16:51.924Z"
   },
   {
    "duration": 56,
    "start_time": "2022-02-13T14:16:51.929Z"
   },
   {
    "duration": 13,
    "start_time": "2022-02-13T14:16:51.987Z"
   },
   {
    "duration": 27,
    "start_time": "2022-02-13T14:16:52.002Z"
   },
   {
    "duration": 8,
    "start_time": "2022-02-13T14:16:52.031Z"
   },
   {
    "duration": 82,
    "start_time": "2022-02-13T14:16:52.040Z"
   },
   {
    "duration": 5,
    "start_time": "2022-02-13T14:16:52.124Z"
   },
   {
    "duration": 6,
    "start_time": "2022-02-13T14:16:52.130Z"
   },
   {
    "duration": 14,
    "start_time": "2022-02-13T14:16:52.138Z"
   },
   {
    "duration": 4,
    "start_time": "2022-02-13T14:16:52.153Z"
   },
   {
    "duration": 17,
    "start_time": "2022-02-13T14:16:52.159Z"
   },
   {
    "duration": 12,
    "start_time": "2022-02-13T14:16:52.178Z"
   },
   {
    "duration": 28,
    "start_time": "2022-02-13T14:16:52.191Z"
   },
   {
    "duration": 58,
    "start_time": "2022-02-13T14:16:52.220Z"
   },
   {
    "duration": 17,
    "start_time": "2022-02-13T14:16:52.280Z"
   },
   {
    "duration": 2,
    "start_time": "2022-02-13T14:16:52.299Z"
   },
   {
    "duration": 5,
    "start_time": "2022-02-13T14:16:52.318Z"
   },
   {
    "duration": 5,
    "start_time": "2022-02-13T14:16:52.324Z"
   },
   {
    "duration": 11,
    "start_time": "2022-02-13T14:16:52.331Z"
   },
   {
    "duration": 10,
    "start_time": "2022-02-13T14:16:52.343Z"
   },
   {
    "duration": 26,
    "start_time": "2022-02-13T14:16:52.355Z"
   },
   {
    "duration": 5,
    "start_time": "2022-02-13T14:16:52.383Z"
   },
   {
    "duration": 30,
    "start_time": "2022-02-13T14:16:52.390Z"
   },
   {
    "duration": 9,
    "start_time": "2022-02-13T14:16:52.422Z"
   },
   {
    "duration": 7,
    "start_time": "2022-02-13T14:16:52.432Z"
   },
   {
    "duration": 5,
    "start_time": "2022-02-13T14:16:52.440Z"
   },
   {
    "duration": 13,
    "start_time": "2022-02-13T14:16:52.449Z"
   },
   {
    "duration": 16,
    "start_time": "2022-02-13T14:16:52.464Z"
   },
   {
    "duration": 56,
    "start_time": "2022-02-13T14:16:52.482Z"
   },
   {
    "duration": 17,
    "start_time": "2022-02-13T14:16:52.540Z"
   },
   {
    "duration": 16,
    "start_time": "2022-02-13T14:16:52.559Z"
   },
   {
    "duration": 11,
    "start_time": "2022-02-13T14:16:52.577Z"
   },
   {
    "duration": 31,
    "start_time": "2022-02-13T14:16:52.590Z"
   },
   {
    "duration": 8,
    "start_time": "2022-02-13T14:16:52.622Z"
   },
   {
    "duration": 9,
    "start_time": "2022-02-13T14:16:52.631Z"
   },
   {
    "duration": 12,
    "start_time": "2022-02-13T14:16:52.642Z"
   },
   {
    "duration": 17,
    "start_time": "2022-02-13T14:16:52.656Z"
   },
   {
    "duration": 2,
    "start_time": "2022-02-13T14:19:59.292Z"
   },
   {
    "duration": 57,
    "start_time": "2022-02-13T14:19:59.297Z"
   },
   {
    "duration": 11,
    "start_time": "2022-02-13T14:19:59.356Z"
   },
   {
    "duration": 17,
    "start_time": "2022-02-13T14:19:59.369Z"
   },
   {
    "duration": 5,
    "start_time": "2022-02-13T14:19:59.388Z"
   },
   {
    "duration": 74,
    "start_time": "2022-02-13T14:19:59.395Z"
   },
   {
    "duration": 6,
    "start_time": "2022-02-13T14:19:59.470Z"
   },
   {
    "duration": 11,
    "start_time": "2022-02-13T14:19:59.478Z"
   },
   {
    "duration": 37,
    "start_time": "2022-02-13T14:19:59.491Z"
   },
   {
    "duration": 5,
    "start_time": "2022-02-13T14:19:59.529Z"
   },
   {
    "duration": 17,
    "start_time": "2022-02-13T14:19:59.535Z"
   },
   {
    "duration": 10,
    "start_time": "2022-02-13T14:19:59.554Z"
   },
   {
    "duration": 8,
    "start_time": "2022-02-13T14:19:59.566Z"
   },
   {
    "duration": 5,
    "start_time": "2022-02-13T14:19:59.576Z"
   },
   {
    "duration": 38,
    "start_time": "2022-02-13T14:19:59.582Z"
   },
   {
    "duration": 2,
    "start_time": "2022-02-13T14:19:59.622Z"
   },
   {
    "duration": 7,
    "start_time": "2022-02-13T14:19:59.626Z"
   },
   {
    "duration": 6,
    "start_time": "2022-02-13T14:19:59.635Z"
   },
   {
    "duration": 9,
    "start_time": "2022-02-13T14:19:59.643Z"
   },
   {
    "duration": 5,
    "start_time": "2022-02-13T14:19:59.653Z"
   },
   {
    "duration": 22,
    "start_time": "2022-02-13T14:19:59.659Z"
   },
   {
    "duration": 35,
    "start_time": "2022-02-13T14:19:59.683Z"
   },
   {
    "duration": 5,
    "start_time": "2022-02-13T14:19:59.721Z"
   },
   {
    "duration": 7,
    "start_time": "2022-02-13T14:19:59.727Z"
   },
   {
    "duration": 6,
    "start_time": "2022-02-13T14:19:59.736Z"
   },
   {
    "duration": 5,
    "start_time": "2022-02-13T14:19:59.744Z"
   },
   {
    "duration": 14,
    "start_time": "2022-02-13T14:19:59.751Z"
   },
   {
    "duration": 15,
    "start_time": "2022-02-13T14:19:59.766Z"
   },
   {
    "duration": 49,
    "start_time": "2022-02-13T14:19:59.783Z"
   },
   {
    "duration": 18,
    "start_time": "2022-02-13T14:19:59.834Z"
   },
   {
    "duration": 16,
    "start_time": "2022-02-13T14:19:59.854Z"
   },
   {
    "duration": 11,
    "start_time": "2022-02-13T14:19:59.872Z"
   },
   {
    "duration": 6,
    "start_time": "2022-02-13T14:19:59.885Z"
   },
   {
    "duration": 6,
    "start_time": "2022-02-13T14:19:59.919Z"
   },
   {
    "duration": 7,
    "start_time": "2022-02-13T14:19:59.927Z"
   },
   {
    "duration": 11,
    "start_time": "2022-02-13T14:19:59.936Z"
   },
   {
    "duration": 19,
    "start_time": "2022-02-13T14:19:59.949Z"
   },
   {
    "duration": 3800,
    "start_time": "2022-02-13T14:19:59.970Z"
   },
   {
    "duration": 13,
    "start_time": "2022-02-13T14:20:03.772Z"
   },
   {
    "duration": 34,
    "start_time": "2022-02-13T14:20:03.787Z"
   },
   {
    "duration": 25,
    "start_time": "2022-02-13T14:20:03.823Z"
   },
   {
    "duration": 11,
    "start_time": "2022-02-13T14:20:03.850Z"
   },
   {
    "duration": 10,
    "start_time": "2022-02-13T14:20:03.863Z"
   },
   {
    "duration": 2,
    "start_time": "2022-02-13T14:23:47.092Z"
   },
   {
    "duration": 55,
    "start_time": "2022-02-13T14:23:47.096Z"
   },
   {
    "duration": 13,
    "start_time": "2022-02-13T14:23:47.153Z"
   },
   {
    "duration": 14,
    "start_time": "2022-02-13T14:23:47.168Z"
   },
   {
    "duration": 37,
    "start_time": "2022-02-13T14:23:47.183Z"
   },
   {
    "duration": 61,
    "start_time": "2022-02-13T14:23:47.221Z"
   },
   {
    "duration": 33,
    "start_time": "2022-02-13T14:23:47.285Z"
   },
   {
    "duration": 5,
    "start_time": "2022-02-13T14:23:47.321Z"
   },
   {
    "duration": 18,
    "start_time": "2022-02-13T14:23:47.328Z"
   },
   {
    "duration": 5,
    "start_time": "2022-02-13T14:23:47.348Z"
   },
   {
    "duration": 12,
    "start_time": "2022-02-13T14:23:47.355Z"
   },
   {
    "duration": 11,
    "start_time": "2022-02-13T14:23:47.369Z"
   },
   {
    "duration": 6,
    "start_time": "2022-02-13T14:23:47.382Z"
   },
   {
    "duration": 7,
    "start_time": "2022-02-13T14:23:47.418Z"
   },
   {
    "duration": 12,
    "start_time": "2022-02-13T14:23:47.427Z"
   },
   {
    "duration": 3,
    "start_time": "2022-02-13T14:23:47.441Z"
   },
   {
    "duration": 11,
    "start_time": "2022-02-13T14:23:47.446Z"
   },
   {
    "duration": 6,
    "start_time": "2022-02-13T14:23:47.459Z"
   },
   {
    "duration": 11,
    "start_time": "2022-02-13T14:23:47.470Z"
   },
   {
    "duration": 6,
    "start_time": "2022-02-13T14:23:47.520Z"
   },
   {
    "duration": 30,
    "start_time": "2022-02-13T14:23:47.527Z"
   },
   {
    "duration": 12,
    "start_time": "2022-02-13T14:23:47.560Z"
   },
   {
    "duration": 13,
    "start_time": "2022-02-13T14:23:47.574Z"
   },
   {
    "duration": 15,
    "start_time": "2022-02-13T14:23:47.589Z"
   },
   {
    "duration": 13,
    "start_time": "2022-02-13T14:23:47.606Z"
   },
   {
    "duration": 6,
    "start_time": "2022-02-13T14:23:47.621Z"
   },
   {
    "duration": 21,
    "start_time": "2022-02-13T14:23:47.628Z"
   },
   {
    "duration": 15,
    "start_time": "2022-02-13T14:23:47.651Z"
   },
   {
    "duration": 22,
    "start_time": "2022-02-13T14:23:47.668Z"
   },
   {
    "duration": 42,
    "start_time": "2022-02-13T14:23:47.692Z"
   },
   {
    "duration": 16,
    "start_time": "2022-02-13T14:23:47.736Z"
   },
   {
    "duration": 17,
    "start_time": "2022-02-13T14:23:47.754Z"
   },
   {
    "duration": 8,
    "start_time": "2022-02-13T14:23:47.773Z"
   },
   {
    "duration": 10,
    "start_time": "2022-02-13T14:23:47.782Z"
   },
   {
    "duration": 26,
    "start_time": "2022-02-13T14:23:47.794Z"
   },
   {
    "duration": 20,
    "start_time": "2022-02-13T14:23:47.822Z"
   },
   {
    "duration": 22,
    "start_time": "2022-02-13T14:23:47.844Z"
   },
   {
    "duration": 3669,
    "start_time": "2022-02-13T14:23:47.867Z"
   },
   {
    "duration": 14,
    "start_time": "2022-02-13T14:23:51.538Z"
   },
   {
    "duration": 24,
    "start_time": "2022-02-13T14:23:51.554Z"
   },
   {
    "duration": 39,
    "start_time": "2022-02-13T14:23:51.579Z"
   },
   {
    "duration": 12,
    "start_time": "2022-02-13T14:23:51.620Z"
   },
   {
    "duration": 8,
    "start_time": "2022-02-13T14:23:51.634Z"
   },
   {
    "duration": 246,
    "start_time": "2022-02-13T14:23:51.644Z"
   },
   {
    "duration": -469,
    "start_time": "2022-02-13T14:23:52.361Z"
   },
   {
    "duration": -475,
    "start_time": "2022-02-13T14:23:52.368Z"
   },
   {
    "duration": 2,
    "start_time": "2022-02-13T14:25:12.361Z"
   },
   {
    "duration": 56,
    "start_time": "2022-02-13T14:25:12.365Z"
   },
   {
    "duration": 14,
    "start_time": "2022-02-13T14:25:12.423Z"
   },
   {
    "duration": 18,
    "start_time": "2022-02-13T14:25:12.439Z"
   },
   {
    "duration": 5,
    "start_time": "2022-02-13T14:25:12.459Z"
   },
   {
    "duration": 92,
    "start_time": "2022-02-13T14:25:12.466Z"
   },
   {
    "duration": 6,
    "start_time": "2022-02-13T14:25:12.559Z"
   },
   {
    "duration": 7,
    "start_time": "2022-02-13T14:25:12.567Z"
   },
   {
    "duration": 12,
    "start_time": "2022-02-13T14:25:12.576Z"
   },
   {
    "duration": 5,
    "start_time": "2022-02-13T14:25:12.590Z"
   },
   {
    "duration": 31,
    "start_time": "2022-02-13T14:25:12.597Z"
   },
   {
    "duration": 11,
    "start_time": "2022-02-13T14:25:12.629Z"
   },
   {
    "duration": 7,
    "start_time": "2022-02-13T14:25:12.642Z"
   },
   {
    "duration": 6,
    "start_time": "2022-02-13T14:25:12.651Z"
   },
   {
    "duration": 12,
    "start_time": "2022-02-13T14:25:12.659Z"
   },
   {
    "duration": 2,
    "start_time": "2022-02-13T14:25:12.672Z"
   },
   {
    "duration": 7,
    "start_time": "2022-02-13T14:25:12.676Z"
   },
   {
    "duration": 37,
    "start_time": "2022-02-13T14:25:12.685Z"
   },
   {
    "duration": 7,
    "start_time": "2022-02-13T14:25:12.723Z"
   },
   {
    "duration": 5,
    "start_time": "2022-02-13T14:25:12.731Z"
   },
   {
    "duration": 20,
    "start_time": "2022-02-13T14:25:12.738Z"
   },
   {
    "duration": 5,
    "start_time": "2022-02-13T14:25:12.760Z"
   },
   {
    "duration": 4,
    "start_time": "2022-02-13T14:25:12.768Z"
   },
   {
    "duration": 14,
    "start_time": "2022-02-13T14:25:12.773Z"
   },
   {
    "duration": 33,
    "start_time": "2022-02-13T14:25:12.789Z"
   },
   {
    "duration": 10,
    "start_time": "2022-02-13T14:25:12.824Z"
   },
   {
    "duration": 17,
    "start_time": "2022-02-13T14:25:12.836Z"
   },
   {
    "duration": 15,
    "start_time": "2022-02-13T14:25:12.855Z"
   },
   {
    "duration": 21,
    "start_time": "2022-02-13T14:25:12.872Z"
   },
   {
    "duration": 39,
    "start_time": "2022-02-13T14:25:12.895Z"
   },
   {
    "duration": 17,
    "start_time": "2022-02-13T14:25:12.935Z"
   },
   {
    "duration": 12,
    "start_time": "2022-02-13T14:25:12.953Z"
   },
   {
    "duration": 6,
    "start_time": "2022-02-13T14:25:12.967Z"
   },
   {
    "duration": 8,
    "start_time": "2022-02-13T14:25:12.975Z"
   },
   {
    "duration": 43,
    "start_time": "2022-02-13T14:25:12.985Z"
   },
   {
    "duration": 3,
    "start_time": "2022-02-13T14:33:01.097Z"
   },
   {
    "duration": 55,
    "start_time": "2022-02-13T14:33:01.105Z"
   },
   {
    "duration": 12,
    "start_time": "2022-02-13T14:33:01.162Z"
   },
   {
    "duration": 23,
    "start_time": "2022-02-13T14:33:01.176Z"
   },
   {
    "duration": 19,
    "start_time": "2022-02-13T14:33:01.201Z"
   },
   {
    "duration": 57,
    "start_time": "2022-02-13T14:33:01.222Z"
   },
   {
    "duration": 5,
    "start_time": "2022-02-13T14:33:01.281Z"
   },
   {
    "duration": 31,
    "start_time": "2022-02-13T14:33:01.288Z"
   },
   {
    "duration": 32,
    "start_time": "2022-02-13T14:33:01.321Z"
   },
   {
    "duration": 5,
    "start_time": "2022-02-13T14:33:01.356Z"
   },
   {
    "duration": 19,
    "start_time": "2022-02-13T14:33:01.362Z"
   },
   {
    "duration": 10,
    "start_time": "2022-02-13T14:33:01.383Z"
   },
   {
    "duration": 17,
    "start_time": "2022-02-13T14:33:01.395Z"
   },
   {
    "duration": 15,
    "start_time": "2022-02-13T14:33:01.414Z"
   },
   {
    "duration": 13,
    "start_time": "2022-02-13T14:33:01.431Z"
   },
   {
    "duration": 12,
    "start_time": "2022-02-13T14:33:01.446Z"
   },
   {
    "duration": 13,
    "start_time": "2022-02-13T14:33:01.459Z"
   },
   {
    "duration": 9,
    "start_time": "2022-02-13T14:33:01.474Z"
   },
   {
    "duration": 18,
    "start_time": "2022-02-13T14:33:01.485Z"
   },
   {
    "duration": 14,
    "start_time": "2022-02-13T14:33:01.506Z"
   },
   {
    "duration": 29,
    "start_time": "2022-02-13T14:33:01.522Z"
   },
   {
    "duration": 6,
    "start_time": "2022-02-13T14:33:01.553Z"
   },
   {
    "duration": 18,
    "start_time": "2022-02-13T14:33:01.561Z"
   },
   {
    "duration": 11,
    "start_time": "2022-02-13T14:33:01.582Z"
   },
   {
    "duration": 31,
    "start_time": "2022-02-13T14:33:01.595Z"
   },
   {
    "duration": 21,
    "start_time": "2022-02-13T14:33:01.628Z"
   },
   {
    "duration": 43,
    "start_time": "2022-02-13T14:33:01.651Z"
   },
   {
    "duration": 21,
    "start_time": "2022-02-13T14:33:01.696Z"
   },
   {
    "duration": 32,
    "start_time": "2022-02-13T14:33:01.718Z"
   },
   {
    "duration": 23,
    "start_time": "2022-02-13T14:33:01.751Z"
   },
   {
    "duration": 20,
    "start_time": "2022-02-13T14:33:01.776Z"
   },
   {
    "duration": 29,
    "start_time": "2022-02-13T14:33:01.798Z"
   },
   {
    "duration": 23,
    "start_time": "2022-02-13T14:33:01.828Z"
   },
   {
    "duration": 30,
    "start_time": "2022-02-13T14:33:01.853Z"
   },
   {
    "duration": 28,
    "start_time": "2022-02-13T14:33:01.885Z"
   },
   {
    "duration": 25,
    "start_time": "2022-02-13T14:33:01.915Z"
   },
   {
    "duration": 50,
    "start_time": "2022-02-13T14:33:01.941Z"
   },
   {
    "duration": 3798,
    "start_time": "2022-02-13T14:33:01.993Z"
   },
   {
    "duration": 13,
    "start_time": "2022-02-13T14:33:05.793Z"
   },
   {
    "duration": 23,
    "start_time": "2022-02-13T14:33:05.818Z"
   },
   {
    "duration": 23,
    "start_time": "2022-02-13T14:33:05.843Z"
   },
   {
    "duration": 12,
    "start_time": "2022-02-13T14:33:05.868Z"
   },
   {
    "duration": 38,
    "start_time": "2022-02-13T14:33:05.881Z"
   },
   {
    "duration": 36,
    "start_time": "2022-02-13T14:33:05.921Z"
   },
   {
    "duration": 7326,
    "start_time": "2022-02-13T14:33:05.959Z"
   },
   {
    "duration": 3,
    "start_time": "2022-02-13T14:34:43.089Z"
   },
   {
    "duration": 53,
    "start_time": "2022-02-13T14:34:43.095Z"
   },
   {
    "duration": 12,
    "start_time": "2022-02-13T14:34:43.150Z"
   },
   {
    "duration": 15,
    "start_time": "2022-02-13T14:34:43.164Z"
   },
   {
    "duration": 6,
    "start_time": "2022-02-13T14:34:43.181Z"
   },
   {
    "duration": 91,
    "start_time": "2022-02-13T14:34:43.188Z"
   },
   {
    "duration": 7,
    "start_time": "2022-02-13T14:34:43.281Z"
   },
   {
    "duration": 31,
    "start_time": "2022-02-13T14:34:43.290Z"
   },
   {
    "duration": 13,
    "start_time": "2022-02-13T14:34:43.324Z"
   },
   {
    "duration": 5,
    "start_time": "2022-02-13T14:34:43.339Z"
   },
   {
    "duration": 14,
    "start_time": "2022-02-13T14:34:43.346Z"
   },
   {
    "duration": 9,
    "start_time": "2022-02-13T14:34:43.362Z"
   },
   {
    "duration": 8,
    "start_time": "2022-02-13T14:34:43.372Z"
   },
   {
    "duration": 38,
    "start_time": "2022-02-13T14:34:43.382Z"
   },
   {
    "duration": 11,
    "start_time": "2022-02-13T14:34:43.421Z"
   },
   {
    "duration": 4,
    "start_time": "2022-02-13T14:34:43.433Z"
   },
   {
    "duration": 8,
    "start_time": "2022-02-13T14:34:43.438Z"
   },
   {
    "duration": 7,
    "start_time": "2022-02-13T14:34:43.447Z"
   },
   {
    "duration": 11,
    "start_time": "2022-02-13T14:34:43.456Z"
   },
   {
    "duration": 7,
    "start_time": "2022-02-13T14:34:43.468Z"
   },
   {
    "duration": 47,
    "start_time": "2022-02-13T14:34:43.477Z"
   },
   {
    "duration": 5,
    "start_time": "2022-02-13T14:34:43.525Z"
   },
   {
    "duration": 9,
    "start_time": "2022-02-13T14:34:43.532Z"
   },
   {
    "duration": 7,
    "start_time": "2022-02-13T14:34:43.545Z"
   },
   {
    "duration": 5,
    "start_time": "2022-02-13T14:34:43.554Z"
   },
   {
    "duration": 6,
    "start_time": "2022-02-13T14:34:43.560Z"
   },
   {
    "duration": 12,
    "start_time": "2022-02-13T14:34:43.568Z"
   },
   {
    "duration": 47,
    "start_time": "2022-02-13T14:34:43.582Z"
   },
   {
    "duration": 21,
    "start_time": "2022-02-13T14:34:43.631Z"
   },
   {
    "duration": 18,
    "start_time": "2022-02-13T14:34:43.653Z"
   },
   {
    "duration": 16,
    "start_time": "2022-02-13T14:34:43.673Z"
   },
   {
    "duration": 36,
    "start_time": "2022-02-13T14:34:43.690Z"
   },
   {
    "duration": 6,
    "start_time": "2022-02-13T14:34:43.727Z"
   },
   {
    "duration": 8,
    "start_time": "2022-02-13T14:34:43.735Z"
   },
   {
    "duration": 16,
    "start_time": "2022-02-13T14:34:43.745Z"
   },
   {
    "duration": 11,
    "start_time": "2022-02-13T14:34:43.762Z"
   },
   {
    "duration": 16,
    "start_time": "2022-02-13T14:34:43.774Z"
   },
   {
    "duration": 3693,
    "start_time": "2022-02-13T14:34:43.792Z"
   },
   {
    "duration": 13,
    "start_time": "2022-02-13T14:34:47.487Z"
   },
   {
    "duration": 34,
    "start_time": "2022-02-13T14:34:47.502Z"
   },
   {
    "duration": 21,
    "start_time": "2022-02-13T14:34:47.538Z"
   },
   {
    "duration": 10,
    "start_time": "2022-02-13T14:34:47.561Z"
   },
   {
    "duration": 11,
    "start_time": "2022-02-13T14:34:47.573Z"
   },
   {
    "duration": 335,
    "start_time": "2022-02-13T14:34:47.586Z"
   },
   {
    "duration": -188,
    "start_time": "2022-02-13T14:34:48.111Z"
   },
   {
    "duration": 3,
    "start_time": "2022-02-13T14:35:34.440Z"
   },
   {
    "duration": 138,
    "start_time": "2022-02-13T14:35:34.445Z"
   },
   {
    "duration": 24,
    "start_time": "2022-02-13T14:35:34.586Z"
   },
   {
    "duration": 39,
    "start_time": "2022-02-13T14:35:34.612Z"
   },
   {
    "duration": 23,
    "start_time": "2022-02-13T14:35:34.653Z"
   },
   {
    "duration": 66,
    "start_time": "2022-02-13T14:35:34.677Z"
   },
   {
    "duration": 5,
    "start_time": "2022-02-13T14:35:34.746Z"
   },
   {
    "duration": 20,
    "start_time": "2022-02-13T14:35:34.753Z"
   },
   {
    "duration": 13,
    "start_time": "2022-02-13T14:35:34.775Z"
   },
   {
    "duration": 31,
    "start_time": "2022-02-13T14:35:34.790Z"
   },
   {
    "duration": 22,
    "start_time": "2022-02-13T14:35:34.823Z"
   },
   {
    "duration": 28,
    "start_time": "2022-02-13T14:35:34.847Z"
   },
   {
    "duration": 19,
    "start_time": "2022-02-13T14:35:34.877Z"
   },
   {
    "duration": 5,
    "start_time": "2022-02-13T14:35:34.898Z"
   },
   {
    "duration": 10,
    "start_time": "2022-02-13T14:35:34.905Z"
   },
   {
    "duration": 2,
    "start_time": "2022-02-13T14:35:34.917Z"
   },
   {
    "duration": 24,
    "start_time": "2022-02-13T14:35:34.921Z"
   },
   {
    "duration": 21,
    "start_time": "2022-02-13T14:35:34.947Z"
   },
   {
    "duration": 10,
    "start_time": "2022-02-13T14:35:34.972Z"
   },
   {
    "duration": 4,
    "start_time": "2022-02-13T14:35:34.984Z"
   },
   {
    "duration": 60,
    "start_time": "2022-02-13T14:35:34.990Z"
   },
   {
    "duration": 5,
    "start_time": "2022-02-13T14:35:35.052Z"
   },
   {
    "duration": 38,
    "start_time": "2022-02-13T14:35:35.059Z"
   },
   {
    "duration": 10,
    "start_time": "2022-02-13T14:35:35.099Z"
   },
   {
    "duration": 7,
    "start_time": "2022-02-13T14:35:35.111Z"
   },
   {
    "duration": 9,
    "start_time": "2022-02-13T14:35:35.120Z"
   },
   {
    "duration": 24,
    "start_time": "2022-02-13T14:35:35.131Z"
   },
   {
    "duration": 21,
    "start_time": "2022-02-13T14:35:35.157Z"
   },
   {
    "duration": 43,
    "start_time": "2022-02-13T14:35:35.180Z"
   },
   {
    "duration": 25,
    "start_time": "2022-02-13T14:35:35.225Z"
   },
   {
    "duration": 20,
    "start_time": "2022-02-13T14:35:35.252Z"
   },
   {
    "duration": 15,
    "start_time": "2022-02-13T14:35:35.273Z"
   },
   {
    "duration": 31,
    "start_time": "2022-02-13T14:35:35.290Z"
   },
   {
    "duration": 15,
    "start_time": "2022-02-13T14:35:35.324Z"
   },
   {
    "duration": 14,
    "start_time": "2022-02-13T14:35:35.341Z"
   },
   {
    "duration": 12,
    "start_time": "2022-02-13T14:35:35.357Z"
   },
   {
    "duration": 31,
    "start_time": "2022-02-13T14:35:35.371Z"
   },
   {
    "duration": 3674,
    "start_time": "2022-02-13T14:35:35.404Z"
   },
   {
    "duration": 12,
    "start_time": "2022-02-13T14:35:39.081Z"
   },
   {
    "duration": 35,
    "start_time": "2022-02-13T14:35:39.095Z"
   },
   {
    "duration": 21,
    "start_time": "2022-02-13T14:35:39.132Z"
   },
   {
    "duration": 13,
    "start_time": "2022-02-13T14:35:39.155Z"
   },
   {
    "duration": 20,
    "start_time": "2022-02-13T14:35:39.170Z"
   },
   {
    "duration": 154,
    "start_time": "2022-02-13T14:35:39.192Z"
   },
   {
    "duration": -148,
    "start_time": "2022-02-13T14:35:39.496Z"
   },
   {
    "duration": 3,
    "start_time": "2022-02-13T14:36:03.097Z"
   },
   {
    "duration": 60,
    "start_time": "2022-02-13T14:36:03.102Z"
   },
   {
    "duration": 15,
    "start_time": "2022-02-13T14:36:03.165Z"
   },
   {
    "duration": 37,
    "start_time": "2022-02-13T14:36:03.182Z"
   },
   {
    "duration": 6,
    "start_time": "2022-02-13T14:36:03.221Z"
   },
   {
    "duration": 61,
    "start_time": "2022-02-13T14:36:03.229Z"
   },
   {
    "duration": 27,
    "start_time": "2022-02-13T14:36:03.292Z"
   },
   {
    "duration": 5,
    "start_time": "2022-02-13T14:36:03.322Z"
   },
   {
    "duration": 13,
    "start_time": "2022-02-13T14:36:03.329Z"
   },
   {
    "duration": 5,
    "start_time": "2022-02-13T14:36:03.344Z"
   },
   {
    "duration": 23,
    "start_time": "2022-02-13T14:36:03.351Z"
   },
   {
    "duration": 11,
    "start_time": "2022-02-13T14:36:03.376Z"
   },
   {
    "duration": 30,
    "start_time": "2022-02-13T14:36:03.389Z"
   },
   {
    "duration": 6,
    "start_time": "2022-02-13T14:36:03.421Z"
   },
   {
    "duration": 13,
    "start_time": "2022-02-13T14:36:03.428Z"
   },
   {
    "duration": 3,
    "start_time": "2022-02-13T14:36:03.442Z"
   },
   {
    "duration": 10,
    "start_time": "2022-02-13T14:36:03.447Z"
   },
   {
    "duration": 5,
    "start_time": "2022-02-13T14:36:03.459Z"
   },
   {
    "duration": 6,
    "start_time": "2022-02-13T14:36:03.467Z"
   },
   {
    "duration": 45,
    "start_time": "2022-02-13T14:36:03.475Z"
   },
   {
    "duration": 26,
    "start_time": "2022-02-13T14:36:03.522Z"
   },
   {
    "duration": 6,
    "start_time": "2022-02-13T14:36:03.550Z"
   },
   {
    "duration": 7,
    "start_time": "2022-02-13T14:36:03.558Z"
   },
   {
    "duration": 7,
    "start_time": "2022-02-13T14:36:03.566Z"
   },
   {
    "duration": 4,
    "start_time": "2022-02-13T14:36:03.575Z"
   },
   {
    "duration": 37,
    "start_time": "2022-02-13T14:36:03.581Z"
   },
   {
    "duration": 12,
    "start_time": "2022-02-13T14:36:03.620Z"
   },
   {
    "duration": 15,
    "start_time": "2022-02-13T14:36:03.634Z"
   },
   {
    "duration": 26,
    "start_time": "2022-02-13T14:36:03.650Z"
   },
   {
    "duration": 40,
    "start_time": "2022-02-13T14:36:03.678Z"
   },
   {
    "duration": 17,
    "start_time": "2022-02-13T14:36:03.720Z"
   },
   {
    "duration": 12,
    "start_time": "2022-02-13T14:36:03.738Z"
   },
   {
    "duration": 7,
    "start_time": "2022-02-13T14:36:03.752Z"
   },
   {
    "duration": 8,
    "start_time": "2022-02-13T14:36:03.761Z"
   },
   {
    "duration": 13,
    "start_time": "2022-02-13T14:36:03.771Z"
   },
   {
    "duration": 41,
    "start_time": "2022-02-13T14:36:03.786Z"
   },
   {
    "duration": 15,
    "start_time": "2022-02-13T14:36:03.829Z"
   },
   {
    "duration": 3796,
    "start_time": "2022-02-13T14:36:03.845Z"
   },
   {
    "duration": 14,
    "start_time": "2022-02-13T14:36:07.643Z"
   },
   {
    "duration": 32,
    "start_time": "2022-02-13T14:36:07.658Z"
   },
   {
    "duration": 27,
    "start_time": "2022-02-13T14:36:07.692Z"
   },
   {
    "duration": 21,
    "start_time": "2022-02-13T14:36:07.720Z"
   },
   {
    "duration": 10,
    "start_time": "2022-02-13T14:36:07.743Z"
   },
   {
    "duration": 20,
    "start_time": "2022-02-13T14:36:07.754Z"
   },
   {
    "duration": 6908,
    "start_time": "2022-02-13T14:36:07.775Z"
   },
   {
    "duration": 3,
    "start_time": "2022-02-13T14:36:57.716Z"
   },
   {
    "duration": 56,
    "start_time": "2022-02-13T14:36:57.721Z"
   },
   {
    "duration": 12,
    "start_time": "2022-02-13T14:36:57.778Z"
   },
   {
    "duration": 27,
    "start_time": "2022-02-13T14:36:57.792Z"
   },
   {
    "duration": 4,
    "start_time": "2022-02-13T14:36:57.821Z"
   },
   {
    "duration": 55,
    "start_time": "2022-02-13T14:36:57.827Z"
   },
   {
    "duration": 5,
    "start_time": "2022-02-13T14:36:57.884Z"
   },
   {
    "duration": 4,
    "start_time": "2022-02-13T14:36:57.919Z"
   },
   {
    "duration": 18,
    "start_time": "2022-02-13T14:36:57.925Z"
   },
   {
    "duration": 5,
    "start_time": "2022-02-13T14:36:57.945Z"
   },
   {
    "duration": 23,
    "start_time": "2022-02-13T14:36:57.951Z"
   },
   {
    "duration": 10,
    "start_time": "2022-02-13T14:36:57.976Z"
   },
   {
    "duration": 8,
    "start_time": "2022-02-13T14:36:57.988Z"
   },
   {
    "duration": 7,
    "start_time": "2022-02-13T14:36:57.998Z"
   },
   {
    "duration": 11,
    "start_time": "2022-02-13T14:36:58.018Z"
   },
   {
    "duration": 2,
    "start_time": "2022-02-13T14:36:58.030Z"
   },
   {
    "duration": 10,
    "start_time": "2022-02-13T14:36:58.034Z"
   },
   {
    "duration": 6,
    "start_time": "2022-02-13T14:36:58.046Z"
   },
   {
    "duration": 9,
    "start_time": "2022-02-13T14:36:58.055Z"
   },
   {
    "duration": 12,
    "start_time": "2022-02-13T14:36:58.066Z"
   },
   {
    "duration": 39,
    "start_time": "2022-02-13T14:36:58.080Z"
   },
   {
    "duration": 5,
    "start_time": "2022-02-13T14:36:58.122Z"
   },
   {
    "duration": 5,
    "start_time": "2022-02-13T14:36:58.129Z"
   },
   {
    "duration": 10,
    "start_time": "2022-02-13T14:36:58.136Z"
   },
   {
    "duration": 4,
    "start_time": "2022-02-13T14:36:58.148Z"
   },
   {
    "duration": 5,
    "start_time": "2022-02-13T14:36:58.153Z"
   },
   {
    "duration": 14,
    "start_time": "2022-02-13T14:36:58.160Z"
   },
   {
    "duration": 47,
    "start_time": "2022-02-13T14:36:58.175Z"
   },
   {
    "duration": 21,
    "start_time": "2022-02-13T14:36:58.224Z"
   },
   {
    "duration": 18,
    "start_time": "2022-02-13T14:36:58.247Z"
   },
   {
    "duration": 15,
    "start_time": "2022-02-13T14:36:58.266Z"
   },
   {
    "duration": 40,
    "start_time": "2022-02-13T14:36:58.282Z"
   },
   {
    "duration": 6,
    "start_time": "2022-02-13T14:36:58.323Z"
   },
   {
    "duration": 13,
    "start_time": "2022-02-13T14:36:58.331Z"
   },
   {
    "duration": 16,
    "start_time": "2022-02-13T14:36:58.346Z"
   },
   {
    "duration": 9,
    "start_time": "2022-02-13T14:36:58.364Z"
   },
   {
    "duration": 37,
    "start_time": "2022-02-13T14:36:58.374Z"
   },
   {
    "duration": 3992,
    "start_time": "2022-02-13T14:36:58.413Z"
   },
   {
    "duration": 20,
    "start_time": "2022-02-13T14:37:02.407Z"
   },
   {
    "duration": 29,
    "start_time": "2022-02-13T14:37:02.429Z"
   },
   {
    "duration": 23,
    "start_time": "2022-02-13T14:37:02.460Z"
   },
   {
    "duration": 10,
    "start_time": "2022-02-13T14:37:02.485Z"
   },
   {
    "duration": 26,
    "start_time": "2022-02-13T14:37:02.497Z"
   },
   {
    "duration": 87,
    "start_time": "2022-02-13T14:37:02.524Z"
   },
   {
    "duration": -47,
    "start_time": "2022-02-13T14:37:02.660Z"
   },
   {
    "duration": 3,
    "start_time": "2022-02-13T14:37:26.163Z"
   },
   {
    "duration": 55,
    "start_time": "2022-02-13T14:37:26.168Z"
   },
   {
    "duration": 13,
    "start_time": "2022-02-13T14:37:26.225Z"
   },
   {
    "duration": 36,
    "start_time": "2022-02-13T14:37:26.240Z"
   },
   {
    "duration": 6,
    "start_time": "2022-02-13T14:37:26.278Z"
   },
   {
    "duration": 75,
    "start_time": "2022-02-13T14:37:26.286Z"
   },
   {
    "duration": 5,
    "start_time": "2022-02-13T14:37:26.364Z"
   },
   {
    "duration": 23,
    "start_time": "2022-02-13T14:37:26.372Z"
   },
   {
    "duration": 24,
    "start_time": "2022-02-13T14:37:26.396Z"
   },
   {
    "duration": 22,
    "start_time": "2022-02-13T14:37:26.421Z"
   },
   {
    "duration": 21,
    "start_time": "2022-02-13T14:37:26.445Z"
   },
   {
    "duration": 29,
    "start_time": "2022-02-13T14:37:26.468Z"
   },
   {
    "duration": 27,
    "start_time": "2022-02-13T14:37:26.499Z"
   },
   {
    "duration": 18,
    "start_time": "2022-02-13T14:37:26.528Z"
   },
   {
    "duration": 28,
    "start_time": "2022-02-13T14:37:26.547Z"
   },
   {
    "duration": 25,
    "start_time": "2022-02-13T14:37:26.577Z"
   },
   {
    "duration": 23,
    "start_time": "2022-02-13T14:37:26.604Z"
   },
   {
    "duration": 19,
    "start_time": "2022-02-13T14:37:26.629Z"
   },
   {
    "duration": 27,
    "start_time": "2022-02-13T14:37:26.651Z"
   },
   {
    "duration": 14,
    "start_time": "2022-02-13T14:37:26.680Z"
   },
   {
    "duration": 43,
    "start_time": "2022-02-13T14:37:26.695Z"
   },
   {
    "duration": 7,
    "start_time": "2022-02-13T14:37:26.740Z"
   },
   {
    "duration": 34,
    "start_time": "2022-02-13T14:37:26.748Z"
   },
   {
    "duration": 18,
    "start_time": "2022-02-13T14:37:26.784Z"
   },
   {
    "duration": 25,
    "start_time": "2022-02-13T14:37:26.803Z"
   },
   {
    "duration": 26,
    "start_time": "2022-02-13T14:37:26.829Z"
   },
   {
    "duration": 28,
    "start_time": "2022-02-13T14:37:26.856Z"
   },
   {
    "duration": 32,
    "start_time": "2022-02-13T14:37:26.885Z"
   },
   {
    "duration": 47,
    "start_time": "2022-02-13T14:37:26.919Z"
   },
   {
    "duration": 18,
    "start_time": "2022-02-13T14:37:26.968Z"
   },
   {
    "duration": 27,
    "start_time": "2022-02-13T14:37:26.988Z"
   },
   {
    "duration": 15,
    "start_time": "2022-02-13T14:37:27.017Z"
   },
   {
    "duration": 23,
    "start_time": "2022-02-13T14:37:27.034Z"
   },
   {
    "duration": 27,
    "start_time": "2022-02-13T14:37:27.059Z"
   },
   {
    "duration": 24,
    "start_time": "2022-02-13T14:37:27.088Z"
   },
   {
    "duration": 23,
    "start_time": "2022-02-13T14:37:27.114Z"
   },
   {
    "duration": 44,
    "start_time": "2022-02-13T14:37:27.138Z"
   },
   {
    "duration": 4084,
    "start_time": "2022-02-13T14:37:27.184Z"
   },
   {
    "duration": 13,
    "start_time": "2022-02-13T14:37:31.270Z"
   },
   {
    "duration": 37,
    "start_time": "2022-02-13T14:37:31.285Z"
   },
   {
    "duration": 20,
    "start_time": "2022-02-13T14:37:31.324Z"
   },
   {
    "duration": 11,
    "start_time": "2022-02-13T14:37:31.346Z"
   },
   {
    "duration": 17,
    "start_time": "2022-02-13T14:37:31.358Z"
   },
   {
    "duration": 289,
    "start_time": "2022-02-13T14:37:31.377Z"
   },
   {
    "duration": -127,
    "start_time": "2022-02-13T14:37:31.795Z"
   },
   {
    "duration": 3,
    "start_time": "2022-02-13T14:38:01.485Z"
   },
   {
    "duration": 60,
    "start_time": "2022-02-13T14:38:01.490Z"
   },
   {
    "duration": 13,
    "start_time": "2022-02-13T14:38:01.552Z"
   },
   {
    "duration": 26,
    "start_time": "2022-02-13T14:38:01.567Z"
   },
   {
    "duration": 24,
    "start_time": "2022-02-13T14:38:01.595Z"
   },
   {
    "duration": 59,
    "start_time": "2022-02-13T14:38:01.620Z"
   },
   {
    "duration": 6,
    "start_time": "2022-02-13T14:38:01.682Z"
   },
   {
    "duration": 7,
    "start_time": "2022-02-13T14:38:01.719Z"
   },
   {
    "duration": 24,
    "start_time": "2022-02-13T14:38:01.729Z"
   },
   {
    "duration": 10,
    "start_time": "2022-02-13T14:38:01.755Z"
   },
   {
    "duration": 15,
    "start_time": "2022-02-13T14:38:01.767Z"
   },
   {
    "duration": 19,
    "start_time": "2022-02-13T14:38:01.784Z"
   },
   {
    "duration": 14,
    "start_time": "2022-02-13T14:38:01.805Z"
   },
   {
    "duration": 13,
    "start_time": "2022-02-13T14:38:01.821Z"
   },
   {
    "duration": 21,
    "start_time": "2022-02-13T14:38:01.835Z"
   },
   {
    "duration": 14,
    "start_time": "2022-02-13T14:38:01.858Z"
   },
   {
    "duration": 10,
    "start_time": "2022-02-13T14:38:01.873Z"
   },
   {
    "duration": 6,
    "start_time": "2022-02-13T14:38:01.885Z"
   },
   {
    "duration": 11,
    "start_time": "2022-02-13T14:38:01.895Z"
   },
   {
    "duration": 12,
    "start_time": "2022-02-13T14:38:01.908Z"
   },
   {
    "duration": 29,
    "start_time": "2022-02-13T14:38:01.923Z"
   },
   {
    "duration": 6,
    "start_time": "2022-02-13T14:38:01.954Z"
   },
   {
    "duration": 31,
    "start_time": "2022-02-13T14:38:01.961Z"
   },
   {
    "duration": 12,
    "start_time": "2022-02-13T14:38:01.994Z"
   },
   {
    "duration": 11,
    "start_time": "2022-02-13T14:38:02.008Z"
   },
   {
    "duration": 10,
    "start_time": "2022-02-13T14:38:02.021Z"
   },
   {
    "duration": 16,
    "start_time": "2022-02-13T14:38:02.033Z"
   },
   {
    "duration": 25,
    "start_time": "2022-02-13T14:38:02.051Z"
   },
   {
    "duration": 46,
    "start_time": "2022-02-13T14:38:02.078Z"
   },
   {
    "duration": 25,
    "start_time": "2022-02-13T14:38:02.126Z"
   },
   {
    "duration": 15,
    "start_time": "2022-02-13T14:38:02.153Z"
   },
   {
    "duration": 12,
    "start_time": "2022-02-13T14:38:02.170Z"
   },
   {
    "duration": 6,
    "start_time": "2022-02-13T14:38:02.183Z"
   },
   {
    "duration": 9,
    "start_time": "2022-02-13T14:38:02.219Z"
   },
   {
    "duration": 18,
    "start_time": "2022-02-13T14:38:02.230Z"
   },
   {
    "duration": 10,
    "start_time": "2022-02-13T14:38:02.250Z"
   },
   {
    "duration": 31,
    "start_time": "2022-02-13T14:38:02.261Z"
   },
   {
    "duration": 3875,
    "start_time": "2022-02-13T14:38:02.293Z"
   },
   {
    "duration": 14,
    "start_time": "2022-02-13T14:38:06.170Z"
   },
   {
    "duration": 37,
    "start_time": "2022-02-13T14:38:06.186Z"
   },
   {
    "duration": 23,
    "start_time": "2022-02-13T14:38:06.225Z"
   },
   {
    "duration": 11,
    "start_time": "2022-02-13T14:38:06.250Z"
   },
   {
    "duration": 13,
    "start_time": "2022-02-13T14:38:06.262Z"
   },
   {
    "duration": 327,
    "start_time": "2022-02-13T14:38:06.277Z"
   },
   {
    "duration": -142,
    "start_time": "2022-02-13T14:38:06.748Z"
   },
   {
    "duration": 3,
    "start_time": "2022-02-13T14:39:34.790Z"
   },
   {
    "duration": 55,
    "start_time": "2022-02-13T14:39:34.794Z"
   },
   {
    "duration": 13,
    "start_time": "2022-02-13T14:39:34.851Z"
   },
   {
    "duration": 15,
    "start_time": "2022-02-13T14:39:34.867Z"
   },
   {
    "duration": 38,
    "start_time": "2022-02-13T14:39:34.884Z"
   },
   {
    "duration": 60,
    "start_time": "2022-02-13T14:39:34.924Z"
   },
   {
    "duration": 7,
    "start_time": "2022-02-13T14:39:34.986Z"
   },
   {
    "duration": 26,
    "start_time": "2022-02-13T14:39:34.996Z"
   },
   {
    "duration": 18,
    "start_time": "2022-02-13T14:39:35.026Z"
   },
   {
    "duration": 5,
    "start_time": "2022-02-13T14:39:35.047Z"
   },
   {
    "duration": 20,
    "start_time": "2022-02-13T14:39:35.054Z"
   },
   {
    "duration": 8,
    "start_time": "2022-02-13T14:39:35.076Z"
   },
   {
    "duration": 42,
    "start_time": "2022-02-13T14:39:35.086Z"
   },
   {
    "duration": 11,
    "start_time": "2022-02-13T14:39:35.131Z"
   },
   {
    "duration": 22,
    "start_time": "2022-02-13T14:39:35.144Z"
   },
   {
    "duration": 4,
    "start_time": "2022-02-13T14:39:35.168Z"
   },
   {
    "duration": 11,
    "start_time": "2022-02-13T14:39:35.174Z"
   },
   {
    "duration": 34,
    "start_time": "2022-02-13T14:39:35.187Z"
   },
   {
    "duration": 8,
    "start_time": "2022-02-13T14:39:35.223Z"
   },
   {
    "duration": 6,
    "start_time": "2022-02-13T14:39:35.233Z"
   },
   {
    "duration": 30,
    "start_time": "2022-02-13T14:39:35.241Z"
   },
   {
    "duration": 6,
    "start_time": "2022-02-13T14:39:35.274Z"
   },
   {
    "duration": 6,
    "start_time": "2022-02-13T14:39:35.317Z"
   },
   {
    "duration": 9,
    "start_time": "2022-02-13T14:39:35.326Z"
   },
   {
    "duration": 13,
    "start_time": "2022-02-13T14:39:35.337Z"
   },
   {
    "duration": 31,
    "start_time": "2022-02-13T14:39:35.352Z"
   },
   {
    "duration": 34,
    "start_time": "2022-02-13T14:39:35.385Z"
   },
   {
    "duration": 25,
    "start_time": "2022-02-13T14:39:35.422Z"
   },
   {
    "duration": 25,
    "start_time": "2022-02-13T14:39:35.450Z"
   },
   {
    "duration": 41,
    "start_time": "2022-02-13T14:39:35.477Z"
   },
   {
    "duration": 18,
    "start_time": "2022-02-13T14:39:35.521Z"
   },
   {
    "duration": 17,
    "start_time": "2022-02-13T14:39:35.542Z"
   },
   {
    "duration": 11,
    "start_time": "2022-02-13T14:39:35.561Z"
   },
   {
    "duration": 14,
    "start_time": "2022-02-13T14:39:35.574Z"
   },
   {
    "duration": 43,
    "start_time": "2022-02-13T14:39:35.590Z"
   },
   {
    "duration": 22,
    "start_time": "2022-02-13T14:39:35.635Z"
   },
   {
    "duration": 21,
    "start_time": "2022-02-13T14:39:35.659Z"
   },
   {
    "duration": 4555,
    "start_time": "2022-02-13T14:39:35.682Z"
   },
   {
    "duration": 15,
    "start_time": "2022-02-13T14:39:40.239Z"
   },
   {
    "duration": 30,
    "start_time": "2022-02-13T14:39:40.256Z"
   },
   {
    "duration": 52,
    "start_time": "2022-02-13T14:39:40.288Z"
   },
   {
    "duration": 18,
    "start_time": "2022-02-13T14:39:40.342Z"
   },
   {
    "duration": 13,
    "start_time": "2022-02-13T14:39:40.362Z"
   },
   {
    "duration": 10,
    "start_time": "2022-02-13T14:39:40.377Z"
   },
   {
    "duration": 7904,
    "start_time": "2022-02-13T14:39:40.389Z"
   },
   {
    "duration": -64,
    "start_time": "2022-02-13T14:39:48.359Z"
   },
   {
    "duration": 3,
    "start_time": "2022-02-13T14:40:05.491Z"
   },
   {
    "duration": 67,
    "start_time": "2022-02-13T14:40:05.496Z"
   },
   {
    "duration": 14,
    "start_time": "2022-02-13T14:40:05.565Z"
   },
   {
    "duration": 15,
    "start_time": "2022-02-13T14:40:05.581Z"
   },
   {
    "duration": 24,
    "start_time": "2022-02-13T14:40:05.598Z"
   },
   {
    "duration": 59,
    "start_time": "2022-02-13T14:40:05.624Z"
   },
   {
    "duration": 6,
    "start_time": "2022-02-13T14:40:05.685Z"
   },
   {
    "duration": 5,
    "start_time": "2022-02-13T14:40:05.718Z"
   },
   {
    "duration": 32,
    "start_time": "2022-02-13T14:40:05.725Z"
   },
   {
    "duration": 5,
    "start_time": "2022-02-13T14:40:05.759Z"
   },
   {
    "duration": 15,
    "start_time": "2022-02-13T14:40:05.766Z"
   },
   {
    "duration": 14,
    "start_time": "2022-02-13T14:40:05.783Z"
   },
   {
    "duration": 9,
    "start_time": "2022-02-13T14:40:05.798Z"
   },
   {
    "duration": 9,
    "start_time": "2022-02-13T14:40:05.819Z"
   },
   {
    "duration": 14,
    "start_time": "2022-02-13T14:40:05.830Z"
   },
   {
    "duration": 3,
    "start_time": "2022-02-13T14:40:05.846Z"
   },
   {
    "duration": 23,
    "start_time": "2022-02-13T14:40:05.851Z"
   },
   {
    "duration": 8,
    "start_time": "2022-02-13T14:40:05.876Z"
   },
   {
    "duration": 17,
    "start_time": "2022-02-13T14:40:05.888Z"
   },
   {
    "duration": 9,
    "start_time": "2022-02-13T14:40:05.908Z"
   },
   {
    "duration": 38,
    "start_time": "2022-02-13T14:40:05.919Z"
   },
   {
    "duration": 5,
    "start_time": "2022-02-13T14:40:05.959Z"
   },
   {
    "duration": 7,
    "start_time": "2022-02-13T14:40:05.965Z"
   },
   {
    "duration": 14,
    "start_time": "2022-02-13T14:40:05.974Z"
   },
   {
    "duration": 5,
    "start_time": "2022-02-13T14:40:05.990Z"
   },
   {
    "duration": 7,
    "start_time": "2022-02-13T14:40:05.997Z"
   },
   {
    "duration": 19,
    "start_time": "2022-02-13T14:40:06.005Z"
   },
   {
    "duration": 17,
    "start_time": "2022-02-13T14:40:06.026Z"
   },
   {
    "duration": 24,
    "start_time": "2022-02-13T14:40:06.045Z"
   },
   {
    "duration": 20,
    "start_time": "2022-02-13T14:40:06.071Z"
   },
   {
    "duration": 16,
    "start_time": "2022-02-13T14:40:06.119Z"
   },
   {
    "duration": 11,
    "start_time": "2022-02-13T14:40:06.137Z"
   },
   {
    "duration": 6,
    "start_time": "2022-02-13T14:40:06.150Z"
   },
   {
    "duration": 14,
    "start_time": "2022-02-13T14:40:06.158Z"
   },
   {
    "duration": 21,
    "start_time": "2022-02-13T14:40:06.174Z"
   },
   {
    "duration": 38,
    "start_time": "2022-02-13T14:40:06.197Z"
   },
   {
    "duration": 21,
    "start_time": "2022-02-13T14:40:06.237Z"
   },
   {
    "duration": 4107,
    "start_time": "2022-02-13T14:40:06.260Z"
   },
   {
    "duration": 23,
    "start_time": "2022-02-13T14:40:10.370Z"
   },
   {
    "duration": 39,
    "start_time": "2022-02-13T14:40:10.395Z"
   },
   {
    "duration": 37,
    "start_time": "2022-02-13T14:40:10.436Z"
   },
   {
    "duration": 12,
    "start_time": "2022-02-13T14:40:10.475Z"
   },
   {
    "duration": 12,
    "start_time": "2022-02-13T14:40:10.489Z"
   },
   {
    "duration": 4,
    "start_time": "2022-02-13T14:40:10.519Z"
   },
   {
    "duration": 8,
    "start_time": "2022-02-13T14:40:10.525Z"
   },
   {
    "duration": 10,
    "start_time": "2022-02-13T14:40:10.536Z"
   },
   {
    "duration": 702,
    "start_time": "2022-02-14T08:40:43.103Z"
   },
   {
    "duration": 59,
    "start_time": "2022-02-14T08:40:43.807Z"
   },
   {
    "duration": 20,
    "start_time": "2022-02-14T08:40:43.869Z"
   },
   {
    "duration": 15,
    "start_time": "2022-02-14T08:40:43.892Z"
   },
   {
    "duration": 7,
    "start_time": "2022-02-14T08:40:43.909Z"
   },
   {
    "duration": 85,
    "start_time": "2022-02-14T08:40:43.917Z"
   },
   {
    "duration": 6,
    "start_time": "2022-02-14T08:40:44.003Z"
   },
   {
    "duration": 8,
    "start_time": "2022-02-14T08:40:44.011Z"
   },
   {
    "duration": 14,
    "start_time": "2022-02-14T08:40:44.020Z"
   },
   {
    "duration": 23,
    "start_time": "2022-02-14T08:40:44.036Z"
   },
   {
    "duration": 13,
    "start_time": "2022-02-14T08:40:44.061Z"
   },
   {
    "duration": 13,
    "start_time": "2022-02-14T08:40:44.076Z"
   },
   {
    "duration": 7,
    "start_time": "2022-02-14T08:40:44.090Z"
   },
   {
    "duration": 6,
    "start_time": "2022-02-14T08:40:44.099Z"
   },
   {
    "duration": 12,
    "start_time": "2022-02-14T08:40:44.107Z"
   },
   {
    "duration": 3,
    "start_time": "2022-02-14T08:40:44.121Z"
   },
   {
    "duration": 34,
    "start_time": "2022-02-14T08:40:44.126Z"
   },
   {
    "duration": 4,
    "start_time": "2022-02-14T08:40:44.162Z"
   },
   {
    "duration": 12,
    "start_time": "2022-02-14T08:40:44.168Z"
   },
   {
    "duration": 7,
    "start_time": "2022-02-14T08:40:44.182Z"
   },
   {
    "duration": 286,
    "start_time": "2022-02-14T08:40:44.190Z"
   },
   {
    "duration": 885,
    "start_time": "2022-02-14T09:03:02.504Z"
   },
   {
    "duration": 170,
    "start_time": "2022-02-14T09:03:33.378Z"
   },
   {
    "duration": 5,
    "start_time": "2022-02-14T10:06:28.576Z"
   },
   {
    "duration": 59,
    "start_time": "2022-02-14T10:06:28.583Z"
   },
   {
    "duration": 12,
    "start_time": "2022-02-14T10:06:28.644Z"
   },
   {
    "duration": 26,
    "start_time": "2022-02-14T10:06:28.658Z"
   },
   {
    "duration": 15,
    "start_time": "2022-02-14T10:06:28.686Z"
   },
   {
    "duration": 73,
    "start_time": "2022-02-14T10:06:28.703Z"
   },
   {
    "duration": 5,
    "start_time": "2022-02-14T10:06:28.779Z"
   },
   {
    "duration": 5,
    "start_time": "2022-02-14T10:06:28.786Z"
   },
   {
    "duration": 13,
    "start_time": "2022-02-14T10:06:28.793Z"
   },
   {
    "duration": 4,
    "start_time": "2022-02-14T10:06:28.807Z"
   },
   {
    "duration": 11,
    "start_time": "2022-02-14T10:06:28.813Z"
   },
   {
    "duration": 43,
    "start_time": "2022-02-14T10:06:28.826Z"
   },
   {
    "duration": 10,
    "start_time": "2022-02-14T10:06:28.874Z"
   },
   {
    "duration": 4,
    "start_time": "2022-02-14T10:06:28.886Z"
   },
   {
    "duration": 13,
    "start_time": "2022-02-14T10:06:28.892Z"
   },
   {
    "duration": 5,
    "start_time": "2022-02-14T10:06:28.906Z"
   },
   {
    "duration": 7,
    "start_time": "2022-02-14T10:06:28.912Z"
   },
   {
    "duration": 6,
    "start_time": "2022-02-14T10:06:28.921Z"
   },
   {
    "duration": 8,
    "start_time": "2022-02-14T10:06:28.963Z"
   },
   {
    "duration": 11,
    "start_time": "2022-02-14T10:06:28.975Z"
   },
   {
    "duration": 229,
    "start_time": "2022-02-14T10:06:28.988Z"
   },
   {
    "duration": 191,
    "start_time": "2022-02-14T10:06:29.218Z"
   },
   {
    "duration": 21,
    "start_time": "2022-02-14T10:06:29.410Z"
   },
   {
    "duration": 29,
    "start_time": "2022-02-14T10:06:29.432Z"
   },
   {
    "duration": 7,
    "start_time": "2022-02-14T10:06:29.464Z"
   },
   {
    "duration": 14,
    "start_time": "2022-02-14T10:06:29.473Z"
   },
   {
    "duration": 7,
    "start_time": "2022-02-14T10:06:29.489Z"
   },
   {
    "duration": 7,
    "start_time": "2022-02-14T10:06:29.497Z"
   },
   {
    "duration": 14,
    "start_time": "2022-02-14T10:06:29.505Z"
   },
   {
    "duration": 41,
    "start_time": "2022-02-14T10:06:29.520Z"
   },
   {
    "duration": 27,
    "start_time": "2022-02-14T10:06:29.563Z"
   },
   {
    "duration": 16,
    "start_time": "2022-02-14T10:06:29.592Z"
   },
   {
    "duration": 14,
    "start_time": "2022-02-14T10:06:29.610Z"
   },
   {
    "duration": 37,
    "start_time": "2022-02-14T10:06:29.626Z"
   },
   {
    "duration": 9,
    "start_time": "2022-02-14T10:06:29.666Z"
   },
   {
    "duration": 11,
    "start_time": "2022-02-14T10:06:29.677Z"
   },
   {
    "duration": 14,
    "start_time": "2022-02-14T10:06:29.689Z"
   },
   {
    "duration": 10,
    "start_time": "2022-02-14T10:06:29.704Z"
   },
   {
    "duration": 43,
    "start_time": "2022-02-14T10:06:29.716Z"
   },
   {
    "duration": 3767,
    "start_time": "2022-02-14T10:06:29.762Z"
   },
   {
    "duration": 12,
    "start_time": "2022-02-14T10:06:33.531Z"
   },
   {
    "duration": 51,
    "start_time": "2022-02-14T10:06:33.545Z"
   },
   {
    "duration": 23,
    "start_time": "2022-02-14T10:06:33.598Z"
   },
   {
    "duration": 14,
    "start_time": "2022-02-14T10:06:33.623Z"
   },
   {
    "duration": 6,
    "start_time": "2022-02-14T10:06:33.638Z"
   },
   {
    "duration": 4,
    "start_time": "2022-02-14T10:06:33.660Z"
   },
   {
    "duration": 15,
    "start_time": "2022-02-14T10:06:33.666Z"
   },
   {
    "duration": 11,
    "start_time": "2022-02-14T10:06:33.683Z"
   },
   {
    "duration": 19,
    "start_time": "2022-02-14T10:06:33.696Z"
   },
   {
    "duration": 9,
    "start_time": "2022-02-14T10:06:33.717Z"
   },
   {
    "duration": 33,
    "start_time": "2022-02-14T10:06:33.727Z"
   },
   {
    "duration": 13,
    "start_time": "2022-02-14T10:06:33.762Z"
   },
   {
    "duration": 312,
    "start_time": "2022-02-15T03:51:41.954Z"
   },
   {
    "duration": 687,
    "start_time": "2022-02-15T03:51:46.692Z"
   },
   {
    "duration": 82,
    "start_time": "2022-02-15T03:51:47.382Z"
   },
   {
    "duration": 27,
    "start_time": "2022-02-15T03:51:47.467Z"
   },
   {
    "duration": 19,
    "start_time": "2022-02-15T03:51:47.496Z"
   },
   {
    "duration": 9,
    "start_time": "2022-02-15T03:51:47.517Z"
   },
   {
    "duration": 110,
    "start_time": "2022-02-15T03:51:47.560Z"
   },
   {
    "duration": 7,
    "start_time": "2022-02-15T03:51:47.673Z"
   },
   {
    "duration": 13,
    "start_time": "2022-02-15T03:52:23.612Z"
   },
   {
    "duration": 4,
    "start_time": "2022-02-15T03:57:14.727Z"
   },
   {
    "duration": 75,
    "start_time": "2022-02-15T03:57:14.733Z"
   },
   {
    "duration": 18,
    "start_time": "2022-02-15T03:57:14.811Z"
   },
   {
    "duration": 43,
    "start_time": "2022-02-15T03:57:14.832Z"
   },
   {
    "duration": 6,
    "start_time": "2022-02-15T03:57:14.877Z"
   },
   {
    "duration": 122,
    "start_time": "2022-02-15T03:57:14.886Z"
   },
   {
    "duration": 5,
    "start_time": "2022-02-15T03:57:15.012Z"
   },
   {
    "duration": 16,
    "start_time": "2022-02-15T03:57:15.020Z"
   },
   {
    "duration": 26,
    "start_time": "2022-02-15T03:57:15.038Z"
   },
   {
    "duration": 7,
    "start_time": "2022-02-15T03:57:15.066Z"
   },
   {
    "duration": 17,
    "start_time": "2022-02-15T03:57:15.075Z"
   },
   {
    "duration": 6,
    "start_time": "2022-02-15T03:57:15.094Z"
   },
   {
    "duration": 57,
    "start_time": "2022-02-15T03:57:15.103Z"
   },
   {
    "duration": 9,
    "start_time": "2022-02-15T03:57:15.163Z"
   },
   {
    "duration": 7,
    "start_time": "2022-02-15T03:57:15.174Z"
   },
   {
    "duration": 5,
    "start_time": "2022-02-15T03:57:15.184Z"
   },
   {
    "duration": 15,
    "start_time": "2022-02-15T03:57:15.191Z"
   },
   {
    "duration": 3,
    "start_time": "2022-02-15T03:57:15.208Z"
   },
   {
    "duration": 46,
    "start_time": "2022-02-15T03:57:15.215Z"
   },
   {
    "duration": 5,
    "start_time": "2022-02-15T03:57:15.264Z"
   },
   {
    "duration": 8,
    "start_time": "2022-02-15T03:57:15.272Z"
   },
   {
    "duration": 5,
    "start_time": "2022-02-15T03:57:15.282Z"
   },
   {
    "duration": 452,
    "start_time": "2022-02-15T03:57:15.289Z"
   },
   {
    "duration": 296,
    "start_time": "2022-02-15T03:57:15.743Z"
   },
   {
    "duration": 6,
    "start_time": "2022-02-15T03:57:56.296Z"
   },
   {
    "duration": 4,
    "start_time": "2022-02-15T04:03:43.869Z"
   },
   {
    "duration": 84,
    "start_time": "2022-02-15T04:03:43.876Z"
   },
   {
    "duration": 19,
    "start_time": "2022-02-15T04:03:43.963Z"
   },
   {
    "duration": 19,
    "start_time": "2022-02-15T04:03:43.984Z"
   },
   {
    "duration": 56,
    "start_time": "2022-02-15T04:03:44.005Z"
   },
   {
    "duration": 115,
    "start_time": "2022-02-15T04:03:44.063Z"
   },
   {
    "duration": 6,
    "start_time": "2022-02-15T04:03:44.182Z"
   },
   {
    "duration": 12,
    "start_time": "2022-02-15T04:03:44.191Z"
   },
   {
    "duration": 8,
    "start_time": "2022-02-15T04:03:44.206Z"
   },
   {
    "duration": 6,
    "start_time": "2022-02-15T04:03:44.216Z"
   },
   {
    "duration": 16,
    "start_time": "2022-02-15T04:03:44.261Z"
   },
   {
    "duration": 7,
    "start_time": "2022-02-15T04:03:44.279Z"
   },
   {
    "duration": 16,
    "start_time": "2022-02-15T04:03:44.288Z"
   },
   {
    "duration": 8,
    "start_time": "2022-02-15T04:03:44.306Z"
   },
   {
    "duration": 43,
    "start_time": "2022-02-15T04:03:44.317Z"
   },
   {
    "duration": 6,
    "start_time": "2022-02-15T04:03:44.362Z"
   },
   {
    "duration": 14,
    "start_time": "2022-02-15T04:03:44.371Z"
   },
   {
    "duration": 3,
    "start_time": "2022-02-15T04:03:44.387Z"
   },
   {
    "duration": 7,
    "start_time": "2022-02-15T04:03:44.398Z"
   },
   {
    "duration": 55,
    "start_time": "2022-02-15T04:03:44.409Z"
   },
   {
    "duration": 11,
    "start_time": "2022-02-15T04:03:44.468Z"
   },
   {
    "duration": 7,
    "start_time": "2022-02-15T04:03:44.481Z"
   },
   {
    "duration": 357,
    "start_time": "2022-02-15T04:03:44.491Z"
   },
   {
    "duration": 14,
    "start_time": "2022-02-15T04:03:44.851Z"
   },
   {
    "duration": 350,
    "start_time": "2022-02-15T04:03:44.868Z"
   },
   {
    "duration": 48,
    "start_time": "2022-02-15T04:03:45.220Z"
   },
   {
    "duration": 7,
    "start_time": "2022-02-15T04:03:45.271Z"
   },
   {
    "duration": 6,
    "start_time": "2022-02-15T04:03:45.280Z"
   },
   {
    "duration": 9,
    "start_time": "2022-02-15T04:03:45.288Z"
   },
   {
    "duration": 5,
    "start_time": "2022-02-15T04:03:45.300Z"
   },
   {
    "duration": 53,
    "start_time": "2022-02-15T04:03:45.308Z"
   },
   {
    "duration": 17,
    "start_time": "2022-02-15T04:03:45.363Z"
   },
   {
    "duration": 27,
    "start_time": "2022-02-15T04:03:45.382Z"
   },
   {
    "duration": 64,
    "start_time": "2022-02-15T04:03:45.411Z"
   },
   {
    "duration": 27,
    "start_time": "2022-02-15T04:03:45.477Z"
   },
   {
    "duration": 24,
    "start_time": "2022-02-15T04:03:45.506Z"
   },
   {
    "duration": 40,
    "start_time": "2022-02-15T04:03:45.532Z"
   },
   {
    "duration": 8,
    "start_time": "2022-02-15T04:03:45.574Z"
   },
   {
    "duration": 8,
    "start_time": "2022-02-15T04:03:45.585Z"
   },
   {
    "duration": 26,
    "start_time": "2022-02-15T04:03:45.595Z"
   },
   {
    "duration": 49,
    "start_time": "2022-02-15T04:03:45.623Z"
   },
   {
    "duration": 24,
    "start_time": "2022-02-15T04:03:45.674Z"
   },
   {
    "duration": 4743,
    "start_time": "2022-02-15T04:03:45.700Z"
   },
   {
    "duration": 26,
    "start_time": "2022-02-15T04:03:50.446Z"
   },
   {
    "duration": 34,
    "start_time": "2022-02-15T04:03:50.475Z"
   },
   {
    "duration": 56,
    "start_time": "2022-02-15T04:03:50.511Z"
   },
   {
    "duration": 22,
    "start_time": "2022-02-15T04:03:50.569Z"
   },
   {
    "duration": 8,
    "start_time": "2022-02-15T04:03:50.593Z"
   },
   {
    "duration": 8,
    "start_time": "2022-02-15T04:04:04.393Z"
   },
   {
    "duration": 9,
    "start_time": "2022-02-15T04:06:05.603Z"
   },
   {
    "duration": 8,
    "start_time": "2022-02-15T04:06:11.922Z"
   },
   {
    "duration": 730,
    "start_time": "2022-02-15T04:09:49.374Z"
   },
   {
    "duration": 85,
    "start_time": "2022-02-15T04:09:50.107Z"
   },
   {
    "duration": 28,
    "start_time": "2022-02-15T04:09:50.195Z"
   },
   {
    "duration": 40,
    "start_time": "2022-02-15T04:09:50.226Z"
   },
   {
    "duration": 8,
    "start_time": "2022-02-15T04:09:50.268Z"
   },
   {
    "duration": 119,
    "start_time": "2022-02-15T04:09:50.278Z"
   },
   {
    "duration": 5,
    "start_time": "2022-02-15T04:09:50.399Z"
   },
   {
    "duration": 13,
    "start_time": "2022-02-15T04:09:50.407Z"
   },
   {
    "duration": 36,
    "start_time": "2022-02-15T04:09:50.424Z"
   },
   {
    "duration": 5,
    "start_time": "2022-02-15T04:09:50.463Z"
   },
   {
    "duration": 15,
    "start_time": "2022-02-15T04:09:50.470Z"
   },
   {
    "duration": 7,
    "start_time": "2022-02-15T04:09:50.488Z"
   },
   {
    "duration": 16,
    "start_time": "2022-02-15T04:09:50.497Z"
   },
   {
    "duration": 50,
    "start_time": "2022-02-15T04:09:50.515Z"
   },
   {
    "duration": 8,
    "start_time": "2022-02-15T04:09:50.567Z"
   },
   {
    "duration": 7,
    "start_time": "2022-02-15T04:09:50.578Z"
   },
   {
    "duration": 16,
    "start_time": "2022-02-15T04:09:50.587Z"
   },
   {
    "duration": 3,
    "start_time": "2022-02-15T04:09:50.606Z"
   },
   {
    "duration": 52,
    "start_time": "2022-02-15T04:09:50.611Z"
   },
   {
    "duration": 6,
    "start_time": "2022-02-15T04:09:50.666Z"
   },
   {
    "duration": 8,
    "start_time": "2022-02-15T04:09:50.674Z"
   },
   {
    "duration": 5,
    "start_time": "2022-02-15T04:09:50.685Z"
   },
   {
    "duration": 449,
    "start_time": "2022-02-15T04:09:50.692Z"
   },
   {
    "duration": 20,
    "start_time": "2022-02-15T04:09:51.144Z"
   },
   {
    "duration": 302,
    "start_time": "2022-02-15T04:09:51.167Z"
   },
   {
    "duration": 34,
    "start_time": "2022-02-15T04:09:51.471Z"
   },
   {
    "duration": 8,
    "start_time": "2022-02-15T04:09:51.512Z"
   },
   {
    "duration": 40,
    "start_time": "2022-02-15T04:09:51.523Z"
   },
   {
    "duration": 9,
    "start_time": "2022-02-15T04:09:51.565Z"
   },
   {
    "duration": 6,
    "start_time": "2022-02-15T04:09:51.576Z"
   },
   {
    "duration": 6,
    "start_time": "2022-02-15T04:09:51.584Z"
   },
   {
    "duration": 16,
    "start_time": "2022-02-15T04:09:51.593Z"
   },
   {
    "duration": 66,
    "start_time": "2022-02-15T04:09:51.612Z"
   },
   {
    "duration": 31,
    "start_time": "2022-02-15T04:09:51.681Z"
   },
   {
    "duration": 53,
    "start_time": "2022-02-15T04:09:51.715Z"
   },
   {
    "duration": 22,
    "start_time": "2022-02-15T04:09:51.771Z"
   },
   {
    "duration": 15,
    "start_time": "2022-02-15T04:09:51.795Z"
   },
   {
    "duration": 9,
    "start_time": "2022-02-15T04:09:51.812Z"
   },
   {
    "duration": 42,
    "start_time": "2022-02-15T04:09:51.823Z"
   },
   {
    "duration": 19,
    "start_time": "2022-02-15T04:09:51.867Z"
   },
   {
    "duration": 17,
    "start_time": "2022-02-15T04:09:51.888Z"
   },
   {
    "duration": 54,
    "start_time": "2022-02-15T04:09:51.907Z"
   },
   {
    "duration": 4728,
    "start_time": "2022-02-15T04:09:51.964Z"
   },
   {
    "duration": 18,
    "start_time": "2022-02-15T04:09:56.695Z"
   },
   {
    "duration": 54,
    "start_time": "2022-02-15T04:09:56.715Z"
   },
   {
    "duration": 30,
    "start_time": "2022-02-15T04:09:56.772Z"
   },
   {
    "duration": 22,
    "start_time": "2022-02-15T04:09:56.804Z"
   },
   {
    "duration": 34,
    "start_time": "2022-02-15T04:09:56.828Z"
   },
   {
    "duration": 8,
    "start_time": "2022-02-15T04:09:56.864Z"
   },
   {
    "duration": 3,
    "start_time": "2022-02-15T04:09:56.875Z"
   },
   {
    "duration": 4,
    "start_time": "2022-02-15T04:09:56.880Z"
   },
   {
    "duration": 11,
    "start_time": "2022-02-15T04:09:56.886Z"
   },
   {
    "duration": 8,
    "start_time": "2022-02-15T04:09:56.900Z"
   },
   {
    "duration": 25,
    "start_time": "2022-02-15T04:09:56.960Z"
   },
   {
    "duration": 15,
    "start_time": "2022-02-15T04:09:56.988Z"
   },
   {
    "duration": 59,
    "start_time": "2022-02-15T04:09:57.005Z"
   },
   {
    "duration": 15,
    "start_time": "2022-02-15T04:09:57.067Z"
   },
   {
    "duration": 459,
    "start_time": "2022-02-15T08:12:56.495Z"
   },
   {
    "duration": 725,
    "start_time": "2022-02-15T08:13:02.358Z"
   },
   {
    "duration": 74,
    "start_time": "2022-02-15T08:13:03.085Z"
   },
   {
    "duration": 32,
    "start_time": "2022-02-15T08:13:03.163Z"
   },
   {
    "duration": 39,
    "start_time": "2022-02-15T08:13:03.198Z"
   },
   {
    "duration": 10,
    "start_time": "2022-02-15T08:13:03.240Z"
   },
   {
    "duration": 166,
    "start_time": "2022-02-15T08:13:03.253Z"
   },
   {
    "duration": 6,
    "start_time": "2022-02-15T08:13:03.423Z"
   },
   {
    "duration": 24,
    "start_time": "2022-02-15T08:13:03.434Z"
   },
   {
    "duration": 9,
    "start_time": "2022-02-15T08:13:03.462Z"
   },
   {
    "duration": 14,
    "start_time": "2022-02-15T08:13:03.473Z"
   },
   {
    "duration": 53,
    "start_time": "2022-02-15T08:13:03.489Z"
   },
   {
    "duration": 8,
    "start_time": "2022-02-15T08:13:03.545Z"
   },
   {
    "duration": 24,
    "start_time": "2022-02-15T08:13:03.556Z"
   },
   {
    "duration": 41,
    "start_time": "2022-02-15T08:13:03.583Z"
   },
   {
    "duration": 8,
    "start_time": "2022-02-15T08:13:03.627Z"
   },
   {
    "duration": 7,
    "start_time": "2022-02-15T08:13:03.637Z"
   },
   {
    "duration": 17,
    "start_time": "2022-02-15T08:13:03.646Z"
   },
   {
    "duration": 3,
    "start_time": "2022-02-15T08:13:03.666Z"
   },
   {
    "duration": 54,
    "start_time": "2022-02-15T08:13:03.672Z"
   },
   {
    "duration": 6,
    "start_time": "2022-02-15T08:13:03.729Z"
   },
   {
    "duration": 9,
    "start_time": "2022-02-15T08:13:03.738Z"
   },
   {
    "duration": 6,
    "start_time": "2022-02-15T08:13:03.750Z"
   },
   {
    "duration": 493,
    "start_time": "2022-02-15T08:13:03.762Z"
   },
   {
    "duration": 7,
    "start_time": "2022-02-15T08:13:04.259Z"
   },
   {
    "duration": 329,
    "start_time": "2022-02-15T08:13:04.269Z"
   },
   {
    "duration": 49,
    "start_time": "2022-02-15T08:13:04.600Z"
   },
   {
    "duration": 11,
    "start_time": "2022-02-15T08:13:04.652Z"
   },
   {
    "duration": 7,
    "start_time": "2022-02-15T08:13:04.665Z"
   },
   {
    "duration": 53,
    "start_time": "2022-02-15T08:13:04.674Z"
   },
   {
    "duration": 8,
    "start_time": "2022-02-15T08:13:04.731Z"
   },
   {
    "duration": 9,
    "start_time": "2022-02-15T08:13:04.741Z"
   },
   {
    "duration": 26,
    "start_time": "2022-02-15T08:13:04.753Z"
   },
   {
    "duration": 70,
    "start_time": "2022-02-15T08:13:04.781Z"
   },
   {
    "duration": 83,
    "start_time": "2022-02-15T08:13:04.854Z"
   },
   {
    "duration": 39,
    "start_time": "2022-02-15T08:13:04.940Z"
   },
   {
    "duration": 53,
    "start_time": "2022-02-15T08:13:04.981Z"
   },
   {
    "duration": 19,
    "start_time": "2022-02-15T08:13:05.036Z"
   },
   {
    "duration": 12,
    "start_time": "2022-02-15T08:13:05.057Z"
   },
   {
    "duration": 13,
    "start_time": "2022-02-15T08:13:05.071Z"
   },
   {
    "duration": 58,
    "start_time": "2022-02-15T08:13:05.087Z"
   },
   {
    "duration": 26,
    "start_time": "2022-02-15T08:13:05.148Z"
   },
   {
    "duration": 54,
    "start_time": "2022-02-15T08:13:05.176Z"
   },
   {
    "duration": 5310,
    "start_time": "2022-02-15T08:13:05.233Z"
   },
   {
    "duration": 31,
    "start_time": "2022-02-15T08:13:10.546Z"
   },
   {
    "duration": 71,
    "start_time": "2022-02-15T08:13:10.580Z"
   },
   {
    "duration": 45,
    "start_time": "2022-02-15T08:13:10.654Z"
   },
   {
    "duration": 55,
    "start_time": "2022-02-15T08:13:10.702Z"
   },
   {
    "duration": 9,
    "start_time": "2022-02-15T08:13:10.760Z"
   },
   {
    "duration": 15,
    "start_time": "2022-02-15T08:13:10.771Z"
   },
   {
    "duration": 3,
    "start_time": "2022-02-15T08:13:10.788Z"
   },
   {
    "duration": 3,
    "start_time": "2022-02-15T08:13:10.823Z"
   },
   {
    "duration": 13,
    "start_time": "2022-02-15T08:13:10.829Z"
   },
   {
    "duration": 11,
    "start_time": "2022-02-15T08:13:10.844Z"
   },
   {
    "duration": 10,
    "start_time": "2022-02-15T08:13:10.858Z"
   },
   {
    "duration": 12,
    "start_time": "2022-02-15T08:19:27.937Z"
   },
   {
    "duration": 420,
    "start_time": "2022-07-08T10:56:40.298Z"
   },
   {
    "duration": 135,
    "start_time": "2022-07-08T10:56:40.721Z"
   },
   {
    "duration": 30,
    "start_time": "2022-07-08T10:56:40.857Z"
   },
   {
    "duration": 16,
    "start_time": "2022-07-08T10:56:40.890Z"
   },
   {
    "duration": 6,
    "start_time": "2022-07-08T10:56:40.909Z"
   },
   {
    "duration": 23,
    "start_time": "2022-07-08T10:56:40.916Z"
   },
   {
    "duration": 26,
    "start_time": "2022-07-08T10:56:40.941Z"
   },
   {
    "duration": 23,
    "start_time": "2022-07-08T10:56:40.971Z"
   },
   {
    "duration": 8,
    "start_time": "2022-07-08T10:56:40.996Z"
   },
   {
    "duration": 7,
    "start_time": "2022-07-08T10:56:41.007Z"
   },
   {
    "duration": 45,
    "start_time": "2022-07-08T10:56:41.016Z"
   },
   {
    "duration": 8,
    "start_time": "2022-07-08T10:56:41.063Z"
   },
   {
    "duration": 23,
    "start_time": "2022-07-08T10:56:41.073Z"
   },
   {
    "duration": 10,
    "start_time": "2022-07-08T10:56:41.097Z"
   },
   {
    "duration": 9,
    "start_time": "2022-07-08T10:56:41.109Z"
   },
   {
    "duration": 6,
    "start_time": "2022-07-08T10:56:41.120Z"
   },
   {
    "duration": 37,
    "start_time": "2022-07-08T10:56:41.127Z"
   },
   {
    "duration": 6,
    "start_time": "2022-07-08T10:56:41.167Z"
   },
   {
    "duration": 21,
    "start_time": "2022-07-08T10:56:41.175Z"
   },
   {
    "duration": 6,
    "start_time": "2022-07-08T10:56:41.198Z"
   },
   {
    "duration": 9,
    "start_time": "2022-07-08T10:56:41.206Z"
   },
   {
    "duration": 8,
    "start_time": "2022-07-08T10:56:41.216Z"
   },
   {
    "duration": 430,
    "start_time": "2022-07-08T10:56:41.226Z"
   },
   {
    "duration": 12,
    "start_time": "2022-07-08T10:56:41.660Z"
   },
   {
    "duration": 171,
    "start_time": "2022-07-08T10:56:41.676Z"
   },
   {
    "duration": 40,
    "start_time": "2022-07-08T10:56:41.848Z"
   },
   {
    "duration": 14,
    "start_time": "2022-07-08T10:56:41.890Z"
   },
   {
    "duration": 6,
    "start_time": "2022-07-08T10:56:41.909Z"
   },
   {
    "duration": 9,
    "start_time": "2022-07-08T10:56:41.917Z"
   },
   {
    "duration": 40,
    "start_time": "2022-07-08T10:56:41.928Z"
   },
   {
    "duration": 21,
    "start_time": "2022-07-08T10:56:41.970Z"
   },
   {
    "duration": 18,
    "start_time": "2022-07-08T10:56:41.993Z"
   },
   {
    "duration": 24,
    "start_time": "2022-07-08T10:56:42.014Z"
   },
   {
    "duration": 48,
    "start_time": "2022-07-08T10:56:42.041Z"
   },
   {
    "duration": 20,
    "start_time": "2022-07-08T10:56:42.091Z"
   },
   {
    "duration": 16,
    "start_time": "2022-07-08T10:56:42.113Z"
   },
   {
    "duration": 40,
    "start_time": "2022-07-08T10:56:42.131Z"
   },
   {
    "duration": 11,
    "start_time": "2022-07-08T10:56:42.173Z"
   },
   {
    "duration": 10,
    "start_time": "2022-07-08T10:56:42.188Z"
   },
   {
    "duration": 17,
    "start_time": "2022-07-08T10:56:42.200Z"
   },
   {
    "duration": 14,
    "start_time": "2022-07-08T10:56:42.219Z"
   },
   {
    "duration": 41,
    "start_time": "2022-07-08T10:56:42.236Z"
   },
   {
    "duration": 4243,
    "start_time": "2022-07-08T10:56:42.279Z"
   },
   {
    "duration": 25,
    "start_time": "2022-07-08T10:56:46.525Z"
   },
   {
    "duration": 60,
    "start_time": "2022-07-08T10:56:46.552Z"
   },
   {
    "duration": 60,
    "start_time": "2022-07-08T10:56:46.615Z"
   },
   {
    "duration": 20,
    "start_time": "2022-07-08T10:56:46.680Z"
   },
   {
    "duration": 40,
    "start_time": "2022-07-08T10:56:46.702Z"
   },
   {
    "duration": 19,
    "start_time": "2022-07-08T10:56:46.744Z"
   },
   {
    "duration": 52,
    "start_time": "2022-07-08T10:56:46.765Z"
   },
   {
    "duration": 21,
    "start_time": "2022-07-08T10:56:46.819Z"
   },
   {
    "duration": 26,
    "start_time": "2022-07-08T10:56:46.843Z"
   },
   {
    "duration": 33,
    "start_time": "2022-07-08T10:56:46.871Z"
   },
   {
    "duration": 12,
    "start_time": "2022-07-08T10:56:46.906Z"
   },
   {
    "duration": 3,
    "start_time": "2022-07-08T10:56:46.920Z"
   },
   {
    "duration": 8,
    "start_time": "2022-07-08T10:56:46.925Z"
   },
   {
    "duration": 15,
    "start_time": "2022-07-08T10:56:46.935Z"
   },
   {
    "duration": 2,
    "start_time": "2022-07-08T10:56:46.952Z"
   },
   {
    "duration": 26,
    "start_time": "2022-07-08T10:56:46.961Z"
   },
   {
    "duration": 392,
    "start_time": "2022-07-29T10:12:03.358Z"
   },
   {
    "duration": 263,
    "start_time": "2022-07-29T10:12:03.751Z"
   },
   {
    "duration": 16,
    "start_time": "2022-07-29T10:12:04.016Z"
   },
   {
    "duration": 12,
    "start_time": "2022-07-29T10:12:04.034Z"
   },
   {
    "duration": 5,
    "start_time": "2022-07-29T10:12:04.047Z"
   },
   {
    "duration": 22,
    "start_time": "2022-07-29T10:12:04.053Z"
   },
   {
    "duration": 3,
    "start_time": "2022-07-29T10:12:04.076Z"
   },
   {
    "duration": 10,
    "start_time": "2022-07-29T10:12:04.081Z"
   },
   {
    "duration": 7,
    "start_time": "2022-07-29T10:12:04.092Z"
   },
   {
    "duration": 8,
    "start_time": "2022-07-29T10:12:04.101Z"
   },
   {
    "duration": 19,
    "start_time": "2022-07-29T10:12:04.110Z"
   },
   {
    "duration": 6,
    "start_time": "2022-07-29T10:12:04.130Z"
   },
   {
    "duration": 35,
    "start_time": "2022-07-29T10:12:04.137Z"
   },
   {
    "duration": 15,
    "start_time": "2022-07-29T10:12:04.173Z"
   },
   {
    "duration": 28,
    "start_time": "2022-07-29T10:12:04.189Z"
   },
   {
    "duration": 18,
    "start_time": "2022-07-29T10:12:04.219Z"
   },
   {
    "duration": 36,
    "start_time": "2022-07-29T10:12:04.238Z"
   },
   {
    "duration": 18,
    "start_time": "2022-07-29T10:12:04.275Z"
   },
   {
    "duration": 25,
    "start_time": "2022-07-29T10:12:04.294Z"
   },
   {
    "duration": 35,
    "start_time": "2022-07-29T10:12:04.321Z"
   },
   {
    "duration": 24,
    "start_time": "2022-07-29T10:12:04.357Z"
   },
   {
    "duration": 22,
    "start_time": "2022-07-29T10:12:04.383Z"
   },
   {
    "duration": 509,
    "start_time": "2022-07-29T10:12:04.407Z"
   },
   {
    "duration": 4,
    "start_time": "2022-07-29T10:12:04.917Z"
   },
   {
    "duration": 177,
    "start_time": "2022-07-29T10:12:04.922Z"
   },
   {
    "duration": 21,
    "start_time": "2022-07-29T10:12:05.101Z"
   },
   {
    "duration": 17,
    "start_time": "2022-07-29T10:12:05.124Z"
   },
   {
    "duration": 26,
    "start_time": "2022-07-29T10:12:05.144Z"
   },
   {
    "duration": 31,
    "start_time": "2022-07-29T10:12:05.172Z"
   },
   {
    "duration": 33,
    "start_time": "2022-07-29T10:12:05.205Z"
   },
   {
    "duration": 30,
    "start_time": "2022-07-29T10:12:05.239Z"
   },
   {
    "duration": 74,
    "start_time": "2022-07-29T10:12:05.271Z"
   },
   {
    "duration": 46,
    "start_time": "2022-07-29T10:12:05.347Z"
   },
   {
    "duration": 38,
    "start_time": "2022-07-29T10:12:05.395Z"
   },
   {
    "duration": 38,
    "start_time": "2022-07-29T10:12:05.435Z"
   },
   {
    "duration": 28,
    "start_time": "2022-07-29T10:12:05.474Z"
   },
   {
    "duration": 22,
    "start_time": "2022-07-29T10:12:05.503Z"
   },
   {
    "duration": 25,
    "start_time": "2022-07-29T10:12:05.526Z"
   },
   {
    "duration": 32,
    "start_time": "2022-07-29T10:12:05.553Z"
   },
   {
    "duration": 28,
    "start_time": "2022-07-29T10:12:05.586Z"
   },
   {
    "duration": 51,
    "start_time": "2022-07-29T10:12:05.615Z"
   },
   {
    "duration": 55,
    "start_time": "2022-07-29T10:12:05.668Z"
   },
   {
    "duration": 3039,
    "start_time": "2022-07-29T10:12:05.724Z"
   },
   {
    "duration": 12,
    "start_time": "2022-07-29T10:12:08.774Z"
   },
   {
    "duration": 35,
    "start_time": "2022-07-29T10:12:08.787Z"
   },
   {
    "duration": 44,
    "start_time": "2022-07-29T10:12:08.824Z"
   },
   {
    "duration": 11,
    "start_time": "2022-07-29T10:12:08.869Z"
   },
   {
    "duration": 20,
    "start_time": "2022-07-29T10:12:08.881Z"
   },
   {
    "duration": 12,
    "start_time": "2022-07-29T10:12:08.902Z"
   },
   {
    "duration": 5,
    "start_time": "2022-07-29T10:12:08.916Z"
   },
   {
    "duration": 9,
    "start_time": "2022-07-29T10:12:08.922Z"
   },
   {
    "duration": 9,
    "start_time": "2022-07-29T10:12:08.933Z"
   },
   {
    "duration": 6,
    "start_time": "2022-07-29T10:12:08.944Z"
   },
   {
    "duration": 7,
    "start_time": "2022-07-29T10:12:08.951Z"
   },
   {
    "duration": 7,
    "start_time": "2022-07-29T10:12:08.959Z"
   },
   {
    "duration": 4,
    "start_time": "2022-07-29T10:12:08.975Z"
   },
   {
    "duration": 13,
    "start_time": "2022-07-29T10:12:08.980Z"
   },
   {
    "duration": 4,
    "start_time": "2022-07-29T10:12:08.994Z"
   },
   {
    "duration": 7,
    "start_time": "2022-07-29T10:12:08.999Z"
   }
  ],
  "kernelspec": {
   "display_name": "Python 3 (ipykernel)",
   "language": "python",
   "name": "python3"
  },
  "language_info": {
   "codemirror_mode": {
    "name": "ipython",
    "version": 3
   },
   "file_extension": ".py",
   "mimetype": "text/x-python",
   "name": "python",
   "nbconvert_exporter": "python",
   "pygments_lexer": "ipython3",
   "version": "3.9.7"
  },
  "toc": {
   "base_numbering": 1,
   "nav_menu": {},
   "number_sections": true,
   "sideBar": true,
   "skip_h1_title": true,
   "title_cell": "Table of Contents",
   "title_sidebar": "Contents",
   "toc_cell": false,
   "toc_position": {},
   "toc_section_display": true,
   "toc_window_display": false
  }
 },
 "nbformat": 4,
 "nbformat_minor": 5
}
