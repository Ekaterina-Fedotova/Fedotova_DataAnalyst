{
 "cells": [
  {
   "cell_type": "markdown",
   "id": "af40b800",
   "metadata": {},
   "source": [
    "## Содержание:\n",
    "1. [Обзор данных](#start)\n",
    "2. [Предобработка данных](#preprocessing)\n",
    "* [Заполнение пропусков](#passes)\n",
    "* [Проверка данных на аномалии и исправления](#anomalie)\n",
    "* [Изменение типов данных](#type)\n",
    "* [Удаление дубликатов](#dupl)\n",
    "* [Формирование дополнительных датафреймов словарей](#dict)\n",
    "* [Категоризация дохода](#income)\n",
    "* [Категоризация целей кредита](#category)\n",
    "3. [Исследовательский анализ данных](#analysis)\n",
    "* [Есть ли зависимость между количеством детей и возвратом кредита в срок?](#question1)\n",
    "* [Есть ли зависимость между семейным положением и возвратом кредита в срок?](#question2)\n",
    "* [Есть ли зависимость между уровнем дохода и возвратом кредита в срок?](#question3)\n",
    "* [Как разные цели кредита влияют на его возврат в срок? ](#question4)\n",
    "4. [Итоги исследования](#total)"
   ]
  },
  {
   "cell_type": "markdown",
   "id": "3909d283",
   "metadata": {},
   "source": [
    "# Исследование надежности заемщиков.\n",
    "\n",
    "Изучим данные статистики о платёжеспособности клиентов. Выясним, от каких факторов зависит погашение кредита заемщиком.\n",
    "\n",
    "Ответим на четыре вопроса:\n",
    "* Есть ли зависимость между количеством детей и возвратом кредита в срок?\n",
    "* Есть ли зависимость между семейным положением и возвратом кредита в срок?\n",
    "* Есть ли зависимость между уровнем дохода и возвратом кредита в срок?\n",
    "* Как разные цели кредита влияют на его возврат в срок?\n",
    "\n",
    "## Описание данных:\n",
    "* `children` — количество детей в семье\n",
    "* `days_employed` — общий трудовой стаж в днях\n",
    "* `dob_years` — возраст клиента в годах\n",
    "* `education` — уровень образования клиента\n",
    "* `education_id` — идентификатор уровня образования\n",
    "* `family_status` — семейное положение\n",
    "* `family_status_id` — идентификатор семейного положения\n",
    "* `gender` — пол клиента\n",
    "* `income_type` — тип занятости\n",
    "* `debt` — имел ли задолженность по возврату кредитов\n",
    "* `total_income` — ежемесячный доход\n",
    "* `purpose` — цель получения кредита"
   ]
  },
  {
   "cell_type": "markdown",
   "id": "75c92b46",
   "metadata": {},
   "source": [
    "## Шаг 1. Обзор данных <a id=\"start\"></a>"
   ]
  },
  {
   "cell_type": "code",
   "execution_count": 1,
   "id": "a0234f65",
   "metadata": {},
   "outputs": [],
   "source": [
    "# импорт библиотеки\n",
    "import pandas as pd\n",
    "from pymystem3 import Mystem"
   ]
  },
  {
   "cell_type": "code",
   "execution_count": 2,
   "id": "5288ea84",
   "metadata": {},
   "outputs": [
    {
     "data": {
      "text/html": [
       "<div>\n",
       "<style scoped>\n",
       "    .dataframe tbody tr th:only-of-type {\n",
       "        vertical-align: middle;\n",
       "    }\n",
       "\n",
       "    .dataframe tbody tr th {\n",
       "        vertical-align: top;\n",
       "    }\n",
       "\n",
       "    .dataframe thead th {\n",
       "        text-align: right;\n",
       "    }\n",
       "</style>\n",
       "<table border=\"1\" class=\"dataframe\">\n",
       "  <thead>\n",
       "    <tr style=\"text-align: right;\">\n",
       "      <th></th>\n",
       "      <th>children</th>\n",
       "      <th>days_employed</th>\n",
       "      <th>dob_years</th>\n",
       "      <th>education</th>\n",
       "      <th>education_id</th>\n",
       "      <th>family_status</th>\n",
       "      <th>family_status_id</th>\n",
       "      <th>gender</th>\n",
       "      <th>income_type</th>\n",
       "      <th>debt</th>\n",
       "      <th>total_income</th>\n",
       "      <th>purpose</th>\n",
       "    </tr>\n",
       "  </thead>\n",
       "  <tbody>\n",
       "    <tr>\n",
       "      <th>0</th>\n",
       "      <td>1</td>\n",
       "      <td>-8437.673028</td>\n",
       "      <td>42</td>\n",
       "      <td>высшее</td>\n",
       "      <td>0</td>\n",
       "      <td>женат / замужем</td>\n",
       "      <td>0</td>\n",
       "      <td>F</td>\n",
       "      <td>сотрудник</td>\n",
       "      <td>0</td>\n",
       "      <td>253875.639453</td>\n",
       "      <td>покупка жилья</td>\n",
       "    </tr>\n",
       "    <tr>\n",
       "      <th>1</th>\n",
       "      <td>1</td>\n",
       "      <td>-4024.803754</td>\n",
       "      <td>36</td>\n",
       "      <td>среднее</td>\n",
       "      <td>1</td>\n",
       "      <td>женат / замужем</td>\n",
       "      <td>0</td>\n",
       "      <td>F</td>\n",
       "      <td>сотрудник</td>\n",
       "      <td>0</td>\n",
       "      <td>112080.014102</td>\n",
       "      <td>приобретение автомобиля</td>\n",
       "    </tr>\n",
       "    <tr>\n",
       "      <th>2</th>\n",
       "      <td>0</td>\n",
       "      <td>-5623.422610</td>\n",
       "      <td>33</td>\n",
       "      <td>Среднее</td>\n",
       "      <td>1</td>\n",
       "      <td>женат / замужем</td>\n",
       "      <td>0</td>\n",
       "      <td>M</td>\n",
       "      <td>сотрудник</td>\n",
       "      <td>0</td>\n",
       "      <td>145885.952297</td>\n",
       "      <td>покупка жилья</td>\n",
       "    </tr>\n",
       "    <tr>\n",
       "      <th>3</th>\n",
       "      <td>3</td>\n",
       "      <td>-4124.747207</td>\n",
       "      <td>32</td>\n",
       "      <td>среднее</td>\n",
       "      <td>1</td>\n",
       "      <td>женат / замужем</td>\n",
       "      <td>0</td>\n",
       "      <td>M</td>\n",
       "      <td>сотрудник</td>\n",
       "      <td>0</td>\n",
       "      <td>267628.550329</td>\n",
       "      <td>дополнительное образование</td>\n",
       "    </tr>\n",
       "    <tr>\n",
       "      <th>4</th>\n",
       "      <td>0</td>\n",
       "      <td>340266.072047</td>\n",
       "      <td>53</td>\n",
       "      <td>среднее</td>\n",
       "      <td>1</td>\n",
       "      <td>гражданский брак</td>\n",
       "      <td>1</td>\n",
       "      <td>F</td>\n",
       "      <td>пенсионер</td>\n",
       "      <td>0</td>\n",
       "      <td>158616.077870</td>\n",
       "      <td>сыграть свадьбу</td>\n",
       "    </tr>\n",
       "  </tbody>\n",
       "</table>\n",
       "</div>"
      ],
      "text/plain": [
       "   children  days_employed  dob_years education  education_id  \\\n",
       "0         1   -8437.673028         42    высшее             0   \n",
       "1         1   -4024.803754         36   среднее             1   \n",
       "2         0   -5623.422610         33   Среднее             1   \n",
       "3         3   -4124.747207         32   среднее             1   \n",
       "4         0  340266.072047         53   среднее             1   \n",
       "\n",
       "      family_status  family_status_id gender income_type  debt   total_income  \\\n",
       "0   женат / замужем                 0      F   сотрудник     0  253875.639453   \n",
       "1   женат / замужем                 0      F   сотрудник     0  112080.014102   \n",
       "2   женат / замужем                 0      M   сотрудник     0  145885.952297   \n",
       "3   женат / замужем                 0      M   сотрудник     0  267628.550329   \n",
       "4  гражданский брак                 1      F   пенсионер     0  158616.077870   \n",
       "\n",
       "                      purpose  \n",
       "0               покупка жилья  \n",
       "1     приобретение автомобиля  \n",
       "2               покупка жилья  \n",
       "3  дополнительное образование  \n",
       "4             сыграть свадьбу  "
      ]
     },
     "execution_count": 2,
     "metadata": {},
     "output_type": "execute_result"
    }
   ],
   "source": [
    "# чтение файла с данными и сохранение в data\n",
    "data = pd.read_csv('data.csv')\n",
    "data.head()"
   ]
  },
  {
   "cell_type": "code",
   "execution_count": 3,
   "id": "ae9362ad",
   "metadata": {},
   "outputs": [
    {
     "name": "stdout",
     "output_type": "stream",
     "text": [
      "<class 'pandas.core.frame.DataFrame'>\n",
      "RangeIndex: 21525 entries, 0 to 21524\n",
      "Data columns (total 12 columns):\n",
      " #   Column            Non-Null Count  Dtype  \n",
      "---  ------            --------------  -----  \n",
      " 0   children          21525 non-null  int64  \n",
      " 1   days_employed     19351 non-null  float64\n",
      " 2   dob_years         21525 non-null  int64  \n",
      " 3   education         21525 non-null  object \n",
      " 4   education_id      21525 non-null  int64  \n",
      " 5   family_status     21525 non-null  object \n",
      " 6   family_status_id  21525 non-null  int64  \n",
      " 7   gender            21525 non-null  object \n",
      " 8   income_type       21525 non-null  object \n",
      " 9   debt              21525 non-null  int64  \n",
      " 10  total_income      19351 non-null  float64\n",
      " 11  purpose           21525 non-null  object \n",
      "dtypes: float64(2), int64(5), object(5)\n",
      "memory usage: 2.0+ MB\n"
     ]
    }
   ],
   "source": [
    "# получение общей информации о данных в таблице data\n",
    "data.info()"
   ]
  },
  {
   "cell_type": "markdown",
   "id": "ccb2ba7e",
   "metadata": {},
   "source": [
    "В таблице 12 столбцов и 21525 строк, тип данных - есть числовой и строковой. Количество значений в столбцах различается. Это говорит о том, что в данных есть пропущенные значения. Пропуски есть в столбцах `days_employed` и `total_income`.\n",
    "\n",
    "В таблице есть количественные и катериальные данные. Столбцы `days_employed` и `total_income` хранят количественные значения. Пропуски в этих столбцах могли появиться из-за не заполнениях этих данных самими гражданнами"
   ]
  },
  {
   "cell_type": "code",
   "execution_count": 4,
   "id": "61360fa8",
   "metadata": {},
   "outputs": [
    {
     "data": {
      "text/plain": [
       "children             0.0\n",
       "days_employed       10.1\n",
       "dob_years            0.0\n",
       "education            0.0\n",
       "education_id         0.0\n",
       "family_status        0.0\n",
       "family_status_id     0.0\n",
       "gender               0.0\n",
       "income_type          0.0\n",
       "debt                 0.0\n",
       "total_income        10.1\n",
       "purpose              0.0\n",
       "dtype: float64"
      ]
     },
     "execution_count": 4,
     "metadata": {},
     "output_type": "execute_result"
    }
   ],
   "source": [
    "# проверим данные на пропуски\n",
    "round((data.isna().mean()*100),2)"
   ]
  },
  {
   "cell_type": "code",
   "execution_count": 5,
   "id": "3044f436",
   "metadata": {},
   "outputs": [
    {
     "data": {
      "text/plain": [
       "54"
      ]
     },
     "execution_count": 5,
     "metadata": {},
     "output_type": "execute_result"
    }
   ],
   "source": [
    "# посчитаем количество дубликатов\n",
    "data.duplicated().sum()"
   ]
  },
  {
   "cell_type": "markdown",
   "id": "4f4330b6",
   "metadata": {},
   "source": [
    "Провели проверку на пропуски, их около 10% от общего объема. Проверка на дубликаты выявила 54 дубликата."
   ]
  },
  {
   "cell_type": "markdown",
   "id": "4ccb4f3d",
   "metadata": {},
   "source": [
    "## Шаг 2. Предобработка данных <a id=\"preprocessing\"></a>"
   ]
  },
  {
   "cell_type": "markdown",
   "id": "ef566366",
   "metadata": {},
   "source": [
    "### Шаг 2.1 Заполнение пропусков <a id=\"passes\"></a>"
   ]
  },
  {
   "cell_type": "code",
   "execution_count": 6,
   "id": "533811b0",
   "metadata": {},
   "outputs": [
    {
     "data": {
      "text/html": [
       "<div>\n",
       "<style scoped>\n",
       "    .dataframe tbody tr th:only-of-type {\n",
       "        vertical-align: middle;\n",
       "    }\n",
       "\n",
       "    .dataframe tbody tr th {\n",
       "        vertical-align: top;\n",
       "    }\n",
       "\n",
       "    .dataframe thead th {\n",
       "        text-align: right;\n",
       "    }\n",
       "</style>\n",
       "<table border=\"1\" class=\"dataframe\">\n",
       "  <thead>\n",
       "    <tr style=\"text-align: right;\">\n",
       "      <th></th>\n",
       "      <th>children</th>\n",
       "      <th>days_employed</th>\n",
       "      <th>dob_years</th>\n",
       "      <th>education</th>\n",
       "      <th>education_id</th>\n",
       "      <th>family_status</th>\n",
       "      <th>family_status_id</th>\n",
       "      <th>gender</th>\n",
       "      <th>income_type</th>\n",
       "      <th>debt</th>\n",
       "      <th>total_income</th>\n",
       "      <th>purpose</th>\n",
       "    </tr>\n",
       "  </thead>\n",
       "  <tbody>\n",
       "    <tr>\n",
       "      <th>12</th>\n",
       "      <td>0</td>\n",
       "      <td>NaN</td>\n",
       "      <td>65</td>\n",
       "      <td>среднее</td>\n",
       "      <td>1</td>\n",
       "      <td>гражданский брак</td>\n",
       "      <td>1</td>\n",
       "      <td>M</td>\n",
       "      <td>пенсионер</td>\n",
       "      <td>0</td>\n",
       "      <td>NaN</td>\n",
       "      <td>сыграть свадьбу</td>\n",
       "    </tr>\n",
       "    <tr>\n",
       "      <th>26</th>\n",
       "      <td>0</td>\n",
       "      <td>NaN</td>\n",
       "      <td>41</td>\n",
       "      <td>среднее</td>\n",
       "      <td>1</td>\n",
       "      <td>женат / замужем</td>\n",
       "      <td>0</td>\n",
       "      <td>M</td>\n",
       "      <td>госслужащий</td>\n",
       "      <td>0</td>\n",
       "      <td>NaN</td>\n",
       "      <td>образование</td>\n",
       "    </tr>\n",
       "    <tr>\n",
       "      <th>29</th>\n",
       "      <td>0</td>\n",
       "      <td>NaN</td>\n",
       "      <td>63</td>\n",
       "      <td>среднее</td>\n",
       "      <td>1</td>\n",
       "      <td>Не женат / не замужем</td>\n",
       "      <td>4</td>\n",
       "      <td>F</td>\n",
       "      <td>пенсионер</td>\n",
       "      <td>0</td>\n",
       "      <td>NaN</td>\n",
       "      <td>строительство жилой недвижимости</td>\n",
       "    </tr>\n",
       "    <tr>\n",
       "      <th>41</th>\n",
       "      <td>0</td>\n",
       "      <td>NaN</td>\n",
       "      <td>50</td>\n",
       "      <td>среднее</td>\n",
       "      <td>1</td>\n",
       "      <td>женат / замужем</td>\n",
       "      <td>0</td>\n",
       "      <td>F</td>\n",
       "      <td>госслужащий</td>\n",
       "      <td>0</td>\n",
       "      <td>NaN</td>\n",
       "      <td>сделка с подержанным автомобилем</td>\n",
       "    </tr>\n",
       "    <tr>\n",
       "      <th>55</th>\n",
       "      <td>0</td>\n",
       "      <td>NaN</td>\n",
       "      <td>54</td>\n",
       "      <td>среднее</td>\n",
       "      <td>1</td>\n",
       "      <td>гражданский брак</td>\n",
       "      <td>1</td>\n",
       "      <td>F</td>\n",
       "      <td>пенсионер</td>\n",
       "      <td>1</td>\n",
       "      <td>NaN</td>\n",
       "      <td>сыграть свадьбу</td>\n",
       "    </tr>\n",
       "  </tbody>\n",
       "</table>\n",
       "</div>"
      ],
      "text/plain": [
       "    children  days_employed  dob_years education  education_id  \\\n",
       "12         0            NaN         65   среднее             1   \n",
       "26         0            NaN         41   среднее             1   \n",
       "29         0            NaN         63   среднее             1   \n",
       "41         0            NaN         50   среднее             1   \n",
       "55         0            NaN         54   среднее             1   \n",
       "\n",
       "            family_status  family_status_id gender  income_type  debt  \\\n",
       "12       гражданский брак                 1      M    пенсионер     0   \n",
       "26        женат / замужем                 0      M  госслужащий     0   \n",
       "29  Не женат / не замужем                 4      F    пенсионер     0   \n",
       "41        женат / замужем                 0      F  госслужащий     0   \n",
       "55       гражданский брак                 1      F    пенсионер     1   \n",
       "\n",
       "    total_income                           purpose  \n",
       "12           NaN                   сыграть свадьбу  \n",
       "26           NaN                       образование  \n",
       "29           NaN  строительство жилой недвижимости  \n",
       "41           NaN  сделка с подержанным автомобилем  \n",
       "55           NaN                   сыграть свадьбу  "
      ]
     },
     "execution_count": 6,
     "metadata": {},
     "output_type": "execute_result"
    }
   ],
   "source": [
    "# пропуски по столбцу `days_employed`\n",
    "data[data['days_employed'].isna()].head()"
   ]
  },
  {
   "cell_type": "markdown",
   "id": "2a7daa46",
   "metadata": {},
   "source": [
    "Пропуски в таблице обозначенны NaN, они имееют тип float, для расчетов они не помешают.\n",
    "Пропуски в столбцах составляют 10% от общего объема информации, это значительная доля. Чтобы не потерять информацию в строках с пропусками, заменим пропуски медиальными значениями этих столбцов.\n",
    "Это подходящий способ замены пропусков в количественных переменных, где могут быть данные с большими расхождениями в значениях."
   ]
  },
  {
   "cell_type": "code",
   "execution_count": 7,
   "id": "7f475bb9",
   "metadata": {},
   "outputs": [],
   "source": [
    "# заменим пропуски медианным занчением\n",
    "median_days_employed = data['days_employed'].median()\n",
    "data['days_employed'] = data['days_employed'].fillna(median_days_employed)"
   ]
  },
  {
   "cell_type": "code",
   "execution_count": 8,
   "id": "de2f97c0",
   "metadata": {},
   "outputs": [],
   "source": [
    "# заменим пропуски медианным занчением\n",
    "median_total_income = data['total_income'].median()\n",
    "data['total_income'] = data['total_income'].fillna(median_total_income)"
   ]
  },
  {
   "cell_type": "code",
   "execution_count": 9,
   "id": "399f15eb",
   "metadata": {},
   "outputs": [
    {
     "data": {
      "text/plain": [
       "children            0.0\n",
       "days_employed       0.0\n",
       "dob_years           0.0\n",
       "education           0.0\n",
       "education_id        0.0\n",
       "family_status       0.0\n",
       "family_status_id    0.0\n",
       "gender              0.0\n",
       "income_type         0.0\n",
       "debt                0.0\n",
       "total_income        0.0\n",
       "purpose             0.0\n",
       "dtype: float64"
      ]
     },
     "execution_count": 9,
     "metadata": {},
     "output_type": "execute_result"
    }
   ],
   "source": [
    "round((data.isna().mean()*100),2)"
   ]
  },
  {
   "cell_type": "markdown",
   "id": "be903729",
   "metadata": {},
   "source": [
    "Заменили пропуски в столбцах на медианные значения, и еще раз проверили на пропуски, пропусков больше нет."
   ]
  },
  {
   "cell_type": "markdown",
   "id": "754d51d6",
   "metadata": {},
   "source": [
    "### Шаг 2.2 Проверка данных на аномалии и исправления. <a id=\"anomalie\"></a>"
   ]
  },
  {
   "cell_type": "code",
   "execution_count": 10,
   "id": "9a2ca5a9",
   "metadata": {},
   "outputs": [
    {
     "data": {
      "text/plain": [
       "array(['высшее', 'среднее', 'Среднее', 'СРЕДНЕЕ', 'ВЫСШЕЕ',\n",
       "       'неоконченное высшее', 'начальное', 'Высшее',\n",
       "       'НЕОКОНЧЕННОЕ ВЫСШЕЕ', 'Неоконченное высшее', 'НАЧАЛЬНОЕ',\n",
       "       'Начальное', 'Ученая степень', 'УЧЕНАЯ СТЕПЕНЬ', 'ученая степень'],\n",
       "      dtype=object)"
      ]
     },
     "execution_count": 10,
     "metadata": {},
     "output_type": "execute_result"
    }
   ],
   "source": [
    "# выведем набор наименований образования\n",
    "data['education'].unique()"
   ]
  },
  {
   "cell_type": "markdown",
   "id": "d4fa9445",
   "metadata": {},
   "source": [
    "В столбце `education` исползуется разный регистр букв, приведем все данные к единому виду."
   ]
  },
  {
   "cell_type": "code",
   "execution_count": 11,
   "id": "23cb81a8",
   "metadata": {},
   "outputs": [],
   "source": [
    "# приведем к нижнему регистру\n",
    "data['education'] = data['education'].str.lower()"
   ]
  },
  {
   "cell_type": "code",
   "execution_count": 12,
   "id": "ec5af950",
   "metadata": {},
   "outputs": [
    {
     "data": {
      "text/plain": [
       "array(['высшее', 'среднее', 'неоконченное высшее', 'начальное',\n",
       "       'ученая степень'], dtype=object)"
      ]
     },
     "execution_count": 12,
     "metadata": {},
     "output_type": "execute_result"
    }
   ],
   "source": [
    "# проверка\n",
    "data['education'].unique()"
   ]
  },
  {
   "cell_type": "code",
   "execution_count": 13,
   "id": "4a25b2fb",
   "metadata": {},
   "outputs": [
    {
     "data": {
      "text/plain": [
       "array(['женат / замужем', 'гражданский брак', 'вдовец / вдова',\n",
       "       'в разводе', 'Не женат / не замужем'], dtype=object)"
      ]
     },
     "execution_count": 13,
     "metadata": {},
     "output_type": "execute_result"
    }
   ],
   "source": [
    "# проверим столбец `family_status` на анномалии\n",
    "data['family_status'].unique()"
   ]
  },
  {
   "cell_type": "code",
   "execution_count": 14,
   "id": "9996b27a",
   "metadata": {},
   "outputs": [
    {
     "data": {
      "text/plain": [
       "array(['F', 'M', 'XNA'], dtype=object)"
      ]
     },
     "execution_count": 14,
     "metadata": {},
     "output_type": "execute_result"
    }
   ],
   "source": [
    "# проверим столбец `gender` на анномалии\n",
    "data['gender'].unique()"
   ]
  },
  {
   "cell_type": "code",
   "execution_count": 15,
   "id": "f0cb6f41",
   "metadata": {},
   "outputs": [
    {
     "data": {
      "text/html": [
       "<div>\n",
       "<style scoped>\n",
       "    .dataframe tbody tr th:only-of-type {\n",
       "        vertical-align: middle;\n",
       "    }\n",
       "\n",
       "    .dataframe tbody tr th {\n",
       "        vertical-align: top;\n",
       "    }\n",
       "\n",
       "    .dataframe thead th {\n",
       "        text-align: right;\n",
       "    }\n",
       "</style>\n",
       "<table border=\"1\" class=\"dataframe\">\n",
       "  <thead>\n",
       "    <tr style=\"text-align: right;\">\n",
       "      <th></th>\n",
       "      <th>children</th>\n",
       "      <th>days_employed</th>\n",
       "      <th>dob_years</th>\n",
       "      <th>education</th>\n",
       "      <th>education_id</th>\n",
       "      <th>family_status</th>\n",
       "      <th>family_status_id</th>\n",
       "      <th>gender</th>\n",
       "      <th>income_type</th>\n",
       "      <th>debt</th>\n",
       "      <th>total_income</th>\n",
       "      <th>purpose</th>\n",
       "    </tr>\n",
       "  </thead>\n",
       "  <tbody>\n",
       "    <tr>\n",
       "      <th>10701</th>\n",
       "      <td>0</td>\n",
       "      <td>-2358.600502</td>\n",
       "      <td>24</td>\n",
       "      <td>неоконченное высшее</td>\n",
       "      <td>2</td>\n",
       "      <td>гражданский брак</td>\n",
       "      <td>1</td>\n",
       "      <td>XNA</td>\n",
       "      <td>компаньон</td>\n",
       "      <td>0</td>\n",
       "      <td>203905.157261</td>\n",
       "      <td>покупка недвижимости</td>\n",
       "    </tr>\n",
       "  </tbody>\n",
       "</table>\n",
       "</div>"
      ],
      "text/plain": [
       "       children  days_employed  dob_years            education  education_id  \\\n",
       "10701         0   -2358.600502         24  неоконченное высшее             2   \n",
       "\n",
       "          family_status  family_status_id gender income_type  debt  \\\n",
       "10701  гражданский брак                 1    XNA   компаньон     0   \n",
       "\n",
       "        total_income               purpose  \n",
       "10701  203905.157261  покупка недвижимости  "
      ]
     },
     "execution_count": 15,
     "metadata": {},
     "output_type": "execute_result"
    }
   ],
   "source": [
    "data[data['gender'] == 'XNA']"
   ]
  },
  {
   "cell_type": "markdown",
   "id": "6f4cffc9",
   "metadata": {},
   "source": [
    "В столбец gender есть аномальное значение, XNA есть только в одной строчке таблицы. Заменить это значение другим по смыслу сложно, заполнить средним или медианой нельзя, это категориальные данные. Поэтому удалим ее."
   ]
  },
  {
   "cell_type": "code",
   "execution_count": 16,
   "id": "fa7549e6",
   "metadata": {},
   "outputs": [],
   "source": [
    "# удаляем строку с анномальным значением в столбце gender\n",
    "data = data.dropna(subset=['gender']).reset_index(drop=True)"
   ]
  },
  {
   "cell_type": "code",
   "execution_count": 17,
   "id": "4a9dcc0c",
   "metadata": {},
   "outputs": [
    {
     "data": {
      "text/plain": [
       "array(['сотрудник', 'пенсионер', 'компаньон', 'госслужащий',\n",
       "       'безработный', 'предприниматель', 'студент', 'в декрете'],\n",
       "      dtype=object)"
      ]
     },
     "execution_count": 17,
     "metadata": {},
     "output_type": "execute_result"
    }
   ],
   "source": [
    "# проверим столбец `income_type` на анномалии\n",
    "data['income_type'].unique()"
   ]
  },
  {
   "cell_type": "code",
   "execution_count": 18,
   "id": "3c64bfc5",
   "metadata": {},
   "outputs": [
    {
     "data": {
      "text/plain": [
       "array([ 1,  0,  3,  2, -1,  4, 20,  5])"
      ]
     },
     "execution_count": 18,
     "metadata": {},
     "output_type": "execute_result"
    }
   ],
   "source": [
    "# проверим столбец `children` на анномалии\n",
    "data['children'].unique()"
   ]
  },
  {
   "cell_type": "markdown",
   "id": "4a73e776",
   "metadata": {},
   "source": [
    "В столбце children имеется два аномальных значения. -1 ребенок такого не бывает, а 20 детей это много, заменим это значения на более реальные. -1 на 1 ребенок, 20 на 2 ребенка."
   ]
  },
  {
   "cell_type": "code",
   "execution_count": 19,
   "id": "3293cb5b",
   "metadata": {},
   "outputs": [
    {
     "data": {
      "text/plain": [
       "array([1, 0, 3, 2, 4, 5])"
      ]
     },
     "execution_count": 19,
     "metadata": {},
     "output_type": "execute_result"
    }
   ],
   "source": [
    "# заменим анномальные значения\n",
    "data['children'] = data['children'].replace(-1, 1)\n",
    "data['children'] = data['children'].replace(20, 2)\n",
    "data['children'].unique()"
   ]
  },
  {
   "cell_type": "code",
   "execution_count": 20,
   "id": "6f07c13b",
   "metadata": {},
   "outputs": [
    {
     "data": {
      "text/plain": [
       "array([42, 36, 33, 32, 53, 27, 43, 50, 35, 41, 40, 65, 54, 56, 26, 48, 24,\n",
       "       21, 57, 67, 28, 63, 62, 47, 34, 68, 25, 31, 30, 20, 49, 37, 45, 61,\n",
       "       64, 44, 52, 46, 23, 38, 39, 51,  0, 59, 29, 60, 55, 58, 71, 22, 73,\n",
       "       66, 69, 19, 72, 70, 74, 75])"
      ]
     },
     "execution_count": 20,
     "metadata": {},
     "output_type": "execute_result"
    }
   ],
   "source": [
    "# проверим столбец `dob_years` на анномалии\n",
    "data['dob_years'].unique()"
   ]
  },
  {
   "cell_type": "code",
   "execution_count": 21,
   "id": "08cade10",
   "metadata": {},
   "outputs": [
    {
     "data": {
      "text/plain": [
       "<AxesSubplot:ylabel='Frequency'>"
      ]
     },
     "execution_count": 21,
     "metadata": {},
     "output_type": "execute_result"
    },
    {
     "data": {
      "image/png": "[encoded data removed]",
      "text/plain": [
       "<Figure size 432x288 with 1 Axes>"
      ]
     },
     "metadata": {
      "needs_background": "light"
     },
     "output_type": "display_data"
    }
   ],
   "source": [
    "# посмотрим на графике распределение данных о возрасте клиентов\n",
    "data.plot(y='dob_years', grid=True, kind='hist', bins=7)"
   ]
  },
  {
   "cell_type": "code",
   "execution_count": 22,
   "id": "b90d5909",
   "metadata": {},
   "outputs": [
    {
     "data": {
      "text/plain": [
       "101"
      ]
     },
     "execution_count": 22,
     "metadata": {},
     "output_type": "execute_result"
    }
   ],
   "source": [
    "# строки где возраст клиентов равен 0\n",
    "len(data[data['dob_years']== 0])"
   ]
  },
  {
   "cell_type": "markdown",
   "id": "314d392b",
   "metadata": {},
   "source": [
    "По гистограмме видно, что есть некоторое количестово значений возроста в районе нуля.\n",
    "В столбце \"возраст\" есть строки с нулевым значением, таких столбцов много, заменим в них нулевой возраст на медианное значение."
   ]
  },
  {
   "cell_type": "code",
   "execution_count": 23,
   "id": "6f532c77",
   "metadata": {},
   "outputs": [
    {
     "name": "stdout",
     "output_type": "stream",
     "text": [
      "Медианный возраст клиентов 42.0\n"
     ]
    }
   ],
   "source": [
    "# заменим 0 значения меданым возрастом\n",
    "median_dob_years = data['dob_years'].median()\n",
    "print(f'Медианный возраст клиентов {median_dob_years}')\n",
    "data['dob_years'] = data['dob_years'].replace(0, median_dob_years)"
   ]
  },
  {
   "cell_type": "code",
   "execution_count": 24,
   "id": "9d56c10a",
   "metadata": {},
   "outputs": [
    {
     "data": {
      "text/plain": [
       "array([42., 36., 33., 32., 53., 27., 43., 50., 35., 41., 40., 65., 54.,\n",
       "       56., 26., 48., 24., 21., 57., 67., 28., 63., 62., 47., 34., 68.,\n",
       "       25., 31., 30., 20., 49., 37., 45., 61., 64., 44., 52., 46., 23.,\n",
       "       38., 39., 51., 59., 29., 60., 55., 58., 71., 22., 73., 66., 69.,\n",
       "       19., 72., 70., 74., 75.])"
      ]
     },
     "execution_count": 24,
     "metadata": {},
     "output_type": "execute_result"
    }
   ],
   "source": [
    "# проверка замены\n",
    "data['dob_years'].unique()"
   ]
  },
  {
   "cell_type": "code",
   "execution_count": 25,
   "id": "41a64e21",
   "metadata": {},
   "outputs": [
    {
     "data": {
      "text/plain": [
       "array(['покупка жилья', 'приобретение автомобиля',\n",
       "       'дополнительное образование', 'сыграть свадьбу',\n",
       "       'операции с жильем', 'образование', 'на проведение свадьбы',\n",
       "       'покупка жилья для семьи', 'покупка недвижимости',\n",
       "       'покупка коммерческой недвижимости', 'покупка жилой недвижимости',\n",
       "       'строительство собственной недвижимости', 'недвижимость',\n",
       "       'строительство недвижимости', 'на покупку подержанного автомобиля',\n",
       "       'на покупку своего автомобиля',\n",
       "       'операции с коммерческой недвижимостью',\n",
       "       'строительство жилой недвижимости', 'жилье',\n",
       "       'операции со своей недвижимостью', 'автомобили',\n",
       "       'заняться образованием', 'сделка с подержанным автомобилем',\n",
       "       'получение образования', 'автомобиль', 'свадьба',\n",
       "       'получение дополнительного образования', 'покупка своего жилья',\n",
       "       'операции с недвижимостью', 'получение высшего образования',\n",
       "       'свой автомобиль', 'сделка с автомобилем',\n",
       "       'профильное образование', 'высшее образование',\n",
       "       'покупка жилья для сдачи', 'на покупку автомобиля', 'ремонт жилью',\n",
       "       'заняться высшим образованием'], dtype=object)"
      ]
     },
     "execution_count": 25,
     "metadata": {},
     "output_type": "execute_result"
    }
   ],
   "source": [
    "# проверим столбец `purpose` на анномалии\n",
    "data['purpose'].unique()"
   ]
  },
  {
   "cell_type": "code",
   "execution_count": 26,
   "id": "5de7b01b",
   "metadata": {},
   "outputs": [
    {
     "data": {
      "text/plain": [
       "0"
      ]
     },
     "execution_count": 26,
     "metadata": {},
     "output_type": "execute_result"
    }
   ],
   "source": [
    "# проверка на пропуски\n",
    "data['debt'].isna().sum()"
   ]
  },
  {
   "cell_type": "markdown",
   "id": "547757cb",
   "metadata": {},
   "source": [
    "**Вывод** Проверили все столбцы в таблице на анномальные значения, и исправили их. В основном, делали это для очистки датафрейма, и для дальнейшей правильной работы с данными, что бы получить корректные результаты."
   ]
  },
  {
   "cell_type": "markdown",
   "id": "06efe2fb",
   "metadata": {},
   "source": [
    "### Шаг 2.3. Изменение типов данных.  <a id=\"type\"></a>"
   ]
  },
  {
   "cell_type": "code",
   "execution_count": 27,
   "id": "deb0953e",
   "metadata": {},
   "outputs": [],
   "source": [
    "# именяем тип занных столбца `total_income` на int\n",
    "data['total_income'] = data['total_income'].astype('int')"
   ]
  },
  {
   "cell_type": "code",
   "execution_count": 28,
   "id": "c33ac954",
   "metadata": {},
   "outputs": [
    {
     "data": {
      "text/plain": [
       "dtype('int64')"
      ]
     },
     "execution_count": 28,
     "metadata": {},
     "output_type": "execute_result"
    }
   ],
   "source": [
    "# проверка замены\n",
    "data['total_income'].dtype"
   ]
  },
  {
   "cell_type": "markdown",
   "id": "605fd1b6",
   "metadata": {},
   "source": [
    "Замена типа произошла, столбец total_income имеет целочисленый тип."
   ]
  },
  {
   "cell_type": "markdown",
   "id": "e8733191",
   "metadata": {},
   "source": [
    "### Шаг 2.4. Удаление дубликатов. <a id=\"dupl\"></a>"
   ]
  },
  {
   "cell_type": "code",
   "execution_count": 29,
   "id": "3b715dcf",
   "metadata": {},
   "outputs": [
    {
     "data": {
      "text/plain": [
       "72"
      ]
     },
     "execution_count": 29,
     "metadata": {},
     "output_type": "execute_result"
    }
   ],
   "source": [
    "# проверка на дубликаты\n",
    "data.duplicated().sum()"
   ]
  },
  {
   "cell_type": "markdown",
   "id": "c6ac80ab",
   "metadata": {},
   "source": [
    "Дубликатов стало больше, это связано с проведенной нами перобработкой данных, с переходом на нижний регистор и заменой пропушенных значений."
   ]
  },
  {
   "cell_type": "code",
   "execution_count": 30,
   "id": "787d12d5",
   "metadata": {},
   "outputs": [
    {
     "data": {
      "text/html": [
       "<div>\n",
       "<style scoped>\n",
       "    .dataframe tbody tr th:only-of-type {\n",
       "        vertical-align: middle;\n",
       "    }\n",
       "\n",
       "    .dataframe tbody tr th {\n",
       "        vertical-align: top;\n",
       "    }\n",
       "\n",
       "    .dataframe thead th {\n",
       "        text-align: right;\n",
       "    }\n",
       "</style>\n",
       "<table border=\"1\" class=\"dataframe\">\n",
       "  <thead>\n",
       "    <tr style=\"text-align: right;\">\n",
       "      <th></th>\n",
       "      <th>children</th>\n",
       "      <th>days_employed</th>\n",
       "      <th>dob_years</th>\n",
       "      <th>education</th>\n",
       "      <th>education_id</th>\n",
       "      <th>family_status</th>\n",
       "      <th>family_status_id</th>\n",
       "      <th>gender</th>\n",
       "      <th>income_type</th>\n",
       "      <th>debt</th>\n",
       "      <th>total_income</th>\n",
       "      <th>purpose</th>\n",
       "    </tr>\n",
       "  </thead>\n",
       "  <tbody>\n",
       "    <tr>\n",
       "      <th>2849</th>\n",
       "      <td>0</td>\n",
       "      <td>-1203.369529</td>\n",
       "      <td>41.0</td>\n",
       "      <td>среднее</td>\n",
       "      <td>1</td>\n",
       "      <td>женат / замужем</td>\n",
       "      <td>0</td>\n",
       "      <td>F</td>\n",
       "      <td>сотрудник</td>\n",
       "      <td>0</td>\n",
       "      <td>145017</td>\n",
       "      <td>покупка жилья для семьи</td>\n",
       "    </tr>\n",
       "    <tr>\n",
       "      <th>3290</th>\n",
       "      <td>0</td>\n",
       "      <td>-1203.369529</td>\n",
       "      <td>58.0</td>\n",
       "      <td>среднее</td>\n",
       "      <td>1</td>\n",
       "      <td>гражданский брак</td>\n",
       "      <td>1</td>\n",
       "      <td>F</td>\n",
       "      <td>пенсионер</td>\n",
       "      <td>0</td>\n",
       "      <td>145017</td>\n",
       "      <td>сыграть свадьбу</td>\n",
       "    </tr>\n",
       "    <tr>\n",
       "      <th>4182</th>\n",
       "      <td>1</td>\n",
       "      <td>-1203.369529</td>\n",
       "      <td>34.0</td>\n",
       "      <td>высшее</td>\n",
       "      <td>0</td>\n",
       "      <td>гражданский брак</td>\n",
       "      <td>1</td>\n",
       "      <td>F</td>\n",
       "      <td>сотрудник</td>\n",
       "      <td>0</td>\n",
       "      <td>145017</td>\n",
       "      <td>свадьба</td>\n",
       "    </tr>\n",
       "    <tr>\n",
       "      <th>4851</th>\n",
       "      <td>0</td>\n",
       "      <td>-1203.369529</td>\n",
       "      <td>60.0</td>\n",
       "      <td>среднее</td>\n",
       "      <td>1</td>\n",
       "      <td>гражданский брак</td>\n",
       "      <td>1</td>\n",
       "      <td>F</td>\n",
       "      <td>пенсионер</td>\n",
       "      <td>0</td>\n",
       "      <td>145017</td>\n",
       "      <td>свадьба</td>\n",
       "    </tr>\n",
       "    <tr>\n",
       "      <th>5557</th>\n",
       "      <td>0</td>\n",
       "      <td>-1203.369529</td>\n",
       "      <td>58.0</td>\n",
       "      <td>среднее</td>\n",
       "      <td>1</td>\n",
       "      <td>гражданский брак</td>\n",
       "      <td>1</td>\n",
       "      <td>F</td>\n",
       "      <td>пенсионер</td>\n",
       "      <td>0</td>\n",
       "      <td>145017</td>\n",
       "      <td>сыграть свадьбу</td>\n",
       "    </tr>\n",
       "  </tbody>\n",
       "</table>\n",
       "</div>"
      ],
      "text/plain": [
       "      children  days_employed  dob_years education  education_id  \\\n",
       "2849         0   -1203.369529       41.0   среднее             1   \n",
       "3290         0   -1203.369529       58.0   среднее             1   \n",
       "4182         1   -1203.369529       34.0    высшее             0   \n",
       "4851         0   -1203.369529       60.0   среднее             1   \n",
       "5557         0   -1203.369529       58.0   среднее             1   \n",
       "\n",
       "         family_status  family_status_id gender income_type  debt  \\\n",
       "2849   женат / замужем                 0      F   сотрудник     0   \n",
       "3290  гражданский брак                 1      F   пенсионер     0   \n",
       "4182  гражданский брак                 1      F   сотрудник     0   \n",
       "4851  гражданский брак                 1      F   пенсионер     0   \n",
       "5557  гражданский брак                 1      F   пенсионер     0   \n",
       "\n",
       "      total_income                  purpose  \n",
       "2849        145017  покупка жилья для семьи  \n",
       "3290        145017          сыграть свадьбу  \n",
       "4182        145017                  свадьба  \n",
       "4851        145017                  свадьба  \n",
       "5557        145017          сыграть свадьбу  "
      ]
     },
     "execution_count": 30,
     "metadata": {},
     "output_type": "execute_result"
    }
   ],
   "source": [
    "# таблица с дубликатами\n",
    "duplicated_data = data[data.duplicated()].head()\n",
    "duplicated_data"
   ]
  },
  {
   "cell_type": "code",
   "execution_count": 31,
   "id": "76c980ca",
   "metadata": {},
   "outputs": [
    {
     "data": {
      "text/plain": [
       "0.33"
      ]
     },
     "execution_count": 31,
     "metadata": {},
     "output_type": "execute_result"
    }
   ],
   "source": [
    "# посчитаем процент дубликатов\n",
    "round((data.duplicated().mean()*100),2)"
   ]
  },
  {
   "cell_type": "code",
   "execution_count": 32,
   "id": "d22f2a10",
   "metadata": {},
   "outputs": [],
   "source": [
    "# удалим дубликаты\n",
    "data = data.drop_duplicates().reset_index(drop=True)"
   ]
  },
  {
   "cell_type": "code",
   "execution_count": 33,
   "id": "6e2654cf",
   "metadata": {},
   "outputs": [
    {
     "data": {
      "text/plain": [
       "0"
      ]
     },
     "execution_count": 33,
     "metadata": {},
     "output_type": "execute_result"
    }
   ],
   "source": [
    "# проверка\n",
    "data.duplicated().sum()"
   ]
  },
  {
   "cell_type": "markdown",
   "id": "b26b8650",
   "metadata": {},
   "source": [
    "Количество дубликатов после обработки 0.\n",
    "\n",
    "Возможно, что дубликаты появились после обработки данных, заполнения пропусков, и изменения регистра букв в столбцах. Возможно, это не дубликаты, а разные люди со схожими данными, которые берут кредит. Из таблице это сложно понять. Но дубликаты составляют менее 1% от общего числа данных, утрата этого количества данных не повлияется на результат анализа.\n",
    "\n",
    "По итогом предобработки данных, мы проработали задачу с пропусками, с анномальными значениями, явными и не явными дубликатами."
   ]
  },
  {
   "cell_type": "markdown",
   "id": "38caa829",
   "metadata": {},
   "source": [
    "### Шаг 2.5. Формирование дополнительных датафреймов словарей. <a id=\"dict\"></a>"
   ]
  },
  {
   "cell_type": "code",
   "execution_count": 34,
   "id": "4bab0560",
   "metadata": {},
   "outputs": [],
   "source": [
    "# создадим словари для обозначения семейного положения и уровня образования\n",
    "education_dict = data[['education_id','education']].drop_duplicates().reset_index(drop=True)\n",
    "family_status_dict = data[['family_status_id','family_status']].drop_duplicates().reset_index(drop=True)"
   ]
  },
  {
   "cell_type": "code",
   "execution_count": 35,
   "id": "3a7206d2",
   "metadata": {},
   "outputs": [
    {
     "data": {
      "text/html": [
       "<div>\n",
       "<style scoped>\n",
       "    .dataframe tbody tr th:only-of-type {\n",
       "        vertical-align: middle;\n",
       "    }\n",
       "\n",
       "    .dataframe tbody tr th {\n",
       "        vertical-align: top;\n",
       "    }\n",
       "\n",
       "    .dataframe thead th {\n",
       "        text-align: right;\n",
       "    }\n",
       "</style>\n",
       "<table border=\"1\" class=\"dataframe\">\n",
       "  <thead>\n",
       "    <tr style=\"text-align: right;\">\n",
       "      <th></th>\n",
       "      <th>family_status_id</th>\n",
       "      <th>family_status</th>\n",
       "    </tr>\n",
       "  </thead>\n",
       "  <tbody>\n",
       "    <tr>\n",
       "      <th>0</th>\n",
       "      <td>0</td>\n",
       "      <td>женат / замужем</td>\n",
       "    </tr>\n",
       "    <tr>\n",
       "      <th>1</th>\n",
       "      <td>1</td>\n",
       "      <td>гражданский брак</td>\n",
       "    </tr>\n",
       "    <tr>\n",
       "      <th>2</th>\n",
       "      <td>2</td>\n",
       "      <td>вдовец / вдова</td>\n",
       "    </tr>\n",
       "    <tr>\n",
       "      <th>3</th>\n",
       "      <td>3</td>\n",
       "      <td>в разводе</td>\n",
       "    </tr>\n",
       "    <tr>\n",
       "      <th>4</th>\n",
       "      <td>4</td>\n",
       "      <td>Не женат / не замужем</td>\n",
       "    </tr>\n",
       "  </tbody>\n",
       "</table>\n",
       "</div>"
      ],
      "text/plain": [
       "   family_status_id          family_status\n",
       "0                 0        женат / замужем\n",
       "1                 1       гражданский брак\n",
       "2                 2         вдовец / вдова\n",
       "3                 3              в разводе\n",
       "4                 4  Не женат / не замужем"
      ]
     },
     "execution_count": 35,
     "metadata": {},
     "output_type": "execute_result"
    }
   ],
   "source": [
    "family_status_dict"
   ]
  },
  {
   "cell_type": "code",
   "execution_count": 36,
   "id": "09ddfae3",
   "metadata": {},
   "outputs": [
    {
     "data": {
      "text/html": [
       "<div>\n",
       "<style scoped>\n",
       "    .dataframe tbody tr th:only-of-type {\n",
       "        vertical-align: middle;\n",
       "    }\n",
       "\n",
       "    .dataframe tbody tr th {\n",
       "        vertical-align: top;\n",
       "    }\n",
       "\n",
       "    .dataframe thead th {\n",
       "        text-align: right;\n",
       "    }\n",
       "</style>\n",
       "<table border=\"1\" class=\"dataframe\">\n",
       "  <thead>\n",
       "    <tr style=\"text-align: right;\">\n",
       "      <th></th>\n",
       "      <th>education_id</th>\n",
       "      <th>education</th>\n",
       "    </tr>\n",
       "  </thead>\n",
       "  <tbody>\n",
       "    <tr>\n",
       "      <th>0</th>\n",
       "      <td>0</td>\n",
       "      <td>высшее</td>\n",
       "    </tr>\n",
       "    <tr>\n",
       "      <th>1</th>\n",
       "      <td>1</td>\n",
       "      <td>среднее</td>\n",
       "    </tr>\n",
       "    <tr>\n",
       "      <th>2</th>\n",
       "      <td>2</td>\n",
       "      <td>неоконченное высшее</td>\n",
       "    </tr>\n",
       "    <tr>\n",
       "      <th>3</th>\n",
       "      <td>3</td>\n",
       "      <td>начальное</td>\n",
       "    </tr>\n",
       "    <tr>\n",
       "      <th>4</th>\n",
       "      <td>4</td>\n",
       "      <td>ученая степень</td>\n",
       "    </tr>\n",
       "  </tbody>\n",
       "</table>\n",
       "</div>"
      ],
      "text/plain": [
       "   education_id            education\n",
       "0             0               высшее\n",
       "1             1              среднее\n",
       "2             2  неоконченное высшее\n",
       "3             3            начальное\n",
       "4             4       ученая степень"
      ]
     },
     "execution_count": 36,
     "metadata": {},
     "output_type": "execute_result"
    }
   ],
   "source": [
    "education_dict"
   ]
  },
  {
   "cell_type": "code",
   "execution_count": 37,
   "id": "9d9d38b9",
   "metadata": {},
   "outputs": [
    {
     "data": {
      "text/html": [
       "<div>\n",
       "<style scoped>\n",
       "    .dataframe tbody tr th:only-of-type {\n",
       "        vertical-align: middle;\n",
       "    }\n",
       "\n",
       "    .dataframe tbody tr th {\n",
       "        vertical-align: top;\n",
       "    }\n",
       "\n",
       "    .dataframe thead th {\n",
       "        text-align: right;\n",
       "    }\n",
       "</style>\n",
       "<table border=\"1\" class=\"dataframe\">\n",
       "  <thead>\n",
       "    <tr style=\"text-align: right;\">\n",
       "      <th></th>\n",
       "      <th>children</th>\n",
       "      <th>days_employed</th>\n",
       "      <th>dob_years</th>\n",
       "      <th>education_id</th>\n",
       "      <th>family_status_id</th>\n",
       "      <th>gender</th>\n",
       "      <th>income_type</th>\n",
       "      <th>debt</th>\n",
       "      <th>total_income</th>\n",
       "      <th>purpose</th>\n",
       "    </tr>\n",
       "  </thead>\n",
       "  <tbody>\n",
       "    <tr>\n",
       "      <th>0</th>\n",
       "      <td>1</td>\n",
       "      <td>-8437.673028</td>\n",
       "      <td>42.0</td>\n",
       "      <td>0</td>\n",
       "      <td>0</td>\n",
       "      <td>F</td>\n",
       "      <td>сотрудник</td>\n",
       "      <td>0</td>\n",
       "      <td>253875</td>\n",
       "      <td>покупка жилья</td>\n",
       "    </tr>\n",
       "    <tr>\n",
       "      <th>1</th>\n",
       "      <td>1</td>\n",
       "      <td>-4024.803754</td>\n",
       "      <td>36.0</td>\n",
       "      <td>1</td>\n",
       "      <td>0</td>\n",
       "      <td>F</td>\n",
       "      <td>сотрудник</td>\n",
       "      <td>0</td>\n",
       "      <td>112080</td>\n",
       "      <td>приобретение автомобиля</td>\n",
       "    </tr>\n",
       "    <tr>\n",
       "      <th>2</th>\n",
       "      <td>0</td>\n",
       "      <td>-5623.422610</td>\n",
       "      <td>33.0</td>\n",
       "      <td>1</td>\n",
       "      <td>0</td>\n",
       "      <td>M</td>\n",
       "      <td>сотрудник</td>\n",
       "      <td>0</td>\n",
       "      <td>145885</td>\n",
       "      <td>покупка жилья</td>\n",
       "    </tr>\n",
       "    <tr>\n",
       "      <th>3</th>\n",
       "      <td>3</td>\n",
       "      <td>-4124.747207</td>\n",
       "      <td>32.0</td>\n",
       "      <td>1</td>\n",
       "      <td>0</td>\n",
       "      <td>M</td>\n",
       "      <td>сотрудник</td>\n",
       "      <td>0</td>\n",
       "      <td>267628</td>\n",
       "      <td>дополнительное образование</td>\n",
       "    </tr>\n",
       "    <tr>\n",
       "      <th>4</th>\n",
       "      <td>0</td>\n",
       "      <td>340266.072047</td>\n",
       "      <td>53.0</td>\n",
       "      <td>1</td>\n",
       "      <td>1</td>\n",
       "      <td>F</td>\n",
       "      <td>пенсионер</td>\n",
       "      <td>0</td>\n",
       "      <td>158616</td>\n",
       "      <td>сыграть свадьбу</td>\n",
       "    </tr>\n",
       "  </tbody>\n",
       "</table>\n",
       "</div>"
      ],
      "text/plain": [
       "   children  days_employed  dob_years  education_id  family_status_id gender  \\\n",
       "0         1   -8437.673028       42.0             0                 0      F   \n",
       "1         1   -4024.803754       36.0             1                 0      F   \n",
       "2         0   -5623.422610       33.0             1                 0      M   \n",
       "3         3   -4124.747207       32.0             1                 0      M   \n",
       "4         0  340266.072047       53.0             1                 1      F   \n",
       "\n",
       "  income_type  debt  total_income                     purpose  \n",
       "0   сотрудник     0        253875               покупка жилья  \n",
       "1   сотрудник     0        112080     приобретение автомобиля  \n",
       "2   сотрудник     0        145885               покупка жилья  \n",
       "3   сотрудник     0        267628  дополнительное образование  \n",
       "4   пенсионер     0        158616             сыграть свадьбу  "
      ]
     },
     "execution_count": 37,
     "metadata": {},
     "output_type": "execute_result"
    }
   ],
   "source": [
    "# удалим столбцы с текстовым описанием семейного положения и образования, \n",
    "# в датафрейме остануться только их категориальные аналоги\n",
    "data = data.drop(columns=['education', 'family_status'])\n",
    "data.head(5)"
   ]
  },
  {
   "cell_type": "markdown",
   "id": "2b164d5a",
   "metadata": {},
   "source": [
    "### Шаг 2.6. Категоризация дохода. <a id=\"income\"></a>"
   ]
  },
  {
   "cell_type": "code",
   "execution_count": 38,
   "id": "4d2cd60a",
   "metadata": {},
   "outputs": [],
   "source": [
    "# функция для формирования категорий по доходам клиентов\n",
    "def total_income_category(total_income):\n",
    "    if total_income <= 30000:\n",
    "        return 'E'\n",
    "    if 30001 <= total_income <= 50000:\n",
    "        return 'D'\n",
    "    if 50001 <= total_income <= 200000:\n",
    "        return 'C'\n",
    "    if 200001 <= total_income <= 1000000:\n",
    "        return 'B'\n",
    "    return 'A'\n"
   ]
  },
  {
   "cell_type": "code",
   "execution_count": 39,
   "id": "14386aaf",
   "metadata": {},
   "outputs": [],
   "source": [
    "# создадим новый столбец с категориями доходов\n",
    "data['total_income_category'] = data['total_income'].apply(total_income_category)"
   ]
  },
  {
   "cell_type": "code",
   "execution_count": 40,
   "id": "7ec74fed",
   "metadata": {},
   "outputs": [
    {
     "data": {
      "text/html": [
       "<div>\n",
       "<style scoped>\n",
       "    .dataframe tbody tr th:only-of-type {\n",
       "        vertical-align: middle;\n",
       "    }\n",
       "\n",
       "    .dataframe tbody tr th {\n",
       "        vertical-align: top;\n",
       "    }\n",
       "\n",
       "    .dataframe thead th {\n",
       "        text-align: right;\n",
       "    }\n",
       "</style>\n",
       "<table border=\"1\" class=\"dataframe\">\n",
       "  <thead>\n",
       "    <tr style=\"text-align: right;\">\n",
       "      <th></th>\n",
       "      <th>children</th>\n",
       "      <th>days_employed</th>\n",
       "      <th>dob_years</th>\n",
       "      <th>education_id</th>\n",
       "      <th>family_status_id</th>\n",
       "      <th>gender</th>\n",
       "      <th>income_type</th>\n",
       "      <th>debt</th>\n",
       "      <th>total_income</th>\n",
       "      <th>purpose</th>\n",
       "      <th>total_income_category</th>\n",
       "    </tr>\n",
       "  </thead>\n",
       "  <tbody>\n",
       "    <tr>\n",
       "      <th>0</th>\n",
       "      <td>1</td>\n",
       "      <td>-8437.673028</td>\n",
       "      <td>42.0</td>\n",
       "      <td>0</td>\n",
       "      <td>0</td>\n",
       "      <td>F</td>\n",
       "      <td>сотрудник</td>\n",
       "      <td>0</td>\n",
       "      <td>253875</td>\n",
       "      <td>покупка жилья</td>\n",
       "      <td>B</td>\n",
       "    </tr>\n",
       "    <tr>\n",
       "      <th>1</th>\n",
       "      <td>1</td>\n",
       "      <td>-4024.803754</td>\n",
       "      <td>36.0</td>\n",
       "      <td>1</td>\n",
       "      <td>0</td>\n",
       "      <td>F</td>\n",
       "      <td>сотрудник</td>\n",
       "      <td>0</td>\n",
       "      <td>112080</td>\n",
       "      <td>приобретение автомобиля</td>\n",
       "      <td>C</td>\n",
       "    </tr>\n",
       "    <tr>\n",
       "      <th>2</th>\n",
       "      <td>0</td>\n",
       "      <td>-5623.422610</td>\n",
       "      <td>33.0</td>\n",
       "      <td>1</td>\n",
       "      <td>0</td>\n",
       "      <td>M</td>\n",
       "      <td>сотрудник</td>\n",
       "      <td>0</td>\n",
       "      <td>145885</td>\n",
       "      <td>покупка жилья</td>\n",
       "      <td>C</td>\n",
       "    </tr>\n",
       "    <tr>\n",
       "      <th>3</th>\n",
       "      <td>3</td>\n",
       "      <td>-4124.747207</td>\n",
       "      <td>32.0</td>\n",
       "      <td>1</td>\n",
       "      <td>0</td>\n",
       "      <td>M</td>\n",
       "      <td>сотрудник</td>\n",
       "      <td>0</td>\n",
       "      <td>267628</td>\n",
       "      <td>дополнительное образование</td>\n",
       "      <td>B</td>\n",
       "    </tr>\n",
       "    <tr>\n",
       "      <th>4</th>\n",
       "      <td>0</td>\n",
       "      <td>340266.072047</td>\n",
       "      <td>53.0</td>\n",
       "      <td>1</td>\n",
       "      <td>1</td>\n",
       "      <td>F</td>\n",
       "      <td>пенсионер</td>\n",
       "      <td>0</td>\n",
       "      <td>158616</td>\n",
       "      <td>сыграть свадьбу</td>\n",
       "      <td>C</td>\n",
       "    </tr>\n",
       "  </tbody>\n",
       "</table>\n",
       "</div>"
      ],
      "text/plain": [
       "   children  days_employed  dob_years  education_id  family_status_id gender  \\\n",
       "0         1   -8437.673028       42.0             0                 0      F   \n",
       "1         1   -4024.803754       36.0             1                 0      F   \n",
       "2         0   -5623.422610       33.0             1                 0      M   \n",
       "3         3   -4124.747207       32.0             1                 0      M   \n",
       "4         0  340266.072047       53.0             1                 1      F   \n",
       "\n",
       "  income_type  debt  total_income                     purpose  \\\n",
       "0   сотрудник     0        253875               покупка жилья   \n",
       "1   сотрудник     0        112080     приобретение автомобиля   \n",
       "2   сотрудник     0        145885               покупка жилья   \n",
       "3   сотрудник     0        267628  дополнительное образование   \n",
       "4   пенсионер     0        158616             сыграть свадьбу   \n",
       "\n",
       "  total_income_category  \n",
       "0                     B  \n",
       "1                     C  \n",
       "2                     C  \n",
       "3                     B  \n",
       "4                     C  "
      ]
     },
     "execution_count": 40,
     "metadata": {},
     "output_type": "execute_result"
    }
   ],
   "source": [
    "data.head()"
   ]
  },
  {
   "cell_type": "markdown",
   "id": "d3845286",
   "metadata": {},
   "source": [
    "### Шаг 2.7. Категоризация целей кредита. <a id=\"category\"></a>"
   ]
  },
  {
   "cell_type": "code",
   "execution_count": 41,
   "id": "3c3d366b",
   "metadata": {},
   "outputs": [],
   "source": [
    "# для категоризации целей кредита будем использовать метод лемматизации\n",
    "m = Mystem()\n",
    "data['lemmas'] = data['purpose'].apply(m.lemmatize)"
   ]
  },
  {
   "cell_type": "code",
   "execution_count": 42,
   "id": "4c77cf4d",
   "metadata": {},
   "outputs": [],
   "source": [
    "# функция для формирования категорий на основе выделеных лемм \n",
    "def purpose_category(lemmas):\n",
    "    if 'жилье' in lemmas or 'недвижимость' in lemmas:\n",
    "        return 'операции с недвижимостью'\n",
    "    if 'автомобиль' in lemmas:\n",
    "        return 'операции с автомобилем'\n",
    "    if 'свадьба' in lemmas:\n",
    "        return 'проведение свадьбы'\n",
    "    return 'получение образования'\n",
    "\n",
    "data['purpose_category'] = data['lemmas'].apply(purpose_category)"
   ]
  },
  {
   "cell_type": "code",
   "execution_count": 43,
   "id": "51d79045",
   "metadata": {},
   "outputs": [
    {
     "data": {
      "text/html": [
       "<div>\n",
       "<style scoped>\n",
       "    .dataframe tbody tr th:only-of-type {\n",
       "        vertical-align: middle;\n",
       "    }\n",
       "\n",
       "    .dataframe tbody tr th {\n",
       "        vertical-align: top;\n",
       "    }\n",
       "\n",
       "    .dataframe thead th {\n",
       "        text-align: right;\n",
       "    }\n",
       "</style>\n",
       "<table border=\"1\" class=\"dataframe\">\n",
       "  <thead>\n",
       "    <tr style=\"text-align: right;\">\n",
       "      <th></th>\n",
       "      <th>children</th>\n",
       "      <th>days_employed</th>\n",
       "      <th>dob_years</th>\n",
       "      <th>education_id</th>\n",
       "      <th>family_status_id</th>\n",
       "      <th>gender</th>\n",
       "      <th>income_type</th>\n",
       "      <th>debt</th>\n",
       "      <th>total_income</th>\n",
       "      <th>purpose</th>\n",
       "      <th>total_income_category</th>\n",
       "      <th>lemmas</th>\n",
       "      <th>purpose_category</th>\n",
       "    </tr>\n",
       "  </thead>\n",
       "  <tbody>\n",
       "    <tr>\n",
       "      <th>0</th>\n",
       "      <td>1</td>\n",
       "      <td>-8437.673028</td>\n",
       "      <td>42.0</td>\n",
       "      <td>0</td>\n",
       "      <td>0</td>\n",
       "      <td>F</td>\n",
       "      <td>сотрудник</td>\n",
       "      <td>0</td>\n",
       "      <td>253875</td>\n",
       "      <td>покупка жилья</td>\n",
       "      <td>B</td>\n",
       "      <td>[покупка,  , жилье, \\n]</td>\n",
       "      <td>операции с недвижимостью</td>\n",
       "    </tr>\n",
       "    <tr>\n",
       "      <th>1</th>\n",
       "      <td>1</td>\n",
       "      <td>-4024.803754</td>\n",
       "      <td>36.0</td>\n",
       "      <td>1</td>\n",
       "      <td>0</td>\n",
       "      <td>F</td>\n",
       "      <td>сотрудник</td>\n",
       "      <td>0</td>\n",
       "      <td>112080</td>\n",
       "      <td>приобретение автомобиля</td>\n",
       "      <td>C</td>\n",
       "      <td>[приобретение,  , автомобиль, \\n]</td>\n",
       "      <td>операции с автомобилем</td>\n",
       "    </tr>\n",
       "    <tr>\n",
       "      <th>2</th>\n",
       "      <td>0</td>\n",
       "      <td>-5623.422610</td>\n",
       "      <td>33.0</td>\n",
       "      <td>1</td>\n",
       "      <td>0</td>\n",
       "      <td>M</td>\n",
       "      <td>сотрудник</td>\n",
       "      <td>0</td>\n",
       "      <td>145885</td>\n",
       "      <td>покупка жилья</td>\n",
       "      <td>C</td>\n",
       "      <td>[покупка,  , жилье, \\n]</td>\n",
       "      <td>операции с недвижимостью</td>\n",
       "    </tr>\n",
       "    <tr>\n",
       "      <th>3</th>\n",
       "      <td>3</td>\n",
       "      <td>-4124.747207</td>\n",
       "      <td>32.0</td>\n",
       "      <td>1</td>\n",
       "      <td>0</td>\n",
       "      <td>M</td>\n",
       "      <td>сотрудник</td>\n",
       "      <td>0</td>\n",
       "      <td>267628</td>\n",
       "      <td>дополнительное образование</td>\n",
       "      <td>B</td>\n",
       "      <td>[дополнительный,  , образование, \\n]</td>\n",
       "      <td>получение образования</td>\n",
       "    </tr>\n",
       "    <tr>\n",
       "      <th>4</th>\n",
       "      <td>0</td>\n",
       "      <td>340266.072047</td>\n",
       "      <td>53.0</td>\n",
       "      <td>1</td>\n",
       "      <td>1</td>\n",
       "      <td>F</td>\n",
       "      <td>пенсионер</td>\n",
       "      <td>0</td>\n",
       "      <td>158616</td>\n",
       "      <td>сыграть свадьбу</td>\n",
       "      <td>C</td>\n",
       "      <td>[сыграть,  , свадьба, \\n]</td>\n",
       "      <td>проведение свадьбы</td>\n",
       "    </tr>\n",
       "  </tbody>\n",
       "</table>\n",
       "</div>"
      ],
      "text/plain": [
       "   children  days_employed  dob_years  education_id  family_status_id gender  \\\n",
       "0         1   -8437.673028       42.0             0                 0      F   \n",
       "1         1   -4024.803754       36.0             1                 0      F   \n",
       "2         0   -5623.422610       33.0             1                 0      M   \n",
       "3         3   -4124.747207       32.0             1                 0      M   \n",
       "4         0  340266.072047       53.0             1                 1      F   \n",
       "\n",
       "  income_type  debt  total_income                     purpose  \\\n",
       "0   сотрудник     0        253875               покупка жилья   \n",
       "1   сотрудник     0        112080     приобретение автомобиля   \n",
       "2   сотрудник     0        145885               покупка жилья   \n",
       "3   сотрудник     0        267628  дополнительное образование   \n",
       "4   пенсионер     0        158616             сыграть свадьбу   \n",
       "\n",
       "  total_income_category                                lemmas  \\\n",
       "0                     B               [покупка,  , жилье, \\n]   \n",
       "1                     C     [приобретение,  , автомобиль, \\n]   \n",
       "2                     C               [покупка,  , жилье, \\n]   \n",
       "3                     B  [дополнительный,  , образование, \\n]   \n",
       "4                     C             [сыграть,  , свадьба, \\n]   \n",
       "\n",
       "           purpose_category  \n",
       "0  операции с недвижимостью  \n",
       "1    операции с автомобилем  \n",
       "2  операции с недвижимостью  \n",
       "3     получение образования  \n",
       "4        проведение свадьбы  "
      ]
     },
     "execution_count": 43,
     "metadata": {},
     "output_type": "execute_result"
    }
   ],
   "source": [
    "data.head()"
   ]
  },
  {
   "cell_type": "markdown",
   "id": "43671954",
   "metadata": {},
   "source": [
    "## Шаг 3. Исследовательский анализ данных. <a id=\"analysis\"></a>"
   ]
  },
  {
   "cell_type": "markdown",
   "id": "1d58a3e3",
   "metadata": {},
   "source": [
    "### Есть ли зависимость между количеством детей и возвратом кредита в срок? <a id=\"question1\"></a>"
   ]
  },
  {
   "cell_type": "code",
   "execution_count": 44,
   "id": "4a036c6a",
   "metadata": {},
   "outputs": [
    {
     "data": {
      "text/html": [
       "<div>\n",
       "<style scoped>\n",
       "    .dataframe tbody tr th:only-of-type {\n",
       "        vertical-align: middle;\n",
       "    }\n",
       "\n",
       "    .dataframe tbody tr th {\n",
       "        vertical-align: top;\n",
       "    }\n",
       "\n",
       "    .dataframe thead th {\n",
       "        text-align: right;\n",
       "    }\n",
       "</style>\n",
       "<table border=\"1\" class=\"dataframe\">\n",
       "  <thead>\n",
       "    <tr style=\"text-align: right;\">\n",
       "      <th>debt</th>\n",
       "      <th>0</th>\n",
       "      <th>1</th>\n",
       "    </tr>\n",
       "    <tr>\n",
       "      <th>children</th>\n",
       "      <th></th>\n",
       "      <th></th>\n",
       "    </tr>\n",
       "  </thead>\n",
       "  <tbody>\n",
       "    <tr>\n",
       "      <th>0</th>\n",
       "      <td>13027.0</td>\n",
       "      <td>1063.0</td>\n",
       "    </tr>\n",
       "    <tr>\n",
       "      <th>1</th>\n",
       "      <td>4410.0</td>\n",
       "      <td>445.0</td>\n",
       "    </tr>\n",
       "    <tr>\n",
       "      <th>2</th>\n",
       "      <td>1926.0</td>\n",
       "      <td>202.0</td>\n",
       "    </tr>\n",
       "    <tr>\n",
       "      <th>3</th>\n",
       "      <td>303.0</td>\n",
       "      <td>27.0</td>\n",
       "    </tr>\n",
       "    <tr>\n",
       "      <th>4</th>\n",
       "      <td>37.0</td>\n",
       "      <td>4.0</td>\n",
       "    </tr>\n",
       "    <tr>\n",
       "      <th>5</th>\n",
       "      <td>9.0</td>\n",
       "      <td>NaN</td>\n",
       "    </tr>\n",
       "  </tbody>\n",
       "</table>\n",
       "</div>"
      ],
      "text/plain": [
       "debt            0       1\n",
       "children                 \n",
       "0         13027.0  1063.0\n",
       "1          4410.0   445.0\n",
       "2          1926.0   202.0\n",
       "3           303.0    27.0\n",
       "4            37.0     4.0\n",
       "5             9.0     NaN"
      ]
     },
     "execution_count": 44,
     "metadata": {},
     "output_type": "execute_result"
    }
   ],
   "source": [
    "data_pivot_children = data.pivot_table(index=['children'], \n",
    "                                       columns='debt', \n",
    "                                       values='total_income_category', \n",
    "                                       aggfunc='count')\n",
    "data_pivot_children"
   ]
  },
  {
   "cell_type": "code",
   "execution_count": 52,
   "id": "faafebf7",
   "metadata": {},
   "outputs": [
    {
     "data": {
      "text/html": [
       "<div>\n",
       "<style scoped>\n",
       "    .dataframe tbody tr th:only-of-type {\n",
       "        vertical-align: middle;\n",
       "    }\n",
       "\n",
       "    .dataframe tbody tr th {\n",
       "        vertical-align: top;\n",
       "    }\n",
       "\n",
       "    .dataframe thead th {\n",
       "        text-align: right;\n",
       "    }\n",
       "</style>\n",
       "<table border=\"1\" class=\"dataframe\">\n",
       "  <thead>\n",
       "    <tr style=\"text-align: right;\">\n",
       "      <th>debt</th>\n",
       "      <th>0</th>\n",
       "      <th>1</th>\n",
       "      <th>sum</th>\n",
       "      <th>0%</th>\n",
       "      <th>1%</th>\n",
       "      <th>no_debt%</th>\n",
       "      <th>debt%</th>\n",
       "    </tr>\n",
       "    <tr>\n",
       "      <th>children</th>\n",
       "      <th></th>\n",
       "      <th></th>\n",
       "      <th></th>\n",
       "      <th></th>\n",
       "      <th></th>\n",
       "      <th></th>\n",
       "      <th></th>\n",
       "    </tr>\n",
       "  </thead>\n",
       "  <tbody>\n",
       "    <tr>\n",
       "      <th>0</th>\n",
       "      <td>13027.0</td>\n",
       "      <td>1063.0</td>\n",
       "      <td>14090.0</td>\n",
       "      <td>0.924556</td>\n",
       "      <td>0.075444</td>\n",
       "      <td>92.455642</td>\n",
       "      <td>7.544358</td>\n",
       "    </tr>\n",
       "    <tr>\n",
       "      <th>1</th>\n",
       "      <td>4410.0</td>\n",
       "      <td>445.0</td>\n",
       "      <td>4855.0</td>\n",
       "      <td>0.908342</td>\n",
       "      <td>0.091658</td>\n",
       "      <td>90.834192</td>\n",
       "      <td>9.165808</td>\n",
       "    </tr>\n",
       "    <tr>\n",
       "      <th>2</th>\n",
       "      <td>1926.0</td>\n",
       "      <td>202.0</td>\n",
       "      <td>2128.0</td>\n",
       "      <td>0.905075</td>\n",
       "      <td>0.094925</td>\n",
       "      <td>90.507519</td>\n",
       "      <td>9.492481</td>\n",
       "    </tr>\n",
       "    <tr>\n",
       "      <th>3</th>\n",
       "      <td>303.0</td>\n",
       "      <td>27.0</td>\n",
       "      <td>330.0</td>\n",
       "      <td>0.918182</td>\n",
       "      <td>0.081818</td>\n",
       "      <td>91.818182</td>\n",
       "      <td>8.181818</td>\n",
       "    </tr>\n",
       "    <tr>\n",
       "      <th>4</th>\n",
       "      <td>37.0</td>\n",
       "      <td>4.0</td>\n",
       "      <td>41.0</td>\n",
       "      <td>0.902439</td>\n",
       "      <td>0.097561</td>\n",
       "      <td>90.243902</td>\n",
       "      <td>9.756098</td>\n",
       "    </tr>\n",
       "    <tr>\n",
       "      <th>5</th>\n",
       "      <td>9.0</td>\n",
       "      <td>NaN</td>\n",
       "      <td>NaN</td>\n",
       "      <td>NaN</td>\n",
       "      <td>NaN</td>\n",
       "      <td>NaN</td>\n",
       "      <td>NaN</td>\n",
       "    </tr>\n",
       "  </tbody>\n",
       "</table>\n",
       "</div>"
      ],
      "text/plain": [
       "debt            0       1      sum        0%        1%   no_debt%     debt%\n",
       "children                                                                   \n",
       "0         13027.0  1063.0  14090.0  0.924556  0.075444  92.455642  7.544358\n",
       "1          4410.0   445.0   4855.0  0.908342  0.091658  90.834192  9.165808\n",
       "2          1926.0   202.0   2128.0  0.905075  0.094925  90.507519  9.492481\n",
       "3           303.0    27.0    330.0  0.918182  0.081818  91.818182  8.181818\n",
       "4            37.0     4.0     41.0  0.902439  0.097561  90.243902  9.756098\n",
       "5             9.0     NaN      NaN       NaN       NaN        NaN       NaN"
      ]
     },
     "execution_count": 52,
     "metadata": {},
     "output_type": "execute_result"
    }
   ],
   "source": [
    "data_pivot_children['sum'] = data_pivot_children[0] + data_pivot_children[1]\n",
    "data_pivot_children['no_debt%'] = data_pivot_children[0] / data_pivot_children['sum'] * 100\n",
    "data_pivot_children['debt%'] = data_pivot_children[1] / data_pivot_children['sum'] * 100\n",
    "data_pivot_children"
   ]
  },
  {
   "cell_type": "code",
   "execution_count": 50,
   "id": "c202b369",
   "metadata": {},
   "outputs": [
    {
     "data": {
      "text/plain": [
       "children\n",
       "0    7.54\n",
       "1    9.17\n",
       "2    9.49\n",
       "3    8.18\n",
       "4    9.76\n",
       "5    0.00\n",
       "Name: debt, dtype: float64"
      ]
     },
     "execution_count": 50,
     "metadata": {},
     "output_type": "execute_result"
    }
   ],
   "source": [
    "round((data.groupby('children')['debt'].mean()*100),2)  "
   ]
  },
  {
   "cell_type": "markdown",
   "id": "5b804d61",
   "metadata": {},
   "source": [
    "**Вывод**  Получили процент людей не вернувших кредит в зависимости от количество детей в семье. Больше всего должников, у кого 4 детей - их 9,8%, а вот семьи с 3 детьми кредит возвращают лучше, должников только 8,2%. В целом чаще возвращают кредит люди без детей, их 92%. Люди с детьми возвращают кредит в 90% случаях."
   ]
  },
  {
   "cell_type": "markdown",
   "id": "83b02039",
   "metadata": {},
   "source": [
    "### Есть ли зависимость между семейным положением и возвратом кредита в срок? <a id=\"question2\"></a>"
   ]
  },
  {
   "cell_type": "code",
   "execution_count": 47,
   "id": "0a6a77f6",
   "metadata": {},
   "outputs": [
    {
     "data": {
      "text/plain": [
       "family_status_id\n",
       "0    0.075452\n",
       "1    0.093494\n",
       "2    0.065693\n",
       "3    0.071130\n",
       "4    0.097509\n",
       "Name: debt, dtype: float64"
      ]
     },
     "execution_count": 47,
     "metadata": {},
     "output_type": "execute_result"
    }
   ],
   "source": [
    "data.groupby('family_status_id')['debt'].mean()"
   ]
  },
  {
   "cell_type": "markdown",
   "id": "ba5d55a4",
   "metadata": {},
   "source": [
    "**Вывод** Хуже всего возвращают кредит одинокие люди, им сложнее всего, у них нет поддержки второй половины 9,8%. Люди состоящие в гражданском браке тоже часто не возвращают кредит 9,3%. Лучше всего выплачивают люди, потерявшие свою пару, не возврат составляет 6,6%. Возможно, это связано с получением страховки или иных выплат за потерю супруга. Мне было бы интересно посмотреть на, что берет кредит эта категория граждан. Семейные и в разводе выплачивают кредиты примерно одинавково, задолжников среди них около 7%, наверно, это связано с наличием поддержки со стороны второго супруга."
   ]
  },
  {
   "cell_type": "markdown",
   "id": "7fdcd19b",
   "metadata": {},
   "source": [
    "### Есть ли зависимость между уровнем дохода и возвратом кредита в срок? <a id=\"question3\"></a>"
   ]
  },
  {
   "cell_type": "code",
   "execution_count": 48,
   "id": "a915a85b",
   "metadata": {},
   "outputs": [
    {
     "data": {
      "text/plain": [
       "total_income_category\n",
       "A    0.080000\n",
       "B    0.070621\n",
       "C    0.084920\n",
       "D    0.060000\n",
       "E    0.090909\n",
       "Name: debt, dtype: float64"
      ]
     },
     "execution_count": 48,
     "metadata": {},
     "output_type": "execute_result"
    }
   ],
   "source": [
    "data.groupby('total_income_category')['debt'].mean()"
   ]
  },
  {
   "cell_type": "markdown",
   "id": "731fcd9e",
   "metadata": {},
   "source": [
    "**Вывод** Лучше всего кредит возвращают люди со средним достатком - 94%. Хуже - люди с низким достатком, 90%. \n",
    "Люди с низким доходом могут иметь задолжности по кредиту по нескольким причинам:\n",
    "    \n",
    "* не хватка средств\n",
    "* потеря работы\n",
    "* это люди чаще находяться на низшем социальном уровне и не обладают финансовой граммотностью, поэтому безотвественно относяться к выплоте кредита"
   ]
  },
  {
   "cell_type": "markdown",
   "id": "64a47946",
   "metadata": {},
   "source": [
    "### Как разные цели кредита влияют на его возврат в срок? <a id=\"question4\"></a>"
   ]
  },
  {
   "cell_type": "code",
   "execution_count": 49,
   "id": "d8a3e6d1",
   "metadata": {},
   "outputs": [
    {
     "data": {
      "text/plain": [
       "purpose_category\n",
       "операции с автомобилем      0.093590\n",
       "операции с недвижимостью    0.072334\n",
       "получение образования       0.092200\n",
       "проведение свадьбы          0.080069\n",
       "Name: debt, dtype: float64"
      ]
     },
     "execution_count": 49,
     "metadata": {},
     "output_type": "execute_result"
    }
   ],
   "source": [
    "data.groupby('purpose_category')['debt'].mean()"
   ]
  },
  {
   "cell_type": "markdown",
   "id": "509fa8a9",
   "metadata": {},
   "source": [
    "**Вывод** Кредит возвращают лучше те, кто берет его на покупку недвижемости 92%. Это связано с тем, что кредиты на недвижимость восновном имеют низкую процентную ставку, и люди обеспокоены возможной потерей жилья при невыплоте кредита. Следующие идут те, кто берет кредит на свадьбу 91%, следом те, кто покупает автомобиль и повышают образование, их по 90%, автомобиль и образование не являются жизненно важными объектами, поэтому люди легко расстаются с этими вещами."
   ]
  },
  {
   "cell_type": "markdown",
   "id": "a2388679",
   "metadata": {},
   "source": [
    "## Общий вывод: <a id=\"total\"></a>"
   ]
  },
  {
   "cell_type": "markdown",
   "id": "ce155e9c",
   "metadata": {},
   "source": [
    "В работе нужно было ответить на четыре вопроса, как часто не возвращают кредит люди в зависимости от их семейного пложения, дохода и цели кредита. \n",
    "    \n",
    "Самая надежная катерогрия граждан  - это люди состояшие в браке, без детей, со средним доходом и покупающие недвижемость. \n",
    "    \n",
    "Должников больше среди одиноких людей с низким доходом, и многодетные семьи от 4 детей.\n",
    "    \n",
    "Самый не надежный вид кредитования это операции с автомобилем, вероятность не возврата кредита 9,3%.\n",
    "    \n",
    "Очень интересно, что люди со средним доходом чаще не возвращают кредит 8,5%, чем люди с доходом ниже среднего 6% или выше среднего 7,1%. Люди с высоким долходом тоже склоны не возвращать креди их 8%. Конечно, больше всего людей с низким доходом их 9%.\n",
    "    \n",
    "Интересно также, что среди людей имеющих детей, не вернувших кредит больше среди тех у кого 4 детей 9,8%, а вот, у кого 3 детй отдают кредиты лучше всех, задолжников только 8,2%. Значительная разница по должникам с появлением четвертого ребенка.\n",
    "    \n",
    "Тяжелее всего возвращать кредит людям одиноким и, состоящим в незарестрированых отношениях, их 9,1% и 9,3% соотвественно. \n",
    "    \n",
    "Банкам стоит лучше смотреть на категории людей, и исключать опасные сочетания параметров неблагонадежности граждан.\n"
   ]
  },
  {
   "cell_type": "code",
   "execution_count": null,
   "id": "ae04cf77",
   "metadata": {},
   "outputs": [],
   "source": []
  }
 ],
 "metadata": {
  "ExecuteTimeLog": [
   {
    "duration": 383,
    "start_time": "2022-08-30T15:22:13.651Z"
   },
   {
    "duration": 111,
    "start_time": "2022-08-30T15:22:14.036Z"
   },
   {
    "duration": 0,
    "start_time": "2022-08-30T15:22:14.151Z"
   },
   {
    "duration": 0,
    "start_time": "2022-08-30T15:22:14.152Z"
   },
   {
    "duration": 0,
    "start_time": "2022-08-30T15:22:14.154Z"
   },
   {
    "duration": 0,
    "start_time": "2022-08-30T15:22:14.155Z"
   },
   {
    "duration": 0,
    "start_time": "2022-08-30T15:22:14.157Z"
   },
   {
    "duration": 0,
    "start_time": "2022-08-30T15:22:14.158Z"
   },
   {
    "duration": 0,
    "start_time": "2022-08-30T15:22:14.160Z"
   },
   {
    "duration": 0,
    "start_time": "2022-08-30T15:22:14.162Z"
   },
   {
    "duration": 0,
    "start_time": "2022-08-30T15:22:14.164Z"
   },
   {
    "duration": 0,
    "start_time": "2022-08-30T15:22:14.166Z"
   },
   {
    "duration": 0,
    "start_time": "2022-08-30T15:22:14.167Z"
   },
   {
    "duration": 0,
    "start_time": "2022-08-30T15:22:14.169Z"
   },
   {
    "duration": 0,
    "start_time": "2022-08-30T15:22:14.170Z"
   },
   {
    "duration": 0,
    "start_time": "2022-08-30T15:22:14.203Z"
   },
   {
    "duration": 0,
    "start_time": "2022-08-30T15:22:14.204Z"
   },
   {
    "duration": 0,
    "start_time": "2022-08-30T15:22:14.205Z"
   },
   {
    "duration": 0,
    "start_time": "2022-08-30T15:22:14.206Z"
   },
   {
    "duration": 0,
    "start_time": "2022-08-30T15:22:14.207Z"
   },
   {
    "duration": 0,
    "start_time": "2022-08-30T15:22:14.209Z"
   },
   {
    "duration": 0,
    "start_time": "2022-08-30T15:22:14.210Z"
   },
   {
    "duration": 0,
    "start_time": "2022-08-30T15:22:14.211Z"
   },
   {
    "duration": 0,
    "start_time": "2022-08-30T15:22:14.212Z"
   },
   {
    "duration": 0,
    "start_time": "2022-08-30T15:22:14.213Z"
   },
   {
    "duration": 0,
    "start_time": "2022-08-30T15:22:14.214Z"
   },
   {
    "duration": 0,
    "start_time": "2022-08-30T15:22:14.215Z"
   },
   {
    "duration": 0,
    "start_time": "2022-08-30T15:22:14.216Z"
   },
   {
    "duration": 9,
    "start_time": "2022-08-30T15:22:14.219Z"
   },
   {
    "duration": 9,
    "start_time": "2022-08-30T15:22:14.240Z"
   },
   {
    "duration": 0,
    "start_time": "2022-08-30T15:22:14.250Z"
   },
   {
    "duration": 0,
    "start_time": "2022-08-30T15:22:14.251Z"
   },
   {
    "duration": 0,
    "start_time": "2022-08-30T15:22:14.304Z"
   },
   {
    "duration": 10,
    "start_time": "2022-08-30T15:22:14.318Z"
   },
   {
    "duration": 0,
    "start_time": "2022-08-30T15:22:14.329Z"
   },
   {
    "duration": 0,
    "start_time": "2022-08-30T15:22:14.331Z"
   },
   {
    "duration": 0,
    "start_time": "2022-08-30T15:22:14.332Z"
   },
   {
    "duration": 4,
    "start_time": "2022-08-30T15:22:14.377Z"
   },
   {
    "duration": 19,
    "start_time": "2022-08-30T15:22:14.383Z"
   },
   {
    "duration": 0,
    "start_time": "2022-08-30T15:22:14.404Z"
   },
   {
    "duration": 8,
    "start_time": "2022-08-30T15:22:14.424Z"
   },
   {
    "duration": 0,
    "start_time": "2022-08-30T15:22:14.434Z"
   },
   {
    "duration": 0,
    "start_time": "2022-08-30T15:22:14.437Z"
   },
   {
    "duration": 9,
    "start_time": "2022-08-30T15:22:14.513Z"
   },
   {
    "duration": 0,
    "start_time": "2022-08-30T15:22:14.525Z"
   },
   {
    "duration": 0,
    "start_time": "2022-08-30T15:22:14.526Z"
   },
   {
    "duration": 10,
    "start_time": "2022-08-30T15:22:14.645Z"
   },
   {
    "duration": 10,
    "start_time": "2022-08-30T15:22:14.784Z"
   },
   {
    "duration": 8,
    "start_time": "2022-08-30T15:22:14.933Z"
   },
   {
    "duration": 463,
    "start_time": "2022-08-30T15:23:04.411Z"
   },
   {
    "duration": 92,
    "start_time": "2022-08-30T15:23:04.876Z"
   },
   {
    "duration": 16,
    "start_time": "2022-08-30T15:23:04.971Z"
   },
   {
    "duration": 25,
    "start_time": "2022-08-30T15:23:04.989Z"
   },
   {
    "duration": 24,
    "start_time": "2022-08-30T15:23:05.016Z"
   },
   {
    "duration": 15,
    "start_time": "2022-08-30T15:23:05.042Z"
   },
   {
    "duration": 8,
    "start_time": "2022-08-30T15:23:05.060Z"
   },
   {
    "duration": 33,
    "start_time": "2022-08-30T15:23:05.071Z"
   },
   {
    "duration": 19,
    "start_time": "2022-08-30T15:23:05.106Z"
   },
   {
    "duration": 7,
    "start_time": "2022-08-30T15:23:05.131Z"
   },
   {
    "duration": 26,
    "start_time": "2022-08-30T15:23:05.141Z"
   },
   {
    "duration": 11,
    "start_time": "2022-08-30T15:23:05.170Z"
   },
   {
    "duration": 7,
    "start_time": "2022-08-30T15:23:05.203Z"
   },
   {
    "duration": 14,
    "start_time": "2022-08-30T15:23:05.213Z"
   },
   {
    "duration": 24,
    "start_time": "2022-08-30T15:23:05.229Z"
   },
   {
    "duration": 10,
    "start_time": "2022-08-30T15:23:05.256Z"
   },
   {
    "duration": 8,
    "start_time": "2022-08-30T15:23:05.268Z"
   },
   {
    "duration": 28,
    "start_time": "2022-08-30T15:23:05.278Z"
   },
   {
    "duration": 13,
    "start_time": "2022-08-30T15:23:05.308Z"
   },
   {
    "duration": 6,
    "start_time": "2022-08-30T15:23:05.323Z"
   },
   {
    "duration": 466,
    "start_time": "2022-08-30T15:23:05.330Z"
   },
   {
    "duration": 9,
    "start_time": "2022-08-30T15:23:05.798Z"
   },
   {
    "duration": 13,
    "start_time": "2022-08-30T15:23:05.808Z"
   },
   {
    "duration": 9,
    "start_time": "2022-08-30T15:23:05.823Z"
   },
   {
    "duration": 17,
    "start_time": "2022-08-30T15:23:05.833Z"
   },
   {
    "duration": 5,
    "start_time": "2022-08-30T15:23:05.852Z"
   },
   {
    "duration": 6,
    "start_time": "2022-08-30T15:23:05.859Z"
   },
   {
    "duration": 5,
    "start_time": "2022-08-30T15:23:05.868Z"
   },
   {
    "duration": 20,
    "start_time": "2022-08-30T15:23:05.904Z"
   },
   {
    "duration": 29,
    "start_time": "2022-08-30T15:23:05.926Z"
   },
   {
    "duration": 45,
    "start_time": "2022-08-30T15:23:05.958Z"
   },
   {
    "duration": 21,
    "start_time": "2022-08-30T15:23:06.005Z"
   },
   {
    "duration": 19,
    "start_time": "2022-08-30T15:23:06.028Z"
   },
   {
    "duration": 16,
    "start_time": "2022-08-30T15:23:06.049Z"
   },
   {
    "duration": 38,
    "start_time": "2022-08-30T15:23:06.068Z"
   },
   {
    "duration": 22,
    "start_time": "2022-08-30T15:23:06.108Z"
   },
   {
    "duration": 15,
    "start_time": "2022-08-30T15:23:06.132Z"
   },
   {
    "duration": 11,
    "start_time": "2022-08-30T15:23:06.150Z"
   },
   {
    "duration": 13,
    "start_time": "2022-08-30T15:23:06.163Z"
   },
   {
    "duration": 30,
    "start_time": "2022-08-30T15:23:06.178Z"
   },
   {
    "duration": 3998,
    "start_time": "2022-08-30T15:23:06.212Z"
   },
   {
    "duration": 18,
    "start_time": "2022-08-30T15:23:10.212Z"
   },
   {
    "duration": 59,
    "start_time": "2022-08-30T15:23:10.232Z"
   },
   {
    "duration": 38,
    "start_time": "2022-08-30T15:23:10.293Z"
   },
   {
    "duration": 17,
    "start_time": "2022-08-30T15:23:10.334Z"
   },
   {
    "duration": 77,
    "start_time": "2022-08-30T15:23:10.353Z"
   },
   {
    "duration": 15,
    "start_time": "2022-08-30T15:23:10.432Z"
   },
   {
    "duration": 33,
    "start_time": "2022-08-30T15:23:10.450Z"
   },
   {
    "duration": 33,
    "start_time": "2022-08-30T15:23:10.485Z"
   },
   {
    "duration": 8,
    "start_time": "2022-08-30T15:32:16.770Z"
   },
   {
    "duration": 15,
    "start_time": "2022-08-30T15:34:48.193Z"
   },
   {
    "duration": 15,
    "start_time": "2022-08-30T15:35:06.139Z"
   }
  ],
  "kernelspec": {
   "display_name": "Python 3 (ipykernel)",
   "language": "python",
   "name": "python3"
  },
  "language_info": {
   "codemirror_mode": {
    "name": "ipython",
    "version": 3
   },
   "file_extension": ".py",
   "mimetype": "text/x-python",
   "name": "python",
   "nbconvert_exporter": "python",
   "pygments_lexer": "ipython3",
   "version": "3.9.7"
  },
  "toc": {
   "base_numbering": 1,
   "nav_menu": {},
   "number_sections": true,
   "sideBar": true,
   "skip_h1_title": true,
   "title_cell": "Table of Contents",
   "title_sidebar": "Contents",
   "toc_cell": false,
   "toc_position": {},
   "toc_section_display": true,
   "toc_window_display": false
  }
 },
 "nbformat": 4,
 "nbformat_minor": 5
}
